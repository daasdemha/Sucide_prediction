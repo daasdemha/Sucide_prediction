{
 "cells": [
  {
   "cell_type": "markdown",
   "id": "e0ee02c0",
   "metadata": {},
   "source": [
    "### Importing the relevent libraries"
   ]
  },
  {
   "cell_type": "code",
   "execution_count": null,
   "id": "7fc96920",
   "metadata": {},
   "outputs": [],
   "source": [
    "import numpy as np  # Allows us to work with arrays.\n",
    "import matplotlib.pyplot as plt  # Allows working with plots.\n",
    "import pandas as pd  # importing pandas’ library for use. Allows us to import data set and manipulate it.\n",
    "\n",
    "import seaborn as sns  # Allows to polt beautiful plots.\n",
    "import matplotlib.pyplot as plt # plotting.\n",
    "\n",
    "\n",
    "from sklearn.compose import ColumnTransformer  # helps with encoding.\n",
    "from sklearn.preprocessing import OneHotEncoder  # Does onehotencode.\n",
    "from sklearn.preprocessing import LabelEncoder   # Does 1 and 0 encoding.\n",
    "from sklearn.model_selection import train_test_split  # Splits dataset into test set and traning set. \n",
    "from sklearn.preprocessing import StandardScaler  # Perform the feature scaling.\n",
    "from sklearn.linear_model import LogisticRegression  # Performs logistic regression.\n",
    "from sklearn.metrics import confusion_matrix, ConfusionMatrixDisplay  # creates a confusion matrix\n",
    "from sklearn.metrics import accuracy_score  # Returns accury score of a model.\n",
    "from sklearn.neighbors import KNeighborsClassifier  # performs K Neariesst Neighobour.\n",
    "from sklearn.svm import SVC  # Performs svm\n",
    "from sklearn.naive_bayes import GaussianNB  # performs naive_bayes gaussianNB.\n",
    "from sklearn.tree import DecisionTreeClassifier  #Perfroms decision tree classification model.\n",
    "from sklearn.ensemble import RandomForestClassifier  #Performs random forest classification.\n",
    "from xgboost import XGBClassifier  # performs xgboost classification. gradiant decision trees.\n",
    "from sklearn.decomposition import PCA  # Performs model optimization\n",
    "from sklearn.decomposition import KernelPCA  # Performs model optimization\n",
    "from sklearn.discriminant_analysis import LinearDiscriminantAnalysis as LDA # performs model optimization\n",
    "from sklearn.model_selection import cross_val_score  # performs cross validation. Helps in model selection.\n",
    "from sklearn.model_selection import GridSearchCV  # helps select the best hyper parameters\n",
    "\n",
    "%matplotlib inline  # helps in showing plots on the browser."
   ]
  },
  {
   "cell_type": "markdown",
   "id": "681f5cbc",
   "metadata": {},
   "source": [
    "### Importing the dataframe"
   ]
  },
  {
   "cell_type": "code",
   "execution_count": 2,
   "id": "82eef9c6",
   "metadata": {},
   "outputs": [],
   "source": [
    "sucidedataframe = pd.read_csv(\"suicidedataextrafestures.csv\")  # opens csv files and assighns them to a variable."
   ]
  },
  {
   "cell_type": "markdown",
   "id": "1041df28",
   "metadata": {},
   "source": [
    "### Checking the data from the dataframe before pre-processing"
   ]
  },
  {
   "cell_type": "code",
   "execution_count": 3,
   "id": "11364a06",
   "metadata": {},
   "outputs": [
    {
     "data": {
      "text/html": [
       "<div>\n",
       "<style scoped>\n",
       "    .dataframe tbody tr th:only-of-type {\n",
       "        vertical-align: middle;\n",
       "    }\n",
       "\n",
       "    .dataframe tbody tr th {\n",
       "        vertical-align: top;\n",
       "    }\n",
       "\n",
       "    .dataframe thead th {\n",
       "        text-align: right;\n",
       "    }\n",
       "</style>\n",
       "<table border=\"1\" class=\"dataframe\">\n",
       "  <thead>\n",
       "    <tr style=\"text-align: right;\">\n",
       "      <th></th>\n",
       "      <th>country</th>\n",
       "      <th>year</th>\n",
       "      <th>sex</th>\n",
       "      <th>age</th>\n",
       "      <th>suicides_no</th>\n",
       "      <th>population</th>\n",
       "      <th>suicidesper100k</th>\n",
       "      <th>country-year</th>\n",
       "      <th>yearlyHDI</th>\n",
       "      <th>GDPpyear</th>\n",
       "      <th>...</th>\n",
       "      <th>Unemployment, total (% of total labor force) (modeled ILO estimate)</th>\n",
       "      <th>Physicians (per 1,000 people)</th>\n",
       "      <th>Strength of legal rights index (0=weak to 12=strong)</th>\n",
       "      <th>Labor force, total</th>\n",
       "      <th>Life expectancy at birth, total (years)</th>\n",
       "      <th>Mobile cellular subscriptions (per 100 people)</th>\n",
       "      <th>Refugee population by country or territory of origin</th>\n",
       "      <th>Contributing family workers, total (% of total employment) (modeled ILO estimate)</th>\n",
       "      <th>Access to electricity (% of population)</th>\n",
       "      <th>Lower secondary completion rate, total (% of relevant age group)</th>\n",
       "    </tr>\n",
       "  </thead>\n",
       "  <tbody>\n",
       "    <tr>\n",
       "      <th>0</th>\n",
       "      <td>Argentina</td>\n",
       "      <td>1985</td>\n",
       "      <td>male</td>\n",
       "      <td>75+ years</td>\n",
       "      <td>202</td>\n",
       "      <td>363000</td>\n",
       "      <td>55.65</td>\n",
       "      <td>Argentina1985</td>\n",
       "      <td>0.694</td>\n",
       "      <td>8.841667e+10</td>\n",
       "      <td>...</td>\n",
       "      <td>0.0</td>\n",
       "      <td>0.0</td>\n",
       "      <td>0.0</td>\n",
       "      <td>0</td>\n",
       "      <td>0.0</td>\n",
       "      <td>0.0</td>\n",
       "      <td>0.0</td>\n",
       "      <td>0.0</td>\n",
       "      <td>0.0</td>\n",
       "      <td>0.0</td>\n",
       "    </tr>\n",
       "  </tbody>\n",
       "</table>\n",
       "<p>1 rows × 26 columns</p>\n",
       "</div>"
      ],
      "text/plain": [
       "     country  year   sex        age  suicides_no  population  suicidesper100k  \\\n",
       "0  Argentina  1985  male  75+ years          202      363000            55.65   \n",
       "\n",
       "    country-year  yearlyHDI      GDPpyear  ...  \\\n",
       "0  Argentina1985      0.694  8.841667e+10  ...   \n",
       "\n",
       "   Unemployment, total (% of total labor force) (modeled ILO estimate)  \\\n",
       "0                                                0.0                     \n",
       "\n",
       "  Physicians (per 1,000 people)  \\\n",
       "0                           0.0   \n",
       "\n",
       "   Strength of legal rights index (0=weak to 12=strong)  Labor force, total  \\\n",
       "0                                                0.0                      0   \n",
       "\n",
       "   Life expectancy at birth, total (years)  \\\n",
       "0                                      0.0   \n",
       "\n",
       "   Mobile cellular subscriptions (per 100 people)  \\\n",
       "0                                             0.0   \n",
       "\n",
       "   Refugee population by country or territory of origin  \\\n",
       "0                                                0.0      \n",
       "\n",
       "   Contributing family workers, total (% of total employment) (modeled ILO estimate)  \\\n",
       "0                                                0.0                                   \n",
       "\n",
       "   Access to electricity (% of population)  \\\n",
       "0                                      0.0   \n",
       "\n",
       "   Lower secondary completion rate, total (% of relevant age group)  \n",
       "0                                                0.0                 \n",
       "\n",
       "[1 rows x 26 columns]"
      ]
     },
     "execution_count": 3,
     "metadata": {},
     "output_type": "execute_result"
    }
   ],
   "source": [
    "sucidedataframe.head(1)  # Taking a look at the dataframe the first elements of the dataset."
   ]
  },
  {
   "cell_type": "code",
   "execution_count": 4,
   "id": "02af4851",
   "metadata": {},
   "outputs": [
    {
     "name": "stdout",
     "output_type": "stream",
     "text": [
      "<class 'pandas.core.frame.DataFrame'>\n",
      "RangeIndex: 15110 entries, 0 to 15109\n",
      "Data columns (total 26 columns):\n",
      " #   Column                                                                             Non-Null Count  Dtype  \n",
      "---  ------                                                                             --------------  -----  \n",
      " 0   country                                                                            15110 non-null  object \n",
      " 1   year                                                                               15110 non-null  int64  \n",
      " 2   sex                                                                                15110 non-null  object \n",
      " 3   age                                                                                15110 non-null  object \n",
      " 4   suicides_no                                                                        15110 non-null  int64  \n",
      " 5   population                                                                         15110 non-null  int64  \n",
      " 6   suicidesper100k                                                                    15110 non-null  float64\n",
      " 7   country-year                                                                       15110 non-null  object \n",
      " 8   yearlyHDI                                                                          4740 non-null   float64\n",
      " 9   GDPpyear                                                                           15110 non-null  float64\n",
      " 10  GDPpcapital                                                                        15110 non-null  int64  \n",
      " 11  generation                                                                         15110 non-null  object \n",
      " 12  suicide%                                                                           15110 non-null  float64\n",
      " 13  Individuals using the Internet (% of population)                                   15002 non-null  float64\n",
      " 14  Expense (% of GDP)                                                                 13634 non-null  float64\n",
      " 15  Compensation of employees (% of expense)                                           13538 non-null  float64\n",
      " 16  Unemployment, total (% of total labor force) (modeled ILO estimate)                15110 non-null  float64\n",
      " 17  Physicians (per 1,000 people)                                                      12782 non-null  float64\n",
      " 18  Strength of legal rights index (0=weak to 12=strong)                               5618 non-null   float64\n",
      " 19  Labor force, total                                                                 15110 non-null  int64  \n",
      " 20  Life expectancy at birth, total (years)                                            15110 non-null  float64\n",
      " 21  Mobile cellular subscriptions (per 100 people)                                     15110 non-null  float64\n",
      " 22  Refugee population by country or territory of origin                               14978 non-null  float64\n",
      " 23  Contributing family workers, total (% of total employment) (modeled ILO estimate)  15110 non-null  float64\n",
      " 24  Access to electricity (% of population)                                            14642 non-null  float64\n",
      " 25  Lower secondary completion rate, total (% of relevant age group)                   9542 non-null   float64\n",
      "dtypes: float64(16), int64(5), object(5)\n",
      "memory usage: 3.0+ MB\n"
     ]
    }
   ],
   "source": [
    "sucidedataframe.info()  # checking Basic information on the dataframe being procesed."
   ]
  },
  {
   "cell_type": "markdown",
   "id": "7ca5f0a5",
   "metadata": {},
   "source": [
    "## 1. Data pre-processing"
   ]
  },
  {
   "cell_type": "code",
   "execution_count": 5,
   "id": "e9dfbbad",
   "metadata": {},
   "outputs": [],
   "source": [
    "# Below relevent data is selected that will be used in this project.\n",
    "sucidedataframe = sucidedataframe[[\"country\", \"year\",  \"age\" ,\"sex\", \"population\",  \\\n",
    "\"Individuals using the Internet (% of population)\", \"Labor force, total\", \\\n",
    "\"Mobile cellular subscriptions (per 100 people)\", \"GDPpyear\",\"GDPpcapital\",\"Expense (% of GDP)\",\\\n",
    "\"Physicians (per 1,000 people)\",\"Refugee population by country or territory of origin\" ,\"suicidesper100k\"]]## 1. Data pre-processing"
   ]
  },
  {
   "cell_type": "code",
   "execution_count": 6,
   "id": "d5052330",
   "metadata": {},
   "outputs": [
    {
     "data": {
      "text/html": [
       "<div>\n",
       "<style scoped>\n",
       "    .dataframe tbody tr th:only-of-type {\n",
       "        vertical-align: middle;\n",
       "    }\n",
       "\n",
       "    .dataframe tbody tr th {\n",
       "        vertical-align: top;\n",
       "    }\n",
       "\n",
       "    .dataframe thead th {\n",
       "        text-align: right;\n",
       "    }\n",
       "</style>\n",
       "<table border=\"1\" class=\"dataframe\">\n",
       "  <thead>\n",
       "    <tr style=\"text-align: right;\">\n",
       "      <th></th>\n",
       "      <th>country</th>\n",
       "      <th>year</th>\n",
       "      <th>age</th>\n",
       "      <th>sex</th>\n",
       "      <th>population</th>\n",
       "      <th>Individuals using the Internet (% of population)</th>\n",
       "      <th>Labor force, total</th>\n",
       "      <th>Mobile cellular subscriptions (per 100 people)</th>\n",
       "      <th>GDPpyear</th>\n",
       "      <th>GDPpcapital</th>\n",
       "      <th>Expense (% of GDP)</th>\n",
       "      <th>Physicians (per 1,000 people)</th>\n",
       "      <th>Refugee population by country or territory of origin</th>\n",
       "      <th>suicidesper100k</th>\n",
       "    </tr>\n",
       "  </thead>\n",
       "  <tbody>\n",
       "    <tr>\n",
       "      <th>0</th>\n",
       "      <td>Argentina</td>\n",
       "      <td>1985</td>\n",
       "      <td>75+ years</td>\n",
       "      <td>male</td>\n",
       "      <td>363000</td>\n",
       "      <td>0.0</td>\n",
       "      <td>0</td>\n",
       "      <td>0.0</td>\n",
       "      <td>8.841667e+10</td>\n",
       "      <td>3264</td>\n",
       "      <td>0.0</td>\n",
       "      <td>0.0</td>\n",
       "      <td>0.0</td>\n",
       "      <td>55.65</td>\n",
       "    </tr>\n",
       "    <tr>\n",
       "      <th>1</th>\n",
       "      <td>Argentina</td>\n",
       "      <td>1985</td>\n",
       "      <td>55-74 years</td>\n",
       "      <td>male</td>\n",
       "      <td>1997000</td>\n",
       "      <td>0.0</td>\n",
       "      <td>0</td>\n",
       "      <td>0.0</td>\n",
       "      <td>8.841667e+10</td>\n",
       "      <td>3264</td>\n",
       "      <td>0.0</td>\n",
       "      <td>0.0</td>\n",
       "      <td>0.0</td>\n",
       "      <td>24.29</td>\n",
       "    </tr>\n",
       "    <tr>\n",
       "      <th>2</th>\n",
       "      <td>Argentina</td>\n",
       "      <td>1985</td>\n",
       "      <td>35-54 years</td>\n",
       "      <td>male</td>\n",
       "      <td>3346300</td>\n",
       "      <td>0.0</td>\n",
       "      <td>0</td>\n",
       "      <td>0.0</td>\n",
       "      <td>8.841667e+10</td>\n",
       "      <td>3264</td>\n",
       "      <td>0.0</td>\n",
       "      <td>0.0</td>\n",
       "      <td>0.0</td>\n",
       "      <td>12.37</td>\n",
       "    </tr>\n",
       "    <tr>\n",
       "      <th>3</th>\n",
       "      <td>Argentina</td>\n",
       "      <td>1985</td>\n",
       "      <td>55-74 years</td>\n",
       "      <td>female</td>\n",
       "      <td>2304000</td>\n",
       "      <td>0.0</td>\n",
       "      <td>0</td>\n",
       "      <td>0.0</td>\n",
       "      <td>8.841667e+10</td>\n",
       "      <td>3264</td>\n",
       "      <td>0.0</td>\n",
       "      <td>0.0</td>\n",
       "      <td>0.0</td>\n",
       "      <td>9.11</td>\n",
       "    </tr>\n",
       "    <tr>\n",
       "      <th>4</th>\n",
       "      <td>Argentina</td>\n",
       "      <td>1985</td>\n",
       "      <td>25-34 years</td>\n",
       "      <td>male</td>\n",
       "      <td>2234200</td>\n",
       "      <td>0.0</td>\n",
       "      <td>0</td>\n",
       "      <td>0.0</td>\n",
       "      <td>8.841667e+10</td>\n",
       "      <td>3264</td>\n",
       "      <td>0.0</td>\n",
       "      <td>0.0</td>\n",
       "      <td>0.0</td>\n",
       "      <td>7.92</td>\n",
       "    </tr>\n",
       "  </tbody>\n",
       "</table>\n",
       "</div>"
      ],
      "text/plain": [
       "     country  year          age     sex  population  \\\n",
       "0  Argentina  1985    75+ years    male      363000   \n",
       "1  Argentina  1985  55-74 years    male     1997000   \n",
       "2  Argentina  1985  35-54 years    male     3346300   \n",
       "3  Argentina  1985  55-74 years  female     2304000   \n",
       "4  Argentina  1985  25-34 years    male     2234200   \n",
       "\n",
       "   Individuals using the Internet (% of population)  Labor force, total  \\\n",
       "0                                               0.0                   0   \n",
       "1                                               0.0                   0   \n",
       "2                                               0.0                   0   \n",
       "3                                               0.0                   0   \n",
       "4                                               0.0                   0   \n",
       "\n",
       "   Mobile cellular subscriptions (per 100 people)      GDPpyear  GDPpcapital  \\\n",
       "0                                             0.0  8.841667e+10         3264   \n",
       "1                                             0.0  8.841667e+10         3264   \n",
       "2                                             0.0  8.841667e+10         3264   \n",
       "3                                             0.0  8.841667e+10         3264   \n",
       "4                                             0.0  8.841667e+10         3264   \n",
       "\n",
       "   Expense (% of GDP)  Physicians (per 1,000 people)  \\\n",
       "0                 0.0                            0.0   \n",
       "1                 0.0                            0.0   \n",
       "2                 0.0                            0.0   \n",
       "3                 0.0                            0.0   \n",
       "4                 0.0                            0.0   \n",
       "\n",
       "   Refugee population by country or territory of origin  suicidesper100k  \n",
       "0                                                0.0               55.65  \n",
       "1                                                0.0               24.29  \n",
       "2                                                0.0               12.37  \n",
       "3                                                0.0                9.11  \n",
       "4                                                0.0                7.92  "
      ]
     },
     "execution_count": 6,
     "metadata": {},
     "output_type": "execute_result"
    }
   ],
   "source": [
    "sucidedataframe.head(5)"
   ]
  },
  {
   "cell_type": "code",
   "execution_count": 7,
   "id": "0c628883",
   "metadata": {},
   "outputs": [],
   "source": [
    "# Below the col names are renamed.\n",
    "sucidedataframe = sucidedataframe.set_axis([\"Country\", \"Year\", \"Age\", \"Gender\", \"Population\", \\\n",
    "\"Internet_Usage_per_%_Population\", \"Total_Labour_force\", \"Cellular_subscriptions_per_100_people\", \\\n",
    "\"GDPpyear\",\"GDPpcapital\",\"Expense_%_of_GDP)\",\\\n",
    "\"Physicians_per_1,000_people)\",\"Refugee_population_by_country_or_territory_of_origin\" ,\"Suicidesper100k\"],axis=1)"
   ]
  },
  {
   "cell_type": "code",
   "execution_count": 8,
   "id": "a4f229b2",
   "metadata": {},
   "outputs": [
    {
     "data": {
      "text/plain": [
       "Index(['Country', 'Year', 'Age', 'Gender', 'Population',\n",
       "       'Internet_Usage_per_%_Population', 'Total_Labour_force',\n",
       "       'Cellular_subscriptions_per_100_people', 'GDPpyear', 'GDPpcapital',\n",
       "       'Expense_%_of_GDP)', 'Physicians_per_1,000_people)',\n",
       "       'Refugee_population_by_country_or_territory_of_origin',\n",
       "       'Suicidesper100k'],\n",
       "      dtype='object')"
      ]
     },
     "execution_count": 8,
     "metadata": {},
     "output_type": "execute_result"
    }
   ],
   "source": [
    "sucidedataframe.columns  # The columns of the dataframe are viewed."
   ]
  },
  {
   "cell_type": "code",
   "execution_count": 9,
   "id": "6561b896",
   "metadata": {},
   "outputs": [
    {
     "data": {
      "text/plain": [
       "(15110, 14)"
      ]
     },
     "execution_count": 9,
     "metadata": {},
     "output_type": "execute_result"
    }
   ],
   "source": [
    "sucidedataframe.shape  # The Entries and the columns of the dataframe are viewed."
   ]
  },
  {
   "cell_type": "markdown",
   "id": "8dc9be58",
   "metadata": {},
   "source": [
    "### Dealing with null values"
   ]
  },
  {
   "cell_type": "code",
   "execution_count": 10,
   "id": "fad4c08a",
   "metadata": {},
   "outputs": [
    {
     "data": {
      "text/plain": [
       "Country                                                    0\n",
       "Year                                                       0\n",
       "Age                                                        0\n",
       "Gender                                                     0\n",
       "Population                                                 0\n",
       "Internet_Usage_per_%_Population                          108\n",
       "Total_Labour_force                                         0\n",
       "Cellular_subscriptions_per_100_people                      0\n",
       "GDPpyear                                                   0\n",
       "GDPpcapital                                                0\n",
       "Expense_%_of_GDP)                                       1476\n",
       "Physicians_per_1,000_people)                            2328\n",
       "Refugee_population_by_country_or_territory_of_origin     132\n",
       "Suicidesper100k                                            0\n",
       "dtype: int64"
      ]
     },
     "execution_count": 10,
     "metadata": {},
     "output_type": "execute_result"
    }
   ],
   "source": [
    "sucidedataframe.isnull().sum()  # Checking the dataframe for null values."
   ]
  },
  {
   "cell_type": "code",
   "execution_count": 11,
   "id": "8057999d",
   "metadata": {},
   "outputs": [],
   "source": [
    "sucidedataframe = sucidedataframe.dropna() # droping all rows with at least one null values."
   ]
  },
  {
   "cell_type": "code",
   "execution_count": 12,
   "id": "ec1ab8c2",
   "metadata": {},
   "outputs": [],
   "source": [
    "sucidedataframe.reset_index(drop=True, inplace=True)"
   ]
  },
  {
   "cell_type": "code",
   "execution_count": 13,
   "id": "1fa4842d",
   "metadata": {},
   "outputs": [
    {
     "data": {
      "text/plain": [
       "Country                                                 0\n",
       "Year                                                    0\n",
       "Age                                                     0\n",
       "Gender                                                  0\n",
       "Population                                              0\n",
       "Internet_Usage_per_%_Population                         0\n",
       "Total_Labour_force                                      0\n",
       "Cellular_subscriptions_per_100_people                   0\n",
       "GDPpyear                                                0\n",
       "GDPpcapital                                             0\n",
       "Expense_%_of_GDP)                                       0\n",
       "Physicians_per_1,000_people)                            0\n",
       "Refugee_population_by_country_or_territory_of_origin    0\n",
       "Suicidesper100k                                         0\n",
       "dtype: int64"
      ]
     },
     "execution_count": 13,
     "metadata": {},
     "output_type": "execute_result"
    }
   ],
   "source": [
    "sucidedataframe.isnull().sum()  # Checking the dataframe for null values."
   ]
  },
  {
   "cell_type": "code",
   "execution_count": 14,
   "id": "82a60c02",
   "metadata": {},
   "outputs": [
    {
     "data": {
      "text/plain": [
       "(11570, 14)"
      ]
     },
     "execution_count": 14,
     "metadata": {},
     "output_type": "execute_result"
    }
   ],
   "source": [
    "sucidedataframe.shape  # The Entries and the columns of the dataframe are viewed."
   ]
  },
  {
   "cell_type": "code",
   "execution_count": 15,
   "id": "c2f341cc",
   "metadata": {},
   "outputs": [
    {
     "name": "stdout",
     "output_type": "stream",
     "text": [
      "<class 'pandas.core.frame.DataFrame'>\n",
      "RangeIndex: 11570 entries, 0 to 11569\n",
      "Data columns (total 14 columns):\n",
      " #   Column                                                Non-Null Count  Dtype  \n",
      "---  ------                                                --------------  -----  \n",
      " 0   Country                                               11570 non-null  object \n",
      " 1   Year                                                  11570 non-null  int64  \n",
      " 2   Age                                                   11570 non-null  object \n",
      " 3   Gender                                                11570 non-null  object \n",
      " 4   Population                                            11570 non-null  int64  \n",
      " 5   Internet_Usage_per_%_Population                       11570 non-null  float64\n",
      " 6   Total_Labour_force                                    11570 non-null  int64  \n",
      " 7   Cellular_subscriptions_per_100_people                 11570 non-null  float64\n",
      " 8   GDPpyear                                              11570 non-null  float64\n",
      " 9   GDPpcapital                                           11570 non-null  int64  \n",
      " 10  Expense_%_of_GDP)                                     11570 non-null  float64\n",
      " 11  Physicians_per_1,000_people)                          11570 non-null  float64\n",
      " 12  Refugee_population_by_country_or_territory_of_origin  11570 non-null  float64\n",
      " 13  Suicidesper100k                                       11570 non-null  float64\n",
      "dtypes: float64(7), int64(4), object(3)\n",
      "memory usage: 1.2+ MB\n"
     ]
    }
   ],
   "source": [
    "sucidedataframe.info()  # checking Basic information on the dataframe being procesed."
   ]
  },
  {
   "cell_type": "markdown",
   "id": "a443230a",
   "metadata": {},
   "source": [
    "### Dealing with repetetive values"
   ]
  },
  {
   "cell_type": "code",
   "execution_count": 16,
   "id": "6945bf69",
   "metadata": {},
   "outputs": [
    {
     "data": {
      "text/plain": [
       "Country                                                    47\n",
       "Year                                                       32\n",
       "Age                                                         6\n",
       "Gender                                                      2\n",
       "Population                                              11144\n",
       "Internet_Usage_per_%_Population                           531\n",
       "Total_Labour_force                                        538\n",
       "Cellular_subscriptions_per_100_people                     538\n",
       "GDPpyear                                                  748\n",
       "GDPpcapital                                               954\n",
       "Expense_%_of_GDP)                                         538\n",
       "Physicians_per_1,000_people)                              415\n",
       "Refugee_population_by_country_or_territory_of_origin      356\n",
       "Suicidesper100k                                          3735\n",
       "dtype: int64"
      ]
     },
     "execution_count": 16,
     "metadata": {},
     "output_type": "execute_result"
    }
   ],
   "source": [
    "sucidedataframe.nunique()  # "
   ]
  },
  {
   "cell_type": "code",
   "execution_count": 17,
   "id": "f4b4a280",
   "metadata": {},
   "outputs": [
    {
     "data": {
      "text/plain": [
       "0"
      ]
     },
     "execution_count": 17,
     "metadata": {},
     "output_type": "execute_result"
    }
   ],
   "source": [
    "sucidedataframe.duplicated().sum()"
   ]
  },
  {
   "cell_type": "code",
   "execution_count": 18,
   "id": "b0cc3cf1",
   "metadata": {},
   "outputs": [
    {
     "name": "stdout",
     "output_type": "stream",
     "text": [
      "Year\n",
      "1985    300\n",
      "1986    312\n",
      "1987    360\n",
      "1988    348\n",
      "1989    372\n",
      "1990    468\n",
      "1991    480\n",
      "1992    480\n",
      "1993    456\n",
      "1994    492\n",
      "1995    348\n",
      "1996    360\n",
      "1997    336\n",
      "1998    396\n",
      "1999    372\n",
      "2000    336\n",
      "2001    324\n",
      "2002    336\n",
      "2003    300\n",
      "2004    204\n",
      "2005    168\n",
      "2006    372\n",
      "2007    288\n",
      "2008    300\n",
      "2009    240\n",
      "2010    432\n",
      "2011    432\n",
      "2012    456\n",
      "2013    444\n",
      "2014    504\n",
      "2015    444\n",
      "2016    110\n",
      "dtype: int64\n"
     ]
    }
   ],
   "source": [
    "print(sucidedataframe.pivot_table(columns=['Year'], aggfunc='size'))  # counts duplicates in the selected dataframe column."
   ]
  },
  {
   "cell_type": "code",
   "execution_count": 19,
   "id": "11e93218",
   "metadata": {},
   "outputs": [
    {
     "name": "stdout",
     "output_type": "stream",
     "text": [
      "Gender\n",
      "female    5785\n",
      "male      5785\n",
      "dtype: int64\n"
     ]
    }
   ],
   "source": [
    "print(sucidedataframe.pivot_table(columns=['Gender'], aggfunc='size'))  # counts duplicates in the selected dataframe column."
   ]
  },
  {
   "cell_type": "code",
   "execution_count": 20,
   "id": "b68abc50",
   "metadata": {},
   "outputs": [
    {
     "name": "stdout",
     "output_type": "stream",
     "text": [
      "Country\n",
      "Argentina             192\n",
      "Armenia               178\n",
      "Australia             300\n",
      "Austria               334\n",
      "Azerbaijan            120\n",
      "Belgium               312\n",
      "Brazil                336\n",
      "Bulgaria              216\n",
      "Canada                276\n",
      "Chile                 264\n",
      "Colombia              240\n",
      "Croatia               250\n",
      "Cuba                   60\n",
      "Czech Republic        286\n",
      "Denmark               240\n",
      "Finland               324\n",
      "France                192\n",
      "Georgia               216\n",
      "Germany               276\n",
      "Greece                312\n",
      "Hungary               286\n",
      "Iceland               358\n",
      "Ireland               300\n",
      "Israel                312\n",
      "Italy                 324\n",
      "Jamaica                96\n",
      "Japan                 252\n",
      "Mexico                288\n",
      "Mongolia               10\n",
      "Netherlands           298\n",
      "New Zealand           228\n",
      "Norway                336\n",
      "Poland                252\n",
      "Portugal              324\n",
      "Romania               274\n",
      "Russian Federation    252\n",
      "South Africa           96\n",
      "Spain                 372\n",
      "Sweden                334\n",
      "Switzerland           180\n",
      "Thailand              298\n",
      "Turkey                 84\n",
      "Turkmenistan          120\n",
      "Ukraine               204\n",
      "United Kingdom        300\n",
      "United States         360\n",
      "Uzbekistan            108\n",
      "dtype: int64\n"
     ]
    }
   ],
   "source": [
    "print(sucidedataframe.pivot_table(columns=['Country'], aggfunc='size'))  # counts duplicates in the selected dataframe column."
   ]
  },
  {
   "cell_type": "code",
   "execution_count": 21,
   "id": "5a6b2cf6",
   "metadata": {},
   "outputs": [
    {
     "data": {
      "text/html": [
       "<div>\n",
       "<style scoped>\n",
       "    .dataframe tbody tr th:only-of-type {\n",
       "        vertical-align: middle;\n",
       "    }\n",
       "\n",
       "    .dataframe tbody tr th {\n",
       "        vertical-align: top;\n",
       "    }\n",
       "\n",
       "    .dataframe thead th {\n",
       "        text-align: right;\n",
       "    }\n",
       "</style>\n",
       "<table border=\"1\" class=\"dataframe\">\n",
       "  <thead>\n",
       "    <tr style=\"text-align: right;\">\n",
       "      <th></th>\n",
       "      <th>Country</th>\n",
       "      <th>Year</th>\n",
       "      <th>Age</th>\n",
       "      <th>Gender</th>\n",
       "      <th>Population</th>\n",
       "      <th>Internet_Usage_per_%_Population</th>\n",
       "      <th>Total_Labour_force</th>\n",
       "      <th>Cellular_subscriptions_per_100_people</th>\n",
       "      <th>GDPpyear</th>\n",
       "      <th>GDPpcapital</th>\n",
       "      <th>Expense_%_of_GDP)</th>\n",
       "      <th>Physicians_per_1,000_people)</th>\n",
       "      <th>Refugee_population_by_country_or_territory_of_origin</th>\n",
       "      <th>Suicidesper100k</th>\n",
       "    </tr>\n",
       "  </thead>\n",
       "  <tbody>\n",
       "    <tr>\n",
       "      <th>0</th>\n",
       "      <td>Argentina</td>\n",
       "      <td>1985</td>\n",
       "      <td>75+ years</td>\n",
       "      <td>male</td>\n",
       "      <td>363000</td>\n",
       "      <td>0.0</td>\n",
       "      <td>0</td>\n",
       "      <td>0.0</td>\n",
       "      <td>8.841667e+10</td>\n",
       "      <td>3264</td>\n",
       "      <td>0.0</td>\n",
       "      <td>0.0</td>\n",
       "      <td>0.0</td>\n",
       "      <td>55.65</td>\n",
       "    </tr>\n",
       "  </tbody>\n",
       "</table>\n",
       "</div>"
      ],
      "text/plain": [
       "     Country  Year        Age Gender  Population  \\\n",
       "0  Argentina  1985  75+ years   male      363000   \n",
       "\n",
       "   Internet_Usage_per_%_Population  Total_Labour_force  \\\n",
       "0                              0.0                   0   \n",
       "\n",
       "   Cellular_subscriptions_per_100_people      GDPpyear  GDPpcapital  \\\n",
       "0                                    0.0  8.841667e+10         3264   \n",
       "\n",
       "   Expense_%_of_GDP)  Physicians_per_1,000_people)  \\\n",
       "0                0.0                           0.0   \n",
       "\n",
       "   Refugee_population_by_country_or_territory_of_origin  Suicidesper100k  \n",
       "0                                                0.0               55.65  "
      ]
     },
     "execution_count": 21,
     "metadata": {},
     "output_type": "execute_result"
    }
   ],
   "source": [
    "sucidedataframe.head(1)"
   ]
  },
  {
   "cell_type": "code",
   "execution_count": 22,
   "id": "5982aadd",
   "metadata": {},
   "outputs": [
    {
     "name": "stdout",
     "output_type": "stream",
     "text": [
      "Age\n",
      "15-24 years    1932\n",
      "25-34 years    1932\n",
      "35-54 years    1932\n",
      "5-14 years     1910\n",
      "55-74 years    1932\n",
      "75+ years      1932\n",
      "dtype: int64\n"
     ]
    }
   ],
   "source": [
    "print(sucidedataframe.pivot_table(columns=['Age'], aggfunc='size'))  # counts duplicates in the selected dataframe column."
   ]
  },
  {
   "cell_type": "code",
   "execution_count": 23,
   "id": "5c066882",
   "metadata": {},
   "outputs": [],
   "source": [
    "sucidedataframe.index = pd.RangeIndex(len(sucidedataframe.index))"
   ]
  },
  {
   "cell_type": "code",
   "execution_count": 24,
   "id": "ea4e3bc5",
   "metadata": {},
   "outputs": [
    {
     "data": {
      "text/html": [
       "<div>\n",
       "<style scoped>\n",
       "    .dataframe tbody tr th:only-of-type {\n",
       "        vertical-align: middle;\n",
       "    }\n",
       "\n",
       "    .dataframe tbody tr th {\n",
       "        vertical-align: top;\n",
       "    }\n",
       "\n",
       "    .dataframe thead th {\n",
       "        text-align: right;\n",
       "    }\n",
       "</style>\n",
       "<table border=\"1\" class=\"dataframe\">\n",
       "  <thead>\n",
       "    <tr style=\"text-align: right;\">\n",
       "      <th></th>\n",
       "      <th>Country</th>\n",
       "      <th>Year</th>\n",
       "      <th>Age</th>\n",
       "      <th>Gender</th>\n",
       "      <th>Population</th>\n",
       "      <th>Internet_Usage_per_%_Population</th>\n",
       "      <th>Total_Labour_force</th>\n",
       "      <th>Cellular_subscriptions_per_100_people</th>\n",
       "      <th>GDPpyear</th>\n",
       "      <th>GDPpcapital</th>\n",
       "      <th>Expense_%_of_GDP)</th>\n",
       "      <th>Physicians_per_1,000_people)</th>\n",
       "      <th>Refugee_population_by_country_or_territory_of_origin</th>\n",
       "      <th>Suicidesper100k</th>\n",
       "    </tr>\n",
       "  </thead>\n",
       "  <tbody>\n",
       "    <tr>\n",
       "      <th>0</th>\n",
       "      <td>Argentina</td>\n",
       "      <td>1985</td>\n",
       "      <td>75+ years</td>\n",
       "      <td>male</td>\n",
       "      <td>363000</td>\n",
       "      <td>0.0</td>\n",
       "      <td>0</td>\n",
       "      <td>0.0</td>\n",
       "      <td>8.841667e+10</td>\n",
       "      <td>3264</td>\n",
       "      <td>0.0</td>\n",
       "      <td>0.0</td>\n",
       "      <td>0.0</td>\n",
       "      <td>55.65</td>\n",
       "    </tr>\n",
       "    <tr>\n",
       "      <th>1</th>\n",
       "      <td>Argentina</td>\n",
       "      <td>1985</td>\n",
       "      <td>55-74 years</td>\n",
       "      <td>male</td>\n",
       "      <td>1997000</td>\n",
       "      <td>0.0</td>\n",
       "      <td>0</td>\n",
       "      <td>0.0</td>\n",
       "      <td>8.841667e+10</td>\n",
       "      <td>3264</td>\n",
       "      <td>0.0</td>\n",
       "      <td>0.0</td>\n",
       "      <td>0.0</td>\n",
       "      <td>24.29</td>\n",
       "    </tr>\n",
       "    <tr>\n",
       "      <th>2</th>\n",
       "      <td>Argentina</td>\n",
       "      <td>1985</td>\n",
       "      <td>35-54 years</td>\n",
       "      <td>male</td>\n",
       "      <td>3346300</td>\n",
       "      <td>0.0</td>\n",
       "      <td>0</td>\n",
       "      <td>0.0</td>\n",
       "      <td>8.841667e+10</td>\n",
       "      <td>3264</td>\n",
       "      <td>0.0</td>\n",
       "      <td>0.0</td>\n",
       "      <td>0.0</td>\n",
       "      <td>12.37</td>\n",
       "    </tr>\n",
       "    <tr>\n",
       "      <th>3</th>\n",
       "      <td>Argentina</td>\n",
       "      <td>1985</td>\n",
       "      <td>55-74 years</td>\n",
       "      <td>female</td>\n",
       "      <td>2304000</td>\n",
       "      <td>0.0</td>\n",
       "      <td>0</td>\n",
       "      <td>0.0</td>\n",
       "      <td>8.841667e+10</td>\n",
       "      <td>3264</td>\n",
       "      <td>0.0</td>\n",
       "      <td>0.0</td>\n",
       "      <td>0.0</td>\n",
       "      <td>9.11</td>\n",
       "    </tr>\n",
       "    <tr>\n",
       "      <th>4</th>\n",
       "      <td>Argentina</td>\n",
       "      <td>1985</td>\n",
       "      <td>25-34 years</td>\n",
       "      <td>male</td>\n",
       "      <td>2234200</td>\n",
       "      <td>0.0</td>\n",
       "      <td>0</td>\n",
       "      <td>0.0</td>\n",
       "      <td>8.841667e+10</td>\n",
       "      <td>3264</td>\n",
       "      <td>0.0</td>\n",
       "      <td>0.0</td>\n",
       "      <td>0.0</td>\n",
       "      <td>7.92</td>\n",
       "    </tr>\n",
       "  </tbody>\n",
       "</table>\n",
       "</div>"
      ],
      "text/plain": [
       "     Country  Year          Age  Gender  Population  \\\n",
       "0  Argentina  1985    75+ years    male      363000   \n",
       "1  Argentina  1985  55-74 years    male     1997000   \n",
       "2  Argentina  1985  35-54 years    male     3346300   \n",
       "3  Argentina  1985  55-74 years  female     2304000   \n",
       "4  Argentina  1985  25-34 years    male     2234200   \n",
       "\n",
       "   Internet_Usage_per_%_Population  Total_Labour_force  \\\n",
       "0                              0.0                   0   \n",
       "1                              0.0                   0   \n",
       "2                              0.0                   0   \n",
       "3                              0.0                   0   \n",
       "4                              0.0                   0   \n",
       "\n",
       "   Cellular_subscriptions_per_100_people      GDPpyear  GDPpcapital  \\\n",
       "0                                    0.0  8.841667e+10         3264   \n",
       "1                                    0.0  8.841667e+10         3264   \n",
       "2                                    0.0  8.841667e+10         3264   \n",
       "3                                    0.0  8.841667e+10         3264   \n",
       "4                                    0.0  8.841667e+10         3264   \n",
       "\n",
       "   Expense_%_of_GDP)  Physicians_per_1,000_people)  \\\n",
       "0                0.0                           0.0   \n",
       "1                0.0                           0.0   \n",
       "2                0.0                           0.0   \n",
       "3                0.0                           0.0   \n",
       "4                0.0                           0.0   \n",
       "\n",
       "   Refugee_population_by_country_or_territory_of_origin  Suicidesper100k  \n",
       "0                                                0.0               55.65  \n",
       "1                                                0.0               24.29  \n",
       "2                                                0.0               12.37  \n",
       "3                                                0.0                9.11  \n",
       "4                                                0.0                7.92  "
      ]
     },
     "execution_count": 24,
     "metadata": {},
     "output_type": "execute_result"
    }
   ],
   "source": [
    "sucidedataframe.head()"
   ]
  },
  {
   "cell_type": "markdown",
   "id": "d414a023",
   "metadata": {},
   "source": [
    "### Encoding variables to  0 and 1"
   ]
  },
  {
   "cell_type": "code",
   "execution_count": 25,
   "id": "5c983876",
   "metadata": {},
   "outputs": [
    {
     "name": "stdout",
     "output_type": "stream",
     "text": [
      "Gender\n",
      "female    5785\n",
      "male      5785\n",
      "dtype: int64\n"
     ]
    }
   ],
   "source": [
    "print(sucidedataframe.pivot_table(columns=['Gender'], aggfunc='size'))"
   ]
  },
  {
   "cell_type": "code",
   "execution_count": 26,
   "id": "0e68eff3",
   "metadata": {},
   "outputs": [
    {
     "name": "stdout",
     "output_type": "stream",
     "text": [
      "Age\n",
      "15-24 years    1932\n",
      "25-34 years    1932\n",
      "35-54 years    1932\n",
      "5-14 years     1910\n",
      "55-74 years    1932\n",
      "75+ years      1932\n",
      "dtype: int64\n"
     ]
    }
   ],
   "source": [
    "print(sucidedataframe.pivot_table(columns=['Age'], aggfunc='size'))"
   ]
  },
  {
   "cell_type": "code",
   "execution_count": 27,
   "id": "34aca3b3",
   "metadata": {},
   "outputs": [],
   "source": [
    "le = LabelEncoder()\n",
    "sucidedataframe.Gender= le.fit_transform(sucidedataframe.Gender)\n",
    "sucidedataframe.Age= le.fit_transform(sucidedataframe.Age)"
   ]
  },
  {
   "cell_type": "code",
   "execution_count": 28,
   "id": "53b56bcb",
   "metadata": {},
   "outputs": [
    {
     "name": "stdout",
     "output_type": "stream",
     "text": [
      "Gender\n",
      "0    5785\n",
      "1    5785\n",
      "dtype: int64\n"
     ]
    }
   ],
   "source": [
    "print(sucidedataframe.pivot_table(columns=['Gender'], aggfunc='size'))"
   ]
  },
  {
   "cell_type": "code",
   "execution_count": 29,
   "id": "c61ee65c",
   "metadata": {},
   "outputs": [
    {
     "name": "stdout",
     "output_type": "stream",
     "text": [
      "Age\n",
      "0    1932\n",
      "1    1932\n",
      "2    1932\n",
      "3    1910\n",
      "4    1932\n",
      "5    1932\n",
      "dtype: int64\n"
     ]
    }
   ],
   "source": [
    "print(sucidedataframe.pivot_table(columns=['Age'], aggfunc='size'))  # counts duplicates in the selected dataframe column."
   ]
  },
  {
   "cell_type": "code",
   "execution_count": 30,
   "id": "4de9261d",
   "metadata": {},
   "outputs": [
    {
     "data": {
      "text/html": [
       "<div>\n",
       "<style scoped>\n",
       "    .dataframe tbody tr th:only-of-type {\n",
       "        vertical-align: middle;\n",
       "    }\n",
       "\n",
       "    .dataframe tbody tr th {\n",
       "        vertical-align: top;\n",
       "    }\n",
       "\n",
       "    .dataframe thead th {\n",
       "        text-align: right;\n",
       "    }\n",
       "</style>\n",
       "<table border=\"1\" class=\"dataframe\">\n",
       "  <thead>\n",
       "    <tr style=\"text-align: right;\">\n",
       "      <th></th>\n",
       "      <th>Country</th>\n",
       "      <th>Year</th>\n",
       "      <th>Age</th>\n",
       "      <th>Gender</th>\n",
       "      <th>Population</th>\n",
       "      <th>Internet_Usage_per_%_Population</th>\n",
       "      <th>Total_Labour_force</th>\n",
       "      <th>Cellular_subscriptions_per_100_people</th>\n",
       "      <th>GDPpyear</th>\n",
       "      <th>GDPpcapital</th>\n",
       "      <th>Expense_%_of_GDP)</th>\n",
       "      <th>Physicians_per_1,000_people)</th>\n",
       "      <th>Refugee_population_by_country_or_territory_of_origin</th>\n",
       "      <th>Suicidesper100k</th>\n",
       "    </tr>\n",
       "  </thead>\n",
       "  <tbody>\n",
       "    <tr>\n",
       "      <th>0</th>\n",
       "      <td>Argentina</td>\n",
       "      <td>1985</td>\n",
       "      <td>5</td>\n",
       "      <td>1</td>\n",
       "      <td>363000</td>\n",
       "      <td>0.0</td>\n",
       "      <td>0</td>\n",
       "      <td>0.0</td>\n",
       "      <td>8.841667e+10</td>\n",
       "      <td>3264</td>\n",
       "      <td>0.0</td>\n",
       "      <td>0.0</td>\n",
       "      <td>0.0</td>\n",
       "      <td>55.65</td>\n",
       "    </tr>\n",
       "    <tr>\n",
       "      <th>1</th>\n",
       "      <td>Argentina</td>\n",
       "      <td>1985</td>\n",
       "      <td>4</td>\n",
       "      <td>1</td>\n",
       "      <td>1997000</td>\n",
       "      <td>0.0</td>\n",
       "      <td>0</td>\n",
       "      <td>0.0</td>\n",
       "      <td>8.841667e+10</td>\n",
       "      <td>3264</td>\n",
       "      <td>0.0</td>\n",
       "      <td>0.0</td>\n",
       "      <td>0.0</td>\n",
       "      <td>24.29</td>\n",
       "    </tr>\n",
       "    <tr>\n",
       "      <th>2</th>\n",
       "      <td>Argentina</td>\n",
       "      <td>1985</td>\n",
       "      <td>2</td>\n",
       "      <td>1</td>\n",
       "      <td>3346300</td>\n",
       "      <td>0.0</td>\n",
       "      <td>0</td>\n",
       "      <td>0.0</td>\n",
       "      <td>8.841667e+10</td>\n",
       "      <td>3264</td>\n",
       "      <td>0.0</td>\n",
       "      <td>0.0</td>\n",
       "      <td>0.0</td>\n",
       "      <td>12.37</td>\n",
       "    </tr>\n",
       "    <tr>\n",
       "      <th>3</th>\n",
       "      <td>Argentina</td>\n",
       "      <td>1985</td>\n",
       "      <td>4</td>\n",
       "      <td>0</td>\n",
       "      <td>2304000</td>\n",
       "      <td>0.0</td>\n",
       "      <td>0</td>\n",
       "      <td>0.0</td>\n",
       "      <td>8.841667e+10</td>\n",
       "      <td>3264</td>\n",
       "      <td>0.0</td>\n",
       "      <td>0.0</td>\n",
       "      <td>0.0</td>\n",
       "      <td>9.11</td>\n",
       "    </tr>\n",
       "    <tr>\n",
       "      <th>4</th>\n",
       "      <td>Argentina</td>\n",
       "      <td>1985</td>\n",
       "      <td>1</td>\n",
       "      <td>1</td>\n",
       "      <td>2234200</td>\n",
       "      <td>0.0</td>\n",
       "      <td>0</td>\n",
       "      <td>0.0</td>\n",
       "      <td>8.841667e+10</td>\n",
       "      <td>3264</td>\n",
       "      <td>0.0</td>\n",
       "      <td>0.0</td>\n",
       "      <td>0.0</td>\n",
       "      <td>7.92</td>\n",
       "    </tr>\n",
       "  </tbody>\n",
       "</table>\n",
       "</div>"
      ],
      "text/plain": [
       "     Country  Year  Age  Gender  Population  Internet_Usage_per_%_Population  \\\n",
       "0  Argentina  1985    5       1      363000                              0.0   \n",
       "1  Argentina  1985    4       1     1997000                              0.0   \n",
       "2  Argentina  1985    2       1     3346300                              0.0   \n",
       "3  Argentina  1985    4       0     2304000                              0.0   \n",
       "4  Argentina  1985    1       1     2234200                              0.0   \n",
       "\n",
       "   Total_Labour_force  Cellular_subscriptions_per_100_people      GDPpyear  \\\n",
       "0                   0                                    0.0  8.841667e+10   \n",
       "1                   0                                    0.0  8.841667e+10   \n",
       "2                   0                                    0.0  8.841667e+10   \n",
       "3                   0                                    0.0  8.841667e+10   \n",
       "4                   0                                    0.0  8.841667e+10   \n",
       "\n",
       "   GDPpcapital  Expense_%_of_GDP)  Physicians_per_1,000_people)  \\\n",
       "0         3264                0.0                           0.0   \n",
       "1         3264                0.0                           0.0   \n",
       "2         3264                0.0                           0.0   \n",
       "3         3264                0.0                           0.0   \n",
       "4         3264                0.0                           0.0   \n",
       "\n",
       "   Refugee_population_by_country_or_territory_of_origin  Suicidesper100k  \n",
       "0                                                0.0               55.65  \n",
       "1                                                0.0               24.29  \n",
       "2                                                0.0               12.37  \n",
       "3                                                0.0                9.11  \n",
       "4                                                0.0                7.92  "
      ]
     },
     "execution_count": 30,
     "metadata": {},
     "output_type": "execute_result"
    }
   ],
   "source": [
    "sucidedataframe.head()"
   ]
  },
  {
   "cell_type": "code",
   "execution_count": 31,
   "id": "27c15c9e",
   "metadata": {},
   "outputs": [
    {
     "data": {
      "text/html": [
       "<div>\n",
       "<style scoped>\n",
       "    .dataframe tbody tr th:only-of-type {\n",
       "        vertical-align: middle;\n",
       "    }\n",
       "\n",
       "    .dataframe tbody tr th {\n",
       "        vertical-align: top;\n",
       "    }\n",
       "\n",
       "    .dataframe thead th {\n",
       "        text-align: right;\n",
       "    }\n",
       "</style>\n",
       "<table border=\"1\" class=\"dataframe\">\n",
       "  <thead>\n",
       "    <tr style=\"text-align: right;\">\n",
       "      <th></th>\n",
       "      <th>Year</th>\n",
       "      <th>Age</th>\n",
       "      <th>Gender</th>\n",
       "      <th>Population</th>\n",
       "      <th>Internet_Usage_per_%_Population</th>\n",
       "      <th>Total_Labour_force</th>\n",
       "      <th>Cellular_subscriptions_per_100_people</th>\n",
       "      <th>GDPpyear</th>\n",
       "      <th>GDPpcapital</th>\n",
       "      <th>Expense_%_of_GDP)</th>\n",
       "      <th>Physicians_per_1,000_people)</th>\n",
       "      <th>Refugee_population_by_country_or_territory_of_origin</th>\n",
       "      <th>Suicidesper100k</th>\n",
       "    </tr>\n",
       "  </thead>\n",
       "  <tbody>\n",
       "    <tr>\n",
       "      <th>count</th>\n",
       "      <td>11570.0</td>\n",
       "      <td>11570.0</td>\n",
       "      <td>11570.0</td>\n",
       "      <td>11570.0</td>\n",
       "      <td>11570.0</td>\n",
       "      <td>11570.0</td>\n",
       "      <td>11570.0</td>\n",
       "      <td>1.157000e+04</td>\n",
       "      <td>11570.0</td>\n",
       "      <td>11570.0</td>\n",
       "      <td>11570.0</td>\n",
       "      <td>11570.0</td>\n",
       "      <td>11570.0</td>\n",
       "    </tr>\n",
       "    <tr>\n",
       "      <th>mean</th>\n",
       "      <td>2000.0</td>\n",
       "      <td>2.0</td>\n",
       "      <td>0.0</td>\n",
       "      <td>3179703.0</td>\n",
       "      <td>22.0</td>\n",
       "      <td>11581759.0</td>\n",
       "      <td>40.0</td>\n",
       "      <td>8.354396e+11</td>\n",
       "      <td>21705.0</td>\n",
       "      <td>18.0</td>\n",
       "      <td>2.0</td>\n",
       "      <td>10804.0</td>\n",
       "      <td>14.0</td>\n",
       "    </tr>\n",
       "    <tr>\n",
       "      <th>std</th>\n",
       "      <td>9.0</td>\n",
       "      <td>2.0</td>\n",
       "      <td>1.0</td>\n",
       "      <td>5227735.0</td>\n",
       "      <td>30.0</td>\n",
       "      <td>25834635.0</td>\n",
       "      <td>49.0</td>\n",
       "      <td>2.063111e+12</td>\n",
       "      <td>19448.0</td>\n",
       "      <td>17.0</td>\n",
       "      <td>2.0</td>\n",
       "      <td>49933.0</td>\n",
       "      <td>18.0</td>\n",
       "    </tr>\n",
       "    <tr>\n",
       "      <th>min</th>\n",
       "      <td>1985.0</td>\n",
       "      <td>0.0</td>\n",
       "      <td>0.0</td>\n",
       "      <td>4400.0</td>\n",
       "      <td>0.0</td>\n",
       "      <td>0.0</td>\n",
       "      <td>0.0</td>\n",
       "      <td>1.201313e+09</td>\n",
       "      <td>357.0</td>\n",
       "      <td>0.0</td>\n",
       "      <td>0.0</td>\n",
       "      <td>0.0</td>\n",
       "      <td>0.0</td>\n",
       "    </tr>\n",
       "    <tr>\n",
       "      <th>25%</th>\n",
       "      <td>1992.0</td>\n",
       "      <td>1.0</td>\n",
       "      <td>0.0</td>\n",
       "      <td>424000.0</td>\n",
       "      <td>0.0</td>\n",
       "      <td>0.0</td>\n",
       "      <td>0.0</td>\n",
       "      <td>6.752364e+10</td>\n",
       "      <td>5466.0</td>\n",
       "      <td>0.0</td>\n",
       "      <td>0.0</td>\n",
       "      <td>0.0</td>\n",
       "      <td>2.0</td>\n",
       "    </tr>\n",
       "    <tr>\n",
       "      <th>50%</th>\n",
       "      <td>1999.0</td>\n",
       "      <td>2.0</td>\n",
       "      <td>0.0</td>\n",
       "      <td>1051170.0</td>\n",
       "      <td>2.0</td>\n",
       "      <td>2035576.0</td>\n",
       "      <td>5.0</td>\n",
       "      <td>2.260000e+11</td>\n",
       "      <td>16615.0</td>\n",
       "      <td>17.0</td>\n",
       "      <td>2.0</td>\n",
       "      <td>5.0</td>\n",
       "      <td>8.0</td>\n",
       "    </tr>\n",
       "    <tr>\n",
       "      <th>75%</th>\n",
       "      <td>2009.0</td>\n",
       "      <td>4.0</td>\n",
       "      <td>1.0</td>\n",
       "      <td>3677338.0</td>\n",
       "      <td>41.0</td>\n",
       "      <td>8849590.0</td>\n",
       "      <td>88.0</td>\n",
       "      <td>5.890000e+11</td>\n",
       "      <td>31537.0</td>\n",
       "      <td>34.0</td>\n",
       "      <td>3.0</td>\n",
       "      <td>224.0</td>\n",
       "      <td>19.0</td>\n",
       "    </tr>\n",
       "    <tr>\n",
       "      <th>max</th>\n",
       "      <td>2016.0</td>\n",
       "      <td>5.0</td>\n",
       "      <td>1.0</td>\n",
       "      <td>43805214.0</td>\n",
       "      <td>97.0</td>\n",
       "      <td>158831064.0</td>\n",
       "      <td>172.0</td>\n",
       "      <td>1.810000e+13</td>\n",
       "      <td>109804.0</td>\n",
       "      <td>60.0</td>\n",
       "      <td>6.0</td>\n",
       "      <td>396717.0</td>\n",
       "      <td>178.0</td>\n",
       "    </tr>\n",
       "  </tbody>\n",
       "</table>\n",
       "</div>"
      ],
      "text/plain": [
       "          Year      Age   Gender  Population  Internet_Usage_per_%_Population  \\\n",
       "count  11570.0  11570.0  11570.0     11570.0                          11570.0   \n",
       "mean    2000.0      2.0      0.0   3179703.0                             22.0   \n",
       "std        9.0      2.0      1.0   5227735.0                             30.0   \n",
       "min     1985.0      0.0      0.0      4400.0                              0.0   \n",
       "25%     1992.0      1.0      0.0    424000.0                              0.0   \n",
       "50%     1999.0      2.0      0.0   1051170.0                              2.0   \n",
       "75%     2009.0      4.0      1.0   3677338.0                             41.0   \n",
       "max     2016.0      5.0      1.0  43805214.0                             97.0   \n",
       "\n",
       "       Total_Labour_force  Cellular_subscriptions_per_100_people  \\\n",
       "count             11570.0                                11570.0   \n",
       "mean           11581759.0                                   40.0   \n",
       "std            25834635.0                                   49.0   \n",
       "min                   0.0                                    0.0   \n",
       "25%                   0.0                                    0.0   \n",
       "50%             2035576.0                                    5.0   \n",
       "75%             8849590.0                                   88.0   \n",
       "max           158831064.0                                  172.0   \n",
       "\n",
       "           GDPpyear  GDPpcapital  Expense_%_of_GDP)  \\\n",
       "count  1.157000e+04      11570.0            11570.0   \n",
       "mean   8.354396e+11      21705.0               18.0   \n",
       "std    2.063111e+12      19448.0               17.0   \n",
       "min    1.201313e+09        357.0                0.0   \n",
       "25%    6.752364e+10       5466.0                0.0   \n",
       "50%    2.260000e+11      16615.0               17.0   \n",
       "75%    5.890000e+11      31537.0               34.0   \n",
       "max    1.810000e+13     109804.0               60.0   \n",
       "\n",
       "       Physicians_per_1,000_people)  \\\n",
       "count                       11570.0   \n",
       "mean                            2.0   \n",
       "std                             2.0   \n",
       "min                             0.0   \n",
       "25%                             0.0   \n",
       "50%                             2.0   \n",
       "75%                             3.0   \n",
       "max                             6.0   \n",
       "\n",
       "       Refugee_population_by_country_or_territory_of_origin  Suicidesper100k  \n",
       "count                                            11570.0             11570.0  \n",
       "mean                                             10804.0                14.0  \n",
       "std                                              49933.0                18.0  \n",
       "min                                                  0.0                 0.0  \n",
       "25%                                                  0.0                 2.0  \n",
       "50%                                                  5.0                 8.0  \n",
       "75%                                                224.0                19.0  \n",
       "max                                             396717.0               178.0  "
      ]
     },
     "execution_count": 31,
     "metadata": {},
     "output_type": "execute_result"
    }
   ],
   "source": [
    "sucidedataframe.describe().round()  # Shows the count, mean, std, min, 25%, 50%, 75% and \n",
    "                                    # max of a datframe. Could be useful for feature scaling afterwords."
   ]
  },
  {
   "cell_type": "code",
   "execution_count": 32,
   "id": "158f79ed",
   "metadata": {},
   "outputs": [],
   "source": [
    "sucidedataframe.loc[(sucidedataframe[\"Suicidesper100k\"] < 2), \"Suicidesper100k\"] = 1  # Encoding values above 43 \n",
    "                                                # as and below 86 to 2."
   ]
  },
  {
   "cell_type": "code",
   "execution_count": 33,
   "id": "f16d967c",
   "metadata": {},
   "outputs": [],
   "source": [
    "sucidedataframe.loc[(sucidedataframe[\"Suicidesper100k\"] >= 2) & (sucidedataframe[\"Suicidesper100k\"] < 8), \"Suicidesper100k\"] = 2  # Encoding values above 43 \n",
    "                                                # as and below 86 to 2."
   ]
  },
  {
   "cell_type": "code",
   "execution_count": 34,
   "id": "f52aa649",
   "metadata": {},
   "outputs": [],
   "source": [
    "sucidedataframe.loc[(sucidedataframe[\"Suicidesper100k\"] >= 8) & (sucidedataframe[\"Suicidesper100k\"] < 19), \"Suicidesper100k\"] = 3  # Encoding values above 86 \n",
    "                                                # as and below 172 to 3."
   ]
  },
  {
   "cell_type": "code",
   "execution_count": 35,
   "id": "fc54aaaf",
   "metadata": {},
   "outputs": [],
   "source": [
    "sucidedataframe.loc[(sucidedataframe[\"Suicidesper100k\"] >= 19) & (sucidedataframe[\"Suicidesper100k\"] <= 178), \"Suicidesper100k\"] = 3  # Encoding values above 86 \n",
    "                                                # as and below 172 to 3."
   ]
  },
  {
   "cell_type": "code",
   "execution_count": 36,
   "id": "2d8cca22",
   "metadata": {},
   "outputs": [],
   "source": [
    "sucidedataframe.loc[sucidedataframe[\"Suicidesper100k\"] == 178, \"Suicidesper100k\"] = 4  # Encoding values above 43 \n",
    "                                                # as and below 86 to 2."
   ]
  },
  {
   "cell_type": "code",
   "execution_count": 37,
   "id": "e8ae4ed1",
   "metadata": {},
   "outputs": [
    {
     "name": "stdout",
     "output_type": "stream",
     "text": [
      "Suicidesper100k\n",
      "1.0    2721\n",
      "2.0    3213\n",
      "3.0    5636\n",
      "dtype: int64\n"
     ]
    }
   ],
   "source": [
    "print(sucidedataframe.pivot_table(columns=['Suicidesper100k'], aggfunc='size'))  # counts duplicates in the selected dataframe column."
   ]
  },
  {
   "cell_type": "code",
   "execution_count": 38,
   "id": "8d702306",
   "metadata": {},
   "outputs": [
    {
     "data": {
      "text/html": [
       "<div>\n",
       "<style scoped>\n",
       "    .dataframe tbody tr th:only-of-type {\n",
       "        vertical-align: middle;\n",
       "    }\n",
       "\n",
       "    .dataframe tbody tr th {\n",
       "        vertical-align: top;\n",
       "    }\n",
       "\n",
       "    .dataframe thead th {\n",
       "        text-align: right;\n",
       "    }\n",
       "</style>\n",
       "<table border=\"1\" class=\"dataframe\">\n",
       "  <thead>\n",
       "    <tr style=\"text-align: right;\">\n",
       "      <th></th>\n",
       "      <th>Country</th>\n",
       "      <th>Year</th>\n",
       "      <th>Age</th>\n",
       "      <th>Gender</th>\n",
       "      <th>Population</th>\n",
       "      <th>Internet_Usage_per_%_Population</th>\n",
       "      <th>Total_Labour_force</th>\n",
       "      <th>Cellular_subscriptions_per_100_people</th>\n",
       "      <th>GDPpyear</th>\n",
       "      <th>GDPpcapital</th>\n",
       "      <th>Expense_%_of_GDP)</th>\n",
       "      <th>Physicians_per_1,000_people)</th>\n",
       "      <th>Refugee_population_by_country_or_territory_of_origin</th>\n",
       "      <th>Suicidesper100k</th>\n",
       "    </tr>\n",
       "  </thead>\n",
       "  <tbody>\n",
       "    <tr>\n",
       "      <th>0</th>\n",
       "      <td>Argentina</td>\n",
       "      <td>1985</td>\n",
       "      <td>5</td>\n",
       "      <td>1</td>\n",
       "      <td>363000</td>\n",
       "      <td>0.0</td>\n",
       "      <td>0</td>\n",
       "      <td>0.0</td>\n",
       "      <td>8.841667e+10</td>\n",
       "      <td>3264</td>\n",
       "      <td>0.0</td>\n",
       "      <td>0.0</td>\n",
       "      <td>0.0</td>\n",
       "      <td>3.0</td>\n",
       "    </tr>\n",
       "    <tr>\n",
       "      <th>1</th>\n",
       "      <td>Argentina</td>\n",
       "      <td>1985</td>\n",
       "      <td>4</td>\n",
       "      <td>1</td>\n",
       "      <td>1997000</td>\n",
       "      <td>0.0</td>\n",
       "      <td>0</td>\n",
       "      <td>0.0</td>\n",
       "      <td>8.841667e+10</td>\n",
       "      <td>3264</td>\n",
       "      <td>0.0</td>\n",
       "      <td>0.0</td>\n",
       "      <td>0.0</td>\n",
       "      <td>3.0</td>\n",
       "    </tr>\n",
       "    <tr>\n",
       "      <th>2</th>\n",
       "      <td>Argentina</td>\n",
       "      <td>1985</td>\n",
       "      <td>2</td>\n",
       "      <td>1</td>\n",
       "      <td>3346300</td>\n",
       "      <td>0.0</td>\n",
       "      <td>0</td>\n",
       "      <td>0.0</td>\n",
       "      <td>8.841667e+10</td>\n",
       "      <td>3264</td>\n",
       "      <td>0.0</td>\n",
       "      <td>0.0</td>\n",
       "      <td>0.0</td>\n",
       "      <td>3.0</td>\n",
       "    </tr>\n",
       "    <tr>\n",
       "      <th>3</th>\n",
       "      <td>Argentina</td>\n",
       "      <td>1985</td>\n",
       "      <td>4</td>\n",
       "      <td>0</td>\n",
       "      <td>2304000</td>\n",
       "      <td>0.0</td>\n",
       "      <td>0</td>\n",
       "      <td>0.0</td>\n",
       "      <td>8.841667e+10</td>\n",
       "      <td>3264</td>\n",
       "      <td>0.0</td>\n",
       "      <td>0.0</td>\n",
       "      <td>0.0</td>\n",
       "      <td>3.0</td>\n",
       "    </tr>\n",
       "    <tr>\n",
       "      <th>4</th>\n",
       "      <td>Argentina</td>\n",
       "      <td>1985</td>\n",
       "      <td>1</td>\n",
       "      <td>1</td>\n",
       "      <td>2234200</td>\n",
       "      <td>0.0</td>\n",
       "      <td>0</td>\n",
       "      <td>0.0</td>\n",
       "      <td>8.841667e+10</td>\n",
       "      <td>3264</td>\n",
       "      <td>0.0</td>\n",
       "      <td>0.0</td>\n",
       "      <td>0.0</td>\n",
       "      <td>2.0</td>\n",
       "    </tr>\n",
       "  </tbody>\n",
       "</table>\n",
       "</div>"
      ],
      "text/plain": [
       "     Country  Year  Age  Gender  Population  Internet_Usage_per_%_Population  \\\n",
       "0  Argentina  1985    5       1      363000                              0.0   \n",
       "1  Argentina  1985    4       1     1997000                              0.0   \n",
       "2  Argentina  1985    2       1     3346300                              0.0   \n",
       "3  Argentina  1985    4       0     2304000                              0.0   \n",
       "4  Argentina  1985    1       1     2234200                              0.0   \n",
       "\n",
       "   Total_Labour_force  Cellular_subscriptions_per_100_people      GDPpyear  \\\n",
       "0                   0                                    0.0  8.841667e+10   \n",
       "1                   0                                    0.0  8.841667e+10   \n",
       "2                   0                                    0.0  8.841667e+10   \n",
       "3                   0                                    0.0  8.841667e+10   \n",
       "4                   0                                    0.0  8.841667e+10   \n",
       "\n",
       "   GDPpcapital  Expense_%_of_GDP)  Physicians_per_1,000_people)  \\\n",
       "0         3264                0.0                           0.0   \n",
       "1         3264                0.0                           0.0   \n",
       "2         3264                0.0                           0.0   \n",
       "3         3264                0.0                           0.0   \n",
       "4         3264                0.0                           0.0   \n",
       "\n",
       "   Refugee_population_by_country_or_territory_of_origin  Suicidesper100k  \n",
       "0                                                0.0                 3.0  \n",
       "1                                                0.0                 3.0  \n",
       "2                                                0.0                 3.0  \n",
       "3                                                0.0                 3.0  \n",
       "4                                                0.0                 2.0  "
      ]
     },
     "execution_count": 38,
     "metadata": {},
     "output_type": "execute_result"
    }
   ],
   "source": [
    "sucidedataframe.head()"
   ]
  },
  {
   "cell_type": "code",
   "execution_count": 39,
   "id": "b28c46b1",
   "metadata": {},
   "outputs": [
    {
     "name": "stdout",
     "output_type": "stream",
     "text": [
      "<class 'pandas.core.frame.DataFrame'>\n",
      "RangeIndex: 11570 entries, 0 to 11569\n",
      "Data columns (total 14 columns):\n",
      " #   Column                                                Non-Null Count  Dtype  \n",
      "---  ------                                                --------------  -----  \n",
      " 0   Country                                               11570 non-null  object \n",
      " 1   Year                                                  11570 non-null  int64  \n",
      " 2   Age                                                   11570 non-null  int32  \n",
      " 3   Gender                                                11570 non-null  int32  \n",
      " 4   Population                                            11570 non-null  int64  \n",
      " 5   Internet_Usage_per_%_Population                       11570 non-null  float64\n",
      " 6   Total_Labour_force                                    11570 non-null  int64  \n",
      " 7   Cellular_subscriptions_per_100_people                 11570 non-null  float64\n",
      " 8   GDPpyear                                              11570 non-null  float64\n",
      " 9   GDPpcapital                                           11570 non-null  int64  \n",
      " 10  Expense_%_of_GDP)                                     11570 non-null  float64\n",
      " 11  Physicians_per_1,000_people)                          11570 non-null  float64\n",
      " 12  Refugee_population_by_country_or_territory_of_origin  11570 non-null  float64\n",
      " 13  Suicidesper100k                                       11570 non-null  float64\n",
      "dtypes: float64(7), int32(2), int64(4), object(1)\n",
      "memory usage: 1.1+ MB\n"
     ]
    }
   ],
   "source": [
    "sucidedataframe.info()  # checking Basic information on the dataframe being procesed."
   ]
  },
  {
   "cell_type": "code",
   "execution_count": 46,
   "id": "8a351a31",
   "metadata": {},
   "outputs": [],
   "source": [
    "sucidedataframe['Internet_Usage_per_%_Population'] = sucidedataframe['Internet_Usage_per_%_Population'].astype(np.int64)  # converting float to int."
   ]
  },
  {
   "cell_type": "code",
   "execution_count": 47,
   "id": "8f9daa22",
   "metadata": {},
   "outputs": [],
   "source": [
    "sucidedataframe['Cellular_subscriptions_per_100_people'] = sucidedataframe['Cellular_subscriptions_per_100_people'].astype(np.int64)  # converting float to int."
   ]
  },
  {
   "cell_type": "code",
   "execution_count": 48,
   "id": "fb885cf6",
   "metadata": {},
   "outputs": [],
   "source": [
    "sucidedataframe['Suicidesper100k'] = sucidedataframe['Suicidesper100k'].astype(np.int64)  # converting float to int."
   ]
  },
  {
   "cell_type": "code",
   "execution_count": 49,
   "id": "27aa3879",
   "metadata": {},
   "outputs": [],
   "source": [
    "sucidedataframe['Age'] = sucidedataframe['Age'].astype(np.int64)  # converting float to int."
   ]
  },
  {
   "cell_type": "code",
   "execution_count": 50,
   "id": "39f465b6",
   "metadata": {},
   "outputs": [],
   "source": [
    "sucidedataframe['Gender'] = sucidedataframe['Gender'].astype(np.int64)  # converting float to int."
   ]
  },
  {
   "cell_type": "code",
   "execution_count": 51,
   "id": "84672158",
   "metadata": {},
   "outputs": [],
   "source": [
    "sucidedataframe['GDPpyear'] = sucidedataframe['GDPpyear'].astype(np.int64)  # converting float to int."
   ]
  },
  {
   "cell_type": "code",
   "execution_count": 52,
   "id": "e846618a",
   "metadata": {},
   "outputs": [],
   "source": [
    "sucidedataframe['Expense_%_of_GDP)'] = sucidedataframe['Expense_%_of_GDP)'].astype(np.int64)  # converting float to int."
   ]
  },
  {
   "cell_type": "code",
   "execution_count": 53,
   "id": "a5b36e0c",
   "metadata": {},
   "outputs": [],
   "source": [
    "sucidedataframe['Physicians_per_1,000_people)'] = sucidedataframe['Physicians_per_1,000_people)'].astype(np.int64)  # converting float to int."
   ]
  },
  {
   "cell_type": "code",
   "execution_count": 54,
   "id": "a078a799",
   "metadata": {},
   "outputs": [],
   "source": [
    "sucidedataframe['Refugee_population_by_country_or_territory_of_origin'] = sucidedataframe['Refugee_population_by_country_or_territory_of_origin'].astype(np.int64)  # converting float to int."
   ]
  },
  {
   "cell_type": "code",
   "execution_count": 56,
   "id": "8dda7d3a",
   "metadata": {},
   "outputs": [
    {
     "name": "stdout",
     "output_type": "stream",
     "text": [
      "<class 'pandas.core.frame.DataFrame'>\n",
      "RangeIndex: 11570 entries, 0 to 11569\n",
      "Data columns (total 14 columns):\n",
      " #   Column                                                Non-Null Count  Dtype \n",
      "---  ------                                                --------------  ----- \n",
      " 0   Country                                               11570 non-null  object\n",
      " 1   Year                                                  11570 non-null  int64 \n",
      " 2   Age                                                   11570 non-null  int64 \n",
      " 3   Gender                                                11570 non-null  int64 \n",
      " 4   Population                                            11570 non-null  int64 \n",
      " 5   Internet_Usage_per_%_Population                       11570 non-null  int64 \n",
      " 6   Total_Labour_force                                    11570 non-null  int64 \n",
      " 7   Cellular_subscriptions_per_100_people                 11570 non-null  int64 \n",
      " 8   GDPpyear                                              11570 non-null  int64 \n",
      " 9   GDPpcapital                                           11570 non-null  int64 \n",
      " 10  Expense_%_of_GDP)                                     11570 non-null  int64 \n",
      " 11  Physicians_per_1,000_people)                          11570 non-null  int64 \n",
      " 12  Refugee_population_by_country_or_territory_of_origin  11570 non-null  int64 \n",
      " 13  Suicidesper100k                                       11570 non-null  int64 \n",
      "dtypes: int64(13), object(1)\n",
      "memory usage: 1.2+ MB\n"
     ]
    }
   ],
   "source": [
    "sucidedataframe.info()  # checking Basic information on the dataframe being procesed."
   ]
  },
  {
   "cell_type": "code",
   "execution_count": 55,
   "id": "30ddecf5",
   "metadata": {},
   "outputs": [
    {
     "data": {
      "text/plain": [
       "<AxesSubplot:>"
      ]
     },
     "execution_count": 55,
     "metadata": {},
     "output_type": "execute_result"
    },
    {
     "data": {
      "image/png": "[encoded data removed]",
      "text/plain": [
       "<Figure size 864x648 with 2 Axes>"
      ]
     },
     "metadata": {
      "needs_background": "light"
     },
     "output_type": "display_data"
    }
   ],
   "source": [
    "plt.figure(figsize = (12,9))  # sets the size of the matrix\n",
    "correlation_matrix = sucidedataframe.corr().round(2)  # creates the correlation matrix\n",
    "sns.heatmap(data = correlation_matrix, annot = True)  # shows correlation matrix"
   ]
  },
  {
   "cell_type": "code",
   "execution_count": 58,
   "id": "b711f885",
   "metadata": {},
   "outputs": [],
   "source": [
    "# Below the col names are renamed.\n",
    "sucidedataframe = sucidedataframe[[\"Country\", \"Age\", \"Gender\", \"Population\", \\\n",
    "\"Internet_Usage_per_%_Population\", \"Total_Labour_force\", \"Cellular_subscriptions_per_100_people\", \\\n",
    "\"GDPpyear\",\"GDPpcapital\",\"Expense_%_of_GDP)\",\\\n",
    "\"Physicians_per_1,000_people)\" ,\"Suicidesper100k\"]]"
   ]
  },
  {
   "cell_type": "code",
   "execution_count": 59,
   "id": "02ac186f",
   "metadata": {},
   "outputs": [
    {
     "data": {
      "text/plain": [
       "<AxesSubplot:>"
      ]
     },
     "execution_count": 59,
     "metadata": {},
     "output_type": "execute_result"
    },
    {
     "data": {
      "image/png": "[encoded data removed]",
      "text/plain": [
       "<Figure size 864x648 with 2 Axes>"
      ]
     },
     "metadata": {
      "needs_background": "light"
     },
     "output_type": "display_data"
    }
   ],
   "source": [
    "plt.figure(figsize = (12,9))  # sets the size of the matrix\n",
    "correlation_matrix = sucidedataframe.corr().round(2)  # creates the correlation matrix\n",
    "sns.heatmap(data = correlation_matrix, annot = True)  # shows correlation matrix"
   ]
  },
  {
   "cell_type": "code",
   "execution_count": null,
   "id": "11e9ba99",
   "metadata": {},
   "outputs": [],
   "source": [
    "# COLUMNS TO KEEP\n",
    " # Psyscians , expences, gdp per cap, gdp per year, expences % gdp ,total labour force, internet usage per pop, population,\n",
    " # gender, age\n",
    "\n",
    "# columns to remove from the above\n",
    "# column                              -          has high corelation to \n",
    "# total labour force                  -          population/internet usage/gdp per cap/gdp per year/expences per gdp/psycians/\n",
    "\n"
   ]
  },
  {
   "cell_type": "code",
   "execution_count": 61,
   "id": "2531b237",
   "metadata": {},
   "outputs": [],
   "source": [
    "sucidedataframe = sucidedataframe.drop('Total_Labour_force', 1)"
   ]
  },
  {
   "cell_type": "code",
   "execution_count": 63,
   "id": "f4f4e400",
   "metadata": {},
   "outputs": [
    {
     "data": {
      "text/plain": [
       "<AxesSubplot:>"
      ]
     },
     "execution_count": 63,
     "metadata": {},
     "output_type": "execute_result"
    },
    {
     "data": {
      "image/png": "[encoded data removed]",
      "text/plain": [
       "<Figure size 864x648 with 2 Axes>"
      ]
     },
     "metadata": {
      "needs_background": "light"
     },
     "output_type": "display_data"
    }
   ],
   "source": [
    "plt.figure(figsize = (12,9))  # sets the size of the matrix\n",
    "correlation_matrix = sucidedataframe.corr().round(2)  # creates the correlation matrix\n",
    "sns.heatmap(data = correlation_matrix, annot = True)  # shows correlation matrix"
   ]
  },
  {
   "cell_type": "code",
   "execution_count": 64,
   "id": "d797e308",
   "metadata": {},
   "outputs": [],
   "source": [
    "sucidedataframe = sucidedataframe.drop('GDPpyear', 1)"
   ]
  },
  {
   "cell_type": "code",
   "execution_count": 65,
   "id": "276b6432",
   "metadata": {},
   "outputs": [
    {
     "data": {
      "text/plain": [
       "<AxesSubplot:>"
      ]
     },
     "execution_count": 65,
     "metadata": {},
     "output_type": "execute_result"
    },
    {
     "data": {
      "image/png": "[encoded data removed]",
      "text/plain": [
       "<Figure size 864x648 with 2 Axes>"
      ]
     },
     "metadata": {
      "needs_background": "light"
     },
     "output_type": "display_data"
    }
   ],
   "source": [
    "plt.figure(figsize = (12,9))  # sets the size of the matrix\n",
    "correlation_matrix = sucidedataframe.corr().round(2)  # creates the correlation matrix\n",
    "sns.heatmap(data = correlation_matrix, annot = True)  # shows correlation matrix"
   ]
  },
  {
   "cell_type": "code",
   "execution_count": 67,
   "id": "57c97666",
   "metadata": {},
   "outputs": [
    {
     "data": {
      "text/plain": [
       "Index(['Country', 'Age', 'Gender', 'Population',\n",
       "       'Internet_Usage_per_%_Population',\n",
       "       'Cellular_subscriptions_per_100_people', 'GDPpcapital',\n",
       "       'Expense_%_of_GDP)', 'Physicians_per_1,000_people)', 'Suicidesper100k'],\n",
       "      dtype='object')"
      ]
     },
     "execution_count": 67,
     "metadata": {},
     "output_type": "execute_result"
    }
   ],
   "source": [
    "sucidedataframe.columns  # The columns of the dataframe are viewed."
   ]
  },
  {
   "cell_type": "code",
   "execution_count": 68,
   "id": "827d3eed",
   "metadata": {},
   "outputs": [],
   "source": [
    "sucidedataframe = sucidedataframe.drop('Internet_Usage_per_%_Population', 1)\n",
    "sucidedataframe = sucidedataframe.drop('Cellular_subscriptions_per_100_people', 1)\n",
    "sucidedataframe = sucidedataframe.drop('Expense_%_of_GDP)', 1)\n",
    "sucidedataframe = sucidedataframe.drop('Physicians_per_1,000_people)', 1)"
   ]
  },
  {
   "cell_type": "code",
   "execution_count": 69,
   "id": "626ab107",
   "metadata": {},
   "outputs": [
    {
     "data": {
      "text/plain": [
       "<AxesSubplot:>"
      ]
     },
     "execution_count": 69,
     "metadata": {},
     "output_type": "execute_result"
    },
    {
     "data": {
      "image/png": "[encoded data removed]",
      "text/plain": [
       "<Figure size 864x648 with 2 Axes>"
      ]
     },
     "metadata": {
      "needs_background": "light"
     },
     "output_type": "display_data"
    }
   ],
   "source": [
    "plt.figure(figsize = (12,9))  # sets the size of the matrix\n",
    "correlation_matrix = sucidedataframe.corr().round(2)  # creates the correlation matrix\n",
    "sns.heatmap(data = correlation_matrix, annot = True)  # shows correlation matrix"
   ]
  },
  {
   "cell_type": "markdown",
   "id": "d4a78be8",
   "metadata": {},
   "source": [
    "### selecting X and Y values "
   ]
  },
  {
   "cell_type": "code",
   "execution_count": 70,
   "id": "633dc850",
   "metadata": {},
   "outputs": [],
   "source": [
    "X = sucidedataframe.iloc[:, :-1].values  # selecting the values for the X variable.\n",
    "X_before_encoding = X"
   ]
  },
  {
   "cell_type": "code",
   "execution_count": 71,
   "id": "b01cc0ce",
   "metadata": {},
   "outputs": [],
   "source": [
    "y = sucidedataframe[[\"Suicidesper100k\"]].to_numpy()  # selecting the values for the Y variable. # done using .to_numpy and not \n",
    "                                                       # .iloc as .to_numpy creates a horizontal bar while .iloc creates a \n",
    "                                                       # horizontal bar which will not alighn with the x values."
   ]
  },
  {
   "cell_type": "code",
   "execution_count": 72,
   "id": "4557fe0a",
   "metadata": {},
   "outputs": [
    {
     "name": "stdout",
     "output_type": "stream",
     "text": [
      "[['Argentina' 5 1 363000 3264]\n",
      " ['Argentina' 4 1 1997000 3264]\n",
      " ['Argentina' 2 1 3346300 3264]\n",
      " ...\n",
      " ['Uzbekistan' 3 1 2762158 2309]\n",
      " ['Uzbekistan' 3 0 2631600 2309]\n",
      " ['Uzbekistan' 4 0 1438935 2309]]\n"
     ]
    }
   ],
   "source": [
    "print(X)"
   ]
  },
  {
   "cell_type": "code",
   "execution_count": 73,
   "id": "76222253",
   "metadata": {},
   "outputs": [
    {
     "name": "stdout",
     "output_type": "stream",
     "text": [
      "[[3]\n",
      " [3]\n",
      " [3]\n",
      " ...\n",
      " [2]\n",
      " [1]\n",
      " [1]]\n"
     ]
    }
   ],
   "source": [
    "print(y)"
   ]
  },
  {
   "cell_type": "markdown",
   "id": "1464be8b",
   "metadata": {},
   "source": [
    "### One Hot Encoding"
   ]
  },
  {
   "cell_type": "code",
   "execution_count": 74,
   "id": "e5cbdbdb",
   "metadata": {
    "scrolled": true
   },
   "outputs": [
    {
     "data": {
      "text/plain": [
       "Country\n",
       "Argentina             192\n",
       "Armenia               178\n",
       "Australia             300\n",
       "Austria               334\n",
       "Azerbaijan            120\n",
       "Belgium               312\n",
       "Brazil                336\n",
       "Bulgaria              216\n",
       "Canada                276\n",
       "Chile                 264\n",
       "Colombia              240\n",
       "Croatia               250\n",
       "Cuba                   60\n",
       "Czech Republic        286\n",
       "Denmark               240\n",
       "Finland               324\n",
       "France                192\n",
       "Georgia               216\n",
       "Germany               276\n",
       "Greece                312\n",
       "Hungary               286\n",
       "Iceland               358\n",
       "Ireland               300\n",
       "Israel                312\n",
       "Italy                 324\n",
       "Jamaica                96\n",
       "Japan                 252\n",
       "Mexico                288\n",
       "Mongolia               10\n",
       "Netherlands           298\n",
       "New Zealand           228\n",
       "Norway                336\n",
       "Poland                252\n",
       "Portugal              324\n",
       "Romania               274\n",
       "Russian Federation    252\n",
       "South Africa           96\n",
       "Spain                 372\n",
       "Sweden                334\n",
       "Switzerland           180\n",
       "Thailand              298\n",
       "Turkey                 84\n",
       "Turkmenistan          120\n",
       "Ukraine               204\n",
       "United Kingdom        300\n",
       "United States         360\n",
       "Uzbekistan            108\n",
       "dtype: int64"
      ]
     },
     "execution_count": 74,
     "metadata": {},
     "output_type": "execute_result"
    }
   ],
   "source": [
    "# count duplicates function learned from: https://datatofish.com/count-duplicates-pandas/\n",
    "sucidedataframe.pivot_table(columns=['Country'], aggfunc='size')  # counts duplicates in the selected dataframe column."
   ]
  },
  {
   "cell_type": "code",
   "execution_count": 75,
   "id": "ebed7843",
   "metadata": {},
   "outputs": [],
   "source": [
    "ct = ColumnTransformer(transformers=[('encoder', OneHotEncoder(), [0])], remainder='passthrough')    \n",
    "# transformers= [('what to do', method , [index of column to apply method on])]\n",
    "# remainder='what to do with the remaining columns'\n",
    "\n",
    "X = ct.fit_transform(X).toarray()  # applies the above method on the given array."
   ]
  },
  {
   "cell_type": "code",
   "execution_count": 76,
   "id": "20c571c0",
   "metadata": {},
   "outputs": [
    {
     "name": "stdout",
     "output_type": "stream",
     "text": [
      "['Argentina' 5 1 363000 3264]\n"
     ]
    }
   ],
   "source": [
    "print(X_before_encoding[0])"
   ]
  },
  {
   "cell_type": "code",
   "execution_count": 77,
   "id": "8b8ae3e0",
   "metadata": {},
   "outputs": [
    {
     "name": "stdout",
     "output_type": "stream",
     "text": [
      "363000.0\n"
     ]
    }
   ],
   "source": [
    "print(X[0][49])"
   ]
  },
  {
   "cell_type": "code",
   "execution_count": 78,
   "id": "b3a4cdae",
   "metadata": {},
   "outputs": [
    {
     "name": "stdout",
     "output_type": "stream",
     "text": [
      "[1.000e+00 0.000e+00 0.000e+00 0.000e+00 0.000e+00 0.000e+00 0.000e+00\n",
      " 0.000e+00 0.000e+00 0.000e+00 0.000e+00 0.000e+00 0.000e+00 0.000e+00\n",
      " 0.000e+00 0.000e+00 0.000e+00 0.000e+00 0.000e+00 0.000e+00 0.000e+00\n",
      " 0.000e+00 0.000e+00 0.000e+00 0.000e+00 0.000e+00 0.000e+00 0.000e+00\n",
      " 0.000e+00 0.000e+00 0.000e+00 0.000e+00 0.000e+00 0.000e+00 0.000e+00\n",
      " 0.000e+00 0.000e+00 0.000e+00 0.000e+00 0.000e+00 0.000e+00 0.000e+00\n",
      " 0.000e+00 0.000e+00 0.000e+00 0.000e+00 0.000e+00 5.000e+00 1.000e+00\n",
      " 3.630e+05 3.264e+03]\n"
     ]
    }
   ],
   "source": [
    "print(X[0])"
   ]
  },
  {
   "cell_type": "markdown",
   "id": "e7f842b6",
   "metadata": {},
   "source": [
    "## Spliting the datasets into a training and test set "
   ]
  },
  {
   "cell_type": "code",
   "execution_count": 79,
   "id": "a5234297",
   "metadata": {},
   "outputs": [],
   "source": [
    "X_train, X_test, y_train, y_test = train_test_split(X, y, test_size = 0.2, random_state = 1)\n",
    "# test_size = 0.2               # splitting the data into 80 and 20 percent between the training and test set           \n",
    "                                            # to get the best results.                                                           \n",
    "# random_state = 1         # resetting the  random seed"
   ]
  },
  {
   "cell_type": "code",
   "execution_count": 80,
   "id": "a2ea8e34",
   "metadata": {},
   "outputs": [],
   "source": [
    "UnScaled_X_train,UnScaled_X_test, y_train, y_test = train_test_split(X, y, test_size = 0.2, random_state = 1)\n",
    "# test_size = 0.2               # splitting the data into 80 and 20 percent between the training and test set           \n",
    "                                            # to get the best results.                                                           \n",
    "# random_state = 1         # resetting the  random seed"
   ]
  },
  {
   "cell_type": "code",
   "execution_count": 82,
   "id": "5d0b568a",
   "metadata": {},
   "outputs": [
    {
     "name": "stdout",
     "output_type": "stream",
     "text": [
      "The length of X_train is  9256  and the length of y_train is  9256\n",
      "The length of X_test is  2314  and the length of y_test is  2314\n"
     ]
    }
   ],
   "source": [
    "# print the lenghth of both test and train set to see if there equally split.\n",
    "print(\"The length of X_train is \",len(X_train), \" and the length of y_train is \", len(y_train))  \n",
    "print(\"The length of X_test is \",len(X_test), \" and the length of y_test is \", len(y_test))"
   ]
  },
  {
   "cell_type": "code",
   "execution_count": 83,
   "id": "08e87fc9",
   "metadata": {},
   "outputs": [
    {
     "name": "stdout",
     "output_type": "stream",
     "text": [
      "X_test  [[0.000000e+00 0.000000e+00 0.000000e+00 ... 1.000000e+00 3.281123e+06\n",
      "  5.466000e+03]\n",
      " [0.000000e+00 0.000000e+00 0.000000e+00 ... 1.000000e+00 5.869648e+06\n",
      "  2.334200e+04]\n",
      " [0.000000e+00 0.000000e+00 0.000000e+00 ... 1.000000e+00 1.006200e+07\n",
      "  2.668700e+04]\n",
      " ...\n",
      " [0.000000e+00 0.000000e+00 0.000000e+00 ... 0.000000e+00 5.118600e+05\n",
      "  4.897700e+04]\n",
      " [0.000000e+00 0.000000e+00 0.000000e+00 ... 1.000000e+00 3.679000e+05\n",
      "  2.448000e+03]\n",
      " [0.000000e+00 0.000000e+00 0.000000e+00 ... 0.000000e+00 3.582800e+06\n",
      "  1.081000e+03]] \n",
      "y_test  [[3]\n",
      " [3]\n",
      " [3]\n",
      " ...\n",
      " [1]\n",
      " [1]\n",
      " [2]] \n",
      "X_train  [[0.000000e+00 0.000000e+00 0.000000e+00 ... 1.000000e+00 6.004570e+05\n",
      "  2.262300e+04]\n",
      " [0.000000e+00 0.000000e+00 0.000000e+00 ... 1.000000e+00 6.449100e+06\n",
      "  1.607000e+03]\n",
      " [0.000000e+00 0.000000e+00 0.000000e+00 ... 1.000000e+00 1.456471e+06\n",
      "  1.914000e+03]\n",
      " ...\n",
      " [0.000000e+00 0.000000e+00 0.000000e+00 ... 0.000000e+00 1.265873e+06\n",
      "  4.269800e+04]\n",
      " [0.000000e+00 0.000000e+00 0.000000e+00 ... 1.000000e+00 6.377750e+05\n",
      "  1.308700e+04]\n",
      " [0.000000e+00 1.000000e+00 0.000000e+00 ... 0.000000e+00 3.359000e+05\n",
      "  3.570000e+02]] \n",
      "y_train  [[1]\n",
      " [3]\n",
      " [1]\n",
      " ...\n",
      " [2]\n",
      " [3]\n",
      " [1]]\n"
     ]
    }
   ],
   "source": [
    "# print both test and train set to see them.\n",
    "print(\"X_test \", X_test, \"\\ny_test \", y_test, \"\\nX_train \", X_train, \"\\ny_train \", y_train)"
   ]
  },
  {
   "cell_type": "code",
   "execution_count": 84,
   "id": "84367258",
   "metadata": {},
   "outputs": [
    {
     "name": "stdout",
     "output_type": "stream",
     "text": [
      "X_test  [[0.000000e+00 0.000000e+00 0.000000e+00 ... 1.000000e+00 3.281123e+06\n",
      "  5.466000e+03]\n",
      " [0.000000e+00 0.000000e+00 0.000000e+00 ... 1.000000e+00 5.869648e+06\n",
      "  2.334200e+04]\n",
      " [0.000000e+00 0.000000e+00 0.000000e+00 ... 1.000000e+00 1.006200e+07\n",
      "  2.668700e+04]\n",
      " ...\n",
      " [0.000000e+00 0.000000e+00 0.000000e+00 ... 0.000000e+00 5.118600e+05\n",
      "  4.897700e+04]\n",
      " [0.000000e+00 0.000000e+00 0.000000e+00 ... 1.000000e+00 3.679000e+05\n",
      "  2.448000e+03]\n",
      " [0.000000e+00 0.000000e+00 0.000000e+00 ... 0.000000e+00 3.582800e+06\n",
      "  1.081000e+03]] \n",
      "y_test  [[3]\n",
      " [3]\n",
      " [3]\n",
      " ...\n",
      " [1]\n",
      " [1]\n",
      " [2]] \n",
      "X_train  [[0.000000e+00 0.000000e+00 0.000000e+00 ... 1.000000e+00 6.004570e+05\n",
      "  2.262300e+04]\n",
      " [0.000000e+00 0.000000e+00 0.000000e+00 ... 1.000000e+00 6.449100e+06\n",
      "  1.607000e+03]\n",
      " [0.000000e+00 0.000000e+00 0.000000e+00 ... 1.000000e+00 1.456471e+06\n",
      "  1.914000e+03]\n",
      " ...\n",
      " [0.000000e+00 0.000000e+00 0.000000e+00 ... 0.000000e+00 1.265873e+06\n",
      "  4.269800e+04]\n",
      " [0.000000e+00 0.000000e+00 0.000000e+00 ... 1.000000e+00 6.377750e+05\n",
      "  1.308700e+04]\n",
      " [0.000000e+00 1.000000e+00 0.000000e+00 ... 0.000000e+00 3.359000e+05\n",
      "  3.570000e+02]] \n",
      "y_train  [[1]\n",
      " [3]\n",
      " [1]\n",
      " ...\n",
      " [2]\n",
      " [3]\n",
      " [1]]\n"
     ]
    }
   ],
   "source": [
    "# print both test and train set to see them.\n",
    "print(\"X_test \", X_test, \"\\ny_test \", y_test, \"\\nX_train \", X_train, \"\\ny_train \", y_train)"
   ]
  },
  {
   "cell_type": "code",
   "execution_count": 85,
   "id": "9166d9b5",
   "metadata": {},
   "outputs": [
    {
     "data": {
      "text/plain": [
       "600457.0"
      ]
     },
     "execution_count": 85,
     "metadata": {},
     "output_type": "execute_result"
    }
   ],
   "source": [
    "UnScaled_X_train[0][49]"
   ]
  },
  {
   "cell_type": "code",
   "execution_count": 86,
   "id": "dc1d061f",
   "metadata": {},
   "outputs": [
    {
     "data": {
      "text/plain": [
       "3281123.0"
      ]
     },
     "execution_count": 86,
     "metadata": {},
     "output_type": "execute_result"
    }
   ],
   "source": [
    "UnScaled_X_test[0][49]"
   ]
  },
  {
   "cell_type": "markdown",
   "id": "83512843",
   "metadata": {},
   "source": [
    "## Feature Scaling "
   ]
  },
  {
   "cell_type": "code",
   "execution_count": 87,
   "id": "0f794b0e",
   "metadata": {},
   "outputs": [
    {
     "name": "stdout",
     "output_type": "stream",
     "text": [
      "['Argentina' 5 1 363000 3264]\n"
     ]
    }
   ],
   "source": [
    "print(X_before_encoding[0])"
   ]
  },
  {
   "cell_type": "code",
   "execution_count": 88,
   "id": "a6d19dff",
   "metadata": {},
   "outputs": [
    {
     "name": "stdout",
     "output_type": "stream",
     "text": [
      "363000.0\n"
     ]
    }
   ],
   "source": [
    "print(X[0][49])"
   ]
  },
  {
   "cell_type": "code",
   "execution_count": 89,
   "id": "c3791c50",
   "metadata": {},
   "outputs": [
    {
     "data": {
      "text/plain": [
       "600457.0"
      ]
     },
     "execution_count": 89,
     "metadata": {},
     "output_type": "execute_result"
    }
   ],
   "source": [
    "X_train[0][49]  # checking element in the 0th index"
   ]
  },
  {
   "cell_type": "code",
   "execution_count": 90,
   "id": "7bbde5bc",
   "metadata": {},
   "outputs": [],
   "source": [
    "sc = StandardScaler()  # creating an instance of the object.\n",
    "\n",
    "X_train[:, 49:] = sc.fit_transform(X_train[:, 49:])  # Scaling x_train\n",
    "X_test[:,49:] = sc.transform(X_test[:, 49:])  # Scaling y_train"
   ]
  },
  {
   "cell_type": "code",
   "execution_count": 91,
   "id": "99495342",
   "metadata": {},
   "outputs": [
    {
     "name": "stdout",
     "output_type": "stream",
     "text": [
      "X_test  [[ 0.          0.          0.         ...  1.          0.01926213\n",
      "  -0.84315757]\n",
      " [ 0.          0.          0.         ...  1.          0.51352086\n",
      "   0.08044688]\n",
      " [ 0.          0.          0.         ...  1.          1.31401788\n",
      "   0.25327397]\n",
      " ...\n",
      " [ 0.          0.          0.         ...  0.         -0.50950712\n",
      "   1.40493783]\n",
      " [ 0.          0.          0.         ...  1.         -0.53699516\n",
      "  -0.99908945]\n",
      " [ 0.          0.          0.         ...  0.          0.076865\n",
      "  -1.06971863]] \n",
      "\n",
      "X_train  [[ 0.          0.          0.         ...  1.         -0.49259021\n",
      "   0.0432981 ]\n",
      " [ 0.          0.          0.         ...  1.          0.62416271\n",
      "  -1.04254164]\n",
      " [ 0.          0.          0.         ...  1.         -0.32914099\n",
      "  -1.02667978]\n",
      " ...\n",
      " [ 0.          0.          0.         ...  0.         -0.3655342\n",
      "   1.08051893]\n",
      " [ 0.          0.          0.         ...  1.         -0.48546463\n",
      "  -0.44940116]\n",
      " [ 0.          1.          0.         ...  0.         -0.54310531\n",
      "  -1.10712575]]\n"
     ]
    }
   ],
   "source": [
    "print(\"X_test \", X_test,\"\\n\\nX_train \", X_train)  # printing the sets after feature scaling."
   ]
  },
  {
   "cell_type": "code",
   "execution_count": 92,
   "id": "70a8d713",
   "metadata": {},
   "outputs": [
    {
     "data": {
      "text/plain": [
       "-0.4925902104344541"
      ]
     },
     "execution_count": 92,
     "metadata": {},
     "output_type": "execute_result"
    }
   ],
   "source": [
    "X_train[0][49]"
   ]
  },
  {
   "cell_type": "code",
   "execution_count": 93,
   "id": "9c6359f5",
   "metadata": {},
   "outputs": [
    {
     "data": {
      "text/plain": [
       "600457.0"
      ]
     },
     "execution_count": 93,
     "metadata": {},
     "output_type": "execute_result"
    }
   ],
   "source": [
    "UnScaled_X_train[0][49]"
   ]
  },
  {
   "cell_type": "code",
   "execution_count": 94,
   "id": "1a33d209",
   "metadata": {},
   "outputs": [
    {
     "data": {
      "text/plain": [
       "0.01926212630240005"
      ]
     },
     "execution_count": 94,
     "metadata": {},
     "output_type": "execute_result"
    }
   ],
   "source": [
    "X_test[0][49]"
   ]
  },
  {
   "cell_type": "code",
   "execution_count": 95,
   "id": "95b29916",
   "metadata": {},
   "outputs": [
    {
     "data": {
      "text/plain": [
       "3281123.0"
      ]
     },
     "execution_count": 95,
     "metadata": {},
     "output_type": "execute_result"
    }
   ],
   "source": [
    "UnScaled_X_test[0][49]"
   ]
  }
 ],
 "metadata": {
  "kernelspec": {
   "display_name": "Python 3",
   "language": "python",
   "name": "python3"
  },
  "language_info": {
   "codemirror_mode": {
    "name": "ipython",
    "version": 3
   },
   "file_extension": ".py",
   "mimetype": "text/x-python",
   "name": "python",
   "nbconvert_exporter": "python",
   "pygments_lexer": "ipython3",
   "version": "3.8.8"
  }
 },
 "nbformat": 4,
 "nbformat_minor": 5
}
