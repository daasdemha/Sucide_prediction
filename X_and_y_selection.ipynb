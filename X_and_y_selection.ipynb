{
 "cells": [
  {
   "cell_type": "markdown",
   "id": "e0ee02c0",
   "metadata": {},
   "source": [
    "### Importing the relevent libraries"
   ]
  },
  {
   "cell_type": "code",
   "execution_count": 1,
   "id": "7fc96920",
   "metadata": {},
   "outputs": [],
   "source": [
    "import numpy as np  # Allows us to work with arrays.\n",
    "import matplotlib.pyplot as plt  # Allows working with plots.\n",
    "import pandas as pd  # importing pandas’ library for use. Allows us to import data set and manipulate it.\n",
    "\n",
    "import seaborn as sns  # Allows to polt beautiful plots.\n",
    "import matplotlib.pyplot as plt # plotting.\n",
    "\n",
    "\n",
    "from sklearn.compose import ColumnTransformer  # helps with encoding.\n",
    "from sklearn.preprocessing import OneHotEncoder  # Does onehotencode.\n",
    "from sklearn.preprocessing import LabelEncoder   # Does 1 and 0 encoding.\n",
    "from sklearn.model_selection import train_test_split  # Splits dataset into test set and traning set. \n",
    "from sklearn.preprocessing import StandardScaler  # Perform the feature scaling.\n",
    "from sklearn.linear_model import LogisticRegression  # Performs logistic regression.\n",
    "from sklearn.metrics import confusion_matrix, ConfusionMatrixDisplay  # creates a confusion matrix\n",
    "from sklearn.metrics import accuracy_score  # Returns accury score of a model.\n",
    "from sklearn.neighbors import KNeighborsClassifier  # performs K Neariesst Neighobour.\n",
    "from sklearn.impute import KNNImputer  # imputes missing values using KNN.\n",
    "from sklearn.svm import SVC  # Performs svm\n",
    "from sklearn.naive_bayes import GaussianNB  # performs naive_bayes gaussianNB.\n",
    "from sklearn.tree import DecisionTreeClassifier  #Perfroms decision tree classification model.\n",
    "from sklearn.ensemble import RandomForestClassifier  #Performs random forest classification.\n",
    "from xgboost import XGBClassifier  # performs xgboost classification. gradiant decision trees.\n",
    "from sklearn.linear_model import LinearRegression  # will use to replace missing values linear regressoin\n",
    "from sklearn.decomposition import PCA  # Performs model optimization\n",
    "from sklearn.decomposition import KernelPCA  # Performs model optimization\n",
    "from sklearn.discriminant_analysis import LinearDiscriminantAnalysis as LDA # performs model optimization\n",
    "from sklearn.model_selection import cross_val_score  # performs cross validation. Helps in model selection.\n",
    "from sklearn.model_selection import GridSearchCV  # helps select the best hyper parameters\n",
    "\n",
    "import warnings\n",
    "warnings.filterwarnings(\"ignore\")\n",
    "\n",
    "#%matplotlib inline  # helps in showing plots on the browser."
   ]
  },
  {
   "cell_type": "markdown",
   "id": "681f5cbc",
   "metadata": {},
   "source": [
    "### Importing the dataframe"
   ]
  },
  {
   "cell_type": "code",
   "execution_count": 2,
   "id": "82eef9c6",
   "metadata": {},
   "outputs": [],
   "source": [
    "sucidedataframe = pd.read_csv(\"suicidedataextrafestures.csv\")  # opens csv files and assighns them to a variable."
   ]
  },
  {
   "cell_type": "markdown",
   "id": "1041df28",
   "metadata": {},
   "source": [
    "### Checking the data from the dataframe before pre-processing"
   ]
  },
  {
   "cell_type": "code",
   "execution_count": 3,
   "id": "11364a06",
   "metadata": {},
   "outputs": [
    {
     "data": {
      "text/html": [
       "<div>\n",
       "<style scoped>\n",
       "    .dataframe tbody tr th:only-of-type {\n",
       "        vertical-align: middle;\n",
       "    }\n",
       "\n",
       "    .dataframe tbody tr th {\n",
       "        vertical-align: top;\n",
       "    }\n",
       "\n",
       "    .dataframe thead th {\n",
       "        text-align: right;\n",
       "    }\n",
       "</style>\n",
       "<table border=\"1\" class=\"dataframe\">\n",
       "  <thead>\n",
       "    <tr style=\"text-align: right;\">\n",
       "      <th></th>\n",
       "      <th>country</th>\n",
       "      <th>year</th>\n",
       "      <th>sex</th>\n",
       "      <th>age</th>\n",
       "      <th>suicides_no</th>\n",
       "      <th>population</th>\n",
       "      <th>suicidesper100k</th>\n",
       "      <th>country-year</th>\n",
       "      <th>yearlyHDI</th>\n",
       "      <th>GDPpyear</th>\n",
       "      <th>...</th>\n",
       "      <th>Unemployment, total (% of total labor force) (modeled ILO estimate)</th>\n",
       "      <th>Physicians (per 1,000 people)</th>\n",
       "      <th>Strength of legal rights index (0=weak to 12=strong)</th>\n",
       "      <th>Labor force, total</th>\n",
       "      <th>Life expectancy at birth, total (years)</th>\n",
       "      <th>Mobile cellular subscriptions (per 100 people)</th>\n",
       "      <th>Refugee population by country or territory of origin</th>\n",
       "      <th>Contributing family workers, total (% of total employment) (modeled ILO estimate)</th>\n",
       "      <th>Access to electricity (% of population)</th>\n",
       "      <th>Lower secondary completion rate, total (% of relevant age group)</th>\n",
       "    </tr>\n",
       "  </thead>\n",
       "  <tbody>\n",
       "    <tr>\n",
       "      <th>0</th>\n",
       "      <td>Argentina</td>\n",
       "      <td>1985</td>\n",
       "      <td>male</td>\n",
       "      <td>75+ years</td>\n",
       "      <td>202</td>\n",
       "      <td>363000</td>\n",
       "      <td>55.65</td>\n",
       "      <td>Argentina1985</td>\n",
       "      <td>0.694</td>\n",
       "      <td>8.841667e+10</td>\n",
       "      <td>...</td>\n",
       "      <td>0.0</td>\n",
       "      <td>0.0</td>\n",
       "      <td>0.0</td>\n",
       "      <td>0</td>\n",
       "      <td>0.0</td>\n",
       "      <td>0.0</td>\n",
       "      <td>0.0</td>\n",
       "      <td>0.0</td>\n",
       "      <td>0.0</td>\n",
       "      <td>0.0</td>\n",
       "    </tr>\n",
       "  </tbody>\n",
       "</table>\n",
       "<p>1 rows × 26 columns</p>\n",
       "</div>"
      ],
      "text/plain": [
       "     country  year   sex        age  suicides_no  population  suicidesper100k  \\\n",
       "0  Argentina  1985  male  75+ years          202      363000            55.65   \n",
       "\n",
       "    country-year  yearlyHDI      GDPpyear  ...  \\\n",
       "0  Argentina1985      0.694  8.841667e+10  ...   \n",
       "\n",
       "   Unemployment, total (% of total labor force) (modeled ILO estimate)  \\\n",
       "0                                                0.0                     \n",
       "\n",
       "  Physicians (per 1,000 people)  \\\n",
       "0                           0.0   \n",
       "\n",
       "   Strength of legal rights index (0=weak to 12=strong)  Labor force, total  \\\n",
       "0                                                0.0                      0   \n",
       "\n",
       "   Life expectancy at birth, total (years)  \\\n",
       "0                                      0.0   \n",
       "\n",
       "   Mobile cellular subscriptions (per 100 people)  \\\n",
       "0                                             0.0   \n",
       "\n",
       "   Refugee population by country or territory of origin  \\\n",
       "0                                                0.0      \n",
       "\n",
       "   Contributing family workers, total (% of total employment) (modeled ILO estimate)  \\\n",
       "0                                                0.0                                   \n",
       "\n",
       "   Access to electricity (% of population)  \\\n",
       "0                                      0.0   \n",
       "\n",
       "   Lower secondary completion rate, total (% of relevant age group)  \n",
       "0                                                0.0                 \n",
       "\n",
       "[1 rows x 26 columns]"
      ]
     },
     "execution_count": 3,
     "metadata": {},
     "output_type": "execute_result"
    }
   ],
   "source": [
    "sucidedataframe.head(1)  # Taking a look at the dataframe the first elements of the dataset."
   ]
  },
  {
   "cell_type": "markdown",
   "id": "8dc9be58",
   "metadata": {},
   "source": [
    "### checking null values"
   ]
  },
  {
   "cell_type": "code",
   "execution_count": 4,
   "id": "79f573b3",
   "metadata": {},
   "outputs": [
    {
     "data": {
      "text/plain": [
       "<AxesSubplot:>"
      ]
     },
     "execution_count": 4,
     "metadata": {},
     "output_type": "execute_result"
    },
    {
     "data": {
      "image/png": "[encoded data removed]",
      "text/plain": [
       "<Figure size 432x288 with 2 Axes>"
      ]
     },
     "metadata": {
      "needs_background": "light"
     },
     "output_type": "display_data"
    }
   ],
   "source": [
    "sns.heatmap(sucidedataframe.isnull())"
   ]
  },
  {
   "cell_type": "code",
   "execution_count": 5,
   "id": "02af4851",
   "metadata": {},
   "outputs": [
    {
     "name": "stdout",
     "output_type": "stream",
     "text": [
      "<class 'pandas.core.frame.DataFrame'>\n",
      "RangeIndex: 15110 entries, 0 to 15109\n",
      "Data columns (total 26 columns):\n",
      " #   Column                                                                             Non-Null Count  Dtype  \n",
      "---  ------                                                                             --------------  -----  \n",
      " 0   country                                                                            15110 non-null  object \n",
      " 1   year                                                                               15110 non-null  int64  \n",
      " 2   sex                                                                                15110 non-null  object \n",
      " 3   age                                                                                15110 non-null  object \n",
      " 4   suicides_no                                                                        15110 non-null  int64  \n",
      " 5   population                                                                         15110 non-null  int64  \n",
      " 6   suicidesper100k                                                                    15110 non-null  float64\n",
      " 7   country-year                                                                       15110 non-null  object \n",
      " 8   yearlyHDI                                                                          4740 non-null   float64\n",
      " 9   GDPpyear                                                                           15110 non-null  float64\n",
      " 10  GDPpcapital                                                                        15110 non-null  int64  \n",
      " 11  generation                                                                         15110 non-null  object \n",
      " 12  suicide%                                                                           15110 non-null  float64\n",
      " 13  Individuals using the Internet (% of population)                                   15002 non-null  float64\n",
      " 14  Expense (% of GDP)                                                                 13634 non-null  float64\n",
      " 15  Compensation of employees (% of expense)                                           13538 non-null  float64\n",
      " 16  Unemployment, total (% of total labor force) (modeled ILO estimate)                15110 non-null  float64\n",
      " 17  Physicians (per 1,000 people)                                                      12782 non-null  float64\n",
      " 18  Strength of legal rights index (0=weak to 12=strong)                               5618 non-null   float64\n",
      " 19  Labor force, total                                                                 15110 non-null  int64  \n",
      " 20  Life expectancy at birth, total (years)                                            15110 non-null  float64\n",
      " 21  Mobile cellular subscriptions (per 100 people)                                     15110 non-null  float64\n",
      " 22  Refugee population by country or territory of origin                               14978 non-null  float64\n",
      " 23  Contributing family workers, total (% of total employment) (modeled ILO estimate)  15110 non-null  float64\n",
      " 24  Access to electricity (% of population)                                            14642 non-null  float64\n",
      " 25  Lower secondary completion rate, total (% of relevant age group)                   9542 non-null   float64\n",
      "dtypes: float64(16), int64(5), object(5)\n",
      "memory usage: 3.0+ MB\n"
     ]
    }
   ],
   "source": [
    "sucidedataframe.info()  # checking Basic information on the dataframe being procesed."
   ]
  },
  {
   "cell_type": "markdown",
   "id": "7ca5f0a5",
   "metadata": {},
   "source": [
    "## 1. Data pre-processing"
   ]
  },
  {
   "cell_type": "code",
   "execution_count": 6,
   "id": "a575d016",
   "metadata": {},
   "outputs": [],
   "source": [
    "# Below relevent data is selected that will be used in this project.\n",
    "sucidedataframe = sucidedataframe[[\"country\", \"year\",  \"age\" ,\"sex\", \"population\",  \\\n",
    "\"Individuals using the Internet (% of population)\", \"Labor force, total\", \\\n",
    "\"Mobile cellular subscriptions (per 100 people)\", \"GDPpyear\",\"GDPpcapital\",\"Expense (% of GDP)\",\\\n",
    "\"Physicians (per 1,000 people)\",\"Refugee population by country or territory of origin\" ,\"suicidesper100k\"]]## 1. Data pre-processing"
   ]
  },
  {
   "cell_type": "code",
   "execution_count": 7,
   "id": "0e0e4500",
   "metadata": {},
   "outputs": [
    {
     "data": {
      "text/html": [
       "<div>\n",
       "<style scoped>\n",
       "    .dataframe tbody tr th:only-of-type {\n",
       "        vertical-align: middle;\n",
       "    }\n",
       "\n",
       "    .dataframe tbody tr th {\n",
       "        vertical-align: top;\n",
       "    }\n",
       "\n",
       "    .dataframe thead th {\n",
       "        text-align: right;\n",
       "    }\n",
       "</style>\n",
       "<table border=\"1\" class=\"dataframe\">\n",
       "  <thead>\n",
       "    <tr style=\"text-align: right;\">\n",
       "      <th></th>\n",
       "      <th>country</th>\n",
       "      <th>year</th>\n",
       "      <th>age</th>\n",
       "      <th>sex</th>\n",
       "      <th>population</th>\n",
       "      <th>Individuals using the Internet (% of population)</th>\n",
       "      <th>Labor force, total</th>\n",
       "      <th>Mobile cellular subscriptions (per 100 people)</th>\n",
       "      <th>GDPpyear</th>\n",
       "      <th>GDPpcapital</th>\n",
       "      <th>Expense (% of GDP)</th>\n",
       "      <th>Physicians (per 1,000 people)</th>\n",
       "      <th>Refugee population by country or territory of origin</th>\n",
       "      <th>suicidesper100k</th>\n",
       "    </tr>\n",
       "  </thead>\n",
       "  <tbody>\n",
       "    <tr>\n",
       "      <th>0</th>\n",
       "      <td>Argentina</td>\n",
       "      <td>1985</td>\n",
       "      <td>75+ years</td>\n",
       "      <td>male</td>\n",
       "      <td>363000</td>\n",
       "      <td>0.0</td>\n",
       "      <td>0</td>\n",
       "      <td>0.0</td>\n",
       "      <td>8.841667e+10</td>\n",
       "      <td>3264</td>\n",
       "      <td>0.0</td>\n",
       "      <td>0.0</td>\n",
       "      <td>0.0</td>\n",
       "      <td>55.65</td>\n",
       "    </tr>\n",
       "    <tr>\n",
       "      <th>1</th>\n",
       "      <td>Argentina</td>\n",
       "      <td>1985</td>\n",
       "      <td>55-74 years</td>\n",
       "      <td>male</td>\n",
       "      <td>1997000</td>\n",
       "      <td>0.0</td>\n",
       "      <td>0</td>\n",
       "      <td>0.0</td>\n",
       "      <td>8.841667e+10</td>\n",
       "      <td>3264</td>\n",
       "      <td>0.0</td>\n",
       "      <td>0.0</td>\n",
       "      <td>0.0</td>\n",
       "      <td>24.29</td>\n",
       "    </tr>\n",
       "    <tr>\n",
       "      <th>2</th>\n",
       "      <td>Argentina</td>\n",
       "      <td>1985</td>\n",
       "      <td>35-54 years</td>\n",
       "      <td>male</td>\n",
       "      <td>3346300</td>\n",
       "      <td>0.0</td>\n",
       "      <td>0</td>\n",
       "      <td>0.0</td>\n",
       "      <td>8.841667e+10</td>\n",
       "      <td>3264</td>\n",
       "      <td>0.0</td>\n",
       "      <td>0.0</td>\n",
       "      <td>0.0</td>\n",
       "      <td>12.37</td>\n",
       "    </tr>\n",
       "    <tr>\n",
       "      <th>3</th>\n",
       "      <td>Argentina</td>\n",
       "      <td>1985</td>\n",
       "      <td>55-74 years</td>\n",
       "      <td>female</td>\n",
       "      <td>2304000</td>\n",
       "      <td>0.0</td>\n",
       "      <td>0</td>\n",
       "      <td>0.0</td>\n",
       "      <td>8.841667e+10</td>\n",
       "      <td>3264</td>\n",
       "      <td>0.0</td>\n",
       "      <td>0.0</td>\n",
       "      <td>0.0</td>\n",
       "      <td>9.11</td>\n",
       "    </tr>\n",
       "    <tr>\n",
       "      <th>4</th>\n",
       "      <td>Argentina</td>\n",
       "      <td>1985</td>\n",
       "      <td>25-34 years</td>\n",
       "      <td>male</td>\n",
       "      <td>2234200</td>\n",
       "      <td>0.0</td>\n",
       "      <td>0</td>\n",
       "      <td>0.0</td>\n",
       "      <td>8.841667e+10</td>\n",
       "      <td>3264</td>\n",
       "      <td>0.0</td>\n",
       "      <td>0.0</td>\n",
       "      <td>0.0</td>\n",
       "      <td>7.92</td>\n",
       "    </tr>\n",
       "  </tbody>\n",
       "</table>\n",
       "</div>"
      ],
      "text/plain": [
       "     country  year          age     sex  population  \\\n",
       "0  Argentina  1985    75+ years    male      363000   \n",
       "1  Argentina  1985  55-74 years    male     1997000   \n",
       "2  Argentina  1985  35-54 years    male     3346300   \n",
       "3  Argentina  1985  55-74 years  female     2304000   \n",
       "4  Argentina  1985  25-34 years    male     2234200   \n",
       "\n",
       "   Individuals using the Internet (% of population)  Labor force, total  \\\n",
       "0                                               0.0                   0   \n",
       "1                                               0.0                   0   \n",
       "2                                               0.0                   0   \n",
       "3                                               0.0                   0   \n",
       "4                                               0.0                   0   \n",
       "\n",
       "   Mobile cellular subscriptions (per 100 people)      GDPpyear  GDPpcapital  \\\n",
       "0                                             0.0  8.841667e+10         3264   \n",
       "1                                             0.0  8.841667e+10         3264   \n",
       "2                                             0.0  8.841667e+10         3264   \n",
       "3                                             0.0  8.841667e+10         3264   \n",
       "4                                             0.0  8.841667e+10         3264   \n",
       "\n",
       "   Expense (% of GDP)  Physicians (per 1,000 people)  \\\n",
       "0                 0.0                            0.0   \n",
       "1                 0.0                            0.0   \n",
       "2                 0.0                            0.0   \n",
       "3                 0.0                            0.0   \n",
       "4                 0.0                            0.0   \n",
       "\n",
       "   Refugee population by country or territory of origin  suicidesper100k  \n",
       "0                                                0.0               55.65  \n",
       "1                                                0.0               24.29  \n",
       "2                                                0.0               12.37  \n",
       "3                                                0.0                9.11  \n",
       "4                                                0.0                7.92  "
      ]
     },
     "execution_count": 7,
     "metadata": {},
     "output_type": "execute_result"
    }
   ],
   "source": [
    "sucidedataframe.head(5)"
   ]
  },
  {
   "cell_type": "code",
   "execution_count": 8,
   "id": "d480e0f1",
   "metadata": {},
   "outputs": [],
   "source": [
    "# Below the col names are renamed.\n",
    "sucidedataframe = sucidedataframe.set_axis([\"Country\", \"Year\", \"Age\", \"Gender\", \"Population\", \\\n",
    "\"Internet_Usage_per_percent_Population\", \"Total_Labour_force\", \"Cellular_subscriptions_per_100_people\", \\\n",
    "\"GDPpyear\",\"GDPpcapital\",\"Expense_percent_of_GDP)\",\\\n",
    "\"Physicians_per_1,000_people)\",\"Refugee_population_by_country_or_territory_of_origin\" ,\"Suicidesper100k\"],axis=1)"
   ]
  },
  {
   "cell_type": "code",
   "execution_count": 9,
   "id": "4f83c2cd",
   "metadata": {},
   "outputs": [
    {
     "data": {
      "text/plain": [
       "Index(['Country', 'Year', 'Age', 'Gender', 'Population',\n",
       "       'Internet_Usage_per_percent_Population', 'Total_Labour_force',\n",
       "       'Cellular_subscriptions_per_100_people', 'GDPpyear', 'GDPpcapital',\n",
       "       'Expense_percent_of_GDP)', 'Physicians_per_1,000_people)',\n",
       "       'Refugee_population_by_country_or_territory_of_origin',\n",
       "       'Suicidesper100k'],\n",
       "      dtype='object')"
      ]
     },
     "execution_count": 9,
     "metadata": {},
     "output_type": "execute_result"
    }
   ],
   "source": [
    "sucidedataframe.columns  # The columns of the dataframe are viewed."
   ]
  },
  {
   "cell_type": "code",
   "execution_count": 10,
   "id": "6d5b7b1b",
   "metadata": {},
   "outputs": [
    {
     "data": {
      "text/plain": [
       "(15110, 14)"
      ]
     },
     "execution_count": 10,
     "metadata": {},
     "output_type": "execute_result"
    }
   ],
   "source": [
    "sucidedataframe.shape  # The Entries and the columns of the dataframe are viewed."
   ]
  },
  {
   "cell_type": "markdown",
   "id": "92bc89c3",
   "metadata": {},
   "source": [
    "### Dealing with null values"
   ]
  },
  {
   "cell_type": "code",
   "execution_count": 11,
   "id": "321ddc81",
   "metadata": {},
   "outputs": [
    {
     "data": {
      "text/plain": [
       "<AxesSubplot:>"
      ]
     },
     "execution_count": 11,
     "metadata": {},
     "output_type": "execute_result"
    },
    {
     "data": {
      "image/png": "[encoded data removed]",
      "text/plain": [
       "<Figure size 432x288 with 2 Axes>"
      ]
     },
     "metadata": {
      "needs_background": "light"
     },
     "output_type": "display_data"
    }
   ],
   "source": [
    "sns.heatmap(sucidedataframe.isnull())"
   ]
  },
  {
   "cell_type": "code",
   "execution_count": 12,
   "id": "0747c757",
   "metadata": {},
   "outputs": [
    {
     "data": {
      "text/plain": [
       "Country                                                    0\n",
       "Year                                                       0\n",
       "Age                                                        0\n",
       "Gender                                                     0\n",
       "Population                                                 0\n",
       "Internet_Usage_per_percent_Population                    108\n",
       "Total_Labour_force                                         0\n",
       "Cellular_subscriptions_per_100_people                      0\n",
       "GDPpyear                                                   0\n",
       "GDPpcapital                                                0\n",
       "Expense_percent_of_GDP)                                 1476\n",
       "Physicians_per_1,000_people)                            2328\n",
       "Refugee_population_by_country_or_territory_of_origin     132\n",
       "Suicidesper100k                                            0\n",
       "dtype: int64"
      ]
     },
     "execution_count": 12,
     "metadata": {},
     "output_type": "execute_result"
    }
   ],
   "source": [
    "sucidedataframe.isnull().sum()  # Checking the dataframe for null values."
   ]
  },
  {
   "cell_type": "code",
   "execution_count": 13,
   "id": "f9328eb5",
   "metadata": {},
   "outputs": [
    {
     "name": "stdout",
     "output_type": "stream",
     "text": [
      "<class 'pandas.core.frame.DataFrame'>\n",
      "RangeIndex: 15110 entries, 0 to 15109\n",
      "Data columns (total 14 columns):\n",
      " #   Column                                                Non-Null Count  Dtype  \n",
      "---  ------                                                --------------  -----  \n",
      " 0   Country                                               15110 non-null  object \n",
      " 1   Year                                                  15110 non-null  int64  \n",
      " 2   Age                                                   15110 non-null  object \n",
      " 3   Gender                                                15110 non-null  object \n",
      " 4   Population                                            15110 non-null  int64  \n",
      " 5   Internet_Usage_per_percent_Population                 15002 non-null  float64\n",
      " 6   Total_Labour_force                                    15110 non-null  int64  \n",
      " 7   Cellular_subscriptions_per_100_people                 15110 non-null  float64\n",
      " 8   GDPpyear                                              15110 non-null  float64\n",
      " 9   GDPpcapital                                           15110 non-null  int64  \n",
      " 10  Expense_percent_of_GDP)                               13634 non-null  float64\n",
      " 11  Physicians_per_1,000_people)                          12782 non-null  float64\n",
      " 12  Refugee_population_by_country_or_territory_of_origin  14978 non-null  float64\n",
      " 13  Suicidesper100k                                       15110 non-null  float64\n",
      "dtypes: float64(7), int64(4), object(3)\n",
      "memory usage: 1.6+ MB\n"
     ]
    }
   ],
   "source": [
    "sucidedataframe.info()  "
   ]
  },
  {
   "cell_type": "code",
   "execution_count": 14,
   "id": "ae8e10e3",
   "metadata": {},
   "outputs": [],
   "source": [
    "#df['Internet_Usage_per_percent_Population'] = df['DataFrame Column'].fillna(0)"
   ]
  },
  {
   "cell_type": "code",
   "execution_count": 15,
   "id": "292667f1",
   "metadata": {},
   "outputs": [
    {
     "name": "stdout",
     "output_type": "stream",
     "text": [
      "15110\n"
     ]
    }
   ],
   "source": [
    "print(len(sucidedataframe.Internet_Usage_per_percent_Population))"
   ]
  },
  {
   "cell_type": "code",
   "execution_count": 16,
   "id": "9c76b303",
   "metadata": {},
   "outputs": [],
   "source": [
    "def missng_values_filler_knn(missingdataframevalue):\n",
    "    columntobereplaced = missingdataframevalue.to_numpy() \n",
    "\n",
    "    imputer = KNNImputer(n_neighbors=10, weights=\"uniform\")\n",
    "    replaced = imputer.fit_transform(columntobereplaced).astype(np.int64)  # converting float to int.\n",
    "    print(len(replaced))\n",
    "    dataframe=pd.DataFrame(replaced, columns=[\"Internet_Usage_per_percent_Population\"])\n",
    "    print(dataframe.head(5))\n",
    "    return dataframe"
   ]
  },
  {
   "cell_type": "code",
   "execution_count": 20,
   "id": "ce8145dd",
   "metadata": {},
   "outputs": [
    {
     "name": "stdout",
     "output_type": "stream",
     "text": [
      "15110\n",
      "   Internet_Usage_per_percent_Population\n",
      "0                                      0\n",
      "1                                      0\n",
      "2                                      0\n",
      "3                                      0\n",
      "4                                      0\n"
     ]
    }
   ],
   "source": [
    "replacement = missng_values_filler_knn(sucidedataframe[[\"Internet_Usage_per_percent_Population\"]])"
   ]
  },
  {
   "cell_type": "code",
   "execution_count": 21,
   "id": "78f4bef9",
   "metadata": {},
   "outputs": [],
   "source": [
    "sucidedataframe[[\"Internet_Usage_per_percent_Population\"]] = replacement"
   ]
  },
  {
   "cell_type": "code",
   "execution_count": 22,
   "id": "1d4ffda0",
   "metadata": {},
   "outputs": [
    {
     "data": {
      "text/plain": [
       "Country                                                    0\n",
       "Year                                                       0\n",
       "Age                                                        0\n",
       "Gender                                                     0\n",
       "Population                                                 0\n",
       "Internet_Usage_per_percent_Population                      0\n",
       "Total_Labour_force                                         0\n",
       "Cellular_subscriptions_per_100_people                      0\n",
       "GDPpyear                                                   0\n",
       "GDPpcapital                                                0\n",
       "Expense_percent_of_GDP)                                 1476\n",
       "Physicians_per_1,000_people)                            2328\n",
       "Refugee_population_by_country_or_territory_of_origin     132\n",
       "Suicidesper100k                                            0\n",
       "dtype: int64"
      ]
     },
     "execution_count": 22,
     "metadata": {},
     "output_type": "execute_result"
    }
   ],
   "source": [
    "sucidedataframe.isnull().sum()  # Checking the dataframe for null values."
   ]
  },
  {
   "cell_type": "code",
   "execution_count": 23,
   "id": "d4c8ca99",
   "metadata": {},
   "outputs": [],
   "source": [
    "sucidedataframe = sucidedataframe.dropna() # droping all rows with at least one null values."
   ]
  },
  {
   "cell_type": "code",
   "execution_count": 24,
   "id": "a88e7ff9",
   "metadata": {},
   "outputs": [],
   "source": [
    "sucidedataframe.reset_index(drop=True, inplace=True)"
   ]
  },
  {
   "cell_type": "code",
   "execution_count": 25,
   "id": "b0a0da2e",
   "metadata": {},
   "outputs": [
    {
     "data": {
      "text/plain": [
       "Country                                                 0\n",
       "Year                                                    0\n",
       "Age                                                     0\n",
       "Gender                                                  0\n",
       "Population                                              0\n",
       "Internet_Usage_per_percent_Population                   0\n",
       "Total_Labour_force                                      0\n",
       "Cellular_subscriptions_per_100_people                   0\n",
       "GDPpyear                                                0\n",
       "GDPpcapital                                             0\n",
       "Expense_percent_of_GDP)                                 0\n",
       "Physicians_per_1,000_people)                            0\n",
       "Refugee_population_by_country_or_territory_of_origin    0\n",
       "Suicidesper100k                                         0\n",
       "dtype: int64"
      ]
     },
     "execution_count": 25,
     "metadata": {},
     "output_type": "execute_result"
    }
   ],
   "source": [
    "sucidedataframe.isnull().sum()  # Checking the dataframe for null values."
   ]
  },
  {
   "cell_type": "code",
   "execution_count": 26,
   "id": "04a2342a",
   "metadata": {},
   "outputs": [
    {
     "data": {
      "text/plain": [
       "(11582, 14)"
      ]
     },
     "execution_count": 26,
     "metadata": {},
     "output_type": "execute_result"
    }
   ],
   "source": [
    "sucidedataframe.shape  # The Entries and the columns of the dataframe are viewed."
   ]
  },
  {
   "cell_type": "code",
   "execution_count": 27,
   "id": "ddc7ca97",
   "metadata": {},
   "outputs": [
    {
     "name": "stdout",
     "output_type": "stream",
     "text": [
      "<class 'pandas.core.frame.DataFrame'>\n",
      "RangeIndex: 11582 entries, 0 to 11581\n",
      "Data columns (total 14 columns):\n",
      " #   Column                                                Non-Null Count  Dtype  \n",
      "---  ------                                                --------------  -----  \n",
      " 0   Country                                               11582 non-null  object \n",
      " 1   Year                                                  11582 non-null  int64  \n",
      " 2   Age                                                   11582 non-null  object \n",
      " 3   Gender                                                11582 non-null  object \n",
      " 4   Population                                            11582 non-null  int64  \n",
      " 5   Internet_Usage_per_percent_Population                 11582 non-null  int64  \n",
      " 6   Total_Labour_force                                    11582 non-null  int64  \n",
      " 7   Cellular_subscriptions_per_100_people                 11582 non-null  float64\n",
      " 8   GDPpyear                                              11582 non-null  float64\n",
      " 9   GDPpcapital                                           11582 non-null  int64  \n",
      " 10  Expense_percent_of_GDP)                               11582 non-null  float64\n",
      " 11  Physicians_per_1,000_people)                          11582 non-null  float64\n",
      " 12  Refugee_population_by_country_or_territory_of_origin  11582 non-null  float64\n",
      " 13  Suicidesper100k                                       11582 non-null  float64\n",
      "dtypes: float64(6), int64(5), object(3)\n",
      "memory usage: 1.2+ MB\n"
     ]
    }
   ],
   "source": [
    "sucidedataframe.info()  # checking Basic information on the dataframe being procesed."
   ]
  },
  {
   "cell_type": "markdown",
   "id": "8dc9be58",
   "metadata": {},
   "source": [
    "### Dealing with repetetive values"
   ]
  },
  {
   "cell_type": "code",
   "execution_count": 28,
   "id": "18a45ea3",
   "metadata": {},
   "outputs": [
    {
     "data": {
      "text/plain": [
       "Country                                                    47\n",
       "Year                                                       32\n",
       "Age                                                         6\n",
       "Gender                                                      2\n",
       "Population                                              11156\n",
       "Internet_Usage_per_percent_Population                      97\n",
       "Total_Labour_force                                        539\n",
       "Cellular_subscriptions_per_100_people                     539\n",
       "GDPpyear                                                  749\n",
       "GDPpcapital                                               955\n",
       "Expense_percent_of_GDP)                                   539\n",
       "Physicians_per_1,000_people)                              415\n",
       "Refugee_population_by_country_or_territory_of_origin      356\n",
       "Suicidesper100k                                          3736\n",
       "dtype: int64"
      ]
     },
     "execution_count": 28,
     "metadata": {},
     "output_type": "execute_result"
    }
   ],
   "source": [
    "sucidedataframe.nunique()  # "
   ]
  },
  {
   "cell_type": "code",
   "execution_count": 29,
   "id": "ef421e00",
   "metadata": {},
   "outputs": [
    {
     "data": {
      "text/plain": [
       "0"
      ]
     },
     "execution_count": 29,
     "metadata": {},
     "output_type": "execute_result"
    }
   ],
   "source": [
    "sucidedataframe.duplicated().sum()"
   ]
  },
  {
   "cell_type": "code",
   "execution_count": 30,
   "id": "978aea4c",
   "metadata": {},
   "outputs": [
    {
     "name": "stdout",
     "output_type": "stream",
     "text": [
      "Year\n",
      "1985    300\n",
      "1986    312\n",
      "1987    360\n",
      "1988    348\n",
      "1989    372\n",
      "1990    468\n",
      "1991    480\n",
      "1992    480\n",
      "1993    456\n",
      "1994    492\n",
      "1995    348\n",
      "1996    360\n",
      "1997    336\n",
      "1998    396\n",
      "1999    372\n",
      "2000    336\n",
      "2001    324\n",
      "2002    348\n",
      "2003    300\n",
      "2004    204\n",
      "2005    168\n",
      "2006    372\n",
      "2007    288\n",
      "2008    300\n",
      "2009    240\n",
      "2010    432\n",
      "2011    432\n",
      "2012    456\n",
      "2013    444\n",
      "2014    504\n",
      "2015    444\n",
      "2016    110\n",
      "dtype: int64\n"
     ]
    }
   ],
   "source": [
    "print(sucidedataframe.pivot_table(columns=['Year'], aggfunc='size'))  # counts duplicates in the selected dataframe column."
   ]
  },
  {
   "cell_type": "code",
   "execution_count": 31,
   "id": "9c7964d6",
   "metadata": {},
   "outputs": [
    {
     "name": "stdout",
     "output_type": "stream",
     "text": [
      "Gender\n",
      "female    5791\n",
      "male      5791\n",
      "dtype: int64\n"
     ]
    }
   ],
   "source": [
    "print(sucidedataframe.pivot_table(columns=['Gender'], aggfunc='size'))  # counts duplicates in the selected dataframe column."
   ]
  },
  {
   "cell_type": "code",
   "execution_count": 32,
   "id": "aac9bf8f",
   "metadata": {},
   "outputs": [
    {
     "name": "stdout",
     "output_type": "stream",
     "text": [
      "Country\n",
      "Argentina             192\n",
      "Armenia               178\n",
      "Australia             312\n",
      "Austria               334\n",
      "Azerbaijan            120\n",
      "Belgium               312\n",
      "Brazil                336\n",
      "Bulgaria              216\n",
      "Canada                276\n",
      "Chile                 264\n",
      "Colombia              240\n",
      "Croatia               250\n",
      "Cuba                   60\n",
      "Czech Republic        286\n",
      "Denmark               240\n",
      "Finland               324\n",
      "France                192\n",
      "Georgia               216\n",
      "Germany               276\n",
      "Greece                312\n",
      "Hungary               286\n",
      "Iceland               358\n",
      "Ireland               300\n",
      "Israel                312\n",
      "Italy                 324\n",
      "Jamaica                96\n",
      "Japan                 252\n",
      "Mexico                288\n",
      "Mongolia               10\n",
      "Netherlands           298\n",
      "New Zealand           228\n",
      "Norway                336\n",
      "Poland                252\n",
      "Portugal              324\n",
      "Romania               274\n",
      "Russian Federation    252\n",
      "South Africa           96\n",
      "Spain                 372\n",
      "Sweden                334\n",
      "Switzerland           180\n",
      "Thailand              298\n",
      "Turkey                 84\n",
      "Turkmenistan          120\n",
      "Ukraine               204\n",
      "United Kingdom        300\n",
      "United States         360\n",
      "Uzbekistan            108\n",
      "dtype: int64\n"
     ]
    }
   ],
   "source": [
    "print(sucidedataframe.pivot_table(columns=['Country'], aggfunc='size'))  # counts duplicates in the selected dataframe column."
   ]
  },
  {
   "cell_type": "code",
   "execution_count": 33,
   "id": "3f25f494",
   "metadata": {},
   "outputs": [
    {
     "data": {
      "text/html": [
       "<div>\n",
       "<style scoped>\n",
       "    .dataframe tbody tr th:only-of-type {\n",
       "        vertical-align: middle;\n",
       "    }\n",
       "\n",
       "    .dataframe tbody tr th {\n",
       "        vertical-align: top;\n",
       "    }\n",
       "\n",
       "    .dataframe thead th {\n",
       "        text-align: right;\n",
       "    }\n",
       "</style>\n",
       "<table border=\"1\" class=\"dataframe\">\n",
       "  <thead>\n",
       "    <tr style=\"text-align: right;\">\n",
       "      <th></th>\n",
       "      <th>Country</th>\n",
       "      <th>Year</th>\n",
       "      <th>Age</th>\n",
       "      <th>Gender</th>\n",
       "      <th>Population</th>\n",
       "      <th>Internet_Usage_per_percent_Population</th>\n",
       "      <th>Total_Labour_force</th>\n",
       "      <th>Cellular_subscriptions_per_100_people</th>\n",
       "      <th>GDPpyear</th>\n",
       "      <th>GDPpcapital</th>\n",
       "      <th>Expense_percent_of_GDP)</th>\n",
       "      <th>Physicians_per_1,000_people)</th>\n",
       "      <th>Refugee_population_by_country_or_territory_of_origin</th>\n",
       "      <th>Suicidesper100k</th>\n",
       "    </tr>\n",
       "  </thead>\n",
       "  <tbody>\n",
       "    <tr>\n",
       "      <th>0</th>\n",
       "      <td>Argentina</td>\n",
       "      <td>1985</td>\n",
       "      <td>75+ years</td>\n",
       "      <td>male</td>\n",
       "      <td>363000</td>\n",
       "      <td>0</td>\n",
       "      <td>0</td>\n",
       "      <td>0.0</td>\n",
       "      <td>8.841667e+10</td>\n",
       "      <td>3264</td>\n",
       "      <td>0.0</td>\n",
       "      <td>0.0</td>\n",
       "      <td>0.0</td>\n",
       "      <td>55.65</td>\n",
       "    </tr>\n",
       "  </tbody>\n",
       "</table>\n",
       "</div>"
      ],
      "text/plain": [
       "     Country  Year        Age Gender  Population  \\\n",
       "0  Argentina  1985  75+ years   male      363000   \n",
       "\n",
       "   Internet_Usage_per_percent_Population  Total_Labour_force  \\\n",
       "0                                      0                   0   \n",
       "\n",
       "   Cellular_subscriptions_per_100_people      GDPpyear  GDPpcapital  \\\n",
       "0                                    0.0  8.841667e+10         3264   \n",
       "\n",
       "   Expense_percent_of_GDP)  Physicians_per_1,000_people)  \\\n",
       "0                      0.0                           0.0   \n",
       "\n",
       "   Refugee_population_by_country_or_territory_of_origin  Suicidesper100k  \n",
       "0                                                0.0               55.65  "
      ]
     },
     "execution_count": 33,
     "metadata": {},
     "output_type": "execute_result"
    }
   ],
   "source": [
    "sucidedataframe.head(1)"
   ]
  },
  {
   "cell_type": "code",
   "execution_count": 34,
   "id": "f3fbf356",
   "metadata": {},
   "outputs": [
    {
     "name": "stdout",
     "output_type": "stream",
     "text": [
      "Age\n",
      "15-24 years    1934\n",
      "25-34 years    1934\n",
      "35-54 years    1934\n",
      "5-14 years     1912\n",
      "55-74 years    1934\n",
      "75+ years      1934\n",
      "dtype: int64\n"
     ]
    }
   ],
   "source": [
    "print(sucidedataframe.pivot_table(columns=['Age'], aggfunc='size'))  # counts duplicates in the selected dataframe column."
   ]
  },
  {
   "cell_type": "code",
   "execution_count": 35,
   "id": "3c4ee25c",
   "metadata": {},
   "outputs": [],
   "source": [
    "sucidedataframe.index = pd.RangeIndex(len(sucidedataframe.index))"
   ]
  },
  {
   "cell_type": "code",
   "execution_count": 36,
   "id": "03a4b498",
   "metadata": {},
   "outputs": [
    {
     "data": {
      "text/html": [
       "<div>\n",
       "<style scoped>\n",
       "    .dataframe tbody tr th:only-of-type {\n",
       "        vertical-align: middle;\n",
       "    }\n",
       "\n",
       "    .dataframe tbody tr th {\n",
       "        vertical-align: top;\n",
       "    }\n",
       "\n",
       "    .dataframe thead th {\n",
       "        text-align: right;\n",
       "    }\n",
       "</style>\n",
       "<table border=\"1\" class=\"dataframe\">\n",
       "  <thead>\n",
       "    <tr style=\"text-align: right;\">\n",
       "      <th></th>\n",
       "      <th>Country</th>\n",
       "      <th>Year</th>\n",
       "      <th>Age</th>\n",
       "      <th>Gender</th>\n",
       "      <th>Population</th>\n",
       "      <th>Internet_Usage_per_percent_Population</th>\n",
       "      <th>Total_Labour_force</th>\n",
       "      <th>Cellular_subscriptions_per_100_people</th>\n",
       "      <th>GDPpyear</th>\n",
       "      <th>GDPpcapital</th>\n",
       "      <th>Expense_percent_of_GDP)</th>\n",
       "      <th>Physicians_per_1,000_people)</th>\n",
       "      <th>Refugee_population_by_country_or_territory_of_origin</th>\n",
       "      <th>Suicidesper100k</th>\n",
       "    </tr>\n",
       "  </thead>\n",
       "  <tbody>\n",
       "    <tr>\n",
       "      <th>0</th>\n",
       "      <td>Argentina</td>\n",
       "      <td>1985</td>\n",
       "      <td>75+ years</td>\n",
       "      <td>male</td>\n",
       "      <td>363000</td>\n",
       "      <td>0</td>\n",
       "      <td>0</td>\n",
       "      <td>0.0</td>\n",
       "      <td>8.841667e+10</td>\n",
       "      <td>3264</td>\n",
       "      <td>0.0</td>\n",
       "      <td>0.0</td>\n",
       "      <td>0.0</td>\n",
       "      <td>55.65</td>\n",
       "    </tr>\n",
       "    <tr>\n",
       "      <th>1</th>\n",
       "      <td>Argentina</td>\n",
       "      <td>1985</td>\n",
       "      <td>55-74 years</td>\n",
       "      <td>male</td>\n",
       "      <td>1997000</td>\n",
       "      <td>0</td>\n",
       "      <td>0</td>\n",
       "      <td>0.0</td>\n",
       "      <td>8.841667e+10</td>\n",
       "      <td>3264</td>\n",
       "      <td>0.0</td>\n",
       "      <td>0.0</td>\n",
       "      <td>0.0</td>\n",
       "      <td>24.29</td>\n",
       "    </tr>\n",
       "    <tr>\n",
       "      <th>2</th>\n",
       "      <td>Argentina</td>\n",
       "      <td>1985</td>\n",
       "      <td>35-54 years</td>\n",
       "      <td>male</td>\n",
       "      <td>3346300</td>\n",
       "      <td>0</td>\n",
       "      <td>0</td>\n",
       "      <td>0.0</td>\n",
       "      <td>8.841667e+10</td>\n",
       "      <td>3264</td>\n",
       "      <td>0.0</td>\n",
       "      <td>0.0</td>\n",
       "      <td>0.0</td>\n",
       "      <td>12.37</td>\n",
       "    </tr>\n",
       "    <tr>\n",
       "      <th>3</th>\n",
       "      <td>Argentina</td>\n",
       "      <td>1985</td>\n",
       "      <td>55-74 years</td>\n",
       "      <td>female</td>\n",
       "      <td>2304000</td>\n",
       "      <td>0</td>\n",
       "      <td>0</td>\n",
       "      <td>0.0</td>\n",
       "      <td>8.841667e+10</td>\n",
       "      <td>3264</td>\n",
       "      <td>0.0</td>\n",
       "      <td>0.0</td>\n",
       "      <td>0.0</td>\n",
       "      <td>9.11</td>\n",
       "    </tr>\n",
       "    <tr>\n",
       "      <th>4</th>\n",
       "      <td>Argentina</td>\n",
       "      <td>1985</td>\n",
       "      <td>25-34 years</td>\n",
       "      <td>male</td>\n",
       "      <td>2234200</td>\n",
       "      <td>0</td>\n",
       "      <td>0</td>\n",
       "      <td>0.0</td>\n",
       "      <td>8.841667e+10</td>\n",
       "      <td>3264</td>\n",
       "      <td>0.0</td>\n",
       "      <td>0.0</td>\n",
       "      <td>0.0</td>\n",
       "      <td>7.92</td>\n",
       "    </tr>\n",
       "  </tbody>\n",
       "</table>\n",
       "</div>"
      ],
      "text/plain": [
       "     Country  Year          Age  Gender  Population  \\\n",
       "0  Argentina  1985    75+ years    male      363000   \n",
       "1  Argentina  1985  55-74 years    male     1997000   \n",
       "2  Argentina  1985  35-54 years    male     3346300   \n",
       "3  Argentina  1985  55-74 years  female     2304000   \n",
       "4  Argentina  1985  25-34 years    male     2234200   \n",
       "\n",
       "   Internet_Usage_per_percent_Population  Total_Labour_force  \\\n",
       "0                                      0                   0   \n",
       "1                                      0                   0   \n",
       "2                                      0                   0   \n",
       "3                                      0                   0   \n",
       "4                                      0                   0   \n",
       "\n",
       "   Cellular_subscriptions_per_100_people      GDPpyear  GDPpcapital  \\\n",
       "0                                    0.0  8.841667e+10         3264   \n",
       "1                                    0.0  8.841667e+10         3264   \n",
       "2                                    0.0  8.841667e+10         3264   \n",
       "3                                    0.0  8.841667e+10         3264   \n",
       "4                                    0.0  8.841667e+10         3264   \n",
       "\n",
       "   Expense_percent_of_GDP)  Physicians_per_1,000_people)  \\\n",
       "0                      0.0                           0.0   \n",
       "1                      0.0                           0.0   \n",
       "2                      0.0                           0.0   \n",
       "3                      0.0                           0.0   \n",
       "4                      0.0                           0.0   \n",
       "\n",
       "   Refugee_population_by_country_or_territory_of_origin  Suicidesper100k  \n",
       "0                                                0.0               55.65  \n",
       "1                                                0.0               24.29  \n",
       "2                                                0.0               12.37  \n",
       "3                                                0.0                9.11  \n",
       "4                                                0.0                7.92  "
      ]
     },
     "execution_count": 36,
     "metadata": {},
     "output_type": "execute_result"
    }
   ],
   "source": [
    "sucidedataframe.head()"
   ]
  },
  {
   "cell_type": "markdown",
   "id": "1464be8b",
   "metadata": {},
   "source": [
    "### One Hot Encoding"
   ]
  },
  {
   "cell_type": "code",
   "execution_count": 86,
   "id": "e5cbdbdb",
   "metadata": {
    "scrolled": true
   },
   "outputs": [
    {
     "data": {
      "text/plain": [
       "Country\n",
       "Argentina             192\n",
       "Armenia               178\n",
       "Australia             312\n",
       "Austria               334\n",
       "Azerbaijan            120\n",
       "Belgium               312\n",
       "Brazil                336\n",
       "Bulgaria              216\n",
       "Canada                276\n",
       "Chile                 264\n",
       "Colombia              240\n",
       "Croatia               250\n",
       "Cuba                   60\n",
       "Czech Republic        286\n",
       "Denmark               240\n",
       "Finland               324\n",
       "France                192\n",
       "Georgia               216\n",
       "Germany               276\n",
       "Greece                312\n",
       "Hungary               286\n",
       "Iceland               358\n",
       "Ireland               300\n",
       "Israel                312\n",
       "Italy                 324\n",
       "Jamaica                96\n",
       "Japan                 252\n",
       "Mexico                288\n",
       "Mongolia               10\n",
       "Netherlands           298\n",
       "New Zealand           228\n",
       "Norway                336\n",
       "Poland                252\n",
       "Portugal              324\n",
       "Romania               274\n",
       "Russian Federation    252\n",
       "South Africa           96\n",
       "Spain                 372\n",
       "Sweden                334\n",
       "Switzerland           180\n",
       "Thailand              298\n",
       "Turkey                 84\n",
       "Turkmenistan          120\n",
       "Ukraine               204\n",
       "United Kingdom        300\n",
       "United States         360\n",
       "Uzbekistan            108\n",
       "dtype: int64"
      ]
     },
     "execution_count": 86,
     "metadata": {},
     "output_type": "execute_result"
    }
   ],
   "source": [
    "# count duplicates function learned from: https://datatofish.com/count-duplicates-pandas/\n",
    "sucidedataframe.pivot_table(columns=['Country'], aggfunc='size')  # counts duplicates in the selected dataframe column."
   ]
  },
  {
   "cell_type": "code",
   "execution_count": 107,
   "id": "bd6a331e",
   "metadata": {},
   "outputs": [],
   "source": [
    "def encodingoh(required_column):\n",
    "    oh = OneHotEncoderder(drop=\"first\",dtype=np.int)\n",
    "    newdf = required_column\n",
    "    newdf = oh.fit_transform(newdf).toarray()\n",
    "    newdf = pd.DataFrame(newdf)\n",
    "    print(newdf.head(5))\n",
    "    return newdf"
   ]
  },
  {
   "cell_type": "code",
   "execution_count": null,
   "id": "d84ccc1c",
   "metadata": {},
   "outputs": [],
   "source": [
    "encodingoh(required_column)"
   ]
  },
  {
   "cell_type": "code",
   "execution_count": null,
   "id": "8cc7380a",
   "metadata": {},
   "outputs": [],
   "source": []
  },
  {
   "cell_type": "code",
   "execution_count": 37,
   "id": "ec109152",
   "metadata": {},
   "outputs": [
    {
     "name": "stdout",
     "output_type": "stream",
     "text": [
      "Gender\n",
      "female    5791\n",
      "male      5791\n",
      "dtype: int64\n"
     ]
    }
   ],
   "source": [
    "print(sucidedataframe.pivot_table(columns=['Gender'], aggfunc='size'))"
   ]
  },
  {
   "cell_type": "code",
   "execution_count": 38,
   "id": "4c70ef3d",
   "metadata": {},
   "outputs": [
    {
     "name": "stdout",
     "output_type": "stream",
     "text": [
      "Age\n",
      "15-24 years    1934\n",
      "25-34 years    1934\n",
      "35-54 years    1934\n",
      "5-14 years     1912\n",
      "55-74 years    1934\n",
      "75+ years      1934\n",
      "dtype: int64\n"
     ]
    }
   ],
   "source": [
    "print(sucidedataframe.pivot_table(columns=['Age'], aggfunc='size'))"
   ]
  },
  {
   "cell_type": "code",
   "execution_count": 39,
   "id": "c135093c",
   "metadata": {},
   "outputs": [],
   "source": [
    "le = LabelEncoder()\n",
    "sucidedataframe.Gender = pd.get_dummies(sucidedataframe.Gender,drop_first = True)\n",
    "sucidedataframe.Age= le.fit_transform(sucidedataframe.Age)"
   ]
  },
  {
   "cell_type": "code",
   "execution_count": 40,
   "id": "36d5dc6e",
   "metadata": {},
   "outputs": [
    {
     "name": "stdout",
     "output_type": "stream",
     "text": [
      "Gender\n",
      "0    5791\n",
      "1    5791\n",
      "dtype: int64\n"
     ]
    }
   ],
   "source": [
    "print(sucidedataframe.pivot_table(columns=['Gender'], aggfunc='size'))"
   ]
  },
  {
   "cell_type": "code",
   "execution_count": 41,
   "id": "80d5b549",
   "metadata": {},
   "outputs": [
    {
     "name": "stdout",
     "output_type": "stream",
     "text": [
      "Age\n",
      "0    1934\n",
      "1    1934\n",
      "2    1934\n",
      "3    1912\n",
      "4    1934\n",
      "5    1934\n",
      "dtype: int64\n"
     ]
    }
   ],
   "source": [
    "print(sucidedataframe.pivot_table(columns=['Age'], aggfunc='size'))  # counts duplicates in the selected dataframe column."
   ]
  },
  {
   "cell_type": "code",
   "execution_count": 42,
   "id": "e7243fc6",
   "metadata": {},
   "outputs": [
    {
     "data": {
      "text/html": [
       "<div>\n",
       "<style scoped>\n",
       "    .dataframe tbody tr th:only-of-type {\n",
       "        vertical-align: middle;\n",
       "    }\n",
       "\n",
       "    .dataframe tbody tr th {\n",
       "        vertical-align: top;\n",
       "    }\n",
       "\n",
       "    .dataframe thead th {\n",
       "        text-align: right;\n",
       "    }\n",
       "</style>\n",
       "<table border=\"1\" class=\"dataframe\">\n",
       "  <thead>\n",
       "    <tr style=\"text-align: right;\">\n",
       "      <th></th>\n",
       "      <th>Country</th>\n",
       "      <th>Year</th>\n",
       "      <th>Age</th>\n",
       "      <th>Gender</th>\n",
       "      <th>Population</th>\n",
       "      <th>Internet_Usage_per_percent_Population</th>\n",
       "      <th>Total_Labour_force</th>\n",
       "      <th>Cellular_subscriptions_per_100_people</th>\n",
       "      <th>GDPpyear</th>\n",
       "      <th>GDPpcapital</th>\n",
       "      <th>Expense_percent_of_GDP)</th>\n",
       "      <th>Physicians_per_1,000_people)</th>\n",
       "      <th>Refugee_population_by_country_or_territory_of_origin</th>\n",
       "      <th>Suicidesper100k</th>\n",
       "    </tr>\n",
       "  </thead>\n",
       "  <tbody>\n",
       "    <tr>\n",
       "      <th>0</th>\n",
       "      <td>Argentina</td>\n",
       "      <td>1985</td>\n",
       "      <td>5</td>\n",
       "      <td>1</td>\n",
       "      <td>363000</td>\n",
       "      <td>0</td>\n",
       "      <td>0</td>\n",
       "      <td>0.0</td>\n",
       "      <td>8.841667e+10</td>\n",
       "      <td>3264</td>\n",
       "      <td>0.0</td>\n",
       "      <td>0.0</td>\n",
       "      <td>0.0</td>\n",
       "      <td>55.65</td>\n",
       "    </tr>\n",
       "    <tr>\n",
       "      <th>1</th>\n",
       "      <td>Argentina</td>\n",
       "      <td>1985</td>\n",
       "      <td>4</td>\n",
       "      <td>1</td>\n",
       "      <td>1997000</td>\n",
       "      <td>0</td>\n",
       "      <td>0</td>\n",
       "      <td>0.0</td>\n",
       "      <td>8.841667e+10</td>\n",
       "      <td>3264</td>\n",
       "      <td>0.0</td>\n",
       "      <td>0.0</td>\n",
       "      <td>0.0</td>\n",
       "      <td>24.29</td>\n",
       "    </tr>\n",
       "    <tr>\n",
       "      <th>2</th>\n",
       "      <td>Argentina</td>\n",
       "      <td>1985</td>\n",
       "      <td>2</td>\n",
       "      <td>1</td>\n",
       "      <td>3346300</td>\n",
       "      <td>0</td>\n",
       "      <td>0</td>\n",
       "      <td>0.0</td>\n",
       "      <td>8.841667e+10</td>\n",
       "      <td>3264</td>\n",
       "      <td>0.0</td>\n",
       "      <td>0.0</td>\n",
       "      <td>0.0</td>\n",
       "      <td>12.37</td>\n",
       "    </tr>\n",
       "    <tr>\n",
       "      <th>3</th>\n",
       "      <td>Argentina</td>\n",
       "      <td>1985</td>\n",
       "      <td>4</td>\n",
       "      <td>0</td>\n",
       "      <td>2304000</td>\n",
       "      <td>0</td>\n",
       "      <td>0</td>\n",
       "      <td>0.0</td>\n",
       "      <td>8.841667e+10</td>\n",
       "      <td>3264</td>\n",
       "      <td>0.0</td>\n",
       "      <td>0.0</td>\n",
       "      <td>0.0</td>\n",
       "      <td>9.11</td>\n",
       "    </tr>\n",
       "    <tr>\n",
       "      <th>4</th>\n",
       "      <td>Argentina</td>\n",
       "      <td>1985</td>\n",
       "      <td>1</td>\n",
       "      <td>1</td>\n",
       "      <td>2234200</td>\n",
       "      <td>0</td>\n",
       "      <td>0</td>\n",
       "      <td>0.0</td>\n",
       "      <td>8.841667e+10</td>\n",
       "      <td>3264</td>\n",
       "      <td>0.0</td>\n",
       "      <td>0.0</td>\n",
       "      <td>0.0</td>\n",
       "      <td>7.92</td>\n",
       "    </tr>\n",
       "  </tbody>\n",
       "</table>\n",
       "</div>"
      ],
      "text/plain": [
       "     Country  Year  Age  Gender  Population  \\\n",
       "0  Argentina  1985    5       1      363000   \n",
       "1  Argentina  1985    4       1     1997000   \n",
       "2  Argentina  1985    2       1     3346300   \n",
       "3  Argentina  1985    4       0     2304000   \n",
       "4  Argentina  1985    1       1     2234200   \n",
       "\n",
       "   Internet_Usage_per_percent_Population  Total_Labour_force  \\\n",
       "0                                      0                   0   \n",
       "1                                      0                   0   \n",
       "2                                      0                   0   \n",
       "3                                      0                   0   \n",
       "4                                      0                   0   \n",
       "\n",
       "   Cellular_subscriptions_per_100_people      GDPpyear  GDPpcapital  \\\n",
       "0                                    0.0  8.841667e+10         3264   \n",
       "1                                    0.0  8.841667e+10         3264   \n",
       "2                                    0.0  8.841667e+10         3264   \n",
       "3                                    0.0  8.841667e+10         3264   \n",
       "4                                    0.0  8.841667e+10         3264   \n",
       "\n",
       "   Expense_percent_of_GDP)  Physicians_per_1,000_people)  \\\n",
       "0                      0.0                           0.0   \n",
       "1                      0.0                           0.0   \n",
       "2                      0.0                           0.0   \n",
       "3                      0.0                           0.0   \n",
       "4                      0.0                           0.0   \n",
       "\n",
       "   Refugee_population_by_country_or_territory_of_origin  Suicidesper100k  \n",
       "0                                                0.0               55.65  \n",
       "1                                                0.0               24.29  \n",
       "2                                                0.0               12.37  \n",
       "3                                                0.0                9.11  \n",
       "4                                                0.0                7.92  "
      ]
     },
     "execution_count": 42,
     "metadata": {},
     "output_type": "execute_result"
    }
   ],
   "source": [
    "sucidedataframe.head()"
   ]
  },
  {
   "cell_type": "code",
   "execution_count": 43,
   "id": "1e49e568",
   "metadata": {},
   "outputs": [
    {
     "data": {
      "text/html": [
       "<div>\n",
       "<style scoped>\n",
       "    .dataframe tbody tr th:only-of-type {\n",
       "        vertical-align: middle;\n",
       "    }\n",
       "\n",
       "    .dataframe tbody tr th {\n",
       "        vertical-align: top;\n",
       "    }\n",
       "\n",
       "    .dataframe thead th {\n",
       "        text-align: right;\n",
       "    }\n",
       "</style>\n",
       "<table border=\"1\" class=\"dataframe\">\n",
       "  <thead>\n",
       "    <tr style=\"text-align: right;\">\n",
       "      <th></th>\n",
       "      <th>Year</th>\n",
       "      <th>Age</th>\n",
       "      <th>Gender</th>\n",
       "      <th>Population</th>\n",
       "      <th>Internet_Usage_per_percent_Population</th>\n",
       "      <th>Total_Labour_force</th>\n",
       "      <th>Cellular_subscriptions_per_100_people</th>\n",
       "      <th>GDPpyear</th>\n",
       "      <th>GDPpcapital</th>\n",
       "      <th>Expense_percent_of_GDP)</th>\n",
       "      <th>Physicians_per_1,000_people)</th>\n",
       "      <th>Refugee_population_by_country_or_territory_of_origin</th>\n",
       "      <th>Suicidesper100k</th>\n",
       "    </tr>\n",
       "  </thead>\n",
       "  <tbody>\n",
       "    <tr>\n",
       "      <th>count</th>\n",
       "      <td>11582.0</td>\n",
       "      <td>11582.0</td>\n",
       "      <td>11582.0</td>\n",
       "      <td>11582.0</td>\n",
       "      <td>11582.0</td>\n",
       "      <td>11582.0</td>\n",
       "      <td>11582.0</td>\n",
       "      <td>1.158200e+04</td>\n",
       "      <td>11582.0</td>\n",
       "      <td>11582.0</td>\n",
       "      <td>11582.0</td>\n",
       "      <td>11582.0</td>\n",
       "      <td>11582.0</td>\n",
       "    </tr>\n",
       "    <tr>\n",
       "      <th>mean</th>\n",
       "      <td>2000.0</td>\n",
       "      <td>2.0</td>\n",
       "      <td>0.0</td>\n",
       "      <td>3177995.0</td>\n",
       "      <td>22.0</td>\n",
       "      <td>11580063.0</td>\n",
       "      <td>40.0</td>\n",
       "      <td>8.349823e+11</td>\n",
       "      <td>21705.0</td>\n",
       "      <td>18.0</td>\n",
       "      <td>2.0</td>\n",
       "      <td>10792.0</td>\n",
       "      <td>14.0</td>\n",
       "    </tr>\n",
       "    <tr>\n",
       "      <th>std</th>\n",
       "      <td>9.0</td>\n",
       "      <td>2.0</td>\n",
       "      <td>1.0</td>\n",
       "      <td>5225340.0</td>\n",
       "      <td>30.0</td>\n",
       "      <td>25821301.0</td>\n",
       "      <td>49.0</td>\n",
       "      <td>2.062091e+12</td>\n",
       "      <td>19438.0</td>\n",
       "      <td>17.0</td>\n",
       "      <td>2.0</td>\n",
       "      <td>49908.0</td>\n",
       "      <td>18.0</td>\n",
       "    </tr>\n",
       "    <tr>\n",
       "      <th>min</th>\n",
       "      <td>1985.0</td>\n",
       "      <td>0.0</td>\n",
       "      <td>0.0</td>\n",
       "      <td>4400.0</td>\n",
       "      <td>0.0</td>\n",
       "      <td>0.0</td>\n",
       "      <td>0.0</td>\n",
       "      <td>1.201313e+09</td>\n",
       "      <td>357.0</td>\n",
       "      <td>0.0</td>\n",
       "      <td>0.0</td>\n",
       "      <td>0.0</td>\n",
       "      <td>0.0</td>\n",
       "    </tr>\n",
       "    <tr>\n",
       "      <th>25%</th>\n",
       "      <td>1992.0</td>\n",
       "      <td>1.0</td>\n",
       "      <td>0.0</td>\n",
       "      <td>424275.0</td>\n",
       "      <td>0.0</td>\n",
       "      <td>0.0</td>\n",
       "      <td>0.0</td>\n",
       "      <td>6.752529e+10</td>\n",
       "      <td>5466.0</td>\n",
       "      <td>0.0</td>\n",
       "      <td>0.0</td>\n",
       "      <td>0.0</td>\n",
       "      <td>2.0</td>\n",
       "    </tr>\n",
       "    <tr>\n",
       "      <th>50%</th>\n",
       "      <td>1999.0</td>\n",
       "      <td>2.0</td>\n",
       "      <td>0.0</td>\n",
       "      <td>1052750.0</td>\n",
       "      <td>1.0</td>\n",
       "      <td>2045018.0</td>\n",
       "      <td>5.0</td>\n",
       "      <td>2.260000e+11</td>\n",
       "      <td>16615.0</td>\n",
       "      <td>17.0</td>\n",
       "      <td>2.0</td>\n",
       "      <td>6.0</td>\n",
       "      <td>8.0</td>\n",
       "    </tr>\n",
       "    <tr>\n",
       "      <th>75%</th>\n",
       "      <td>2009.0</td>\n",
       "      <td>4.0</td>\n",
       "      <td>1.0</td>\n",
       "      <td>3674681.0</td>\n",
       "      <td>41.0</td>\n",
       "      <td>8865394.0</td>\n",
       "      <td>88.0</td>\n",
       "      <td>5.890000e+11</td>\n",
       "      <td>31533.0</td>\n",
       "      <td>34.0</td>\n",
       "      <td>3.0</td>\n",
       "      <td>224.0</td>\n",
       "      <td>19.0</td>\n",
       "    </tr>\n",
       "    <tr>\n",
       "      <th>max</th>\n",
       "      <td>2016.0</td>\n",
       "      <td>5.0</td>\n",
       "      <td>1.0</td>\n",
       "      <td>43805214.0</td>\n",
       "      <td>96.0</td>\n",
       "      <td>158831064.0</td>\n",
       "      <td>172.0</td>\n",
       "      <td>1.810000e+13</td>\n",
       "      <td>109804.0</td>\n",
       "      <td>60.0</td>\n",
       "      <td>6.0</td>\n",
       "      <td>396717.0</td>\n",
       "      <td>178.0</td>\n",
       "    </tr>\n",
       "  </tbody>\n",
       "</table>\n",
       "</div>"
      ],
      "text/plain": [
       "          Year      Age   Gender  Population  \\\n",
       "count  11582.0  11582.0  11582.0     11582.0   \n",
       "mean    2000.0      2.0      0.0   3177995.0   \n",
       "std        9.0      2.0      1.0   5225340.0   \n",
       "min     1985.0      0.0      0.0      4400.0   \n",
       "25%     1992.0      1.0      0.0    424275.0   \n",
       "50%     1999.0      2.0      0.0   1052750.0   \n",
       "75%     2009.0      4.0      1.0   3674681.0   \n",
       "max     2016.0      5.0      1.0  43805214.0   \n",
       "\n",
       "       Internet_Usage_per_percent_Population  Total_Labour_force  \\\n",
       "count                                11582.0             11582.0   \n",
       "mean                                    22.0          11580063.0   \n",
       "std                                     30.0          25821301.0   \n",
       "min                                      0.0                 0.0   \n",
       "25%                                      0.0                 0.0   \n",
       "50%                                      1.0           2045018.0   \n",
       "75%                                     41.0           8865394.0   \n",
       "max                                     96.0         158831064.0   \n",
       "\n",
       "       Cellular_subscriptions_per_100_people      GDPpyear  GDPpcapital  \\\n",
       "count                                11582.0  1.158200e+04      11582.0   \n",
       "mean                                    40.0  8.349823e+11      21705.0   \n",
       "std                                     49.0  2.062091e+12      19438.0   \n",
       "min                                      0.0  1.201313e+09        357.0   \n",
       "25%                                      0.0  6.752529e+10       5466.0   \n",
       "50%                                      5.0  2.260000e+11      16615.0   \n",
       "75%                                     88.0  5.890000e+11      31533.0   \n",
       "max                                    172.0  1.810000e+13     109804.0   \n",
       "\n",
       "       Expense_percent_of_GDP)  Physicians_per_1,000_people)  \\\n",
       "count                  11582.0                       11582.0   \n",
       "mean                      18.0                           2.0   \n",
       "std                       17.0                           2.0   \n",
       "min                        0.0                           0.0   \n",
       "25%                        0.0                           0.0   \n",
       "50%                       17.0                           2.0   \n",
       "75%                       34.0                           3.0   \n",
       "max                       60.0                           6.0   \n",
       "\n",
       "       Refugee_population_by_country_or_territory_of_origin  Suicidesper100k  \n",
       "count                                            11582.0             11582.0  \n",
       "mean                                             10792.0                14.0  \n",
       "std                                              49908.0                18.0  \n",
       "min                                                  0.0                 0.0  \n",
       "25%                                                  0.0                 2.0  \n",
       "50%                                                  6.0                 8.0  \n",
       "75%                                                224.0                19.0  \n",
       "max                                             396717.0               178.0  "
      ]
     },
     "execution_count": 43,
     "metadata": {},
     "output_type": "execute_result"
    }
   ],
   "source": [
    "sucidedataframe.describe().round()  # Shows the count, mean, std, min, 25%, 50%, 75% and \n",
    "                                    # max of a datframe. "
   ]
  },
  {
   "cell_type": "code",
   "execution_count": 44,
   "id": "2d64ad6a",
   "metadata": {},
   "outputs": [
    {
     "name": "stdout",
     "output_type": "stream",
     "text": [
      "max  89\n",
      "high  44\n",
      "medium  22\n",
      "min  11\n"
     ]
    }
   ],
   "source": [
    "print(\"max \", round(178/2))\n",
    "print(\"high \", round(89/2))\n",
    "print(\"medium \", round(44/2))\n",
    "print(\"min \", round(22/2))"
   ]
  },
  {
   "cell_type": "code",
   "execution_count": 45,
   "id": "e12bfba0",
   "metadata": {},
   "outputs": [],
   "source": [
    "sucidedataframe.loc[(sucidedataframe[\"Suicidesper100k\"] < 11), \"Suicidesper100k\"] = 1  # Encoding values above 43 \n",
    "                                                # as and below 86 to 2."
   ]
  },
  {
   "cell_type": "code",
   "execution_count": 46,
   "id": "992a8827",
   "metadata": {},
   "outputs": [],
   "source": [
    "sucidedataframe.loc[(sucidedataframe[\"Suicidesper100k\"] >= 11) & (sucidedataframe[\"Suicidesper100k\"] < 22), \"Suicidesper100k\"] = 2  # Encoding values above 43 \n",
    "                                                # as and below 86 to 2."
   ]
  },
  {
   "cell_type": "code",
   "execution_count": 47,
   "id": "2c875378",
   "metadata": {},
   "outputs": [],
   "source": [
    "sucidedataframe.loc[(sucidedataframe[\"Suicidesper100k\"] >= 22) & (sucidedataframe[\"Suicidesper100k\"] < 44), \"Suicidesper100k\"] = 3  # Encoding values above 86 \n",
    "                                                # as and below 172 to 3."
   ]
  },
  {
   "cell_type": "code",
   "execution_count": 48,
   "id": "e55f6a71",
   "metadata": {},
   "outputs": [],
   "source": [
    "sucidedataframe.loc[(sucidedataframe[\"Suicidesper100k\"] >= 44) & (sucidedataframe[\"Suicidesper100k\"] < 89), \"Suicidesper100k\"] = 3  # Encoding values above 86 \n",
    "                                                # as and below 172 to 3."
   ]
  },
  {
   "cell_type": "code",
   "execution_count": 49,
   "id": "21f32b70",
   "metadata": {},
   "outputs": [],
   "source": [
    "sucidedataframe.loc[(sucidedataframe[\"Suicidesper100k\"] >= 89) & (sucidedataframe[\"Suicidesper100k\"] <= 178), \"Suicidesper100k\"] = 4  # Encoding values above 86 \n",
    "                                                # as and below 172 to 3."
   ]
  },
  {
   "cell_type": "code",
   "execution_count": 50,
   "id": "3ea234af",
   "metadata": {},
   "outputs": [
    {
     "name": "stdout",
     "output_type": "stream",
     "text": [
      "Suicidesper100k\n",
      "1.0    7008\n",
      "2.0    2178\n",
      "3.0    2284\n",
      "4.0     112\n",
      "dtype: int64\n"
     ]
    }
   ],
   "source": [
    "print(sucidedataframe.pivot_table(columns=['Suicidesper100k'], aggfunc='size'))  # counts duplicates in the selected dataframe column."
   ]
  },
  {
   "cell_type": "code",
   "execution_count": 51,
   "id": "0de3fa81",
   "metadata": {},
   "outputs": [
    {
     "data": {
      "text/html": [
       "<div>\n",
       "<style scoped>\n",
       "    .dataframe tbody tr th:only-of-type {\n",
       "        vertical-align: middle;\n",
       "    }\n",
       "\n",
       "    .dataframe tbody tr th {\n",
       "        vertical-align: top;\n",
       "    }\n",
       "\n",
       "    .dataframe thead th {\n",
       "        text-align: right;\n",
       "    }\n",
       "</style>\n",
       "<table border=\"1\" class=\"dataframe\">\n",
       "  <thead>\n",
       "    <tr style=\"text-align: right;\">\n",
       "      <th></th>\n",
       "      <th>Country</th>\n",
       "      <th>Year</th>\n",
       "      <th>Age</th>\n",
       "      <th>Gender</th>\n",
       "      <th>Population</th>\n",
       "      <th>Internet_Usage_per_percent_Population</th>\n",
       "      <th>Total_Labour_force</th>\n",
       "      <th>Cellular_subscriptions_per_100_people</th>\n",
       "      <th>GDPpyear</th>\n",
       "      <th>GDPpcapital</th>\n",
       "      <th>Expense_percent_of_GDP)</th>\n",
       "      <th>Physicians_per_1,000_people)</th>\n",
       "      <th>Refugee_population_by_country_or_territory_of_origin</th>\n",
       "      <th>Suicidesper100k</th>\n",
       "    </tr>\n",
       "  </thead>\n",
       "  <tbody>\n",
       "    <tr>\n",
       "      <th>0</th>\n",
       "      <td>Argentina</td>\n",
       "      <td>1985</td>\n",
       "      <td>5</td>\n",
       "      <td>1</td>\n",
       "      <td>363000</td>\n",
       "      <td>0</td>\n",
       "      <td>0</td>\n",
       "      <td>0.0</td>\n",
       "      <td>8.841667e+10</td>\n",
       "      <td>3264</td>\n",
       "      <td>0.0</td>\n",
       "      <td>0.0</td>\n",
       "      <td>0.0</td>\n",
       "      <td>3.0</td>\n",
       "    </tr>\n",
       "    <tr>\n",
       "      <th>1</th>\n",
       "      <td>Argentina</td>\n",
       "      <td>1985</td>\n",
       "      <td>4</td>\n",
       "      <td>1</td>\n",
       "      <td>1997000</td>\n",
       "      <td>0</td>\n",
       "      <td>0</td>\n",
       "      <td>0.0</td>\n",
       "      <td>8.841667e+10</td>\n",
       "      <td>3264</td>\n",
       "      <td>0.0</td>\n",
       "      <td>0.0</td>\n",
       "      <td>0.0</td>\n",
       "      <td>3.0</td>\n",
       "    </tr>\n",
       "    <tr>\n",
       "      <th>2</th>\n",
       "      <td>Argentina</td>\n",
       "      <td>1985</td>\n",
       "      <td>2</td>\n",
       "      <td>1</td>\n",
       "      <td>3346300</td>\n",
       "      <td>0</td>\n",
       "      <td>0</td>\n",
       "      <td>0.0</td>\n",
       "      <td>8.841667e+10</td>\n",
       "      <td>3264</td>\n",
       "      <td>0.0</td>\n",
       "      <td>0.0</td>\n",
       "      <td>0.0</td>\n",
       "      <td>2.0</td>\n",
       "    </tr>\n",
       "    <tr>\n",
       "      <th>3</th>\n",
       "      <td>Argentina</td>\n",
       "      <td>1985</td>\n",
       "      <td>4</td>\n",
       "      <td>0</td>\n",
       "      <td>2304000</td>\n",
       "      <td>0</td>\n",
       "      <td>0</td>\n",
       "      <td>0.0</td>\n",
       "      <td>8.841667e+10</td>\n",
       "      <td>3264</td>\n",
       "      <td>0.0</td>\n",
       "      <td>0.0</td>\n",
       "      <td>0.0</td>\n",
       "      <td>1.0</td>\n",
       "    </tr>\n",
       "    <tr>\n",
       "      <th>4</th>\n",
       "      <td>Argentina</td>\n",
       "      <td>1985</td>\n",
       "      <td>1</td>\n",
       "      <td>1</td>\n",
       "      <td>2234200</td>\n",
       "      <td>0</td>\n",
       "      <td>0</td>\n",
       "      <td>0.0</td>\n",
       "      <td>8.841667e+10</td>\n",
       "      <td>3264</td>\n",
       "      <td>0.0</td>\n",
       "      <td>0.0</td>\n",
       "      <td>0.0</td>\n",
       "      <td>1.0</td>\n",
       "    </tr>\n",
       "  </tbody>\n",
       "</table>\n",
       "</div>"
      ],
      "text/plain": [
       "     Country  Year  Age  Gender  Population  \\\n",
       "0  Argentina  1985    5       1      363000   \n",
       "1  Argentina  1985    4       1     1997000   \n",
       "2  Argentina  1985    2       1     3346300   \n",
       "3  Argentina  1985    4       0     2304000   \n",
       "4  Argentina  1985    1       1     2234200   \n",
       "\n",
       "   Internet_Usage_per_percent_Population  Total_Labour_force  \\\n",
       "0                                      0                   0   \n",
       "1                                      0                   0   \n",
       "2                                      0                   0   \n",
       "3                                      0                   0   \n",
       "4                                      0                   0   \n",
       "\n",
       "   Cellular_subscriptions_per_100_people      GDPpyear  GDPpcapital  \\\n",
       "0                                    0.0  8.841667e+10         3264   \n",
       "1                                    0.0  8.841667e+10         3264   \n",
       "2                                    0.0  8.841667e+10         3264   \n",
       "3                                    0.0  8.841667e+10         3264   \n",
       "4                                    0.0  8.841667e+10         3264   \n",
       "\n",
       "   Expense_percent_of_GDP)  Physicians_per_1,000_people)  \\\n",
       "0                      0.0                           0.0   \n",
       "1                      0.0                           0.0   \n",
       "2                      0.0                           0.0   \n",
       "3                      0.0                           0.0   \n",
       "4                      0.0                           0.0   \n",
       "\n",
       "   Refugee_population_by_country_or_territory_of_origin  Suicidesper100k  \n",
       "0                                                0.0                 3.0  \n",
       "1                                                0.0                 3.0  \n",
       "2                                                0.0                 2.0  \n",
       "3                                                0.0                 1.0  \n",
       "4                                                0.0                 1.0  "
      ]
     },
     "execution_count": 51,
     "metadata": {},
     "output_type": "execute_result"
    }
   ],
   "source": [
    "sucidedataframe.head()"
   ]
  },
  {
   "cell_type": "code",
   "execution_count": 54,
   "id": "4b3d43e1",
   "metadata": {},
   "outputs": [
    {
     "name": "stdout",
     "output_type": "stream",
     "text": [
      "<class 'pandas.core.frame.DataFrame'>\n",
      "RangeIndex: 11582 entries, 0 to 11581\n",
      "Data columns (total 14 columns):\n",
      " #   Column                                                Non-Null Count  Dtype  \n",
      "---  ------                                                --------------  -----  \n",
      " 0   Country                                               11582 non-null  object \n",
      " 1   Year                                                  11582 non-null  int64  \n",
      " 2   Age                                                   11582 non-null  int32  \n",
      " 3   Gender                                                11582 non-null  uint8  \n",
      " 4   Population                                            11582 non-null  int64  \n",
      " 5   Internet_Usage_per_percent_Population                 11582 non-null  int64  \n",
      " 6   Total_Labour_force                                    11582 non-null  int64  \n",
      " 7   Cellular_subscriptions_per_100_people                 11582 non-null  float64\n",
      " 8   GDPpyear                                              11582 non-null  float64\n",
      " 9   GDPpcapital                                           11582 non-null  int64  \n",
      " 10  Expense_percent_of_GDP)                               11582 non-null  float64\n",
      " 11  Physicians_per_1,000_people)                          11582 non-null  float64\n",
      " 12  Refugee_population_by_country_or_territory_of_origin  11582 non-null  float64\n",
      " 13  Suicidesper100k                                       11582 non-null  float64\n",
      "dtypes: float64(6), int32(1), int64(5), object(1), uint8(1)\n",
      "memory usage: 1.1+ MB\n"
     ]
    }
   ],
   "source": [
    "sucidedataframe.info()  # checking Basic information on the dataframe being procesed."
   ]
  },
  {
   "cell_type": "code",
   "execution_count": 55,
   "id": "6435aace",
   "metadata": {},
   "outputs": [],
   "source": [
    "sucidedataframe['Cellular_subscriptions_per_100_people'] = sucidedataframe['Cellular_subscriptions_per_100_people'].astype(np.int64)  # converting float to int."
   ]
  },
  {
   "cell_type": "code",
   "execution_count": 56,
   "id": "6e649a02",
   "metadata": {},
   "outputs": [],
   "source": [
    "sucidedataframe['Suicidesper100k'] = sucidedataframe['Suicidesper100k'].astype(np.int64)  # converting float to int."
   ]
  },
  {
   "cell_type": "code",
   "execution_count": 57,
   "id": "4b746e31",
   "metadata": {},
   "outputs": [],
   "source": [
    "sucidedataframe['Age'] = sucidedataframe['Age'].astype(np.int64)  # converting float to int."
   ]
  },
  {
   "cell_type": "code",
   "execution_count": 58,
   "id": "886f4388",
   "metadata": {},
   "outputs": [],
   "source": [
    "sucidedataframe['Gender'] = sucidedataframe['Gender'].astype(np.int64)  # converting float to int."
   ]
  },
  {
   "cell_type": "code",
   "execution_count": 59,
   "id": "9919faa9",
   "metadata": {},
   "outputs": [],
   "source": [
    "sucidedataframe['GDPpyear'] = sucidedataframe['GDPpyear'].astype(np.int64)  # converting float to int."
   ]
  },
  {
   "cell_type": "code",
   "execution_count": 61,
   "id": "ce4b3305",
   "metadata": {},
   "outputs": [],
   "source": [
    "sucidedataframe['Expense_percent_of_GDP)'] = sucidedataframe['Expense_percent_of_GDP)'].astype(np.int64)  # converting float to int."
   ]
  },
  {
   "cell_type": "code",
   "execution_count": 62,
   "id": "aa1cbf1e",
   "metadata": {},
   "outputs": [],
   "source": [
    "sucidedataframe['Physicians_per_1,000_people)'] = sucidedataframe['Physicians_per_1,000_people)'].astype(np.int64)  # converting float to int."
   ]
  },
  {
   "cell_type": "code",
   "execution_count": 63,
   "id": "636cc728",
   "metadata": {},
   "outputs": [],
   "source": [
    "sucidedataframe['Refugee_population_by_country_or_territory_of_origin'] = sucidedataframe['Refugee_population_by_country_or_territory_of_origin'].astype(np.int64)  # converting float to int."
   ]
  },
  {
   "cell_type": "code",
   "execution_count": 64,
   "id": "1c5ac445",
   "metadata": {},
   "outputs": [
    {
     "name": "stdout",
     "output_type": "stream",
     "text": [
      "<class 'pandas.core.frame.DataFrame'>\n",
      "RangeIndex: 11582 entries, 0 to 11581\n",
      "Data columns (total 14 columns):\n",
      " #   Column                                                Non-Null Count  Dtype \n",
      "---  ------                                                --------------  ----- \n",
      " 0   Country                                               11582 non-null  object\n",
      " 1   Year                                                  11582 non-null  int64 \n",
      " 2   Age                                                   11582 non-null  int64 \n",
      " 3   Gender                                                11582 non-null  int64 \n",
      " 4   Population                                            11582 non-null  int64 \n",
      " 5   Internet_Usage_per_percent_Population                 11582 non-null  int64 \n",
      " 6   Total_Labour_force                                    11582 non-null  int64 \n",
      " 7   Cellular_subscriptions_per_100_people                 11582 non-null  int64 \n",
      " 8   GDPpyear                                              11582 non-null  int64 \n",
      " 9   GDPpcapital                                           11582 non-null  int64 \n",
      " 10  Expense_percent_of_GDP)                               11582 non-null  int64 \n",
      " 11  Physicians_per_1,000_people)                          11582 non-null  int64 \n",
      " 12  Refugee_population_by_country_or_territory_of_origin  11582 non-null  int64 \n",
      " 13  Suicidesper100k                                       11582 non-null  int64 \n",
      "dtypes: int64(13), object(1)\n",
      "memory usage: 1.2+ MB\n"
     ]
    }
   ],
   "source": [
    "sucidedataframe.info()  # checking Basic information on the dataframe being procesed."
   ]
  },
  {
   "cell_type": "code",
   "execution_count": 65,
   "id": "d423f75f",
   "metadata": {},
   "outputs": [
    {
     "data": {
      "text/plain": [
       "<AxesSubplot:>"
      ]
     },
     "execution_count": 65,
     "metadata": {},
     "output_type": "execute_result"
    },
    {
     "data": {
      "image/png": "[encoded data removed]",
      "text/plain": [
       "<Figure size 864x648 with 2 Axes>"
      ]
     },
     "metadata": {
      "needs_background": "light"
     },
     "output_type": "display_data"
    }
   ],
   "source": [
    "plt.figure(figsize = (12,9))  # sets the size of the matrix\n",
    "correlation_matrix = sucidedataframe.corr().round(2)  # creates the correlation matrix\n",
    "sns.heatmap(data = correlation_matrix, annot = True)  # shows correlation matrix"
   ]
  },
  {
   "cell_type": "code",
   "execution_count": 68,
   "id": "c47eaf03",
   "metadata": {},
   "outputs": [],
   "source": [
    "# Below the col names are renamed.\n",
    "sucidedataframe = sucidedataframe[[\"Country\", \"Age\", \"Gender\", \"Population\", \\\n",
    "\"Internet_Usage_per_percent_Population\", \"Total_Labour_force\", \"Cellular_subscriptions_per_100_people\", \\\n",
    "\"GDPpyear\",\"GDPpcapital\",\"Expense_percent_of_GDP)\",\\\n",
    "\"Physicians_per_1,000_people)\" ,\"Suicidesper100k\"]]"
   ]
  },
  {
   "cell_type": "code",
   "execution_count": 69,
   "id": "03215126",
   "metadata": {},
   "outputs": [
    {
     "data": {
      "text/plain": [
       "<AxesSubplot:>"
      ]
     },
     "execution_count": 69,
     "metadata": {},
     "output_type": "execute_result"
    },
    {
     "data": {
      "image/png": "[encoded data removed]",
      "text/plain": [
       "<Figure size 864x648 with 2 Axes>"
      ]
     },
     "metadata": {
      "needs_background": "light"
     },
     "output_type": "display_data"
    }
   ],
   "source": [
    "plt.figure(figsize = (12,9))  # sets the size of the matrix\n",
    "correlation_matrix = sucidedataframe.corr().round(2)  # creates the correlation matrix\n",
    "sns.heatmap(data = correlation_matrix, annot = True)  # shows correlation matrix"
   ]
  },
  {
   "cell_type": "code",
   "execution_count": 70,
   "id": "b3549bad",
   "metadata": {},
   "outputs": [],
   "source": [
    "# COLUMNS TO KEEP\n",
    " # Psyscians , expences, gdp per cap, gdp per year, expences % gdp , internet usage per pop, \n",
    " # gender, age\n",
    "\n",
    "# columns to remove from the above\n",
    "# column                              -          has high corelation to \n",
    "# total labour force                  -          population/internet usage/gdp per cap/gdp per year/expences per gdp/psycians/\n",
    "\n"
   ]
  },
  {
   "cell_type": "code",
   "execution_count": 71,
   "id": "38d22494",
   "metadata": {},
   "outputs": [],
   "source": [
    "sucidedataframe = sucidedataframe.drop('Total_Labour_force', 1)"
   ]
  },
  {
   "cell_type": "code",
   "execution_count": 72,
   "id": "929205fd",
   "metadata": {},
   "outputs": [
    {
     "data": {
      "text/plain": [
       "<AxesSubplot:>"
      ]
     },
     "execution_count": 72,
     "metadata": {},
     "output_type": "execute_result"
    },
    {
     "data": {
      "image/png": "[encoded data removed]",
      "text/plain": [
       "<Figure size 864x648 with 2 Axes>"
      ]
     },
     "metadata": {
      "needs_background": "light"
     },
     "output_type": "display_data"
    }
   ],
   "source": [
    "plt.figure(figsize = (12,9))  # sets the size of the matrix\n",
    "correlation_matrix = sucidedataframe.corr().round(2)  # creates the correlation matrix\n",
    "sns.heatmap(data = correlation_matrix, annot = True)  # shows correlation matrix"
   ]
  },
  {
   "cell_type": "code",
   "execution_count": 73,
   "id": "32ff242a",
   "metadata": {},
   "outputs": [],
   "source": [
    "sucidedataframe = sucidedataframe.drop('GDPpyear', 1)"
   ]
  },
  {
   "cell_type": "code",
   "execution_count": 74,
   "id": "37faacef",
   "metadata": {},
   "outputs": [
    {
     "data": {
      "text/plain": [
       "<AxesSubplot:>"
      ]
     },
     "execution_count": 74,
     "metadata": {},
     "output_type": "execute_result"
    },
    {
     "data": {
      "image/png": "[encoded data removed]",
      "text/plain": [
       "<Figure size 864x648 with 2 Axes>"
      ]
     },
     "metadata": {
      "needs_background": "light"
     },
     "output_type": "display_data"
    }
   ],
   "source": [
    "plt.figure(figsize = (12,9))  # sets the size of the matrix\n",
    "correlation_matrix = sucidedataframe.corr().round(2)  # creates the correlation matrix\n",
    "sns.heatmap(data = correlation_matrix, annot = True)  # shows correlation matrix"
   ]
  },
  {
   "cell_type": "code",
   "execution_count": 75,
   "id": "8bedb92d",
   "metadata": {},
   "outputs": [
    {
     "data": {
      "text/plain": [
       "Index(['Country', 'Age', 'Gender', 'Population',\n",
       "       'Internet_Usage_per_percent_Population',\n",
       "       'Cellular_subscriptions_per_100_people', 'GDPpcapital',\n",
       "       'Expense_percent_of_GDP)', 'Physicians_per_1,000_people)',\n",
       "       'Suicidesper100k'],\n",
       "      dtype='object')"
      ]
     },
     "execution_count": 75,
     "metadata": {},
     "output_type": "execute_result"
    }
   ],
   "source": [
    "sucidedataframe.columns  # The columns of the dataframe are viewed."
   ]
  },
  {
   "cell_type": "code",
   "execution_count": 80,
   "id": "2bd299a6",
   "metadata": {},
   "outputs": [],
   "source": [
    "sucidedataframe = sucidedataframe.drop('Internet_Usage_per_percent_Population', 1)\n",
    "sucidedataframe = sucidedataframe.drop('Cellular_subscriptions_per_100_people', 1)\n",
    "sucidedataframe = sucidedataframe.drop('Expense_percent_of_GDP)', 1)\n",
    "sucidedataframe = sucidedataframe.drop('Physicians_per_1,000_people)', 1)"
   ]
  },
  {
   "cell_type": "code",
   "execution_count": 81,
   "id": "24ac0a1f",
   "metadata": {},
   "outputs": [
    {
     "data": {
      "text/plain": [
       "<AxesSubplot:>"
      ]
     },
     "execution_count": 81,
     "metadata": {},
     "output_type": "execute_result"
    },
    {
     "data": {
      "image/png": "[encoded data removed]",
      "text/plain": [
       "<Figure size 864x648 with 2 Axes>"
      ]
     },
     "metadata": {
      "needs_background": "light"
     },
     "output_type": "display_data"
    }
   ],
   "source": [
    "plt.figure(figsize = (12,9))  # sets the size of the matrix\n",
    "correlation_matrix = sucidedataframe.corr().round(2)  # creates the correlation matrix\n",
    "sns.heatmap(data = correlation_matrix, annot = True)  # shows correlation matrix"
   ]
  },
  {
   "cell_type": "markdown",
   "id": "d4a78be8",
   "metadata": {},
   "source": [
    "### selecting X and Y values "
   ]
  },
  {
   "cell_type": "code",
   "execution_count": 82,
   "id": "23447a26",
   "metadata": {},
   "outputs": [],
   "source": [
    "X = sucidedataframe.iloc[:, :-1].values  # selecting the values for the X variable.\n",
    "X_before_encoding = X"
   ]
  },
  {
   "cell_type": "code",
   "execution_count": 83,
   "id": "36349cc5",
   "metadata": {},
   "outputs": [],
   "source": [
    "y = sucidedataframe[[\"Suicidesper100k\"]].to_numpy()  # selecting the values for the Y variable. # done using .to_numpy and not \n",
    "                                                       # .iloc as .to_numpy creates a horizontal bar while .iloc creates a \n",
    "                                                       # horizontal bar which will not alighn with the x values."
   ]
  },
  {
   "cell_type": "markdown",
   "id": "e7f842b6",
   "metadata": {},
   "source": [
    "## Spliting the datasets into a training and test set "
   ]
  },
  {
   "cell_type": "code",
   "execution_count": 91,
   "id": "a5234297",
   "metadata": {},
   "outputs": [],
   "source": [
    "X_train, X_test, y_train, y_test = train_test_split(X, y, test_size = 0.2, random_state = 1)\n",
    "# test_size = 0.2               # splitting the data into 80 and 20 percent between the training and test set           \n",
    "                                            # to get the best results.                                                           \n",
    "# random_state = 1         # resetting the  random seed"
   ]
  },
  {
   "cell_type": "code",
   "execution_count": 92,
   "id": "642aefb0",
   "metadata": {},
   "outputs": [],
   "source": [
    "UnScaled_X_train,UnScaled_X_test, y_train, y_test = train_test_split(X, y, test_size = 0.2, random_state = 1)\n",
    "# test_size = 0.2               # splitting the data into 80 and 20 percent between the training and test set           \n",
    "                                            # to get the best results.                                                           \n",
    "# random_state = 1         # resetting the  random seed"
   ]
  },
  {
   "cell_type": "code",
   "execution_count": 93,
   "id": "5d0b568a",
   "metadata": {},
   "outputs": [
    {
     "name": "stdout",
     "output_type": "stream",
     "text": [
      "The length of X_train is  9265  and the length of y_train is  9265\n",
      "The length of X_test is  2317  and the length of y_test is  2317\n"
     ]
    }
   ],
   "source": [
    "# print the lenghth of both test and train set to see if there equally split.\n",
    "print(\"The length of X_train is \",len(X_train), \" and the length of y_train is \", len(y_train))  \n",
    "print(\"The length of X_test is \",len(X_test), \" and the length of y_test is \", len(y_test))"
   ]
  },
  {
   "cell_type": "code",
   "execution_count": 94,
   "id": "08e87fc9",
   "metadata": {},
   "outputs": [
    {
     "name": "stdout",
     "output_type": "stream",
     "text": [
      "X_test  [[0.0000000e+00 0.0000000e+00 0.0000000e+00 ... 1.0000000e+00\n",
      "  5.2789000e+05 1.9505000e+04]\n",
      " [0.0000000e+00 0.0000000e+00 0.0000000e+00 ... 1.0000000e+00\n",
      "  1.7674787e+07 1.4245000e+04]\n",
      " [0.0000000e+00 0.0000000e+00 0.0000000e+00 ... 0.0000000e+00\n",
      "  3.2741000e+06 2.1069000e+04]\n",
      " ...\n",
      " [0.0000000e+00 0.0000000e+00 0.0000000e+00 ... 0.0000000e+00\n",
      "  2.7746410e+06 1.6169000e+04]\n",
      " [0.0000000e+00 0.0000000e+00 0.0000000e+00 ... 0.0000000e+00\n",
      "  5.4018400e+05 2.6121000e+04]\n",
      " [0.0000000e+00 0.0000000e+00 0.0000000e+00 ... 0.0000000e+00\n",
      "  4.6510000e+05 2.7750000e+03]] \n",
      "y_test  [[2]\n",
      " [1]\n",
      " [1]\n",
      " ...\n",
      " [1]\n",
      " [1]\n",
      " [1]] \n",
      "X_train  [[0.0000000e+00 0.0000000e+00 0.0000000e+00 ... 0.0000000e+00\n",
      "  1.1270161e+07 2.2290000e+03]\n",
      " [0.0000000e+00 0.0000000e+00 0.0000000e+00 ... 0.0000000e+00\n",
      "  2.9810000e+05 1.1696000e+04]\n",
      " [1.0000000e+00 0.0000000e+00 0.0000000e+00 ... 1.0000000e+00\n",
      "  2.4152000e+06 3.2640000e+03]\n",
      " ...\n",
      " [0.0000000e+00 0.0000000e+00 0.0000000e+00 ... 0.0000000e+00\n",
      "  1.2135660e+06 3.3889000e+04]\n",
      " [0.0000000e+00 0.0000000e+00 0.0000000e+00 ... 0.0000000e+00\n",
      "  5.0868800e+05 1.4886000e+04]\n",
      " [0.0000000e+00 1.0000000e+00 0.0000000e+00 ... 0.0000000e+00\n",
      "  3.3590000e+05 3.5700000e+02]] \n",
      "y_train  [[1]\n",
      " [1]\n",
      " [1]\n",
      " ...\n",
      " [2]\n",
      " [2]\n",
      " [1]]\n"
     ]
    }
   ],
   "source": [
    "# print both test and train set to see them.\n",
    "print(\"X_test \", X_test, \"\\ny_test \", y_test, \"\\nX_train \", X_train, \"\\ny_train \", y_train)"
   ]
  },
  {
   "cell_type": "code",
   "execution_count": 95,
   "id": "84367258",
   "metadata": {},
   "outputs": [
    {
     "name": "stdout",
     "output_type": "stream",
     "text": [
      "X_test  [[0.0000000e+00 0.0000000e+00 0.0000000e+00 ... 1.0000000e+00\n",
      "  5.2789000e+05 1.9505000e+04]\n",
      " [0.0000000e+00 0.0000000e+00 0.0000000e+00 ... 1.0000000e+00\n",
      "  1.7674787e+07 1.4245000e+04]\n",
      " [0.0000000e+00 0.0000000e+00 0.0000000e+00 ... 0.0000000e+00\n",
      "  3.2741000e+06 2.1069000e+04]\n",
      " ...\n",
      " [0.0000000e+00 0.0000000e+00 0.0000000e+00 ... 0.0000000e+00\n",
      "  2.7746410e+06 1.6169000e+04]\n",
      " [0.0000000e+00 0.0000000e+00 0.0000000e+00 ... 0.0000000e+00\n",
      "  5.4018400e+05 2.6121000e+04]\n",
      " [0.0000000e+00 0.0000000e+00 0.0000000e+00 ... 0.0000000e+00\n",
      "  4.6510000e+05 2.7750000e+03]] \n",
      "y_test  [[2]\n",
      " [1]\n",
      " [1]\n",
      " ...\n",
      " [1]\n",
      " [1]\n",
      " [1]] \n",
      "X_train  [[0.0000000e+00 0.0000000e+00 0.0000000e+00 ... 0.0000000e+00\n",
      "  1.1270161e+07 2.2290000e+03]\n",
      " [0.0000000e+00 0.0000000e+00 0.0000000e+00 ... 0.0000000e+00\n",
      "  2.9810000e+05 1.1696000e+04]\n",
      " [1.0000000e+00 0.0000000e+00 0.0000000e+00 ... 1.0000000e+00\n",
      "  2.4152000e+06 3.2640000e+03]\n",
      " ...\n",
      " [0.0000000e+00 0.0000000e+00 0.0000000e+00 ... 0.0000000e+00\n",
      "  1.2135660e+06 3.3889000e+04]\n",
      " [0.0000000e+00 0.0000000e+00 0.0000000e+00 ... 0.0000000e+00\n",
      "  5.0868800e+05 1.4886000e+04]\n",
      " [0.0000000e+00 1.0000000e+00 0.0000000e+00 ... 0.0000000e+00\n",
      "  3.3590000e+05 3.5700000e+02]] \n",
      "y_train  [[1]\n",
      " [1]\n",
      " [1]\n",
      " ...\n",
      " [2]\n",
      " [2]\n",
      " [1]]\n"
     ]
    }
   ],
   "source": [
    "# print both test and train set to see them.\n",
    "print(\"X_test \", X_test, \"\\ny_test \", y_test, \"\\nX_train \", X_train, \"\\ny_train \", y_train)"
   ]
  },
  {
   "cell_type": "code",
   "execution_count": 96,
   "id": "6b55b83b",
   "metadata": {},
   "outputs": [
    {
     "data": {
      "text/plain": [
       "11270161.0"
      ]
     },
     "execution_count": 96,
     "metadata": {},
     "output_type": "execute_result"
    }
   ],
   "source": [
    "UnScaled_X_train[0][49]"
   ]
  },
  {
   "cell_type": "code",
   "execution_count": 97,
   "id": "217805aa",
   "metadata": {},
   "outputs": [
    {
     "data": {
      "text/plain": [
       "527890.0"
      ]
     },
     "execution_count": 97,
     "metadata": {},
     "output_type": "execute_result"
    }
   ],
   "source": [
    "UnScaled_X_test[0][49]"
   ]
  },
  {
   "cell_type": "markdown",
   "id": "83512843",
   "metadata": {},
   "source": [
    "## Feature Scaling "
   ]
  },
  {
   "cell_type": "code",
   "execution_count": 98,
   "id": "1008803c",
   "metadata": {},
   "outputs": [
    {
     "name": "stdout",
     "output_type": "stream",
     "text": [
      "['Argentina' 5 1 363000 3264]\n"
     ]
    }
   ],
   "source": [
    "print(X_before_encoding[0])"
   ]
  },
  {
   "cell_type": "code",
   "execution_count": 99,
   "id": "e09d4f5e",
   "metadata": {},
   "outputs": [
    {
     "name": "stdout",
     "output_type": "stream",
     "text": [
      "363000.0\n"
     ]
    }
   ],
   "source": [
    "print(X[0][49])"
   ]
  },
  {
   "cell_type": "code",
   "execution_count": 100,
   "id": "c3791c50",
   "metadata": {},
   "outputs": [
    {
     "data": {
      "text/plain": [
       "11270161.0"
      ]
     },
     "execution_count": 100,
     "metadata": {},
     "output_type": "execute_result"
    }
   ],
   "source": [
    "X_train[0][49]  # checking element in the 0th index"
   ]
  },
  {
   "cell_type": "code",
   "execution_count": 101,
   "id": "7bbde5bc",
   "metadata": {},
   "outputs": [],
   "source": [
    "sc = StandardScaler()  # creating an instance of the object.\n",
    "\n",
    "X_train[:, 49:] = sc.fit_transform(X_train[:, 49:])  # Scaling x_train\n",
    "X_test[:,49:] = sc.transform(X_test[:, 49:])  # Scaling y_train"
   ]
  },
  {
   "cell_type": "code",
   "execution_count": 102,
   "id": "99495342",
   "metadata": {},
   "outputs": [
    {
     "name": "stdout",
     "output_type": "stream",
     "text": [
      "X_test  [[ 0.          0.          0.         ...  1.         -0.50722772\n",
      "  -0.11440437]\n",
      " [ 0.          0.          0.         ...  1.          2.72082264\n",
      "  -0.38637144]\n",
      " [ 0.          0.          0.         ...  0.          0.00976986\n",
      "  -0.03353811]\n",
      " ...\n",
      " [ 0.          0.          0.         ...  0.         -0.08425758\n",
      "  -0.28689147]\n",
      " [ 0.          0.          0.         ...  0.         -0.50491327\n",
      "   0.22767437]\n",
      " [ 0.          0.          0.         ...  0.         -0.51904847\n",
      "  -0.97942511]] \n",
      "\n",
      "X_train  [[ 0.          0.          0.         ...  0.          1.51509689\n",
      "  -1.00765592]\n",
      " [ 0.          0.          0.         ...  0.         -0.55048765\n",
      "  -0.51816689]\n",
      " [ 1.          0.          0.         ...  1.         -0.15192543\n",
      "  -0.95414148]\n",
      " ...\n",
      " [ 0.          0.          0.         ...  0.         -0.37814333\n",
      "   0.629317  ]\n",
      " [ 0.          0.          0.         ...  0.         -0.51084266\n",
      "  -0.35322868]\n",
      " [ 0.          1.          0.         ...  0.         -0.54337148\n",
      "  -1.10444724]]\n"
     ]
    }
   ],
   "source": [
    "print(\"X_test \", X_test,\"\\n\\nX_train \", X_train)  # printing the sets after feature scaling."
   ]
  },
  {
   "cell_type": "code",
   "execution_count": 103,
   "id": "ae5dd3c9",
   "metadata": {},
   "outputs": [
    {
     "data": {
      "text/plain": [
       "1.5150968889201557"
      ]
     },
     "execution_count": 103,
     "metadata": {},
     "output_type": "execute_result"
    }
   ],
   "source": [
    "X_train[0][49]"
   ]
  },
  {
   "cell_type": "code",
   "execution_count": 104,
   "id": "d962baeb",
   "metadata": {},
   "outputs": [
    {
     "data": {
      "text/plain": [
       "11270161.0"
      ]
     },
     "execution_count": 104,
     "metadata": {},
     "output_type": "execute_result"
    }
   ],
   "source": [
    "UnScaled_X_train[0][49]"
   ]
  },
  {
   "cell_type": "code",
   "execution_count": 105,
   "id": "ca2f37c6",
   "metadata": {},
   "outputs": [
    {
     "data": {
      "text/plain": [
       "-0.5072277161355445"
      ]
     },
     "execution_count": 105,
     "metadata": {},
     "output_type": "execute_result"
    }
   ],
   "source": [
    "X_test[0][49]"
   ]
  },
  {
   "cell_type": "code",
   "execution_count": 106,
   "id": "4cde43b7",
   "metadata": {},
   "outputs": [
    {
     "data": {
      "text/plain": [
       "527890.0"
      ]
     },
     "execution_count": 106,
     "metadata": {},
     "output_type": "execute_result"
    }
   ],
   "source": [
    "UnScaled_X_test[0][49]"
   ]
  },
  {
   "cell_type": "code",
   "execution_count": null,
   "id": "327557cc",
   "metadata": {},
   "outputs": [],
   "source": []
  }
 ],
 "metadata": {
  "kernelspec": {
   "display_name": "Python 3",
   "language": "python",
   "name": "python3"
  },
  "language_info": {
   "codemirror_mode": {
    "name": "ipython",
    "version": 3
   },
   "file_extension": ".py",
   "mimetype": "text/x-python",
   "name": "python",
   "nbconvert_exporter": "python",
   "pygments_lexer": "ipython3",
   "version": "3.8.8"
  }
 },
 "nbformat": 4,
 "nbformat_minor": 5
}
