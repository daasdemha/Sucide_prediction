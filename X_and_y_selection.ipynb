{
 "cells": [
  {
   "cell_type": "markdown",
   "id": "e0ee02c0",
   "metadata": {},
   "source": [
    "### Importing the relevent libraries"
   ]
  },
  {
   "cell_type": "code",
   "execution_count": 363,
   "id": "7fc96920",
   "metadata": {},
   "outputs": [],
   "source": [
    "import numpy as np  # Allows us to work with arrays.\n",
    "import matplotlib.pyplot as plt  # Allows working with plots.\n",
    "import pandas as pd  # importing pandas’ library for use. Allows us to import data set and manipulate it.\n",
    "\n",
    "import seaborn as sns  # Allows to polt beautiful plots.\n",
    "import matplotlib.pyplot as plt # plotting.\n",
    "\n",
    "from sklearn.compose import ColumnTransformer  # helps with encoding.\n",
    "from sklearn.preprocessing import OneHotEncoder  # Does onehotencode.\n",
    "from sklearn.preprocessing import LabelEncoder   # Does 1 and 0 encoding.\n",
    "from sklearn.model_selection import train_test_split  # Splits dataset into test set and traning set. \n",
    "from sklearn.preprocessing import StandardScaler  # Perform the feature scaling.\n",
    "from sklearn.linear_model import LogisticRegression  # Performs logistic regression.\n",
    "from sklearn.metrics import confusion_matrix, ConfusionMatrixDisplay  # creates a confusion matrix\n",
    "from sklearn.metrics import accuracy_score  # Returns accury score of a model.\n",
    "from sklearn.neighbors import KNeighborsClassifier  # performs K Neariesst Neighobour.\n",
    "from sklearn.svm import SVC  # Performs svm\n",
    "from sklearn.naive_bayes import GaussianNB  # performs naive_bayes gaussianNB.\n",
    "from sklearn.tree import DecisionTreeClassifier  #Perfroms decision tree classification model.\n",
    "from sklearn.ensemble import RandomForestClassifier  #Performs random forest classification.\n",
    "from xgboost import XGBClassifier  # performs xgboost classification. gradiant decision trees.\n",
    "from sklearn.decomposition import PCA  # Performs model optimization\n",
    "from sklearn.decomposition import KernelPCA  # Performs model optimization\n",
    "from sklearn.discriminant_analysis import LinearDiscriminantAnalysis as LDA # performs model optimization\n",
    "from sklearn.model_selection import cross_val_score  # performs cross validation. Helps in model selection.\n",
    "from sklearn.model_selection import GridSearchCV  # helps select the best hyper parameters"
   ]
  },
  {
   "cell_type": "markdown",
   "id": "681f5cbc",
   "metadata": {},
   "source": [
    "### Importing the dataframe"
   ]
  },
  {
   "cell_type": "code",
   "execution_count": 364,
   "id": "82eef9c6",
   "metadata": {},
   "outputs": [],
   "source": [
    "sucidedataframe = pd.read_csv(\"suicidedataextrafestures.csv\")  # opens csv files and assighns them to a variable."
   ]
  },
  {
   "cell_type": "markdown",
   "id": "1041df28",
   "metadata": {},
   "source": [
    "### Checking the data from the dataframe before pre-processing"
   ]
  },
  {
   "cell_type": "code",
   "execution_count": 365,
   "id": "11364a06",
   "metadata": {},
   "outputs": [
    {
     "data": {
      "text/html": [
       "<div>\n",
       "<style scoped>\n",
       "    .dataframe tbody tr th:only-of-type {\n",
       "        vertical-align: middle;\n",
       "    }\n",
       "\n",
       "    .dataframe tbody tr th {\n",
       "        vertical-align: top;\n",
       "    }\n",
       "\n",
       "    .dataframe thead th {\n",
       "        text-align: right;\n",
       "    }\n",
       "</style>\n",
       "<table border=\"1\" class=\"dataframe\">\n",
       "  <thead>\n",
       "    <tr style=\"text-align: right;\">\n",
       "      <th></th>\n",
       "      <th>country</th>\n",
       "      <th>year</th>\n",
       "      <th>sex</th>\n",
       "      <th>age</th>\n",
       "      <th>suicides_no</th>\n",
       "      <th>population</th>\n",
       "      <th>suicidesper100k</th>\n",
       "      <th>country-year</th>\n",
       "      <th>yearlyHDI</th>\n",
       "      <th>GDPpyear</th>\n",
       "      <th>...</th>\n",
       "      <th>Unemployment, total (% of total labor force) (modeled ILO estimate)</th>\n",
       "      <th>Physicians (per 1,000 people)</th>\n",
       "      <th>Strength of legal rights index (0=weak to 12=strong)</th>\n",
       "      <th>Labor force, total</th>\n",
       "      <th>Life expectancy at birth, total (years)</th>\n",
       "      <th>Mobile cellular subscriptions (per 100 people)</th>\n",
       "      <th>Refugee population by country or territory of origin</th>\n",
       "      <th>Contributing family workers, total (% of total employment) (modeled ILO estimate)</th>\n",
       "      <th>Access to electricity (% of population)</th>\n",
       "      <th>Lower secondary completion rate, total (% of relevant age group)</th>\n",
       "    </tr>\n",
       "  </thead>\n",
       "  <tbody>\n",
       "    <tr>\n",
       "      <th>0</th>\n",
       "      <td>Argentina</td>\n",
       "      <td>1985</td>\n",
       "      <td>male</td>\n",
       "      <td>75+ years</td>\n",
       "      <td>202</td>\n",
       "      <td>363000</td>\n",
       "      <td>55.65</td>\n",
       "      <td>Argentina1985</td>\n",
       "      <td>0.694</td>\n",
       "      <td>8.841667e+10</td>\n",
       "      <td>...</td>\n",
       "      <td>0.0</td>\n",
       "      <td>0.0</td>\n",
       "      <td>0.0</td>\n",
       "      <td>0</td>\n",
       "      <td>0.0</td>\n",
       "      <td>0.0</td>\n",
       "      <td>0.0</td>\n",
       "      <td>0.0</td>\n",
       "      <td>0.0</td>\n",
       "      <td>0.0</td>\n",
       "    </tr>\n",
       "  </tbody>\n",
       "</table>\n",
       "<p>1 rows × 26 columns</p>\n",
       "</div>"
      ],
      "text/plain": [
       "     country  year   sex        age  suicides_no  population  suicidesper100k  \\\n",
       "0  Argentina  1985  male  75+ years          202      363000            55.65   \n",
       "\n",
       "    country-year  yearlyHDI      GDPpyear  ...  \\\n",
       "0  Argentina1985      0.694  8.841667e+10  ...   \n",
       "\n",
       "   Unemployment, total (% of total labor force) (modeled ILO estimate)  \\\n",
       "0                                                0.0                     \n",
       "\n",
       "  Physicians (per 1,000 people)  \\\n",
       "0                           0.0   \n",
       "\n",
       "   Strength of legal rights index (0=weak to 12=strong)  Labor force, total  \\\n",
       "0                                                0.0                      0   \n",
       "\n",
       "   Life expectancy at birth, total (years)  \\\n",
       "0                                      0.0   \n",
       "\n",
       "   Mobile cellular subscriptions (per 100 people)  \\\n",
       "0                                             0.0   \n",
       "\n",
       "   Refugee population by country or territory of origin  \\\n",
       "0                                                0.0      \n",
       "\n",
       "   Contributing family workers, total (% of total employment) (modeled ILO estimate)  \\\n",
       "0                                                0.0                                   \n",
       "\n",
       "   Access to electricity (% of population)  \\\n",
       "0                                      0.0   \n",
       "\n",
       "   Lower secondary completion rate, total (% of relevant age group)  \n",
       "0                                                0.0                 \n",
       "\n",
       "[1 rows x 26 columns]"
      ]
     },
     "execution_count": 365,
     "metadata": {},
     "output_type": "execute_result"
    }
   ],
   "source": [
    "sucidedataframe.head(1)  # Taking a look at the dataframe the first elements of the dataset."
   ]
  },
  {
   "cell_type": "code",
   "execution_count": 366,
   "id": "02af4851",
   "metadata": {},
   "outputs": [
    {
     "name": "stdout",
     "output_type": "stream",
     "text": [
      "<class 'pandas.core.frame.DataFrame'>\n",
      "RangeIndex: 15110 entries, 0 to 15109\n",
      "Data columns (total 26 columns):\n",
      " #   Column                                                                             Non-Null Count  Dtype  \n",
      "---  ------                                                                             --------------  -----  \n",
      " 0   country                                                                            15110 non-null  object \n",
      " 1   year                                                                               15110 non-null  int64  \n",
      " 2   sex                                                                                15110 non-null  object \n",
      " 3   age                                                                                15110 non-null  object \n",
      " 4   suicides_no                                                                        15110 non-null  int64  \n",
      " 5   population                                                                         15110 non-null  int64  \n",
      " 6   suicidesper100k                                                                    15110 non-null  float64\n",
      " 7   country-year                                                                       15110 non-null  object \n",
      " 8   yearlyHDI                                                                          4740 non-null   float64\n",
      " 9   GDPpyear                                                                           15110 non-null  float64\n",
      " 10  GDPpcapital                                                                        15110 non-null  int64  \n",
      " 11  generation                                                                         15110 non-null  object \n",
      " 12  suicide%                                                                           15110 non-null  float64\n",
      " 13  Individuals using the Internet (% of population)                                   15002 non-null  float64\n",
      " 14  Expense (% of GDP)                                                                 13634 non-null  float64\n",
      " 15  Compensation of employees (% of expense)                                           13538 non-null  float64\n",
      " 16  Unemployment, total (% of total labor force) (modeled ILO estimate)                15110 non-null  float64\n",
      " 17  Physicians (per 1,000 people)                                                      12782 non-null  float64\n",
      " 18  Strength of legal rights index (0=weak to 12=strong)                               5618 non-null   float64\n",
      " 19  Labor force, total                                                                 15110 non-null  int64  \n",
      " 20  Life expectancy at birth, total (years)                                            15110 non-null  float64\n",
      " 21  Mobile cellular subscriptions (per 100 people)                                     15110 non-null  float64\n",
      " 22  Refugee population by country or territory of origin                               14978 non-null  float64\n",
      " 23  Contributing family workers, total (% of total employment) (modeled ILO estimate)  15110 non-null  float64\n",
      " 24  Access to electricity (% of population)                                            14642 non-null  float64\n",
      " 25  Lower secondary completion rate, total (% of relevant age group)                   9542 non-null   float64\n",
      "dtypes: float64(16), int64(5), object(5)\n",
      "memory usage: 3.0+ MB\n"
     ]
    }
   ],
   "source": [
    "sucidedataframe.info()  # checking Basic information on the dataframe being procesed."
   ]
  },
  {
   "cell_type": "markdown",
   "id": "7ca5f0a5",
   "metadata": {},
   "source": [
    "## 1. Data pre-processing"
   ]
  },
  {
   "cell_type": "code",
   "execution_count": 367,
   "id": "5fc4d582",
   "metadata": {},
   "outputs": [],
   "source": [
    "# Below relevent data is selected that will be used in this project.\n",
    "sucidedataframe = sucidedataframe[[\"country\", \"year\",  \"age\" ,\"sex\", \"population\", \"suicides_no\",  \\\n",
    "\"Individuals using the Internet (% of population)\", \"Labor force, total\", \\\n",
    "\"Mobile cellular subscriptions (per 100 people)\", \"suicidesper100k\"]]## 1. Data pre-processing"
   ]
  },
  {
   "cell_type": "code",
   "execution_count": 368,
   "id": "4d659a74",
   "metadata": {},
   "outputs": [
    {
     "data": {
      "text/html": [
       "<div>\n",
       "<style scoped>\n",
       "    .dataframe tbody tr th:only-of-type {\n",
       "        vertical-align: middle;\n",
       "    }\n",
       "\n",
       "    .dataframe tbody tr th {\n",
       "        vertical-align: top;\n",
       "    }\n",
       "\n",
       "    .dataframe thead th {\n",
       "        text-align: right;\n",
       "    }\n",
       "</style>\n",
       "<table border=\"1\" class=\"dataframe\">\n",
       "  <thead>\n",
       "    <tr style=\"text-align: right;\">\n",
       "      <th></th>\n",
       "      <th>country</th>\n",
       "      <th>year</th>\n",
       "      <th>age</th>\n",
       "      <th>sex</th>\n",
       "      <th>population</th>\n",
       "      <th>suicides_no</th>\n",
       "      <th>Individuals using the Internet (% of population)</th>\n",
       "      <th>Labor force, total</th>\n",
       "      <th>Mobile cellular subscriptions (per 100 people)</th>\n",
       "      <th>suicidesper100k</th>\n",
       "    </tr>\n",
       "  </thead>\n",
       "  <tbody>\n",
       "    <tr>\n",
       "      <th>0</th>\n",
       "      <td>Argentina</td>\n",
       "      <td>1985</td>\n",
       "      <td>75+ years</td>\n",
       "      <td>male</td>\n",
       "      <td>363000</td>\n",
       "      <td>202</td>\n",
       "      <td>0.0</td>\n",
       "      <td>0</td>\n",
       "      <td>0.0</td>\n",
       "      <td>55.65</td>\n",
       "    </tr>\n",
       "    <tr>\n",
       "      <th>1</th>\n",
       "      <td>Argentina</td>\n",
       "      <td>1985</td>\n",
       "      <td>55-74 years</td>\n",
       "      <td>male</td>\n",
       "      <td>1997000</td>\n",
       "      <td>485</td>\n",
       "      <td>0.0</td>\n",
       "      <td>0</td>\n",
       "      <td>0.0</td>\n",
       "      <td>24.29</td>\n",
       "    </tr>\n",
       "    <tr>\n",
       "      <th>2</th>\n",
       "      <td>Argentina</td>\n",
       "      <td>1985</td>\n",
       "      <td>35-54 years</td>\n",
       "      <td>male</td>\n",
       "      <td>3346300</td>\n",
       "      <td>414</td>\n",
       "      <td>0.0</td>\n",
       "      <td>0</td>\n",
       "      <td>0.0</td>\n",
       "      <td>12.37</td>\n",
       "    </tr>\n",
       "    <tr>\n",
       "      <th>3</th>\n",
       "      <td>Argentina</td>\n",
       "      <td>1985</td>\n",
       "      <td>55-74 years</td>\n",
       "      <td>female</td>\n",
       "      <td>2304000</td>\n",
       "      <td>210</td>\n",
       "      <td>0.0</td>\n",
       "      <td>0</td>\n",
       "      <td>0.0</td>\n",
       "      <td>9.11</td>\n",
       "    </tr>\n",
       "    <tr>\n",
       "      <th>4</th>\n",
       "      <td>Argentina</td>\n",
       "      <td>1985</td>\n",
       "      <td>25-34 years</td>\n",
       "      <td>male</td>\n",
       "      <td>2234200</td>\n",
       "      <td>177</td>\n",
       "      <td>0.0</td>\n",
       "      <td>0</td>\n",
       "      <td>0.0</td>\n",
       "      <td>7.92</td>\n",
       "    </tr>\n",
       "  </tbody>\n",
       "</table>\n",
       "</div>"
      ],
      "text/plain": [
       "     country  year          age     sex  population  suicides_no  \\\n",
       "0  Argentina  1985    75+ years    male      363000          202   \n",
       "1  Argentina  1985  55-74 years    male     1997000          485   \n",
       "2  Argentina  1985  35-54 years    male     3346300          414   \n",
       "3  Argentina  1985  55-74 years  female     2304000          210   \n",
       "4  Argentina  1985  25-34 years    male     2234200          177   \n",
       "\n",
       "   Individuals using the Internet (% of population)  Labor force, total  \\\n",
       "0                                               0.0                   0   \n",
       "1                                               0.0                   0   \n",
       "2                                               0.0                   0   \n",
       "3                                               0.0                   0   \n",
       "4                                               0.0                   0   \n",
       "\n",
       "   Mobile cellular subscriptions (per 100 people)  suicidesper100k  \n",
       "0                                             0.0            55.65  \n",
       "1                                             0.0            24.29  \n",
       "2                                             0.0            12.37  \n",
       "3                                             0.0             9.11  \n",
       "4                                             0.0             7.92  "
      ]
     },
     "execution_count": 368,
     "metadata": {},
     "output_type": "execute_result"
    }
   ],
   "source": [
    "sucidedataframe.head(5)"
   ]
  },
  {
   "cell_type": "code",
   "execution_count": 369,
   "id": "c6cd0d08",
   "metadata": {},
   "outputs": [],
   "source": [
    "# Below the col names are renamed.\n",
    "sucidedataframe = sucidedataframe.set_axis([\"Country\", \"Year\", \"Age\", \"Gender\", \"Population\", \"Suicides_no\", \\\n",
    "\"Internet_Usage_per_%_Population\", \"Total_Labour_force\", \"Cellular_subscriptions_per_100_people\", \\\n",
    "                                           \"Suicidesper100k\"],axis=1)"
   ]
  },
  {
   "cell_type": "code",
   "execution_count": 370,
   "id": "d325b679",
   "metadata": {},
   "outputs": [
    {
     "data": {
      "text/plain": [
       "Index(['Country', 'Year', 'Age', 'Gender', 'Population', 'Suicides_no',\n",
       "       'Internet_Usage_per_%_Population', 'Total_Labour_force',\n",
       "       'Cellular_subscriptions_per_100_people', 'Suicidesper100k'],\n",
       "      dtype='object')"
      ]
     },
     "execution_count": 370,
     "metadata": {},
     "output_type": "execute_result"
    }
   ],
   "source": [
    "sucidedataframe.columns  # The columns of the dataframe are viewed."
   ]
  },
  {
   "cell_type": "code",
   "execution_count": 371,
   "id": "659b65ce",
   "metadata": {},
   "outputs": [
    {
     "data": {
      "text/plain": [
       "(15110, 10)"
      ]
     },
     "execution_count": 371,
     "metadata": {},
     "output_type": "execute_result"
    }
   ],
   "source": [
    "sucidedataframe.shape  # The Entries and the columns of the dataframe are viewed."
   ]
  },
  {
   "cell_type": "markdown",
   "id": "8dc9be58",
   "metadata": {},
   "source": [
    "### Dealing with null values"
   ]
  },
  {
   "cell_type": "code",
   "execution_count": 372,
   "id": "b9e818d1",
   "metadata": {},
   "outputs": [
    {
     "data": {
      "text/plain": [
       "Country                                    0\n",
       "Year                                       0\n",
       "Age                                        0\n",
       "Gender                                     0\n",
       "Population                                 0\n",
       "Suicides_no                                0\n",
       "Internet_Usage_per_%_Population          108\n",
       "Total_Labour_force                         0\n",
       "Cellular_subscriptions_per_100_people      0\n",
       "Suicidesper100k                            0\n",
       "dtype: int64"
      ]
     },
     "execution_count": 372,
     "metadata": {},
     "output_type": "execute_result"
    }
   ],
   "source": [
    "sucidedataframe.isnull().sum()  # Checking the dataframe for null values."
   ]
  },
  {
   "cell_type": "code",
   "execution_count": 373,
   "id": "78d117d4",
   "metadata": {},
   "outputs": [],
   "source": [
    "sucidedataframe = sucidedataframe.dropna() # droping all rows with at least one null values."
   ]
  },
  {
   "cell_type": "code",
   "execution_count": 374,
   "id": "6801fa61",
   "metadata": {},
   "outputs": [],
   "source": [
    "sucidedataframe.reset_index(drop=True, inplace=True)"
   ]
  },
  {
   "cell_type": "code",
   "execution_count": 375,
   "id": "c289b136",
   "metadata": {},
   "outputs": [
    {
     "data": {
      "text/plain": [
       "Country                                  0\n",
       "Year                                     0\n",
       "Age                                      0\n",
       "Gender                                   0\n",
       "Population                               0\n",
       "Suicides_no                              0\n",
       "Internet_Usage_per_%_Population          0\n",
       "Total_Labour_force                       0\n",
       "Cellular_subscriptions_per_100_people    0\n",
       "Suicidesper100k                          0\n",
       "dtype: int64"
      ]
     },
     "execution_count": 375,
     "metadata": {},
     "output_type": "execute_result"
    }
   ],
   "source": [
    "sucidedataframe.isnull().sum()  # Checking the dataframe for null values."
   ]
  },
  {
   "cell_type": "code",
   "execution_count": 376,
   "id": "164f22ce",
   "metadata": {},
   "outputs": [
    {
     "data": {
      "text/plain": [
       "(15002, 10)"
      ]
     },
     "execution_count": 376,
     "metadata": {},
     "output_type": "execute_result"
    }
   ],
   "source": [
    "sucidedataframe.shape  # The Entries and the columns of the dataframe are viewed."
   ]
  },
  {
   "cell_type": "code",
   "execution_count": 377,
   "id": "cdfab9a6",
   "metadata": {},
   "outputs": [
    {
     "name": "stdout",
     "output_type": "stream",
     "text": [
      "<class 'pandas.core.frame.DataFrame'>\n",
      "RangeIndex: 15002 entries, 0 to 15001\n",
      "Data columns (total 10 columns):\n",
      " #   Column                                 Non-Null Count  Dtype  \n",
      "---  ------                                 --------------  -----  \n",
      " 0   Country                                15002 non-null  object \n",
      " 1   Year                                   15002 non-null  int64  \n",
      " 2   Age                                    15002 non-null  object \n",
      " 3   Gender                                 15002 non-null  object \n",
      " 4   Population                             15002 non-null  int64  \n",
      " 5   Suicides_no                            15002 non-null  int64  \n",
      " 6   Internet_Usage_per_%_Population        15002 non-null  float64\n",
      " 7   Total_Labour_force                     15002 non-null  int64  \n",
      " 8   Cellular_subscriptions_per_100_people  15002 non-null  float64\n",
      " 9   Suicidesper100k                        15002 non-null  float64\n",
      "dtypes: float64(3), int64(4), object(3)\n",
      "memory usage: 1.1+ MB\n"
     ]
    }
   ],
   "source": [
    "sucidedataframe.info()  # checking Basic information on the dataframe being procesed."
   ]
  },
  {
   "cell_type": "markdown",
   "id": "0857d98a",
   "metadata": {},
   "source": [
    "### Dealing with repetetive values"
   ]
  },
  {
   "cell_type": "code",
   "execution_count": 378,
   "id": "7ccf3e88",
   "metadata": {},
   "outputs": [
    {
     "data": {
      "text/plain": [
       "Country                                     48\n",
       "Year                                        32\n",
       "Age                                          6\n",
       "Gender                                       2\n",
       "Population                               14461\n",
       "Suicides_no                               1997\n",
       "Internet_Usage_per_%_Population            797\n",
       "Total_Labour_force                         824\n",
       "Cellular_subscriptions_per_100_people      823\n",
       "Suicidesper100k                           4136\n",
       "dtype: int64"
      ]
     },
     "execution_count": 378,
     "metadata": {},
     "output_type": "execute_result"
    }
   ],
   "source": [
    "sucidedataframe.nunique()  # "
   ]
  },
  {
   "cell_type": "code",
   "execution_count": 379,
   "id": "38f02aae",
   "metadata": {},
   "outputs": [
    {
     "data": {
      "text/plain": [
       "0"
      ]
     },
     "execution_count": 379,
     "metadata": {},
     "output_type": "execute_result"
    }
   ],
   "source": [
    "sucidedataframe.duplicated().sum()"
   ]
  },
  {
   "cell_type": "code",
   "execution_count": 380,
   "id": "44a56205",
   "metadata": {},
   "outputs": [
    {
     "name": "stdout",
     "output_type": "stream",
     "text": [
      "Year\n",
      "1985    300\n",
      "1986    312\n",
      "1987    360\n",
      "1988    348\n",
      "1989    372\n",
      "1990    468\n",
      "1991    480\n",
      "1992    480\n",
      "1993    456\n",
      "1994    492\n",
      "1995    504\n",
      "1996    516\n",
      "1997    504\n",
      "1998    504\n",
      "1999    528\n",
      "2000    540\n",
      "2001    528\n",
      "2002    516\n",
      "2003    504\n",
      "2004    492\n",
      "2005    504\n",
      "2006    516\n",
      "2007    528\n",
      "2008    504\n",
      "2009    552\n",
      "2010    552\n",
      "2011    540\n",
      "2012    528\n",
      "2013    516\n",
      "2014    504\n",
      "2015    444\n",
      "2016    110\n",
      "dtype: int64\n"
     ]
    }
   ],
   "source": [
    "print(sucidedataframe.pivot_table(columns=['Year'], aggfunc='size'))  # counts duplicates in the selected dataframe column."
   ]
  },
  {
   "cell_type": "code",
   "execution_count": 381,
   "id": "abf9830b",
   "metadata": {},
   "outputs": [
    {
     "name": "stdout",
     "output_type": "stream",
     "text": [
      "Gender\n",
      "female    7501\n",
      "male      7501\n",
      "dtype: int64\n"
     ]
    }
   ],
   "source": [
    "print(sucidedataframe.pivot_table(columns=['Gender'], aggfunc='size'))  # counts duplicates in the selected dataframe column."
   ]
  },
  {
   "cell_type": "code",
   "execution_count": 382,
   "id": "323876d3",
   "metadata": {},
   "outputs": [
    {
     "name": "stdout",
     "output_type": "stream",
     "text": [
      "Country\n",
      "Argentina               372\n",
      "Armenia                 298\n",
      "Australia               324\n",
      "Austria                 382\n",
      "Azerbaijan              168\n",
      "Belgium                 372\n",
      "Brazil                  372\n",
      "Bulgaria                360\n",
      "Canada                  348\n",
      "Chile                   372\n",
      "Colombia                372\n",
      "Croatia                 262\n",
      "Cuba                    288\n",
      "Czech Republic          322\n",
      "Denmark                 264\n",
      "Finland                 348\n",
      "France                  360\n",
      "Georgia                 264\n",
      "Germany                 312\n",
      "Greece                  372\n",
      "Hungary                 310\n",
      "Iceland                 382\n",
      "Ireland                 360\n",
      "Israel                  372\n",
      "Italy                   372\n",
      "Jamaica                 204\n",
      "Japan                   372\n",
      "Mexico                  372\n",
      "Mongolia                 10\n",
      "Netherlands             382\n",
      "New Zealand             348\n",
      "Norway                  360\n",
      "Poland                  288\n",
      "Portugal                324\n",
      "Romania                 334\n",
      "Russian Federation      324\n",
      "South Africa            240\n",
      "Spain                   372\n",
      "Sweden                  358\n",
      "Switzerland             252\n",
      "Thailand                334\n",
      "Turkey                   84\n",
      "Turkmenistan            300\n",
      "Ukraine                 336\n",
      "United Arab Emirates     72\n",
      "United Kingdom          372\n",
      "United States           372\n",
      "Uzbekistan              264\n",
      "dtype: int64\n"
     ]
    }
   ],
   "source": [
    "print(sucidedataframe.pivot_table(columns=['Country'], aggfunc='size'))  # counts duplicates in the selected dataframe column."
   ]
  },
  {
   "cell_type": "code",
   "execution_count": 383,
   "id": "66850888",
   "metadata": {},
   "outputs": [
    {
     "data": {
      "text/html": [
       "<div>\n",
       "<style scoped>\n",
       "    .dataframe tbody tr th:only-of-type {\n",
       "        vertical-align: middle;\n",
       "    }\n",
       "\n",
       "    .dataframe tbody tr th {\n",
       "        vertical-align: top;\n",
       "    }\n",
       "\n",
       "    .dataframe thead th {\n",
       "        text-align: right;\n",
       "    }\n",
       "</style>\n",
       "<table border=\"1\" class=\"dataframe\">\n",
       "  <thead>\n",
       "    <tr style=\"text-align: right;\">\n",
       "      <th></th>\n",
       "      <th>Country</th>\n",
       "      <th>Year</th>\n",
       "      <th>Age</th>\n",
       "      <th>Gender</th>\n",
       "      <th>Population</th>\n",
       "      <th>Suicides_no</th>\n",
       "      <th>Internet_Usage_per_%_Population</th>\n",
       "      <th>Total_Labour_force</th>\n",
       "      <th>Cellular_subscriptions_per_100_people</th>\n",
       "      <th>Suicidesper100k</th>\n",
       "    </tr>\n",
       "  </thead>\n",
       "  <tbody>\n",
       "    <tr>\n",
       "      <th>0</th>\n",
       "      <td>Argentina</td>\n",
       "      <td>1985</td>\n",
       "      <td>75+ years</td>\n",
       "      <td>male</td>\n",
       "      <td>363000</td>\n",
       "      <td>202</td>\n",
       "      <td>0.0</td>\n",
       "      <td>0</td>\n",
       "      <td>0.0</td>\n",
       "      <td>55.65</td>\n",
       "    </tr>\n",
       "  </tbody>\n",
       "</table>\n",
       "</div>"
      ],
      "text/plain": [
       "     Country  Year        Age Gender  Population  Suicides_no  \\\n",
       "0  Argentina  1985  75+ years   male      363000          202   \n",
       "\n",
       "   Internet_Usage_per_%_Population  Total_Labour_force  \\\n",
       "0                              0.0                   0   \n",
       "\n",
       "   Cellular_subscriptions_per_100_people  Suicidesper100k  \n",
       "0                                    0.0            55.65  "
      ]
     },
     "execution_count": 383,
     "metadata": {},
     "output_type": "execute_result"
    }
   ],
   "source": [
    "sucidedataframe.head(1)"
   ]
  },
  {
   "cell_type": "code",
   "execution_count": 384,
   "id": "2fbc0d49",
   "metadata": {},
   "outputs": [
    {
     "name": "stdout",
     "output_type": "stream",
     "text": [
      "Age\n",
      "15-24 years    2504\n",
      "25-34 years    2504\n",
      "35-54 years    2504\n",
      "5-14 years     2482\n",
      "55-74 years    2504\n",
      "75+ years      2504\n",
      "dtype: int64\n"
     ]
    }
   ],
   "source": [
    "print(sucidedataframe.pivot_table(columns=['Age'], aggfunc='size'))  # counts duplicates in the selected dataframe column."
   ]
  },
  {
   "cell_type": "code",
   "execution_count": 385,
   "id": "adb0b436",
   "metadata": {},
   "outputs": [],
   "source": [
    "sucidedataframe.index = pd.RangeIndex(len(sucidedataframe.index))"
   ]
  },
  {
   "cell_type": "code",
   "execution_count": 386,
   "id": "79f5cc7d",
   "metadata": {},
   "outputs": [
    {
     "data": {
      "text/html": [
       "<div>\n",
       "<style scoped>\n",
       "    .dataframe tbody tr th:only-of-type {\n",
       "        vertical-align: middle;\n",
       "    }\n",
       "\n",
       "    .dataframe tbody tr th {\n",
       "        vertical-align: top;\n",
       "    }\n",
       "\n",
       "    .dataframe thead th {\n",
       "        text-align: right;\n",
       "    }\n",
       "</style>\n",
       "<table border=\"1\" class=\"dataframe\">\n",
       "  <thead>\n",
       "    <tr style=\"text-align: right;\">\n",
       "      <th></th>\n",
       "      <th>Country</th>\n",
       "      <th>Year</th>\n",
       "      <th>Age</th>\n",
       "      <th>Gender</th>\n",
       "      <th>Population</th>\n",
       "      <th>Suicides_no</th>\n",
       "      <th>Internet_Usage_per_%_Population</th>\n",
       "      <th>Total_Labour_force</th>\n",
       "      <th>Cellular_subscriptions_per_100_people</th>\n",
       "      <th>Suicidesper100k</th>\n",
       "    </tr>\n",
       "  </thead>\n",
       "  <tbody>\n",
       "    <tr>\n",
       "      <th>0</th>\n",
       "      <td>Argentina</td>\n",
       "      <td>1985</td>\n",
       "      <td>75+ years</td>\n",
       "      <td>male</td>\n",
       "      <td>363000</td>\n",
       "      <td>202</td>\n",
       "      <td>0.0</td>\n",
       "      <td>0</td>\n",
       "      <td>0.0</td>\n",
       "      <td>55.65</td>\n",
       "    </tr>\n",
       "    <tr>\n",
       "      <th>1</th>\n",
       "      <td>Argentina</td>\n",
       "      <td>1985</td>\n",
       "      <td>55-74 years</td>\n",
       "      <td>male</td>\n",
       "      <td>1997000</td>\n",
       "      <td>485</td>\n",
       "      <td>0.0</td>\n",
       "      <td>0</td>\n",
       "      <td>0.0</td>\n",
       "      <td>24.29</td>\n",
       "    </tr>\n",
       "    <tr>\n",
       "      <th>2</th>\n",
       "      <td>Argentina</td>\n",
       "      <td>1985</td>\n",
       "      <td>35-54 years</td>\n",
       "      <td>male</td>\n",
       "      <td>3346300</td>\n",
       "      <td>414</td>\n",
       "      <td>0.0</td>\n",
       "      <td>0</td>\n",
       "      <td>0.0</td>\n",
       "      <td>12.37</td>\n",
       "    </tr>\n",
       "    <tr>\n",
       "      <th>3</th>\n",
       "      <td>Argentina</td>\n",
       "      <td>1985</td>\n",
       "      <td>55-74 years</td>\n",
       "      <td>female</td>\n",
       "      <td>2304000</td>\n",
       "      <td>210</td>\n",
       "      <td>0.0</td>\n",
       "      <td>0</td>\n",
       "      <td>0.0</td>\n",
       "      <td>9.11</td>\n",
       "    </tr>\n",
       "    <tr>\n",
       "      <th>4</th>\n",
       "      <td>Argentina</td>\n",
       "      <td>1985</td>\n",
       "      <td>25-34 years</td>\n",
       "      <td>male</td>\n",
       "      <td>2234200</td>\n",
       "      <td>177</td>\n",
       "      <td>0.0</td>\n",
       "      <td>0</td>\n",
       "      <td>0.0</td>\n",
       "      <td>7.92</td>\n",
       "    </tr>\n",
       "  </tbody>\n",
       "</table>\n",
       "</div>"
      ],
      "text/plain": [
       "     Country  Year          Age  Gender  Population  Suicides_no  \\\n",
       "0  Argentina  1985    75+ years    male      363000          202   \n",
       "1  Argentina  1985  55-74 years    male     1997000          485   \n",
       "2  Argentina  1985  35-54 years    male     3346300          414   \n",
       "3  Argentina  1985  55-74 years  female     2304000          210   \n",
       "4  Argentina  1985  25-34 years    male     2234200          177   \n",
       "\n",
       "   Internet_Usage_per_%_Population  Total_Labour_force  \\\n",
       "0                              0.0                   0   \n",
       "1                              0.0                   0   \n",
       "2                              0.0                   0   \n",
       "3                              0.0                   0   \n",
       "4                              0.0                   0   \n",
       "\n",
       "   Cellular_subscriptions_per_100_people  Suicidesper100k  \n",
       "0                                    0.0            55.65  \n",
       "1                                    0.0            24.29  \n",
       "2                                    0.0            12.37  \n",
       "3                                    0.0             9.11  \n",
       "4                                    0.0             7.92  "
      ]
     },
     "execution_count": 386,
     "metadata": {},
     "output_type": "execute_result"
    }
   ],
   "source": [
    "sucidedataframe.head()"
   ]
  },
  {
   "cell_type": "markdown",
   "id": "d414a023",
   "metadata": {},
   "source": [
    "### Encoding variables to  0 and 1"
   ]
  },
  {
   "cell_type": "code",
   "execution_count": 387,
   "id": "277fab29",
   "metadata": {},
   "outputs": [
    {
     "name": "stdout",
     "output_type": "stream",
     "text": [
      "Gender\n",
      "female    7501\n",
      "male      7501\n",
      "dtype: int64\n"
     ]
    }
   ],
   "source": [
    "print(sucidedataframe.pivot_table(columns=['Gender'], aggfunc='size'))"
   ]
  },
  {
   "cell_type": "code",
   "execution_count": 388,
   "id": "d53e13d9",
   "metadata": {},
   "outputs": [
    {
     "name": "stdout",
     "output_type": "stream",
     "text": [
      "Age\n",
      "15-24 years    2504\n",
      "25-34 years    2504\n",
      "35-54 years    2504\n",
      "5-14 years     2482\n",
      "55-74 years    2504\n",
      "75+ years      2504\n",
      "dtype: int64\n"
     ]
    }
   ],
   "source": [
    "print(sucidedataframe.pivot_table(columns=['Age'], aggfunc='size'))"
   ]
  },
  {
   "cell_type": "code",
   "execution_count": 389,
   "id": "d2545ca0",
   "metadata": {},
   "outputs": [],
   "source": [
    "le = LabelEncoder()\n",
    "sucidedataframe.Gender= le.fit_transform(sucidedataframe.Gender)\n",
    "sucidedataframe.Age= le.fit_transform(sucidedataframe.Age)"
   ]
  },
  {
   "cell_type": "code",
   "execution_count": 390,
   "id": "565617d7",
   "metadata": {},
   "outputs": [
    {
     "name": "stdout",
     "output_type": "stream",
     "text": [
      "Gender\n",
      "0    7501\n",
      "1    7501\n",
      "dtype: int64\n"
     ]
    }
   ],
   "source": [
    "print(sucidedataframe.pivot_table(columns=['Gender'], aggfunc='size'))"
   ]
  },
  {
   "cell_type": "code",
   "execution_count": 391,
   "id": "91b4d556",
   "metadata": {},
   "outputs": [
    {
     "name": "stdout",
     "output_type": "stream",
     "text": [
      "Age\n",
      "0    2504\n",
      "1    2504\n",
      "2    2504\n",
      "3    2482\n",
      "4    2504\n",
      "5    2504\n",
      "dtype: int64\n"
     ]
    }
   ],
   "source": [
    "print(sucidedataframe.pivot_table(columns=['Age'], aggfunc='size'))  # counts duplicates in the selected dataframe column."
   ]
  },
  {
   "cell_type": "code",
   "execution_count": 392,
   "id": "1bc33368",
   "metadata": {},
   "outputs": [
    {
     "data": {
      "text/html": [
       "<div>\n",
       "<style scoped>\n",
       "    .dataframe tbody tr th:only-of-type {\n",
       "        vertical-align: middle;\n",
       "    }\n",
       "\n",
       "    .dataframe tbody tr th {\n",
       "        vertical-align: top;\n",
       "    }\n",
       "\n",
       "    .dataframe thead th {\n",
       "        text-align: right;\n",
       "    }\n",
       "</style>\n",
       "<table border=\"1\" class=\"dataframe\">\n",
       "  <thead>\n",
       "    <tr style=\"text-align: right;\">\n",
       "      <th></th>\n",
       "      <th>Country</th>\n",
       "      <th>Year</th>\n",
       "      <th>Age</th>\n",
       "      <th>Gender</th>\n",
       "      <th>Population</th>\n",
       "      <th>Suicides_no</th>\n",
       "      <th>Internet_Usage_per_%_Population</th>\n",
       "      <th>Total_Labour_force</th>\n",
       "      <th>Cellular_subscriptions_per_100_people</th>\n",
       "      <th>Suicidesper100k</th>\n",
       "    </tr>\n",
       "  </thead>\n",
       "  <tbody>\n",
       "    <tr>\n",
       "      <th>0</th>\n",
       "      <td>Argentina</td>\n",
       "      <td>1985</td>\n",
       "      <td>5</td>\n",
       "      <td>1</td>\n",
       "      <td>363000</td>\n",
       "      <td>202</td>\n",
       "      <td>0.0</td>\n",
       "      <td>0</td>\n",
       "      <td>0.0</td>\n",
       "      <td>55.65</td>\n",
       "    </tr>\n",
       "    <tr>\n",
       "      <th>1</th>\n",
       "      <td>Argentina</td>\n",
       "      <td>1985</td>\n",
       "      <td>4</td>\n",
       "      <td>1</td>\n",
       "      <td>1997000</td>\n",
       "      <td>485</td>\n",
       "      <td>0.0</td>\n",
       "      <td>0</td>\n",
       "      <td>0.0</td>\n",
       "      <td>24.29</td>\n",
       "    </tr>\n",
       "    <tr>\n",
       "      <th>2</th>\n",
       "      <td>Argentina</td>\n",
       "      <td>1985</td>\n",
       "      <td>2</td>\n",
       "      <td>1</td>\n",
       "      <td>3346300</td>\n",
       "      <td>414</td>\n",
       "      <td>0.0</td>\n",
       "      <td>0</td>\n",
       "      <td>0.0</td>\n",
       "      <td>12.37</td>\n",
       "    </tr>\n",
       "    <tr>\n",
       "      <th>3</th>\n",
       "      <td>Argentina</td>\n",
       "      <td>1985</td>\n",
       "      <td>4</td>\n",
       "      <td>0</td>\n",
       "      <td>2304000</td>\n",
       "      <td>210</td>\n",
       "      <td>0.0</td>\n",
       "      <td>0</td>\n",
       "      <td>0.0</td>\n",
       "      <td>9.11</td>\n",
       "    </tr>\n",
       "    <tr>\n",
       "      <th>4</th>\n",
       "      <td>Argentina</td>\n",
       "      <td>1985</td>\n",
       "      <td>1</td>\n",
       "      <td>1</td>\n",
       "      <td>2234200</td>\n",
       "      <td>177</td>\n",
       "      <td>0.0</td>\n",
       "      <td>0</td>\n",
       "      <td>0.0</td>\n",
       "      <td>7.92</td>\n",
       "    </tr>\n",
       "  </tbody>\n",
       "</table>\n",
       "</div>"
      ],
      "text/plain": [
       "     Country  Year  Age  Gender  Population  Suicides_no  \\\n",
       "0  Argentina  1985    5       1      363000          202   \n",
       "1  Argentina  1985    4       1     1997000          485   \n",
       "2  Argentina  1985    2       1     3346300          414   \n",
       "3  Argentina  1985    4       0     2304000          210   \n",
       "4  Argentina  1985    1       1     2234200          177   \n",
       "\n",
       "   Internet_Usage_per_%_Population  Total_Labour_force  \\\n",
       "0                              0.0                   0   \n",
       "1                              0.0                   0   \n",
       "2                              0.0                   0   \n",
       "3                              0.0                   0   \n",
       "4                              0.0                   0   \n",
       "\n",
       "   Cellular_subscriptions_per_100_people  Suicidesper100k  \n",
       "0                                    0.0            55.65  \n",
       "1                                    0.0            24.29  \n",
       "2                                    0.0            12.37  \n",
       "3                                    0.0             9.11  \n",
       "4                                    0.0             7.92  "
      ]
     },
     "execution_count": 392,
     "metadata": {},
     "output_type": "execute_result"
    }
   ],
   "source": [
    "sucidedataframe.head()"
   ]
  },
  {
   "cell_type": "code",
   "execution_count": 393,
   "id": "657a1744",
   "metadata": {},
   "outputs": [
    {
     "data": {
      "text/html": [
       "<div>\n",
       "<style scoped>\n",
       "    .dataframe tbody tr th:only-of-type {\n",
       "        vertical-align: middle;\n",
       "    }\n",
       "\n",
       "    .dataframe tbody tr th {\n",
       "        vertical-align: top;\n",
       "    }\n",
       "\n",
       "    .dataframe thead th {\n",
       "        text-align: right;\n",
       "    }\n",
       "</style>\n",
       "<table border=\"1\" class=\"dataframe\">\n",
       "  <thead>\n",
       "    <tr style=\"text-align: right;\">\n",
       "      <th></th>\n",
       "      <th>Year</th>\n",
       "      <th>Age</th>\n",
       "      <th>Gender</th>\n",
       "      <th>Population</th>\n",
       "      <th>Suicides_no</th>\n",
       "      <th>Internet_Usage_per_%_Population</th>\n",
       "      <th>Total_Labour_force</th>\n",
       "      <th>Cellular_subscriptions_per_100_people</th>\n",
       "      <th>Suicidesper100k</th>\n",
       "    </tr>\n",
       "  </thead>\n",
       "  <tbody>\n",
       "    <tr>\n",
       "      <th>count</th>\n",
       "      <td>15002.0</td>\n",
       "      <td>15002.0</td>\n",
       "      <td>15002.0</td>\n",
       "      <td>15002.0</td>\n",
       "      <td>15002.0</td>\n",
       "      <td>15002.0</td>\n",
       "      <td>15002.0</td>\n",
       "      <td>15002.0</td>\n",
       "      <td>15002.0</td>\n",
       "    </tr>\n",
       "    <tr>\n",
       "      <th>mean</th>\n",
       "      <td>2001.0</td>\n",
       "      <td>2.0</td>\n",
       "      <td>0.0</td>\n",
       "      <td>3051802.0</td>\n",
       "      <td>401.0</td>\n",
       "      <td>23.0</td>\n",
       "      <td>12580697.0</td>\n",
       "      <td>44.0</td>\n",
       "      <td>13.0</td>\n",
       "    </tr>\n",
       "    <tr>\n",
       "      <th>std</th>\n",
       "      <td>9.0</td>\n",
       "      <td>2.0</td>\n",
       "      <td>1.0</td>\n",
       "      <td>4921820.0</td>\n",
       "      <td>1189.0</td>\n",
       "      <td>30.0</td>\n",
       "      <td>24680372.0</td>\n",
       "      <td>50.0</td>\n",
       "      <td>18.0</td>\n",
       "    </tr>\n",
       "    <tr>\n",
       "      <th>min</th>\n",
       "      <td>1985.0</td>\n",
       "      <td>0.0</td>\n",
       "      <td>0.0</td>\n",
       "      <td>4400.0</td>\n",
       "      <td>0.0</td>\n",
       "      <td>0.0</td>\n",
       "      <td>0.0</td>\n",
       "      <td>0.0</td>\n",
       "      <td>0.0</td>\n",
       "    </tr>\n",
       "    <tr>\n",
       "      <th>25%</th>\n",
       "      <td>1994.0</td>\n",
       "      <td>1.0</td>\n",
       "      <td>0.0</td>\n",
       "      <td>426000.0</td>\n",
       "      <td>16.0</td>\n",
       "      <td>0.0</td>\n",
       "      <td>0.0</td>\n",
       "      <td>0.0</td>\n",
       "      <td>2.0</td>\n",
       "    </tr>\n",
       "    <tr>\n",
       "      <th>50%</th>\n",
       "      <td>2001.0</td>\n",
       "      <td>2.0</td>\n",
       "      <td>0.0</td>\n",
       "      <td>1058822.0</td>\n",
       "      <td>81.0</td>\n",
       "      <td>6.0</td>\n",
       "      <td>2931693.0</td>\n",
       "      <td>16.0</td>\n",
       "      <td>7.0</td>\n",
       "    </tr>\n",
       "    <tr>\n",
       "      <th>75%</th>\n",
       "      <td>2008.0</td>\n",
       "      <td>4.0</td>\n",
       "      <td>1.0</td>\n",
       "      <td>3643449.0</td>\n",
       "      <td>277.0</td>\n",
       "      <td>44.0</td>\n",
       "      <td>15934997.0</td>\n",
       "      <td>92.0</td>\n",
       "      <td>18.0</td>\n",
       "    </tr>\n",
       "    <tr>\n",
       "      <th>max</th>\n",
       "      <td>2016.0</td>\n",
       "      <td>5.0</td>\n",
       "      <td>1.0</td>\n",
       "      <td>43805214.0</td>\n",
       "      <td>22338.0</td>\n",
       "      <td>97.0</td>\n",
       "      <td>158831064.0</td>\n",
       "      <td>172.0</td>\n",
       "      <td>178.0</td>\n",
       "    </tr>\n",
       "  </tbody>\n",
       "</table>\n",
       "</div>"
      ],
      "text/plain": [
       "          Year      Age   Gender  Population  Suicides_no  \\\n",
       "count  15002.0  15002.0  15002.0     15002.0      15002.0   \n",
       "mean    2001.0      2.0      0.0   3051802.0        401.0   \n",
       "std        9.0      2.0      1.0   4921820.0       1189.0   \n",
       "min     1985.0      0.0      0.0      4400.0          0.0   \n",
       "25%     1994.0      1.0      0.0    426000.0         16.0   \n",
       "50%     2001.0      2.0      0.0   1058822.0         81.0   \n",
       "75%     2008.0      4.0      1.0   3643449.0        277.0   \n",
       "max     2016.0      5.0      1.0  43805214.0      22338.0   \n",
       "\n",
       "       Internet_Usage_per_%_Population  Total_Labour_force  \\\n",
       "count                          15002.0             15002.0   \n",
       "mean                              23.0          12580697.0   \n",
       "std                               30.0          24680372.0   \n",
       "min                                0.0                 0.0   \n",
       "25%                                0.0                 0.0   \n",
       "50%                                6.0           2931693.0   \n",
       "75%                               44.0          15934997.0   \n",
       "max                               97.0         158831064.0   \n",
       "\n",
       "       Cellular_subscriptions_per_100_people  Suicidesper100k  \n",
       "count                                15002.0          15002.0  \n",
       "mean                                    44.0             13.0  \n",
       "std                                     50.0             18.0  \n",
       "min                                      0.0              0.0  \n",
       "25%                                      0.0              2.0  \n",
       "50%                                     16.0              7.0  \n",
       "75%                                     92.0             18.0  \n",
       "max                                    172.0            178.0  "
      ]
     },
     "execution_count": 393,
     "metadata": {},
     "output_type": "execute_result"
    }
   ],
   "source": [
    "sucidedataframe.describe().round()  # Shows the count, mean, std, min, 25%, 50%, 75% and \n",
    "                                    # max of a datframe. Could be useful for feature scaling afterwords."
   ]
  },
  {
   "cell_type": "code",
   "execution_count": 394,
   "id": "02850e81",
   "metadata": {},
   "outputs": [],
   "source": [
    "sucidedataframe.loc[sucidedataframe[\"Suicidesper100k\"] < 45, \"Suicidesper100k\"] = 1  # Encoding values above 43 \n",
    "                                                # as and below 86 to 2."
   ]
  },
  {
   "cell_type": "code",
   "execution_count": 395,
   "id": "51955291",
   "metadata": {},
   "outputs": [],
   "source": [
    "sucidedataframe.loc[(sucidedataframe[\"Suicidesper100k\"] >= 45) & (sucidedataframe[\"Suicidesper100k\"] < 89), \"Suicidesper100k\"] = 2  # Encoding values above 43 \n",
    "                                                # as and below 86 to 2."
   ]
  },
  {
   "cell_type": "code",
   "execution_count": 396,
   "id": "57679214",
   "metadata": {},
   "outputs": [],
   "source": [
    "sucidedataframe.loc[(sucidedataframe[\"Suicidesper100k\"] >= 86) & (sucidedataframe[\"Suicidesper100k\"] < 178), \"Suicidesper100k\"] = 3  # Encoding values above 86 \n",
    "                                                # as and below 172 to 3."
   ]
  },
  {
   "cell_type": "code",
   "execution_count": 397,
   "id": "537c4949",
   "metadata": {},
   "outputs": [
    {
     "name": "stdout",
     "output_type": "stream",
     "text": [
      "Suicidesper100k\n",
      "1.0    14212\n",
      "2.0      649\n",
      "3.0      141\n",
      "dtype: int64\n"
     ]
    }
   ],
   "source": [
    "print(sucidedataframe.pivot_table(columns=['Suicidesper100k'], aggfunc='size'))  # counts duplicates in the selected dataframe column."
   ]
  },
  {
   "cell_type": "code",
   "execution_count": 398,
   "id": "e202cf75",
   "metadata": {},
   "outputs": [
    {
     "data": {
      "text/html": [
       "<div>\n",
       "<style scoped>\n",
       "    .dataframe tbody tr th:only-of-type {\n",
       "        vertical-align: middle;\n",
       "    }\n",
       "\n",
       "    .dataframe tbody tr th {\n",
       "        vertical-align: top;\n",
       "    }\n",
       "\n",
       "    .dataframe thead th {\n",
       "        text-align: right;\n",
       "    }\n",
       "</style>\n",
       "<table border=\"1\" class=\"dataframe\">\n",
       "  <thead>\n",
       "    <tr style=\"text-align: right;\">\n",
       "      <th></th>\n",
       "      <th>Country</th>\n",
       "      <th>Year</th>\n",
       "      <th>Age</th>\n",
       "      <th>Gender</th>\n",
       "      <th>Population</th>\n",
       "      <th>Suicides_no</th>\n",
       "      <th>Internet_Usage_per_%_Population</th>\n",
       "      <th>Total_Labour_force</th>\n",
       "      <th>Cellular_subscriptions_per_100_people</th>\n",
       "      <th>Suicidesper100k</th>\n",
       "    </tr>\n",
       "  </thead>\n",
       "  <tbody>\n",
       "    <tr>\n",
       "      <th>0</th>\n",
       "      <td>Argentina</td>\n",
       "      <td>1985</td>\n",
       "      <td>5</td>\n",
       "      <td>1</td>\n",
       "      <td>363000</td>\n",
       "      <td>202</td>\n",
       "      <td>0.0</td>\n",
       "      <td>0</td>\n",
       "      <td>0.0</td>\n",
       "      <td>2.0</td>\n",
       "    </tr>\n",
       "    <tr>\n",
       "      <th>1</th>\n",
       "      <td>Argentina</td>\n",
       "      <td>1985</td>\n",
       "      <td>4</td>\n",
       "      <td>1</td>\n",
       "      <td>1997000</td>\n",
       "      <td>485</td>\n",
       "      <td>0.0</td>\n",
       "      <td>0</td>\n",
       "      <td>0.0</td>\n",
       "      <td>1.0</td>\n",
       "    </tr>\n",
       "    <tr>\n",
       "      <th>2</th>\n",
       "      <td>Argentina</td>\n",
       "      <td>1985</td>\n",
       "      <td>2</td>\n",
       "      <td>1</td>\n",
       "      <td>3346300</td>\n",
       "      <td>414</td>\n",
       "      <td>0.0</td>\n",
       "      <td>0</td>\n",
       "      <td>0.0</td>\n",
       "      <td>1.0</td>\n",
       "    </tr>\n",
       "    <tr>\n",
       "      <th>3</th>\n",
       "      <td>Argentina</td>\n",
       "      <td>1985</td>\n",
       "      <td>4</td>\n",
       "      <td>0</td>\n",
       "      <td>2304000</td>\n",
       "      <td>210</td>\n",
       "      <td>0.0</td>\n",
       "      <td>0</td>\n",
       "      <td>0.0</td>\n",
       "      <td>1.0</td>\n",
       "    </tr>\n",
       "    <tr>\n",
       "      <th>4</th>\n",
       "      <td>Argentina</td>\n",
       "      <td>1985</td>\n",
       "      <td>1</td>\n",
       "      <td>1</td>\n",
       "      <td>2234200</td>\n",
       "      <td>177</td>\n",
       "      <td>0.0</td>\n",
       "      <td>0</td>\n",
       "      <td>0.0</td>\n",
       "      <td>1.0</td>\n",
       "    </tr>\n",
       "  </tbody>\n",
       "</table>\n",
       "</div>"
      ],
      "text/plain": [
       "     Country  Year  Age  Gender  Population  Suicides_no  \\\n",
       "0  Argentina  1985    5       1      363000          202   \n",
       "1  Argentina  1985    4       1     1997000          485   \n",
       "2  Argentina  1985    2       1     3346300          414   \n",
       "3  Argentina  1985    4       0     2304000          210   \n",
       "4  Argentina  1985    1       1     2234200          177   \n",
       "\n",
       "   Internet_Usage_per_%_Population  Total_Labour_force  \\\n",
       "0                              0.0                   0   \n",
       "1                              0.0                   0   \n",
       "2                              0.0                   0   \n",
       "3                              0.0                   0   \n",
       "4                              0.0                   0   \n",
       "\n",
       "   Cellular_subscriptions_per_100_people  Suicidesper100k  \n",
       "0                                    0.0              2.0  \n",
       "1                                    0.0              1.0  \n",
       "2                                    0.0              1.0  \n",
       "3                                    0.0              1.0  \n",
       "4                                    0.0              1.0  "
      ]
     },
     "execution_count": 398,
     "metadata": {},
     "output_type": "execute_result"
    }
   ],
   "source": [
    "sucidedataframe.head()"
   ]
  },
  {
   "cell_type": "code",
   "execution_count": 399,
   "id": "98e1fa64",
   "metadata": {},
   "outputs": [
    {
     "name": "stdout",
     "output_type": "stream",
     "text": [
      "<class 'pandas.core.frame.DataFrame'>\n",
      "RangeIndex: 15002 entries, 0 to 15001\n",
      "Data columns (total 10 columns):\n",
      " #   Column                                 Non-Null Count  Dtype  \n",
      "---  ------                                 --------------  -----  \n",
      " 0   Country                                15002 non-null  object \n",
      " 1   Year                                   15002 non-null  int64  \n",
      " 2   Age                                    15002 non-null  int32  \n",
      " 3   Gender                                 15002 non-null  int32  \n",
      " 4   Population                             15002 non-null  int64  \n",
      " 5   Suicides_no                            15002 non-null  int64  \n",
      " 6   Internet_Usage_per_%_Population        15002 non-null  float64\n",
      " 7   Total_Labour_force                     15002 non-null  int64  \n",
      " 8   Cellular_subscriptions_per_100_people  15002 non-null  float64\n",
      " 9   Suicidesper100k                        15002 non-null  float64\n",
      "dtypes: float64(3), int32(2), int64(4), object(1)\n",
      "memory usage: 1.0+ MB\n"
     ]
    }
   ],
   "source": [
    "sucidedataframe.info()  # checking Basic information on the dataframe being procesed."
   ]
  },
  {
   "cell_type": "code",
   "execution_count": 400,
   "id": "56cbef82",
   "metadata": {},
   "outputs": [],
   "source": [
    "sucidedataframe['Internet_Usage_per_%_Population'] = sucidedataframe['Internet_Usage_per_%_Population'].astype(np.int64)  # converting float to int."
   ]
  },
  {
   "cell_type": "code",
   "execution_count": 401,
   "id": "3a140932",
   "metadata": {},
   "outputs": [],
   "source": [
    "sucidedataframe['Cellular_subscriptions_per_100_people'] = sucidedataframe['Cellular_subscriptions_per_100_people'].astype(np.int64)  # converting float to int."
   ]
  },
  {
   "cell_type": "code",
   "execution_count": 402,
   "id": "c3e587be",
   "metadata": {},
   "outputs": [],
   "source": [
    "sucidedataframe['Suicidesper100k'] = sucidedataframe['Suicidesper100k'].astype(np.int64)  # converting float to int."
   ]
  },
  {
   "cell_type": "code",
   "execution_count": 403,
   "id": "0787c716",
   "metadata": {},
   "outputs": [
    {
     "name": "stdout",
     "output_type": "stream",
     "text": [
      "<class 'pandas.core.frame.DataFrame'>\n",
      "RangeIndex: 15002 entries, 0 to 15001\n",
      "Data columns (total 10 columns):\n",
      " #   Column                                 Non-Null Count  Dtype \n",
      "---  ------                                 --------------  ----- \n",
      " 0   Country                                15002 non-null  object\n",
      " 1   Year                                   15002 non-null  int64 \n",
      " 2   Age                                    15002 non-null  int32 \n",
      " 3   Gender                                 15002 non-null  int32 \n",
      " 4   Population                             15002 non-null  int64 \n",
      " 5   Suicides_no                            15002 non-null  int64 \n",
      " 6   Internet_Usage_per_%_Population        15002 non-null  int64 \n",
      " 7   Total_Labour_force                     15002 non-null  int64 \n",
      " 8   Cellular_subscriptions_per_100_people  15002 non-null  int64 \n",
      " 9   Suicidesper100k                        15002 non-null  int64 \n",
      "dtypes: int32(2), int64(7), object(1)\n",
      "memory usage: 1.0+ MB\n"
     ]
    }
   ],
   "source": [
    "sucidedataframe.info()  # checking Basic information on the dataframe being procesed."
   ]
  },
  {
   "cell_type": "code",
   "execution_count": 404,
   "id": "84aaadd3",
   "metadata": {},
   "outputs": [
    {
     "data": {
      "text/plain": [
       "<AxesSubplot:>"
      ]
     },
     "execution_count": 404,
     "metadata": {},
     "output_type": "execute_result"
    },
    {
     "data": {
      "image/png": "[encoded data removed]",
      "text/plain": [
       "<Figure size 864x648 with 2 Axes>"
      ]
     },
     "metadata": {
      "needs_background": "light"
     },
     "output_type": "display_data"
    }
   ],
   "source": [
    "plt.figure(figsize = (12,9))  # sets the size of the matrix\n",
    "correlation_matrix = sucidedataframe.corr().round(2)  # creates the correlation matrix\n",
    "sns.heatmap(data = correlation_matrix, annot = True)  # shows correlation matrix"
   ]
  },
  {
   "cell_type": "markdown",
   "id": "d4a78be8",
   "metadata": {},
   "source": [
    "### selecting X and Y values "
   ]
  },
  {
   "cell_type": "code",
   "execution_count": 405,
   "id": "54e4236c",
   "metadata": {},
   "outputs": [],
   "source": [
    "X = sucidedataframe.iloc[:, :-1].values  # selecting the values for the X variable.\n",
    "X_before_encoding = X"
   ]
  },
  {
   "cell_type": "code",
   "execution_count": 406,
   "id": "88070684",
   "metadata": {},
   "outputs": [],
   "source": [
    "y = sucidedataframe[[\"Suicidesper100k\"]].to_numpy()  # selecting the values for the Y variable. # done using .to_numpy and not \n",
    "                                                       # .iloc as .to_numpy creates a horizontal bar while .iloc creates a \n",
    "                                                       # horizontal bar which will not alighn with the x values."
   ]
  },
  {
   "cell_type": "code",
   "execution_count": 407,
   "id": "609b01f5",
   "metadata": {},
   "outputs": [
    {
     "name": "stdout",
     "output_type": "stream",
     "text": [
      "[['Argentina' 1985 5 ... 0 0 0]\n",
      " ['Argentina' 1985 4 ... 0 0 0]\n",
      " ['Argentina' 1985 2 ... 0 0 0]\n",
      " ...\n",
      " ['Uzbekistan' 2014 3 ... 0 0 0]\n",
      " ['Uzbekistan' 2014 3 ... 0 0 0]\n",
      " ['Uzbekistan' 2014 4 ... 0 0 0]]\n"
     ]
    }
   ],
   "source": [
    "print(X)"
   ]
  },
  {
   "cell_type": "code",
   "execution_count": 408,
   "id": "9b0bde68",
   "metadata": {},
   "outputs": [
    {
     "name": "stdout",
     "output_type": "stream",
     "text": [
      "[[2]\n",
      " [1]\n",
      " [1]\n",
      " ...\n",
      " [1]\n",
      " [1]\n",
      " [1]]\n"
     ]
    }
   ],
   "source": [
    "print(y)"
   ]
  },
  {
   "cell_type": "markdown",
   "id": "1464be8b",
   "metadata": {},
   "source": [
    "### One Hot Encoding"
   ]
  },
  {
   "cell_type": "code",
   "execution_count": 409,
   "id": "e5cbdbdb",
   "metadata": {
    "scrolled": true
   },
   "outputs": [
    {
     "data": {
      "text/plain": [
       "Country\n",
       "Argentina               372\n",
       "Armenia                 298\n",
       "Australia               324\n",
       "Austria                 382\n",
       "Azerbaijan              168\n",
       "Belgium                 372\n",
       "Brazil                  372\n",
       "Bulgaria                360\n",
       "Canada                  348\n",
       "Chile                   372\n",
       "Colombia                372\n",
       "Croatia                 262\n",
       "Cuba                    288\n",
       "Czech Republic          322\n",
       "Denmark                 264\n",
       "Finland                 348\n",
       "France                  360\n",
       "Georgia                 264\n",
       "Germany                 312\n",
       "Greece                  372\n",
       "Hungary                 310\n",
       "Iceland                 382\n",
       "Ireland                 360\n",
       "Israel                  372\n",
       "Italy                   372\n",
       "Jamaica                 204\n",
       "Japan                   372\n",
       "Mexico                  372\n",
       "Mongolia                 10\n",
       "Netherlands             382\n",
       "New Zealand             348\n",
       "Norway                  360\n",
       "Poland                  288\n",
       "Portugal                324\n",
       "Romania                 334\n",
       "Russian Federation      324\n",
       "South Africa            240\n",
       "Spain                   372\n",
       "Sweden                  358\n",
       "Switzerland             252\n",
       "Thailand                334\n",
       "Turkey                   84\n",
       "Turkmenistan            300\n",
       "Ukraine                 336\n",
       "United Arab Emirates     72\n",
       "United Kingdom          372\n",
       "United States           372\n",
       "Uzbekistan              264\n",
       "dtype: int64"
      ]
     },
     "execution_count": 409,
     "metadata": {},
     "output_type": "execute_result"
    }
   ],
   "source": [
    "# count duplicates function learned from: https://datatofish.com/count-duplicates-pandas/\n",
    "sucidedataframe.pivot_table(columns=['Country'], aggfunc='size')  # counts duplicates in the selected dataframe column."
   ]
  },
  {
   "cell_type": "code",
   "execution_count": 410,
   "id": "ebed7843",
   "metadata": {},
   "outputs": [],
   "source": [
    "ct = ColumnTransformer(transformers=[('encoder', OneHotEncoder(), [0])], remainder='passthrough')    \n",
    "# transformers= [('what to do', method , [index of column to apply method on])]\n",
    "# remainder='what to do with the remaining columns'\n",
    "\n",
    "X = ct.fit_transform(X).toarray()  # applies the above method on the given array."
   ]
  },
  {
   "cell_type": "code",
   "execution_count": 411,
   "id": "bcae5b17",
   "metadata": {},
   "outputs": [
    {
     "name": "stdout",
     "output_type": "stream",
     "text": [
      "['Argentina' 1985 5 1 363000 202 0 0 0]\n"
     ]
    }
   ],
   "source": [
    "print(X_before_encoding[0])"
   ]
  },
  {
   "cell_type": "code",
   "execution_count": 412,
   "id": "a2a4c664",
   "metadata": {},
   "outputs": [
    {
     "name": "stdout",
     "output_type": "stream",
     "text": [
      "5.0\n"
     ]
    }
   ],
   "source": [
    "print(X[0][49])"
   ]
  },
  {
   "cell_type": "code",
   "execution_count": 413,
   "id": "a32605da",
   "metadata": {},
   "outputs": [
    {
     "name": "stdout",
     "output_type": "stream",
     "text": [
      "[1.000e+00 0.000e+00 0.000e+00 0.000e+00 0.000e+00 0.000e+00 0.000e+00\n",
      " 0.000e+00 0.000e+00 0.000e+00 0.000e+00 0.000e+00 0.000e+00 0.000e+00\n",
      " 0.000e+00 0.000e+00 0.000e+00 0.000e+00 0.000e+00 0.000e+00 0.000e+00\n",
      " 0.000e+00 0.000e+00 0.000e+00 0.000e+00 0.000e+00 0.000e+00 0.000e+00\n",
      " 0.000e+00 0.000e+00 0.000e+00 0.000e+00 0.000e+00 0.000e+00 0.000e+00\n",
      " 0.000e+00 0.000e+00 0.000e+00 0.000e+00 0.000e+00 0.000e+00 0.000e+00\n",
      " 0.000e+00 0.000e+00 0.000e+00 0.000e+00 0.000e+00 0.000e+00 1.985e+03\n",
      " 5.000e+00 1.000e+00 3.630e+05 2.020e+02 0.000e+00 0.000e+00 0.000e+00]\n"
     ]
    }
   ],
   "source": [
    "print(X[0])"
   ]
  },
  {
   "cell_type": "markdown",
   "id": "e7f842b6",
   "metadata": {},
   "source": [
    "## Spliting the datasets into a training and test set "
   ]
  },
  {
   "cell_type": "code",
   "execution_count": 414,
   "id": "a5234297",
   "metadata": {},
   "outputs": [],
   "source": [
    "X_train, X_test, Y_train, Y_test = train_test_split(X, y, test_size = 0.2, random_state = 1)\n",
    "# test_size = 0.2               # splitting the data into 80 and 20 percent between the training and test set           \n",
    "                                            # to get the best results.                                                           \n",
    "# random_state = 1         # resetting the  random seed"
   ]
  },
  {
   "cell_type": "code",
   "execution_count": 415,
   "id": "9cb1d975",
   "metadata": {},
   "outputs": [],
   "source": [
    "UnScaled_X_train,UnScaled_X_test, Y_train, Y_test = train_test_split(X, y, test_size = 0.2, random_state = 1)\n",
    "# test_size = 0.2               # splitting the data into 80 and 20 percent between the training and test set           \n",
    "                                            # to get the best results.                                                           \n",
    "# random_state = 1         # resetting the  random seed"
   ]
  },
  {
   "cell_type": "code",
   "execution_count": 416,
   "id": "5d0b568a",
   "metadata": {},
   "outputs": [
    {
     "name": "stdout",
     "output_type": "stream",
     "text": [
      "The length of X_train is  12001  and the length of Y_train is  12001\n",
      "The length of X_test is  3001  and the length of Y_test is  3001\n"
     ]
    }
   ],
   "source": [
    "# print the lenghth of both test and train set to see if there equally split.\n",
    "print(\"The length of X_train is \",len(X_train), \" and the length of Y_train is \", len(Y_train))  \n",
    "print(\"The length of X_test is \",len(X_test), \" and the length of Y_test is \", len(Y_test))"
   ]
  },
  {
   "cell_type": "code",
   "execution_count": 417,
   "id": "08e87fc9",
   "metadata": {},
   "outputs": [
    {
     "name": "stdout",
     "output_type": "stream",
     "text": [
      "X_test  [[0.0000000e+00 0.0000000e+00 0.0000000e+00 ... 2.2000000e+01\n",
      "  1.8845460e+06 5.7000000e+01]\n",
      " [0.0000000e+00 0.0000000e+00 0.0000000e+00 ... 2.4000000e+01\n",
      "  1.7300168e+07 4.5000000e+01]\n",
      " [0.0000000e+00 0.0000000e+00 0.0000000e+00 ... 1.0000000e+00\n",
      "  2.0355760e+06 2.0000000e+00]\n",
      " ...\n",
      " [0.0000000e+00 0.0000000e+00 0.0000000e+00 ... 0.0000000e+00\n",
      "  0.0000000e+00 0.0000000e+00]\n",
      " [0.0000000e+00 0.0000000e+00 0.0000000e+00 ... 5.1000000e+01\n",
      "  2.4392594e+07 1.0800000e+02]\n",
      " [0.0000000e+00 0.0000000e+00 0.0000000e+00 ... 6.2000000e+01\n",
      "  5.2050120e+06 1.3200000e+02]] \n",
      "Y_test  [[3]\n",
      " [1]\n",
      " [2]\n",
      " ...\n",
      " [1]\n",
      " [1]\n",
      " [1]] \n",
      "X_train  [[0.0000000e+00 0.0000000e+00 0.0000000e+00 ... 1.8000000e+01\n",
      "  1.8201770e+07 7.1000000e+01]\n",
      " [0.0000000e+00 0.0000000e+00 0.0000000e+00 ... 0.0000000e+00\n",
      "  0.0000000e+00 0.0000000e+00]\n",
      " [0.0000000e+00 0.0000000e+00 0.0000000e+00 ... 2.4000000e+01\n",
      "  1.3116640e+06 1.0500000e+02]\n",
      " ...\n",
      " [0.0000000e+00 0.0000000e+00 0.0000000e+00 ... 5.9000000e+01\n",
      "  2.3070472e+07 1.0700000e+02]\n",
      " [1.0000000e+00 0.0000000e+00 0.0000000e+00 ... 1.6000000e+01\n",
      "  1.7396580e+07 3.5000000e+01]\n",
      " [0.0000000e+00 0.0000000e+00 0.0000000e+00 ... 0.0000000e+00\n",
      "  0.0000000e+00 0.0000000e+00]] \n",
      "Y_train  [[1]\n",
      " [1]\n",
      " [1]\n",
      " ...\n",
      " [1]\n",
      " [1]\n",
      " [1]]\n"
     ]
    }
   ],
   "source": [
    "# print both test and train set to see them.\n",
    "print(\"X_test \", X_test, \"\\nY_test \", Y_test, \"\\nX_train \", X_train, \"\\nY_train \", Y_train)"
   ]
  },
  {
   "cell_type": "code",
   "execution_count": 418,
   "id": "84367258",
   "metadata": {},
   "outputs": [
    {
     "name": "stdout",
     "output_type": "stream",
     "text": [
      "X_test  [[0.0000000e+00 0.0000000e+00 0.0000000e+00 ... 2.2000000e+01\n",
      "  1.8845460e+06 5.7000000e+01]\n",
      " [0.0000000e+00 0.0000000e+00 0.0000000e+00 ... 2.4000000e+01\n",
      "  1.7300168e+07 4.5000000e+01]\n",
      " [0.0000000e+00 0.0000000e+00 0.0000000e+00 ... 1.0000000e+00\n",
      "  2.0355760e+06 2.0000000e+00]\n",
      " ...\n",
      " [0.0000000e+00 0.0000000e+00 0.0000000e+00 ... 0.0000000e+00\n",
      "  0.0000000e+00 0.0000000e+00]\n",
      " [0.0000000e+00 0.0000000e+00 0.0000000e+00 ... 5.1000000e+01\n",
      "  2.4392594e+07 1.0800000e+02]\n",
      " [0.0000000e+00 0.0000000e+00 0.0000000e+00 ... 6.2000000e+01\n",
      "  5.2050120e+06 1.3200000e+02]] \n",
      "Y_test  [[3]\n",
      " [1]\n",
      " [2]\n",
      " ...\n",
      " [1]\n",
      " [1]\n",
      " [1]] \n",
      "X_train  [[0.0000000e+00 0.0000000e+00 0.0000000e+00 ... 1.8000000e+01\n",
      "  1.8201770e+07 7.1000000e+01]\n",
      " [0.0000000e+00 0.0000000e+00 0.0000000e+00 ... 0.0000000e+00\n",
      "  0.0000000e+00 0.0000000e+00]\n",
      " [0.0000000e+00 0.0000000e+00 0.0000000e+00 ... 2.4000000e+01\n",
      "  1.3116640e+06 1.0500000e+02]\n",
      " ...\n",
      " [0.0000000e+00 0.0000000e+00 0.0000000e+00 ... 5.9000000e+01\n",
      "  2.3070472e+07 1.0700000e+02]\n",
      " [1.0000000e+00 0.0000000e+00 0.0000000e+00 ... 1.6000000e+01\n",
      "  1.7396580e+07 3.5000000e+01]\n",
      " [0.0000000e+00 0.0000000e+00 0.0000000e+00 ... 0.0000000e+00\n",
      "  0.0000000e+00 0.0000000e+00]] \n",
      "Y_train  [[1]\n",
      " [1]\n",
      " [1]\n",
      " ...\n",
      " [1]\n",
      " [1]\n",
      " [1]]\n"
     ]
    }
   ],
   "source": [
    "# print both test and train set to see them.\n",
    "print(\"X_test \", X_test, \"\\nY_test \", Y_test, \"\\nX_train \", X_train, \"\\nY_train \", Y_train)"
   ]
  },
  {
   "cell_type": "code",
   "execution_count": 419,
   "id": "9ec2b609",
   "metadata": {},
   "outputs": [
    {
     "data": {
      "text/plain": [
       "1.0"
      ]
     },
     "execution_count": 419,
     "metadata": {},
     "output_type": "execute_result"
    }
   ],
   "source": [
    "UnScaled_X_train[0][49]"
   ]
  },
  {
   "cell_type": "code",
   "execution_count": 420,
   "id": "ab8b34fb",
   "metadata": {},
   "outputs": [
    {
     "data": {
      "text/plain": [
       "5.0"
      ]
     },
     "execution_count": 420,
     "metadata": {},
     "output_type": "execute_result"
    }
   ],
   "source": [
    "UnScaled_X_test[0][49]"
   ]
  },
  {
   "cell_type": "markdown",
   "id": "83512843",
   "metadata": {},
   "source": [
    "## Feature Scaling "
   ]
  },
  {
   "cell_type": "code",
   "execution_count": 421,
   "id": "6e85db60",
   "metadata": {},
   "outputs": [
    {
     "name": "stdout",
     "output_type": "stream",
     "text": [
      "['Argentina' 1985 5 1 363000 202 0 0 0]\n"
     ]
    }
   ],
   "source": [
    "print(X_before_encoding[0])"
   ]
  },
  {
   "cell_type": "code",
   "execution_count": 422,
   "id": "6a10af19",
   "metadata": {},
   "outputs": [
    {
     "name": "stdout",
     "output_type": "stream",
     "text": [
      "5.0\n"
     ]
    }
   ],
   "source": [
    "print(X[0][49])"
   ]
  },
  {
   "cell_type": "code",
   "execution_count": 423,
   "id": "c3791c50",
   "metadata": {},
   "outputs": [
    {
     "data": {
      "text/plain": [
       "1.0"
      ]
     },
     "execution_count": 423,
     "metadata": {},
     "output_type": "execute_result"
    }
   ],
   "source": [
    "X_train[0][49]  # checking element in the 0th index"
   ]
  },
  {
   "cell_type": "code",
   "execution_count": 424,
   "id": "7bbde5bc",
   "metadata": {},
   "outputs": [],
   "source": [
    "sc = StandardScaler()  # creating an instance of the object.\n",
    "\n",
    "X_train[:, 49:] = sc.fit_transform(X_train[:, 49:])  # Scaling x_train\n",
    "X_test[:,49:] = sc.transform(X_test[:, 49:])  # Scaling y_train"
   ]
  },
  {
   "cell_type": "code",
   "execution_count": 425,
   "id": "99495342",
   "metadata": {},
   "outputs": [
    {
     "name": "stdout",
     "output_type": "stream",
     "text": [
      "X_test  [[ 0.          0.          0.         ... -0.02815218 -0.42917366\n",
      "   0.27404917]\n",
      " [ 0.          0.          0.         ...  0.04021862  0.19598197\n",
      "   0.03107903]\n",
      " [ 0.          0.          0.         ... -0.7460455  -0.42304888\n",
      "  -0.83956398]\n",
      " ...\n",
      " [ 0.          0.          0.         ... -0.7802309  -0.50559838\n",
      "  -0.88005901]\n",
      " [ 0.          0.          0.         ...  0.96322432  0.48360385\n",
      "   1.30667228]\n",
      " [ 0.          0.          0.         ...  1.33926368 -0.29451753\n",
      "   1.79261256]] \n",
      "\n",
      "X_train  [[ 0.          0.          0.         ... -0.16489376  0.23254499\n",
      "   0.55751434]\n",
      " [ 0.          0.          0.         ... -0.7802309  -0.50559838\n",
      "  -0.88005901]\n",
      " [ 0.          0.          0.         ...  0.04021862 -0.45240596\n",
      "   1.24592974]\n",
      " ...\n",
      " [ 0.          0.          0.         ...  1.23670749  0.42998733\n",
      "   1.28642477]\n",
      " [ 1.          0.          0.         ... -0.23326455  0.19989181\n",
      "  -0.17139609]\n",
      " [ 0.          0.          0.         ... -0.7802309  -0.50559838\n",
      "  -0.88005901]]\n"
     ]
    }
   ],
   "source": [
    "print(\"X_test \", X_test,\"\\n\\nX_train \", X_train)  # printing the sets after feature scaling."
   ]
  },
  {
   "cell_type": "code",
   "execution_count": 430,
   "id": "917a2a27",
   "metadata": {},
   "outputs": [
    {
     "data": {
      "text/plain": [
       "-0.8811317315276205"
      ]
     },
     "execution_count": 430,
     "metadata": {},
     "output_type": "execute_result"
    }
   ],
   "source": [
    "X_train[0][49]"
   ]
  },
  {
   "cell_type": "code",
   "execution_count": 427,
   "id": "66edf5c9",
   "metadata": {},
   "outputs": [
    {
     "data": {
      "text/plain": [
       "1.0"
      ]
     },
     "execution_count": 427,
     "metadata": {},
     "output_type": "execute_result"
    }
   ],
   "source": [
    "UnScaled_X_train[0][49]"
   ]
  },
  {
   "cell_type": "code",
   "execution_count": 428,
   "id": "70514583",
   "metadata": {},
   "outputs": [
    {
     "data": {
      "text/plain": [
       "1.4614606278128701"
      ]
     },
     "execution_count": 428,
     "metadata": {},
     "output_type": "execute_result"
    }
   ],
   "source": [
    "X_test[0][49]"
   ]
  },
  {
   "cell_type": "code",
   "execution_count": 429,
   "id": "a68a6cc6",
   "metadata": {},
   "outputs": [
    {
     "data": {
      "text/plain": [
       "5.0"
      ]
     },
     "execution_count": 429,
     "metadata": {},
     "output_type": "execute_result"
    }
   ],
   "source": [
    "UnScaled_X_test[0][49]"
   ]
  }
 ],
 "metadata": {
  "kernelspec": {
   "display_name": "Python 3",
   "language": "python",
   "name": "python3"
  },
  "language_info": {
   "codemirror_mode": {
    "name": "ipython",
    "version": 3
   },
   "file_extension": ".py",
   "mimetype": "text/x-python",
   "name": "python",
   "nbconvert_exporter": "python",
   "pygments_lexer": "ipython3",
   "version": "3.8.8"
  }
 },
 "nbformat": 4,
 "nbformat_minor": 5
}
