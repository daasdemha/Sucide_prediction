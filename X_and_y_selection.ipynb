{
 "cells": [
  {
   "cell_type": "markdown",
   "id": "e0ee02c0",
   "metadata": {},
   "source": [
    "### Importing the relevent libraries"
   ]
  },
  {
   "cell_type": "code",
   "execution_count": 1,
   "id": "7fc96920",
   "metadata": {},
   "outputs": [
    {
     "name": "stderr",
     "output_type": "stream",
     "text": [
      "UsageError: unrecognized arguments: # helps in showing plots on the browser.\n"
     ]
    }
   ],
   "source": [
    "import numpy as np  # Allows us to work with arrays.\n",
    "import matplotlib.pyplot as plt  # Allows working with plots.\n",
    "import pandas as pd  # importing pandas’ library for use. Allows us to import data set and manipulate it.\n",
    "\n",
    "import seaborn as sns  # Allows to polt beautiful plots.\n",
    "import matplotlib.pyplot as plt # plotting.\n",
    "\n",
    "\n",
    "from sklearn.compose import ColumnTransformer  # helps with encoding.\n",
    "from sklearn.preprocessing import OneHotEncoder  # Does onehotencode.\n",
    "from sklearn.preprocessing import LabelEncoder   # Does 1 and 0 encoding.\n",
    "from sklearn.model_selection import train_test_split  # Splits dataset into test set and traning set. \n",
    "from sklearn.preprocessing import StandardScaler  # Perform the feature scaling.\n",
    "from sklearn.linear_model import LogisticRegression  # Performs logistic regression.\n",
    "from sklearn.metrics import confusion_matrix, ConfusionMatrixDisplay  # creates a confusion matrix\n",
    "from sklearn.metrics import accuracy_score  # Returns accury score of a model.\n",
    "from sklearn.neighbors import KNeighborsClassifier  # performs K Neariesst Neighobour.\n",
    "from sklearn.svm import SVC  # Performs svm\n",
    "from sklearn.naive_bayes import GaussianNB  # performs naive_bayes gaussianNB.\n",
    "from sklearn.tree import DecisionTreeClassifier  #Perfroms decision tree classification model.\n",
    "from sklearn.ensemble import RandomForestClassifier  #Performs random forest classification.\n",
    "from xgboost import XGBClassifier  # performs xgboost classification. gradiant decision trees.\n",
    "from sklearn.decomposition import PCA  # Performs model optimization\n",
    "from sklearn.decomposition import KernelPCA  # Performs model optimization\n",
    "from sklearn.discriminant_analysis import LinearDiscriminantAnalysis as LDA # performs model optimization\n",
    "from sklearn.model_selection import cross_val_score  # performs cross validation. Helps in model selection.\n",
    "from sklearn.model_selection import GridSearchCV  # helps select the best hyper parameters\n",
    "\n",
    "%matplotlib inline  # helps in showing plots on the browser."
   ]
  },
  {
   "cell_type": "markdown",
   "id": "681f5cbc",
   "metadata": {},
   "source": [
    "### Importing the dataframe"
   ]
  },
  {
   "cell_type": "code",
   "execution_count": 2,
   "id": "82eef9c6",
   "metadata": {},
   "outputs": [],
   "source": [
    "sucidedataframe = pd.read_csv(\"suicidedataextrafestures.csv\")  # opens csv files and assighns them to a variable."
   ]
  },
  {
   "cell_type": "markdown",
   "id": "1041df28",
   "metadata": {},
   "source": [
    "### Checking the data from the dataframe before pre-processing"
   ]
  },
  {
   "cell_type": "code",
   "execution_count": 3,
   "id": "11364a06",
   "metadata": {},
   "outputs": [
    {
     "data": {
      "text/html": [
       "<div>\n",
       "<style scoped>\n",
       "    .dataframe tbody tr th:only-of-type {\n",
       "        vertical-align: middle;\n",
       "    }\n",
       "\n",
       "    .dataframe tbody tr th {\n",
       "        vertical-align: top;\n",
       "    }\n",
       "\n",
       "    .dataframe thead th {\n",
       "        text-align: right;\n",
       "    }\n",
       "</style>\n",
       "<table border=\"1\" class=\"dataframe\">\n",
       "  <thead>\n",
       "    <tr style=\"text-align: right;\">\n",
       "      <th></th>\n",
       "      <th>country</th>\n",
       "      <th>year</th>\n",
       "      <th>sex</th>\n",
       "      <th>age</th>\n",
       "      <th>suicides_no</th>\n",
       "      <th>population</th>\n",
       "      <th>suicidesper100k</th>\n",
       "      <th>country-year</th>\n",
       "      <th>yearlyHDI</th>\n",
       "      <th>GDPpyear</th>\n",
       "      <th>...</th>\n",
       "      <th>Unemployment, total (% of total labor force) (modeled ILO estimate)</th>\n",
       "      <th>Physicians (per 1,000 people)</th>\n",
       "      <th>Strength of legal rights index (0=weak to 12=strong)</th>\n",
       "      <th>Labor force, total</th>\n",
       "      <th>Life expectancy at birth, total (years)</th>\n",
       "      <th>Mobile cellular subscriptions (per 100 people)</th>\n",
       "      <th>Refugee population by country or territory of origin</th>\n",
       "      <th>Contributing family workers, total (% of total employment) (modeled ILO estimate)</th>\n",
       "      <th>Access to electricity (% of population)</th>\n",
       "      <th>Lower secondary completion rate, total (% of relevant age group)</th>\n",
       "    </tr>\n",
       "  </thead>\n",
       "  <tbody>\n",
       "    <tr>\n",
       "      <th>0</th>\n",
       "      <td>Argentina</td>\n",
       "      <td>1985</td>\n",
       "      <td>male</td>\n",
       "      <td>75+ years</td>\n",
       "      <td>202</td>\n",
       "      <td>363000</td>\n",
       "      <td>55.65</td>\n",
       "      <td>Argentina1985</td>\n",
       "      <td>0.694</td>\n",
       "      <td>8.841667e+10</td>\n",
       "      <td>...</td>\n",
       "      <td>0.0</td>\n",
       "      <td>0.0</td>\n",
       "      <td>0.0</td>\n",
       "      <td>0</td>\n",
       "      <td>0.0</td>\n",
       "      <td>0.0</td>\n",
       "      <td>0.0</td>\n",
       "      <td>0.0</td>\n",
       "      <td>0.0</td>\n",
       "      <td>0.0</td>\n",
       "    </tr>\n",
       "  </tbody>\n",
       "</table>\n",
       "<p>1 rows × 26 columns</p>\n",
       "</div>"
      ],
      "text/plain": [
       "     country  year   sex        age  suicides_no  population  suicidesper100k  \\\n",
       "0  Argentina  1985  male  75+ years          202      363000            55.65   \n",
       "\n",
       "    country-year  yearlyHDI      GDPpyear  ...  \\\n",
       "0  Argentina1985      0.694  8.841667e+10  ...   \n",
       "\n",
       "   Unemployment, total (% of total labor force) (modeled ILO estimate)  \\\n",
       "0                                                0.0                     \n",
       "\n",
       "  Physicians (per 1,000 people)  \\\n",
       "0                           0.0   \n",
       "\n",
       "   Strength of legal rights index (0=weak to 12=strong)  Labor force, total  \\\n",
       "0                                                0.0                      0   \n",
       "\n",
       "   Life expectancy at birth, total (years)  \\\n",
       "0                                      0.0   \n",
       "\n",
       "   Mobile cellular subscriptions (per 100 people)  \\\n",
       "0                                             0.0   \n",
       "\n",
       "   Refugee population by country or territory of origin  \\\n",
       "0                                                0.0      \n",
       "\n",
       "   Contributing family workers, total (% of total employment) (modeled ILO estimate)  \\\n",
       "0                                                0.0                                   \n",
       "\n",
       "   Access to electricity (% of population)  \\\n",
       "0                                      0.0   \n",
       "\n",
       "   Lower secondary completion rate, total (% of relevant age group)  \n",
       "0                                                0.0                 \n",
       "\n",
       "[1 rows x 26 columns]"
      ]
     },
     "execution_count": 3,
     "metadata": {},
     "output_type": "execute_result"
    }
   ],
   "source": [
    "sucidedataframe.head(1)  # Taking a look at the dataframe the first elements of the dataset."
   ]
  },
  {
   "cell_type": "code",
   "execution_count": 4,
   "id": "02af4851",
   "metadata": {},
   "outputs": [
    {
     "name": "stdout",
     "output_type": "stream",
     "text": [
      "<class 'pandas.core.frame.DataFrame'>\n",
      "RangeIndex: 15110 entries, 0 to 15109\n",
      "Data columns (total 26 columns):\n",
      " #   Column                                                                             Non-Null Count  Dtype  \n",
      "---  ------                                                                             --------------  -----  \n",
      " 0   country                                                                            15110 non-null  object \n",
      " 1   year                                                                               15110 non-null  int64  \n",
      " 2   sex                                                                                15110 non-null  object \n",
      " 3   age                                                                                15110 non-null  object \n",
      " 4   suicides_no                                                                        15110 non-null  int64  \n",
      " 5   population                                                                         15110 non-null  int64  \n",
      " 6   suicidesper100k                                                                    15110 non-null  float64\n",
      " 7   country-year                                                                       15110 non-null  object \n",
      " 8   yearlyHDI                                                                          4740 non-null   float64\n",
      " 9   GDPpyear                                                                           15110 non-null  float64\n",
      " 10  GDPpcapital                                                                        15110 non-null  int64  \n",
      " 11  generation                                                                         15110 non-null  object \n",
      " 12  suicide%                                                                           15110 non-null  float64\n",
      " 13  Individuals using the Internet (% of population)                                   15002 non-null  float64\n",
      " 14  Expense (% of GDP)                                                                 13634 non-null  float64\n",
      " 15  Compensation of employees (% of expense)                                           13538 non-null  float64\n",
      " 16  Unemployment, total (% of total labor force) (modeled ILO estimate)                15110 non-null  float64\n",
      " 17  Physicians (per 1,000 people)                                                      12782 non-null  float64\n",
      " 18  Strength of legal rights index (0=weak to 12=strong)                               5618 non-null   float64\n",
      " 19  Labor force, total                                                                 15110 non-null  int64  \n",
      " 20  Life expectancy at birth, total (years)                                            15110 non-null  float64\n",
      " 21  Mobile cellular subscriptions (per 100 people)                                     15110 non-null  float64\n",
      " 22  Refugee population by country or territory of origin                               14978 non-null  float64\n",
      " 23  Contributing family workers, total (% of total employment) (modeled ILO estimate)  15110 non-null  float64\n",
      " 24  Access to electricity (% of population)                                            14642 non-null  float64\n",
      " 25  Lower secondary completion rate, total (% of relevant age group)                   9542 non-null   float64\n",
      "dtypes: float64(16), int64(5), object(5)\n",
      "memory usage: 3.0+ MB\n"
     ]
    }
   ],
   "source": [
    "sucidedataframe.info()  # checking Basic information on the dataframe being procesed."
   ]
  },
  {
   "cell_type": "markdown",
   "id": "7ca5f0a5",
   "metadata": {},
   "source": [
    "## 1. Data pre-processing"
   ]
  },
  {
   "cell_type": "code",
   "execution_count": 5,
   "id": "9631dff3",
   "metadata": {},
   "outputs": [],
   "source": [
    "# Below relevent data is selected that will be used in this project.\n",
    "sucidedataframe = sucidedataframe[[\"country\", \"year\",  \"age\" ,\"sex\", \"population\",  \\\n",
    "\"Individuals using the Internet (% of population)\", \"Labor force, total\", \\\n",
    "\"Mobile cellular subscriptions (per 100 people)\", \"GDPpyear\",\"GDPpcapital\",\"Expense (% of GDP)\",\\\n",
    "\"Physicians (per 1,000 people)\",\"Refugee population by country or territory of origin\" ,\"suicidesper100k\"]]## 1. Data pre-processing"
   ]
  },
  {
   "cell_type": "code",
   "execution_count": 6,
   "id": "4c6375c6",
   "metadata": {},
   "outputs": [
    {
     "data": {
      "text/html": [
       "<div>\n",
       "<style scoped>\n",
       "    .dataframe tbody tr th:only-of-type {\n",
       "        vertical-align: middle;\n",
       "    }\n",
       "\n",
       "    .dataframe tbody tr th {\n",
       "        vertical-align: top;\n",
       "    }\n",
       "\n",
       "    .dataframe thead th {\n",
       "        text-align: right;\n",
       "    }\n",
       "</style>\n",
       "<table border=\"1\" class=\"dataframe\">\n",
       "  <thead>\n",
       "    <tr style=\"text-align: right;\">\n",
       "      <th></th>\n",
       "      <th>country</th>\n",
       "      <th>year</th>\n",
       "      <th>age</th>\n",
       "      <th>sex</th>\n",
       "      <th>population</th>\n",
       "      <th>Individuals using the Internet (% of population)</th>\n",
       "      <th>Labor force, total</th>\n",
       "      <th>Mobile cellular subscriptions (per 100 people)</th>\n",
       "      <th>GDPpyear</th>\n",
       "      <th>GDPpcapital</th>\n",
       "      <th>Expense (% of GDP)</th>\n",
       "      <th>Physicians (per 1,000 people)</th>\n",
       "      <th>Refugee population by country or territory of origin</th>\n",
       "      <th>suicidesper100k</th>\n",
       "    </tr>\n",
       "  </thead>\n",
       "  <tbody>\n",
       "    <tr>\n",
       "      <th>0</th>\n",
       "      <td>Argentina</td>\n",
       "      <td>1985</td>\n",
       "      <td>75+ years</td>\n",
       "      <td>male</td>\n",
       "      <td>363000</td>\n",
       "      <td>0.0</td>\n",
       "      <td>0</td>\n",
       "      <td>0.0</td>\n",
       "      <td>8.841667e+10</td>\n",
       "      <td>3264</td>\n",
       "      <td>0.0</td>\n",
       "      <td>0.0</td>\n",
       "      <td>0.0</td>\n",
       "      <td>55.65</td>\n",
       "    </tr>\n",
       "    <tr>\n",
       "      <th>1</th>\n",
       "      <td>Argentina</td>\n",
       "      <td>1985</td>\n",
       "      <td>55-74 years</td>\n",
       "      <td>male</td>\n",
       "      <td>1997000</td>\n",
       "      <td>0.0</td>\n",
       "      <td>0</td>\n",
       "      <td>0.0</td>\n",
       "      <td>8.841667e+10</td>\n",
       "      <td>3264</td>\n",
       "      <td>0.0</td>\n",
       "      <td>0.0</td>\n",
       "      <td>0.0</td>\n",
       "      <td>24.29</td>\n",
       "    </tr>\n",
       "    <tr>\n",
       "      <th>2</th>\n",
       "      <td>Argentina</td>\n",
       "      <td>1985</td>\n",
       "      <td>35-54 years</td>\n",
       "      <td>male</td>\n",
       "      <td>3346300</td>\n",
       "      <td>0.0</td>\n",
       "      <td>0</td>\n",
       "      <td>0.0</td>\n",
       "      <td>8.841667e+10</td>\n",
       "      <td>3264</td>\n",
       "      <td>0.0</td>\n",
       "      <td>0.0</td>\n",
       "      <td>0.0</td>\n",
       "      <td>12.37</td>\n",
       "    </tr>\n",
       "    <tr>\n",
       "      <th>3</th>\n",
       "      <td>Argentina</td>\n",
       "      <td>1985</td>\n",
       "      <td>55-74 years</td>\n",
       "      <td>female</td>\n",
       "      <td>2304000</td>\n",
       "      <td>0.0</td>\n",
       "      <td>0</td>\n",
       "      <td>0.0</td>\n",
       "      <td>8.841667e+10</td>\n",
       "      <td>3264</td>\n",
       "      <td>0.0</td>\n",
       "      <td>0.0</td>\n",
       "      <td>0.0</td>\n",
       "      <td>9.11</td>\n",
       "    </tr>\n",
       "    <tr>\n",
       "      <th>4</th>\n",
       "      <td>Argentina</td>\n",
       "      <td>1985</td>\n",
       "      <td>25-34 years</td>\n",
       "      <td>male</td>\n",
       "      <td>2234200</td>\n",
       "      <td>0.0</td>\n",
       "      <td>0</td>\n",
       "      <td>0.0</td>\n",
       "      <td>8.841667e+10</td>\n",
       "      <td>3264</td>\n",
       "      <td>0.0</td>\n",
       "      <td>0.0</td>\n",
       "      <td>0.0</td>\n",
       "      <td>7.92</td>\n",
       "    </tr>\n",
       "  </tbody>\n",
       "</table>\n",
       "</div>"
      ],
      "text/plain": [
       "     country  year          age     sex  population  \\\n",
       "0  Argentina  1985    75+ years    male      363000   \n",
       "1  Argentina  1985  55-74 years    male     1997000   \n",
       "2  Argentina  1985  35-54 years    male     3346300   \n",
       "3  Argentina  1985  55-74 years  female     2304000   \n",
       "4  Argentina  1985  25-34 years    male     2234200   \n",
       "\n",
       "   Individuals using the Internet (% of population)  Labor force, total  \\\n",
       "0                                               0.0                   0   \n",
       "1                                               0.0                   0   \n",
       "2                                               0.0                   0   \n",
       "3                                               0.0                   0   \n",
       "4                                               0.0                   0   \n",
       "\n",
       "   Mobile cellular subscriptions (per 100 people)      GDPpyear  GDPpcapital  \\\n",
       "0                                             0.0  8.841667e+10         3264   \n",
       "1                                             0.0  8.841667e+10         3264   \n",
       "2                                             0.0  8.841667e+10         3264   \n",
       "3                                             0.0  8.841667e+10         3264   \n",
       "4                                             0.0  8.841667e+10         3264   \n",
       "\n",
       "   Expense (% of GDP)  Physicians (per 1,000 people)  \\\n",
       "0                 0.0                            0.0   \n",
       "1                 0.0                            0.0   \n",
       "2                 0.0                            0.0   \n",
       "3                 0.0                            0.0   \n",
       "4                 0.0                            0.0   \n",
       "\n",
       "   Refugee population by country or territory of origin  suicidesper100k  \n",
       "0                                                0.0               55.65  \n",
       "1                                                0.0               24.29  \n",
       "2                                                0.0               12.37  \n",
       "3                                                0.0                9.11  \n",
       "4                                                0.0                7.92  "
      ]
     },
     "execution_count": 6,
     "metadata": {},
     "output_type": "execute_result"
    }
   ],
   "source": [
    "sucidedataframe.head(5)"
   ]
  },
  {
   "cell_type": "code",
   "execution_count": 7,
   "id": "a68f9030",
   "metadata": {},
   "outputs": [],
   "source": [
    "# Below the col names are renamed.\n",
    "sucidedataframe = sucidedataframe.set_axis([\"Country\", \"Year\", \"Age\", \"Gender\", \"Population\", \\\n",
    "\"Internet_Usage_per_%_Population\", \"Total_Labour_force\", \"Cellular_subscriptions_per_100_people\", \\\n",
    "\"GDPpyear\",\"GDPpcapital\",\"Expense_%_of_GDP)\",\\\n",
    "\"Physicians_per_1,000_people)\",\"Refugee_population_by_country_or_territory_of_origin\" ,\"Suicidesper100k\"],axis=1)"
   ]
  },
  {
   "cell_type": "code",
   "execution_count": 8,
   "id": "1d2284e6",
   "metadata": {},
   "outputs": [
    {
     "data": {
      "text/plain": [
       "Index(['Country', 'Year', 'Age', 'Gender', 'Population',\n",
       "       'Internet_Usage_per_%_Population', 'Total_Labour_force',\n",
       "       'Cellular_subscriptions_per_100_people', 'GDPpyear', 'GDPpcapital',\n",
       "       'Expense_%_of_GDP)', 'Physicians_per_1,000_people)',\n",
       "       'Refugee_population_by_country_or_territory_of_origin',\n",
       "       'Suicidesper100k'],\n",
       "      dtype='object')"
      ]
     },
     "execution_count": 8,
     "metadata": {},
     "output_type": "execute_result"
    }
   ],
   "source": [
    "sucidedataframe.columns  # The columns of the dataframe are viewed."
   ]
  },
  {
   "cell_type": "code",
   "execution_count": 9,
   "id": "71db29bc",
   "metadata": {},
   "outputs": [
    {
     "data": {
      "text/plain": [
       "(15110, 14)"
      ]
     },
     "execution_count": 9,
     "metadata": {},
     "output_type": "execute_result"
    }
   ],
   "source": [
    "sucidedataframe.shape  # The Entries and the columns of the dataframe are viewed."
   ]
  },
  {
   "cell_type": "markdown",
   "id": "8dc9be58",
   "metadata": {},
   "source": [
    "### Dealing with null values"
   ]
  },
  {
   "cell_type": "code",
   "execution_count": 10,
   "id": "e68c2bb1",
   "metadata": {},
   "outputs": [
    {
     "data": {
      "text/plain": [
       "Country                                                    0\n",
       "Year                                                       0\n",
       "Age                                                        0\n",
       "Gender                                                     0\n",
       "Population                                                 0\n",
       "Internet_Usage_per_%_Population                          108\n",
       "Total_Labour_force                                         0\n",
       "Cellular_subscriptions_per_100_people                      0\n",
       "GDPpyear                                                   0\n",
       "GDPpcapital                                                0\n",
       "Expense_%_of_GDP)                                       1476\n",
       "Physicians_per_1,000_people)                            2328\n",
       "Refugee_population_by_country_or_territory_of_origin     132\n",
       "Suicidesper100k                                            0\n",
       "dtype: int64"
      ]
     },
     "execution_count": 10,
     "metadata": {},
     "output_type": "execute_result"
    }
   ],
   "source": [
    "sucidedataframe.isnull().sum()  # Checking the dataframe for null values."
   ]
  },
  {
   "cell_type": "code",
   "execution_count": 11,
   "id": "9f0e0868",
   "metadata": {},
   "outputs": [],
   "source": [
    "sucidedataframe = sucidedataframe.dropna() # droping all rows with at least one null values."
   ]
  },
  {
   "cell_type": "code",
   "execution_count": 12,
   "id": "cd123863",
   "metadata": {},
   "outputs": [],
   "source": [
    "sucidedataframe.reset_index(drop=True, inplace=True)"
   ]
  },
  {
   "cell_type": "code",
   "execution_count": 13,
   "id": "24035cfe",
   "metadata": {},
   "outputs": [
    {
     "data": {
      "text/plain": [
       "Country                                                 0\n",
       "Year                                                    0\n",
       "Age                                                     0\n",
       "Gender                                                  0\n",
       "Population                                              0\n",
       "Internet_Usage_per_%_Population                         0\n",
       "Total_Labour_force                                      0\n",
       "Cellular_subscriptions_per_100_people                   0\n",
       "GDPpyear                                                0\n",
       "GDPpcapital                                             0\n",
       "Expense_%_of_GDP)                                       0\n",
       "Physicians_per_1,000_people)                            0\n",
       "Refugee_population_by_country_or_territory_of_origin    0\n",
       "Suicidesper100k                                         0\n",
       "dtype: int64"
      ]
     },
     "execution_count": 13,
     "metadata": {},
     "output_type": "execute_result"
    }
   ],
   "source": [
    "sucidedataframe.isnull().sum()  # Checking the dataframe for null values."
   ]
  },
  {
   "cell_type": "code",
   "execution_count": 14,
   "id": "4aea2d33",
   "metadata": {},
   "outputs": [
    {
     "data": {
      "text/plain": [
       "(11570, 14)"
      ]
     },
     "execution_count": 14,
     "metadata": {},
     "output_type": "execute_result"
    }
   ],
   "source": [
    "sucidedataframe.shape  # The Entries and the columns of the dataframe are viewed."
   ]
  },
  {
   "cell_type": "code",
   "execution_count": 15,
   "id": "da161260",
   "metadata": {},
   "outputs": [
    {
     "name": "stdout",
     "output_type": "stream",
     "text": [
      "<class 'pandas.core.frame.DataFrame'>\n",
      "RangeIndex: 11570 entries, 0 to 11569\n",
      "Data columns (total 14 columns):\n",
      " #   Column                                                Non-Null Count  Dtype  \n",
      "---  ------                                                --------------  -----  \n",
      " 0   Country                                               11570 non-null  object \n",
      " 1   Year                                                  11570 non-null  int64  \n",
      " 2   Age                                                   11570 non-null  object \n",
      " 3   Gender                                                11570 non-null  object \n",
      " 4   Population                                            11570 non-null  int64  \n",
      " 5   Internet_Usage_per_%_Population                       11570 non-null  float64\n",
      " 6   Total_Labour_force                                    11570 non-null  int64  \n",
      " 7   Cellular_subscriptions_per_100_people                 11570 non-null  float64\n",
      " 8   GDPpyear                                              11570 non-null  float64\n",
      " 9   GDPpcapital                                           11570 non-null  int64  \n",
      " 10  Expense_%_of_GDP)                                     11570 non-null  float64\n",
      " 11  Physicians_per_1,000_people)                          11570 non-null  float64\n",
      " 12  Refugee_population_by_country_or_territory_of_origin  11570 non-null  float64\n",
      " 13  Suicidesper100k                                       11570 non-null  float64\n",
      "dtypes: float64(7), int64(4), object(3)\n",
      "memory usage: 1.2+ MB\n"
     ]
    }
   ],
   "source": [
    "sucidedataframe.info()  # checking Basic information on the dataframe being procesed."
   ]
  },
  {
   "cell_type": "markdown",
   "id": "46b8b423",
   "metadata": {},
   "source": [
    "### Dealing with repetetive values"
   ]
  },
  {
   "cell_type": "code",
   "execution_count": 16,
   "id": "c5b9084b",
   "metadata": {},
   "outputs": [
    {
     "data": {
      "text/plain": [
       "Country                                                    47\n",
       "Year                                                       32\n",
       "Age                                                         6\n",
       "Gender                                                      2\n",
       "Population                                              11144\n",
       "Internet_Usage_per_%_Population                           531\n",
       "Total_Labour_force                                        538\n",
       "Cellular_subscriptions_per_100_people                     538\n",
       "GDPpyear                                                  748\n",
       "GDPpcapital                                               954\n",
       "Expense_%_of_GDP)                                         538\n",
       "Physicians_per_1,000_people)                              415\n",
       "Refugee_population_by_country_or_territory_of_origin      356\n",
       "Suicidesper100k                                          3735\n",
       "dtype: int64"
      ]
     },
     "execution_count": 16,
     "metadata": {},
     "output_type": "execute_result"
    }
   ],
   "source": [
    "sucidedataframe.nunique()  # "
   ]
  },
  {
   "cell_type": "code",
   "execution_count": 17,
   "id": "f1da97e2",
   "metadata": {},
   "outputs": [
    {
     "data": {
      "text/plain": [
       "0"
      ]
     },
     "execution_count": 17,
     "metadata": {},
     "output_type": "execute_result"
    }
   ],
   "source": [
    "sucidedataframe.duplicated().sum()"
   ]
  },
  {
   "cell_type": "code",
   "execution_count": 18,
   "id": "216ac476",
   "metadata": {},
   "outputs": [
    {
     "name": "stdout",
     "output_type": "stream",
     "text": [
      "Year\n",
      "1985    300\n",
      "1986    312\n",
      "1987    360\n",
      "1988    348\n",
      "1989    372\n",
      "1990    468\n",
      "1991    480\n",
      "1992    480\n",
      "1993    456\n",
      "1994    492\n",
      "1995    348\n",
      "1996    360\n",
      "1997    336\n",
      "1998    396\n",
      "1999    372\n",
      "2000    336\n",
      "2001    324\n",
      "2002    336\n",
      "2003    300\n",
      "2004    204\n",
      "2005    168\n",
      "2006    372\n",
      "2007    288\n",
      "2008    300\n",
      "2009    240\n",
      "2010    432\n",
      "2011    432\n",
      "2012    456\n",
      "2013    444\n",
      "2014    504\n",
      "2015    444\n",
      "2016    110\n",
      "dtype: int64\n"
     ]
    }
   ],
   "source": [
    "print(sucidedataframe.pivot_table(columns=['Year'], aggfunc='size'))  # counts duplicates in the selected dataframe column."
   ]
  },
  {
   "cell_type": "code",
   "execution_count": 19,
   "id": "5bd73072",
   "metadata": {},
   "outputs": [
    {
     "name": "stdout",
     "output_type": "stream",
     "text": [
      "Gender\n",
      "female    5785\n",
      "male      5785\n",
      "dtype: int64\n"
     ]
    }
   ],
   "source": [
    "print(sucidedataframe.pivot_table(columns=['Gender'], aggfunc='size'))  # counts duplicates in the selected dataframe column."
   ]
  },
  {
   "cell_type": "code",
   "execution_count": 20,
   "id": "d169cc19",
   "metadata": {},
   "outputs": [
    {
     "name": "stdout",
     "output_type": "stream",
     "text": [
      "Country\n",
      "Argentina             192\n",
      "Armenia               178\n",
      "Australia             300\n",
      "Austria               334\n",
      "Azerbaijan            120\n",
      "Belgium               312\n",
      "Brazil                336\n",
      "Bulgaria              216\n",
      "Canada                276\n",
      "Chile                 264\n",
      "Colombia              240\n",
      "Croatia               250\n",
      "Cuba                   60\n",
      "Czech Republic        286\n",
      "Denmark               240\n",
      "Finland               324\n",
      "France                192\n",
      "Georgia               216\n",
      "Germany               276\n",
      "Greece                312\n",
      "Hungary               286\n",
      "Iceland               358\n",
      "Ireland               300\n",
      "Israel                312\n",
      "Italy                 324\n",
      "Jamaica                96\n",
      "Japan                 252\n",
      "Mexico                288\n",
      "Mongolia               10\n",
      "Netherlands           298\n",
      "New Zealand           228\n",
      "Norway                336\n",
      "Poland                252\n",
      "Portugal              324\n",
      "Romania               274\n",
      "Russian Federation    252\n",
      "South Africa           96\n",
      "Spain                 372\n",
      "Sweden                334\n",
      "Switzerland           180\n",
      "Thailand              298\n",
      "Turkey                 84\n",
      "Turkmenistan          120\n",
      "Ukraine               204\n",
      "United Kingdom        300\n",
      "United States         360\n",
      "Uzbekistan            108\n",
      "dtype: int64\n"
     ]
    }
   ],
   "source": [
    "print(sucidedataframe.pivot_table(columns=['Country'], aggfunc='size'))  # counts duplicates in the selected dataframe column."
   ]
  },
  {
   "cell_type": "code",
   "execution_count": 21,
   "id": "81b0023e",
   "metadata": {},
   "outputs": [
    {
     "data": {
      "text/html": [
       "<div>\n",
       "<style scoped>\n",
       "    .dataframe tbody tr th:only-of-type {\n",
       "        vertical-align: middle;\n",
       "    }\n",
       "\n",
       "    .dataframe tbody tr th {\n",
       "        vertical-align: top;\n",
       "    }\n",
       "\n",
       "    .dataframe thead th {\n",
       "        text-align: right;\n",
       "    }\n",
       "</style>\n",
       "<table border=\"1\" class=\"dataframe\">\n",
       "  <thead>\n",
       "    <tr style=\"text-align: right;\">\n",
       "      <th></th>\n",
       "      <th>Country</th>\n",
       "      <th>Year</th>\n",
       "      <th>Age</th>\n",
       "      <th>Gender</th>\n",
       "      <th>Population</th>\n",
       "      <th>Internet_Usage_per_%_Population</th>\n",
       "      <th>Total_Labour_force</th>\n",
       "      <th>Cellular_subscriptions_per_100_people</th>\n",
       "      <th>GDPpyear</th>\n",
       "      <th>GDPpcapital</th>\n",
       "      <th>Expense_%_of_GDP)</th>\n",
       "      <th>Physicians_per_1,000_people)</th>\n",
       "      <th>Refugee_population_by_country_or_territory_of_origin</th>\n",
       "      <th>Suicidesper100k</th>\n",
       "    </tr>\n",
       "  </thead>\n",
       "  <tbody>\n",
       "    <tr>\n",
       "      <th>0</th>\n",
       "      <td>Argentina</td>\n",
       "      <td>1985</td>\n",
       "      <td>75+ years</td>\n",
       "      <td>male</td>\n",
       "      <td>363000</td>\n",
       "      <td>0.0</td>\n",
       "      <td>0</td>\n",
       "      <td>0.0</td>\n",
       "      <td>8.841667e+10</td>\n",
       "      <td>3264</td>\n",
       "      <td>0.0</td>\n",
       "      <td>0.0</td>\n",
       "      <td>0.0</td>\n",
       "      <td>55.65</td>\n",
       "    </tr>\n",
       "  </tbody>\n",
       "</table>\n",
       "</div>"
      ],
      "text/plain": [
       "     Country  Year        Age Gender  Population  \\\n",
       "0  Argentina  1985  75+ years   male      363000   \n",
       "\n",
       "   Internet_Usage_per_%_Population  Total_Labour_force  \\\n",
       "0                              0.0                   0   \n",
       "\n",
       "   Cellular_subscriptions_per_100_people      GDPpyear  GDPpcapital  \\\n",
       "0                                    0.0  8.841667e+10         3264   \n",
       "\n",
       "   Expense_%_of_GDP)  Physicians_per_1,000_people)  \\\n",
       "0                0.0                           0.0   \n",
       "\n",
       "   Refugee_population_by_country_or_territory_of_origin  Suicidesper100k  \n",
       "0                                                0.0               55.65  "
      ]
     },
     "execution_count": 21,
     "metadata": {},
     "output_type": "execute_result"
    }
   ],
   "source": [
    "sucidedataframe.head(1)"
   ]
  },
  {
   "cell_type": "code",
   "execution_count": 22,
   "id": "398680f3",
   "metadata": {},
   "outputs": [
    {
     "name": "stdout",
     "output_type": "stream",
     "text": [
      "Age\n",
      "15-24 years    1932\n",
      "25-34 years    1932\n",
      "35-54 years    1932\n",
      "5-14 years     1910\n",
      "55-74 years    1932\n",
      "75+ years      1932\n",
      "dtype: int64\n"
     ]
    }
   ],
   "source": [
    "print(sucidedataframe.pivot_table(columns=['Age'], aggfunc='size'))  # counts duplicates in the selected dataframe column."
   ]
  },
  {
   "cell_type": "code",
   "execution_count": 23,
   "id": "0bb48586",
   "metadata": {},
   "outputs": [],
   "source": [
    "sucidedataframe.index = pd.RangeIndex(len(sucidedataframe.index))"
   ]
  },
  {
   "cell_type": "code",
   "execution_count": 24,
   "id": "1eed6166",
   "metadata": {},
   "outputs": [
    {
     "data": {
      "text/html": [
       "<div>\n",
       "<style scoped>\n",
       "    .dataframe tbody tr th:only-of-type {\n",
       "        vertical-align: middle;\n",
       "    }\n",
       "\n",
       "    .dataframe tbody tr th {\n",
       "        vertical-align: top;\n",
       "    }\n",
       "\n",
       "    .dataframe thead th {\n",
       "        text-align: right;\n",
       "    }\n",
       "</style>\n",
       "<table border=\"1\" class=\"dataframe\">\n",
       "  <thead>\n",
       "    <tr style=\"text-align: right;\">\n",
       "      <th></th>\n",
       "      <th>Country</th>\n",
       "      <th>Year</th>\n",
       "      <th>Age</th>\n",
       "      <th>Gender</th>\n",
       "      <th>Population</th>\n",
       "      <th>Internet_Usage_per_%_Population</th>\n",
       "      <th>Total_Labour_force</th>\n",
       "      <th>Cellular_subscriptions_per_100_people</th>\n",
       "      <th>GDPpyear</th>\n",
       "      <th>GDPpcapital</th>\n",
       "      <th>Expense_%_of_GDP)</th>\n",
       "      <th>Physicians_per_1,000_people)</th>\n",
       "      <th>Refugee_population_by_country_or_territory_of_origin</th>\n",
       "      <th>Suicidesper100k</th>\n",
       "    </tr>\n",
       "  </thead>\n",
       "  <tbody>\n",
       "    <tr>\n",
       "      <th>0</th>\n",
       "      <td>Argentina</td>\n",
       "      <td>1985</td>\n",
       "      <td>75+ years</td>\n",
       "      <td>male</td>\n",
       "      <td>363000</td>\n",
       "      <td>0.0</td>\n",
       "      <td>0</td>\n",
       "      <td>0.0</td>\n",
       "      <td>8.841667e+10</td>\n",
       "      <td>3264</td>\n",
       "      <td>0.0</td>\n",
       "      <td>0.0</td>\n",
       "      <td>0.0</td>\n",
       "      <td>55.65</td>\n",
       "    </tr>\n",
       "    <tr>\n",
       "      <th>1</th>\n",
       "      <td>Argentina</td>\n",
       "      <td>1985</td>\n",
       "      <td>55-74 years</td>\n",
       "      <td>male</td>\n",
       "      <td>1997000</td>\n",
       "      <td>0.0</td>\n",
       "      <td>0</td>\n",
       "      <td>0.0</td>\n",
       "      <td>8.841667e+10</td>\n",
       "      <td>3264</td>\n",
       "      <td>0.0</td>\n",
       "      <td>0.0</td>\n",
       "      <td>0.0</td>\n",
       "      <td>24.29</td>\n",
       "    </tr>\n",
       "    <tr>\n",
       "      <th>2</th>\n",
       "      <td>Argentina</td>\n",
       "      <td>1985</td>\n",
       "      <td>35-54 years</td>\n",
       "      <td>male</td>\n",
       "      <td>3346300</td>\n",
       "      <td>0.0</td>\n",
       "      <td>0</td>\n",
       "      <td>0.0</td>\n",
       "      <td>8.841667e+10</td>\n",
       "      <td>3264</td>\n",
       "      <td>0.0</td>\n",
       "      <td>0.0</td>\n",
       "      <td>0.0</td>\n",
       "      <td>12.37</td>\n",
       "    </tr>\n",
       "    <tr>\n",
       "      <th>3</th>\n",
       "      <td>Argentina</td>\n",
       "      <td>1985</td>\n",
       "      <td>55-74 years</td>\n",
       "      <td>female</td>\n",
       "      <td>2304000</td>\n",
       "      <td>0.0</td>\n",
       "      <td>0</td>\n",
       "      <td>0.0</td>\n",
       "      <td>8.841667e+10</td>\n",
       "      <td>3264</td>\n",
       "      <td>0.0</td>\n",
       "      <td>0.0</td>\n",
       "      <td>0.0</td>\n",
       "      <td>9.11</td>\n",
       "    </tr>\n",
       "    <tr>\n",
       "      <th>4</th>\n",
       "      <td>Argentina</td>\n",
       "      <td>1985</td>\n",
       "      <td>25-34 years</td>\n",
       "      <td>male</td>\n",
       "      <td>2234200</td>\n",
       "      <td>0.0</td>\n",
       "      <td>0</td>\n",
       "      <td>0.0</td>\n",
       "      <td>8.841667e+10</td>\n",
       "      <td>3264</td>\n",
       "      <td>0.0</td>\n",
       "      <td>0.0</td>\n",
       "      <td>0.0</td>\n",
       "      <td>7.92</td>\n",
       "    </tr>\n",
       "  </tbody>\n",
       "</table>\n",
       "</div>"
      ],
      "text/plain": [
       "     Country  Year          Age  Gender  Population  \\\n",
       "0  Argentina  1985    75+ years    male      363000   \n",
       "1  Argentina  1985  55-74 years    male     1997000   \n",
       "2  Argentina  1985  35-54 years    male     3346300   \n",
       "3  Argentina  1985  55-74 years  female     2304000   \n",
       "4  Argentina  1985  25-34 years    male     2234200   \n",
       "\n",
       "   Internet_Usage_per_%_Population  Total_Labour_force  \\\n",
       "0                              0.0                   0   \n",
       "1                              0.0                   0   \n",
       "2                              0.0                   0   \n",
       "3                              0.0                   0   \n",
       "4                              0.0                   0   \n",
       "\n",
       "   Cellular_subscriptions_per_100_people      GDPpyear  GDPpcapital  \\\n",
       "0                                    0.0  8.841667e+10         3264   \n",
       "1                                    0.0  8.841667e+10         3264   \n",
       "2                                    0.0  8.841667e+10         3264   \n",
       "3                                    0.0  8.841667e+10         3264   \n",
       "4                                    0.0  8.841667e+10         3264   \n",
       "\n",
       "   Expense_%_of_GDP)  Physicians_per_1,000_people)  \\\n",
       "0                0.0                           0.0   \n",
       "1                0.0                           0.0   \n",
       "2                0.0                           0.0   \n",
       "3                0.0                           0.0   \n",
       "4                0.0                           0.0   \n",
       "\n",
       "   Refugee_population_by_country_or_territory_of_origin  Suicidesper100k  \n",
       "0                                                0.0               55.65  \n",
       "1                                                0.0               24.29  \n",
       "2                                                0.0               12.37  \n",
       "3                                                0.0                9.11  \n",
       "4                                                0.0                7.92  "
      ]
     },
     "execution_count": 24,
     "metadata": {},
     "output_type": "execute_result"
    }
   ],
   "source": [
    "sucidedataframe.head()"
   ]
  },
  {
   "cell_type": "markdown",
   "id": "d414a023",
   "metadata": {},
   "source": [
    "### Encoding variables to  0 and 1"
   ]
  },
  {
   "cell_type": "code",
   "execution_count": 25,
   "id": "7cc5a74f",
   "metadata": {},
   "outputs": [
    {
     "name": "stdout",
     "output_type": "stream",
     "text": [
      "Gender\n",
      "female    5785\n",
      "male      5785\n",
      "dtype: int64\n"
     ]
    }
   ],
   "source": [
    "print(sucidedataframe.pivot_table(columns=['Gender'], aggfunc='size'))"
   ]
  },
  {
   "cell_type": "code",
   "execution_count": 26,
   "id": "a08f6eec",
   "metadata": {},
   "outputs": [
    {
     "name": "stdout",
     "output_type": "stream",
     "text": [
      "Age\n",
      "15-24 years    1932\n",
      "25-34 years    1932\n",
      "35-54 years    1932\n",
      "5-14 years     1910\n",
      "55-74 years    1932\n",
      "75+ years      1932\n",
      "dtype: int64\n"
     ]
    }
   ],
   "source": [
    "print(sucidedataframe.pivot_table(columns=['Age'], aggfunc='size'))"
   ]
  },
  {
   "cell_type": "code",
   "execution_count": 98,
   "id": "fd267ee7",
   "metadata": {},
   "outputs": [],
   "source": [
    "le = LabelEncoder()\n",
    "sucidedataframe.Gender = pd.get_dummies(sucidedataframe.Gender,drop_first = True)\n",
    "sucidedataframe.Age= le.fit_transform(sucidedataframe.Age)"
   ]
  },
  {
   "cell_type": "code",
   "execution_count": 99,
   "id": "ce4412af",
   "metadata": {},
   "outputs": [
    {
     "name": "stdout",
     "output_type": "stream",
     "text": [
      "Gender\n",
      "0    5785\n",
      "1    5785\n",
      "dtype: int64\n"
     ]
    }
   ],
   "source": [
    "print(sucidedataframe.pivot_table(columns=['Gender'], aggfunc='size'))"
   ]
  },
  {
   "cell_type": "code",
   "execution_count": 100,
   "id": "37d705fd",
   "metadata": {},
   "outputs": [
    {
     "name": "stdout",
     "output_type": "stream",
     "text": [
      "Age\n",
      "0    1932\n",
      "1    1932\n",
      "2    1932\n",
      "3    1910\n",
      "4    1932\n",
      "5    1932\n",
      "dtype: int64\n"
     ]
    }
   ],
   "source": [
    "print(sucidedataframe.pivot_table(columns=['Age'], aggfunc='size'))  # counts duplicates in the selected dataframe column."
   ]
  },
  {
   "cell_type": "code",
   "execution_count": 30,
   "id": "e0d37b2f",
   "metadata": {},
   "outputs": [
    {
     "data": {
      "text/html": [
       "<div>\n",
       "<style scoped>\n",
       "    .dataframe tbody tr th:only-of-type {\n",
       "        vertical-align: middle;\n",
       "    }\n",
       "\n",
       "    .dataframe tbody tr th {\n",
       "        vertical-align: top;\n",
       "    }\n",
       "\n",
       "    .dataframe thead th {\n",
       "        text-align: right;\n",
       "    }\n",
       "</style>\n",
       "<table border=\"1\" class=\"dataframe\">\n",
       "  <thead>\n",
       "    <tr style=\"text-align: right;\">\n",
       "      <th></th>\n",
       "      <th>Country</th>\n",
       "      <th>Year</th>\n",
       "      <th>Age</th>\n",
       "      <th>Gender</th>\n",
       "      <th>Population</th>\n",
       "      <th>Internet_Usage_per_%_Population</th>\n",
       "      <th>Total_Labour_force</th>\n",
       "      <th>Cellular_subscriptions_per_100_people</th>\n",
       "      <th>GDPpyear</th>\n",
       "      <th>GDPpcapital</th>\n",
       "      <th>Expense_%_of_GDP)</th>\n",
       "      <th>Physicians_per_1,000_people)</th>\n",
       "      <th>Refugee_population_by_country_or_territory_of_origin</th>\n",
       "      <th>Suicidesper100k</th>\n",
       "    </tr>\n",
       "  </thead>\n",
       "  <tbody>\n",
       "    <tr>\n",
       "      <th>0</th>\n",
       "      <td>Argentina</td>\n",
       "      <td>1985</td>\n",
       "      <td>5</td>\n",
       "      <td>1</td>\n",
       "      <td>363000</td>\n",
       "      <td>0.0</td>\n",
       "      <td>0</td>\n",
       "      <td>0.0</td>\n",
       "      <td>8.841667e+10</td>\n",
       "      <td>3264</td>\n",
       "      <td>0.0</td>\n",
       "      <td>0.0</td>\n",
       "      <td>0.0</td>\n",
       "      <td>55.65</td>\n",
       "    </tr>\n",
       "    <tr>\n",
       "      <th>1</th>\n",
       "      <td>Argentina</td>\n",
       "      <td>1985</td>\n",
       "      <td>4</td>\n",
       "      <td>1</td>\n",
       "      <td>1997000</td>\n",
       "      <td>0.0</td>\n",
       "      <td>0</td>\n",
       "      <td>0.0</td>\n",
       "      <td>8.841667e+10</td>\n",
       "      <td>3264</td>\n",
       "      <td>0.0</td>\n",
       "      <td>0.0</td>\n",
       "      <td>0.0</td>\n",
       "      <td>24.29</td>\n",
       "    </tr>\n",
       "    <tr>\n",
       "      <th>2</th>\n",
       "      <td>Argentina</td>\n",
       "      <td>1985</td>\n",
       "      <td>2</td>\n",
       "      <td>1</td>\n",
       "      <td>3346300</td>\n",
       "      <td>0.0</td>\n",
       "      <td>0</td>\n",
       "      <td>0.0</td>\n",
       "      <td>8.841667e+10</td>\n",
       "      <td>3264</td>\n",
       "      <td>0.0</td>\n",
       "      <td>0.0</td>\n",
       "      <td>0.0</td>\n",
       "      <td>12.37</td>\n",
       "    </tr>\n",
       "    <tr>\n",
       "      <th>3</th>\n",
       "      <td>Argentina</td>\n",
       "      <td>1985</td>\n",
       "      <td>4</td>\n",
       "      <td>0</td>\n",
       "      <td>2304000</td>\n",
       "      <td>0.0</td>\n",
       "      <td>0</td>\n",
       "      <td>0.0</td>\n",
       "      <td>8.841667e+10</td>\n",
       "      <td>3264</td>\n",
       "      <td>0.0</td>\n",
       "      <td>0.0</td>\n",
       "      <td>0.0</td>\n",
       "      <td>9.11</td>\n",
       "    </tr>\n",
       "    <tr>\n",
       "      <th>4</th>\n",
       "      <td>Argentina</td>\n",
       "      <td>1985</td>\n",
       "      <td>1</td>\n",
       "      <td>1</td>\n",
       "      <td>2234200</td>\n",
       "      <td>0.0</td>\n",
       "      <td>0</td>\n",
       "      <td>0.0</td>\n",
       "      <td>8.841667e+10</td>\n",
       "      <td>3264</td>\n",
       "      <td>0.0</td>\n",
       "      <td>0.0</td>\n",
       "      <td>0.0</td>\n",
       "      <td>7.92</td>\n",
       "    </tr>\n",
       "  </tbody>\n",
       "</table>\n",
       "</div>"
      ],
      "text/plain": [
       "     Country  Year  Age  Gender  Population  Internet_Usage_per_%_Population  \\\n",
       "0  Argentina  1985    5       1      363000                              0.0   \n",
       "1  Argentina  1985    4       1     1997000                              0.0   \n",
       "2  Argentina  1985    2       1     3346300                              0.0   \n",
       "3  Argentina  1985    4       0     2304000                              0.0   \n",
       "4  Argentina  1985    1       1     2234200                              0.0   \n",
       "\n",
       "   Total_Labour_force  Cellular_subscriptions_per_100_people      GDPpyear  \\\n",
       "0                   0                                    0.0  8.841667e+10   \n",
       "1                   0                                    0.0  8.841667e+10   \n",
       "2                   0                                    0.0  8.841667e+10   \n",
       "3                   0                                    0.0  8.841667e+10   \n",
       "4                   0                                    0.0  8.841667e+10   \n",
       "\n",
       "   GDPpcapital  Expense_%_of_GDP)  Physicians_per_1,000_people)  \\\n",
       "0         3264                0.0                           0.0   \n",
       "1         3264                0.0                           0.0   \n",
       "2         3264                0.0                           0.0   \n",
       "3         3264                0.0                           0.0   \n",
       "4         3264                0.0                           0.0   \n",
       "\n",
       "   Refugee_population_by_country_or_territory_of_origin  Suicidesper100k  \n",
       "0                                                0.0               55.65  \n",
       "1                                                0.0               24.29  \n",
       "2                                                0.0               12.37  \n",
       "3                                                0.0                9.11  \n",
       "4                                                0.0                7.92  "
      ]
     },
     "execution_count": 30,
     "metadata": {},
     "output_type": "execute_result"
    }
   ],
   "source": [
    "sucidedataframe.head()"
   ]
  },
  {
   "cell_type": "code",
   "execution_count": 31,
   "id": "c7d31ea0",
   "metadata": {},
   "outputs": [
    {
     "data": {
      "text/html": [
       "<div>\n",
       "<style scoped>\n",
       "    .dataframe tbody tr th:only-of-type {\n",
       "        vertical-align: middle;\n",
       "    }\n",
       "\n",
       "    .dataframe tbody tr th {\n",
       "        vertical-align: top;\n",
       "    }\n",
       "\n",
       "    .dataframe thead th {\n",
       "        text-align: right;\n",
       "    }\n",
       "</style>\n",
       "<table border=\"1\" class=\"dataframe\">\n",
       "  <thead>\n",
       "    <tr style=\"text-align: right;\">\n",
       "      <th></th>\n",
       "      <th>Year</th>\n",
       "      <th>Age</th>\n",
       "      <th>Gender</th>\n",
       "      <th>Population</th>\n",
       "      <th>Internet_Usage_per_%_Population</th>\n",
       "      <th>Total_Labour_force</th>\n",
       "      <th>Cellular_subscriptions_per_100_people</th>\n",
       "      <th>GDPpyear</th>\n",
       "      <th>GDPpcapital</th>\n",
       "      <th>Expense_%_of_GDP)</th>\n",
       "      <th>Physicians_per_1,000_people)</th>\n",
       "      <th>Refugee_population_by_country_or_territory_of_origin</th>\n",
       "      <th>Suicidesper100k</th>\n",
       "    </tr>\n",
       "  </thead>\n",
       "  <tbody>\n",
       "    <tr>\n",
       "      <th>count</th>\n",
       "      <td>11570.0</td>\n",
       "      <td>11570.0</td>\n",
       "      <td>11570.0</td>\n",
       "      <td>11570.0</td>\n",
       "      <td>11570.0</td>\n",
       "      <td>11570.0</td>\n",
       "      <td>11570.0</td>\n",
       "      <td>1.157000e+04</td>\n",
       "      <td>11570.0</td>\n",
       "      <td>11570.0</td>\n",
       "      <td>11570.0</td>\n",
       "      <td>11570.0</td>\n",
       "      <td>11570.0</td>\n",
       "    </tr>\n",
       "    <tr>\n",
       "      <th>mean</th>\n",
       "      <td>2000.0</td>\n",
       "      <td>2.0</td>\n",
       "      <td>0.0</td>\n",
       "      <td>3179703.0</td>\n",
       "      <td>22.0</td>\n",
       "      <td>11581759.0</td>\n",
       "      <td>40.0</td>\n",
       "      <td>8.354396e+11</td>\n",
       "      <td>21705.0</td>\n",
       "      <td>18.0</td>\n",
       "      <td>2.0</td>\n",
       "      <td>10804.0</td>\n",
       "      <td>14.0</td>\n",
       "    </tr>\n",
       "    <tr>\n",
       "      <th>std</th>\n",
       "      <td>9.0</td>\n",
       "      <td>2.0</td>\n",
       "      <td>1.0</td>\n",
       "      <td>5227735.0</td>\n",
       "      <td>30.0</td>\n",
       "      <td>25834635.0</td>\n",
       "      <td>49.0</td>\n",
       "      <td>2.063111e+12</td>\n",
       "      <td>19448.0</td>\n",
       "      <td>17.0</td>\n",
       "      <td>2.0</td>\n",
       "      <td>49933.0</td>\n",
       "      <td>18.0</td>\n",
       "    </tr>\n",
       "    <tr>\n",
       "      <th>min</th>\n",
       "      <td>1985.0</td>\n",
       "      <td>0.0</td>\n",
       "      <td>0.0</td>\n",
       "      <td>4400.0</td>\n",
       "      <td>0.0</td>\n",
       "      <td>0.0</td>\n",
       "      <td>0.0</td>\n",
       "      <td>1.201313e+09</td>\n",
       "      <td>357.0</td>\n",
       "      <td>0.0</td>\n",
       "      <td>0.0</td>\n",
       "      <td>0.0</td>\n",
       "      <td>0.0</td>\n",
       "    </tr>\n",
       "    <tr>\n",
       "      <th>25%</th>\n",
       "      <td>1992.0</td>\n",
       "      <td>1.0</td>\n",
       "      <td>0.0</td>\n",
       "      <td>424000.0</td>\n",
       "      <td>0.0</td>\n",
       "      <td>0.0</td>\n",
       "      <td>0.0</td>\n",
       "      <td>6.752364e+10</td>\n",
       "      <td>5466.0</td>\n",
       "      <td>0.0</td>\n",
       "      <td>0.0</td>\n",
       "      <td>0.0</td>\n",
       "      <td>2.0</td>\n",
       "    </tr>\n",
       "    <tr>\n",
       "      <th>50%</th>\n",
       "      <td>1999.0</td>\n",
       "      <td>2.0</td>\n",
       "      <td>0.0</td>\n",
       "      <td>1051170.0</td>\n",
       "      <td>2.0</td>\n",
       "      <td>2035576.0</td>\n",
       "      <td>5.0</td>\n",
       "      <td>2.260000e+11</td>\n",
       "      <td>16615.0</td>\n",
       "      <td>17.0</td>\n",
       "      <td>2.0</td>\n",
       "      <td>5.0</td>\n",
       "      <td>8.0</td>\n",
       "    </tr>\n",
       "    <tr>\n",
       "      <th>75%</th>\n",
       "      <td>2009.0</td>\n",
       "      <td>4.0</td>\n",
       "      <td>1.0</td>\n",
       "      <td>3677338.0</td>\n",
       "      <td>41.0</td>\n",
       "      <td>8849590.0</td>\n",
       "      <td>88.0</td>\n",
       "      <td>5.890000e+11</td>\n",
       "      <td>31537.0</td>\n",
       "      <td>34.0</td>\n",
       "      <td>3.0</td>\n",
       "      <td>224.0</td>\n",
       "      <td>19.0</td>\n",
       "    </tr>\n",
       "    <tr>\n",
       "      <th>max</th>\n",
       "      <td>2016.0</td>\n",
       "      <td>5.0</td>\n",
       "      <td>1.0</td>\n",
       "      <td>43805214.0</td>\n",
       "      <td>97.0</td>\n",
       "      <td>158831064.0</td>\n",
       "      <td>172.0</td>\n",
       "      <td>1.810000e+13</td>\n",
       "      <td>109804.0</td>\n",
       "      <td>60.0</td>\n",
       "      <td>6.0</td>\n",
       "      <td>396717.0</td>\n",
       "      <td>178.0</td>\n",
       "    </tr>\n",
       "  </tbody>\n",
       "</table>\n",
       "</div>"
      ],
      "text/plain": [
       "          Year      Age   Gender  Population  Internet_Usage_per_%_Population  \\\n",
       "count  11570.0  11570.0  11570.0     11570.0                          11570.0   \n",
       "mean    2000.0      2.0      0.0   3179703.0                             22.0   \n",
       "std        9.0      2.0      1.0   5227735.0                             30.0   \n",
       "min     1985.0      0.0      0.0      4400.0                              0.0   \n",
       "25%     1992.0      1.0      0.0    424000.0                              0.0   \n",
       "50%     1999.0      2.0      0.0   1051170.0                              2.0   \n",
       "75%     2009.0      4.0      1.0   3677338.0                             41.0   \n",
       "max     2016.0      5.0      1.0  43805214.0                             97.0   \n",
       "\n",
       "       Total_Labour_force  Cellular_subscriptions_per_100_people  \\\n",
       "count             11570.0                                11570.0   \n",
       "mean           11581759.0                                   40.0   \n",
       "std            25834635.0                                   49.0   \n",
       "min                   0.0                                    0.0   \n",
       "25%                   0.0                                    0.0   \n",
       "50%             2035576.0                                    5.0   \n",
       "75%             8849590.0                                   88.0   \n",
       "max           158831064.0                                  172.0   \n",
       "\n",
       "           GDPpyear  GDPpcapital  Expense_%_of_GDP)  \\\n",
       "count  1.157000e+04      11570.0            11570.0   \n",
       "mean   8.354396e+11      21705.0               18.0   \n",
       "std    2.063111e+12      19448.0               17.0   \n",
       "min    1.201313e+09        357.0                0.0   \n",
       "25%    6.752364e+10       5466.0                0.0   \n",
       "50%    2.260000e+11      16615.0               17.0   \n",
       "75%    5.890000e+11      31537.0               34.0   \n",
       "max    1.810000e+13     109804.0               60.0   \n",
       "\n",
       "       Physicians_per_1,000_people)  \\\n",
       "count                       11570.0   \n",
       "mean                            2.0   \n",
       "std                             2.0   \n",
       "min                             0.0   \n",
       "25%                             0.0   \n",
       "50%                             2.0   \n",
       "75%                             3.0   \n",
       "max                             6.0   \n",
       "\n",
       "       Refugee_population_by_country_or_territory_of_origin  Suicidesper100k  \n",
       "count                                            11570.0             11570.0  \n",
       "mean                                             10804.0                14.0  \n",
       "std                                              49933.0                18.0  \n",
       "min                                                  0.0                 0.0  \n",
       "25%                                                  0.0                 2.0  \n",
       "50%                                                  5.0                 8.0  \n",
       "75%                                                224.0                19.0  \n",
       "max                                             396717.0               178.0  "
      ]
     },
     "execution_count": 31,
     "metadata": {},
     "output_type": "execute_result"
    }
   ],
   "source": [
    "sucidedataframe.describe().round()  # Shows the count, mean, std, min, 25%, 50%, 75% and \n",
    "                                    # max of a datframe. "
   ]
  },
  {
   "cell_type": "code",
   "execution_count": 32,
   "id": "132a5dec",
   "metadata": {},
   "outputs": [
    {
     "name": "stdout",
     "output_type": "stream",
     "text": [
      "max  89\n",
      "high  44\n",
      "medium  22\n",
      "min  11\n"
     ]
    }
   ],
   "source": [
    "print(\"max \", round(178/2))\n",
    "print(\"high \", round(89/2))\n",
    "print(\"medium \", round(44/2))\n",
    "print(\"min \", round(22/2))"
   ]
  },
  {
   "cell_type": "code",
   "execution_count": 33,
   "id": "e340500a",
   "metadata": {},
   "outputs": [],
   "source": [
    "sucidedataframe.loc[(sucidedataframe[\"Suicidesper100k\"] < 11), \"Suicidesper100k\"] = 1  # Encoding values above 43 \n",
    "                                                # as and below 86 to 2."
   ]
  },
  {
   "cell_type": "code",
   "execution_count": 34,
   "id": "13f1044a",
   "metadata": {},
   "outputs": [],
   "source": [
    "sucidedataframe.loc[(sucidedataframe[\"Suicidesper100k\"] >= 11) & (sucidedataframe[\"Suicidesper100k\"] < 22), \"Suicidesper100k\"] = 2  # Encoding values above 43 \n",
    "                                                # as and below 86 to 2."
   ]
  },
  {
   "cell_type": "code",
   "execution_count": 35,
   "id": "ea350f4c",
   "metadata": {},
   "outputs": [],
   "source": [
    "sucidedataframe.loc[(sucidedataframe[\"Suicidesper100k\"] >= 22) & (sucidedataframe[\"Suicidesper100k\"] < 44), \"Suicidesper100k\"] = 3  # Encoding values above 86 \n",
    "                                                # as and below 172 to 3."
   ]
  },
  {
   "cell_type": "code",
   "execution_count": 36,
   "id": "7b0ac48c",
   "metadata": {},
   "outputs": [],
   "source": [
    "sucidedataframe.loc[(sucidedataframe[\"Suicidesper100k\"] >= 44) & (sucidedataframe[\"Suicidesper100k\"] < 89), \"Suicidesper100k\"] = 3  # Encoding values above 86 \n",
    "                                                # as and below 172 to 3."
   ]
  },
  {
   "cell_type": "code",
   "execution_count": 37,
   "id": "edf84286",
   "metadata": {},
   "outputs": [],
   "source": [
    "sucidedataframe.loc[(sucidedataframe[\"Suicidesper100k\"] >= 89) & (sucidedataframe[\"Suicidesper100k\"] <= 178), \"Suicidesper100k\"] = 4  # Encoding values above 86 \n",
    "                                                # as and below 172 to 3."
   ]
  },
  {
   "cell_type": "code",
   "execution_count": 38,
   "id": "a30d95a0",
   "metadata": {},
   "outputs": [
    {
     "name": "stdout",
     "output_type": "stream",
     "text": [
      "Suicidesper100k\n",
      "1.0    7001\n",
      "2.0    2176\n",
      "3.0    2281\n",
      "4.0     112\n",
      "dtype: int64\n"
     ]
    }
   ],
   "source": [
    "print(sucidedataframe.pivot_table(columns=['Suicidesper100k'], aggfunc='size'))  # counts duplicates in the selected dataframe column."
   ]
  },
  {
   "cell_type": "code",
   "execution_count": 39,
   "id": "7e1b807d",
   "metadata": {},
   "outputs": [
    {
     "data": {
      "text/html": [
       "<div>\n",
       "<style scoped>\n",
       "    .dataframe tbody tr th:only-of-type {\n",
       "        vertical-align: middle;\n",
       "    }\n",
       "\n",
       "    .dataframe tbody tr th {\n",
       "        vertical-align: top;\n",
       "    }\n",
       "\n",
       "    .dataframe thead th {\n",
       "        text-align: right;\n",
       "    }\n",
       "</style>\n",
       "<table border=\"1\" class=\"dataframe\">\n",
       "  <thead>\n",
       "    <tr style=\"text-align: right;\">\n",
       "      <th></th>\n",
       "      <th>Country</th>\n",
       "      <th>Year</th>\n",
       "      <th>Age</th>\n",
       "      <th>Gender</th>\n",
       "      <th>Population</th>\n",
       "      <th>Internet_Usage_per_%_Population</th>\n",
       "      <th>Total_Labour_force</th>\n",
       "      <th>Cellular_subscriptions_per_100_people</th>\n",
       "      <th>GDPpyear</th>\n",
       "      <th>GDPpcapital</th>\n",
       "      <th>Expense_%_of_GDP)</th>\n",
       "      <th>Physicians_per_1,000_people)</th>\n",
       "      <th>Refugee_population_by_country_or_territory_of_origin</th>\n",
       "      <th>Suicidesper100k</th>\n",
       "    </tr>\n",
       "  </thead>\n",
       "  <tbody>\n",
       "    <tr>\n",
       "      <th>0</th>\n",
       "      <td>Argentina</td>\n",
       "      <td>1985</td>\n",
       "      <td>5</td>\n",
       "      <td>1</td>\n",
       "      <td>363000</td>\n",
       "      <td>0.0</td>\n",
       "      <td>0</td>\n",
       "      <td>0.0</td>\n",
       "      <td>8.841667e+10</td>\n",
       "      <td>3264</td>\n",
       "      <td>0.0</td>\n",
       "      <td>0.0</td>\n",
       "      <td>0.0</td>\n",
       "      <td>3.0</td>\n",
       "    </tr>\n",
       "    <tr>\n",
       "      <th>1</th>\n",
       "      <td>Argentina</td>\n",
       "      <td>1985</td>\n",
       "      <td>4</td>\n",
       "      <td>1</td>\n",
       "      <td>1997000</td>\n",
       "      <td>0.0</td>\n",
       "      <td>0</td>\n",
       "      <td>0.0</td>\n",
       "      <td>8.841667e+10</td>\n",
       "      <td>3264</td>\n",
       "      <td>0.0</td>\n",
       "      <td>0.0</td>\n",
       "      <td>0.0</td>\n",
       "      <td>3.0</td>\n",
       "    </tr>\n",
       "    <tr>\n",
       "      <th>2</th>\n",
       "      <td>Argentina</td>\n",
       "      <td>1985</td>\n",
       "      <td>2</td>\n",
       "      <td>1</td>\n",
       "      <td>3346300</td>\n",
       "      <td>0.0</td>\n",
       "      <td>0</td>\n",
       "      <td>0.0</td>\n",
       "      <td>8.841667e+10</td>\n",
       "      <td>3264</td>\n",
       "      <td>0.0</td>\n",
       "      <td>0.0</td>\n",
       "      <td>0.0</td>\n",
       "      <td>2.0</td>\n",
       "    </tr>\n",
       "    <tr>\n",
       "      <th>3</th>\n",
       "      <td>Argentina</td>\n",
       "      <td>1985</td>\n",
       "      <td>4</td>\n",
       "      <td>0</td>\n",
       "      <td>2304000</td>\n",
       "      <td>0.0</td>\n",
       "      <td>0</td>\n",
       "      <td>0.0</td>\n",
       "      <td>8.841667e+10</td>\n",
       "      <td>3264</td>\n",
       "      <td>0.0</td>\n",
       "      <td>0.0</td>\n",
       "      <td>0.0</td>\n",
       "      <td>1.0</td>\n",
       "    </tr>\n",
       "    <tr>\n",
       "      <th>4</th>\n",
       "      <td>Argentina</td>\n",
       "      <td>1985</td>\n",
       "      <td>1</td>\n",
       "      <td>1</td>\n",
       "      <td>2234200</td>\n",
       "      <td>0.0</td>\n",
       "      <td>0</td>\n",
       "      <td>0.0</td>\n",
       "      <td>8.841667e+10</td>\n",
       "      <td>3264</td>\n",
       "      <td>0.0</td>\n",
       "      <td>0.0</td>\n",
       "      <td>0.0</td>\n",
       "      <td>1.0</td>\n",
       "    </tr>\n",
       "  </tbody>\n",
       "</table>\n",
       "</div>"
      ],
      "text/plain": [
       "     Country  Year  Age  Gender  Population  Internet_Usage_per_%_Population  \\\n",
       "0  Argentina  1985    5       1      363000                              0.0   \n",
       "1  Argentina  1985    4       1     1997000                              0.0   \n",
       "2  Argentina  1985    2       1     3346300                              0.0   \n",
       "3  Argentina  1985    4       0     2304000                              0.0   \n",
       "4  Argentina  1985    1       1     2234200                              0.0   \n",
       "\n",
       "   Total_Labour_force  Cellular_subscriptions_per_100_people      GDPpyear  \\\n",
       "0                   0                                    0.0  8.841667e+10   \n",
       "1                   0                                    0.0  8.841667e+10   \n",
       "2                   0                                    0.0  8.841667e+10   \n",
       "3                   0                                    0.0  8.841667e+10   \n",
       "4                   0                                    0.0  8.841667e+10   \n",
       "\n",
       "   GDPpcapital  Expense_%_of_GDP)  Physicians_per_1,000_people)  \\\n",
       "0         3264                0.0                           0.0   \n",
       "1         3264                0.0                           0.0   \n",
       "2         3264                0.0                           0.0   \n",
       "3         3264                0.0                           0.0   \n",
       "4         3264                0.0                           0.0   \n",
       "\n",
       "   Refugee_population_by_country_or_territory_of_origin  Suicidesper100k  \n",
       "0                                                0.0                 3.0  \n",
       "1                                                0.0                 3.0  \n",
       "2                                                0.0                 2.0  \n",
       "3                                                0.0                 1.0  \n",
       "4                                                0.0                 1.0  "
      ]
     },
     "execution_count": 39,
     "metadata": {},
     "output_type": "execute_result"
    }
   ],
   "source": [
    "sucidedataframe.head()"
   ]
  },
  {
   "cell_type": "code",
   "execution_count": 40,
   "id": "c7f98825",
   "metadata": {},
   "outputs": [
    {
     "name": "stdout",
     "output_type": "stream",
     "text": [
      "<class 'pandas.core.frame.DataFrame'>\n",
      "RangeIndex: 11570 entries, 0 to 11569\n",
      "Data columns (total 14 columns):\n",
      " #   Column                                                Non-Null Count  Dtype  \n",
      "---  ------                                                --------------  -----  \n",
      " 0   Country                                               11570 non-null  object \n",
      " 1   Year                                                  11570 non-null  int64  \n",
      " 2   Age                                                   11570 non-null  int32  \n",
      " 3   Gender                                                11570 non-null  uint8  \n",
      " 4   Population                                            11570 non-null  int64  \n",
      " 5   Internet_Usage_per_%_Population                       11570 non-null  float64\n",
      " 6   Total_Labour_force                                    11570 non-null  int64  \n",
      " 7   Cellular_subscriptions_per_100_people                 11570 non-null  float64\n",
      " 8   GDPpyear                                              11570 non-null  float64\n",
      " 9   GDPpcapital                                           11570 non-null  int64  \n",
      " 10  Expense_%_of_GDP)                                     11570 non-null  float64\n",
      " 11  Physicians_per_1,000_people)                          11570 non-null  float64\n",
      " 12  Refugee_population_by_country_or_territory_of_origin  11570 non-null  float64\n",
      " 13  Suicidesper100k                                       11570 non-null  float64\n",
      "dtypes: float64(7), int32(1), int64(4), object(1), uint8(1)\n",
      "memory usage: 1.1+ MB\n"
     ]
    }
   ],
   "source": [
    "sucidedataframe.info()  # checking Basic information on the dataframe being procesed."
   ]
  },
  {
   "cell_type": "code",
   "execution_count": 41,
   "id": "e0881c7e",
   "metadata": {},
   "outputs": [],
   "source": [
    "sucidedataframe['Internet_Usage_per_%_Population'] = sucidedataframe['Internet_Usage_per_%_Population'].astype(np.int64)  # converting float to int."
   ]
  },
  {
   "cell_type": "code",
   "execution_count": 42,
   "id": "08fb947c",
   "metadata": {},
   "outputs": [],
   "source": [
    "sucidedataframe['Cellular_subscriptions_per_100_people'] = sucidedataframe['Cellular_subscriptions_per_100_people'].astype(np.int64)  # converting float to int."
   ]
  },
  {
   "cell_type": "code",
   "execution_count": 43,
   "id": "d1ce147d",
   "metadata": {},
   "outputs": [],
   "source": [
    "sucidedataframe['Suicidesper100k'] = sucidedataframe['Suicidesper100k'].astype(np.int64)  # converting float to int."
   ]
  },
  {
   "cell_type": "code",
   "execution_count": 44,
   "id": "bad01684",
   "metadata": {},
   "outputs": [],
   "source": [
    "sucidedataframe['Age'] = sucidedataframe['Age'].astype(np.int64)  # converting float to int."
   ]
  },
  {
   "cell_type": "code",
   "execution_count": 45,
   "id": "2cea4eaa",
   "metadata": {},
   "outputs": [],
   "source": [
    "sucidedataframe['Gender'] = sucidedataframe['Gender'].astype(np.int64)  # converting float to int."
   ]
  },
  {
   "cell_type": "code",
   "execution_count": 46,
   "id": "5780f050",
   "metadata": {},
   "outputs": [],
   "source": [
    "sucidedataframe['GDPpyear'] = sucidedataframe['GDPpyear'].astype(np.int64)  # converting float to int."
   ]
  },
  {
   "cell_type": "code",
   "execution_count": 47,
   "id": "2aecaca3",
   "metadata": {},
   "outputs": [],
   "source": [
    "sucidedataframe['Expense_%_of_GDP)'] = sucidedataframe['Expense_%_of_GDP)'].astype(np.int64)  # converting float to int."
   ]
  },
  {
   "cell_type": "code",
   "execution_count": 48,
   "id": "64989ed1",
   "metadata": {},
   "outputs": [],
   "source": [
    "sucidedataframe['Physicians_per_1,000_people)'] = sucidedataframe['Physicians_per_1,000_people)'].astype(np.int64)  # converting float to int."
   ]
  },
  {
   "cell_type": "code",
   "execution_count": 49,
   "id": "d4468520",
   "metadata": {},
   "outputs": [],
   "source": [
    "sucidedataframe['Refugee_population_by_country_or_territory_of_origin'] = sucidedataframe['Refugee_population_by_country_or_territory_of_origin'].astype(np.int64)  # converting float to int."
   ]
  },
  {
   "cell_type": "code",
   "execution_count": 50,
   "id": "6fdd8630",
   "metadata": {},
   "outputs": [
    {
     "name": "stdout",
     "output_type": "stream",
     "text": [
      "<class 'pandas.core.frame.DataFrame'>\n",
      "RangeIndex: 11570 entries, 0 to 11569\n",
      "Data columns (total 14 columns):\n",
      " #   Column                                                Non-Null Count  Dtype \n",
      "---  ------                                                --------------  ----- \n",
      " 0   Country                                               11570 non-null  object\n",
      " 1   Year                                                  11570 non-null  int64 \n",
      " 2   Age                                                   11570 non-null  int64 \n",
      " 3   Gender                                                11570 non-null  int64 \n",
      " 4   Population                                            11570 non-null  int64 \n",
      " 5   Internet_Usage_per_%_Population                       11570 non-null  int64 \n",
      " 6   Total_Labour_force                                    11570 non-null  int64 \n",
      " 7   Cellular_subscriptions_per_100_people                 11570 non-null  int64 \n",
      " 8   GDPpyear                                              11570 non-null  int64 \n",
      " 9   GDPpcapital                                           11570 non-null  int64 \n",
      " 10  Expense_%_of_GDP)                                     11570 non-null  int64 \n",
      " 11  Physicians_per_1,000_people)                          11570 non-null  int64 \n",
      " 12  Refugee_population_by_country_or_territory_of_origin  11570 non-null  int64 \n",
      " 13  Suicidesper100k                                       11570 non-null  int64 \n",
      "dtypes: int64(13), object(1)\n",
      "memory usage: 1.2+ MB\n"
     ]
    }
   ],
   "source": [
    "sucidedataframe.info()  # checking Basic information on the dataframe being procesed."
   ]
  },
  {
   "cell_type": "code",
   "execution_count": 51,
   "id": "64db67cf",
   "metadata": {},
   "outputs": [
    {
     "data": {
      "text/plain": [
       "<AxesSubplot:>"
      ]
     },
     "execution_count": 51,
     "metadata": {},
     "output_type": "execute_result"
    },
    {
     "data": {
      "image/png": "[encoded data removed]",
      "text/plain": [
       "<Figure size 864x648 with 2 Axes>"
      ]
     },
     "metadata": {
      "needs_background": "light"
     },
     "output_type": "display_data"
    }
   ],
   "source": [
    "plt.figure(figsize = (12,9))  # sets the size of the matrix\n",
    "correlation_matrix = sucidedataframe.corr().round(2)  # creates the correlation matrix\n",
    "sns.heatmap(data = correlation_matrix, annot = True)  # shows correlation matrix"
   ]
  },
  {
   "cell_type": "code",
   "execution_count": 52,
   "id": "6fb77382",
   "metadata": {},
   "outputs": [],
   "source": [
    "# Below the col names are renamed.\n",
    "sucidedataframe = sucidedataframe[[\"Country\", \"Age\", \"Gender\", \"Population\", \\\n",
    "\"Internet_Usage_per_%_Population\", \"Total_Labour_force\", \"Cellular_subscriptions_per_100_people\", \\\n",
    "\"GDPpyear\",\"GDPpcapital\",\"Expense_%_of_GDP)\",\\\n",
    "\"Physicians_per_1,000_people)\" ,\"Suicidesper100k\"]]"
   ]
  },
  {
   "cell_type": "code",
   "execution_count": 53,
   "id": "e7ebb900",
   "metadata": {},
   "outputs": [
    {
     "data": {
      "text/plain": [
       "<AxesSubplot:>"
      ]
     },
     "execution_count": 53,
     "metadata": {},
     "output_type": "execute_result"
    },
    {
     "data": {
      "image/png": "[encoded data removed]",
      "text/plain": [
       "<Figure size 864x648 with 2 Axes>"
      ]
     },
     "metadata": {
      "needs_background": "light"
     },
     "output_type": "display_data"
    }
   ],
   "source": [
    "plt.figure(figsize = (12,9))  # sets the size of the matrix\n",
    "correlation_matrix = sucidedataframe.corr().round(2)  # creates the correlation matrix\n",
    "sns.heatmap(data = correlation_matrix, annot = True)  # shows correlation matrix"
   ]
  },
  {
   "cell_type": "code",
   "execution_count": 54,
   "id": "a64097e7",
   "metadata": {},
   "outputs": [],
   "source": [
    "# COLUMNS TO KEEP\n",
    " # Psyscians , expences, gdp per cap, gdp per year, expences % gdp ,total labour force, internet usage per pop, population,\n",
    " # gender, age\n",
    "\n",
    "# columns to remove from the above\n",
    "# column                              -          has high corelation to \n",
    "# total labour force                  -          population/internet usage/gdp per cap/gdp per year/expences per gdp/psycians/\n",
    "\n"
   ]
  },
  {
   "cell_type": "code",
   "execution_count": 55,
   "id": "4c3a35a8",
   "metadata": {},
   "outputs": [],
   "source": [
    "sucidedataframe = sucidedataframe.drop('Total_Labour_force', 1)"
   ]
  },
  {
   "cell_type": "code",
   "execution_count": 56,
   "id": "ae96a43b",
   "metadata": {},
   "outputs": [
    {
     "data": {
      "text/plain": [
       "<AxesSubplot:>"
      ]
     },
     "execution_count": 56,
     "metadata": {},
     "output_type": "execute_result"
    },
    {
     "data": {
      "image/png": "[encoded data removed]",
      "text/plain": [
       "<Figure size 864x648 with 2 Axes>"
      ]
     },
     "metadata": {
      "needs_background": "light"
     },
     "output_type": "display_data"
    }
   ],
   "source": [
    "plt.figure(figsize = (12,9))  # sets the size of the matrix\n",
    "correlation_matrix = sucidedataframe.corr().round(2)  # creates the correlation matrix\n",
    "sns.heatmap(data = correlation_matrix, annot = True)  # shows correlation matrix"
   ]
  },
  {
   "cell_type": "code",
   "execution_count": 57,
   "id": "84babcc1",
   "metadata": {},
   "outputs": [],
   "source": [
    "sucidedataframe = sucidedataframe.drop('GDPpyear', 1)"
   ]
  },
  {
   "cell_type": "code",
   "execution_count": 58,
   "id": "36f0006f",
   "metadata": {},
   "outputs": [
    {
     "data": {
      "text/plain": [
       "<AxesSubplot:>"
      ]
     },
     "execution_count": 58,
     "metadata": {},
     "output_type": "execute_result"
    },
    {
     "data": {
      "image/png": "[encoded data removed]",
      "text/plain": [
       "<Figure size 864x648 with 2 Axes>"
      ]
     },
     "metadata": {
      "needs_background": "light"
     },
     "output_type": "display_data"
    }
   ],
   "source": [
    "plt.figure(figsize = (12,9))  # sets the size of the matrix\n",
    "correlation_matrix = sucidedataframe.corr().round(2)  # creates the correlation matrix\n",
    "sns.heatmap(data = correlation_matrix, annot = True)  # shows correlation matrix"
   ]
  },
  {
   "cell_type": "code",
   "execution_count": 59,
   "id": "3c15f293",
   "metadata": {},
   "outputs": [
    {
     "data": {
      "text/plain": [
       "Index(['Country', 'Age', 'Gender', 'Population',\n",
       "       'Internet_Usage_per_%_Population',\n",
       "       'Cellular_subscriptions_per_100_people', 'GDPpcapital',\n",
       "       'Expense_%_of_GDP)', 'Physicians_per_1,000_people)', 'Suicidesper100k'],\n",
       "      dtype='object')"
      ]
     },
     "execution_count": 59,
     "metadata": {},
     "output_type": "execute_result"
    }
   ],
   "source": [
    "sucidedataframe.columns  # The columns of the dataframe are viewed."
   ]
  },
  {
   "cell_type": "code",
   "execution_count": 60,
   "id": "251a298e",
   "metadata": {},
   "outputs": [],
   "source": [
    "sucidedataframe = sucidedataframe.drop('Internet_Usage_per_%_Population', 1)\n",
    "sucidedataframe = sucidedataframe.drop('Cellular_subscriptions_per_100_people', 1)\n",
    "sucidedataframe = sucidedataframe.drop('Expense_%_of_GDP)', 1)\n",
    "sucidedataframe = sucidedataframe.drop('Physicians_per_1,000_people)', 1)"
   ]
  },
  {
   "cell_type": "code",
   "execution_count": 61,
   "id": "1e15d29c",
   "metadata": {},
   "outputs": [
    {
     "data": {
      "text/plain": [
       "<AxesSubplot:>"
      ]
     },
     "execution_count": 61,
     "metadata": {},
     "output_type": "execute_result"
    },
    {
     "data": {
      "image/png": "[encoded data removed]",
      "text/plain": [
       "<Figure size 864x648 with 2 Axes>"
      ]
     },
     "metadata": {
      "needs_background": "light"
     },
     "output_type": "display_data"
    }
   ],
   "source": [
    "plt.figure(figsize = (12,9))  # sets the size of the matrix\n",
    "correlation_matrix = sucidedataframe.corr().round(2)  # creates the correlation matrix\n",
    "sns.heatmap(data = correlation_matrix, annot = True)  # shows correlation matrix"
   ]
  },
  {
   "cell_type": "markdown",
   "id": "d4a78be8",
   "metadata": {},
   "source": [
    "### selecting X and Y values "
   ]
  },
  {
   "cell_type": "code",
   "execution_count": 62,
   "id": "2fc03af8",
   "metadata": {},
   "outputs": [],
   "source": [
    "X = sucidedataframe.iloc[:, :-1].values  # selecting the values for the X variable.\n",
    "X_before_encoding = X"
   ]
  },
  {
   "cell_type": "code",
   "execution_count": 63,
   "id": "2bce2c0f",
   "metadata": {},
   "outputs": [],
   "source": [
    "y = sucidedataframe[[\"Suicidesper100k\"]].to_numpy()  # selecting the values for the Y variable. # done using .to_numpy and not \n",
    "                                                       # .iloc as .to_numpy creates a horizontal bar while .iloc creates a \n",
    "                                                       # horizontal bar which will not alighn with the x values."
   ]
  },
  {
   "cell_type": "code",
   "execution_count": 64,
   "id": "fefe63b9",
   "metadata": {},
   "outputs": [
    {
     "name": "stdout",
     "output_type": "stream",
     "text": [
      "[['Argentina' 5 1 363000 3264]\n",
      " ['Argentina' 4 1 1997000 3264]\n",
      " ['Argentina' 2 1 3346300 3264]\n",
      " ...\n",
      " ['Uzbekistan' 3 1 2762158 2309]\n",
      " ['Uzbekistan' 3 0 2631600 2309]\n",
      " ['Uzbekistan' 4 0 1438935 2309]]\n"
     ]
    }
   ],
   "source": [
    "print(X)"
   ]
  },
  {
   "cell_type": "code",
   "execution_count": 65,
   "id": "a0f76576",
   "metadata": {},
   "outputs": [
    {
     "name": "stdout",
     "output_type": "stream",
     "text": [
      "[[3]\n",
      " [3]\n",
      " [2]\n",
      " ...\n",
      " [1]\n",
      " [1]\n",
      " [1]]\n"
     ]
    }
   ],
   "source": [
    "print(y)"
   ]
  },
  {
   "cell_type": "markdown",
   "id": "1464be8b",
   "metadata": {},
   "source": [
    "### One Hot Encoding"
   ]
  },
  {
   "cell_type": "code",
   "execution_count": 66,
   "id": "e5cbdbdb",
   "metadata": {
    "scrolled": true
   },
   "outputs": [
    {
     "data": {
      "text/plain": [
       "Country\n",
       "Argentina             192\n",
       "Armenia               178\n",
       "Australia             300\n",
       "Austria               334\n",
       "Azerbaijan            120\n",
       "Belgium               312\n",
       "Brazil                336\n",
       "Bulgaria              216\n",
       "Canada                276\n",
       "Chile                 264\n",
       "Colombia              240\n",
       "Croatia               250\n",
       "Cuba                   60\n",
       "Czech Republic        286\n",
       "Denmark               240\n",
       "Finland               324\n",
       "France                192\n",
       "Georgia               216\n",
       "Germany               276\n",
       "Greece                312\n",
       "Hungary               286\n",
       "Iceland               358\n",
       "Ireland               300\n",
       "Israel                312\n",
       "Italy                 324\n",
       "Jamaica                96\n",
       "Japan                 252\n",
       "Mexico                288\n",
       "Mongolia               10\n",
       "Netherlands           298\n",
       "New Zealand           228\n",
       "Norway                336\n",
       "Poland                252\n",
       "Portugal              324\n",
       "Romania               274\n",
       "Russian Federation    252\n",
       "South Africa           96\n",
       "Spain                 372\n",
       "Sweden                334\n",
       "Switzerland           180\n",
       "Thailand              298\n",
       "Turkey                 84\n",
       "Turkmenistan          120\n",
       "Ukraine               204\n",
       "United Kingdom        300\n",
       "United States         360\n",
       "Uzbekistan            108\n",
       "dtype: int64"
      ]
     },
     "execution_count": 66,
     "metadata": {},
     "output_type": "execute_result"
    }
   ],
   "source": [
    "# count duplicates function learned from: https://datatofish.com/count-duplicates-pandas/\n",
    "sucidedataframe.pivot_table(columns=['Country'], aggfunc='size')  # counts duplicates in the selected dataframe column."
   ]
  },
  {
   "cell_type": "code",
   "execution_count": null,
   "id": "e497c70f",
   "metadata": {},
   "outputs": [],
   "source": []
  },
  {
   "cell_type": "code",
   "execution_count": 102,
   "id": "ebed7843",
   "metadata": {},
   "outputs": [
    {
     "ename": "AttributeError",
     "evalue": "'numpy.ndarray' object has no attribute 'toarray'",
     "output_type": "error",
     "traceback": [
      "\u001b[1;31m---------------------------------------------------------------------------\u001b[0m",
      "\u001b[1;31mAttributeError\u001b[0m                            Traceback (most recent call last)",
      "\u001b[1;32m<ipython-input-102-6426a27779e1>\u001b[0m in \u001b[0;36m<module>\u001b[1;34m\u001b[0m\n\u001b[0;32m      3\u001b[0m \u001b[1;31m# remainder='what to do with the remaining columns'\u001b[0m\u001b[1;33m\u001b[0m\u001b[1;33m\u001b[0m\u001b[1;33m\u001b[0m\u001b[0m\n\u001b[0;32m      4\u001b[0m \u001b[1;33m\u001b[0m\u001b[0m\n\u001b[1;32m----> 5\u001b[1;33m \u001b[0mX\u001b[0m \u001b[1;33m=\u001b[0m \u001b[0mct\u001b[0m\u001b[1;33m.\u001b[0m\u001b[0mfit_transform\u001b[0m\u001b[1;33m(\u001b[0m\u001b[0mX\u001b[0m\u001b[1;33m)\u001b[0m\u001b[1;33m.\u001b[0m\u001b[0mtoarray\u001b[0m\u001b[1;33m(\u001b[0m\u001b[1;33m)\u001b[0m  \u001b[1;31m# applies the above method on the given array.\u001b[0m\u001b[1;33m\u001b[0m\u001b[1;33m\u001b[0m\u001b[0m\n\u001b[0m",
      "\u001b[1;31mAttributeError\u001b[0m: 'numpy.ndarray' object has no attribute 'toarray'"
     ]
    }
   ],
   "source": [
    "ct = ColumnTransformer(transformers=[('encoder', OneHotEncoder(), [0])], remainder='passthrough')    \n",
    "# transformers= [('what to do', method , [index of column to apply method on])]\n",
    "# remainder='what to do with the remaining columns'\n",
    "\n",
    "X = ct.fit_transform(X).toarray()  # applies the above method on the given array."
   ]
  },
  {
   "cell_type": "code",
   "execution_count": 68,
   "id": "c9c429c2",
   "metadata": {},
   "outputs": [
    {
     "name": "stdout",
     "output_type": "stream",
     "text": [
      "['Argentina' 5 1 363000 3264]\n"
     ]
    }
   ],
   "source": [
    "print(X_before_encoding[0])"
   ]
  },
  {
   "cell_type": "code",
   "execution_count": 69,
   "id": "da254b9f",
   "metadata": {},
   "outputs": [
    {
     "name": "stdout",
     "output_type": "stream",
     "text": [
      "363000.0\n"
     ]
    }
   ],
   "source": [
    "print(X[0][49])"
   ]
  },
  {
   "cell_type": "code",
   "execution_count": 70,
   "id": "2b759a83",
   "metadata": {},
   "outputs": [
    {
     "name": "stdout",
     "output_type": "stream",
     "text": [
      "[1.000e+00 0.000e+00 0.000e+00 0.000e+00 0.000e+00 0.000e+00 0.000e+00\n",
      " 0.000e+00 0.000e+00 0.000e+00 0.000e+00 0.000e+00 0.000e+00 0.000e+00\n",
      " 0.000e+00 0.000e+00 0.000e+00 0.000e+00 0.000e+00 0.000e+00 0.000e+00\n",
      " 0.000e+00 0.000e+00 0.000e+00 0.000e+00 0.000e+00 0.000e+00 0.000e+00\n",
      " 0.000e+00 0.000e+00 0.000e+00 0.000e+00 0.000e+00 0.000e+00 0.000e+00\n",
      " 0.000e+00 0.000e+00 0.000e+00 0.000e+00 0.000e+00 0.000e+00 0.000e+00\n",
      " 0.000e+00 0.000e+00 0.000e+00 0.000e+00 0.000e+00 5.000e+00 1.000e+00\n",
      " 3.630e+05 3.264e+03]\n"
     ]
    }
   ],
   "source": [
    "print(X[0])"
   ]
  },
  {
   "cell_type": "markdown",
   "id": "e7f842b6",
   "metadata": {},
   "source": [
    "## Spliting the datasets into a training and test set "
   ]
  },
  {
   "cell_type": "code",
   "execution_count": 71,
   "id": "a5234297",
   "metadata": {},
   "outputs": [],
   "source": [
    "X_train, X_test, y_train, y_test = train_test_split(X, y, test_size = 0.2, random_state = 1)\n",
    "# test_size = 0.2               # splitting the data into 80 and 20 percent between the training and test set           \n",
    "                                            # to get the best results.                                                           \n",
    "# random_state = 1         # resetting the  random seed"
   ]
  },
  {
   "cell_type": "code",
   "execution_count": 72,
   "id": "c0639ad9",
   "metadata": {},
   "outputs": [],
   "source": [
    "UnScaled_X_train,UnScaled_X_test, y_train, y_test = train_test_split(X, y, test_size = 0.2, random_state = 1)\n",
    "# test_size = 0.2               # splitting the data into 80 and 20 percent between the training and test set           \n",
    "                                            # to get the best results.                                                           \n",
    "# random_state = 1         # resetting the  random seed"
   ]
  },
  {
   "cell_type": "code",
   "execution_count": 73,
   "id": "5d0b568a",
   "metadata": {},
   "outputs": [
    {
     "name": "stdout",
     "output_type": "stream",
     "text": [
      "The length of X_train is  9256  and the length of y_train is  9256\n",
      "The length of X_test is  2314  and the length of y_test is  2314\n"
     ]
    }
   ],
   "source": [
    "# print the lenghth of both test and train set to see if there equally split.\n",
    "print(\"The length of X_train is \",len(X_train), \" and the length of y_train is \", len(y_train))  \n",
    "print(\"The length of X_test is \",len(X_test), \" and the length of y_test is \", len(y_test))"
   ]
  },
  {
   "cell_type": "code",
   "execution_count": 74,
   "id": "08e87fc9",
   "metadata": {},
   "outputs": [
    {
     "name": "stdout",
     "output_type": "stream",
     "text": [
      "X_test  [[0.000000e+00 0.000000e+00 0.000000e+00 ... 1.000000e+00 3.281123e+06\n",
      "  5.466000e+03]\n",
      " [0.000000e+00 0.000000e+00 0.000000e+00 ... 1.000000e+00 5.869648e+06\n",
      "  2.334200e+04]\n",
      " [0.000000e+00 0.000000e+00 0.000000e+00 ... 1.000000e+00 1.006200e+07\n",
      "  2.668700e+04]\n",
      " ...\n",
      " [0.000000e+00 0.000000e+00 0.000000e+00 ... 0.000000e+00 5.118600e+05\n",
      "  4.897700e+04]\n",
      " [0.000000e+00 0.000000e+00 0.000000e+00 ... 1.000000e+00 3.679000e+05\n",
      "  2.448000e+03]\n",
      " [0.000000e+00 0.000000e+00 0.000000e+00 ... 0.000000e+00 3.582800e+06\n",
      "  1.081000e+03]] \n",
      "y_test  [[2]\n",
      " [2]\n",
      " [3]\n",
      " ...\n",
      " [1]\n",
      " [1]\n",
      " [1]] \n",
      "X_train  [[0.000000e+00 0.000000e+00 0.000000e+00 ... 1.000000e+00 6.004570e+05\n",
      "  2.262300e+04]\n",
      " [0.000000e+00 0.000000e+00 0.000000e+00 ... 1.000000e+00 6.449100e+06\n",
      "  1.607000e+03]\n",
      " [0.000000e+00 0.000000e+00 0.000000e+00 ... 1.000000e+00 1.456471e+06\n",
      "  1.914000e+03]\n",
      " ...\n",
      " [0.000000e+00 0.000000e+00 0.000000e+00 ... 0.000000e+00 1.265873e+06\n",
      "  4.269800e+04]\n",
      " [0.000000e+00 0.000000e+00 0.000000e+00 ... 1.000000e+00 6.377750e+05\n",
      "  1.308700e+04]\n",
      " [0.000000e+00 1.000000e+00 0.000000e+00 ... 0.000000e+00 3.359000e+05\n",
      "  3.570000e+02]] \n",
      "y_train  [[1]\n",
      " [3]\n",
      " [1]\n",
      " ...\n",
      " [1]\n",
      " [2]\n",
      " [1]]\n"
     ]
    }
   ],
   "source": [
    "# print both test and train set to see them.\n",
    "print(\"X_test \", X_test, \"\\ny_test \", y_test, \"\\nX_train \", X_train, \"\\ny_train \", y_train)"
   ]
  },
  {
   "cell_type": "code",
   "execution_count": 75,
   "id": "84367258",
   "metadata": {},
   "outputs": [
    {
     "name": "stdout",
     "output_type": "stream",
     "text": [
      "X_test  [[0.000000e+00 0.000000e+00 0.000000e+00 ... 1.000000e+00 3.281123e+06\n",
      "  5.466000e+03]\n",
      " [0.000000e+00 0.000000e+00 0.000000e+00 ... 1.000000e+00 5.869648e+06\n",
      "  2.334200e+04]\n",
      " [0.000000e+00 0.000000e+00 0.000000e+00 ... 1.000000e+00 1.006200e+07\n",
      "  2.668700e+04]\n",
      " ...\n",
      " [0.000000e+00 0.000000e+00 0.000000e+00 ... 0.000000e+00 5.118600e+05\n",
      "  4.897700e+04]\n",
      " [0.000000e+00 0.000000e+00 0.000000e+00 ... 1.000000e+00 3.679000e+05\n",
      "  2.448000e+03]\n",
      " [0.000000e+00 0.000000e+00 0.000000e+00 ... 0.000000e+00 3.582800e+06\n",
      "  1.081000e+03]] \n",
      "y_test  [[2]\n",
      " [2]\n",
      " [3]\n",
      " ...\n",
      " [1]\n",
      " [1]\n",
      " [1]] \n",
      "X_train  [[0.000000e+00 0.000000e+00 0.000000e+00 ... 1.000000e+00 6.004570e+05\n",
      "  2.262300e+04]\n",
      " [0.000000e+00 0.000000e+00 0.000000e+00 ... 1.000000e+00 6.449100e+06\n",
      "  1.607000e+03]\n",
      " [0.000000e+00 0.000000e+00 0.000000e+00 ... 1.000000e+00 1.456471e+06\n",
      "  1.914000e+03]\n",
      " ...\n",
      " [0.000000e+00 0.000000e+00 0.000000e+00 ... 0.000000e+00 1.265873e+06\n",
      "  4.269800e+04]\n",
      " [0.000000e+00 0.000000e+00 0.000000e+00 ... 1.000000e+00 6.377750e+05\n",
      "  1.308700e+04]\n",
      " [0.000000e+00 1.000000e+00 0.000000e+00 ... 0.000000e+00 3.359000e+05\n",
      "  3.570000e+02]] \n",
      "y_train  [[1]\n",
      " [3]\n",
      " [1]\n",
      " ...\n",
      " [1]\n",
      " [2]\n",
      " [1]]\n"
     ]
    }
   ],
   "source": [
    "# print both test and train set to see them.\n",
    "print(\"X_test \", X_test, \"\\ny_test \", y_test, \"\\nX_train \", X_train, \"\\ny_train \", y_train)"
   ]
  },
  {
   "cell_type": "code",
   "execution_count": 76,
   "id": "18efbc71",
   "metadata": {},
   "outputs": [
    {
     "data": {
      "text/plain": [
       "600457.0"
      ]
     },
     "execution_count": 76,
     "metadata": {},
     "output_type": "execute_result"
    }
   ],
   "source": [
    "UnScaled_X_train[0][49]"
   ]
  },
  {
   "cell_type": "code",
   "execution_count": 77,
   "id": "21949128",
   "metadata": {},
   "outputs": [
    {
     "data": {
      "text/plain": [
       "3281123.0"
      ]
     },
     "execution_count": 77,
     "metadata": {},
     "output_type": "execute_result"
    }
   ],
   "source": [
    "UnScaled_X_test[0][49]"
   ]
  },
  {
   "cell_type": "markdown",
   "id": "83512843",
   "metadata": {},
   "source": [
    "## Feature Scaling "
   ]
  },
  {
   "cell_type": "code",
   "execution_count": 78,
   "id": "a6de7646",
   "metadata": {},
   "outputs": [
    {
     "name": "stdout",
     "output_type": "stream",
     "text": [
      "['Argentina' 5 1 363000 3264]\n"
     ]
    }
   ],
   "source": [
    "print(X_before_encoding[0])"
   ]
  },
  {
   "cell_type": "code",
   "execution_count": 79,
   "id": "c2baa173",
   "metadata": {},
   "outputs": [
    {
     "name": "stdout",
     "output_type": "stream",
     "text": [
      "363000.0\n"
     ]
    }
   ],
   "source": [
    "print(X[0][49])"
   ]
  },
  {
   "cell_type": "code",
   "execution_count": 80,
   "id": "c3791c50",
   "metadata": {},
   "outputs": [
    {
     "data": {
      "text/plain": [
       "600457.0"
      ]
     },
     "execution_count": 80,
     "metadata": {},
     "output_type": "execute_result"
    }
   ],
   "source": [
    "X_train[0][49]  # checking element in the 0th index"
   ]
  },
  {
   "cell_type": "code",
   "execution_count": 81,
   "id": "7bbde5bc",
   "metadata": {},
   "outputs": [],
   "source": [
    "sc = StandardScaler()  # creating an instance of the object.\n",
    "\n",
    "X_train[:, 49:] = sc.fit_transform(X_train[:, 49:])  # Scaling x_train\n",
    "X_test[:,49:] = sc.transform(X_test[:, 49:])  # Scaling y_train"
   ]
  },
  {
   "cell_type": "code",
   "execution_count": 82,
   "id": "99495342",
   "metadata": {},
   "outputs": [
    {
     "name": "stdout",
     "output_type": "stream",
     "text": [
      "X_test  [[ 0.          0.          0.         ...  1.          0.01926213\n",
      "  -0.84315757]\n",
      " [ 0.          0.          0.         ...  1.          0.51352086\n",
      "   0.08044688]\n",
      " [ 0.          0.          0.         ...  1.          1.31401788\n",
      "   0.25327397]\n",
      " ...\n",
      " [ 0.          0.          0.         ...  0.         -0.50950712\n",
      "   1.40493783]\n",
      " [ 0.          0.          0.         ...  1.         -0.53699516\n",
      "  -0.99908945]\n",
      " [ 0.          0.          0.         ...  0.          0.076865\n",
      "  -1.06971863]] \n",
      "\n",
      "X_train  [[ 0.          0.          0.         ...  1.         -0.49259021\n",
      "   0.0432981 ]\n",
      " [ 0.          0.          0.         ...  1.          0.62416271\n",
      "  -1.04254164]\n",
      " [ 0.          0.          0.         ...  1.         -0.32914099\n",
      "  -1.02667978]\n",
      " ...\n",
      " [ 0.          0.          0.         ...  0.         -0.3655342\n",
      "   1.08051893]\n",
      " [ 0.          0.          0.         ...  1.         -0.48546463\n",
      "  -0.44940116]\n",
      " [ 0.          1.          0.         ...  0.         -0.54310531\n",
      "  -1.10712575]]\n"
     ]
    }
   ],
   "source": [
    "print(\"X_test \", X_test,\"\\n\\nX_train \", X_train)  # printing the sets after feature scaling."
   ]
  },
  {
   "cell_type": "code",
   "execution_count": 83,
   "id": "016d8115",
   "metadata": {},
   "outputs": [
    {
     "data": {
      "text/plain": [
       "-0.4925902104344541"
      ]
     },
     "execution_count": 83,
     "metadata": {},
     "output_type": "execute_result"
    }
   ],
   "source": [
    "X_train[0][49]"
   ]
  },
  {
   "cell_type": "code",
   "execution_count": 84,
   "id": "138490e4",
   "metadata": {},
   "outputs": [
    {
     "data": {
      "text/plain": [
       "600457.0"
      ]
     },
     "execution_count": 84,
     "metadata": {},
     "output_type": "execute_result"
    }
   ],
   "source": [
    "UnScaled_X_train[0][49]"
   ]
  },
  {
   "cell_type": "code",
   "execution_count": 85,
   "id": "54d897e9",
   "metadata": {},
   "outputs": [
    {
     "data": {
      "text/plain": [
       "0.01926212630240005"
      ]
     },
     "execution_count": 85,
     "metadata": {},
     "output_type": "execute_result"
    }
   ],
   "source": [
    "X_test[0][49]"
   ]
  },
  {
   "cell_type": "code",
   "execution_count": 86,
   "id": "32bd8f2d",
   "metadata": {},
   "outputs": [
    {
     "data": {
      "text/plain": [
       "3281123.0"
      ]
     },
     "execution_count": 86,
     "metadata": {},
     "output_type": "execute_result"
    }
   ],
   "source": [
    "UnScaled_X_test[0][49]"
   ]
  }
 ],
 "metadata": {
  "kernelspec": {
   "display_name": "Python 3",
   "language": "python",
   "name": "python3"
  },
  "language_info": {
   "codemirror_mode": {
    "name": "ipython",
    "version": 3
   },
   "file_extension": ".py",
   "mimetype": "text/x-python",
   "name": "python",
   "nbconvert_exporter": "python",
   "pygments_lexer": "ipython3",
   "version": "3.8.8"
  }
 },
 "nbformat": 4,
 "nbformat_minor": 5
}
