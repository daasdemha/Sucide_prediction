{
 "cells": [
  {
   "cell_type": "markdown",
   "id": "e0ee02c0",
   "metadata": {},
   "source": [
    "### Importing the relevent libraries"
   ]
  },
  {
   "cell_type": "code",
   "execution_count": 1,
   "id": "7fc96920",
   "metadata": {},
   "outputs": [],
   "source": [
    "import numpy as np  # Allows us to work with arrays.\n",
    "import matplotlib.pyplot as plt  # Allows working with plots.\n",
    "import pandas as pd  # importing pandas’ library for use. Allows us to import data set and manipulate it.\n",
    "\n",
    "import seaborn as sns  # Allows to polt beautiful plots.\n",
    "import matplotlib.pyplot as plt # plotting.\n",
    "\n",
    "\n",
    "from sklearn.compose import ColumnTransformer  # helps with encoding.\n",
    "from sklearn.preprocessing import OneHotEncoder  # Does onehotencode.\n",
    "from sklearn.preprocessing import LabelEncoder   # Does 1 and 0 encoding.\n",
    "from sklearn.model_selection import train_test_split  # Splits dataset into test set and traning set. \n",
    "from sklearn.preprocessing import StandardScaler  # Perform the feature scaling.\n",
    "from sklearn.linear_model import LogisticRegression  # Performs logistic regression.\n",
    "from sklearn.metrics import confusion_matrix, ConfusionMatrixDisplay  # creates a confusion matrix\n",
    "from sklearn.metrics import accuracy_score  # Returns accury score of a model.\n",
    "from sklearn.neighbors import KNeighborsClassifier  # performs K Neariesst Neighobour.\n",
    "from sklearn.impute import KNNImputer  # imputes missing values using KNN.\n",
    "from sklearn.svm import SVC  # Performs svm\n",
    "from sklearn.naive_bayes import GaussianNB  # performs naive_bayes gaussianNB.\n",
    "from sklearn.tree import DecisionTreeClassifier  #Perfroms decision tree classification model.\n",
    "from sklearn.ensemble import RandomForestClassifier  #Performs random forest classification.\n",
    "from xgboost import XGBClassifier  # performs xgboost classification. gradiant decision trees.\n",
    "from sklearn.linear_model import LinearRegression  # will use to replace missing values linear regressoin\n",
    "from sklearn.decomposition import PCA  # Performs model optimization\n",
    "from sklearn.decomposition import KernelPCA  # Performs model optimization\n",
    "from sklearn.discriminant_analysis import LinearDiscriminantAnalysis as LDA # performs model optimization\n",
    "from sklearn.model_selection import cross_val_score  # performs cross validation. Helps in model selection.\n",
    "from sklearn.model_selection import GridSearchCV  # helps select the best hyper parameters\n",
    "\n",
    "import warnings\n",
    "warnings.filterwarnings(\"ignore\")\n",
    "\n",
    "#%matplotlib inline  # helps in showing plots on the browser."
   ]
  },
  {
   "cell_type": "markdown",
   "id": "681f5cbc",
   "metadata": {},
   "source": [
    "### Importing the dataframe"
   ]
  },
  {
   "cell_type": "code",
   "execution_count": 2,
   "id": "82eef9c6",
   "metadata": {},
   "outputs": [],
   "source": [
    "sucidedataframe = pd.read_csv(\"suicidedataextrafestures.csv\")  # opens csv files and assighns them to a variable."
   ]
  },
  {
   "cell_type": "markdown",
   "id": "1041df28",
   "metadata": {},
   "source": [
    "### Checking the data from the dataframe before pre-processing"
   ]
  },
  {
   "cell_type": "code",
   "execution_count": 3,
   "id": "11364a06",
   "metadata": {},
   "outputs": [
    {
     "data": {
      "text/html": [
       "<div>\n",
       "<style scoped>\n",
       "    .dataframe tbody tr th:only-of-type {\n",
       "        vertical-align: middle;\n",
       "    }\n",
       "\n",
       "    .dataframe tbody tr th {\n",
       "        vertical-align: top;\n",
       "    }\n",
       "\n",
       "    .dataframe thead th {\n",
       "        text-align: right;\n",
       "    }\n",
       "</style>\n",
       "<table border=\"1\" class=\"dataframe\">\n",
       "  <thead>\n",
       "    <tr style=\"text-align: right;\">\n",
       "      <th></th>\n",
       "      <th>country</th>\n",
       "      <th>year</th>\n",
       "      <th>sex</th>\n",
       "      <th>age</th>\n",
       "      <th>suicides_no</th>\n",
       "      <th>population</th>\n",
       "      <th>suicidesper100k</th>\n",
       "      <th>country-year</th>\n",
       "      <th>yearlyHDI</th>\n",
       "      <th>GDPpyear</th>\n",
       "      <th>...</th>\n",
       "      <th>Unemployment, total (% of total labor force) (modeled ILO estimate)</th>\n",
       "      <th>Physicians (per 1,000 people)</th>\n",
       "      <th>Strength of legal rights index (0=weak to 12=strong)</th>\n",
       "      <th>Labor force, total</th>\n",
       "      <th>Life expectancy at birth, total (years)</th>\n",
       "      <th>Mobile cellular subscriptions (per 100 people)</th>\n",
       "      <th>Refugee population by country or territory of origin</th>\n",
       "      <th>Contributing family workers, total (% of total employment) (modeled ILO estimate)</th>\n",
       "      <th>Access to electricity (% of population)</th>\n",
       "      <th>Lower secondary completion rate, total (% of relevant age group)</th>\n",
       "    </tr>\n",
       "  </thead>\n",
       "  <tbody>\n",
       "    <tr>\n",
       "      <th>0</th>\n",
       "      <td>Argentina</td>\n",
       "      <td>1985</td>\n",
       "      <td>male</td>\n",
       "      <td>75+ years</td>\n",
       "      <td>202</td>\n",
       "      <td>363000</td>\n",
       "      <td>55.65</td>\n",
       "      <td>Argentina1985</td>\n",
       "      <td>0.694</td>\n",
       "      <td>8.841667e+10</td>\n",
       "      <td>...</td>\n",
       "      <td>0.0</td>\n",
       "      <td>0.0</td>\n",
       "      <td>0.0</td>\n",
       "      <td>0</td>\n",
       "      <td>0.0</td>\n",
       "      <td>0.0</td>\n",
       "      <td>0.0</td>\n",
       "      <td>0.0</td>\n",
       "      <td>0.0</td>\n",
       "      <td>0.0</td>\n",
       "    </tr>\n",
       "  </tbody>\n",
       "</table>\n",
       "<p>1 rows × 26 columns</p>\n",
       "</div>"
      ],
      "text/plain": [
       "     country  year   sex        age  suicides_no  population  suicidesper100k  \\\n",
       "0  Argentina  1985  male  75+ years          202      363000            55.65   \n",
       "\n",
       "    country-year  yearlyHDI      GDPpyear  ...  \\\n",
       "0  Argentina1985      0.694  8.841667e+10  ...   \n",
       "\n",
       "   Unemployment, total (% of total labor force) (modeled ILO estimate)  \\\n",
       "0                                                0.0                     \n",
       "\n",
       "  Physicians (per 1,000 people)  \\\n",
       "0                           0.0   \n",
       "\n",
       "   Strength of legal rights index (0=weak to 12=strong)  Labor force, total  \\\n",
       "0                                                0.0                      0   \n",
       "\n",
       "   Life expectancy at birth, total (years)  \\\n",
       "0                                      0.0   \n",
       "\n",
       "   Mobile cellular subscriptions (per 100 people)  \\\n",
       "0                                             0.0   \n",
       "\n",
       "   Refugee population by country or territory of origin  \\\n",
       "0                                                0.0      \n",
       "\n",
       "   Contributing family workers, total (% of total employment) (modeled ILO estimate)  \\\n",
       "0                                                0.0                                   \n",
       "\n",
       "   Access to electricity (% of population)  \\\n",
       "0                                      0.0   \n",
       "\n",
       "   Lower secondary completion rate, total (% of relevant age group)  \n",
       "0                                                0.0                 \n",
       "\n",
       "[1 rows x 26 columns]"
      ]
     },
     "execution_count": 3,
     "metadata": {},
     "output_type": "execute_result"
    }
   ],
   "source": [
    "sucidedataframe.head(1)  # Taking a look at the dataframe the first elements of the dataset."
   ]
  },
  {
   "cell_type": "markdown",
   "id": "8dc9be58",
   "metadata": {},
   "source": [
    "### checking null values"
   ]
  },
  {
   "cell_type": "code",
   "execution_count": 4,
   "id": "b6b2bd8b",
   "metadata": {},
   "outputs": [
    {
     "data": {
      "text/plain": [
       "<AxesSubplot:>"
      ]
     },
     "execution_count": 4,
     "metadata": {},
     "output_type": "execute_result"
    },
    {
     "data": {
      "image/png": "[encoded data removed]",
      "text/plain": [
       "<Figure size 432x288 with 2 Axes>"
      ]
     },
     "metadata": {
      "needs_background": "light"
     },
     "output_type": "display_data"
    }
   ],
   "source": [
    "sns.heatmap(sucidedataframe.isnull())"
   ]
  },
  {
   "cell_type": "code",
   "execution_count": 5,
   "id": "02af4851",
   "metadata": {},
   "outputs": [
    {
     "name": "stdout",
     "output_type": "stream",
     "text": [
      "<class 'pandas.core.frame.DataFrame'>\n",
      "RangeIndex: 15110 entries, 0 to 15109\n",
      "Data columns (total 26 columns):\n",
      " #   Column                                                                             Non-Null Count  Dtype  \n",
      "---  ------                                                                             --------------  -----  \n",
      " 0   country                                                                            15110 non-null  object \n",
      " 1   year                                                                               15110 non-null  int64  \n",
      " 2   sex                                                                                15110 non-null  object \n",
      " 3   age                                                                                15110 non-null  object \n",
      " 4   suicides_no                                                                        15110 non-null  int64  \n",
      " 5   population                                                                         15110 non-null  int64  \n",
      " 6   suicidesper100k                                                                    15110 non-null  float64\n",
      " 7   country-year                                                                       15110 non-null  object \n",
      " 8   yearlyHDI                                                                          4740 non-null   float64\n",
      " 9   GDPpyear                                                                           15110 non-null  float64\n",
      " 10  GDPpcapital                                                                        15110 non-null  int64  \n",
      " 11  generation                                                                         15110 non-null  object \n",
      " 12  suicide%                                                                           15110 non-null  float64\n",
      " 13  Individuals using the Internet (% of population)                                   15002 non-null  float64\n",
      " 14  Expense (% of GDP)                                                                 13634 non-null  float64\n",
      " 15  Compensation of employees (% of expense)                                           13538 non-null  float64\n",
      " 16  Unemployment, total (% of total labor force) (modeled ILO estimate)                15110 non-null  float64\n",
      " 17  Physicians (per 1,000 people)                                                      12782 non-null  float64\n",
      " 18  Strength of legal rights index (0=weak to 12=strong)                               5618 non-null   float64\n",
      " 19  Labor force, total                                                                 15110 non-null  int64  \n",
      " 20  Life expectancy at birth, total (years)                                            15110 non-null  float64\n",
      " 21  Mobile cellular subscriptions (per 100 people)                                     15110 non-null  float64\n",
      " 22  Refugee population by country or territory of origin                               14978 non-null  float64\n",
      " 23  Contributing family workers, total (% of total employment) (modeled ILO estimate)  15110 non-null  float64\n",
      " 24  Access to electricity (% of population)                                            14642 non-null  float64\n",
      " 25  Lower secondary completion rate, total (% of relevant age group)                   9542 non-null   float64\n",
      "dtypes: float64(16), int64(5), object(5)\n",
      "memory usage: 3.0+ MB\n"
     ]
    }
   ],
   "source": [
    "sucidedataframe.info()  # checking Basic information on the dataframe being procesed."
   ]
  },
  {
   "cell_type": "markdown",
   "id": "7ca5f0a5",
   "metadata": {},
   "source": [
    "## 1. Data pre-processing"
   ]
  },
  {
   "cell_type": "code",
   "execution_count": 6,
   "id": "145790e4",
   "metadata": {},
   "outputs": [],
   "source": [
    "# Below relevent data is selected that will be used in this project.\n",
    "sucidedataframe = sucidedataframe[[\"country\", \"year\",  \"age\" ,\"sex\", \"population\",  \\\n",
    "\"Individuals using the Internet (% of population)\", \"Labor force, total\", \\\n",
    "\"Mobile cellular subscriptions (per 100 people)\", \"GDPpyear\",\"GDPpcapital\",\"Expense (% of GDP)\",\\\n",
    "\"Physicians (per 1,000 people)\",\"Refugee population by country or territory of origin\" ,\"suicidesper100k\"]]## 1. Data pre-processing"
   ]
  },
  {
   "cell_type": "code",
   "execution_count": 7,
   "id": "028bd1dc",
   "metadata": {},
   "outputs": [
    {
     "data": {
      "text/html": [
       "<div>\n",
       "<style scoped>\n",
       "    .dataframe tbody tr th:only-of-type {\n",
       "        vertical-align: middle;\n",
       "    }\n",
       "\n",
       "    .dataframe tbody tr th {\n",
       "        vertical-align: top;\n",
       "    }\n",
       "\n",
       "    .dataframe thead th {\n",
       "        text-align: right;\n",
       "    }\n",
       "</style>\n",
       "<table border=\"1\" class=\"dataframe\">\n",
       "  <thead>\n",
       "    <tr style=\"text-align: right;\">\n",
       "      <th></th>\n",
       "      <th>country</th>\n",
       "      <th>year</th>\n",
       "      <th>age</th>\n",
       "      <th>sex</th>\n",
       "      <th>population</th>\n",
       "      <th>Individuals using the Internet (% of population)</th>\n",
       "      <th>Labor force, total</th>\n",
       "      <th>Mobile cellular subscriptions (per 100 people)</th>\n",
       "      <th>GDPpyear</th>\n",
       "      <th>GDPpcapital</th>\n",
       "      <th>Expense (% of GDP)</th>\n",
       "      <th>Physicians (per 1,000 people)</th>\n",
       "      <th>Refugee population by country or territory of origin</th>\n",
       "      <th>suicidesper100k</th>\n",
       "    </tr>\n",
       "  </thead>\n",
       "  <tbody>\n",
       "    <tr>\n",
       "      <th>0</th>\n",
       "      <td>Argentina</td>\n",
       "      <td>1985</td>\n",
       "      <td>75+ years</td>\n",
       "      <td>male</td>\n",
       "      <td>363000</td>\n",
       "      <td>0.0</td>\n",
       "      <td>0</td>\n",
       "      <td>0.0</td>\n",
       "      <td>8.841667e+10</td>\n",
       "      <td>3264</td>\n",
       "      <td>0.0</td>\n",
       "      <td>0.0</td>\n",
       "      <td>0.0</td>\n",
       "      <td>55.65</td>\n",
       "    </tr>\n",
       "    <tr>\n",
       "      <th>1</th>\n",
       "      <td>Argentina</td>\n",
       "      <td>1985</td>\n",
       "      <td>55-74 years</td>\n",
       "      <td>male</td>\n",
       "      <td>1997000</td>\n",
       "      <td>0.0</td>\n",
       "      <td>0</td>\n",
       "      <td>0.0</td>\n",
       "      <td>8.841667e+10</td>\n",
       "      <td>3264</td>\n",
       "      <td>0.0</td>\n",
       "      <td>0.0</td>\n",
       "      <td>0.0</td>\n",
       "      <td>24.29</td>\n",
       "    </tr>\n",
       "    <tr>\n",
       "      <th>2</th>\n",
       "      <td>Argentina</td>\n",
       "      <td>1985</td>\n",
       "      <td>35-54 years</td>\n",
       "      <td>male</td>\n",
       "      <td>3346300</td>\n",
       "      <td>0.0</td>\n",
       "      <td>0</td>\n",
       "      <td>0.0</td>\n",
       "      <td>8.841667e+10</td>\n",
       "      <td>3264</td>\n",
       "      <td>0.0</td>\n",
       "      <td>0.0</td>\n",
       "      <td>0.0</td>\n",
       "      <td>12.37</td>\n",
       "    </tr>\n",
       "    <tr>\n",
       "      <th>3</th>\n",
       "      <td>Argentina</td>\n",
       "      <td>1985</td>\n",
       "      <td>55-74 years</td>\n",
       "      <td>female</td>\n",
       "      <td>2304000</td>\n",
       "      <td>0.0</td>\n",
       "      <td>0</td>\n",
       "      <td>0.0</td>\n",
       "      <td>8.841667e+10</td>\n",
       "      <td>3264</td>\n",
       "      <td>0.0</td>\n",
       "      <td>0.0</td>\n",
       "      <td>0.0</td>\n",
       "      <td>9.11</td>\n",
       "    </tr>\n",
       "    <tr>\n",
       "      <th>4</th>\n",
       "      <td>Argentina</td>\n",
       "      <td>1985</td>\n",
       "      <td>25-34 years</td>\n",
       "      <td>male</td>\n",
       "      <td>2234200</td>\n",
       "      <td>0.0</td>\n",
       "      <td>0</td>\n",
       "      <td>0.0</td>\n",
       "      <td>8.841667e+10</td>\n",
       "      <td>3264</td>\n",
       "      <td>0.0</td>\n",
       "      <td>0.0</td>\n",
       "      <td>0.0</td>\n",
       "      <td>7.92</td>\n",
       "    </tr>\n",
       "  </tbody>\n",
       "</table>\n",
       "</div>"
      ],
      "text/plain": [
       "     country  year          age     sex  population  \\\n",
       "0  Argentina  1985    75+ years    male      363000   \n",
       "1  Argentina  1985  55-74 years    male     1997000   \n",
       "2  Argentina  1985  35-54 years    male     3346300   \n",
       "3  Argentina  1985  55-74 years  female     2304000   \n",
       "4  Argentina  1985  25-34 years    male     2234200   \n",
       "\n",
       "   Individuals using the Internet (% of population)  Labor force, total  \\\n",
       "0                                               0.0                   0   \n",
       "1                                               0.0                   0   \n",
       "2                                               0.0                   0   \n",
       "3                                               0.0                   0   \n",
       "4                                               0.0                   0   \n",
       "\n",
       "   Mobile cellular subscriptions (per 100 people)      GDPpyear  GDPpcapital  \\\n",
       "0                                             0.0  8.841667e+10         3264   \n",
       "1                                             0.0  8.841667e+10         3264   \n",
       "2                                             0.0  8.841667e+10         3264   \n",
       "3                                             0.0  8.841667e+10         3264   \n",
       "4                                             0.0  8.841667e+10         3264   \n",
       "\n",
       "   Expense (% of GDP)  Physicians (per 1,000 people)  \\\n",
       "0                 0.0                            0.0   \n",
       "1                 0.0                            0.0   \n",
       "2                 0.0                            0.0   \n",
       "3                 0.0                            0.0   \n",
       "4                 0.0                            0.0   \n",
       "\n",
       "   Refugee population by country or territory of origin  suicidesper100k  \n",
       "0                                                0.0               55.65  \n",
       "1                                                0.0               24.29  \n",
       "2                                                0.0               12.37  \n",
       "3                                                0.0                9.11  \n",
       "4                                                0.0                7.92  "
      ]
     },
     "execution_count": 7,
     "metadata": {},
     "output_type": "execute_result"
    }
   ],
   "source": [
    "sucidedataframe.head(5)"
   ]
  },
  {
   "cell_type": "code",
   "execution_count": 8,
   "id": "59acf2b7",
   "metadata": {},
   "outputs": [],
   "source": [
    "# Below the col names are renamed.\n",
    "sucidedataframe = sucidedataframe.set_axis([\"Country\", \"Year\", \"Age\", \"Gender\", \"Population\", \\\n",
    "\"Internet_Usage_per_percent_Population\", \"Total_Labour_force\", \"Cellular_subscriptions_per_100_people\", \\\n",
    "\"GDPpyear\",\"GDPpcapital\",\"Expense_percent_of_GDP)\",\\\n",
    "\"Physicians_per_1,000_people)\",\"Refugee_population_by_country_or_territory_of_origin\" ,\"Suicidesper100k\"],axis=1)"
   ]
  },
  {
   "cell_type": "code",
   "execution_count": 9,
   "id": "fe7a00db",
   "metadata": {},
   "outputs": [
    {
     "data": {
      "text/plain": [
       "Index(['Country', 'Year', 'Age', 'Gender', 'Population',\n",
       "       'Internet_Usage_per_percent_Population', 'Total_Labour_force',\n",
       "       'Cellular_subscriptions_per_100_people', 'GDPpyear', 'GDPpcapital',\n",
       "       'Expense_percent_of_GDP)', 'Physicians_per_1,000_people)',\n",
       "       'Refugee_population_by_country_or_territory_of_origin',\n",
       "       'Suicidesper100k'],\n",
       "      dtype='object')"
      ]
     },
     "execution_count": 9,
     "metadata": {},
     "output_type": "execute_result"
    }
   ],
   "source": [
    "sucidedataframe.columns  # The columns of the dataframe are viewed."
   ]
  },
  {
   "cell_type": "code",
   "execution_count": 10,
   "id": "7ef30099",
   "metadata": {},
   "outputs": [
    {
     "data": {
      "text/plain": [
       "(15110, 14)"
      ]
     },
     "execution_count": 10,
     "metadata": {},
     "output_type": "execute_result"
    }
   ],
   "source": [
    "sucidedataframe.shape  # The Entries and the columns of the dataframe are viewed."
   ]
  },
  {
   "cell_type": "markdown",
   "id": "d44beb55",
   "metadata": {},
   "source": [
    "### Dealing with null values"
   ]
  },
  {
   "cell_type": "code",
   "execution_count": 11,
   "id": "947071b5",
   "metadata": {},
   "outputs": [
    {
     "data": {
      "text/plain": [
       "<AxesSubplot:>"
      ]
     },
     "execution_count": 11,
     "metadata": {},
     "output_type": "execute_result"
    },
    {
     "data": {
      "image/png": "[encoded data removed]",
      "text/plain": [
       "<Figure size 432x288 with 2 Axes>"
      ]
     },
     "metadata": {
      "needs_background": "light"
     },
     "output_type": "display_data"
    }
   ],
   "source": [
    "sns.heatmap(sucidedataframe.isnull())"
   ]
  },
  {
   "cell_type": "code",
   "execution_count": 12,
   "id": "7834f25c",
   "metadata": {},
   "outputs": [
    {
     "data": {
      "text/plain": [
       "Country                                                    0\n",
       "Year                                                       0\n",
       "Age                                                        0\n",
       "Gender                                                     0\n",
       "Population                                                 0\n",
       "Internet_Usage_per_percent_Population                    108\n",
       "Total_Labour_force                                         0\n",
       "Cellular_subscriptions_per_100_people                      0\n",
       "GDPpyear                                                   0\n",
       "GDPpcapital                                                0\n",
       "Expense_percent_of_GDP)                                 1476\n",
       "Physicians_per_1,000_people)                            2328\n",
       "Refugee_population_by_country_or_territory_of_origin     132\n",
       "Suicidesper100k                                            0\n",
       "dtype: int64"
      ]
     },
     "execution_count": 12,
     "metadata": {},
     "output_type": "execute_result"
    }
   ],
   "source": [
    "sucidedataframe.isnull().sum()  # Checking the dataframe for null values."
   ]
  },
  {
   "cell_type": "code",
   "execution_count": 13,
   "id": "d13de473",
   "metadata": {},
   "outputs": [
    {
     "name": "stdout",
     "output_type": "stream",
     "text": [
      "<class 'pandas.core.frame.DataFrame'>\n",
      "RangeIndex: 15110 entries, 0 to 15109\n",
      "Data columns (total 14 columns):\n",
      " #   Column                                                Non-Null Count  Dtype  \n",
      "---  ------                                                --------------  -----  \n",
      " 0   Country                                               15110 non-null  object \n",
      " 1   Year                                                  15110 non-null  int64  \n",
      " 2   Age                                                   15110 non-null  object \n",
      " 3   Gender                                                15110 non-null  object \n",
      " 4   Population                                            15110 non-null  int64  \n",
      " 5   Internet_Usage_per_percent_Population                 15002 non-null  float64\n",
      " 6   Total_Labour_force                                    15110 non-null  int64  \n",
      " 7   Cellular_subscriptions_per_100_people                 15110 non-null  float64\n",
      " 8   GDPpyear                                              15110 non-null  float64\n",
      " 9   GDPpcapital                                           15110 non-null  int64  \n",
      " 10  Expense_percent_of_GDP)                               13634 non-null  float64\n",
      " 11  Physicians_per_1,000_people)                          12782 non-null  float64\n",
      " 12  Refugee_population_by_country_or_territory_of_origin  14978 non-null  float64\n",
      " 13  Suicidesper100k                                       15110 non-null  float64\n",
      "dtypes: float64(7), int64(4), object(3)\n",
      "memory usage: 1.6+ MB\n"
     ]
    }
   ],
   "source": [
    "sucidedataframe.info()  "
   ]
  },
  {
   "cell_type": "code",
   "execution_count": 14,
   "id": "6ac3a2cd",
   "metadata": {},
   "outputs": [],
   "source": [
    "#df['Internet_Usage_per_percent_Population'] = df['DataFrame Column'].fillna(0)"
   ]
  },
  {
   "cell_type": "code",
   "execution_count": 15,
   "id": "6c2e9110",
   "metadata": {},
   "outputs": [
    {
     "name": "stdout",
     "output_type": "stream",
     "text": [
      "15110\n"
     ]
    }
   ],
   "source": [
    "print(len(sucidedataframe.Internet_Usage_per_percent_Population))"
   ]
  },
  {
   "cell_type": "code",
   "execution_count": 16,
   "id": "28807467",
   "metadata": {},
   "outputs": [],
   "source": [
    "def missng_values_filler_knn(missingdataframevalue):\n",
    "    columntobereplaced = missingdataframevalue.to_numpy() \n",
    "\n",
    "    imputer = KNNImputer(n_neighbors=10, weights=\"uniform\")\n",
    "    replaced = imputer.fit_transform(columntobereplaced).astype(np.int64)  # converting float to int.\n",
    "    print(len(replaced))\n",
    "    dataframe=pd.DataFrame(replaced, columns=[\"Internet_Usage_per_percent_Population\"])\n",
    "    print(dataframe.head(5))\n",
    "    return dataframe"
   ]
  },
  {
   "cell_type": "code",
   "execution_count": 17,
   "id": "660a9df5",
   "metadata": {},
   "outputs": [
    {
     "name": "stdout",
     "output_type": "stream",
     "text": [
      "15110\n",
      "   Internet_Usage_per_percent_Population\n",
      "0                                      0\n",
      "1                                      0\n",
      "2                                      0\n",
      "3                                      0\n",
      "4                                      0\n"
     ]
    }
   ],
   "source": [
    "replacement = missng_values_filler_knn(sucidedataframe[[\"Internet_Usage_per_percent_Population\"]])"
   ]
  },
  {
   "cell_type": "code",
   "execution_count": 18,
   "id": "a395c703",
   "metadata": {},
   "outputs": [],
   "source": [
    "sucidedataframe[[\"Internet_Usage_per_percent_Population\"]] = replacement"
   ]
  },
  {
   "cell_type": "code",
   "execution_count": 19,
   "id": "20d015e9",
   "metadata": {},
   "outputs": [
    {
     "data": {
      "text/plain": [
       "Country                                                    0\n",
       "Year                                                       0\n",
       "Age                                                        0\n",
       "Gender                                                     0\n",
       "Population                                                 0\n",
       "Internet_Usage_per_percent_Population                      0\n",
       "Total_Labour_force                                         0\n",
       "Cellular_subscriptions_per_100_people                      0\n",
       "GDPpyear                                                   0\n",
       "GDPpcapital                                                0\n",
       "Expense_percent_of_GDP)                                 1476\n",
       "Physicians_per_1,000_people)                            2328\n",
       "Refugee_population_by_country_or_territory_of_origin     132\n",
       "Suicidesper100k                                            0\n",
       "dtype: int64"
      ]
     },
     "execution_count": 19,
     "metadata": {},
     "output_type": "execute_result"
    }
   ],
   "source": [
    "sucidedataframe.isnull().sum()  # Checking the dataframe for null values."
   ]
  },
  {
   "cell_type": "code",
   "execution_count": 20,
   "id": "d6c03c7f",
   "metadata": {},
   "outputs": [],
   "source": [
    "sucidedataframe = sucidedataframe.dropna() # droping all rows with at least one null values."
   ]
  },
  {
   "cell_type": "code",
   "execution_count": 21,
   "id": "19a72280",
   "metadata": {},
   "outputs": [],
   "source": [
    "sucidedataframe.reset_index(drop=True, inplace=True)"
   ]
  },
  {
   "cell_type": "code",
   "execution_count": 22,
   "id": "c5d0cee1",
   "metadata": {},
   "outputs": [
    {
     "data": {
      "text/plain": [
       "Country                                                 0\n",
       "Year                                                    0\n",
       "Age                                                     0\n",
       "Gender                                                  0\n",
       "Population                                              0\n",
       "Internet_Usage_per_percent_Population                   0\n",
       "Total_Labour_force                                      0\n",
       "Cellular_subscriptions_per_100_people                   0\n",
       "GDPpyear                                                0\n",
       "GDPpcapital                                             0\n",
       "Expense_percent_of_GDP)                                 0\n",
       "Physicians_per_1,000_people)                            0\n",
       "Refugee_population_by_country_or_territory_of_origin    0\n",
       "Suicidesper100k                                         0\n",
       "dtype: int64"
      ]
     },
     "execution_count": 22,
     "metadata": {},
     "output_type": "execute_result"
    }
   ],
   "source": [
    "sucidedataframe.isnull().sum()  # Checking the dataframe for null values."
   ]
  },
  {
   "cell_type": "code",
   "execution_count": 23,
   "id": "13e3c42e",
   "metadata": {},
   "outputs": [
    {
     "data": {
      "text/plain": [
       "(11582, 14)"
      ]
     },
     "execution_count": 23,
     "metadata": {},
     "output_type": "execute_result"
    }
   ],
   "source": [
    "sucidedataframe.shape  # The Entries and the columns of the dataframe are viewed."
   ]
  },
  {
   "cell_type": "code",
   "execution_count": 24,
   "id": "ddd96348",
   "metadata": {},
   "outputs": [
    {
     "name": "stdout",
     "output_type": "stream",
     "text": [
      "<class 'pandas.core.frame.DataFrame'>\n",
      "RangeIndex: 11582 entries, 0 to 11581\n",
      "Data columns (total 14 columns):\n",
      " #   Column                                                Non-Null Count  Dtype  \n",
      "---  ------                                                --------------  -----  \n",
      " 0   Country                                               11582 non-null  object \n",
      " 1   Year                                                  11582 non-null  int64  \n",
      " 2   Age                                                   11582 non-null  object \n",
      " 3   Gender                                                11582 non-null  object \n",
      " 4   Population                                            11582 non-null  int64  \n",
      " 5   Internet_Usage_per_percent_Population                 11582 non-null  int64  \n",
      " 6   Total_Labour_force                                    11582 non-null  int64  \n",
      " 7   Cellular_subscriptions_per_100_people                 11582 non-null  float64\n",
      " 8   GDPpyear                                              11582 non-null  float64\n",
      " 9   GDPpcapital                                           11582 non-null  int64  \n",
      " 10  Expense_percent_of_GDP)                               11582 non-null  float64\n",
      " 11  Physicians_per_1,000_people)                          11582 non-null  float64\n",
      " 12  Refugee_population_by_country_or_territory_of_origin  11582 non-null  float64\n",
      " 13  Suicidesper100k                                       11582 non-null  float64\n",
      "dtypes: float64(6), int64(5), object(3)\n",
      "memory usage: 1.2+ MB\n"
     ]
    }
   ],
   "source": [
    "sucidedataframe.info()  # checking Basic information on the dataframe being procesed."
   ]
  },
  {
   "cell_type": "markdown",
   "id": "5d8333e7",
   "metadata": {},
   "source": [
    "### One Hot Encoding"
   ]
  },
  {
   "cell_type": "code",
   "execution_count": 25,
   "id": "2b136461",
   "metadata": {},
   "outputs": [
    {
     "data": {
      "text/plain": [
       "Country                                                    47\n",
       "Year                                                       32\n",
       "Age                                                         6\n",
       "Gender                                                      2\n",
       "Population                                              11156\n",
       "Internet_Usage_per_percent_Population                      97\n",
       "Total_Labour_force                                        539\n",
       "Cellular_subscriptions_per_100_people                     539\n",
       "GDPpyear                                                  749\n",
       "GDPpcapital                                               955\n",
       "Expense_percent_of_GDP)                                   539\n",
       "Physicians_per_1,000_people)                              415\n",
       "Refugee_population_by_country_or_territory_of_origin      356\n",
       "Suicidesper100k                                          3736\n",
       "dtype: int64"
      ]
     },
     "execution_count": 25,
     "metadata": {},
     "output_type": "execute_result"
    }
   ],
   "source": [
    "sucidedataframe.nunique()  # "
   ]
  },
  {
   "cell_type": "code",
   "execution_count": 26,
   "id": "41d6b0e6",
   "metadata": {},
   "outputs": [
    {
     "data": {
      "text/plain": [
       "0"
      ]
     },
     "execution_count": 26,
     "metadata": {},
     "output_type": "execute_result"
    }
   ],
   "source": [
    "sucidedataframe.duplicated().sum()"
   ]
  },
  {
   "cell_type": "code",
   "execution_count": 27,
   "id": "9983da23",
   "metadata": {},
   "outputs": [
    {
     "name": "stdout",
     "output_type": "stream",
     "text": [
      "Year\n",
      "1985    300\n",
      "1986    312\n",
      "1987    360\n",
      "1988    348\n",
      "1989    372\n",
      "1990    468\n",
      "1991    480\n",
      "1992    480\n",
      "1993    456\n",
      "1994    492\n",
      "1995    348\n",
      "1996    360\n",
      "1997    336\n",
      "1998    396\n",
      "1999    372\n",
      "2000    336\n",
      "2001    324\n",
      "2002    348\n",
      "2003    300\n",
      "2004    204\n",
      "2005    168\n",
      "2006    372\n",
      "2007    288\n",
      "2008    300\n",
      "2009    240\n",
      "2010    432\n",
      "2011    432\n",
      "2012    456\n",
      "2013    444\n",
      "2014    504\n",
      "2015    444\n",
      "2016    110\n",
      "dtype: int64\n"
     ]
    }
   ],
   "source": [
    "print(sucidedataframe.pivot_table(columns=['Year'], aggfunc='size'))  # counts duplicates in the selected dataframe column."
   ]
  },
  {
   "cell_type": "code",
   "execution_count": 28,
   "id": "5a0ee37c",
   "metadata": {},
   "outputs": [
    {
     "name": "stdout",
     "output_type": "stream",
     "text": [
      "Gender\n",
      "female    5791\n",
      "male      5791\n",
      "dtype: int64\n"
     ]
    }
   ],
   "source": [
    "print(sucidedataframe.pivot_table(columns=['Gender'], aggfunc='size'))  # counts duplicates in the selected dataframe column."
   ]
  },
  {
   "cell_type": "code",
   "execution_count": 29,
   "id": "273f7c13",
   "metadata": {},
   "outputs": [
    {
     "name": "stdout",
     "output_type": "stream",
     "text": [
      "Country\n",
      "Argentina             192\n",
      "Armenia               178\n",
      "Australia             312\n",
      "Austria               334\n",
      "Azerbaijan            120\n",
      "Belgium               312\n",
      "Brazil                336\n",
      "Bulgaria              216\n",
      "Canada                276\n",
      "Chile                 264\n",
      "Colombia              240\n",
      "Croatia               250\n",
      "Cuba                   60\n",
      "Czech Republic        286\n",
      "Denmark               240\n",
      "Finland               324\n",
      "France                192\n",
      "Georgia               216\n",
      "Germany               276\n",
      "Greece                312\n",
      "Hungary               286\n",
      "Iceland               358\n",
      "Ireland               300\n",
      "Israel                312\n",
      "Italy                 324\n",
      "Jamaica                96\n",
      "Japan                 252\n",
      "Mexico                288\n",
      "Mongolia               10\n",
      "Netherlands           298\n",
      "New Zealand           228\n",
      "Norway                336\n",
      "Poland                252\n",
      "Portugal              324\n",
      "Romania               274\n",
      "Russian Federation    252\n",
      "South Africa           96\n",
      "Spain                 372\n",
      "Sweden                334\n",
      "Switzerland           180\n",
      "Thailand              298\n",
      "Turkey                 84\n",
      "Turkmenistan          120\n",
      "Ukraine               204\n",
      "United Kingdom        300\n",
      "United States         360\n",
      "Uzbekistan            108\n",
      "dtype: int64\n"
     ]
    }
   ],
   "source": [
    "print(sucidedataframe.pivot_table(columns=['Country'], aggfunc='size'))  # counts duplicates in the selected dataframe column."
   ]
  },
  {
   "cell_type": "code",
   "execution_count": 30,
   "id": "67a56816",
   "metadata": {},
   "outputs": [
    {
     "data": {
      "text/html": [
       "<div>\n",
       "<style scoped>\n",
       "    .dataframe tbody tr th:only-of-type {\n",
       "        vertical-align: middle;\n",
       "    }\n",
       "\n",
       "    .dataframe tbody tr th {\n",
       "        vertical-align: top;\n",
       "    }\n",
       "\n",
       "    .dataframe thead th {\n",
       "        text-align: right;\n",
       "    }\n",
       "</style>\n",
       "<table border=\"1\" class=\"dataframe\">\n",
       "  <thead>\n",
       "    <tr style=\"text-align: right;\">\n",
       "      <th></th>\n",
       "      <th>Country</th>\n",
       "      <th>Year</th>\n",
       "      <th>Age</th>\n",
       "      <th>Gender</th>\n",
       "      <th>Population</th>\n",
       "      <th>Internet_Usage_per_percent_Population</th>\n",
       "      <th>Total_Labour_force</th>\n",
       "      <th>Cellular_subscriptions_per_100_people</th>\n",
       "      <th>GDPpyear</th>\n",
       "      <th>GDPpcapital</th>\n",
       "      <th>Expense_percent_of_GDP)</th>\n",
       "      <th>Physicians_per_1,000_people)</th>\n",
       "      <th>Refugee_population_by_country_or_territory_of_origin</th>\n",
       "      <th>Suicidesper100k</th>\n",
       "    </tr>\n",
       "  </thead>\n",
       "  <tbody>\n",
       "    <tr>\n",
       "      <th>0</th>\n",
       "      <td>Argentina</td>\n",
       "      <td>1985</td>\n",
       "      <td>75+ years</td>\n",
       "      <td>male</td>\n",
       "      <td>363000</td>\n",
       "      <td>0</td>\n",
       "      <td>0</td>\n",
       "      <td>0.0</td>\n",
       "      <td>8.841667e+10</td>\n",
       "      <td>3264</td>\n",
       "      <td>0.0</td>\n",
       "      <td>0.0</td>\n",
       "      <td>0.0</td>\n",
       "      <td>55.65</td>\n",
       "    </tr>\n",
       "  </tbody>\n",
       "</table>\n",
       "</div>"
      ],
      "text/plain": [
       "     Country  Year        Age Gender  Population  \\\n",
       "0  Argentina  1985  75+ years   male      363000   \n",
       "\n",
       "   Internet_Usage_per_percent_Population  Total_Labour_force  \\\n",
       "0                                      0                   0   \n",
       "\n",
       "   Cellular_subscriptions_per_100_people      GDPpyear  GDPpcapital  \\\n",
       "0                                    0.0  8.841667e+10         3264   \n",
       "\n",
       "   Expense_percent_of_GDP)  Physicians_per_1,000_people)  \\\n",
       "0                      0.0                           0.0   \n",
       "\n",
       "   Refugee_population_by_country_or_territory_of_origin  Suicidesper100k  \n",
       "0                                                0.0               55.65  "
      ]
     },
     "execution_count": 30,
     "metadata": {},
     "output_type": "execute_result"
    }
   ],
   "source": [
    "sucidedataframe.head(1)"
   ]
  },
  {
   "cell_type": "code",
   "execution_count": 31,
   "id": "f2625a68",
   "metadata": {},
   "outputs": [
    {
     "name": "stdout",
     "output_type": "stream",
     "text": [
      "Age\n",
      "15-24 years    1934\n",
      "25-34 years    1934\n",
      "35-54 years    1934\n",
      "5-14 years     1912\n",
      "55-74 years    1934\n",
      "75+ years      1934\n",
      "dtype: int64\n"
     ]
    }
   ],
   "source": [
    "print(sucidedataframe.pivot_table(columns=['Age'], aggfunc='size'))  # counts duplicates in the selected dataframe column."
   ]
  },
  {
   "cell_type": "code",
   "execution_count": 32,
   "id": "089fd561",
   "metadata": {},
   "outputs": [],
   "source": [
    "sucidedataframe.index = pd.RangeIndex(len(sucidedataframe.index))"
   ]
  },
  {
   "cell_type": "code",
   "execution_count": 33,
   "id": "927b3e9d",
   "metadata": {},
   "outputs": [
    {
     "data": {
      "text/html": [
       "<div>\n",
       "<style scoped>\n",
       "    .dataframe tbody tr th:only-of-type {\n",
       "        vertical-align: middle;\n",
       "    }\n",
       "\n",
       "    .dataframe tbody tr th {\n",
       "        vertical-align: top;\n",
       "    }\n",
       "\n",
       "    .dataframe thead th {\n",
       "        text-align: right;\n",
       "    }\n",
       "</style>\n",
       "<table border=\"1\" class=\"dataframe\">\n",
       "  <thead>\n",
       "    <tr style=\"text-align: right;\">\n",
       "      <th></th>\n",
       "      <th>Country</th>\n",
       "      <th>Year</th>\n",
       "      <th>Age</th>\n",
       "      <th>Gender</th>\n",
       "      <th>Population</th>\n",
       "      <th>Internet_Usage_per_percent_Population</th>\n",
       "      <th>Total_Labour_force</th>\n",
       "      <th>Cellular_subscriptions_per_100_people</th>\n",
       "      <th>GDPpyear</th>\n",
       "      <th>GDPpcapital</th>\n",
       "      <th>Expense_percent_of_GDP)</th>\n",
       "      <th>Physicians_per_1,000_people)</th>\n",
       "      <th>Refugee_population_by_country_or_territory_of_origin</th>\n",
       "      <th>Suicidesper100k</th>\n",
       "    </tr>\n",
       "  </thead>\n",
       "  <tbody>\n",
       "    <tr>\n",
       "      <th>0</th>\n",
       "      <td>Argentina</td>\n",
       "      <td>1985</td>\n",
       "      <td>75+ years</td>\n",
       "      <td>male</td>\n",
       "      <td>363000</td>\n",
       "      <td>0</td>\n",
       "      <td>0</td>\n",
       "      <td>0.0</td>\n",
       "      <td>8.841667e+10</td>\n",
       "      <td>3264</td>\n",
       "      <td>0.0</td>\n",
       "      <td>0.0</td>\n",
       "      <td>0.0</td>\n",
       "      <td>55.65</td>\n",
       "    </tr>\n",
       "    <tr>\n",
       "      <th>1</th>\n",
       "      <td>Argentina</td>\n",
       "      <td>1985</td>\n",
       "      <td>55-74 years</td>\n",
       "      <td>male</td>\n",
       "      <td>1997000</td>\n",
       "      <td>0</td>\n",
       "      <td>0</td>\n",
       "      <td>0.0</td>\n",
       "      <td>8.841667e+10</td>\n",
       "      <td>3264</td>\n",
       "      <td>0.0</td>\n",
       "      <td>0.0</td>\n",
       "      <td>0.0</td>\n",
       "      <td>24.29</td>\n",
       "    </tr>\n",
       "    <tr>\n",
       "      <th>2</th>\n",
       "      <td>Argentina</td>\n",
       "      <td>1985</td>\n",
       "      <td>35-54 years</td>\n",
       "      <td>male</td>\n",
       "      <td>3346300</td>\n",
       "      <td>0</td>\n",
       "      <td>0</td>\n",
       "      <td>0.0</td>\n",
       "      <td>8.841667e+10</td>\n",
       "      <td>3264</td>\n",
       "      <td>0.0</td>\n",
       "      <td>0.0</td>\n",
       "      <td>0.0</td>\n",
       "      <td>12.37</td>\n",
       "    </tr>\n",
       "    <tr>\n",
       "      <th>3</th>\n",
       "      <td>Argentina</td>\n",
       "      <td>1985</td>\n",
       "      <td>55-74 years</td>\n",
       "      <td>female</td>\n",
       "      <td>2304000</td>\n",
       "      <td>0</td>\n",
       "      <td>0</td>\n",
       "      <td>0.0</td>\n",
       "      <td>8.841667e+10</td>\n",
       "      <td>3264</td>\n",
       "      <td>0.0</td>\n",
       "      <td>0.0</td>\n",
       "      <td>0.0</td>\n",
       "      <td>9.11</td>\n",
       "    </tr>\n",
       "    <tr>\n",
       "      <th>4</th>\n",
       "      <td>Argentina</td>\n",
       "      <td>1985</td>\n",
       "      <td>25-34 years</td>\n",
       "      <td>male</td>\n",
       "      <td>2234200</td>\n",
       "      <td>0</td>\n",
       "      <td>0</td>\n",
       "      <td>0.0</td>\n",
       "      <td>8.841667e+10</td>\n",
       "      <td>3264</td>\n",
       "      <td>0.0</td>\n",
       "      <td>0.0</td>\n",
       "      <td>0.0</td>\n",
       "      <td>7.92</td>\n",
       "    </tr>\n",
       "  </tbody>\n",
       "</table>\n",
       "</div>"
      ],
      "text/plain": [
       "     Country  Year          Age  Gender  Population  \\\n",
       "0  Argentina  1985    75+ years    male      363000   \n",
       "1  Argentina  1985  55-74 years    male     1997000   \n",
       "2  Argentina  1985  35-54 years    male     3346300   \n",
       "3  Argentina  1985  55-74 years  female     2304000   \n",
       "4  Argentina  1985  25-34 years    male     2234200   \n",
       "\n",
       "   Internet_Usage_per_percent_Population  Total_Labour_force  \\\n",
       "0                                      0                   0   \n",
       "1                                      0                   0   \n",
       "2                                      0                   0   \n",
       "3                                      0                   0   \n",
       "4                                      0                   0   \n",
       "\n",
       "   Cellular_subscriptions_per_100_people      GDPpyear  GDPpcapital  \\\n",
       "0                                    0.0  8.841667e+10         3264   \n",
       "1                                    0.0  8.841667e+10         3264   \n",
       "2                                    0.0  8.841667e+10         3264   \n",
       "3                                    0.0  8.841667e+10         3264   \n",
       "4                                    0.0  8.841667e+10         3264   \n",
       "\n",
       "   Expense_percent_of_GDP)  Physicians_per_1,000_people)  \\\n",
       "0                      0.0                           0.0   \n",
       "1                      0.0                           0.0   \n",
       "2                      0.0                           0.0   \n",
       "3                      0.0                           0.0   \n",
       "4                      0.0                           0.0   \n",
       "\n",
       "   Refugee_population_by_country_or_territory_of_origin  Suicidesper100k  \n",
       "0                                                0.0               55.65  \n",
       "1                                                0.0               24.29  \n",
       "2                                                0.0               12.37  \n",
       "3                                                0.0                9.11  \n",
       "4                                                0.0                7.92  "
      ]
     },
     "execution_count": 33,
     "metadata": {},
     "output_type": "execute_result"
    }
   ],
   "source": [
    "sucidedataframe.head()"
   ]
  },
  {
   "cell_type": "markdown",
   "id": "1464be8b",
   "metadata": {},
   "source": [
    "### One Hot Encoding"
   ]
  },
  {
   "cell_type": "code",
   "execution_count": 34,
   "id": "46ae9833",
   "metadata": {},
   "outputs": [],
   "source": [
    "def encodingoh(required_column,dropped_column,column_rename):\n",
    "    oh = OneHotEncoder(drop=dropped_column,dtype=np.int)\n",
    "    newdf = required_column\n",
    "    newdf = oh.fit_transform(newdf).toarray()\n",
    "    newdf = pd.DataFrame(newdf)\n",
    "    newdf.columns = column_rename\n",
    "    print(newdf.head(5))\n",
    "    return newdf"
   ]
  },
  {
   "cell_type": "code",
   "execution_count": 35,
   "id": "15c877eb",
   "metadata": {},
   "outputs": [
    {
     "name": "stdout",
     "output_type": "stream",
     "text": [
      "Gender\n",
      "female    5791\n",
      "male      5791\n",
      "dtype: int64\n"
     ]
    }
   ],
   "source": [
    "print(sucidedataframe.pivot_table(columns=['Gender'], aggfunc='size'))"
   ]
  },
  {
   "cell_type": "code",
   "execution_count": 36,
   "id": "f5344ca0",
   "metadata": {},
   "outputs": [
    {
     "name": "stdout",
     "output_type": "stream",
     "text": [
      "Age\n",
      "15-24 years    1934\n",
      "25-34 years    1934\n",
      "35-54 years    1934\n",
      "5-14 years     1912\n",
      "55-74 years    1934\n",
      "75+ years      1934\n",
      "dtype: int64\n"
     ]
    }
   ],
   "source": [
    "print(sucidedataframe.pivot_table(columns=['Age'], aggfunc='size'))"
   ]
  },
  {
   "cell_type": "code",
   "execution_count": 37,
   "id": "940c17ad",
   "metadata": {},
   "outputs": [
    {
     "name": "stdout",
     "output_type": "stream",
     "text": [
      "   15-24 years  25-34 years  35-54 years  5-14 years  55-74 years  75+ years\n",
      "0            0            0            0           0            0          1\n",
      "1            0            0            0           0            1          0\n",
      "2            0            0            1           0            0          0\n",
      "3            0            0            0           0            1          0\n",
      "4            0            1            0           0            0          0\n"
     ]
    }
   ],
   "source": [
    "age = encodingoh(sucidedataframe[[\"Age\"]], None, ['15-24 years',\"25-34 years\", \"35-54 years\", \"5-14 years\", \"55-74 years\", \"75+ years\"])"
   ]
  },
  {
   "cell_type": "code",
   "execution_count": 38,
   "id": "431911af",
   "metadata": {},
   "outputs": [
    {
     "name": "stdout",
     "output_type": "stream",
     "text": [
      "   Gender\n",
      "0       1\n",
      "1       1\n",
      "2       1\n",
      "3       0\n",
      "4       1\n"
     ]
    }
   ],
   "source": [
    "gender = encodingoh(sucidedataframe[[\"Gender\"]], \"first\", [\"Gender\"])"
   ]
  },
  {
   "cell_type": "code",
   "execution_count": 39,
   "id": "c1cc6bf2",
   "metadata": {},
   "outputs": [],
   "source": [
    "sucidedataframe = sucidedataframe.drop('Age', 1)"
   ]
  },
  {
   "cell_type": "code",
   "execution_count": 40,
   "id": "196ccaac",
   "metadata": {},
   "outputs": [],
   "source": [
    "sucidedataframe = sucidedataframe.drop('Gender', 1)"
   ]
  },
  {
   "cell_type": "code",
   "execution_count": 41,
   "id": "289e2f65",
   "metadata": {},
   "outputs": [
    {
     "data": {
      "text/html": [
       "<div>\n",
       "<style scoped>\n",
       "    .dataframe tbody tr th:only-of-type {\n",
       "        vertical-align: middle;\n",
       "    }\n",
       "\n",
       "    .dataframe tbody tr th {\n",
       "        vertical-align: top;\n",
       "    }\n",
       "\n",
       "    .dataframe thead th {\n",
       "        text-align: right;\n",
       "    }\n",
       "</style>\n",
       "<table border=\"1\" class=\"dataframe\">\n",
       "  <thead>\n",
       "    <tr style=\"text-align: right;\">\n",
       "      <th></th>\n",
       "      <th>Country</th>\n",
       "      <th>Year</th>\n",
       "      <th>Population</th>\n",
       "      <th>Internet_Usage_per_percent_Population</th>\n",
       "      <th>Total_Labour_force</th>\n",
       "      <th>Cellular_subscriptions_per_100_people</th>\n",
       "      <th>GDPpyear</th>\n",
       "      <th>GDPpcapital</th>\n",
       "      <th>Expense_percent_of_GDP)</th>\n",
       "      <th>Physicians_per_1,000_people)</th>\n",
       "      <th>Refugee_population_by_country_or_territory_of_origin</th>\n",
       "      <th>Suicidesper100k</th>\n",
       "    </tr>\n",
       "  </thead>\n",
       "  <tbody>\n",
       "    <tr>\n",
       "      <th>0</th>\n",
       "      <td>Argentina</td>\n",
       "      <td>1985</td>\n",
       "      <td>363000</td>\n",
       "      <td>0</td>\n",
       "      <td>0</td>\n",
       "      <td>0.0</td>\n",
       "      <td>8.841667e+10</td>\n",
       "      <td>3264</td>\n",
       "      <td>0.0</td>\n",
       "      <td>0.0</td>\n",
       "      <td>0.0</td>\n",
       "      <td>55.65</td>\n",
       "    </tr>\n",
       "    <tr>\n",
       "      <th>1</th>\n",
       "      <td>Argentina</td>\n",
       "      <td>1985</td>\n",
       "      <td>1997000</td>\n",
       "      <td>0</td>\n",
       "      <td>0</td>\n",
       "      <td>0.0</td>\n",
       "      <td>8.841667e+10</td>\n",
       "      <td>3264</td>\n",
       "      <td>0.0</td>\n",
       "      <td>0.0</td>\n",
       "      <td>0.0</td>\n",
       "      <td>24.29</td>\n",
       "    </tr>\n",
       "    <tr>\n",
       "      <th>2</th>\n",
       "      <td>Argentina</td>\n",
       "      <td>1985</td>\n",
       "      <td>3346300</td>\n",
       "      <td>0</td>\n",
       "      <td>0</td>\n",
       "      <td>0.0</td>\n",
       "      <td>8.841667e+10</td>\n",
       "      <td>3264</td>\n",
       "      <td>0.0</td>\n",
       "      <td>0.0</td>\n",
       "      <td>0.0</td>\n",
       "      <td>12.37</td>\n",
       "    </tr>\n",
       "    <tr>\n",
       "      <th>3</th>\n",
       "      <td>Argentina</td>\n",
       "      <td>1985</td>\n",
       "      <td>2304000</td>\n",
       "      <td>0</td>\n",
       "      <td>0</td>\n",
       "      <td>0.0</td>\n",
       "      <td>8.841667e+10</td>\n",
       "      <td>3264</td>\n",
       "      <td>0.0</td>\n",
       "      <td>0.0</td>\n",
       "      <td>0.0</td>\n",
       "      <td>9.11</td>\n",
       "    </tr>\n",
       "    <tr>\n",
       "      <th>4</th>\n",
       "      <td>Argentina</td>\n",
       "      <td>1985</td>\n",
       "      <td>2234200</td>\n",
       "      <td>0</td>\n",
       "      <td>0</td>\n",
       "      <td>0.0</td>\n",
       "      <td>8.841667e+10</td>\n",
       "      <td>3264</td>\n",
       "      <td>0.0</td>\n",
       "      <td>0.0</td>\n",
       "      <td>0.0</td>\n",
       "      <td>7.92</td>\n",
       "    </tr>\n",
       "  </tbody>\n",
       "</table>\n",
       "</div>"
      ],
      "text/plain": [
       "     Country  Year  Population  Internet_Usage_per_percent_Population  \\\n",
       "0  Argentina  1985      363000                                      0   \n",
       "1  Argentina  1985     1997000                                      0   \n",
       "2  Argentina  1985     3346300                                      0   \n",
       "3  Argentina  1985     2304000                                      0   \n",
       "4  Argentina  1985     2234200                                      0   \n",
       "\n",
       "   Total_Labour_force  Cellular_subscriptions_per_100_people      GDPpyear  \\\n",
       "0                   0                                    0.0  8.841667e+10   \n",
       "1                   0                                    0.0  8.841667e+10   \n",
       "2                   0                                    0.0  8.841667e+10   \n",
       "3                   0                                    0.0  8.841667e+10   \n",
       "4                   0                                    0.0  8.841667e+10   \n",
       "\n",
       "   GDPpcapital  Expense_percent_of_GDP)  Physicians_per_1,000_people)  \\\n",
       "0         3264                      0.0                           0.0   \n",
       "1         3264                      0.0                           0.0   \n",
       "2         3264                      0.0                           0.0   \n",
       "3         3264                      0.0                           0.0   \n",
       "4         3264                      0.0                           0.0   \n",
       "\n",
       "   Refugee_population_by_country_or_territory_of_origin  Suicidesper100k  \n",
       "0                                                0.0               55.65  \n",
       "1                                                0.0               24.29  \n",
       "2                                                0.0               12.37  \n",
       "3                                                0.0                9.11  \n",
       "4                                                0.0                7.92  "
      ]
     },
     "execution_count": 41,
     "metadata": {},
     "output_type": "execute_result"
    }
   ],
   "source": [
    "sucidedataframe.head(5)"
   ]
  },
  {
   "cell_type": "code",
   "execution_count": 42,
   "id": "2b735da9",
   "metadata": {},
   "outputs": [
    {
     "data": {
      "text/html": [
       "<div>\n",
       "<style scoped>\n",
       "    .dataframe tbody tr th:only-of-type {\n",
       "        vertical-align: middle;\n",
       "    }\n",
       "\n",
       "    .dataframe tbody tr th {\n",
       "        vertical-align: top;\n",
       "    }\n",
       "\n",
       "    .dataframe thead th {\n",
       "        text-align: right;\n",
       "    }\n",
       "</style>\n",
       "<table border=\"1\" class=\"dataframe\">\n",
       "  <thead>\n",
       "    <tr style=\"text-align: right;\">\n",
       "      <th></th>\n",
       "      <th>Gender</th>\n",
       "      <th>Country</th>\n",
       "      <th>Year</th>\n",
       "      <th>Population</th>\n",
       "      <th>Internet_Usage_per_percent_Population</th>\n",
       "      <th>Total_Labour_force</th>\n",
       "      <th>Cellular_subscriptions_per_100_people</th>\n",
       "      <th>GDPpyear</th>\n",
       "      <th>GDPpcapital</th>\n",
       "      <th>Expense_percent_of_GDP)</th>\n",
       "      <th>Physicians_per_1,000_people)</th>\n",
       "      <th>Refugee_population_by_country_or_territory_of_origin</th>\n",
       "      <th>Suicidesper100k</th>\n",
       "    </tr>\n",
       "  </thead>\n",
       "  <tbody>\n",
       "    <tr>\n",
       "      <th>0</th>\n",
       "      <td>1</td>\n",
       "      <td>Argentina</td>\n",
       "      <td>1985</td>\n",
       "      <td>363000</td>\n",
       "      <td>0</td>\n",
       "      <td>0</td>\n",
       "      <td>0.0</td>\n",
       "      <td>8.841667e+10</td>\n",
       "      <td>3264</td>\n",
       "      <td>0.0</td>\n",
       "      <td>0.0</td>\n",
       "      <td>0.0</td>\n",
       "      <td>55.65</td>\n",
       "    </tr>\n",
       "    <tr>\n",
       "      <th>1</th>\n",
       "      <td>1</td>\n",
       "      <td>Argentina</td>\n",
       "      <td>1985</td>\n",
       "      <td>1997000</td>\n",
       "      <td>0</td>\n",
       "      <td>0</td>\n",
       "      <td>0.0</td>\n",
       "      <td>8.841667e+10</td>\n",
       "      <td>3264</td>\n",
       "      <td>0.0</td>\n",
       "      <td>0.0</td>\n",
       "      <td>0.0</td>\n",
       "      <td>24.29</td>\n",
       "    </tr>\n",
       "    <tr>\n",
       "      <th>2</th>\n",
       "      <td>1</td>\n",
       "      <td>Argentina</td>\n",
       "      <td>1985</td>\n",
       "      <td>3346300</td>\n",
       "      <td>0</td>\n",
       "      <td>0</td>\n",
       "      <td>0.0</td>\n",
       "      <td>8.841667e+10</td>\n",
       "      <td>3264</td>\n",
       "      <td>0.0</td>\n",
       "      <td>0.0</td>\n",
       "      <td>0.0</td>\n",
       "      <td>12.37</td>\n",
       "    </tr>\n",
       "    <tr>\n",
       "      <th>3</th>\n",
       "      <td>0</td>\n",
       "      <td>Argentina</td>\n",
       "      <td>1985</td>\n",
       "      <td>2304000</td>\n",
       "      <td>0</td>\n",
       "      <td>0</td>\n",
       "      <td>0.0</td>\n",
       "      <td>8.841667e+10</td>\n",
       "      <td>3264</td>\n",
       "      <td>0.0</td>\n",
       "      <td>0.0</td>\n",
       "      <td>0.0</td>\n",
       "      <td>9.11</td>\n",
       "    </tr>\n",
       "    <tr>\n",
       "      <th>4</th>\n",
       "      <td>1</td>\n",
       "      <td>Argentina</td>\n",
       "      <td>1985</td>\n",
       "      <td>2234200</td>\n",
       "      <td>0</td>\n",
       "      <td>0</td>\n",
       "      <td>0.0</td>\n",
       "      <td>8.841667e+10</td>\n",
       "      <td>3264</td>\n",
       "      <td>0.0</td>\n",
       "      <td>0.0</td>\n",
       "      <td>0.0</td>\n",
       "      <td>7.92</td>\n",
       "    </tr>\n",
       "  </tbody>\n",
       "</table>\n",
       "</div>"
      ],
      "text/plain": [
       "   Gender    Country  Year  Population  Internet_Usage_per_percent_Population  \\\n",
       "0       1  Argentina  1985      363000                                      0   \n",
       "1       1  Argentina  1985     1997000                                      0   \n",
       "2       1  Argentina  1985     3346300                                      0   \n",
       "3       0  Argentina  1985     2304000                                      0   \n",
       "4       1  Argentina  1985     2234200                                      0   \n",
       "\n",
       "   Total_Labour_force  Cellular_subscriptions_per_100_people      GDPpyear  \\\n",
       "0                   0                                    0.0  8.841667e+10   \n",
       "1                   0                                    0.0  8.841667e+10   \n",
       "2                   0                                    0.0  8.841667e+10   \n",
       "3                   0                                    0.0  8.841667e+10   \n",
       "4                   0                                    0.0  8.841667e+10   \n",
       "\n",
       "   GDPpcapital  Expense_percent_of_GDP)  Physicians_per_1,000_people)  \\\n",
       "0         3264                      0.0                           0.0   \n",
       "1         3264                      0.0                           0.0   \n",
       "2         3264                      0.0                           0.0   \n",
       "3         3264                      0.0                           0.0   \n",
       "4         3264                      0.0                           0.0   \n",
       "\n",
       "   Refugee_population_by_country_or_territory_of_origin  Suicidesper100k  \n",
       "0                                                0.0               55.65  \n",
       "1                                                0.0               24.29  \n",
       "2                                                0.0               12.37  \n",
       "3                                                0.0                9.11  \n",
       "4                                                0.0                7.92  "
      ]
     },
     "execution_count": 42,
     "metadata": {},
     "output_type": "execute_result"
    }
   ],
   "source": [
    "sucidedataframe = pd.concat([ gender,sucidedataframe],axis=1)\n",
    "sucidedataframe.head()"
   ]
  },
  {
   "cell_type": "code",
   "execution_count": 43,
   "id": "7afd1323",
   "metadata": {},
   "outputs": [
    {
     "data": {
      "text/html": [
       "<div>\n",
       "<style scoped>\n",
       "    .dataframe tbody tr th:only-of-type {\n",
       "        vertical-align: middle;\n",
       "    }\n",
       "\n",
       "    .dataframe tbody tr th {\n",
       "        vertical-align: top;\n",
       "    }\n",
       "\n",
       "    .dataframe thead th {\n",
       "        text-align: right;\n",
       "    }\n",
       "</style>\n",
       "<table border=\"1\" class=\"dataframe\">\n",
       "  <thead>\n",
       "    <tr style=\"text-align: right;\">\n",
       "      <th></th>\n",
       "      <th>15-24 years</th>\n",
       "      <th>25-34 years</th>\n",
       "      <th>35-54 years</th>\n",
       "      <th>5-14 years</th>\n",
       "      <th>55-74 years</th>\n",
       "      <th>75+ years</th>\n",
       "      <th>Gender</th>\n",
       "      <th>Country</th>\n",
       "      <th>Year</th>\n",
       "      <th>Population</th>\n",
       "      <th>Internet_Usage_per_percent_Population</th>\n",
       "      <th>Total_Labour_force</th>\n",
       "      <th>Cellular_subscriptions_per_100_people</th>\n",
       "      <th>GDPpyear</th>\n",
       "      <th>GDPpcapital</th>\n",
       "      <th>Expense_percent_of_GDP)</th>\n",
       "      <th>Physicians_per_1,000_people)</th>\n",
       "      <th>Refugee_population_by_country_or_territory_of_origin</th>\n",
       "      <th>Suicidesper100k</th>\n",
       "    </tr>\n",
       "  </thead>\n",
       "  <tbody>\n",
       "    <tr>\n",
       "      <th>0</th>\n",
       "      <td>0</td>\n",
       "      <td>0</td>\n",
       "      <td>0</td>\n",
       "      <td>0</td>\n",
       "      <td>0</td>\n",
       "      <td>1</td>\n",
       "      <td>1</td>\n",
       "      <td>Argentina</td>\n",
       "      <td>1985</td>\n",
       "      <td>363000</td>\n",
       "      <td>0</td>\n",
       "      <td>0</td>\n",
       "      <td>0.0</td>\n",
       "      <td>8.841667e+10</td>\n",
       "      <td>3264</td>\n",
       "      <td>0.0</td>\n",
       "      <td>0.0</td>\n",
       "      <td>0.0</td>\n",
       "      <td>55.65</td>\n",
       "    </tr>\n",
       "    <tr>\n",
       "      <th>1</th>\n",
       "      <td>0</td>\n",
       "      <td>0</td>\n",
       "      <td>0</td>\n",
       "      <td>0</td>\n",
       "      <td>1</td>\n",
       "      <td>0</td>\n",
       "      <td>1</td>\n",
       "      <td>Argentina</td>\n",
       "      <td>1985</td>\n",
       "      <td>1997000</td>\n",
       "      <td>0</td>\n",
       "      <td>0</td>\n",
       "      <td>0.0</td>\n",
       "      <td>8.841667e+10</td>\n",
       "      <td>3264</td>\n",
       "      <td>0.0</td>\n",
       "      <td>0.0</td>\n",
       "      <td>0.0</td>\n",
       "      <td>24.29</td>\n",
       "    </tr>\n",
       "    <tr>\n",
       "      <th>2</th>\n",
       "      <td>0</td>\n",
       "      <td>0</td>\n",
       "      <td>1</td>\n",
       "      <td>0</td>\n",
       "      <td>0</td>\n",
       "      <td>0</td>\n",
       "      <td>1</td>\n",
       "      <td>Argentina</td>\n",
       "      <td>1985</td>\n",
       "      <td>3346300</td>\n",
       "      <td>0</td>\n",
       "      <td>0</td>\n",
       "      <td>0.0</td>\n",
       "      <td>8.841667e+10</td>\n",
       "      <td>3264</td>\n",
       "      <td>0.0</td>\n",
       "      <td>0.0</td>\n",
       "      <td>0.0</td>\n",
       "      <td>12.37</td>\n",
       "    </tr>\n",
       "    <tr>\n",
       "      <th>3</th>\n",
       "      <td>0</td>\n",
       "      <td>0</td>\n",
       "      <td>0</td>\n",
       "      <td>0</td>\n",
       "      <td>1</td>\n",
       "      <td>0</td>\n",
       "      <td>0</td>\n",
       "      <td>Argentina</td>\n",
       "      <td>1985</td>\n",
       "      <td>2304000</td>\n",
       "      <td>0</td>\n",
       "      <td>0</td>\n",
       "      <td>0.0</td>\n",
       "      <td>8.841667e+10</td>\n",
       "      <td>3264</td>\n",
       "      <td>0.0</td>\n",
       "      <td>0.0</td>\n",
       "      <td>0.0</td>\n",
       "      <td>9.11</td>\n",
       "    </tr>\n",
       "    <tr>\n",
       "      <th>4</th>\n",
       "      <td>0</td>\n",
       "      <td>1</td>\n",
       "      <td>0</td>\n",
       "      <td>0</td>\n",
       "      <td>0</td>\n",
       "      <td>0</td>\n",
       "      <td>1</td>\n",
       "      <td>Argentina</td>\n",
       "      <td>1985</td>\n",
       "      <td>2234200</td>\n",
       "      <td>0</td>\n",
       "      <td>0</td>\n",
       "      <td>0.0</td>\n",
       "      <td>8.841667e+10</td>\n",
       "      <td>3264</td>\n",
       "      <td>0.0</td>\n",
       "      <td>0.0</td>\n",
       "      <td>0.0</td>\n",
       "      <td>7.92</td>\n",
       "    </tr>\n",
       "    <tr>\n",
       "      <th>...</th>\n",
       "      <td>...</td>\n",
       "      <td>...</td>\n",
       "      <td>...</td>\n",
       "      <td>...</td>\n",
       "      <td>...</td>\n",
       "      <td>...</td>\n",
       "      <td>...</td>\n",
       "      <td>...</td>\n",
       "      <td>...</td>\n",
       "      <td>...</td>\n",
       "      <td>...</td>\n",
       "      <td>...</td>\n",
       "      <td>...</td>\n",
       "      <td>...</td>\n",
       "      <td>...</td>\n",
       "      <td>...</td>\n",
       "      <td>...</td>\n",
       "      <td>...</td>\n",
       "      <td>...</td>\n",
       "    </tr>\n",
       "    <tr>\n",
       "      <th>11577</th>\n",
       "      <td>0</td>\n",
       "      <td>0</td>\n",
       "      <td>1</td>\n",
       "      <td>0</td>\n",
       "      <td>0</td>\n",
       "      <td>0</td>\n",
       "      <td>0</td>\n",
       "      <td>Uzbekistan</td>\n",
       "      <td>2014</td>\n",
       "      <td>3620833</td>\n",
       "      <td>0</td>\n",
       "      <td>0</td>\n",
       "      <td>0.0</td>\n",
       "      <td>6.306708e+10</td>\n",
       "      <td>2309</td>\n",
       "      <td>0.0</td>\n",
       "      <td>0.0</td>\n",
       "      <td>0.0</td>\n",
       "      <td>2.96</td>\n",
       "    </tr>\n",
       "    <tr>\n",
       "      <th>11578</th>\n",
       "      <td>0</td>\n",
       "      <td>0</td>\n",
       "      <td>0</td>\n",
       "      <td>0</td>\n",
       "      <td>0</td>\n",
       "      <td>1</td>\n",
       "      <td>0</td>\n",
       "      <td>Uzbekistan</td>\n",
       "      <td>2014</td>\n",
       "      <td>348465</td>\n",
       "      <td>0</td>\n",
       "      <td>0</td>\n",
       "      <td>0.0</td>\n",
       "      <td>6.306708e+10</td>\n",
       "      <td>2309</td>\n",
       "      <td>0.0</td>\n",
       "      <td>0.0</td>\n",
       "      <td>0.0</td>\n",
       "      <td>2.58</td>\n",
       "    </tr>\n",
       "    <tr>\n",
       "      <th>11579</th>\n",
       "      <td>0</td>\n",
       "      <td>0</td>\n",
       "      <td>0</td>\n",
       "      <td>1</td>\n",
       "      <td>0</td>\n",
       "      <td>0</td>\n",
       "      <td>1</td>\n",
       "      <td>Uzbekistan</td>\n",
       "      <td>2014</td>\n",
       "      <td>2762158</td>\n",
       "      <td>0</td>\n",
       "      <td>0</td>\n",
       "      <td>0.0</td>\n",
       "      <td>6.306708e+10</td>\n",
       "      <td>2309</td>\n",
       "      <td>0.0</td>\n",
       "      <td>0.0</td>\n",
       "      <td>0.0</td>\n",
       "      <td>2.17</td>\n",
       "    </tr>\n",
       "    <tr>\n",
       "      <th>11580</th>\n",
       "      <td>0</td>\n",
       "      <td>0</td>\n",
       "      <td>0</td>\n",
       "      <td>1</td>\n",
       "      <td>0</td>\n",
       "      <td>0</td>\n",
       "      <td>0</td>\n",
       "      <td>Uzbekistan</td>\n",
       "      <td>2014</td>\n",
       "      <td>2631600</td>\n",
       "      <td>0</td>\n",
       "      <td>0</td>\n",
       "      <td>0.0</td>\n",
       "      <td>6.306708e+10</td>\n",
       "      <td>2309</td>\n",
       "      <td>0.0</td>\n",
       "      <td>0.0</td>\n",
       "      <td>0.0</td>\n",
       "      <td>1.67</td>\n",
       "    </tr>\n",
       "    <tr>\n",
       "      <th>11581</th>\n",
       "      <td>0</td>\n",
       "      <td>0</td>\n",
       "      <td>0</td>\n",
       "      <td>0</td>\n",
       "      <td>1</td>\n",
       "      <td>0</td>\n",
       "      <td>0</td>\n",
       "      <td>Uzbekistan</td>\n",
       "      <td>2014</td>\n",
       "      <td>1438935</td>\n",
       "      <td>0</td>\n",
       "      <td>0</td>\n",
       "      <td>0.0</td>\n",
       "      <td>6.306708e+10</td>\n",
       "      <td>2309</td>\n",
       "      <td>0.0</td>\n",
       "      <td>0.0</td>\n",
       "      <td>0.0</td>\n",
       "      <td>1.46</td>\n",
       "    </tr>\n",
       "  </tbody>\n",
       "</table>\n",
       "<p>11582 rows × 19 columns</p>\n",
       "</div>"
      ],
      "text/plain": [
       "       15-24 years  25-34 years  35-54 years  5-14 years  55-74 years  \\\n",
       "0                0            0            0           0            0   \n",
       "1                0            0            0           0            1   \n",
       "2                0            0            1           0            0   \n",
       "3                0            0            0           0            1   \n",
       "4                0            1            0           0            0   \n",
       "...            ...          ...          ...         ...          ...   \n",
       "11577            0            0            1           0            0   \n",
       "11578            0            0            0           0            0   \n",
       "11579            0            0            0           1            0   \n",
       "11580            0            0            0           1            0   \n",
       "11581            0            0            0           0            1   \n",
       "\n",
       "       75+ years  Gender     Country  Year  Population  \\\n",
       "0              1       1   Argentina  1985      363000   \n",
       "1              0       1   Argentina  1985     1997000   \n",
       "2              0       1   Argentina  1985     3346300   \n",
       "3              0       0   Argentina  1985     2304000   \n",
       "4              0       1   Argentina  1985     2234200   \n",
       "...          ...     ...         ...   ...         ...   \n",
       "11577          0       0  Uzbekistan  2014     3620833   \n",
       "11578          1       0  Uzbekistan  2014      348465   \n",
       "11579          0       1  Uzbekistan  2014     2762158   \n",
       "11580          0       0  Uzbekistan  2014     2631600   \n",
       "11581          0       0  Uzbekistan  2014     1438935   \n",
       "\n",
       "       Internet_Usage_per_percent_Population  Total_Labour_force  \\\n",
       "0                                          0                   0   \n",
       "1                                          0                   0   \n",
       "2                                          0                   0   \n",
       "3                                          0                   0   \n",
       "4                                          0                   0   \n",
       "...                                      ...                 ...   \n",
       "11577                                      0                   0   \n",
       "11578                                      0                   0   \n",
       "11579                                      0                   0   \n",
       "11580                                      0                   0   \n",
       "11581                                      0                   0   \n",
       "\n",
       "       Cellular_subscriptions_per_100_people      GDPpyear  GDPpcapital  \\\n",
       "0                                        0.0  8.841667e+10         3264   \n",
       "1                                        0.0  8.841667e+10         3264   \n",
       "2                                        0.0  8.841667e+10         3264   \n",
       "3                                        0.0  8.841667e+10         3264   \n",
       "4                                        0.0  8.841667e+10         3264   \n",
       "...                                      ...           ...          ...   \n",
       "11577                                    0.0  6.306708e+10         2309   \n",
       "11578                                    0.0  6.306708e+10         2309   \n",
       "11579                                    0.0  6.306708e+10         2309   \n",
       "11580                                    0.0  6.306708e+10         2309   \n",
       "11581                                    0.0  6.306708e+10         2309   \n",
       "\n",
       "       Expense_percent_of_GDP)  Physicians_per_1,000_people)  \\\n",
       "0                          0.0                           0.0   \n",
       "1                          0.0                           0.0   \n",
       "2                          0.0                           0.0   \n",
       "3                          0.0                           0.0   \n",
       "4                          0.0                           0.0   \n",
       "...                        ...                           ...   \n",
       "11577                      0.0                           0.0   \n",
       "11578                      0.0                           0.0   \n",
       "11579                      0.0                           0.0   \n",
       "11580                      0.0                           0.0   \n",
       "11581                      0.0                           0.0   \n",
       "\n",
       "       Refugee_population_by_country_or_territory_of_origin  Suicidesper100k  \n",
       "0                                                    0.0               55.65  \n",
       "1                                                    0.0               24.29  \n",
       "2                                                    0.0               12.37  \n",
       "3                                                    0.0                9.11  \n",
       "4                                                    0.0                7.92  \n",
       "...                                                  ...                 ...  \n",
       "11577                                                0.0                2.96  \n",
       "11578                                                0.0                2.58  \n",
       "11579                                                0.0                2.17  \n",
       "11580                                                0.0                1.67  \n",
       "11581                                                0.0                1.46  \n",
       "\n",
       "[11582 rows x 19 columns]"
      ]
     },
     "execution_count": 43,
     "metadata": {},
     "output_type": "execute_result"
    }
   ],
   "source": [
    "sucidedataframe = pd.concat([age,sucidedataframe],axis=1)\n",
    "sucidedataframe"
   ]
  },
  {
   "cell_type": "code",
   "execution_count": 44,
   "id": "72c89dd8",
   "metadata": {},
   "outputs": [
    {
     "name": "stdout",
     "output_type": "stream",
     "text": [
      "Gender\n",
      "0    5791\n",
      "1    5791\n",
      "dtype: int64\n"
     ]
    }
   ],
   "source": [
    "print(sucidedataframe.pivot_table(columns=['Gender'], aggfunc='size'))"
   ]
  },
  {
   "cell_type": "code",
   "execution_count": 45,
   "id": "7076e0f0",
   "metadata": {},
   "outputs": [
    {
     "name": "stdout",
     "output_type": "stream",
     "text": [
      "15-24 years\n",
      "0    9648\n",
      "1    1934\n",
      "dtype: int64\n"
     ]
    }
   ],
   "source": [
    "print(sucidedataframe.pivot_table(columns=['15-24 years'], aggfunc='size'))  # counts duplicates in the selected dataframe column."
   ]
  },
  {
   "cell_type": "code",
   "execution_count": 46,
   "id": "b41f1623",
   "metadata": {},
   "outputs": [
    {
     "name": "stdout",
     "output_type": "stream",
     "text": [
      "25-34 years\n",
      "0    9648\n",
      "1    1934\n",
      "dtype: int64\n"
     ]
    }
   ],
   "source": [
    "print(sucidedataframe.pivot_table(columns=[\"25-34 years\"], aggfunc='size'))  # counts duplicates in the selected dataframe column."
   ]
  },
  {
   "cell_type": "code",
   "execution_count": 47,
   "id": "6d04e72f",
   "metadata": {},
   "outputs": [
    {
     "name": "stdout",
     "output_type": "stream",
     "text": [
      "35-54 years\n",
      "0    9648\n",
      "1    1934\n",
      "dtype: int64\n"
     ]
    }
   ],
   "source": [
    "print(sucidedataframe.pivot_table(columns=[\"35-54 years\"], aggfunc='size'))  # counts duplicates in the selected dataframe column."
   ]
  },
  {
   "cell_type": "code",
   "execution_count": 48,
   "id": "13398cc4",
   "metadata": {},
   "outputs": [
    {
     "name": "stdout",
     "output_type": "stream",
     "text": [
      "5-14 years\n",
      "0    9670\n",
      "1    1912\n",
      "dtype: int64\n"
     ]
    }
   ],
   "source": [
    "print(sucidedataframe.pivot_table(columns=[\"5-14 years\"], aggfunc='size'))  # counts duplicates in the selected dataframe column."
   ]
  },
  {
   "cell_type": "code",
   "execution_count": 49,
   "id": "10adde8e",
   "metadata": {},
   "outputs": [
    {
     "name": "stdout",
     "output_type": "stream",
     "text": [
      "55-74 years\n",
      "0    9648\n",
      "1    1934\n",
      "dtype: int64\n"
     ]
    }
   ],
   "source": [
    "print(sucidedataframe.pivot_table(columns=[\"55-74 years\"], aggfunc='size'))  # counts duplicates in the selected dataframe column."
   ]
  },
  {
   "cell_type": "code",
   "execution_count": 50,
   "id": "38135d98",
   "metadata": {},
   "outputs": [
    {
     "name": "stdout",
     "output_type": "stream",
     "text": [
      "75+ years\n",
      "0    9648\n",
      "1    1934\n",
      "dtype: int64\n"
     ]
    }
   ],
   "source": [
    "print(sucidedataframe.pivot_table(columns=[\"75+ years\"], aggfunc='size'))  # counts duplicates in the selected dataframe column."
   ]
  },
  {
   "cell_type": "code",
   "execution_count": 51,
   "id": "a1793664",
   "metadata": {},
   "outputs": [
    {
     "data": {
      "text/html": [
       "<div>\n",
       "<style scoped>\n",
       "    .dataframe tbody tr th:only-of-type {\n",
       "        vertical-align: middle;\n",
       "    }\n",
       "\n",
       "    .dataframe tbody tr th {\n",
       "        vertical-align: top;\n",
       "    }\n",
       "\n",
       "    .dataframe thead th {\n",
       "        text-align: right;\n",
       "    }\n",
       "</style>\n",
       "<table border=\"1\" class=\"dataframe\">\n",
       "  <thead>\n",
       "    <tr style=\"text-align: right;\">\n",
       "      <th></th>\n",
       "      <th>15-24 years</th>\n",
       "      <th>25-34 years</th>\n",
       "      <th>35-54 years</th>\n",
       "      <th>5-14 years</th>\n",
       "      <th>55-74 years</th>\n",
       "      <th>75+ years</th>\n",
       "      <th>Gender</th>\n",
       "      <th>Country</th>\n",
       "      <th>Year</th>\n",
       "      <th>Population</th>\n",
       "      <th>Internet_Usage_per_percent_Population</th>\n",
       "      <th>Total_Labour_force</th>\n",
       "      <th>Cellular_subscriptions_per_100_people</th>\n",
       "      <th>GDPpyear</th>\n",
       "      <th>GDPpcapital</th>\n",
       "      <th>Expense_percent_of_GDP)</th>\n",
       "      <th>Physicians_per_1,000_people)</th>\n",
       "      <th>Refugee_population_by_country_or_territory_of_origin</th>\n",
       "      <th>Suicidesper100k</th>\n",
       "    </tr>\n",
       "  </thead>\n",
       "  <tbody>\n",
       "    <tr>\n",
       "      <th>0</th>\n",
       "      <td>0</td>\n",
       "      <td>0</td>\n",
       "      <td>0</td>\n",
       "      <td>0</td>\n",
       "      <td>0</td>\n",
       "      <td>1</td>\n",
       "      <td>1</td>\n",
       "      <td>Argentina</td>\n",
       "      <td>1985</td>\n",
       "      <td>363000</td>\n",
       "      <td>0</td>\n",
       "      <td>0</td>\n",
       "      <td>0.0</td>\n",
       "      <td>8.841667e+10</td>\n",
       "      <td>3264</td>\n",
       "      <td>0.0</td>\n",
       "      <td>0.0</td>\n",
       "      <td>0.0</td>\n",
       "      <td>55.65</td>\n",
       "    </tr>\n",
       "    <tr>\n",
       "      <th>1</th>\n",
       "      <td>0</td>\n",
       "      <td>0</td>\n",
       "      <td>0</td>\n",
       "      <td>0</td>\n",
       "      <td>1</td>\n",
       "      <td>0</td>\n",
       "      <td>1</td>\n",
       "      <td>Argentina</td>\n",
       "      <td>1985</td>\n",
       "      <td>1997000</td>\n",
       "      <td>0</td>\n",
       "      <td>0</td>\n",
       "      <td>0.0</td>\n",
       "      <td>8.841667e+10</td>\n",
       "      <td>3264</td>\n",
       "      <td>0.0</td>\n",
       "      <td>0.0</td>\n",
       "      <td>0.0</td>\n",
       "      <td>24.29</td>\n",
       "    </tr>\n",
       "    <tr>\n",
       "      <th>2</th>\n",
       "      <td>0</td>\n",
       "      <td>0</td>\n",
       "      <td>1</td>\n",
       "      <td>0</td>\n",
       "      <td>0</td>\n",
       "      <td>0</td>\n",
       "      <td>1</td>\n",
       "      <td>Argentina</td>\n",
       "      <td>1985</td>\n",
       "      <td>3346300</td>\n",
       "      <td>0</td>\n",
       "      <td>0</td>\n",
       "      <td>0.0</td>\n",
       "      <td>8.841667e+10</td>\n",
       "      <td>3264</td>\n",
       "      <td>0.0</td>\n",
       "      <td>0.0</td>\n",
       "      <td>0.0</td>\n",
       "      <td>12.37</td>\n",
       "    </tr>\n",
       "    <tr>\n",
       "      <th>3</th>\n",
       "      <td>0</td>\n",
       "      <td>0</td>\n",
       "      <td>0</td>\n",
       "      <td>0</td>\n",
       "      <td>1</td>\n",
       "      <td>0</td>\n",
       "      <td>0</td>\n",
       "      <td>Argentina</td>\n",
       "      <td>1985</td>\n",
       "      <td>2304000</td>\n",
       "      <td>0</td>\n",
       "      <td>0</td>\n",
       "      <td>0.0</td>\n",
       "      <td>8.841667e+10</td>\n",
       "      <td>3264</td>\n",
       "      <td>0.0</td>\n",
       "      <td>0.0</td>\n",
       "      <td>0.0</td>\n",
       "      <td>9.11</td>\n",
       "    </tr>\n",
       "    <tr>\n",
       "      <th>4</th>\n",
       "      <td>0</td>\n",
       "      <td>1</td>\n",
       "      <td>0</td>\n",
       "      <td>0</td>\n",
       "      <td>0</td>\n",
       "      <td>0</td>\n",
       "      <td>1</td>\n",
       "      <td>Argentina</td>\n",
       "      <td>1985</td>\n",
       "      <td>2234200</td>\n",
       "      <td>0</td>\n",
       "      <td>0</td>\n",
       "      <td>0.0</td>\n",
       "      <td>8.841667e+10</td>\n",
       "      <td>3264</td>\n",
       "      <td>0.0</td>\n",
       "      <td>0.0</td>\n",
       "      <td>0.0</td>\n",
       "      <td>7.92</td>\n",
       "    </tr>\n",
       "  </tbody>\n",
       "</table>\n",
       "</div>"
      ],
      "text/plain": [
       "   15-24 years  25-34 years  35-54 years  5-14 years  55-74 years  75+ years  \\\n",
       "0            0            0            0           0            0          1   \n",
       "1            0            0            0           0            1          0   \n",
       "2            0            0            1           0            0          0   \n",
       "3            0            0            0           0            1          0   \n",
       "4            0            1            0           0            0          0   \n",
       "\n",
       "   Gender    Country  Year  Population  Internet_Usage_per_percent_Population  \\\n",
       "0       1  Argentina  1985      363000                                      0   \n",
       "1       1  Argentina  1985     1997000                                      0   \n",
       "2       1  Argentina  1985     3346300                                      0   \n",
       "3       0  Argentina  1985     2304000                                      0   \n",
       "4       1  Argentina  1985     2234200                                      0   \n",
       "\n",
       "   Total_Labour_force  Cellular_subscriptions_per_100_people      GDPpyear  \\\n",
       "0                   0                                    0.0  8.841667e+10   \n",
       "1                   0                                    0.0  8.841667e+10   \n",
       "2                   0                                    0.0  8.841667e+10   \n",
       "3                   0                                    0.0  8.841667e+10   \n",
       "4                   0                                    0.0  8.841667e+10   \n",
       "\n",
       "   GDPpcapital  Expense_percent_of_GDP)  Physicians_per_1,000_people)  \\\n",
       "0         3264                      0.0                           0.0   \n",
       "1         3264                      0.0                           0.0   \n",
       "2         3264                      0.0                           0.0   \n",
       "3         3264                      0.0                           0.0   \n",
       "4         3264                      0.0                           0.0   \n",
       "\n",
       "   Refugee_population_by_country_or_territory_of_origin  Suicidesper100k  \n",
       "0                                                0.0               55.65  \n",
       "1                                                0.0               24.29  \n",
       "2                                                0.0               12.37  \n",
       "3                                                0.0                9.11  \n",
       "4                                                0.0                7.92  "
      ]
     },
     "execution_count": 51,
     "metadata": {},
     "output_type": "execute_result"
    }
   ],
   "source": [
    "sucidedataframe.head()"
   ]
  },
  {
   "cell_type": "code",
   "execution_count": 52,
   "id": "3f238b8d",
   "metadata": {},
   "outputs": [
    {
     "data": {
      "text/html": [
       "<div>\n",
       "<style scoped>\n",
       "    .dataframe tbody tr th:only-of-type {\n",
       "        vertical-align: middle;\n",
       "    }\n",
       "\n",
       "    .dataframe tbody tr th {\n",
       "        vertical-align: top;\n",
       "    }\n",
       "\n",
       "    .dataframe thead th {\n",
       "        text-align: right;\n",
       "    }\n",
       "</style>\n",
       "<table border=\"1\" class=\"dataframe\">\n",
       "  <thead>\n",
       "    <tr style=\"text-align: right;\">\n",
       "      <th></th>\n",
       "      <th>15-24 years</th>\n",
       "      <th>25-34 years</th>\n",
       "      <th>35-54 years</th>\n",
       "      <th>5-14 years</th>\n",
       "      <th>55-74 years</th>\n",
       "      <th>75+ years</th>\n",
       "      <th>Gender</th>\n",
       "      <th>Year</th>\n",
       "      <th>Population</th>\n",
       "      <th>Internet_Usage_per_percent_Population</th>\n",
       "      <th>Total_Labour_force</th>\n",
       "      <th>Cellular_subscriptions_per_100_people</th>\n",
       "      <th>GDPpyear</th>\n",
       "      <th>GDPpcapital</th>\n",
       "      <th>Expense_percent_of_GDP)</th>\n",
       "      <th>Physicians_per_1,000_people)</th>\n",
       "      <th>Refugee_population_by_country_or_territory_of_origin</th>\n",
       "      <th>Suicidesper100k</th>\n",
       "    </tr>\n",
       "  </thead>\n",
       "  <tbody>\n",
       "    <tr>\n",
       "      <th>count</th>\n",
       "      <td>11582.0</td>\n",
       "      <td>11582.0</td>\n",
       "      <td>11582.0</td>\n",
       "      <td>11582.0</td>\n",
       "      <td>11582.0</td>\n",
       "      <td>11582.0</td>\n",
       "      <td>11582.0</td>\n",
       "      <td>11582.0</td>\n",
       "      <td>11582.0</td>\n",
       "      <td>11582.0</td>\n",
       "      <td>11582.0</td>\n",
       "      <td>11582.0</td>\n",
       "      <td>1.158200e+04</td>\n",
       "      <td>11582.0</td>\n",
       "      <td>11582.0</td>\n",
       "      <td>11582.0</td>\n",
       "      <td>11582.0</td>\n",
       "      <td>11582.0</td>\n",
       "    </tr>\n",
       "    <tr>\n",
       "      <th>mean</th>\n",
       "      <td>0.0</td>\n",
       "      <td>0.0</td>\n",
       "      <td>0.0</td>\n",
       "      <td>0.0</td>\n",
       "      <td>0.0</td>\n",
       "      <td>0.0</td>\n",
       "      <td>0.0</td>\n",
       "      <td>2000.0</td>\n",
       "      <td>3177995.0</td>\n",
       "      <td>22.0</td>\n",
       "      <td>11580063.0</td>\n",
       "      <td>40.0</td>\n",
       "      <td>8.349823e+11</td>\n",
       "      <td>21705.0</td>\n",
       "      <td>18.0</td>\n",
       "      <td>2.0</td>\n",
       "      <td>10792.0</td>\n",
       "      <td>14.0</td>\n",
       "    </tr>\n",
       "    <tr>\n",
       "      <th>std</th>\n",
       "      <td>0.0</td>\n",
       "      <td>0.0</td>\n",
       "      <td>0.0</td>\n",
       "      <td>0.0</td>\n",
       "      <td>0.0</td>\n",
       "      <td>0.0</td>\n",
       "      <td>1.0</td>\n",
       "      <td>9.0</td>\n",
       "      <td>5225340.0</td>\n",
       "      <td>30.0</td>\n",
       "      <td>25821301.0</td>\n",
       "      <td>49.0</td>\n",
       "      <td>2.062091e+12</td>\n",
       "      <td>19438.0</td>\n",
       "      <td>17.0</td>\n",
       "      <td>2.0</td>\n",
       "      <td>49908.0</td>\n",
       "      <td>18.0</td>\n",
       "    </tr>\n",
       "    <tr>\n",
       "      <th>min</th>\n",
       "      <td>0.0</td>\n",
       "      <td>0.0</td>\n",
       "      <td>0.0</td>\n",
       "      <td>0.0</td>\n",
       "      <td>0.0</td>\n",
       "      <td>0.0</td>\n",
       "      <td>0.0</td>\n",
       "      <td>1985.0</td>\n",
       "      <td>4400.0</td>\n",
       "      <td>0.0</td>\n",
       "      <td>0.0</td>\n",
       "      <td>0.0</td>\n",
       "      <td>1.201313e+09</td>\n",
       "      <td>357.0</td>\n",
       "      <td>0.0</td>\n",
       "      <td>0.0</td>\n",
       "      <td>0.0</td>\n",
       "      <td>0.0</td>\n",
       "    </tr>\n",
       "    <tr>\n",
       "      <th>25%</th>\n",
       "      <td>0.0</td>\n",
       "      <td>0.0</td>\n",
       "      <td>0.0</td>\n",
       "      <td>0.0</td>\n",
       "      <td>0.0</td>\n",
       "      <td>0.0</td>\n",
       "      <td>0.0</td>\n",
       "      <td>1992.0</td>\n",
       "      <td>424275.0</td>\n",
       "      <td>0.0</td>\n",
       "      <td>0.0</td>\n",
       "      <td>0.0</td>\n",
       "      <td>6.752529e+10</td>\n",
       "      <td>5466.0</td>\n",
       "      <td>0.0</td>\n",
       "      <td>0.0</td>\n",
       "      <td>0.0</td>\n",
       "      <td>2.0</td>\n",
       "    </tr>\n",
       "    <tr>\n",
       "      <th>50%</th>\n",
       "      <td>0.0</td>\n",
       "      <td>0.0</td>\n",
       "      <td>0.0</td>\n",
       "      <td>0.0</td>\n",
       "      <td>0.0</td>\n",
       "      <td>0.0</td>\n",
       "      <td>0.0</td>\n",
       "      <td>1999.0</td>\n",
       "      <td>1052750.0</td>\n",
       "      <td>1.0</td>\n",
       "      <td>2045018.0</td>\n",
       "      <td>5.0</td>\n",
       "      <td>2.260000e+11</td>\n",
       "      <td>16615.0</td>\n",
       "      <td>17.0</td>\n",
       "      <td>2.0</td>\n",
       "      <td>6.0</td>\n",
       "      <td>8.0</td>\n",
       "    </tr>\n",
       "    <tr>\n",
       "      <th>75%</th>\n",
       "      <td>0.0</td>\n",
       "      <td>0.0</td>\n",
       "      <td>0.0</td>\n",
       "      <td>0.0</td>\n",
       "      <td>0.0</td>\n",
       "      <td>0.0</td>\n",
       "      <td>1.0</td>\n",
       "      <td>2009.0</td>\n",
       "      <td>3674681.0</td>\n",
       "      <td>41.0</td>\n",
       "      <td>8865394.0</td>\n",
       "      <td>88.0</td>\n",
       "      <td>5.890000e+11</td>\n",
       "      <td>31533.0</td>\n",
       "      <td>34.0</td>\n",
       "      <td>3.0</td>\n",
       "      <td>224.0</td>\n",
       "      <td>19.0</td>\n",
       "    </tr>\n",
       "    <tr>\n",
       "      <th>max</th>\n",
       "      <td>1.0</td>\n",
       "      <td>1.0</td>\n",
       "      <td>1.0</td>\n",
       "      <td>1.0</td>\n",
       "      <td>1.0</td>\n",
       "      <td>1.0</td>\n",
       "      <td>1.0</td>\n",
       "      <td>2016.0</td>\n",
       "      <td>43805214.0</td>\n",
       "      <td>96.0</td>\n",
       "      <td>158831064.0</td>\n",
       "      <td>172.0</td>\n",
       "      <td>1.810000e+13</td>\n",
       "      <td>109804.0</td>\n",
       "      <td>60.0</td>\n",
       "      <td>6.0</td>\n",
       "      <td>396717.0</td>\n",
       "      <td>178.0</td>\n",
       "    </tr>\n",
       "  </tbody>\n",
       "</table>\n",
       "</div>"
      ],
      "text/plain": [
       "       15-24 years  25-34 years  35-54 years  5-14 years  55-74 years  \\\n",
       "count      11582.0      11582.0      11582.0     11582.0      11582.0   \n",
       "mean           0.0          0.0          0.0         0.0          0.0   \n",
       "std            0.0          0.0          0.0         0.0          0.0   \n",
       "min            0.0          0.0          0.0         0.0          0.0   \n",
       "25%            0.0          0.0          0.0         0.0          0.0   \n",
       "50%            0.0          0.0          0.0         0.0          0.0   \n",
       "75%            0.0          0.0          0.0         0.0          0.0   \n",
       "max            1.0          1.0          1.0         1.0          1.0   \n",
       "\n",
       "       75+ years   Gender     Year  Population  \\\n",
       "count    11582.0  11582.0  11582.0     11582.0   \n",
       "mean         0.0      0.0   2000.0   3177995.0   \n",
       "std          0.0      1.0      9.0   5225340.0   \n",
       "min          0.0      0.0   1985.0      4400.0   \n",
       "25%          0.0      0.0   1992.0    424275.0   \n",
       "50%          0.0      0.0   1999.0   1052750.0   \n",
       "75%          0.0      1.0   2009.0   3674681.0   \n",
       "max          1.0      1.0   2016.0  43805214.0   \n",
       "\n",
       "       Internet_Usage_per_percent_Population  Total_Labour_force  \\\n",
       "count                                11582.0             11582.0   \n",
       "mean                                    22.0          11580063.0   \n",
       "std                                     30.0          25821301.0   \n",
       "min                                      0.0                 0.0   \n",
       "25%                                      0.0                 0.0   \n",
       "50%                                      1.0           2045018.0   \n",
       "75%                                     41.0           8865394.0   \n",
       "max                                     96.0         158831064.0   \n",
       "\n",
       "       Cellular_subscriptions_per_100_people      GDPpyear  GDPpcapital  \\\n",
       "count                                11582.0  1.158200e+04      11582.0   \n",
       "mean                                    40.0  8.349823e+11      21705.0   \n",
       "std                                     49.0  2.062091e+12      19438.0   \n",
       "min                                      0.0  1.201313e+09        357.0   \n",
       "25%                                      0.0  6.752529e+10       5466.0   \n",
       "50%                                      5.0  2.260000e+11      16615.0   \n",
       "75%                                     88.0  5.890000e+11      31533.0   \n",
       "max                                    172.0  1.810000e+13     109804.0   \n",
       "\n",
       "       Expense_percent_of_GDP)  Physicians_per_1,000_people)  \\\n",
       "count                  11582.0                       11582.0   \n",
       "mean                      18.0                           2.0   \n",
       "std                       17.0                           2.0   \n",
       "min                        0.0                           0.0   \n",
       "25%                        0.0                           0.0   \n",
       "50%                       17.0                           2.0   \n",
       "75%                       34.0                           3.0   \n",
       "max                       60.0                           6.0   \n",
       "\n",
       "       Refugee_population_by_country_or_territory_of_origin  Suicidesper100k  \n",
       "count                                            11582.0             11582.0  \n",
       "mean                                             10792.0                14.0  \n",
       "std                                              49908.0                18.0  \n",
       "min                                                  0.0                 0.0  \n",
       "25%                                                  0.0                 2.0  \n",
       "50%                                                  6.0                 8.0  \n",
       "75%                                                224.0                19.0  \n",
       "max                                             396717.0               178.0  "
      ]
     },
     "execution_count": 52,
     "metadata": {},
     "output_type": "execute_result"
    }
   ],
   "source": [
    "sucidedataframe.describe().round()  # Shows the count, mean, std, min, 25%, 50%, 75% and \n",
    "                                    # max of a datframe. "
   ]
  },
  {
   "cell_type": "code",
   "execution_count": 53,
   "id": "2a3dbb71",
   "metadata": {},
   "outputs": [
    {
     "data": {
      "text/plain": [
       "Country\n",
       "Argentina             192\n",
       "Armenia               178\n",
       "Australia             312\n",
       "Austria               334\n",
       "Azerbaijan            120\n",
       "Belgium               312\n",
       "Brazil                336\n",
       "Bulgaria              216\n",
       "Canada                276\n",
       "Chile                 264\n",
       "Colombia              240\n",
       "Croatia               250\n",
       "Cuba                   60\n",
       "Czech Republic        286\n",
       "Denmark               240\n",
       "Finland               324\n",
       "France                192\n",
       "Georgia               216\n",
       "Germany               276\n",
       "Greece                312\n",
       "Hungary               286\n",
       "Iceland               358\n",
       "Ireland               300\n",
       "Israel                312\n",
       "Italy                 324\n",
       "Jamaica                96\n",
       "Japan                 252\n",
       "Mexico                288\n",
       "Mongolia               10\n",
       "Netherlands           298\n",
       "New Zealand           228\n",
       "Norway                336\n",
       "Poland                252\n",
       "Portugal              324\n",
       "Romania               274\n",
       "Russian Federation    252\n",
       "South Africa           96\n",
       "Spain                 372\n",
       "Sweden                334\n",
       "Switzerland           180\n",
       "Thailand              298\n",
       "Turkey                 84\n",
       "Turkmenistan          120\n",
       "Ukraine               204\n",
       "United Kingdom        300\n",
       "United States         360\n",
       "Uzbekistan            108\n",
       "dtype: int64"
      ]
     },
     "execution_count": 53,
     "metadata": {},
     "output_type": "execute_result"
    }
   ],
   "source": [
    "# count duplicates function learned from: https://datatofish.com/count-duplicates-pandas/\n",
    "sucidedataframe.pivot_table(columns=['Country'], aggfunc='size')  # counts duplicates in the selected dataframe column."
   ]
  },
  {
   "cell_type": "code",
   "execution_count": 54,
   "id": "fb0cea7d",
   "metadata": {},
   "outputs": [
    {
     "data": {
      "text/plain": [
       "array(['Argentina', 'Armenia', 'Australia', 'Austria', 'Azerbaijan',\n",
       "       'Belgium', 'Brazil', 'Bulgaria', 'Canada', 'Chile', 'Colombia',\n",
       "       'Croatia', 'Cuba', 'Czech Republic', 'Denmark', 'Finland',\n",
       "       'France', 'Georgia', 'Germany', 'Greece', 'Hungary', 'Iceland',\n",
       "       'Ireland', 'Israel', 'Italy', 'Jamaica', 'Japan', 'Mexico',\n",
       "       'Mongolia', 'Netherlands', 'New Zealand', 'Norway', 'Poland',\n",
       "       'Portugal', 'Romania', 'Russian Federation', 'South Africa',\n",
       "       'Spain', 'Sweden', 'Switzerland', 'Thailand', 'Turkey',\n",
       "       'Turkmenistan', 'Ukraine', 'United Kingdom', 'United States',\n",
       "       'Uzbekistan'], dtype=object)"
      ]
     },
     "execution_count": 54,
     "metadata": {},
     "output_type": "execute_result"
    }
   ],
   "source": [
    "each_country = np.unique(sucidedataframe[[\"Country\"]].values)\n",
    "each_country"
   ]
  },
  {
   "cell_type": "code",
   "execution_count": 55,
   "id": "4d17d661",
   "metadata": {},
   "outputs": [
    {
     "name": "stdout",
     "output_type": "stream",
     "text": [
      "   Argentina  Armenia  Australia  Austria  Azerbaijan  Belgium  Brazil  \\\n",
      "0          1        0          0        0           0        0       0   \n",
      "1          1        0          0        0           0        0       0   \n",
      "2          1        0          0        0           0        0       0   \n",
      "3          1        0          0        0           0        0       0   \n",
      "4          1        0          0        0           0        0       0   \n",
      "\n",
      "   Bulgaria  Canada  Chile  ...  Spain  Sweden  Switzerland  Thailand  Turkey  \\\n",
      "0         0       0      0  ...      0       0            0         0       0   \n",
      "1         0       0      0  ...      0       0            0         0       0   \n",
      "2         0       0      0  ...      0       0            0         0       0   \n",
      "3         0       0      0  ...      0       0            0         0       0   \n",
      "4         0       0      0  ...      0       0            0         0       0   \n",
      "\n",
      "   Turkmenistan  Ukraine  United Kingdom  United States  Uzbekistan  \n",
      "0             0        0               0              0           0  \n",
      "1             0        0               0              0           0  \n",
      "2             0        0               0              0           0  \n",
      "3             0        0               0              0           0  \n",
      "4             0        0               0              0           0  \n",
      "\n",
      "[5 rows x 47 columns]\n"
     ]
    }
   ],
   "source": [
    "country = encodingoh(sucidedataframe[[\"Country\"]], None, each_country)"
   ]
  },
  {
   "cell_type": "code",
   "execution_count": 56,
   "id": "e2b6cf14",
   "metadata": {},
   "outputs": [
    {
     "data": {
      "text/html": [
       "<div>\n",
       "<style scoped>\n",
       "    .dataframe tbody tr th:only-of-type {\n",
       "        vertical-align: middle;\n",
       "    }\n",
       "\n",
       "    .dataframe tbody tr th {\n",
       "        vertical-align: top;\n",
       "    }\n",
       "\n",
       "    .dataframe thead th {\n",
       "        text-align: right;\n",
       "    }\n",
       "</style>\n",
       "<table border=\"1\" class=\"dataframe\">\n",
       "  <thead>\n",
       "    <tr style=\"text-align: right;\">\n",
       "      <th></th>\n",
       "      <th>Argentina</th>\n",
       "      <th>Armenia</th>\n",
       "      <th>Australia</th>\n",
       "      <th>Austria</th>\n",
       "      <th>Azerbaijan</th>\n",
       "      <th>Belgium</th>\n",
       "      <th>Brazil</th>\n",
       "      <th>Bulgaria</th>\n",
       "      <th>Canada</th>\n",
       "      <th>Chile</th>\n",
       "      <th>...</th>\n",
       "      <th>Population</th>\n",
       "      <th>Internet_Usage_per_percent_Population</th>\n",
       "      <th>Total_Labour_force</th>\n",
       "      <th>Cellular_subscriptions_per_100_people</th>\n",
       "      <th>GDPpyear</th>\n",
       "      <th>GDPpcapital</th>\n",
       "      <th>Expense_percent_of_GDP)</th>\n",
       "      <th>Physicians_per_1,000_people)</th>\n",
       "      <th>Refugee_population_by_country_or_territory_of_origin</th>\n",
       "      <th>Suicidesper100k</th>\n",
       "    </tr>\n",
       "  </thead>\n",
       "  <tbody>\n",
       "    <tr>\n",
       "      <th>0</th>\n",
       "      <td>1</td>\n",
       "      <td>0</td>\n",
       "      <td>0</td>\n",
       "      <td>0</td>\n",
       "      <td>0</td>\n",
       "      <td>0</td>\n",
       "      <td>0</td>\n",
       "      <td>0</td>\n",
       "      <td>0</td>\n",
       "      <td>0</td>\n",
       "      <td>...</td>\n",
       "      <td>363000</td>\n",
       "      <td>0</td>\n",
       "      <td>0</td>\n",
       "      <td>0.0</td>\n",
       "      <td>8.841667e+10</td>\n",
       "      <td>3264</td>\n",
       "      <td>0.0</td>\n",
       "      <td>0.0</td>\n",
       "      <td>0.0</td>\n",
       "      <td>55.65</td>\n",
       "    </tr>\n",
       "    <tr>\n",
       "      <th>1</th>\n",
       "      <td>1</td>\n",
       "      <td>0</td>\n",
       "      <td>0</td>\n",
       "      <td>0</td>\n",
       "      <td>0</td>\n",
       "      <td>0</td>\n",
       "      <td>0</td>\n",
       "      <td>0</td>\n",
       "      <td>0</td>\n",
       "      <td>0</td>\n",
       "      <td>...</td>\n",
       "      <td>1997000</td>\n",
       "      <td>0</td>\n",
       "      <td>0</td>\n",
       "      <td>0.0</td>\n",
       "      <td>8.841667e+10</td>\n",
       "      <td>3264</td>\n",
       "      <td>0.0</td>\n",
       "      <td>0.0</td>\n",
       "      <td>0.0</td>\n",
       "      <td>24.29</td>\n",
       "    </tr>\n",
       "    <tr>\n",
       "      <th>2</th>\n",
       "      <td>1</td>\n",
       "      <td>0</td>\n",
       "      <td>0</td>\n",
       "      <td>0</td>\n",
       "      <td>0</td>\n",
       "      <td>0</td>\n",
       "      <td>0</td>\n",
       "      <td>0</td>\n",
       "      <td>0</td>\n",
       "      <td>0</td>\n",
       "      <td>...</td>\n",
       "      <td>3346300</td>\n",
       "      <td>0</td>\n",
       "      <td>0</td>\n",
       "      <td>0.0</td>\n",
       "      <td>8.841667e+10</td>\n",
       "      <td>3264</td>\n",
       "      <td>0.0</td>\n",
       "      <td>0.0</td>\n",
       "      <td>0.0</td>\n",
       "      <td>12.37</td>\n",
       "    </tr>\n",
       "    <tr>\n",
       "      <th>3</th>\n",
       "      <td>1</td>\n",
       "      <td>0</td>\n",
       "      <td>0</td>\n",
       "      <td>0</td>\n",
       "      <td>0</td>\n",
       "      <td>0</td>\n",
       "      <td>0</td>\n",
       "      <td>0</td>\n",
       "      <td>0</td>\n",
       "      <td>0</td>\n",
       "      <td>...</td>\n",
       "      <td>2304000</td>\n",
       "      <td>0</td>\n",
       "      <td>0</td>\n",
       "      <td>0.0</td>\n",
       "      <td>8.841667e+10</td>\n",
       "      <td>3264</td>\n",
       "      <td>0.0</td>\n",
       "      <td>0.0</td>\n",
       "      <td>0.0</td>\n",
       "      <td>9.11</td>\n",
       "    </tr>\n",
       "    <tr>\n",
       "      <th>4</th>\n",
       "      <td>1</td>\n",
       "      <td>0</td>\n",
       "      <td>0</td>\n",
       "      <td>0</td>\n",
       "      <td>0</td>\n",
       "      <td>0</td>\n",
       "      <td>0</td>\n",
       "      <td>0</td>\n",
       "      <td>0</td>\n",
       "      <td>0</td>\n",
       "      <td>...</td>\n",
       "      <td>2234200</td>\n",
       "      <td>0</td>\n",
       "      <td>0</td>\n",
       "      <td>0.0</td>\n",
       "      <td>8.841667e+10</td>\n",
       "      <td>3264</td>\n",
       "      <td>0.0</td>\n",
       "      <td>0.0</td>\n",
       "      <td>0.0</td>\n",
       "      <td>7.92</td>\n",
       "    </tr>\n",
       "  </tbody>\n",
       "</table>\n",
       "<p>5 rows × 66 columns</p>\n",
       "</div>"
      ],
      "text/plain": [
       "   Argentina  Armenia  Australia  Austria  Azerbaijan  Belgium  Brazil  \\\n",
       "0          1        0          0        0           0        0       0   \n",
       "1          1        0          0        0           0        0       0   \n",
       "2          1        0          0        0           0        0       0   \n",
       "3          1        0          0        0           0        0       0   \n",
       "4          1        0          0        0           0        0       0   \n",
       "\n",
       "   Bulgaria  Canada  Chile  ...  Population  \\\n",
       "0         0       0      0  ...      363000   \n",
       "1         0       0      0  ...     1997000   \n",
       "2         0       0      0  ...     3346300   \n",
       "3         0       0      0  ...     2304000   \n",
       "4         0       0      0  ...     2234200   \n",
       "\n",
       "   Internet_Usage_per_percent_Population  Total_Labour_force  \\\n",
       "0                                      0                   0   \n",
       "1                                      0                   0   \n",
       "2                                      0                   0   \n",
       "3                                      0                   0   \n",
       "4                                      0                   0   \n",
       "\n",
       "   Cellular_subscriptions_per_100_people      GDPpyear  GDPpcapital  \\\n",
       "0                                    0.0  8.841667e+10         3264   \n",
       "1                                    0.0  8.841667e+10         3264   \n",
       "2                                    0.0  8.841667e+10         3264   \n",
       "3                                    0.0  8.841667e+10         3264   \n",
       "4                                    0.0  8.841667e+10         3264   \n",
       "\n",
       "   Expense_percent_of_GDP)  Physicians_per_1,000_people)  \\\n",
       "0                      0.0                           0.0   \n",
       "1                      0.0                           0.0   \n",
       "2                      0.0                           0.0   \n",
       "3                      0.0                           0.0   \n",
       "4                      0.0                           0.0   \n",
       "\n",
       "   Refugee_population_by_country_or_territory_of_origin  Suicidesper100k  \n",
       "0                                                0.0               55.65  \n",
       "1                                                0.0               24.29  \n",
       "2                                                0.0               12.37  \n",
       "3                                                0.0                9.11  \n",
       "4                                                0.0                7.92  \n",
       "\n",
       "[5 rows x 66 columns]"
      ]
     },
     "execution_count": 56,
     "metadata": {},
     "output_type": "execute_result"
    }
   ],
   "source": [
    "sucidedataframe = pd.concat([country,sucidedataframe],axis=1)\n",
    "sucidedataframe.head()"
   ]
  },
  {
   "cell_type": "markdown",
   "id": "15a69238",
   "metadata": {},
   "source": [
    "### Making lables"
   ]
  },
  {
   "cell_type": "code",
   "execution_count": 57,
   "id": "ae0fac72",
   "metadata": {},
   "outputs": [
    {
     "data": {
      "text/plain": [
       "159086.29999999938"
      ]
     },
     "execution_count": 57,
     "metadata": {},
     "output_type": "execute_result"
    }
   ],
   "source": [
    "sum(sucidedataframe.Suicidesper100k)"
   ]
  },
  {
   "cell_type": "code",
   "execution_count": 58,
   "id": "93bce5bc",
   "metadata": {},
   "outputs": [
    {
     "data": {
      "text/plain": [
       "79543.14999999969"
      ]
     },
     "execution_count": 58,
     "metadata": {},
     "output_type": "execute_result"
    }
   ],
   "source": [
    "159086.29999999938 / 2"
   ]
  },
  {
   "cell_type": "code",
   "execution_count": 59,
   "id": "46f28bf9",
   "metadata": {},
   "outputs": [
    {
     "data": {
      "text/plain": [
       "53028.76666666646"
      ]
     },
     "execution_count": 59,
     "metadata": {},
     "output_type": "execute_result"
    }
   ],
   "source": [
    "159086.29999999938 / 3"
   ]
  },
  {
   "cell_type": "code",
   "execution_count": 60,
   "id": "574f7cdf",
   "metadata": {},
   "outputs": [
    {
     "name": "stdout",
     "output_type": "stream",
     "text": [
      "first  3664\n",
      "second  7676\n",
      "max sucide_num len 7677\n",
      "min list  0.0 max list  135.22\n",
      "Median of data-set is : 7.67 \n",
      "min list1  0.0 max list1  177.61\n",
      "Median of data-set is : 7.61 \n"
     ]
    }
   ],
   "source": [
    "added_sucide = 0\n",
    "added_sucide1 = 0\n",
    "added_sucide2 = 0\n",
    "count = 0\n",
    "added_sucide_list = []\n",
    "added_sucide_list1 = []\n",
    "added_sucide_list2 = []\n",
    "max_sucide_num = 0\n",
    "for sucide_num in range(len(sucidedataframe.Suicidesper100k)):\n",
    "    max_sucide_num =  max_sucide_num + 1\n",
    "    if added_sucide < 53028.76666666646:\n",
    "        added_sucide = added_sucide + sucidedataframe.Suicidesper100k[sucide_num]\n",
    "        added_sucide_list.append(sucidedataframe.Suicidesper100k[sucide_num])\n",
    "        if added_sucide > 53028.76666666646 and count == 0:\n",
    "            print(\"first \", sucide_num)\n",
    "            count = 1\n",
    "    elif added_sucide >= 53028.76666666646:\n",
    "        added_sucide1 = added_sucide1 + sucidedataframe.Suicidesper100k[sucide_num]\n",
    "        added_sucide_list1.append(sucidedataframe.Suicidesper100k[sucide_num])\n",
    "        if added_sucide1 > 53028.76666666646 and count == 1:\n",
    "            print(\"second \", sucide_num)\n",
    "            print(\"max sucide_num len\" , max_sucide_num)\n",
    "            count = 2\n",
    "    else:\n",
    "        added_sucide2 = added_sucide2 + sucidedataframe.Suicidesper100k[sucide_num]\n",
    "        added_sucide_list2.append(sucidedataframe.Suicidesper100k[sucide_num])\n",
    "        print(\"third \", sucide_num)\n",
    "import statistics\n",
    " \n",
    "\n",
    "\n",
    "\n",
    "print(\"min list \", min(added_sucide_list) , \"max list \", max(added_sucide_list))\n",
    "print(\"Median of data-set is : % s \" % (statistics.median(added_sucide_list)))\n",
    "print(\"min list1 \", min(added_sucide_list1) , \"max list1 \", max(added_sucide_list1))\n",
    "print(\"Median of data-set is : % s \" % (statistics.median(added_sucide_list1)))\n",
    "#print(\"min list2 \", min(added_sucide_list2) , \"max list2 \", max(added_sucide_list2)) \n",
    "\n"
   ]
  },
  {
   "cell_type": "code",
   "execution_count": 61,
   "id": "25dd4071",
   "metadata": {},
   "outputs": [
    {
     "data": {
      "text/plain": [
       "7328"
      ]
     },
     "execution_count": 61,
     "metadata": {},
     "output_type": "execute_result"
    }
   ],
   "source": [
    "3664 * 2"
   ]
  },
  {
   "cell_type": "code",
   "execution_count": 62,
   "id": "535369b5",
   "metadata": {},
   "outputs": [
    {
     "name": "stdout",
     "output_type": "stream",
     "text": [
      "max  178\n",
      "high  89\n",
      "medium  44\n",
      "low  22\n",
      "min  11\n"
     ]
    }
   ],
   "source": [
    "print(\"max \", 178)\n",
    "print(\"high \", round(178/2))\n",
    "print(\"medium \", round(89/2))\n",
    "print(\"low \", round(44/2))\n",
    "print(\"min \", round(22/2))"
   ]
  },
  {
   "cell_type": "code",
   "execution_count": 63,
   "id": "3df93f63",
   "metadata": {},
   "outputs": [],
   "source": [
    "sucidedataframe.loc[(sucidedataframe[\"Suicidesper100k\"] < 11), \"Suicidesper100k\"] = 1 # Encoding values above 43 \n",
    "                                                # as and below 86 to 2."
   ]
  },
  {
   "cell_type": "code",
   "execution_count": 64,
   "id": "0dab8cdd",
   "metadata": {},
   "outputs": [],
   "source": [
    "sucidedataframe.loc[(sucidedataframe[\"Suicidesper100k\"] >= 11) & (sucidedataframe[\"Suicidesper100k\"] < 22), \"Suicidesper100k\"] = 2  # Encoding values above 43 \n",
    "                                                # as and below 86 to 2."
   ]
  },
  {
   "cell_type": "code",
   "execution_count": 65,
   "id": "8d351c10",
   "metadata": {},
   "outputs": [],
   "source": [
    "sucidedataframe.loc[(sucidedataframe[\"Suicidesper100k\"] >= 22) & (sucidedataframe[\"Suicidesper100k\"] < 44), \"Suicidesper100k\"] = 3 # Encoding values above 86 \n",
    "                                                # as and below 172 to 3."
   ]
  },
  {
   "cell_type": "code",
   "execution_count": 66,
   "id": "f303a675",
   "metadata": {},
   "outputs": [],
   "source": [
    "sucidedataframe.loc[(sucidedataframe[\"Suicidesper100k\"] >= 44) & (sucidedataframe[\"Suicidesper100k\"] < 89), \"Suicidesper100k\"] = 3  # Encoding values above 86 \n",
    "                                                # as and below 172 to 3."
   ]
  },
  {
   "cell_type": "code",
   "execution_count": 67,
   "id": "2cb40559",
   "metadata": {},
   "outputs": [],
   "source": [
    "sucidedataframe.loc[(sucidedataframe[\"Suicidesper100k\"] >= 89) & (sucidedataframe[\"Suicidesper100k\"] <= 178), \"Suicidesper100k\"] = 4  # Encoding values above 86 \n",
    "                                                # as and below 172 to 3."
   ]
  },
  {
   "cell_type": "code",
   "execution_count": 68,
   "id": "cb3abf39",
   "metadata": {},
   "outputs": [
    {
     "name": "stdout",
     "output_type": "stream",
     "text": [
      "Suicidesper100k\n",
      "1.0    7008\n",
      "2.0    2178\n",
      "3.0    2284\n",
      "4.0     112\n",
      "dtype: int64\n"
     ]
    }
   ],
   "source": [
    "print(sucidedataframe.pivot_table(columns=['Suicidesper100k'], aggfunc='size'))  # counts duplicates in the selected dataframe column."
   ]
  },
  {
   "cell_type": "code",
   "execution_count": 69,
   "id": "a91a42b5",
   "metadata": {},
   "outputs": [
    {
     "data": {
      "text/html": [
       "<div>\n",
       "<style scoped>\n",
       "    .dataframe tbody tr th:only-of-type {\n",
       "        vertical-align: middle;\n",
       "    }\n",
       "\n",
       "    .dataframe tbody tr th {\n",
       "        vertical-align: top;\n",
       "    }\n",
       "\n",
       "    .dataframe thead th {\n",
       "        text-align: right;\n",
       "    }\n",
       "</style>\n",
       "<table border=\"1\" class=\"dataframe\">\n",
       "  <thead>\n",
       "    <tr style=\"text-align: right;\">\n",
       "      <th></th>\n",
       "      <th>Argentina</th>\n",
       "      <th>Armenia</th>\n",
       "      <th>Australia</th>\n",
       "      <th>Austria</th>\n",
       "      <th>Azerbaijan</th>\n",
       "      <th>Belgium</th>\n",
       "      <th>Brazil</th>\n",
       "      <th>Bulgaria</th>\n",
       "      <th>Canada</th>\n",
       "      <th>Chile</th>\n",
       "      <th>...</th>\n",
       "      <th>Population</th>\n",
       "      <th>Internet_Usage_per_percent_Population</th>\n",
       "      <th>Total_Labour_force</th>\n",
       "      <th>Cellular_subscriptions_per_100_people</th>\n",
       "      <th>GDPpyear</th>\n",
       "      <th>GDPpcapital</th>\n",
       "      <th>Expense_percent_of_GDP)</th>\n",
       "      <th>Physicians_per_1,000_people)</th>\n",
       "      <th>Refugee_population_by_country_or_territory_of_origin</th>\n",
       "      <th>Suicidesper100k</th>\n",
       "    </tr>\n",
       "  </thead>\n",
       "  <tbody>\n",
       "    <tr>\n",
       "      <th>0</th>\n",
       "      <td>1</td>\n",
       "      <td>0</td>\n",
       "      <td>0</td>\n",
       "      <td>0</td>\n",
       "      <td>0</td>\n",
       "      <td>0</td>\n",
       "      <td>0</td>\n",
       "      <td>0</td>\n",
       "      <td>0</td>\n",
       "      <td>0</td>\n",
       "      <td>...</td>\n",
       "      <td>363000</td>\n",
       "      <td>0</td>\n",
       "      <td>0</td>\n",
       "      <td>0.0</td>\n",
       "      <td>8.841667e+10</td>\n",
       "      <td>3264</td>\n",
       "      <td>0.0</td>\n",
       "      <td>0.0</td>\n",
       "      <td>0.0</td>\n",
       "      <td>3.0</td>\n",
       "    </tr>\n",
       "    <tr>\n",
       "      <th>1</th>\n",
       "      <td>1</td>\n",
       "      <td>0</td>\n",
       "      <td>0</td>\n",
       "      <td>0</td>\n",
       "      <td>0</td>\n",
       "      <td>0</td>\n",
       "      <td>0</td>\n",
       "      <td>0</td>\n",
       "      <td>0</td>\n",
       "      <td>0</td>\n",
       "      <td>...</td>\n",
       "      <td>1997000</td>\n",
       "      <td>0</td>\n",
       "      <td>0</td>\n",
       "      <td>0.0</td>\n",
       "      <td>8.841667e+10</td>\n",
       "      <td>3264</td>\n",
       "      <td>0.0</td>\n",
       "      <td>0.0</td>\n",
       "      <td>0.0</td>\n",
       "      <td>3.0</td>\n",
       "    </tr>\n",
       "    <tr>\n",
       "      <th>2</th>\n",
       "      <td>1</td>\n",
       "      <td>0</td>\n",
       "      <td>0</td>\n",
       "      <td>0</td>\n",
       "      <td>0</td>\n",
       "      <td>0</td>\n",
       "      <td>0</td>\n",
       "      <td>0</td>\n",
       "      <td>0</td>\n",
       "      <td>0</td>\n",
       "      <td>...</td>\n",
       "      <td>3346300</td>\n",
       "      <td>0</td>\n",
       "      <td>0</td>\n",
       "      <td>0.0</td>\n",
       "      <td>8.841667e+10</td>\n",
       "      <td>3264</td>\n",
       "      <td>0.0</td>\n",
       "      <td>0.0</td>\n",
       "      <td>0.0</td>\n",
       "      <td>2.0</td>\n",
       "    </tr>\n",
       "    <tr>\n",
       "      <th>3</th>\n",
       "      <td>1</td>\n",
       "      <td>0</td>\n",
       "      <td>0</td>\n",
       "      <td>0</td>\n",
       "      <td>0</td>\n",
       "      <td>0</td>\n",
       "      <td>0</td>\n",
       "      <td>0</td>\n",
       "      <td>0</td>\n",
       "      <td>0</td>\n",
       "      <td>...</td>\n",
       "      <td>2304000</td>\n",
       "      <td>0</td>\n",
       "      <td>0</td>\n",
       "      <td>0.0</td>\n",
       "      <td>8.841667e+10</td>\n",
       "      <td>3264</td>\n",
       "      <td>0.0</td>\n",
       "      <td>0.0</td>\n",
       "      <td>0.0</td>\n",
       "      <td>1.0</td>\n",
       "    </tr>\n",
       "    <tr>\n",
       "      <th>4</th>\n",
       "      <td>1</td>\n",
       "      <td>0</td>\n",
       "      <td>0</td>\n",
       "      <td>0</td>\n",
       "      <td>0</td>\n",
       "      <td>0</td>\n",
       "      <td>0</td>\n",
       "      <td>0</td>\n",
       "      <td>0</td>\n",
       "      <td>0</td>\n",
       "      <td>...</td>\n",
       "      <td>2234200</td>\n",
       "      <td>0</td>\n",
       "      <td>0</td>\n",
       "      <td>0.0</td>\n",
       "      <td>8.841667e+10</td>\n",
       "      <td>3264</td>\n",
       "      <td>0.0</td>\n",
       "      <td>0.0</td>\n",
       "      <td>0.0</td>\n",
       "      <td>1.0</td>\n",
       "    </tr>\n",
       "  </tbody>\n",
       "</table>\n",
       "<p>5 rows × 66 columns</p>\n",
       "</div>"
      ],
      "text/plain": [
       "   Argentina  Armenia  Australia  Austria  Azerbaijan  Belgium  Brazil  \\\n",
       "0          1        0          0        0           0        0       0   \n",
       "1          1        0          0        0           0        0       0   \n",
       "2          1        0          0        0           0        0       0   \n",
       "3          1        0          0        0           0        0       0   \n",
       "4          1        0          0        0           0        0       0   \n",
       "\n",
       "   Bulgaria  Canada  Chile  ...  Population  \\\n",
       "0         0       0      0  ...      363000   \n",
       "1         0       0      0  ...     1997000   \n",
       "2         0       0      0  ...     3346300   \n",
       "3         0       0      0  ...     2304000   \n",
       "4         0       0      0  ...     2234200   \n",
       "\n",
       "   Internet_Usage_per_percent_Population  Total_Labour_force  \\\n",
       "0                                      0                   0   \n",
       "1                                      0                   0   \n",
       "2                                      0                   0   \n",
       "3                                      0                   0   \n",
       "4                                      0                   0   \n",
       "\n",
       "   Cellular_subscriptions_per_100_people      GDPpyear  GDPpcapital  \\\n",
       "0                                    0.0  8.841667e+10         3264   \n",
       "1                                    0.0  8.841667e+10         3264   \n",
       "2                                    0.0  8.841667e+10         3264   \n",
       "3                                    0.0  8.841667e+10         3264   \n",
       "4                                    0.0  8.841667e+10         3264   \n",
       "\n",
       "   Expense_percent_of_GDP)  Physicians_per_1,000_people)  \\\n",
       "0                      0.0                           0.0   \n",
       "1                      0.0                           0.0   \n",
       "2                      0.0                           0.0   \n",
       "3                      0.0                           0.0   \n",
       "4                      0.0                           0.0   \n",
       "\n",
       "   Refugee_population_by_country_or_territory_of_origin  Suicidesper100k  \n",
       "0                                                0.0                 3.0  \n",
       "1                                                0.0                 3.0  \n",
       "2                                                0.0                 2.0  \n",
       "3                                                0.0                 1.0  \n",
       "4                                                0.0                 1.0  \n",
       "\n",
       "[5 rows x 66 columns]"
      ]
     },
     "execution_count": 69,
     "metadata": {},
     "output_type": "execute_result"
    }
   ],
   "source": [
    "sucidedataframe.head()"
   ]
  },
  {
   "cell_type": "code",
   "execution_count": 70,
   "id": "a9e82e95",
   "metadata": {},
   "outputs": [
    {
     "name": "stdout",
     "output_type": "stream",
     "text": [
      "\n"
     ]
    }
   ],
   "source": [
    "for i in sucidedataframe.Suicidesper100k:\n",
    "    print()\n",
    "    break"
   ]
  },
  {
   "cell_type": "code",
   "execution_count": 71,
   "id": "9375c48e",
   "metadata": {},
   "outputs": [
    {
     "name": "stdout",
     "output_type": "stream",
     "text": [
      "<class 'pandas.core.frame.DataFrame'>\n",
      "RangeIndex: 11582 entries, 0 to 11581\n",
      "Data columns (total 66 columns):\n",
      " #   Column                                                Non-Null Count  Dtype  \n",
      "---  ------                                                --------------  -----  \n",
      " 0   Argentina                                             11582 non-null  int32  \n",
      " 1   Armenia                                               11582 non-null  int32  \n",
      " 2   Australia                                             11582 non-null  int32  \n",
      " 3   Austria                                               11582 non-null  int32  \n",
      " 4   Azerbaijan                                            11582 non-null  int32  \n",
      " 5   Belgium                                               11582 non-null  int32  \n",
      " 6   Brazil                                                11582 non-null  int32  \n",
      " 7   Bulgaria                                              11582 non-null  int32  \n",
      " 8   Canada                                                11582 non-null  int32  \n",
      " 9   Chile                                                 11582 non-null  int32  \n",
      " 10  Colombia                                              11582 non-null  int32  \n",
      " 11  Croatia                                               11582 non-null  int32  \n",
      " 12  Cuba                                                  11582 non-null  int32  \n",
      " 13  Czech Republic                                        11582 non-null  int32  \n",
      " 14  Denmark                                               11582 non-null  int32  \n",
      " 15  Finland                                               11582 non-null  int32  \n",
      " 16  France                                                11582 non-null  int32  \n",
      " 17  Georgia                                               11582 non-null  int32  \n",
      " 18  Germany                                               11582 non-null  int32  \n",
      " 19  Greece                                                11582 non-null  int32  \n",
      " 20  Hungary                                               11582 non-null  int32  \n",
      " 21  Iceland                                               11582 non-null  int32  \n",
      " 22  Ireland                                               11582 non-null  int32  \n",
      " 23  Israel                                                11582 non-null  int32  \n",
      " 24  Italy                                                 11582 non-null  int32  \n",
      " 25  Jamaica                                               11582 non-null  int32  \n",
      " 26  Japan                                                 11582 non-null  int32  \n",
      " 27  Mexico                                                11582 non-null  int32  \n",
      " 28  Mongolia                                              11582 non-null  int32  \n",
      " 29  Netherlands                                           11582 non-null  int32  \n",
      " 30  New Zealand                                           11582 non-null  int32  \n",
      " 31  Norway                                                11582 non-null  int32  \n",
      " 32  Poland                                                11582 non-null  int32  \n",
      " 33  Portugal                                              11582 non-null  int32  \n",
      " 34  Romania                                               11582 non-null  int32  \n",
      " 35  Russian Federation                                    11582 non-null  int32  \n",
      " 36  South Africa                                          11582 non-null  int32  \n",
      " 37  Spain                                                 11582 non-null  int32  \n",
      " 38  Sweden                                                11582 non-null  int32  \n",
      " 39  Switzerland                                           11582 non-null  int32  \n",
      " 40  Thailand                                              11582 non-null  int32  \n",
      " 41  Turkey                                                11582 non-null  int32  \n",
      " 42  Turkmenistan                                          11582 non-null  int32  \n",
      " 43  Ukraine                                               11582 non-null  int32  \n",
      " 44  United Kingdom                                        11582 non-null  int32  \n",
      " 45  United States                                         11582 non-null  int32  \n",
      " 46  Uzbekistan                                            11582 non-null  int32  \n",
      " 47  15-24 years                                           11582 non-null  int32  \n",
      " 48  25-34 years                                           11582 non-null  int32  \n",
      " 49  35-54 years                                           11582 non-null  int32  \n",
      " 50  5-14 years                                            11582 non-null  int32  \n",
      " 51  55-74 years                                           11582 non-null  int32  \n",
      " 52  75+ years                                             11582 non-null  int32  \n",
      " 53  Gender                                                11582 non-null  int32  \n",
      " 54  Country                                               11582 non-null  object \n",
      " 55  Year                                                  11582 non-null  int64  \n",
      " 56  Population                                            11582 non-null  int64  \n",
      " 57  Internet_Usage_per_percent_Population                 11582 non-null  int64  \n",
      " 58  Total_Labour_force                                    11582 non-null  int64  \n",
      " 59  Cellular_subscriptions_per_100_people                 11582 non-null  float64\n",
      " 60  GDPpyear                                              11582 non-null  float64\n",
      " 61  GDPpcapital                                           11582 non-null  int64  \n",
      " 62  Expense_percent_of_GDP)                               11582 non-null  float64\n",
      " 63  Physicians_per_1,000_people)                          11582 non-null  float64\n",
      " 64  Refugee_population_by_country_or_territory_of_origin  11582 non-null  float64\n",
      " 65  Suicidesper100k                                       11582 non-null  float64\n",
      "dtypes: float64(6), int32(54), int64(5), object(1)\n",
      "memory usage: 3.4+ MB\n"
     ]
    }
   ],
   "source": [
    "sucidedataframe.info()  # checking Basic information on the dataframe being procesed."
   ]
  },
  {
   "cell_type": "code",
   "execution_count": 72,
   "id": "15ac4791",
   "metadata": {},
   "outputs": [],
   "source": [
    "sucidedataframe['Cellular_subscriptions_per_100_people'] = sucidedataframe['Cellular_subscriptions_per_100_people'].astype(np.int64)  # converting float to int."
   ]
  },
  {
   "cell_type": "code",
   "execution_count": 73,
   "id": "61073da7",
   "metadata": {},
   "outputs": [],
   "source": [
    "sucidedataframe['Suicidesper100k'] = sucidedataframe['Suicidesper100k'].astype(np.int64)  # converting float to int."
   ]
  },
  {
   "cell_type": "code",
   "execution_count": 74,
   "id": "3d5939bc",
   "metadata": {},
   "outputs": [],
   "source": [
    "sucidedataframe['GDPpyear'] = sucidedataframe['GDPpyear'].astype(np.int64)  # converting float to int."
   ]
  },
  {
   "cell_type": "code",
   "execution_count": 75,
   "id": "a07dc163",
   "metadata": {},
   "outputs": [],
   "source": [
    "sucidedataframe['Expense_percent_of_GDP)'] = sucidedataframe['Expense_percent_of_GDP)'].astype(np.int64)  # converting float to int."
   ]
  },
  {
   "cell_type": "code",
   "execution_count": 76,
   "id": "53decf37",
   "metadata": {},
   "outputs": [],
   "source": [
    "sucidedataframe['Physicians_per_1,000_people)'] = sucidedataframe['Physicians_per_1,000_people)'].astype(np.int64)  # converting float to int."
   ]
  },
  {
   "cell_type": "code",
   "execution_count": 77,
   "id": "0e09c692",
   "metadata": {},
   "outputs": [],
   "source": [
    "sucidedataframe['Refugee_population_by_country_or_territory_of_origin'] = sucidedataframe['Refugee_population_by_country_or_territory_of_origin'].astype(np.int64)  # converting float to int."
   ]
  },
  {
   "cell_type": "code",
   "execution_count": 78,
   "id": "bbd9661b",
   "metadata": {},
   "outputs": [
    {
     "name": "stdout",
     "output_type": "stream",
     "text": [
      "<class 'pandas.core.frame.DataFrame'>\n",
      "RangeIndex: 11582 entries, 0 to 11581\n",
      "Data columns (total 66 columns):\n",
      " #   Column                                                Non-Null Count  Dtype \n",
      "---  ------                                                --------------  ----- \n",
      " 0   Argentina                                             11582 non-null  int32 \n",
      " 1   Armenia                                               11582 non-null  int32 \n",
      " 2   Australia                                             11582 non-null  int32 \n",
      " 3   Austria                                               11582 non-null  int32 \n",
      " 4   Azerbaijan                                            11582 non-null  int32 \n",
      " 5   Belgium                                               11582 non-null  int32 \n",
      " 6   Brazil                                                11582 non-null  int32 \n",
      " 7   Bulgaria                                              11582 non-null  int32 \n",
      " 8   Canada                                                11582 non-null  int32 \n",
      " 9   Chile                                                 11582 non-null  int32 \n",
      " 10  Colombia                                              11582 non-null  int32 \n",
      " 11  Croatia                                               11582 non-null  int32 \n",
      " 12  Cuba                                                  11582 non-null  int32 \n",
      " 13  Czech Republic                                        11582 non-null  int32 \n",
      " 14  Denmark                                               11582 non-null  int32 \n",
      " 15  Finland                                               11582 non-null  int32 \n",
      " 16  France                                                11582 non-null  int32 \n",
      " 17  Georgia                                               11582 non-null  int32 \n",
      " 18  Germany                                               11582 non-null  int32 \n",
      " 19  Greece                                                11582 non-null  int32 \n",
      " 20  Hungary                                               11582 non-null  int32 \n",
      " 21  Iceland                                               11582 non-null  int32 \n",
      " 22  Ireland                                               11582 non-null  int32 \n",
      " 23  Israel                                                11582 non-null  int32 \n",
      " 24  Italy                                                 11582 non-null  int32 \n",
      " 25  Jamaica                                               11582 non-null  int32 \n",
      " 26  Japan                                                 11582 non-null  int32 \n",
      " 27  Mexico                                                11582 non-null  int32 \n",
      " 28  Mongolia                                              11582 non-null  int32 \n",
      " 29  Netherlands                                           11582 non-null  int32 \n",
      " 30  New Zealand                                           11582 non-null  int32 \n",
      " 31  Norway                                                11582 non-null  int32 \n",
      " 32  Poland                                                11582 non-null  int32 \n",
      " 33  Portugal                                              11582 non-null  int32 \n",
      " 34  Romania                                               11582 non-null  int32 \n",
      " 35  Russian Federation                                    11582 non-null  int32 \n",
      " 36  South Africa                                          11582 non-null  int32 \n",
      " 37  Spain                                                 11582 non-null  int32 \n",
      " 38  Sweden                                                11582 non-null  int32 \n",
      " 39  Switzerland                                           11582 non-null  int32 \n",
      " 40  Thailand                                              11582 non-null  int32 \n",
      " 41  Turkey                                                11582 non-null  int32 \n",
      " 42  Turkmenistan                                          11582 non-null  int32 \n",
      " 43  Ukraine                                               11582 non-null  int32 \n",
      " 44  United Kingdom                                        11582 non-null  int32 \n",
      " 45  United States                                         11582 non-null  int32 \n",
      " 46  Uzbekistan                                            11582 non-null  int32 \n",
      " 47  15-24 years                                           11582 non-null  int32 \n",
      " 48  25-34 years                                           11582 non-null  int32 \n",
      " 49  35-54 years                                           11582 non-null  int32 \n",
      " 50  5-14 years                                            11582 non-null  int32 \n",
      " 51  55-74 years                                           11582 non-null  int32 \n",
      " 52  75+ years                                             11582 non-null  int32 \n",
      " 53  Gender                                                11582 non-null  int32 \n",
      " 54  Country                                               11582 non-null  object\n",
      " 55  Year                                                  11582 non-null  int64 \n",
      " 56  Population                                            11582 non-null  int64 \n",
      " 57  Internet_Usage_per_percent_Population                 11582 non-null  int64 \n",
      " 58  Total_Labour_force                                    11582 non-null  int64 \n",
      " 59  Cellular_subscriptions_per_100_people                 11582 non-null  int64 \n",
      " 60  GDPpyear                                              11582 non-null  int64 \n",
      " 61  GDPpcapital                                           11582 non-null  int64 \n",
      " 62  Expense_percent_of_GDP)                               11582 non-null  int64 \n",
      " 63  Physicians_per_1,000_people)                          11582 non-null  int64 \n",
      " 64  Refugee_population_by_country_or_territory_of_origin  11582 non-null  int64 \n",
      " 65  Suicidesper100k                                       11582 non-null  int64 \n",
      "dtypes: int32(54), int64(11), object(1)\n",
      "memory usage: 3.4+ MB\n"
     ]
    }
   ],
   "source": [
    "sucidedataframe.info()  # checking Basic information on the dataframe being procesed."
   ]
  },
  {
   "cell_type": "code",
   "execution_count": 79,
   "id": "af44ca0d",
   "metadata": {},
   "outputs": [
    {
     "data": {
      "text/plain": [
       "<AxesSubplot:>"
      ]
     },
     "execution_count": 79,
     "metadata": {},
     "output_type": "execute_result"
    },
    {
     "data": {
      "image/png": "[encoded data removed]",
      "text/plain": [
       "<Figure size 4680x4680 with 2 Axes>"
      ]
     },
     "metadata": {
      "needs_background": "light"
     },
     "output_type": "display_data"
    }
   ],
   "source": [
    "plt.figure(figsize = (65,65))  # sets the size of the matrix\n",
    "correlation_matrix = sucidedataframe.corr().round(2) *100  # creates the correlation matrix\n",
    "sns.heatmap(data = correlation_matrix, annot = True)  # shows correlation matrix"
   ]
  },
  {
   "cell_type": "code",
   "execution_count": 80,
   "id": "9da501ff",
   "metadata": {},
   "outputs": [],
   "source": [
    "# COLUMNS TO KEEP\n",
    "\n",
    "\n",
    "# columns to remove from the above\n",
    "\n",
    "\n"
   ]
  },
  {
   "cell_type": "code",
   "execution_count": 81,
   "id": "3288487c",
   "metadata": {},
   "outputs": [
    {
     "ename": "KeyError",
     "evalue": "\"['Columntobedropped'] not found in axis\"",
     "output_type": "error",
     "traceback": [
      "\u001b[1;31m---------------------------------------------------------------------------\u001b[0m",
      "\u001b[1;31mKeyError\u001b[0m                                  Traceback (most recent call last)",
      "\u001b[1;32m<ipython-input-81-93b04fdbcd96>\u001b[0m in \u001b[0;36m<module>\u001b[1;34m\u001b[0m\n\u001b[1;32m----> 1\u001b[1;33m \u001b[0msucidedataframe\u001b[0m \u001b[1;33m=\u001b[0m \u001b[0msucidedataframe\u001b[0m\u001b[1;33m.\u001b[0m\u001b[0mdrop\u001b[0m\u001b[1;33m(\u001b[0m\u001b[1;34m'Columntobedropped'\u001b[0m\u001b[1;33m,\u001b[0m \u001b[1;36m1\u001b[0m\u001b[1;33m)\u001b[0m\u001b[1;33m\u001b[0m\u001b[1;33m\u001b[0m\u001b[0m\n\u001b[0m",
      "\u001b[1;32m~\\anaconda3\\lib\\site-packages\\pandas\\core\\frame.py\u001b[0m in \u001b[0;36mdrop\u001b[1;34m(self, labels, axis, index, columns, level, inplace, errors)\u001b[0m\n\u001b[0;32m   4306\u001b[0m                 \u001b[0mweight\u001b[0m  \u001b[1;36m1.0\u001b[0m     \u001b[1;36m0.8\u001b[0m\u001b[1;33m\u001b[0m\u001b[1;33m\u001b[0m\u001b[0m\n\u001b[0;32m   4307\u001b[0m         \"\"\"\n\u001b[1;32m-> 4308\u001b[1;33m         return super().drop(\n\u001b[0m\u001b[0;32m   4309\u001b[0m             \u001b[0mlabels\u001b[0m\u001b[1;33m=\u001b[0m\u001b[0mlabels\u001b[0m\u001b[1;33m,\u001b[0m\u001b[1;33m\u001b[0m\u001b[1;33m\u001b[0m\u001b[0m\n\u001b[0;32m   4310\u001b[0m             \u001b[0maxis\u001b[0m\u001b[1;33m=\u001b[0m\u001b[0maxis\u001b[0m\u001b[1;33m,\u001b[0m\u001b[1;33m\u001b[0m\u001b[1;33m\u001b[0m\u001b[0m\n",
      "\u001b[1;32m~\\anaconda3\\lib\\site-packages\\pandas\\core\\generic.py\u001b[0m in \u001b[0;36mdrop\u001b[1;34m(self, labels, axis, index, columns, level, inplace, errors)\u001b[0m\n\u001b[0;32m   4151\u001b[0m         \u001b[1;32mfor\u001b[0m \u001b[0maxis\u001b[0m\u001b[1;33m,\u001b[0m \u001b[0mlabels\u001b[0m \u001b[1;32min\u001b[0m \u001b[0maxes\u001b[0m\u001b[1;33m.\u001b[0m\u001b[0mitems\u001b[0m\u001b[1;33m(\u001b[0m\u001b[1;33m)\u001b[0m\u001b[1;33m:\u001b[0m\u001b[1;33m\u001b[0m\u001b[1;33m\u001b[0m\u001b[0m\n\u001b[0;32m   4152\u001b[0m             \u001b[1;32mif\u001b[0m \u001b[0mlabels\u001b[0m \u001b[1;32mis\u001b[0m \u001b[1;32mnot\u001b[0m \u001b[1;32mNone\u001b[0m\u001b[1;33m:\u001b[0m\u001b[1;33m\u001b[0m\u001b[1;33m\u001b[0m\u001b[0m\n\u001b[1;32m-> 4153\u001b[1;33m                 \u001b[0mobj\u001b[0m \u001b[1;33m=\u001b[0m \u001b[0mobj\u001b[0m\u001b[1;33m.\u001b[0m\u001b[0m_drop_axis\u001b[0m\u001b[1;33m(\u001b[0m\u001b[0mlabels\u001b[0m\u001b[1;33m,\u001b[0m \u001b[0maxis\u001b[0m\u001b[1;33m,\u001b[0m \u001b[0mlevel\u001b[0m\u001b[1;33m=\u001b[0m\u001b[0mlevel\u001b[0m\u001b[1;33m,\u001b[0m \u001b[0merrors\u001b[0m\u001b[1;33m=\u001b[0m\u001b[0merrors\u001b[0m\u001b[1;33m)\u001b[0m\u001b[1;33m\u001b[0m\u001b[1;33m\u001b[0m\u001b[0m\n\u001b[0m\u001b[0;32m   4154\u001b[0m \u001b[1;33m\u001b[0m\u001b[0m\n\u001b[0;32m   4155\u001b[0m         \u001b[1;32mif\u001b[0m \u001b[0minplace\u001b[0m\u001b[1;33m:\u001b[0m\u001b[1;33m\u001b[0m\u001b[1;33m\u001b[0m\u001b[0m\n",
      "\u001b[1;32m~\\anaconda3\\lib\\site-packages\\pandas\\core\\generic.py\u001b[0m in \u001b[0;36m_drop_axis\u001b[1;34m(self, labels, axis, level, errors)\u001b[0m\n\u001b[0;32m   4186\u001b[0m                 \u001b[0mnew_axis\u001b[0m \u001b[1;33m=\u001b[0m \u001b[0maxis\u001b[0m\u001b[1;33m.\u001b[0m\u001b[0mdrop\u001b[0m\u001b[1;33m(\u001b[0m\u001b[0mlabels\u001b[0m\u001b[1;33m,\u001b[0m \u001b[0mlevel\u001b[0m\u001b[1;33m=\u001b[0m\u001b[0mlevel\u001b[0m\u001b[1;33m,\u001b[0m \u001b[0merrors\u001b[0m\u001b[1;33m=\u001b[0m\u001b[0merrors\u001b[0m\u001b[1;33m)\u001b[0m\u001b[1;33m\u001b[0m\u001b[1;33m\u001b[0m\u001b[0m\n\u001b[0;32m   4187\u001b[0m             \u001b[1;32melse\u001b[0m\u001b[1;33m:\u001b[0m\u001b[1;33m\u001b[0m\u001b[1;33m\u001b[0m\u001b[0m\n\u001b[1;32m-> 4188\u001b[1;33m                 \u001b[0mnew_axis\u001b[0m \u001b[1;33m=\u001b[0m \u001b[0maxis\u001b[0m\u001b[1;33m.\u001b[0m\u001b[0mdrop\u001b[0m\u001b[1;33m(\u001b[0m\u001b[0mlabels\u001b[0m\u001b[1;33m,\u001b[0m \u001b[0merrors\u001b[0m\u001b[1;33m=\u001b[0m\u001b[0merrors\u001b[0m\u001b[1;33m)\u001b[0m\u001b[1;33m\u001b[0m\u001b[1;33m\u001b[0m\u001b[0m\n\u001b[0m\u001b[0;32m   4189\u001b[0m             \u001b[0mresult\u001b[0m \u001b[1;33m=\u001b[0m \u001b[0mself\u001b[0m\u001b[1;33m.\u001b[0m\u001b[0mreindex\u001b[0m\u001b[1;33m(\u001b[0m\u001b[1;33m**\u001b[0m\u001b[1;33m{\u001b[0m\u001b[0maxis_name\u001b[0m\u001b[1;33m:\u001b[0m \u001b[0mnew_axis\u001b[0m\u001b[1;33m}\u001b[0m\u001b[1;33m)\u001b[0m\u001b[1;33m\u001b[0m\u001b[1;33m\u001b[0m\u001b[0m\n\u001b[0;32m   4190\u001b[0m \u001b[1;33m\u001b[0m\u001b[0m\n",
      "\u001b[1;32m~\\anaconda3\\lib\\site-packages\\pandas\\core\\indexes\\base.py\u001b[0m in \u001b[0;36mdrop\u001b[1;34m(self, labels, errors)\u001b[0m\n\u001b[0;32m   5589\u001b[0m         \u001b[1;32mif\u001b[0m \u001b[0mmask\u001b[0m\u001b[1;33m.\u001b[0m\u001b[0many\u001b[0m\u001b[1;33m(\u001b[0m\u001b[1;33m)\u001b[0m\u001b[1;33m:\u001b[0m\u001b[1;33m\u001b[0m\u001b[1;33m\u001b[0m\u001b[0m\n\u001b[0;32m   5590\u001b[0m             \u001b[1;32mif\u001b[0m \u001b[0merrors\u001b[0m \u001b[1;33m!=\u001b[0m \u001b[1;34m\"ignore\"\u001b[0m\u001b[1;33m:\u001b[0m\u001b[1;33m\u001b[0m\u001b[1;33m\u001b[0m\u001b[0m\n\u001b[1;32m-> 5591\u001b[1;33m                 \u001b[1;32mraise\u001b[0m \u001b[0mKeyError\u001b[0m\u001b[1;33m(\u001b[0m\u001b[1;34mf\"{labels[mask]} not found in axis\"\u001b[0m\u001b[1;33m)\u001b[0m\u001b[1;33m\u001b[0m\u001b[1;33m\u001b[0m\u001b[0m\n\u001b[0m\u001b[0;32m   5592\u001b[0m             \u001b[0mindexer\u001b[0m \u001b[1;33m=\u001b[0m \u001b[0mindexer\u001b[0m\u001b[1;33m[\u001b[0m\u001b[1;33m~\u001b[0m\u001b[0mmask\u001b[0m\u001b[1;33m]\u001b[0m\u001b[1;33m\u001b[0m\u001b[1;33m\u001b[0m\u001b[0m\n\u001b[0;32m   5593\u001b[0m         \u001b[1;32mreturn\u001b[0m \u001b[0mself\u001b[0m\u001b[1;33m.\u001b[0m\u001b[0mdelete\u001b[0m\u001b[1;33m(\u001b[0m\u001b[0mindexer\u001b[0m\u001b[1;33m)\u001b[0m\u001b[1;33m\u001b[0m\u001b[1;33m\u001b[0m\u001b[0m\n",
      "\u001b[1;31mKeyError\u001b[0m: \"['Columntobedropped'] not found in axis\""
     ]
    }
   ],
   "source": [
    "sucidedataframe = sucidedataframe.drop('Columntobedropped', 1)"
   ]
  },
  {
   "cell_type": "code",
   "execution_count": null,
   "id": "e5cbdbdb",
   "metadata": {
    "scrolled": true
   },
   "outputs": [],
   "source": []
  },
  {
   "cell_type": "code",
   "execution_count": null,
   "id": "9e54acee",
   "metadata": {},
   "outputs": [],
   "source": []
  },
  {
   "cell_type": "code",
   "execution_count": null,
   "id": "22815fa0",
   "metadata": {},
   "outputs": [],
   "source": []
  },
  {
   "cell_type": "markdown",
   "id": "d4a78be8",
   "metadata": {},
   "source": [
    "### selecting X and Y values "
   ]
  },
  {
   "cell_type": "code",
   "execution_count": null,
   "id": "d65250f6",
   "metadata": {},
   "outputs": [],
   "source": [
    "X = sucidedataframe.iloc[:, :-1].values  # selecting the values for the X variable.\n",
    "X_before_encoding = X"
   ]
  },
  {
   "cell_type": "code",
   "execution_count": null,
   "id": "1e00b66b",
   "metadata": {},
   "outputs": [],
   "source": [
    "y = sucidedataframe[[\"Suicidesper100k\"]].to_numpy()  # selecting the values for the Y variable. # done using .to_numpy and not \n",
    "                                                       # .iloc as .to_numpy creates a horizontal bar while .iloc creates a \n",
    "                                                       # horizontal bar which will not alighn with the x values."
   ]
  },
  {
   "cell_type": "markdown",
   "id": "e7f842b6",
   "metadata": {},
   "source": [
    "## Spliting the datasets into a training and test set "
   ]
  },
  {
   "cell_type": "code",
   "execution_count": null,
   "id": "a5234297",
   "metadata": {},
   "outputs": [],
   "source": [
    "X_train, X_test, y_train, y_test = train_test_split(X, y, test_size = 0.2, random_state = 1)\n",
    "# test_size = 0.2               # splitting the data into 80 and 20 percent between the training and test set           \n",
    "                                            # to get the best results.                                                           \n",
    "# random_state = 1         # resetting the  random seed"
   ]
  },
  {
   "cell_type": "code",
   "execution_count": null,
   "id": "f71883a8",
   "metadata": {},
   "outputs": [],
   "source": [
    "UnScaled_X_train,UnScaled_X_test, y_train, y_test = train_test_split(X, y, test_size = 0.2, random_state = 1)\n",
    "# test_size = 0.2               # splitting the data into 80 and 20 percent between the training and test set           \n",
    "                                            # to get the best results.                                                           \n",
    "# random_state = 1         # resetting the  random seed"
   ]
  },
  {
   "cell_type": "code",
   "execution_count": null,
   "id": "5d0b568a",
   "metadata": {},
   "outputs": [],
   "source": [
    "# print the lenghth of both test and train set to see if there equally split.\n",
    "print(\"The length of X_train is \",len(X_train), \" and the length of y_train is \", len(y_train))  \n",
    "print(\"The length of X_test is \",len(X_test), \" and the length of y_test is \", len(y_test))"
   ]
  },
  {
   "cell_type": "code",
   "execution_count": null,
   "id": "08e87fc9",
   "metadata": {},
   "outputs": [],
   "source": [
    "# print both test and train set to see them.\n",
    "print(\"X_test \", X_test, \"\\ny_test \", y_test, \"\\nX_train \", X_train, \"\\ny_train \", y_train)"
   ]
  },
  {
   "cell_type": "code",
   "execution_count": null,
   "id": "84367258",
   "metadata": {},
   "outputs": [],
   "source": [
    "# print both test and train set to see them.\n",
    "print(\"X_test \", X_test, \"\\ny_test \", y_test, \"\\nX_train \", X_train, \"\\ny_train \", y_train)"
   ]
  },
  {
   "cell_type": "code",
   "execution_count": null,
   "id": "33c0ad75",
   "metadata": {},
   "outputs": [],
   "source": [
    "UnScaled_X_train[0][49]"
   ]
  },
  {
   "cell_type": "code",
   "execution_count": null,
   "id": "50fd2c9e",
   "metadata": {},
   "outputs": [],
   "source": [
    "UnScaled_X_test[0][49]"
   ]
  },
  {
   "cell_type": "markdown",
   "id": "83512843",
   "metadata": {},
   "source": [
    "## Feature Scaling "
   ]
  },
  {
   "cell_type": "code",
   "execution_count": null,
   "id": "86b0e42b",
   "metadata": {},
   "outputs": [],
   "source": [
    "print(X_before_encoding[0])"
   ]
  },
  {
   "cell_type": "code",
   "execution_count": null,
   "id": "a723aa22",
   "metadata": {},
   "outputs": [],
   "source": [
    "print(X[0][49])"
   ]
  },
  {
   "cell_type": "code",
   "execution_count": null,
   "id": "c3791c50",
   "metadata": {},
   "outputs": [],
   "source": [
    "X_train[0][49]  # checking element in the 0th index"
   ]
  },
  {
   "cell_type": "code",
   "execution_count": null,
   "id": "7bbde5bc",
   "metadata": {},
   "outputs": [],
   "source": [
    "sc = StandardScaler()  # creating an instance of the object.\n",
    "\n",
    "X_train[:, 49:] = sc.fit_transform(X_train[:, 49:])  # Scaling x_train\n",
    "X_test[:,49:] = sc.transform(X_test[:, 49:])  # Scaling y_train"
   ]
  },
  {
   "cell_type": "code",
   "execution_count": null,
   "id": "99495342",
   "metadata": {},
   "outputs": [],
   "source": [
    "print(\"X_test \", X_test,\"\\n\\nX_train \", X_train)  # printing the sets after feature scaling."
   ]
  },
  {
   "cell_type": "code",
   "execution_count": null,
   "id": "ccf654b9",
   "metadata": {},
   "outputs": [],
   "source": [
    "X_train[0][49]"
   ]
  },
  {
   "cell_type": "code",
   "execution_count": null,
   "id": "1d531477",
   "metadata": {},
   "outputs": [],
   "source": [
    "UnScaled_X_train[0][49]"
   ]
  },
  {
   "cell_type": "code",
   "execution_count": null,
   "id": "caa6f5bd",
   "metadata": {},
   "outputs": [],
   "source": [
    "X_test[0][49]"
   ]
  },
  {
   "cell_type": "code",
   "execution_count": null,
   "id": "ceb13861",
   "metadata": {},
   "outputs": [],
   "source": [
    "UnScaled_X_test[0][49]"
   ]
  },
  {
   "cell_type": "code",
   "execution_count": null,
   "id": "f71d45b1",
   "metadata": {},
   "outputs": [],
   "source": []
  },
  {
   "cell_type": "code",
   "execution_count": null,
   "id": "f89ce7b5",
   "metadata": {},
   "outputs": [],
   "source": []
  },
  {
   "cell_type": "code",
   "execution_count": null,
   "id": "fb30b8c6",
   "metadata": {},
   "outputs": [],
   "source": []
  },
  {
   "cell_type": "code",
   "execution_count": null,
   "id": "ae5c0a33",
   "metadata": {},
   "outputs": [],
   "source": []
  },
  {
   "cell_type": "code",
   "execution_count": null,
   "id": "a7c06cd1",
   "metadata": {},
   "outputs": [],
   "source": []
  }
 ],
 "metadata": {
  "kernelspec": {
   "display_name": "Python 3",
   "language": "python",
   "name": "python3"
  },
  "language_info": {
   "codemirror_mode": {
    "name": "ipython",
    "version": 3
   },
   "file_extension": ".py",
   "mimetype": "text/x-python",
   "name": "python",
   "nbconvert_exporter": "python",
   "pygments_lexer": "ipython3",
   "version": "3.8.8"
  }
 },
 "nbformat": 4,
 "nbformat_minor": 5
}
