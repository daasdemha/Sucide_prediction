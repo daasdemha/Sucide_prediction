{
 "cells": [
  {
   "cell_type": "code",
   "execution_count": 80,
   "id": "f447eb6f",
   "metadata": {},
   "outputs": [
    {
     "name": "stderr",
     "output_type": "stream",
     "text": [
      "UsageError: unrecognized arguments: # helps in showing plots on the browser.\n",
      "UsageError: unrecognized arguments: # helps in showing plots on the browser.\n"
     ]
    }
   ],
   "source": [
    "%run X_and_y_selection.ipynb  #  importing a .ipynb file"
   ]
  },
  {
   "cell_type": "code",
   "execution_count": 81,
   "id": "b2b05536",
   "metadata": {},
   "outputs": [],
   "source": [
    "def Classifier_function(typeofmodelandprams, X_train, y_train):  # function takes the type of model, the hyperparameters of the\n",
    "    # model, the x_train and y_train to get our results.\n",
    "  model = typeofmodelandprams  # Bulding an object of the class\n",
    "  model.fit(X_train, y_train)  # Building the k-nearest neighbors classification model.\n",
    "\n",
    "  y_test_p = model.predict(X_test)  # Predicted results.\n",
    "  print(\"  results\\npred-Actual\")  # printing predicted and real values.\n",
    "  print(np.concatenate((y_test_p.reshape(len(y_test_p),1),y_test.reshape(len(y_test),1)),1))  # Predicted results and real results in a np array.\n",
    "   \n",
    "\n",
    "  train_accuracy = round(model.score(X_train,y_train),2) * 100\n",
    "  test_accuracy = round(model.score(X_test,y_test),2) * 100\n",
    "\n",
    "  print(\"Model train accuracy: \", train_accuracy, \"%\")  # printing the model accurcy. \n",
    "  print(\"Model test accuracy: \", test_accuracy, \"%\")  # printing the model accurcy. \n",
    "  \n",
    "\n",
    "\n",
    "  return test_accuracy"
   ]
  },
  {
   "cell_type": "code",
   "execution_count": 82,
   "id": "edf6dc66",
   "metadata": {},
   "outputs": [
    {
     "name": "stdout",
     "output_type": "stream",
     "text": [
      "Testing K_NN Model\n"
     ]
    },
    {
     "name": "stderr",
     "output_type": "stream",
     "text": [
      "C:\\Users\\User\\anaconda3\\lib\\site-packages\\sklearn\\neighbors\\_classification.py:179: DataConversionWarning: A column-vector y was passed when a 1d array was expected. Please change the shape of y to (n_samples,), for example using ravel().\n",
      "  return self._fit(X, y)\n"
     ]
    },
    {
     "name": "stdout",
     "output_type": "stream",
     "text": [
      "  results\n",
      "pred-Actual\n",
      "[[3 3]\n",
      " [3 3]\n",
      " [3 3]\n",
      " ...\n",
      " [1 1]\n",
      " [3 3]\n",
      " [2 3]]\n",
      "Model train accuracy:  80.0 %\n",
      "Model test accuracy:  76.0 %\n"
     ]
    },
    {
     "data": {
      "text/plain": [
       "76.0"
      ]
     },
     "execution_count": 82,
     "metadata": {},
     "output_type": "execute_result"
    }
   ],
   "source": [
    "print(\"Testing K_NN Model\")  # printing the name of the model.\n",
    "Classifier_function(KNeighborsClassifier(n_neighbors = 10, metric = 'minkowski', p = 2), X_train, y_train )  # enter model, \n",
    "# X and y train values it can be used in the function. "
   ]
  },
  {
   "cell_type": "code",
   "execution_count": null,
   "id": "5768d9fb",
   "metadata": {},
   "outputs": [],
   "source": []
  },
  {
   "cell_type": "code",
   "execution_count": null,
   "id": "e73fbac7",
   "metadata": {},
   "outputs": [],
   "source": []
  }
 ],
 "metadata": {
  "interpreter": {
   "hash": "2647ea34e536f865ab67ff9ddee7fd78773d956cec0cab53c79b32cd10da5d83"
  },
  "kernelspec": {
   "display_name": "Python 3",
   "language": "python",
   "name": "python3"
  },
  "language_info": {
   "codemirror_mode": {
    "name": "ipython",
    "version": 3
   },
   "file_extension": ".py",
   "mimetype": "text/x-python",
   "name": "python",
   "nbconvert_exporter": "python",
   "pygments_lexer": "ipython3",
   "version": "3.8.8"
  }
 },
 "nbformat": 4,
 "nbformat_minor": 5
}
