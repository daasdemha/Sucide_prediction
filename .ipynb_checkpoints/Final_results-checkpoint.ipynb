{
 "cells": [
  {
   "cell_type": "markdown",
   "id": "de663525",
   "metadata": {},
   "source": [
    "# Results and Evaluation"
   ]
  },
  {
   "cell_type": "code",
   "execution_count": null,
   "id": "93350d00",
   "metadata": {},
   "outputs": [],
   "source": [
    "model_name = [\"Logistic_regression_model\", \"k_nearest_neighbors\",\"Support_vector_machines_rbf\", \\\n",
    "              \"naive_bayes_theorm\",\"DecisionTree\" ,\"RandomForest\", \"xgboost\"]\n",
    "model_score_test_1 = [Logistic_accuracy, K_NN_accuracy, svm_accuracy, naive_bayes_accuracy, DecisionTree_accuracy, \\\n",
    "                      RandomForest_accuracy, xgboost_accuracy2]\n",
    "model_score_test_2 = [Logistic_accuracy2, K_NN_accuracy2, svm_accuracy2, naive_bayes_accuracy2, DecisionTree_accuracy2,\\\n",
    "                      RandomForest_accuracy2, xgboost_accuracy2]"
   ]
  },
  {
   "cell_type": "code",
   "execution_count": null,
   "id": "6aeb6980",
   "metadata": {},
   "outputs": [],
   "source": [
    "model = pd.DataFrame({\n",
    "    'model_name':model_name ,\n",
    "    'score_test_1': model_score_test_1,\n",
    "    'score_test_2':model_score_test_2\n",
    "})\n",
    "models.sort_values(by='score_test_1', ascending=False)"
   ]
  },
  {
   "cell_type": "code",
   "execution_count": null,
   "id": "1f1c5764",
   "metadata": {},
   "outputs": [],
   "source": [
    "models.sort_values(by='score_test_2', ascending=False)"
   ]
  }
 ],
 "metadata": {
  "kernelspec": {
   "display_name": "Python 3",
   "language": "python",
   "name": "python3"
  },
  "language_info": {
   "codemirror_mode": {
    "name": "ipython",
    "version": 3
   },
   "file_extension": ".py",
   "mimetype": "text/x-python",
   "name": "python",
   "nbconvert_exporter": "python",
   "pygments_lexer": "ipython3",
   "version": "3.8.8"
  }
 },
 "nbformat": 4,
 "nbformat_minor": 5
}
