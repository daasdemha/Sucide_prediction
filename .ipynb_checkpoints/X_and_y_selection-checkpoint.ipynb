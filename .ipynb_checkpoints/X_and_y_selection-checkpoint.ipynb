{
 "cells": [
  {
   "cell_type": "markdown",
   "id": "59d1adda",
   "metadata": {},
   "source": [
    "## Downloading required libraries"
   ]
  },
  {
   "cell_type": "code",
   "execution_count": 2,
   "id": "3a164111",
   "metadata": {},
   "outputs": [
    {
     "name": "stdout",
     "output_type": "stream",
     "text": [
      "Requirement already satisfied: imbalanced-learn in c:\\users\\user\\anaconda3\\lib\\site-packages (0.8.1)Note: you may need to restart the kernel to use updated packages.\n",
      "Requirement already satisfied: numpy>=1.13.3 in c:\\users\\user\\anaconda3\\lib\\site-packages (from imbalanced-learn) (1.20.1)\n",
      "Requirement already satisfied: scipy>=0.19.1 in c:\\users\\user\\anaconda3\\lib\\site-packages (from imbalanced-learn) (1.6.2)\n",
      "Requirement already satisfied: scikit-learn>=0.24 in c:\\users\\user\\anaconda3\\lib\\site-packages (from imbalanced-learn) (0.24.1)\n",
      "Requirement already satisfied: joblib>=0.11 in c:\\users\\user\\anaconda3\\lib\\site-packages (from imbalanced-learn) (1.0.1)\n",
      "Requirement already satisfied: threadpoolctl>=2.0.0 in c:\\users\\user\\anaconda3\\lib\\site-packages (from scikit-learn>=0.24->imbalanced-learn) (2.1.0)\n",
      "\n"
     ]
    }
   ],
   "source": [
    "# pip install imbalanced-learn used to install imbalanced learn"
   ]
  },
  {
   "cell_type": "markdown",
   "id": "e0ee02c0",
   "metadata": {},
   "source": [
    "### Importing the relevent libraries"
   ]
  },
  {
   "cell_type": "code",
   "execution_count": 3,
   "id": "7fc96920",
   "metadata": {},
   "outputs": [],
   "source": [
    "import numpy as np  # Allows us to work with arrays.\n",
    "import matplotlib.pyplot as plt  # Allows working with plots.\n",
    "import pandas as pd  # importing pandas’ library for use. Allows us to import data set and manipulate it.\n",
    "\n",
    "import seaborn as sns  # Allows to polt beautiful plots.\n",
    "import matplotlib.pyplot as plt # plotting.\n",
    "\n",
    "\n",
    "from sklearn.compose import ColumnTransformer  # helps with encoding.\n",
    "from sklearn.preprocessing import OneHotEncoder  # Does onehotencode.\n",
    "from sklearn.preprocessing import LabelEncoder   # Does 1 and 0 encoding.\n",
    "from sklearn.model_selection import train_test_split  # Splits dataset into test set and traning set. \n",
    "from sklearn.preprocessing import StandardScaler  # Perform the feature scaling.\n",
    "from sklearn.linear_model import LogisticRegression  # Performs logistic regression.\n",
    "from sklearn.metrics import confusion_matrix, ConfusionMatrixDisplay, multilabel_confusion_matrix  # creates a \n",
    "                                                                            # confusion matrix  # creates a confusion matrix\n",
    "from sklearn.metrics import accuracy_score  # Returns accury score of a model.\n",
    "from sklearn.neighbors import KNeighborsClassifier  # performs K Neariesst Neighobour.\n",
    "from sklearn.impute import KNNImputer  # imputes missing values using KNN.\n",
    "from sklearn.svm import SVC  # Performs svm\n",
    "from sklearn.naive_bayes import GaussianNB  # performs naive_bayes gaussianNB.\n",
    "from sklearn.tree import DecisionTreeClassifier  #Perfroms decision tree classification model.\n",
    "from sklearn.ensemble import RandomForestClassifier  #Performs random forest classification.\n",
    "from xgboost import XGBClassifier  # performs xgboost classification. gradiant decision trees.\n",
    "from sklearn.linear_model import LinearRegression  # will use to replace missing values linear regressoin\n",
    "from sklearn.decomposition import PCA  # Performs model optimization\n",
    "from sklearn.decomposition import KernelPCA  # Performs model optimization\n",
    "from sklearn.discriminant_analysis import LinearDiscriminantAnalysis as LDA # performs model optimization\n",
    "from sklearn.model_selection import cross_val_score  # performs cross validation. Helps in model selection.\n",
    "from sklearn.model_selection import GridSearchCV  # helps select the best hyper parameters\n",
    "from imblearn.over_sampling import RandomOverSampler  # Uses over sampling techniques to Sample the data correctly.\n",
    "from imblearn.under_sampling import RandomUnderSampler # Uses Under sampling techniques to Sample the data correctly.\n",
    "from sklearn.metrics import classification_report, accuracy_score, recall_score, precision_score, roc_auc_score, f1_score \n",
    "                                                                                 # Allows the usage of a classification report\n",
    "from sklearn.metrics import precision_recall_fscore_support  # gives precison, recall, f1 score, and support\n",
    "from sklearn.model_selection import RandomizedSearchCV  # performs randomized search cv\n",
    "\n",
    "\n",
    "from collections import Counter  # Allows the counting the items in an iterable list.\n",
    "\n",
    "import warnings  # allows to ignore warnings\n",
    "warnings.filterwarnings(\"ignore\")  # ignores warnings\n",
    "\n",
    "#%matplotlib inline  # helps in showing plots on the browser."
   ]
  },
  {
   "cell_type": "markdown",
   "id": "681f5cbc",
   "metadata": {},
   "source": [
    "### Importing the dataframe"
   ]
  },
  {
   "cell_type": "code",
   "execution_count": 4,
   "id": "82eef9c6",
   "metadata": {},
   "outputs": [],
   "source": [
    "sucidedataframe = pd.read_csv(\"suicidedataextrafestures.csv\")  # opens csv files and assighns them to a variable."
   ]
  },
  {
   "cell_type": "markdown",
   "id": "1041df28",
   "metadata": {},
   "source": [
    "### Checking the data from the dataframe before pre-processing"
   ]
  },
  {
   "cell_type": "code",
   "execution_count": 5,
   "id": "11364a06",
   "metadata": {},
   "outputs": [
    {
     "data": {
      "text/html": [
       "<div>\n",
       "<style scoped>\n",
       "    .dataframe tbody tr th:only-of-type {\n",
       "        vertical-align: middle;\n",
       "    }\n",
       "\n",
       "    .dataframe tbody tr th {\n",
       "        vertical-align: top;\n",
       "    }\n",
       "\n",
       "    .dataframe thead th {\n",
       "        text-align: right;\n",
       "    }\n",
       "</style>\n",
       "<table border=\"1\" class=\"dataframe\">\n",
       "  <thead>\n",
       "    <tr style=\"text-align: right;\">\n",
       "      <th></th>\n",
       "      <th>country</th>\n",
       "      <th>year</th>\n",
       "      <th>sex</th>\n",
       "      <th>age</th>\n",
       "      <th>suicides_no</th>\n",
       "      <th>population</th>\n",
       "      <th>suicidesper100k</th>\n",
       "      <th>country-year</th>\n",
       "      <th>yearlyHDI</th>\n",
       "      <th>GDPpyear</th>\n",
       "      <th>...</th>\n",
       "      <th>Unemployment, total (% of total labor force) (modeled ILO estimate)</th>\n",
       "      <th>Physicians (per 1,000 people)</th>\n",
       "      <th>Strength of legal rights index (0=weak to 12=strong)</th>\n",
       "      <th>Labor force, total</th>\n",
       "      <th>Life expectancy at birth, total (years)</th>\n",
       "      <th>Mobile cellular subscriptions (per 100 people)</th>\n",
       "      <th>Refugee population by country or territory of origin</th>\n",
       "      <th>Contributing family workers, total (% of total employment) (modeled ILO estimate)</th>\n",
       "      <th>Access to electricity (% of population)</th>\n",
       "      <th>Lower secondary completion rate, total (% of relevant age group)</th>\n",
       "    </tr>\n",
       "  </thead>\n",
       "  <tbody>\n",
       "    <tr>\n",
       "      <th>0</th>\n",
       "      <td>Argentina</td>\n",
       "      <td>1985</td>\n",
       "      <td>male</td>\n",
       "      <td>75+ years</td>\n",
       "      <td>202</td>\n",
       "      <td>363000</td>\n",
       "      <td>55.65</td>\n",
       "      <td>Argentina1985</td>\n",
       "      <td>0.694</td>\n",
       "      <td>8.841667e+10</td>\n",
       "      <td>...</td>\n",
       "      <td>0.0</td>\n",
       "      <td>0.0</td>\n",
       "      <td>0.0</td>\n",
       "      <td>0</td>\n",
       "      <td>0.0</td>\n",
       "      <td>0.0</td>\n",
       "      <td>0.0</td>\n",
       "      <td>0.0</td>\n",
       "      <td>0.0</td>\n",
       "      <td>0.0</td>\n",
       "    </tr>\n",
       "  </tbody>\n",
       "</table>\n",
       "<p>1 rows × 26 columns</p>\n",
       "</div>"
      ],
      "text/plain": [
       "     country  year   sex        age  suicides_no  population  suicidesper100k  \\\n",
       "0  Argentina  1985  male  75+ years          202      363000            55.65   \n",
       "\n",
       "    country-year  yearlyHDI      GDPpyear  ...  \\\n",
       "0  Argentina1985      0.694  8.841667e+10  ...   \n",
       "\n",
       "   Unemployment, total (% of total labor force) (modeled ILO estimate)  \\\n",
       "0                                                0.0                     \n",
       "\n",
       "  Physicians (per 1,000 people)  \\\n",
       "0                           0.0   \n",
       "\n",
       "   Strength of legal rights index (0=weak to 12=strong)  Labor force, total  \\\n",
       "0                                                0.0                      0   \n",
       "\n",
       "   Life expectancy at birth, total (years)  \\\n",
       "0                                      0.0   \n",
       "\n",
       "   Mobile cellular subscriptions (per 100 people)  \\\n",
       "0                                             0.0   \n",
       "\n",
       "   Refugee population by country or territory of origin  \\\n",
       "0                                                0.0      \n",
       "\n",
       "   Contributing family workers, total (% of total employment) (modeled ILO estimate)  \\\n",
       "0                                                0.0                                   \n",
       "\n",
       "   Access to electricity (% of population)  \\\n",
       "0                                      0.0   \n",
       "\n",
       "   Lower secondary completion rate, total (% of relevant age group)  \n",
       "0                                                0.0                 \n",
       "\n",
       "[1 rows x 26 columns]"
      ]
     },
     "execution_count": 5,
     "metadata": {},
     "output_type": "execute_result"
    }
   ],
   "source": [
    "sucidedataframe.head(1)  # Taking a look at the dataframe the first elements of the dataset."
   ]
  },
  {
   "cell_type": "markdown",
   "id": "8dc9be58",
   "metadata": {},
   "source": [
    "### checking null values"
   ]
  },
  {
   "cell_type": "code",
   "execution_count": 6,
   "id": "b6b2bd8b",
   "metadata": {},
   "outputs": [
    {
     "data": {
      "text/plain": [
       "<AxesSubplot:>"
      ]
     },
     "execution_count": 6,
     "metadata": {},
     "output_type": "execute_result"
    },
    {
     "data": {
      "image/png": "[encoded data removed]",
      "text/plain": [
       "<Figure size 432x288 with 2 Axes>"
      ]
     },
     "metadata": {
      "needs_background": "light"
     },
     "output_type": "display_data"
    }
   ],
   "source": [
    "sns.heatmap(sucidedataframe.isnull())"
   ]
  },
  {
   "cell_type": "code",
   "execution_count": 7,
   "id": "02af4851",
   "metadata": {},
   "outputs": [
    {
     "name": "stdout",
     "output_type": "stream",
     "text": [
      "<class 'pandas.core.frame.DataFrame'>\n",
      "RangeIndex: 15110 entries, 0 to 15109\n",
      "Data columns (total 26 columns):\n",
      " #   Column                                                                             Non-Null Count  Dtype  \n",
      "---  ------                                                                             --------------  -----  \n",
      " 0   country                                                                            15110 non-null  object \n",
      " 1   year                                                                               15110 non-null  int64  \n",
      " 2   sex                                                                                15110 non-null  object \n",
      " 3   age                                                                                15110 non-null  object \n",
      " 4   suicides_no                                                                        15110 non-null  int64  \n",
      " 5   population                                                                         15110 non-null  int64  \n",
      " 6   suicidesper100k                                                                    15110 non-null  float64\n",
      " 7   country-year                                                                       15110 non-null  object \n",
      " 8   yearlyHDI                                                                          4740 non-null   float64\n",
      " 9   GDPpyear                                                                           15110 non-null  float64\n",
      " 10  GDPpcapital                                                                        15110 non-null  int64  \n",
      " 11  generation                                                                         15110 non-null  object \n",
      " 12  suicide%                                                                           15110 non-null  float64\n",
      " 13  Individuals using the Internet (% of population)                                   15002 non-null  float64\n",
      " 14  Expense (% of GDP)                                                                 13634 non-null  float64\n",
      " 15  Compensation of employees (% of expense)                                           13538 non-null  float64\n",
      " 16  Unemployment, total (% of total labor force) (modeled ILO estimate)                15110 non-null  float64\n",
      " 17  Physicians (per 1,000 people)                                                      12782 non-null  float64\n",
      " 18  Strength of legal rights index (0=weak to 12=strong)                               5618 non-null   float64\n",
      " 19  Labor force, total                                                                 15110 non-null  int64  \n",
      " 20  Life expectancy at birth, total (years)                                            15110 non-null  float64\n",
      " 21  Mobile cellular subscriptions (per 100 people)                                     15110 non-null  float64\n",
      " 22  Refugee population by country or territory of origin                               14978 non-null  float64\n",
      " 23  Contributing family workers, total (% of total employment) (modeled ILO estimate)  15110 non-null  float64\n",
      " 24  Access to electricity (% of population)                                            14642 non-null  float64\n",
      " 25  Lower secondary completion rate, total (% of relevant age group)                   9542 non-null   float64\n",
      "dtypes: float64(16), int64(5), object(5)\n",
      "memory usage: 3.0+ MB\n"
     ]
    }
   ],
   "source": [
    "sucidedataframe.info()  # checking Basic information on the dataframe being procesed."
   ]
  },
  {
   "cell_type": "markdown",
   "id": "7ca5f0a5",
   "metadata": {},
   "source": [
    "## 1. Data pre-processing"
   ]
  },
  {
   "cell_type": "code",
   "execution_count": 8,
   "id": "145790e4",
   "metadata": {},
   "outputs": [],
   "source": [
    "# Below relevent data is selected that will be used in this project.\n",
    "sucidedataframe = sucidedataframe[[\"country\", \"age\" ,\"sex\", \"population\",  \\\n",
    "\"Individuals using the Internet (% of population)\", \"Labor force, total\", \\\n",
    "\"Mobile cellular subscriptions (per 100 people)\", \"GDPpyear\",\"GDPpcapital\",\"Expense (% of GDP)\",\\\n",
    "\"Physicians (per 1,000 people)\",\"Refugee population by country or territory of origin\" ,\"suicidesper100k\"]]## 1. Data \n",
    "                                                                                                          # pre-processing"
   ]
  },
  {
   "cell_type": "code",
   "execution_count": 9,
   "id": "028bd1dc",
   "metadata": {},
   "outputs": [
    {
     "data": {
      "text/html": [
       "<div>\n",
       "<style scoped>\n",
       "    .dataframe tbody tr th:only-of-type {\n",
       "        vertical-align: middle;\n",
       "    }\n",
       "\n",
       "    .dataframe tbody tr th {\n",
       "        vertical-align: top;\n",
       "    }\n",
       "\n",
       "    .dataframe thead th {\n",
       "        text-align: right;\n",
       "    }\n",
       "</style>\n",
       "<table border=\"1\" class=\"dataframe\">\n",
       "  <thead>\n",
       "    <tr style=\"text-align: right;\">\n",
       "      <th></th>\n",
       "      <th>country</th>\n",
       "      <th>age</th>\n",
       "      <th>sex</th>\n",
       "      <th>population</th>\n",
       "      <th>Individuals using the Internet (% of population)</th>\n",
       "      <th>Labor force, total</th>\n",
       "      <th>Mobile cellular subscriptions (per 100 people)</th>\n",
       "      <th>GDPpyear</th>\n",
       "      <th>GDPpcapital</th>\n",
       "      <th>Expense (% of GDP)</th>\n",
       "      <th>Physicians (per 1,000 people)</th>\n",
       "      <th>Refugee population by country or territory of origin</th>\n",
       "      <th>suicidesper100k</th>\n",
       "    </tr>\n",
       "  </thead>\n",
       "  <tbody>\n",
       "    <tr>\n",
       "      <th>0</th>\n",
       "      <td>Argentina</td>\n",
       "      <td>75+ years</td>\n",
       "      <td>male</td>\n",
       "      <td>363000</td>\n",
       "      <td>0.0</td>\n",
       "      <td>0</td>\n",
       "      <td>0.0</td>\n",
       "      <td>8.841667e+10</td>\n",
       "      <td>3264</td>\n",
       "      <td>0.0</td>\n",
       "      <td>0.0</td>\n",
       "      <td>0.0</td>\n",
       "      <td>55.65</td>\n",
       "    </tr>\n",
       "    <tr>\n",
       "      <th>1</th>\n",
       "      <td>Argentina</td>\n",
       "      <td>55-74 years</td>\n",
       "      <td>male</td>\n",
       "      <td>1997000</td>\n",
       "      <td>0.0</td>\n",
       "      <td>0</td>\n",
       "      <td>0.0</td>\n",
       "      <td>8.841667e+10</td>\n",
       "      <td>3264</td>\n",
       "      <td>0.0</td>\n",
       "      <td>0.0</td>\n",
       "      <td>0.0</td>\n",
       "      <td>24.29</td>\n",
       "    </tr>\n",
       "    <tr>\n",
       "      <th>2</th>\n",
       "      <td>Argentina</td>\n",
       "      <td>35-54 years</td>\n",
       "      <td>male</td>\n",
       "      <td>3346300</td>\n",
       "      <td>0.0</td>\n",
       "      <td>0</td>\n",
       "      <td>0.0</td>\n",
       "      <td>8.841667e+10</td>\n",
       "      <td>3264</td>\n",
       "      <td>0.0</td>\n",
       "      <td>0.0</td>\n",
       "      <td>0.0</td>\n",
       "      <td>12.37</td>\n",
       "    </tr>\n",
       "    <tr>\n",
       "      <th>3</th>\n",
       "      <td>Argentina</td>\n",
       "      <td>55-74 years</td>\n",
       "      <td>female</td>\n",
       "      <td>2304000</td>\n",
       "      <td>0.0</td>\n",
       "      <td>0</td>\n",
       "      <td>0.0</td>\n",
       "      <td>8.841667e+10</td>\n",
       "      <td>3264</td>\n",
       "      <td>0.0</td>\n",
       "      <td>0.0</td>\n",
       "      <td>0.0</td>\n",
       "      <td>9.11</td>\n",
       "    </tr>\n",
       "    <tr>\n",
       "      <th>4</th>\n",
       "      <td>Argentina</td>\n",
       "      <td>25-34 years</td>\n",
       "      <td>male</td>\n",
       "      <td>2234200</td>\n",
       "      <td>0.0</td>\n",
       "      <td>0</td>\n",
       "      <td>0.0</td>\n",
       "      <td>8.841667e+10</td>\n",
       "      <td>3264</td>\n",
       "      <td>0.0</td>\n",
       "      <td>0.0</td>\n",
       "      <td>0.0</td>\n",
       "      <td>7.92</td>\n",
       "    </tr>\n",
       "  </tbody>\n",
       "</table>\n",
       "</div>"
      ],
      "text/plain": [
       "     country          age     sex  population  \\\n",
       "0  Argentina    75+ years    male      363000   \n",
       "1  Argentina  55-74 years    male     1997000   \n",
       "2  Argentina  35-54 years    male     3346300   \n",
       "3  Argentina  55-74 years  female     2304000   \n",
       "4  Argentina  25-34 years    male     2234200   \n",
       "\n",
       "   Individuals using the Internet (% of population)  Labor force, total  \\\n",
       "0                                               0.0                   0   \n",
       "1                                               0.0                   0   \n",
       "2                                               0.0                   0   \n",
       "3                                               0.0                   0   \n",
       "4                                               0.0                   0   \n",
       "\n",
       "   Mobile cellular subscriptions (per 100 people)      GDPpyear  GDPpcapital  \\\n",
       "0                                             0.0  8.841667e+10         3264   \n",
       "1                                             0.0  8.841667e+10         3264   \n",
       "2                                             0.0  8.841667e+10         3264   \n",
       "3                                             0.0  8.841667e+10         3264   \n",
       "4                                             0.0  8.841667e+10         3264   \n",
       "\n",
       "   Expense (% of GDP)  Physicians (per 1,000 people)  \\\n",
       "0                 0.0                            0.0   \n",
       "1                 0.0                            0.0   \n",
       "2                 0.0                            0.0   \n",
       "3                 0.0                            0.0   \n",
       "4                 0.0                            0.0   \n",
       "\n",
       "   Refugee population by country or territory of origin  suicidesper100k  \n",
       "0                                                0.0               55.65  \n",
       "1                                                0.0               24.29  \n",
       "2                                                0.0               12.37  \n",
       "3                                                0.0                9.11  \n",
       "4                                                0.0                7.92  "
      ]
     },
     "execution_count": 9,
     "metadata": {},
     "output_type": "execute_result"
    }
   ],
   "source": [
    "sucidedataframe.head(5)  # out puts data from dataframe"
   ]
  },
  {
   "cell_type": "code",
   "execution_count": 10,
   "id": "59acf2b7",
   "metadata": {},
   "outputs": [],
   "source": [
    "# Below the col names are renamed.\n",
    "sucidedataframe = sucidedataframe.set_axis([\"Country\", \"Age\", \"Gender\", \"Population\", \\\n",
    "\"Internet_Usage_per_percent_Population\", \"Total_Labour_force\", \"Cellular_subscriptions_per_100_people\", \\\n",
    "\"GDPpyear\",\"GDPpcapital\",\"Expense_percent_of_GDP)\",\\\n",
    "\"Physicians_per_1,000_people)\",\"Refugee_population_by_country_or_territory_of_origin\" ,\"Suicidesper100k\"],axis=1)"
   ]
  },
  {
   "cell_type": "code",
   "execution_count": 11,
   "id": "fe7a00db",
   "metadata": {},
   "outputs": [
    {
     "data": {
      "text/plain": [
       "Index(['Country', 'Age', 'Gender', 'Population',\n",
       "       'Internet_Usage_per_percent_Population', 'Total_Labour_force',\n",
       "       'Cellular_subscriptions_per_100_people', 'GDPpyear', 'GDPpcapital',\n",
       "       'Expense_percent_of_GDP)', 'Physicians_per_1,000_people)',\n",
       "       'Refugee_population_by_country_or_territory_of_origin',\n",
       "       'Suicidesper100k'],\n",
       "      dtype='object')"
      ]
     },
     "execution_count": 11,
     "metadata": {},
     "output_type": "execute_result"
    }
   ],
   "source": [
    "sucidedataframe.columns  # The columns of the dataframe are viewed."
   ]
  },
  {
   "cell_type": "code",
   "execution_count": 12,
   "id": "7ef30099",
   "metadata": {},
   "outputs": [
    {
     "data": {
      "text/plain": [
       "(15110, 13)"
      ]
     },
     "execution_count": 12,
     "metadata": {},
     "output_type": "execute_result"
    }
   ],
   "source": [
    "sucidedataframe.shape  # The Entries and the columns of the dataframe are viewed."
   ]
  },
  {
   "cell_type": "markdown",
   "id": "d44beb55",
   "metadata": {},
   "source": [
    "### Dealing with null values"
   ]
  },
  {
   "cell_type": "code",
   "execution_count": 13,
   "id": "947071b5",
   "metadata": {},
   "outputs": [
    {
     "data": {
      "text/plain": [
       "<AxesSubplot:>"
      ]
     },
     "execution_count": 13,
     "metadata": {},
     "output_type": "execute_result"
    },
    {
     "data": {
      "image/png": "[encoded data removed]",
      "text/plain": [
       "<Figure size 432x288 with 2 Axes>"
      ]
     },
     "metadata": {
      "needs_background": "light"
     },
     "output_type": "display_data"
    }
   ],
   "source": [
    "sns.heatmap(sucidedataframe.isnull())  # shows null values"
   ]
  },
  {
   "cell_type": "code",
   "execution_count": 14,
   "id": "7834f25c",
   "metadata": {},
   "outputs": [
    {
     "data": {
      "text/plain": [
       "Country                                                    0\n",
       "Age                                                        0\n",
       "Gender                                                     0\n",
       "Population                                                 0\n",
       "Internet_Usage_per_percent_Population                    108\n",
       "Total_Labour_force                                         0\n",
       "Cellular_subscriptions_per_100_people                      0\n",
       "GDPpyear                                                   0\n",
       "GDPpcapital                                                0\n",
       "Expense_percent_of_GDP)                                 1476\n",
       "Physicians_per_1,000_people)                            2328\n",
       "Refugee_population_by_country_or_territory_of_origin     132\n",
       "Suicidesper100k                                            0\n",
       "dtype: int64"
      ]
     },
     "execution_count": 14,
     "metadata": {},
     "output_type": "execute_result"
    }
   ],
   "source": [
    "sucidedataframe.isnull().sum()  # Checking the dataframe for null values."
   ]
  },
  {
   "cell_type": "code",
   "execution_count": 15,
   "id": "d13de473",
   "metadata": {},
   "outputs": [
    {
     "name": "stdout",
     "output_type": "stream",
     "text": [
      "<class 'pandas.core.frame.DataFrame'>\n",
      "RangeIndex: 15110 entries, 0 to 15109\n",
      "Data columns (total 13 columns):\n",
      " #   Column                                                Non-Null Count  Dtype  \n",
      "---  ------                                                --------------  -----  \n",
      " 0   Country                                               15110 non-null  object \n",
      " 1   Age                                                   15110 non-null  object \n",
      " 2   Gender                                                15110 non-null  object \n",
      " 3   Population                                            15110 non-null  int64  \n",
      " 4   Internet_Usage_per_percent_Population                 15002 non-null  float64\n",
      " 5   Total_Labour_force                                    15110 non-null  int64  \n",
      " 6   Cellular_subscriptions_per_100_people                 15110 non-null  float64\n",
      " 7   GDPpyear                                              15110 non-null  float64\n",
      " 8   GDPpcapital                                           15110 non-null  int64  \n",
      " 9   Expense_percent_of_GDP)                               13634 non-null  float64\n",
      " 10  Physicians_per_1,000_people)                          12782 non-null  float64\n",
      " 11  Refugee_population_by_country_or_territory_of_origin  14978 non-null  float64\n",
      " 12  Suicidesper100k                                       15110 non-null  float64\n",
      "dtypes: float64(7), int64(3), object(3)\n",
      "memory usage: 1.5+ MB\n"
     ]
    }
   ],
   "source": [
    "sucidedataframe.info()  # checking basic information on dataframe"
   ]
  },
  {
   "cell_type": "code",
   "execution_count": 16,
   "id": "6ac3a2cd",
   "metadata": {},
   "outputs": [],
   "source": [
    "#df['Internet_Usage_per_percent_Population'] = df['DataFrame Column'].fillna(mean(column))"
   ]
  },
  {
   "cell_type": "code",
   "execution_count": 17,
   "id": "6c2e9110",
   "metadata": {},
   "outputs": [
    {
     "name": "stdout",
     "output_type": "stream",
     "text": [
      "15110\n"
     ]
    }
   ],
   "source": [
    "print(len(sucidedataframe.Internet_Usage_per_percent_Population))  # printing lenghth of the column."
   ]
  },
  {
   "cell_type": "code",
   "execution_count": 18,
   "id": "eea0ed9c",
   "metadata": {},
   "outputs": [
    {
     "name": "stdout",
     "output_type": "stream",
     "text": [
      "15110\n"
     ]
    }
   ],
   "source": [
    "print(len(sucidedataframe.Refugee_population_by_country_or_territory_of_origin))  # printing lenghth of the column."
   ]
  },
  {
   "cell_type": "code",
   "execution_count": 19,
   "id": "3f36d416",
   "metadata": {},
   "outputs": [
    {
     "name": "stdout",
     "output_type": "stream",
     "text": [
      "15110\n"
     ]
    }
   ],
   "source": [
    "print(len(sucidedataframe[\"Expense_percent_of_GDP)\"]))  # printing lenghth of the column."
   ]
  },
  {
   "cell_type": "code",
   "execution_count": 20,
   "id": "36af3b3b",
   "metadata": {},
   "outputs": [
    {
     "name": "stdout",
     "output_type": "stream",
     "text": [
      "15110\n"
     ]
    }
   ],
   "source": [
    "print(len(sucidedataframe[\"Physicians_per_1,000_people)\"]))  # printing lenghth of the column."
   ]
  },
  {
   "cell_type": "code",
   "execution_count": 132,
   "id": "28807467",
   "metadata": {},
   "outputs": [],
   "source": [
    "def missng_values_filler_knn(missingdataframevalue,colname):  # function replaces missing values using KNN's. function \n",
    "                                                              # name specified and paramaters given\n",
    "    columntobereplaced = missingdataframevalue.to_numpy()   # The column to be replaced is stored in a variable.\n",
    "\n",
    "    imputer = KNNImputer(n_neighbors=10, weights=\"uniform\")  # creating instance of the object.\n",
    "    replaced = imputer.fit_transform(columntobereplaced).astype(np.int64)  # fitting the model and replaing missing values\n",
    "                                                                        # converting float to int.\n",
    "    print(len(replaced))  # printing replaced lenght\n",
    "    dataframe=pd.DataFrame(replaced, columns=colname)  # adding replaced values in a dataframe column and giving the column a \n",
    "                                                      # name.\n",
    "    print(\"null values \", dataframe.isnull().sum()) # Checking the dataframe for null values.\n",
    "    print(dataframe.head(5))  # printing head of new data frame\n",
    "    return dataframe  # returning the dataframe"
   ]
  },
  {
   "cell_type": "code",
   "execution_count": 133,
   "id": "660a9df5",
   "metadata": {},
   "outputs": [
    {
     "name": "stdout",
     "output_type": "stream",
     "text": [
      "15110\n",
      "null values  Internet_Usage_per_percent_Population    0\n",
      "dtype: int64\n",
      "   Internet_Usage_per_percent_Population\n",
      "0                                      0\n",
      "1                                      0\n",
      "2                                      0\n",
      "3                                      0\n",
      "4                                      0\n"
     ]
    }
   ],
   "source": [
    "sucidedataframe[[\"Internet_Usage_per_percent_Population\"]] = missng_values_filler_knn(sucidedataframe[[\"Internet_Usage_per_percent_Population\"]], [\"Internet_Usage_per_percent_Population\"])"
   ]
  },
  {
   "cell_type": "code",
   "execution_count": 23,
   "id": "a395c703",
   "metadata": {},
   "outputs": [
    {
     "name": "stdout",
     "output_type": "stream",
     "text": [
      "15110\n",
      "   Expense_percent_of_GDP)\n",
      "0                        0\n",
      "1                        0\n",
      "2                        0\n",
      "3                        0\n",
      "4                        0\n"
     ]
    }
   ],
   "source": [
    "# replacing null values using KNN function\n",
    "sucidedataframe[[\"Expense_percent_of_GDP)\"]] = missng_values_filler_knn(sucidedataframe[[\"Expense_percent_of_GDP)\"]], [\"Expense_percent_of_GDP)\"])"
   ]
  },
  {
   "cell_type": "code",
   "execution_count": 24,
   "id": "00f3cd3c",
   "metadata": {},
   "outputs": [
    {
     "name": "stdout",
     "output_type": "stream",
     "text": [
      "15110\n",
      "   Refugee_population_by_country_or_territory_of_origin\n",
      "0                                                  0   \n",
      "1                                                  0   \n",
      "2                                                  0   \n",
      "3                                                  0   \n",
      "4                                                  0   \n"
     ]
    }
   ],
   "source": [
    "# replacing null values using KNN function\n",
    "sucidedataframe[[\"Refugee_population_by_country_or_territory_of_origin\"]] = missng_values_filler_knn(sucidedataframe[[\"Refugee_population_by_country_or_territory_of_origin\"]],[\"Refugee_population_by_country_or_territory_of_origin\"])"
   ]
  },
  {
   "cell_type": "code",
   "execution_count": 25,
   "id": "db4b5802",
   "metadata": {},
   "outputs": [
    {
     "name": "stdout",
     "output_type": "stream",
     "text": [
      "15110\n",
      "   Physicians_per_1,000_people)\n",
      "0                             0\n",
      "1                             0\n",
      "2                             0\n",
      "3                             0\n",
      "4                             0\n"
     ]
    }
   ],
   "source": [
    "# replacing null values using KNN function\n",
    "sucidedataframe[[\"Physicians_per_1,000_people)\"]] = missng_values_filler_knn(sucidedataframe[[\"Physicians_per_1,000_people)\"]],[\"Physicians_per_1,000_people)\"])"
   ]
  },
  {
   "cell_type": "code",
   "execution_count": 26,
   "id": "20d015e9",
   "metadata": {},
   "outputs": [
    {
     "data": {
      "text/plain": [
       "Country                                                 0\n",
       "Age                                                     0\n",
       "Gender                                                  0\n",
       "Population                                              0\n",
       "Internet_Usage_per_percent_Population                   0\n",
       "Total_Labour_force                                      0\n",
       "Cellular_subscriptions_per_100_people                   0\n",
       "GDPpyear                                                0\n",
       "GDPpcapital                                             0\n",
       "Expense_percent_of_GDP)                                 0\n",
       "Physicians_per_1,000_people)                            0\n",
       "Refugee_population_by_country_or_territory_of_origin    0\n",
       "Suicidesper100k                                         0\n",
       "dtype: int64"
      ]
     },
     "execution_count": 26,
     "metadata": {},
     "output_type": "execute_result"
    }
   ],
   "source": [
    "sucidedataframe.isnull().sum()  # Checking the dataframe for null values."
   ]
  },
  {
   "cell_type": "code",
   "execution_count": 27,
   "id": "d6c03c7f",
   "metadata": {},
   "outputs": [],
   "source": [
    "sucidedataframe = sucidedataframe.dropna() # droping all rows with at least one null values."
   ]
  },
  {
   "cell_type": "code",
   "execution_count": 28,
   "id": "19a72280",
   "metadata": {},
   "outputs": [],
   "source": [
    "# sucidedataframe.reset_index(drop=True, inplace=True)  # reseting index."
   ]
  },
  {
   "cell_type": "code",
   "execution_count": 134,
   "id": "c5d0cee1",
   "metadata": {},
   "outputs": [],
   "source": [
    "# sucidedataframe.isnull().sum()  # Checking the dataframe for null values."
   ]
  },
  {
   "cell_type": "code",
   "execution_count": 135,
   "id": "13e3c42e",
   "metadata": {},
   "outputs": [
    {
     "data": {
      "text/plain": [
       "(15110, 65)"
      ]
     },
     "execution_count": 135,
     "metadata": {},
     "output_type": "execute_result"
    }
   ],
   "source": [
    "sucidedataframe.shape  # The Entries and the columns of the dataframe are viewed."
   ]
  },
  {
   "cell_type": "code",
   "execution_count": 136,
   "id": "ddd96348",
   "metadata": {},
   "outputs": [
    {
     "name": "stdout",
     "output_type": "stream",
     "text": [
      "<class 'pandas.core.frame.DataFrame'>\n",
      "RangeIndex: 15110 entries, 0 to 15109\n",
      "Data columns (total 65 columns):\n",
      " #   Column                                                Non-Null Count  Dtype\n",
      "---  ------                                                --------------  -----\n",
      " 0   Argentina                                             15110 non-null  int32\n",
      " 1   Armenia                                               15110 non-null  int32\n",
      " 2   Australia                                             15110 non-null  int32\n",
      " 3   Austria                                               15110 non-null  int32\n",
      " 4   Azerbaijan                                            15110 non-null  int32\n",
      " 5   Belgium                                               15110 non-null  int32\n",
      " 6   Brazil                                                15110 non-null  int32\n",
      " 7   Bulgaria                                              15110 non-null  int32\n",
      " 8   Canada                                                15110 non-null  int32\n",
      " 9   Chile                                                 15110 non-null  int32\n",
      " 10  Colombia                                              15110 non-null  int32\n",
      " 11  Croatia                                               15110 non-null  int32\n",
      " 12  Cuba                                                  15110 non-null  int32\n",
      " 13  Czech Republic                                        15110 non-null  int32\n",
      " 14  Denmark                                               15110 non-null  int32\n",
      " 15  Finland                                               15110 non-null  int32\n",
      " 16  France                                                15110 non-null  int32\n",
      " 17  Georgia                                               15110 non-null  int32\n",
      " 18  Germany                                               15110 non-null  int32\n",
      " 19  Greece                                                15110 non-null  int32\n",
      " 20  Hungary                                               15110 non-null  int32\n",
      " 21  Iceland                                               15110 non-null  int32\n",
      " 22  Ireland                                               15110 non-null  int32\n",
      " 23  Israel                                                15110 non-null  int32\n",
      " 24  Italy                                                 15110 non-null  int32\n",
      " 25  Jamaica                                               15110 non-null  int32\n",
      " 26  Japan                                                 15110 non-null  int32\n",
      " 27  Mexico                                                15110 non-null  int32\n",
      " 28  Mongolia                                              15110 non-null  int32\n",
      " 29  Netherlands                                           15110 non-null  int32\n",
      " 30  New Zealand                                           15110 non-null  int32\n",
      " 31  Norway                                                15110 non-null  int32\n",
      " 32  Poland                                                15110 non-null  int32\n",
      " 33  Portugal                                              15110 non-null  int32\n",
      " 34  Romania                                               15110 non-null  int32\n",
      " 35  Russian Federation                                    15110 non-null  int32\n",
      " 36  South Africa                                          15110 non-null  int32\n",
      " 37  Spain                                                 15110 non-null  int32\n",
      " 38  Sweden                                                15110 non-null  int32\n",
      " 39  Switzerland                                           15110 non-null  int32\n",
      " 40  Thailand                                              15110 non-null  int32\n",
      " 41  Turkey                                                15110 non-null  int32\n",
      " 42  Turkmenistan                                          15110 non-null  int32\n",
      " 43  Ukraine                                               15110 non-null  int32\n",
      " 44  United Arab Emirates                                  15110 non-null  int32\n",
      " 45  United Kingdom                                        15110 non-null  int32\n",
      " 46  United States                                         15110 non-null  int32\n",
      " 47  Uzbekistan                                            15110 non-null  int32\n",
      " 48  15-24 years                                           15110 non-null  int32\n",
      " 49  25-34 years                                           15110 non-null  int32\n",
      " 50  35-54 years                                           15110 non-null  int32\n",
      " 51  5-14 years                                            15110 non-null  int32\n",
      " 52  55-74 years                                           15110 non-null  int32\n",
      " 53  75+ years                                             15110 non-null  int32\n",
      " 54  Gender                                                15110 non-null  int32\n",
      " 55  Population                                            15110 non-null  int64\n",
      " 56  Internet_Usage_per_percent_Population                 15110 non-null  int64\n",
      " 57  Total_Labour_force                                    15110 non-null  int64\n",
      " 58  Cellular_subscriptions_per_100_people                 15110 non-null  int64\n",
      " 59  GDPpyear                                              15110 non-null  int64\n",
      " 60  GDPpcapital                                           15110 non-null  int64\n",
      " 61  Expense_percent_of_GDP)                               15110 non-null  int64\n",
      " 62  Physicians_per_1,000_people)                          15110 non-null  int64\n",
      " 63  Refugee_population_by_country_or_territory_of_origin  15110 non-null  int64\n",
      " 64  Suicidesper100k                                       15110 non-null  int64\n",
      "dtypes: int32(55), int64(10)\n",
      "memory usage: 4.3 MB\n"
     ]
    }
   ],
   "source": [
    "sucidedataframe.info()  # checking Basic information on the dataframe being procesed."
   ]
  },
  {
   "cell_type": "markdown",
   "id": "5d8333e7",
   "metadata": {},
   "source": [
    "### One Hot Encoding"
   ]
  },
  {
   "cell_type": "code",
   "execution_count": 32,
   "id": "2b136461",
   "metadata": {},
   "outputs": [
    {
     "data": {
      "text/plain": [
       "Country                                                    48\n",
       "Age                                                         6\n",
       "Gender                                                      2\n",
       "Population                                              14557\n",
       "Internet_Usage_per_percent_Population                      97\n",
       "Total_Labour_force                                        833\n",
       "Cellular_subscriptions_per_100_people                     830\n",
       "GDPpyear                                                  956\n",
       "GDPpcapital                                              1243\n",
       "Expense_percent_of_GDP)                                    47\n",
       "Physicians_per_1,000_people)                                8\n",
       "Refugee_population_by_country_or_territory_of_origin      559\n",
       "Suicidesper100k                                          4137\n",
       "dtype: int64"
      ]
     },
     "execution_count": 32,
     "metadata": {},
     "output_type": "execute_result"
    }
   ],
   "source": [
    "sucidedataframe.nunique()  # outputs unique values in each column in a data frame."
   ]
  },
  {
   "cell_type": "code",
   "execution_count": 33,
   "id": "41d6b0e6",
   "metadata": {},
   "outputs": [
    {
     "data": {
      "text/plain": [
       "0"
      ]
     },
     "execution_count": 33,
     "metadata": {},
     "output_type": "execute_result"
    }
   ],
   "source": [
    "sucidedataframe.duplicated().sum()  # gives the sum of duplicate dvalues"
   ]
  },
  {
   "cell_type": "code",
   "execution_count": 34,
   "id": "5a0ee37c",
   "metadata": {},
   "outputs": [
    {
     "name": "stdout",
     "output_type": "stream",
     "text": [
      "Gender\n",
      "female    7555\n",
      "male      7555\n",
      "dtype: int64\n"
     ]
    }
   ],
   "source": [
    "print(sucidedataframe.pivot_table(columns=['Gender'], aggfunc='size'))  # counts duplicates in the selected dataframe column."
   ]
  },
  {
   "cell_type": "code",
   "execution_count": 35,
   "id": "273f7c13",
   "metadata": {},
   "outputs": [
    {
     "name": "stdout",
     "output_type": "stream",
     "text": [
      "Country\n",
      "Argentina               372\n",
      "Armenia                 298\n",
      "Australia               360\n",
      "Austria                 382\n",
      "Azerbaijan              192\n",
      "Belgium                 372\n",
      "Brazil                  372\n",
      "Bulgaria                360\n",
      "Canada                  348\n",
      "Chile                   372\n",
      "Colombia                372\n",
      "Croatia                 262\n",
      "Cuba                    288\n",
      "Czech Republic          322\n",
      "Denmark                 264\n",
      "Finland                 348\n",
      "France                  360\n",
      "Georgia                 264\n",
      "Germany                 312\n",
      "Greece                  372\n",
      "Hungary                 310\n",
      "Iceland                 382\n",
      "Ireland                 360\n",
      "Israel                  372\n",
      "Italy                   372\n",
      "Jamaica                 204\n",
      "Japan                   372\n",
      "Mexico                  372\n",
      "Mongolia                 10\n",
      "Netherlands             382\n",
      "New Zealand             348\n",
      "Norway                  360\n",
      "Poland                  288\n",
      "Portugal                324\n",
      "Romania                 334\n",
      "Russian Federation      324\n",
      "South Africa            240\n",
      "Spain                   372\n",
      "Sweden                  358\n",
      "Switzerland             252\n",
      "Thailand                334\n",
      "Turkey                   84\n",
      "Turkmenistan            348\n",
      "Ukraine                 336\n",
      "United Arab Emirates     72\n",
      "United Kingdom          372\n",
      "United States           372\n",
      "Uzbekistan              264\n",
      "dtype: int64\n"
     ]
    }
   ],
   "source": [
    "print(sucidedataframe.pivot_table(columns=['Country'], aggfunc='size'))  # counts duplicates in the selected dataframe column."
   ]
  },
  {
   "cell_type": "code",
   "execution_count": 36,
   "id": "67a56816",
   "metadata": {},
   "outputs": [
    {
     "data": {
      "text/html": [
       "<div>\n",
       "<style scoped>\n",
       "    .dataframe tbody tr th:only-of-type {\n",
       "        vertical-align: middle;\n",
       "    }\n",
       "\n",
       "    .dataframe tbody tr th {\n",
       "        vertical-align: top;\n",
       "    }\n",
       "\n",
       "    .dataframe thead th {\n",
       "        text-align: right;\n",
       "    }\n",
       "</style>\n",
       "<table border=\"1\" class=\"dataframe\">\n",
       "  <thead>\n",
       "    <tr style=\"text-align: right;\">\n",
       "      <th></th>\n",
       "      <th>Country</th>\n",
       "      <th>Age</th>\n",
       "      <th>Gender</th>\n",
       "      <th>Population</th>\n",
       "      <th>Internet_Usage_per_percent_Population</th>\n",
       "      <th>Total_Labour_force</th>\n",
       "      <th>Cellular_subscriptions_per_100_people</th>\n",
       "      <th>GDPpyear</th>\n",
       "      <th>GDPpcapital</th>\n",
       "      <th>Expense_percent_of_GDP)</th>\n",
       "      <th>Physicians_per_1,000_people)</th>\n",
       "      <th>Refugee_population_by_country_or_territory_of_origin</th>\n",
       "      <th>Suicidesper100k</th>\n",
       "    </tr>\n",
       "  </thead>\n",
       "  <tbody>\n",
       "    <tr>\n",
       "      <th>0</th>\n",
       "      <td>Argentina</td>\n",
       "      <td>75+ years</td>\n",
       "      <td>male</td>\n",
       "      <td>363000</td>\n",
       "      <td>0</td>\n",
       "      <td>0</td>\n",
       "      <td>0.0</td>\n",
       "      <td>8.841667e+10</td>\n",
       "      <td>3264</td>\n",
       "      <td>0</td>\n",
       "      <td>0</td>\n",
       "      <td>0</td>\n",
       "      <td>55.65</td>\n",
       "    </tr>\n",
       "  </tbody>\n",
       "</table>\n",
       "</div>"
      ],
      "text/plain": [
       "     Country        Age Gender  Population  \\\n",
       "0  Argentina  75+ years   male      363000   \n",
       "\n",
       "   Internet_Usage_per_percent_Population  Total_Labour_force  \\\n",
       "0                                      0                   0   \n",
       "\n",
       "   Cellular_subscriptions_per_100_people      GDPpyear  GDPpcapital  \\\n",
       "0                                    0.0  8.841667e+10         3264   \n",
       "\n",
       "   Expense_percent_of_GDP)  Physicians_per_1,000_people)  \\\n",
       "0                        0                             0   \n",
       "\n",
       "   Refugee_population_by_country_or_territory_of_origin  Suicidesper100k  \n",
       "0                                                  0               55.65  "
      ]
     },
     "execution_count": 36,
     "metadata": {},
     "output_type": "execute_result"
    }
   ],
   "source": [
    "sucidedataframe.head(1)  # outputs the head of the dataframe"
   ]
  },
  {
   "cell_type": "code",
   "execution_count": 37,
   "id": "f2625a68",
   "metadata": {},
   "outputs": [
    {
     "name": "stdout",
     "output_type": "stream",
     "text": [
      "Age\n",
      "15-24 years    2522\n",
      "25-34 years    2522\n",
      "35-54 years    2522\n",
      "5-14 years     2500\n",
      "55-74 years    2522\n",
      "75+ years      2522\n",
      "dtype: int64\n"
     ]
    }
   ],
   "source": [
    "print(sucidedataframe.pivot_table(columns=['Age'], aggfunc='size'))  # counts duplicates in the selected dataframe column."
   ]
  },
  {
   "cell_type": "code",
   "execution_count": 38,
   "id": "089fd561",
   "metadata": {},
   "outputs": [],
   "source": [
    "sucidedataframe.index = pd.RangeIndex(len(sucidedataframe.index))  # outputs indext of the data frame"
   ]
  },
  {
   "cell_type": "code",
   "execution_count": 39,
   "id": "927b3e9d",
   "metadata": {},
   "outputs": [
    {
     "data": {
      "text/html": [
       "<div>\n",
       "<style scoped>\n",
       "    .dataframe tbody tr th:only-of-type {\n",
       "        vertical-align: middle;\n",
       "    }\n",
       "\n",
       "    .dataframe tbody tr th {\n",
       "        vertical-align: top;\n",
       "    }\n",
       "\n",
       "    .dataframe thead th {\n",
       "        text-align: right;\n",
       "    }\n",
       "</style>\n",
       "<table border=\"1\" class=\"dataframe\">\n",
       "  <thead>\n",
       "    <tr style=\"text-align: right;\">\n",
       "      <th></th>\n",
       "      <th>Country</th>\n",
       "      <th>Age</th>\n",
       "      <th>Gender</th>\n",
       "      <th>Population</th>\n",
       "      <th>Internet_Usage_per_percent_Population</th>\n",
       "      <th>Total_Labour_force</th>\n",
       "      <th>Cellular_subscriptions_per_100_people</th>\n",
       "      <th>GDPpyear</th>\n",
       "      <th>GDPpcapital</th>\n",
       "      <th>Expense_percent_of_GDP)</th>\n",
       "      <th>Physicians_per_1,000_people)</th>\n",
       "      <th>Refugee_population_by_country_or_territory_of_origin</th>\n",
       "      <th>Suicidesper100k</th>\n",
       "    </tr>\n",
       "  </thead>\n",
       "  <tbody>\n",
       "    <tr>\n",
       "      <th>0</th>\n",
       "      <td>Argentina</td>\n",
       "      <td>75+ years</td>\n",
       "      <td>male</td>\n",
       "      <td>363000</td>\n",
       "      <td>0</td>\n",
       "      <td>0</td>\n",
       "      <td>0.0</td>\n",
       "      <td>8.841667e+10</td>\n",
       "      <td>3264</td>\n",
       "      <td>0</td>\n",
       "      <td>0</td>\n",
       "      <td>0</td>\n",
       "      <td>55.65</td>\n",
       "    </tr>\n",
       "    <tr>\n",
       "      <th>1</th>\n",
       "      <td>Argentina</td>\n",
       "      <td>55-74 years</td>\n",
       "      <td>male</td>\n",
       "      <td>1997000</td>\n",
       "      <td>0</td>\n",
       "      <td>0</td>\n",
       "      <td>0.0</td>\n",
       "      <td>8.841667e+10</td>\n",
       "      <td>3264</td>\n",
       "      <td>0</td>\n",
       "      <td>0</td>\n",
       "      <td>0</td>\n",
       "      <td>24.29</td>\n",
       "    </tr>\n",
       "    <tr>\n",
       "      <th>2</th>\n",
       "      <td>Argentina</td>\n",
       "      <td>35-54 years</td>\n",
       "      <td>male</td>\n",
       "      <td>3346300</td>\n",
       "      <td>0</td>\n",
       "      <td>0</td>\n",
       "      <td>0.0</td>\n",
       "      <td>8.841667e+10</td>\n",
       "      <td>3264</td>\n",
       "      <td>0</td>\n",
       "      <td>0</td>\n",
       "      <td>0</td>\n",
       "      <td>12.37</td>\n",
       "    </tr>\n",
       "    <tr>\n",
       "      <th>3</th>\n",
       "      <td>Argentina</td>\n",
       "      <td>55-74 years</td>\n",
       "      <td>female</td>\n",
       "      <td>2304000</td>\n",
       "      <td>0</td>\n",
       "      <td>0</td>\n",
       "      <td>0.0</td>\n",
       "      <td>8.841667e+10</td>\n",
       "      <td>3264</td>\n",
       "      <td>0</td>\n",
       "      <td>0</td>\n",
       "      <td>0</td>\n",
       "      <td>9.11</td>\n",
       "    </tr>\n",
       "    <tr>\n",
       "      <th>4</th>\n",
       "      <td>Argentina</td>\n",
       "      <td>25-34 years</td>\n",
       "      <td>male</td>\n",
       "      <td>2234200</td>\n",
       "      <td>0</td>\n",
       "      <td>0</td>\n",
       "      <td>0.0</td>\n",
       "      <td>8.841667e+10</td>\n",
       "      <td>3264</td>\n",
       "      <td>0</td>\n",
       "      <td>0</td>\n",
       "      <td>0</td>\n",
       "      <td>7.92</td>\n",
       "    </tr>\n",
       "  </tbody>\n",
       "</table>\n",
       "</div>"
      ],
      "text/plain": [
       "     Country          Age  Gender  Population  \\\n",
       "0  Argentina    75+ years    male      363000   \n",
       "1  Argentina  55-74 years    male     1997000   \n",
       "2  Argentina  35-54 years    male     3346300   \n",
       "3  Argentina  55-74 years  female     2304000   \n",
       "4  Argentina  25-34 years    male     2234200   \n",
       "\n",
       "   Internet_Usage_per_percent_Population  Total_Labour_force  \\\n",
       "0                                      0                   0   \n",
       "1                                      0                   0   \n",
       "2                                      0                   0   \n",
       "3                                      0                   0   \n",
       "4                                      0                   0   \n",
       "\n",
       "   Cellular_subscriptions_per_100_people      GDPpyear  GDPpcapital  \\\n",
       "0                                    0.0  8.841667e+10         3264   \n",
       "1                                    0.0  8.841667e+10         3264   \n",
       "2                                    0.0  8.841667e+10         3264   \n",
       "3                                    0.0  8.841667e+10         3264   \n",
       "4                                    0.0  8.841667e+10         3264   \n",
       "\n",
       "   Expense_percent_of_GDP)  Physicians_per_1,000_people)  \\\n",
       "0                        0                             0   \n",
       "1                        0                             0   \n",
       "2                        0                             0   \n",
       "3                        0                             0   \n",
       "4                        0                             0   \n",
       "\n",
       "   Refugee_population_by_country_or_territory_of_origin  Suicidesper100k  \n",
       "0                                                  0               55.65  \n",
       "1                                                  0               24.29  \n",
       "2                                                  0               12.37  \n",
       "3                                                  0                9.11  \n",
       "4                                                  0                7.92  "
      ]
     },
     "execution_count": 39,
     "metadata": {},
     "output_type": "execute_result"
    }
   ],
   "source": [
    "sucidedataframe.head()"
   ]
  },
  {
   "cell_type": "markdown",
   "id": "1464be8b",
   "metadata": {},
   "source": [
    "### One Hot Encoding"
   ]
  },
  {
   "cell_type": "code",
   "execution_count": 40,
   "id": "46ae9833",
   "metadata": {},
   "outputs": [],
   "source": [
    "def encodingoh(required_column,dropped_column,column_rename):  # function to perform the one hot encoding with parameters given.\n",
    "    oh = OneHotEncoder(drop=dropped_column,dtype=np.int)  # creates the instace of the object.\n",
    "    newdf = required_column  # creates a new data frame from the column to be one hot encoded\n",
    "    newdf = oh.fit_transform(newdf).toarray()  # one hot enocdes the new dataframe as a array\n",
    "    newdf = pd.DataFrame(newdf)  # converts the newly created array to a dataframe.\n",
    "    newdf.columns = column_rename  # renames the newly encoded column\n",
    "    print(newdf.head(5))  # outputs the head of the dataframe.\n",
    "    return newdf  # returns the one hot encoded data frame"
   ]
  },
  {
   "cell_type": "code",
   "execution_count": 41,
   "id": "15c877eb",
   "metadata": {},
   "outputs": [
    {
     "name": "stdout",
     "output_type": "stream",
     "text": [
      "Gender\n",
      "female    7555\n",
      "male      7555\n",
      "dtype: int64\n"
     ]
    }
   ],
   "source": [
    "print(sucidedataframe.pivot_table(columns=['Gender'], aggfunc='size'))  # prints the unique values of the column."
   ]
  },
  {
   "cell_type": "code",
   "execution_count": 42,
   "id": "f5344ca0",
   "metadata": {},
   "outputs": [
    {
     "name": "stdout",
     "output_type": "stream",
     "text": [
      "Age\n",
      "15-24 years    2522\n",
      "25-34 years    2522\n",
      "35-54 years    2522\n",
      "5-14 years     2500\n",
      "55-74 years    2522\n",
      "75+ years      2522\n",
      "dtype: int64\n"
     ]
    }
   ],
   "source": [
    "print(sucidedataframe.pivot_table(columns=['Age'], aggfunc='size'))  # prints the unique values of the column."
   ]
  },
  {
   "cell_type": "code",
   "execution_count": 43,
   "id": "940c17ad",
   "metadata": {},
   "outputs": [
    {
     "name": "stdout",
     "output_type": "stream",
     "text": [
      "   15-24 years  25-34 years  35-54 years  5-14 years  55-74 years  75+ years\n",
      "0            0            0            0           0            0          1\n",
      "1            0            0            0           0            1          0\n",
      "2            0            0            1           0            0          0\n",
      "3            0            0            0           0            1          0\n",
      "4            0            1            0           0            0          0\n"
     ]
    }
   ],
   "source": [
    "#  one hot enocdes the column using the created function.\n",
    "age = encodingoh(sucidedataframe[[\"Age\"]], None, ['15-24 years',\"25-34 years\", \"35-54 years\", \"5-14 years\", \"55-74 years\", \"75+ years\"])"
   ]
  },
  {
   "cell_type": "code",
   "execution_count": 44,
   "id": "431911af",
   "metadata": {},
   "outputs": [
    {
     "name": "stdout",
     "output_type": "stream",
     "text": [
      "   Gender\n",
      "0       1\n",
      "1       1\n",
      "2       1\n",
      "3       0\n",
      "4       1\n"
     ]
    }
   ],
   "source": [
    "#  one hot enocdes the column using the created function.\n",
    "gender = encodingoh(sucidedataframe[[\"Gender\"]], \"first\", [\"Gender\"])"
   ]
  },
  {
   "cell_type": "code",
   "execution_count": 45,
   "id": "c1cc6bf2",
   "metadata": {},
   "outputs": [],
   "source": [
    "sucidedataframe = sucidedataframe.drop('Age', 1)  # column is dropped"
   ]
  },
  {
   "cell_type": "code",
   "execution_count": 46,
   "id": "196ccaac",
   "metadata": {},
   "outputs": [],
   "source": [
    "sucidedataframe = sucidedataframe.drop('Gender', 1)   # column is dropped"
   ]
  },
  {
   "cell_type": "code",
   "execution_count": 47,
   "id": "289e2f65",
   "metadata": {},
   "outputs": [
    {
     "data": {
      "text/html": [
       "<div>\n",
       "<style scoped>\n",
       "    .dataframe tbody tr th:only-of-type {\n",
       "        vertical-align: middle;\n",
       "    }\n",
       "\n",
       "    .dataframe tbody tr th {\n",
       "        vertical-align: top;\n",
       "    }\n",
       "\n",
       "    .dataframe thead th {\n",
       "        text-align: right;\n",
       "    }\n",
       "</style>\n",
       "<table border=\"1\" class=\"dataframe\">\n",
       "  <thead>\n",
       "    <tr style=\"text-align: right;\">\n",
       "      <th></th>\n",
       "      <th>Country</th>\n",
       "      <th>Population</th>\n",
       "      <th>Internet_Usage_per_percent_Population</th>\n",
       "      <th>Total_Labour_force</th>\n",
       "      <th>Cellular_subscriptions_per_100_people</th>\n",
       "      <th>GDPpyear</th>\n",
       "      <th>GDPpcapital</th>\n",
       "      <th>Expense_percent_of_GDP)</th>\n",
       "      <th>Physicians_per_1,000_people)</th>\n",
       "      <th>Refugee_population_by_country_or_territory_of_origin</th>\n",
       "      <th>Suicidesper100k</th>\n",
       "    </tr>\n",
       "  </thead>\n",
       "  <tbody>\n",
       "    <tr>\n",
       "      <th>0</th>\n",
       "      <td>Argentina</td>\n",
       "      <td>363000</td>\n",
       "      <td>0</td>\n",
       "      <td>0</td>\n",
       "      <td>0.0</td>\n",
       "      <td>8.841667e+10</td>\n",
       "      <td>3264</td>\n",
       "      <td>0</td>\n",
       "      <td>0</td>\n",
       "      <td>0</td>\n",
       "      <td>55.65</td>\n",
       "    </tr>\n",
       "    <tr>\n",
       "      <th>1</th>\n",
       "      <td>Argentina</td>\n",
       "      <td>1997000</td>\n",
       "      <td>0</td>\n",
       "      <td>0</td>\n",
       "      <td>0.0</td>\n",
       "      <td>8.841667e+10</td>\n",
       "      <td>3264</td>\n",
       "      <td>0</td>\n",
       "      <td>0</td>\n",
       "      <td>0</td>\n",
       "      <td>24.29</td>\n",
       "    </tr>\n",
       "    <tr>\n",
       "      <th>2</th>\n",
       "      <td>Argentina</td>\n",
       "      <td>3346300</td>\n",
       "      <td>0</td>\n",
       "      <td>0</td>\n",
       "      <td>0.0</td>\n",
       "      <td>8.841667e+10</td>\n",
       "      <td>3264</td>\n",
       "      <td>0</td>\n",
       "      <td>0</td>\n",
       "      <td>0</td>\n",
       "      <td>12.37</td>\n",
       "    </tr>\n",
       "    <tr>\n",
       "      <th>3</th>\n",
       "      <td>Argentina</td>\n",
       "      <td>2304000</td>\n",
       "      <td>0</td>\n",
       "      <td>0</td>\n",
       "      <td>0.0</td>\n",
       "      <td>8.841667e+10</td>\n",
       "      <td>3264</td>\n",
       "      <td>0</td>\n",
       "      <td>0</td>\n",
       "      <td>0</td>\n",
       "      <td>9.11</td>\n",
       "    </tr>\n",
       "    <tr>\n",
       "      <th>4</th>\n",
       "      <td>Argentina</td>\n",
       "      <td>2234200</td>\n",
       "      <td>0</td>\n",
       "      <td>0</td>\n",
       "      <td>0.0</td>\n",
       "      <td>8.841667e+10</td>\n",
       "      <td>3264</td>\n",
       "      <td>0</td>\n",
       "      <td>0</td>\n",
       "      <td>0</td>\n",
       "      <td>7.92</td>\n",
       "    </tr>\n",
       "  </tbody>\n",
       "</table>\n",
       "</div>"
      ],
      "text/plain": [
       "     Country  Population  Internet_Usage_per_percent_Population  \\\n",
       "0  Argentina      363000                                      0   \n",
       "1  Argentina     1997000                                      0   \n",
       "2  Argentina     3346300                                      0   \n",
       "3  Argentina     2304000                                      0   \n",
       "4  Argentina     2234200                                      0   \n",
       "\n",
       "   Total_Labour_force  Cellular_subscriptions_per_100_people      GDPpyear  \\\n",
       "0                   0                                    0.0  8.841667e+10   \n",
       "1                   0                                    0.0  8.841667e+10   \n",
       "2                   0                                    0.0  8.841667e+10   \n",
       "3                   0                                    0.0  8.841667e+10   \n",
       "4                   0                                    0.0  8.841667e+10   \n",
       "\n",
       "   GDPpcapital  Expense_percent_of_GDP)  Physicians_per_1,000_people)  \\\n",
       "0         3264                        0                             0   \n",
       "1         3264                        0                             0   \n",
       "2         3264                        0                             0   \n",
       "3         3264                        0                             0   \n",
       "4         3264                        0                             0   \n",
       "\n",
       "   Refugee_population_by_country_or_territory_of_origin  Suicidesper100k  \n",
       "0                                                  0               55.65  \n",
       "1                                                  0               24.29  \n",
       "2                                                  0               12.37  \n",
       "3                                                  0                9.11  \n",
       "4                                                  0                7.92  "
      ]
     },
     "execution_count": 47,
     "metadata": {},
     "output_type": "execute_result"
    }
   ],
   "source": [
    "sucidedataframe.head(5)  # dataframe head is printed."
   ]
  },
  {
   "cell_type": "code",
   "execution_count": 48,
   "id": "2b735da9",
   "metadata": {},
   "outputs": [
    {
     "data": {
      "text/html": [
       "<div>\n",
       "<style scoped>\n",
       "    .dataframe tbody tr th:only-of-type {\n",
       "        vertical-align: middle;\n",
       "    }\n",
       "\n",
       "    .dataframe tbody tr th {\n",
       "        vertical-align: top;\n",
       "    }\n",
       "\n",
       "    .dataframe thead th {\n",
       "        text-align: right;\n",
       "    }\n",
       "</style>\n",
       "<table border=\"1\" class=\"dataframe\">\n",
       "  <thead>\n",
       "    <tr style=\"text-align: right;\">\n",
       "      <th></th>\n",
       "      <th>Gender</th>\n",
       "      <th>Country</th>\n",
       "      <th>Population</th>\n",
       "      <th>Internet_Usage_per_percent_Population</th>\n",
       "      <th>Total_Labour_force</th>\n",
       "      <th>Cellular_subscriptions_per_100_people</th>\n",
       "      <th>GDPpyear</th>\n",
       "      <th>GDPpcapital</th>\n",
       "      <th>Expense_percent_of_GDP)</th>\n",
       "      <th>Physicians_per_1,000_people)</th>\n",
       "      <th>Refugee_population_by_country_or_territory_of_origin</th>\n",
       "      <th>Suicidesper100k</th>\n",
       "    </tr>\n",
       "  </thead>\n",
       "  <tbody>\n",
       "    <tr>\n",
       "      <th>0</th>\n",
       "      <td>1</td>\n",
       "      <td>Argentina</td>\n",
       "      <td>363000</td>\n",
       "      <td>0</td>\n",
       "      <td>0</td>\n",
       "      <td>0.0</td>\n",
       "      <td>8.841667e+10</td>\n",
       "      <td>3264</td>\n",
       "      <td>0</td>\n",
       "      <td>0</td>\n",
       "      <td>0</td>\n",
       "      <td>55.65</td>\n",
       "    </tr>\n",
       "    <tr>\n",
       "      <th>1</th>\n",
       "      <td>1</td>\n",
       "      <td>Argentina</td>\n",
       "      <td>1997000</td>\n",
       "      <td>0</td>\n",
       "      <td>0</td>\n",
       "      <td>0.0</td>\n",
       "      <td>8.841667e+10</td>\n",
       "      <td>3264</td>\n",
       "      <td>0</td>\n",
       "      <td>0</td>\n",
       "      <td>0</td>\n",
       "      <td>24.29</td>\n",
       "    </tr>\n",
       "    <tr>\n",
       "      <th>2</th>\n",
       "      <td>1</td>\n",
       "      <td>Argentina</td>\n",
       "      <td>3346300</td>\n",
       "      <td>0</td>\n",
       "      <td>0</td>\n",
       "      <td>0.0</td>\n",
       "      <td>8.841667e+10</td>\n",
       "      <td>3264</td>\n",
       "      <td>0</td>\n",
       "      <td>0</td>\n",
       "      <td>0</td>\n",
       "      <td>12.37</td>\n",
       "    </tr>\n",
       "    <tr>\n",
       "      <th>3</th>\n",
       "      <td>0</td>\n",
       "      <td>Argentina</td>\n",
       "      <td>2304000</td>\n",
       "      <td>0</td>\n",
       "      <td>0</td>\n",
       "      <td>0.0</td>\n",
       "      <td>8.841667e+10</td>\n",
       "      <td>3264</td>\n",
       "      <td>0</td>\n",
       "      <td>0</td>\n",
       "      <td>0</td>\n",
       "      <td>9.11</td>\n",
       "    </tr>\n",
       "    <tr>\n",
       "      <th>4</th>\n",
       "      <td>1</td>\n",
       "      <td>Argentina</td>\n",
       "      <td>2234200</td>\n",
       "      <td>0</td>\n",
       "      <td>0</td>\n",
       "      <td>0.0</td>\n",
       "      <td>8.841667e+10</td>\n",
       "      <td>3264</td>\n",
       "      <td>0</td>\n",
       "      <td>0</td>\n",
       "      <td>0</td>\n",
       "      <td>7.92</td>\n",
       "    </tr>\n",
       "  </tbody>\n",
       "</table>\n",
       "</div>"
      ],
      "text/plain": [
       "   Gender    Country  Population  Internet_Usage_per_percent_Population  \\\n",
       "0       1  Argentina      363000                                      0   \n",
       "1       1  Argentina     1997000                                      0   \n",
       "2       1  Argentina     3346300                                      0   \n",
       "3       0  Argentina     2304000                                      0   \n",
       "4       1  Argentina     2234200                                      0   \n",
       "\n",
       "   Total_Labour_force  Cellular_subscriptions_per_100_people      GDPpyear  \\\n",
       "0                   0                                    0.0  8.841667e+10   \n",
       "1                   0                                    0.0  8.841667e+10   \n",
       "2                   0                                    0.0  8.841667e+10   \n",
       "3                   0                                    0.0  8.841667e+10   \n",
       "4                   0                                    0.0  8.841667e+10   \n",
       "\n",
       "   GDPpcapital  Expense_percent_of_GDP)  Physicians_per_1,000_people)  \\\n",
       "0         3264                        0                             0   \n",
       "1         3264                        0                             0   \n",
       "2         3264                        0                             0   \n",
       "3         3264                        0                             0   \n",
       "4         3264                        0                             0   \n",
       "\n",
       "   Refugee_population_by_country_or_territory_of_origin  Suicidesper100k  \n",
       "0                                                  0               55.65  \n",
       "1                                                  0               24.29  \n",
       "2                                                  0               12.37  \n",
       "3                                                  0                9.11  \n",
       "4                                                  0                7.92  "
      ]
     },
     "execution_count": 48,
     "metadata": {},
     "output_type": "execute_result"
    }
   ],
   "source": [
    "sucidedataframe = pd.concat([ gender,sucidedataframe],axis=1)  # column is concatanated to dataframe\n",
    "sucidedataframe.head()  # fisrt elements of the dataframe are outptted"
   ]
  },
  {
   "cell_type": "code",
   "execution_count": 49,
   "id": "7afd1323",
   "metadata": {},
   "outputs": [
    {
     "data": {
      "text/html": [
       "<div>\n",
       "<style scoped>\n",
       "    .dataframe tbody tr th:only-of-type {\n",
       "        vertical-align: middle;\n",
       "    }\n",
       "\n",
       "    .dataframe tbody tr th {\n",
       "        vertical-align: top;\n",
       "    }\n",
       "\n",
       "    .dataframe thead th {\n",
       "        text-align: right;\n",
       "    }\n",
       "</style>\n",
       "<table border=\"1\" class=\"dataframe\">\n",
       "  <thead>\n",
       "    <tr style=\"text-align: right;\">\n",
       "      <th></th>\n",
       "      <th>15-24 years</th>\n",
       "      <th>25-34 years</th>\n",
       "      <th>35-54 years</th>\n",
       "      <th>5-14 years</th>\n",
       "      <th>55-74 years</th>\n",
       "      <th>75+ years</th>\n",
       "      <th>Gender</th>\n",
       "      <th>Country</th>\n",
       "      <th>Population</th>\n",
       "      <th>Internet_Usage_per_percent_Population</th>\n",
       "      <th>Total_Labour_force</th>\n",
       "      <th>Cellular_subscriptions_per_100_people</th>\n",
       "      <th>GDPpyear</th>\n",
       "      <th>GDPpcapital</th>\n",
       "      <th>Expense_percent_of_GDP)</th>\n",
       "      <th>Physicians_per_1,000_people)</th>\n",
       "      <th>Refugee_population_by_country_or_territory_of_origin</th>\n",
       "      <th>Suicidesper100k</th>\n",
       "    </tr>\n",
       "  </thead>\n",
       "  <tbody>\n",
       "    <tr>\n",
       "      <th>0</th>\n",
       "      <td>0</td>\n",
       "      <td>0</td>\n",
       "      <td>0</td>\n",
       "      <td>0</td>\n",
       "      <td>0</td>\n",
       "      <td>1</td>\n",
       "      <td>1</td>\n",
       "      <td>Argentina</td>\n",
       "      <td>363000</td>\n",
       "      <td>0</td>\n",
       "      <td>0</td>\n",
       "      <td>0.0</td>\n",
       "      <td>8.841667e+10</td>\n",
       "      <td>3264</td>\n",
       "      <td>0</td>\n",
       "      <td>0</td>\n",
       "      <td>0</td>\n",
       "      <td>55.65</td>\n",
       "    </tr>\n",
       "    <tr>\n",
       "      <th>1</th>\n",
       "      <td>0</td>\n",
       "      <td>0</td>\n",
       "      <td>0</td>\n",
       "      <td>0</td>\n",
       "      <td>1</td>\n",
       "      <td>0</td>\n",
       "      <td>1</td>\n",
       "      <td>Argentina</td>\n",
       "      <td>1997000</td>\n",
       "      <td>0</td>\n",
       "      <td>0</td>\n",
       "      <td>0.0</td>\n",
       "      <td>8.841667e+10</td>\n",
       "      <td>3264</td>\n",
       "      <td>0</td>\n",
       "      <td>0</td>\n",
       "      <td>0</td>\n",
       "      <td>24.29</td>\n",
       "    </tr>\n",
       "    <tr>\n",
       "      <th>2</th>\n",
       "      <td>0</td>\n",
       "      <td>0</td>\n",
       "      <td>1</td>\n",
       "      <td>0</td>\n",
       "      <td>0</td>\n",
       "      <td>0</td>\n",
       "      <td>1</td>\n",
       "      <td>Argentina</td>\n",
       "      <td>3346300</td>\n",
       "      <td>0</td>\n",
       "      <td>0</td>\n",
       "      <td>0.0</td>\n",
       "      <td>8.841667e+10</td>\n",
       "      <td>3264</td>\n",
       "      <td>0</td>\n",
       "      <td>0</td>\n",
       "      <td>0</td>\n",
       "      <td>12.37</td>\n",
       "    </tr>\n",
       "    <tr>\n",
       "      <th>3</th>\n",
       "      <td>0</td>\n",
       "      <td>0</td>\n",
       "      <td>0</td>\n",
       "      <td>0</td>\n",
       "      <td>1</td>\n",
       "      <td>0</td>\n",
       "      <td>0</td>\n",
       "      <td>Argentina</td>\n",
       "      <td>2304000</td>\n",
       "      <td>0</td>\n",
       "      <td>0</td>\n",
       "      <td>0.0</td>\n",
       "      <td>8.841667e+10</td>\n",
       "      <td>3264</td>\n",
       "      <td>0</td>\n",
       "      <td>0</td>\n",
       "      <td>0</td>\n",
       "      <td>9.11</td>\n",
       "    </tr>\n",
       "    <tr>\n",
       "      <th>4</th>\n",
       "      <td>0</td>\n",
       "      <td>1</td>\n",
       "      <td>0</td>\n",
       "      <td>0</td>\n",
       "      <td>0</td>\n",
       "      <td>0</td>\n",
       "      <td>1</td>\n",
       "      <td>Argentina</td>\n",
       "      <td>2234200</td>\n",
       "      <td>0</td>\n",
       "      <td>0</td>\n",
       "      <td>0.0</td>\n",
       "      <td>8.841667e+10</td>\n",
       "      <td>3264</td>\n",
       "      <td>0</td>\n",
       "      <td>0</td>\n",
       "      <td>0</td>\n",
       "      <td>7.92</td>\n",
       "    </tr>\n",
       "    <tr>\n",
       "      <th>...</th>\n",
       "      <td>...</td>\n",
       "      <td>...</td>\n",
       "      <td>...</td>\n",
       "      <td>...</td>\n",
       "      <td>...</td>\n",
       "      <td>...</td>\n",
       "      <td>...</td>\n",
       "      <td>...</td>\n",
       "      <td>...</td>\n",
       "      <td>...</td>\n",
       "      <td>...</td>\n",
       "      <td>...</td>\n",
       "      <td>...</td>\n",
       "      <td>...</td>\n",
       "      <td>...</td>\n",
       "      <td>...</td>\n",
       "      <td>...</td>\n",
       "      <td>...</td>\n",
       "    </tr>\n",
       "    <tr>\n",
       "      <th>15105</th>\n",
       "      <td>0</td>\n",
       "      <td>0</td>\n",
       "      <td>1</td>\n",
       "      <td>0</td>\n",
       "      <td>0</td>\n",
       "      <td>0</td>\n",
       "      <td>0</td>\n",
       "      <td>Uzbekistan</td>\n",
       "      <td>3620833</td>\n",
       "      <td>0</td>\n",
       "      <td>0</td>\n",
       "      <td>0.0</td>\n",
       "      <td>6.306708e+10</td>\n",
       "      <td>2309</td>\n",
       "      <td>0</td>\n",
       "      <td>0</td>\n",
       "      <td>0</td>\n",
       "      <td>2.96</td>\n",
       "    </tr>\n",
       "    <tr>\n",
       "      <th>15106</th>\n",
       "      <td>0</td>\n",
       "      <td>0</td>\n",
       "      <td>0</td>\n",
       "      <td>0</td>\n",
       "      <td>0</td>\n",
       "      <td>1</td>\n",
       "      <td>0</td>\n",
       "      <td>Uzbekistan</td>\n",
       "      <td>348465</td>\n",
       "      <td>0</td>\n",
       "      <td>0</td>\n",
       "      <td>0.0</td>\n",
       "      <td>6.306708e+10</td>\n",
       "      <td>2309</td>\n",
       "      <td>0</td>\n",
       "      <td>0</td>\n",
       "      <td>0</td>\n",
       "      <td>2.58</td>\n",
       "    </tr>\n",
       "    <tr>\n",
       "      <th>15107</th>\n",
       "      <td>0</td>\n",
       "      <td>0</td>\n",
       "      <td>0</td>\n",
       "      <td>1</td>\n",
       "      <td>0</td>\n",
       "      <td>0</td>\n",
       "      <td>1</td>\n",
       "      <td>Uzbekistan</td>\n",
       "      <td>2762158</td>\n",
       "      <td>0</td>\n",
       "      <td>0</td>\n",
       "      <td>0.0</td>\n",
       "      <td>6.306708e+10</td>\n",
       "      <td>2309</td>\n",
       "      <td>0</td>\n",
       "      <td>0</td>\n",
       "      <td>0</td>\n",
       "      <td>2.17</td>\n",
       "    </tr>\n",
       "    <tr>\n",
       "      <th>15108</th>\n",
       "      <td>0</td>\n",
       "      <td>0</td>\n",
       "      <td>0</td>\n",
       "      <td>1</td>\n",
       "      <td>0</td>\n",
       "      <td>0</td>\n",
       "      <td>0</td>\n",
       "      <td>Uzbekistan</td>\n",
       "      <td>2631600</td>\n",
       "      <td>0</td>\n",
       "      <td>0</td>\n",
       "      <td>0.0</td>\n",
       "      <td>6.306708e+10</td>\n",
       "      <td>2309</td>\n",
       "      <td>0</td>\n",
       "      <td>0</td>\n",
       "      <td>0</td>\n",
       "      <td>1.67</td>\n",
       "    </tr>\n",
       "    <tr>\n",
       "      <th>15109</th>\n",
       "      <td>0</td>\n",
       "      <td>0</td>\n",
       "      <td>0</td>\n",
       "      <td>0</td>\n",
       "      <td>1</td>\n",
       "      <td>0</td>\n",
       "      <td>0</td>\n",
       "      <td>Uzbekistan</td>\n",
       "      <td>1438935</td>\n",
       "      <td>0</td>\n",
       "      <td>0</td>\n",
       "      <td>0.0</td>\n",
       "      <td>6.306708e+10</td>\n",
       "      <td>2309</td>\n",
       "      <td>0</td>\n",
       "      <td>0</td>\n",
       "      <td>0</td>\n",
       "      <td>1.46</td>\n",
       "    </tr>\n",
       "  </tbody>\n",
       "</table>\n",
       "<p>15110 rows × 18 columns</p>\n",
       "</div>"
      ],
      "text/plain": [
       "       15-24 years  25-34 years  35-54 years  5-14 years  55-74 years  \\\n",
       "0                0            0            0           0            0   \n",
       "1                0            0            0           0            1   \n",
       "2                0            0            1           0            0   \n",
       "3                0            0            0           0            1   \n",
       "4                0            1            0           0            0   \n",
       "...            ...          ...          ...         ...          ...   \n",
       "15105            0            0            1           0            0   \n",
       "15106            0            0            0           0            0   \n",
       "15107            0            0            0           1            0   \n",
       "15108            0            0            0           1            0   \n",
       "15109            0            0            0           0            1   \n",
       "\n",
       "       75+ years  Gender     Country  Population  \\\n",
       "0              1       1   Argentina      363000   \n",
       "1              0       1   Argentina     1997000   \n",
       "2              0       1   Argentina     3346300   \n",
       "3              0       0   Argentina     2304000   \n",
       "4              0       1   Argentina     2234200   \n",
       "...          ...     ...         ...         ...   \n",
       "15105          0       0  Uzbekistan     3620833   \n",
       "15106          1       0  Uzbekistan      348465   \n",
       "15107          0       1  Uzbekistan     2762158   \n",
       "15108          0       0  Uzbekistan     2631600   \n",
       "15109          0       0  Uzbekistan     1438935   \n",
       "\n",
       "       Internet_Usage_per_percent_Population  Total_Labour_force  \\\n",
       "0                                          0                   0   \n",
       "1                                          0                   0   \n",
       "2                                          0                   0   \n",
       "3                                          0                   0   \n",
       "4                                          0                   0   \n",
       "...                                      ...                 ...   \n",
       "15105                                      0                   0   \n",
       "15106                                      0                   0   \n",
       "15107                                      0                   0   \n",
       "15108                                      0                   0   \n",
       "15109                                      0                   0   \n",
       "\n",
       "       Cellular_subscriptions_per_100_people      GDPpyear  GDPpcapital  \\\n",
       "0                                        0.0  8.841667e+10         3264   \n",
       "1                                        0.0  8.841667e+10         3264   \n",
       "2                                        0.0  8.841667e+10         3264   \n",
       "3                                        0.0  8.841667e+10         3264   \n",
       "4                                        0.0  8.841667e+10         3264   \n",
       "...                                      ...           ...          ...   \n",
       "15105                                    0.0  6.306708e+10         2309   \n",
       "15106                                    0.0  6.306708e+10         2309   \n",
       "15107                                    0.0  6.306708e+10         2309   \n",
       "15108                                    0.0  6.306708e+10         2309   \n",
       "15109                                    0.0  6.306708e+10         2309   \n",
       "\n",
       "       Expense_percent_of_GDP)  Physicians_per_1,000_people)  \\\n",
       "0                            0                             0   \n",
       "1                            0                             0   \n",
       "2                            0                             0   \n",
       "3                            0                             0   \n",
       "4                            0                             0   \n",
       "...                        ...                           ...   \n",
       "15105                        0                             0   \n",
       "15106                        0                             0   \n",
       "15107                        0                             0   \n",
       "15108                        0                             0   \n",
       "15109                        0                             0   \n",
       "\n",
       "       Refugee_population_by_country_or_territory_of_origin  Suicidesper100k  \n",
       "0                                                      0               55.65  \n",
       "1                                                      0               24.29  \n",
       "2                                                      0               12.37  \n",
       "3                                                      0                9.11  \n",
       "4                                                      0                7.92  \n",
       "...                                                  ...                 ...  \n",
       "15105                                                  0                2.96  \n",
       "15106                                                  0                2.58  \n",
       "15107                                                  0                2.17  \n",
       "15108                                                  0                1.67  \n",
       "15109                                                  0                1.46  \n",
       "\n",
       "[15110 rows x 18 columns]"
      ]
     },
     "execution_count": 49,
     "metadata": {},
     "output_type": "execute_result"
    }
   ],
   "source": [
    "sucidedataframe = pd.concat([age,sucidedataframe],axis=1)  # column is concatanated to dataframe\n",
    "sucidedataframe  # fisrt elements of the dataframe are outptted"
   ]
  },
  {
   "cell_type": "code",
   "execution_count": 50,
   "id": "72c89dd8",
   "metadata": {},
   "outputs": [
    {
     "name": "stdout",
     "output_type": "stream",
     "text": [
      "Gender\n",
      "0    7555\n",
      "1    7555\n",
      "dtype: int64\n"
     ]
    }
   ],
   "source": [
    "print(sucidedataframe.pivot_table(columns=['Gender'], aggfunc='size'))   # prints the unique values of the column."
   ]
  },
  {
   "cell_type": "code",
   "execution_count": 51,
   "id": "7076e0f0",
   "metadata": {},
   "outputs": [
    {
     "name": "stdout",
     "output_type": "stream",
     "text": [
      "15-24 years\n",
      "0    12588\n",
      "1     2522\n",
      "dtype: int64\n"
     ]
    }
   ],
   "source": [
    "print(sucidedataframe.pivot_table(columns=['15-24 years'], aggfunc='size'))  # counts duplicates in the selected \n",
    "                                                                             # dataframe column."
   ]
  },
  {
   "cell_type": "code",
   "execution_count": 52,
   "id": "b41f1623",
   "metadata": {},
   "outputs": [
    {
     "name": "stdout",
     "output_type": "stream",
     "text": [
      "25-34 years\n",
      "0    12588\n",
      "1     2522\n",
      "dtype: int64\n"
     ]
    }
   ],
   "source": [
    "print(sucidedataframe.pivot_table(columns=[\"25-34 years\"], aggfunc='size'))  # counts duplicates in the selected \n",
    "                                                                             # dataframe column."
   ]
  },
  {
   "cell_type": "code",
   "execution_count": 53,
   "id": "6d04e72f",
   "metadata": {},
   "outputs": [
    {
     "name": "stdout",
     "output_type": "stream",
     "text": [
      "35-54 years\n",
      "0    12588\n",
      "1     2522\n",
      "dtype: int64\n"
     ]
    }
   ],
   "source": [
    "print(sucidedataframe.pivot_table(columns=[\"35-54 years\"], aggfunc='size'))  # counts duplicates in the \n",
    "                                                                        # selected dataframe column."
   ]
  },
  {
   "cell_type": "code",
   "execution_count": 54,
   "id": "13398cc4",
   "metadata": {},
   "outputs": [
    {
     "name": "stdout",
     "output_type": "stream",
     "text": [
      "5-14 years\n",
      "0    12610\n",
      "1     2500\n",
      "dtype: int64\n"
     ]
    }
   ],
   "source": [
    "print(sucidedataframe.pivot_table(columns=[\"5-14 years\"], aggfunc='size'))  # counts duplicates in the\n",
    "                                                                            # selected dataframe column."
   ]
  },
  {
   "cell_type": "code",
   "execution_count": 55,
   "id": "10adde8e",
   "metadata": {},
   "outputs": [
    {
     "name": "stdout",
     "output_type": "stream",
     "text": [
      "55-74 years\n",
      "0    12588\n",
      "1     2522\n",
      "dtype: int64\n"
     ]
    }
   ],
   "source": [
    "print(sucidedataframe.pivot_table(columns=[\"55-74 years\"], aggfunc='size'))  # counts duplicates in the \n",
    "                                                                            # selected dataframe column."
   ]
  },
  {
   "cell_type": "code",
   "execution_count": 56,
   "id": "38135d98",
   "metadata": {},
   "outputs": [
    {
     "name": "stdout",
     "output_type": "stream",
     "text": [
      "75+ years\n",
      "0    12588\n",
      "1     2522\n",
      "dtype: int64\n"
     ]
    }
   ],
   "source": [
    "print(sucidedataframe.pivot_table(columns=[\"75+ years\"], aggfunc='size'))  # counts duplicates in the \n",
    "                                                                        # selected dataframe column."
   ]
  },
  {
   "cell_type": "code",
   "execution_count": 57,
   "id": "a1793664",
   "metadata": {},
   "outputs": [
    {
     "data": {
      "text/html": [
       "<div>\n",
       "<style scoped>\n",
       "    .dataframe tbody tr th:only-of-type {\n",
       "        vertical-align: middle;\n",
       "    }\n",
       "\n",
       "    .dataframe tbody tr th {\n",
       "        vertical-align: top;\n",
       "    }\n",
       "\n",
       "    .dataframe thead th {\n",
       "        text-align: right;\n",
       "    }\n",
       "</style>\n",
       "<table border=\"1\" class=\"dataframe\">\n",
       "  <thead>\n",
       "    <tr style=\"text-align: right;\">\n",
       "      <th></th>\n",
       "      <th>15-24 years</th>\n",
       "      <th>25-34 years</th>\n",
       "      <th>35-54 years</th>\n",
       "      <th>5-14 years</th>\n",
       "      <th>55-74 years</th>\n",
       "      <th>75+ years</th>\n",
       "      <th>Gender</th>\n",
       "      <th>Country</th>\n",
       "      <th>Population</th>\n",
       "      <th>Internet_Usage_per_percent_Population</th>\n",
       "      <th>Total_Labour_force</th>\n",
       "      <th>Cellular_subscriptions_per_100_people</th>\n",
       "      <th>GDPpyear</th>\n",
       "      <th>GDPpcapital</th>\n",
       "      <th>Expense_percent_of_GDP)</th>\n",
       "      <th>Physicians_per_1,000_people)</th>\n",
       "      <th>Refugee_population_by_country_or_territory_of_origin</th>\n",
       "      <th>Suicidesper100k</th>\n",
       "    </tr>\n",
       "  </thead>\n",
       "  <tbody>\n",
       "    <tr>\n",
       "      <th>0</th>\n",
       "      <td>0</td>\n",
       "      <td>0</td>\n",
       "      <td>0</td>\n",
       "      <td>0</td>\n",
       "      <td>0</td>\n",
       "      <td>1</td>\n",
       "      <td>1</td>\n",
       "      <td>Argentina</td>\n",
       "      <td>363000</td>\n",
       "      <td>0</td>\n",
       "      <td>0</td>\n",
       "      <td>0.0</td>\n",
       "      <td>8.841667e+10</td>\n",
       "      <td>3264</td>\n",
       "      <td>0</td>\n",
       "      <td>0</td>\n",
       "      <td>0</td>\n",
       "      <td>55.65</td>\n",
       "    </tr>\n",
       "    <tr>\n",
       "      <th>1</th>\n",
       "      <td>0</td>\n",
       "      <td>0</td>\n",
       "      <td>0</td>\n",
       "      <td>0</td>\n",
       "      <td>1</td>\n",
       "      <td>0</td>\n",
       "      <td>1</td>\n",
       "      <td>Argentina</td>\n",
       "      <td>1997000</td>\n",
       "      <td>0</td>\n",
       "      <td>0</td>\n",
       "      <td>0.0</td>\n",
       "      <td>8.841667e+10</td>\n",
       "      <td>3264</td>\n",
       "      <td>0</td>\n",
       "      <td>0</td>\n",
       "      <td>0</td>\n",
       "      <td>24.29</td>\n",
       "    </tr>\n",
       "    <tr>\n",
       "      <th>2</th>\n",
       "      <td>0</td>\n",
       "      <td>0</td>\n",
       "      <td>1</td>\n",
       "      <td>0</td>\n",
       "      <td>0</td>\n",
       "      <td>0</td>\n",
       "      <td>1</td>\n",
       "      <td>Argentina</td>\n",
       "      <td>3346300</td>\n",
       "      <td>0</td>\n",
       "      <td>0</td>\n",
       "      <td>0.0</td>\n",
       "      <td>8.841667e+10</td>\n",
       "      <td>3264</td>\n",
       "      <td>0</td>\n",
       "      <td>0</td>\n",
       "      <td>0</td>\n",
       "      <td>12.37</td>\n",
       "    </tr>\n",
       "    <tr>\n",
       "      <th>3</th>\n",
       "      <td>0</td>\n",
       "      <td>0</td>\n",
       "      <td>0</td>\n",
       "      <td>0</td>\n",
       "      <td>1</td>\n",
       "      <td>0</td>\n",
       "      <td>0</td>\n",
       "      <td>Argentina</td>\n",
       "      <td>2304000</td>\n",
       "      <td>0</td>\n",
       "      <td>0</td>\n",
       "      <td>0.0</td>\n",
       "      <td>8.841667e+10</td>\n",
       "      <td>3264</td>\n",
       "      <td>0</td>\n",
       "      <td>0</td>\n",
       "      <td>0</td>\n",
       "      <td>9.11</td>\n",
       "    </tr>\n",
       "    <tr>\n",
       "      <th>4</th>\n",
       "      <td>0</td>\n",
       "      <td>1</td>\n",
       "      <td>0</td>\n",
       "      <td>0</td>\n",
       "      <td>0</td>\n",
       "      <td>0</td>\n",
       "      <td>1</td>\n",
       "      <td>Argentina</td>\n",
       "      <td>2234200</td>\n",
       "      <td>0</td>\n",
       "      <td>0</td>\n",
       "      <td>0.0</td>\n",
       "      <td>8.841667e+10</td>\n",
       "      <td>3264</td>\n",
       "      <td>0</td>\n",
       "      <td>0</td>\n",
       "      <td>0</td>\n",
       "      <td>7.92</td>\n",
       "    </tr>\n",
       "  </tbody>\n",
       "</table>\n",
       "</div>"
      ],
      "text/plain": [
       "   15-24 years  25-34 years  35-54 years  5-14 years  55-74 years  75+ years  \\\n",
       "0            0            0            0           0            0          1   \n",
       "1            0            0            0           0            1          0   \n",
       "2            0            0            1           0            0          0   \n",
       "3            0            0            0           0            1          0   \n",
       "4            0            1            0           0            0          0   \n",
       "\n",
       "   Gender    Country  Population  Internet_Usage_per_percent_Population  \\\n",
       "0       1  Argentina      363000                                      0   \n",
       "1       1  Argentina     1997000                                      0   \n",
       "2       1  Argentina     3346300                                      0   \n",
       "3       0  Argentina     2304000                                      0   \n",
       "4       1  Argentina     2234200                                      0   \n",
       "\n",
       "   Total_Labour_force  Cellular_subscriptions_per_100_people      GDPpyear  \\\n",
       "0                   0                                    0.0  8.841667e+10   \n",
       "1                   0                                    0.0  8.841667e+10   \n",
       "2                   0                                    0.0  8.841667e+10   \n",
       "3                   0                                    0.0  8.841667e+10   \n",
       "4                   0                                    0.0  8.841667e+10   \n",
       "\n",
       "   GDPpcapital  Expense_percent_of_GDP)  Physicians_per_1,000_people)  \\\n",
       "0         3264                        0                             0   \n",
       "1         3264                        0                             0   \n",
       "2         3264                        0                             0   \n",
       "3         3264                        0                             0   \n",
       "4         3264                        0                             0   \n",
       "\n",
       "   Refugee_population_by_country_or_territory_of_origin  Suicidesper100k  \n",
       "0                                                  0               55.65  \n",
       "1                                                  0               24.29  \n",
       "2                                                  0               12.37  \n",
       "3                                                  0                9.11  \n",
       "4                                                  0                7.92  "
      ]
     },
     "execution_count": 57,
     "metadata": {},
     "output_type": "execute_result"
    }
   ],
   "source": [
    "sucidedataframe.head()  # the first elements of the data frame are outputted"
   ]
  },
  {
   "cell_type": "code",
   "execution_count": 58,
   "id": "3f238b8d",
   "metadata": {},
   "outputs": [
    {
     "data": {
      "text/html": [
       "<div>\n",
       "<style scoped>\n",
       "    .dataframe tbody tr th:only-of-type {\n",
       "        vertical-align: middle;\n",
       "    }\n",
       "\n",
       "    .dataframe tbody tr th {\n",
       "        vertical-align: top;\n",
       "    }\n",
       "\n",
       "    .dataframe thead th {\n",
       "        text-align: right;\n",
       "    }\n",
       "</style>\n",
       "<table border=\"1\" class=\"dataframe\">\n",
       "  <thead>\n",
       "    <tr style=\"text-align: right;\">\n",
       "      <th></th>\n",
       "      <th>15-24 years</th>\n",
       "      <th>25-34 years</th>\n",
       "      <th>35-54 years</th>\n",
       "      <th>5-14 years</th>\n",
       "      <th>55-74 years</th>\n",
       "      <th>75+ years</th>\n",
       "      <th>Gender</th>\n",
       "      <th>Population</th>\n",
       "      <th>Internet_Usage_per_percent_Population</th>\n",
       "      <th>Total_Labour_force</th>\n",
       "      <th>Cellular_subscriptions_per_100_people</th>\n",
       "      <th>GDPpyear</th>\n",
       "      <th>GDPpcapital</th>\n",
       "      <th>Expense_percent_of_GDP)</th>\n",
       "      <th>Physicians_per_1,000_people)</th>\n",
       "      <th>Refugee_population_by_country_or_territory_of_origin</th>\n",
       "      <th>Suicidesper100k</th>\n",
       "    </tr>\n",
       "  </thead>\n",
       "  <tbody>\n",
       "    <tr>\n",
       "      <th>count</th>\n",
       "      <td>15110.0</td>\n",
       "      <td>15110.0</td>\n",
       "      <td>15110.0</td>\n",
       "      <td>15110.0</td>\n",
       "      <td>15110.0</td>\n",
       "      <td>15110.0</td>\n",
       "      <td>15110.0</td>\n",
       "      <td>15110.0</td>\n",
       "      <td>15110.0</td>\n",
       "      <td>15110.0</td>\n",
       "      <td>15110.0</td>\n",
       "      <td>1.511000e+04</td>\n",
       "      <td>15110.0</td>\n",
       "      <td>15110.0</td>\n",
       "      <td>15110.0</td>\n",
       "      <td>15110.0</td>\n",
       "      <td>15110.0</td>\n",
       "    </tr>\n",
       "    <tr>\n",
       "      <th>mean</th>\n",
       "      <td>0.0</td>\n",
       "      <td>0.0</td>\n",
       "      <td>0.0</td>\n",
       "      <td>0.0</td>\n",
       "      <td>0.0</td>\n",
       "      <td>0.0</td>\n",
       "      <td>0.0</td>\n",
       "      <td>3035752.0</td>\n",
       "      <td>23.0</td>\n",
       "      <td>12526091.0</td>\n",
       "      <td>44.0</td>\n",
       "      <td>7.837623e+11</td>\n",
       "      <td>20723.0</td>\n",
       "      <td>19.0</td>\n",
       "      <td>1.0</td>\n",
       "      <td>12558.0</td>\n",
       "      <td>13.0</td>\n",
       "    </tr>\n",
       "    <tr>\n",
       "      <th>std</th>\n",
       "      <td>0.0</td>\n",
       "      <td>0.0</td>\n",
       "      <td>0.0</td>\n",
       "      <td>0.0</td>\n",
       "      <td>0.0</td>\n",
       "      <td>0.0</td>\n",
       "      <td>1.0</td>\n",
       "      <td>4908197.0</td>\n",
       "      <td>29.0</td>\n",
       "      <td>24602458.0</td>\n",
       "      <td>50.0</td>\n",
       "      <td>1.904350e+12</td>\n",
       "      <td>19307.0</td>\n",
       "      <td>16.0</td>\n",
       "      <td>1.0</td>\n",
       "      <td>51524.0</td>\n",
       "      <td>18.0</td>\n",
       "    </tr>\n",
       "    <tr>\n",
       "      <th>min</th>\n",
       "      <td>0.0</td>\n",
       "      <td>0.0</td>\n",
       "      <td>0.0</td>\n",
       "      <td>0.0</td>\n",
       "      <td>0.0</td>\n",
       "      <td>0.0</td>\n",
       "      <td>0.0</td>\n",
       "      <td>4400.0</td>\n",
       "      <td>0.0</td>\n",
       "      <td>0.0</td>\n",
       "      <td>0.0</td>\n",
       "      <td>1.201313e+09</td>\n",
       "      <td>357.0</td>\n",
       "      <td>0.0</td>\n",
       "      <td>0.0</td>\n",
       "      <td>0.0</td>\n",
       "      <td>0.0</td>\n",
       "    </tr>\n",
       "    <tr>\n",
       "      <th>25%</th>\n",
       "      <td>0.0</td>\n",
       "      <td>0.0</td>\n",
       "      <td>0.0</td>\n",
       "      <td>0.0</td>\n",
       "      <td>0.0</td>\n",
       "      <td>0.0</td>\n",
       "      <td>0.0</td>\n",
       "      <td>424791.0</td>\n",
       "      <td>0.0</td>\n",
       "      <td>0.0</td>\n",
       "      <td>0.0</td>\n",
       "      <td>5.700843e+10</td>\n",
       "      <td>4431.0</td>\n",
       "      <td>0.0</td>\n",
       "      <td>0.0</td>\n",
       "      <td>0.0</td>\n",
       "      <td>2.0</td>\n",
       "    </tr>\n",
       "    <tr>\n",
       "      <th>50%</th>\n",
       "      <td>0.0</td>\n",
       "      <td>0.0</td>\n",
       "      <td>0.0</td>\n",
       "      <td>0.0</td>\n",
       "      <td>0.0</td>\n",
       "      <td>0.0</td>\n",
       "      <td>0.0</td>\n",
       "      <td>1052860.0</td>\n",
       "      <td>6.0</td>\n",
       "      <td>2937065.0</td>\n",
       "      <td>16.0</td>\n",
       "      <td>2.100000e+11</td>\n",
       "      <td>14729.0</td>\n",
       "      <td>19.0</td>\n",
       "      <td>1.0</td>\n",
       "      <td>37.0</td>\n",
       "      <td>7.0</td>\n",
       "    </tr>\n",
       "    <tr>\n",
       "      <th>75%</th>\n",
       "      <td>0.0</td>\n",
       "      <td>0.0</td>\n",
       "      <td>0.0</td>\n",
       "      <td>0.0</td>\n",
       "      <td>0.0</td>\n",
       "      <td>0.0</td>\n",
       "      <td>1.0</td>\n",
       "      <td>3621750.0</td>\n",
       "      <td>43.0</td>\n",
       "      <td>15687072.0</td>\n",
       "      <td>92.0</td>\n",
       "      <td>5.620000e+11</td>\n",
       "      <td>31630.0</td>\n",
       "      <td>33.0</td>\n",
       "      <td>3.0</td>\n",
       "      <td>994.0</td>\n",
       "      <td>18.0</td>\n",
       "    </tr>\n",
       "    <tr>\n",
       "      <th>max</th>\n",
       "      <td>1.0</td>\n",
       "      <td>1.0</td>\n",
       "      <td>1.0</td>\n",
       "      <td>1.0</td>\n",
       "      <td>1.0</td>\n",
       "      <td>1.0</td>\n",
       "      <td>1.0</td>\n",
       "      <td>43805214.0</td>\n",
       "      <td>96.0</td>\n",
       "      <td>158831064.0</td>\n",
       "      <td>172.0</td>\n",
       "      <td>1.810000e+13</td>\n",
       "      <td>109804.0</td>\n",
       "      <td>62.0</td>\n",
       "      <td>7.0</td>\n",
       "      <td>551744.0</td>\n",
       "      <td>178.0</td>\n",
       "    </tr>\n",
       "  </tbody>\n",
       "</table>\n",
       "</div>"
      ],
      "text/plain": [
       "       15-24 years  25-34 years  35-54 years  5-14 years  55-74 years  \\\n",
       "count      15110.0      15110.0      15110.0     15110.0      15110.0   \n",
       "mean           0.0          0.0          0.0         0.0          0.0   \n",
       "std            0.0          0.0          0.0         0.0          0.0   \n",
       "min            0.0          0.0          0.0         0.0          0.0   \n",
       "25%            0.0          0.0          0.0         0.0          0.0   \n",
       "50%            0.0          0.0          0.0         0.0          0.0   \n",
       "75%            0.0          0.0          0.0         0.0          0.0   \n",
       "max            1.0          1.0          1.0         1.0          1.0   \n",
       "\n",
       "       75+ years   Gender  Population  Internet_Usage_per_percent_Population  \\\n",
       "count    15110.0  15110.0     15110.0                                15110.0   \n",
       "mean         0.0      0.0   3035752.0                                   23.0   \n",
       "std          0.0      1.0   4908197.0                                   29.0   \n",
       "min          0.0      0.0      4400.0                                    0.0   \n",
       "25%          0.0      0.0    424791.0                                    0.0   \n",
       "50%          0.0      0.0   1052860.0                                    6.0   \n",
       "75%          0.0      1.0   3621750.0                                   43.0   \n",
       "max          1.0      1.0  43805214.0                                   96.0   \n",
       "\n",
       "       Total_Labour_force  Cellular_subscriptions_per_100_people  \\\n",
       "count             15110.0                                15110.0   \n",
       "mean           12526091.0                                   44.0   \n",
       "std            24602458.0                                   50.0   \n",
       "min                   0.0                                    0.0   \n",
       "25%                   0.0                                    0.0   \n",
       "50%             2937065.0                                   16.0   \n",
       "75%            15687072.0                                   92.0   \n",
       "max           158831064.0                                  172.0   \n",
       "\n",
       "           GDPpyear  GDPpcapital  Expense_percent_of_GDP)  \\\n",
       "count  1.511000e+04      15110.0                  15110.0   \n",
       "mean   7.837623e+11      20723.0                     19.0   \n",
       "std    1.904350e+12      19307.0                     16.0   \n",
       "min    1.201313e+09        357.0                      0.0   \n",
       "25%    5.700843e+10       4431.0                      0.0   \n",
       "50%    2.100000e+11      14729.0                     19.0   \n",
       "75%    5.620000e+11      31630.0                     33.0   \n",
       "max    1.810000e+13     109804.0                     62.0   \n",
       "\n",
       "       Physicians_per_1,000_people)  \\\n",
       "count                       15110.0   \n",
       "mean                            1.0   \n",
       "std                             1.0   \n",
       "min                             0.0   \n",
       "25%                             0.0   \n",
       "50%                             1.0   \n",
       "75%                             3.0   \n",
       "max                             7.0   \n",
       "\n",
       "       Refugee_population_by_country_or_territory_of_origin  Suicidesper100k  \n",
       "count                                            15110.0             15110.0  \n",
       "mean                                             12558.0                13.0  \n",
       "std                                              51524.0                18.0  \n",
       "min                                                  0.0                 0.0  \n",
       "25%                                                  0.0                 2.0  \n",
       "50%                                                 37.0                 7.0  \n",
       "75%                                                994.0                18.0  \n",
       "max                                             551744.0               178.0  "
      ]
     },
     "execution_count": 58,
     "metadata": {},
     "output_type": "execute_result"
    }
   ],
   "source": [
    "sucidedataframe.describe().round()  # Shows the count, mean, std, min, 25%, 50%, 75% and \n",
    "                                    # max of a datframe. "
   ]
  },
  {
   "cell_type": "code",
   "execution_count": 59,
   "id": "f2c92c0d",
   "metadata": {},
   "outputs": [
    {
     "data": {
      "text/plain": [
       "<AxesSubplot:>"
      ]
     },
     "execution_count": 59,
     "metadata": {},
     "output_type": "execute_result"
    },
    {
     "data": {
      "image/png": "[encoded data removed]",
      "text/plain": [
       "<Figure size 1080x720 with 2 Axes>"
      ]
     },
     "metadata": {
      "needs_background": "light"
     },
     "output_type": "display_data"
    }
   ],
   "source": [
    "plt.figure(figsize = (15,10))  # sets the size of the matrix\n",
    "correlation_matrix = sucidedataframe.corr().round(2)  # creates the correlation matrix\n",
    "sns.heatmap(data = correlation_matrix, annot = True)  # shows correlation matrix"
   ]
  },
  {
   "cell_type": "code",
   "execution_count": 60,
   "id": "b95dcff3",
   "metadata": {},
   "outputs": [],
   "source": [
    "Features_after_corelation_matrix = sucidedataframe[[ \"Gender\", \"5-14 years\", \"15-24 years\", \"75+ years\"]]  # higher correlated \n",
    "                                                                                                       # features are selected\n"
   ]
  },
  {
   "cell_type": "code",
   "execution_count": 61,
   "id": "792622de",
   "metadata": {},
   "outputs": [
    {
     "data": {
      "text/html": [
       "<div>\n",
       "<style scoped>\n",
       "    .dataframe tbody tr th:only-of-type {\n",
       "        vertical-align: middle;\n",
       "    }\n",
       "\n",
       "    .dataframe tbody tr th {\n",
       "        vertical-align: top;\n",
       "    }\n",
       "\n",
       "    .dataframe thead th {\n",
       "        text-align: right;\n",
       "    }\n",
       "</style>\n",
       "<table border=\"1\" class=\"dataframe\">\n",
       "  <thead>\n",
       "    <tr style=\"text-align: right;\">\n",
       "      <th></th>\n",
       "      <th>Gender</th>\n",
       "      <th>5-14 years</th>\n",
       "      <th>15-24 years</th>\n",
       "      <th>75+ years</th>\n",
       "    </tr>\n",
       "  </thead>\n",
       "  <tbody>\n",
       "    <tr>\n",
       "      <th>0</th>\n",
       "      <td>1</td>\n",
       "      <td>0</td>\n",
       "      <td>0</td>\n",
       "      <td>1</td>\n",
       "    </tr>\n",
       "    <tr>\n",
       "      <th>1</th>\n",
       "      <td>1</td>\n",
       "      <td>0</td>\n",
       "      <td>0</td>\n",
       "      <td>0</td>\n",
       "    </tr>\n",
       "    <tr>\n",
       "      <th>2</th>\n",
       "      <td>1</td>\n",
       "      <td>0</td>\n",
       "      <td>0</td>\n",
       "      <td>0</td>\n",
       "    </tr>\n",
       "    <tr>\n",
       "      <th>3</th>\n",
       "      <td>0</td>\n",
       "      <td>0</td>\n",
       "      <td>0</td>\n",
       "      <td>0</td>\n",
       "    </tr>\n",
       "    <tr>\n",
       "      <th>4</th>\n",
       "      <td>1</td>\n",
       "      <td>0</td>\n",
       "      <td>0</td>\n",
       "      <td>0</td>\n",
       "    </tr>\n",
       "  </tbody>\n",
       "</table>\n",
       "</div>"
      ],
      "text/plain": [
       "   Gender  5-14 years  15-24 years  75+ years\n",
       "0       1           0            0          1\n",
       "1       1           0            0          0\n",
       "2       1           0            0          0\n",
       "3       0           0            0          0\n",
       "4       1           0            0          0"
      ]
     },
     "execution_count": 61,
     "metadata": {},
     "output_type": "execute_result"
    }
   ],
   "source": [
    "Features_after_corelation_matrix.head()  # first elements of the dataframe are outputted."
   ]
  },
  {
   "cell_type": "code",
   "execution_count": 62,
   "id": "2a3dbb71",
   "metadata": {},
   "outputs": [
    {
     "data": {
      "text/plain": [
       "Country\n",
       "Argentina               372\n",
       "Armenia                 298\n",
       "Australia               360\n",
       "Austria                 382\n",
       "Azerbaijan              192\n",
       "Belgium                 372\n",
       "Brazil                  372\n",
       "Bulgaria                360\n",
       "Canada                  348\n",
       "Chile                   372\n",
       "Colombia                372\n",
       "Croatia                 262\n",
       "Cuba                    288\n",
       "Czech Republic          322\n",
       "Denmark                 264\n",
       "Finland                 348\n",
       "France                  360\n",
       "Georgia                 264\n",
       "Germany                 312\n",
       "Greece                  372\n",
       "Hungary                 310\n",
       "Iceland                 382\n",
       "Ireland                 360\n",
       "Israel                  372\n",
       "Italy                   372\n",
       "Jamaica                 204\n",
       "Japan                   372\n",
       "Mexico                  372\n",
       "Mongolia                 10\n",
       "Netherlands             382\n",
       "New Zealand             348\n",
       "Norway                  360\n",
       "Poland                  288\n",
       "Portugal                324\n",
       "Romania                 334\n",
       "Russian Federation      324\n",
       "South Africa            240\n",
       "Spain                   372\n",
       "Sweden                  358\n",
       "Switzerland             252\n",
       "Thailand                334\n",
       "Turkey                   84\n",
       "Turkmenistan            348\n",
       "Ukraine                 336\n",
       "United Arab Emirates     72\n",
       "United Kingdom          372\n",
       "United States           372\n",
       "Uzbekistan              264\n",
       "dtype: int64"
      ]
     },
     "execution_count": 62,
     "metadata": {},
     "output_type": "execute_result"
    }
   ],
   "source": [
    "# count duplicates function learned from: https://datatofish.com/count-duplicates-pandas/\n",
    "sucidedataframe.pivot_table(columns=['Country'], aggfunc='size')  # counts duplicates in the selected dataframe column."
   ]
  },
  {
   "cell_type": "code",
   "execution_count": 63,
   "id": "fb0cea7d",
   "metadata": {},
   "outputs": [
    {
     "data": {
      "text/plain": [
       "array(['Argentina', 'Armenia', 'Australia', 'Austria', 'Azerbaijan',\n",
       "       'Belgium', 'Brazil', 'Bulgaria', 'Canada', 'Chile', 'Colombia',\n",
       "       'Croatia', 'Cuba', 'Czech Republic', 'Denmark', 'Finland',\n",
       "       'France', 'Georgia', 'Germany', 'Greece', 'Hungary', 'Iceland',\n",
       "       'Ireland', 'Israel', 'Italy', 'Jamaica', 'Japan', 'Mexico',\n",
       "       'Mongolia', 'Netherlands', 'New Zealand', 'Norway', 'Poland',\n",
       "       'Portugal', 'Romania', 'Russian Federation', 'South Africa',\n",
       "       'Spain', 'Sweden', 'Switzerland', 'Thailand', 'Turkey',\n",
       "       'Turkmenistan', 'Ukraine', 'United Arab Emirates',\n",
       "       'United Kingdom', 'United States', 'Uzbekistan'], dtype=object)"
      ]
     },
     "execution_count": 63,
     "metadata": {},
     "output_type": "execute_result"
    }
   ],
   "source": [
    "each_country = np.unique(sucidedataframe[[\"Country\"]].values) # unique country rows are selected.\n",
    "each_country  # array is outputted"
   ]
  },
  {
   "cell_type": "code",
   "execution_count": 64,
   "id": "4d17d661",
   "metadata": {},
   "outputs": [
    {
     "name": "stdout",
     "output_type": "stream",
     "text": [
      "   Argentina  Armenia  Australia  Austria  Azerbaijan  Belgium  Brazil  \\\n",
      "0          1        0          0        0           0        0       0   \n",
      "1          1        0          0        0           0        0       0   \n",
      "2          1        0          0        0           0        0       0   \n",
      "3          1        0          0        0           0        0       0   \n",
      "4          1        0          0        0           0        0       0   \n",
      "\n",
      "   Bulgaria  Canada  Chile  ...  Sweden  Switzerland  Thailand  Turkey  \\\n",
      "0         0       0      0  ...       0            0         0       0   \n",
      "1         0       0      0  ...       0            0         0       0   \n",
      "2         0       0      0  ...       0            0         0       0   \n",
      "3         0       0      0  ...       0            0         0       0   \n",
      "4         0       0      0  ...       0            0         0       0   \n",
      "\n",
      "   Turkmenistan  Ukraine  United Arab Emirates  United Kingdom  United States  \\\n",
      "0             0        0                     0               0              0   \n",
      "1             0        0                     0               0              0   \n",
      "2             0        0                     0               0              0   \n",
      "3             0        0                     0               0              0   \n",
      "4             0        0                     0               0              0   \n",
      "\n",
      "   Uzbekistan  \n",
      "0           0  \n",
      "1           0  \n",
      "2           0  \n",
      "3           0  \n",
      "4           0  \n",
      "\n",
      "[5 rows x 48 columns]\n"
     ]
    }
   ],
   "source": [
    "Country = encodingoh(sucidedataframe[[\"Country\"]], None, each_country)  # each country is one hot encoded at a time.2"
   ]
  },
  {
   "cell_type": "code",
   "execution_count": 65,
   "id": "e2b6cf14",
   "metadata": {},
   "outputs": [
    {
     "data": {
      "text/html": [
       "<div>\n",
       "<style scoped>\n",
       "    .dataframe tbody tr th:only-of-type {\n",
       "        vertical-align: middle;\n",
       "    }\n",
       "\n",
       "    .dataframe tbody tr th {\n",
       "        vertical-align: top;\n",
       "    }\n",
       "\n",
       "    .dataframe thead th {\n",
       "        text-align: right;\n",
       "    }\n",
       "</style>\n",
       "<table border=\"1\" class=\"dataframe\">\n",
       "  <thead>\n",
       "    <tr style=\"text-align: right;\">\n",
       "      <th></th>\n",
       "      <th>Argentina</th>\n",
       "      <th>Armenia</th>\n",
       "      <th>Australia</th>\n",
       "      <th>Austria</th>\n",
       "      <th>Azerbaijan</th>\n",
       "      <th>Belgium</th>\n",
       "      <th>Brazil</th>\n",
       "      <th>Bulgaria</th>\n",
       "      <th>Canada</th>\n",
       "      <th>Chile</th>\n",
       "      <th>...</th>\n",
       "      <th>Population</th>\n",
       "      <th>Internet_Usage_per_percent_Population</th>\n",
       "      <th>Total_Labour_force</th>\n",
       "      <th>Cellular_subscriptions_per_100_people</th>\n",
       "      <th>GDPpyear</th>\n",
       "      <th>GDPpcapital</th>\n",
       "      <th>Expense_percent_of_GDP)</th>\n",
       "      <th>Physicians_per_1,000_people)</th>\n",
       "      <th>Refugee_population_by_country_or_territory_of_origin</th>\n",
       "      <th>Suicidesper100k</th>\n",
       "    </tr>\n",
       "  </thead>\n",
       "  <tbody>\n",
       "    <tr>\n",
       "      <th>0</th>\n",
       "      <td>1</td>\n",
       "      <td>0</td>\n",
       "      <td>0</td>\n",
       "      <td>0</td>\n",
       "      <td>0</td>\n",
       "      <td>0</td>\n",
       "      <td>0</td>\n",
       "      <td>0</td>\n",
       "      <td>0</td>\n",
       "      <td>0</td>\n",
       "      <td>...</td>\n",
       "      <td>363000</td>\n",
       "      <td>0</td>\n",
       "      <td>0</td>\n",
       "      <td>0.0</td>\n",
       "      <td>8.841667e+10</td>\n",
       "      <td>3264</td>\n",
       "      <td>0</td>\n",
       "      <td>0</td>\n",
       "      <td>0</td>\n",
       "      <td>55.65</td>\n",
       "    </tr>\n",
       "    <tr>\n",
       "      <th>1</th>\n",
       "      <td>1</td>\n",
       "      <td>0</td>\n",
       "      <td>0</td>\n",
       "      <td>0</td>\n",
       "      <td>0</td>\n",
       "      <td>0</td>\n",
       "      <td>0</td>\n",
       "      <td>0</td>\n",
       "      <td>0</td>\n",
       "      <td>0</td>\n",
       "      <td>...</td>\n",
       "      <td>1997000</td>\n",
       "      <td>0</td>\n",
       "      <td>0</td>\n",
       "      <td>0.0</td>\n",
       "      <td>8.841667e+10</td>\n",
       "      <td>3264</td>\n",
       "      <td>0</td>\n",
       "      <td>0</td>\n",
       "      <td>0</td>\n",
       "      <td>24.29</td>\n",
       "    </tr>\n",
       "    <tr>\n",
       "      <th>2</th>\n",
       "      <td>1</td>\n",
       "      <td>0</td>\n",
       "      <td>0</td>\n",
       "      <td>0</td>\n",
       "      <td>0</td>\n",
       "      <td>0</td>\n",
       "      <td>0</td>\n",
       "      <td>0</td>\n",
       "      <td>0</td>\n",
       "      <td>0</td>\n",
       "      <td>...</td>\n",
       "      <td>3346300</td>\n",
       "      <td>0</td>\n",
       "      <td>0</td>\n",
       "      <td>0.0</td>\n",
       "      <td>8.841667e+10</td>\n",
       "      <td>3264</td>\n",
       "      <td>0</td>\n",
       "      <td>0</td>\n",
       "      <td>0</td>\n",
       "      <td>12.37</td>\n",
       "    </tr>\n",
       "    <tr>\n",
       "      <th>3</th>\n",
       "      <td>1</td>\n",
       "      <td>0</td>\n",
       "      <td>0</td>\n",
       "      <td>0</td>\n",
       "      <td>0</td>\n",
       "      <td>0</td>\n",
       "      <td>0</td>\n",
       "      <td>0</td>\n",
       "      <td>0</td>\n",
       "      <td>0</td>\n",
       "      <td>...</td>\n",
       "      <td>2304000</td>\n",
       "      <td>0</td>\n",
       "      <td>0</td>\n",
       "      <td>0.0</td>\n",
       "      <td>8.841667e+10</td>\n",
       "      <td>3264</td>\n",
       "      <td>0</td>\n",
       "      <td>0</td>\n",
       "      <td>0</td>\n",
       "      <td>9.11</td>\n",
       "    </tr>\n",
       "    <tr>\n",
       "      <th>4</th>\n",
       "      <td>1</td>\n",
       "      <td>0</td>\n",
       "      <td>0</td>\n",
       "      <td>0</td>\n",
       "      <td>0</td>\n",
       "      <td>0</td>\n",
       "      <td>0</td>\n",
       "      <td>0</td>\n",
       "      <td>0</td>\n",
       "      <td>0</td>\n",
       "      <td>...</td>\n",
       "      <td>2234200</td>\n",
       "      <td>0</td>\n",
       "      <td>0</td>\n",
       "      <td>0.0</td>\n",
       "      <td>8.841667e+10</td>\n",
       "      <td>3264</td>\n",
       "      <td>0</td>\n",
       "      <td>0</td>\n",
       "      <td>0</td>\n",
       "      <td>7.92</td>\n",
       "    </tr>\n",
       "  </tbody>\n",
       "</table>\n",
       "<p>5 rows × 66 columns</p>\n",
       "</div>"
      ],
      "text/plain": [
       "   Argentina  Armenia  Australia  Austria  Azerbaijan  Belgium  Brazil  \\\n",
       "0          1        0          0        0           0        0       0   \n",
       "1          1        0          0        0           0        0       0   \n",
       "2          1        0          0        0           0        0       0   \n",
       "3          1        0          0        0           0        0       0   \n",
       "4          1        0          0        0           0        0       0   \n",
       "\n",
       "   Bulgaria  Canada  Chile  ...  Population  \\\n",
       "0         0       0      0  ...      363000   \n",
       "1         0       0      0  ...     1997000   \n",
       "2         0       0      0  ...     3346300   \n",
       "3         0       0      0  ...     2304000   \n",
       "4         0       0      0  ...     2234200   \n",
       "\n",
       "   Internet_Usage_per_percent_Population  Total_Labour_force  \\\n",
       "0                                      0                   0   \n",
       "1                                      0                   0   \n",
       "2                                      0                   0   \n",
       "3                                      0                   0   \n",
       "4                                      0                   0   \n",
       "\n",
       "   Cellular_subscriptions_per_100_people      GDPpyear  GDPpcapital  \\\n",
       "0                                    0.0  8.841667e+10         3264   \n",
       "1                                    0.0  8.841667e+10         3264   \n",
       "2                                    0.0  8.841667e+10         3264   \n",
       "3                                    0.0  8.841667e+10         3264   \n",
       "4                                    0.0  8.841667e+10         3264   \n",
       "\n",
       "   Expense_percent_of_GDP)  Physicians_per_1,000_people)  \\\n",
       "0                        0                             0   \n",
       "1                        0                             0   \n",
       "2                        0                             0   \n",
       "3                        0                             0   \n",
       "4                        0                             0   \n",
       "\n",
       "   Refugee_population_by_country_or_territory_of_origin  Suicidesper100k  \n",
       "0                                                  0               55.65  \n",
       "1                                                  0               24.29  \n",
       "2                                                  0               12.37  \n",
       "3                                                  0                9.11  \n",
       "4                                                  0                7.92  \n",
       "\n",
       "[5 rows x 66 columns]"
      ]
     },
     "execution_count": 65,
     "metadata": {},
     "output_type": "execute_result"
    }
   ],
   "source": [
    "sucidedataframe = pd.concat([Country,sucidedataframe],axis=1)  # each new country is concatanated to original data frame.\n",
    "sucidedataframe.head() # first elements of the data frame are out putted"
   ]
  },
  {
   "cell_type": "code",
   "execution_count": 66,
   "id": "1af037fe",
   "metadata": {},
   "outputs": [
    {
     "data": {
      "text/html": [
       "<div>\n",
       "<style scoped>\n",
       "    .dataframe tbody tr th:only-of-type {\n",
       "        vertical-align: middle;\n",
       "    }\n",
       "\n",
       "    .dataframe tbody tr th {\n",
       "        vertical-align: top;\n",
       "    }\n",
       "\n",
       "    .dataframe thead th {\n",
       "        text-align: right;\n",
       "    }\n",
       "</style>\n",
       "<table border=\"1\" class=\"dataframe\">\n",
       "  <thead>\n",
       "    <tr style=\"text-align: right;\">\n",
       "      <th></th>\n",
       "      <th>Argentina</th>\n",
       "      <th>Armenia</th>\n",
       "      <th>Australia</th>\n",
       "      <th>Austria</th>\n",
       "      <th>Azerbaijan</th>\n",
       "      <th>Belgium</th>\n",
       "      <th>Brazil</th>\n",
       "      <th>Bulgaria</th>\n",
       "      <th>Canada</th>\n",
       "      <th>Chile</th>\n",
       "      <th>...</th>\n",
       "      <th>Turkmenistan</th>\n",
       "      <th>Ukraine</th>\n",
       "      <th>United Arab Emirates</th>\n",
       "      <th>United Kingdom</th>\n",
       "      <th>United States</th>\n",
       "      <th>Uzbekistan</th>\n",
       "      <th>Gender</th>\n",
       "      <th>5-14 years</th>\n",
       "      <th>15-24 years</th>\n",
       "      <th>75+ years</th>\n",
       "    </tr>\n",
       "  </thead>\n",
       "  <tbody>\n",
       "    <tr>\n",
       "      <th>0</th>\n",
       "      <td>1</td>\n",
       "      <td>0</td>\n",
       "      <td>0</td>\n",
       "      <td>0</td>\n",
       "      <td>0</td>\n",
       "      <td>0</td>\n",
       "      <td>0</td>\n",
       "      <td>0</td>\n",
       "      <td>0</td>\n",
       "      <td>0</td>\n",
       "      <td>...</td>\n",
       "      <td>0</td>\n",
       "      <td>0</td>\n",
       "      <td>0</td>\n",
       "      <td>0</td>\n",
       "      <td>0</td>\n",
       "      <td>0</td>\n",
       "      <td>1</td>\n",
       "      <td>0</td>\n",
       "      <td>0</td>\n",
       "      <td>1</td>\n",
       "    </tr>\n",
       "    <tr>\n",
       "      <th>1</th>\n",
       "      <td>1</td>\n",
       "      <td>0</td>\n",
       "      <td>0</td>\n",
       "      <td>0</td>\n",
       "      <td>0</td>\n",
       "      <td>0</td>\n",
       "      <td>0</td>\n",
       "      <td>0</td>\n",
       "      <td>0</td>\n",
       "      <td>0</td>\n",
       "      <td>...</td>\n",
       "      <td>0</td>\n",
       "      <td>0</td>\n",
       "      <td>0</td>\n",
       "      <td>0</td>\n",
       "      <td>0</td>\n",
       "      <td>0</td>\n",
       "      <td>1</td>\n",
       "      <td>0</td>\n",
       "      <td>0</td>\n",
       "      <td>0</td>\n",
       "    </tr>\n",
       "    <tr>\n",
       "      <th>2</th>\n",
       "      <td>1</td>\n",
       "      <td>0</td>\n",
       "      <td>0</td>\n",
       "      <td>0</td>\n",
       "      <td>0</td>\n",
       "      <td>0</td>\n",
       "      <td>0</td>\n",
       "      <td>0</td>\n",
       "      <td>0</td>\n",
       "      <td>0</td>\n",
       "      <td>...</td>\n",
       "      <td>0</td>\n",
       "      <td>0</td>\n",
       "      <td>0</td>\n",
       "      <td>0</td>\n",
       "      <td>0</td>\n",
       "      <td>0</td>\n",
       "      <td>1</td>\n",
       "      <td>0</td>\n",
       "      <td>0</td>\n",
       "      <td>0</td>\n",
       "    </tr>\n",
       "    <tr>\n",
       "      <th>3</th>\n",
       "      <td>1</td>\n",
       "      <td>0</td>\n",
       "      <td>0</td>\n",
       "      <td>0</td>\n",
       "      <td>0</td>\n",
       "      <td>0</td>\n",
       "      <td>0</td>\n",
       "      <td>0</td>\n",
       "      <td>0</td>\n",
       "      <td>0</td>\n",
       "      <td>...</td>\n",
       "      <td>0</td>\n",
       "      <td>0</td>\n",
       "      <td>0</td>\n",
       "      <td>0</td>\n",
       "      <td>0</td>\n",
       "      <td>0</td>\n",
       "      <td>0</td>\n",
       "      <td>0</td>\n",
       "      <td>0</td>\n",
       "      <td>0</td>\n",
       "    </tr>\n",
       "    <tr>\n",
       "      <th>4</th>\n",
       "      <td>1</td>\n",
       "      <td>0</td>\n",
       "      <td>0</td>\n",
       "      <td>0</td>\n",
       "      <td>0</td>\n",
       "      <td>0</td>\n",
       "      <td>0</td>\n",
       "      <td>0</td>\n",
       "      <td>0</td>\n",
       "      <td>0</td>\n",
       "      <td>...</td>\n",
       "      <td>0</td>\n",
       "      <td>0</td>\n",
       "      <td>0</td>\n",
       "      <td>0</td>\n",
       "      <td>0</td>\n",
       "      <td>0</td>\n",
       "      <td>1</td>\n",
       "      <td>0</td>\n",
       "      <td>0</td>\n",
       "      <td>0</td>\n",
       "    </tr>\n",
       "  </tbody>\n",
       "</table>\n",
       "<p>5 rows × 52 columns</p>\n",
       "</div>"
      ],
      "text/plain": [
       "   Argentina  Armenia  Australia  Austria  Azerbaijan  Belgium  Brazil  \\\n",
       "0          1        0          0        0           0        0       0   \n",
       "1          1        0          0        0           0        0       0   \n",
       "2          1        0          0        0           0        0       0   \n",
       "3          1        0          0        0           0        0       0   \n",
       "4          1        0          0        0           0        0       0   \n",
       "\n",
       "   Bulgaria  Canada  Chile  ...  Turkmenistan  Ukraine  United Arab Emirates  \\\n",
       "0         0       0      0  ...             0        0                     0   \n",
       "1         0       0      0  ...             0        0                     0   \n",
       "2         0       0      0  ...             0        0                     0   \n",
       "3         0       0      0  ...             0        0                     0   \n",
       "4         0       0      0  ...             0        0                     0   \n",
       "\n",
       "   United Kingdom  United States  Uzbekistan  Gender  5-14 years  15-24 years  \\\n",
       "0               0              0           0       1           0            0   \n",
       "1               0              0           0       1           0            0   \n",
       "2               0              0           0       1           0            0   \n",
       "3               0              0           0       0           0            0   \n",
       "4               0              0           0       1           0            0   \n",
       "\n",
       "   75+ years  \n",
       "0          1  \n",
       "1          0  \n",
       "2          0  \n",
       "3          0  \n",
       "4          0  \n",
       "\n",
       "[5 rows x 52 columns]"
      ]
     },
     "execution_count": 66,
     "metadata": {},
     "output_type": "execute_result"
    }
   ],
   "source": [
    "Features_after_corelation_matrix = pd.concat([Country,Features_after_corelation_matrix],axis=1)  # each new country is \n",
    "                                                                     # concatanated to highly correlate data frame.\n",
    "Features_after_corelation_matrix.head()   # first elements of the data frame are out putted"
   ]
  },
  {
   "cell_type": "code",
   "execution_count": 67,
   "id": "cacfb98c",
   "metadata": {},
   "outputs": [
    {
     "name": "stdout",
     "output_type": "stream",
     "text": [
      "Index(['Argentina', 'Armenia', 'Australia', 'Austria', 'Azerbaijan', 'Belgium',\n",
      "       'Brazil', 'Bulgaria', 'Canada', 'Chile', 'Colombia', 'Croatia', 'Cuba',\n",
      "       'Czech Republic', 'Denmark', 'Finland', 'France', 'Georgia', 'Germany',\n",
      "       'Greece', 'Hungary', 'Iceland', 'Ireland', 'Israel', 'Italy', 'Jamaica',\n",
      "       'Japan', 'Mexico', 'Mongolia', 'Netherlands', 'New Zealand', 'Norway',\n",
      "       'Poland', 'Portugal', 'Romania', 'Russian Federation', 'South Africa',\n",
      "       'Spain', 'Sweden', 'Switzerland', 'Thailand', 'Turkey', 'Turkmenistan',\n",
      "       'Ukraine', 'United Arab Emirates', 'United Kingdom', 'United States',\n",
      "       'Uzbekistan', '15-24 years', '25-34 years', '35-54 years', '5-14 years',\n",
      "       '55-74 years', '75+ years', 'Gender', 'Country', 'Population',\n",
      "       'Internet_Usage_per_percent_Population', 'Total_Labour_force',\n",
      "       'Cellular_subscriptions_per_100_people', 'GDPpyear', 'GDPpcapital',\n",
      "       'Expense_percent_of_GDP)', 'Physicians_per_1,000_people)',\n",
      "       'Refugee_population_by_country_or_territory_of_origin',\n",
      "       'Suicidesper100k'],\n",
      "      dtype='object')\n"
     ]
    }
   ],
   "source": [
    "print(sucidedataframe.columns)  # columns of the data frame are printed"
   ]
  },
  {
   "cell_type": "code",
   "execution_count": 68,
   "id": "1e9b85ed",
   "metadata": {},
   "outputs": [],
   "source": [
    "sucidedataframe = sucidedataframe.drop('Country', 1)  # country column is dropped."
   ]
  },
  {
   "cell_type": "code",
   "execution_count": 69,
   "id": "e3acc764",
   "metadata": {},
   "outputs": [
    {
     "name": "stdout",
     "output_type": "stream",
     "text": [
      "Index(['Argentina', 'Armenia', 'Australia', 'Austria', 'Azerbaijan', 'Belgium',\n",
      "       'Brazil', 'Bulgaria', 'Canada', 'Chile', 'Colombia', 'Croatia', 'Cuba',\n",
      "       'Czech Republic', 'Denmark', 'Finland', 'France', 'Georgia', 'Germany',\n",
      "       'Greece', 'Hungary', 'Iceland', 'Ireland', 'Israel', 'Italy', 'Jamaica',\n",
      "       'Japan', 'Mexico', 'Mongolia', 'Netherlands', 'New Zealand', 'Norway',\n",
      "       'Poland', 'Portugal', 'Romania', 'Russian Federation', 'South Africa',\n",
      "       'Spain', 'Sweden', 'Switzerland', 'Thailand', 'Turkey', 'Turkmenistan',\n",
      "       'Ukraine', 'United Arab Emirates', 'United Kingdom', 'United States',\n",
      "       'Uzbekistan', '15-24 years', '25-34 years', '35-54 years', '5-14 years',\n",
      "       '55-74 years', '75+ years', 'Gender', 'Population',\n",
      "       'Internet_Usage_per_percent_Population', 'Total_Labour_force',\n",
      "       'Cellular_subscriptions_per_100_people', 'GDPpyear', 'GDPpcapital',\n",
      "       'Expense_percent_of_GDP)', 'Physicians_per_1,000_people)',\n",
      "       'Refugee_population_by_country_or_territory_of_origin',\n",
      "       'Suicidesper100k'],\n",
      "      dtype='object')\n"
     ]
    }
   ],
   "source": [
    "print(sucidedataframe.columns)  # columns of the data frame are printed"
   ]
  },
  {
   "cell_type": "markdown",
   "id": "15a69238",
   "metadata": {},
   "source": [
    "### Making lables"
   ]
  },
  {
   "cell_type": "code",
   "execution_count": 70,
   "id": "11625dfb",
   "metadata": {},
   "outputs": [
    {
     "data": {
      "text/html": [
       "<div>\n",
       "<style scoped>\n",
       "    .dataframe tbody tr th:only-of-type {\n",
       "        vertical-align: middle;\n",
       "    }\n",
       "\n",
       "    .dataframe tbody tr th {\n",
       "        vertical-align: top;\n",
       "    }\n",
       "\n",
       "    .dataframe thead th {\n",
       "        text-align: right;\n",
       "    }\n",
       "</style>\n",
       "<table border=\"1\" class=\"dataframe\">\n",
       "  <thead>\n",
       "    <tr style=\"text-align: right;\">\n",
       "      <th></th>\n",
       "      <th>Argentina</th>\n",
       "      <th>Armenia</th>\n",
       "      <th>Australia</th>\n",
       "      <th>Austria</th>\n",
       "      <th>Azerbaijan</th>\n",
       "      <th>Belgium</th>\n",
       "      <th>Brazil</th>\n",
       "      <th>Bulgaria</th>\n",
       "      <th>Canada</th>\n",
       "      <th>Chile</th>\n",
       "      <th>...</th>\n",
       "      <th>Population</th>\n",
       "      <th>Internet_Usage_per_percent_Population</th>\n",
       "      <th>Total_Labour_force</th>\n",
       "      <th>Cellular_subscriptions_per_100_people</th>\n",
       "      <th>GDPpyear</th>\n",
       "      <th>GDPpcapital</th>\n",
       "      <th>Expense_percent_of_GDP)</th>\n",
       "      <th>Physicians_per_1,000_people)</th>\n",
       "      <th>Refugee_population_by_country_or_territory_of_origin</th>\n",
       "      <th>Suicidesper100k</th>\n",
       "    </tr>\n",
       "  </thead>\n",
       "  <tbody>\n",
       "    <tr>\n",
       "      <th>count</th>\n",
       "      <td>15110.0</td>\n",
       "      <td>15110.0</td>\n",
       "      <td>15110.0</td>\n",
       "      <td>15110.0</td>\n",
       "      <td>15110.0</td>\n",
       "      <td>15110.0</td>\n",
       "      <td>15110.0</td>\n",
       "      <td>15110.0</td>\n",
       "      <td>15110.0</td>\n",
       "      <td>15110.0</td>\n",
       "      <td>...</td>\n",
       "      <td>15110.0</td>\n",
       "      <td>15110.0</td>\n",
       "      <td>15110.0</td>\n",
       "      <td>15110.0</td>\n",
       "      <td>1.511000e+04</td>\n",
       "      <td>15110.0</td>\n",
       "      <td>15110.0</td>\n",
       "      <td>15110.0</td>\n",
       "      <td>15110.0</td>\n",
       "      <td>15110.0</td>\n",
       "    </tr>\n",
       "    <tr>\n",
       "      <th>mean</th>\n",
       "      <td>0.0</td>\n",
       "      <td>0.0</td>\n",
       "      <td>0.0</td>\n",
       "      <td>0.0</td>\n",
       "      <td>0.0</td>\n",
       "      <td>0.0</td>\n",
       "      <td>0.0</td>\n",
       "      <td>0.0</td>\n",
       "      <td>0.0</td>\n",
       "      <td>0.0</td>\n",
       "      <td>...</td>\n",
       "      <td>3035752.0</td>\n",
       "      <td>23.0</td>\n",
       "      <td>12526091.0</td>\n",
       "      <td>44.0</td>\n",
       "      <td>7.837623e+11</td>\n",
       "      <td>20723.0</td>\n",
       "      <td>19.0</td>\n",
       "      <td>1.0</td>\n",
       "      <td>12558.0</td>\n",
       "      <td>13.0</td>\n",
       "    </tr>\n",
       "    <tr>\n",
       "      <th>std</th>\n",
       "      <td>0.0</td>\n",
       "      <td>0.0</td>\n",
       "      <td>0.0</td>\n",
       "      <td>0.0</td>\n",
       "      <td>0.0</td>\n",
       "      <td>0.0</td>\n",
       "      <td>0.0</td>\n",
       "      <td>0.0</td>\n",
       "      <td>0.0</td>\n",
       "      <td>0.0</td>\n",
       "      <td>...</td>\n",
       "      <td>4908197.0</td>\n",
       "      <td>29.0</td>\n",
       "      <td>24602458.0</td>\n",
       "      <td>50.0</td>\n",
       "      <td>1.904350e+12</td>\n",
       "      <td>19307.0</td>\n",
       "      <td>16.0</td>\n",
       "      <td>1.0</td>\n",
       "      <td>51524.0</td>\n",
       "      <td>18.0</td>\n",
       "    </tr>\n",
       "    <tr>\n",
       "      <th>min</th>\n",
       "      <td>0.0</td>\n",
       "      <td>0.0</td>\n",
       "      <td>0.0</td>\n",
       "      <td>0.0</td>\n",
       "      <td>0.0</td>\n",
       "      <td>0.0</td>\n",
       "      <td>0.0</td>\n",
       "      <td>0.0</td>\n",
       "      <td>0.0</td>\n",
       "      <td>0.0</td>\n",
       "      <td>...</td>\n",
       "      <td>4400.0</td>\n",
       "      <td>0.0</td>\n",
       "      <td>0.0</td>\n",
       "      <td>0.0</td>\n",
       "      <td>1.201313e+09</td>\n",
       "      <td>357.0</td>\n",
       "      <td>0.0</td>\n",
       "      <td>0.0</td>\n",
       "      <td>0.0</td>\n",
       "      <td>0.0</td>\n",
       "    </tr>\n",
       "    <tr>\n",
       "      <th>25%</th>\n",
       "      <td>0.0</td>\n",
       "      <td>0.0</td>\n",
       "      <td>0.0</td>\n",
       "      <td>0.0</td>\n",
       "      <td>0.0</td>\n",
       "      <td>0.0</td>\n",
       "      <td>0.0</td>\n",
       "      <td>0.0</td>\n",
       "      <td>0.0</td>\n",
       "      <td>0.0</td>\n",
       "      <td>...</td>\n",
       "      <td>424791.0</td>\n",
       "      <td>0.0</td>\n",
       "      <td>0.0</td>\n",
       "      <td>0.0</td>\n",
       "      <td>5.700843e+10</td>\n",
       "      <td>4431.0</td>\n",
       "      <td>0.0</td>\n",
       "      <td>0.0</td>\n",
       "      <td>0.0</td>\n",
       "      <td>2.0</td>\n",
       "    </tr>\n",
       "    <tr>\n",
       "      <th>50%</th>\n",
       "      <td>0.0</td>\n",
       "      <td>0.0</td>\n",
       "      <td>0.0</td>\n",
       "      <td>0.0</td>\n",
       "      <td>0.0</td>\n",
       "      <td>0.0</td>\n",
       "      <td>0.0</td>\n",
       "      <td>0.0</td>\n",
       "      <td>0.0</td>\n",
       "      <td>0.0</td>\n",
       "      <td>...</td>\n",
       "      <td>1052860.0</td>\n",
       "      <td>6.0</td>\n",
       "      <td>2937065.0</td>\n",
       "      <td>16.0</td>\n",
       "      <td>2.100000e+11</td>\n",
       "      <td>14729.0</td>\n",
       "      <td>19.0</td>\n",
       "      <td>1.0</td>\n",
       "      <td>37.0</td>\n",
       "      <td>7.0</td>\n",
       "    </tr>\n",
       "    <tr>\n",
       "      <th>75%</th>\n",
       "      <td>0.0</td>\n",
       "      <td>0.0</td>\n",
       "      <td>0.0</td>\n",
       "      <td>0.0</td>\n",
       "      <td>0.0</td>\n",
       "      <td>0.0</td>\n",
       "      <td>0.0</td>\n",
       "      <td>0.0</td>\n",
       "      <td>0.0</td>\n",
       "      <td>0.0</td>\n",
       "      <td>...</td>\n",
       "      <td>3621750.0</td>\n",
       "      <td>43.0</td>\n",
       "      <td>15687072.0</td>\n",
       "      <td>92.0</td>\n",
       "      <td>5.620000e+11</td>\n",
       "      <td>31630.0</td>\n",
       "      <td>33.0</td>\n",
       "      <td>3.0</td>\n",
       "      <td>994.0</td>\n",
       "      <td>18.0</td>\n",
       "    </tr>\n",
       "    <tr>\n",
       "      <th>max</th>\n",
       "      <td>1.0</td>\n",
       "      <td>1.0</td>\n",
       "      <td>1.0</td>\n",
       "      <td>1.0</td>\n",
       "      <td>1.0</td>\n",
       "      <td>1.0</td>\n",
       "      <td>1.0</td>\n",
       "      <td>1.0</td>\n",
       "      <td>1.0</td>\n",
       "      <td>1.0</td>\n",
       "      <td>...</td>\n",
       "      <td>43805214.0</td>\n",
       "      <td>96.0</td>\n",
       "      <td>158831064.0</td>\n",
       "      <td>172.0</td>\n",
       "      <td>1.810000e+13</td>\n",
       "      <td>109804.0</td>\n",
       "      <td>62.0</td>\n",
       "      <td>7.0</td>\n",
       "      <td>551744.0</td>\n",
       "      <td>178.0</td>\n",
       "    </tr>\n",
       "  </tbody>\n",
       "</table>\n",
       "<p>8 rows × 65 columns</p>\n",
       "</div>"
      ],
      "text/plain": [
       "       Argentina  Armenia  Australia  Austria  Azerbaijan  Belgium   Brazil  \\\n",
       "count    15110.0  15110.0    15110.0  15110.0     15110.0  15110.0  15110.0   \n",
       "mean         0.0      0.0        0.0      0.0         0.0      0.0      0.0   \n",
       "std          0.0      0.0        0.0      0.0         0.0      0.0      0.0   \n",
       "min          0.0      0.0        0.0      0.0         0.0      0.0      0.0   \n",
       "25%          0.0      0.0        0.0      0.0         0.0      0.0      0.0   \n",
       "50%          0.0      0.0        0.0      0.0         0.0      0.0      0.0   \n",
       "75%          0.0      0.0        0.0      0.0         0.0      0.0      0.0   \n",
       "max          1.0      1.0        1.0      1.0         1.0      1.0      1.0   \n",
       "\n",
       "       Bulgaria   Canada    Chile  ...  Population  \\\n",
       "count   15110.0  15110.0  15110.0  ...     15110.0   \n",
       "mean        0.0      0.0      0.0  ...   3035752.0   \n",
       "std         0.0      0.0      0.0  ...   4908197.0   \n",
       "min         0.0      0.0      0.0  ...      4400.0   \n",
       "25%         0.0      0.0      0.0  ...    424791.0   \n",
       "50%         0.0      0.0      0.0  ...   1052860.0   \n",
       "75%         0.0      0.0      0.0  ...   3621750.0   \n",
       "max         1.0      1.0      1.0  ...  43805214.0   \n",
       "\n",
       "       Internet_Usage_per_percent_Population  Total_Labour_force  \\\n",
       "count                                15110.0             15110.0   \n",
       "mean                                    23.0          12526091.0   \n",
       "std                                     29.0          24602458.0   \n",
       "min                                      0.0                 0.0   \n",
       "25%                                      0.0                 0.0   \n",
       "50%                                      6.0           2937065.0   \n",
       "75%                                     43.0          15687072.0   \n",
       "max                                     96.0         158831064.0   \n",
       "\n",
       "       Cellular_subscriptions_per_100_people      GDPpyear  GDPpcapital  \\\n",
       "count                                15110.0  1.511000e+04      15110.0   \n",
       "mean                                    44.0  7.837623e+11      20723.0   \n",
       "std                                     50.0  1.904350e+12      19307.0   \n",
       "min                                      0.0  1.201313e+09        357.0   \n",
       "25%                                      0.0  5.700843e+10       4431.0   \n",
       "50%                                     16.0  2.100000e+11      14729.0   \n",
       "75%                                     92.0  5.620000e+11      31630.0   \n",
       "max                                    172.0  1.810000e+13     109804.0   \n",
       "\n",
       "       Expense_percent_of_GDP)  Physicians_per_1,000_people)  \\\n",
       "count                  15110.0                       15110.0   \n",
       "mean                      19.0                           1.0   \n",
       "std                       16.0                           1.0   \n",
       "min                        0.0                           0.0   \n",
       "25%                        0.0                           0.0   \n",
       "50%                       19.0                           1.0   \n",
       "75%                       33.0                           3.0   \n",
       "max                       62.0                           7.0   \n",
       "\n",
       "       Refugee_population_by_country_or_territory_of_origin  Suicidesper100k  \n",
       "count                                            15110.0             15110.0  \n",
       "mean                                             12558.0                13.0  \n",
       "std                                              51524.0                18.0  \n",
       "min                                                  0.0                 0.0  \n",
       "25%                                                  0.0                 2.0  \n",
       "50%                                                 37.0                 7.0  \n",
       "75%                                                994.0                18.0  \n",
       "max                                             551744.0               178.0  \n",
       "\n",
       "[8 rows x 65 columns]"
      ]
     },
     "execution_count": 70,
     "metadata": {},
     "output_type": "execute_result"
    }
   ],
   "source": [
    "sucidedataframe.describe().round()  # Shows the count, mean, std, min, 25%, 50%, 75% and \n",
    "                                    # max of a datframe. "
   ]
  },
  {
   "cell_type": "markdown",
   "id": "4b3db461",
   "metadata": {},
   "source": [
    "# Label encoding"
   ]
  },
  {
   "cell_type": "code",
   "execution_count": 71,
   "id": "535369b5",
   "metadata": {},
   "outputs": [
    {
     "name": "stdout",
     "output_type": "stream",
     "text": [
      "max  178\n",
      "high  89\n",
      "medium  44\n",
      "low  22\n",
      "min  11\n"
     ]
    }
   ],
   "source": [
    "print(\"max \", 178)  # value is slelected for the lable \n",
    "print(\"high \", round(178/2))  # value is slelected for the lable \n",
    "print(\"medium \", round(89/2))  # value is slelected for the lable \n",
    "print(\"low \", round(44/2))  # value is slelected for the lable \n",
    "print(\"min \", round(22/2))  # value is slelected for the lable "
   ]
  },
  {
   "cell_type": "code",
   "execution_count": 72,
   "id": "3df93f63",
   "metadata": {},
   "outputs": [],
   "source": [
    "sucidedataframe.loc[(sucidedataframe[\"Suicidesper100k\"] < 11), \"Suicidesper100k\"] = 1 # Encoding values below 11 as 1."
   ]
  },
  {
   "cell_type": "code",
   "execution_count": 73,
   "id": "0dab8cdd",
   "metadata": {},
   "outputs": [],
   "source": [
    "sucidedataframe.loc[(sucidedataframe[\"Suicidesper100k\"] >= 11) & (sucidedataframe[\"Suicidesper100k\"] < 22), \"Suicidesper100k\"] = 2  \n",
    "# Encoding values aboveor equal to 11 as and below 22 to 2."
   ]
  },
  {
   "cell_type": "code",
   "execution_count": 74,
   "id": "8d351c10",
   "metadata": {},
   "outputs": [],
   "source": [
    "sucidedataframe.loc[(sucidedataframe[\"Suicidesper100k\"] >= 22) & (sucidedataframe[\"Suicidesper100k\"] < 44), \"Suicidesper100k\"] = 3 \n",
    "# Encoding values equal to and above 22 and below 44 to 3."
   ]
  },
  {
   "cell_type": "code",
   "execution_count": 75,
   "id": "f303a675",
   "metadata": {},
   "outputs": [],
   "source": [
    "sucidedataframe.loc[(sucidedataframe[\"Suicidesper100k\"] >= 44) & (sucidedataframe[\"Suicidesper100k\"] < 89), \"Suicidesper100k\"] = 4  \n",
    "# Encoding values above or equal to 44 as and below 89 to 4."
   ]
  },
  {
   "cell_type": "code",
   "execution_count": 76,
   "id": "2cb40559",
   "metadata": {},
   "outputs": [],
   "source": [
    "sucidedataframe.loc[(sucidedataframe[\"Suicidesper100k\"] >= 89) & (sucidedataframe[\"Suicidesper100k\"] <= 178), \"Suicidesper100k\"] = 5 \n",
    "# Encoding values above or equal to 89 as and below 178 to 4."
   ]
  },
  {
   "cell_type": "code",
   "execution_count": 77,
   "id": "5afc1369",
   "metadata": {},
   "outputs": [
    {
     "name": "stdout",
     "output_type": "stream",
     "text": [
      "<class 'pandas.core.frame.DataFrame'>\n",
      "RangeIndex: 15110 entries, 0 to 15109\n",
      "Data columns (total 65 columns):\n",
      " #   Column                                                Non-Null Count  Dtype  \n",
      "---  ------                                                --------------  -----  \n",
      " 0   Argentina                                             15110 non-null  int32  \n",
      " 1   Armenia                                               15110 non-null  int32  \n",
      " 2   Australia                                             15110 non-null  int32  \n",
      " 3   Austria                                               15110 non-null  int32  \n",
      " 4   Azerbaijan                                            15110 non-null  int32  \n",
      " 5   Belgium                                               15110 non-null  int32  \n",
      " 6   Brazil                                                15110 non-null  int32  \n",
      " 7   Bulgaria                                              15110 non-null  int32  \n",
      " 8   Canada                                                15110 non-null  int32  \n",
      " 9   Chile                                                 15110 non-null  int32  \n",
      " 10  Colombia                                              15110 non-null  int32  \n",
      " 11  Croatia                                               15110 non-null  int32  \n",
      " 12  Cuba                                                  15110 non-null  int32  \n",
      " 13  Czech Republic                                        15110 non-null  int32  \n",
      " 14  Denmark                                               15110 non-null  int32  \n",
      " 15  Finland                                               15110 non-null  int32  \n",
      " 16  France                                                15110 non-null  int32  \n",
      " 17  Georgia                                               15110 non-null  int32  \n",
      " 18  Germany                                               15110 non-null  int32  \n",
      " 19  Greece                                                15110 non-null  int32  \n",
      " 20  Hungary                                               15110 non-null  int32  \n",
      " 21  Iceland                                               15110 non-null  int32  \n",
      " 22  Ireland                                               15110 non-null  int32  \n",
      " 23  Israel                                                15110 non-null  int32  \n",
      " 24  Italy                                                 15110 non-null  int32  \n",
      " 25  Jamaica                                               15110 non-null  int32  \n",
      " 26  Japan                                                 15110 non-null  int32  \n",
      " 27  Mexico                                                15110 non-null  int32  \n",
      " 28  Mongolia                                              15110 non-null  int32  \n",
      " 29  Netherlands                                           15110 non-null  int32  \n",
      " 30  New Zealand                                           15110 non-null  int32  \n",
      " 31  Norway                                                15110 non-null  int32  \n",
      " 32  Poland                                                15110 non-null  int32  \n",
      " 33  Portugal                                              15110 non-null  int32  \n",
      " 34  Romania                                               15110 non-null  int32  \n",
      " 35  Russian Federation                                    15110 non-null  int32  \n",
      " 36  South Africa                                          15110 non-null  int32  \n",
      " 37  Spain                                                 15110 non-null  int32  \n",
      " 38  Sweden                                                15110 non-null  int32  \n",
      " 39  Switzerland                                           15110 non-null  int32  \n",
      " 40  Thailand                                              15110 non-null  int32  \n",
      " 41  Turkey                                                15110 non-null  int32  \n",
      " 42  Turkmenistan                                          15110 non-null  int32  \n",
      " 43  Ukraine                                               15110 non-null  int32  \n",
      " 44  United Arab Emirates                                  15110 non-null  int32  \n",
      " 45  United Kingdom                                        15110 non-null  int32  \n",
      " 46  United States                                         15110 non-null  int32  \n",
      " 47  Uzbekistan                                            15110 non-null  int32  \n",
      " 48  15-24 years                                           15110 non-null  int32  \n",
      " 49  25-34 years                                           15110 non-null  int32  \n",
      " 50  35-54 years                                           15110 non-null  int32  \n",
      " 51  5-14 years                                            15110 non-null  int32  \n",
      " 52  55-74 years                                           15110 non-null  int32  \n",
      " 53  75+ years                                             15110 non-null  int32  \n",
      " 54  Gender                                                15110 non-null  int32  \n",
      " 55  Population                                            15110 non-null  int64  \n",
      " 56  Internet_Usage_per_percent_Population                 15110 non-null  int64  \n",
      " 57  Total_Labour_force                                    15110 non-null  int64  \n",
      " 58  Cellular_subscriptions_per_100_people                 15110 non-null  float64\n",
      " 59  GDPpyear                                              15110 non-null  float64\n",
      " 60  GDPpcapital                                           15110 non-null  int64  \n",
      " 61  Expense_percent_of_GDP)                               15110 non-null  int64  \n",
      " 62  Physicians_per_1,000_people)                          15110 non-null  int64  \n",
      " 63  Refugee_population_by_country_or_territory_of_origin  15110 non-null  int64  \n",
      " 64  Suicidesper100k                                       15110 non-null  float64\n",
      "dtypes: float64(3), int32(55), int64(7)\n",
      "memory usage: 4.3 MB\n"
     ]
    }
   ],
   "source": [
    "sucidedataframe.info()  # checking Basic information on the dataframe being procesed."
   ]
  },
  {
   "cell_type": "code",
   "execution_count": 78,
   "id": "1c152f46",
   "metadata": {},
   "outputs": [],
   "source": [
    "le = LabelEncoder()  # creating the instance of the object.\n",
    "sucidedataframe.Suicidesper100k = le.fit_transform(sucidedataframe.Suicidesper100k)  # label encoing the require dcolumn."
   ]
  },
  {
   "cell_type": "code",
   "execution_count": 79,
   "id": "779fd825",
   "metadata": {},
   "outputs": [
    {
     "name": "stdout",
     "output_type": "stream",
     "text": [
      "<class 'pandas.core.frame.DataFrame'>\n",
      "RangeIndex: 15110 entries, 0 to 15109\n",
      "Data columns (total 65 columns):\n",
      " #   Column                                                Non-Null Count  Dtype  \n",
      "---  ------                                                --------------  -----  \n",
      " 0   Argentina                                             15110 non-null  int32  \n",
      " 1   Armenia                                               15110 non-null  int32  \n",
      " 2   Australia                                             15110 non-null  int32  \n",
      " 3   Austria                                               15110 non-null  int32  \n",
      " 4   Azerbaijan                                            15110 non-null  int32  \n",
      " 5   Belgium                                               15110 non-null  int32  \n",
      " 6   Brazil                                                15110 non-null  int32  \n",
      " 7   Bulgaria                                              15110 non-null  int32  \n",
      " 8   Canada                                                15110 non-null  int32  \n",
      " 9   Chile                                                 15110 non-null  int32  \n",
      " 10  Colombia                                              15110 non-null  int32  \n",
      " 11  Croatia                                               15110 non-null  int32  \n",
      " 12  Cuba                                                  15110 non-null  int32  \n",
      " 13  Czech Republic                                        15110 non-null  int32  \n",
      " 14  Denmark                                               15110 non-null  int32  \n",
      " 15  Finland                                               15110 non-null  int32  \n",
      " 16  France                                                15110 non-null  int32  \n",
      " 17  Georgia                                               15110 non-null  int32  \n",
      " 18  Germany                                               15110 non-null  int32  \n",
      " 19  Greece                                                15110 non-null  int32  \n",
      " 20  Hungary                                               15110 non-null  int32  \n",
      " 21  Iceland                                               15110 non-null  int32  \n",
      " 22  Ireland                                               15110 non-null  int32  \n",
      " 23  Israel                                                15110 non-null  int32  \n",
      " 24  Italy                                                 15110 non-null  int32  \n",
      " 25  Jamaica                                               15110 non-null  int32  \n",
      " 26  Japan                                                 15110 non-null  int32  \n",
      " 27  Mexico                                                15110 non-null  int32  \n",
      " 28  Mongolia                                              15110 non-null  int32  \n",
      " 29  Netherlands                                           15110 non-null  int32  \n",
      " 30  New Zealand                                           15110 non-null  int32  \n",
      " 31  Norway                                                15110 non-null  int32  \n",
      " 32  Poland                                                15110 non-null  int32  \n",
      " 33  Portugal                                              15110 non-null  int32  \n",
      " 34  Romania                                               15110 non-null  int32  \n",
      " 35  Russian Federation                                    15110 non-null  int32  \n",
      " 36  South Africa                                          15110 non-null  int32  \n",
      " 37  Spain                                                 15110 non-null  int32  \n",
      " 38  Sweden                                                15110 non-null  int32  \n",
      " 39  Switzerland                                           15110 non-null  int32  \n",
      " 40  Thailand                                              15110 non-null  int32  \n",
      " 41  Turkey                                                15110 non-null  int32  \n",
      " 42  Turkmenistan                                          15110 non-null  int32  \n",
      " 43  Ukraine                                               15110 non-null  int32  \n",
      " 44  United Arab Emirates                                  15110 non-null  int32  \n",
      " 45  United Kingdom                                        15110 non-null  int32  \n",
      " 46  United States                                         15110 non-null  int32  \n",
      " 47  Uzbekistan                                            15110 non-null  int32  \n",
      " 48  15-24 years                                           15110 non-null  int32  \n",
      " 49  25-34 years                                           15110 non-null  int32  \n",
      " 50  35-54 years                                           15110 non-null  int32  \n",
      " 51  5-14 years                                            15110 non-null  int32  \n",
      " 52  55-74 years                                           15110 non-null  int32  \n",
      " 53  75+ years                                             15110 non-null  int32  \n",
      " 54  Gender                                                15110 non-null  int32  \n",
      " 55  Population                                            15110 non-null  int64  \n",
      " 56  Internet_Usage_per_percent_Population                 15110 non-null  int64  \n",
      " 57  Total_Labour_force                                    15110 non-null  int64  \n",
      " 58  Cellular_subscriptions_per_100_people                 15110 non-null  float64\n",
      " 59  GDPpyear                                              15110 non-null  float64\n",
      " 60  GDPpcapital                                           15110 non-null  int64  \n",
      " 61  Expense_percent_of_GDP)                               15110 non-null  int64  \n",
      " 62  Physicians_per_1,000_people)                          15110 non-null  int64  \n",
      " 63  Refugee_population_by_country_or_territory_of_origin  15110 non-null  int64  \n",
      " 64  Suicidesper100k                                       15110 non-null  int64  \n",
      "dtypes: float64(2), int32(55), int64(8)\n",
      "memory usage: 4.3 MB\n"
     ]
    }
   ],
   "source": [
    "sucidedataframe.info()  # checking Basic information on the dataframe being procesed."
   ]
  },
  {
   "cell_type": "code",
   "execution_count": 80,
   "id": "cb3abf39",
   "metadata": {},
   "outputs": [
    {
     "name": "stdout",
     "output_type": "stream",
     "text": [
      "Suicidesper100k\n",
      "0    9264\n",
      "1    2850\n",
      "2    2177\n",
      "3     678\n",
      "4     141\n",
      "dtype: int64\n"
     ]
    }
   ],
   "source": [
    "print(sucidedataframe.pivot_table(columns=['Suicidesper100k'], aggfunc='size'))  # counts duplicates in the selected dataframe column."
   ]
  },
  {
   "cell_type": "code",
   "execution_count": 81,
   "id": "221f4dad",
   "metadata": {},
   "outputs": [
    {
     "data": {
      "text/plain": [
       "15110"
      ]
     },
     "execution_count": 81,
     "metadata": {},
     "output_type": "execute_result"
    }
   ],
   "source": [
    "9264 + 2850 + 2177 + 678 + 141  # calculation"
   ]
  },
  {
   "cell_type": "code",
   "execution_count": 82,
   "id": "cde2e5ab",
   "metadata": {},
   "outputs": [
    {
     "data": {
      "text/html": [
       "<div>\n",
       "<style scoped>\n",
       "    .dataframe tbody tr th:only-of-type {\n",
       "        vertical-align: middle;\n",
       "    }\n",
       "\n",
       "    .dataframe tbody tr th {\n",
       "        vertical-align: top;\n",
       "    }\n",
       "\n",
       "    .dataframe thead th {\n",
       "        text-align: right;\n",
       "    }\n",
       "</style>\n",
       "<table border=\"1\" class=\"dataframe\">\n",
       "  <thead>\n",
       "    <tr style=\"text-align: right;\">\n",
       "      <th></th>\n",
       "      <th>Argentina</th>\n",
       "      <th>Armenia</th>\n",
       "      <th>Australia</th>\n",
       "      <th>Austria</th>\n",
       "      <th>Azerbaijan</th>\n",
       "      <th>Belgium</th>\n",
       "      <th>Brazil</th>\n",
       "      <th>Bulgaria</th>\n",
       "      <th>Canada</th>\n",
       "      <th>Chile</th>\n",
       "      <th>...</th>\n",
       "      <th>Population</th>\n",
       "      <th>Internet_Usage_per_percent_Population</th>\n",
       "      <th>Total_Labour_force</th>\n",
       "      <th>Cellular_subscriptions_per_100_people</th>\n",
       "      <th>GDPpyear</th>\n",
       "      <th>GDPpcapital</th>\n",
       "      <th>Expense_percent_of_GDP)</th>\n",
       "      <th>Physicians_per_1,000_people)</th>\n",
       "      <th>Refugee_population_by_country_or_territory_of_origin</th>\n",
       "      <th>Suicidesper100k</th>\n",
       "    </tr>\n",
       "  </thead>\n",
       "  <tbody>\n",
       "    <tr>\n",
       "      <th>0</th>\n",
       "      <td>1</td>\n",
       "      <td>0</td>\n",
       "      <td>0</td>\n",
       "      <td>0</td>\n",
       "      <td>0</td>\n",
       "      <td>0</td>\n",
       "      <td>0</td>\n",
       "      <td>0</td>\n",
       "      <td>0</td>\n",
       "      <td>0</td>\n",
       "      <td>...</td>\n",
       "      <td>363000</td>\n",
       "      <td>0</td>\n",
       "      <td>0</td>\n",
       "      <td>0.0</td>\n",
       "      <td>8.841667e+10</td>\n",
       "      <td>3264</td>\n",
       "      <td>0</td>\n",
       "      <td>0</td>\n",
       "      <td>0</td>\n",
       "      <td>3</td>\n",
       "    </tr>\n",
       "    <tr>\n",
       "      <th>1</th>\n",
       "      <td>1</td>\n",
       "      <td>0</td>\n",
       "      <td>0</td>\n",
       "      <td>0</td>\n",
       "      <td>0</td>\n",
       "      <td>0</td>\n",
       "      <td>0</td>\n",
       "      <td>0</td>\n",
       "      <td>0</td>\n",
       "      <td>0</td>\n",
       "      <td>...</td>\n",
       "      <td>1997000</td>\n",
       "      <td>0</td>\n",
       "      <td>0</td>\n",
       "      <td>0.0</td>\n",
       "      <td>8.841667e+10</td>\n",
       "      <td>3264</td>\n",
       "      <td>0</td>\n",
       "      <td>0</td>\n",
       "      <td>0</td>\n",
       "      <td>2</td>\n",
       "    </tr>\n",
       "    <tr>\n",
       "      <th>2</th>\n",
       "      <td>1</td>\n",
       "      <td>0</td>\n",
       "      <td>0</td>\n",
       "      <td>0</td>\n",
       "      <td>0</td>\n",
       "      <td>0</td>\n",
       "      <td>0</td>\n",
       "      <td>0</td>\n",
       "      <td>0</td>\n",
       "      <td>0</td>\n",
       "      <td>...</td>\n",
       "      <td>3346300</td>\n",
       "      <td>0</td>\n",
       "      <td>0</td>\n",
       "      <td>0.0</td>\n",
       "      <td>8.841667e+10</td>\n",
       "      <td>3264</td>\n",
       "      <td>0</td>\n",
       "      <td>0</td>\n",
       "      <td>0</td>\n",
       "      <td>1</td>\n",
       "    </tr>\n",
       "    <tr>\n",
       "      <th>3</th>\n",
       "      <td>1</td>\n",
       "      <td>0</td>\n",
       "      <td>0</td>\n",
       "      <td>0</td>\n",
       "      <td>0</td>\n",
       "      <td>0</td>\n",
       "      <td>0</td>\n",
       "      <td>0</td>\n",
       "      <td>0</td>\n",
       "      <td>0</td>\n",
       "      <td>...</td>\n",
       "      <td>2304000</td>\n",
       "      <td>0</td>\n",
       "      <td>0</td>\n",
       "      <td>0.0</td>\n",
       "      <td>8.841667e+10</td>\n",
       "      <td>3264</td>\n",
       "      <td>0</td>\n",
       "      <td>0</td>\n",
       "      <td>0</td>\n",
       "      <td>0</td>\n",
       "    </tr>\n",
       "    <tr>\n",
       "      <th>4</th>\n",
       "      <td>1</td>\n",
       "      <td>0</td>\n",
       "      <td>0</td>\n",
       "      <td>0</td>\n",
       "      <td>0</td>\n",
       "      <td>0</td>\n",
       "      <td>0</td>\n",
       "      <td>0</td>\n",
       "      <td>0</td>\n",
       "      <td>0</td>\n",
       "      <td>...</td>\n",
       "      <td>2234200</td>\n",
       "      <td>0</td>\n",
       "      <td>0</td>\n",
       "      <td>0.0</td>\n",
       "      <td>8.841667e+10</td>\n",
       "      <td>3264</td>\n",
       "      <td>0</td>\n",
       "      <td>0</td>\n",
       "      <td>0</td>\n",
       "      <td>0</td>\n",
       "    </tr>\n",
       "  </tbody>\n",
       "</table>\n",
       "<p>5 rows × 65 columns</p>\n",
       "</div>"
      ],
      "text/plain": [
       "   Argentina  Armenia  Australia  Austria  Azerbaijan  Belgium  Brazil  \\\n",
       "0          1        0          0        0           0        0       0   \n",
       "1          1        0          0        0           0        0       0   \n",
       "2          1        0          0        0           0        0       0   \n",
       "3          1        0          0        0           0        0       0   \n",
       "4          1        0          0        0           0        0       0   \n",
       "\n",
       "   Bulgaria  Canada  Chile  ...  Population  \\\n",
       "0         0       0      0  ...      363000   \n",
       "1         0       0      0  ...     1997000   \n",
       "2         0       0      0  ...     3346300   \n",
       "3         0       0      0  ...     2304000   \n",
       "4         0       0      0  ...     2234200   \n",
       "\n",
       "   Internet_Usage_per_percent_Population  Total_Labour_force  \\\n",
       "0                                      0                   0   \n",
       "1                                      0                   0   \n",
       "2                                      0                   0   \n",
       "3                                      0                   0   \n",
       "4                                      0                   0   \n",
       "\n",
       "   Cellular_subscriptions_per_100_people      GDPpyear  GDPpcapital  \\\n",
       "0                                    0.0  8.841667e+10         3264   \n",
       "1                                    0.0  8.841667e+10         3264   \n",
       "2                                    0.0  8.841667e+10         3264   \n",
       "3                                    0.0  8.841667e+10         3264   \n",
       "4                                    0.0  8.841667e+10         3264   \n",
       "\n",
       "   Expense_percent_of_GDP)  Physicians_per_1,000_people)  \\\n",
       "0                        0                             0   \n",
       "1                        0                             0   \n",
       "2                        0                             0   \n",
       "3                        0                             0   \n",
       "4                        0                             0   \n",
       "\n",
       "   Refugee_population_by_country_or_territory_of_origin  Suicidesper100k  \n",
       "0                                                  0                   3  \n",
       "1                                                  0                   2  \n",
       "2                                                  0                   1  \n",
       "3                                                  0                   0  \n",
       "4                                                  0                   0  \n",
       "\n",
       "[5 rows x 65 columns]"
      ]
     },
     "execution_count": 82,
     "metadata": {},
     "output_type": "execute_result"
    }
   ],
   "source": [
    "sucidedataframe.head()  # outputting dataframe head."
   ]
  },
  {
   "cell_type": "code",
   "execution_count": 83,
   "id": "c0d852df",
   "metadata": {},
   "outputs": [],
   "source": [
    "one = str(round(100 * (9264/15110),2)) + \"%\"   # percentage of the value is checked from label column.\n",
    "two  = str(round(100 * (2850/15110),2)) + \"%\"  # percentage of the value is checked from label column.\n",
    "three = str(round(100 * (2177/15110),2)) + \"%\"  # percentage of the value is checked from label column.\n",
    "four = str(round(100 * (678/15110),2)) + \"%\"  # percentage of the value is checked from label column.\n",
    "five = str(round(100 * (141/15110),2)) + \"%\"  # percentage of the value is checked from label column."
   ]
  },
  {
   "cell_type": "code",
   "execution_count": 84,
   "id": "5a1f44cd",
   "metadata": {},
   "outputs": [
    {
     "name": "stdout",
     "output_type": "stream",
     "text": [
      "1 is represented  61.31% \n",
      "2 is represented  18.86% \n",
      "3 is represented  14.41% \n",
      "4 is represented  4.49% \n",
      "5 is represented  0.93%\n"
     ]
    }
   ],
   "source": [
    "print(\"1 is represented \", one, \"\\n2 is represented \", two, \"\\n3 is represented \", three, \"\\n4 is represented \", four, \"\\n5 is represented \", five)\n",
    "# percentage of the value is printed of label column."
   ]
  },
  {
   "cell_type": "code",
   "execution_count": 85,
   "id": "d3adfba1",
   "metadata": {},
   "outputs": [
    {
     "data": {
      "text/plain": [
       "<BarContainer object of 5 artists>"
      ]
     },
     "execution_count": 85,
     "metadata": {},
     "output_type": "execute_result"
    },
    {
     "data": {
      "image/png": "[encoded data removed]",
      "text/plain": [
       "<Figure size 432x288 with 1 Axes>"
      ]
     },
     "metadata": {
      "needs_background": "light"
     },
     "output_type": "display_data"
    }
   ],
   "source": [
    "plt.bar([1,2,3,4,5],[9262, 2850, 2177, 678, 141])  # bar chart is outputted to show the difference in values."
   ]
  },
  {
   "cell_type": "code",
   "execution_count": 86,
   "id": "a91a42b5",
   "metadata": {},
   "outputs": [
    {
     "data": {
      "text/html": [
       "<div>\n",
       "<style scoped>\n",
       "    .dataframe tbody tr th:only-of-type {\n",
       "        vertical-align: middle;\n",
       "    }\n",
       "\n",
       "    .dataframe tbody tr th {\n",
       "        vertical-align: top;\n",
       "    }\n",
       "\n",
       "    .dataframe thead th {\n",
       "        text-align: right;\n",
       "    }\n",
       "</style>\n",
       "<table border=\"1\" class=\"dataframe\">\n",
       "  <thead>\n",
       "    <tr style=\"text-align: right;\">\n",
       "      <th></th>\n",
       "      <th>Argentina</th>\n",
       "      <th>Armenia</th>\n",
       "      <th>Australia</th>\n",
       "      <th>Austria</th>\n",
       "      <th>Azerbaijan</th>\n",
       "      <th>Belgium</th>\n",
       "      <th>Brazil</th>\n",
       "      <th>Bulgaria</th>\n",
       "      <th>Canada</th>\n",
       "      <th>Chile</th>\n",
       "      <th>...</th>\n",
       "      <th>Population</th>\n",
       "      <th>Internet_Usage_per_percent_Population</th>\n",
       "      <th>Total_Labour_force</th>\n",
       "      <th>Cellular_subscriptions_per_100_people</th>\n",
       "      <th>GDPpyear</th>\n",
       "      <th>GDPpcapital</th>\n",
       "      <th>Expense_percent_of_GDP)</th>\n",
       "      <th>Physicians_per_1,000_people)</th>\n",
       "      <th>Refugee_population_by_country_or_territory_of_origin</th>\n",
       "      <th>Suicidesper100k</th>\n",
       "    </tr>\n",
       "  </thead>\n",
       "  <tbody>\n",
       "    <tr>\n",
       "      <th>0</th>\n",
       "      <td>1</td>\n",
       "      <td>0</td>\n",
       "      <td>0</td>\n",
       "      <td>0</td>\n",
       "      <td>0</td>\n",
       "      <td>0</td>\n",
       "      <td>0</td>\n",
       "      <td>0</td>\n",
       "      <td>0</td>\n",
       "      <td>0</td>\n",
       "      <td>...</td>\n",
       "      <td>363000</td>\n",
       "      <td>0</td>\n",
       "      <td>0</td>\n",
       "      <td>0.0</td>\n",
       "      <td>8.841667e+10</td>\n",
       "      <td>3264</td>\n",
       "      <td>0</td>\n",
       "      <td>0</td>\n",
       "      <td>0</td>\n",
       "      <td>3</td>\n",
       "    </tr>\n",
       "    <tr>\n",
       "      <th>1</th>\n",
       "      <td>1</td>\n",
       "      <td>0</td>\n",
       "      <td>0</td>\n",
       "      <td>0</td>\n",
       "      <td>0</td>\n",
       "      <td>0</td>\n",
       "      <td>0</td>\n",
       "      <td>0</td>\n",
       "      <td>0</td>\n",
       "      <td>0</td>\n",
       "      <td>...</td>\n",
       "      <td>1997000</td>\n",
       "      <td>0</td>\n",
       "      <td>0</td>\n",
       "      <td>0.0</td>\n",
       "      <td>8.841667e+10</td>\n",
       "      <td>3264</td>\n",
       "      <td>0</td>\n",
       "      <td>0</td>\n",
       "      <td>0</td>\n",
       "      <td>2</td>\n",
       "    </tr>\n",
       "    <tr>\n",
       "      <th>2</th>\n",
       "      <td>1</td>\n",
       "      <td>0</td>\n",
       "      <td>0</td>\n",
       "      <td>0</td>\n",
       "      <td>0</td>\n",
       "      <td>0</td>\n",
       "      <td>0</td>\n",
       "      <td>0</td>\n",
       "      <td>0</td>\n",
       "      <td>0</td>\n",
       "      <td>...</td>\n",
       "      <td>3346300</td>\n",
       "      <td>0</td>\n",
       "      <td>0</td>\n",
       "      <td>0.0</td>\n",
       "      <td>8.841667e+10</td>\n",
       "      <td>3264</td>\n",
       "      <td>0</td>\n",
       "      <td>0</td>\n",
       "      <td>0</td>\n",
       "      <td>1</td>\n",
       "    </tr>\n",
       "    <tr>\n",
       "      <th>3</th>\n",
       "      <td>1</td>\n",
       "      <td>0</td>\n",
       "      <td>0</td>\n",
       "      <td>0</td>\n",
       "      <td>0</td>\n",
       "      <td>0</td>\n",
       "      <td>0</td>\n",
       "      <td>0</td>\n",
       "      <td>0</td>\n",
       "      <td>0</td>\n",
       "      <td>...</td>\n",
       "      <td>2304000</td>\n",
       "      <td>0</td>\n",
       "      <td>0</td>\n",
       "      <td>0.0</td>\n",
       "      <td>8.841667e+10</td>\n",
       "      <td>3264</td>\n",
       "      <td>0</td>\n",
       "      <td>0</td>\n",
       "      <td>0</td>\n",
       "      <td>0</td>\n",
       "    </tr>\n",
       "    <tr>\n",
       "      <th>4</th>\n",
       "      <td>1</td>\n",
       "      <td>0</td>\n",
       "      <td>0</td>\n",
       "      <td>0</td>\n",
       "      <td>0</td>\n",
       "      <td>0</td>\n",
       "      <td>0</td>\n",
       "      <td>0</td>\n",
       "      <td>0</td>\n",
       "      <td>0</td>\n",
       "      <td>...</td>\n",
       "      <td>2234200</td>\n",
       "      <td>0</td>\n",
       "      <td>0</td>\n",
       "      <td>0.0</td>\n",
       "      <td>8.841667e+10</td>\n",
       "      <td>3264</td>\n",
       "      <td>0</td>\n",
       "      <td>0</td>\n",
       "      <td>0</td>\n",
       "      <td>0</td>\n",
       "    </tr>\n",
       "  </tbody>\n",
       "</table>\n",
       "<p>5 rows × 65 columns</p>\n",
       "</div>"
      ],
      "text/plain": [
       "   Argentina  Armenia  Australia  Austria  Azerbaijan  Belgium  Brazil  \\\n",
       "0          1        0          0        0           0        0       0   \n",
       "1          1        0          0        0           0        0       0   \n",
       "2          1        0          0        0           0        0       0   \n",
       "3          1        0          0        0           0        0       0   \n",
       "4          1        0          0        0           0        0       0   \n",
       "\n",
       "   Bulgaria  Canada  Chile  ...  Population  \\\n",
       "0         0       0      0  ...      363000   \n",
       "1         0       0      0  ...     1997000   \n",
       "2         0       0      0  ...     3346300   \n",
       "3         0       0      0  ...     2304000   \n",
       "4         0       0      0  ...     2234200   \n",
       "\n",
       "   Internet_Usage_per_percent_Population  Total_Labour_force  \\\n",
       "0                                      0                   0   \n",
       "1                                      0                   0   \n",
       "2                                      0                   0   \n",
       "3                                      0                   0   \n",
       "4                                      0                   0   \n",
       "\n",
       "   Cellular_subscriptions_per_100_people      GDPpyear  GDPpcapital  \\\n",
       "0                                    0.0  8.841667e+10         3264   \n",
       "1                                    0.0  8.841667e+10         3264   \n",
       "2                                    0.0  8.841667e+10         3264   \n",
       "3                                    0.0  8.841667e+10         3264   \n",
       "4                                    0.0  8.841667e+10         3264   \n",
       "\n",
       "   Expense_percent_of_GDP)  Physicians_per_1,000_people)  \\\n",
       "0                        0                             0   \n",
       "1                        0                             0   \n",
       "2                        0                             0   \n",
       "3                        0                             0   \n",
       "4                        0                             0   \n",
       "\n",
       "   Refugee_population_by_country_or_territory_of_origin  Suicidesper100k  \n",
       "0                                                  0                   3  \n",
       "1                                                  0                   2  \n",
       "2                                                  0                   1  \n",
       "3                                                  0                   0  \n",
       "4                                                  0                   0  \n",
       "\n",
       "[5 rows x 65 columns]"
      ]
     },
     "execution_count": 86,
     "metadata": {},
     "output_type": "execute_result"
    }
   ],
   "source": [
    "sucidedataframe.head()  # dataframe head is outputted."
   ]
  },
  {
   "cell_type": "code",
   "execution_count": 87,
   "id": "9375c48e",
   "metadata": {},
   "outputs": [
    {
     "name": "stdout",
     "output_type": "stream",
     "text": [
      "<class 'pandas.core.frame.DataFrame'>\n",
      "RangeIndex: 15110 entries, 0 to 15109\n",
      "Data columns (total 65 columns):\n",
      " #   Column                                                Non-Null Count  Dtype  \n",
      "---  ------                                                --------------  -----  \n",
      " 0   Argentina                                             15110 non-null  int32  \n",
      " 1   Armenia                                               15110 non-null  int32  \n",
      " 2   Australia                                             15110 non-null  int32  \n",
      " 3   Austria                                               15110 non-null  int32  \n",
      " 4   Azerbaijan                                            15110 non-null  int32  \n",
      " 5   Belgium                                               15110 non-null  int32  \n",
      " 6   Brazil                                                15110 non-null  int32  \n",
      " 7   Bulgaria                                              15110 non-null  int32  \n",
      " 8   Canada                                                15110 non-null  int32  \n",
      " 9   Chile                                                 15110 non-null  int32  \n",
      " 10  Colombia                                              15110 non-null  int32  \n",
      " 11  Croatia                                               15110 non-null  int32  \n",
      " 12  Cuba                                                  15110 non-null  int32  \n",
      " 13  Czech Republic                                        15110 non-null  int32  \n",
      " 14  Denmark                                               15110 non-null  int32  \n",
      " 15  Finland                                               15110 non-null  int32  \n",
      " 16  France                                                15110 non-null  int32  \n",
      " 17  Georgia                                               15110 non-null  int32  \n",
      " 18  Germany                                               15110 non-null  int32  \n",
      " 19  Greece                                                15110 non-null  int32  \n",
      " 20  Hungary                                               15110 non-null  int32  \n",
      " 21  Iceland                                               15110 non-null  int32  \n",
      " 22  Ireland                                               15110 non-null  int32  \n",
      " 23  Israel                                                15110 non-null  int32  \n",
      " 24  Italy                                                 15110 non-null  int32  \n",
      " 25  Jamaica                                               15110 non-null  int32  \n",
      " 26  Japan                                                 15110 non-null  int32  \n",
      " 27  Mexico                                                15110 non-null  int32  \n",
      " 28  Mongolia                                              15110 non-null  int32  \n",
      " 29  Netherlands                                           15110 non-null  int32  \n",
      " 30  New Zealand                                           15110 non-null  int32  \n",
      " 31  Norway                                                15110 non-null  int32  \n",
      " 32  Poland                                                15110 non-null  int32  \n",
      " 33  Portugal                                              15110 non-null  int32  \n",
      " 34  Romania                                               15110 non-null  int32  \n",
      " 35  Russian Federation                                    15110 non-null  int32  \n",
      " 36  South Africa                                          15110 non-null  int32  \n",
      " 37  Spain                                                 15110 non-null  int32  \n",
      " 38  Sweden                                                15110 non-null  int32  \n",
      " 39  Switzerland                                           15110 non-null  int32  \n",
      " 40  Thailand                                              15110 non-null  int32  \n",
      " 41  Turkey                                                15110 non-null  int32  \n",
      " 42  Turkmenistan                                          15110 non-null  int32  \n",
      " 43  Ukraine                                               15110 non-null  int32  \n",
      " 44  United Arab Emirates                                  15110 non-null  int32  \n",
      " 45  United Kingdom                                        15110 non-null  int32  \n",
      " 46  United States                                         15110 non-null  int32  \n",
      " 47  Uzbekistan                                            15110 non-null  int32  \n",
      " 48  15-24 years                                           15110 non-null  int32  \n",
      " 49  25-34 years                                           15110 non-null  int32  \n",
      " 50  35-54 years                                           15110 non-null  int32  \n",
      " 51  5-14 years                                            15110 non-null  int32  \n",
      " 52  55-74 years                                           15110 non-null  int32  \n",
      " 53  75+ years                                             15110 non-null  int32  \n",
      " 54  Gender                                                15110 non-null  int32  \n",
      " 55  Population                                            15110 non-null  int64  \n",
      " 56  Internet_Usage_per_percent_Population                 15110 non-null  int64  \n",
      " 57  Total_Labour_force                                    15110 non-null  int64  \n",
      " 58  Cellular_subscriptions_per_100_people                 15110 non-null  float64\n",
      " 59  GDPpyear                                              15110 non-null  float64\n",
      " 60  GDPpcapital                                           15110 non-null  int64  \n",
      " 61  Expense_percent_of_GDP)                               15110 non-null  int64  \n",
      " 62  Physicians_per_1,000_people)                          15110 non-null  int64  \n",
      " 63  Refugee_population_by_country_or_territory_of_origin  15110 non-null  int64  \n",
      " 64  Suicidesper100k                                       15110 non-null  int64  \n",
      "dtypes: float64(2), int32(55), int64(8)\n",
      "memory usage: 4.3 MB\n"
     ]
    }
   ],
   "source": [
    "sucidedataframe.info()  # checking Basic information on the dataframe being procesed."
   ]
  },
  {
   "cell_type": "code",
   "execution_count": 88,
   "id": "15ac4791",
   "metadata": {},
   "outputs": [],
   "source": [
    "sucidedataframe['Cellular_subscriptions_per_100_people'] = sucidedataframe['Cellular_subscriptions_per_100_people'].astype(np.int64)  # converting float to int."
   ]
  },
  {
   "cell_type": "code",
   "execution_count": 89,
   "id": "61073da7",
   "metadata": {},
   "outputs": [],
   "source": [
    "sucidedataframe['Suicidesper100k'] = sucidedataframe['Suicidesper100k'].astype(np.int64)  # converting float to int."
   ]
  },
  {
   "cell_type": "code",
   "execution_count": 90,
   "id": "3d5939bc",
   "metadata": {},
   "outputs": [],
   "source": [
    "sucidedataframe['GDPpyear'] = sucidedataframe['GDPpyear'].astype(np.int64)  # converting float to int."
   ]
  },
  {
   "cell_type": "code",
   "execution_count": 91,
   "id": "a07dc163",
   "metadata": {},
   "outputs": [],
   "source": [
    "sucidedataframe['Expense_percent_of_GDP)'] = sucidedataframe['Expense_percent_of_GDP)'].astype(np.int64)  # converting float to int."
   ]
  },
  {
   "cell_type": "code",
   "execution_count": 92,
   "id": "53decf37",
   "metadata": {},
   "outputs": [],
   "source": [
    "sucidedataframe['Physicians_per_1,000_people)'] = sucidedataframe['Physicians_per_1,000_people)'].astype(np.int64)  # converting float to int."
   ]
  },
  {
   "cell_type": "code",
   "execution_count": 93,
   "id": "0e09c692",
   "metadata": {},
   "outputs": [],
   "source": [
    "sucidedataframe['Refugee_population_by_country_or_territory_of_origin'] = sucidedataframe['Refugee_population_by_country_or_territory_of_origin'].astype(np.int64)  # converting float to int."
   ]
  },
  {
   "cell_type": "code",
   "execution_count": 94,
   "id": "bbd9661b",
   "metadata": {},
   "outputs": [
    {
     "name": "stdout",
     "output_type": "stream",
     "text": [
      "<class 'pandas.core.frame.DataFrame'>\n",
      "RangeIndex: 15110 entries, 0 to 15109\n",
      "Data columns (total 65 columns):\n",
      " #   Column                                                Non-Null Count  Dtype\n",
      "---  ------                                                --------------  -----\n",
      " 0   Argentina                                             15110 non-null  int32\n",
      " 1   Armenia                                               15110 non-null  int32\n",
      " 2   Australia                                             15110 non-null  int32\n",
      " 3   Austria                                               15110 non-null  int32\n",
      " 4   Azerbaijan                                            15110 non-null  int32\n",
      " 5   Belgium                                               15110 non-null  int32\n",
      " 6   Brazil                                                15110 non-null  int32\n",
      " 7   Bulgaria                                              15110 non-null  int32\n",
      " 8   Canada                                                15110 non-null  int32\n",
      " 9   Chile                                                 15110 non-null  int32\n",
      " 10  Colombia                                              15110 non-null  int32\n",
      " 11  Croatia                                               15110 non-null  int32\n",
      " 12  Cuba                                                  15110 non-null  int32\n",
      " 13  Czech Republic                                        15110 non-null  int32\n",
      " 14  Denmark                                               15110 non-null  int32\n",
      " 15  Finland                                               15110 non-null  int32\n",
      " 16  France                                                15110 non-null  int32\n",
      " 17  Georgia                                               15110 non-null  int32\n",
      " 18  Germany                                               15110 non-null  int32\n",
      " 19  Greece                                                15110 non-null  int32\n",
      " 20  Hungary                                               15110 non-null  int32\n",
      " 21  Iceland                                               15110 non-null  int32\n",
      " 22  Ireland                                               15110 non-null  int32\n",
      " 23  Israel                                                15110 non-null  int32\n",
      " 24  Italy                                                 15110 non-null  int32\n",
      " 25  Jamaica                                               15110 non-null  int32\n",
      " 26  Japan                                                 15110 non-null  int32\n",
      " 27  Mexico                                                15110 non-null  int32\n",
      " 28  Mongolia                                              15110 non-null  int32\n",
      " 29  Netherlands                                           15110 non-null  int32\n",
      " 30  New Zealand                                           15110 non-null  int32\n",
      " 31  Norway                                                15110 non-null  int32\n",
      " 32  Poland                                                15110 non-null  int32\n",
      " 33  Portugal                                              15110 non-null  int32\n",
      " 34  Romania                                               15110 non-null  int32\n",
      " 35  Russian Federation                                    15110 non-null  int32\n",
      " 36  South Africa                                          15110 non-null  int32\n",
      " 37  Spain                                                 15110 non-null  int32\n",
      " 38  Sweden                                                15110 non-null  int32\n",
      " 39  Switzerland                                           15110 non-null  int32\n",
      " 40  Thailand                                              15110 non-null  int32\n",
      " 41  Turkey                                                15110 non-null  int32\n",
      " 42  Turkmenistan                                          15110 non-null  int32\n",
      " 43  Ukraine                                               15110 non-null  int32\n",
      " 44  United Arab Emirates                                  15110 non-null  int32\n",
      " 45  United Kingdom                                        15110 non-null  int32\n",
      " 46  United States                                         15110 non-null  int32\n",
      " 47  Uzbekistan                                            15110 non-null  int32\n",
      " 48  15-24 years                                           15110 non-null  int32\n",
      " 49  25-34 years                                           15110 non-null  int32\n",
      " 50  35-54 years                                           15110 non-null  int32\n",
      " 51  5-14 years                                            15110 non-null  int32\n",
      " 52  55-74 years                                           15110 non-null  int32\n",
      " 53  75+ years                                             15110 non-null  int32\n",
      " 54  Gender                                                15110 non-null  int32\n",
      " 55  Population                                            15110 non-null  int64\n",
      " 56  Internet_Usage_per_percent_Population                 15110 non-null  int64\n",
      " 57  Total_Labour_force                                    15110 non-null  int64\n",
      " 58  Cellular_subscriptions_per_100_people                 15110 non-null  int64\n",
      " 59  GDPpyear                                              15110 non-null  int64\n",
      " 60  GDPpcapital                                           15110 non-null  int64\n",
      " 61  Expense_percent_of_GDP)                               15110 non-null  int64\n",
      " 62  Physicians_per_1,000_people)                          15110 non-null  int64\n",
      " 63  Refugee_population_by_country_or_territory_of_origin  15110 non-null  int64\n",
      " 64  Suicidesper100k                                       15110 non-null  int64\n",
      "dtypes: int32(55), int64(10)\n",
      "memory usage: 4.3 MB\n"
     ]
    }
   ],
   "source": [
    "sucidedataframe.info()  # checking Basic information on the dataframe being procesed."
   ]
  },
  {
   "cell_type": "markdown",
   "id": "d4a78be8",
   "metadata": {},
   "source": [
    "### selecting X and Y values "
   ]
  },
  {
   "cell_type": "code",
   "execution_count": 95,
   "id": "ac3c2d05",
   "metadata": {},
   "outputs": [
    {
     "data": {
      "text/html": [
       "<div>\n",
       "<style scoped>\n",
       "    .dataframe tbody tr th:only-of-type {\n",
       "        vertical-align: middle;\n",
       "    }\n",
       "\n",
       "    .dataframe tbody tr th {\n",
       "        vertical-align: top;\n",
       "    }\n",
       "\n",
       "    .dataframe thead th {\n",
       "        text-align: right;\n",
       "    }\n",
       "</style>\n",
       "<table border=\"1\" class=\"dataframe\">\n",
       "  <thead>\n",
       "    <tr style=\"text-align: right;\">\n",
       "      <th></th>\n",
       "      <th>Argentina</th>\n",
       "      <th>Armenia</th>\n",
       "      <th>Australia</th>\n",
       "      <th>Austria</th>\n",
       "      <th>Azerbaijan</th>\n",
       "      <th>Belgium</th>\n",
       "      <th>Brazil</th>\n",
       "      <th>Bulgaria</th>\n",
       "      <th>Canada</th>\n",
       "      <th>Chile</th>\n",
       "      <th>...</th>\n",
       "      <th>Population</th>\n",
       "      <th>Internet_Usage_per_percent_Population</th>\n",
       "      <th>Total_Labour_force</th>\n",
       "      <th>Cellular_subscriptions_per_100_people</th>\n",
       "      <th>GDPpyear</th>\n",
       "      <th>GDPpcapital</th>\n",
       "      <th>Expense_percent_of_GDP)</th>\n",
       "      <th>Physicians_per_1,000_people)</th>\n",
       "      <th>Refugee_population_by_country_or_territory_of_origin</th>\n",
       "      <th>Suicidesper100k</th>\n",
       "    </tr>\n",
       "  </thead>\n",
       "  <tbody>\n",
       "    <tr>\n",
       "      <th>0</th>\n",
       "      <td>1</td>\n",
       "      <td>0</td>\n",
       "      <td>0</td>\n",
       "      <td>0</td>\n",
       "      <td>0</td>\n",
       "      <td>0</td>\n",
       "      <td>0</td>\n",
       "      <td>0</td>\n",
       "      <td>0</td>\n",
       "      <td>0</td>\n",
       "      <td>...</td>\n",
       "      <td>363000</td>\n",
       "      <td>0</td>\n",
       "      <td>0</td>\n",
       "      <td>0</td>\n",
       "      <td>88416668900</td>\n",
       "      <td>3264</td>\n",
       "      <td>0</td>\n",
       "      <td>0</td>\n",
       "      <td>0</td>\n",
       "      <td>3</td>\n",
       "    </tr>\n",
       "  </tbody>\n",
       "</table>\n",
       "<p>1 rows × 65 columns</p>\n",
       "</div>"
      ],
      "text/plain": [
       "   Argentina  Armenia  Australia  Austria  Azerbaijan  Belgium  Brazil  \\\n",
       "0          1        0          0        0           0        0       0   \n",
       "\n",
       "   Bulgaria  Canada  Chile  ...  Population  \\\n",
       "0         0       0      0  ...      363000   \n",
       "\n",
       "   Internet_Usage_per_percent_Population  Total_Labour_force  \\\n",
       "0                                      0                   0   \n",
       "\n",
       "   Cellular_subscriptions_per_100_people     GDPpyear  GDPpcapital  \\\n",
       "0                                      0  88416668900         3264   \n",
       "\n",
       "   Expense_percent_of_GDP)  Physicians_per_1,000_people)  \\\n",
       "0                        0                             0   \n",
       "\n",
       "   Refugee_population_by_country_or_territory_of_origin  Suicidesper100k  \n",
       "0                                                  0                   3  \n",
       "\n",
       "[1 rows x 65 columns]"
      ]
     },
     "execution_count": 95,
     "metadata": {},
     "output_type": "execute_result"
    }
   ],
   "source": [
    "sucidedataframe.head(1)  # the fisrt elements of the data frame are outputted"
   ]
  },
  {
   "cell_type": "code",
   "execution_count": 96,
   "id": "ce7bf362",
   "metadata": {},
   "outputs": [
    {
     "data": {
      "text/html": [
       "<div>\n",
       "<style scoped>\n",
       "    .dataframe tbody tr th:only-of-type {\n",
       "        vertical-align: middle;\n",
       "    }\n",
       "\n",
       "    .dataframe tbody tr th {\n",
       "        vertical-align: top;\n",
       "    }\n",
       "\n",
       "    .dataframe thead th {\n",
       "        text-align: right;\n",
       "    }\n",
       "</style>\n",
       "<table border=\"1\" class=\"dataframe\">\n",
       "  <thead>\n",
       "    <tr style=\"text-align: right;\">\n",
       "      <th></th>\n",
       "      <th>Argentina</th>\n",
       "      <th>Armenia</th>\n",
       "      <th>Australia</th>\n",
       "      <th>Austria</th>\n",
       "      <th>Azerbaijan</th>\n",
       "      <th>Belgium</th>\n",
       "      <th>Brazil</th>\n",
       "      <th>Bulgaria</th>\n",
       "      <th>Canada</th>\n",
       "      <th>Chile</th>\n",
       "      <th>...</th>\n",
       "      <th>Turkmenistan</th>\n",
       "      <th>Ukraine</th>\n",
       "      <th>United Arab Emirates</th>\n",
       "      <th>United Kingdom</th>\n",
       "      <th>United States</th>\n",
       "      <th>Uzbekistan</th>\n",
       "      <th>Gender</th>\n",
       "      <th>5-14 years</th>\n",
       "      <th>15-24 years</th>\n",
       "      <th>75+ years</th>\n",
       "    </tr>\n",
       "  </thead>\n",
       "  <tbody>\n",
       "    <tr>\n",
       "      <th>0</th>\n",
       "      <td>1</td>\n",
       "      <td>0</td>\n",
       "      <td>0</td>\n",
       "      <td>0</td>\n",
       "      <td>0</td>\n",
       "      <td>0</td>\n",
       "      <td>0</td>\n",
       "      <td>0</td>\n",
       "      <td>0</td>\n",
       "      <td>0</td>\n",
       "      <td>...</td>\n",
       "      <td>0</td>\n",
       "      <td>0</td>\n",
       "      <td>0</td>\n",
       "      <td>0</td>\n",
       "      <td>0</td>\n",
       "      <td>0</td>\n",
       "      <td>1</td>\n",
       "      <td>0</td>\n",
       "      <td>0</td>\n",
       "      <td>1</td>\n",
       "    </tr>\n",
       "  </tbody>\n",
       "</table>\n",
       "<p>1 rows × 52 columns</p>\n",
       "</div>"
      ],
      "text/plain": [
       "   Argentina  Armenia  Australia  Austria  Azerbaijan  Belgium  Brazil  \\\n",
       "0          1        0          0        0           0        0       0   \n",
       "\n",
       "   Bulgaria  Canada  Chile  ...  Turkmenistan  Ukraine  United Arab Emirates  \\\n",
       "0         0       0      0  ...             0        0                     0   \n",
       "\n",
       "   United Kingdom  United States  Uzbekistan  Gender  5-14 years  15-24 years  \\\n",
       "0               0              0           0       1           0            0   \n",
       "\n",
       "   75+ years  \n",
       "0          1  \n",
       "\n",
       "[1 rows x 52 columns]"
      ]
     },
     "execution_count": 96,
     "metadata": {},
     "output_type": "execute_result"
    }
   ],
   "source": [
    "Features_after_corelation_matrix.head(1)  # the fisrt elements of the data frame are outputted"
   ]
  },
  {
   "cell_type": "code",
   "execution_count": 97,
   "id": "d65250f6",
   "metadata": {},
   "outputs": [],
   "source": [
    "X = sucidedataframe.iloc[:, :-1].values  # selecting the values for the X variable."
   ]
  },
  {
   "cell_type": "code",
   "execution_count": 98,
   "id": "7a038417",
   "metadata": {},
   "outputs": [],
   "source": [
    "X2 = sucidedataframe[[ \"Gender\", \"5-14 years\", \"15-24 years\", \"75+ years\"]].to_numpy()  # selecting the \n",
    "                                                                                        # values for the X2 variable."
   ]
  },
  {
   "cell_type": "code",
   "execution_count": 99,
   "id": "1e00b66b",
   "metadata": {},
   "outputs": [],
   "source": [
    "y = sucidedataframe.iloc[:, -1].values # selecting the values for the Y variable. # done using .to_numpy and not \n",
    "                                                       # .iloc as .to_numpy creates a horizontal bar while .iloc creates a \n",
    "                                                       # horizontal bar which will not alighn with the x values."
   ]
  },
  {
   "cell_type": "code",
   "execution_count": 100,
   "id": "b53db7ed",
   "metadata": {},
   "outputs": [
    {
     "name": "stdout",
     "output_type": "stream",
     "text": [
      "X  [[1 0 0 ... 0 0 0]\n",
      " [1 0 0 ... 0 0 0]\n",
      " [1 0 0 ... 0 0 0]\n",
      " ...\n",
      " [0 0 0 ... 0 0 0]\n",
      " [0 0 0 ... 0 0 0]\n",
      " [0 0 0 ... 0 0 0]] \n",
      " X2  [[1 0 0 1]\n",
      " [1 0 0 0]\n",
      " [1 0 0 0]\n",
      " ...\n",
      " [1 1 0 0]\n",
      " [0 1 0 0]\n",
      " [0 0 0 0]] \n",
      " y  [3 2 1 ... 0 0 0]\n"
     ]
    }
   ],
   "source": [
    "print(\"X \", X, \"\\n\", \"X2 \" , X2 , \"\\n\", \"y \", y)  # priting arrays"
   ]
  },
  {
   "cell_type": "markdown",
   "id": "0fb10ef0",
   "metadata": {},
   "source": [
    "## Over and under-sampling"
   ]
  },
  {
   "cell_type": "code",
   "execution_count": 101,
   "id": "2ef0de00",
   "metadata": {},
   "outputs": [
    {
     "name": "stdout",
     "output_type": "stream",
     "text": [
      "Original dataset shape Counter({0: 9264, 1: 2850, 2: 2177, 3: 678, 4: 141})\n"
     ]
    }
   ],
   "source": [
    "print('Original dataset shape %s' % Counter(y))  # original data set rows counted"
   ]
  },
  {
   "cell_type": "code",
   "execution_count": 102,
   "id": "afc88fec",
   "metadata": {},
   "outputs": [
    {
     "name": "stdout",
     "output_type": "stream",
     "text": [
      "Resampled dataset shape Counter({0: 141, 1: 141, 2: 141, 3: 141, 4: 141})\n"
     ]
    }
   ],
   "source": [
    "rus = RandomUnderSampler(random_state=42)  # instance of object created.\n",
    "X_under, y_under = rus.fit_resample(X, y)  # undersampling model fitting\n",
    "print('Resampled dataset shape %s' % Counter(y_under))   # undersampled data set rows counted"
   ]
  },
  {
   "cell_type": "code",
   "execution_count": 103,
   "id": "28d5fdd4",
   "metadata": {},
   "outputs": [
    {
     "name": "stdout",
     "output_type": "stream",
     "text": [
      "Resampled dataset shape Counter({3: 9264, 2: 9264, 1: 9264, 0: 9264, 4: 9264})\n"
     ]
    }
   ],
   "source": [
    "ros = RandomOverSampler(random_state=42)  # instance of object created.\n",
    "X_over, y_over = ros.fit_resample(X, y)  # oversampling model fitting\n",
    "print('Resampled dataset shape %s' % Counter(y_over))  # oversampled data set rows counted"
   ]
  },
  {
   "cell_type": "markdown",
   "id": "e7f842b6",
   "metadata": {},
   "source": [
    "## Spliting the datasets into a training and test set "
   ]
  },
  {
   "cell_type": "markdown",
   "id": "f6612065",
   "metadata": {},
   "source": [
    "## Original x and y values they will be feature scaled."
   ]
  },
  {
   "cell_type": "code",
   "execution_count": 104,
   "id": "a5234297",
   "metadata": {},
   "outputs": [],
   "source": [
    "X_train, X_test, y_train, y_test = train_test_split(X, y, test_size = 0.2, random_state = 1)\n",
    "# test_size = 0.2               # splitting the data into 80 and 20 percent between the training and test set           \n",
    "                                            # to get the best results.                                                           \n",
    "# random_state = 1         # resetting the  random seed"
   ]
  },
  {
   "cell_type": "code",
   "execution_count": 105,
   "id": "c860c09a",
   "metadata": {
    "scrolled": true
   },
   "outputs": [
    {
     "name": "stdout",
     "output_type": "stream",
     "text": [
      "The length of X_train is  12088  and the length of y_train is  12088\n",
      "The length of X_test is  3022  and the length of y_test is  3022\n"
     ]
    }
   ],
   "source": [
    "# print the lenghth of both test and train set to see if there equally split.\n",
    "print(\"The length of X_train is \",len(X_train), \" and the length of y_train is \", len(y_train))  \n",
    "print(\"The length of X_test is \",len(X_test), \" and the length of y_test is \", len(y_test))"
   ]
  },
  {
   "cell_type": "markdown",
   "id": "a365ddb2",
   "metadata": {},
   "source": [
    "## Original x and y values they will not be feature scaled."
   ]
  },
  {
   "cell_type": "code",
   "execution_count": 108,
   "id": "f71883a8",
   "metadata": {},
   "outputs": [],
   "source": [
    "UnScaled_X_train,UnScaled_X_test, UnScaled_y_train, UnScaled_y_test = train_test_split(X, y, test_size = 0.2, random_state = 1)\n",
    "# test_size = 0.2               # splitting the data into 80 and 20 percent between the training and test set           \n",
    "                                            # to get the best results.                                                           \n",
    "# random_state = 1         # resetting the  random seed"
   ]
  },
  {
   "cell_type": "code",
   "execution_count": 109,
   "id": "5d0b568a",
   "metadata": {},
   "outputs": [
    {
     "name": "stdout",
     "output_type": "stream",
     "text": [
      "The length of X_train is  12088  and the length of y_train is  12088\n",
      "The length of## Original x and y values they will be scaled. X_test is  3022  and the length of y_test is  3022\n"
     ]
    }
   ],
   "source": [
    "# print the lenghth of both test and train set to see if there equally split.\n",
    "print(\"The length of X_train is \",len(UnScaled_X_train), \" and the length of y_train is \", len(UnScaled_y_train))  \n",
    "print(\"The length of## Original x and y values they will be scaled. X_test is \",len(UnScaled_X_test), \" and the length of y_test is \", len(UnScaled_y_test))"
   ]
  },
  {
   "cell_type": "markdown",
   "id": "e9d5ff53",
   "metadata": {},
   "source": [
    "## Original x and y values after they have been under fitted."
   ]
  },
  {
   "cell_type": "code",
   "execution_count": 110,
   "id": "e436fbd3",
   "metadata": {},
   "outputs": [],
   "source": [
    "X_train_under, X_test_under, y_train_under, y_test_under = train_test_split(X_under, y_under, test_size = 0.2, random_state = 1)\n",
    "# test_size = 0.2               # splitting the data into 80 and 20 percent between the training and test set           \n",
    "                                            # to get the best results.                                                           \n",
    "# random_state = 1         # resetting the  random seed"
   ]
  },
  {
   "cell_type": "code",
   "execution_count": 111,
   "id": "0b40c659",
   "metadata": {
    "scrolled": true
   },
   "outputs": [
    {
     "name": "stdout",
     "output_type": "stream",
     "text": [
      "The length of X_train_under is  564  and the length of y_train_under is  564\n",
      "The length of X_test_under is  141  and the length of y_test_under is  141\n"
     ]
    }
   ],
   "source": [
    "# print the lenghth of both test and train set to see if there equally split.\n",
    "print(\"The length of X_train_under is \",len(X_train_under), \" and the length of y_train_under is \", len(y_train_under))  \n",
    "print(\"The length of X_test_under is \",len(X_test_under), \" and the length of y_test_under is \", len(y_test_under))"
   ]
  },
  {
   "cell_type": "markdown",
   "id": "9bcc2845",
   "metadata": {},
   "source": [
    "## Original x and y values after they have been over fitted."
   ]
  },
  {
   "cell_type": "code",
   "execution_count": 112,
   "id": "f69b555a",
   "metadata": {},
   "outputs": [],
   "source": [
    "X_train_over, X_test_over, y_train_over, y_test_over = train_test_split(X_over, y_over, test_size = 0.2, random_state = 1)\n",
    "# test_size = 0.2               # splitting the data into 80 and 20 percent between the training and test set           \n",
    "                                            # to get the best results.                                                           \n",
    "# random_state = 1         # resetting the  random seed"
   ]
  },
  {
   "cell_type": "code",
   "execution_count": 113,
   "id": "c1ebb79f",
   "metadata": {},
   "outputs": [
    {
     "name": "stdout",
     "output_type": "stream",
     "text": [
      "The length of X_train_over is  37056  and the length of y_train_over is  37056\n",
      "The length of X_test_over is  9264  and the length of y_test_over is  9264\n"
     ]
    }
   ],
   "source": [
    "# print the lenghth of both test and train set to see if there equally split.\n",
    "print(\"The length of X_train_over is \",len(X_train_over), \" and the length of y_train_over is \", len(y_train_over))  \n",
    "print(\"The length of X_test_over is \",len(X_test_over), \" and the length of y_test_over is \", len(y_test_over))"
   ]
  },
  {
   "cell_type": "markdown",
   "id": "0042a9eb",
   "metadata": {},
   "source": [
    "## x2 and y2  values after corelation matrix selection they will be scaled."
   ]
  },
  {
   "cell_type": "code",
   "execution_count": 106,
   "id": "b8769a38",
   "metadata": {},
   "outputs": [],
   "source": [
    "X2_train, X2_test, y2_train, y2_test = train_test_split(X2, y, test_size = 0.2, random_state = 1)\n",
    "# test_size = 0.2               # splitting the data into 80 and 20 percent between the training and test set           \n",
    "                                            # to get the best results.                                                           \n",
    "# random_state = 1         # resetting the  random seed"
   ]
  },
  {
   "cell_type": "code",
   "execution_count": 107,
   "id": "50526494",
   "metadata": {
    "scrolled": true
   },
   "outputs": [
    {
     "name": "stdout",
     "output_type": "stream",
     "text": [
      "The length of X2_train is  12088  and the length of y2_train is  12088\n",
      "The length of X2_test is  3022  and the length of y2_test is  3022\n"
     ]
    }
   ],
   "source": [
    "# print the lenghth of both test and train set to see if there equally split.\n",
    "print(\"The length of X2_train is \",len(X2_train), \" and the length of y2_train is \", len(y2_train))\n",
    "print(\"The length of X2_test is \",len(X2_test), \" and the length of y2_test is \", len(y2_test))"
   ]
  },
  {
   "cell_type": "markdown",
   "id": "0b60070c",
   "metadata": {},
   "source": [
    "# x2 and y2  values after corelation matrix selection they will not be scaled."
   ]
  },
  {
   "cell_type": "code",
   "execution_count": 128,
   "id": "2744abe5",
   "metadata": {},
   "outputs": [],
   "source": [
    "UnScaled_X2_train, UnScaled_X2_test, UnScaled_y2_train, UnScaled_y2_test = train_test_split(X2, y, test_size = 0.2, random_state = 1)\n",
    "# test_size = 0.2               # splitting the data into 80 and 20 percent between the training and test set           \n",
    "                                            # to get the best results.                                                           \n",
    "# random_state = 1         # resetting the  random seed"
   ]
  },
  {
   "cell_type": "code",
   "execution_count": 129,
   "id": "50526494",
   "metadata": {
    "scrolled": true
   },
   "outputs": [
    {
     "name": "stdout",
     "output_type": "stream",
     "text": [
      "The length of X2_train is  12088  and the length of y2_train is  12088\n",
      "The length of X2_test is  3022  and the length of y2_test is  3022\n"
     ]
    }
   ],
   "source": [
    "# print the lenghth of both test and train set to see if there equally split.\n",
    "print(\"The length of X2_train is \",len(X2_train), \" and the length of y2_train is \", len(y2_train))\n",
    "print(\"The length of X2_test is \",len(X2_test), \" and the length of y2_test is \", len(y2_test))"
   ]
  },
  {
   "cell_type": "code",
   "execution_count": 114,
   "id": "ce388b0b",
   "metadata": {},
   "outputs": [
    {
     "name": "stdout",
     "output_type": "stream",
     "text": [
      "<class 'pandas.core.frame.DataFrame'>\n",
      "RangeIndex: 15110 entries, 0 to 15109\n",
      "Data columns (total 65 columns):\n",
      " #   Column                                                Non-Null Count  Dtype\n",
      "---  ------                                                --------------  -----\n",
      " 0   Argentina                                             15110 non-null  int32\n",
      " 1   Armenia                                               15110 non-null  int32\n",
      " 2   Australia                                             15110 non-null  int32\n",
      " 3   Austria                                               15110 non-null  int32\n",
      " 4   Azerbaijan                                            15110 non-null  int32\n",
      " 5   Belgium                                               15110 non-null  int32\n",
      " 6   Brazil                                                15110 non-null  int32\n",
      " 7   Bulgaria                                              15110 non-null  int32\n",
      " 8   Canada                                                15110 non-null  int32\n",
      " 9   Chile                                                 15110 non-null  int32\n",
      " 10  Colombia                                              15110 non-null  int32\n",
      " 11  Croatia                                               15110 non-null  int32\n",
      " 12  Cuba                                                  15110 non-null  int32\n",
      " 13  Czech Republic                                        15110 non-null  int32\n",
      " 14  Denmark                                               15110 non-null  int32\n",
      " 15  Finland                                               15110 non-null  int32\n",
      " 16  France                                                15110 non-null  int32\n",
      " 17  Georgia                                               15110 non-null  int32\n",
      " 18  Germany                                               15110 non-null  int32\n",
      " 19  Greece                                                15110 non-null  int32\n",
      " 20  Hungary                                               15110 non-null  int32\n",
      " 21  Iceland                                               15110 non-null  int32\n",
      " 22  Ireland                                               15110 non-null  int32\n",
      " 23  Israel                                                15110 non-null  int32\n",
      " 24  Italy                                                 15110 non-null  int32\n",
      " 25  Jamaica                                               15110 non-null  int32\n",
      " 26  Japan                                                 15110 non-null  int32\n",
      " 27  Mexico                                                15110 non-null  int32\n",
      " 28  Mongolia                                              15110 non-null  int32\n",
      " 29  Netherlands                                           15110 non-null  int32\n",
      " 30  New Zealand                                           15110 non-null  int32\n",
      " 31  Norway                                                15110 non-null  int32\n",
      " 32  Poland                                                15110 non-null  int32\n",
      " 33  Portugal                                              15110 non-null  int32\n",
      " 34  Romania                                               15110 non-null  int32\n",
      " 35  Russian Federation                                    15110 non-null  int32\n",
      " 36  South Africa                                          15110 non-null  int32\n",
      " 37  Spain                                                 15110 non-null  int32\n",
      " 38  Sweden                                                15110 non-null  int32\n",
      " 39  Switzerland                                           15110 non-null  int32\n",
      " 40  Thailand                                              15110 non-null  int32\n",
      " 41  Turkey                                                15110 non-null  int32\n",
      " 42  Turkmenistan                                          15110 non-null  int32\n",
      " 43  Ukraine                                               15110 non-null  int32\n",
      " 44  United Arab Emirates                                  15110 non-null  int32\n",
      " 45  United Kingdom                                        15110 non-null  int32\n",
      " 46  United States                                         15110 non-null  int32\n",
      " 47  Uzbekistan                                            15110 non-null  int32\n",
      " 48  15-24 years                                           15110 non-null  int32\n",
      " 49  25-34 years                                           15110 non-null  int32\n",
      " 50  35-54 years                                           15110 non-null  int32\n",
      " 51  5-14 years                                            15110 non-null  int32\n",
      " 52  55-74 years                                           15110 non-null  int32\n",
      " 53  75+ years                                             15110 non-null  int32\n",
      " 54  Gender                                                15110 non-null  int32\n",
      " 55  Population                                            15110 non-null  int64\n",
      " 56  Internet_Usage_per_percent_Population                 15110 non-null  int64\n",
      " 57  Total_Labour_force                                    15110 non-null  int64\n",
      " 58  Cellular_subscriptions_per_100_people                 15110 non-null  int64\n",
      " 59  GDPpyear                                              15110 non-null  int64\n",
      " 60  GDPpcapital                                           15110 non-null  int64\n",
      " 61  Expense_percent_of_GDP)                               15110 non-null  int64\n",
      " 62  Physicians_per_1,000_people)                          15110 non-null  int64\n",
      " 63  Refugee_population_by_country_or_territory_of_origin  15110 non-null  int64\n",
      " 64  Suicidesper100k                                       15110 non-null  int64\n",
      "dtypes: int32(55), int64(10)\n",
      "memory usage: 4.3 MB\n"
     ]
    }
   ],
   "source": [
    "sucidedataframe.info()  # checking Basic information on the dataframe being procesed."
   ]
  },
  {
   "cell_type": "code",
   "execution_count": 115,
   "id": "08e87fc9",
   "metadata": {},
   "outputs": [
    {
     "name": "stdout",
     "output_type": "stream",
     "text": [
      "X_test  [[    0     0     0 ...    24     1    37]\n",
      " [    0     0     0 ...    38     2    57]\n",
      " [    0     0     0 ...    31     3    10]\n",
      " ...\n",
      " [    0     0     0 ...     0     0     0]\n",
      " [    0     0     0 ...     0     0     0]\n",
      " [    0     0     0 ...    19     5 18959]] \n",
      "y_test  [0 0 0 ... 1 0 4] \n",
      "X_train  [[    0     0     0 ...     0     0     0]\n",
      " [    0     0     0 ...    41     2 19732]\n",
      " [    0     0     0 ...    41     3  2749]\n",
      " ...\n",
      " [    0     0     0 ...    17     4    53]\n",
      " [    1     0     0 ...    16     3   796]\n",
      " [    0     0     0 ...     0     0     0]] \n",
      "y_train  [2 0 1 ... 0 0 2]\n"
     ]
    }
   ],
   "source": [
    "# print both test and train set to see them.\n",
    "print(\"X_test \", X_test, \"\\ny_test \", y_test, \"\\nX_train \", X_train, \"\\ny_train \", y_train)"
   ]
  },
  {
   "cell_type": "code",
   "execution_count": 116,
   "id": "84367258",
   "metadata": {},
   "outputs": [
    {
     "name": "stdout",
     "output_type": "stream",
     "text": [
      "X_test  [[    0     0     0 ...    24     1    37]\n",
      " [    0     0     0 ...    38     2    57]\n",
      " [    0     0     0 ...    31     3    10]\n",
      " ...\n",
      " [    0     0     0 ...     0     0     0]\n",
      " [    0     0     0 ...     0     0     0]\n",
      " [    0     0     0 ...    19     5 18959]] \n",
      "y_test  [0 0 0 ... 1 0 4] \n",
      "X_train  [[    0     0     0 ...     0     0     0]\n",
      " [    0     0     0 ...    41     2 19732]\n",
      " [    0     0     0 ...    41     3  2749]\n",
      " ...\n",
      " [    0     0     0 ...    17     4    53]\n",
      " [    1     0     0 ...    16     3   796]\n",
      " [    0     0     0 ...     0     0     0]] \n",
      "y_train  [2 0 1 ... 0 0 2]\n"
     ]
    }
   ],
   "source": [
    "# print both test and train set to see them.\n",
    "print(\"X_test \", X_test, \"\\ny_test \", y_test, \"\\nX_train \", X_train, \"\\ny_train \", y_train)"
   ]
  },
  {
   "cell_type": "code",
   "execution_count": 117,
   "id": "33c0ad75",
   "metadata": {},
   "outputs": [
    {
     "data": {
      "text/plain": [
       "1824900"
      ]
     },
     "execution_count": 117,
     "metadata": {},
     "output_type": "execute_result"
    }
   ],
   "source": [
    "UnScaled_X_train[0][55]  # checking the population index value."
   ]
  },
  {
   "cell_type": "code",
   "execution_count": 118,
   "id": "50fd2c9e",
   "metadata": {},
   "outputs": [
    {
     "data": {
      "text/plain": [
       "237231"
      ]
     },
     "execution_count": 118,
     "metadata": {},
     "output_type": "execute_result"
    }
   ],
   "source": [
    "UnScaled_X_test[0][55]  # checking the population index value."
   ]
  },
  {
   "cell_type": "markdown",
   "id": "83512843",
   "metadata": {},
   "source": [
    "## Feature Scaling "
   ]
  },
  {
   "cell_type": "code",
   "execution_count": 120,
   "id": "a723aa22",
   "metadata": {},
   "outputs": [
    {
     "name": "stdout",
     "output_type": "stream",
     "text": [
      "363000\n"
     ]
    }
   ],
   "source": [
    "print(X[0][55])  # checking the population index value."
   ]
  },
  {
   "cell_type": "code",
   "execution_count": 121,
   "id": "c3791c50",
   "metadata": {},
   "outputs": [
    {
     "data": {
      "text/plain": [
       "1824900"
      ]
     },
     "execution_count": 121,
     "metadata": {},
     "output_type": "execute_result"
    }
   ],
   "source": [
    "X_train[0][55]  # checking the population index value."
   ]
  },
  {
   "cell_type": "code",
   "execution_count": 122,
   "id": "7bbde5bc",
   "metadata": {},
   "outputs": [],
   "source": [
    "sc = StandardScaler()  # creating an instance of the object.\n",
    "\n",
    "X_train[:, 55:] = sc.fit_transform(X_train[:, 55:])  # Scaling x_train\n",
    "X_test[:,55:] = sc.transform(X_test[:, 55:])  # Scaling y_train"
   ]
  },
  {
   "cell_type": "code",
   "execution_count": 123,
   "id": "99495342",
   "metadata": {},
   "outputs": [
    {
     "name": "stdout",
     "output_type": "stream",
     "text": [
      "X_test  [[ 0  0  0 ...  0  0  0]\n",
      " [ 0  0  0 ...  1  0  0]\n",
      " [ 0  0  0 ...  0  1  0]\n",
      " ...\n",
      " [ 0  0  0 ... -1 -1  0]\n",
      " [ 0  0  0 ... -1 -1  0]\n",
      " [ 0  0  0 ...  0  2  0]] \n",
      "\n",
      "X_train  [[ 0  0  0 ... -1 -1  0]\n",
      " [ 0  0  0 ...  1  0  0]\n",
      " [ 0  0  0 ...  1  1  0]\n",
      " ...\n",
      " [ 0  0  0 ...  0  1  0]\n",
      " [ 1  0  0 ...  0  1  0]\n",
      " [ 0  0  0 ... -1 -1  0]]\n"
     ]
    }
   ],
   "source": [
    "print(\"X_test \", X_test,\"\\n\\nX_train \", X_train)  # printing the sets after feature scaling."
   ]
  },
  {
   "cell_type": "code",
   "execution_count": 124,
   "id": "ccf654b9",
   "metadata": {},
   "outputs": [
    {
     "data": {
      "text/plain": [
       "0"
      ]
     },
     "execution_count": 124,
     "metadata": {},
     "output_type": "execute_result"
    }
   ],
   "source": [
    "X_train[0][55]  # checking the population index value."
   ]
  },
  {
   "cell_type": "code",
   "execution_count": 125,
   "id": "1d531477",
   "metadata": {},
   "outputs": [
    {
     "data": {
      "text/plain": [
       "1824900"
      ]
     },
     "execution_count": 125,
     "metadata": {},
     "output_type": "execute_result"
    }
   ],
   "source": [
    "UnScaled_X_train[0][55]  # checking the population index value."
   ]
  },
  {
   "cell_type": "code",
   "execution_count": 126,
   "id": "caa6f5bd",
   "metadata": {},
   "outputs": [
    {
     "data": {
      "text/plain": [
       "0"
      ]
     },
     "execution_count": 126,
     "metadata": {},
     "output_type": "execute_result"
    }
   ],
   "source": [
    "X_test[0][55]  # checking the population index value."
   ]
  },
  {
   "cell_type": "code",
   "execution_count": 127,
   "id": "ceb13861",
   "metadata": {},
   "outputs": [
    {
     "data": {
      "text/plain": [
       "237231"
      ]
     },
     "execution_count": 127,
     "metadata": {},
     "output_type": "execute_result"
    }
   ],
   "source": [
    "UnScaled_X_test[0][55]  # checking the population index value."
   ]
  }
 ],
 "metadata": {
  "kernelspec": {
   "display_name": "Python 3",
   "language": "python",
   "name": "python3"
  },
  "language_info": {
   "codemirror_mode": {
    "name": "ipython",
    "version": 3
   },
   "file_extension": ".py",
   "mimetype": "text/x-python",
   "name": "python",
   "nbconvert_exporter": "python",
   "pygments_lexer": "ipython3",
   "version": "3.8.8"
  }
 },
 "nbformat": 4,
 "nbformat_minor": 5
}
