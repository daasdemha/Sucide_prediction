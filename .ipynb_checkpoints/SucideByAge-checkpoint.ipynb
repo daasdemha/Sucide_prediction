{
 "cells": [
  {
   "cell_type": "markdown",
   "id": "c2d2f12e",
   "metadata": {},
   "source": [
    "# Determining at which age a person is most likely to commit sucide."
   ]
  },
  {
   "cell_type": "markdown",
   "id": "e0ee02c0",
   "metadata": {},
   "source": [
    "### Importing the relevent libraries"
   ]
  },
  {
   "cell_type": "code",
   "execution_count": 2,
   "id": "7fc96920",
   "metadata": {},
   "outputs": [],
   "source": [
    "import numpy as np  # Allows us to work with arrays.\n",
    "import matplotlib.pyplot as plt  # Allows working with plots.\n",
    "import pandas as pd  # importing pandas’ library for use. Allows us to import data set and manipulate it.\n",
    "from sklearn.compose import ColumnTransformer  # helps with encoding.\n",
    "from sklearn.preprocessing import OneHotEncoder  # Does onehotencode.\n",
    "from sklearn.preprocessing import LabelEncoder   # Does 1 and 0 encoding.\n",
    "import seaborn as sns  # Allows to polt beautiful plots.\n",
    "import matplotlib.pyplot as plt # plotting.\n",
    "from sklearn.model_selection import train_test_split  # Splits dataset into test set and traning set. \n",
    "from sklearn.preprocessing import StandardScaler  # Perform the feature scaling.\n",
    "from sklearn.linear_model import LogisticRegression  # Performs logistic regression.\n",
    "from sklearn.metrics import confusion_matrix, ConfusionMatrixDisplay  # creates a confusion matrix\n",
    "from sklearn.metrics import accuracy_score  # Returns accury score of a model.\n",
    "from sklearn.neighbors import KNeighborsClassifier  # performs K Neariesst Neighobour.\n",
    "from sklearn.svm import SVC  # Performs svm\n",
    "from sklearn.naive_bayes import GaussianNB  # performs naive_bayes gaussianNB.\n",
    "from sklearn.tree import DecisionTreeClassifier  #Perfroms decision tree classification model.\n",
    "from sklearn.ensemble import RandomForestClassifier  #Performs random forest classification.\n",
    "from xgboost import XGBClassifier  # performs xgboost classification. gradiant decision trees.\n",
    "from sklearn.decomposition import PCA  # Performs model optimization\n",
    "from sklearn.decomposition import KernelPCA  # Performs model optimization\n",
    "from sklearn.discriminant_analysis import LinearDiscriminantAnalysis as LDA # performs model optimization\n",
    "from sklearn.model_selection import cross_val_score  # performs cross validation. Helps in model selection.\n",
    "from sklearn.model_selection import GridSearchCV  # helps select the best hyper parameters"
   ]
  },
  {
   "cell_type": "markdown",
   "id": "681f5cbc",
   "metadata": {},
   "source": [
    "### Importing the dataframe"
   ]
  },
  {
   "cell_type": "code",
   "execution_count": 3,
   "id": "82eef9c6",
   "metadata": {},
   "outputs": [],
   "source": [
    "sucidedataframe = pd.read_csv(\"who_suicide_statistics.csv\")  # opens csv files and assighns them to a variable."
   ]
  },
  {
   "cell_type": "markdown",
   "id": "1041df28",
   "metadata": {},
   "source": [
    "### Checking the data from the dataframe before pre-processing"
   ]
  },
  {
   "cell_type": "code",
   "execution_count": 4,
   "id": "11364a06",
   "metadata": {},
   "outputs": [
    {
     "data": {
      "text/html": [
       "<div>\n",
       "<style scoped>\n",
       "    .dataframe tbody tr th:only-of-type {\n",
       "        vertical-align: middle;\n",
       "    }\n",
       "\n",
       "    .dataframe tbody tr th {\n",
       "        vertical-align: top;\n",
       "    }\n",
       "\n",
       "    .dataframe thead th {\n",
       "        text-align: right;\n",
       "    }\n",
       "</style>\n",
       "<table border=\"1\" class=\"dataframe\">\n",
       "  <thead>\n",
       "    <tr style=\"text-align: right;\">\n",
       "      <th></th>\n",
       "      <th>country</th>\n",
       "      <th>year</th>\n",
       "      <th>sex</th>\n",
       "      <th>age</th>\n",
       "      <th>suicides_no</th>\n",
       "      <th>population</th>\n",
       "    </tr>\n",
       "  </thead>\n",
       "  <tbody>\n",
       "    <tr>\n",
       "      <th>0</th>\n",
       "      <td>Albania</td>\n",
       "      <td>1985</td>\n",
       "      <td>female</td>\n",
       "      <td>15-24 years</td>\n",
       "      <td>NaN</td>\n",
       "      <td>277900.0</td>\n",
       "    </tr>\n",
       "  </tbody>\n",
       "</table>\n",
       "</div>"
      ],
      "text/plain": [
       "   country  year     sex          age  suicides_no  population\n",
       "0  Albania  1985  female  15-24 years          NaN    277900.0"
      ]
     },
     "execution_count": 4,
     "metadata": {},
     "output_type": "execute_result"
    }
   ],
   "source": [
    "sucidedataframe.head(1)  # Taking a look at the dataframe the first elements of the dataset."
   ]
  },
  {
   "cell_type": "code",
   "execution_count": 5,
   "id": "02af4851",
   "metadata": {},
   "outputs": [
    {
     "name": "stdout",
     "output_type": "stream",
     "text": [
      "<class 'pandas.core.frame.DataFrame'>\n",
      "RangeIndex: 43776 entries, 0 to 43775\n",
      "Data columns (total 6 columns):\n",
      " #   Column       Non-Null Count  Dtype  \n",
      "---  ------       --------------  -----  \n",
      " 0   country      43776 non-null  object \n",
      " 1   year         43776 non-null  int64  \n",
      " 2   sex          43776 non-null  object \n",
      " 3   age          43776 non-null  object \n",
      " 4   suicides_no  41520 non-null  float64\n",
      " 5   population   38316 non-null  float64\n",
      "dtypes: float64(2), int64(1), object(3)\n",
      "memory usage: 2.0+ MB\n"
     ]
    }
   ],
   "source": [
    "sucidedataframe.info()  # checking Basic information on the dataframe being procesed."
   ]
  },
  {
   "cell_type": "markdown",
   "id": "7ca5f0a5",
   "metadata": {},
   "source": [
    "## 1. Data pre-processing"
   ]
  },
  {
   "cell_type": "code",
   "execution_count": 6,
   "id": "52fc4810",
   "metadata": {},
   "outputs": [
    {
     "data": {
      "text/plain": [
       "Index(['country', 'year', 'sex', 'age', 'suicides_no', 'population'], dtype='object')"
      ]
     },
     "execution_count": 6,
     "metadata": {},
     "output_type": "execute_result"
    }
   ],
   "source": [
    "sucidedataframe.columns  # The columns of the dataframe are viewed."
   ]
  },
  {
   "cell_type": "code",
   "execution_count": 7,
   "id": "ee6dbf16",
   "metadata": {},
   "outputs": [
    {
     "data": {
      "text/html": [
       "<div>\n",
       "<style scoped>\n",
       "    .dataframe tbody tr th:only-of-type {\n",
       "        vertical-align: middle;\n",
       "    }\n",
       "\n",
       "    .dataframe tbody tr th {\n",
       "        vertical-align: top;\n",
       "    }\n",
       "\n",
       "    .dataframe thead th {\n",
       "        text-align: right;\n",
       "    }\n",
       "</style>\n",
       "<table border=\"1\" class=\"dataframe\">\n",
       "  <thead>\n",
       "    <tr style=\"text-align: right;\">\n",
       "      <th></th>\n",
       "      <th>age</th>\n",
       "      <th>sex</th>\n",
       "      <th>population</th>\n",
       "      <th>suicides_no</th>\n",
       "      <th>suicides_no</th>\n",
       "    </tr>\n",
       "  </thead>\n",
       "  <tbody>\n",
       "    <tr>\n",
       "      <th>0</th>\n",
       "      <td>15-24 years</td>\n",
       "      <td>female</td>\n",
       "      <td>277900.0</td>\n",
       "      <td>NaN</td>\n",
       "      <td>NaN</td>\n",
       "    </tr>\n",
       "  </tbody>\n",
       "</table>\n",
       "</div>"
      ],
      "text/plain": [
       "           age     sex  population  suicides_no  suicides_no\n",
       "0  15-24 years  female    277900.0          NaN          NaN"
      ]
     },
     "execution_count": 7,
     "metadata": {},
     "output_type": "execute_result"
    }
   ],
   "source": [
    "# Below relevent data is selected that will be used in this project.\n",
    "sucidedataframe = sucidedataframe[[\"age\", \"sex\", \"population\", \"suicides_no\", \"suicides_no\"]]\n",
    "sucidedataframe.head(1)  # Taking a look at the dataframe to see if the needed changes have been made."
   ]
  },
  {
   "cell_type": "code",
   "execution_count": 8,
   "id": "4de1c37c",
   "metadata": {},
   "outputs": [
    {
     "data": {
      "text/html": [
       "<div>\n",
       "<style scoped>\n",
       "    .dataframe tbody tr th:only-of-type {\n",
       "        vertical-align: middle;\n",
       "    }\n",
       "\n",
       "    .dataframe tbody tr th {\n",
       "        vertical-align: top;\n",
       "    }\n",
       "\n",
       "    .dataframe thead th {\n",
       "        text-align: right;\n",
       "    }\n",
       "</style>\n",
       "<table border=\"1\" class=\"dataframe\">\n",
       "  <thead>\n",
       "    <tr style=\"text-align: right;\">\n",
       "      <th></th>\n",
       "      <th>Age</th>\n",
       "      <th>Gender</th>\n",
       "      <th>Population</th>\n",
       "      <th>Suicide_Committed_num</th>\n",
       "      <th>Suicide_Committed</th>\n",
       "    </tr>\n",
       "  </thead>\n",
       "  <tbody>\n",
       "    <tr>\n",
       "      <th>0</th>\n",
       "      <td>15-24 years</td>\n",
       "      <td>female</td>\n",
       "      <td>277900.0</td>\n",
       "      <td>NaN</td>\n",
       "      <td>NaN</td>\n",
       "    </tr>\n",
       "  </tbody>\n",
       "</table>\n",
       "</div>"
      ],
      "text/plain": [
       "           Age  Gender  Population  Suicide_Committed_num  Suicide_Committed\n",
       "0  15-24 years  female    277900.0                    NaN                NaN"
      ]
     },
     "execution_count": 8,
     "metadata": {},
     "output_type": "execute_result"
    }
   ],
   "source": [
    "# Below the col names are renamed.\n",
    "sucidedataframe = sucidedataframe.set_axis([\"Age\", \"Gender\", \"Population\", \"Suicide_Committed_num\", \"Suicide_Committed\"],axis=1)\n",
    "sucidedataframe.head(1)  # Taking a look at the dataframe to see if the needed changes have been made."
   ]
  },
  {
   "cell_type": "code",
   "execution_count": 9,
   "id": "d963403d",
   "metadata": {},
   "outputs": [
    {
     "data": {
      "text/plain": [
       "(43776, 5)"
      ]
     },
     "execution_count": 9,
     "metadata": {},
     "output_type": "execute_result"
    }
   ],
   "source": [
    "sucidedataframe.shape  # The Entries and the columns of the dataframe are viewed."
   ]
  },
  {
   "cell_type": "markdown",
   "id": "8dc9be58",
   "metadata": {},
   "source": [
    "### Dealing with null values"
   ]
  },
  {
   "cell_type": "code",
   "execution_count": 10,
   "id": "5326cf5a",
   "metadata": {},
   "outputs": [
    {
     "data": {
      "text/plain": [
       "Age                         0\n",
       "Gender                      0\n",
       "Population               5460\n",
       "Suicide_Committed_num    2256\n",
       "Suicide_Committed        2256\n",
       "dtype: int64"
      ]
     },
     "execution_count": 10,
     "metadata": {},
     "output_type": "execute_result"
    }
   ],
   "source": [
    "sucidedataframe.isnull().sum()  # Checking the dataframe for null values."
   ]
  },
  {
   "cell_type": "code",
   "execution_count": 11,
   "id": "94d2b0fd",
   "metadata": {},
   "outputs": [
    {
     "name": "stdout",
     "output_type": "stream",
     "text": [
      "The age range 5-14 years years years appears 7296 times.\n",
      "The age range 15-24 years appears 7296 times.\n",
      "The age range 25-34 years years appears 7296 times.\n",
      "The age range 35-54 years years appears 7296 times.\n",
      "The age range 55-74 years years years appears 7296 times.\n",
      "The age range 75+ years years years years appears 7296 times.\n"
     ]
    }
   ],
   "source": [
    "print('The age range 5-14 years years years appears ' + str(len(sucidedataframe[sucidedataframe['Age'] == '5-14 years'])) + ' times.')\n",
    "print('The age range 15-24 years appears ' + str(len(sucidedataframe[sucidedataframe['Age'] == '15-24 years'])) + ' times.')\n",
    "print('The age range 25-34 years years appears ' + str(len(sucidedataframe[sucidedataframe['Age'] == '25-34 years'])) + ' times.')\n",
    "print('The age range 35-54 years years appears ' + str(len(sucidedataframe[sucidedataframe['Age'] == '35-54 years'])) + ' times.')\n",
    "print('The age range 55-74 years years years appears ' + str(len(sucidedataframe[sucidedataframe['Age'] == '55-74 years'])) + ' times.')\n",
    "print('The age range 75+ years years years years appears ' + str(len(sucidedataframe[sucidedataframe['Age'] == '75+ years'])) + ' times.')"
   ]
  },
  {
   "cell_type": "code",
   "execution_count": 12,
   "id": "e3bfd1bc",
   "metadata": {},
   "outputs": [],
   "source": [
    "sucidedataframe = sucidedataframe.dropna() # droping all rows with at least one null values."
   ]
  },
  {
   "cell_type": "code",
   "execution_count": 13,
   "id": "0fa84860",
   "metadata": {},
   "outputs": [
    {
     "name": "stdout",
     "output_type": "stream",
     "text": [
      "The age range 5-14 years years years appears 6010 times.\n",
      "The age range 15-24 years appears 6010 times.\n",
      "The age range 25-34 years years appears 6010 times.\n",
      "The age range 35-54 years years appears 6010 times.\n",
      "The age range 55-74 years years years appears 6010 times.\n",
      "The age range 75+ years years years years appears 6010 times.\n"
     ]
    }
   ],
   "source": [
    "print('The age range 5-14 years years years appears ' + str(len(sucidedataframe[sucidedataframe['Age'] == '5-14 years'])) + ' times.')\n",
    "print('The age range 15-24 years appears ' + str(len(sucidedataframe[sucidedataframe['Age'] == '15-24 years'])) + ' times.')\n",
    "print('The age range 25-34 years years appears ' + str(len(sucidedataframe[sucidedataframe['Age'] == '25-34 years'])) + ' times.')\n",
    "print('The age range 35-54 years years appears ' + str(len(sucidedataframe[sucidedataframe['Age'] == '35-54 years'])) + ' times.')\n",
    "print('The age range 55-74 years years years appears ' + str(len(sucidedataframe[sucidedataframe['Age'] == '55-74 years'])) + ' times.')\n",
    "print('The age range 75+ years years years years appears ' + str(len(sucidedataframe[sucidedataframe['Age'] == '75+ years'])) + ' times.')"
   ]
  },
  {
   "cell_type": "code",
   "execution_count": 14,
   "id": "bd0379db",
   "metadata": {},
   "outputs": [
    {
     "data": {
      "text/plain": [
       "(36060, 5)"
      ]
     },
     "execution_count": 14,
     "metadata": {},
     "output_type": "execute_result"
    }
   ],
   "source": [
    "sucidedataframe.shape  # The Entries and the columns of the dataframe are viewed."
   ]
  },
  {
   "cell_type": "code",
   "execution_count": 15,
   "id": "d6dbabc8",
   "metadata": {},
   "outputs": [
    {
     "data": {
      "text/html": [
       "<div>\n",
       "<style scoped>\n",
       "    .dataframe tbody tr th:only-of-type {\n",
       "        vertical-align: middle;\n",
       "    }\n",
       "\n",
       "    .dataframe tbody tr th {\n",
       "        vertical-align: top;\n",
       "    }\n",
       "\n",
       "    .dataframe thead th {\n",
       "        text-align: right;\n",
       "    }\n",
       "</style>\n",
       "<table border=\"1\" class=\"dataframe\">\n",
       "  <thead>\n",
       "    <tr style=\"text-align: right;\">\n",
       "      <th></th>\n",
       "      <th>Population</th>\n",
       "      <th>Suicide_Committed_num</th>\n",
       "      <th>Suicide_Committed</th>\n",
       "    </tr>\n",
       "  </thead>\n",
       "  <tbody>\n",
       "    <tr>\n",
       "      <th>count</th>\n",
       "      <td>36060.0</td>\n",
       "      <td>36060.0</td>\n",
       "      <td>36060.0</td>\n",
       "    </tr>\n",
       "    <tr>\n",
       "      <th>mean</th>\n",
       "      <td>1699996.0</td>\n",
       "      <td>222.0</td>\n",
       "      <td>222.0</td>\n",
       "    </tr>\n",
       "    <tr>\n",
       "      <th>std</th>\n",
       "      <td>3697811.0</td>\n",
       "      <td>855.0</td>\n",
       "      <td>855.0</td>\n",
       "    </tr>\n",
       "    <tr>\n",
       "      <th>min</th>\n",
       "      <td>259.0</td>\n",
       "      <td>0.0</td>\n",
       "      <td>0.0</td>\n",
       "    </tr>\n",
       "    <tr>\n",
       "      <th>25%</th>\n",
       "      <td>80566.0</td>\n",
       "      <td>2.0</td>\n",
       "      <td>2.0</td>\n",
       "    </tr>\n",
       "    <tr>\n",
       "      <th>50%</th>\n",
       "      <td>375765.0</td>\n",
       "      <td>21.0</td>\n",
       "      <td>21.0</td>\n",
       "    </tr>\n",
       "    <tr>\n",
       "      <th>75%</th>\n",
       "      <td>1344900.0</td>\n",
       "      <td>116.0</td>\n",
       "      <td>116.0</td>\n",
       "    </tr>\n",
       "    <tr>\n",
       "      <th>max</th>\n",
       "      <td>43805214.0</td>\n",
       "      <td>22338.0</td>\n",
       "      <td>22338.0</td>\n",
       "    </tr>\n",
       "  </tbody>\n",
       "</table>\n",
       "</div>"
      ],
      "text/plain": [
       "       Population  Suicide_Committed_num  Suicide_Committed\n",
       "count     36060.0                36060.0            36060.0\n",
       "mean    1699996.0                  222.0              222.0\n",
       "std     3697811.0                  855.0              855.0\n",
       "min         259.0                    0.0                0.0\n",
       "25%       80566.0                    2.0                2.0\n",
       "50%      375765.0                   21.0               21.0\n",
       "75%     1344900.0                  116.0              116.0\n",
       "max    43805214.0                22338.0            22338.0"
      ]
     },
     "execution_count": 15,
     "metadata": {},
     "output_type": "execute_result"
    }
   ],
   "source": [
    "sucidedataframe.describe().round()  # Shows the count, mean, std, min, 25%, 50%, 75% and \n",
    "                                    # max of a datframe. Could be useful for feature scaling afterwords."
   ]
  },
  {
   "cell_type": "code",
   "execution_count": 16,
   "id": "1b7daa9e",
   "metadata": {},
   "outputs": [
    {
     "name": "stdout",
     "output_type": "stream",
     "text": [
      "<class 'pandas.core.frame.DataFrame'>\n",
      "Int64Index: 36060 entries, 24 to 43763\n",
      "Data columns (total 5 columns):\n",
      " #   Column                 Non-Null Count  Dtype  \n",
      "---  ------                 --------------  -----  \n",
      " 0   Age                    36060 non-null  object \n",
      " 1   Gender                 36060 non-null  object \n",
      " 2   Population             36060 non-null  float64\n",
      " 3   Suicide_Committed_num  36060 non-null  float64\n",
      " 4   Suicide_Committed      36060 non-null  float64\n",
      "dtypes: float64(3), object(2)\n",
      "memory usage: 1.7+ MB\n"
     ]
    }
   ],
   "source": [
    "sucidedataframe.info()  # checking Basic information on the dataframe being procesed."
   ]
  },
  {
   "cell_type": "code",
   "execution_count": 17,
   "id": "839ede3a",
   "metadata": {
    "scrolled": true
   },
   "outputs": [
    {
     "data": {
      "text/plain": [
       "Age                      0\n",
       "Gender                   0\n",
       "Population               0\n",
       "Suicide_Committed_num    0\n",
       "Suicide_Committed        0\n",
       "dtype: int64"
      ]
     },
     "execution_count": 17,
     "metadata": {},
     "output_type": "execute_result"
    }
   ],
   "source": [
    "sucidedataframe.isnull().sum()  # Checking the dataframe for null values."
   ]
  },
  {
   "cell_type": "code",
   "execution_count": 18,
   "id": "947bfe1a",
   "metadata": {},
   "outputs": [
    {
     "name": "stdout",
     "output_type": "stream",
     "text": [
      "Suicide_Committed\n",
      "0.0        5936\n",
      "1.0        2146\n",
      "2.0        1489\n",
      "3.0        1129\n",
      "4.0         907\n",
      "           ... \n",
      "20705.0       1\n",
      "21063.0       1\n",
      "21262.0       1\n",
      "21706.0       1\n",
      "22338.0       1\n",
      "Length: 2231, dtype: int64\n"
     ]
    }
   ],
   "source": [
    "print(sucidedataframe.pivot_table(columns=['Suicide_Committed'], aggfunc='size'))  # counts duplicates in the selected dataframe column."
   ]
  },
  {
   "cell_type": "markdown",
   "id": "d155dc03",
   "metadata": {},
   "source": [
    "### initial plot to visulize the data before working on it."
   ]
  },
  {
   "cell_type": "code",
   "execution_count": 19,
   "id": "606e27da",
   "metadata": {},
   "outputs": [
    {
     "data": {
      "image/png": "[encoded data removed]",
      "text/plain": [
       "<Figure size 1080x720 with 6 Axes>"
      ]
     },
     "metadata": {},
     "output_type": "display_data"
    }
   ],
   "source": [
    "plt.rcParams['figure.figsize'] = (13, 7)\n",
    "plt.style.use('seaborn-white')\n",
    "sns.catplot(x='Gender', y=\"Suicide_Committed_num\", col=\"Age\", col_wrap=3, sharey=True, data=sucidedataframe, alpha=0.5, palette = 'hot')\n",
    "plt.xticks(rotation = 90)\n",
    "plt.show()"
   ]
  },
  {
   "cell_type": "code",
   "execution_count": 20,
   "id": "040f3d0c",
   "metadata": {},
   "outputs": [
    {
     "data": {
      "image/png": "[encoded data removed]",
      "text/plain": [
       "<Figure size 936x720 with 1 Axes>"
      ]
     },
     "metadata": {},
     "output_type": "display_data"
    }
   ],
   "source": [
    "plt.style.use('seaborn')\n",
    "plt.figure(figsize= (13,10))\n",
    "sns.scatterplot(x= 'Suicide_Committed_num', y= 'Population', data = sucidedataframe, hue = 'Gender')\n",
    "plt.show()"
   ]
  },
  {
   "cell_type": "code",
   "execution_count": 21,
   "id": "3ac6da53",
   "metadata": {},
   "outputs": [
    {
     "data": {
      "image/png": "[encoded data removed]",
      "text/plain": [
       "<Figure size 1296x432 with 12 Axes>"
      ]
     },
     "metadata": {},
     "output_type": "display_data"
    }
   ],
   "source": [
    "My_plot_object = sns.FacetGrid(sucidedataframe , row = 'Gender',col = 'Age',margin_titles=True)\n",
    "My_plot_object.map(plt.scatter,\"Suicide_Committed_num\",'Population',edgecolor = 'w')\n",
    "plt.show()"
   ]
  },
  {
   "cell_type": "markdown",
   "id": "d414a023",
   "metadata": {},
   "source": [
    "### Encoding variables to  0 and 1"
   ]
  },
  {
   "cell_type": "code",
   "execution_count": 22,
   "id": "2fd7c20a",
   "metadata": {},
   "outputs": [],
   "source": [
    "le = LabelEncoder()\n",
    "sucidedataframe.Gender = le.fit_transform(sucidedataframe.Gender)"
   ]
  },
  {
   "cell_type": "code",
   "execution_count": 23,
   "id": "c6d9fae7",
   "metadata": {},
   "outputs": [
    {
     "data": {
      "text/html": [
       "<div>\n",
       "<style scoped>\n",
       "    .dataframe tbody tr th:only-of-type {\n",
       "        vertical-align: middle;\n",
       "    }\n",
       "\n",
       "    .dataframe tbody tr th {\n",
       "        vertical-align: top;\n",
       "    }\n",
       "\n",
       "    .dataframe thead th {\n",
       "        text-align: right;\n",
       "    }\n",
       "</style>\n",
       "<table border=\"1\" class=\"dataframe\">\n",
       "  <thead>\n",
       "    <tr style=\"text-align: right;\">\n",
       "      <th></th>\n",
       "      <th>Age</th>\n",
       "      <th>Gender</th>\n",
       "      <th>Population</th>\n",
       "      <th>Suicide_Committed_num</th>\n",
       "      <th>Suicide_Committed</th>\n",
       "    </tr>\n",
       "  </thead>\n",
       "  <tbody>\n",
       "    <tr>\n",
       "      <th>24</th>\n",
       "      <td>15-24 years</td>\n",
       "      <td>0</td>\n",
       "      <td>289700.0</td>\n",
       "      <td>14.0</td>\n",
       "      <td>14.0</td>\n",
       "    </tr>\n",
       "    <tr>\n",
       "      <th>25</th>\n",
       "      <td>25-34 years</td>\n",
       "      <td>0</td>\n",
       "      <td>257200.0</td>\n",
       "      <td>4.0</td>\n",
       "      <td>4.0</td>\n",
       "    </tr>\n",
       "    <tr>\n",
       "      <th>26</th>\n",
       "      <td>35-54 years</td>\n",
       "      <td>0</td>\n",
       "      <td>278800.0</td>\n",
       "      <td>6.0</td>\n",
       "      <td>6.0</td>\n",
       "    </tr>\n",
       "    <tr>\n",
       "      <th>27</th>\n",
       "      <td>5-14 years</td>\n",
       "      <td>0</td>\n",
       "      <td>311000.0</td>\n",
       "      <td>0.0</td>\n",
       "      <td>0.0</td>\n",
       "    </tr>\n",
       "    <tr>\n",
       "      <th>28</th>\n",
       "      <td>55-74 years</td>\n",
       "      <td>0</td>\n",
       "      <td>144600.0</td>\n",
       "      <td>0.0</td>\n",
       "      <td>0.0</td>\n",
       "    </tr>\n",
       "  </tbody>\n",
       "</table>\n",
       "</div>"
      ],
      "text/plain": [
       "            Age  Gender  Population  Suicide_Committed_num  Suicide_Committed\n",
       "24  15-24 years       0    289700.0                   14.0               14.0\n",
       "25  25-34 years       0    257200.0                    4.0                4.0\n",
       "26  35-54 years       0    278800.0                    6.0                6.0\n",
       "27   5-14 years       0    311000.0                    0.0                0.0\n",
       "28  55-74 years       0    144600.0                    0.0                0.0"
      ]
     },
     "execution_count": 23,
     "metadata": {},
     "output_type": "execute_result"
    }
   ],
   "source": [
    "sucidedataframe.head()"
   ]
  },
  {
   "cell_type": "code",
   "execution_count": 24,
   "id": "83f63027",
   "metadata": {},
   "outputs": [
    {
     "name": "stdout",
     "output_type": "stream",
     "text": [
      "Suicide_Committed\n",
      "0.0        5936\n",
      "1.0        2146\n",
      "2.0        1489\n",
      "3.0        1129\n",
      "4.0         907\n",
      "           ... \n",
      "20705.0       1\n",
      "21063.0       1\n",
      "21262.0       1\n",
      "21706.0       1\n",
      "22338.0       1\n",
      "Length: 2231, dtype: int64\n"
     ]
    }
   ],
   "source": [
    "print(sucidedataframe.pivot_table(columns=['Suicide_Committed'], aggfunc='size'))  # counts duplicates in the selected dataframe column."
   ]
  },
  {
   "cell_type": "code",
   "execution_count": 25,
   "id": "96b7458f",
   "metadata": {},
   "outputs": [],
   "source": [
    "sucidedataframe.loc[sucidedataframe.Suicide_Committed > 0, \"Suicide_Committed\"] = 1  # Encoding everthig above 0 to 1."
   ]
  },
  {
   "cell_type": "code",
   "execution_count": 26,
   "id": "dad47788",
   "metadata": {},
   "outputs": [
    {
     "name": "stdout",
     "output_type": "stream",
     "text": [
      "Suicide_Committed\n",
      "0.0     5936\n",
      "1.0    30124\n",
      "dtype: int64\n"
     ]
    }
   ],
   "source": [
    "print(sucidedataframe.pivot_table(columns=['Suicide_Committed'], aggfunc='size'))  # counts duplicates in the selected dataframe column."
   ]
  },
  {
   "cell_type": "code",
   "execution_count": 27,
   "id": "004118be",
   "metadata": {},
   "outputs": [],
   "source": [
    "sucidedataframe['Suicide_Committed'] = sucidedataframe['Suicide_Committed'].astype(np.int64)  # converting float to int."
   ]
  },
  {
   "cell_type": "code",
   "execution_count": 28,
   "id": "2e65947d",
   "metadata": {},
   "outputs": [
    {
     "name": "stdout",
     "output_type": "stream",
     "text": [
      "Suicide_Committed\n",
      "0     5936\n",
      "1    30124\n",
      "dtype: int64\n"
     ]
    }
   ],
   "source": [
    "print(sucidedataframe.pivot_table(columns=['Suicide_Committed'], aggfunc='size'))  # counts duplicates in the selected dataframe column."
   ]
  },
  {
   "cell_type": "markdown",
   "id": "d4a78be8",
   "metadata": {},
   "source": [
    "### selecting X and Y values "
   ]
  },
  {
   "cell_type": "code",
   "execution_count": 29,
   "id": "65a58cda",
   "metadata": {},
   "outputs": [],
   "source": [
    "X = sucidedataframe.iloc[:, 0:3].values  # selecting the values for the X variable."
   ]
  },
  {
   "cell_type": "code",
   "execution_count": 30,
   "id": "f02a53d4",
   "metadata": {},
   "outputs": [],
   "source": [
    "Y = sucidedataframe[[\"Suicide_Committed\"]].to_numpy()  # selecting the values for the Y variable. # done using .to_numpy and not \n",
    "                                                       # .iloc as .to_numpy creates a horizontal bar while .iloc creates a \n",
    "                                                       # horizontal bar which will not alighn with the x values."
   ]
  },
  {
   "cell_type": "code",
   "execution_count": 31,
   "id": "c3ddc8c4",
   "metadata": {},
   "outputs": [
    {
     "data": {
      "text/html": [
       "<div>\n",
       "<style scoped>\n",
       "    .dataframe tbody tr th:only-of-type {\n",
       "        vertical-align: middle;\n",
       "    }\n",
       "\n",
       "    .dataframe tbody tr th {\n",
       "        vertical-align: top;\n",
       "    }\n",
       "\n",
       "    .dataframe thead th {\n",
       "        text-align: right;\n",
       "    }\n",
       "</style>\n",
       "<table border=\"1\" class=\"dataframe\">\n",
       "  <thead>\n",
       "    <tr style=\"text-align: right;\">\n",
       "      <th></th>\n",
       "      <th>Age</th>\n",
       "      <th>Gender</th>\n",
       "      <th>Population</th>\n",
       "      <th>Suicide_Committed_num</th>\n",
       "      <th>Suicide_Committed</th>\n",
       "    </tr>\n",
       "  </thead>\n",
       "  <tbody>\n",
       "    <tr>\n",
       "      <th>24</th>\n",
       "      <td>15-24 years</td>\n",
       "      <td>0</td>\n",
       "      <td>289700.0</td>\n",
       "      <td>14.0</td>\n",
       "      <td>1</td>\n",
       "    </tr>\n",
       "    <tr>\n",
       "      <th>25</th>\n",
       "      <td>25-34 years</td>\n",
       "      <td>0</td>\n",
       "      <td>257200.0</td>\n",
       "      <td>4.0</td>\n",
       "      <td>1</td>\n",
       "    </tr>\n",
       "    <tr>\n",
       "      <th>26</th>\n",
       "      <td>35-54 years</td>\n",
       "      <td>0</td>\n",
       "      <td>278800.0</td>\n",
       "      <td>6.0</td>\n",
       "      <td>1</td>\n",
       "    </tr>\n",
       "  </tbody>\n",
       "</table>\n",
       "</div>"
      ],
      "text/plain": [
       "            Age  Gender  Population  Suicide_Committed_num  Suicide_Committed\n",
       "24  15-24 years       0    289700.0                   14.0                  1\n",
       "25  25-34 years       0    257200.0                    4.0                  1\n",
       "26  35-54 years       0    278800.0                    6.0                  1"
      ]
     },
     "execution_count": 31,
     "metadata": {},
     "output_type": "execute_result"
    }
   ],
   "source": [
    "sucidedataframe.head(3)"
   ]
  },
  {
   "cell_type": "code",
   "execution_count": 32,
   "id": "2bb03526",
   "metadata": {},
   "outputs": [
    {
     "data": {
      "text/html": [
       "<div>\n",
       "<style scoped>\n",
       "    .dataframe tbody tr th:only-of-type {\n",
       "        vertical-align: middle;\n",
       "    }\n",
       "\n",
       "    .dataframe tbody tr th {\n",
       "        vertical-align: top;\n",
       "    }\n",
       "\n",
       "    .dataframe thead th {\n",
       "        text-align: right;\n",
       "    }\n",
       "</style>\n",
       "<table border=\"1\" class=\"dataframe\">\n",
       "  <thead>\n",
       "    <tr style=\"text-align: right;\">\n",
       "      <th></th>\n",
       "      <th>Age</th>\n",
       "      <th>Gender</th>\n",
       "      <th>Population</th>\n",
       "      <th>Suicide_Committed_num</th>\n",
       "      <th>Suicide_Committed</th>\n",
       "    </tr>\n",
       "  </thead>\n",
       "  <tbody>\n",
       "    <tr>\n",
       "      <th>24</th>\n",
       "      <td>15-24 years</td>\n",
       "      <td>0</td>\n",
       "      <td>289700.0</td>\n",
       "      <td>14.0</td>\n",
       "      <td>1</td>\n",
       "    </tr>\n",
       "    <tr>\n",
       "      <th>25</th>\n",
       "      <td>25-34 years</td>\n",
       "      <td>0</td>\n",
       "      <td>257200.0</td>\n",
       "      <td>4.0</td>\n",
       "      <td>1</td>\n",
       "    </tr>\n",
       "    <tr>\n",
       "      <th>26</th>\n",
       "      <td>35-54 years</td>\n",
       "      <td>0</td>\n",
       "      <td>278800.0</td>\n",
       "      <td>6.0</td>\n",
       "      <td>1</td>\n",
       "    </tr>\n",
       "    <tr>\n",
       "      <th>27</th>\n",
       "      <td>5-14 years</td>\n",
       "      <td>0</td>\n",
       "      <td>311000.0</td>\n",
       "      <td>0.0</td>\n",
       "      <td>0</td>\n",
       "    </tr>\n",
       "    <tr>\n",
       "      <th>28</th>\n",
       "      <td>55-74 years</td>\n",
       "      <td>0</td>\n",
       "      <td>144600.0</td>\n",
       "      <td>0.0</td>\n",
       "      <td>0</td>\n",
       "    </tr>\n",
       "  </tbody>\n",
       "</table>\n",
       "</div>"
      ],
      "text/plain": [
       "            Age  Gender  Population  Suicide_Committed_num  Suicide_Committed\n",
       "24  15-24 years       0    289700.0                   14.0                  1\n",
       "25  25-34 years       0    257200.0                    4.0                  1\n",
       "26  35-54 years       0    278800.0                    6.0                  1\n",
       "27   5-14 years       0    311000.0                    0.0                  0\n",
       "28  55-74 years       0    144600.0                    0.0                  0"
      ]
     },
     "execution_count": 32,
     "metadata": {},
     "output_type": "execute_result"
    }
   ],
   "source": [
    "sucidedataframe.head()  # Taking a look at the dataframe the first elements of the dataset."
   ]
  },
  {
   "cell_type": "code",
   "execution_count": 33,
   "id": "adec7a91",
   "metadata": {},
   "outputs": [
    {
     "data": {
      "text/html": [
       "<div>\n",
       "<style scoped>\n",
       "    .dataframe tbody tr th:only-of-type {\n",
       "        vertical-align: middle;\n",
       "    }\n",
       "\n",
       "    .dataframe tbody tr th {\n",
       "        vertical-align: top;\n",
       "    }\n",
       "\n",
       "    .dataframe thead th {\n",
       "        text-align: right;\n",
       "    }\n",
       "</style>\n",
       "<table border=\"1\" class=\"dataframe\">\n",
       "  <thead>\n",
       "    <tr style=\"text-align: right;\">\n",
       "      <th></th>\n",
       "      <th>Age</th>\n",
       "      <th>Gender</th>\n",
       "      <th>Population</th>\n",
       "      <th>Suicide_Committed_num</th>\n",
       "      <th>Suicide_Committed</th>\n",
       "    </tr>\n",
       "  </thead>\n",
       "  <tbody>\n",
       "    <tr>\n",
       "      <th>24</th>\n",
       "      <td>15-24 years</td>\n",
       "      <td>0</td>\n",
       "      <td>289700.0</td>\n",
       "      <td>14.0</td>\n",
       "      <td>1</td>\n",
       "    </tr>\n",
       "    <tr>\n",
       "      <th>25</th>\n",
       "      <td>25-34 years</td>\n",
       "      <td>0</td>\n",
       "      <td>257200.0</td>\n",
       "      <td>4.0</td>\n",
       "      <td>1</td>\n",
       "    </tr>\n",
       "    <tr>\n",
       "      <th>26</th>\n",
       "      <td>35-54 years</td>\n",
       "      <td>0</td>\n",
       "      <td>278800.0</td>\n",
       "      <td>6.0</td>\n",
       "      <td>1</td>\n",
       "    </tr>\n",
       "    <tr>\n",
       "      <th>27</th>\n",
       "      <td>5-14 years</td>\n",
       "      <td>0</td>\n",
       "      <td>311000.0</td>\n",
       "      <td>0.0</td>\n",
       "      <td>0</td>\n",
       "    </tr>\n",
       "    <tr>\n",
       "      <th>28</th>\n",
       "      <td>55-74 years</td>\n",
       "      <td>0</td>\n",
       "      <td>144600.0</td>\n",
       "      <td>0.0</td>\n",
       "      <td>0</td>\n",
       "    </tr>\n",
       "  </tbody>\n",
       "</table>\n",
       "</div>"
      ],
      "text/plain": [
       "            Age  Gender  Population  Suicide_Committed_num  Suicide_Committed\n",
       "24  15-24 years       0    289700.0                   14.0                  1\n",
       "25  25-34 years       0    257200.0                    4.0                  1\n",
       "26  35-54 years       0    278800.0                    6.0                  1\n",
       "27   5-14 years       0    311000.0                    0.0                  0\n",
       "28  55-74 years       0    144600.0                    0.0                  0"
      ]
     },
     "execution_count": 33,
     "metadata": {},
     "output_type": "execute_result"
    }
   ],
   "source": [
    "sucidedataframe.head()  # Taking a look at the dataframe the first elements of the dataset."
   ]
  },
  {
   "cell_type": "code",
   "execution_count": 34,
   "id": "16660812",
   "metadata": {},
   "outputs": [
    {
     "name": "stdout",
     "output_type": "stream",
     "text": [
      "[['15-24 years' 0 289700.0]\n",
      " ['25-34 years' 0 257200.0]\n",
      " ['35-54 years' 0 278800.0]\n",
      " ...\n",
      " ['5-14 years' 1 7291.0]\n",
      " ['55-74 years' 1 12615.0]\n",
      " ['75+ years' 1 2496.0]]\n"
     ]
    }
   ],
   "source": [
    "print(X)  # Printing numpy array X."
   ]
  },
  {
   "cell_type": "code",
   "execution_count": 35,
   "id": "8f8220a4",
   "metadata": {},
   "outputs": [
    {
     "name": "stdout",
     "output_type": "stream",
     "text": [
      "[[1]\n",
      " [1]\n",
      " [1]\n",
      " ...\n",
      " [0]\n",
      " [0]\n",
      " [0]]\n"
     ]
    }
   ],
   "source": [
    "print(Y)  # Printing numpy array Y."
   ]
  },
  {
   "cell_type": "markdown",
   "id": "7867cbee",
   "metadata": {},
   "source": [
    "### One Hot Encoding"
   ]
  },
  {
   "cell_type": "code",
   "execution_count": 36,
   "id": "e5cbdbdb",
   "metadata": {},
   "outputs": [
    {
     "data": {
      "text/plain": [
       "Age\n",
       "15-24 years    6010\n",
       "25-34 years    6010\n",
       "35-54 years    6010\n",
       "5-14 years     6010\n",
       "55-74 years    6010\n",
       "75+ years      6010\n",
       "dtype: int64"
      ]
     },
     "execution_count": 36,
     "metadata": {},
     "output_type": "execute_result"
    }
   ],
   "source": [
    "# count duplicates function learned from: https://datatofish.com/count-duplicates-pandas/\n",
    "sucidedataframe.pivot_table(columns=['Age'], aggfunc='size')  # counts duplicates in the selected dataframe column."
   ]
  },
  {
   "cell_type": "code",
   "execution_count": 37,
   "id": "ebed7843",
   "metadata": {},
   "outputs": [],
   "source": [
    "ct = ColumnTransformer(transformers=[('encoder', OneHotEncoder(), [0])], remainder='passthrough')    \n",
    "# transformers= [('what to do', method , [index of column to apply method on])]\n",
    "# remainder='what to do with the remaining columns'\n",
    "\n",
    "X = np.array(ct.fit_transform(X))  # applies the above method on the given array."
   ]
  },
  {
   "cell_type": "code",
   "execution_count": 38,
   "id": "3553ccc4",
   "metadata": {},
   "outputs": [
    {
     "name": "stdout",
     "output_type": "stream",
     "text": [
      "[[1.0 0.0 0.0 ... 0.0 0 289700.0]\n",
      " [0.0 1.0 0.0 ... 0.0 0 257200.0]\n",
      " [0.0 0.0 1.0 ... 0.0 0 278800.0]\n",
      " ...\n",
      " [0.0 0.0 0.0 ... 0.0 1 7291.0]\n",
      " [0.0 0.0 0.0 ... 0.0 1 12615.0]\n",
      " [0.0 0.0 0.0 ... 1.0 1 2496.0]]\n"
     ]
    }
   ],
   "source": [
    "print(X)  # Printing numpy array X."
   ]
  },
  {
   "cell_type": "code",
   "execution_count": 39,
   "id": "7dc3ee9a",
   "metadata": {},
   "outputs": [],
   "source": [
    "X = np.delete(X, -1, 1)  # delete second column of C"
   ]
  },
  {
   "cell_type": "code",
   "execution_count": 40,
   "id": "4e6d29d5",
   "metadata": {},
   "outputs": [
    {
     "name": "stdout",
     "output_type": "stream",
     "text": [
      "[[1.0 0.0 0.0 ... 0.0 0.0 0]\n",
      " [0.0 1.0 0.0 ... 0.0 0.0 0]\n",
      " [0.0 0.0 1.0 ... 0.0 0.0 0]\n",
      " ...\n",
      " [0.0 0.0 0.0 ... 0.0 0.0 1]\n",
      " [0.0 0.0 0.0 ... 1.0 0.0 1]\n",
      " [0.0 0.0 0.0 ... 0.0 1.0 1]]\n"
     ]
    }
   ],
   "source": [
    "print(X)  # Printing numpy array Y."
   ]
  },
  {
   "cell_type": "code",
   "execution_count": 41,
   "id": "5eebb38c",
   "metadata": {},
   "outputs": [
    {
     "data": {
      "text/html": [
       "<div>\n",
       "<style scoped>\n",
       "    .dataframe tbody tr th:only-of-type {\n",
       "        vertical-align: middle;\n",
       "    }\n",
       "\n",
       "    .dataframe tbody tr th {\n",
       "        vertical-align: top;\n",
       "    }\n",
       "\n",
       "    .dataframe thead th {\n",
       "        text-align: right;\n",
       "    }\n",
       "</style>\n",
       "<table border=\"1\" class=\"dataframe\">\n",
       "  <thead>\n",
       "    <tr style=\"text-align: right;\">\n",
       "      <th></th>\n",
       "      <th>Age</th>\n",
       "      <th>Gender</th>\n",
       "      <th>Population</th>\n",
       "      <th>Suicide_Committed_num</th>\n",
       "      <th>Suicide_Committed</th>\n",
       "    </tr>\n",
       "  </thead>\n",
       "  <tbody>\n",
       "    <tr>\n",
       "      <th>24</th>\n",
       "      <td>15-24 years</td>\n",
       "      <td>0</td>\n",
       "      <td>289700.0</td>\n",
       "      <td>14.0</td>\n",
       "      <td>1</td>\n",
       "    </tr>\n",
       "    <tr>\n",
       "      <th>25</th>\n",
       "      <td>25-34 years</td>\n",
       "      <td>0</td>\n",
       "      <td>257200.0</td>\n",
       "      <td>4.0</td>\n",
       "      <td>1</td>\n",
       "    </tr>\n",
       "  </tbody>\n",
       "</table>\n",
       "</div>"
      ],
      "text/plain": [
       "            Age  Gender  Population  Suicide_Committed_num  Suicide_Committed\n",
       "24  15-24 years       0    289700.0                   14.0                  1\n",
       "25  25-34 years       0    257200.0                    4.0                  1"
      ]
     },
     "execution_count": 41,
     "metadata": {},
     "output_type": "execute_result"
    }
   ],
   "source": [
    "sucidedataframe.head(2)  # Taking a look at the dataframe the first elements of the dataset."
   ]
  },
  {
   "cell_type": "markdown",
   "id": "721c3b45",
   "metadata": {},
   "source": [
    "### Selecting X2 and Y2 values"
   ]
  },
  {
   "cell_type": "code",
   "execution_count": 42,
   "id": "3cb467f4",
   "metadata": {},
   "outputs": [],
   "source": [
    "X2 = sucidedataframe[[\"Age\",\"Suicide_Committed_num\" ,\"Population\"]].to_numpy()  # selecting the values for the X2 variable."
   ]
  },
  {
   "cell_type": "code",
   "execution_count": 43,
   "id": "cd02d1d0",
   "metadata": {},
   "outputs": [],
   "source": [
    "Y2 = sucidedataframe[[\"Gender\"]].to_numpy()  # selecting the values for the Y2 variable."
   ]
  },
  {
   "cell_type": "code",
   "execution_count": 44,
   "id": "fdad171a",
   "metadata": {},
   "outputs": [
    {
     "name": "stdout",
     "output_type": "stream",
     "text": [
      "[['15-24 years' 14.0 289700.0]\n",
      " ['25-34 years' 4.0 257200.0]\n",
      " ['35-54 years' 6.0 278800.0]\n",
      " ...\n",
      " ['5-14 years' 0.0 7291.0]\n",
      " ['55-74 years' 0.0 12615.0]\n",
      " ['75+ years' 0.0 2496.0]]\n"
     ]
    }
   ],
   "source": [
    "print(X2)  # Printing numpy array X2."
   ]
  },
  {
   "cell_type": "code",
   "execution_count": 45,
   "id": "c04cf415",
   "metadata": {},
   "outputs": [
    {
     "name": "stdout",
     "output_type": "stream",
     "text": [
      "[[0]\n",
      " [0]\n",
      " [0]\n",
      " ...\n",
      " [1]\n",
      " [1]\n",
      " [1]]\n"
     ]
    }
   ],
   "source": [
    "print(Y2)  # Printing numpy array Y2."
   ]
  },
  {
   "cell_type": "markdown",
   "id": "1464be8b",
   "metadata": {},
   "source": [
    "### One Hot Encoding"
   ]
  },
  {
   "cell_type": "code",
   "execution_count": 46,
   "id": "3aa73e7d",
   "metadata": {},
   "outputs": [],
   "source": [
    "X2 = np.array(ct.fit_transform(X2))  # applies the above method on the given array."
   ]
  },
  {
   "cell_type": "code",
   "execution_count": 47,
   "id": "690aa8f3",
   "metadata": {},
   "outputs": [
    {
     "name": "stdout",
     "output_type": "stream",
     "text": [
      "[[1.0 0.0 0.0 ... 0.0 14.0 289700.0]\n",
      " [0.0 1.0 0.0 ... 0.0 4.0 257200.0]\n",
      " [0.0 0.0 1.0 ... 0.0 6.0 278800.0]\n",
      " ...\n",
      " [0.0 0.0 0.0 ... 0.0 0.0 7291.0]\n",
      " [0.0 0.0 0.0 ... 0.0 0.0 12615.0]\n",
      " [0.0 0.0 0.0 ... 1.0 0.0 2496.0]]\n"
     ]
    }
   ],
   "source": [
    "print(X2)  # Printing numpy array X2."
   ]
  },
  {
   "cell_type": "code",
   "execution_count": 48,
   "id": "ddc6abda",
   "metadata": {},
   "outputs": [],
   "source": [
    "# %run MyOtherNotebook.ipynb use later to seprate code in note book. if allowed."
   ]
  },
  {
   "cell_type": "markdown",
   "id": "e7f842b6",
   "metadata": {},
   "source": [
    "## Spliting the datasets into a training and test set "
   ]
  },
  {
   "cell_type": "code",
   "execution_count": 49,
   "id": "a5234297",
   "metadata": {},
   "outputs": [],
   "source": [
    "X_train, X_test, Y_train, Y_test = train_test_split(X, Y, test_size = 0.2, random_state = 1)\n",
    "X2_train, X2_test, Y2_train, Y2_test = train_test_split(X2, Y2, test_size = 0.2, random_state = 1)\n",
    "# test_size = 0.2               # splitting the data into 80 and 20 percent between the training and test set           \n",
    "                                            # to get the best results.                                                           \n",
    "# random_state = 1         # resetting the  random seed"
   ]
  },
  {
   "cell_type": "code",
   "execution_count": 50,
   "id": "5d0b568a",
   "metadata": {},
   "outputs": [
    {
     "name": "stdout",
     "output_type": "stream",
     "text": [
      "The length of X_train is  28848  and the length of Y_train is  28848\n",
      "The length of X_test is  7212  and the length of Y_test is  7212\n"
     ]
    }
   ],
   "source": [
    "# print the lenghth of both test and train set to see if there equally split.\n",
    "print(\"The length of X_train is \",len(X_train), \" and the length of Y_train is \", len(Y_train))  \n",
    "print(\"The length of X_test is \",len(X_test), \" and the length of Y_test is \", len(Y_test))"
   ]
  },
  {
   "cell_type": "code",
   "execution_count": 51,
   "id": "7faf1e4c",
   "metadata": {},
   "outputs": [
    {
     "name": "stdout",
     "output_type": "stream",
     "text": [
      "The length of X2_train is  28848  and the length of Y2_train is  28848\n",
      "The length of X2_test is  7212  and the length of Y2_test is  7212\n"
     ]
    }
   ],
   "source": [
    "# print the lenghth of both test and train set to see if there equally split.\n",
    "print(\"The length of X2_train is \",len(X2_train), \" and the length of Y2_train is \", len(Y2_train))\n",
    "print(\"The length of X2_test is \",len(X2_test), \" and the length of Y2_test is \", len(Y2_test))"
   ]
  },
  {
   "cell_type": "code",
   "execution_count": 52,
   "id": "08e87fc9",
   "metadata": {},
   "outputs": [
    {
     "name": "stdout",
     "output_type": "stream",
     "text": [
      "X_test  [[1.0 0.0 0.0 ... 0.0 0.0 1]\n",
      " [0.0 0.0 0.0 ... 0.0 1.0 1]\n",
      " [0.0 0.0 0.0 ... 1.0 0.0 1]\n",
      " ...\n",
      " [0.0 0.0 0.0 ... 1.0 0.0 1]\n",
      " [0.0 0.0 1.0 ... 0.0 0.0 0]\n",
      " [1.0 0.0 0.0 ... 0.0 0.0 0]] \n",
      "Y_test  [[1]\n",
      " [0]\n",
      " [1]\n",
      " ...\n",
      " [1]\n",
      " [1]\n",
      " [1]] \n",
      "X_train  [[0.0 0.0 0.0 ... 1.0 0.0 0]\n",
      " [0.0 0.0 0.0 ... 0.0 0.0 1]\n",
      " [0.0 0.0 0.0 ... 1.0 0.0 1]\n",
      " ...\n",
      " [0.0 0.0 1.0 ... 0.0 0.0 1]\n",
      " [0.0 0.0 0.0 ... 1.0 0.0 0]\n",
      " [0.0 0.0 0.0 ... 0.0 0.0 0]] \n",
      "Y_train  [[1]\n",
      " [0]\n",
      " [1]\n",
      " ...\n",
      " [1]\n",
      " [1]\n",
      " [1]]\n"
     ]
    }
   ],
   "source": [
    "# print both test and train set to see them.\n",
    "print(\"X_test \", X_test, \"\\nY_test \", Y_test, \"\\nX_train \", X_train, \"\\nY_train \", Y_train)"
   ]
  },
  {
   "cell_type": "code",
   "execution_count": 53,
   "id": "84367258",
   "metadata": {},
   "outputs": [
    {
     "name": "stdout",
     "output_type": "stream",
     "text": [
      "X2_test  [[1.0 0.0 0.0 ... 0.0 6667.0 11714752.0]\n",
      " [0.0 0.0 0.0 ... 1.0 0.0 954.0]\n",
      " [0.0 0.0 0.0 ... 0.0 216.0 418200.0]\n",
      " ...\n",
      " [0.0 0.0 0.0 ... 0.0 217.0 1040500.0]\n",
      " [0.0 0.0 1.0 ... 0.0 1.0 94332.0]\n",
      " [1.0 0.0 0.0 ... 0.0 16.0 215400.0]] \n",
      "Y2_test  [[1]\n",
      " [1]\n",
      " [1]\n",
      " ...\n",
      " [1]\n",
      " [0]\n",
      " [0]] \n",
      "X2_train  [[0.0 0.0 0.0 ... 0.0 4.0 142343.0]\n",
      " [0.0 0.0 0.0 ... 0.0 0.0 21500.0]\n",
      " [0.0 0.0 0.0 ... 0.0 295.0 2536730.0]\n",
      " ...\n",
      " [0.0 0.0 1.0 ... 0.0 1067.0 13704169.0]\n",
      " [0.0 0.0 0.0 ... 0.0 6.0 465100.0]\n",
      " [0.0 0.0 0.0 ... 0.0 2.0 403000.0]] \n",
      "Y2_train  [[0]\n",
      " [1]\n",
      " [1]\n",
      " ...\n",
      " [1]\n",
      " [0]\n",
      " [0]]\n"
     ]
    }
   ],
   "source": [
    "# print both test and train set to see them.\n",
    "print(\"X2_test \", X2_test, \"\\nY2_test \", Y2_test, \"\\nX2_train \", X2_train, \"\\nY2_train \", Y2_train)"
   ]
  },
  {
   "cell_type": "markdown",
   "id": "83512843",
   "metadata": {},
   "source": [
    "## Feature Scaling "
   ]
  },
  {
   "cell_type": "code",
   "execution_count": 54,
   "id": "c3791c50",
   "metadata": {},
   "outputs": [
    {
     "data": {
      "text/plain": [
       "array([0.0, 0.0, 0.0, 0.0, 1.0, 0.0, 4.0, 142343.0], dtype=object)"
      ]
     },
     "execution_count": 54,
     "metadata": {},
     "output_type": "execute_result"
    }
   ],
   "source": [
    "X2_train[0]  # checking element in the 0th index"
   ]
  },
  {
   "cell_type": "code",
   "execution_count": 55,
   "id": "7bbde5bc",
   "metadata": {},
   "outputs": [],
   "source": [
    "sc = StandardScaler()  # creating an instance of the object.\n",
    "\n",
    "X2_train[:, 6:] = sc.fit_transform(X2_train[:, 6:])  # Scaling x_train\n",
    "X2_test[:, 6:] = sc.transform(X2_test[:, 6:])  # Scaling y_train"
   ]
  },
  {
   "cell_type": "code",
   "execution_count": 56,
   "id": "99495342",
   "metadata": {},
   "outputs": [
    {
     "name": "stdout",
     "output_type": "stream",
     "text": [
      "X2_test  [[1.0 0.0 0.0 ... 0.0 7.446398944619078 2.6964860977419423]\n",
      " [0.0 0.0 0.0 ... 1.0 -0.25757297980246174 -0.45926455223718626]\n",
      " [0.0 0.0 0.0 ... 0.0 -0.007976769261730885 -0.3468565752769218]\n",
      " ...\n",
      " [0.0 0.0 0.0 ... 0.0 -0.006821231249968243 -0.1792061147275755]\n",
      " [0.0 0.0 1.0 ... 0.0 -0.2564174417906991 -0.4341080928041526]\n",
      " [1.0 0.0 0.0 ... 0.0 -0.23908437161425947 -0.40149182097739977]] \n",
      "\n",
      "X2_train  [[0.0 0.0 0.0 ... 0.0 -0.25295082775541117 -0.42117371025323713]\n",
      " [0.0 0.0 0.0 ... 0.0 -0.25757297980246174 -0.4537293660529554]\n",
      " [0.0 0.0 0.0 ... 0.0 0.0833107336675179 0.22388507696091625]\n",
      " ...\n",
      " [0.0 0.0 1.0 ... 0.0 0.9753860787482783 3.2324441184308363]\n",
      " [0.0 0.0 0.0 ... 0.0 -0.2506397517318859 -0.3342215011972748]\n",
      " [0.0 0.0 0.0 ... 0.0 -0.2552619037789365 -0.3509515246588117]]\n"
     ]
    }
   ],
   "source": [
    "print(\"X2_test \", X2_test,\"\\n\\nX2_train \", X2_train)  # printing the sets after feature scaling."
   ]
  },
  {
   "cell_type": "markdown",
   "id": "4b6e6f19",
   "metadata": {},
   "source": [
    "# Applying PCA "
   ]
  },
  {
   "cell_type": "markdown",
   "id": "593fe5fd",
   "metadata": {},
   "source": [
    "# Reduced accuracy so will not use"
   ]
  },
  {
   "cell_type": "code",
   "execution_count": 57,
   "id": "9108c957",
   "metadata": {},
   "outputs": [],
   "source": [
    "#pca = PCA(n_components=2)"
   ]
  },
  {
   "cell_type": "code",
   "execution_count": 58,
   "id": "7aaed4d9",
   "metadata": {},
   "outputs": [],
   "source": [
    "#X2_train = pca.fit_transform(X2_train)\n",
    "#X2_test = pca.fit_transform(X2_test)"
   ]
  },
  {
   "cell_type": "markdown",
   "id": "a2cd7516",
   "metadata": {},
   "source": [
    "# Applying Kernal PCA "
   ]
  },
  {
   "cell_type": "markdown",
   "id": "ae925a95",
   "metadata": {},
   "source": [
    "# Reduced accuracy so will not use"
   ]
  },
  {
   "cell_type": "code",
   "execution_count": 59,
   "id": "bfe7084b",
   "metadata": {},
   "outputs": [],
   "source": [
    "#kpca = KernelPCA(n_components=2,kernel='rbf')"
   ]
  },
  {
   "cell_type": "code",
   "execution_count": 60,
   "id": "a9d8efed",
   "metadata": {},
   "outputs": [],
   "source": [
    "#X2_train = kpca.fit_transform(X2_train)\n",
    "#X2_test = kpca.fit_transform(X2_test)\n",
    " "
   ]
  },
  {
   "cell_type": "markdown",
   "id": "ca7f4fcd",
   "metadata": {},
   "source": [
    "# Applying LDA"
   ]
  },
  {
   "cell_type": "code",
   "execution_count": 61,
   "id": "3f59c439",
   "metadata": {},
   "outputs": [],
   "source": [
    "#lda = LDA(n_components=2)"
   ]
  },
  {
   "cell_type": "code",
   "execution_count": 62,
   "id": "8913227a",
   "metadata": {},
   "outputs": [],
   "source": [
    "#X2_train = lda.fit_transform(X2_train, Y2_train)\n",
    "#X2_test = lda.fit_transform(X2_test)"
   ]
  },
  {
   "cell_type": "markdown",
   "id": "44fcf418",
   "metadata": {},
   "source": [
    "## Training Logistic regression model on traning sets."
   ]
  },
  {
   "cell_type": "markdown",
   "id": "747f5c69",
   "metadata": {},
   "source": [
    "## For X_train and Y_train "
   ]
  },
  {
   "cell_type": "code",
   "execution_count": 63,
   "id": "3ebd7b8d",
   "metadata": {},
   "outputs": [],
   "source": [
    "logistic_regression_classifier = LogisticRegression()  # Building and object of the class."
   ]
  },
  {
   "cell_type": "code",
   "execution_count": 64,
   "id": "709ec8c7",
   "metadata": {},
   "outputs": [
    {
     "name": "stderr",
     "output_type": "stream",
     "text": [
      "C:\\Users\\User\\anaconda3\\lib\\site-packages\\sklearn\\utils\\validation.py:63: DataConversionWarning: A column-vector y was passed when a 1d array was expected. Please change the shape of y to (n_samples, ), for example using ravel().\n",
      "  return f(*args, **kwargs)\n"
     ]
    },
    {
     "data": {
      "text/plain": [
       "LogisticRegression()"
      ]
     },
     "execution_count": 64,
     "metadata": {},
     "output_type": "execute_result"
    }
   ],
   "source": [
    "logistic_regression_classifier.fit(X_train, Y_train)  # Building logistic regression model."
   ]
  },
  {
   "cell_type": "markdown",
   "id": "6073681a",
   "metadata": {},
   "source": [
    "### predicting  result"
   ]
  },
  {
   "cell_type": "code",
   "execution_count": 65,
   "id": "faa8448f",
   "metadata": {},
   "outputs": [
    {
     "name": "stdout",
     "output_type": "stream",
     "text": [
      "pred-real\n",
      "[[1 1]\n",
      " [1 0]\n",
      " [1 1]\n",
      " ...\n",
      " [1 1]\n",
      " [1 1]\n",
      " [1 1]]\n"
     ]
    }
   ],
   "source": [
    "Y_pred = logistic_regression_classifier.predict(X_test)  # Predicted results.\n",
    "print(\"pred-real\")  # printing predicted and real values.\n",
    "print(np.concatenate((Y_pred.reshape(len(Y_pred),1), Y_test.reshape(len(Y_test),1)),1))  # Predicted results and real results in a np array."
   ]
  },
  {
   "cell_type": "markdown",
   "id": "a0938c1d",
   "metadata": {},
   "source": [
    "### Confusion matrix"
   ]
  },
  {
   "cell_type": "code",
   "execution_count": 66,
   "id": "e4e6af8c",
   "metadata": {},
   "outputs": [
    {
     "name": "stdout",
     "output_type": "stream",
     "text": [
      "correct_0-incorrct_1\n",
      "incorrect_0-correct_1\n",
      "[[   0 1219]\n",
      " [   0 5993]]\n"
     ]
    }
   ],
   "source": [
    "cm = confusion_matrix(Y_test, Y_pred)  # creating the confusion matrix\n",
    "print(\"correct_0-incorrct_1\\nincorrect_0-correct_1\")  # printing correct and inccrocet results.\n",
    "print(cm)  # prininting the confusion matrix."
   ]
  },
  {
   "cell_type": "code",
   "execution_count": 67,
   "id": "84d689e8",
   "metadata": {},
   "outputs": [
    {
     "data": {
      "image/png": "[encoded data removed]",
      "text/plain": [
       "<Figure size 576x396 with 2 Axes>"
      ]
     },
     "metadata": {},
     "output_type": "display_data"
    }
   ],
   "source": [
    "disp = ConfusionMatrixDisplay(confusion_matrix=cm)  # creaing the confusion matrix plot.                           \n",
    "disp.plot()  # displaying data in plot\n",
    "plt.title(\"Logistic Regression Model\")  # adding a title to plot\n",
    "plt.show()  # showing the plot"
   ]
  },
  {
   "cell_type": "markdown",
   "id": "846252f8",
   "metadata": {},
   "source": [
    "### Getting accurcy of the model"
   ]
  },
  {
   "cell_type": "code",
   "execution_count": 68,
   "id": "32109682",
   "metadata": {},
   "outputs": [
    {
     "data": {
      "text/plain": [
       "83.1"
      ]
     },
     "execution_count": 68,
     "metadata": {},
     "output_type": "execute_result"
    }
   ],
   "source": [
    "Logistic_accuracy = round(accuracy_score(Y_test, Y_pred)*100, 2)  # saving the accurcy\n",
    "round(accuracy_score(Y_test, Y_pred)*100, 2)  # showing the model accurecy rounded to 2 decimal places."
   ]
  },
  {
   "cell_type": "markdown",
   "id": "534994b1",
   "metadata": {},
   "source": [
    "## k-Fold Cross Validation"
   ]
  },
  {
   "cell_type": "code",
   "execution_count": 69,
   "id": "18abc0c6",
   "metadata": {},
   "outputs": [
    {
     "name": "stderr",
     "output_type": "stream",
     "text": [
      "C:\\Users\\User\\anaconda3\\lib\\site-packages\\sklearn\\utils\\validation.py:63: DataConversionWarning: A column-vector y was passed when a 1d array was expected. Please change the shape of y to (n_samples, ), for example using ravel().\n",
      "  return f(*args, **kwargs)\n",
      "C:\\Users\\User\\anaconda3\\lib\\site-packages\\sklearn\\utils\\validation.py:63: DataConversionWarning: A column-vector y was passed when a 1d array was expected. Please change the shape of y to (n_samples, ), for example using ravel().\n",
      "  return f(*args, **kwargs)\n",
      "C:\\Users\\User\\anaconda3\\lib\\site-packages\\sklearn\\utils\\validation.py:63: DataConversionWarning: A column-vector y was passed when a 1d array was expected. Please change the shape of y to (n_samples, ), for example using ravel().\n",
      "  return f(*args, **kwargs)\n",
      "C:\\Users\\User\\anaconda3\\lib\\site-packages\\sklearn\\utils\\validation.py:63: DataConversionWarning: A column-vector y was passed when a 1d array was expected. Please change the shape of y to (n_samples, ), for example using ravel().\n",
      "  return f(*args, **kwargs)\n",
      "C:\\Users\\User\\anaconda3\\lib\\site-packages\\sklearn\\utils\\validation.py:63: DataConversionWarning: A column-vector y was passed when a 1d array was expected. Please change the shape of y to (n_samples, ), for example using ravel().\n",
      "  return f(*args, **kwargs)\n",
      "C:\\Users\\User\\anaconda3\\lib\\site-packages\\sklearn\\utils\\validation.py:63: DataConversionWarning: A column-vector y was passed when a 1d array was expected. Please change the shape of y to (n_samples, ), for example using ravel().\n",
      "  return f(*args, **kwargs)\n",
      "C:\\Users\\User\\anaconda3\\lib\\site-packages\\sklearn\\utils\\validation.py:63: DataConversionWarning: A column-vector y was passed when a 1d array was expected. Please change the shape of y to (n_samples, ), for example using ravel().\n",
      "  return f(*args, **kwargs)\n",
      "C:\\Users\\User\\anaconda3\\lib\\site-packages\\sklearn\\utils\\validation.py:63: DataConversionWarning: A column-vector y was passed when a 1d array was expected. Please change the shape of y to (n_samples, ), for example using ravel().\n",
      "  return f(*args, **kwargs)\n",
      "C:\\Users\\User\\anaconda3\\lib\\site-packages\\sklearn\\utils\\validation.py:63: DataConversionWarning: A column-vector y was passed when a 1d array was expected. Please change the shape of y to (n_samples, ), for example using ravel().\n",
      "  return f(*args, **kwargs)\n",
      "C:\\Users\\User\\anaconda3\\lib\\site-packages\\sklearn\\utils\\validation.py:63: DataConversionWarning: A column-vector y was passed when a 1d array was expected. Please change the shape of y to (n_samples, ), for example using ravel().\n",
      "  return f(*args, **kwargs)\n"
     ]
    },
    {
     "name": "stdout",
     "output_type": "stream",
     "text": [
      "Accuracy: 83.65 %\n",
      "Standard Deviation: 0.01 %\n"
     ]
    }
   ],
   "source": [
    "accuracies = cross_val_score(estimator = logistic_regression_classifier, X = X_train, y = Y_train, cv = 10)  # performs 10 different tests to get average accurecy.\n",
    "print(\"Accuracy: {:.2f} %\".format(accuracies.mean()*100))  # accuracy printed\n",
    "print(\"Standard Deviation: {:.2f} %\".format(accuracies.std()*100))  # standard deveation printed (std -avarage or std+ avarage )"
   ]
  },
  {
   "cell_type": "markdown",
   "id": "4d3e5830",
   "metadata": {},
   "source": [
    "## For X2_train and Y2_train "
   ]
  },
  {
   "cell_type": "code",
   "execution_count": 70,
   "id": "18f573a7",
   "metadata": {},
   "outputs": [
    {
     "name": "stderr",
     "output_type": "stream",
     "text": [
      "C:\\Users\\User\\anaconda3\\lib\\site-packages\\sklearn\\utils\\validation.py:63: DataConversionWarning: A column-vector y was passed when a 1d array was expected. Please change the shape of y to (n_samples, ), for example using ravel().\n",
      "  return f(*args, **kwargs)\n"
     ]
    },
    {
     "data": {
      "text/plain": [
       "LogisticRegression()"
      ]
     },
     "execution_count": 70,
     "metadata": {},
     "output_type": "execute_result"
    }
   ],
   "source": [
    "logistic_regression_classifier.fit(X2_train, Y2_train)  # Building Logistic regression classification model."
   ]
  },
  {
   "cell_type": "markdown",
   "id": "f7182003",
   "metadata": {},
   "source": [
    "### predicting result"
   ]
  },
  {
   "cell_type": "code",
   "execution_count": 71,
   "id": "4f988fa3",
   "metadata": {},
   "outputs": [
    {
     "name": "stdout",
     "output_type": "stream",
     "text": [
      "pred-real\n",
      "[[1 1]\n",
      " [0 1]\n",
      " [1 1]\n",
      " ...\n",
      " [1 1]\n",
      " [0 0]\n",
      " [1 0]]\n"
     ]
    }
   ],
   "source": [
    "Y2_pred = logistic_regression_classifier.predict(X2_test)  # Predicted results.\n",
    "print(\"pred-real\")  # printing predicted and real values.\n",
    "print(np.concatenate((Y2_pred.reshape(len(Y2_pred),1), Y2_test.reshape(len(Y2_test),1)),1))  # Predicted results and real results in a np array."
   ]
  },
  {
   "cell_type": "markdown",
   "id": "53ef65c5",
   "metadata": {},
   "source": [
    "### Confusion matrix"
   ]
  },
  {
   "cell_type": "code",
   "execution_count": 72,
   "id": "b4c54fc6",
   "metadata": {},
   "outputs": [
    {
     "name": "stdout",
     "output_type": "stream",
     "text": [
      "correct_0-incorrct_1\n",
      "incorrect_0-correct_1\n",
      "[[2611  982]\n",
      " [1573 2046]]\n"
     ]
    }
   ],
   "source": [
    "cm2 = confusion_matrix(Y2_test, Y2_pred)  # creating the confusion matrix\n",
    "print(\"correct_0-incorrct_1\\nincorrect_0-correct_1\")  # printing correct and inccrocet results.\n",
    "print(cm2)  # prininting the confusion matrix."
   ]
  },
  {
   "cell_type": "markdown",
   "id": "8237dd40",
   "metadata": {},
   "source": [
    "### Getting accurcy of the model"
   ]
  },
  {
   "cell_type": "code",
   "execution_count": 73,
   "id": "1d10d2c1",
   "metadata": {},
   "outputs": [
    {
     "data": {
      "image/png": "[encoded data removed]",
      "text/plain": [
       "<Figure size 576x396 with 2 Axes>"
      ]
     },
     "metadata": {},
     "output_type": "display_data"
    }
   ],
   "source": [
    "disp = ConfusionMatrixDisplay(confusion_matrix=cm2)  # creaing the confusion matrix plot.                           \n",
    "disp.plot()  # displaying data in plot\n",
    "plt.title(\"Logistic Regression Model\")  # adding a title to plot\n",
    "plt.show()  # showing the plot"
   ]
  },
  {
   "cell_type": "code",
   "execution_count": null,
   "id": "c1378e46",
   "metadata": {},
   "outputs": [],
   "source": [
    "sns.heatmap(cm, annot=True, camp=\"Reds\")"
   ]
  },
  {
   "cell_type": "code",
   "execution_count": null,
   "id": "8e15f026",
   "metadata": {},
   "outputs": [],
   "source": [
    "lables  [\"True_neg\"+ cm[0,0], \"False__pos\" +cm[0,1],\"False_Neg\"+cm[1,0], \"True_pos\"+[1,1] ]"
   ]
  },
  {
   "cell_type": "code",
   "execution_count": null,
   "id": "bdfd9eb2",
   "metadata": {},
   "outputs": [],
   "source": []
  },
  {
   "cell_type": "code",
   "execution_count": null,
   "id": "9c4991f9",
   "metadata": {},
   "outputs": [],
   "source": [
    "labels = np.array(labels).reshape(2,2)"
   ]
  },
  {
   "cell_type": "code",
   "execution_count": null,
   "id": "0c6f935b",
   "metadata": {},
   "outputs": [],
   "source": [
    "sns.heatmap(cmf, annot=lables, fmt = \"\", cmp =\"Reds\")"
   ]
  },
  {
   "cell_type": "code",
   "execution_count": 75,
   "id": "7aae1ad6",
   "metadata": {},
   "outputs": [
    {
     "data": {
      "text/plain": [
       "64.57"
      ]
     },
     "execution_count": 75,
     "metadata": {},
     "output_type": "execute_result"
    }
   ],
   "source": [
    "Logistic_accuracy2 = round(accuracy_score(Y2_test, Y2_pred)*100, 2)  #  Saving the accurcy\n",
    "round(accuracy_score(Y2_test, Y2_pred)*100, 2)  # showing the model accurecy rounded to 2 decimal places."
   ]
  },
  {
   "cell_type": "markdown",
   "id": "4fa6f80d",
   "metadata": {},
   "source": [
    "## k-Fold Cross Validation"
   ]
  },
  {
   "cell_type": "code",
   "execution_count": 76,
   "id": "66ba4730",
   "metadata": {},
   "outputs": [
    {
     "name": "stderr",
     "output_type": "stream",
     "text": [
      "C:\\Users\\User\\anaconda3\\lib\\site-packages\\sklearn\\utils\\validation.py:63: DataConversionWarning: A column-vector y was passed when a 1d array was expected. Please change the shape of y to (n_samples, ), for example using ravel().\n",
      "  return f(*args, **kwargs)\n",
      "C:\\Users\\User\\anaconda3\\lib\\site-packages\\sklearn\\utils\\validation.py:63: DataConversionWarning: A column-vector y was passed when a 1d array was expected. Please change the shape of y to (n_samples, ), for example using ravel().\n",
      "  return f(*args, **kwargs)\n",
      "C:\\Users\\User\\anaconda3\\lib\\site-packages\\sklearn\\utils\\validation.py:63: DataConversionWarning: A column-vector y was passed when a 1d array was expected. Please change the shape of y to (n_samples, ), for example using ravel().\n",
      "  return f(*args, **kwargs)\n",
      "C:\\Users\\User\\anaconda3\\lib\\site-packages\\sklearn\\utils\\validation.py:63: DataConversionWarning: A column-vector y was passed when a 1d array was expected. Please change the shape of y to (n_samples, ), for example using ravel().\n",
      "  return f(*args, **kwargs)\n",
      "C:\\Users\\User\\anaconda3\\lib\\site-packages\\sklearn\\utils\\validation.py:63: DataConversionWarning: A column-vector y was passed when a 1d array was expected. Please change the shape of y to (n_samples, ), for example using ravel().\n",
      "  return f(*args, **kwargs)\n",
      "C:\\Users\\User\\anaconda3\\lib\\site-packages\\sklearn\\utils\\validation.py:63: DataConversionWarning: A column-vector y was passed when a 1d array was expected. Please change the shape of y to (n_samples, ), for example using ravel().\n",
      "  return f(*args, **kwargs)\n",
      "C:\\Users\\User\\anaconda3\\lib\\site-packages\\sklearn\\utils\\validation.py:63: DataConversionWarning: A column-vector y was passed when a 1d array was expected. Please change the shape of y to (n_samples, ), for example using ravel().\n",
      "  return f(*args, **kwargs)\n",
      "C:\\Users\\User\\anaconda3\\lib\\site-packages\\sklearn\\utils\\validation.py:63: DataConversionWarning: A column-vector y was passed when a 1d array was expected. Please change the shape of y to (n_samples, ), for example using ravel().\n",
      "  return f(*args, **kwargs)\n",
      "C:\\Users\\User\\anaconda3\\lib\\site-packages\\sklearn\\utils\\validation.py:63: DataConversionWarning: A column-vector y was passed when a 1d array was expected. Please change the shape of y to (n_samples, ), for example using ravel().\n",
      "  return f(*args, **kwargs)\n"
     ]
    },
    {
     "name": "stdout",
     "output_type": "stream",
     "text": [
      "Accuracy: 64.84 %\n",
      "Standard Deviation: 0.99 %\n"
     ]
    },
    {
     "name": "stderr",
     "output_type": "stream",
     "text": [
      "C:\\Users\\User\\anaconda3\\lib\\site-packages\\sklearn\\utils\\validation.py:63: DataConversionWarning: A column-vector y was passed when a 1d array was expected. Please change the shape of y to (n_samples, ), for example using ravel().\n",
      "  return f(*args, **kwargs)\n"
     ]
    }
   ],
   "source": [
    "accuracies = cross_val_score(estimator = logistic_regression_classifier, X = X2_train, y = Y2_train, cv = 10)  # performs 10 different tests to get average accurecy.\n",
    "print(\"Accuracy: {:.2f} %\".format(accuracies.mean()*100))  # accuracy printed\n",
    "print(\"Standard Deviation: {:.2f} %\".format(accuracies.std()*100))  # standard deveation printed (std -avarage or std+ avarage )"
   ]
  },
  {
   "cell_type": "markdown",
   "id": "e9ed6495",
   "metadata": {},
   "source": [
    "## Training the K-NN  on the traning sets"
   ]
  },
  {
   "cell_type": "markdown",
   "id": "6b7b7722",
   "metadata": {},
   "source": [
    "## For X_train and Y_Train  "
   ]
  },
  {
   "cell_type": "code",
   "execution_count": 77,
   "id": "b3d40e46",
   "metadata": {},
   "outputs": [],
   "source": [
    "K_NN_classifier = KNeighborsClassifier(n_neighbors = 15, metric = 'minkowski', p = 2)  # Bulding an object of the class"
   ]
  },
  {
   "cell_type": "code",
   "execution_count": 78,
   "id": "75484621",
   "metadata": {},
   "outputs": [
    {
     "name": "stderr",
     "output_type": "stream",
     "text": [
      "C:\\Users\\User\\anaconda3\\lib\\site-packages\\sklearn\\neighbors\\_classification.py:179: DataConversionWarning: A column-vector y was passed when a 1d array was expected. Please change the shape of y to (n_samples,), for example using ravel().\n",
      "  return self._fit(X, y)\n"
     ]
    },
    {
     "data": {
      "text/plain": [
       "KNeighborsClassifier(n_neighbors=15)"
      ]
     },
     "execution_count": 78,
     "metadata": {},
     "output_type": "execute_result"
    }
   ],
   "source": [
    "K_NN_classifier.fit(X_train, Y_train)  # Building the k-nearest neighbors classification model."
   ]
  },
  {
   "cell_type": "markdown",
   "id": "b9aca28f",
   "metadata": {},
   "source": [
    "### predicting result"
   ]
  },
  {
   "cell_type": "code",
   "execution_count": 79,
   "id": "59ee9552",
   "metadata": {},
   "outputs": [
    {
     "name": "stdout",
     "output_type": "stream",
     "text": [
      "pred-real\n",
      "[[1 1]\n",
      " [1 0]\n",
      " [1 1]\n",
      " ...\n",
      " [1 1]\n",
      " [1 1]\n",
      " [1 1]]\n"
     ]
    }
   ],
   "source": [
    "K_NN_Y_pred = K_NN_classifier.predict(X_test)  # Predicted results.\n",
    "print(\"pred-real\")  # printing predicted and real values.\n",
    "print(np.concatenate((K_NN_Y_pred.reshape(len(K_NN_Y_pred),1), Y_test.reshape(len(Y_test),1)),1))  # Predicted results and real results in a np array."
   ]
  },
  {
   "cell_type": "markdown",
   "id": "a40afcdd",
   "metadata": {},
   "source": [
    "### Confusion matrix"
   ]
  },
  {
   "cell_type": "code",
   "execution_count": 80,
   "id": "766bba98",
   "metadata": {},
   "outputs": [
    {
     "name": "stdout",
     "output_type": "stream",
     "text": [
      "correct_0-incorrct_1\n",
      "incorrect_0-correct_1\n",
      "[[   0 1219]\n",
      " [   0 5993]]\n"
     ]
    }
   ],
   "source": [
    "K_NN_cm = confusion_matrix(Y_test, K_NN_Y_pred)  # creating the confusion matrix\n",
    "print(\"correct_0-incorrct_1\\nincorrect_0-correct_1\")  # printing correct and inccrocet results.\n",
    "print(K_NN_cm)  # prininting the confusion matrix."
   ]
  },
  {
   "cell_type": "code",
   "execution_count": 81,
   "id": "52172b8e",
   "metadata": {},
   "outputs": [
    {
     "data": {
      "image/png": "[encoded data removed]",
      "text/plain": [
       "<Figure size 576x396 with 2 Axes>"
      ]
     },
     "metadata": {},
     "output_type": "display_data"
    }
   ],
   "source": [
    "disp = ConfusionMatrixDisplay(confusion_matrix=K_NN_cm)  # creaing the confusion matrix plot.                           \n",
    "disp.plot()  # displaying data in plot\n",
    "plt.title(\"k-nearest neighbors\")  # adding a title to plot\n",
    "plt.show()  # showing the plot"
   ]
  },
  {
   "cell_type": "markdown",
   "id": "b3079b03",
   "metadata": {},
   "source": [
    "### Getting accurcy of the model"
   ]
  },
  {
   "cell_type": "code",
   "execution_count": 82,
   "id": "1a737ad4",
   "metadata": {},
   "outputs": [
    {
     "data": {
      "text/plain": [
       "83.1"
      ]
     },
     "execution_count": 82,
     "metadata": {},
     "output_type": "execute_result"
    }
   ],
   "source": [
    "K_NN_accuracy = round(accuracy_score(Y_test, K_NN_Y_pred)*100, 2) # saving the accurcy.\n",
    "round(accuracy_score(Y_test, K_NN_Y_pred)*100, 2)  # showing the model accurecy rounded to 2 decimal places."
   ]
  },
  {
   "cell_type": "markdown",
   "id": "ae2bf39b",
   "metadata": {},
   "source": [
    "## k-Fold Cross Validation"
   ]
  },
  {
   "cell_type": "code",
   "execution_count": 83,
   "id": "8519c68d",
   "metadata": {},
   "outputs": [
    {
     "name": "stderr",
     "output_type": "stream",
     "text": [
      "C:\\Users\\User\\anaconda3\\lib\\site-packages\\sklearn\\neighbors\\_classification.py:179: DataConversionWarning: A column-vector y was passed when a 1d array was expected. Please change the shape of y to (n_samples,), for example using ravel().\n",
      "  return self._fit(X, y)\n",
      "C:\\Users\\User\\anaconda3\\lib\\site-packages\\sklearn\\neighbors\\_classification.py:179: DataConversionWarning: A column-vector y was passed when a 1d array was expected. Please change the shape of y to (n_samples,), for example using ravel().\n",
      "  return self._fit(X, y)\n",
      "C:\\Users\\User\\anaconda3\\lib\\site-packages\\sklearn\\neighbors\\_classification.py:179: DataConversionWarning: A column-vector y was passed when a 1d array was expected. Please change the shape of y to (n_samples,), for example using ravel().\n",
      "  return self._fit(X, y)\n",
      "C:\\Users\\User\\anaconda3\\lib\\site-packages\\sklearn\\neighbors\\_classification.py:179: DataConversionWarning: A column-vector y was passed when a 1d array was expected. Please change the shape of y to (n_samples,), for example using ravel().\n",
      "  return self._fit(X, y)\n",
      "C:\\Users\\User\\anaconda3\\lib\\site-packages\\sklearn\\neighbors\\_classification.py:179: DataConversionWarning: A column-vector y was passed when a 1d array was expected. Please change the shape of y to (n_samples,), for example using ravel().\n",
      "  return self._fit(X, y)\n",
      "C:\\Users\\User\\anaconda3\\lib\\site-packages\\sklearn\\neighbors\\_classification.py:179: DataConversionWarning: A column-vector y was passed when a 1d array was expected. Please change the shape of y to (n_samples,), for example using ravel().\n",
      "  return self._fit(X, y)\n",
      "C:\\Users\\User\\anaconda3\\lib\\site-packages\\sklearn\\neighbors\\_classification.py:179: DataConversionWarning: A column-vector y was passed when a 1d array was expected. Please change the shape of y to (n_samples,), for example using ravel().\n",
      "  return self._fit(X, y)\n",
      "C:\\Users\\User\\anaconda3\\lib\\site-packages\\sklearn\\neighbors\\_classification.py:179: DataConversionWarning: A column-vector y was passed when a 1d array was expected. Please change the shape of y to (n_samples,), for example using ravel().\n",
      "  return self._fit(X, y)\n",
      "C:\\Users\\User\\anaconda3\\lib\\site-packages\\sklearn\\neighbors\\_classification.py:179: DataConversionWarning: A column-vector y was passed when a 1d array was expected. Please change the shape of y to (n_samples,), for example using ravel().\n",
      "  return self._fit(X, y)\n",
      "C:\\Users\\User\\anaconda3\\lib\\site-packages\\sklearn\\neighbors\\_classification.py:179: DataConversionWarning: A column-vector y was passed when a 1d array was expected. Please change the shape of y to (n_samples,), for example using ravel().\n",
      "  return self._fit(X, y)\n"
     ]
    },
    {
     "name": "stdout",
     "output_type": "stream",
     "text": [
      "Accuracy: 82.85 %\n",
      "Standard Deviation: 2.39 %\n"
     ]
    }
   ],
   "source": [
    "accuracies = cross_val_score(estimator = K_NN_classifier, X = X_train, y = Y_train, cv = 10)  # performs 10 different tests to get average accurecy.\n",
    "print(\"Accuracy: {:.2f} %\".format(accuracies.mean()*100))  # accuracy printed\n",
    "print(\"Standard Deviation: {:.2f} %\".format(accuracies.std()*100))  # standard deveation printed (std -avarage or std+ avarage )"
   ]
  },
  {
   "cell_type": "markdown",
   "id": "95cb59d8",
   "metadata": {},
   "source": [
    "## For X2_train and Y2_Train  "
   ]
  },
  {
   "cell_type": "code",
   "execution_count": 84,
   "id": "04e206fb",
   "metadata": {},
   "outputs": [
    {
     "name": "stderr",
     "output_type": "stream",
     "text": [
      "C:\\Users\\User\\anaconda3\\lib\\site-packages\\sklearn\\neighbors\\_classification.py:179: DataConversionWarning: A column-vector y was passed when a 1d array was expected. Please change the shape of y to (n_samples,), for example using ravel().\n",
      "  return self._fit(X, y)\n"
     ]
    },
    {
     "data": {
      "text/plain": [
       "KNeighborsClassifier(n_neighbors=15)"
      ]
     },
     "execution_count": 84,
     "metadata": {},
     "output_type": "execute_result"
    }
   ],
   "source": [
    "K_NN_classifier.fit(X2_train, Y2_train)  # Building the k-nearest neighbors classification model."
   ]
  },
  {
   "cell_type": "markdown",
   "id": "51cf7770",
   "metadata": {},
   "source": [
    "### predicting result"
   ]
  },
  {
   "cell_type": "code",
   "execution_count": 85,
   "id": "07ab47d4",
   "metadata": {},
   "outputs": [
    {
     "name": "stdout",
     "output_type": "stream",
     "text": [
      "pred-real\n",
      "[[1 1]\n",
      " [1 1]\n",
      " [1 1]\n",
      " ...\n",
      " [0 1]\n",
      " [0 0]\n",
      " [0 0]]\n"
     ]
    }
   ],
   "source": [
    "K_NN_Y2_pred = K_NN_classifier.predict(X2_test)  # Predicted results.\n",
    "print(\"pred-real\")  # printing predicted and real values.\n",
    "print(np.concatenate((K_NN_Y2_pred.reshape(len(K_NN_Y2_pred),1), Y2_test.reshape(len(Y2_test),1)),1))  # Predicted results and real results in a np array."
   ]
  },
  {
   "cell_type": "markdown",
   "id": "ddcd3ae5",
   "metadata": {},
   "source": [
    "### Confusion matrix"
   ]
  },
  {
   "cell_type": "code",
   "execution_count": 86,
   "id": "7f71cc23",
   "metadata": {},
   "outputs": [
    {
     "name": "stdout",
     "output_type": "stream",
     "text": [
      "correct_0-incorrct_1\n",
      "incorrect_0-correct_1\n",
      "[[2941  652]\n",
      " [1055 2564]]\n"
     ]
    }
   ],
   "source": [
    "K_NN_cm2 = confusion_matrix(Y2_test, K_NN_Y2_pred)  # creating the confusion matrix\n",
    "print(\"correct_0-incorrct_1\\nincorrect_0-correct_1\")  # printing correct and inccrocet results.\n",
    "print(K_NN_cm2)  # prininting the confusion matrix."
   ]
  },
  {
   "cell_type": "code",
   "execution_count": 87,
   "id": "ecbf5314",
   "metadata": {},
   "outputs": [
    {
     "data": {
      "image/png": "[encoded data removed]",
      "text/plain": [
       "<Figure size 576x396 with 2 Axes>"
      ]
     },
     "metadata": {},
     "output_type": "display_data"
    }
   ],
   "source": [
    "disp = ConfusionMatrixDisplay(confusion_matrix=K_NN_cm2)  # creaing the confusion matrix plot.                           \n",
    "disp.plot()  # displaying data in plot\n",
    "plt.title(\"k-nearest neighbors\")  # adding a title to plot\n",
    "plt.show()  # showing the plot"
   ]
  },
  {
   "cell_type": "markdown",
   "id": "77f15f77",
   "metadata": {},
   "source": [
    "### Getting accurcy of the model"
   ]
  },
  {
   "cell_type": "code",
   "execution_count": 88,
   "id": "d79cd97b",
   "metadata": {},
   "outputs": [
    {
     "data": {
      "text/plain": [
       "76.33"
      ]
     },
     "execution_count": 88,
     "metadata": {},
     "output_type": "execute_result"
    }
   ],
   "source": [
    "K_NN_accuracy2 = round(accuracy_score(Y2_test, K_NN_Y2_pred)*100, 2) # saving the accurcy.\n",
    "round(accuracy_score(Y2_test, K_NN_Y2_pred)*100, 2)  # showing the model accurecy rounded to 2 decimal places."
   ]
  },
  {
   "cell_type": "markdown",
   "id": "025cec92",
   "metadata": {},
   "source": [
    "## k-Fold Cross Validation"
   ]
  },
  {
   "cell_type": "code",
   "execution_count": 89,
   "id": "1ce14193",
   "metadata": {},
   "outputs": [
    {
     "name": "stderr",
     "output_type": "stream",
     "text": [
      "C:\\Users\\User\\anaconda3\\lib\\site-packages\\sklearn\\neighbors\\_classification.py:179: DataConversionWarning: A column-vector y was passed when a 1d array was expected. Please change the shape of y to (n_samples,), for example using ravel().\n",
      "  return self._fit(X, y)\n",
      "C:\\Users\\User\\anaconda3\\lib\\site-packages\\sklearn\\neighbors\\_classification.py:179: DataConversionWarning: A column-vector y was passed when a 1d array was expected. Please change the shape of y to (n_samples,), for example using ravel().\n",
      "  return self._fit(X, y)\n",
      "C:\\Users\\User\\anaconda3\\lib\\site-packages\\sklearn\\neighbors\\_classification.py:179: DataConversionWarning: A column-vector y was passed when a 1d array was expected. Please change the shape of y to (n_samples,), for example using ravel().\n",
      "  return self._fit(X, y)\n",
      "C:\\Users\\User\\anaconda3\\lib\\site-packages\\sklearn\\neighbors\\_classification.py:179: DataConversionWarning: A column-vector y was passed when a 1d array was expected. Please change the shape of y to (n_samples,), for example using ravel().\n",
      "  return self._fit(X, y)\n",
      "C:\\Users\\User\\anaconda3\\lib\\site-packages\\sklearn\\neighbors\\_classification.py:179: DataConversionWarning: A column-vector y was passed when a 1d array was expected. Please change the shape of y to (n_samples,), for example using ravel().\n",
      "  return self._fit(X, y)\n",
      "C:\\Users\\User\\anaconda3\\lib\\site-packages\\sklearn\\neighbors\\_classification.py:179: DataConversionWarning: A column-vector y was passed when a 1d array was expected. Please change the shape of y to (n_samples,), for example using ravel().\n",
      "  return self._fit(X, y)\n",
      "C:\\Users\\User\\anaconda3\\lib\\site-packages\\sklearn\\neighbors\\_classification.py:179: DataConversionWarning: A column-vector y was passed when a 1d array was expected. Please change the shape of y to (n_samples,), for example using ravel().\n",
      "  return self._fit(X, y)\n",
      "C:\\Users\\User\\anaconda3\\lib\\site-packages\\sklearn\\neighbors\\_classification.py:179: DataConversionWarning: A column-vector y was passed when a 1d array was expected. Please change the shape of y to (n_samples,), for example using ravel().\n",
      "  return self._fit(X, y)\n",
      "C:\\Users\\User\\anaconda3\\lib\\site-packages\\sklearn\\neighbors\\_classification.py:179: DataConversionWarning: A column-vector y was passed when a 1d array was expected. Please change the shape of y to (n_samples,), for example using ravel().\n",
      "  return self._fit(X, y)\n",
      "C:\\Users\\User\\anaconda3\\lib\\site-packages\\sklearn\\neighbors\\_classification.py:179: DataConversionWarning: A column-vector y was passed when a 1d array was expected. Please change the shape of y to (n_samples,), for example using ravel().\n",
      "  return self._fit(X, y)\n"
     ]
    },
    {
     "name": "stdout",
     "output_type": "stream",
     "text": [
      "Accuracy: 76.05 %\n",
      "Standard Deviation: 0.25 %\n"
     ]
    }
   ],
   "source": [
    "accuracies = cross_val_score(estimator = K_NN_classifier, X = X2_train, y = Y2_train, cv = 10)  # performs 10 different tests to get average accurecy.\n",
    "print(\"Accuracy: {:.2f} %\".format(accuracies.mean()*100))  # accuracy printed\n",
    "print(\"Standard Deviation: {:.2f} %\".format(accuracies.std()*100))  # standard deveation printed (std -avarage or std+ avarage )"
   ]
  },
  {
   "cell_type": "markdown",
   "id": "1cdba355",
   "metadata": {},
   "source": [
    "# Training the svm  on the traning sets"
   ]
  },
  {
   "cell_type": "markdown",
   "id": "2172056a",
   "metadata": {},
   "source": [
    "## For X_train and Y_Train  "
   ]
  },
  {
   "cell_type": "code",
   "execution_count": 90,
   "id": "01f9854a",
   "metadata": {},
   "outputs": [],
   "source": [
    "# set kernel to 'liner' or rbf as per requirement\n",
    "svm_classifier = SVC(kernel = 'rbf', random_state = 0)  # creating an instance of the object."
   ]
  },
  {
   "cell_type": "markdown",
   "id": "a3ed7d7b",
   "metadata": {},
   "source": [
    "## Applying Grid Search to find the best model and the best parameters"
   ]
  },
  {
   "cell_type": "code",
   "execution_count": null,
   "id": "c7b1705f",
   "metadata": {},
   "outputs": [],
   "source": [
    "parameters = [{'C': [0.25, 0.5, 0.75, 1], 'kernel': ['linear']},\n",
    "              {'C': [0.25, 0.5, 0.75, 1], 'kernel': ['rbf'], 'gamma': [0.1, 0.2, 0.3, 0.4, 0.5, 0.6, 0.7, 0.8, 0.9]}]\n",
    "grid_search = GridSearchCV(estimator = svm_classifier,\n",
    "                           param_grid = parameters,\n",
    "                           scoring = 'accuracy',\n",
    "                           cv = 10,\n",
    "                           n_jobs = -1)  # selecting all possible paramaters to go through to get the best model possible\n",
    "grid_search.fit(X_train, Y_train)  # applying the search on our model.\n",
    "best_accuracy = grid_search.best_score_  # the best accuracy \n",
    "best_parameters = grid_search.best_params_  # the best paramaters that gave the best accurecy\n",
    "print(\"Best Accuracy: {:.2f} %\".format(best_accuracy*100))  # printing best accuracy\n",
    "print(\"Best Parameters:\", best_parameters)  # printing the best parameters"
   ]
  },
  {
   "cell_type": "code",
   "execution_count": null,
   "id": "84be86ee",
   "metadata": {},
   "outputs": [],
   "source": [
    "svm_classifier.fit(X_train, Y_train)  # Building svm model."
   ]
  },
  {
   "cell_type": "markdown",
   "id": "47e78d80",
   "metadata": {},
   "source": [
    "### predicting result"
   ]
  },
  {
   "cell_type": "code",
   "execution_count": null,
   "id": "3d346ce8",
   "metadata": {},
   "outputs": [],
   "source": [
    "svm_Y_pred = svm_classifier.predict(X_test)  # Predicted results.\n",
    "print(\"pred-real\")  # printing predicted and real values.\n",
    "print(np.concatenate((svm_Y_pred.reshape(len(svm_Y_pred),1), Y_test.reshape(len(Y_test),1)),1))  # Predicted results and real results in a np array."
   ]
  },
  {
   "cell_type": "markdown",
   "id": "2b62c2eb",
   "metadata": {},
   "source": [
    "### Confusion matrix"
   ]
  },
  {
   "cell_type": "code",
   "execution_count": null,
   "id": "c2bc3008",
   "metadata": {},
   "outputs": [],
   "source": [
    "svm_cm = confusion_matrix(Y_test, svm_Y_pred)  # creating the confusion matrix\n",
    "print(\"correct_0-incorrct_1\\nincorrect_0-correct_1\")  # printing correct and inccrocet results.\n",
    "print(svm_cm)  # prininting the confusion matrix."
   ]
  },
  {
   "cell_type": "code",
   "execution_count": null,
   "id": "77cce814",
   "metadata": {},
   "outputs": [],
   "source": [
    "disp = ConfusionMatrixDisplay(confusion_matrix=svm_cm)  # creaing the confusion matrix plot.                           \n",
    "disp.plot()  # displaying data in plot\n",
    "plt.title(\"Support vector machines\")  # adding a title to plot\n",
    "plt.show()  # showing the plot"
   ]
  },
  {
   "cell_type": "markdown",
   "id": "19d883e5",
   "metadata": {},
   "source": [
    "### Getting accurcy of the model"
   ]
  },
  {
   "cell_type": "code",
   "execution_count": null,
   "id": "2df77850",
   "metadata": {},
   "outputs": [],
   "source": [
    "svm_accuracy = round(accuracy_score(Y_test, svm_Y_pred)*100, 2)  # getting model accurcy.\n",
    "round(accuracy_score(Y_test, svm_Y_pred)*100, 2)  # showing the model accurecy rounded to 2 decimal places."
   ]
  },
  {
   "cell_type": "markdown",
   "id": "544ebfe6",
   "metadata": {},
   "source": [
    "## k-Fold Cross Validation"
   ]
  },
  {
   "cell_type": "code",
   "execution_count": null,
   "id": "77aac335",
   "metadata": {},
   "outputs": [],
   "source": [
    "accuracies = cross_val_score(estimator = svm_classifier, X = X_train, y = Y_train, cv = 10) # performs 10 different tests to get average accurecy.\n",
    "print(\"Accuracy: {:.2f} %\".format(accuracies.mean()*100))  # accuracy printed\n",
    "print(\"Standard Deviation: {:.2f} %\".format(accuracies.std()*100))  # standard deveation printed (std -avarage or std+ avarage )"
   ]
  },
  {
   "cell_type": "markdown",
   "id": "6808080f",
   "metadata": {},
   "source": [
    "## For X2_train and Y2_Train  "
   ]
  },
  {
   "cell_type": "code",
   "execution_count": null,
   "id": "fe57acc0",
   "metadata": {},
   "outputs": [],
   "source": [
    "svm_classifier.fit(X2_train, Y2_train)  # Building svm model."
   ]
  },
  {
   "cell_type": "markdown",
   "id": "dccfdc15",
   "metadata": {},
   "source": [
    "## Applying Grid Search to find the best model and the best parameters"
   ]
  },
  {
   "cell_type": "code",
   "execution_count": null,
   "id": "34d97829",
   "metadata": {},
   "outputs": [],
   "source": [
    "grid_search.fit(X2_train, Y2_train)  # applying the search on our model.\n",
    "best_accuracy = grid_search.best_score_  # the best accuracy \n",
    "best_parameters = grid_search.best_params_  # the best paramaters that gave the best accurecy\n",
    "print(\"Best Accuracy: {:.2f} %\".format(best_accuracy*100))  # printing best accuracy\n",
    "print(\"Best Parameters:\", best_parameters)  # printing the best parameters"
   ]
  },
  {
   "cell_type": "markdown",
   "id": "6f2bb7b8",
   "metadata": {},
   "source": [
    "### predicting result"
   ]
  },
  {
   "cell_type": "code",
   "execution_count": null,
   "id": "f8a545c4",
   "metadata": {},
   "outputs": [],
   "source": [
    "svm_Y2_pred = svm_classifier.predict(X2_test)  # Predicted results.\n",
    "print(\"pred-real\")  # printing predicted and real values.\n",
    "print(np.concatenate((svm_Y2_pred.reshape(len(svm_Y2_pred),1), Y2_test.reshape(len(Y2_test),1)),1))  # Predicted results and real results in a np array."
   ]
  },
  {
   "cell_type": "markdown",
   "id": "e0aa879e",
   "metadata": {},
   "source": [
    "### Confusion matrix"
   ]
  },
  {
   "cell_type": "code",
   "execution_count": null,
   "id": "294b3ca6",
   "metadata": {},
   "outputs": [],
   "source": [
    "svm_cm2 = confusion_matrix(Y2_test, svm_Y2_pred)  # creating the confusion matrix\n",
    "print(\"correct_0-incorrct_1\\nincorrect_0-correct_1\")  # printing correct and inccrocet results.\n",
    "print(svm_cm2)  # prininting the confusion matrix."
   ]
  },
  {
   "cell_type": "code",
   "execution_count": null,
   "id": "901e717f",
   "metadata": {},
   "outputs": [],
   "source": [
    "disp = ConfusionMatrixDisplay(confusion_matrix=svm_cm2)  # creaing the confusion matrix plot.                           \n",
    "disp.plot()  # displaying data in plot\n",
    "plt.title(\"Support vector machines\")  # adding a title to plot\n",
    "plt.show()  # showing the plot"
   ]
  },
  {
   "cell_type": "markdown",
   "id": "8986c151",
   "metadata": {},
   "source": [
    "### Getting accurcy of the model"
   ]
  },
  {
   "cell_type": "code",
   "execution_count": null,
   "id": "87fb34c3",
   "metadata": {},
   "outputs": [],
   "source": [
    "svm_accuracy2 = round(accuracy_score(Y2_test, svm_Y2_pred)*100, 2)  # getting model accurcy.\n",
    "round(accuracy_score(Y2_test, svm_Y2_pred)*100, 2)  # showing the model accurecy rounded to 2 decimal places."
   ]
  },
  {
   "cell_type": "markdown",
   "id": "67aa7542",
   "metadata": {},
   "source": [
    "## k-Fold Cross Validation"
   ]
  },
  {
   "cell_type": "code",
   "execution_count": null,
   "id": "ff35e2ec",
   "metadata": {},
   "outputs": [],
   "source": [
    "accuracies = cross_val_score(estimator = svm_classifier, X = X2_train, y = Y2_train, cv = 10)   # performs 10 different tests to get average accurecy.\n",
    "print(\"Accuracy: {:.2f} %\".format(accuracies.mean()*100))  # accuracy printed\n",
    "print(\"Standard Deviation: {:.2f} %\".format(accuracies.std()*100))  # standard deveation printed (std -avarage or std+ avarage )"
   ]
  },
  {
   "cell_type": "markdown",
   "id": "53c79746",
   "metadata": {},
   "source": [
    "# Training the naive_bayes  on the traning sets"
   ]
  },
  {
   "cell_type": "markdown",
   "id": "ec22da5b",
   "metadata": {},
   "source": [
    "## For X_train and Y_Train  "
   ]
  },
  {
   "cell_type": "code",
   "execution_count": null,
   "id": "4eee49b5",
   "metadata": {},
   "outputs": [],
   "source": [
    "naive_bayes_classifier = GaussianNB()  # creating an instance of the object."
   ]
  },
  {
   "cell_type": "code",
   "execution_count": null,
   "id": "394eb0e1",
   "metadata": {},
   "outputs": [],
   "source": [
    "naive_bayes_classifier.fit(X_train, Y_train)  # Building naive_bayes model."
   ]
  },
  {
   "cell_type": "markdown",
   "id": "8ec5f1fc",
   "metadata": {},
   "source": [
    "### predicting result"
   ]
  },
  {
   "cell_type": "code",
   "execution_count": null,
   "id": "049aebb6",
   "metadata": {},
   "outputs": [],
   "source": [
    "naive_bayes_Y_pred = naive_bayes_classifier.predict(X_test)  # Predicted results.\n",
    "print(\"pred-real\")  # printing predicted and real values.\n",
    "print(np.concatenate((naive_bayes_Y_pred.reshape(len(naive_bayes_Y_pred),1), Y_test.reshape(len(Y_test),1)),1))  # Predicted results and real results in a np array."
   ]
  },
  {
   "cell_type": "markdown",
   "id": "6d126438",
   "metadata": {},
   "source": [
    "### Confusion matrix"
   ]
  },
  {
   "cell_type": "code",
   "execution_count": null,
   "id": "bdac1dee",
   "metadata": {},
   "outputs": [],
   "source": [
    "naive_bayes_cm = confusion_matrix(Y_test, naive_bayes_Y_pred)  # creating the confusion matrix\n",
    "print(\"correct_0-incorrct_1\\nincorrect_0-correct_1\")  # printing correct and inccrocet results.\n",
    "print(naive_bayes_cm)  # prininting the confusion matrix."
   ]
  },
  {
   "cell_type": "code",
   "execution_count": null,
   "id": "4b0df2da",
   "metadata": {},
   "outputs": [],
   "source": [
    "disp = ConfusionMatrixDisplay(confusion_matrix=naive_bayes_cm)  # creaing the confusion matrix plot.                           \n",
    "disp.plot()  # displaying data in plot\n",
    "plt.title(\"naive bayes theorm\")  # adding a title to plot\n",
    "plt.show()  # showing the plot"
   ]
  },
  {
   "cell_type": "markdown",
   "id": "199408d0",
   "metadata": {},
   "source": [
    "### Getting accurcy of the model"
   ]
  },
  {
   "cell_type": "code",
   "execution_count": null,
   "id": "0cf92cf2",
   "metadata": {},
   "outputs": [],
   "source": [
    "naive_bayes_accuracy = round(accuracy_score(Y_test, naive_bayes_Y_pred)*100, 2) # storing accurcy.\n",
    "round(accuracy_score(Y_test, naive_bayes_Y_pred)*100, 2)  # showing the model accurecy rounded to 2 decimal places."
   ]
  },
  {
   "cell_type": "markdown",
   "id": "27d826e2",
   "metadata": {},
   "source": [
    "## k-Fold Cross Validation"
   ]
  },
  {
   "cell_type": "code",
   "execution_count": null,
   "id": "58d987ce",
   "metadata": {},
   "outputs": [],
   "source": [
    "accuracies = cross_val_score(estimator = naive_bayes_classifier, X = X_train, y = Y_train, cv = 10)   # performs 10 different tests to get average accurecy.\n",
    "print(\"Accuracy: {:.2f} %\".format(accuracies.mean()*100))  # accuracy printed\n",
    "print(\"Standard Deviation: {:.2f} %\".format(accuracies.std()*100))  # standard deveation printed (std -avarage or std+ avarage )"
   ]
  },
  {
   "cell_type": "markdown",
   "id": "413ac88d",
   "metadata": {},
   "source": [
    "## For X2_train and Y2_Train  "
   ]
  },
  {
   "cell_type": "code",
   "execution_count": null,
   "id": "0be12365",
   "metadata": {},
   "outputs": [],
   "source": [
    "naive_bayes_classifier.fit(X2_train, Y2_train)  # Building naive_bayes model."
   ]
  },
  {
   "cell_type": "markdown",
   "id": "452db01f",
   "metadata": {},
   "source": [
    "### predicting result"
   ]
  },
  {
   "cell_type": "code",
   "execution_count": null,
   "id": "3af5ba6a",
   "metadata": {},
   "outputs": [],
   "source": [
    "naive_bayes_Y2_pred = naive_bayes_classifier.predict(X2_test)  # Predicted results.\n",
    "print(\"pred-real\")  # printing predicted and real values.\n",
    "print(np.concatenate((naive_bayes_Y2_pred.reshape(len(naive_bayes_Y2_pred),1), Y2_test.reshape(len(Y2_test),1)),1))  # Predicted results and real results in a np array."
   ]
  },
  {
   "cell_type": "markdown",
   "id": "b3474f69",
   "metadata": {},
   "source": [
    "### Confusion matrix"
   ]
  },
  {
   "cell_type": "code",
   "execution_count": null,
   "id": "bb400952",
   "metadata": {},
   "outputs": [],
   "source": [
    "naive_bayes_cm2 = confusion_matrix(Y2_test, naive_bayes_Y2_pred)  # creating the confusion matrix\n",
    "print(\"correct_0-incorrct_1\\nincorrect_0-correct_1\")  # printing correct and inccrocet results.\n",
    "print(naive_bayes_cm2)  # prininting the confusion matrix."
   ]
  },
  {
   "cell_type": "code",
   "execution_count": null,
   "id": "57c4da16",
   "metadata": {},
   "outputs": [],
   "source": [
    "disp = ConfusionMatrixDisplay(confusion_matrix=naive_bayes_cm2)  # creaing the confusion matrix plot.                           \n",
    "disp.plot()  # displaying data in plot\n",
    "plt.title(\"naive bayes theorm\")  # adding a title to plot\n",
    "plt.show()  # showing the plot"
   ]
  },
  {
   "cell_type": "markdown",
   "id": "ee6c6f8e",
   "metadata": {},
   "source": [
    "### Getting accurcy of the model"
   ]
  },
  {
   "cell_type": "code",
   "execution_count": null,
   "id": "63dac91c",
   "metadata": {},
   "outputs": [],
   "source": [
    "naive_bayes_accuracy2 = round(accuracy_score(Y2_test, naive_bayes_Y2_pred)*100, 2)  # getting model accuracy. \n",
    "round(accuracy_score(Y2_test, naive_bayes_Y2_pred)*100, 2)  # showing the model accurecy rounded to 2 decimal places."
   ]
  },
  {
   "cell_type": "markdown",
   "id": "c3710510",
   "metadata": {},
   "source": [
    "## k-Fold Cross Validation"
   ]
  },
  {
   "cell_type": "code",
   "execution_count": null,
   "id": "f5ddeea6",
   "metadata": {},
   "outputs": [],
   "source": [
    "accuracies = cross_val_score(estimator = naive_bayes_classifier, X = X2_train, y = Y2_train, cv = 10)   # performs 10 different tests to get average accurecy.\n",
    "print(\"Accuracy: {:.2f} %\".format(accuracies.mean()*100))  # accuracy printed\n",
    "print(\"Standard Deviation: {:.2f} %\".format(accuracies.std()*100))  # standard deveation printed (std -avarage or std+ avarage )"
   ]
  },
  {
   "cell_type": "markdown",
   "id": "3742da8a",
   "metadata": {},
   "source": [
    "# Training the DecisionTree model on the traning sets"
   ]
  },
  {
   "cell_type": "markdown",
   "id": "37265b24",
   "metadata": {},
   "source": [
    "## For X_train and Y_Train  "
   ]
  },
  {
   "cell_type": "code",
   "execution_count": null,
   "id": "fd1ef938",
   "metadata": {},
   "outputs": [],
   "source": [
    "DecisionTree_classifier = DecisionTreeClassifier(criterion = 'entropy', random_state=0)  # creating an instance of the object."
   ]
  },
  {
   "cell_type": "code",
   "execution_count": null,
   "id": "62e9eb5d",
   "metadata": {},
   "outputs": [],
   "source": [
    "DecisionTree_classifier.fit(X_train, Y_train)  # Building DecisionTree model."
   ]
  },
  {
   "cell_type": "markdown",
   "id": "11d941b0",
   "metadata": {},
   "source": [
    "### predicting result"
   ]
  },
  {
   "cell_type": "code",
   "execution_count": null,
   "id": "6c09d847",
   "metadata": {},
   "outputs": [],
   "source": [
    "DecisionTree_Y_pred = DecisionTree_classifier.predict(X_test)  # Predicted results.\n",
    "print(\"pred-real\")  # printing predicted and real values.\n",
    "print(np.concatenate((DecisionTree_Y_pred.reshape(len(DecisionTree_Y_pred),1), Y_test.reshape(len(Y_test),1)),1))  # Predicted results and real results in a np array."
   ]
  },
  {
   "cell_type": "markdown",
   "id": "186eb0f5",
   "metadata": {},
   "source": [
    "### Confusion matrix"
   ]
  },
  {
   "cell_type": "code",
   "execution_count": null,
   "id": "c8eebcbe",
   "metadata": {},
   "outputs": [],
   "source": [
    "DecisionTree_cm = confusion_matrix(Y_test, DecisionTree_Y_pred)  # creating the confusion matrix\n",
    "print(\"correct_0-incorrct_1\\nincorrect_0-correct_1\")  # printing correct and inccrocet results.\n",
    "print(DecisionTree_cm)  # prininting the confusion matrix."
   ]
  },
  {
   "cell_type": "code",
   "execution_count": null,
   "id": "c13ee736",
   "metadata": {},
   "outputs": [],
   "source": [
    "disp = ConfusionMatrixDisplay(confusion_matrix=DecisionTree_cm)  # creaing the confusion matrix plot.                           \n",
    "disp.plot()  # displaying data in plot\n",
    "plt.title(\"DecisionTree\")  # adding a title to plot\n",
    "plt.show()  # showing the plot"
   ]
  },
  {
   "cell_type": "markdown",
   "id": "7fc30f5c",
   "metadata": {},
   "source": [
    "### Getting accurcy of the model"
   ]
  },
  {
   "cell_type": "code",
   "execution_count": null,
   "id": "5d3354e9",
   "metadata": {},
   "outputs": [],
   "source": [
    "DecisionTree_accuracy = round(accuracy_score(Y_test, DecisionTree_Y_pred)*100, 2)  # storing accuracy.\n",
    "round(accuracy_score(Y_test, DecisionTree_Y_pred)*100, 2)  # showing the model accurecy rounded to 2 decimal places."
   ]
  },
  {
   "cell_type": "markdown",
   "id": "846a0285",
   "metadata": {},
   "source": [
    "## k-Fold Cross Validation"
   ]
  },
  {
   "cell_type": "code",
   "execution_count": null,
   "id": "99aa50d8",
   "metadata": {},
   "outputs": [],
   "source": [
    "accuracies = cross_val_score(estimator = DecisionTree_classifier, X = X_train, y = Y_train, cv = 10)   # performs 10 different tests to get average accurecy.\n",
    "print(\"Accuracy: {:.2f} %\".format(accuracies.mean()*100))  # accuracy printed\n",
    "print(\"Standard Deviation: {:.2f} %\".format(accuracies.std()*100))  # standard deveation printed (std -avarage or std+ avarage )"
   ]
  },
  {
   "cell_type": "markdown",
   "id": "ff8b4331",
   "metadata": {},
   "source": [
    "## For X2_train and Y2_Train  "
   ]
  },
  {
   "cell_type": "code",
   "execution_count": null,
   "id": "1fc5d398",
   "metadata": {},
   "outputs": [],
   "source": [
    "DecisionTree_classifier.fit(X2_train, Y2_train)  # Building DecisionTree model."
   ]
  },
  {
   "cell_type": "markdown",
   "id": "d180f058",
   "metadata": {},
   "source": [
    "### predicting result"
   ]
  },
  {
   "cell_type": "code",
   "execution_count": null,
   "id": "cd85d093",
   "metadata": {},
   "outputs": [],
   "source": [
    "DecisionTree_Y2_pred = DecisionTree_classifier.predict(X2_test)  # Predicted results.\n",
    "print(\"pred-real\")  # printing predicted and real values.\n",
    "print(np.concatenate((DecisionTree_Y2_pred.reshape(len(DecisionTree_Y2_pred),1), Y2_test.reshape(len(Y2_test),1)),1))  # Predicted results and real results in a np array."
   ]
  },
  {
   "cell_type": "markdown",
   "id": "b2890b90",
   "metadata": {},
   "source": [
    "### Confusion matrix"
   ]
  },
  {
   "cell_type": "code",
   "execution_count": null,
   "id": "b6bc4272",
   "metadata": {},
   "outputs": [],
   "source": [
    "DecisionTree_cm2 = confusion_matrix(Y2_test, DecisionTree_Y2_pred)  # creating the confusion matrix\n",
    "print(\"correct_0-incorrct_1\\nincorrect_0-correct_1\")  # printing correct and inccrocet results.\n",
    "print(DecisionTree_cm2)  # prininting the confusion matrix."
   ]
  },
  {
   "cell_type": "code",
   "execution_count": null,
   "id": "31f7c56d",
   "metadata": {},
   "outputs": [],
   "source": [
    "disp = ConfusionMatrixDisplay(confusion_matrix=DecisionTree_cm2)  # creaing the confusion matrix plot.                           \n",
    "disp.plot()  # displaying data in plot\n",
    "plt.title(\"DecisionTree\")  # adding a title to plot\n",
    "plt.show()  # showing the plot"
   ]
  },
  {
   "cell_type": "markdown",
   "id": "669122c2",
   "metadata": {},
   "source": [
    "### Getting accurcy of the model"
   ]
  },
  {
   "cell_type": "code",
   "execution_count": null,
   "id": "8a5591db",
   "metadata": {},
   "outputs": [],
   "source": [
    "DecisionTree_accuracy2 = round(accuracy_score(Y2_test, DecisionTree_Y2_pred)*100, 2) # storing accuray.\n",
    "round(accuracy_score(Y2_test, DecisionTree_Y2_pred)*100, 2)  # showing the model accurecy rounded to 2 decimal places."
   ]
  },
  {
   "cell_type": "markdown",
   "id": "16606584",
   "metadata": {},
   "source": [
    "## k-Fold Cross Validation"
   ]
  },
  {
   "cell_type": "code",
   "execution_count": null,
   "id": "b03bf04c",
   "metadata": {},
   "outputs": [],
   "source": [
    "accuracies = cross_val_score(estimator = DecisionTree_classifier, X = X2_train, y = Y2_train, cv = 10)   # performs 10 different tests to get average accurecy.\n",
    "print(\"Accuracy: {:.2f} %\".format(accuracies.mean()*100))  # accuracy printed\n",
    "print(\"Standard Deviation: {:.2f} %\".format(accuracies.std()*100))  # standard deveation printed (std -avarage or std+ avarage )"
   ]
  },
  {
   "cell_type": "markdown",
   "id": "bf644a84",
   "metadata": {},
   "source": [
    "# Training the randomforest model on the traning sets"
   ]
  },
  {
   "cell_type": "markdown",
   "id": "7f50cbda",
   "metadata": {},
   "source": [
    "## For X_train and Y_Train  "
   ]
  },
  {
   "cell_type": "code",
   "execution_count": null,
   "id": "d94d5e5a",
   "metadata": {},
   "outputs": [],
   "source": [
    "RandomForest_classifier = RandomForestClassifier(n_estimators = 15, criterion = 'entropy', random_state=0)  # creating an instance of the object."
   ]
  },
  {
   "cell_type": "code",
   "execution_count": null,
   "id": "7df231ff",
   "metadata": {},
   "outputs": [],
   "source": [
    "RandomForest_classifier.fit(X_train, Y_train)  # Building RandomForest model."
   ]
  },
  {
   "cell_type": "markdown",
   "id": "c87ebb29",
   "metadata": {},
   "source": [
    "### predicting result"
   ]
  },
  {
   "cell_type": "code",
   "execution_count": null,
   "id": "a06a0093",
   "metadata": {},
   "outputs": [],
   "source": [
    "RandomForest_Y_pred = RandomForest_classifier.predict(X_test)  # Predicted results.\n",
    "print(\"pred-real\")  # printing predicted and real values.\n",
    "print(np.concatenate((RandomForest_Y_pred.reshape(len(RandomForest_Y_pred),1), Y_test.reshape(len(Y_test),1)),1))  # Predicted results and real results in a np array."
   ]
  },
  {
   "cell_type": "markdown",
   "id": "60f3df54",
   "metadata": {},
   "source": [
    "### Confusion matrix"
   ]
  },
  {
   "cell_type": "code",
   "execution_count": null,
   "id": "ae1e40e2",
   "metadata": {},
   "outputs": [],
   "source": [
    "RandomForest_cm = confusion_matrix(Y_test, RandomForest_Y_pred)  # creating the confusion matrix\n",
    "print(\"correct_0-incorrct_1\\nincorrect_0-correct_1\")  # printing correct and inccrocet results.\n",
    "print(DecisionTree_cm)  # prininting the confusion matrix."
   ]
  },
  {
   "cell_type": "code",
   "execution_count": null,
   "id": "03af060f",
   "metadata": {},
   "outputs": [],
   "source": [
    "disp = ConfusionMatrixDisplay(confusion_matrix=RandomForest_cm)  # creaing the confusion matrix plot.                           \n",
    "disp.plot()  # displaying data in plot\n",
    "plt.title(\"RandomForest\")  # adding a title to plot\n",
    "plt.show()  # showing the plot"
   ]
  },
  {
   "cell_type": "markdown",
   "id": "ed895d85",
   "metadata": {},
   "source": [
    "### Getting accurcy of the model"
   ]
  },
  {
   "cell_type": "code",
   "execution_count": null,
   "id": "95b1f206",
   "metadata": {},
   "outputs": [],
   "source": [
    "RandomForest_accuracy = round(accuracy_score(Y_test, RandomForest_Y_pred)*100, 2)  # storing accuracy.\n",
    "round(accuracy_score(Y_test, RandomForest_Y_pred)*100, 2)  # showing the model accurecy rounded to 2 decimal places."
   ]
  },
  {
   "cell_type": "markdown",
   "id": "77f0c1fc",
   "metadata": {},
   "source": [
    "## k-Fold Cross Validation"
   ]
  },
  {
   "cell_type": "code",
   "execution_count": null,
   "id": "786af866",
   "metadata": {},
   "outputs": [],
   "source": [
    "accuracies = cross_val_score(estimator = RandomForest_classifier, X = X_train, y = Y_train, cv = 10)   # performs 10 different tests to get average accurecy.\n",
    "print(\"Accuracy: {:.2f} %\".format(accuracies.mean()*100))  # accuracy printed\n",
    "print(\"Standard Deviation: {:.2f} %\".format(accuracies.std()*100))  # standard deveation printed (std -avarage or std+ avarage )"
   ]
  },
  {
   "cell_type": "markdown",
   "id": "b55094ee",
   "metadata": {},
   "source": [
    "## For X2_train and Y2_Train  "
   ]
  },
  {
   "cell_type": "code",
   "execution_count": null,
   "id": "7645b783",
   "metadata": {},
   "outputs": [],
   "source": [
    "RandomForest_classifier.fit(X2_train, Y2_train)  # Building RandomForest model."
   ]
  },
  {
   "cell_type": "markdown",
   "id": "7c732db1",
   "metadata": {},
   "source": [
    "### predicting result"
   ]
  },
  {
   "cell_type": "code",
   "execution_count": null,
   "id": "cf7e73fd",
   "metadata": {},
   "outputs": [],
   "source": [
    "RandomForest_Y2_pred = RandomForest_classifier.predict(X2_test)  # Predicted results.\n",
    "print(\"pred-real\")  # printing predicted and real values.\n",
    "print(np.concatenate((RandomForest_Y2_pred.reshape(len(RandomForest_Y2_pred),1), Y2_test.reshape(len(Y2_test),1)),1))  # Predicted results and real results in a np array."
   ]
  },
  {
   "cell_type": "markdown",
   "id": "120d1307",
   "metadata": {},
   "source": [
    "### Confusion matrix"
   ]
  },
  {
   "cell_type": "code",
   "execution_count": null,
   "id": "3975b533",
   "metadata": {},
   "outputs": [],
   "source": [
    "RandomForest_cm2 = confusion_matrix(Y2_test, RandomForest_Y2_pred)  # creating the confusion matrix\n",
    "print(\"correct_0-incorrct_1\\nincorrect_0-correct_1\")  # printing correct and inccrocet results.\n",
    "print(RandomForest_cm2)  # prininting the confusion matrix."
   ]
  },
  {
   "cell_type": "code",
   "execution_count": null,
   "id": "ccde79ad",
   "metadata": {},
   "outputs": [],
   "source": [
    "disp = ConfusionMatrixDisplay(confusion_matrix=RandomForest_cm2)  # creaing the confusion matrix plot.                           \n",
    "disp.plot()  # displaying data in plot\n",
    "plt.title(\"RandomForest\")  # adding a title to plot\n",
    "plt.show()  # showing the plot"
   ]
  },
  {
   "cell_type": "markdown",
   "id": "e6250b01",
   "metadata": {},
   "source": [
    "### Getting accurcy of the model"
   ]
  },
  {
   "cell_type": "code",
   "execution_count": null,
   "id": "52065e66",
   "metadata": {},
   "outputs": [],
   "source": [
    "RandomForest_accuracy2 = round(accuracy_score(Y2_test, RandomForest_Y2_pred)*100, 2)  # storing accuracy.\n",
    "round(accuracy_score(Y2_test, RandomForest_Y2_pred)*100, 2)  # showing the model accurecy rounded to 2 decimal places."
   ]
  },
  {
   "cell_type": "markdown",
   "id": "69d21966",
   "metadata": {},
   "source": [
    "## k-Fold Cross Validation"
   ]
  },
  {
   "cell_type": "code",
   "execution_count": null,
   "id": "006ef91b",
   "metadata": {
    "scrolled": true
   },
   "outputs": [],
   "source": [
    "accuracies = cross_val_score(estimator = RandomForest_classifier, X = X2_train, y = Y2_train, cv = 10)   # performs 10 different tests to get average accurecy.\n",
    "print(\"Accuracy: {:.2f} %\".format(accuracies.mean()*100))  # accuracy printed \n",
    "print(\"Standard Deviation: {:.2f} %\".format(accuracies.std()*100))  # standard deveation printed (std -avarage or std+ avarage )"
   ]
  },
  {
   "cell_type": "markdown",
   "id": "24266fc9",
   "metadata": {},
   "source": [
    "## Training XGBoost on the Training sets"
   ]
  },
  {
   "cell_type": "markdown",
   "id": "02086753",
   "metadata": {},
   "source": [
    "## For X_train and Y_Train  "
   ]
  },
  {
   "cell_type": "code",
   "execution_count": null,
   "id": "334724c1",
   "metadata": {},
   "outputs": [],
   "source": [
    "xgboost_classifier = XGBClassifier()\n",
    "xgboost_classifier.fit(X_train, y_train)"
   ]
  },
  {
   "cell_type": "markdown",
   "id": "70ef3256",
   "metadata": {},
   "source": [
    "### predicting result"
   ]
  },
  {
   "cell_type": "code",
   "execution_count": null,
   "id": "6c78bb41",
   "metadata": {},
   "outputs": [],
   "source": [
    "DecisionTree_Y_pred = xgboost_classifier.predict(X_test)  # Predicted results.\n",
    "print(\"pred-real\")  # printing predicted and real values.\n",
    "print(np.concatenate((xgboost_Y_pred.reshape(len(xgboost_Y_pred),1), Y_test.reshape(len(Y_test),1)),1))  # Predicted results and real results in a np array."
   ]
  },
  {
   "cell_type": "markdown",
   "id": "5e43a4db",
   "metadata": {},
   "source": [
    "### Confusion matrix"
   ]
  },
  {
   "cell_type": "code",
   "execution_count": null,
   "id": "c8747652",
   "metadata": {},
   "outputs": [],
   "source": [
    "xgboost_cm = confusion_matrix(Y_test, xgboost_Y_pred)  # creating the confusion matrix\n",
    "print(\"correct_0-incorrct_1\\nincorrect_0-correct_1\")  # printing correct and inccrocet results.\n",
    "print(xgboost_cm)  # prininting the confusion matrix."
   ]
  },
  {
   "cell_type": "code",
   "execution_count": null,
   "id": "57e6f383",
   "metadata": {},
   "outputs": [],
   "source": [
    "disp = ConfusionMatrixDisplay(confusion_matrix=xgboost_cm)  # creaing the confusion matrix plot.                           \n",
    "disp.plot()  # displaying data in plot\n",
    "plt.title(\"DecisionTree\")  # adding a title to plot\n",
    "plt.show()  # showing the plot"
   ]
  },
  {
   "cell_type": "markdown",
   "id": "560abfa7",
   "metadata": {},
   "source": [
    "### Getting accurcy of the model"
   ]
  },
  {
   "cell_type": "code",
   "execution_count": null,
   "id": "f10f5e98",
   "metadata": {},
   "outputs": [],
   "source": [
    "xgboost_accuracy = round(accuracy_score(Y_test, xgboost_Y_pred)*100, 2)  # storing accuracy.\n",
    "round(accuracy_score(Y_test, xgboost_Y_pred)*100, 2)  # showing the model accurecy rounded to 2 decimal places."
   ]
  },
  {
   "cell_type": "markdown",
   "id": "8d1d92a4",
   "metadata": {},
   "source": [
    "## k-Fold Cross Validation"
   ]
  },
  {
   "cell_type": "code",
   "execution_count": null,
   "id": "8d12105e",
   "metadata": {},
   "outputs": [],
   "source": [
    "accuracies = cross_val_score(estimator = xgboost_classifier, X = X_train, y = Y_train, cv = 10)   # performs 10 different tests to get average accurecy.\n",
    "print(\"Accuracy: {:.2f} %\".format(accuracies.mean()*100))  # accuracy printed\n",
    "print(\"Standard Deviation: {:.2f} %\".format(accuracies.std()*100))  # standard deveation printed (std -avarage or std+ avarage )"
   ]
  },
  {
   "cell_type": "markdown",
   "id": "0828ad25",
   "metadata": {},
   "source": [
    "## For X2_train and Y2_Train  "
   ]
  },
  {
   "cell_type": "code",
   "execution_count": null,
   "id": "aba283a6",
   "metadata": {},
   "outputs": [],
   "source": [
    "xgboost_classifier.fit(X2_train, Y2_train)  # Building DecisionTree model."
   ]
  },
  {
   "cell_type": "markdown",
   "id": "8f2a2819",
   "metadata": {},
   "source": [
    "### predicting result"
   ]
  },
  {
   "cell_type": "code",
   "execution_count": null,
   "id": "1ec00cb2",
   "metadata": {},
   "outputs": [],
   "source": [
    "xgboost_Y2_pred = xgboost_classifier.predict(X2_test)  # Predicted results.\n",
    "print(\"pred-real\")  # printing predicted and real values.\n",
    "print(np.concatenate((xgboost_Y2_pred.reshape(len(xgboost_Y2_pred),1), Y2_test.reshape(len(Y2_test),1)),1))  # Predicted results and real results in a np array."
   ]
  },
  {
   "cell_type": "markdown",
   "id": "5f13dd07",
   "metadata": {},
   "source": [
    "### Confusion matrix"
   ]
  },
  {
   "cell_type": "code",
   "execution_count": null,
   "id": "cb1e0c09",
   "metadata": {},
   "outputs": [],
   "source": [
    "xgboost_cm2 = confusion_matrix(Y2_test, xgboost_Y2_pred)  # creating the confusion matrix\n",
    "print(\"correct_0-incorrct_1\\nincorrect_0-correct_1\")  # printing correct and inccrocet results.\n",
    "print(xgboost_cm2)  # prininting the confusion matrix."
   ]
  },
  {
   "cell_type": "code",
   "execution_count": null,
   "id": "f21f3190",
   "metadata": {},
   "outputs": [],
   "source": [
    "disp = ConfusionMatrixDisplay(confusion_matrix=xgboost_cm2)  # creaing the confusion matrix plot.                           \n",
    "disp.plot()  # displaying data in plot\n",
    "plt.title(\"xgboost\")  # adding a title to plot\n",
    "plt.show()  # showing the plot"
   ]
  },
  {
   "cell_type": "markdown",
   "id": "0d6f3dcf",
   "metadata": {},
   "source": [
    "### Getting accurcy of the model"
   ]
  },
  {
   "cell_type": "code",
   "execution_count": null,
   "id": "4e42f535",
   "metadata": {},
   "outputs": [],
   "source": [
    "xgboost_accuracy2 = round(accuracy_score(Y2_test, xgboost_Y2_pred)*100, 2) # storing accuray.\n",
    "round(accuracy_score(Y2_test, xgboost_Y2_pred)*100, 2)  # showing the model accurecy rounded to 2 decimal places."
   ]
  },
  {
   "cell_type": "markdown",
   "id": "3ddd7fad",
   "metadata": {},
   "source": [
    "## k-Fold Cross Validation"
   ]
  },
  {
   "cell_type": "code",
   "execution_count": null,
   "id": "c88c77b2",
   "metadata": {},
   "outputs": [],
   "source": [
    "accuracies = cross_val_score(estimator = xgboost_classifier, X = X2_train, y = Y2_train, cv = 10)   # performs 10 different tests to get average accurecy.\n",
    "print(\"Accuracy: {:.2f} %\".format(accuracies.mean()*100))  # accuracy printed\n",
    "print(\"Standard Deviation: {:.2f} %\".format(accuracies.std()*100))  # standard deveation printed (std -avarage or std+ avarage )"
   ]
  },
  {
   "cell_type": "code",
   "execution_count": null,
   "id": "6c46a8a4",
   "metadata": {},
   "outputs": [],
   "source": []
  },
  {
   "cell_type": "code",
   "execution_count": null,
   "id": "e80f0610",
   "metadata": {},
   "outputs": [],
   "source": []
  },
  {
   "cell_type": "code",
   "execution_count": null,
   "id": "fffaf0cc",
   "metadata": {},
   "outputs": [],
   "source": []
  },
  {
   "cell_type": "code",
   "execution_count": null,
   "id": "83cd46d2",
   "metadata": {},
   "outputs": [],
   "source": []
  },
  {
   "cell_type": "code",
   "execution_count": null,
   "id": "ba356399",
   "metadata": {},
   "outputs": [],
   "source": []
  },
  {
   "cell_type": "code",
   "execution_count": null,
   "id": "bb8d894d",
   "metadata": {},
   "outputs": [],
   "source": []
  },
  {
   "cell_type": "code",
   "execution_count": null,
   "id": "0a117307",
   "metadata": {},
   "outputs": [],
   "source": []
  },
  {
   "cell_type": "code",
   "execution_count": null,
   "id": "19f69b76",
   "metadata": {},
   "outputs": [],
   "source": []
  },
  {
   "cell_type": "code",
   "execution_count": null,
   "id": "718cb34e",
   "metadata": {},
   "outputs": [],
   "source": []
  },
  {
   "cell_type": "code",
   "execution_count": null,
   "id": "ec6e98ca",
   "metadata": {},
   "outputs": [],
   "source": []
  },
  {
   "cell_type": "code",
   "execution_count": null,
   "id": "7eb9b71e",
   "metadata": {},
   "outputs": [],
   "source": []
  },
  {
   "cell_type": "code",
   "execution_count": null,
   "id": "70e2d0a8",
   "metadata": {},
   "outputs": [],
   "source": []
  },
  {
   "cell_type": "code",
   "execution_count": null,
   "id": "b07d8881",
   "metadata": {},
   "outputs": [],
   "source": []
  },
  {
   "cell_type": "code",
   "execution_count": null,
   "id": "ac08a7dd",
   "metadata": {},
   "outputs": [],
   "source": []
  },
  {
   "cell_type": "code",
   "execution_count": null,
   "id": "f9e3523a",
   "metadata": {},
   "outputs": [],
   "source": [
    "model_name = [\"Logistic_regression_model\", \"k_nearest_neighbors\",\"Support_vector_machines_rbf\", \\\n",
    "              \"naive_bayes_theorm\",\"DecisionTree\" ,\"RandomForest\", \"xgboost\"]\n",
    "model_score_test_1 = [Logistic_accuracy, K_NN_accuracy, svm_accuracy, naive_bayes_accuracy, DecisionTree_accuracy, \\\n",
    "                      RandomForest_accuracy, xgboost_accuracy2]\n",
    "model_score_test_2 = [Logistic_accuracy2, K_NN_accuracy2, svm_accuracy2, naive_bayes_accuracy2, DecisionTree_accuracy2,\\\n",
    "                      RandomForest_accuracy2, xgboost_accuracy2]"
   ]
  },
  {
   "cell_type": "code",
   "execution_count": null,
   "id": "8d2f0b0a",
   "metadata": {},
   "outputs": [],
   "source": [
    "model = pd.DataFrame({\n",
    "    'model_name':model_name ,\n",
    "    'score_test_1': model_score_test_1,\n",
    "    'score_test_2':model_score_test_2\n",
    "})\n",
    "models.sort_values(by='score_test_1', ascending=False)"
   ]
  },
  {
   "cell_type": "code",
   "execution_count": null,
   "id": "93afc62b",
   "metadata": {},
   "outputs": [],
   "source": [
    "models.sort_values(by='score_test_2', ascending=False)"
   ]
  },
  {
   "cell_type": "code",
   "execution_count": null,
   "id": "47e65998",
   "metadata": {},
   "outputs": [],
   "source": [
    "# look it up as your about to finish this report.\n",
    "# (Adeline, 2020) has a very creative idea to compare models at the end.\n",
    "# you can make it even better by using visusals.ss"
   ]
  },
  {
   "cell_type": "code",
   "execution_count": null,
   "id": "0b159381",
   "metadata": {},
   "outputs": [],
   "source": []
  }
 ],
 "metadata": {
  "kernelspec": {
   "display_name": "Python 3",
   "language": "python",
   "name": "python3"
  },
  "language_info": {
   "codemirror_mode": {
    "name": "ipython",
    "version": 3
   },
   "file_extension": ".py",
   "mimetype": "text/x-python",
   "name": "python",
   "nbconvert_exporter": "python",
   "pygments_lexer": "ipython3",
   "version": "3.8.8"
  }
 },
 "nbformat": 4,
 "nbformat_minor": 5
}
