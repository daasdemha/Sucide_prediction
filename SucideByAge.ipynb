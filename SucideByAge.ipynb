{
 "cells": [
  {
   "cell_type": "markdown",
   "id": "e0ee02c0",
   "metadata": {},
   "source": [
    "### Importing the relevent libraries"
   ]
  },
  {
   "cell_type": "code",
   "execution_count": 25,
   "id": "7fc96920",
   "metadata": {},
   "outputs": [],
   "source": [
    "import numpy as np  # Allows us to work with arrays.\n",
    "import matplotlib.pyplot as plt  # Allows working with plots.\n",
    "import pandas as pd  # importing pandas’ library for use. Allows us to import data set and manipulate it.\n",
    "from sklearn.compose import ColumnTransformer  # helps with encoding.\n",
    "from sklearn.preprocessing import OneHotEncoder  # Does onehotencode.\n",
    "from sklearn.preprocessing import LabelEncoder   # Does 1 and 0 encoding.\n",
    "import seaborn as sns  # Allows to polt beautiful plots.\n",
    "import matplotlib.pyplot as plt # plotting.\n",
    "from sklearn.model_selection import train_test_split  # Splits dataset into test set and traning set. \n",
    "from sklearn.preprocessing import StandardScaler  # Perform the feature scaling.\n",
    "from sklearn.linear_model import LogisticRegression  # Performs logistic regression.\n",
    "from sklearn.metrics import confusion_matrix, ConfusionMatrixDisplay  # creates a confusion matrix\n",
    "from sklearn.metrics import accuracy_score  # Returns accury score of a model.\n",
    "from sklearn.neighbors import KNeighborsClassifier  # performs K Neariesst Neighobour.\n",
    "from sklearn.svm import SVC  # Performs svm\n",
    "from sklearn.naive_bayes import GaussianNB  # performs naive_bayes gaussianNB.\n",
    "from sklearn.tree import DecisionTreeClassifier  #Perfroms decision tree classification model.\n",
    "from sklearn.ensemble import RandomForestClassifier  #Performs random forest classification.\n",
    "from xgboost import XGBClassifier  # performs xgboost classification. gradiant decision trees.\n",
    "from sklearn.decomposition import PCA  # Performs model optimization\n",
    "from sklearn.decomposition import KernelPCA  # Performs model optimization\n",
    "from sklearn.discriminant_analysis import LinearDiscriminantAnalysis as LDA # performs model optimization\n",
    "from sklearn.model_selection import cross_val_score  # performs cross validation. Helps in model selection.\n",
    "from sklearn.model_selection import GridSearchCV  # helps select the best hyper parameters"
   ]
  },
  {
   "cell_type": "markdown",
   "id": "681f5cbc",
   "metadata": {},
   "source": [
    "### Importing the dataframe"
   ]
  },
  {
   "cell_type": "code",
   "execution_count": 26,
   "id": "82eef9c6",
   "metadata": {},
   "outputs": [],
   "source": [
    "sucidedataframe = pd.read_csv(\"suicidedataextrafestures.csv\")  # opens csv files and assighns them to a variable."
   ]
  },
  {
   "cell_type": "markdown",
   "id": "1041df28",
   "metadata": {},
   "source": [
    "### Checking the data from the dataframe before pre-processing"
   ]
  },
  {
   "cell_type": "code",
   "execution_count": 27,
   "id": "11364a06",
   "metadata": {},
   "outputs": [
    {
     "data": {
      "text/html": [
       "<div>\n",
       "<style scoped>\n",
       "    .dataframe tbody tr th:only-of-type {\n",
       "        vertical-align: middle;\n",
       "    }\n",
       "\n",
       "    .dataframe tbody tr th {\n",
       "        vertical-align: top;\n",
       "    }\n",
       "\n",
       "    .dataframe thead th {\n",
       "        text-align: right;\n",
       "    }\n",
       "</style>\n",
       "<table border=\"1\" class=\"dataframe\">\n",
       "  <thead>\n",
       "    <tr style=\"text-align: right;\">\n",
       "      <th></th>\n",
       "      <th>country</th>\n",
       "      <th>year</th>\n",
       "      <th>sex</th>\n",
       "      <th>age</th>\n",
       "      <th>suicides_no</th>\n",
       "      <th>population</th>\n",
       "      <th>suicidesper100k</th>\n",
       "      <th>country-year</th>\n",
       "      <th>yearlyHDI</th>\n",
       "      <th>GDPpyear</th>\n",
       "      <th>...</th>\n",
       "      <th>Unemployment, total (% of total labor force) (modeled ILO estimate)</th>\n",
       "      <th>Physicians (per 1,000 people)</th>\n",
       "      <th>Strength of legal rights index (0=weak to 12=strong)</th>\n",
       "      <th>Labor force, total</th>\n",
       "      <th>Life expectancy at birth, total (years)</th>\n",
       "      <th>Mobile cellular subscriptions (per 100 people)</th>\n",
       "      <th>Refugee population by country or territory of origin</th>\n",
       "      <th>Contributing family workers, total (% of total employment) (modeled ILO estimate)</th>\n",
       "      <th>Access to electricity (% of population)</th>\n",
       "      <th>Lower secondary completion rate, total (% of relevant age group)</th>\n",
       "    </tr>\n",
       "  </thead>\n",
       "  <tbody>\n",
       "    <tr>\n",
       "      <th>0</th>\n",
       "      <td>Argentina</td>\n",
       "      <td>1985</td>\n",
       "      <td>male</td>\n",
       "      <td>75+ years</td>\n",
       "      <td>202</td>\n",
       "      <td>363000</td>\n",
       "      <td>55.65</td>\n",
       "      <td>Argentina1985</td>\n",
       "      <td>0.694</td>\n",
       "      <td>8.841667e+10</td>\n",
       "      <td>...</td>\n",
       "      <td>0.0</td>\n",
       "      <td>0.0</td>\n",
       "      <td>0.0</td>\n",
       "      <td>0</td>\n",
       "      <td>0.0</td>\n",
       "      <td>0.0</td>\n",
       "      <td>0.0</td>\n",
       "      <td>0.0</td>\n",
       "      <td>0.0</td>\n",
       "      <td>0.0</td>\n",
       "    </tr>\n",
       "  </tbody>\n",
       "</table>\n",
       "<p>1 rows × 26 columns</p>\n",
       "</div>"
      ],
      "text/plain": [
       "     country  year   sex        age  suicides_no  population  suicidesper100k  \\\n",
       "0  Argentina  1985  male  75+ years          202      363000            55.65   \n",
       "\n",
       "    country-year  yearlyHDI      GDPpyear  ...  \\\n",
       "0  Argentina1985      0.694  8.841667e+10  ...   \n",
       "\n",
       "   Unemployment, total (% of total labor force) (modeled ILO estimate)  \\\n",
       "0                                                0.0                     \n",
       "\n",
       "  Physicians (per 1,000 people)  \\\n",
       "0                           0.0   \n",
       "\n",
       "   Strength of legal rights index (0=weak to 12=strong)  Labor force, total  \\\n",
       "0                                                0.0                      0   \n",
       "\n",
       "   Life expectancy at birth, total (years)  \\\n",
       "0                                      0.0   \n",
       "\n",
       "   Mobile cellular subscriptions (per 100 people)  \\\n",
       "0                                             0.0   \n",
       "\n",
       "   Refugee population by country or territory of origin  \\\n",
       "0                                                0.0      \n",
       "\n",
       "   Contributing family workers, total (% of total employment) (modeled ILO estimate)  \\\n",
       "0                                                0.0                                   \n",
       "\n",
       "   Access to electricity (% of population)  \\\n",
       "0                                      0.0   \n",
       "\n",
       "   Lower secondary completion rate, total (% of relevant age group)  \n",
       "0                                                0.0                 \n",
       "\n",
       "[1 rows x 26 columns]"
      ]
     },
     "execution_count": 27,
     "metadata": {},
     "output_type": "execute_result"
    }
   ],
   "source": [
    "sucidedataframe.head(1)  # Taking a look at the dataframe the first elements of the dataset."
   ]
  },
  {
   "cell_type": "code",
   "execution_count": 28,
   "id": "02af4851",
   "metadata": {},
   "outputs": [
    {
     "name": "stdout",
     "output_type": "stream",
     "text": [
      "<class 'pandas.core.frame.DataFrame'>\n",
      "RangeIndex: 15110 entries, 0 to 15109\n",
      "Data columns (total 26 columns):\n",
      " #   Column                                                                             Non-Null Count  Dtype  \n",
      "---  ------                                                                             --------------  -----  \n",
      " 0   country                                                                            15110 non-null  object \n",
      " 1   year                                                                               15110 non-null  int64  \n",
      " 2   sex                                                                                15110 non-null  object \n",
      " 3   age                                                                                15110 non-null  object \n",
      " 4   suicides_no                                                                        15110 non-null  int64  \n",
      " 5   population                                                                         15110 non-null  int64  \n",
      " 6   suicidesper100k                                                                    15110 non-null  float64\n",
      " 7   country-year                                                                       15110 non-null  object \n",
      " 8   yearlyHDI                                                                          4740 non-null   float64\n",
      " 9   GDPpyear                                                                           15110 non-null  float64\n",
      " 10  GDPpcapital                                                                        15110 non-null  int64  \n",
      " 11  generation                                                                         15110 non-null  object \n",
      " 12  suicide%                                                                           15110 non-null  float64\n",
      " 13  Individuals using the Internet (% of population)                                   15002 non-null  float64\n",
      " 14  Expense (% of GDP)                                                                 13634 non-null  float64\n",
      " 15  Compensation of employees (% of expense)                                           13538 non-null  float64\n",
      " 16  Unemployment, total (% of total labor force) (modeled ILO estimate)                15110 non-null  float64\n",
      " 17  Physicians (per 1,000 people)                                                      12782 non-null  float64\n",
      " 18  Strength of legal rights index (0=weak to 12=strong)                               5618 non-null   float64\n",
      " 19  Labor force, total                                                                 15110 non-null  int64  \n",
      " 20  Life expectancy at birth, total (years)                                            15110 non-null  float64\n",
      " 21  Mobile cellular subscriptions (per 100 people)                                     15110 non-null  float64\n",
      " 22  Refugee population by country or territory of origin                               14978 non-null  float64\n",
      " 23  Contributing family workers, total (% of total employment) (modeled ILO estimate)  15110 non-null  float64\n",
      " 24  Access to electricity (% of population)                                            14642 non-null  float64\n",
      " 25  Lower secondary completion rate, total (% of relevant age group)                   9542 non-null   float64\n",
      "dtypes: float64(16), int64(5), object(5)\n",
      "memory usage: 3.0+ MB\n"
     ]
    }
   ],
   "source": [
    "sucidedataframe.info()  # checking Basic information on the dataframe being procesed."
   ]
  },
  {
   "cell_type": "markdown",
   "id": "7ca5f0a5",
   "metadata": {},
   "source": [
    "## 1. Data pre-processing"
   ]
  },
  {
   "cell_type": "code",
   "execution_count": 29,
   "id": "52fc4810",
   "metadata": {},
   "outputs": [
    {
     "data": {
      "text/plain": [
       "Index(['country', 'year', 'sex', 'age', 'suicides_no', 'population',\n",
       "       'suicidesper100k', 'country-year', 'yearlyHDI', 'GDPpyear',\n",
       "       'GDPpcapital', 'generation', 'suicide%',\n",
       "       'Individuals using the Internet (% of population)',\n",
       "       'Expense (% of GDP)', 'Compensation of employees (% of expense)',\n",
       "       'Unemployment, total (% of total labor force) (modeled ILO estimate)',\n",
       "       'Physicians (per 1,000 people)',\n",
       "       'Strength of legal rights index (0=weak to 12=strong)',\n",
       "       'Labor force, total', 'Life expectancy at birth, total (years)',\n",
       "       'Mobile cellular subscriptions (per 100 people)',\n",
       "       'Refugee population by country or territory of origin',\n",
       "       'Contributing family workers, total (% of total employment) (modeled ILO estimate)',\n",
       "       'Access to electricity (% of population)',\n",
       "       'Lower secondary completion rate, total (% of relevant age group)'],\n",
       "      dtype='object')"
      ]
     },
     "execution_count": 29,
     "metadata": {},
     "output_type": "execute_result"
    }
   ],
   "source": [
    "sucidedataframe.columns  # The columns of the dataframe are viewed."
   ]
  },
  {
   "cell_type": "code",
   "execution_count": 30,
   "id": "ee6dbf16",
   "metadata": {},
   "outputs": [
    {
     "data": {
      "text/html": [
       "<div>\n",
       "<style scoped>\n",
       "    .dataframe tbody tr th:only-of-type {\n",
       "        vertical-align: middle;\n",
       "    }\n",
       "\n",
       "    .dataframe tbody tr th {\n",
       "        vertical-align: top;\n",
       "    }\n",
       "\n",
       "    .dataframe thead th {\n",
       "        text-align: right;\n",
       "    }\n",
       "</style>\n",
       "<table border=\"1\" class=\"dataframe\">\n",
       "  <thead>\n",
       "    <tr style=\"text-align: right;\">\n",
       "      <th></th>\n",
       "      <th>age</th>\n",
       "      <th>sex</th>\n",
       "      <th>population</th>\n",
       "      <th>suicides_no</th>\n",
       "      <th>suicides_no</th>\n",
       "    </tr>\n",
       "  </thead>\n",
       "  <tbody>\n",
       "    <tr>\n",
       "      <th>0</th>\n",
       "      <td>75+ years</td>\n",
       "      <td>male</td>\n",
       "      <td>363000</td>\n",
       "      <td>202</td>\n",
       "      <td>202</td>\n",
       "    </tr>\n",
       "  </tbody>\n",
       "</table>\n",
       "</div>"
      ],
      "text/plain": [
       "         age   sex  population  suicides_no  suicides_no\n",
       "0  75+ years  male      363000          202          202"
      ]
     },
     "execution_count": 30,
     "metadata": {},
     "output_type": "execute_result"
    }
   ],
   "source": [
    "# Below relevent data is selected that will be used in this project.\n",
    "sucidedataframe = sucidedataframe[[\"age\", \"sex\", \"population\", \"suicides_no\", \"suicides_no\"]]\n",
    "sucidedataframe.head(1)  # Taking a look at the dataframe to see if the needed changes have been made."
   ]
  },
  {
   "cell_type": "code",
   "execution_count": 31,
   "id": "4de1c37c",
   "metadata": {},
   "outputs": [
    {
     "data": {
      "text/html": [
       "<div>\n",
       "<style scoped>\n",
       "    .dataframe tbody tr th:only-of-type {\n",
       "        vertical-align: middle;\n",
       "    }\n",
       "\n",
       "    .dataframe tbody tr th {\n",
       "        vertical-align: top;\n",
       "    }\n",
       "\n",
       "    .dataframe thead th {\n",
       "        text-align: right;\n",
       "    }\n",
       "</style>\n",
       "<table border=\"1\" class=\"dataframe\">\n",
       "  <thead>\n",
       "    <tr style=\"text-align: right;\">\n",
       "      <th></th>\n",
       "      <th>Age</th>\n",
       "      <th>Gender</th>\n",
       "      <th>Population</th>\n",
       "      <th>Suicide_Committed_num</th>\n",
       "      <th>Suicide_Committed</th>\n",
       "    </tr>\n",
       "  </thead>\n",
       "  <tbody>\n",
       "    <tr>\n",
       "      <th>0</th>\n",
       "      <td>75+ years</td>\n",
       "      <td>male</td>\n",
       "      <td>363000</td>\n",
       "      <td>202</td>\n",
       "      <td>202</td>\n",
       "    </tr>\n",
       "  </tbody>\n",
       "</table>\n",
       "</div>"
      ],
      "text/plain": [
       "         Age Gender  Population  Suicide_Committed_num  Suicide_Committed\n",
       "0  75+ years   male      363000                    202                202"
      ]
     },
     "execution_count": 31,
     "metadata": {},
     "output_type": "execute_result"
    }
   ],
   "source": [
    "# Below the col names are renamed.\n",
    "sucidedataframe = sucidedataframe.set_axis([\"Age\", \"Gender\", \"Population\", \"Suicide_Committed_num\", \"Suicide_Committed\"],axis=1)\n",
    "sucidedataframe.head(1)  # Taking a look at the dataframe to see if the needed changes have been made."
   ]
  },
  {
   "cell_type": "code",
   "execution_count": 32,
   "id": "d963403d",
   "metadata": {},
   "outputs": [
    {
     "data": {
      "text/plain": [
       "(15110, 5)"
      ]
     },
     "execution_count": 32,
     "metadata": {},
     "output_type": "execute_result"
    }
   ],
   "source": [
    "sucidedataframe.shape  # The Entries and the columns of the dataframe are viewed."
   ]
  },
  {
   "cell_type": "markdown",
   "id": "8dc9be58",
   "metadata": {},
   "source": [
    "### Dealing with null values"
   ]
  },
  {
   "cell_type": "code",
   "execution_count": 33,
   "id": "5326cf5a",
   "metadata": {},
   "outputs": [
    {
     "data": {
      "text/plain": [
       "Age                      0\n",
       "Gender                   0\n",
       "Population               0\n",
       "Suicide_Committed_num    0\n",
       "Suicide_Committed        0\n",
       "dtype: int64"
      ]
     },
     "execution_count": 33,
     "metadata": {},
     "output_type": "execute_result"
    }
   ],
   "source": [
    "sucidedataframe.isnull().sum()  # Checking the dataframe for null values."
   ]
  },
  {
   "cell_type": "code",
   "execution_count": 34,
   "id": "94d2b0fd",
   "metadata": {},
   "outputs": [
    {
     "name": "stdout",
     "output_type": "stream",
     "text": [
      "The age range 5-14 years years years appears 2500 times.\n",
      "The age range 15-24 years appears 2522 times.\n",
      "The age range 25-34 years years appears 2522 times.\n",
      "The age range 35-54 years years appears 2522 times.\n",
      "The age range 55-74 years years years appears 2522 times.\n",
      "The age range 75+ years years years years appears 2522 times.\n"
     ]
    }
   ],
   "source": [
    "print('The age range 5-14 years years years appears ' + str(len(sucidedataframe[sucidedataframe['Age'] == '5-14 years'])) + ' times.')\n",
    "print('The age range 15-24 years appears ' + str(len(sucidedataframe[sucidedataframe['Age'] == '15-24 years'])) + ' times.')\n",
    "print('The age range 25-34 years years appears ' + str(len(sucidedataframe[sucidedataframe['Age'] == '25-34 years'])) + ' times.')\n",
    "print('The age range 35-54 years years appears ' + str(len(sucidedataframe[sucidedataframe['Age'] == '35-54 years'])) + ' times.')\n",
    "print('The age range 55-74 years years years appears ' + str(len(sucidedataframe[sucidedataframe['Age'] == '55-74 years'])) + ' times.')\n",
    "print('The age range 75+ years years years years appears ' + str(len(sucidedataframe[sucidedataframe['Age'] == '75+ years'])) + ' times.')"
   ]
  },
  {
   "cell_type": "code",
   "execution_count": 35,
   "id": "e3bfd1bc",
   "metadata": {},
   "outputs": [],
   "source": [
    "sucidedataframe = sucidedataframe.dropna() # droping all rows with at least one null values."
   ]
  },
  {
   "cell_type": "code",
   "execution_count": 36,
   "id": "0fa84860",
   "metadata": {},
   "outputs": [
    {
     "name": "stdout",
     "output_type": "stream",
     "text": [
      "The age range 5-14 years years years appears 2500 times.\n",
      "The age range 15-24 years appears 2522 times.\n",
      "The age range 25-34 years years appears 2522 times.\n",
      "The age range 35-54 years years appears 2522 times.\n",
      "The age range 55-74 years years years appears 2522 times.\n",
      "The age range 75+ years years years years appears 2522 times.\n"
     ]
    }
   ],
   "source": [
    "print('The age range 5-14 years years years appears ' + str(len(sucidedataframe[sucidedataframe['Age'] == '5-14 years'])) + ' times.')\n",
    "print('The age range 15-24 years appears ' + str(len(sucidedataframe[sucidedataframe['Age'] == '15-24 years'])) + ' times.')\n",
    "print('The age range 25-34 years years appears ' + str(len(sucidedataframe[sucidedataframe['Age'] == '25-34 years'])) + ' times.')\n",
    "print('The age range 35-54 years years appears ' + str(len(sucidedataframe[sucidedataframe['Age'] == '35-54 years'])) + ' times.')\n",
    "print('The age range 55-74 years years years appears ' + str(len(sucidedataframe[sucidedataframe['Age'] == '55-74 years'])) + ' times.')\n",
    "print('The age range 75+ years years years years appears ' + str(len(sucidedataframe[sucidedataframe['Age'] == '75+ years'])) + ' times.')"
   ]
  },
  {
   "cell_type": "code",
   "execution_count": 37,
   "id": "bd0379db",
   "metadata": {},
   "outputs": [
    {
     "data": {
      "text/plain": [
       "(15110, 5)"
      ]
     },
     "execution_count": 37,
     "metadata": {},
     "output_type": "execute_result"
    }
   ],
   "source": [
    "sucidedataframe.shape  # The Entries and the columns of the dataframe are viewed."
   ]
  },
  {
   "cell_type": "code",
   "execution_count": 38,
   "id": "d6dbabc8",
   "metadata": {},
   "outputs": [
    {
     "data": {
      "text/html": [
       "<div>\n",
       "<style scoped>\n",
       "    .dataframe tbody tr th:only-of-type {\n",
       "        vertical-align: middle;\n",
       "    }\n",
       "\n",
       "    .dataframe tbody tr th {\n",
       "        vertical-align: top;\n",
       "    }\n",
       "\n",
       "    .dataframe thead th {\n",
       "        text-align: right;\n",
       "    }\n",
       "</style>\n",
       "<table border=\"1\" class=\"dataframe\">\n",
       "  <thead>\n",
       "    <tr style=\"text-align: right;\">\n",
       "      <th></th>\n",
       "      <th>Population</th>\n",
       "      <th>Suicide_Committed_num</th>\n",
       "      <th>Suicide_Committed</th>\n",
       "    </tr>\n",
       "  </thead>\n",
       "  <tbody>\n",
       "    <tr>\n",
       "      <th>count</th>\n",
       "      <td>15110.0</td>\n",
       "      <td>15110.0</td>\n",
       "      <td>15110.0</td>\n",
       "    </tr>\n",
       "    <tr>\n",
       "      <th>mean</th>\n",
       "      <td>3035752.0</td>\n",
       "      <td>399.0</td>\n",
       "      <td>399.0</td>\n",
       "    </tr>\n",
       "    <tr>\n",
       "      <th>std</th>\n",
       "      <td>4908197.0</td>\n",
       "      <td>1185.0</td>\n",
       "      <td>1185.0</td>\n",
       "    </tr>\n",
       "    <tr>\n",
       "      <th>min</th>\n",
       "      <td>4400.0</td>\n",
       "      <td>0.0</td>\n",
       "      <td>0.0</td>\n",
       "    </tr>\n",
       "    <tr>\n",
       "      <th>25%</th>\n",
       "      <td>424791.0</td>\n",
       "      <td>16.0</td>\n",
       "      <td>16.0</td>\n",
       "    </tr>\n",
       "    <tr>\n",
       "      <th>50%</th>\n",
       "      <td>1052860.0</td>\n",
       "      <td>80.0</td>\n",
       "      <td>80.0</td>\n",
       "    </tr>\n",
       "    <tr>\n",
       "      <th>75%</th>\n",
       "      <td>3621750.0</td>\n",
       "      <td>275.0</td>\n",
       "      <td>275.0</td>\n",
       "    </tr>\n",
       "    <tr>\n",
       "      <th>max</th>\n",
       "      <td>43805214.0</td>\n",
       "      <td>22338.0</td>\n",
       "      <td>22338.0</td>\n",
       "    </tr>\n",
       "  </tbody>\n",
       "</table>\n",
       "</div>"
      ],
      "text/plain": [
       "       Population  Suicide_Committed_num  Suicide_Committed\n",
       "count     15110.0                15110.0            15110.0\n",
       "mean    3035752.0                  399.0              399.0\n",
       "std     4908197.0                 1185.0             1185.0\n",
       "min        4400.0                    0.0                0.0\n",
       "25%      424791.0                   16.0               16.0\n",
       "50%     1052860.0                   80.0               80.0\n",
       "75%     3621750.0                  275.0              275.0\n",
       "max    43805214.0                22338.0            22338.0"
      ]
     },
     "execution_count": 38,
     "metadata": {},
     "output_type": "execute_result"
    }
   ],
   "source": [
    "sucidedataframe.describe().round()  # Shows the count, mean, std, min, 25%, 50%, 75% and \n",
    "                                    # max of a datframe. Could be useful for feature scaling afterwords."
   ]
  },
  {
   "cell_type": "code",
   "execution_count": 39,
   "id": "1b7daa9e",
   "metadata": {},
   "outputs": [
    {
     "name": "stdout",
     "output_type": "stream",
     "text": [
      "<class 'pandas.core.frame.DataFrame'>\n",
      "Int64Index: 15110 entries, 0 to 15109\n",
      "Data columns (total 5 columns):\n",
      " #   Column                 Non-Null Count  Dtype \n",
      "---  ------                 --------------  ----- \n",
      " 0   Age                    15110 non-null  object\n",
      " 1   Gender                 15110 non-null  object\n",
      " 2   Population             15110 non-null  int64 \n",
      " 3   Suicide_Committed_num  15110 non-null  int64 \n",
      " 4   Suicide_Committed      15110 non-null  int64 \n",
      "dtypes: int64(3), object(2)\n",
      "memory usage: 708.3+ KB\n"
     ]
    }
   ],
   "source": [
    "sucidedataframe.info()  # checking Basic information on the dataframe being procesed."
   ]
  },
  {
   "cell_type": "code",
   "execution_count": 40,
   "id": "839ede3a",
   "metadata": {
    "scrolled": true
   },
   "outputs": [
    {
     "data": {
      "text/plain": [
       "Age                      0\n",
       "Gender                   0\n",
       "Population               0\n",
       "Suicide_Committed_num    0\n",
       "Suicide_Committed        0\n",
       "dtype: int64"
      ]
     },
     "execution_count": 40,
     "metadata": {},
     "output_type": "execute_result"
    }
   ],
   "source": [
    "sucidedataframe.isnull().sum()  # Checking the dataframe for null values."
   ]
  },
  {
   "cell_type": "code",
   "execution_count": 41,
   "id": "947bfe1a",
   "metadata": {},
   "outputs": [
    {
     "name": "stdout",
     "output_type": "stream",
     "text": [
      "Suicide_Committed\n",
      "0        658\n",
      "1        458\n",
      "2        398\n",
      "3        331\n",
      "4        303\n",
      "        ... \n",
      "20705      1\n",
      "21063      1\n",
      "21262      1\n",
      "21706      1\n",
      "22338      1\n",
      "Length: 1997, dtype: int64\n"
     ]
    }
   ],
   "source": [
    "print(sucidedataframe.pivot_table(columns=['Suicide_Committed'], aggfunc='size'))  # counts duplicates in the selected dataframe column."
   ]
  },
  {
   "cell_type": "markdown",
   "id": "d155dc03",
   "metadata": {},
   "source": [
    "### initial plot to visulize the data before working on it."
   ]
  },
  {
   "cell_type": "code",
   "execution_count": 42,
   "id": "606e27da",
   "metadata": {},
   "outputs": [
    {
     "data": {
      "image/png": "[encoded data removed]",
      "text/plain": [
       "<Figure size 1080x720 with 6 Axes>"
      ]
     },
     "metadata": {},
     "output_type": "display_data"
    }
   ],
   "source": [
    "plt.rcParams['figure.figsize'] = (13, 7)\n",
    "plt.style.use('seaborn-white')\n",
    "sns.catplot(x='Gender', y=\"Suicide_Committed_num\", col=\"Age\", col_wrap=3, sharey=True, data=sucidedataframe, alpha=0.5, palette = 'hot')\n",
    "plt.xticks(rotation = 90)\n",
    "plt.show()"
   ]
  },
  {
   "cell_type": "code",
   "execution_count": 43,
   "id": "040f3d0c",
   "metadata": {},
   "outputs": [
    {
     "data": {
      "image/png": "[encoded data removed]",
      "text/plain": [
       "<Figure size 936x720 with 1 Axes>"
      ]
     },
     "metadata": {},
     "output_type": "display_data"
    }
   ],
   "source": [
    "plt.style.use('seaborn')\n",
    "plt.figure(figsize= (13,10))\n",
    "sns.scatterplot(x= 'Suicide_Committed_num', y= 'Population', data = sucidedataframe, hue = 'Gender')\n",
    "plt.show()"
   ]
  },
  {
   "cell_type": "code",
   "execution_count": 44,
   "id": "3ac6da53",
   "metadata": {},
   "outputs": [
    {
     "data": {
      "image/png": "[encoded data removed]",
      "text/plain": [
       "<Figure size 1296x432 with 12 Axes>"
      ]
     },
     "metadata": {},
     "output_type": "display_data"
    }
   ],
   "source": [
    "My_plot_object = sns.FacetGrid(sucidedataframe , row = 'Gender',col = 'Age',margin_titles=True)\n",
    "My_plot_object.map(plt.scatter,\"Suicide_Committed_num\",'Population',edgecolor = 'w')\n",
    "plt.show()"
   ]
  },
  {
   "cell_type": "markdown",
   "id": "d414a023",
   "metadata": {},
   "source": [
    "### Encoding variables to  0 and 1"
   ]
  },
  {
   "cell_type": "code",
   "execution_count": 45,
   "id": "2fd7c20a",
   "metadata": {},
   "outputs": [],
   "source": [
    "le = LabelEncoder()\n",
    "sucidedataframe.Gender = le.fit_transform(sucidedataframe.Gender)"
   ]
  },
  {
   "cell_type": "code",
   "execution_count": 46,
   "id": "c6d9fae7",
   "metadata": {},
   "outputs": [
    {
     "data": {
      "text/html": [
       "<div>\n",
       "<style scoped>\n",
       "    .dataframe tbody tr th:only-of-type {\n",
       "        vertical-align: middle;\n",
       "    }\n",
       "\n",
       "    .dataframe tbody tr th {\n",
       "        vertical-align: top;\n",
       "    }\n",
       "\n",
       "    .dataframe thead th {\n",
       "        text-align: right;\n",
       "    }\n",
       "</style>\n",
       "<table border=\"1\" class=\"dataframe\">\n",
       "  <thead>\n",
       "    <tr style=\"text-align: right;\">\n",
       "      <th></th>\n",
       "      <th>Age</th>\n",
       "      <th>Gender</th>\n",
       "      <th>Population</th>\n",
       "      <th>Suicide_Committed_num</th>\n",
       "      <th>Suicide_Committed</th>\n",
       "    </tr>\n",
       "  </thead>\n",
       "  <tbody>\n",
       "    <tr>\n",
       "      <th>0</th>\n",
       "      <td>75+ years</td>\n",
       "      <td>1</td>\n",
       "      <td>363000</td>\n",
       "      <td>202</td>\n",
       "      <td>202</td>\n",
       "    </tr>\n",
       "    <tr>\n",
       "      <th>1</th>\n",
       "      <td>55-74 years</td>\n",
       "      <td>1</td>\n",
       "      <td>1997000</td>\n",
       "      <td>485</td>\n",
       "      <td>485</td>\n",
       "    </tr>\n",
       "    <tr>\n",
       "      <th>2</th>\n",
       "      <td>35-54 years</td>\n",
       "      <td>1</td>\n",
       "      <td>3346300</td>\n",
       "      <td>414</td>\n",
       "      <td>414</td>\n",
       "    </tr>\n",
       "    <tr>\n",
       "      <th>3</th>\n",
       "      <td>55-74 years</td>\n",
       "      <td>0</td>\n",
       "      <td>2304000</td>\n",
       "      <td>210</td>\n",
       "      <td>210</td>\n",
       "    </tr>\n",
       "    <tr>\n",
       "      <th>4</th>\n",
       "      <td>25-34 years</td>\n",
       "      <td>1</td>\n",
       "      <td>2234200</td>\n",
       "      <td>177</td>\n",
       "      <td>177</td>\n",
       "    </tr>\n",
       "  </tbody>\n",
       "</table>\n",
       "</div>"
      ],
      "text/plain": [
       "           Age  Gender  Population  Suicide_Committed_num  Suicide_Committed\n",
       "0    75+ years       1      363000                    202                202\n",
       "1  55-74 years       1     1997000                    485                485\n",
       "2  35-54 years       1     3346300                    414                414\n",
       "3  55-74 years       0     2304000                    210                210\n",
       "4  25-34 years       1     2234200                    177                177"
      ]
     },
     "execution_count": 46,
     "metadata": {},
     "output_type": "execute_result"
    }
   ],
   "source": [
    "sucidedataframe.head()"
   ]
  },
  {
   "cell_type": "code",
   "execution_count": 47,
   "id": "83f63027",
   "metadata": {},
   "outputs": [
    {
     "name": "stdout",
     "output_type": "stream",
     "text": [
      "Suicide_Committed\n",
      "0        658\n",
      "1        458\n",
      "2        398\n",
      "3        331\n",
      "4        303\n",
      "        ... \n",
      "20705      1\n",
      "21063      1\n",
      "21262      1\n",
      "21706      1\n",
      "22338      1\n",
      "Length: 1997, dtype: int64\n"
     ]
    }
   ],
   "source": [
    "print(sucidedataframe.pivot_table(columns=['Suicide_Committed'], aggfunc='size'))  # counts duplicates in the selected dataframe column."
   ]
  },
  {
   "cell_type": "code",
   "execution_count": 48,
   "id": "96b7458f",
   "metadata": {},
   "outputs": [],
   "source": [
    "sucidedataframe.loc[sucidedataframe[\"Suicide_Committed\"] > 0, \"Suicide_Committed\"] = 1  # Encoding everthig above 0 to 1."
   ]
  },
  {
   "cell_type": "code",
   "execution_count": 49,
   "id": "dad47788",
   "metadata": {},
   "outputs": [
    {
     "name": "stdout",
     "output_type": "stream",
     "text": [
      "Suicide_Committed\n",
      "0      658\n",
      "1    14452\n",
      "dtype: int64\n"
     ]
    }
   ],
   "source": [
    "print(sucidedataframe.pivot_table(columns=['Suicide_Committed'], aggfunc='size'))  # counts duplicates in the selected dataframe column."
   ]
  },
  {
   "cell_type": "code",
   "execution_count": 50,
   "id": "004118be",
   "metadata": {},
   "outputs": [],
   "source": [
    "sucidedataframe['Suicide_Committed'] = sucidedataframe['Suicide_Committed'].astype(np.int64)  # converting float to int."
   ]
  },
  {
   "cell_type": "code",
   "execution_count": 51,
   "id": "2e65947d",
   "metadata": {},
   "outputs": [
    {
     "name": "stdout",
     "output_type": "stream",
     "text": [
      "Suicide_Committed\n",
      "0      658\n",
      "1    14452\n",
      "dtype: int64\n"
     ]
    }
   ],
   "source": [
    "print(sucidedataframe.pivot_table(columns=['Suicide_Committed'], aggfunc='size'))  # counts duplicates in the selected dataframe column."
   ]
  },
  {
   "cell_type": "markdown",
   "id": "d4a78be8",
   "metadata": {},
   "source": [
    "### selecting X and Y values "
   ]
  },
  {
   "cell_type": "code",
   "execution_count": 52,
   "id": "65a58cda",
   "metadata": {},
   "outputs": [],
   "source": [
    "X = sucidedataframe.iloc[:, 0:3].values  # selecting the values for the X variable."
   ]
  },
  {
   "cell_type": "code",
   "execution_count": 53,
   "id": "f02a53d4",
   "metadata": {},
   "outputs": [],
   "source": [
    "Y = sucidedataframe[[\"Suicide_Committed\"]].to_numpy()  # selecting the values for the Y variable. # done using .to_numpy and not \n",
    "                                                       # .iloc as .to_numpy creates a horizontal bar while .iloc creates a \n",
    "                                                       # horizontal bar which will not alighn with the x values."
   ]
  },
  {
   "cell_type": "code",
   "execution_count": 54,
   "id": "c3ddc8c4",
   "metadata": {},
   "outputs": [
    {
     "data": {
      "text/html": [
       "<div>\n",
       "<style scoped>\n",
       "    .dataframe tbody tr th:only-of-type {\n",
       "        vertical-align: middle;\n",
       "    }\n",
       "\n",
       "    .dataframe tbody tr th {\n",
       "        vertical-align: top;\n",
       "    }\n",
       "\n",
       "    .dataframe thead th {\n",
       "        text-align: right;\n",
       "    }\n",
       "</style>\n",
       "<table border=\"1\" class=\"dataframe\">\n",
       "  <thead>\n",
       "    <tr style=\"text-align: right;\">\n",
       "      <th></th>\n",
       "      <th>Age</th>\n",
       "      <th>Gender</th>\n",
       "      <th>Population</th>\n",
       "      <th>Suicide_Committed_num</th>\n",
       "      <th>Suicide_Committed</th>\n",
       "    </tr>\n",
       "  </thead>\n",
       "  <tbody>\n",
       "    <tr>\n",
       "      <th>0</th>\n",
       "      <td>75+ years</td>\n",
       "      <td>1</td>\n",
       "      <td>363000</td>\n",
       "      <td>202</td>\n",
       "      <td>1</td>\n",
       "    </tr>\n",
       "    <tr>\n",
       "      <th>1</th>\n",
       "      <td>55-74 years</td>\n",
       "      <td>1</td>\n",
       "      <td>1997000</td>\n",
       "      <td>485</td>\n",
       "      <td>1</td>\n",
       "    </tr>\n",
       "    <tr>\n",
       "      <th>2</th>\n",
       "      <td>35-54 years</td>\n",
       "      <td>1</td>\n",
       "      <td>3346300</td>\n",
       "      <td>414</td>\n",
       "      <td>1</td>\n",
       "    </tr>\n",
       "  </tbody>\n",
       "</table>\n",
       "</div>"
      ],
      "text/plain": [
       "           Age  Gender  Population  Suicide_Committed_num  Suicide_Committed\n",
       "0    75+ years       1      363000                    202                  1\n",
       "1  55-74 years       1     1997000                    485                  1\n",
       "2  35-54 years       1     3346300                    414                  1"
      ]
     },
     "execution_count": 54,
     "metadata": {},
     "output_type": "execute_result"
    }
   ],
   "source": [
    "sucidedataframe.head(3)"
   ]
  },
  {
   "cell_type": "code",
   "execution_count": 55,
   "id": "2bb03526",
   "metadata": {},
   "outputs": [
    {
     "data": {
      "text/html": [
       "<div>\n",
       "<style scoped>\n",
       "    .dataframe tbody tr th:only-of-type {\n",
       "        vertical-align: middle;\n",
       "    }\n",
       "\n",
       "    .dataframe tbody tr th {\n",
       "        vertical-align: top;\n",
       "    }\n",
       "\n",
       "    .dataframe thead th {\n",
       "        text-align: right;\n",
       "    }\n",
       "</style>\n",
       "<table border=\"1\" class=\"dataframe\">\n",
       "  <thead>\n",
       "    <tr style=\"text-align: right;\">\n",
       "      <th></th>\n",
       "      <th>Age</th>\n",
       "      <th>Gender</th>\n",
       "      <th>Population</th>\n",
       "      <th>Suicide_Committed_num</th>\n",
       "      <th>Suicide_Committed</th>\n",
       "    </tr>\n",
       "  </thead>\n",
       "  <tbody>\n",
       "    <tr>\n",
       "      <th>0</th>\n",
       "      <td>75+ years</td>\n",
       "      <td>1</td>\n",
       "      <td>363000</td>\n",
       "      <td>202</td>\n",
       "      <td>1</td>\n",
       "    </tr>\n",
       "    <tr>\n",
       "      <th>1</th>\n",
       "      <td>55-74 years</td>\n",
       "      <td>1</td>\n",
       "      <td>1997000</td>\n",
       "      <td>485</td>\n",
       "      <td>1</td>\n",
       "    </tr>\n",
       "    <tr>\n",
       "      <th>2</th>\n",
       "      <td>35-54 years</td>\n",
       "      <td>1</td>\n",
       "      <td>3346300</td>\n",
       "      <td>414</td>\n",
       "      <td>1</td>\n",
       "    </tr>\n",
       "    <tr>\n",
       "      <th>3</th>\n",
       "      <td>55-74 years</td>\n",
       "      <td>0</td>\n",
       "      <td>2304000</td>\n",
       "      <td>210</td>\n",
       "      <td>1</td>\n",
       "    </tr>\n",
       "    <tr>\n",
       "      <th>4</th>\n",
       "      <td>25-34 years</td>\n",
       "      <td>1</td>\n",
       "      <td>2234200</td>\n",
       "      <td>177</td>\n",
       "      <td>1</td>\n",
       "    </tr>\n",
       "  </tbody>\n",
       "</table>\n",
       "</div>"
      ],
      "text/plain": [
       "           Age  Gender  Population  Suicide_Committed_num  Suicide_Committed\n",
       "0    75+ years       1      363000                    202                  1\n",
       "1  55-74 years       1     1997000                    485                  1\n",
       "2  35-54 years       1     3346300                    414                  1\n",
       "3  55-74 years       0     2304000                    210                  1\n",
       "4  25-34 years       1     2234200                    177                  1"
      ]
     },
     "execution_count": 55,
     "metadata": {},
     "output_type": "execute_result"
    }
   ],
   "source": [
    "sucidedataframe.head()  # Taking a look at the dataframe the first elements of the dataset."
   ]
  },
  {
   "cell_type": "code",
   "execution_count": 56,
   "id": "adec7a91",
   "metadata": {},
   "outputs": [
    {
     "data": {
      "text/html": [
       "<div>\n",
       "<style scoped>\n",
       "    .dataframe tbody tr th:only-of-type {\n",
       "        vertical-align: middle;\n",
       "    }\n",
       "\n",
       "    .dataframe tbody tr th {\n",
       "        vertical-align: top;\n",
       "    }\n",
       "\n",
       "    .dataframe thead th {\n",
       "        text-align: right;\n",
       "    }\n",
       "</style>\n",
       "<table border=\"1\" class=\"dataframe\">\n",
       "  <thead>\n",
       "    <tr style=\"text-align: right;\">\n",
       "      <th></th>\n",
       "      <th>Age</th>\n",
       "      <th>Gender</th>\n",
       "      <th>Population</th>\n",
       "      <th>Suicide_Committed_num</th>\n",
       "      <th>Suicide_Committed</th>\n",
       "    </tr>\n",
       "  </thead>\n",
       "  <tbody>\n",
       "    <tr>\n",
       "      <th>0</th>\n",
       "      <td>75+ years</td>\n",
       "      <td>1</td>\n",
       "      <td>363000</td>\n",
       "      <td>202</td>\n",
       "      <td>1</td>\n",
       "    </tr>\n",
       "    <tr>\n",
       "      <th>1</th>\n",
       "      <td>55-74 years</td>\n",
       "      <td>1</td>\n",
       "      <td>1997000</td>\n",
       "      <td>485</td>\n",
       "      <td>1</td>\n",
       "    </tr>\n",
       "    <tr>\n",
       "      <th>2</th>\n",
       "      <td>35-54 years</td>\n",
       "      <td>1</td>\n",
       "      <td>3346300</td>\n",
       "      <td>414</td>\n",
       "      <td>1</td>\n",
       "    </tr>\n",
       "    <tr>\n",
       "      <th>3</th>\n",
       "      <td>55-74 years</td>\n",
       "      <td>0</td>\n",
       "      <td>2304000</td>\n",
       "      <td>210</td>\n",
       "      <td>1</td>\n",
       "    </tr>\n",
       "    <tr>\n",
       "      <th>4</th>\n",
       "      <td>25-34 years</td>\n",
       "      <td>1</td>\n",
       "      <td>2234200</td>\n",
       "      <td>177</td>\n",
       "      <td>1</td>\n",
       "    </tr>\n",
       "  </tbody>\n",
       "</table>\n",
       "</div>"
      ],
      "text/plain": [
       "           Age  Gender  Population  Suicide_Committed_num  Suicide_Committed\n",
       "0    75+ years       1      363000                    202                  1\n",
       "1  55-74 years       1     1997000                    485                  1\n",
       "2  35-54 years       1     3346300                    414                  1\n",
       "3  55-74 years       0     2304000                    210                  1\n",
       "4  25-34 years       1     2234200                    177                  1"
      ]
     },
     "execution_count": 56,
     "metadata": {},
     "output_type": "execute_result"
    }
   ],
   "source": [
    "sucidedataframe.head()  # Taking a look at the dataframe the first elements of the dataset."
   ]
  },
  {
   "cell_type": "code",
   "execution_count": 59,
   "id": "16660812",
   "metadata": {},
   "outputs": [
    {
     "name": "stdout",
     "output_type": "stream",
     "text": [
      "[['75+ years' 1 363000]\n",
      " ['55-74 years' 1 1997000]\n",
      " ['35-54 years' 1 3346300]\n",
      " ...\n",
      " ['5-14 years' 1 2762158]\n",
      " ['5-14 years' 0 2631600]\n",
      " ['55-74 years' 0 1438935]]\n"
     ]
    }
   ],
   "source": [
    "print(X)  # Printing numpy array X."
   ]
  },
  {
   "cell_type": "code",
   "execution_count": 1177,
   "id": "8f8220a4",
   "metadata": {},
   "outputs": [
    {
     "name": "stdout",
     "output_type": "stream",
     "text": [
      "[[1]\n",
      " [1]\n",
      " [1]\n",
      " ...\n",
      " [0]\n",
      " [0]\n",
      " [0]]\n"
     ]
    }
   ],
   "source": [
    "print(Y)  # Printing numpy array Y."
   ]
  },
  {
   "cell_type": "markdown",
   "id": "7867cbee",
   "metadata": {},
   "source": [
    "### One Hot Encoding"
   ]
  },
  {
   "cell_type": "code",
   "execution_count": 1178,
   "id": "e5cbdbdb",
   "metadata": {},
   "outputs": [
    {
     "data": {
      "text/plain": [
       "Age\n",
       "15-24 years    6010\n",
       "25-34 years    6010\n",
       "35-54 years    6010\n",
       "5-14 years     6010\n",
       "55-74 years    6010\n",
       "75+ years      6010\n",
       "dtype: int64"
      ]
     },
     "execution_count": 1178,
     "metadata": {},
     "output_type": "execute_result"
    }
   ],
   "source": [
    "# count duplicates function learned from: https://datatofish.com/count-duplicates-pandas/\n",
    "sucidedataframe.pivot_table(columns=['Age'], aggfunc='size')  # counts duplicates in the selected dataframe column."
   ]
  },
  {
   "cell_type": "code",
   "execution_count": 24,
   "id": "ebed7843",
   "metadata": {},
   "outputs": [
    {
     "ename": "NameError",
     "evalue": "name 'X' is not defined",
     "output_type": "error",
     "traceback": [
      "\u001b[1;31m---------------------------------------------------------------------------\u001b[0m",
      "\u001b[1;31mNameError\u001b[0m                                 Traceback (most recent call last)",
      "\u001b[1;32m<ipython-input-24-5f63a2ca8b1b>\u001b[0m in \u001b[0;36m<module>\u001b[1;34m\u001b[0m\n\u001b[0;32m      3\u001b[0m \u001b[1;31m# remainder='what to do with the remaining columns'\u001b[0m\u001b[1;33m\u001b[0m\u001b[1;33m\u001b[0m\u001b[1;33m\u001b[0m\u001b[0m\n\u001b[0;32m      4\u001b[0m \u001b[1;33m\u001b[0m\u001b[0m\n\u001b[1;32m----> 5\u001b[1;33m \u001b[0mX\u001b[0m \u001b[1;33m=\u001b[0m \u001b[0mnp\u001b[0m\u001b[1;33m.\u001b[0m\u001b[0marray\u001b[0m\u001b[1;33m(\u001b[0m\u001b[0mct\u001b[0m\u001b[1;33m.\u001b[0m\u001b[0mfit_transform\u001b[0m\u001b[1;33m(\u001b[0m\u001b[0mX\u001b[0m\u001b[1;33m)\u001b[0m\u001b[1;33m)\u001b[0m\u001b[1;33m.\u001b[0m\u001b[0mtoarray\u001b[0m\u001b[1;33m(\u001b[0m\u001b[1;33m)\u001b[0m  \u001b[1;31m# applies the above method on the given array.\u001b[0m\u001b[1;33m\u001b[0m\u001b[1;33m\u001b[0m\u001b[0m\n\u001b[0m",
      "\u001b[1;31mNameError\u001b[0m: name 'X' is not defined"
     ]
    }
   ],
   "source": [
    "ct = ColumnTransformer(transformers=[('encoder', OneHotEncoder(), [0])], remainder='passthrough')    \n",
    "# transformers= [('what to do', method , [index of column to apply method on])]\n",
    "# remainder='what to do with the remaining columns'\n",
    "\n",
    "X = np.array(ct.fit_transform(X))  # applies the above method on the given array."
   ]
  },
  {
   "cell_type": "code",
   "execution_count": 1180,
   "id": "3553ccc4",
   "metadata": {},
   "outputs": [
    {
     "name": "stdout",
     "output_type": "stream",
     "text": [
      "[[1.0 0.0 0.0 ... 0.0 0 289700.0]\n",
      " [0.0 1.0 0.0 ... 0.0 0 257200.0]\n",
      " [0.0 0.0 1.0 ... 0.0 0 278800.0]\n",
      " ...\n",
      " [0.0 0.0 0.0 ... 0.0 1 7291.0]\n",
      " [0.0 0.0 0.0 ... 0.0 1 12615.0]\n",
      " [0.0 0.0 0.0 ... 1.0 1 2496.0]]\n"
     ]
    }
   ],
   "source": [
    "print(X)  # Printing numpy array X."
   ]
  },
  {
   "cell_type": "code",
   "execution_count": 1181,
   "id": "7dc3ee9a",
   "metadata": {},
   "outputs": [],
   "source": [
    "X = np.delete(X, -1, 1)  # delete second column of C"
   ]
  },
  {
   "cell_type": "code",
   "execution_count": 1182,
   "id": "4e6d29d5",
   "metadata": {},
   "outputs": [
    {
     "name": "stdout",
     "output_type": "stream",
     "text": [
      "[[1.0 0.0 0.0 ... 0.0 0.0 0]\n",
      " [0.0 1.0 0.0 ... 0.0 0.0 0]\n",
      " [0.0 0.0 1.0 ... 0.0 0.0 0]\n",
      " ...\n",
      " [0.0 0.0 0.0 ... 0.0 0.0 1]\n",
      " [0.0 0.0 0.0 ... 1.0 0.0 1]\n",
      " [0.0 0.0 0.0 ... 0.0 1.0 1]]\n"
     ]
    }
   ],
   "source": [
    "print(X)  # Printing numpy array Y."
   ]
  },
  {
   "cell_type": "code",
   "execution_count": 1183,
   "id": "5eebb38c",
   "metadata": {},
   "outputs": [
    {
     "data": {
      "text/html": [
       "<div>\n",
       "<style scoped>\n",
       "    .dataframe tbody tr th:only-of-type {\n",
       "        vertical-align: middle;\n",
       "    }\n",
       "\n",
       "    .dataframe tbody tr th {\n",
       "        vertical-align: top;\n",
       "    }\n",
       "\n",
       "    .dataframe thead th {\n",
       "        text-align: right;\n",
       "    }\n",
       "</style>\n",
       "<table border=\"1\" class=\"dataframe\">\n",
       "  <thead>\n",
       "    <tr style=\"text-align: right;\">\n",
       "      <th></th>\n",
       "      <th>Age</th>\n",
       "      <th>Gender</th>\n",
       "      <th>Population</th>\n",
       "      <th>Suicide_Committed_num</th>\n",
       "      <th>Suicide_Committed</th>\n",
       "    </tr>\n",
       "  </thead>\n",
       "  <tbody>\n",
       "    <tr>\n",
       "      <th>24</th>\n",
       "      <td>15-24 years</td>\n",
       "      <td>0</td>\n",
       "      <td>289700.0</td>\n",
       "      <td>14.0</td>\n",
       "      <td>1</td>\n",
       "    </tr>\n",
       "    <tr>\n",
       "      <th>25</th>\n",
       "      <td>25-34 years</td>\n",
       "      <td>0</td>\n",
       "      <td>257200.0</td>\n",
       "      <td>4.0</td>\n",
       "      <td>1</td>\n",
       "    </tr>\n",
       "  </tbody>\n",
       "</table>\n",
       "</div>"
      ],
      "text/plain": [
       "            Age  Gender  Population  Suicide_Committed_num  Suicide_Committed\n",
       "24  15-24 years       0    289700.0                   14.0                  1\n",
       "25  25-34 years       0    257200.0                    4.0                  1"
      ]
     },
     "execution_count": 1183,
     "metadata": {},
     "output_type": "execute_result"
    }
   ],
   "source": [
    "sucidedataframe.head(2)  # Taking a look at the dataframe the first elements of the dataset."
   ]
  },
  {
   "cell_type": "markdown",
   "id": "721c3b45",
   "metadata": {},
   "source": [
    "### Selecting X2 and Y2 values"
   ]
  },
  {
   "cell_type": "code",
   "execution_count": 1184,
   "id": "3cb467f4",
   "metadata": {},
   "outputs": [],
   "source": [
    "X2 = sucidedataframe[[\"Age\",\"Suicide_Committed_num\" ,\"Population\"]].to_numpy()  # selecting the values for the X2 variable."
   ]
  },
  {
   "cell_type": "code",
   "execution_count": 1185,
   "id": "cd02d1d0",
   "metadata": {},
   "outputs": [],
   "source": [
    "Y2 = sucidedataframe[[\"Gender\"]].to_numpy()  # selecting the values for the Y2 variable."
   ]
  },
  {
   "cell_type": "code",
   "execution_count": 1186,
   "id": "fdad171a",
   "metadata": {},
   "outputs": [
    {
     "name": "stdout",
     "output_type": "stream",
     "text": [
      "[['15-24 years' 14.0 289700.0]\n",
      " ['25-34 years' 4.0 257200.0]\n",
      " ['35-54 years' 6.0 278800.0]\n",
      " ...\n",
      " ['5-14 years' 0.0 7291.0]\n",
      " ['55-74 years' 0.0 12615.0]\n",
      " ['75+ years' 0.0 2496.0]]\n"
     ]
    }
   ],
   "source": [
    "print(X2)  # Printing numpy array X2."
   ]
  },
  {
   "cell_type": "code",
   "execution_count": 1187,
   "id": "c04cf415",
   "metadata": {},
   "outputs": [
    {
     "name": "stdout",
     "output_type": "stream",
     "text": [
      "[[0]\n",
      " [0]\n",
      " [0]\n",
      " ...\n",
      " [1]\n",
      " [1]\n",
      " [1]]\n"
     ]
    }
   ],
   "source": [
    "print(Y2)  # Printing numpy array Y2."
   ]
  },
  {
   "cell_type": "markdown",
   "id": "1464be8b",
   "metadata": {},
   "source": [
    "### One Hot Encoding"
   ]
  },
  {
   "cell_type": "code",
   "execution_count": 1188,
   "id": "3aa73e7d",
   "metadata": {},
   "outputs": [],
   "source": [
    "X2 = np.array(ct.fit_transform(X2))  # applies the above method on the given array."
   ]
  },
  {
   "cell_type": "code",
   "execution_count": 1189,
   "id": "690aa8f3",
   "metadata": {},
   "outputs": [
    {
     "name": "stdout",
     "output_type": "stream",
     "text": [
      "[[1.0 0.0 0.0 ... 0.0 14.0 289700.0]\n",
      " [0.0 1.0 0.0 ... 0.0 4.0 257200.0]\n",
      " [0.0 0.0 1.0 ... 0.0 6.0 278800.0]\n",
      " ...\n",
      " [0.0 0.0 0.0 ... 0.0 0.0 7291.0]\n",
      " [0.0 0.0 0.0 ... 0.0 0.0 12615.0]\n",
      " [0.0 0.0 0.0 ... 1.0 0.0 2496.0]]\n"
     ]
    }
   ],
   "source": [
    "print(X2)  # Printing numpy array X2."
   ]
  },
  {
   "cell_type": "code",
   "execution_count": 1190,
   "id": "ddc6abda",
   "metadata": {},
   "outputs": [],
   "source": [
    "# %run MyOtherNotebook.ipynb use later to seprate code in note book. if allowed."
   ]
  },
  {
   "cell_type": "markdown",
   "id": "e7f842b6",
   "metadata": {},
   "source": [
    "## Spliting the datasets into a training and test set "
   ]
  },
  {
   "cell_type": "code",
   "execution_count": 1191,
   "id": "a5234297",
   "metadata": {},
   "outputs": [],
   "source": [
    "X_train, X_test, Y_train, Y_test = train_test_split(X, Y, test_size = 0.2, random_state = 1)\n",
    "X2_train, X2_test, Y2_train, Y2_test = train_test_split(X2, Y2, test_size = 0.2, random_state = 1)\n",
    "# test_size = 0.2               # splitting the data into 80 and 20 percent between the training and test set           \n",
    "                                            # to get the best results.                                                           \n",
    "# random_state = 1         # resetting the  random seed"
   ]
  },
  {
   "cell_type": "code",
   "execution_count": 1192,
   "id": "5d0b568a",
   "metadata": {},
   "outputs": [
    {
     "name": "stdout",
     "output_type": "stream",
     "text": [
      "The length of X_train is  28848  and the length of Y_train is  28848\n",
      "The length of X_test is  7212  and the length of Y_test is  7212\n"
     ]
    }
   ],
   "source": [
    "# print the lenghth of both test and train set to see if there equally split.\n",
    "print(\"The length of X_train is \",len(X_train), \" and the length of Y_train is \", len(Y_train))  \n",
    "print(\"The length of X_test is \",len(X_test), \" and the length of Y_test is \", len(Y_test))"
   ]
  },
  {
   "cell_type": "code",
   "execution_count": 1193,
   "id": "7faf1e4c",
   "metadata": {},
   "outputs": [
    {
     "name": "stdout",
     "output_type": "stream",
     "text": [
      "The length of X2_train is  28848  and the length of Y2_train is  28848\n",
      "The length of X2_test is  7212  and the length of Y2_test is  7212\n"
     ]
    }
   ],
   "source": [
    "# print the lenghth of both test and train set to see if there equally split.\n",
    "print(\"The length of X2_train is \",len(X2_train), \" and the length of Y2_train is \", len(Y2_train))\n",
    "print(\"The length of X2_test is \",len(X2_test), \" and the length of Y2_test is \", len(Y2_test))"
   ]
  },
  {
   "cell_type": "code",
   "execution_count": 1194,
   "id": "08e87fc9",
   "metadata": {},
   "outputs": [
    {
     "name": "stdout",
     "output_type": "stream",
     "text": [
      "X_test  [[1.0 0.0 0.0 ... 0.0 0.0 1]\n",
      " [0.0 0.0 0.0 ... 0.0 1.0 1]\n",
      " [0.0 0.0 0.0 ... 1.0 0.0 1]\n",
      " ...\n",
      " [0.0 0.0 0.0 ... 1.0 0.0 1]\n",
      " [0.0 0.0 1.0 ... 0.0 0.0 0]\n",
      " [1.0 0.0 0.0 ... 0.0 0.0 0]] \n",
      "Y_test  [[1]\n",
      " [0]\n",
      " [1]\n",
      " ...\n",
      " [1]\n",
      " [1]\n",
      " [1]] \n",
      "X_train  [[0.0 0.0 0.0 ... 1.0 0.0 0]\n",
      " [0.0 0.0 0.0 ... 0.0 0.0 1]\n",
      " [0.0 0.0 0.0 ... 1.0 0.0 1]\n",
      " ...\n",
      " [0.0 0.0 1.0 ... 0.0 0.0 1]\n",
      " [0.0 0.0 0.0 ... 1.0 0.0 0]\n",
      " [0.0 0.0 0.0 ... 0.0 0.0 0]] \n",
      "Y_train  [[1]\n",
      " [0]\n",
      " [1]\n",
      " ...\n",
      " [1]\n",
      " [1]\n",
      " [1]]\n"
     ]
    }
   ],
   "source": [
    "# print both test and train set to see them.\n",
    "print(\"X_test \", X_test, \"\\nY_test \", Y_test, \"\\nX_train \", X_train, \"\\nY_train \", Y_train)"
   ]
  },
  {
   "cell_type": "code",
   "execution_count": 1195,
   "id": "84367258",
   "metadata": {},
   "outputs": [
    {
     "name": "stdout",
     "output_type": "stream",
     "text": [
      "X2_test  [[1.0 0.0 0.0 ... 0.0 6667.0 11714752.0]\n",
      " [0.0 0.0 0.0 ... 1.0 0.0 954.0]\n",
      " [0.0 0.0 0.0 ... 0.0 216.0 418200.0]\n",
      " ...\n",
      " [0.0 0.0 0.0 ... 0.0 217.0 1040500.0]\n",
      " [0.0 0.0 1.0 ... 0.0 1.0 94332.0]\n",
      " [1.0 0.0 0.0 ... 0.0 16.0 215400.0]] \n",
      "Y2_test  [[1]\n",
      " [1]\n",
      " [1]\n",
      " ...\n",
      " [1]\n",
      " [0]\n",
      " [0]] \n",
      "X2_train  [[0.0 0.0 0.0 ... 0.0 4.0 142343.0]\n",
      " [0.0 0.0 0.0 ... 0.0 0.0 21500.0]\n",
      " [0.0 0.0 0.0 ... 0.0 295.0 2536730.0]\n",
      " ...\n",
      " [0.0 0.0 1.0 ... 0.0 1067.0 13704169.0]\n",
      " [0.0 0.0 0.0 ... 0.0 6.0 465100.0]\n",
      " [0.0 0.0 0.0 ... 0.0 2.0 403000.0]] \n",
      "Y2_train  [[0]\n",
      " [1]\n",
      " [1]\n",
      " ...\n",
      " [1]\n",
      " [0]\n",
      " [0]]\n"
     ]
    }
   ],
   "source": [
    "# print both test and train set to see them.\n",
    "print(\"X2_test \", X2_test, \"\\nY2_test \", Y2_test, \"\\nX2_train \", X2_train, \"\\nY2_train \", Y2_train)"
   ]
  },
  {
   "cell_type": "markdown",
   "id": "83512843",
   "metadata": {},
   "source": [
    "## Feature Scaling "
   ]
  },
  {
   "cell_type": "code",
   "execution_count": 1196,
   "id": "c3791c50",
   "metadata": {},
   "outputs": [
    {
     "data": {
      "text/plain": [
       "array([0.0, 0.0, 0.0, 0.0, 1.0, 0.0, 4.0, 142343.0], dtype=object)"
      ]
     },
     "execution_count": 1196,
     "metadata": {},
     "output_type": "execute_result"
    }
   ],
   "source": [
    "X2_train[0]  # checking element in the 0th index"
   ]
  },
  {
   "cell_type": "code",
   "execution_count": 1197,
   "id": "7bbde5bc",
   "metadata": {},
   "outputs": [],
   "source": [
    "sc = StandardScaler()  # creating an instance of the object.\n",
    "\n",
    "X2_train[:, 6:] = sc.fit_transform(X2_train[:, 6:])  # Scaling x_train\n",
    "X2_test[:, 6:] = sc.transform(X2_test[:, 6:])  # Scaling y_train"
   ]
  },
  {
   "cell_type": "code",
   "execution_count": 1198,
   "id": "99495342",
   "metadata": {},
   "outputs": [
    {
     "name": "stdout",
     "output_type": "stream",
     "text": [
      "X2_test  [[1.0 0.0 0.0 ... 0.0 7.446398944619078 2.6964860977419423]\n",
      " [0.0 0.0 0.0 ... 1.0 -0.25757297980246174 -0.45926455223718626]\n",
      " [0.0 0.0 0.0 ... 0.0 -0.007976769261730885 -0.3468565752769218]\n",
      " ...\n",
      " [0.0 0.0 0.0 ... 0.0 -0.006821231249968243 -0.1792061147275755]\n",
      " [0.0 0.0 1.0 ... 0.0 -0.2564174417906991 -0.4341080928041526]\n",
      " [1.0 0.0 0.0 ... 0.0 -0.23908437161425947 -0.40149182097739977]] \n",
      "\n",
      "X2_train  [[0.0 0.0 0.0 ... 0.0 -0.25295082775541117 -0.42117371025323713]\n",
      " [0.0 0.0 0.0 ... 0.0 -0.25757297980246174 -0.4537293660529554]\n",
      " [0.0 0.0 0.0 ... 0.0 0.0833107336675179 0.22388507696091625]\n",
      " ...\n",
      " [0.0 0.0 1.0 ... 0.0 0.9753860787482783 3.2324441184308363]\n",
      " [0.0 0.0 0.0 ... 0.0 -0.2506397517318859 -0.3342215011972748]\n",
      " [0.0 0.0 0.0 ... 0.0 -0.2552619037789365 -0.3509515246588117]]\n"
     ]
    }
   ],
   "source": [
    "print(\"X2_test \", X2_test,\"\\n\\nX2_train \", X2_train)  # printing the sets after feature scaling."
   ]
  },
  {
   "cell_type": "markdown",
   "id": "4b6e6f19",
   "metadata": {},
   "source": [
    "# Applying PCA "
   ]
  },
  {
   "cell_type": "markdown",
   "id": "593fe5fd",
   "metadata": {},
   "source": [
    "# Reduced accuracy so will not use"
   ]
  },
  {
   "cell_type": "code",
   "execution_count": 1199,
   "id": "9108c957",
   "metadata": {},
   "outputs": [],
   "source": [
    "#pca = PCA(n_components=2)"
   ]
  },
  {
   "cell_type": "code",
   "execution_count": 1200,
   "id": "7aaed4d9",
   "metadata": {},
   "outputs": [],
   "source": [
    "#X2_train = pca.fit_transform(X2_train)\n",
    "#X2_test = pca.fit_transform(X2_test)"
   ]
  },
  {
   "cell_type": "markdown",
   "id": "a2cd7516",
   "metadata": {},
   "source": [
    "# Applying Kernal PCA "
   ]
  },
  {
   "cell_type": "markdown",
   "id": "ae925a95",
   "metadata": {},
   "source": [
    "# Reduced accuracy so will not use"
   ]
  },
  {
   "cell_type": "code",
   "execution_count": 1201,
   "id": "bfe7084b",
   "metadata": {},
   "outputs": [],
   "source": [
    "#kpca = KernelPCA(n_components=2,kernel='rbf')"
   ]
  },
  {
   "cell_type": "code",
   "execution_count": 1202,
   "id": "a9d8efed",
   "metadata": {},
   "outputs": [],
   "source": [
    "#X2_train = kpca.fit_transform(X2_train)\n",
    "#X2_test = kpca.fit_transform(X2_test)\n",
    " "
   ]
  },
  {
   "cell_type": "markdown",
   "id": "ca7f4fcd",
   "metadata": {},
   "source": [
    "# Applying LDA"
   ]
  },
  {
   "cell_type": "code",
   "execution_count": 1205,
   "id": "3f59c439",
   "metadata": {},
   "outputs": [],
   "source": [
    "#lda = LDA(n_components=2)"
   ]
  },
  {
   "cell_type": "code",
   "execution_count": 1206,
   "id": "8913227a",
   "metadata": {},
   "outputs": [],
   "source": [
    "#X2_train = lda.fit_transform(X2_train, Y2_train)\n",
    "#X2_test = lda.fit_transform(X2_test)"
   ]
  },
  {
   "cell_type": "markdown",
   "id": "44fcf418",
   "metadata": {},
   "source": [
    "## Training Logistic regression model on traning sets."
   ]
  },
  {
   "cell_type": "markdown",
   "id": "747f5c69",
   "metadata": {},
   "source": [
    "## For X_train and Y_train "
   ]
  },
  {
   "cell_type": "code",
   "execution_count": 890,
   "id": "3ebd7b8d",
   "metadata": {},
   "outputs": [],
   "source": [
    "logistic_regression_classifier = LogisticRegression()  # Building and object of the class."
   ]
  },
  {
   "cell_type": "code",
   "execution_count": 891,
   "id": "709ec8c7",
   "metadata": {},
   "outputs": [
    {
     "name": "stderr",
     "output_type": "stream",
     "text": [
      "C:\\Users\\User\\anaconda3\\lib\\site-packages\\sklearn\\utils\\validation.py:63: DataConversionWarning: A column-vector y was passed when a 1d array was expected. Please change the shape of y to (n_samples, ), for example using ravel().\n",
      "  return f(*args, **kwargs)\n"
     ]
    },
    {
     "data": {
      "text/plain": [
       "LogisticRegression()"
      ]
     },
     "execution_count": 891,
     "metadata": {},
     "output_type": "execute_result"
    }
   ],
   "source": [
    "logistic_regression_classifier.fit(X_train, Y_train)  # Building logistic regression model."
   ]
  },
  {
   "cell_type": "markdown",
   "id": "6073681a",
   "metadata": {},
   "source": [
    "### predicting  result"
   ]
  },
  {
   "cell_type": "code",
   "execution_count": 892,
   "id": "faa8448f",
   "metadata": {},
   "outputs": [
    {
     "name": "stdout",
     "output_type": "stream",
     "text": [
      "pred-real\n",
      "[[1 1]\n",
      " [1 0]\n",
      " [1 1]\n",
      " ...\n",
      " [1 1]\n",
      " [1 1]\n",
      " [1 1]]\n"
     ]
    }
   ],
   "source": [
    "Y_pred = logistic_regression_classifier.predict(X_test)  # Predicted results.\n",
    "print(\"pred-real\")  # printing predicted and real values.\n",
    "print(np.concatenate((Y_pred.reshape(len(Y_pred),1), Y_test.reshape(len(Y_test),1)),1))  # Predicted results and real results in a np array."
   ]
  },
  {
   "cell_type": "markdown",
   "id": "a0938c1d",
   "metadata": {},
   "source": [
    "### Confusion matrix"
   ]
  },
  {
   "cell_type": "code",
   "execution_count": 893,
   "id": "e4e6af8c",
   "metadata": {},
   "outputs": [
    {
     "name": "stdout",
     "output_type": "stream",
     "text": [
      "correct_0-incorrct_1\n",
      "incorrect_0-correct_1\n",
      "[[   0 1219]\n",
      " [   0 5993]]\n"
     ]
    }
   ],
   "source": [
    "cm = confusion_matrix(Y_test, Y_pred)  # creating the confusion matrix\n",
    "print(\"correct_0-incorrct_1\\nincorrect_0-correct_1\")  # printing correct and inccrocet results.\n",
    "print(cm)  # prininting the confusion matrix."
   ]
  },
  {
   "cell_type": "code",
   "execution_count": 894,
   "id": "84d689e8",
   "metadata": {},
   "outputs": [
    {
     "data": {
      "image/png": "[encoded data removed]",
      "text/plain": [
       "<Figure size 576x396 with 2 Axes>"
      ]
     },
     "metadata": {},
     "output_type": "display_data"
    }
   ],
   "source": [
    "disp = ConfusionMatrixDisplay(confusion_matrix=cm)  # creaing the confusion matrix plot.                           \n",
    "disp.plot()  # displaying data in plot\n",
    "plt.title(\"Logistic Regression Model\")  # adding a title to plot\n",
    "plt.show()  # showing the plot"
   ]
  },
  {
   "cell_type": "markdown",
   "id": "846252f8",
   "metadata": {},
   "source": [
    "### Getting accurcy of the model"
   ]
  },
  {
   "cell_type": "code",
   "execution_count": 895,
   "id": "32109682",
   "metadata": {},
   "outputs": [
    {
     "data": {
      "text/plain": [
       "83.1"
      ]
     },
     "execution_count": 895,
     "metadata": {},
     "output_type": "execute_result"
    }
   ],
   "source": [
    "Logistic_accuracy = round(accuracy_score(Y_test, Y_pred)*100, 2)  # saving the accurcy\n",
    "round(accuracy_score(Y_test, Y_pred)*100, 2)  # showing the model accurecy rounded to 2 decimal places."
   ]
  },
  {
   "cell_type": "markdown",
   "id": "534994b1",
   "metadata": {},
   "source": [
    "## k-Fold Cross Validation"
   ]
  },
  {
   "cell_type": "code",
   "execution_count": 1209,
   "id": "18abc0c6",
   "metadata": {},
   "outputs": [
    {
     "name": "stderr",
     "output_type": "stream",
     "text": [
      "C:\\Users\\User\\anaconda3\\lib\\site-packages\\sklearn\\utils\\validation.py:63: DataConversionWarning: A column-vector y was passed when a 1d array was expected. Please change the shape of y to (n_samples, ), for example using ravel().\n",
      "  return f(*args, **kwargs)\n",
      "C:\\Users\\User\\anaconda3\\lib\\site-packages\\sklearn\\utils\\validation.py:63: DataConversionWarning: A column-vector y was passed when a 1d array was expected. Please change the shape of y to (n_samples, ), for example using ravel().\n",
      "  return f(*args, **kwargs)\n",
      "C:\\Users\\User\\anaconda3\\lib\\site-packages\\sklearn\\utils\\validation.py:63: DataConversionWarning: A column-vector y was passed when a 1d array was expected. Please change the shape of y to (n_samples, ), for example using ravel().\n",
      "  return f(*args, **kwargs)\n",
      "C:\\Users\\User\\anaconda3\\lib\\site-packages\\sklearn\\utils\\validation.py:63: DataConversionWarning: A column-vector y was passed when a 1d array was expected. Please change the shape of y to (n_samples, ), for example using ravel().\n",
      "  return f(*args, **kwargs)\n",
      "C:\\Users\\User\\anaconda3\\lib\\site-packages\\sklearn\\utils\\validation.py:63: DataConversionWarning: A column-vector y was passed when a 1d array was expected. Please change the shape of y to (n_samples, ), for example using ravel().\n",
      "  return f(*args, **kwargs)\n",
      "C:\\Users\\User\\anaconda3\\lib\\site-packages\\sklearn\\utils\\validation.py:63: DataConversionWarning: A column-vector y was passed when a 1d array was expected. Please change the shape of y to (n_samples, ), for example using ravel().\n",
      "  return f(*args, **kwargs)\n",
      "C:\\Users\\User\\anaconda3\\lib\\site-packages\\sklearn\\utils\\validation.py:63: DataConversionWarning: A column-vector y was passed when a 1d array was expected. Please change the shape of y to (n_samples, ), for example using ravel().\n",
      "  return f(*args, **kwargs)\n",
      "C:\\Users\\User\\anaconda3\\lib\\site-packages\\sklearn\\utils\\validation.py:63: DataConversionWarning: A column-vector y was passed when a 1d array was expected. Please change the shape of y to (n_samples, ), for example using ravel().\n",
      "  return f(*args, **kwargs)\n",
      "C:\\Users\\User\\anaconda3\\lib\\site-packages\\sklearn\\utils\\validation.py:63: DataConversionWarning: A column-vector y was passed when a 1d array was expected. Please change the shape of y to (n_samples, ), for example using ravel().\n",
      "  return f(*args, **kwargs)\n"
     ]
    },
    {
     "name": "stdout",
     "output_type": "stream",
     "text": [
      "Accuracy: 83.65 %\n",
      "Standard Deviation: 0.01 %\n"
     ]
    },
    {
     "name": "stderr",
     "output_type": "stream",
     "text": [
      "C:\\Users\\User\\anaconda3\\lib\\site-packages\\sklearn\\utils\\validation.py:63: DataConversionWarning: A column-vector y was passed when a 1d array was expected. Please change the shape of y to (n_samples, ), for example using ravel().\n",
      "  return f(*args, **kwargs)\n"
     ]
    }
   ],
   "source": [
    "accuracies = cross_val_score(estimator = logistic_regression_classifier, X = X_train, y = Y_train, cv = 10)  # performs 10 different tests to get average accurecy.\n",
    "print(\"Accuracy: {:.2f} %\".format(accuracies.mean()*100))  # accuracy printed\n",
    "print(\"Standard Deviation: {:.2f} %\".format(accuracies.std()*100))  # standard deveation printed (std -avarage or std+ avarage )"
   ]
  },
  {
   "cell_type": "markdown",
   "id": "4d3e5830",
   "metadata": {},
   "source": [
    "## For X2_train and Y2_train "
   ]
  },
  {
   "cell_type": "code",
   "execution_count": 1212,
   "id": "18f573a7",
   "metadata": {},
   "outputs": [
    {
     "name": "stderr",
     "output_type": "stream",
     "text": [
      "C:\\Users\\User\\anaconda3\\lib\\site-packages\\sklearn\\utils\\validation.py:63: DataConversionWarning: A column-vector y was passed when a 1d array was expected. Please change the shape of y to (n_samples, ), for example using ravel().\n",
      "  return f(*args, **kwargs)\n"
     ]
    },
    {
     "data": {
      "text/plain": [
       "LogisticRegression()"
      ]
     },
     "execution_count": 1212,
     "metadata": {},
     "output_type": "execute_result"
    }
   ],
   "source": [
    "logistic_regression_classifier.fit(X2_train, Y2_train)  # Building Logistic regression classification model."
   ]
  },
  {
   "cell_type": "markdown",
   "id": "f7182003",
   "metadata": {},
   "source": [
    "### predicting result"
   ]
  },
  {
   "cell_type": "code",
   "execution_count": 1213,
   "id": "4f988fa3",
   "metadata": {},
   "outputs": [
    {
     "name": "stdout",
     "output_type": "stream",
     "text": [
      "pred-real\n",
      "[[1 1]\n",
      " [0 1]\n",
      " [1 1]\n",
      " ...\n",
      " [1 1]\n",
      " [0 0]\n",
      " [1 0]]\n"
     ]
    }
   ],
   "source": [
    "Y2_pred = logistic_regression_classifier.predict(X2_test)  # Predicted results.\n",
    "print(\"pred-real\")  # printing predicted and real values.\n",
    "print(np.concatenate((Y2_pred.reshape(len(Y2_pred),1), Y2_test.reshape(len(Y2_test),1)),1))  # Predicted results and real results in a np array."
   ]
  },
  {
   "cell_type": "markdown",
   "id": "53ef65c5",
   "metadata": {},
   "source": [
    "### Confusion matrix"
   ]
  },
  {
   "cell_type": "code",
   "execution_count": 1214,
   "id": "b4c54fc6",
   "metadata": {},
   "outputs": [
    {
     "name": "stdout",
     "output_type": "stream",
     "text": [
      "correct_0-incorrct_1\n",
      "incorrect_0-correct_1\n",
      "[[2611  982]\n",
      " [1573 2046]]\n"
     ]
    }
   ],
   "source": [
    "cm2 = confusion_matrix(Y2_test, Y2_pred)  # creating the confusion matrix\n",
    "print(\"correct_0-incorrct_1\\nincorrect_0-correct_1\")  # printing correct and inccrocet results.\n",
    "print(cm2)  # prininting the confusion matrix."
   ]
  },
  {
   "cell_type": "markdown",
   "id": "8237dd40",
   "metadata": {},
   "source": [
    "### Getting accurcy of the model"
   ]
  },
  {
   "cell_type": "code",
   "execution_count": 1215,
   "id": "1d10d2c1",
   "metadata": {},
   "outputs": [
    {
     "data": {
      "image/png": "[encoded data removed]",
      "text/plain": [
       "<Figure size 576x396 with 2 Axes>"
      ]
     },
     "metadata": {},
     "output_type": "display_data"
    }
   ],
   "source": [
    "disp = ConfusionMatrixDisplay(confusion_matrix=cm2)  # creaing the confusion matrix plot.                           \n",
    "disp.plot()  # displaying data in plot\n",
    "plt.title(\"Logistic Regression Model\")  # adding a title to plot\n",
    "plt.show()  # showing the plot"
   ]
  },
  {
   "cell_type": "code",
   "execution_count": 1216,
   "id": "7aae1ad6",
   "metadata": {},
   "outputs": [
    {
     "data": {
      "text/plain": [
       "64.57"
      ]
     },
     "execution_count": 1216,
     "metadata": {},
     "output_type": "execute_result"
    }
   ],
   "source": [
    "Logistic_accuracy2 = round(accuracy_score(Y2_test, Y2_pred)*100, 2)  #  Saving the accurcy\n",
    "round(accuracy_score(Y2_test, Y2_pred)*100, 2)  # showing the model accurecy rounded to 2 decimal places."
   ]
  },
  {
   "cell_type": "markdown",
   "id": "4fa6f80d",
   "metadata": {},
   "source": [
    "## k-Fold Cross Validation"
   ]
  },
  {
   "cell_type": "code",
   "execution_count": 1217,
   "id": "66ba4730",
   "metadata": {},
   "outputs": [
    {
     "name": "stderr",
     "output_type": "stream",
     "text": [
      "C:\\Users\\User\\anaconda3\\lib\\site-packages\\sklearn\\utils\\validation.py:63: DataConversionWarning: A column-vector y was passed when a 1d array was expected. Please change the shape of y to (n_samples, ), for example using ravel().\n",
      "  return f(*args, **kwargs)\n",
      "C:\\Users\\User\\anaconda3\\lib\\site-packages\\sklearn\\utils\\validation.py:63: DataConversionWarning: A column-vector y was passed when a 1d array was expected. Please change the shape of y to (n_samples, ), for example using ravel().\n",
      "  return f(*args, **kwargs)\n",
      "C:\\Users\\User\\anaconda3\\lib\\site-packages\\sklearn\\utils\\validation.py:63: DataConversionWarning: A column-vector y was passed when a 1d array was expected. Please change the shape of y to (n_samples, ), for example using ravel().\n",
      "  return f(*args, **kwargs)\n",
      "C:\\Users\\User\\anaconda3\\lib\\site-packages\\sklearn\\utils\\validation.py:63: DataConversionWarning: A column-vector y was passed when a 1d array was expected. Please change the shape of y to (n_samples, ), for example using ravel().\n",
      "  return f(*args, **kwargs)\n",
      "C:\\Users\\User\\anaconda3\\lib\\site-packages\\sklearn\\utils\\validation.py:63: DataConversionWarning: A column-vector y was passed when a 1d array was expected. Please change the shape of y to (n_samples, ), for example using ravel().\n",
      "  return f(*args, **kwargs)\n",
      "C:\\Users\\User\\anaconda3\\lib\\site-packages\\sklearn\\utils\\validation.py:63: DataConversionWarning: A column-vector y was passed when a 1d array was expected. Please change the shape of y to (n_samples, ), for example using ravel().\n",
      "  return f(*args, **kwargs)\n",
      "C:\\Users\\User\\anaconda3\\lib\\site-packages\\sklearn\\utils\\validation.py:63: DataConversionWarning: A column-vector y was passed when a 1d array was expected. Please change the shape of y to (n_samples, ), for example using ravel().\n",
      "  return f(*args, **kwargs)\n",
      "C:\\Users\\User\\anaconda3\\lib\\site-packages\\sklearn\\utils\\validation.py:63: DataConversionWarning: A column-vector y was passed when a 1d array was expected. Please change the shape of y to (n_samples, ), for example using ravel().\n",
      "  return f(*args, **kwargs)\n"
     ]
    },
    {
     "name": "stdout",
     "output_type": "stream",
     "text": [
      "Accuracy: 64.84 %\n",
      "Standard Deviation: 0.99 %\n"
     ]
    },
    {
     "name": "stderr",
     "output_type": "stream",
     "text": [
      "C:\\Users\\User\\anaconda3\\lib\\site-packages\\sklearn\\utils\\validation.py:63: DataConversionWarning: A column-vector y was passed when a 1d array was expected. Please change the shape of y to (n_samples, ), for example using ravel().\n",
      "  return f(*args, **kwargs)\n",
      "C:\\Users\\User\\anaconda3\\lib\\site-packages\\sklearn\\utils\\validation.py:63: DataConversionWarning: A column-vector y was passed when a 1d array was expected. Please change the shape of y to (n_samples, ), for example using ravel().\n",
      "  return f(*args, **kwargs)\n"
     ]
    }
   ],
   "source": [
    "accuracies = cross_val_score(estimator = logistic_regression_classifier, X = X2_train, y = Y2_train, cv = 10)  # performs 10 different tests to get average accurecy.\n",
    "print(\"Accuracy: {:.2f} %\".format(accuracies.mean()*100))  # accuracy printed\n",
    "print(\"Standard Deviation: {:.2f} %\".format(accuracies.std()*100))  # standard deveation printed (std -avarage or std+ avarage )"
   ]
  },
  {
   "cell_type": "markdown",
   "id": "e9ed6495",
   "metadata": {},
   "source": [
    "## Training the K-NN  on the traning sets"
   ]
  },
  {
   "cell_type": "markdown",
   "id": "6b7b7722",
   "metadata": {},
   "source": [
    "## For X_train and Y_Train  "
   ]
  },
  {
   "cell_type": "code",
   "execution_count": 901,
   "id": "b3d40e46",
   "metadata": {},
   "outputs": [],
   "source": [
    "K_NN_classifier = KNeighborsClassifier(n_neighbors = 15, metric = 'minkowski', p = 2)  # Bulding an object of the class"
   ]
  },
  {
   "cell_type": "code",
   "execution_count": 902,
   "id": "75484621",
   "metadata": {},
   "outputs": [
    {
     "name": "stderr",
     "output_type": "stream",
     "text": [
      "C:\\Users\\User\\anaconda3\\lib\\site-packages\\sklearn\\neighbors\\_classification.py:179: DataConversionWarning: A column-vector y was passed when a 1d array was expected. Please change the shape of y to (n_samples,), for example using ravel().\n",
      "  return self._fit(X, y)\n"
     ]
    },
    {
     "data": {
      "text/plain": [
       "KNeighborsClassifier(n_neighbors=15)"
      ]
     },
     "execution_count": 902,
     "metadata": {},
     "output_type": "execute_result"
    }
   ],
   "source": [
    "K_NN_classifier.fit(X_train, Y_train)  # Building the k-nearest neighbors classification model."
   ]
  },
  {
   "cell_type": "markdown",
   "id": "b9aca28f",
   "metadata": {},
   "source": [
    "### predicting result"
   ]
  },
  {
   "cell_type": "code",
   "execution_count": 903,
   "id": "59ee9552",
   "metadata": {},
   "outputs": [
    {
     "name": "stdout",
     "output_type": "stream",
     "text": [
      "pred-real\n",
      "[[1 1]\n",
      " [1 0]\n",
      " [1 1]\n",
      " ...\n",
      " [1 1]\n",
      " [1 1]\n",
      " [1 1]]\n"
     ]
    }
   ],
   "source": [
    "K_NN_Y_pred = K_NN_classifier.predict(X_test)  # Predicted results.\n",
    "print(\"pred-real\")  # printing predicted and real values.\n",
    "print(np.concatenate((K_NN_Y_pred.reshape(len(K_NN_Y_pred),1), Y_test.reshape(len(Y_test),1)),1))  # Predicted results and real results in a np array."
   ]
  },
  {
   "cell_type": "markdown",
   "id": "a40afcdd",
   "metadata": {},
   "source": [
    "### Confusion matrix"
   ]
  },
  {
   "cell_type": "code",
   "execution_count": 904,
   "id": "766bba98",
   "metadata": {},
   "outputs": [
    {
     "name": "stdout",
     "output_type": "stream",
     "text": [
      "correct_0-incorrct_1\n",
      "incorrect_0-correct_1\n",
      "[[   0 1219]\n",
      " [   0 5993]]\n"
     ]
    }
   ],
   "source": [
    "K_NN_cm = confusion_matrix(Y_test, K_NN_Y_pred)  # creating the confusion matrix\n",
    "print(\"correct_0-incorrct_1\\nincorrect_0-correct_1\")  # printing correct and inccrocet results.\n",
    "print(K_NN_cm)  # prininting the confusion matrix."
   ]
  },
  {
   "cell_type": "code",
   "execution_count": 905,
   "id": "52172b8e",
   "metadata": {},
   "outputs": [
    {
     "data": {
      "image/png": "[encoded data removed]",
      "text/plain": [
       "<Figure size 576x396 with 2 Axes>"
      ]
     },
     "metadata": {},
     "output_type": "display_data"
    }
   ],
   "source": [
    "disp = ConfusionMatrixDisplay(confusion_matrix=K_NN_cm)  # creaing the confusion matrix plot.                           \n",
    "disp.plot()  # displaying data in plot\n",
    "plt.title(\"k-nearest neighbors\")  # adding a title to plot\n",
    "plt.show()  # showing the plot"
   ]
  },
  {
   "cell_type": "markdown",
   "id": "b3079b03",
   "metadata": {},
   "source": [
    "### Getting accurcy of the model"
   ]
  },
  {
   "cell_type": "code",
   "execution_count": 906,
   "id": "1a737ad4",
   "metadata": {},
   "outputs": [
    {
     "data": {
      "text/plain": [
       "83.1"
      ]
     },
     "execution_count": 906,
     "metadata": {},
     "output_type": "execute_result"
    }
   ],
   "source": [
    "K_NN_accuracy = round(accuracy_score(Y_test, K_NN_Y_pred)*100, 2) # saving the accurcy.\n",
    "round(accuracy_score(Y_test, K_NN_Y_pred)*100, 2)  # showing the model accurecy rounded to 2 decimal places."
   ]
  },
  {
   "cell_type": "markdown",
   "id": "ae2bf39b",
   "metadata": {},
   "source": [
    "## k-Fold Cross Validation"
   ]
  },
  {
   "cell_type": "code",
   "execution_count": 1218,
   "id": "8519c68d",
   "metadata": {},
   "outputs": [
    {
     "name": "stderr",
     "output_type": "stream",
     "text": [
      "C:\\Users\\User\\anaconda3\\lib\\site-packages\\sklearn\\neighbors\\_classification.py:179: DataConversionWarning: A column-vector y was passed when a 1d array was expected. Please change the shape of y to (n_samples,), for example using ravel().\n",
      "  return self._fit(X, y)\n",
      "C:\\Users\\User\\anaconda3\\lib\\site-packages\\sklearn\\neighbors\\_classification.py:179: DataConversionWarning: A column-vector y was passed when a 1d array was expected. Please change the shape of y to (n_samples,), for example using ravel().\n",
      "  return self._fit(X, y)\n",
      "C:\\Users\\User\\anaconda3\\lib\\site-packages\\sklearn\\neighbors\\_classification.py:179: DataConversionWarning: A column-vector y was passed when a 1d array was expected. Please change the shape of y to (n_samples,), for example using ravel().\n",
      "  return self._fit(X, y)\n",
      "C:\\Users\\User\\anaconda3\\lib\\site-packages\\sklearn\\neighbors\\_classification.py:179: DataConversionWarning: A column-vector y was passed when a 1d array was expected. Please change the shape of y to (n_samples,), for example using ravel().\n",
      "  return self._fit(X, y)\n",
      "C:\\Users\\User\\anaconda3\\lib\\site-packages\\sklearn\\neighbors\\_classification.py:179: DataConversionWarning: A column-vector y was passed when a 1d array was expected. Please change the shape of y to (n_samples,), for example using ravel().\n",
      "  return self._fit(X, y)\n",
      "C:\\Users\\User\\anaconda3\\lib\\site-packages\\sklearn\\neighbors\\_classification.py:179: DataConversionWarning: A column-vector y was passed when a 1d array was expected. Please change the shape of y to (n_samples,), for example using ravel().\n",
      "  return self._fit(X, y)\n",
      "C:\\Users\\User\\anaconda3\\lib\\site-packages\\sklearn\\neighbors\\_classification.py:179: DataConversionWarning: A column-vector y was passed when a 1d array was expected. Please change the shape of y to (n_samples,), for example using ravel().\n",
      "  return self._fit(X, y)\n",
      "C:\\Users\\User\\anaconda3\\lib\\site-packages\\sklearn\\neighbors\\_classification.py:179: DataConversionWarning: A column-vector y was passed when a 1d array was expected. Please change the shape of y to (n_samples,), for example using ravel().\n",
      "  return self._fit(X, y)\n",
      "C:\\Users\\User\\anaconda3\\lib\\site-packages\\sklearn\\neighbors\\_classification.py:179: DataConversionWarning: A column-vector y was passed when a 1d array was expected. Please change the shape of y to (n_samples,), for example using ravel().\n",
      "  return self._fit(X, y)\n",
      "C:\\Users\\User\\anaconda3\\lib\\site-packages\\sklearn\\neighbors\\_classification.py:179: DataConversionWarning: A column-vector y was passed when a 1d array was expected. Please change the shape of y to (n_samples,), for example using ravel().\n",
      "  return self._fit(X, y)\n"
     ]
    },
    {
     "name": "stdout",
     "output_type": "stream",
     "text": [
      "Accuracy: 82.85 %\n",
      "Standard Deviation: 2.39 %\n"
     ]
    }
   ],
   "source": [
    "accuracies = cross_val_score(estimator = K_NN_classifier, X = X_train, y = Y_train, cv = 10)  # performs 10 different tests to get average accurecy.\n",
    "print(\"Accuracy: {:.2f} %\".format(accuracies.mean()*100))  # accuracy printed\n",
    "print(\"Standard Deviation: {:.2f} %\".format(accuracies.std()*100))  # standard deveation printed (std -avarage or std+ avarage )"
   ]
  },
  {
   "cell_type": "markdown",
   "id": "95cb59d8",
   "metadata": {},
   "source": [
    "## For X2_train and Y2_Train  "
   ]
  },
  {
   "cell_type": "code",
   "execution_count": 1220,
   "id": "04e206fb",
   "metadata": {},
   "outputs": [
    {
     "name": "stderr",
     "output_type": "stream",
     "text": [
      "C:\\Users\\User\\anaconda3\\lib\\site-packages\\sklearn\\neighbors\\_classification.py:179: DataConversionWarning: A column-vector y was passed when a 1d array was expected. Please change the shape of y to (n_samples,), for example using ravel().\n",
      "  return self._fit(X, y)\n"
     ]
    },
    {
     "data": {
      "text/plain": [
       "KNeighborsClassifier(n_neighbors=15)"
      ]
     },
     "execution_count": 1220,
     "metadata": {},
     "output_type": "execute_result"
    }
   ],
   "source": [
    "K_NN_classifier.fit(X2_train, Y2_train)  # Building the k-nearest neighbors classification model."
   ]
  },
  {
   "cell_type": "markdown",
   "id": "51cf7770",
   "metadata": {},
   "source": [
    "### predicting result"
   ]
  },
  {
   "cell_type": "code",
   "execution_count": 1221,
   "id": "07ab47d4",
   "metadata": {},
   "outputs": [
    {
     "name": "stdout",
     "output_type": "stream",
     "text": [
      "pred-real\n",
      "[[1 1]\n",
      " [1 1]\n",
      " [1 1]\n",
      " ...\n",
      " [0 1]\n",
      " [0 0]\n",
      " [0 0]]\n"
     ]
    }
   ],
   "source": [
    "K_NN_Y2_pred = K_NN_classifier.predict(X2_test)  # Predicted results.\n",
    "print(\"pred-real\")  # printing predicted and real values.\n",
    "print(np.concatenate((K_NN_Y2_pred.reshape(len(K_NN_Y2_pred),1), Y2_test.reshape(len(Y2_test),1)),1))  # Predicted results and real results in a np array."
   ]
  },
  {
   "cell_type": "markdown",
   "id": "ddcd3ae5",
   "metadata": {},
   "source": [
    "### Confusion matrix"
   ]
  },
  {
   "cell_type": "code",
   "execution_count": 1222,
   "id": "7f71cc23",
   "metadata": {},
   "outputs": [
    {
     "name": "stdout",
     "output_type": "stream",
     "text": [
      "correct_0-incorrct_1\n",
      "incorrect_0-correct_1\n",
      "[[2941  652]\n",
      " [1055 2564]]\n"
     ]
    }
   ],
   "source": [
    "K_NN_cm2 = confusion_matrix(Y2_test, K_NN_Y2_pred)  # creating the confusion matrix\n",
    "print(\"correct_0-incorrct_1\\nincorrect_0-correct_1\")  # printing correct and inccrocet results.\n",
    "print(K_NN_cm2)  # prininting the confusion matrix."
   ]
  },
  {
   "cell_type": "code",
   "execution_count": 1223,
   "id": "ecbf5314",
   "metadata": {},
   "outputs": [
    {
     "data": {
      "image/png": "[encoded data removed]",
      "text/plain": [
       "<Figure size 576x396 with 2 Axes>"
      ]
     },
     "metadata": {},
     "output_type": "display_data"
    }
   ],
   "source": [
    "disp = ConfusionMatrixDisplay(confusion_matrix=K_NN_cm2)  # creaing the confusion matrix plot.                           \n",
    "disp.plot()  # displaying data in plot\n",
    "plt.title(\"k-nearest neighbors\")  # adding a title to plot\n",
    "plt.show()  # showing the plot"
   ]
  },
  {
   "cell_type": "markdown",
   "id": "77f15f77",
   "metadata": {},
   "source": [
    "### Getting accurcy of the model"
   ]
  },
  {
   "cell_type": "code",
   "execution_count": 1224,
   "id": "d79cd97b",
   "metadata": {},
   "outputs": [
    {
     "data": {
      "text/plain": [
       "76.33"
      ]
     },
     "execution_count": 1224,
     "metadata": {},
     "output_type": "execute_result"
    }
   ],
   "source": [
    "K_NN_accuracy2 = round(accuracy_score(Y2_test, K_NN_Y2_pred)*100, 2) # saving the accurcy.\n",
    "round(accuracy_score(Y2_test, K_NN_Y2_pred)*100, 2)  # showing the model accurecy rounded to 2 decimal places."
   ]
  },
  {
   "cell_type": "markdown",
   "id": "025cec92",
   "metadata": {},
   "source": [
    "## k-Fold Cross Validation"
   ]
  },
  {
   "cell_type": "code",
   "execution_count": 1219,
   "id": "1ce14193",
   "metadata": {},
   "outputs": [
    {
     "name": "stderr",
     "output_type": "stream",
     "text": [
      "C:\\Users\\User\\anaconda3\\lib\\site-packages\\sklearn\\neighbors\\_classification.py:179: DataConversionWarning: A column-vector y was passed when a 1d array was expected. Please change the shape of y to (n_samples,), for example using ravel().\n",
      "  return self._fit(X, y)\n",
      "C:\\Users\\User\\anaconda3\\lib\\site-packages\\sklearn\\neighbors\\_classification.py:179: DataConversionWarning: A column-vector y was passed when a 1d array was expected. Please change the shape of y to (n_samples,), for example using ravel().\n",
      "  return self._fit(X, y)\n",
      "C:\\Users\\User\\anaconda3\\lib\\site-packages\\sklearn\\neighbors\\_classification.py:179: DataConversionWarning: A column-vector y was passed when a 1d array was expected. Please change the shape of y to (n_samples,), for example using ravel().\n",
      "  return self._fit(X, y)\n",
      "C:\\Users\\User\\anaconda3\\lib\\site-packages\\sklearn\\neighbors\\_classification.py:179: DataConversionWarning: A column-vector y was passed when a 1d array was expected. Please change the shape of y to (n_samples,), for example using ravel().\n",
      "  return self._fit(X, y)\n",
      "C:\\Users\\User\\anaconda3\\lib\\site-packages\\sklearn\\neighbors\\_classification.py:179: DataConversionWarning: A column-vector y was passed when a 1d array was expected. Please change the shape of y to (n_samples,), for example using ravel().\n",
      "  return self._fit(X, y)\n",
      "C:\\Users\\User\\anaconda3\\lib\\site-packages\\sklearn\\neighbors\\_classification.py:179: DataConversionWarning: A column-vector y was passed when a 1d array was expected. Please change the shape of y to (n_samples,), for example using ravel().\n",
      "  return self._fit(X, y)\n",
      "C:\\Users\\User\\anaconda3\\lib\\site-packages\\sklearn\\neighbors\\_classification.py:179: DataConversionWarning: A column-vector y was passed when a 1d array was expected. Please change the shape of y to (n_samples,), for example using ravel().\n",
      "  return self._fit(X, y)\n",
      "C:\\Users\\User\\anaconda3\\lib\\site-packages\\sklearn\\neighbors\\_classification.py:179: DataConversionWarning: A column-vector y was passed when a 1d array was expected. Please change the shape of y to (n_samples,), for example using ravel().\n",
      "  return self._fit(X, y)\n",
      "C:\\Users\\User\\anaconda3\\lib\\site-packages\\sklearn\\neighbors\\_classification.py:179: DataConversionWarning: A column-vector y was passed when a 1d array was expected. Please change the shape of y to (n_samples,), for example using ravel().\n",
      "  return self._fit(X, y)\n",
      "C:\\Users\\User\\anaconda3\\lib\\site-packages\\sklearn\\neighbors\\_classification.py:179: DataConversionWarning: A column-vector y was passed when a 1d array was expected. Please change the shape of y to (n_samples,), for example using ravel().\n",
      "  return self._fit(X, y)\n"
     ]
    },
    {
     "name": "stdout",
     "output_type": "stream",
     "text": [
      "Accuracy: 76.05 %\n",
      "Standard Deviation: 0.25 %\n"
     ]
    }
   ],
   "source": [
    "accuracies = cross_val_score(estimator = K_NN_classifier, X = X2_train, y = Y2_train, cv = 10)  # performs 10 different tests to get average accurecy.\n",
    "print(\"Accuracy: {:.2f} %\".format(accuracies.mean()*100))  # accuracy printed\n",
    "print(\"Standard Deviation: {:.2f} %\".format(accuracies.std()*100))  # standard deveation printed (std -avarage or std+ avarage )"
   ]
  },
  {
   "cell_type": "markdown",
   "id": "1cdba355",
   "metadata": {},
   "source": [
    "# Training the svm  on the traning sets"
   ]
  },
  {
   "cell_type": "markdown",
   "id": "2172056a",
   "metadata": {},
   "source": [
    "## For X_train and Y_Train  "
   ]
  },
  {
   "cell_type": "code",
   "execution_count": null,
   "id": "01f9854a",
   "metadata": {},
   "outputs": [],
   "source": [
    "# set kernel to 'liner' or rbf as per requirement\n",
    "svm_classifier = SVC(kernel = 'rbf', random_state = 0)  # creating an instance of the object."
   ]
  },
  {
   "cell_type": "markdown",
   "id": "a3ed7d7b",
   "metadata": {},
   "source": [
    "## Applying Grid Search to find the best model and the best parameters"
   ]
  },
  {
   "cell_type": "code",
   "execution_count": 1247,
   "id": "c7b1705f",
   "metadata": {},
   "outputs": [
    {
     "name": "stderr",
     "output_type": "stream",
     "text": [
      "C:\\Users\\User\\anaconda3\\lib\\site-packages\\sklearn\\utils\\validation.py:63: DataConversionWarning: A column-vector y was passed when a 1d array was expected. Please change the shape of y to (n_samples, ), for example using ravel().\n",
      "  return f(*args, **kwargs)\n"
     ]
    },
    {
     "name": "stdout",
     "output_type": "stream",
     "text": [
      "Best Accuracy: 83.65 %\n",
      "Best Parameters: {'C': 0.25, 'kernel': 'linear'}\n"
     ]
    }
   ],
   "source": [
    "parameters = [{'C': [0.25, 0.5, 0.75, 1], 'kernel': ['linear']},\n",
    "              {'C': [0.25, 0.5, 0.75, 1], 'kernel': ['rbf'], 'gamma': [0.1, 0.2, 0.3, 0.4, 0.5, 0.6, 0.7, 0.8, 0.9]}]\n",
    "grid_search = GridSearchCV(estimator = svm_classifier,\n",
    "                           param_grid = parameters,\n",
    "                           scoring = 'accuracy',\n",
    "                           cv = 10,\n",
    "                           n_jobs = -1)  # selecting all possible paramaters to go through to get the best model possible\n",
    "grid_search.fit(X_train, Y_train)  # applying the search on our model.\n",
    "best_accuracy = grid_search.best_score_  # the best accuracy \n",
    "best_parameters = grid_search.best_params_  # the best paramaters that gave the best accurecy\n",
    "print(\"Best Accuracy: {:.2f} %\".format(best_accuracy*100))  # printing best accuracy\n",
    "print(\"Best Parameters:\", best_parameters)  # printing the best parameters"
   ]
  },
  {
   "cell_type": "code",
   "execution_count": 1226,
   "id": "84be86ee",
   "metadata": {},
   "outputs": [
    {
     "name": "stderr",
     "output_type": "stream",
     "text": [
      "C:\\Users\\User\\anaconda3\\lib\\site-packages\\sklearn\\utils\\validation.py:63: DataConversionWarning: A column-vector y was passed when a 1d array was expected. Please change the shape of y to (n_samples, ), for example using ravel().\n",
      "  return f(*args, **kwargs)\n"
     ]
    },
    {
     "data": {
      "text/plain": [
       "SVC(random_state=0)"
      ]
     },
     "execution_count": 1226,
     "metadata": {},
     "output_type": "execute_result"
    }
   ],
   "source": [
    "svm_classifier.fit(X_train, Y_train)  # Building svm model."
   ]
  },
  {
   "cell_type": "markdown",
   "id": "47e78d80",
   "metadata": {},
   "source": [
    "### predicting result"
   ]
  },
  {
   "cell_type": "code",
   "execution_count": 1227,
   "id": "3d346ce8",
   "metadata": {},
   "outputs": [
    {
     "name": "stdout",
     "output_type": "stream",
     "text": [
      "pred-real\n",
      "[[1 1]\n",
      " [1 0]\n",
      " [1 1]\n",
      " ...\n",
      " [1 1]\n",
      " [1 1]\n",
      " [1 1]]\n"
     ]
    }
   ],
   "source": [
    "svm_Y_pred = svm_classifier.predict(X_test)  # Predicted results.\n",
    "print(\"pred-real\")  # printing predicted and real values.\n",
    "print(np.concatenate((svm_Y_pred.reshape(len(svm_Y_pred),1), Y_test.reshape(len(Y_test),1)),1))  # Predicted results and real results in a np array."
   ]
  },
  {
   "cell_type": "markdown",
   "id": "2b62c2eb",
   "metadata": {},
   "source": [
    "### Confusion matrix"
   ]
  },
  {
   "cell_type": "code",
   "execution_count": 915,
   "id": "c2bc3008",
   "metadata": {},
   "outputs": [
    {
     "name": "stdout",
     "output_type": "stream",
     "text": [
      "correct_0-incorrct_1\n",
      "incorrect_0-correct_1\n",
      "[[   0 1219]\n",
      " [   0 5993]]\n"
     ]
    }
   ],
   "source": [
    "svm_cm = confusion_matrix(Y_test, svm_Y_pred)  # creating the confusion matrix\n",
    "print(\"correct_0-incorrct_1\\nincorrect_0-correct_1\")  # printing correct and inccrocet results.\n",
    "print(svm_cm)  # prininting the confusion matrix."
   ]
  },
  {
   "cell_type": "code",
   "execution_count": 916,
   "id": "77cce814",
   "metadata": {},
   "outputs": [
    {
     "data": {
      "image/png": "[encoded data removed]",
      "text/plain": [
       "<Figure size 576x396 with 2 Axes>"
      ]
     },
     "metadata": {},
     "output_type": "display_data"
    }
   ],
   "source": [
    "disp = ConfusionMatrixDisplay(confusion_matrix=svm_cm)  # creaing the confusion matrix plot.                           \n",
    "disp.plot()  # displaying data in plot\n",
    "plt.title(\"Support vector machines\")  # adding a title to plot\n",
    "plt.show()  # showing the plot"
   ]
  },
  {
   "cell_type": "markdown",
   "id": "19d883e5",
   "metadata": {},
   "source": [
    "### Getting accurcy of the model"
   ]
  },
  {
   "cell_type": "code",
   "execution_count": 917,
   "id": "2df77850",
   "metadata": {},
   "outputs": [
    {
     "data": {
      "text/plain": [
       "83.1"
      ]
     },
     "execution_count": 917,
     "metadata": {},
     "output_type": "execute_result"
    }
   ],
   "source": [
    "svm_accuracy = round(accuracy_score(Y_test, svm_Y_pred)*100, 2)  # getting model accurcy.\n",
    "round(accuracy_score(Y_test, svm_Y_pred)*100, 2)  # showing the model accurecy rounded to 2 decimal places."
   ]
  },
  {
   "cell_type": "markdown",
   "id": "544ebfe6",
   "metadata": {},
   "source": [
    "## k-Fold Cross Validation"
   ]
  },
  {
   "cell_type": "code",
   "execution_count": 1228,
   "id": "77aac335",
   "metadata": {},
   "outputs": [
    {
     "name": "stderr",
     "output_type": "stream",
     "text": [
      "C:\\Users\\User\\anaconda3\\lib\\site-packages\\sklearn\\utils\\validation.py:63: DataConversionWarning: A column-vector y was passed when a 1d array was expected. Please change the shape of y to (n_samples, ), for example using ravel().\n",
      "  return f(*args, **kwargs)\n",
      "C:\\Users\\User\\anaconda3\\lib\\site-packages\\sklearn\\utils\\validation.py:63: DataConversionWarning: A column-vector y was passed when a 1d array was expected. Please change the shape of y to (n_samples, ), for example using ravel().\n",
      "  return f(*args, **kwargs)\n",
      "C:\\Users\\User\\anaconda3\\lib\\site-packages\\sklearn\\utils\\validation.py:63: DataConversionWarning: A column-vector y was passed when a 1d array was expected. Please change the shape of y to (n_samples, ), for example using ravel().\n",
      "  return f(*args, **kwargs)\n",
      "C:\\Users\\User\\anaconda3\\lib\\site-packages\\sklearn\\utils\\validation.py:63: DataConversionWarning: A column-vector y was passed when a 1d array was expected. Please change the shape of y to (n_samples, ), for example using ravel().\n",
      "  return f(*args, **kwargs)\n",
      "C:\\Users\\User\\anaconda3\\lib\\site-packages\\sklearn\\utils\\validation.py:63: DataConversionWarning: A column-vector y was passed when a 1d array was expected. Please change the shape of y to (n_samples, ), for example using ravel().\n",
      "  return f(*args, **kwargs)\n",
      "C:\\Users\\User\\anaconda3\\lib\\site-packages\\sklearn\\utils\\validation.py:63: DataConversionWarning: A column-vector y was passed when a 1d array was expected. Please change the shape of y to (n_samples, ), for example using ravel().\n",
      "  return f(*args, **kwargs)\n",
      "C:\\Users\\User\\anaconda3\\lib\\site-packages\\sklearn\\utils\\validation.py:63: DataConversionWarning: A column-vector y was passed when a 1d array was expected. Please change the shape of y to (n_samples, ), for example using ravel().\n",
      "  return f(*args, **kwargs)\n",
      "C:\\Users\\User\\anaconda3\\lib\\site-packages\\sklearn\\utils\\validation.py:63: DataConversionWarning: A column-vector y was passed when a 1d array was expected. Please change the shape of y to (n_samples, ), for example using ravel().\n",
      "  return f(*args, **kwargs)\n",
      "C:\\Users\\User\\anaconda3\\lib\\site-packages\\sklearn\\utils\\validation.py:63: DataConversionWarning: A column-vector y was passed when a 1d array was expected. Please change the shape of y to (n_samples, ), for example using ravel().\n",
      "  return f(*args, **kwargs)\n",
      "C:\\Users\\User\\anaconda3\\lib\\site-packages\\sklearn\\utils\\validation.py:63: DataConversionWarning: A column-vector y was passed when a 1d array was expected. Please change the shape of y to (n_samples, ), for example using ravel().\n",
      "  return f(*args, **kwargs)\n"
     ]
    },
    {
     "name": "stdout",
     "output_type": "stream",
     "text": [
      "Accuracy: 83.65 %\n",
      "Standard Deviation: 0.01 %\n"
     ]
    }
   ],
   "source": [
    "accuracies = cross_val_score(estimator = svm_classifier, X = X_train, y = Y_train, cv = 10) # performs 10 different tests to get average accurecy.\n",
    "print(\"Accuracy: {:.2f} %\".format(accuracies.mean()*100))  # accuracy printed\n",
    "print(\"Standard Deviation: {:.2f} %\".format(accuracies.std()*100))  # standard deveation printed (std -avarage or std+ avarage )"
   ]
  },
  {
   "cell_type": "markdown",
   "id": "6808080f",
   "metadata": {},
   "source": [
    "## For X2_train and Y2_Train  "
   ]
  },
  {
   "cell_type": "code",
   "execution_count": 1115,
   "id": "fe57acc0",
   "metadata": {},
   "outputs": [
    {
     "name": "stderr",
     "output_type": "stream",
     "text": [
      "C:\\Users\\User\\anaconda3\\lib\\site-packages\\sklearn\\utils\\validation.py:63: DataConversionWarning: A column-vector y was passed when a 1d array was expected. Please change the shape of y to (n_samples, ), for example using ravel().\n",
      "  return f(*args, **kwargs)\n"
     ]
    },
    {
     "data": {
      "text/plain": [
       "SVC(random_state=0)"
      ]
     },
     "execution_count": 1115,
     "metadata": {},
     "output_type": "execute_result"
    }
   ],
   "source": [
    "svm_classifier.fit(X2_train, Y2_train)  # Building svm model."
   ]
  },
  {
   "cell_type": "markdown",
   "id": "dccfdc15",
   "metadata": {},
   "source": [
    "## Applying Grid Search to find the best model and the best parameters"
   ]
  },
  {
   "cell_type": "code",
   "execution_count": null,
   "id": "34d97829",
   "metadata": {},
   "outputs": [],
   "source": [
    "grid_search.fit(X2_train, Y2_train)  # applying the search on our model.\n",
    "best_accuracy = grid_search.best_score_  # the best accuracy \n",
    "best_parameters = grid_search.best_params_  # the best paramaters that gave the best accurecy\n",
    "print(\"Best Accuracy: {:.2f} %\".format(best_accuracy*100))  # printing best accuracy\n",
    "print(\"Best Parameters:\", best_parameters)  # printing the best parameters"
   ]
  },
  {
   "cell_type": "markdown",
   "id": "6f2bb7b8",
   "metadata": {},
   "source": [
    "### predicting result"
   ]
  },
  {
   "cell_type": "code",
   "execution_count": 1116,
   "id": "f8a545c4",
   "metadata": {},
   "outputs": [
    {
     "name": "stdout",
     "output_type": "stream",
     "text": [
      "pred-real\n",
      "[[0 1]\n",
      " [0 1]\n",
      " [0 1]\n",
      " ...\n",
      " [0 1]\n",
      " [0 0]\n",
      " [0 0]]\n"
     ]
    }
   ],
   "source": [
    "svm_Y2_pred = svm_classifier.predict(X2_test)  # Predicted results.\n",
    "print(\"pred-real\")  # printing predicted and real values.\n",
    "print(np.concatenate((svm_Y2_pred.reshape(len(svm_Y2_pred),1), Y2_test.reshape(len(Y2_test),1)),1))  # Predicted results and real results in a np array."
   ]
  },
  {
   "cell_type": "markdown",
   "id": "e0aa879e",
   "metadata": {},
   "source": [
    "### Confusion matrix"
   ]
  },
  {
   "cell_type": "code",
   "execution_count": 1117,
   "id": "294b3ca6",
   "metadata": {},
   "outputs": [
    {
     "name": "stdout",
     "output_type": "stream",
     "text": [
      "correct_0-incorrct_1\n",
      "incorrect_0-correct_1\n",
      "[[2600  993]\n",
      " [2826  793]]\n"
     ]
    }
   ],
   "source": [
    "svm_cm2 = confusion_matrix(Y2_test, svm_Y2_pred)  # creating the confusion matrix\n",
    "print(\"correct_0-incorrct_1\\nincorrect_0-correct_1\")  # printing correct and inccrocet results.\n",
    "print(svm_cm2)  # prininting the confusion matrix."
   ]
  },
  {
   "cell_type": "code",
   "execution_count": 1118,
   "id": "901e717f",
   "metadata": {},
   "outputs": [
    {
     "data": {
      "image/png": "[encoded data removed]",
      "text/plain": [
       "<Figure size 576x396 with 2 Axes>"
      ]
     },
     "metadata": {},
     "output_type": "display_data"
    }
   ],
   "source": [
    "disp = ConfusionMatrixDisplay(confusion_matrix=svm_cm2)  # creaing the confusion matrix plot.                           \n",
    "disp.plot()  # displaying data in plot\n",
    "plt.title(\"Support vector machines\")  # adding a title to plot\n",
    "plt.show()  # showing the plot"
   ]
  },
  {
   "cell_type": "markdown",
   "id": "8986c151",
   "metadata": {},
   "source": [
    "### Getting accurcy of the model"
   ]
  },
  {
   "cell_type": "code",
   "execution_count": 1119,
   "id": "87fb34c3",
   "metadata": {},
   "outputs": [
    {
     "data": {
      "text/plain": [
       "47.05"
      ]
     },
     "execution_count": 1119,
     "metadata": {},
     "output_type": "execute_result"
    }
   ],
   "source": [
    "svm_accuracy2 = round(accuracy_score(Y2_test, svm_Y2_pred)*100, 2)  # getting model accurcy.\n",
    "round(accuracy_score(Y2_test, svm_Y2_pred)*100, 2)  # showing the model accurecy rounded to 2 decimal places."
   ]
  },
  {
   "cell_type": "markdown",
   "id": "67aa7542",
   "metadata": {},
   "source": [
    "## k-Fold Cross Validation"
   ]
  },
  {
   "cell_type": "code",
   "execution_count": 1229,
   "id": "ff35e2ec",
   "metadata": {},
   "outputs": [
    {
     "name": "stderr",
     "output_type": "stream",
     "text": [
      "C:\\Users\\User\\anaconda3\\lib\\site-packages\\sklearn\\utils\\validation.py:63: DataConversionWarning: A column-vector y was passed when a 1d array was expected. Please change the shape of y to (n_samples, ), for example using ravel().\n",
      "  return f(*args, **kwargs)\n",
      "C:\\Users\\User\\anaconda3\\lib\\site-packages\\sklearn\\utils\\validation.py:63: DataConversionWarning: A column-vector y was passed when a 1d array was expected. Please change the shape of y to (n_samples, ), for example using ravel().\n",
      "  return f(*args, **kwargs)\n",
      "C:\\Users\\User\\anaconda3\\lib\\site-packages\\sklearn\\utils\\validation.py:63: DataConversionWarning: A column-vector y was passed when a 1d array was expected. Please change the shape of y to (n_samples, ), for example using ravel().\n",
      "  return f(*args, **kwargs)\n",
      "C:\\Users\\User\\anaconda3\\lib\\site-packages\\sklearn\\utils\\validation.py:63: DataConversionWarning: A column-vector y was passed when a 1d array was expected. Please change the shape of y to (n_samples, ), for example using ravel().\n",
      "  return f(*args, **kwargs)\n",
      "C:\\Users\\User\\anaconda3\\lib\\site-packages\\sklearn\\utils\\validation.py:63: DataConversionWarning: A column-vector y was passed when a 1d array was expected. Please change the shape of y to (n_samples, ), for example using ravel().\n",
      "  return f(*args, **kwargs)\n",
      "C:\\Users\\User\\anaconda3\\lib\\site-packages\\sklearn\\utils\\validation.py:63: DataConversionWarning: A column-vector y was passed when a 1d array was expected. Please change the shape of y to (n_samples, ), for example using ravel().\n",
      "  return f(*args, **kwargs)\n",
      "C:\\Users\\User\\anaconda3\\lib\\site-packages\\sklearn\\utils\\validation.py:63: DataConversionWarning: A column-vector y was passed when a 1d array was expected. Please change the shape of y to (n_samples, ), for example using ravel().\n",
      "  return f(*args, **kwargs)\n",
      "C:\\Users\\User\\anaconda3\\lib\\site-packages\\sklearn\\utils\\validation.py:63: DataConversionWarning: A column-vector y was passed when a 1d array was expected. Please change the shape of y to (n_samples, ), for example using ravel().\n",
      "  return f(*args, **kwargs)\n",
      "C:\\Users\\User\\anaconda3\\lib\\site-packages\\sklearn\\utils\\validation.py:63: DataConversionWarning: A column-vector y was passed when a 1d array was expected. Please change the shape of y to (n_samples, ), for example using ravel().\n",
      "  return f(*args, **kwargs)\n",
      "C:\\Users\\User\\anaconda3\\lib\\site-packages\\sklearn\\utils\\validation.py:63: DataConversionWarning: A column-vector y was passed when a 1d array was expected. Please change the shape of y to (n_samples, ), for example using ravel().\n",
      "  return f(*args, **kwargs)\n"
     ]
    },
    {
     "name": "stdout",
     "output_type": "stream",
     "text": [
      "Accuracy: 66.86 %\n",
      "Standard Deviation: 0.92 %\n"
     ]
    }
   ],
   "source": [
    "accuracies = cross_val_score(estimator = svm_classifier, X = X2_train, y = Y2_train, cv = 10)   # performs 10 different tests to get average accurecy.\n",
    "print(\"Accuracy: {:.2f} %\".format(accuracies.mean()*100))  # accuracy printed\n",
    "print(\"Standard Deviation: {:.2f} %\".format(accuracies.std()*100))  # standard deveation printed (std -avarage or std+ avarage )"
   ]
  },
  {
   "cell_type": "markdown",
   "id": "53c79746",
   "metadata": {},
   "source": [
    "# Training the naive_bayes  on the traning sets"
   ]
  },
  {
   "cell_type": "markdown",
   "id": "ec22da5b",
   "metadata": {},
   "source": [
    "## For X_train and Y_Train  "
   ]
  },
  {
   "cell_type": "code",
   "execution_count": 923,
   "id": "4eee49b5",
   "metadata": {},
   "outputs": [],
   "source": [
    "naive_bayes_classifier = GaussianNB()  # creating an instance of the object."
   ]
  },
  {
   "cell_type": "code",
   "execution_count": 924,
   "id": "394eb0e1",
   "metadata": {},
   "outputs": [
    {
     "name": "stderr",
     "output_type": "stream",
     "text": [
      "C:\\Users\\User\\anaconda3\\lib\\site-packages\\sklearn\\utils\\validation.py:63: DataConversionWarning: A column-vector y was passed when a 1d array was expected. Please change the shape of y to (n_samples, ), for example using ravel().\n",
      "  return f(*args, **kwargs)\n"
     ]
    },
    {
     "data": {
      "text/plain": [
       "GaussianNB()"
      ]
     },
     "execution_count": 924,
     "metadata": {},
     "output_type": "execute_result"
    }
   ],
   "source": [
    "naive_bayes_classifier.fit(X_train, Y_train)  # Building naive_bayes model."
   ]
  },
  {
   "cell_type": "markdown",
   "id": "8ec5f1fc",
   "metadata": {},
   "source": [
    "### predicting result"
   ]
  },
  {
   "cell_type": "code",
   "execution_count": 925,
   "id": "049aebb6",
   "metadata": {},
   "outputs": [
    {
     "name": "stdout",
     "output_type": "stream",
     "text": [
      "pred-real\n",
      "[[1 1]\n",
      " [1 0]\n",
      " [1 1]\n",
      " ...\n",
      " [1 1]\n",
      " [1 1]\n",
      " [1 1]]\n"
     ]
    }
   ],
   "source": [
    "naive_bayes_Y_pred = naive_bayes_classifier.predict(X_test)  # Predicted results.\n",
    "print(\"pred-real\")  # printing predicted and real values.\n",
    "print(np.concatenate((naive_bayes_Y_pred.reshape(len(naive_bayes_Y_pred),1), Y_test.reshape(len(Y_test),1)),1))  # Predicted results and real results in a np array."
   ]
  },
  {
   "cell_type": "markdown",
   "id": "6d126438",
   "metadata": {},
   "source": [
    "### Confusion matrix"
   ]
  },
  {
   "cell_type": "code",
   "execution_count": 926,
   "id": "bdac1dee",
   "metadata": {},
   "outputs": [
    {
     "name": "stdout",
     "output_type": "stream",
     "text": [
      "correct_0-incorrct_1\n",
      "incorrect_0-correct_1\n",
      "[[ 457  762]\n",
      " [ 810 5183]]\n"
     ]
    }
   ],
   "source": [
    "naive_bayes_cm = confusion_matrix(Y_test, naive_bayes_Y_pred)  # creating the confusion matrix\n",
    "print(\"correct_0-incorrct_1\\nincorrect_0-correct_1\")  # printing correct and inccrocet results.\n",
    "print(naive_bayes_cm)  # prininting the confusion matrix."
   ]
  },
  {
   "cell_type": "code",
   "execution_count": 927,
   "id": "4b0df2da",
   "metadata": {},
   "outputs": [
    {
     "data": {
      "image/png": "[encoded data removed]",
      "text/plain": [
       "<Figure size 576x396 with 2 Axes>"
      ]
     },
     "metadata": {},
     "output_type": "display_data"
    }
   ],
   "source": [
    "disp = ConfusionMatrixDisplay(confusion_matrix=naive_bayes_cm)  # creaing the confusion matrix plot.                           \n",
    "disp.plot()  # displaying data in plot\n",
    "plt.title(\"naive bayes theorm\")  # adding a title to plot\n",
    "plt.show()  # showing the plot"
   ]
  },
  {
   "cell_type": "markdown",
   "id": "199408d0",
   "metadata": {},
   "source": [
    "### Getting accurcy of the model"
   ]
  },
  {
   "cell_type": "code",
   "execution_count": 928,
   "id": "0cf92cf2",
   "metadata": {},
   "outputs": [
    {
     "data": {
      "text/plain": [
       "78.2"
      ]
     },
     "execution_count": 928,
     "metadata": {},
     "output_type": "execute_result"
    }
   ],
   "source": [
    "naive_bayes_accuracy = round(accuracy_score(Y_test, naive_bayes_Y_pred)*100, 2) # storing accurcy.\n",
    "round(accuracy_score(Y_test, naive_bayes_Y_pred)*100, 2)  # showing the model accurecy rounded to 2 decimal places."
   ]
  },
  {
   "cell_type": "markdown",
   "id": "27d826e2",
   "metadata": {},
   "source": [
    "## k-Fold Cross Validation"
   ]
  },
  {
   "cell_type": "code",
   "execution_count": 1234,
   "id": "58d987ce",
   "metadata": {},
   "outputs": [
    {
     "name": "stderr",
     "output_type": "stream",
     "text": [
      "C:\\Users\\User\\anaconda3\\lib\\site-packages\\sklearn\\utils\\validation.py:63: DataConversionWarning: A column-vector y was passed when a 1d array was expected. Please change the shape of y to (n_samples, ), for example using ravel().\n",
      "  return f(*args, **kwargs)\n",
      "C:\\Users\\User\\anaconda3\\lib\\site-packages\\sklearn\\utils\\validation.py:63: DataConversionWarning: A column-vector y was passed when a 1d array was expected. Please change the shape of y to (n_samples, ), for example using ravel().\n",
      "  return f(*args, **kwargs)\n",
      "C:\\Users\\User\\anaconda3\\lib\\site-packages\\sklearn\\utils\\validation.py:63: DataConversionWarning: A column-vector y was passed when a 1d array was expected. Please change the shape of y to (n_samples, ), for example using ravel().\n",
      "  return f(*args, **kwargs)\n",
      "C:\\Users\\User\\anaconda3\\lib\\site-packages\\sklearn\\utils\\validation.py:63: DataConversionWarning: A column-vector y was passed when a 1d array was expected. Please change the shape of y to (n_samples, ), for example using ravel().\n",
      "  return f(*args, **kwargs)\n",
      "C:\\Users\\User\\anaconda3\\lib\\site-packages\\sklearn\\utils\\validation.py:63: DataConversionWarning: A column-vector y was passed when a 1d array was expected. Please change the shape of y to (n_samples, ), for example using ravel().\n",
      "  return f(*args, **kwargs)\n",
      "C:\\Users\\User\\anaconda3\\lib\\site-packages\\sklearn\\utils\\validation.py:63: DataConversionWarning: A column-vector y was passed when a 1d array was expected. Please change the shape of y to (n_samples, ), for example using ravel().\n",
      "  return f(*args, **kwargs)\n",
      "C:\\Users\\User\\anaconda3\\lib\\site-packages\\sklearn\\utils\\validation.py:63: DataConversionWarning: A column-vector y was passed when a 1d array was expected. Please change the shape of y to (n_samples, ), for example using ravel().\n",
      "  return f(*args, **kwargs)\n",
      "C:\\Users\\User\\anaconda3\\lib\\site-packages\\sklearn\\utils\\validation.py:63: DataConversionWarning: A column-vector y was passed when a 1d array was expected. Please change the shape of y to (n_samples, ), for example using ravel().\n",
      "  return f(*args, **kwargs)\n"
     ]
    },
    {
     "name": "stdout",
     "output_type": "stream",
     "text": [
      "Accuracy: 77.95 %\n",
      "Standard Deviation: 0.50 %\n"
     ]
    },
    {
     "name": "stderr",
     "output_type": "stream",
     "text": [
      "C:\\Users\\User\\anaconda3\\lib\\site-packages\\sklearn\\utils\\validation.py:63: DataConversionWarning: A column-vector y was passed when a 1d array was expected. Please change the shape of y to (n_samples, ), for example using ravel().\n",
      "  return f(*args, **kwargs)\n",
      "C:\\Users\\User\\anaconda3\\lib\\site-packages\\sklearn\\utils\\validation.py:63: DataConversionWarning: A column-vector y was passed when a 1d array was expected. Please change the shape of y to (n_samples, ), for example using ravel().\n",
      "  return f(*args, **kwargs)\n"
     ]
    }
   ],
   "source": [
    "accuracies = cross_val_score(estimator = naive_bayes_classifier, X = X_train, y = Y_train, cv = 10)   # performs 10 different tests to get average accurecy.\n",
    "print(\"Accuracy: {:.2f} %\".format(accuracies.mean()*100))  # accuracy printed\n",
    "print(\"Standard Deviation: {:.2f} %\".format(accuracies.std()*100))  # standard deveation printed (std -avarage or std+ avarage )"
   ]
  },
  {
   "cell_type": "markdown",
   "id": "413ac88d",
   "metadata": {},
   "source": [
    "## For X2_train and Y2_Train  "
   ]
  },
  {
   "cell_type": "code",
   "execution_count": 1120,
   "id": "0be12365",
   "metadata": {},
   "outputs": [
    {
     "name": "stderr",
     "output_type": "stream",
     "text": [
      "C:\\Users\\User\\anaconda3\\lib\\site-packages\\sklearn\\utils\\validation.py:63: DataConversionWarning: A column-vector y was passed when a 1d array was expected. Please change the shape of y to (n_samples, ), for example using ravel().\n",
      "  return f(*args, **kwargs)\n"
     ]
    },
    {
     "data": {
      "text/plain": [
       "GaussianNB()"
      ]
     },
     "execution_count": 1120,
     "metadata": {},
     "output_type": "execute_result"
    }
   ],
   "source": [
    "naive_bayes_classifier.fit(X2_train, Y2_train)  # Building naive_bayes model."
   ]
  },
  {
   "cell_type": "markdown",
   "id": "452db01f",
   "metadata": {},
   "source": [
    "### predicting result"
   ]
  },
  {
   "cell_type": "code",
   "execution_count": 1121,
   "id": "3af5ba6a",
   "metadata": {},
   "outputs": [
    {
     "name": "stdout",
     "output_type": "stream",
     "text": [
      "pred-real\n",
      "[[1 1]\n",
      " [0 1]\n",
      " [0 1]\n",
      " ...\n",
      " [0 1]\n",
      " [0 0]\n",
      " [0 0]]\n"
     ]
    }
   ],
   "source": [
    "naive_bayes_Y2_pred = naive_bayes_classifier.predict(X2_test)  # Predicted results.\n",
    "print(\"pred-real\")  # printing predicted and real values.\n",
    "print(np.concatenate((naive_bayes_Y2_pred.reshape(len(naive_bayes_Y2_pred),1), Y2_test.reshape(len(Y2_test),1)),1))  # Predicted results and real results in a np array."
   ]
  },
  {
   "cell_type": "markdown",
   "id": "b3474f69",
   "metadata": {},
   "source": [
    "### Confusion matrix"
   ]
  },
  {
   "cell_type": "code",
   "execution_count": 1122,
   "id": "bb400952",
   "metadata": {},
   "outputs": [
    {
     "name": "stdout",
     "output_type": "stream",
     "text": [
      "correct_0-incorrct_1\n",
      "incorrect_0-correct_1\n",
      "[[2468 1125]\n",
      " [2496 1123]]\n"
     ]
    }
   ],
   "source": [
    "naive_bayes_cm2 = confusion_matrix(Y2_test, naive_bayes_Y2_pred)  # creating the confusion matrix\n",
    "print(\"correct_0-incorrct_1\\nincorrect_0-correct_1\")  # printing correct and inccrocet results.\n",
    "print(naive_bayes_cm2)  # prininting the confusion matrix."
   ]
  },
  {
   "cell_type": "code",
   "execution_count": 1123,
   "id": "57c4da16",
   "metadata": {},
   "outputs": [
    {
     "data": {
      "image/png": "[encoded data removed]",
      "text/plain": [
       "<Figure size 576x396 with 2 Axes>"
      ]
     },
     "metadata": {},
     "output_type": "display_data"
    }
   ],
   "source": [
    "disp = ConfusionMatrixDisplay(confusion_matrix=naive_bayes_cm2)  # creaing the confusion matrix plot.                           \n",
    "disp.plot()  # displaying data in plot\n",
    "plt.title(\"naive bayes theorm\")  # adding a title to plot\n",
    "plt.show()  # showing the plot"
   ]
  },
  {
   "cell_type": "markdown",
   "id": "ee6c6f8e",
   "metadata": {},
   "source": [
    "### Getting accurcy of the model"
   ]
  },
  {
   "cell_type": "code",
   "execution_count": 1124,
   "id": "63dac91c",
   "metadata": {},
   "outputs": [
    {
     "data": {
      "text/plain": [
       "49.79"
      ]
     },
     "execution_count": 1124,
     "metadata": {},
     "output_type": "execute_result"
    }
   ],
   "source": [
    "naive_bayes_accuracy2 = round(accuracy_score(Y2_test, naive_bayes_Y2_pred)*100, 2)  # getting model accuracy. \n",
    "round(accuracy_score(Y2_test, naive_bayes_Y2_pred)*100, 2)  # showing the model accurecy rounded to 2 decimal places."
   ]
  },
  {
   "cell_type": "markdown",
   "id": "c3710510",
   "metadata": {},
   "source": [
    "## k-Fold Cross Validation"
   ]
  },
  {
   "cell_type": "code",
   "execution_count": 1235,
   "id": "f5ddeea6",
   "metadata": {},
   "outputs": [
    {
     "name": "stderr",
     "output_type": "stream",
     "text": [
      "C:\\Users\\User\\anaconda3\\lib\\site-packages\\sklearn\\utils\\validation.py:63: DataConversionWarning: A column-vector y was passed when a 1d array was expected. Please change the shape of y to (n_samples, ), for example using ravel().\n",
      "  return f(*args, **kwargs)\n",
      "C:\\Users\\User\\anaconda3\\lib\\site-packages\\sklearn\\utils\\validation.py:63: DataConversionWarning: A column-vector y was passed when a 1d array was expected. Please change the shape of y to (n_samples, ), for example using ravel().\n",
      "  return f(*args, **kwargs)\n",
      "C:\\Users\\User\\anaconda3\\lib\\site-packages\\sklearn\\utils\\validation.py:63: DataConversionWarning: A column-vector y was passed when a 1d array was expected. Please change the shape of y to (n_samples, ), for example using ravel().\n",
      "  return f(*args, **kwargs)\n",
      "C:\\Users\\User\\anaconda3\\lib\\site-packages\\sklearn\\utils\\validation.py:63: DataConversionWarning: A column-vector y was passed when a 1d array was expected. Please change the shape of y to (n_samples, ), for example using ravel().\n",
      "  return f(*args, **kwargs)\n",
      "C:\\Users\\User\\anaconda3\\lib\\site-packages\\sklearn\\utils\\validation.py:63: DataConversionWarning: A column-vector y was passed when a 1d array was expected. Please change the shape of y to (n_samples, ), for example using ravel().\n",
      "  return f(*args, **kwargs)\n",
      "C:\\Users\\User\\anaconda3\\lib\\site-packages\\sklearn\\utils\\validation.py:63: DataConversionWarning: A column-vector y was passed when a 1d array was expected. Please change the shape of y to (n_samples, ), for example using ravel().\n",
      "  return f(*args, **kwargs)\n",
      "C:\\Users\\User\\anaconda3\\lib\\site-packages\\sklearn\\utils\\validation.py:63: DataConversionWarning: A column-vector y was passed when a 1d array was expected. Please change the shape of y to (n_samples, ), for example using ravel().\n",
      "  return f(*args, **kwargs)\n"
     ]
    },
    {
     "name": "stdout",
     "output_type": "stream",
     "text": [
      "Accuracy: 53.46 %\n",
      "Standard Deviation: 0.54 %\n"
     ]
    },
    {
     "name": "stderr",
     "output_type": "stream",
     "text": [
      "C:\\Users\\User\\anaconda3\\lib\\site-packages\\sklearn\\utils\\validation.py:63: DataConversionWarning: A column-vector y was passed when a 1d array was expected. Please change the shape of y to (n_samples, ), for example using ravel().\n",
      "  return f(*args, **kwargs)\n",
      "C:\\Users\\User\\anaconda3\\lib\\site-packages\\sklearn\\utils\\validation.py:63: DataConversionWarning: A column-vector y was passed when a 1d array was expected. Please change the shape of y to (n_samples, ), for example using ravel().\n",
      "  return f(*args, **kwargs)\n",
      "C:\\Users\\User\\anaconda3\\lib\\site-packages\\sklearn\\utils\\validation.py:63: DataConversionWarning: A column-vector y was passed when a 1d array was expected. Please change the shape of y to (n_samples, ), for example using ravel().\n",
      "  return f(*args, **kwargs)\n"
     ]
    }
   ],
   "source": [
    "accuracies = cross_val_score(estimator = naive_bayes_classifier, X = X2_train, y = Y2_train, cv = 10)   # performs 10 different tests to get average accurecy.\n",
    "print(\"Accuracy: {:.2f} %\".format(accuracies.mean()*100))  # accuracy printed\n",
    "print(\"Standard Deviation: {:.2f} %\".format(accuracies.std()*100))  # standard deveation printed (std -avarage or std+ avarage )"
   ]
  },
  {
   "cell_type": "markdown",
   "id": "3742da8a",
   "metadata": {},
   "source": [
    "# Training the DecisionTree model on the traning sets"
   ]
  },
  {
   "cell_type": "markdown",
   "id": "37265b24",
   "metadata": {},
   "source": [
    "## For X_train and Y_Train  "
   ]
  },
  {
   "cell_type": "code",
   "execution_count": 934,
   "id": "fd1ef938",
   "metadata": {},
   "outputs": [],
   "source": [
    "DecisionTree_classifier = DecisionTreeClassifier(criterion = 'entropy', random_state=0)  # creating an instance of the object."
   ]
  },
  {
   "cell_type": "code",
   "execution_count": 935,
   "id": "62e9eb5d",
   "metadata": {},
   "outputs": [
    {
     "data": {
      "text/plain": [
       "DecisionTreeClassifier(criterion='entropy', random_state=0)"
      ]
     },
     "execution_count": 935,
     "metadata": {},
     "output_type": "execute_result"
    }
   ],
   "source": [
    "DecisionTree_classifier.fit(X_train, Y_train)  # Building DecisionTree model."
   ]
  },
  {
   "cell_type": "markdown",
   "id": "11d941b0",
   "metadata": {},
   "source": [
    "### predicting result"
   ]
  },
  {
   "cell_type": "code",
   "execution_count": 936,
   "id": "6c09d847",
   "metadata": {},
   "outputs": [
    {
     "name": "stdout",
     "output_type": "stream",
     "text": [
      "pred-real\n",
      "[[1 1]\n",
      " [1 0]\n",
      " [1 1]\n",
      " ...\n",
      " [1 1]\n",
      " [1 1]\n",
      " [1 1]]\n"
     ]
    }
   ],
   "source": [
    "DecisionTree_Y_pred = DecisionTree_classifier.predict(X_test)  # Predicted results.\n",
    "print(\"pred-real\")  # printing predicted and real values.\n",
    "print(np.concatenate((DecisionTree_Y_pred.reshape(len(DecisionTree_Y_pred),1), Y_test.reshape(len(Y_test),1)),1))  # Predicted results and real results in a np array."
   ]
  },
  {
   "cell_type": "markdown",
   "id": "186eb0f5",
   "metadata": {},
   "source": [
    "### Confusion matrix"
   ]
  },
  {
   "cell_type": "code",
   "execution_count": 937,
   "id": "c8eebcbe",
   "metadata": {},
   "outputs": [
    {
     "name": "stdout",
     "output_type": "stream",
     "text": [
      "correct_0-incorrct_1\n",
      "incorrect_0-correct_1\n",
      "[[   0 1219]\n",
      " [   0 5993]]\n"
     ]
    }
   ],
   "source": [
    "DecisionTree_cm = confusion_matrix(Y_test, DecisionTree_Y_pred)  # creating the confusion matrix\n",
    "print(\"correct_0-incorrct_1\\nincorrect_0-correct_1\")  # printing correct and inccrocet results.\n",
    "print(DecisionTree_cm)  # prininting the confusion matrix."
   ]
  },
  {
   "cell_type": "code",
   "execution_count": 938,
   "id": "c13ee736",
   "metadata": {},
   "outputs": [
    {
     "data": {
      "image/png": "[encoded data removed]",
      "text/plain": [
       "<Figure size 576x396 with 2 Axes>"
      ]
     },
     "metadata": {},
     "output_type": "display_data"
    }
   ],
   "source": [
    "disp = ConfusionMatrixDisplay(confusion_matrix=DecisionTree_cm)  # creaing the confusion matrix plot.                           \n",
    "disp.plot()  # displaying data in plot\n",
    "plt.title(\"DecisionTree\")  # adding a title to plot\n",
    "plt.show()  # showing the plot"
   ]
  },
  {
   "cell_type": "markdown",
   "id": "7fc30f5c",
   "metadata": {},
   "source": [
    "### Getting accurcy of the model"
   ]
  },
  {
   "cell_type": "code",
   "execution_count": 939,
   "id": "5d3354e9",
   "metadata": {},
   "outputs": [
    {
     "data": {
      "text/plain": [
       "83.1"
      ]
     },
     "execution_count": 939,
     "metadata": {},
     "output_type": "execute_result"
    }
   ],
   "source": [
    "DecisionTree_accuracy = round(accuracy_score(Y_test, DecisionTree_Y_pred)*100, 2)  # storing accuracy.\n",
    "round(accuracy_score(Y_test, DecisionTree_Y_pred)*100, 2)  # showing the model accurecy rounded to 2 decimal places."
   ]
  },
  {
   "cell_type": "markdown",
   "id": "846a0285",
   "metadata": {},
   "source": [
    "## k-Fold Cross Validation"
   ]
  },
  {
   "cell_type": "code",
   "execution_count": 1237,
   "id": "99aa50d8",
   "metadata": {},
   "outputs": [
    {
     "name": "stdout",
     "output_type": "stream",
     "text": [
      "Accuracy: 83.65 %\n",
      "Standard Deviation: 0.01 %\n"
     ]
    }
   ],
   "source": [
    "accuracies = cross_val_score(estimator = DecisionTree_classifier, X = X_train, y = Y_train, cv = 10)   # performs 10 different tests to get average accurecy.\n",
    "print(\"Accuracy: {:.2f} %\".format(accuracies.mean()*100))  # accuracy printed\n",
    "print(\"Standard Deviation: {:.2f} %\".format(accuracies.std()*100))  # standard deveation printed (std -avarage or std+ avarage )"
   ]
  },
  {
   "cell_type": "markdown",
   "id": "ff8b4331",
   "metadata": {},
   "source": [
    "## For X2_train and Y2_Train  "
   ]
  },
  {
   "cell_type": "code",
   "execution_count": 1125,
   "id": "1fc5d398",
   "metadata": {},
   "outputs": [
    {
     "data": {
      "text/plain": [
       "DecisionTreeClassifier(criterion='entropy', random_state=0)"
      ]
     },
     "execution_count": 1125,
     "metadata": {},
     "output_type": "execute_result"
    }
   ],
   "source": [
    "DecisionTree_classifier.fit(X2_train, Y2_train)  # Building DecisionTree model."
   ]
  },
  {
   "cell_type": "markdown",
   "id": "d180f058",
   "metadata": {},
   "source": [
    "### predicting result"
   ]
  },
  {
   "cell_type": "code",
   "execution_count": 1126,
   "id": "cd85d093",
   "metadata": {},
   "outputs": [
    {
     "name": "stdout",
     "output_type": "stream",
     "text": [
      "pred-real\n",
      "[[0 1]\n",
      " [1 1]\n",
      " [0 1]\n",
      " ...\n",
      " [1 1]\n",
      " [1 0]\n",
      " [1 0]]\n"
     ]
    }
   ],
   "source": [
    "DecisionTree_Y2_pred = DecisionTree_classifier.predict(X2_test)  # Predicted results.\n",
    "print(\"pred-real\")  # printing predicted and real values.\n",
    "print(np.concatenate((DecisionTree_Y2_pred.reshape(len(DecisionTree_Y2_pred),1), Y2_test.reshape(len(Y2_test),1)),1))  # Predicted results and real results in a np array."
   ]
  },
  {
   "cell_type": "markdown",
   "id": "b2890b90",
   "metadata": {},
   "source": [
    "### Confusion matrix"
   ]
  },
  {
   "cell_type": "code",
   "execution_count": 1127,
   "id": "b6bc4272",
   "metadata": {},
   "outputs": [
    {
     "name": "stdout",
     "output_type": "stream",
     "text": [
      "correct_0-incorrct_1\n",
      "incorrect_0-correct_1\n",
      "[[ 348 3245]\n",
      " [ 524 3095]]\n"
     ]
    }
   ],
   "source": [
    "DecisionTree_cm2 = confusion_matrix(Y2_test, DecisionTree_Y2_pred)  # creating the confusion matrix\n",
    "print(\"correct_0-incorrct_1\\nincorrect_0-correct_1\")  # printing correct and inccrocet results.\n",
    "print(DecisionTree_cm2)  # prininting the confusion matrix."
   ]
  },
  {
   "cell_type": "code",
   "execution_count": 1128,
   "id": "31f7c56d",
   "metadata": {},
   "outputs": [
    {
     "data": {
      "image/png": "[encoded data removed]",
      "text/plain": [
       "<Figure size 576x396 with 2 Axes>"
      ]
     },
     "metadata": {},
     "output_type": "display_data"
    }
   ],
   "source": [
    "disp = ConfusionMatrixDisplay(confusion_matrix=DecisionTree_cm2)  # creaing the confusion matrix plot.                           \n",
    "disp.plot()  # displaying data in plot\n",
    "plt.title(\"DecisionTree\")  # adding a title to plot\n",
    "plt.show()  # showing the plot"
   ]
  },
  {
   "cell_type": "markdown",
   "id": "669122c2",
   "metadata": {},
   "source": [
    "### Getting accurcy of the model"
   ]
  },
  {
   "cell_type": "code",
   "execution_count": 1129,
   "id": "8a5591db",
   "metadata": {},
   "outputs": [
    {
     "data": {
      "text/plain": [
       "47.74"
      ]
     },
     "execution_count": 1129,
     "metadata": {},
     "output_type": "execute_result"
    }
   ],
   "source": [
    "DecisionTree_accuracy2 = round(accuracy_score(Y2_test, DecisionTree_Y2_pred)*100, 2) # storing accuray.\n",
    "round(accuracy_score(Y2_test, DecisionTree_Y2_pred)*100, 2)  # showing the model accurecy rounded to 2 decimal places."
   ]
  },
  {
   "cell_type": "markdown",
   "id": "16606584",
   "metadata": {},
   "source": [
    "## k-Fold Cross Validation"
   ]
  },
  {
   "cell_type": "code",
   "execution_count": 1236,
   "id": "b03bf04c",
   "metadata": {},
   "outputs": [
    {
     "name": "stdout",
     "output_type": "stream",
     "text": [
      "Accuracy: 71.09 %\n",
      "Standard Deviation: 0.51 %\n"
     ]
    }
   ],
   "source": [
    "accuracies = cross_val_score(estimator = DecisionTree_classifier, X = X2_train, y = Y2_train, cv = 10)   # performs 10 different tests to get average accurecy.\n",
    "print(\"Accuracy: {:.2f} %\".format(accuracies.mean()*100))  # accuracy printed\n",
    "print(\"Standard Deviation: {:.2f} %\".format(accuracies.std()*100))  # standard deveation printed (std -avarage or std+ avarage )"
   ]
  },
  {
   "cell_type": "markdown",
   "id": "bf644a84",
   "metadata": {},
   "source": [
    "# Training the randomforest model on the traning sets"
   ]
  },
  {
   "cell_type": "markdown",
   "id": "7f50cbda",
   "metadata": {},
   "source": [
    "## For X_train and Y_Train  "
   ]
  },
  {
   "cell_type": "code",
   "execution_count": 945,
   "id": "d94d5e5a",
   "metadata": {},
   "outputs": [],
   "source": [
    "RandomForest_classifier = RandomForestClassifier(n_estimators = 15, criterion = 'entropy', random_state=0)  # creating an instance of the object."
   ]
  },
  {
   "cell_type": "code",
   "execution_count": 946,
   "id": "7df231ff",
   "metadata": {},
   "outputs": [
    {
     "name": "stderr",
     "output_type": "stream",
     "text": [
      "<ipython-input-946-18e029da45e6>:1: DataConversionWarning: A column-vector y was passed when a 1d array was expected. Please change the shape of y to (n_samples,), for example using ravel().\n",
      "  RandomForest_classifier.fit(X_train, Y_train)  # Building RandomForest model.\n"
     ]
    },
    {
     "data": {
      "text/plain": [
       "RandomForestClassifier(criterion='entropy', n_estimators=15, random_state=0)"
      ]
     },
     "execution_count": 946,
     "metadata": {},
     "output_type": "execute_result"
    }
   ],
   "source": [
    "RandomForest_classifier.fit(X_train, Y_train)  # Building RandomForest model."
   ]
  },
  {
   "cell_type": "markdown",
   "id": "c87ebb29",
   "metadata": {},
   "source": [
    "### predicting result"
   ]
  },
  {
   "cell_type": "code",
   "execution_count": 947,
   "id": "a06a0093",
   "metadata": {},
   "outputs": [
    {
     "name": "stdout",
     "output_type": "stream",
     "text": [
      "pred-real\n",
      "[[1 1]\n",
      " [1 0]\n",
      " [1 1]\n",
      " ...\n",
      " [1 1]\n",
      " [1 1]\n",
      " [1 1]]\n"
     ]
    }
   ],
   "source": [
    "RandomForest_Y_pred = RandomForest_classifier.predict(X_test)  # Predicted results.\n",
    "print(\"pred-real\")  # printing predicted and real values.\n",
    "print(np.concatenate((RandomForest_Y_pred.reshape(len(RandomForest_Y_pred),1), Y_test.reshape(len(Y_test),1)),1))  # Predicted results and real results in a np array."
   ]
  },
  {
   "cell_type": "markdown",
   "id": "60f3df54",
   "metadata": {},
   "source": [
    "### Confusion matrix"
   ]
  },
  {
   "cell_type": "code",
   "execution_count": 948,
   "id": "ae1e40e2",
   "metadata": {},
   "outputs": [
    {
     "name": "stdout",
     "output_type": "stream",
     "text": [
      "correct_0-incorrct_1\n",
      "incorrect_0-correct_1\n",
      "[[   0 1219]\n",
      " [   0 5993]]\n"
     ]
    }
   ],
   "source": [
    "RandomForest_cm = confusion_matrix(Y_test, RandomForest_Y_pred)  # creating the confusion matrix\n",
    "print(\"correct_0-incorrct_1\\nincorrect_0-correct_1\")  # printing correct and inccrocet results.\n",
    "print(DecisionTree_cm)  # prininting the confusion matrix."
   ]
  },
  {
   "cell_type": "code",
   "execution_count": 949,
   "id": "03af060f",
   "metadata": {},
   "outputs": [
    {
     "data": {
      "image/png": "[encoded data removed]",
      "text/plain": [
       "<Figure size 576x396 with 2 Axes>"
      ]
     },
     "metadata": {},
     "output_type": "display_data"
    }
   ],
   "source": [
    "disp = ConfusionMatrixDisplay(confusion_matrix=RandomForest_cm)  # creaing the confusion matrix plot.                           \n",
    "disp.plot()  # displaying data in plot\n",
    "plt.title(\"RandomForest\")  # adding a title to plot\n",
    "plt.show()  # showing the plot"
   ]
  },
  {
   "cell_type": "markdown",
   "id": "ed895d85",
   "metadata": {},
   "source": [
    "### Getting accurcy of the model"
   ]
  },
  {
   "cell_type": "code",
   "execution_count": 950,
   "id": "95b1f206",
   "metadata": {},
   "outputs": [
    {
     "data": {
      "text/plain": [
       "83.1"
      ]
     },
     "execution_count": 950,
     "metadata": {},
     "output_type": "execute_result"
    }
   ],
   "source": [
    "RandomForest_accuracy = round(accuracy_score(Y_test, RandomForest_Y_pred)*100, 2)  # storing accuracy.\n",
    "round(accuracy_score(Y_test, RandomForest_Y_pred)*100, 2)  # showing the model accurecy rounded to 2 decimal places."
   ]
  },
  {
   "cell_type": "markdown",
   "id": "77f0c1fc",
   "metadata": {},
   "source": [
    "## k-Fold Cross Validation"
   ]
  },
  {
   "cell_type": "code",
   "execution_count": 1238,
   "id": "786af866",
   "metadata": {},
   "outputs": [
    {
     "name": "stderr",
     "output_type": "stream",
     "text": [
      "C:\\Users\\User\\anaconda3\\lib\\site-packages\\sklearn\\model_selection\\_validation.py:593: DataConversionWarning: A column-vector y was passed when a 1d array was expected. Please change the shape of y to (n_samples,), for example using ravel().\n",
      "  estimator.fit(X_train, y_train, **fit_params)\n",
      "C:\\Users\\User\\anaconda3\\lib\\site-packages\\sklearn\\model_selection\\_validation.py:593: DataConversionWarning: A column-vector y was passed when a 1d array was expected. Please change the shape of y to (n_samples,), for example using ravel().\n",
      "  estimator.fit(X_train, y_train, **fit_params)\n",
      "C:\\Users\\User\\anaconda3\\lib\\site-packages\\sklearn\\model_selection\\_validation.py:593: DataConversionWarning: A column-vector y was passed when a 1d array was expected. Please change the shape of y to (n_samples,), for example using ravel().\n",
      "  estimator.fit(X_train, y_train, **fit_params)\n",
      "C:\\Users\\User\\anaconda3\\lib\\site-packages\\sklearn\\model_selection\\_validation.py:593: DataConversionWarning: A column-vector y was passed when a 1d array was expected. Please change the shape of y to (n_samples,), for example using ravel().\n",
      "  estimator.fit(X_train, y_train, **fit_params)\n",
      "C:\\Users\\User\\anaconda3\\lib\\site-packages\\sklearn\\model_selection\\_validation.py:593: DataConversionWarning: A column-vector y was passed when a 1d array was expected. Please change the shape of y to (n_samples,), for example using ravel().\n",
      "  estimator.fit(X_train, y_train, **fit_params)\n",
      "C:\\Users\\User\\anaconda3\\lib\\site-packages\\sklearn\\model_selection\\_validation.py:593: DataConversionWarning: A column-vector y was passed when a 1d array was expected. Please change the shape of y to (n_samples,), for example using ravel().\n",
      "  estimator.fit(X_train, y_train, **fit_params)\n",
      "C:\\Users\\User\\anaconda3\\lib\\site-packages\\sklearn\\model_selection\\_validation.py:593: DataConversionWarning: A column-vector y was passed when a 1d array was expected. Please change the shape of y to (n_samples,), for example using ravel().\n",
      "  estimator.fit(X_train, y_train, **fit_params)\n",
      "C:\\Users\\User\\anaconda3\\lib\\site-packages\\sklearn\\model_selection\\_validation.py:593: DataConversionWarning: A column-vector y was passed when a 1d array was expected. Please change the shape of y to (n_samples,), for example using ravel().\n",
      "  estimator.fit(X_train, y_train, **fit_params)\n",
      "C:\\Users\\User\\anaconda3\\lib\\site-packages\\sklearn\\model_selection\\_validation.py:593: DataConversionWarning: A column-vector y was passed when a 1d array was expected. Please change the shape of y to (n_samples,), for example using ravel().\n",
      "  estimator.fit(X_train, y_train, **fit_params)\n",
      "C:\\Users\\User\\anaconda3\\lib\\site-packages\\sklearn\\model_selection\\_validation.py:593: DataConversionWarning: A column-vector y was passed when a 1d array was expected. Please change the shape of y to (n_samples,), for example using ravel().\n",
      "  estimator.fit(X_train, y_train, **fit_params)\n"
     ]
    },
    {
     "name": "stdout",
     "output_type": "stream",
     "text": [
      "Accuracy: 83.65 %\n",
      "Standard Deviation: 0.01 %\n"
     ]
    }
   ],
   "source": [
    "accuracies = cross_val_score(estimator = RandomForest_classifier, X = X_train, y = Y_train, cv = 10)   # performs 10 different tests to get average accurecy.\n",
    "print(\"Accuracy: {:.2f} %\".format(accuracies.mean()*100))  # accuracy printed\n",
    "print(\"Standard Deviation: {:.2f} %\".format(accuracies.std()*100))  # standard deveation printed (std -avarage or std+ avarage )"
   ]
  },
  {
   "cell_type": "markdown",
   "id": "b55094ee",
   "metadata": {},
   "source": [
    "## For X2_train and Y2_Train  "
   ]
  },
  {
   "cell_type": "code",
   "execution_count": 1130,
   "id": "7645b783",
   "metadata": {},
   "outputs": [
    {
     "name": "stderr",
     "output_type": "stream",
     "text": [
      "<ipython-input-1130-1a8eab145cbc>:1: DataConversionWarning: A column-vector y was passed when a 1d array was expected. Please change the shape of y to (n_samples,), for example using ravel().\n",
      "  RandomForest_classifier.fit(X2_train, Y2_train)  # Building RandomForest model.\n"
     ]
    },
    {
     "data": {
      "text/plain": [
       "RandomForestClassifier(criterion='entropy', n_estimators=15, random_state=0)"
      ]
     },
     "execution_count": 1130,
     "metadata": {},
     "output_type": "execute_result"
    }
   ],
   "source": [
    "RandomForest_classifier.fit(X2_train, Y2_train)  # Building RandomForest model."
   ]
  },
  {
   "cell_type": "markdown",
   "id": "7c732db1",
   "metadata": {},
   "source": [
    "### predicting result"
   ]
  },
  {
   "cell_type": "code",
   "execution_count": 1131,
   "id": "cf7e73fd",
   "metadata": {},
   "outputs": [
    {
     "name": "stdout",
     "output_type": "stream",
     "text": [
      "pred-real\n",
      "[[1 1]\n",
      " [0 1]\n",
      " [0 1]\n",
      " ...\n",
      " [0 1]\n",
      " [1 0]\n",
      " [1 0]]\n"
     ]
    }
   ],
   "source": [
    "RandomForest_Y2_pred = RandomForest_classifier.predict(X2_test)  # Predicted results.\n",
    "print(\"pred-real\")  # printing predicted and real values.\n",
    "print(np.concatenate((RandomForest_Y2_pred.reshape(len(RandomForest_Y2_pred),1), Y2_test.reshape(len(Y2_test),1)),1))  # Predicted results and real results in a np array."
   ]
  },
  {
   "cell_type": "markdown",
   "id": "120d1307",
   "metadata": {},
   "source": [
    "### Confusion matrix"
   ]
  },
  {
   "cell_type": "code",
   "execution_count": 1132,
   "id": "3975b533",
   "metadata": {},
   "outputs": [
    {
     "name": "stdout",
     "output_type": "stream",
     "text": [
      "correct_0-incorrct_1\n",
      "incorrect_0-correct_1\n",
      "[[ 568 3025]\n",
      " [ 808 2811]]\n"
     ]
    }
   ],
   "source": [
    "RandomForest_cm2 = confusion_matrix(Y2_test, RandomForest_Y2_pred)  # creating the confusion matrix\n",
    "print(\"correct_0-incorrct_1\\nincorrect_0-correct_1\")  # printing correct and inccrocet results.\n",
    "print(RandomForest_cm2)  # prininting the confusion matrix."
   ]
  },
  {
   "cell_type": "code",
   "execution_count": 1133,
   "id": "ccde79ad",
   "metadata": {},
   "outputs": [
    {
     "data": {
      "image/png": "[encoded data removed]",
      "text/plain": [
       "<Figure size 576x396 with 2 Axes>"
      ]
     },
     "metadata": {},
     "output_type": "display_data"
    }
   ],
   "source": [
    "disp = ConfusionMatrixDisplay(confusion_matrix=RandomForest_cm2)  # creaing the confusion matrix plot.                           \n",
    "disp.plot()  # displaying data in plot\n",
    "plt.title(\"RandomForest\")  # adding a title to plot\n",
    "plt.show()  # showing the plot"
   ]
  },
  {
   "cell_type": "markdown",
   "id": "e6250b01",
   "metadata": {},
   "source": [
    "### Getting accurcy of the model"
   ]
  },
  {
   "cell_type": "code",
   "execution_count": 1134,
   "id": "52065e66",
   "metadata": {},
   "outputs": [
    {
     "data": {
      "text/plain": [
       "46.85"
      ]
     },
     "execution_count": 1134,
     "metadata": {},
     "output_type": "execute_result"
    }
   ],
   "source": [
    "RandomForest_accuracy2 = round(accuracy_score(Y2_test, RandomForest_Y2_pred)*100, 2)  # storing accuracy.\n",
    "round(accuracy_score(Y2_test, RandomForest_Y2_pred)*100, 2)  # showing the model accurecy rounded to 2 decimal places."
   ]
  },
  {
   "cell_type": "markdown",
   "id": "69d21966",
   "metadata": {},
   "source": [
    "## k-Fold Cross Validation"
   ]
  },
  {
   "cell_type": "code",
   "execution_count": 1243,
   "id": "006ef91b",
   "metadata": {
    "scrolled": true
   },
   "outputs": [
    {
     "name": "stderr",
     "output_type": "stream",
     "text": [
      "C:\\Users\\User\\anaconda3\\lib\\site-packages\\sklearn\\model_selection\\_validation.py:593: DataConversionWarning: A column-vector y was passed when a 1d array was expected. Please change the shape of y to (n_samples,), for example using ravel().\n",
      "  estimator.fit(X_train, y_train, **fit_params)\n",
      "C:\\Users\\User\\anaconda3\\lib\\site-packages\\sklearn\\model_selection\\_validation.py:593: DataConversionWarning: A column-vector y was passed when a 1d array was expected. Please change the shape of y to (n_samples,), for example using ravel().\n",
      "  estimator.fit(X_train, y_train, **fit_params)\n",
      "C:\\Users\\User\\anaconda3\\lib\\site-packages\\sklearn\\model_selection\\_validation.py:593: DataConversionWarning: A column-vector y was passed when a 1d array was expected. Please change the shape of y to (n_samples,), for example using ravel().\n",
      "  estimator.fit(X_train, y_train, **fit_params)\n",
      "C:\\Users\\User\\anaconda3\\lib\\site-packages\\sklearn\\model_selection\\_validation.py:593: DataConversionWarning: A column-vector y was passed when a 1d array was expected. Please change the shape of y to (n_samples,), for example using ravel().\n",
      "  estimator.fit(X_train, y_train, **fit_params)\n",
      "C:\\Users\\User\\anaconda3\\lib\\site-packages\\sklearn\\model_selection\\_validation.py:593: DataConversionWarning: A column-vector y was passed when a 1d array was expected. Please change the shape of y to (n_samples,), for example using ravel().\n",
      "  estimator.fit(X_train, y_train, **fit_params)\n",
      "C:\\Users\\User\\anaconda3\\lib\\site-packages\\sklearn\\model_selection\\_validation.py:593: DataConversionWarning: A column-vector y was passed when a 1d array was expected. Please change the shape of y to (n_samples,), for example using ravel().\n",
      "  estimator.fit(X_train, y_train, **fit_params)\n",
      "C:\\Users\\User\\anaconda3\\lib\\site-packages\\sklearn\\model_selection\\_validation.py:593: DataConversionWarning: A column-vector y was passed when a 1d array was expected. Please change the shape of y to (n_samples,), for example using ravel().\n",
      "  estimator.fit(X_train, y_train, **fit_params)\n",
      "C:\\Users\\User\\anaconda3\\lib\\site-packages\\sklearn\\model_selection\\_validation.py:593: DataConversionWarning: A column-vector y was passed when a 1d array was expected. Please change the shape of y to (n_samples,), for example using ravel().\n",
      "  estimator.fit(X_train, y_train, **fit_params)\n",
      "C:\\Users\\User\\anaconda3\\lib\\site-packages\\sklearn\\model_selection\\_validation.py:593: DataConversionWarning: A column-vector y was passed when a 1d array was expected. Please change the shape of y to (n_samples,), for example using ravel().\n",
      "  estimator.fit(X_train, y_train, **fit_params)\n",
      "C:\\Users\\User\\anaconda3\\lib\\site-packages\\sklearn\\model_selection\\_validation.py:593: DataConversionWarning: A column-vector y was passed when a 1d array was expected. Please change the shape of y to (n_samples,), for example using ravel().\n",
      "  estimator.fit(X_train, y_train, **fit_params)\n"
     ]
    },
    {
     "name": "stdout",
     "output_type": "stream",
     "text": [
      "Accuracy: 73.25 %\n",
      "Standard Deviation: 0.49 %\n"
     ]
    }
   ],
   "source": [
    "accuracies = cross_val_score(estimator = RandomForest_classifier, X = X2_train, y = Y2_train, cv = 10)   # performs 10 different tests to get average accurecy.\n",
    "print(\"Accuracy: {:.2f} %\".format(accuracies.mean()*100))  # accuracy printed \n",
    "print(\"Standard Deviation: {:.2f} %\".format(accuracies.std()*100))  # standard deveation printed (std -avarage or std+ avarage )"
   ]
  },
  {
   "cell_type": "markdown",
   "id": "24266fc9",
   "metadata": {},
   "source": [
    "## Training XGBoost on the Training sets"
   ]
  },
  {
   "cell_type": "markdown",
   "id": "02086753",
   "metadata": {},
   "source": [
    "## For X_train and Y_Train  "
   ]
  },
  {
   "cell_type": "code",
   "execution_count": null,
   "id": "334724c1",
   "metadata": {},
   "outputs": [],
   "source": [
    "xgboost_classifier = XGBClassifier()\n",
    "xgboost_classifier.fit(X_train, y_train)"
   ]
  },
  {
   "cell_type": "markdown",
   "id": "70ef3256",
   "metadata": {},
   "source": [
    "### predicting result"
   ]
  },
  {
   "cell_type": "code",
   "execution_count": 936,
   "id": "6c78bb41",
   "metadata": {},
   "outputs": [
    {
     "name": "stdout",
     "output_type": "stream",
     "text": [
      "pred-real\n",
      "[[1 1]\n",
      " [1 0]\n",
      " [1 1]\n",
      " ...\n",
      " [1 1]\n",
      " [1 1]\n",
      " [1 1]]\n"
     ]
    }
   ],
   "source": [
    "DecisionTree_Y_pred = xgboost_classifier.predict(X_test)  # Predicted results.\n",
    "print(\"pred-real\")  # printing predicted and real values.\n",
    "print(np.concatenate((xgboost_Y_pred.reshape(len(xgboost_Y_pred),1), Y_test.reshape(len(Y_test),1)),1))  # Predicted results and real results in a np array."
   ]
  },
  {
   "cell_type": "markdown",
   "id": "5e43a4db",
   "metadata": {},
   "source": [
    "### Confusion matrix"
   ]
  },
  {
   "cell_type": "code",
   "execution_count": 937,
   "id": "c8747652",
   "metadata": {},
   "outputs": [
    {
     "name": "stdout",
     "output_type": "stream",
     "text": [
      "correct_0-incorrct_1\n",
      "incorrect_0-correct_1\n",
      "[[   0 1219]\n",
      " [   0 5993]]\n"
     ]
    }
   ],
   "source": [
    "xgboost_cm = confusion_matrix(Y_test, xgboost_Y_pred)  # creating the confusion matrix\n",
    "print(\"correct_0-incorrct_1\\nincorrect_0-correct_1\")  # printing correct and inccrocet results.\n",
    "print(xgboost_cm)  # prininting the confusion matrix."
   ]
  },
  {
   "cell_type": "code",
   "execution_count": 938,
   "id": "57e6f383",
   "metadata": {},
   "outputs": [
    {
     "data": {
      "image/png": "[encoded data removed]",
      "text/plain": [
       "<Figure size 576x396 with 2 Axes>"
      ]
     },
     "metadata": {},
     "output_type": "display_data"
    }
   ],
   "source": [
    "disp = ConfusionMatrixDisplay(confusion_matrix=xgboost_cm)  # creaing the confusion matrix plot.                           \n",
    "disp.plot()  # displaying data in plot\n",
    "plt.title(\"DecisionTree\")  # adding a title to plot\n",
    "plt.show()  # showing the plot"
   ]
  },
  {
   "cell_type": "markdown",
   "id": "560abfa7",
   "metadata": {},
   "source": [
    "### Getting accurcy of the model"
   ]
  },
  {
   "cell_type": "code",
   "execution_count": 939,
   "id": "f10f5e98",
   "metadata": {},
   "outputs": [
    {
     "data": {
      "text/plain": [
       "83.1"
      ]
     },
     "execution_count": 939,
     "metadata": {},
     "output_type": "execute_result"
    }
   ],
   "source": [
    "xgboost_accuracy = round(accuracy_score(Y_test, xgboost_Y_pred)*100, 2)  # storing accuracy.\n",
    "round(accuracy_score(Y_test, xgboost_Y_pred)*100, 2)  # showing the model accurecy rounded to 2 decimal places."
   ]
  },
  {
   "cell_type": "markdown",
   "id": "8d1d92a4",
   "metadata": {},
   "source": [
    "## k-Fold Cross Validation"
   ]
  },
  {
   "cell_type": "code",
   "execution_count": 1237,
   "id": "8d12105e",
   "metadata": {},
   "outputs": [
    {
     "name": "stdout",
     "output_type": "stream",
     "text": [
      "Accuracy: 83.65 %\n",
      "Standard Deviation: 0.01 %\n"
     ]
    }
   ],
   "source": [
    "accuracies = cross_val_score(estimator = xgboost_classifier, X = X_train, y = Y_train, cv = 10)   # performs 10 different tests to get average accurecy.\n",
    "print(\"Accuracy: {:.2f} %\".format(accuracies.mean()*100))  # accuracy printed\n",
    "print(\"Standard Deviation: {:.2f} %\".format(accuracies.std()*100))  # standard deveation printed (std -avarage or std+ avarage )"
   ]
  },
  {
   "cell_type": "markdown",
   "id": "0828ad25",
   "metadata": {},
   "source": [
    "## For X2_train and Y2_Train  "
   ]
  },
  {
   "cell_type": "code",
   "execution_count": 1125,
   "id": "aba283a6",
   "metadata": {},
   "outputs": [
    {
     "data": {
      "text/plain": [
       "DecisionTreeClassifier(criterion='entropy', random_state=0)"
      ]
     },
     "execution_count": 1125,
     "metadata": {},
     "output_type": "execute_result"
    }
   ],
   "source": [
    "xgboost_classifier.fit(X2_train, Y2_train)  # Building DecisionTree model."
   ]
  },
  {
   "cell_type": "markdown",
   "id": "8f2a2819",
   "metadata": {},
   "source": [
    "### predicting result"
   ]
  },
  {
   "cell_type": "code",
   "execution_count": 1126,
   "id": "1ec00cb2",
   "metadata": {},
   "outputs": [
    {
     "name": "stdout",
     "output_type": "stream",
     "text": [
      "pred-real\n",
      "[[0 1]\n",
      " [1 1]\n",
      " [0 1]\n",
      " ...\n",
      " [1 1]\n",
      " [1 0]\n",
      " [1 0]]\n"
     ]
    }
   ],
   "source": [
    "xgboost_Y2_pred = xgboost_classifier.predict(X2_test)  # Predicted results.\n",
    "print(\"pred-real\")  # printing predicted and real values.\n",
    "print(np.concatenate((xgboost_Y2_pred.reshape(len(xgboost_Y2_pred),1), Y2_test.reshape(len(Y2_test),1)),1))  # Predicted results and real results in a np array."
   ]
  },
  {
   "cell_type": "markdown",
   "id": "5f13dd07",
   "metadata": {},
   "source": [
    "### Confusion matrix"
   ]
  },
  {
   "cell_type": "code",
   "execution_count": 1127,
   "id": "cb1e0c09",
   "metadata": {},
   "outputs": [
    {
     "name": "stdout",
     "output_type": "stream",
     "text": [
      "correct_0-incorrct_1\n",
      "incorrect_0-correct_1\n",
      "[[ 348 3245]\n",
      " [ 524 3095]]\n"
     ]
    }
   ],
   "source": [
    "xgboost_cm2 = confusion_matrix(Y2_test, xgboost_Y2_pred)  # creating the confusion matrix\n",
    "print(\"correct_0-incorrct_1\\nincorrect_0-correct_1\")  # printing correct and inccrocet results.\n",
    "print(xgboost_cm2)  # prininting the confusion matrix."
   ]
  },
  {
   "cell_type": "code",
   "execution_count": 1128,
   "id": "f21f3190",
   "metadata": {},
   "outputs": [
    {
     "data": {
      "image/png": "[encoded data removed]",
      "text/plain": [
       "<Figure size 576x396 with 2 Axes>"
      ]
     },
     "metadata": {},
     "output_type": "display_data"
    }
   ],
   "source": [
    "disp = ConfusionMatrixDisplay(confusion_matrix=xgboost_cm2)  # creaing the confusion matrix plot.                           \n",
    "disp.plot()  # displaying data in plot\n",
    "plt.title(\"xgboost\")  # adding a title to plot\n",
    "plt.show()  # showing the plot"
   ]
  },
  {
   "cell_type": "markdown",
   "id": "0d6f3dcf",
   "metadata": {},
   "source": [
    "### Getting accurcy of the model"
   ]
  },
  {
   "cell_type": "code",
   "execution_count": 1129,
   "id": "4e42f535",
   "metadata": {},
   "outputs": [
    {
     "data": {
      "text/plain": [
       "47.74"
      ]
     },
     "execution_count": 1129,
     "metadata": {},
     "output_type": "execute_result"
    }
   ],
   "source": [
    "xgboost_accuracy2 = round(accuracy_score(Y2_test, xgboost_Y2_pred)*100, 2) # storing accuray.\n",
    "round(accuracy_score(Y2_test, xgboost_Y2_pred)*100, 2)  # showing the model accurecy rounded to 2 decimal places."
   ]
  },
  {
   "cell_type": "markdown",
   "id": "3ddd7fad",
   "metadata": {},
   "source": [
    "## k-Fold Cross Validation"
   ]
  },
  {
   "cell_type": "code",
   "execution_count": 1236,
   "id": "c88c77b2",
   "metadata": {},
   "outputs": [
    {
     "name": "stdout",
     "output_type": "stream",
     "text": [
      "Accuracy: 71.09 %\n",
      "Standard Deviation: 0.51 %\n"
     ]
    }
   ],
   "source": [
    "accuracies = cross_val_score(estimator = xgboost_classifier, X = X2_train, y = Y2_train, cv = 10)   # performs 10 different tests to get average accurecy.\n",
    "print(\"Accuracy: {:.2f} %\".format(accuracies.mean()*100))  # accuracy printed\n",
    "print(\"Standard Deviation: {:.2f} %\".format(accuracies.std()*100))  # standard deveation printed (std -avarage or std+ avarage )"
   ]
  },
  {
   "cell_type": "code",
   "execution_count": null,
   "id": "6c46a8a4",
   "metadata": {},
   "outputs": [],
   "source": []
  },
  {
   "cell_type": "code",
   "execution_count": null,
   "id": "e80f0610",
   "metadata": {},
   "outputs": [],
   "source": []
  },
  {
   "cell_type": "code",
   "execution_count": null,
   "id": "fffaf0cc",
   "metadata": {},
   "outputs": [],
   "source": []
  },
  {
   "cell_type": "code",
   "execution_count": null,
   "id": "83cd46d2",
   "metadata": {},
   "outputs": [],
   "source": []
  },
  {
   "cell_type": "code",
   "execution_count": null,
   "id": "ba356399",
   "metadata": {},
   "outputs": [],
   "source": []
  },
  {
   "cell_type": "code",
   "execution_count": null,
   "id": "bb8d894d",
   "metadata": {},
   "outputs": [],
   "source": []
  },
  {
   "cell_type": "code",
   "execution_count": null,
   "id": "0a117307",
   "metadata": {},
   "outputs": [],
   "source": []
  },
  {
   "cell_type": "code",
   "execution_count": null,
   "id": "19f69b76",
   "metadata": {},
   "outputs": [],
   "source": []
  },
  {
   "cell_type": "code",
   "execution_count": null,
   "id": "718cb34e",
   "metadata": {},
   "outputs": [],
   "source": []
  },
  {
   "cell_type": "code",
   "execution_count": null,
   "id": "ec6e98ca",
   "metadata": {},
   "outputs": [],
   "source": []
  },
  {
   "cell_type": "code",
   "execution_count": null,
   "id": "7eb9b71e",
   "metadata": {},
   "outputs": [],
   "source": []
  },
  {
   "cell_type": "code",
   "execution_count": null,
   "id": "70e2d0a8",
   "metadata": {},
   "outputs": [],
   "source": []
  },
  {
   "cell_type": "code",
   "execution_count": null,
   "id": "b07d8881",
   "metadata": {},
   "outputs": [],
   "source": []
  },
  {
   "cell_type": "code",
   "execution_count": null,
   "id": "ac08a7dd",
   "metadata": {},
   "outputs": [],
   "source": []
  },
  {
   "cell_type": "code",
   "execution_count": 956,
   "id": "f9e3523a",
   "metadata": {},
   "outputs": [],
   "source": [
    "model_name = [\"Logistic_regression_model\", \"k_nearest_neighbors\",\"Support_vector_machines_rbf\", \\\n",
    "              \"naive_bayes_theorm\",\"DecisionTree\" ,\"RandomForest\", \"xgboost\"]\n",
    "model_score_test_1 = [Logistic_accuracy, K_NN_accuracy, svm_accuracy, naive_bayes_accuracy, DecisionTree_accuracy, \\\n",
    "                      RandomForest_accuracy, xgboost_accuracy2]\n",
    "model_score_test_2 = [Logistic_accuracy2, K_NN_accuracy2, svm_accuracy2, naive_bayes_accuracy2, DecisionTree_accuracy2,\\\n",
    "                      RandomForest_accuracy2, xgboost_accuracy2]"
   ]
  },
  {
   "cell_type": "code",
   "execution_count": 957,
   "id": "8d2f0b0a",
   "metadata": {},
   "outputs": [
    {
     "data": {
      "text/html": [
       "<div>\n",
       "<style scoped>\n",
       "    .dataframe tbody tr th:only-of-type {\n",
       "        vertical-align: middle;\n",
       "    }\n",
       "\n",
       "    .dataframe tbody tr th {\n",
       "        vertical-align: top;\n",
       "    }\n",
       "\n",
       "    .dataframe thead th {\n",
       "        text-align: right;\n",
       "    }\n",
       "</style>\n",
       "<table border=\"1\" class=\"dataframe\">\n",
       "  <thead>\n",
       "    <tr style=\"text-align: right;\">\n",
       "      <th></th>\n",
       "      <th>model_name</th>\n",
       "      <th>score_test_1</th>\n",
       "      <th>score_test_2</th>\n",
       "    </tr>\n",
       "  </thead>\n",
       "  <tbody>\n",
       "    <tr>\n",
       "      <th>1</th>\n",
       "      <td>k_nearest_neighbors</td>\n",
       "      <td>83.10</td>\n",
       "      <td>76.33</td>\n",
       "    </tr>\n",
       "    <tr>\n",
       "      <th>2</th>\n",
       "      <td>Support_vector_machines_rbf</td>\n",
       "      <td>83.10</td>\n",
       "      <td>67.11</td>\n",
       "    </tr>\n",
       "    <tr>\n",
       "      <th>4</th>\n",
       "      <td>DecisionTree</td>\n",
       "      <td>83.10</td>\n",
       "      <td>70.91</td>\n",
       "    </tr>\n",
       "    <tr>\n",
       "      <th>5</th>\n",
       "      <td>RandomForest</td>\n",
       "      <td>83.10</td>\n",
       "      <td>73.57</td>\n",
       "    </tr>\n",
       "    <tr>\n",
       "      <th>0</th>\n",
       "      <td>Logistic_regression_model</td>\n",
       "      <td>79.96</td>\n",
       "      <td>64.57</td>\n",
       "    </tr>\n",
       "    <tr>\n",
       "      <th>3</th>\n",
       "      <td>naive_bayes_theorm</td>\n",
       "      <td>78.20</td>\n",
       "      <td>71.09</td>\n",
       "    </tr>\n",
       "  </tbody>\n",
       "</table>\n",
       "</div>"
      ],
      "text/plain": [
       "                    model_name  score_test_1  score_test_2\n",
       "1          k_nearest_neighbors         83.10         76.33\n",
       "2  Support_vector_machines_rbf         83.10         67.11\n",
       "4                 DecisionTree         83.10         70.91\n",
       "5                 RandomForest         83.10         73.57\n",
       "0    Logistic_regression_model         79.96         64.57\n",
       "3           naive_bayes_theorm         78.20         71.09"
      ]
     },
     "execution_count": 957,
     "metadata": {},
     "output_type": "execute_result"
    }
   ],
   "source": [
    "model = pd.DataFrame({\n",
    "    'model_name':model_name ,\n",
    "    'score_test_1': model_score_test_1,\n",
    "    'score_test_2':model_score_test_2\n",
    "})\n",
    "models.sort_values(by='score_test_1', ascending=False)"
   ]
  },
  {
   "cell_type": "code",
   "execution_count": 958,
   "id": "93afc62b",
   "metadata": {},
   "outputs": [
    {
     "data": {
      "text/html": [
       "<div>\n",
       "<style scoped>\n",
       "    .dataframe tbody tr th:only-of-type {\n",
       "        vertical-align: middle;\n",
       "    }\n",
       "\n",
       "    .dataframe tbody tr th {\n",
       "        vertical-align: top;\n",
       "    }\n",
       "\n",
       "    .dataframe thead th {\n",
       "        text-align: right;\n",
       "    }\n",
       "</style>\n",
       "<table border=\"1\" class=\"dataframe\">\n",
       "  <thead>\n",
       "    <tr style=\"text-align: right;\">\n",
       "      <th></th>\n",
       "      <th>model_name</th>\n",
       "      <th>score_test_1</th>\n",
       "      <th>score_test_2</th>\n",
       "    </tr>\n",
       "  </thead>\n",
       "  <tbody>\n",
       "    <tr>\n",
       "      <th>1</th>\n",
       "      <td>k_nearest_neighbors</td>\n",
       "      <td>83.10</td>\n",
       "      <td>76.33</td>\n",
       "    </tr>\n",
       "    <tr>\n",
       "      <th>5</th>\n",
       "      <td>RandomForest</td>\n",
       "      <td>83.10</td>\n",
       "      <td>73.57</td>\n",
       "    </tr>\n",
       "    <tr>\n",
       "      <th>3</th>\n",
       "      <td>naive_bayes_theorm</td>\n",
       "      <td>78.20</td>\n",
       "      <td>71.09</td>\n",
       "    </tr>\n",
       "    <tr>\n",
       "      <th>4</th>\n",
       "      <td>DecisionTree</td>\n",
       "      <td>83.10</td>\n",
       "      <td>70.91</td>\n",
       "    </tr>\n",
       "    <tr>\n",
       "      <th>2</th>\n",
       "      <td>Support_vector_machines_rbf</td>\n",
       "      <td>83.10</td>\n",
       "      <td>67.11</td>\n",
       "    </tr>\n",
       "    <tr>\n",
       "      <th>0</th>\n",
       "      <td>Logistic_regression_model</td>\n",
       "      <td>79.96</td>\n",
       "      <td>64.57</td>\n",
       "    </tr>\n",
       "  </tbody>\n",
       "</table>\n",
       "</div>"
      ],
      "text/plain": [
       "                    model_name  score_test_1  score_test_2\n",
       "1          k_nearest_neighbors         83.10         76.33\n",
       "5                 RandomForest         83.10         73.57\n",
       "3           naive_bayes_theorm         78.20         71.09\n",
       "4                 DecisionTree         83.10         70.91\n",
       "2  Support_vector_machines_rbf         83.10         67.11\n",
       "0    Logistic_regression_model         79.96         64.57"
      ]
     },
     "execution_count": 958,
     "metadata": {},
     "output_type": "execute_result"
    }
   ],
   "source": [
    "models.sort_values(by='score_test_2', ascending=False)"
   ]
  },
  {
   "cell_type": "code",
   "execution_count": 959,
   "id": "47e65998",
   "metadata": {},
   "outputs": [],
   "source": [
    "# look it up as your about to finish this report.\n",
    "# (Adeline, 2020) has a very creative idea to compare models at the end.\n",
    "# you can make it even better by using visusals.ss"
   ]
  }
 ],
 "metadata": {
  "kernelspec": {
   "display_name": "Python 3",
   "language": "python",
   "name": "python3"
  },
  "language_info": {
   "codemirror_mode": {
    "name": "ipython",
    "version": 3
   },
   "file_extension": ".py",
   "mimetype": "text/x-python",
   "name": "python",
   "nbconvert_exporter": "python",
   "pygments_lexer": "ipython3",
   "version": "3.8.8"
  }
 },
 "nbformat": 4,
 "nbformat_minor": 5
}
