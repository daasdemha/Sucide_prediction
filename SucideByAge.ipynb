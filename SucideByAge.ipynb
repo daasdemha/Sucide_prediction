{
 "cells": [
  {
   "cell_type": "markdown",
   "id": "c2d2f12e",
   "metadata": {},
   "source": [
    "# Determining at which age a person is most likely to commit sucide."
   ]
  },
  {
   "cell_type": "markdown",
   "id": "e0ee02c0",
   "metadata": {},
   "source": [
    "### Importing the relevent libraries"
   ]
  },
  {
   "cell_type": "code",
   "execution_count": 324,
   "id": "7fc96920",
   "metadata": {},
   "outputs": [],
   "source": [
    "import numpy as np  # Allows us to work with arrays.\n",
    "import matplotlib.pyplot as plt  # Allows working with plots.\n",
    "import pandas as pd  # importing pandas’ library for use. Allows us to import data set and manipulate it.\n",
    "from sklearn.compose import ColumnTransformer  # helps with encoding.\n",
    "from sklearn.preprocessing import OneHotEncoder  # Does onehotencode.\n",
    "from sklearn.preprocessing import LabelEncoder   # Does 1 and 0 encoding.\n",
    "import seaborn as sns  # Allows to polt beautiful plots.\n",
    "import matplotlib.pyplot as plt # plotting.\n",
    "from sklearn.model_selection import train_test_split  # Splits dataset into test set and traning set. \n",
    "from sklearn.preprocessing import StandardScaler  # Perform the feature scaling.\n",
    "from sklearn.linear_model import LogisticRegression  # Performs logistic regression.\n",
    "from sklearn.metrics import confusion_matrix  # creates a confusion matrix\n",
    "from sklearn.metrics import accuracy_score  # Returns accury score of a model."
   ]
  },
  {
   "cell_type": "markdown",
   "id": "681f5cbc",
   "metadata": {},
   "source": [
    "### Importing the dataframe"
   ]
  },
  {
   "cell_type": "code",
   "execution_count": 232,
   "id": "82eef9c6",
   "metadata": {},
   "outputs": [],
   "source": [
    "sucidedataframe = pd.read_csv(\"who_suicide_statistics.csv\")  # opens csv files and assighns them to a variable."
   ]
  },
  {
   "cell_type": "markdown",
   "id": "1041df28",
   "metadata": {},
   "source": [
    "### Checking the data from the dataframe before pre-processing"
   ]
  },
  {
   "cell_type": "code",
   "execution_count": 233,
   "id": "11364a06",
   "metadata": {},
   "outputs": [
    {
     "data": {
      "text/html": [
       "<div>\n",
       "<style scoped>\n",
       "    .dataframe tbody tr th:only-of-type {\n",
       "        vertical-align: middle;\n",
       "    }\n",
       "\n",
       "    .dataframe tbody tr th {\n",
       "        vertical-align: top;\n",
       "    }\n",
       "\n",
       "    .dataframe thead th {\n",
       "        text-align: right;\n",
       "    }\n",
       "</style>\n",
       "<table border=\"1\" class=\"dataframe\">\n",
       "  <thead>\n",
       "    <tr style=\"text-align: right;\">\n",
       "      <th></th>\n",
       "      <th>country</th>\n",
       "      <th>year</th>\n",
       "      <th>sex</th>\n",
       "      <th>age</th>\n",
       "      <th>suicides_no</th>\n",
       "      <th>population</th>\n",
       "    </tr>\n",
       "  </thead>\n",
       "  <tbody>\n",
       "    <tr>\n",
       "      <th>0</th>\n",
       "      <td>Albania</td>\n",
       "      <td>1985</td>\n",
       "      <td>female</td>\n",
       "      <td>15-24 years</td>\n",
       "      <td>NaN</td>\n",
       "      <td>277900.0</td>\n",
       "    </tr>\n",
       "  </tbody>\n",
       "</table>\n",
       "</div>"
      ],
      "text/plain": [
       "   country  year     sex          age  suicides_no  population\n",
       "0  Albania  1985  female  15-24 years          NaN    277900.0"
      ]
     },
     "execution_count": 233,
     "metadata": {},
     "output_type": "execute_result"
    }
   ],
   "source": [
    "sucidedataframe.head(1)  # Taking a look at the dataframe the first elements of the dataset."
   ]
  },
  {
   "cell_type": "code",
   "execution_count": 234,
   "id": "02af4851",
   "metadata": {},
   "outputs": [
    {
     "name": "stdout",
     "output_type": "stream",
     "text": [
      "<class 'pandas.core.frame.DataFrame'>\n",
      "RangeIndex: 43776 entries, 0 to 43775\n",
      "Data columns (total 6 columns):\n",
      " #   Column       Non-Null Count  Dtype  \n",
      "---  ------       --------------  -----  \n",
      " 0   country      43776 non-null  object \n",
      " 1   year         43776 non-null  int64  \n",
      " 2   sex          43776 non-null  object \n",
      " 3   age          43776 non-null  object \n",
      " 4   suicides_no  41520 non-null  float64\n",
      " 5   population   38316 non-null  float64\n",
      "dtypes: float64(2), int64(1), object(3)\n",
      "memory usage: 2.0+ MB\n"
     ]
    }
   ],
   "source": [
    "sucidedataframe.info()  # checking Basic information on the dataframe being procesed."
   ]
  },
  {
   "cell_type": "markdown",
   "id": "7ca5f0a5",
   "metadata": {},
   "source": [
    "## 1. Data pre-processing"
   ]
  },
  {
   "cell_type": "code",
   "execution_count": 235,
   "id": "52fc4810",
   "metadata": {},
   "outputs": [
    {
     "data": {
      "text/plain": [
       "Index(['country', 'year', 'sex', 'age', 'suicides_no', 'population'], dtype='object')"
      ]
     },
     "execution_count": 235,
     "metadata": {},
     "output_type": "execute_result"
    }
   ],
   "source": [
    "sucidedataframe.columns  # The columns of the dataframe are viewed."
   ]
  },
  {
   "cell_type": "code",
   "execution_count": 236,
   "id": "ee6dbf16",
   "metadata": {},
   "outputs": [
    {
     "data": {
      "text/html": [
       "<div>\n",
       "<style scoped>\n",
       "    .dataframe tbody tr th:only-of-type {\n",
       "        vertical-align: middle;\n",
       "    }\n",
       "\n",
       "    .dataframe tbody tr th {\n",
       "        vertical-align: top;\n",
       "    }\n",
       "\n",
       "    .dataframe thead th {\n",
       "        text-align: right;\n",
       "    }\n",
       "</style>\n",
       "<table border=\"1\" class=\"dataframe\">\n",
       "  <thead>\n",
       "    <tr style=\"text-align: right;\">\n",
       "      <th></th>\n",
       "      <th>age</th>\n",
       "      <th>sex</th>\n",
       "      <th>population</th>\n",
       "      <th>suicides_no</th>\n",
       "      <th>suicides_no</th>\n",
       "    </tr>\n",
       "  </thead>\n",
       "  <tbody>\n",
       "    <tr>\n",
       "      <th>0</th>\n",
       "      <td>15-24 years</td>\n",
       "      <td>female</td>\n",
       "      <td>277900.0</td>\n",
       "      <td>NaN</td>\n",
       "      <td>NaN</td>\n",
       "    </tr>\n",
       "  </tbody>\n",
       "</table>\n",
       "</div>"
      ],
      "text/plain": [
       "           age     sex  population  suicides_no  suicides_no\n",
       "0  15-24 years  female    277900.0          NaN          NaN"
      ]
     },
     "execution_count": 236,
     "metadata": {},
     "output_type": "execute_result"
    }
   ],
   "source": [
    "# Below relevent data is selected that will be used in this project.\n",
    "sucidedataframe = sucidedataframe[[\"age\", \"sex\", \"population\", \"suicides_no\", \"suicides_no\"]]\n",
    "sucidedataframe.head(1)  # Taking a look at the dataframe to see if the needed changes have been made."
   ]
  },
  {
   "cell_type": "code",
   "execution_count": 237,
   "id": "4de1c37c",
   "metadata": {},
   "outputs": [
    {
     "data": {
      "text/html": [
       "<div>\n",
       "<style scoped>\n",
       "    .dataframe tbody tr th:only-of-type {\n",
       "        vertical-align: middle;\n",
       "    }\n",
       "\n",
       "    .dataframe tbody tr th {\n",
       "        vertical-align: top;\n",
       "    }\n",
       "\n",
       "    .dataframe thead th {\n",
       "        text-align: right;\n",
       "    }\n",
       "</style>\n",
       "<table border=\"1\" class=\"dataframe\">\n",
       "  <thead>\n",
       "    <tr style=\"text-align: right;\">\n",
       "      <th></th>\n",
       "      <th>Age</th>\n",
       "      <th>Gender</th>\n",
       "      <th>Population</th>\n",
       "      <th>Suicide_Committed_num</th>\n",
       "      <th>Suicide_Committed</th>\n",
       "    </tr>\n",
       "  </thead>\n",
       "  <tbody>\n",
       "    <tr>\n",
       "      <th>0</th>\n",
       "      <td>15-24 years</td>\n",
       "      <td>female</td>\n",
       "      <td>277900.0</td>\n",
       "      <td>NaN</td>\n",
       "      <td>NaN</td>\n",
       "    </tr>\n",
       "  </tbody>\n",
       "</table>\n",
       "</div>"
      ],
      "text/plain": [
       "           Age  Gender  Population  Suicide_Committed_num  Suicide_Committed\n",
       "0  15-24 years  female    277900.0                    NaN                NaN"
      ]
     },
     "execution_count": 237,
     "metadata": {},
     "output_type": "execute_result"
    }
   ],
   "source": [
    "# Below the col names are renamed.\n",
    "sucidedataframe = sucidedataframe.set_axis([\"Age\", \"Gender\", \"Population\", \"Suicide_Committed_num\", \"Suicide_Committed\"],axis=1)\n",
    "sucidedataframe.head(1)  # Taking a look at the dataframe to see if the needed changes have been made."
   ]
  },
  {
   "cell_type": "code",
   "execution_count": 238,
   "id": "d963403d",
   "metadata": {},
   "outputs": [
    {
     "data": {
      "text/plain": [
       "(43776, 5)"
      ]
     },
     "execution_count": 238,
     "metadata": {},
     "output_type": "execute_result"
    }
   ],
   "source": [
    "sucidedataframe.shape  # The Entries and the columns of the dataframe are viewed."
   ]
  },
  {
   "cell_type": "markdown",
   "id": "8dc9be58",
   "metadata": {},
   "source": [
    "### Dealing with null values"
   ]
  },
  {
   "cell_type": "code",
   "execution_count": 239,
   "id": "5326cf5a",
   "metadata": {},
   "outputs": [
    {
     "data": {
      "text/plain": [
       "Age                         0\n",
       "Gender                      0\n",
       "Population               5460\n",
       "Suicide_Committed_num    2256\n",
       "Suicide_Committed        2256\n",
       "dtype: int64"
      ]
     },
     "execution_count": 239,
     "metadata": {},
     "output_type": "execute_result"
    }
   ],
   "source": [
    "sucidedataframe.isnull().sum()  # Checking the dataframe for null values."
   ]
  },
  {
   "cell_type": "code",
   "execution_count": 240,
   "id": "94d2b0fd",
   "metadata": {},
   "outputs": [
    {
     "name": "stdout",
     "output_type": "stream",
     "text": [
      "The age range 5-14 years years years appears 7296 times.\n",
      "The age range 15-24 years appears 7296 times.\n",
      "The age range 25-34 years years appears 7296 times.\n",
      "The age range 35-54 years years appears 7296 times.\n",
      "The age range 55-74 years years years appears 7296 times.\n",
      "The age range 75+ years years years years appears 7296 times.\n"
     ]
    }
   ],
   "source": [
    "print('The age range 5-14 years years years appears ' + str(len(sucidedataframe[sucidedataframe['Age'] == '5-14 years'])) + ' times.')\n",
    "print('The age range 15-24 years appears ' + str(len(sucidedataframe[sucidedataframe['Age'] == '15-24 years'])) + ' times.')\n",
    "print('The age range 25-34 years years appears ' + str(len(sucidedataframe[sucidedataframe['Age'] == '25-34 years'])) + ' times.')\n",
    "print('The age range 35-54 years years appears ' + str(len(sucidedataframe[sucidedataframe['Age'] == '35-54 years'])) + ' times.')\n",
    "print('The age range 55-74 years years years appears ' + str(len(sucidedataframe[sucidedataframe['Age'] == '55-74 years'])) + ' times.')\n",
    "print('The age range 75+ years years years years appears ' + str(len(sucidedataframe[sucidedataframe['Age'] == '75+ years'])) + ' times.')"
   ]
  },
  {
   "cell_type": "code",
   "execution_count": 241,
   "id": "e3bfd1bc",
   "metadata": {},
   "outputs": [],
   "source": [
    "sucidedataframe = sucidedataframe.dropna() # droping all rows with at least one null values."
   ]
  },
  {
   "cell_type": "code",
   "execution_count": 242,
   "id": "0fa84860",
   "metadata": {},
   "outputs": [
    {
     "name": "stdout",
     "output_type": "stream",
     "text": [
      "The age range 5-14 years years years appears 6010 times.\n",
      "The age range 15-24 years appears 6010 times.\n",
      "The age range 25-34 years years appears 6010 times.\n",
      "The age range 35-54 years years appears 6010 times.\n",
      "The age range 55-74 years years years appears 6010 times.\n",
      "The age range 75+ years years years years appears 6010 times.\n"
     ]
    }
   ],
   "source": [
    "print('The age range 5-14 years years years appears ' + str(len(sucidedataframe[sucidedataframe['Age'] == '5-14 years'])) + ' times.')\n",
    "print('The age range 15-24 years appears ' + str(len(sucidedataframe[sucidedataframe['Age'] == '15-24 years'])) + ' times.')\n",
    "print('The age range 25-34 years years appears ' + str(len(sucidedataframe[sucidedataframe['Age'] == '25-34 years'])) + ' times.')\n",
    "print('The age range 35-54 years years appears ' + str(len(sucidedataframe[sucidedataframe['Age'] == '35-54 years'])) + ' times.')\n",
    "print('The age range 55-74 years years years appears ' + str(len(sucidedataframe[sucidedataframe['Age'] == '55-74 years'])) + ' times.')\n",
    "print('The age range 75+ years years years years appears ' + str(len(sucidedataframe[sucidedataframe['Age'] == '75+ years'])) + ' times.')"
   ]
  },
  {
   "cell_type": "code",
   "execution_count": 243,
   "id": "bd0379db",
   "metadata": {},
   "outputs": [
    {
     "data": {
      "text/plain": [
       "(36060, 5)"
      ]
     },
     "execution_count": 243,
     "metadata": {},
     "output_type": "execute_result"
    }
   ],
   "source": [
    "sucidedataframe.shape  # The Entries and the columns of the dataframe are viewed."
   ]
  },
  {
   "cell_type": "code",
   "execution_count": 244,
   "id": "d6dbabc8",
   "metadata": {},
   "outputs": [
    {
     "data": {
      "text/html": [
       "<div>\n",
       "<style scoped>\n",
       "    .dataframe tbody tr th:only-of-type {\n",
       "        vertical-align: middle;\n",
       "    }\n",
       "\n",
       "    .dataframe tbody tr th {\n",
       "        vertical-align: top;\n",
       "    }\n",
       "\n",
       "    .dataframe thead th {\n",
       "        text-align: right;\n",
       "    }\n",
       "</style>\n",
       "<table border=\"1\" class=\"dataframe\">\n",
       "  <thead>\n",
       "    <tr style=\"text-align: right;\">\n",
       "      <th></th>\n",
       "      <th>Population</th>\n",
       "      <th>Suicide_Committed_num</th>\n",
       "      <th>Suicide_Committed</th>\n",
       "    </tr>\n",
       "  </thead>\n",
       "  <tbody>\n",
       "    <tr>\n",
       "      <th>count</th>\n",
       "      <td>36060.0</td>\n",
       "      <td>36060.0</td>\n",
       "      <td>36060.0</td>\n",
       "    </tr>\n",
       "    <tr>\n",
       "      <th>mean</th>\n",
       "      <td>1699996.0</td>\n",
       "      <td>222.0</td>\n",
       "      <td>222.0</td>\n",
       "    </tr>\n",
       "    <tr>\n",
       "      <th>std</th>\n",
       "      <td>3697811.0</td>\n",
       "      <td>855.0</td>\n",
       "      <td>855.0</td>\n",
       "    </tr>\n",
       "    <tr>\n",
       "      <th>min</th>\n",
       "      <td>259.0</td>\n",
       "      <td>0.0</td>\n",
       "      <td>0.0</td>\n",
       "    </tr>\n",
       "    <tr>\n",
       "      <th>25%</th>\n",
       "      <td>80566.0</td>\n",
       "      <td>2.0</td>\n",
       "      <td>2.0</td>\n",
       "    </tr>\n",
       "    <tr>\n",
       "      <th>50%</th>\n",
       "      <td>375765.0</td>\n",
       "      <td>21.0</td>\n",
       "      <td>21.0</td>\n",
       "    </tr>\n",
       "    <tr>\n",
       "      <th>75%</th>\n",
       "      <td>1344900.0</td>\n",
       "      <td>116.0</td>\n",
       "      <td>116.0</td>\n",
       "    </tr>\n",
       "    <tr>\n",
       "      <th>max</th>\n",
       "      <td>43805214.0</td>\n",
       "      <td>22338.0</td>\n",
       "      <td>22338.0</td>\n",
       "    </tr>\n",
       "  </tbody>\n",
       "</table>\n",
       "</div>"
      ],
      "text/plain": [
       "       Population  Suicide_Committed_num  Suicide_Committed\n",
       "count     36060.0                36060.0            36060.0\n",
       "mean    1699996.0                  222.0              222.0\n",
       "std     3697811.0                  855.0              855.0\n",
       "min         259.0                    0.0                0.0\n",
       "25%       80566.0                    2.0                2.0\n",
       "50%      375765.0                   21.0               21.0\n",
       "75%     1344900.0                  116.0              116.0\n",
       "max    43805214.0                22338.0            22338.0"
      ]
     },
     "execution_count": 244,
     "metadata": {},
     "output_type": "execute_result"
    }
   ],
   "source": [
    "sucidedataframe.describe().round()  # Shows the count, mean, std, min, 25%, 50%, 75% and \n",
    "                                    # max of a datframe. Could be useful for feature scaling afterwords."
   ]
  },
  {
   "cell_type": "code",
   "execution_count": 245,
   "id": "1b7daa9e",
   "metadata": {},
   "outputs": [
    {
     "name": "stdout",
     "output_type": "stream",
     "text": [
      "<class 'pandas.core.frame.DataFrame'>\n",
      "Int64Index: 36060 entries, 24 to 43763\n",
      "Data columns (total 5 columns):\n",
      " #   Column                 Non-Null Count  Dtype  \n",
      "---  ------                 --------------  -----  \n",
      " 0   Age                    36060 non-null  object \n",
      " 1   Gender                 36060 non-null  object \n",
      " 2   Population             36060 non-null  float64\n",
      " 3   Suicide_Committed_num  36060 non-null  float64\n",
      " 4   Suicide_Committed      36060 non-null  float64\n",
      "dtypes: float64(3), object(2)\n",
      "memory usage: 1.7+ MB\n"
     ]
    }
   ],
   "source": [
    "sucidedataframe.info()  # checking Basic information on the dataframe being procesed."
   ]
  },
  {
   "cell_type": "code",
   "execution_count": 246,
   "id": "839ede3a",
   "metadata": {
    "scrolled": true
   },
   "outputs": [
    {
     "data": {
      "text/plain": [
       "Age                      0\n",
       "Gender                   0\n",
       "Population               0\n",
       "Suicide_Committed_num    0\n",
       "Suicide_Committed        0\n",
       "dtype: int64"
      ]
     },
     "execution_count": 246,
     "metadata": {},
     "output_type": "execute_result"
    }
   ],
   "source": [
    "sucidedataframe.isnull().sum()  # Checking the dataframe for null values."
   ]
  },
  {
   "cell_type": "code",
   "execution_count": 247,
   "id": "947bfe1a",
   "metadata": {},
   "outputs": [
    {
     "name": "stdout",
     "output_type": "stream",
     "text": [
      "Suicide_Committed\n",
      "0.0        5936\n",
      "1.0        2146\n",
      "2.0        1489\n",
      "3.0        1129\n",
      "4.0         907\n",
      "           ... \n",
      "20705.0       1\n",
      "21063.0       1\n",
      "21262.0       1\n",
      "21706.0       1\n",
      "22338.0       1\n",
      "Length: 2231, dtype: int64\n"
     ]
    }
   ],
   "source": [
    "print(sucidedataframe.pivot_table(columns=['Suicide_Committed'], aggfunc='size'))  # counts duplicates in the selected dataframe column."
   ]
  },
  {
   "cell_type": "markdown",
   "id": "d155dc03",
   "metadata": {},
   "source": [
    "### initial plot to visulize the data before working on it."
   ]
  },
  {
   "cell_type": "code",
   "execution_count": 248,
   "id": "606e27da",
   "metadata": {},
   "outputs": [
    {
     "data": {
      "image/png": "[encoded data removed]",
      "text/plain": [
       "<Figure size 1080x720 with 6 Axes>"
      ]
     },
     "metadata": {},
     "output_type": "display_data"
    }
   ],
   "source": [
    "plt.rcParams['figure.figsize'] = (13, 7)\n",
    "plt.style.use('seaborn-white')\n",
    "sns.catplot(x='Gender', y=\"Suicide_Committed_num\", col=\"Age\", col_wrap=3, sharey=True, data=sucidedataframe, alpha=0.5, palette = 'hot')\n",
    "plt.xticks(rotation = 90)\n",
    "plt.show()"
   ]
  },
  {
   "cell_type": "code",
   "execution_count": 249,
   "id": "040f3d0c",
   "metadata": {},
   "outputs": [
    {
     "data": {
      "image/png": "[encoded data removed]",
      "text/plain": [
       "<Figure size 936x720 with 1 Axes>"
      ]
     },
     "metadata": {},
     "output_type": "display_data"
    }
   ],
   "source": [
    "plt.style.use('seaborn')\n",
    "plt.figure(figsize= (13,10))\n",
    "sns.scatterplot(x= 'Suicide_Committed_num', y= 'Population', data = sucidedataframe, hue = 'Gender')\n",
    "plt.show()"
   ]
  },
  {
   "cell_type": "code",
   "execution_count": 250,
   "id": "3ac6da53",
   "metadata": {},
   "outputs": [
    {
     "data": {
      "image/png": "[encoded data removed]",
      "text/plain": [
       "<Figure size 1296x432 with 12 Axes>"
      ]
     },
     "metadata": {},
     "output_type": "display_data"
    }
   ],
   "source": [
    "My_plot_object = sns.FacetGrid(sucidedataframe , row = 'Gender',col = 'Age',margin_titles=True)\n",
    "My_plot_object.map(plt.scatter,\"Suicide_Committed_num\",'Population',edgecolor = 'w')\n",
    "plt.show()"
   ]
  },
  {
   "cell_type": "markdown",
   "id": "776c3068",
   "metadata": {},
   "source": [
    "### Encoding variables to  0 and 1"
   ]
  },
  {
   "cell_type": "code",
   "execution_count": 251,
   "id": "2fd7c20a",
   "metadata": {},
   "outputs": [],
   "source": [
    "le = LabelEncoder()\n",
    "sucidedataframe.Gender = le.fit_transform(sucidedataframe.Gender)"
   ]
  },
  {
   "cell_type": "code",
   "execution_count": 252,
   "id": "c6d9fae7",
   "metadata": {},
   "outputs": [
    {
     "data": {
      "text/html": [
       "<div>\n",
       "<style scoped>\n",
       "    .dataframe tbody tr th:only-of-type {\n",
       "        vertical-align: middle;\n",
       "    }\n",
       "\n",
       "    .dataframe tbody tr th {\n",
       "        vertical-align: top;\n",
       "    }\n",
       "\n",
       "    .dataframe thead th {\n",
       "        text-align: right;\n",
       "    }\n",
       "</style>\n",
       "<table border=\"1\" class=\"dataframe\">\n",
       "  <thead>\n",
       "    <tr style=\"text-align: right;\">\n",
       "      <th></th>\n",
       "      <th>Age</th>\n",
       "      <th>Gender</th>\n",
       "      <th>Population</th>\n",
       "      <th>Suicide_Committed_num</th>\n",
       "      <th>Suicide_Committed</th>\n",
       "    </tr>\n",
       "  </thead>\n",
       "  <tbody>\n",
       "    <tr>\n",
       "      <th>24</th>\n",
       "      <td>15-24 years</td>\n",
       "      <td>0</td>\n",
       "      <td>289700.0</td>\n",
       "      <td>14.0</td>\n",
       "      <td>14.0</td>\n",
       "    </tr>\n",
       "    <tr>\n",
       "      <th>25</th>\n",
       "      <td>25-34 years</td>\n",
       "      <td>0</td>\n",
       "      <td>257200.0</td>\n",
       "      <td>4.0</td>\n",
       "      <td>4.0</td>\n",
       "    </tr>\n",
       "    <tr>\n",
       "      <th>26</th>\n",
       "      <td>35-54 years</td>\n",
       "      <td>0</td>\n",
       "      <td>278800.0</td>\n",
       "      <td>6.0</td>\n",
       "      <td>6.0</td>\n",
       "    </tr>\n",
       "    <tr>\n",
       "      <th>27</th>\n",
       "      <td>5-14 years</td>\n",
       "      <td>0</td>\n",
       "      <td>311000.0</td>\n",
       "      <td>0.0</td>\n",
       "      <td>0.0</td>\n",
       "    </tr>\n",
       "    <tr>\n",
       "      <th>28</th>\n",
       "      <td>55-74 years</td>\n",
       "      <td>0</td>\n",
       "      <td>144600.0</td>\n",
       "      <td>0.0</td>\n",
       "      <td>0.0</td>\n",
       "    </tr>\n",
       "  </tbody>\n",
       "</table>\n",
       "</div>"
      ],
      "text/plain": [
       "            Age  Gender  Population  Suicide_Committed_num  Suicide_Committed\n",
       "24  15-24 years       0    289700.0                   14.0               14.0\n",
       "25  25-34 years       0    257200.0                    4.0                4.0\n",
       "26  35-54 years       0    278800.0                    6.0                6.0\n",
       "27   5-14 years       0    311000.0                    0.0                0.0\n",
       "28  55-74 years       0    144600.0                    0.0                0.0"
      ]
     },
     "execution_count": 252,
     "metadata": {},
     "output_type": "execute_result"
    }
   ],
   "source": [
    "sucidedataframe.head()"
   ]
  },
  {
   "cell_type": "code",
   "execution_count": 253,
   "id": "83f63027",
   "metadata": {},
   "outputs": [
    {
     "name": "stdout",
     "output_type": "stream",
     "text": [
      "Suicide_Committed\n",
      "0.0        5936\n",
      "1.0        2146\n",
      "2.0        1489\n",
      "3.0        1129\n",
      "4.0         907\n",
      "           ... \n",
      "20705.0       1\n",
      "21063.0       1\n",
      "21262.0       1\n",
      "21706.0       1\n",
      "22338.0       1\n",
      "Length: 2231, dtype: int64\n"
     ]
    }
   ],
   "source": [
    "print(sucidedataframe.pivot_table(columns=['Suicide_Committed'], aggfunc='size'))  # counts duplicates in the selected dataframe column."
   ]
  },
  {
   "cell_type": "code",
   "execution_count": 254,
   "id": "96b7458f",
   "metadata": {},
   "outputs": [],
   "source": [
    "sucidedataframe.loc[sucidedataframe.Suicide_Committed > 0, \"Suicide_Committed\"] = 1  # Encoding everthig above 0 to 1."
   ]
  },
  {
   "cell_type": "code",
   "execution_count": 255,
   "id": "dad47788",
   "metadata": {},
   "outputs": [
    {
     "name": "stdout",
     "output_type": "stream",
     "text": [
      "Suicide_Committed\n",
      "0.0     5936\n",
      "1.0    30124\n",
      "dtype: int64\n"
     ]
    }
   ],
   "source": [
    "print(sucidedataframe.pivot_table(columns=['Suicide_Committed'], aggfunc='size'))  # counts duplicates in the selected dataframe column."
   ]
  },
  {
   "cell_type": "code",
   "execution_count": 256,
   "id": "004118be",
   "metadata": {},
   "outputs": [],
   "source": [
    "sucidedataframe['Suicide_Committed'] = sucidedataframe['Suicide_Committed'].astype(np.int64)  # converting float to int."
   ]
  },
  {
   "cell_type": "code",
   "execution_count": 257,
   "id": "2e65947d",
   "metadata": {},
   "outputs": [
    {
     "name": "stdout",
     "output_type": "stream",
     "text": [
      "Suicide_Committed\n",
      "0     5936\n",
      "1    30124\n",
      "dtype: int64\n"
     ]
    }
   ],
   "source": [
    "print(sucidedataframe.pivot_table(columns=['Suicide_Committed'], aggfunc='size'))  # counts duplicates in the selected dataframe column."
   ]
  },
  {
   "cell_type": "markdown",
   "id": "d4a78be8",
   "metadata": {},
   "source": [
    "### selecting X and Y values "
   ]
  },
  {
   "cell_type": "code",
   "execution_count": 258,
   "id": "65a58cda",
   "metadata": {},
   "outputs": [],
   "source": [
    "X = sucidedataframe.iloc[:, 0:3].values  # selecting the values for the X variable."
   ]
  },
  {
   "cell_type": "code",
   "execution_count": 259,
   "id": "f02a53d4",
   "metadata": {},
   "outputs": [],
   "source": [
    "Y = sucidedataframe[[\"Suicide_Committed\"]].to_numpy()  # selecting the values for the Y variable. # done using .to_numpy and not \n",
    "                                                       # .iloc as .to_numpy creates a horizontal bar while .iloc creates a \n",
    "                                                       # horizontal bar which will not alighn with the x values."
   ]
  },
  {
   "cell_type": "code",
   "execution_count": 260,
   "id": "c3ddc8c4",
   "metadata": {},
   "outputs": [
    {
     "data": {
      "text/html": [
       "<div>\n",
       "<style scoped>\n",
       "    .dataframe tbody tr th:only-of-type {\n",
       "        vertical-align: middle;\n",
       "    }\n",
       "\n",
       "    .dataframe tbody tr th {\n",
       "        vertical-align: top;\n",
       "    }\n",
       "\n",
       "    .dataframe thead th {\n",
       "        text-align: right;\n",
       "    }\n",
       "</style>\n",
       "<table border=\"1\" class=\"dataframe\">\n",
       "  <thead>\n",
       "    <tr style=\"text-align: right;\">\n",
       "      <th></th>\n",
       "      <th>Age</th>\n",
       "      <th>Gender</th>\n",
       "      <th>Population</th>\n",
       "      <th>Suicide_Committed_num</th>\n",
       "      <th>Suicide_Committed</th>\n",
       "    </tr>\n",
       "  </thead>\n",
       "  <tbody>\n",
       "    <tr>\n",
       "      <th>24</th>\n",
       "      <td>15-24 years</td>\n",
       "      <td>0</td>\n",
       "      <td>289700.0</td>\n",
       "      <td>14.0</td>\n",
       "      <td>1</td>\n",
       "    </tr>\n",
       "    <tr>\n",
       "      <th>25</th>\n",
       "      <td>25-34 years</td>\n",
       "      <td>0</td>\n",
       "      <td>257200.0</td>\n",
       "      <td>4.0</td>\n",
       "      <td>1</td>\n",
       "    </tr>\n",
       "    <tr>\n",
       "      <th>26</th>\n",
       "      <td>35-54 years</td>\n",
       "      <td>0</td>\n",
       "      <td>278800.0</td>\n",
       "      <td>6.0</td>\n",
       "      <td>1</td>\n",
       "    </tr>\n",
       "  </tbody>\n",
       "</table>\n",
       "</div>"
      ],
      "text/plain": [
       "            Age  Gender  Population  Suicide_Committed_num  Suicide_Committed\n",
       "24  15-24 years       0    289700.0                   14.0                  1\n",
       "25  25-34 years       0    257200.0                    4.0                  1\n",
       "26  35-54 years       0    278800.0                    6.0                  1"
      ]
     },
     "execution_count": 260,
     "metadata": {},
     "output_type": "execute_result"
    }
   ],
   "source": [
    "sucidedataframe.head(3)"
   ]
  },
  {
   "cell_type": "code",
   "execution_count": 261,
   "id": "2bb03526",
   "metadata": {},
   "outputs": [
    {
     "data": {
      "text/html": [
       "<div>\n",
       "<style scoped>\n",
       "    .dataframe tbody tr th:only-of-type {\n",
       "        vertical-align: middle;\n",
       "    }\n",
       "\n",
       "    .dataframe tbody tr th {\n",
       "        vertical-align: top;\n",
       "    }\n",
       "\n",
       "    .dataframe thead th {\n",
       "        text-align: right;\n",
       "    }\n",
       "</style>\n",
       "<table border=\"1\" class=\"dataframe\">\n",
       "  <thead>\n",
       "    <tr style=\"text-align: right;\">\n",
       "      <th></th>\n",
       "      <th>Age</th>\n",
       "      <th>Gender</th>\n",
       "      <th>Population</th>\n",
       "      <th>Suicide_Committed_num</th>\n",
       "      <th>Suicide_Committed</th>\n",
       "    </tr>\n",
       "  </thead>\n",
       "  <tbody>\n",
       "    <tr>\n",
       "      <th>24</th>\n",
       "      <td>15-24 years</td>\n",
       "      <td>0</td>\n",
       "      <td>289700.0</td>\n",
       "      <td>14.0</td>\n",
       "      <td>1</td>\n",
       "    </tr>\n",
       "    <tr>\n",
       "      <th>25</th>\n",
       "      <td>25-34 years</td>\n",
       "      <td>0</td>\n",
       "      <td>257200.0</td>\n",
       "      <td>4.0</td>\n",
       "      <td>1</td>\n",
       "    </tr>\n",
       "    <tr>\n",
       "      <th>26</th>\n",
       "      <td>35-54 years</td>\n",
       "      <td>0</td>\n",
       "      <td>278800.0</td>\n",
       "      <td>6.0</td>\n",
       "      <td>1</td>\n",
       "    </tr>\n",
       "    <tr>\n",
       "      <th>27</th>\n",
       "      <td>5-14 years</td>\n",
       "      <td>0</td>\n",
       "      <td>311000.0</td>\n",
       "      <td>0.0</td>\n",
       "      <td>0</td>\n",
       "    </tr>\n",
       "    <tr>\n",
       "      <th>28</th>\n",
       "      <td>55-74 years</td>\n",
       "      <td>0</td>\n",
       "      <td>144600.0</td>\n",
       "      <td>0.0</td>\n",
       "      <td>0</td>\n",
       "    </tr>\n",
       "  </tbody>\n",
       "</table>\n",
       "</div>"
      ],
      "text/plain": [
       "            Age  Gender  Population  Suicide_Committed_num  Suicide_Committed\n",
       "24  15-24 years       0    289700.0                   14.0                  1\n",
       "25  25-34 years       0    257200.0                    4.0                  1\n",
       "26  35-54 years       0    278800.0                    6.0                  1\n",
       "27   5-14 years       0    311000.0                    0.0                  0\n",
       "28  55-74 years       0    144600.0                    0.0                  0"
      ]
     },
     "execution_count": 261,
     "metadata": {},
     "output_type": "execute_result"
    }
   ],
   "source": [
    "sucidedataframe.head()  # Taking a look at the dataframe the first elements of the dataset."
   ]
  },
  {
   "cell_type": "code",
   "execution_count": 262,
   "id": "adec7a91",
   "metadata": {},
   "outputs": [
    {
     "data": {
      "text/html": [
       "<div>\n",
       "<style scoped>\n",
       "    .dataframe tbody tr th:only-of-type {\n",
       "        vertical-align: middle;\n",
       "    }\n",
       "\n",
       "    .dataframe tbody tr th {\n",
       "        vertical-align: top;\n",
       "    }\n",
       "\n",
       "    .dataframe thead th {\n",
       "        text-align: right;\n",
       "    }\n",
       "</style>\n",
       "<table border=\"1\" class=\"dataframe\">\n",
       "  <thead>\n",
       "    <tr style=\"text-align: right;\">\n",
       "      <th></th>\n",
       "      <th>Age</th>\n",
       "      <th>Gender</th>\n",
       "      <th>Population</th>\n",
       "      <th>Suicide_Committed_num</th>\n",
       "      <th>Suicide_Committed</th>\n",
       "    </tr>\n",
       "  </thead>\n",
       "  <tbody>\n",
       "    <tr>\n",
       "      <th>24</th>\n",
       "      <td>15-24 years</td>\n",
       "      <td>0</td>\n",
       "      <td>289700.0</td>\n",
       "      <td>14.0</td>\n",
       "      <td>1</td>\n",
       "    </tr>\n",
       "    <tr>\n",
       "      <th>25</th>\n",
       "      <td>25-34 years</td>\n",
       "      <td>0</td>\n",
       "      <td>257200.0</td>\n",
       "      <td>4.0</td>\n",
       "      <td>1</td>\n",
       "    </tr>\n",
       "    <tr>\n",
       "      <th>26</th>\n",
       "      <td>35-54 years</td>\n",
       "      <td>0</td>\n",
       "      <td>278800.0</td>\n",
       "      <td>6.0</td>\n",
       "      <td>1</td>\n",
       "    </tr>\n",
       "    <tr>\n",
       "      <th>27</th>\n",
       "      <td>5-14 years</td>\n",
       "      <td>0</td>\n",
       "      <td>311000.0</td>\n",
       "      <td>0.0</td>\n",
       "      <td>0</td>\n",
       "    </tr>\n",
       "    <tr>\n",
       "      <th>28</th>\n",
       "      <td>55-74 years</td>\n",
       "      <td>0</td>\n",
       "      <td>144600.0</td>\n",
       "      <td>0.0</td>\n",
       "      <td>0</td>\n",
       "    </tr>\n",
       "  </tbody>\n",
       "</table>\n",
       "</div>"
      ],
      "text/plain": [
       "            Age  Gender  Population  Suicide_Committed_num  Suicide_Committed\n",
       "24  15-24 years       0    289700.0                   14.0                  1\n",
       "25  25-34 years       0    257200.0                    4.0                  1\n",
       "26  35-54 years       0    278800.0                    6.0                  1\n",
       "27   5-14 years       0    311000.0                    0.0                  0\n",
       "28  55-74 years       0    144600.0                    0.0                  0"
      ]
     },
     "execution_count": 262,
     "metadata": {},
     "output_type": "execute_result"
    }
   ],
   "source": [
    "sucidedataframe.head()  # Taking a look at the dataframe the first elements of the dataset."
   ]
  },
  {
   "cell_type": "code",
   "execution_count": 263,
   "id": "16660812",
   "metadata": {},
   "outputs": [
    {
     "name": "stdout",
     "output_type": "stream",
     "text": [
      "[['15-24 years' 0 289700.0]\n",
      " ['25-34 years' 0 257200.0]\n",
      " ['35-54 years' 0 278800.0]\n",
      " ...\n",
      " ['5-14 years' 1 7291.0]\n",
      " ['55-74 years' 1 12615.0]\n",
      " ['75+ years' 1 2496.0]]\n"
     ]
    }
   ],
   "source": [
    "print(X)  # Printing numpy array X."
   ]
  },
  {
   "cell_type": "code",
   "execution_count": 264,
   "id": "8f8220a4",
   "metadata": {},
   "outputs": [
    {
     "name": "stdout",
     "output_type": "stream",
     "text": [
      "[[1]\n",
      " [1]\n",
      " [1]\n",
      " ...\n",
      " [0]\n",
      " [0]\n",
      " [0]]\n"
     ]
    }
   ],
   "source": [
    "print(Y)  # Printing numpy array Y."
   ]
  },
  {
   "cell_type": "markdown",
   "id": "7867cbee",
   "metadata": {},
   "source": [
    "### One Hot Encoding"
   ]
  },
  {
   "cell_type": "code",
   "execution_count": 265,
   "id": "e5cbdbdb",
   "metadata": {},
   "outputs": [
    {
     "data": {
      "text/plain": [
       "Age\n",
       "15-24 years    6010\n",
       "25-34 years    6010\n",
       "35-54 years    6010\n",
       "5-14 years     6010\n",
       "55-74 years    6010\n",
       "75+ years      6010\n",
       "dtype: int64"
      ]
     },
     "execution_count": 265,
     "metadata": {},
     "output_type": "execute_result"
    }
   ],
   "source": [
    "# count duplicates function learned from: https://datatofish.com/count-duplicates-pandas/\n",
    "sucidedataframe.pivot_table(columns=['Age'], aggfunc='size')  # counts duplicates in the selected dataframe column."
   ]
  },
  {
   "cell_type": "code",
   "execution_count": 266,
   "id": "ebed7843",
   "metadata": {},
   "outputs": [],
   "source": [
    "ct = ColumnTransformer(transformers=[('encoder', OneHotEncoder(), [0])], remainder='passthrough')    \n",
    "# transformers= [('what to do', method , [index of column to apply method on])]\n",
    "# remainder='what to do with the remaining columns'\n",
    "\n",
    "X = np.array(ct.fit_transform(X))  # applies the above method on the given array."
   ]
  },
  {
   "cell_type": "code",
   "execution_count": 267,
   "id": "3553ccc4",
   "metadata": {},
   "outputs": [
    {
     "name": "stdout",
     "output_type": "stream",
     "text": [
      "[[1.0 0.0 0.0 ... 0.0 0 289700.0]\n",
      " [0.0 1.0 0.0 ... 0.0 0 257200.0]\n",
      " [0.0 0.0 1.0 ... 0.0 0 278800.0]\n",
      " ...\n",
      " [0.0 0.0 0.0 ... 0.0 1 7291.0]\n",
      " [0.0 0.0 0.0 ... 0.0 1 12615.0]\n",
      " [0.0 0.0 0.0 ... 1.0 1 2496.0]]\n"
     ]
    }
   ],
   "source": [
    "print(X)  # Printing numpy array X."
   ]
  },
  {
   "cell_type": "code",
   "execution_count": 268,
   "id": "7dc3ee9a",
   "metadata": {},
   "outputs": [],
   "source": [
    "X = np.delete(X, -1, 1)  # delete second column of C"
   ]
  },
  {
   "cell_type": "code",
   "execution_count": 269,
   "id": "4e6d29d5",
   "metadata": {},
   "outputs": [
    {
     "name": "stdout",
     "output_type": "stream",
     "text": [
      "[[1.0 0.0 0.0 ... 0.0 0.0 0]\n",
      " [0.0 1.0 0.0 ... 0.0 0.0 0]\n",
      " [0.0 0.0 1.0 ... 0.0 0.0 0]\n",
      " ...\n",
      " [0.0 0.0 0.0 ... 0.0 0.0 1]\n",
      " [0.0 0.0 0.0 ... 1.0 0.0 1]\n",
      " [0.0 0.0 0.0 ... 0.0 1.0 1]]\n"
     ]
    }
   ],
   "source": [
    "print(X)  # Printing numpy array Y."
   ]
  },
  {
   "cell_type": "code",
   "execution_count": 270,
   "id": "5eebb38c",
   "metadata": {},
   "outputs": [
    {
     "data": {
      "text/html": [
       "<div>\n",
       "<style scoped>\n",
       "    .dataframe tbody tr th:only-of-type {\n",
       "        vertical-align: middle;\n",
       "    }\n",
       "\n",
       "    .dataframe tbody tr th {\n",
       "        vertical-align: top;\n",
       "    }\n",
       "\n",
       "    .dataframe thead th {\n",
       "        text-align: right;\n",
       "    }\n",
       "</style>\n",
       "<table border=\"1\" class=\"dataframe\">\n",
       "  <thead>\n",
       "    <tr style=\"text-align: right;\">\n",
       "      <th></th>\n",
       "      <th>Age</th>\n",
       "      <th>Gender</th>\n",
       "      <th>Population</th>\n",
       "      <th>Suicide_Committed_num</th>\n",
       "      <th>Suicide_Committed</th>\n",
       "    </tr>\n",
       "  </thead>\n",
       "  <tbody>\n",
       "    <tr>\n",
       "      <th>24</th>\n",
       "      <td>15-24 years</td>\n",
       "      <td>0</td>\n",
       "      <td>289700.0</td>\n",
       "      <td>14.0</td>\n",
       "      <td>1</td>\n",
       "    </tr>\n",
       "    <tr>\n",
       "      <th>25</th>\n",
       "      <td>25-34 years</td>\n",
       "      <td>0</td>\n",
       "      <td>257200.0</td>\n",
       "      <td>4.0</td>\n",
       "      <td>1</td>\n",
       "    </tr>\n",
       "  </tbody>\n",
       "</table>\n",
       "</div>"
      ],
      "text/plain": [
       "            Age  Gender  Population  Suicide_Committed_num  Suicide_Committed\n",
       "24  15-24 years       0    289700.0                   14.0                  1\n",
       "25  25-34 years       0    257200.0                    4.0                  1"
      ]
     },
     "execution_count": 270,
     "metadata": {},
     "output_type": "execute_result"
    }
   ],
   "source": [
    "sucidedataframe.head(2)  # Taking a look at the dataframe the first elements of the dataset."
   ]
  },
  {
   "cell_type": "markdown",
   "id": "721c3b45",
   "metadata": {},
   "source": [
    "### Selecting X2 and Y2 values"
   ]
  },
  {
   "cell_type": "code",
   "execution_count": 271,
   "id": "3cb467f4",
   "metadata": {},
   "outputs": [],
   "source": [
    "X2 = sucidedataframe[[\"Age\",\"Suicide_Committed_num\" ,\"Population\"]].to_numpy()  # selecting the values for the X2 variable."
   ]
  },
  {
   "cell_type": "code",
   "execution_count": 272,
   "id": "cd02d1d0",
   "metadata": {},
   "outputs": [],
   "source": [
    "Y2 = sucidedataframe[[\"Gender\"]].to_numpy()  # selecting the values for the Y2 variable."
   ]
  },
  {
   "cell_type": "code",
   "execution_count": 273,
   "id": "fdad171a",
   "metadata": {},
   "outputs": [
    {
     "name": "stdout",
     "output_type": "stream",
     "text": [
      "[['15-24 years' 14.0 289700.0]\n",
      " ['25-34 years' 4.0 257200.0]\n",
      " ['35-54 years' 6.0 278800.0]\n",
      " ...\n",
      " ['5-14 years' 0.0 7291.0]\n",
      " ['55-74 years' 0.0 12615.0]\n",
      " ['75+ years' 0.0 2496.0]]\n"
     ]
    }
   ],
   "source": [
    "print(X2)  # Printing numpy array X2."
   ]
  },
  {
   "cell_type": "code",
   "execution_count": 274,
   "id": "c04cf415",
   "metadata": {},
   "outputs": [
    {
     "name": "stdout",
     "output_type": "stream",
     "text": [
      "[[0]\n",
      " [0]\n",
      " [0]\n",
      " ...\n",
      " [1]\n",
      " [1]\n",
      " [1]]\n"
     ]
    }
   ],
   "source": [
    "print(Y2)  # Printing numpy array Y2."
   ]
  },
  {
   "cell_type": "markdown",
   "id": "1464be8b",
   "metadata": {},
   "source": [
    "### One Hot Encoding"
   ]
  },
  {
   "cell_type": "code",
   "execution_count": 275,
   "id": "3aa73e7d",
   "metadata": {},
   "outputs": [],
   "source": [
    "X2 = np.array(ct.fit_transform(X2))  # applies the above method on the given array."
   ]
  },
  {
   "cell_type": "code",
   "execution_count": 276,
   "id": "690aa8f3",
   "metadata": {},
   "outputs": [
    {
     "name": "stdout",
     "output_type": "stream",
     "text": [
      "[[1.0 0.0 0.0 ... 0.0 14.0 289700.0]\n",
      " [0.0 1.0 0.0 ... 0.0 4.0 257200.0]\n",
      " [0.0 0.0 1.0 ... 0.0 6.0 278800.0]\n",
      " ...\n",
      " [0.0 0.0 0.0 ... 0.0 0.0 7291.0]\n",
      " [0.0 0.0 0.0 ... 0.0 0.0 12615.0]\n",
      " [0.0 0.0 0.0 ... 1.0 0.0 2496.0]]\n"
     ]
    }
   ],
   "source": [
    "print(X2)  # Printing numpy array X2."
   ]
  },
  {
   "cell_type": "code",
   "execution_count": 277,
   "id": "ddc6abda",
   "metadata": {},
   "outputs": [],
   "source": [
    "# %run MyOtherNotebook.ipynb use later to seprate code in note book. if allowed."
   ]
  },
  {
   "cell_type": "markdown",
   "id": "76d90c6b",
   "metadata": {},
   "source": [
    "## Spliting the datasets into a training and test set "
   ]
  },
  {
   "cell_type": "code",
   "execution_count": 278,
   "id": "002ab177",
   "metadata": {},
   "outputs": [],
   "source": [
    "X_train, X_test, Y_train, Y_test = train_test_split(X, Y, test_size = 0.2, random_state = 1)\n",
    "X2_train, X2_test, Y2_train, Y2_test = train_test_split(X2, Y2, test_size = 0.2, random_state = 1)"
   ]
  },
  {
   "cell_type": "code",
   "execution_count": 279,
   "id": "f514ed0c",
   "metadata": {},
   "outputs": [
    {
     "name": "stdout",
     "output_type": "stream",
     "text": [
      "The length of X_train is  28848  and the length of Y_train is  28848\n",
      "The length of X_test is  7212  and the length of Y_test is  7212\n"
     ]
    }
   ],
   "source": [
    "print(\"The length of X_train is \",len(X_train), \" and the length of Y_train is \", len(Y_train))\n",
    "print(\"The length of X_test is \",len(X_test), \" and the length of Y_test is \", len(Y_test))"
   ]
  },
  {
   "cell_type": "code",
   "execution_count": 280,
   "id": "aa519ce9",
   "metadata": {},
   "outputs": [
    {
     "name": "stdout",
     "output_type": "stream",
     "text": [
      "The length of X2_train is  28848  and the length of Y2_train is  28848\n",
      "The length of X2_test is  7212  and the length of Y2_test is  7212\n"
     ]
    }
   ],
   "source": [
    "print(\"The length of X2_train is \",len(X2_train), \" and the length of Y2_train is \", len(Y2_train))\n",
    "print(\"The length of X2_test is \",len(X2_test), \" and the length of Y2_test is \", len(Y2_test))"
   ]
  },
  {
   "cell_type": "code",
   "execution_count": 281,
   "id": "7cc9dc09",
   "metadata": {},
   "outputs": [
    {
     "name": "stdout",
     "output_type": "stream",
     "text": [
      "X_test  [[1.0 0.0 0.0 ... 0.0 0.0 1]\n",
      " [0.0 0.0 0.0 ... 0.0 1.0 1]\n",
      " [0.0 0.0 0.0 ... 1.0 0.0 1]\n",
      " ...\n",
      " [0.0 0.0 0.0 ... 1.0 0.0 1]\n",
      " [0.0 0.0 1.0 ... 0.0 0.0 0]\n",
      " [1.0 0.0 0.0 ... 0.0 0.0 0]] \n",
      "Y_test  [[1]\n",
      " [0]\n",
      " [1]\n",
      " ...\n",
      " [1]\n",
      " [1]\n",
      " [1]] \n",
      "X_train  [[0.0 0.0 0.0 ... 1.0 0.0 0]\n",
      " [0.0 0.0 0.0 ... 0.0 0.0 1]\n",
      " [0.0 0.0 0.0 ... 1.0 0.0 1]\n",
      " ...\n",
      " [0.0 0.0 1.0 ... 0.0 0.0 1]\n",
      " [0.0 0.0 0.0 ... 1.0 0.0 0]\n",
      " [0.0 0.0 0.0 ... 0.0 0.0 0]] \n",
      "Y_train  [[1]\n",
      " [0]\n",
      " [1]\n",
      " ...\n",
      " [1]\n",
      " [1]\n",
      " [1]]\n"
     ]
    }
   ],
   "source": [
    "print(\"X_test \", X_test, \"\\nY_test \", Y_test, \"\\nX_train \", X_train, \"\\nY_train \", Y_train)"
   ]
  },
  {
   "cell_type": "code",
   "execution_count": 282,
   "id": "c2691dfe",
   "metadata": {},
   "outputs": [
    {
     "name": "stdout",
     "output_type": "stream",
     "text": [
      "X2_test  [[1.0 0.0 0.0 ... 0.0 6667.0 11714752.0]\n",
      " [0.0 0.0 0.0 ... 1.0 0.0 954.0]\n",
      " [0.0 0.0 0.0 ... 0.0 216.0 418200.0]\n",
      " ...\n",
      " [0.0 0.0 0.0 ... 0.0 217.0 1040500.0]\n",
      " [0.0 0.0 1.0 ... 0.0 1.0 94332.0]\n",
      " [1.0 0.0 0.0 ... 0.0 16.0 215400.0]] \n",
      "Y2_test  [[1]\n",
      " [1]\n",
      " [1]\n",
      " ...\n",
      " [1]\n",
      " [0]\n",
      " [0]] \n",
      "X2_train  [[0.0 0.0 0.0 ... 0.0 4.0 142343.0]\n",
      " [0.0 0.0 0.0 ... 0.0 0.0 21500.0]\n",
      " [0.0 0.0 0.0 ... 0.0 295.0 2536730.0]\n",
      " ...\n",
      " [0.0 0.0 1.0 ... 0.0 1067.0 13704169.0]\n",
      " [0.0 0.0 0.0 ... 0.0 6.0 465100.0]\n",
      " [0.0 0.0 0.0 ... 0.0 2.0 403000.0]] \n",
      "Y2_train  [[0]\n",
      " [1]\n",
      " [1]\n",
      " ...\n",
      " [1]\n",
      " [0]\n",
      " [0]]\n"
     ]
    }
   ],
   "source": [
    "print(\"X2_test \", X2_test, \"\\nY2_test \", Y2_test, \"\\nX2_train \", X2_train, \"\\nY2_train \", Y2_train)"
   ]
  },
  {
   "cell_type": "markdown",
   "id": "83512843",
   "metadata": {},
   "source": [
    "## Feature Scaling "
   ]
  },
  {
   "cell_type": "code",
   "execution_count": 283,
   "id": "4738da93",
   "metadata": {},
   "outputs": [
    {
     "data": {
      "text/plain": [
       "array([0.0, 0.0, 0.0, 0.0, 1.0, 0.0, 4.0, 142343.0], dtype=object)"
      ]
     },
     "execution_count": 283,
     "metadata": {},
     "output_type": "execute_result"
    }
   ],
   "source": [
    "X2_train[0]"
   ]
  },
  {
   "cell_type": "code",
   "execution_count": 284,
   "id": "8fcec40f",
   "metadata": {},
   "outputs": [],
   "source": [
    "sc = StandardScaler()  # creating an instance of the object.\n",
    "\n",
    "X2_train[:, 6:] = sc.fit_transform(X2_train[:, 6:])  # Scaling x_train\n",
    "X2_test[:, 6:] = sc.transform(X2_test[:, 6:])  # Scaling y_train"
   ]
  },
  {
   "cell_type": "code",
   "execution_count": 291,
   "id": "2ac4d7f1",
   "metadata": {},
   "outputs": [
    {
     "name": "stdout",
     "output_type": "stream",
     "text": [
      "X2_test  [[1.0 0.0 0.0 ... 0.0 7.446398944619078 2.6964860977419423]\n",
      " [0.0 0.0 0.0 ... 1.0 -0.25757297980246174 -0.45926455223718626]\n",
      " [0.0 0.0 0.0 ... 0.0 -0.007976769261730885 -0.3468565752769218]\n",
      " ...\n",
      " [0.0 0.0 0.0 ... 0.0 -0.006821231249968243 -0.1792061147275755]\n",
      " [0.0 0.0 1.0 ... 0.0 -0.2564174417906991 -0.4341080928041526]\n",
      " [1.0 0.0 0.0 ... 0.0 -0.23908437161425947 -0.40149182097739977]] \n",
      "\n",
      "X2_train  [[0.0 0.0 0.0 ... 0.0 -0.25295082775541117 -0.42117371025323713]\n",
      " [0.0 0.0 0.0 ... 0.0 -0.25757297980246174 -0.4537293660529554]\n",
      " [0.0 0.0 0.0 ... 0.0 0.0833107336675179 0.22388507696091625]\n",
      " ...\n",
      " [0.0 0.0 1.0 ... 0.0 0.9753860787482783 3.2324441184308363]\n",
      " [0.0 0.0 0.0 ... 0.0 -0.2506397517318859 -0.3342215011972748]\n",
      " [0.0 0.0 0.0 ... 0.0 -0.2552619037789365 -0.3509515246588117]]\n"
     ]
    }
   ],
   "source": [
    "print(\"X2_test \", X2_test,\"\\n\\nX2_train \", X2_train)"
   ]
  },
  {
   "cell_type": "markdown",
   "id": "8a52f7ac",
   "metadata": {},
   "source": [
    "## Training Logistic regression model on traning and test sets."
   ]
  },
  {
   "cell_type": "markdown",
   "id": "11dd70ab",
   "metadata": {},
   "source": [
    "### For X_train and Y_train "
   ]
  },
  {
   "cell_type": "code",
   "execution_count": 325,
   "id": "40bd03a5",
   "metadata": {},
   "outputs": [],
   "source": [
    "logistic_regression_classifier = LogisticRegression(random_state = 0)  # Bulding an opject of the class"
   ]
  },
  {
   "cell_type": "code",
   "execution_count": 326,
   "id": "9be7b3e9",
   "metadata": {},
   "outputs": [
    {
     "name": "stderr",
     "output_type": "stream",
     "text": [
      "C:\\Users\\User\\anaconda3\\lib\\site-packages\\sklearn\\utils\\validation.py:63: DataConversionWarning: A column-vector y was passed when a 1d array was expected. Please change the shape of y to (n_samples, ), for example using ravel().\n",
      "  return f(*args, **kwargs)\n"
     ]
    },
    {
     "data": {
      "text/plain": [
       "LogisticRegression(random_state=0)"
      ]
     },
     "execution_count": 326,
     "metadata": {},
     "output_type": "execute_result"
    }
   ],
   "source": [
    "logistic_regression_classifier.fit(X_train, Y_train)  # Building logistic regression model."
   ]
  },
  {
   "cell_type": "markdown",
   "id": "cc734d84",
   "metadata": {},
   "source": [
    "### predicting  result"
   ]
  },
  {
   "cell_type": "code",
   "execution_count": 327,
   "id": "d2fd036a",
   "metadata": {},
   "outputs": [
    {
     "name": "stdout",
     "output_type": "stream",
     "text": [
      "pred-real\n",
      "[[1 1]\n",
      " [1 0]\n",
      " [1 1]\n",
      " ...\n",
      " [1 1]\n",
      " [1 1]\n",
      " [1 1]]\n"
     ]
    }
   ],
   "source": [
    "Y_pred = logistic_regression_classifier.predict(X_test)  # Predicted results.\n",
    "print(\"pred-real\")\n",
    "print(np.concatenate((Y_pred.reshape(len(Y_pred),1), Y_test.reshape(len(Y_test),1)),1))  # Predicted results and real results in a np array."
   ]
  },
  {
   "cell_type": "markdown",
   "id": "68a0e92d",
   "metadata": {},
   "source": [
    "### Confusion matrix"
   ]
  },
  {
   "cell_type": "code",
   "execution_count": 346,
   "id": "6366e805",
   "metadata": {},
   "outputs": [
    {
     "name": "stdout",
     "output_type": "stream",
     "text": [
      "correct_0-incorrct_1\n",
      "incorrect_0-correct_1\n",
      "[[   0 1219]\n",
      " [   0 5993]]\n"
     ]
    }
   ],
   "source": [
    "cm = confusion_matrix(Y_test, Y_pred)\n",
    "print(\"correct_0-incorrct_1\\nincorrect_0-correct_1\")\n",
    "print(cm)"
   ]
  },
  {
   "cell_type": "markdown",
   "id": "0c53ce20",
   "metadata": {},
   "source": [
    "### Getting accurcy of the model"
   ]
  },
  {
   "cell_type": "code",
   "execution_count": 333,
   "id": "c9cbcd6d",
   "metadata": {},
   "outputs": [
    {
     "data": {
      "text/plain": [
       "0.8309761508596784"
      ]
     },
     "execution_count": 333,
     "metadata": {},
     "output_type": "execute_result"
    }
   ],
   "source": [
    "accuracy_score(Y_test, Y_pred)"
   ]
  },
  {
   "cell_type": "markdown",
   "id": "2ee5eac8",
   "metadata": {},
   "source": [
    "### For X2_train and Y2_train "
   ]
  },
  {
   "cell_type": "code",
   "execution_count": 334,
   "id": "852894eb",
   "metadata": {},
   "outputs": [
    {
     "name": "stderr",
     "output_type": "stream",
     "text": [
      "C:\\Users\\User\\anaconda3\\lib\\site-packages\\sklearn\\utils\\validation.py:63: DataConversionWarning: A column-vector y was passed when a 1d array was expected. Please change the shape of y to (n_samples, ), for example using ravel().\n",
      "  return f(*args, **kwargs)\n"
     ]
    },
    {
     "data": {
      "text/plain": [
       "LogisticRegression(random_state=0)"
      ]
     },
     "execution_count": 334,
     "metadata": {},
     "output_type": "execute_result"
    }
   ],
   "source": [
    "logistic_regression_classifier.fit(X2_train, Y2_train)  # Building logistic regression model."
   ]
  },
  {
   "cell_type": "markdown",
   "id": "63ba461f",
   "metadata": {},
   "source": [
    "### predicting result"
   ]
  },
  {
   "cell_type": "code",
   "execution_count": 337,
   "id": "3a650bf6",
   "metadata": {},
   "outputs": [
    {
     "name": "stdout",
     "output_type": "stream",
     "text": [
      "pred-real\n",
      "[[1 1]\n",
      " [0 1]\n",
      " [1 1]\n",
      " ...\n",
      " [1 1]\n",
      " [0 0]\n",
      " [1 0]]\n"
     ]
    }
   ],
   "source": [
    "Y2_pred = logistic_regression_classifier.predict(X2_test)  # Predicted results.\n",
    "print(\"pred-real\")\n",
    "print(np.concatenate((Y2_pred.reshape(len(Y2_pred),1), Y2_test.reshape(len(Y2_test),1)),1))  # Predicted results and real results in a np array."
   ]
  },
  {
   "cell_type": "markdown",
   "id": "37b1ad82",
   "metadata": {},
   "source": [
    "### Confusion matrix"
   ]
  },
  {
   "cell_type": "code",
   "execution_count": 344,
   "id": "5f761bbb",
   "metadata": {},
   "outputs": [
    {
     "name": "stdout",
     "output_type": "stream",
     "text": [
      "correct_0-incorrct_1\n",
      "incorrect_0-correct_1\n",
      "[[2611  982]\n",
      " [1573 2046]]\n"
     ]
    }
   ],
   "source": [
    "cm2 = confusion_matrix(Y2_test, Y2_pred)\n",
    "print(\"correct_0-incorrct_1\\nincorrect_0-correct_1\")\n",
    "print(cm2)"
   ]
  },
  {
   "cell_type": "markdown",
   "id": "3bc6587c",
   "metadata": {},
   "source": [
    "### Getting accurcy of the model"
   ]
  },
  {
   "cell_type": "code",
   "execution_count": 345,
   "id": "a1363d67",
   "metadata": {},
   "outputs": [
    {
     "data": {
      "text/plain": [
       "0.6457293399889074"
      ]
     },
     "execution_count": 345,
     "metadata": {},
     "output_type": "execute_result"
    }
   ],
   "source": [
    "accuracy_score(Y2_test, Y2_pred)"
   ]
  },
  {
   "cell_type": "code",
   "execution_count": 285,
   "id": "47e65998",
   "metadata": {},
   "outputs": [],
   "source": [
    "# look it up as your about to finish this report.\n",
    "# (Adeline, 2020) has a very creative idea to compare models at the end.\n",
    "# you can make it even better by using visusals.ss"
   ]
  }
 ],
 "metadata": {
  "kernelspec": {
   "display_name": "Python 3",
   "language": "python",
   "name": "python3"
  },
  "language_info": {
   "codemirror_mode": {
    "name": "ipython",
    "version": 3
   },
   "file_extension": ".py",
   "mimetype": "text/x-python",
   "name": "python",
   "nbconvert_exporter": "python",
   "pygments_lexer": "ipython3",
   "version": "3.8.8"
  }
 },
 "nbformat": 4,
 "nbformat_minor": 5
}
