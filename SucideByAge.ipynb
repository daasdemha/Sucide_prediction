{
 "cells": [
  {
   "cell_type": "markdown",
   "id": "c2d2f12e",
   "metadata": {},
   "source": [
    "# Determining at which age a person is most likely to commit sucide."
   ]
  },
  {
   "cell_type": "markdown",
   "id": "e0ee02c0",
   "metadata": {},
   "source": [
    "### Importing the relevent libraries"
   ]
  },
  {
   "cell_type": "code",
   "execution_count": 1207,
   "id": "7fc96920",
   "metadata": {},
   "outputs": [],
   "source": [
    "import numpy as np  # Allows us to work with arrays.\n",
    "import matplotlib.pyplot as plt  # Allows working with plots.\n",
    "import pandas as pd  # importing pandas’ library for use. Allows us to import data set and manipulate it.\n",
    "from sklearn.compose import ColumnTransformer  # helps with encoding.\n",
    "from sklearn.preprocessing import OneHotEncoder  # Does onehotencode.\n",
    "from sklearn.preprocessing import LabelEncoder   # Does 1 and 0 encoding.\n",
    "import seaborn as sns  # Allows to polt beautiful plots.\n",
    "import matplotlib.pyplot as plt # plotting.\n",
    "from sklearn.model_selection import train_test_split  # Splits dataset into test set and traning set. \n",
    "from sklearn.preprocessing import StandardScaler  # Perform the feature scaling.\n",
    "from sklearn.linear_model import LogisticRegression  # Performs logistic regression.\n",
    "from sklearn.metrics import confusion_matrix, ConfusionMatrixDisplay  # creates a confusion matrix\n",
    "from sklearn.metrics import accuracy_score  # Returns accury score of a model.\n",
    "from sklearn.neighbors import KNeighborsClassifier  # performs K Neariesst Neighobour.\n",
    "from sklearn.svm import SVC  # Performs svm\n",
    "from sklearn.naive_bayes import GaussianNB  # performs naive_bayes gaussianNB.\n",
    "from sklearn.tree import DecisionTreeClassifier  #Perfroms decision tree classification model.\n",
    "from sklearn.ensemble import RandomForestClassifier  #Performs random forest classification.\n",
    "from sklearn.decomposition import PCA  # Performs model optimization\n",
    "from sklearn.decomposition import KernelPCA  # Performs model optimization\n",
    "from sklearn.discriminant_analysis import LinearDiscriminantAnalysis as LDA # performs model optimization\n",
    "from sklearn.model_selection import cross_val_score  # performs cross validation. Helps in model selection."
   ]
  },
  {
   "cell_type": "markdown",
   "id": "681f5cbc",
   "metadata": {},
   "source": [
    "### Importing the dataframe"
   ]
  },
  {
   "cell_type": "code",
   "execution_count": 1145,
   "id": "82eef9c6",
   "metadata": {},
   "outputs": [],
   "source": [
    "sucidedataframe = pd.read_csv(\"who_suicide_statistics.csv\")  # opens csv files and assighns them to a variable."
   ]
  },
  {
   "cell_type": "markdown",
   "id": "1041df28",
   "metadata": {},
   "source": [
    "### Checking the data from the dataframe before pre-processing"
   ]
  },
  {
   "cell_type": "code",
   "execution_count": 1146,
   "id": "11364a06",
   "metadata": {},
   "outputs": [
    {
     "data": {
      "text/html": [
       "<div>\n",
       "<style scoped>\n",
       "    .dataframe tbody tr th:only-of-type {\n",
       "        vertical-align: middle;\n",
       "    }\n",
       "\n",
       "    .dataframe tbody tr th {\n",
       "        vertical-align: top;\n",
       "    }\n",
       "\n",
       "    .dataframe thead th {\n",
       "        text-align: right;\n",
       "    }\n",
       "</style>\n",
       "<table border=\"1\" class=\"dataframe\">\n",
       "  <thead>\n",
       "    <tr style=\"text-align: right;\">\n",
       "      <th></th>\n",
       "      <th>country</th>\n",
       "      <th>year</th>\n",
       "      <th>sex</th>\n",
       "      <th>age</th>\n",
       "      <th>suicides_no</th>\n",
       "      <th>population</th>\n",
       "    </tr>\n",
       "  </thead>\n",
       "  <tbody>\n",
       "    <tr>\n",
       "      <th>0</th>\n",
       "      <td>Albania</td>\n",
       "      <td>1985</td>\n",
       "      <td>female</td>\n",
       "      <td>15-24 years</td>\n",
       "      <td>NaN</td>\n",
       "      <td>277900.0</td>\n",
       "    </tr>\n",
       "  </tbody>\n",
       "</table>\n",
       "</div>"
      ],
      "text/plain": [
       "   country  year     sex          age  suicides_no  population\n",
       "0  Albania  1985  female  15-24 years          NaN    277900.0"
      ]
     },
     "execution_count": 1146,
     "metadata": {},
     "output_type": "execute_result"
    }
   ],
   "source": [
    "sucidedataframe.head(1)  # Taking a look at the dataframe the first elements of the dataset."
   ]
  },
  {
   "cell_type": "code",
   "execution_count": 1147,
   "id": "02af4851",
   "metadata": {},
   "outputs": [
    {
     "name": "stdout",
     "output_type": "stream",
     "text": [
      "<class 'pandas.core.frame.DataFrame'>\n",
      "RangeIndex: 43776 entries, 0 to 43775\n",
      "Data columns (total 6 columns):\n",
      " #   Column       Non-Null Count  Dtype  \n",
      "---  ------       --------------  -----  \n",
      " 0   country      43776 non-null  object \n",
      " 1   year         43776 non-null  int64  \n",
      " 2   sex          43776 non-null  object \n",
      " 3   age          43776 non-null  object \n",
      " 4   suicides_no  41520 non-null  float64\n",
      " 5   population   38316 non-null  float64\n",
      "dtypes: float64(2), int64(1), object(3)\n",
      "memory usage: 2.0+ MB\n"
     ]
    }
   ],
   "source": [
    "sucidedataframe.info()  # checking Basic information on the dataframe being procesed."
   ]
  },
  {
   "cell_type": "markdown",
   "id": "7ca5f0a5",
   "metadata": {},
   "source": [
    "## 1. Data pre-processing"
   ]
  },
  {
   "cell_type": "code",
   "execution_count": 1148,
   "id": "52fc4810",
   "metadata": {},
   "outputs": [
    {
     "data": {
      "text/plain": [
       "Index(['country', 'year', 'sex', 'age', 'suicides_no', 'population'], dtype='object')"
      ]
     },
     "execution_count": 1148,
     "metadata": {},
     "output_type": "execute_result"
    }
   ],
   "source": [
    "sucidedataframe.columns  # The columns of the dataframe are viewed."
   ]
  },
  {
   "cell_type": "code",
   "execution_count": 1149,
   "id": "ee6dbf16",
   "metadata": {},
   "outputs": [
    {
     "data": {
      "text/html": [
       "<div>\n",
       "<style scoped>\n",
       "    .dataframe tbody tr th:only-of-type {\n",
       "        vertical-align: middle;\n",
       "    }\n",
       "\n",
       "    .dataframe tbody tr th {\n",
       "        vertical-align: top;\n",
       "    }\n",
       "\n",
       "    .dataframe thead th {\n",
       "        text-align: right;\n",
       "    }\n",
       "</style>\n",
       "<table border=\"1\" class=\"dataframe\">\n",
       "  <thead>\n",
       "    <tr style=\"text-align: right;\">\n",
       "      <th></th>\n",
       "      <th>age</th>\n",
       "      <th>sex</th>\n",
       "      <th>population</th>\n",
       "      <th>suicides_no</th>\n",
       "      <th>suicides_no</th>\n",
       "    </tr>\n",
       "  </thead>\n",
       "  <tbody>\n",
       "    <tr>\n",
       "      <th>0</th>\n",
       "      <td>15-24 years</td>\n",
       "      <td>female</td>\n",
       "      <td>277900.0</td>\n",
       "      <td>NaN</td>\n",
       "      <td>NaN</td>\n",
       "    </tr>\n",
       "  </tbody>\n",
       "</table>\n",
       "</div>"
      ],
      "text/plain": [
       "           age     sex  population  suicides_no  suicides_no\n",
       "0  15-24 years  female    277900.0          NaN          NaN"
      ]
     },
     "execution_count": 1149,
     "metadata": {},
     "output_type": "execute_result"
    }
   ],
   "source": [
    "# Below relevent data is selected that will be used in this project.\n",
    "sucidedataframe = sucidedataframe[[\"age\", \"sex\", \"population\", \"suicides_no\", \"suicides_no\"]]\n",
    "sucidedataframe.head(1)  # Taking a look at the dataframe to see if the needed changes have been made."
   ]
  },
  {
   "cell_type": "code",
   "execution_count": 1150,
   "id": "4de1c37c",
   "metadata": {},
   "outputs": [
    {
     "data": {
      "text/html": [
       "<div>\n",
       "<style scoped>\n",
       "    .dataframe tbody tr th:only-of-type {\n",
       "        vertical-align: middle;\n",
       "    }\n",
       "\n",
       "    .dataframe tbody tr th {\n",
       "        vertical-align: top;\n",
       "    }\n",
       "\n",
       "    .dataframe thead th {\n",
       "        text-align: right;\n",
       "    }\n",
       "</style>\n",
       "<table border=\"1\" class=\"dataframe\">\n",
       "  <thead>\n",
       "    <tr style=\"text-align: right;\">\n",
       "      <th></th>\n",
       "      <th>Age</th>\n",
       "      <th>Gender</th>\n",
       "      <th>Population</th>\n",
       "      <th>Suicide_Committed_num</th>\n",
       "      <th>Suicide_Committed</th>\n",
       "    </tr>\n",
       "  </thead>\n",
       "  <tbody>\n",
       "    <tr>\n",
       "      <th>0</th>\n",
       "      <td>15-24 years</td>\n",
       "      <td>female</td>\n",
       "      <td>277900.0</td>\n",
       "      <td>NaN</td>\n",
       "      <td>NaN</td>\n",
       "    </tr>\n",
       "  </tbody>\n",
       "</table>\n",
       "</div>"
      ],
      "text/plain": [
       "           Age  Gender  Population  Suicide_Committed_num  Suicide_Committed\n",
       "0  15-24 years  female    277900.0                    NaN                NaN"
      ]
     },
     "execution_count": 1150,
     "metadata": {},
     "output_type": "execute_result"
    }
   ],
   "source": [
    "# Below the col names are renamed.\n",
    "sucidedataframe = sucidedataframe.set_axis([\"Age\", \"Gender\", \"Population\", \"Suicide_Committed_num\", \"Suicide_Committed\"],axis=1)\n",
    "sucidedataframe.head(1)  # Taking a look at the dataframe to see if the needed changes have been made."
   ]
  },
  {
   "cell_type": "code",
   "execution_count": 1151,
   "id": "d963403d",
   "metadata": {},
   "outputs": [
    {
     "data": {
      "text/plain": [
       "(43776, 5)"
      ]
     },
     "execution_count": 1151,
     "metadata": {},
     "output_type": "execute_result"
    }
   ],
   "source": [
    "sucidedataframe.shape  # The Entries and the columns of the dataframe are viewed."
   ]
  },
  {
   "cell_type": "markdown",
   "id": "8dc9be58",
   "metadata": {},
   "source": [
    "### Dealing with null values"
   ]
  },
  {
   "cell_type": "code",
   "execution_count": 1152,
   "id": "5326cf5a",
   "metadata": {},
   "outputs": [
    {
     "data": {
      "text/plain": [
       "Age                         0\n",
       "Gender                      0\n",
       "Population               5460\n",
       "Suicide_Committed_num    2256\n",
       "Suicide_Committed        2256\n",
       "dtype: int64"
      ]
     },
     "execution_count": 1152,
     "metadata": {},
     "output_type": "execute_result"
    }
   ],
   "source": [
    "sucidedataframe.isnull().sum()  # Checking the dataframe for null values."
   ]
  },
  {
   "cell_type": "code",
   "execution_count": 1153,
   "id": "94d2b0fd",
   "metadata": {},
   "outputs": [
    {
     "name": "stdout",
     "output_type": "stream",
     "text": [
      "The age range 5-14 years years years appears 7296 times.\n",
      "The age range 15-24 years appears 7296 times.\n",
      "The age range 25-34 years years appears 7296 times.\n",
      "The age range 35-54 years years appears 7296 times.\n",
      "The age range 55-74 years years years appears 7296 times.\n",
      "The age range 75+ years years years years appears 7296 times.\n"
     ]
    }
   ],
   "source": [
    "print('The age range 5-14 years years years appears ' + str(len(sucidedataframe[sucidedataframe['Age'] == '5-14 years'])) + ' times.')\n",
    "print('The age range 15-24 years appears ' + str(len(sucidedataframe[sucidedataframe['Age'] == '15-24 years'])) + ' times.')\n",
    "print('The age range 25-34 years years appears ' + str(len(sucidedataframe[sucidedataframe['Age'] == '25-34 years'])) + ' times.')\n",
    "print('The age range 35-54 years years appears ' + str(len(sucidedataframe[sucidedataframe['Age'] == '35-54 years'])) + ' times.')\n",
    "print('The age range 55-74 years years years appears ' + str(len(sucidedataframe[sucidedataframe['Age'] == '55-74 years'])) + ' times.')\n",
    "print('The age range 75+ years years years years appears ' + str(len(sucidedataframe[sucidedataframe['Age'] == '75+ years'])) + ' times.')"
   ]
  },
  {
   "cell_type": "code",
   "execution_count": 1154,
   "id": "e3bfd1bc",
   "metadata": {},
   "outputs": [],
   "source": [
    "sucidedataframe = sucidedataframe.dropna() # droping all rows with at least one null values."
   ]
  },
  {
   "cell_type": "code",
   "execution_count": 1155,
   "id": "0fa84860",
   "metadata": {},
   "outputs": [
    {
     "name": "stdout",
     "output_type": "stream",
     "text": [
      "The age range 5-14 years years years appears 6010 times.\n",
      "The age range 15-24 years appears 6010 times.\n",
      "The age range 25-34 years years appears 6010 times.\n",
      "The age range 35-54 years years appears 6010 times.\n",
      "The age range 55-74 years years years appears 6010 times.\n",
      "The age range 75+ years years years years appears 6010 times.\n"
     ]
    }
   ],
   "source": [
    "print('The age range 5-14 years years years appears ' + str(len(sucidedataframe[sucidedataframe['Age'] == '5-14 years'])) + ' times.')\n",
    "print('The age range 15-24 years appears ' + str(len(sucidedataframe[sucidedataframe['Age'] == '15-24 years'])) + ' times.')\n",
    "print('The age range 25-34 years years appears ' + str(len(sucidedataframe[sucidedataframe['Age'] == '25-34 years'])) + ' times.')\n",
    "print('The age range 35-54 years years appears ' + str(len(sucidedataframe[sucidedataframe['Age'] == '35-54 years'])) + ' times.')\n",
    "print('The age range 55-74 years years years appears ' + str(len(sucidedataframe[sucidedataframe['Age'] == '55-74 years'])) + ' times.')\n",
    "print('The age range 75+ years years years years appears ' + str(len(sucidedataframe[sucidedataframe['Age'] == '75+ years'])) + ' times.')"
   ]
  },
  {
   "cell_type": "code",
   "execution_count": 1156,
   "id": "bd0379db",
   "metadata": {},
   "outputs": [
    {
     "data": {
      "text/plain": [
       "(36060, 5)"
      ]
     },
     "execution_count": 1156,
     "metadata": {},
     "output_type": "execute_result"
    }
   ],
   "source": [
    "sucidedataframe.shape  # The Entries and the columns of the dataframe are viewed."
   ]
  },
  {
   "cell_type": "code",
   "execution_count": 1157,
   "id": "d6dbabc8",
   "metadata": {},
   "outputs": [
    {
     "data": {
      "text/html": [
       "<div>\n",
       "<style scoped>\n",
       "    .dataframe tbody tr th:only-of-type {\n",
       "        vertical-align: middle;\n",
       "    }\n",
       "\n",
       "    .dataframe tbody tr th {\n",
       "        vertical-align: top;\n",
       "    }\n",
       "\n",
       "    .dataframe thead th {\n",
       "        text-align: right;\n",
       "    }\n",
       "</style>\n",
       "<table border=\"1\" class=\"dataframe\">\n",
       "  <thead>\n",
       "    <tr style=\"text-align: right;\">\n",
       "      <th></th>\n",
       "      <th>Population</th>\n",
       "      <th>Suicide_Committed_num</th>\n",
       "      <th>Suicide_Committed</th>\n",
       "    </tr>\n",
       "  </thead>\n",
       "  <tbody>\n",
       "    <tr>\n",
       "      <th>count</th>\n",
       "      <td>36060.0</td>\n",
       "      <td>36060.0</td>\n",
       "      <td>36060.0</td>\n",
       "    </tr>\n",
       "    <tr>\n",
       "      <th>mean</th>\n",
       "      <td>1699996.0</td>\n",
       "      <td>222.0</td>\n",
       "      <td>222.0</td>\n",
       "    </tr>\n",
       "    <tr>\n",
       "      <th>std</th>\n",
       "      <td>3697811.0</td>\n",
       "      <td>855.0</td>\n",
       "      <td>855.0</td>\n",
       "    </tr>\n",
       "    <tr>\n",
       "      <th>min</th>\n",
       "      <td>259.0</td>\n",
       "      <td>0.0</td>\n",
       "      <td>0.0</td>\n",
       "    </tr>\n",
       "    <tr>\n",
       "      <th>25%</th>\n",
       "      <td>80566.0</td>\n",
       "      <td>2.0</td>\n",
       "      <td>2.0</td>\n",
       "    </tr>\n",
       "    <tr>\n",
       "      <th>50%</th>\n",
       "      <td>375765.0</td>\n",
       "      <td>21.0</td>\n",
       "      <td>21.0</td>\n",
       "    </tr>\n",
       "    <tr>\n",
       "      <th>75%</th>\n",
       "      <td>1344900.0</td>\n",
       "      <td>116.0</td>\n",
       "      <td>116.0</td>\n",
       "    </tr>\n",
       "    <tr>\n",
       "      <th>max</th>\n",
       "      <td>43805214.0</td>\n",
       "      <td>22338.0</td>\n",
       "      <td>22338.0</td>\n",
       "    </tr>\n",
       "  </tbody>\n",
       "</table>\n",
       "</div>"
      ],
      "text/plain": [
       "       Population  Suicide_Committed_num  Suicide_Committed\n",
       "count     36060.0                36060.0            36060.0\n",
       "mean    1699996.0                  222.0              222.0\n",
       "std     3697811.0                  855.0              855.0\n",
       "min         259.0                    0.0                0.0\n",
       "25%       80566.0                    2.0                2.0\n",
       "50%      375765.0                   21.0               21.0\n",
       "75%     1344900.0                  116.0              116.0\n",
       "max    43805214.0                22338.0            22338.0"
      ]
     },
     "execution_count": 1157,
     "metadata": {},
     "output_type": "execute_result"
    }
   ],
   "source": [
    "sucidedataframe.describe().round()  # Shows the count, mean, std, min, 25%, 50%, 75% and \n",
    "                                    # max of a datframe. Could be useful for feature scaling afterwords."
   ]
  },
  {
   "cell_type": "code",
   "execution_count": 1158,
   "id": "1b7daa9e",
   "metadata": {},
   "outputs": [
    {
     "name": "stdout",
     "output_type": "stream",
     "text": [
      "<class 'pandas.core.frame.DataFrame'>\n",
      "Int64Index: 36060 entries, 24 to 43763\n",
      "Data columns (total 5 columns):\n",
      " #   Column                 Non-Null Count  Dtype  \n",
      "---  ------                 --------------  -----  \n",
      " 0   Age                    36060 non-null  object \n",
      " 1   Gender                 36060 non-null  object \n",
      " 2   Population             36060 non-null  float64\n",
      " 3   Suicide_Committed_num  36060 non-null  float64\n",
      " 4   Suicide_Committed      36060 non-null  float64\n",
      "dtypes: float64(3), object(2)\n",
      "memory usage: 1.7+ MB\n"
     ]
    }
   ],
   "source": [
    "sucidedataframe.info()  # checking Basic information on the dataframe being procesed."
   ]
  },
  {
   "cell_type": "code",
   "execution_count": 1159,
   "id": "839ede3a",
   "metadata": {
    "scrolled": true
   },
   "outputs": [
    {
     "data": {
      "text/plain": [
       "Age                      0\n",
       "Gender                   0\n",
       "Population               0\n",
       "Suicide_Committed_num    0\n",
       "Suicide_Committed        0\n",
       "dtype: int64"
      ]
     },
     "execution_count": 1159,
     "metadata": {},
     "output_type": "execute_result"
    }
   ],
   "source": [
    "sucidedataframe.isnull().sum()  # Checking the dataframe for null values."
   ]
  },
  {
   "cell_type": "code",
   "execution_count": 1160,
   "id": "947bfe1a",
   "metadata": {},
   "outputs": [
    {
     "name": "stdout",
     "output_type": "stream",
     "text": [
      "Suicide_Committed\n",
      "0.0        5936\n",
      "1.0        2146\n",
      "2.0        1489\n",
      "3.0        1129\n",
      "4.0         907\n",
      "           ... \n",
      "20705.0       1\n",
      "21063.0       1\n",
      "21262.0       1\n",
      "21706.0       1\n",
      "22338.0       1\n",
      "Length: 2231, dtype: int64\n"
     ]
    }
   ],
   "source": [
    "print(sucidedataframe.pivot_table(columns=['Suicide_Committed'], aggfunc='size'))  # counts duplicates in the selected dataframe column."
   ]
  },
  {
   "cell_type": "markdown",
   "id": "d155dc03",
   "metadata": {},
   "source": [
    "### initial plot to visulize the data before working on it."
   ]
  },
  {
   "cell_type": "code",
   "execution_count": 1161,
   "id": "606e27da",
   "metadata": {},
   "outputs": [
    {
     "data": {
      "image/png": "[encoded data removed]",
      "text/plain": [
       "<Figure size 1080x720 with 6 Axes>"
      ]
     },
     "metadata": {},
     "output_type": "display_data"
    }
   ],
   "source": [
    "plt.rcParams['figure.figsize'] = (13, 7)\n",
    "plt.style.use('seaborn-white')\n",
    "sns.catplot(x='Gender', y=\"Suicide_Committed_num\", col=\"Age\", col_wrap=3, sharey=True, data=sucidedataframe, alpha=0.5, palette = 'hot')\n",
    "plt.xticks(rotation = 90)\n",
    "plt.show()"
   ]
  },
  {
   "cell_type": "code",
   "execution_count": 1162,
   "id": "040f3d0c",
   "metadata": {},
   "outputs": [
    {
     "data": {
      "image/png": "[encoded data removed]",
      "text/plain": [
       "<Figure size 936x720 with 1 Axes>"
      ]
     },
     "metadata": {},
     "output_type": "display_data"
    }
   ],
   "source": [
    "plt.style.use('seaborn')\n",
    "plt.figure(figsize= (13,10))\n",
    "sns.scatterplot(x= 'Suicide_Committed_num', y= 'Population', data = sucidedataframe, hue = 'Gender')\n",
    "plt.show()"
   ]
  },
  {
   "cell_type": "code",
   "execution_count": 1163,
   "id": "3ac6da53",
   "metadata": {},
   "outputs": [
    {
     "data": {
      "image/png": "[encoded data removed]",
      "text/plain": [
       "<Figure size 1296x432 with 12 Axes>"
      ]
     },
     "metadata": {},
     "output_type": "display_data"
    }
   ],
   "source": [
    "My_plot_object = sns.FacetGrid(sucidedataframe , row = 'Gender',col = 'Age',margin_titles=True)\n",
    "My_plot_object.map(plt.scatter,\"Suicide_Committed_num\",'Population',edgecolor = 'w')\n",
    "plt.show()"
   ]
  },
  {
   "cell_type": "markdown",
   "id": "fcfc3aa4",
   "metadata": {},
   "source": [
    "### Encoding variables to  0 and 1"
   ]
  },
  {
   "cell_type": "code",
   "execution_count": 1164,
   "id": "2fd7c20a",
   "metadata": {},
   "outputs": [],
   "source": [
    "le = LabelEncoder()\n",
    "sucidedataframe.Gender = le.fit_transform(sucidedataframe.Gender)"
   ]
  },
  {
   "cell_type": "code",
   "execution_count": 1165,
   "id": "c6d9fae7",
   "metadata": {},
   "outputs": [
    {
     "data": {
      "text/html": [
       "<div>\n",
       "<style scoped>\n",
       "    .dataframe tbody tr th:only-of-type {\n",
       "        vertical-align: middle;\n",
       "    }\n",
       "\n",
       "    .dataframe tbody tr th {\n",
       "        vertical-align: top;\n",
       "    }\n",
       "\n",
       "    .dataframe thead th {\n",
       "        text-align: right;\n",
       "    }\n",
       "</style>\n",
       "<table border=\"1\" class=\"dataframe\">\n",
       "  <thead>\n",
       "    <tr style=\"text-align: right;\">\n",
       "      <th></th>\n",
       "      <th>Age</th>\n",
       "      <th>Gender</th>\n",
       "      <th>Population</th>\n",
       "      <th>Suicide_Committed_num</th>\n",
       "      <th>Suicide_Committed</th>\n",
       "    </tr>\n",
       "  </thead>\n",
       "  <tbody>\n",
       "    <tr>\n",
       "      <th>24</th>\n",
       "      <td>15-24 years</td>\n",
       "      <td>0</td>\n",
       "      <td>289700.0</td>\n",
       "      <td>14.0</td>\n",
       "      <td>14.0</td>\n",
       "    </tr>\n",
       "    <tr>\n",
       "      <th>25</th>\n",
       "      <td>25-34 years</td>\n",
       "      <td>0</td>\n",
       "      <td>257200.0</td>\n",
       "      <td>4.0</td>\n",
       "      <td>4.0</td>\n",
       "    </tr>\n",
       "    <tr>\n",
       "      <th>26</th>\n",
       "      <td>35-54 years</td>\n",
       "      <td>0</td>\n",
       "      <td>278800.0</td>\n",
       "      <td>6.0</td>\n",
       "      <td>6.0</td>\n",
       "    </tr>\n",
       "    <tr>\n",
       "      <th>27</th>\n",
       "      <td>5-14 years</td>\n",
       "      <td>0</td>\n",
       "      <td>311000.0</td>\n",
       "      <td>0.0</td>\n",
       "      <td>0.0</td>\n",
       "    </tr>\n",
       "    <tr>\n",
       "      <th>28</th>\n",
       "      <td>55-74 years</td>\n",
       "      <td>0</td>\n",
       "      <td>144600.0</td>\n",
       "      <td>0.0</td>\n",
       "      <td>0.0</td>\n",
       "    </tr>\n",
       "  </tbody>\n",
       "</table>\n",
       "</div>"
      ],
      "text/plain": [
       "            Age  Gender  Population  Suicide_Committed_num  Suicide_Committed\n",
       "24  15-24 years       0    289700.0                   14.0               14.0\n",
       "25  25-34 years       0    257200.0                    4.0                4.0\n",
       "26  35-54 years       0    278800.0                    6.0                6.0\n",
       "27   5-14 years       0    311000.0                    0.0                0.0\n",
       "28  55-74 years       0    144600.0                    0.0                0.0"
      ]
     },
     "execution_count": 1165,
     "metadata": {},
     "output_type": "execute_result"
    }
   ],
   "source": [
    "sucidedataframe.head()"
   ]
  },
  {
   "cell_type": "code",
   "execution_count": 1166,
   "id": "83f63027",
   "metadata": {},
   "outputs": [
    {
     "name": "stdout",
     "output_type": "stream",
     "text": [
      "Suicide_Committed\n",
      "0.0        5936\n",
      "1.0        2146\n",
      "2.0        1489\n",
      "3.0        1129\n",
      "4.0         907\n",
      "           ... \n",
      "20705.0       1\n",
      "21063.0       1\n",
      "21262.0       1\n",
      "21706.0       1\n",
      "22338.0       1\n",
      "Length: 2231, dtype: int64\n"
     ]
    }
   ],
   "source": [
    "print(sucidedataframe.pivot_table(columns=['Suicide_Committed'], aggfunc='size'))  # counts duplicates in the selected dataframe column."
   ]
  },
  {
   "cell_type": "code",
   "execution_count": 1167,
   "id": "96b7458f",
   "metadata": {},
   "outputs": [],
   "source": [
    "sucidedataframe.loc[sucidedataframe.Suicide_Committed > 0, \"Suicide_Committed\"] = 1  # Encoding everthig above 0 to 1."
   ]
  },
  {
   "cell_type": "code",
   "execution_count": 1168,
   "id": "dad47788",
   "metadata": {},
   "outputs": [
    {
     "name": "stdout",
     "output_type": "stream",
     "text": [
      "Suicide_Committed\n",
      "0.0     5936\n",
      "1.0    30124\n",
      "dtype: int64\n"
     ]
    }
   ],
   "source": [
    "print(sucidedataframe.pivot_table(columns=['Suicide_Committed'], aggfunc='size'))  # counts duplicates in the selected dataframe column."
   ]
  },
  {
   "cell_type": "code",
   "execution_count": 1169,
   "id": "004118be",
   "metadata": {},
   "outputs": [],
   "source": [
    "sucidedataframe['Suicide_Committed'] = sucidedataframe['Suicide_Committed'].astype(np.int64)  # converting float to int."
   ]
  },
  {
   "cell_type": "code",
   "execution_count": 1170,
   "id": "2e65947d",
   "metadata": {},
   "outputs": [
    {
     "name": "stdout",
     "output_type": "stream",
     "text": [
      "Suicide_Committed\n",
      "0     5936\n",
      "1    30124\n",
      "dtype: int64\n"
     ]
    }
   ],
   "source": [
    "print(sucidedataframe.pivot_table(columns=['Suicide_Committed'], aggfunc='size'))  # counts duplicates in the selected dataframe column."
   ]
  },
  {
   "cell_type": "markdown",
   "id": "d4a78be8",
   "metadata": {},
   "source": [
    "### selecting X and Y values "
   ]
  },
  {
   "cell_type": "code",
   "execution_count": 1171,
   "id": "65a58cda",
   "metadata": {},
   "outputs": [],
   "source": [
    "X = sucidedataframe.iloc[:, 0:3].values  # selecting the values for the X variable."
   ]
  },
  {
   "cell_type": "code",
   "execution_count": 1172,
   "id": "f02a53d4",
   "metadata": {},
   "outputs": [],
   "source": [
    "Y = sucidedataframe[[\"Suicide_Committed\"]].to_numpy()  # selecting the values for the Y variable. # done using .to_numpy and not \n",
    "                                                       # .iloc as .to_numpy creates a horizontal bar while .iloc creates a \n",
    "                                                       # horizontal bar which will not alighn with the x values."
   ]
  },
  {
   "cell_type": "code",
   "execution_count": 1173,
   "id": "c3ddc8c4",
   "metadata": {},
   "outputs": [
    {
     "data": {
      "text/html": [
       "<div>\n",
       "<style scoped>\n",
       "    .dataframe tbody tr th:only-of-type {\n",
       "        vertical-align: middle;\n",
       "    }\n",
       "\n",
       "    .dataframe tbody tr th {\n",
       "        vertical-align: top;\n",
       "    }\n",
       "\n",
       "    .dataframe thead th {\n",
       "        text-align: right;\n",
       "    }\n",
       "</style>\n",
       "<table border=\"1\" class=\"dataframe\">\n",
       "  <thead>\n",
       "    <tr style=\"text-align: right;\">\n",
       "      <th></th>\n",
       "      <th>Age</th>\n",
       "      <th>Gender</th>\n",
       "      <th>Population</th>\n",
       "      <th>Suicide_Committed_num</th>\n",
       "      <th>Suicide_Committed</th>\n",
       "    </tr>\n",
       "  </thead>\n",
       "  <tbody>\n",
       "    <tr>\n",
       "      <th>24</th>\n",
       "      <td>15-24 years</td>\n",
       "      <td>0</td>\n",
       "      <td>289700.0</td>\n",
       "      <td>14.0</td>\n",
       "      <td>1</td>\n",
       "    </tr>\n",
       "    <tr>\n",
       "      <th>25</th>\n",
       "      <td>25-34 years</td>\n",
       "      <td>0</td>\n",
       "      <td>257200.0</td>\n",
       "      <td>4.0</td>\n",
       "      <td>1</td>\n",
       "    </tr>\n",
       "    <tr>\n",
       "      <th>26</th>\n",
       "      <td>35-54 years</td>\n",
       "      <td>0</td>\n",
       "      <td>278800.0</td>\n",
       "      <td>6.0</td>\n",
       "      <td>1</td>\n",
       "    </tr>\n",
       "  </tbody>\n",
       "</table>\n",
       "</div>"
      ],
      "text/plain": [
       "            Age  Gender  Population  Suicide_Committed_num  Suicide_Committed\n",
       "24  15-24 years       0    289700.0                   14.0                  1\n",
       "25  25-34 years       0    257200.0                    4.0                  1\n",
       "26  35-54 years       0    278800.0                    6.0                  1"
      ]
     },
     "execution_count": 1173,
     "metadata": {},
     "output_type": "execute_result"
    }
   ],
   "source": [
    "sucidedataframe.head(3)"
   ]
  },
  {
   "cell_type": "code",
   "execution_count": 1174,
   "id": "2bb03526",
   "metadata": {},
   "outputs": [
    {
     "data": {
      "text/html": [
       "<div>\n",
       "<style scoped>\n",
       "    .dataframe tbody tr th:only-of-type {\n",
       "        vertical-align: middle;\n",
       "    }\n",
       "\n",
       "    .dataframe tbody tr th {\n",
       "        vertical-align: top;\n",
       "    }\n",
       "\n",
       "    .dataframe thead th {\n",
       "        text-align: right;\n",
       "    }\n",
       "</style>\n",
       "<table border=\"1\" class=\"dataframe\">\n",
       "  <thead>\n",
       "    <tr style=\"text-align: right;\">\n",
       "      <th></th>\n",
       "      <th>Age</th>\n",
       "      <th>Gender</th>\n",
       "      <th>Population</th>\n",
       "      <th>Suicide_Committed_num</th>\n",
       "      <th>Suicide_Committed</th>\n",
       "    </tr>\n",
       "  </thead>\n",
       "  <tbody>\n",
       "    <tr>\n",
       "      <th>24</th>\n",
       "      <td>15-24 years</td>\n",
       "      <td>0</td>\n",
       "      <td>289700.0</td>\n",
       "      <td>14.0</td>\n",
       "      <td>1</td>\n",
       "    </tr>\n",
       "    <tr>\n",
       "      <th>25</th>\n",
       "      <td>25-34 years</td>\n",
       "      <td>0</td>\n",
       "      <td>257200.0</td>\n",
       "      <td>4.0</td>\n",
       "      <td>1</td>\n",
       "    </tr>\n",
       "    <tr>\n",
       "      <th>26</th>\n",
       "      <td>35-54 years</td>\n",
       "      <td>0</td>\n",
       "      <td>278800.0</td>\n",
       "      <td>6.0</td>\n",
       "      <td>1</td>\n",
       "    </tr>\n",
       "    <tr>\n",
       "      <th>27</th>\n",
       "      <td>5-14 years</td>\n",
       "      <td>0</td>\n",
       "      <td>311000.0</td>\n",
       "      <td>0.0</td>\n",
       "      <td>0</td>\n",
       "    </tr>\n",
       "    <tr>\n",
       "      <th>28</th>\n",
       "      <td>55-74 years</td>\n",
       "      <td>0</td>\n",
       "      <td>144600.0</td>\n",
       "      <td>0.0</td>\n",
       "      <td>0</td>\n",
       "    </tr>\n",
       "  </tbody>\n",
       "</table>\n",
       "</div>"
      ],
      "text/plain": [
       "            Age  Gender  Population  Suicide_Committed_num  Suicide_Committed\n",
       "24  15-24 years       0    289700.0                   14.0                  1\n",
       "25  25-34 years       0    257200.0                    4.0                  1\n",
       "26  35-54 years       0    278800.0                    6.0                  1\n",
       "27   5-14 years       0    311000.0                    0.0                  0\n",
       "28  55-74 years       0    144600.0                    0.0                  0"
      ]
     },
     "execution_count": 1174,
     "metadata": {},
     "output_type": "execute_result"
    }
   ],
   "source": [
    "sucidedataframe.head()  # Taking a look at the dataframe the first elements of the dataset."
   ]
  },
  {
   "cell_type": "code",
   "execution_count": 1175,
   "id": "adec7a91",
   "metadata": {},
   "outputs": [
    {
     "data": {
      "text/html": [
       "<div>\n",
       "<style scoped>\n",
       "    .dataframe tbody tr th:only-of-type {\n",
       "        vertical-align: middle;\n",
       "    }\n",
       "\n",
       "    .dataframe tbody tr th {\n",
       "        vertical-align: top;\n",
       "    }\n",
       "\n",
       "    .dataframe thead th {\n",
       "        text-align: right;\n",
       "    }\n",
       "</style>\n",
       "<table border=\"1\" class=\"dataframe\">\n",
       "  <thead>\n",
       "    <tr style=\"text-align: right;\">\n",
       "      <th></th>\n",
       "      <th>Age</th>\n",
       "      <th>Gender</th>\n",
       "      <th>Population</th>\n",
       "      <th>Suicide_Committed_num</th>\n",
       "      <th>Suicide_Committed</th>\n",
       "    </tr>\n",
       "  </thead>\n",
       "  <tbody>\n",
       "    <tr>\n",
       "      <th>24</th>\n",
       "      <td>15-24 years</td>\n",
       "      <td>0</td>\n",
       "      <td>289700.0</td>\n",
       "      <td>14.0</td>\n",
       "      <td>1</td>\n",
       "    </tr>\n",
       "    <tr>\n",
       "      <th>25</th>\n",
       "      <td>25-34 years</td>\n",
       "      <td>0</td>\n",
       "      <td>257200.0</td>\n",
       "      <td>4.0</td>\n",
       "      <td>1</td>\n",
       "    </tr>\n",
       "    <tr>\n",
       "      <th>26</th>\n",
       "      <td>35-54 years</td>\n",
       "      <td>0</td>\n",
       "      <td>278800.0</td>\n",
       "      <td>6.0</td>\n",
       "      <td>1</td>\n",
       "    </tr>\n",
       "    <tr>\n",
       "      <th>27</th>\n",
       "      <td>5-14 years</td>\n",
       "      <td>0</td>\n",
       "      <td>311000.0</td>\n",
       "      <td>0.0</td>\n",
       "      <td>0</td>\n",
       "    </tr>\n",
       "    <tr>\n",
       "      <th>28</th>\n",
       "      <td>55-74 years</td>\n",
       "      <td>0</td>\n",
       "      <td>144600.0</td>\n",
       "      <td>0.0</td>\n",
       "      <td>0</td>\n",
       "    </tr>\n",
       "  </tbody>\n",
       "</table>\n",
       "</div>"
      ],
      "text/plain": [
       "            Age  Gender  Population  Suicide_Committed_num  Suicide_Committed\n",
       "24  15-24 years       0    289700.0                   14.0                  1\n",
       "25  25-34 years       0    257200.0                    4.0                  1\n",
       "26  35-54 years       0    278800.0                    6.0                  1\n",
       "27   5-14 years       0    311000.0                    0.0                  0\n",
       "28  55-74 years       0    144600.0                    0.0                  0"
      ]
     },
     "execution_count": 1175,
     "metadata": {},
     "output_type": "execute_result"
    }
   ],
   "source": [
    "sucidedataframe.head()  # Taking a look at the dataframe the first elements of the dataset."
   ]
  },
  {
   "cell_type": "code",
   "execution_count": 1176,
   "id": "16660812",
   "metadata": {},
   "outputs": [
    {
     "name": "stdout",
     "output_type": "stream",
     "text": [
      "[['15-24 years' 0 289700.0]\n",
      " ['25-34 years' 0 257200.0]\n",
      " ['35-54 years' 0 278800.0]\n",
      " ...\n",
      " ['5-14 years' 1 7291.0]\n",
      " ['55-74 years' 1 12615.0]\n",
      " ['75+ years' 1 2496.0]]\n"
     ]
    }
   ],
   "source": [
    "print(X)  # Printing numpy array X."
   ]
  },
  {
   "cell_type": "code",
   "execution_count": 1177,
   "id": "8f8220a4",
   "metadata": {},
   "outputs": [
    {
     "name": "stdout",
     "output_type": "stream",
     "text": [
      "[[1]\n",
      " [1]\n",
      " [1]\n",
      " ...\n",
      " [0]\n",
      " [0]\n",
      " [0]]\n"
     ]
    }
   ],
   "source": [
    "print(Y)  # Printing numpy array Y."
   ]
  },
  {
   "cell_type": "markdown",
   "id": "7867cbee",
   "metadata": {},
   "source": [
    "### One Hot Encoding"
   ]
  },
  {
   "cell_type": "code",
   "execution_count": 1178,
   "id": "e5cbdbdb",
   "metadata": {},
   "outputs": [
    {
     "data": {
      "text/plain": [
       "Age\n",
       "15-24 years    6010\n",
       "25-34 years    6010\n",
       "35-54 years    6010\n",
       "5-14 years     6010\n",
       "55-74 years    6010\n",
       "75+ years      6010\n",
       "dtype: int64"
      ]
     },
     "execution_count": 1178,
     "metadata": {},
     "output_type": "execute_result"
    }
   ],
   "source": [
    "# count duplicates function learned from: https://datatofish.com/count-duplicates-pandas/\n",
    "sucidedataframe.pivot_table(columns=['Age'], aggfunc='size')  # counts duplicates in the selected dataframe column."
   ]
  },
  {
   "cell_type": "code",
   "execution_count": 1179,
   "id": "ebed7843",
   "metadata": {},
   "outputs": [],
   "source": [
    "ct = ColumnTransformer(transformers=[('encoder', OneHotEncoder(), [0])], remainder='passthrough')    \n",
    "# transformers= [('what to do', method , [index of column to apply method on])]\n",
    "# remainder='what to do with the remaining columns'\n",
    "\n",
    "X = np.array(ct.fit_transform(X))  # applies the above method on the given array."
   ]
  },
  {
   "cell_type": "code",
   "execution_count": 1180,
   "id": "3553ccc4",
   "metadata": {},
   "outputs": [
    {
     "name": "stdout",
     "output_type": "stream",
     "text": [
      "[[1.0 0.0 0.0 ... 0.0 0 289700.0]\n",
      " [0.0 1.0 0.0 ... 0.0 0 257200.0]\n",
      " [0.0 0.0 1.0 ... 0.0 0 278800.0]\n",
      " ...\n",
      " [0.0 0.0 0.0 ... 0.0 1 7291.0]\n",
      " [0.0 0.0 0.0 ... 0.0 1 12615.0]\n",
      " [0.0 0.0 0.0 ... 1.0 1 2496.0]]\n"
     ]
    }
   ],
   "source": [
    "print(X)  # Printing numpy array X."
   ]
  },
  {
   "cell_type": "code",
   "execution_count": 1181,
   "id": "7dc3ee9a",
   "metadata": {},
   "outputs": [],
   "source": [
    "X = np.delete(X, -1, 1)  # delete second column of C"
   ]
  },
  {
   "cell_type": "code",
   "execution_count": 1182,
   "id": "4e6d29d5",
   "metadata": {},
   "outputs": [
    {
     "name": "stdout",
     "output_type": "stream",
     "text": [
      "[[1.0 0.0 0.0 ... 0.0 0.0 0]\n",
      " [0.0 1.0 0.0 ... 0.0 0.0 0]\n",
      " [0.0 0.0 1.0 ... 0.0 0.0 0]\n",
      " ...\n",
      " [0.0 0.0 0.0 ... 0.0 0.0 1]\n",
      " [0.0 0.0 0.0 ... 1.0 0.0 1]\n",
      " [0.0 0.0 0.0 ... 0.0 1.0 1]]\n"
     ]
    }
   ],
   "source": [
    "print(X)  # Printing numpy array Y."
   ]
  },
  {
   "cell_type": "code",
   "execution_count": 1183,
   "id": "5eebb38c",
   "metadata": {},
   "outputs": [
    {
     "data": {
      "text/html": [
       "<div>\n",
       "<style scoped>\n",
       "    .dataframe tbody tr th:only-of-type {\n",
       "        vertical-align: middle;\n",
       "    }\n",
       "\n",
       "    .dataframe tbody tr th {\n",
       "        vertical-align: top;\n",
       "    }\n",
       "\n",
       "    .dataframe thead th {\n",
       "        text-align: right;\n",
       "    }\n",
       "</style>\n",
       "<table border=\"1\" class=\"dataframe\">\n",
       "  <thead>\n",
       "    <tr style=\"text-align: right;\">\n",
       "      <th></th>\n",
       "      <th>Age</th>\n",
       "      <th>Gender</th>\n",
       "      <th>Population</th>\n",
       "      <th>Suicide_Committed_num</th>\n",
       "      <th>Suicide_Committed</th>\n",
       "    </tr>\n",
       "  </thead>\n",
       "  <tbody>\n",
       "    <tr>\n",
       "      <th>24</th>\n",
       "      <td>15-24 years</td>\n",
       "      <td>0</td>\n",
       "      <td>289700.0</td>\n",
       "      <td>14.0</td>\n",
       "      <td>1</td>\n",
       "    </tr>\n",
       "    <tr>\n",
       "      <th>25</th>\n",
       "      <td>25-34 years</td>\n",
       "      <td>0</td>\n",
       "      <td>257200.0</td>\n",
       "      <td>4.0</td>\n",
       "      <td>1</td>\n",
       "    </tr>\n",
       "  </tbody>\n",
       "</table>\n",
       "</div>"
      ],
      "text/plain": [
       "            Age  Gender  Population  Suicide_Committed_num  Suicide_Committed\n",
       "24  15-24 years       0    289700.0                   14.0                  1\n",
       "25  25-34 years       0    257200.0                    4.0                  1"
      ]
     },
     "execution_count": 1183,
     "metadata": {},
     "output_type": "execute_result"
    }
   ],
   "source": [
    "sucidedataframe.head(2)  # Taking a look at the dataframe the first elements of the dataset."
   ]
  },
  {
   "cell_type": "markdown",
   "id": "721c3b45",
   "metadata": {},
   "source": [
    "### Selecting X2 and Y2 values"
   ]
  },
  {
   "cell_type": "code",
   "execution_count": 1184,
   "id": "3cb467f4",
   "metadata": {},
   "outputs": [],
   "source": [
    "X2 = sucidedataframe[[\"Age\",\"Suicide_Committed_num\" ,\"Population\"]].to_numpy()  # selecting the values for the X2 variable."
   ]
  },
  {
   "cell_type": "code",
   "execution_count": 1185,
   "id": "cd02d1d0",
   "metadata": {},
   "outputs": [],
   "source": [
    "Y2 = sucidedataframe[[\"Gender\"]].to_numpy()  # selecting the values for the Y2 variable."
   ]
  },
  {
   "cell_type": "code",
   "execution_count": 1186,
   "id": "fdad171a",
   "metadata": {},
   "outputs": [
    {
     "name": "stdout",
     "output_type": "stream",
     "text": [
      "[['15-24 years' 14.0 289700.0]\n",
      " ['25-34 years' 4.0 257200.0]\n",
      " ['35-54 years' 6.0 278800.0]\n",
      " ...\n",
      " ['5-14 years' 0.0 7291.0]\n",
      " ['55-74 years' 0.0 12615.0]\n",
      " ['75+ years' 0.0 2496.0]]\n"
     ]
    }
   ],
   "source": [
    "print(X2)  # Printing numpy array X2."
   ]
  },
  {
   "cell_type": "code",
   "execution_count": 1187,
   "id": "c04cf415",
   "metadata": {},
   "outputs": [
    {
     "name": "stdout",
     "output_type": "stream",
     "text": [
      "[[0]\n",
      " [0]\n",
      " [0]\n",
      " ...\n",
      " [1]\n",
      " [1]\n",
      " [1]]\n"
     ]
    }
   ],
   "source": [
    "print(Y2)  # Printing numpy array Y2."
   ]
  },
  {
   "cell_type": "markdown",
   "id": "1464be8b",
   "metadata": {},
   "source": [
    "### One Hot Encoding"
   ]
  },
  {
   "cell_type": "code",
   "execution_count": 1188,
   "id": "3aa73e7d",
   "metadata": {},
   "outputs": [],
   "source": [
    "X2 = np.array(ct.fit_transform(X2))  # applies the above method on the given array."
   ]
  },
  {
   "cell_type": "code",
   "execution_count": 1189,
   "id": "690aa8f3",
   "metadata": {},
   "outputs": [
    {
     "name": "stdout",
     "output_type": "stream",
     "text": [
      "[[1.0 0.0 0.0 ... 0.0 14.0 289700.0]\n",
      " [0.0 1.0 0.0 ... 0.0 4.0 257200.0]\n",
      " [0.0 0.0 1.0 ... 0.0 6.0 278800.0]\n",
      " ...\n",
      " [0.0 0.0 0.0 ... 0.0 0.0 7291.0]\n",
      " [0.0 0.0 0.0 ... 0.0 0.0 12615.0]\n",
      " [0.0 0.0 0.0 ... 1.0 0.0 2496.0]]\n"
     ]
    }
   ],
   "source": [
    "print(X2)  # Printing numpy array X2."
   ]
  },
  {
   "cell_type": "code",
   "execution_count": 1190,
   "id": "ddc6abda",
   "metadata": {},
   "outputs": [],
   "source": [
    "# %run MyOtherNotebook.ipynb use later to seprate code in note book. if allowed."
   ]
  },
  {
   "cell_type": "markdown",
   "id": "d3f491ab",
   "metadata": {},
   "source": [
    "## Spliting the datasets into a training and test set "
   ]
  },
  {
   "cell_type": "code",
   "execution_count": 1191,
   "id": "48ff8a10",
   "metadata": {},
   "outputs": [],
   "source": [
    "X_train, X_test, Y_train, Y_test = train_test_split(X, Y, test_size = 0.2, random_state = 1)\n",
    "X2_train, X2_test, Y2_train, Y2_test = train_test_split(X2, Y2, test_size = 0.2, random_state = 1)\n",
    "# test_size = 0.2               # splitting the data into 80 and 20 percent between the training and test set           \n",
    "                                            # to get the best results.                                                           \n",
    "# random_state = 1         # resetting the  random seed"
   ]
  },
  {
   "cell_type": "code",
   "execution_count": 1192,
   "id": "13a4609b",
   "metadata": {},
   "outputs": [
    {
     "name": "stdout",
     "output_type": "stream",
     "text": [
      "The length of X_train is  28848  and the length of Y_train is  28848\n",
      "The length of X_test is  7212  and the length of Y_test is  7212\n"
     ]
    }
   ],
   "source": [
    "# print the lenghth of both test and train set to see if there equally split.\n",
    "print(\"The length of X_train is \",len(X_train), \" and the length of Y_train is \", len(Y_train))  \n",
    "print(\"The length of X_test is \",len(X_test), \" and the length of Y_test is \", len(Y_test))"
   ]
  },
  {
   "cell_type": "code",
   "execution_count": 1193,
   "id": "c055e8b2",
   "metadata": {},
   "outputs": [
    {
     "name": "stdout",
     "output_type": "stream",
     "text": [
      "The length of X2_train is  28848  and the length of Y2_train is  28848\n",
      "The length of X2_test is  7212  and the length of Y2_test is  7212\n"
     ]
    }
   ],
   "source": [
    "# print the lenghth of both test and train set to see if there equally split.\n",
    "print(\"The length of X2_train is \",len(X2_train), \" and the length of Y2_train is \", len(Y2_train))\n",
    "print(\"The length of X2_test is \",len(X2_test), \" and the length of Y2_test is \", len(Y2_test))"
   ]
  },
  {
   "cell_type": "code",
   "execution_count": 1194,
   "id": "da30a987",
   "metadata": {},
   "outputs": [
    {
     "name": "stdout",
     "output_type": "stream",
     "text": [
      "X_test  [[1.0 0.0 0.0 ... 0.0 0.0 1]\n",
      " [0.0 0.0 0.0 ... 0.0 1.0 1]\n",
      " [0.0 0.0 0.0 ... 1.0 0.0 1]\n",
      " ...\n",
      " [0.0 0.0 0.0 ... 1.0 0.0 1]\n",
      " [0.0 0.0 1.0 ... 0.0 0.0 0]\n",
      " [1.0 0.0 0.0 ... 0.0 0.0 0]] \n",
      "Y_test  [[1]\n",
      " [0]\n",
      " [1]\n",
      " ...\n",
      " [1]\n",
      " [1]\n",
      " [1]] \n",
      "X_train  [[0.0 0.0 0.0 ... 1.0 0.0 0]\n",
      " [0.0 0.0 0.0 ... 0.0 0.0 1]\n",
      " [0.0 0.0 0.0 ... 1.0 0.0 1]\n",
      " ...\n",
      " [0.0 0.0 1.0 ... 0.0 0.0 1]\n",
      " [0.0 0.0 0.0 ... 1.0 0.0 0]\n",
      " [0.0 0.0 0.0 ... 0.0 0.0 0]] \n",
      "Y_train  [[1]\n",
      " [0]\n",
      " [1]\n",
      " ...\n",
      " [1]\n",
      " [1]\n",
      " [1]]\n"
     ]
    }
   ],
   "source": [
    "# print both test and train set to see them.\n",
    "print(\"X_test \", X_test, \"\\nY_test \", Y_test, \"\\nX_train \", X_train, \"\\nY_train \", Y_train)"
   ]
  },
  {
   "cell_type": "code",
   "execution_count": 1195,
   "id": "04e33c00",
   "metadata": {},
   "outputs": [
    {
     "name": "stdout",
     "output_type": "stream",
     "text": [
      "X2_test  [[1.0 0.0 0.0 ... 0.0 6667.0 11714752.0]\n",
      " [0.0 0.0 0.0 ... 1.0 0.0 954.0]\n",
      " [0.0 0.0 0.0 ... 0.0 216.0 418200.0]\n",
      " ...\n",
      " [0.0 0.0 0.0 ... 0.0 217.0 1040500.0]\n",
      " [0.0 0.0 1.0 ... 0.0 1.0 94332.0]\n",
      " [1.0 0.0 0.0 ... 0.0 16.0 215400.0]] \n",
      "Y2_test  [[1]\n",
      " [1]\n",
      " [1]\n",
      " ...\n",
      " [1]\n",
      " [0]\n",
      " [0]] \n",
      "X2_train  [[0.0 0.0 0.0 ... 0.0 4.0 142343.0]\n",
      " [0.0 0.0 0.0 ... 0.0 0.0 21500.0]\n",
      " [0.0 0.0 0.0 ... 0.0 295.0 2536730.0]\n",
      " ...\n",
      " [0.0 0.0 1.0 ... 0.0 1067.0 13704169.0]\n",
      " [0.0 0.0 0.0 ... 0.0 6.0 465100.0]\n",
      " [0.0 0.0 0.0 ... 0.0 2.0 403000.0]] \n",
      "Y2_train  [[0]\n",
      " [1]\n",
      " [1]\n",
      " ...\n",
      " [1]\n",
      " [0]\n",
      " [0]]\n"
     ]
    }
   ],
   "source": [
    "# print both test and train set to see them.\n",
    "print(\"X2_test \", X2_test, \"\\nY2_test \", Y2_test, \"\\nX2_train \", X2_train, \"\\nY2_train \", Y2_train)"
   ]
  },
  {
   "cell_type": "markdown",
   "id": "83512843",
   "metadata": {},
   "source": [
    "## Feature Scaling "
   ]
  },
  {
   "cell_type": "code",
   "execution_count": 1196,
   "id": "1e99e2cc",
   "metadata": {},
   "outputs": [
    {
     "data": {
      "text/plain": [
       "array([0.0, 0.0, 0.0, 0.0, 1.0, 0.0, 4.0, 142343.0], dtype=object)"
      ]
     },
     "execution_count": 1196,
     "metadata": {},
     "output_type": "execute_result"
    }
   ],
   "source": [
    "X2_train[0]  # checking element in the 0th index"
   ]
  },
  {
   "cell_type": "code",
   "execution_count": 1197,
   "id": "f91d79e3",
   "metadata": {},
   "outputs": [],
   "source": [
    "sc = StandardScaler()  # creating an instance of the object.\n",
    "\n",
    "X2_train[:, 6:] = sc.fit_transform(X2_train[:, 6:])  # Scaling x_train\n",
    "X2_test[:, 6:] = sc.transform(X2_test[:, 6:])  # Scaling y_train"
   ]
  },
  {
   "cell_type": "code",
   "execution_count": 1198,
   "id": "7af7b309",
   "metadata": {},
   "outputs": [
    {
     "name": "stdout",
     "output_type": "stream",
     "text": [
      "X2_test  [[1.0 0.0 0.0 ... 0.0 7.446398944619078 2.6964860977419423]\n",
      " [0.0 0.0 0.0 ... 1.0 -0.25757297980246174 -0.45926455223718626]\n",
      " [0.0 0.0 0.0 ... 0.0 -0.007976769261730885 -0.3468565752769218]\n",
      " ...\n",
      " [0.0 0.0 0.0 ... 0.0 -0.006821231249968243 -0.1792061147275755]\n",
      " [0.0 0.0 1.0 ... 0.0 -0.2564174417906991 -0.4341080928041526]\n",
      " [1.0 0.0 0.0 ... 0.0 -0.23908437161425947 -0.40149182097739977]] \n",
      "\n",
      "X2_train  [[0.0 0.0 0.0 ... 0.0 -0.25295082775541117 -0.42117371025323713]\n",
      " [0.0 0.0 0.0 ... 0.0 -0.25757297980246174 -0.4537293660529554]\n",
      " [0.0 0.0 0.0 ... 0.0 0.0833107336675179 0.22388507696091625]\n",
      " ...\n",
      " [0.0 0.0 1.0 ... 0.0 0.9753860787482783 3.2324441184308363]\n",
      " [0.0 0.0 0.0 ... 0.0 -0.2506397517318859 -0.3342215011972748]\n",
      " [0.0 0.0 0.0 ... 0.0 -0.2552619037789365 -0.3509515246588117]]\n"
     ]
    }
   ],
   "source": [
    "print(\"X2_test \", X2_test,\"\\n\\nX2_train \", X2_train)  # printing the sets after feature scaling."
   ]
  },
  {
   "cell_type": "markdown",
   "id": "956e32e8",
   "metadata": {},
   "source": [
    "# Applying PCA "
   ]
  },
  {
   "cell_type": "markdown",
   "id": "90310af6",
   "metadata": {},
   "source": [
    "# Reduced accuracy so will not use"
   ]
  },
  {
   "cell_type": "code",
   "execution_count": 1199,
   "id": "6dc61b2f",
   "metadata": {},
   "outputs": [],
   "source": [
    "#pca = PCA(n_components=2)"
   ]
  },
  {
   "cell_type": "code",
   "execution_count": 1200,
   "id": "f18c0fa6",
   "metadata": {},
   "outputs": [],
   "source": [
    "#X2_train = pca.fit_transform(X2_train)\n",
    "#X2_test = pca.fit_transform(X2_test)"
   ]
  },
  {
   "cell_type": "markdown",
   "id": "a021c246",
   "metadata": {},
   "source": [
    "# Applying Kernal PCA "
   ]
  },
  {
   "cell_type": "markdown",
   "id": "dde8d175",
   "metadata": {},
   "source": [
    "# Reduced accuracy so will not use"
   ]
  },
  {
   "cell_type": "code",
   "execution_count": 1201,
   "id": "6e2f53f0",
   "metadata": {},
   "outputs": [],
   "source": [
    "#kpca = KernelPCA(n_components=2,kernel='rbf')"
   ]
  },
  {
   "cell_type": "code",
   "execution_count": 1202,
   "id": "08859b5f",
   "metadata": {},
   "outputs": [],
   "source": [
    "#X2_train = kpca.fit_transform(X2_train)\n",
    "#X2_test = kpca.fit_transform(X2_test)\n",
    " "
   ]
  },
  {
   "cell_type": "markdown",
   "id": "9a913a3a",
   "metadata": {},
   "source": [
    "# Applying LDA"
   ]
  },
  {
   "cell_type": "code",
   "execution_count": 1205,
   "id": "efaa0bbe",
   "metadata": {},
   "outputs": [],
   "source": [
    "#lda = LDA(n_components=2)"
   ]
  },
  {
   "cell_type": "code",
   "execution_count": 1206,
   "id": "df7b795d",
   "metadata": {},
   "outputs": [],
   "source": [
    "#X2_train = lda.fit_transform(X2_train, Y2_train)\n",
    "#X2_test = lda.fit_transform(X2_test)"
   ]
  },
  {
   "cell_type": "markdown",
   "id": "6bf57904",
   "metadata": {},
   "source": [
    "## Training Logistic regression model on traning sets."
   ]
  },
  {
   "cell_type": "markdown",
   "id": "c0360550",
   "metadata": {},
   "source": [
    "## For X_train and Y_train "
   ]
  },
  {
   "cell_type": "code",
   "execution_count": 890,
   "id": "9673a9cb",
   "metadata": {},
   "outputs": [],
   "source": [
    "logistic_regression_classifier = LogisticRegression()  # Building and object of the class."
   ]
  },
  {
   "cell_type": "code",
   "execution_count": 891,
   "id": "7b51d62b",
   "metadata": {},
   "outputs": [
    {
     "name": "stderr",
     "output_type": "stream",
     "text": [
      "C:\\Users\\User\\anaconda3\\lib\\site-packages\\sklearn\\utils\\validation.py:63: DataConversionWarning: A column-vector y was passed when a 1d array was expected. Please change the shape of y to (n_samples, ), for example using ravel().\n",
      "  return f(*args, **kwargs)\n"
     ]
    },
    {
     "data": {
      "text/plain": [
       "LogisticRegression()"
      ]
     },
     "execution_count": 891,
     "metadata": {},
     "output_type": "execute_result"
    }
   ],
   "source": [
    "logistic_regression_classifier.fit(X_train, Y_train)  # Building logistic regression model."
   ]
  },
  {
   "cell_type": "markdown",
   "id": "e03518f1",
   "metadata": {},
   "source": [
    "### predicting  result"
   ]
  },
  {
   "cell_type": "code",
   "execution_count": 892,
   "id": "49d7ef18",
   "metadata": {},
   "outputs": [
    {
     "name": "stdout",
     "output_type": "stream",
     "text": [
      "pred-real\n",
      "[[1 1]\n",
      " [1 0]\n",
      " [1 1]\n",
      " ...\n",
      " [1 1]\n",
      " [1 1]\n",
      " [1 1]]\n"
     ]
    }
   ],
   "source": [
    "Y_pred = logistic_regression_classifier.predict(X_test)  # Predicted results.\n",
    "print(\"pred-real\")  # printing predicted and real values.\n",
    "print(np.concatenate((Y_pred.reshape(len(Y_pred),1), Y_test.reshape(len(Y_test),1)),1))  # Predicted results and real results in a np array."
   ]
  },
  {
   "cell_type": "markdown",
   "id": "5317d200",
   "metadata": {},
   "source": [
    "### Confusion matrix"
   ]
  },
  {
   "cell_type": "code",
   "execution_count": 893,
   "id": "36dec32f",
   "metadata": {},
   "outputs": [
    {
     "name": "stdout",
     "output_type": "stream",
     "text": [
      "correct_0-incorrct_1\n",
      "incorrect_0-correct_1\n",
      "[[   0 1219]\n",
      " [   0 5993]]\n"
     ]
    }
   ],
   "source": [
    "cm = confusion_matrix(Y_test, Y_pred)  # creating the confusion matrix\n",
    "print(\"correct_0-incorrct_1\\nincorrect_0-correct_1\")  # printing correct and inccrocet results.\n",
    "print(cm)  # prininting the confusion matrix."
   ]
  },
  {
   "cell_type": "code",
   "execution_count": 894,
   "id": "fa3bf149",
   "metadata": {},
   "outputs": [
    {
     "data": {
      "image/png": "[encoded data removed]",
      "text/plain": [
       "<Figure size 576x396 with 2 Axes>"
      ]
     },
     "metadata": {},
     "output_type": "display_data"
    }
   ],
   "source": [
    "disp = ConfusionMatrixDisplay(confusion_matrix=cm)  # creaing the confusion matrix plot.                           \n",
    "disp.plot()  # displaying data in plot\n",
    "plt.title(\"Logistic Regression Model\")  # adding a title to plot\n",
    "plt.show()  # showing the plot"
   ]
  },
  {
   "cell_type": "markdown",
   "id": "b9dec5e6",
   "metadata": {},
   "source": [
    "### Getting accurcy of the model"
   ]
  },
  {
   "cell_type": "code",
   "execution_count": 895,
   "id": "8e477ba2",
   "metadata": {},
   "outputs": [
    {
     "data": {
      "text/plain": [
       "83.1"
      ]
     },
     "execution_count": 895,
     "metadata": {},
     "output_type": "execute_result"
    }
   ],
   "source": [
    "Logistic_accuracy = round(accuracy_score(Y_test, Y_pred)*100, 2)  # saving the accurcy\n",
    "round(accuracy_score(Y_test, Y_pred)*100, 2)  # showing the model accurecy rounded to 2 decimal places."
   ]
  },
  {
   "cell_type": "markdown",
   "id": "854aea05",
   "metadata": {},
   "source": [
    "## k-Fold Cross Validation"
   ]
  },
  {
   "cell_type": "code",
   "execution_count": 1209,
   "id": "a4927c1a",
   "metadata": {},
   "outputs": [
    {
     "name": "stderr",
     "output_type": "stream",
     "text": [
      "C:\\Users\\User\\anaconda3\\lib\\site-packages\\sklearn\\utils\\validation.py:63: DataConversionWarning: A column-vector y was passed when a 1d array was expected. Please change the shape of y to (n_samples, ), for example using ravel().\n",
      "  return f(*args, **kwargs)\n",
      "C:\\Users\\User\\anaconda3\\lib\\site-packages\\sklearn\\utils\\validation.py:63: DataConversionWarning: A column-vector y was passed when a 1d array was expected. Please change the shape of y to (n_samples, ), for example using ravel().\n",
      "  return f(*args, **kwargs)\n",
      "C:\\Users\\User\\anaconda3\\lib\\site-packages\\sklearn\\utils\\validation.py:63: DataConversionWarning: A column-vector y was passed when a 1d array was expected. Please change the shape of y to (n_samples, ), for example using ravel().\n",
      "  return f(*args, **kwargs)\n",
      "C:\\Users\\User\\anaconda3\\lib\\site-packages\\sklearn\\utils\\validation.py:63: DataConversionWarning: A column-vector y was passed when a 1d array was expected. Please change the shape of y to (n_samples, ), for example using ravel().\n",
      "  return f(*args, **kwargs)\n",
      "C:\\Users\\User\\anaconda3\\lib\\site-packages\\sklearn\\utils\\validation.py:63: DataConversionWarning: A column-vector y was passed when a 1d array was expected. Please change the shape of y to (n_samples, ), for example using ravel().\n",
      "  return f(*args, **kwargs)\n",
      "C:\\Users\\User\\anaconda3\\lib\\site-packages\\sklearn\\utils\\validation.py:63: DataConversionWarning: A column-vector y was passed when a 1d array was expected. Please change the shape of y to (n_samples, ), for example using ravel().\n",
      "  return f(*args, **kwargs)\n",
      "C:\\Users\\User\\anaconda3\\lib\\site-packages\\sklearn\\utils\\validation.py:63: DataConversionWarning: A column-vector y was passed when a 1d array was expected. Please change the shape of y to (n_samples, ), for example using ravel().\n",
      "  return f(*args, **kwargs)\n",
      "C:\\Users\\User\\anaconda3\\lib\\site-packages\\sklearn\\utils\\validation.py:63: DataConversionWarning: A column-vector y was passed when a 1d array was expected. Please change the shape of y to (n_samples, ), for example using ravel().\n",
      "  return f(*args, **kwargs)\n",
      "C:\\Users\\User\\anaconda3\\lib\\site-packages\\sklearn\\utils\\validation.py:63: DataConversionWarning: A column-vector y was passed when a 1d array was expected. Please change the shape of y to (n_samples, ), for example using ravel().\n",
      "  return f(*args, **kwargs)\n"
     ]
    },
    {
     "name": "stdout",
     "output_type": "stream",
     "text": [
      "Accuracy: 83.65 %\n",
      "Standard Deviation: 0.01 %\n"
     ]
    },
    {
     "name": "stderr",
     "output_type": "stream",
     "text": [
      "C:\\Users\\User\\anaconda3\\lib\\site-packages\\sklearn\\utils\\validation.py:63: DataConversionWarning: A column-vector y was passed when a 1d array was expected. Please change the shape of y to (n_samples, ), for example using ravel().\n",
      "  return f(*args, **kwargs)\n"
     ]
    }
   ],
   "source": [
    "accuracies = cross_val_score(estimator = logistic_regression_classifier, X = X_train, y = Y_train, cv = 10)  # performs 10 different tests to get average accurecy.\n",
    "print(\"Accuracy: {:.2f} %\".format(accuracies.mean()*100))  # accuracy printed\n",
    "print(\"Standard Deviation: {:.2f} %\".format(accuracies.std()*100))  # standard deveation printed (std -avarage or std+ avarage )"
   ]
  },
  {
   "cell_type": "markdown",
   "id": "ad6ac6fc",
   "metadata": {},
   "source": [
    "## For X2_train and Y2_train "
   ]
  },
  {
   "cell_type": "code",
   "execution_count": 1212,
   "id": "6208b617",
   "metadata": {},
   "outputs": [
    {
     "name": "stderr",
     "output_type": "stream",
     "text": [
      "C:\\Users\\User\\anaconda3\\lib\\site-packages\\sklearn\\utils\\validation.py:63: DataConversionWarning: A column-vector y was passed when a 1d array was expected. Please change the shape of y to (n_samples, ), for example using ravel().\n",
      "  return f(*args, **kwargs)\n"
     ]
    },
    {
     "data": {
      "text/plain": [
       "LogisticRegression()"
      ]
     },
     "execution_count": 1212,
     "metadata": {},
     "output_type": "execute_result"
    }
   ],
   "source": [
    "logistic_regression_classifier.fit(X2_train, Y2_train)  # Building Logistic regression classification model."
   ]
  },
  {
   "cell_type": "markdown",
   "id": "f6f4dc5e",
   "metadata": {},
   "source": [
    "### predicting result"
   ]
  },
  {
   "cell_type": "code",
   "execution_count": 1213,
   "id": "3682333f",
   "metadata": {},
   "outputs": [
    {
     "name": "stdout",
     "output_type": "stream",
     "text": [
      "pred-real\n",
      "[[1 1]\n",
      " [0 1]\n",
      " [1 1]\n",
      " ...\n",
      " [1 1]\n",
      " [0 0]\n",
      " [1 0]]\n"
     ]
    }
   ],
   "source": [
    "Y2_pred = logistic_regression_classifier.predict(X2_test)  # Predicted results.\n",
    "print(\"pred-real\")  # printing predicted and real values.\n",
    "print(np.concatenate((Y2_pred.reshape(len(Y2_pred),1), Y2_test.reshape(len(Y2_test),1)),1))  # Predicted results and real results in a np array."
   ]
  },
  {
   "cell_type": "markdown",
   "id": "921ec100",
   "metadata": {},
   "source": [
    "### Confusion matrix"
   ]
  },
  {
   "cell_type": "code",
   "execution_count": 1214,
   "id": "73179ea7",
   "metadata": {},
   "outputs": [
    {
     "name": "stdout",
     "output_type": "stream",
     "text": [
      "correct_0-incorrct_1\n",
      "incorrect_0-correct_1\n",
      "[[2611  982]\n",
      " [1573 2046]]\n"
     ]
    }
   ],
   "source": [
    "cm2 = confusion_matrix(Y2_test, Y2_pred)  # creating the confusion matrix\n",
    "print(\"correct_0-incorrct_1\\nincorrect_0-correct_1\")  # printing correct and inccrocet results.\n",
    "print(cm2)  # prininting the confusion matrix."
   ]
  },
  {
   "cell_type": "markdown",
   "id": "51831465",
   "metadata": {},
   "source": [
    "### Getting accurcy of the model"
   ]
  },
  {
   "cell_type": "code",
   "execution_count": 1215,
   "id": "037a004f",
   "metadata": {},
   "outputs": [
    {
     "data": {
      "image/png": "[encoded data removed]",
      "text/plain": [
       "<Figure size 576x396 with 2 Axes>"
      ]
     },
     "metadata": {},
     "output_type": "display_data"
    }
   ],
   "source": [
    "disp = ConfusionMatrixDisplay(confusion_matrix=cm2)  # creaing the confusion matrix plot.                           \n",
    "disp.plot()  # displaying data in plot\n",
    "plt.title(\"Logistic Regression Model\")  # adding a title to plot\n",
    "plt.show()  # showing the plot"
   ]
  },
  {
   "cell_type": "code",
   "execution_count": 1216,
   "id": "6327a0f3",
   "metadata": {},
   "outputs": [
    {
     "data": {
      "text/plain": [
       "64.57"
      ]
     },
     "execution_count": 1216,
     "metadata": {},
     "output_type": "execute_result"
    }
   ],
   "source": [
    "Logistic_accuracy2 = round(accuracy_score(Y2_test, Y2_pred)*100, 2)  #  Saving the accurcy\n",
    "round(accuracy_score(Y2_test, Y2_pred)*100, 2)  # showing the model accurecy rounded to 2 decimal places."
   ]
  },
  {
   "cell_type": "markdown",
   "id": "6e5690e8",
   "metadata": {},
   "source": [
    "## k-Fold Cross Validation"
   ]
  },
  {
   "cell_type": "code",
   "execution_count": 1217,
   "id": "8036491c",
   "metadata": {},
   "outputs": [
    {
     "name": "stderr",
     "output_type": "stream",
     "text": [
      "C:\\Users\\User\\anaconda3\\lib\\site-packages\\sklearn\\utils\\validation.py:63: DataConversionWarning: A column-vector y was passed when a 1d array was expected. Please change the shape of y to (n_samples, ), for example using ravel().\n",
      "  return f(*args, **kwargs)\n",
      "C:\\Users\\User\\anaconda3\\lib\\site-packages\\sklearn\\utils\\validation.py:63: DataConversionWarning: A column-vector y was passed when a 1d array was expected. Please change the shape of y to (n_samples, ), for example using ravel().\n",
      "  return f(*args, **kwargs)\n",
      "C:\\Users\\User\\anaconda3\\lib\\site-packages\\sklearn\\utils\\validation.py:63: DataConversionWarning: A column-vector y was passed when a 1d array was expected. Please change the shape of y to (n_samples, ), for example using ravel().\n",
      "  return f(*args, **kwargs)\n",
      "C:\\Users\\User\\anaconda3\\lib\\site-packages\\sklearn\\utils\\validation.py:63: DataConversionWarning: A column-vector y was passed when a 1d array was expected. Please change the shape of y to (n_samples, ), for example using ravel().\n",
      "  return f(*args, **kwargs)\n",
      "C:\\Users\\User\\anaconda3\\lib\\site-packages\\sklearn\\utils\\validation.py:63: DataConversionWarning: A column-vector y was passed when a 1d array was expected. Please change the shape of y to (n_samples, ), for example using ravel().\n",
      "  return f(*args, **kwargs)\n",
      "C:\\Users\\User\\anaconda3\\lib\\site-packages\\sklearn\\utils\\validation.py:63: DataConversionWarning: A column-vector y was passed when a 1d array was expected. Please change the shape of y to (n_samples, ), for example using ravel().\n",
      "  return f(*args, **kwargs)\n",
      "C:\\Users\\User\\anaconda3\\lib\\site-packages\\sklearn\\utils\\validation.py:63: DataConversionWarning: A column-vector y was passed when a 1d array was expected. Please change the shape of y to (n_samples, ), for example using ravel().\n",
      "  return f(*args, **kwargs)\n",
      "C:\\Users\\User\\anaconda3\\lib\\site-packages\\sklearn\\utils\\validation.py:63: DataConversionWarning: A column-vector y was passed when a 1d array was expected. Please change the shape of y to (n_samples, ), for example using ravel().\n",
      "  return f(*args, **kwargs)\n"
     ]
    },
    {
     "name": "stdout",
     "output_type": "stream",
     "text": [
      "Accuracy: 64.84 %\n",
      "Standard Deviation: 0.99 %\n"
     ]
    },
    {
     "name": "stderr",
     "output_type": "stream",
     "text": [
      "C:\\Users\\User\\anaconda3\\lib\\site-packages\\sklearn\\utils\\validation.py:63: DataConversionWarning: A column-vector y was passed when a 1d array was expected. Please change the shape of y to (n_samples, ), for example using ravel().\n",
      "  return f(*args, **kwargs)\n",
      "C:\\Users\\User\\anaconda3\\lib\\site-packages\\sklearn\\utils\\validation.py:63: DataConversionWarning: A column-vector y was passed when a 1d array was expected. Please change the shape of y to (n_samples, ), for example using ravel().\n",
      "  return f(*args, **kwargs)\n"
     ]
    }
   ],
   "source": [
    "accuracies = cross_val_score(estimator = logistic_regression_classifier, X = X2_train, y = Y2_train, cv = 10)  # performs 10 different tests to get average accurecy.\n",
    "print(\"Accuracy: {:.2f} %\".format(accuracies.mean()*100))  # accuracy printed\n",
    "print(\"Standard Deviation: {:.2f} %\".format(accuracies.std()*100))  # standard deveation printed (std -avarage or std+ avarage )"
   ]
  },
  {
   "cell_type": "markdown",
   "id": "21d75ec0",
   "metadata": {},
   "source": [
    "## Training the K-NN  on the traning sets"
   ]
  },
  {
   "cell_type": "markdown",
   "id": "846ec3f9",
   "metadata": {},
   "source": [
    "## For X_train and Y_Train  "
   ]
  },
  {
   "cell_type": "code",
   "execution_count": 901,
   "id": "70fe6d5d",
   "metadata": {},
   "outputs": [],
   "source": [
    "K_NN_classifier = KNeighborsClassifier(n_neighbors = 15, metric = 'minkowski', p = 2)  # Bulding an object of the class"
   ]
  },
  {
   "cell_type": "code",
   "execution_count": 902,
   "id": "2d86144c",
   "metadata": {},
   "outputs": [
    {
     "name": "stderr",
     "output_type": "stream",
     "text": [
      "C:\\Users\\User\\anaconda3\\lib\\site-packages\\sklearn\\neighbors\\_classification.py:179: DataConversionWarning: A column-vector y was passed when a 1d array was expected. Please change the shape of y to (n_samples,), for example using ravel().\n",
      "  return self._fit(X, y)\n"
     ]
    },
    {
     "data": {
      "text/plain": [
       "KNeighborsClassifier(n_neighbors=15)"
      ]
     },
     "execution_count": 902,
     "metadata": {},
     "output_type": "execute_result"
    }
   ],
   "source": [
    "K_NN_classifier.fit(X_train, Y_train)  # Building the k-nearest neighbors classification model."
   ]
  },
  {
   "cell_type": "markdown",
   "id": "81f2ed0f",
   "metadata": {},
   "source": [
    "### predicting result"
   ]
  },
  {
   "cell_type": "code",
   "execution_count": 903,
   "id": "577dbca2",
   "metadata": {},
   "outputs": [
    {
     "name": "stdout",
     "output_type": "stream",
     "text": [
      "pred-real\n",
      "[[1 1]\n",
      " [1 0]\n",
      " [1 1]\n",
      " ...\n",
      " [1 1]\n",
      " [1 1]\n",
      " [1 1]]\n"
     ]
    }
   ],
   "source": [
    "K_NN_Y_pred = K_NN_classifier.predict(X_test)  # Predicted results.\n",
    "print(\"pred-real\")  # printing predicted and real values.\n",
    "print(np.concatenate((K_NN_Y_pred.reshape(len(K_NN_Y_pred),1), Y_test.reshape(len(Y_test),1)),1))  # Predicted results and real results in a np array."
   ]
  },
  {
   "cell_type": "markdown",
   "id": "3146e727",
   "metadata": {},
   "source": [
    "### Confusion matrix"
   ]
  },
  {
   "cell_type": "code",
   "execution_count": 904,
   "id": "54d120f4",
   "metadata": {},
   "outputs": [
    {
     "name": "stdout",
     "output_type": "stream",
     "text": [
      "correct_0-incorrct_1\n",
      "incorrect_0-correct_1\n",
      "[[   0 1219]\n",
      " [   0 5993]]\n"
     ]
    }
   ],
   "source": [
    "K_NN_cm = confusion_matrix(Y_test, K_NN_Y_pred)  # creating the confusion matrix\n",
    "print(\"correct_0-incorrct_1\\nincorrect_0-correct_1\")  # printing correct and inccrocet results.\n",
    "print(K_NN_cm)  # prininting the confusion matrix."
   ]
  },
  {
   "cell_type": "code",
   "execution_count": 905,
   "id": "e0f2944f",
   "metadata": {},
   "outputs": [
    {
     "data": {
      "image/png": "[encoded data removed]",
      "text/plain": [
       "<Figure size 576x396 with 2 Axes>"
      ]
     },
     "metadata": {},
     "output_type": "display_data"
    }
   ],
   "source": [
    "disp = ConfusionMatrixDisplay(confusion_matrix=K_NN_cm)  # creaing the confusion matrix plot.                           \n",
    "disp.plot()  # displaying data in plot\n",
    "plt.title(\"k-nearest neighbors\")  # adding a title to plot\n",
    "plt.show()  # showing the plot"
   ]
  },
  {
   "cell_type": "markdown",
   "id": "c0e66369",
   "metadata": {},
   "source": [
    "### Getting accurcy of the model"
   ]
  },
  {
   "cell_type": "code",
   "execution_count": 906,
   "id": "d6341f8d",
   "metadata": {},
   "outputs": [
    {
     "data": {
      "text/plain": [
       "83.1"
      ]
     },
     "execution_count": 906,
     "metadata": {},
     "output_type": "execute_result"
    }
   ],
   "source": [
    "K_NN_accuracy = round(accuracy_score(Y_test, K_NN_Y_pred)*100, 2) # saving the accurcy.\n",
    "round(accuracy_score(Y_test, K_NN_Y_pred)*100, 2)  # showing the model accurecy rounded to 2 decimal places."
   ]
  },
  {
   "cell_type": "markdown",
   "id": "1125a826",
   "metadata": {},
   "source": [
    "## k-Fold Cross Validation"
   ]
  },
  {
   "cell_type": "code",
   "execution_count": 1218,
   "id": "216bb8d7",
   "metadata": {},
   "outputs": [
    {
     "name": "stderr",
     "output_type": "stream",
     "text": [
      "C:\\Users\\User\\anaconda3\\lib\\site-packages\\sklearn\\neighbors\\_classification.py:179: DataConversionWarning: A column-vector y was passed when a 1d array was expected. Please change the shape of y to (n_samples,), for example using ravel().\n",
      "  return self._fit(X, y)\n",
      "C:\\Users\\User\\anaconda3\\lib\\site-packages\\sklearn\\neighbors\\_classification.py:179: DataConversionWarning: A column-vector y was passed when a 1d array was expected. Please change the shape of y to (n_samples,), for example using ravel().\n",
      "  return self._fit(X, y)\n",
      "C:\\Users\\User\\anaconda3\\lib\\site-packages\\sklearn\\neighbors\\_classification.py:179: DataConversionWarning: A column-vector y was passed when a 1d array was expected. Please change the shape of y to (n_samples,), for example using ravel().\n",
      "  return self._fit(X, y)\n",
      "C:\\Users\\User\\anaconda3\\lib\\site-packages\\sklearn\\neighbors\\_classification.py:179: DataConversionWarning: A column-vector y was passed when a 1d array was expected. Please change the shape of y to (n_samples,), for example using ravel().\n",
      "  return self._fit(X, y)\n",
      "C:\\Users\\User\\anaconda3\\lib\\site-packages\\sklearn\\neighbors\\_classification.py:179: DataConversionWarning: A column-vector y was passed when a 1d array was expected. Please change the shape of y to (n_samples,), for example using ravel().\n",
      "  return self._fit(X, y)\n",
      "C:\\Users\\User\\anaconda3\\lib\\site-packages\\sklearn\\neighbors\\_classification.py:179: DataConversionWarning: A column-vector y was passed when a 1d array was expected. Please change the shape of y to (n_samples,), for example using ravel().\n",
      "  return self._fit(X, y)\n",
      "C:\\Users\\User\\anaconda3\\lib\\site-packages\\sklearn\\neighbors\\_classification.py:179: DataConversionWarning: A column-vector y was passed when a 1d array was expected. Please change the shape of y to (n_samples,), for example using ravel().\n",
      "  return self._fit(X, y)\n",
      "C:\\Users\\User\\anaconda3\\lib\\site-packages\\sklearn\\neighbors\\_classification.py:179: DataConversionWarning: A column-vector y was passed when a 1d array was expected. Please change the shape of y to (n_samples,), for example using ravel().\n",
      "  return self._fit(X, y)\n",
      "C:\\Users\\User\\anaconda3\\lib\\site-packages\\sklearn\\neighbors\\_classification.py:179: DataConversionWarning: A column-vector y was passed when a 1d array was expected. Please change the shape of y to (n_samples,), for example using ravel().\n",
      "  return self._fit(X, y)\n",
      "C:\\Users\\User\\anaconda3\\lib\\site-packages\\sklearn\\neighbors\\_classification.py:179: DataConversionWarning: A column-vector y was passed when a 1d array was expected. Please change the shape of y to (n_samples,), for example using ravel().\n",
      "  return self._fit(X, y)\n"
     ]
    },
    {
     "name": "stdout",
     "output_type": "stream",
     "text": [
      "Accuracy: 82.85 %\n",
      "Standard Deviation: 2.39 %\n"
     ]
    }
   ],
   "source": [
    "accuracies = cross_val_score(estimator = K_NN_classifier, X = X_train, y = Y_train, cv = 10)  # performs 10 different tests to get average accurecy.\n",
    "print(\"Accuracy: {:.2f} %\".format(accuracies.mean()*100))  # accuracy printed\n",
    "print(\"Standard Deviation: {:.2f} %\".format(accuracies.std()*100))  # standard deveation printed (std -avarage or std+ avarage )"
   ]
  },
  {
   "cell_type": "markdown",
   "id": "43e3f7a3",
   "metadata": {},
   "source": [
    "## For X2_train and Y2_Train  "
   ]
  },
  {
   "cell_type": "code",
   "execution_count": 1220,
   "id": "03590588",
   "metadata": {},
   "outputs": [
    {
     "name": "stderr",
     "output_type": "stream",
     "text": [
      "C:\\Users\\User\\anaconda3\\lib\\site-packages\\sklearn\\neighbors\\_classification.py:179: DataConversionWarning: A column-vector y was passed when a 1d array was expected. Please change the shape of y to (n_samples,), for example using ravel().\n",
      "  return self._fit(X, y)\n"
     ]
    },
    {
     "data": {
      "text/plain": [
       "KNeighborsClassifier(n_neighbors=15)"
      ]
     },
     "execution_count": 1220,
     "metadata": {},
     "output_type": "execute_result"
    }
   ],
   "source": [
    "K_NN_classifier.fit(X2_train, Y2_train)  # Building the k-nearest neighbors classification model."
   ]
  },
  {
   "cell_type": "markdown",
   "id": "285b7ef6",
   "metadata": {},
   "source": [
    "### predicting result"
   ]
  },
  {
   "cell_type": "code",
   "execution_count": 1221,
   "id": "93786a30",
   "metadata": {},
   "outputs": [
    {
     "name": "stdout",
     "output_type": "stream",
     "text": [
      "pred-real\n",
      "[[1 1]\n",
      " [1 1]\n",
      " [1 1]\n",
      " ...\n",
      " [0 1]\n",
      " [0 0]\n",
      " [0 0]]\n"
     ]
    }
   ],
   "source": [
    "K_NN_Y2_pred = K_NN_classifier.predict(X2_test)  # Predicted results.\n",
    "print(\"pred-real\")  # printing predicted and real values.\n",
    "print(np.concatenate((K_NN_Y2_pred.reshape(len(K_NN_Y2_pred),1), Y2_test.reshape(len(Y2_test),1)),1))  # Predicted results and real results in a np array."
   ]
  },
  {
   "cell_type": "markdown",
   "id": "d20799aa",
   "metadata": {},
   "source": [
    "### Confusion matrix"
   ]
  },
  {
   "cell_type": "code",
   "execution_count": 1222,
   "id": "0d71485c",
   "metadata": {},
   "outputs": [
    {
     "name": "stdout",
     "output_type": "stream",
     "text": [
      "correct_0-incorrct_1\n",
      "incorrect_0-correct_1\n",
      "[[2941  652]\n",
      " [1055 2564]]\n"
     ]
    }
   ],
   "source": [
    "K_NN_cm2 = confusion_matrix(Y2_test, K_NN_Y2_pred)  # creating the confusion matrix\n",
    "print(\"correct_0-incorrct_1\\nincorrect_0-correct_1\")  # printing correct and inccrocet results.\n",
    "print(K_NN_cm2)  # prininting the confusion matrix."
   ]
  },
  {
   "cell_type": "code",
   "execution_count": 1223,
   "id": "d24710b4",
   "metadata": {},
   "outputs": [
    {
     "data": {
      "image/png": "[encoded data removed]",
      "text/plain": [
       "<Figure size 576x396 with 2 Axes>"
      ]
     },
     "metadata": {},
     "output_type": "display_data"
    }
   ],
   "source": [
    "disp = ConfusionMatrixDisplay(confusion_matrix=K_NN_cm2)  # creaing the confusion matrix plot.                           \n",
    "disp.plot()  # displaying data in plot\n",
    "plt.title(\"k-nearest neighbors\")  # adding a title to plot\n",
    "plt.show()  # showing the plot"
   ]
  },
  {
   "cell_type": "markdown",
   "id": "555123bb",
   "metadata": {},
   "source": [
    "### Getting accurcy of the model"
   ]
  },
  {
   "cell_type": "code",
   "execution_count": 1224,
   "id": "ce2169c7",
   "metadata": {},
   "outputs": [
    {
     "data": {
      "text/plain": [
       "76.33"
      ]
     },
     "execution_count": 1224,
     "metadata": {},
     "output_type": "execute_result"
    }
   ],
   "source": [
    "K_NN_accuracy2 = round(accuracy_score(Y2_test, K_NN_Y2_pred)*100, 2) # saving the accurcy.\n",
    "round(accuracy_score(Y2_test, K_NN_Y2_pred)*100, 2)  # showing the model accurecy rounded to 2 decimal places."
   ]
  },
  {
   "cell_type": "markdown",
   "id": "54c00a28",
   "metadata": {},
   "source": [
    "## k-Fold Cross Validation"
   ]
  },
  {
   "cell_type": "code",
   "execution_count": 1219,
   "id": "e5091018",
   "metadata": {},
   "outputs": [
    {
     "name": "stderr",
     "output_type": "stream",
     "text": [
      "C:\\Users\\User\\anaconda3\\lib\\site-packages\\sklearn\\neighbors\\_classification.py:179: DataConversionWarning: A column-vector y was passed when a 1d array was expected. Please change the shape of y to (n_samples,), for example using ravel().\n",
      "  return self._fit(X, y)\n",
      "C:\\Users\\User\\anaconda3\\lib\\site-packages\\sklearn\\neighbors\\_classification.py:179: DataConversionWarning: A column-vector y was passed when a 1d array was expected. Please change the shape of y to (n_samples,), for example using ravel().\n",
      "  return self._fit(X, y)\n",
      "C:\\Users\\User\\anaconda3\\lib\\site-packages\\sklearn\\neighbors\\_classification.py:179: DataConversionWarning: A column-vector y was passed when a 1d array was expected. Please change the shape of y to (n_samples,), for example using ravel().\n",
      "  return self._fit(X, y)\n",
      "C:\\Users\\User\\anaconda3\\lib\\site-packages\\sklearn\\neighbors\\_classification.py:179: DataConversionWarning: A column-vector y was passed when a 1d array was expected. Please change the shape of y to (n_samples,), for example using ravel().\n",
      "  return self._fit(X, y)\n",
      "C:\\Users\\User\\anaconda3\\lib\\site-packages\\sklearn\\neighbors\\_classification.py:179: DataConversionWarning: A column-vector y was passed when a 1d array was expected. Please change the shape of y to (n_samples,), for example using ravel().\n",
      "  return self._fit(X, y)\n",
      "C:\\Users\\User\\anaconda3\\lib\\site-packages\\sklearn\\neighbors\\_classification.py:179: DataConversionWarning: A column-vector y was passed when a 1d array was expected. Please change the shape of y to (n_samples,), for example using ravel().\n",
      "  return self._fit(X, y)\n",
      "C:\\Users\\User\\anaconda3\\lib\\site-packages\\sklearn\\neighbors\\_classification.py:179: DataConversionWarning: A column-vector y was passed when a 1d array was expected. Please change the shape of y to (n_samples,), for example using ravel().\n",
      "  return self._fit(X, y)\n",
      "C:\\Users\\User\\anaconda3\\lib\\site-packages\\sklearn\\neighbors\\_classification.py:179: DataConversionWarning: A column-vector y was passed when a 1d array was expected. Please change the shape of y to (n_samples,), for example using ravel().\n",
      "  return self._fit(X, y)\n",
      "C:\\Users\\User\\anaconda3\\lib\\site-packages\\sklearn\\neighbors\\_classification.py:179: DataConversionWarning: A column-vector y was passed when a 1d array was expected. Please change the shape of y to (n_samples,), for example using ravel().\n",
      "  return self._fit(X, y)\n",
      "C:\\Users\\User\\anaconda3\\lib\\site-packages\\sklearn\\neighbors\\_classification.py:179: DataConversionWarning: A column-vector y was passed when a 1d array was expected. Please change the shape of y to (n_samples,), for example using ravel().\n",
      "  return self._fit(X, y)\n"
     ]
    },
    {
     "name": "stdout",
     "output_type": "stream",
     "text": [
      "Accuracy: 76.05 %\n",
      "Standard Deviation: 0.25 %\n"
     ]
    }
   ],
   "source": [
    "accuracies = cross_val_score(estimator = K_NN_classifier, X = X2_train, y = Y2_train, cv = 10)  # performs 10 different tests to get average accurecy.\n",
    "print(\"Accuracy: {:.2f} %\".format(accuracies.mean()*100))  # accuracy printed\n",
    "print(\"Standard Deviation: {:.2f} %\".format(accuracies.std()*100))  # standard deveation printed (std -avarage or std+ avarage )"
   ]
  },
  {
   "cell_type": "markdown",
   "id": "052de168",
   "metadata": {},
   "source": [
    "# Training the svm  on the traning sets"
   ]
  },
  {
   "cell_type": "markdown",
   "id": "6eae679c",
   "metadata": {},
   "source": [
    "## For X_train and Y_Train  "
   ]
  },
  {
   "cell_type": "code",
   "execution_count": 1225,
   "id": "bb47796a",
   "metadata": {},
   "outputs": [],
   "source": [
    "# set kernel to 'liner' or rbf as per requirement.\n",
    "svm_classifier = SVC(kernel = 'rbf', random_state = 0)  # creating an instance of the object."
   ]
  },
  {
   "cell_type": "code",
   "execution_count": 1226,
   "id": "3514965e",
   "metadata": {},
   "outputs": [
    {
     "name": "stderr",
     "output_type": "stream",
     "text": [
      "C:\\Users\\User\\anaconda3\\lib\\site-packages\\sklearn\\utils\\validation.py:63: DataConversionWarning: A column-vector y was passed when a 1d array was expected. Please change the shape of y to (n_samples, ), for example using ravel().\n",
      "  return f(*args, **kwargs)\n"
     ]
    },
    {
     "data": {
      "text/plain": [
       "SVC(random_state=0)"
      ]
     },
     "execution_count": 1226,
     "metadata": {},
     "output_type": "execute_result"
    }
   ],
   "source": [
    "svm_classifier.fit(X_train, Y_train)  # Building svm model."
   ]
  },
  {
   "cell_type": "markdown",
   "id": "2566a3ce",
   "metadata": {},
   "source": [
    "### predicting result"
   ]
  },
  {
   "cell_type": "code",
   "execution_count": 1227,
   "id": "b90227b6",
   "metadata": {},
   "outputs": [
    {
     "name": "stdout",
     "output_type": "stream",
     "text": [
      "pred-real\n",
      "[[1 1]\n",
      " [1 0]\n",
      " [1 1]\n",
      " ...\n",
      " [1 1]\n",
      " [1 1]\n",
      " [1 1]]\n"
     ]
    }
   ],
   "source": [
    "svm_Y_pred = svm_classifier.predict(X_test)  # Predicted results.\n",
    "print(\"pred-real\")  # printing predicted and real values.\n",
    "print(np.concatenate((svm_Y_pred.reshape(len(svm_Y_pred),1), Y_test.reshape(len(Y_test),1)),1))  # Predicted results and real results in a np array."
   ]
  },
  {
   "cell_type": "markdown",
   "id": "f022b5f1",
   "metadata": {},
   "source": [
    "### Confusion matrix"
   ]
  },
  {
   "cell_type": "code",
   "execution_count": 915,
   "id": "8c6d6cf4",
   "metadata": {},
   "outputs": [
    {
     "name": "stdout",
     "output_type": "stream",
     "text": [
      "correct_0-incorrct_1\n",
      "incorrect_0-correct_1\n",
      "[[   0 1219]\n",
      " [   0 5993]]\n"
     ]
    }
   ],
   "source": [
    "svm_cm = confusion_matrix(Y_test, svm_Y_pred)  # creating the confusion matrix\n",
    "print(\"correct_0-incorrct_1\\nincorrect_0-correct_1\")  # printing correct and inccrocet results.\n",
    "print(svm_cm)  # prininting the confusion matrix."
   ]
  },
  {
   "cell_type": "code",
   "execution_count": 916,
   "id": "2d0dbe1e",
   "metadata": {},
   "outputs": [
    {
     "data": {
      "image/png": "[encoded data removed]",
      "text/plain": [
       "<Figure size 576x396 with 2 Axes>"
      ]
     },
     "metadata": {},
     "output_type": "display_data"
    }
   ],
   "source": [
    "disp = ConfusionMatrixDisplay(confusion_matrix=svm_cm)  # creaing the confusion matrix plot.                           \n",
    "disp.plot()  # displaying data in plot\n",
    "plt.title(\"Support vector machines\")  # adding a title to plot\n",
    "plt.show()  # showing the plot"
   ]
  },
  {
   "cell_type": "markdown",
   "id": "a2307b23",
   "metadata": {},
   "source": [
    "### Getting accurcy of the model"
   ]
  },
  {
   "cell_type": "code",
   "execution_count": 917,
   "id": "b2feec1e",
   "metadata": {},
   "outputs": [
    {
     "data": {
      "text/plain": [
       "83.1"
      ]
     },
     "execution_count": 917,
     "metadata": {},
     "output_type": "execute_result"
    }
   ],
   "source": [
    "svm_accuracy = round(accuracy_score(Y_test, svm_Y_pred)*100, 2)  # getting model accurcy.\n",
    "round(accuracy_score(Y_test, svm_Y_pred)*100, 2)  # showing the model accurecy rounded to 2 decimal places."
   ]
  },
  {
   "cell_type": "markdown",
   "id": "9a279862",
   "metadata": {},
   "source": [
    "## k-Fold Cross Validation"
   ]
  },
  {
   "cell_type": "code",
   "execution_count": 1228,
   "id": "025a3d3b",
   "metadata": {},
   "outputs": [
    {
     "name": "stderr",
     "output_type": "stream",
     "text": [
      "C:\\Users\\User\\anaconda3\\lib\\site-packages\\sklearn\\utils\\validation.py:63: DataConversionWarning: A column-vector y was passed when a 1d array was expected. Please change the shape of y to (n_samples, ), for example using ravel().\n",
      "  return f(*args, **kwargs)\n",
      "C:\\Users\\User\\anaconda3\\lib\\site-packages\\sklearn\\utils\\validation.py:63: DataConversionWarning: A column-vector y was passed when a 1d array was expected. Please change the shape of y to (n_samples, ), for example using ravel().\n",
      "  return f(*args, **kwargs)\n",
      "C:\\Users\\User\\anaconda3\\lib\\site-packages\\sklearn\\utils\\validation.py:63: DataConversionWarning: A column-vector y was passed when a 1d array was expected. Please change the shape of y to (n_samples, ), for example using ravel().\n",
      "  return f(*args, **kwargs)\n",
      "C:\\Users\\User\\anaconda3\\lib\\site-packages\\sklearn\\utils\\validation.py:63: DataConversionWarning: A column-vector y was passed when a 1d array was expected. Please change the shape of y to (n_samples, ), for example using ravel().\n",
      "  return f(*args, **kwargs)\n",
      "C:\\Users\\User\\anaconda3\\lib\\site-packages\\sklearn\\utils\\validation.py:63: DataConversionWarning: A column-vector y was passed when a 1d array was expected. Please change the shape of y to (n_samples, ), for example using ravel().\n",
      "  return f(*args, **kwargs)\n",
      "C:\\Users\\User\\anaconda3\\lib\\site-packages\\sklearn\\utils\\validation.py:63: DataConversionWarning: A column-vector y was passed when a 1d array was expected. Please change the shape of y to (n_samples, ), for example using ravel().\n",
      "  return f(*args, **kwargs)\n",
      "C:\\Users\\User\\anaconda3\\lib\\site-packages\\sklearn\\utils\\validation.py:63: DataConversionWarning: A column-vector y was passed when a 1d array was expected. Please change the shape of y to (n_samples, ), for example using ravel().\n",
      "  return f(*args, **kwargs)\n",
      "C:\\Users\\User\\anaconda3\\lib\\site-packages\\sklearn\\utils\\validation.py:63: DataConversionWarning: A column-vector y was passed when a 1d array was expected. Please change the shape of y to (n_samples, ), for example using ravel().\n",
      "  return f(*args, **kwargs)\n",
      "C:\\Users\\User\\anaconda3\\lib\\site-packages\\sklearn\\utils\\validation.py:63: DataConversionWarning: A column-vector y was passed when a 1d array was expected. Please change the shape of y to (n_samples, ), for example using ravel().\n",
      "  return f(*args, **kwargs)\n",
      "C:\\Users\\User\\anaconda3\\lib\\site-packages\\sklearn\\utils\\validation.py:63: DataConversionWarning: A column-vector y was passed when a 1d array was expected. Please change the shape of y to (n_samples, ), for example using ravel().\n",
      "  return f(*args, **kwargs)\n"
     ]
    },
    {
     "name": "stdout",
     "output_type": "stream",
     "text": [
      "Accuracy: 83.65 %\n",
      "Standard Deviation: 0.01 %\n"
     ]
    }
   ],
   "source": [
    "accuracies = cross_val_score(estimator = svm_classifier, X = X_train, y = Y_train, cv = 10) # performs 10 different tests to get average accurecy.\n",
    "print(\"Accuracy: {:.2f} %\".format(accuracies.mean()*100))  # accuracy printed\n",
    "print(\"Standard Deviation: {:.2f} %\".format(accuracies.std()*100))  # standard deveation printed (std -avarage or std+ avarage )"
   ]
  },
  {
   "cell_type": "markdown",
   "id": "8727e9de",
   "metadata": {},
   "source": [
    "## For X2_train and Y2_Train  "
   ]
  },
  {
   "cell_type": "code",
   "execution_count": 1115,
   "id": "f57eb09d",
   "metadata": {},
   "outputs": [
    {
     "name": "stderr",
     "output_type": "stream",
     "text": [
      "C:\\Users\\User\\anaconda3\\lib\\site-packages\\sklearn\\utils\\validation.py:63: DataConversionWarning: A column-vector y was passed when a 1d array was expected. Please change the shape of y to (n_samples, ), for example using ravel().\n",
      "  return f(*args, **kwargs)\n"
     ]
    },
    {
     "data": {
      "text/plain": [
       "SVC(random_state=0)"
      ]
     },
     "execution_count": 1115,
     "metadata": {},
     "output_type": "execute_result"
    }
   ],
   "source": [
    "svm_classifier.fit(X2_train, Y2_train)  # Building svm model."
   ]
  },
  {
   "cell_type": "markdown",
   "id": "5a7a7339",
   "metadata": {},
   "source": [
    "### predicting result"
   ]
  },
  {
   "cell_type": "code",
   "execution_count": 1116,
   "id": "fcd6db08",
   "metadata": {},
   "outputs": [
    {
     "name": "stdout",
     "output_type": "stream",
     "text": [
      "pred-real\n",
      "[[0 1]\n",
      " [0 1]\n",
      " [0 1]\n",
      " ...\n",
      " [0 1]\n",
      " [0 0]\n",
      " [0 0]]\n"
     ]
    }
   ],
   "source": [
    "svm_Y2_pred = svm_classifier.predict(X2_test)  # Predicted results.\n",
    "print(\"pred-real\")  # printing predicted and real values.\n",
    "print(np.concatenate((svm_Y2_pred.reshape(len(svm_Y2_pred),1), Y2_test.reshape(len(Y2_test),1)),1))  # Predicted results and real results in a np array."
   ]
  },
  {
   "cell_type": "markdown",
   "id": "80cbdc79",
   "metadata": {},
   "source": [
    "### Confusion matrix"
   ]
  },
  {
   "cell_type": "code",
   "execution_count": 1117,
   "id": "b9c748f3",
   "metadata": {},
   "outputs": [
    {
     "name": "stdout",
     "output_type": "stream",
     "text": [
      "correct_0-incorrct_1\n",
      "incorrect_0-correct_1\n",
      "[[2600  993]\n",
      " [2826  793]]\n"
     ]
    }
   ],
   "source": [
    "svm_cm2 = confusion_matrix(Y2_test, svm_Y2_pred)  # creating the confusion matrix\n",
    "print(\"correct_0-incorrct_1\\nincorrect_0-correct_1\")  # printing correct and inccrocet results.\n",
    "print(svm_cm2)  # prininting the confusion matrix."
   ]
  },
  {
   "cell_type": "code",
   "execution_count": 1118,
   "id": "9f66ad65",
   "metadata": {},
   "outputs": [
    {
     "data": {
      "image/png": "[encoded data removed]",
      "text/plain": [
       "<Figure size 576x396 with 2 Axes>"
      ]
     },
     "metadata": {},
     "output_type": "display_data"
    }
   ],
   "source": [
    "disp = ConfusionMatrixDisplay(confusion_matrix=svm_cm2)  # creaing the confusion matrix plot.                           \n",
    "disp.plot()  # displaying data in plot\n",
    "plt.title(\"Support vector machines\")  # adding a title to plot\n",
    "plt.show()  # showing the plot"
   ]
  },
  {
   "cell_type": "markdown",
   "id": "408d219c",
   "metadata": {},
   "source": [
    "### Getting accurcy of the model"
   ]
  },
  {
   "cell_type": "code",
   "execution_count": 1119,
   "id": "786fa1da",
   "metadata": {},
   "outputs": [
    {
     "data": {
      "text/plain": [
       "47.05"
      ]
     },
     "execution_count": 1119,
     "metadata": {},
     "output_type": "execute_result"
    }
   ],
   "source": [
    "svm_accuracy2 = round(accuracy_score(Y2_test, svm_Y2_pred)*100, 2)  # getting model accurcy.\n",
    "round(accuracy_score(Y2_test, svm_Y2_pred)*100, 2)  # showing the model accurecy rounded to 2 decimal places."
   ]
  },
  {
   "cell_type": "markdown",
   "id": "5f91c055",
   "metadata": {},
   "source": [
    "## k-Fold Cross Validation"
   ]
  },
  {
   "cell_type": "code",
   "execution_count": 1229,
   "id": "10983579",
   "metadata": {},
   "outputs": [
    {
     "name": "stderr",
     "output_type": "stream",
     "text": [
      "C:\\Users\\User\\anaconda3\\lib\\site-packages\\sklearn\\utils\\validation.py:63: DataConversionWarning: A column-vector y was passed when a 1d array was expected. Please change the shape of y to (n_samples, ), for example using ravel().\n",
      "  return f(*args, **kwargs)\n",
      "C:\\Users\\User\\anaconda3\\lib\\site-packages\\sklearn\\utils\\validation.py:63: DataConversionWarning: A column-vector y was passed when a 1d array was expected. Please change the shape of y to (n_samples, ), for example using ravel().\n",
      "  return f(*args, **kwargs)\n",
      "C:\\Users\\User\\anaconda3\\lib\\site-packages\\sklearn\\utils\\validation.py:63: DataConversionWarning: A column-vector y was passed when a 1d array was expected. Please change the shape of y to (n_samples, ), for example using ravel().\n",
      "  return f(*args, **kwargs)\n",
      "C:\\Users\\User\\anaconda3\\lib\\site-packages\\sklearn\\utils\\validation.py:63: DataConversionWarning: A column-vector y was passed when a 1d array was expected. Please change the shape of y to (n_samples, ), for example using ravel().\n",
      "  return f(*args, **kwargs)\n",
      "C:\\Users\\User\\anaconda3\\lib\\site-packages\\sklearn\\utils\\validation.py:63: DataConversionWarning: A column-vector y was passed when a 1d array was expected. Please change the shape of y to (n_samples, ), for example using ravel().\n",
      "  return f(*args, **kwargs)\n",
      "C:\\Users\\User\\anaconda3\\lib\\site-packages\\sklearn\\utils\\validation.py:63: DataConversionWarning: A column-vector y was passed when a 1d array was expected. Please change the shape of y to (n_samples, ), for example using ravel().\n",
      "  return f(*args, **kwargs)\n",
      "C:\\Users\\User\\anaconda3\\lib\\site-packages\\sklearn\\utils\\validation.py:63: DataConversionWarning: A column-vector y was passed when a 1d array was expected. Please change the shape of y to (n_samples, ), for example using ravel().\n",
      "  return f(*args, **kwargs)\n",
      "C:\\Users\\User\\anaconda3\\lib\\site-packages\\sklearn\\utils\\validation.py:63: DataConversionWarning: A column-vector y was passed when a 1d array was expected. Please change the shape of y to (n_samples, ), for example using ravel().\n",
      "  return f(*args, **kwargs)\n",
      "C:\\Users\\User\\anaconda3\\lib\\site-packages\\sklearn\\utils\\validation.py:63: DataConversionWarning: A column-vector y was passed when a 1d array was expected. Please change the shape of y to (n_samples, ), for example using ravel().\n",
      "  return f(*args, **kwargs)\n",
      "C:\\Users\\User\\anaconda3\\lib\\site-packages\\sklearn\\utils\\validation.py:63: DataConversionWarning: A column-vector y was passed when a 1d array was expected. Please change the shape of y to (n_samples, ), for example using ravel().\n",
      "  return f(*args, **kwargs)\n"
     ]
    },
    {
     "name": "stdout",
     "output_type": "stream",
     "text": [
      "Accuracy: 66.86 %\n",
      "Standard Deviation: 0.92 %\n"
     ]
    }
   ],
   "source": [
    "accuracies = cross_val_score(estimator = svm_classifier, X = X2_train, y = Y2_train, cv = 10)   # performs 10 different tests to get average accurecy.\n",
    "print(\"Accuracy: {:.2f} %\".format(accuracies.mean()*100))  # accuracy printed\n",
    "print(\"Standard Deviation: {:.2f} %\".format(accuracies.std()*100))  # standard deveation printed (std -avarage or std+ avarage )"
   ]
  },
  {
   "cell_type": "markdown",
   "id": "71db9330",
   "metadata": {},
   "source": [
    "# Training the naive_bayes  on the traning sets"
   ]
  },
  {
   "cell_type": "markdown",
   "id": "134056c5",
   "metadata": {},
   "source": [
    "## For X_train and Y_Train  "
   ]
  },
  {
   "cell_type": "code",
   "execution_count": 923,
   "id": "d77510b8",
   "metadata": {},
   "outputs": [],
   "source": [
    "naive_bayes_classifier = GaussianNB()  # creating an instance of the object."
   ]
  },
  {
   "cell_type": "code",
   "execution_count": 924,
   "id": "609411da",
   "metadata": {},
   "outputs": [
    {
     "name": "stderr",
     "output_type": "stream",
     "text": [
      "C:\\Users\\User\\anaconda3\\lib\\site-packages\\sklearn\\utils\\validation.py:63: DataConversionWarning: A column-vector y was passed when a 1d array was expected. Please change the shape of y to (n_samples, ), for example using ravel().\n",
      "  return f(*args, **kwargs)\n"
     ]
    },
    {
     "data": {
      "text/plain": [
       "GaussianNB()"
      ]
     },
     "execution_count": 924,
     "metadata": {},
     "output_type": "execute_result"
    }
   ],
   "source": [
    "naive_bayes_classifier.fit(X_train, Y_train)  # Building naive_bayes model."
   ]
  },
  {
   "cell_type": "markdown",
   "id": "f6a745f3",
   "metadata": {},
   "source": [
    "### predicting result"
   ]
  },
  {
   "cell_type": "code",
   "execution_count": 925,
   "id": "c3685d44",
   "metadata": {},
   "outputs": [
    {
     "name": "stdout",
     "output_type": "stream",
     "text": [
      "pred-real\n",
      "[[1 1]\n",
      " [1 0]\n",
      " [1 1]\n",
      " ...\n",
      " [1 1]\n",
      " [1 1]\n",
      " [1 1]]\n"
     ]
    }
   ],
   "source": [
    "naive_bayes_Y_pred = naive_bayes_classifier.predict(X_test)  # Predicted results.\n",
    "print(\"pred-real\")  # printing predicted and real values.\n",
    "print(np.concatenate((naive_bayes_Y_pred.reshape(len(naive_bayes_Y_pred),1), Y_test.reshape(len(Y_test),1)),1))  # Predicted results and real results in a np array."
   ]
  },
  {
   "cell_type": "markdown",
   "id": "35fe63d6",
   "metadata": {},
   "source": [
    "### Confusion matrix"
   ]
  },
  {
   "cell_type": "code",
   "execution_count": 926,
   "id": "e2982e3a",
   "metadata": {},
   "outputs": [
    {
     "name": "stdout",
     "output_type": "stream",
     "text": [
      "correct_0-incorrct_1\n",
      "incorrect_0-correct_1\n",
      "[[ 457  762]\n",
      " [ 810 5183]]\n"
     ]
    }
   ],
   "source": [
    "naive_bayes_cm = confusion_matrix(Y_test, naive_bayes_Y_pred)  # creating the confusion matrix\n",
    "print(\"correct_0-incorrct_1\\nincorrect_0-correct_1\")  # printing correct and inccrocet results.\n",
    "print(naive_bayes_cm)  # prininting the confusion matrix."
   ]
  },
  {
   "cell_type": "code",
   "execution_count": 927,
   "id": "c23e0cbb",
   "metadata": {},
   "outputs": [
    {
     "data": {
      "image/png": "[encoded data removed]",
      "text/plain": [
       "<Figure size 576x396 with 2 Axes>"
      ]
     },
     "metadata": {},
     "output_type": "display_data"
    }
   ],
   "source": [
    "disp = ConfusionMatrixDisplay(confusion_matrix=naive_bayes_cm)  # creaing the confusion matrix plot.                           \n",
    "disp.plot()  # displaying data in plot\n",
    "plt.title(\"naive bayes theorm\")  # adding a title to plot\n",
    "plt.show()  # showing the plot"
   ]
  },
  {
   "cell_type": "markdown",
   "id": "ab231101",
   "metadata": {},
   "source": [
    "### Getting accurcy of the model"
   ]
  },
  {
   "cell_type": "code",
   "execution_count": 928,
   "id": "a63d3abc",
   "metadata": {},
   "outputs": [
    {
     "data": {
      "text/plain": [
       "78.2"
      ]
     },
     "execution_count": 928,
     "metadata": {},
     "output_type": "execute_result"
    }
   ],
   "source": [
    "naive_bayes_accuracy = round(accuracy_score(Y_test, naive_bayes_Y_pred)*100, 2) # storing accurcy.\n",
    "round(accuracy_score(Y_test, naive_bayes_Y_pred)*100, 2)  # showing the model accurecy rounded to 2 decimal places."
   ]
  },
  {
   "cell_type": "markdown",
   "id": "348e11c3",
   "metadata": {},
   "source": [
    "## k-Fold Cross Validation"
   ]
  },
  {
   "cell_type": "code",
   "execution_count": 1234,
   "id": "d3e42a07",
   "metadata": {},
   "outputs": [
    {
     "name": "stderr",
     "output_type": "stream",
     "text": [
      "C:\\Users\\User\\anaconda3\\lib\\site-packages\\sklearn\\utils\\validation.py:63: DataConversionWarning: A column-vector y was passed when a 1d array was expected. Please change the shape of y to (n_samples, ), for example using ravel().\n",
      "  return f(*args, **kwargs)\n",
      "C:\\Users\\User\\anaconda3\\lib\\site-packages\\sklearn\\utils\\validation.py:63: DataConversionWarning: A column-vector y was passed when a 1d array was expected. Please change the shape of y to (n_samples, ), for example using ravel().\n",
      "  return f(*args, **kwargs)\n",
      "C:\\Users\\User\\anaconda3\\lib\\site-packages\\sklearn\\utils\\validation.py:63: DataConversionWarning: A column-vector y was passed when a 1d array was expected. Please change the shape of y to (n_samples, ), for example using ravel().\n",
      "  return f(*args, **kwargs)\n",
      "C:\\Users\\User\\anaconda3\\lib\\site-packages\\sklearn\\utils\\validation.py:63: DataConversionWarning: A column-vector y was passed when a 1d array was expected. Please change the shape of y to (n_samples, ), for example using ravel().\n",
      "  return f(*args, **kwargs)\n",
      "C:\\Users\\User\\anaconda3\\lib\\site-packages\\sklearn\\utils\\validation.py:63: DataConversionWarning: A column-vector y was passed when a 1d array was expected. Please change the shape of y to (n_samples, ), for example using ravel().\n",
      "  return f(*args, **kwargs)\n",
      "C:\\Users\\User\\anaconda3\\lib\\site-packages\\sklearn\\utils\\validation.py:63: DataConversionWarning: A column-vector y was passed when a 1d array was expected. Please change the shape of y to (n_samples, ), for example using ravel().\n",
      "  return f(*args, **kwargs)\n",
      "C:\\Users\\User\\anaconda3\\lib\\site-packages\\sklearn\\utils\\validation.py:63: DataConversionWarning: A column-vector y was passed when a 1d array was expected. Please change the shape of y to (n_samples, ), for example using ravel().\n",
      "  return f(*args, **kwargs)\n",
      "C:\\Users\\User\\anaconda3\\lib\\site-packages\\sklearn\\utils\\validation.py:63: DataConversionWarning: A column-vector y was passed when a 1d array was expected. Please change the shape of y to (n_samples, ), for example using ravel().\n",
      "  return f(*args, **kwargs)\n"
     ]
    },
    {
     "name": "stdout",
     "output_type": "stream",
     "text": [
      "Accuracy: 77.95 %\n",
      "Standard Deviation: 0.50 %\n"
     ]
    },
    {
     "name": "stderr",
     "output_type": "stream",
     "text": [
      "C:\\Users\\User\\anaconda3\\lib\\site-packages\\sklearn\\utils\\validation.py:63: DataConversionWarning: A column-vector y was passed when a 1d array was expected. Please change the shape of y to (n_samples, ), for example using ravel().\n",
      "  return f(*args, **kwargs)\n",
      "C:\\Users\\User\\anaconda3\\lib\\site-packages\\sklearn\\utils\\validation.py:63: DataConversionWarning: A column-vector y was passed when a 1d array was expected. Please change the shape of y to (n_samples, ), for example using ravel().\n",
      "  return f(*args, **kwargs)\n"
     ]
    }
   ],
   "source": [
    "accuracies = cross_val_score(estimator = naive_bayes_classifier, X = X_train, y = Y_train, cv = 10)   # performs 10 different tests to get average accurecy.\n",
    "print(\"Accuracy: {:.2f} %\".format(accuracies.mean()*100))  # accuracy printed\n",
    "print(\"Standard Deviation: {:.2f} %\".format(accuracies.std()*100))  # standard deveation printed (std -avarage or std+ avarage )"
   ]
  },
  {
   "cell_type": "markdown",
   "id": "d5fcf448",
   "metadata": {},
   "source": [
    "## For X2_train and Y2_Train  "
   ]
  },
  {
   "cell_type": "code",
   "execution_count": 1120,
   "id": "456bdc87",
   "metadata": {},
   "outputs": [
    {
     "name": "stderr",
     "output_type": "stream",
     "text": [
      "C:\\Users\\User\\anaconda3\\lib\\site-packages\\sklearn\\utils\\validation.py:63: DataConversionWarning: A column-vector y was passed when a 1d array was expected. Please change the shape of y to (n_samples, ), for example using ravel().\n",
      "  return f(*args, **kwargs)\n"
     ]
    },
    {
     "data": {
      "text/plain": [
       "GaussianNB()"
      ]
     },
     "execution_count": 1120,
     "metadata": {},
     "output_type": "execute_result"
    }
   ],
   "source": [
    "naive_bayes_classifier.fit(X2_train, Y2_train)  # Building naive_bayes model."
   ]
  },
  {
   "cell_type": "markdown",
   "id": "d92f122d",
   "metadata": {},
   "source": [
    "### predicting result"
   ]
  },
  {
   "cell_type": "code",
   "execution_count": 1121,
   "id": "7100fe46",
   "metadata": {},
   "outputs": [
    {
     "name": "stdout",
     "output_type": "stream",
     "text": [
      "pred-real\n",
      "[[1 1]\n",
      " [0 1]\n",
      " [0 1]\n",
      " ...\n",
      " [0 1]\n",
      " [0 0]\n",
      " [0 0]]\n"
     ]
    }
   ],
   "source": [
    "naive_bayes_Y2_pred = naive_bayes_classifier.predict(X2_test)  # Predicted results.\n",
    "print(\"pred-real\")  # printing predicted and real values.\n",
    "print(np.concatenate((naive_bayes_Y2_pred.reshape(len(naive_bayes_Y2_pred),1), Y2_test.reshape(len(Y2_test),1)),1))  # Predicted results and real results in a np array."
   ]
  },
  {
   "cell_type": "markdown",
   "id": "15a4ffb4",
   "metadata": {},
   "source": [
    "### Confusion matrix"
   ]
  },
  {
   "cell_type": "code",
   "execution_count": 1122,
   "id": "ad040fbf",
   "metadata": {},
   "outputs": [
    {
     "name": "stdout",
     "output_type": "stream",
     "text": [
      "correct_0-incorrct_1\n",
      "incorrect_0-correct_1\n",
      "[[2468 1125]\n",
      " [2496 1123]]\n"
     ]
    }
   ],
   "source": [
    "naive_bayes_cm2 = confusion_matrix(Y2_test, naive_bayes_Y2_pred)  # creating the confusion matrix\n",
    "print(\"correct_0-incorrct_1\\nincorrect_0-correct_1\")  # printing correct and inccrocet results.\n",
    "print(naive_bayes_cm2)  # prininting the confusion matrix."
   ]
  },
  {
   "cell_type": "code",
   "execution_count": 1123,
   "id": "365c6095",
   "metadata": {},
   "outputs": [
    {
     "data": {
      "image/png": "[encoded data removed]",
      "text/plain": [
       "<Figure size 576x396 with 2 Axes>"
      ]
     },
     "metadata": {},
     "output_type": "display_data"
    }
   ],
   "source": [
    "disp = ConfusionMatrixDisplay(confusion_matrix=naive_bayes_cm2)  # creaing the confusion matrix plot.                           \n",
    "disp.plot()  # displaying data in plot\n",
    "plt.title(\"naive bayes theorm\")  # adding a title to plot\n",
    "plt.show()  # showing the plot"
   ]
  },
  {
   "cell_type": "markdown",
   "id": "aaef6d4d",
   "metadata": {},
   "source": [
    "### Getting accurcy of the model"
   ]
  },
  {
   "cell_type": "code",
   "execution_count": 1124,
   "id": "c2ba17fc",
   "metadata": {},
   "outputs": [
    {
     "data": {
      "text/plain": [
       "49.79"
      ]
     },
     "execution_count": 1124,
     "metadata": {},
     "output_type": "execute_result"
    }
   ],
   "source": [
    "naive_bayes_accuracy2 = round(accuracy_score(Y2_test, naive_bayes_Y2_pred)*100, 2)  # getting model accuracy. \n",
    "round(accuracy_score(Y2_test, naive_bayes_Y2_pred)*100, 2)  # showing the model accurecy rounded to 2 decimal places."
   ]
  },
  {
   "cell_type": "markdown",
   "id": "eeb76ca6",
   "metadata": {},
   "source": [
    "## k-Fold Cross Validation"
   ]
  },
  {
   "cell_type": "code",
   "execution_count": 1235,
   "id": "bc254cf5",
   "metadata": {},
   "outputs": [
    {
     "name": "stderr",
     "output_type": "stream",
     "text": [
      "C:\\Users\\User\\anaconda3\\lib\\site-packages\\sklearn\\utils\\validation.py:63: DataConversionWarning: A column-vector y was passed when a 1d array was expected. Please change the shape of y to (n_samples, ), for example using ravel().\n",
      "  return f(*args, **kwargs)\n",
      "C:\\Users\\User\\anaconda3\\lib\\site-packages\\sklearn\\utils\\validation.py:63: DataConversionWarning: A column-vector y was passed when a 1d array was expected. Please change the shape of y to (n_samples, ), for example using ravel().\n",
      "  return f(*args, **kwargs)\n",
      "C:\\Users\\User\\anaconda3\\lib\\site-packages\\sklearn\\utils\\validation.py:63: DataConversionWarning: A column-vector y was passed when a 1d array was expected. Please change the shape of y to (n_samples, ), for example using ravel().\n",
      "  return f(*args, **kwargs)\n",
      "C:\\Users\\User\\anaconda3\\lib\\site-packages\\sklearn\\utils\\validation.py:63: DataConversionWarning: A column-vector y was passed when a 1d array was expected. Please change the shape of y to (n_samples, ), for example using ravel().\n",
      "  return f(*args, **kwargs)\n",
      "C:\\Users\\User\\anaconda3\\lib\\site-packages\\sklearn\\utils\\validation.py:63: DataConversionWarning: A column-vector y was passed when a 1d array was expected. Please change the shape of y to (n_samples, ), for example using ravel().\n",
      "  return f(*args, **kwargs)\n",
      "C:\\Users\\User\\anaconda3\\lib\\site-packages\\sklearn\\utils\\validation.py:63: DataConversionWarning: A column-vector y was passed when a 1d array was expected. Please change the shape of y to (n_samples, ), for example using ravel().\n",
      "  return f(*args, **kwargs)\n",
      "C:\\Users\\User\\anaconda3\\lib\\site-packages\\sklearn\\utils\\validation.py:63: DataConversionWarning: A column-vector y was passed when a 1d array was expected. Please change the shape of y to (n_samples, ), for example using ravel().\n",
      "  return f(*args, **kwargs)\n"
     ]
    },
    {
     "name": "stdout",
     "output_type": "stream",
     "text": [
      "Accuracy: 53.46 %\n",
      "Standard Deviation: 0.54 %\n"
     ]
    },
    {
     "name": "stderr",
     "output_type": "stream",
     "text": [
      "C:\\Users\\User\\anaconda3\\lib\\site-packages\\sklearn\\utils\\validation.py:63: DataConversionWarning: A column-vector y was passed when a 1d array was expected. Please change the shape of y to (n_samples, ), for example using ravel().\n",
      "  return f(*args, **kwargs)\n",
      "C:\\Users\\User\\anaconda3\\lib\\site-packages\\sklearn\\utils\\validation.py:63: DataConversionWarning: A column-vector y was passed when a 1d array was expected. Please change the shape of y to (n_samples, ), for example using ravel().\n",
      "  return f(*args, **kwargs)\n",
      "C:\\Users\\User\\anaconda3\\lib\\site-packages\\sklearn\\utils\\validation.py:63: DataConversionWarning: A column-vector y was passed when a 1d array was expected. Please change the shape of y to (n_samples, ), for example using ravel().\n",
      "  return f(*args, **kwargs)\n"
     ]
    }
   ],
   "source": [
    "accuracies = cross_val_score(estimator = naive_bayes_classifier, X = X2_train, y = Y2_train, cv = 10)   # performs 10 different tests to get average accurecy.\n",
    "print(\"Accuracy: {:.2f} %\".format(accuracies.mean()*100))  # accuracy printed\n",
    "print(\"Standard Deviation: {:.2f} %\".format(accuracies.std()*100))  # standard deveation printed (std -avarage or std+ avarage )"
   ]
  },
  {
   "cell_type": "markdown",
   "id": "d3d83dd4",
   "metadata": {},
   "source": [
    "# Training the DecisionTree model on the traning sets"
   ]
  },
  {
   "cell_type": "markdown",
   "id": "4a41d263",
   "metadata": {},
   "source": [
    "## For X_train and Y_Train  "
   ]
  },
  {
   "cell_type": "code",
   "execution_count": 934,
   "id": "d957494e",
   "metadata": {},
   "outputs": [],
   "source": [
    "DecisionTree_classifier = DecisionTreeClassifier(criterion = 'entropy', random_state=0)  # creating an instance of the object."
   ]
  },
  {
   "cell_type": "code",
   "execution_count": 935,
   "id": "b6954999",
   "metadata": {},
   "outputs": [
    {
     "data": {
      "text/plain": [
       "DecisionTreeClassifier(criterion='entropy', random_state=0)"
      ]
     },
     "execution_count": 935,
     "metadata": {},
     "output_type": "execute_result"
    }
   ],
   "source": [
    "DecisionTree_classifier.fit(X_train, Y_train)  # Building DecisionTree model."
   ]
  },
  {
   "cell_type": "markdown",
   "id": "f3366b42",
   "metadata": {},
   "source": [
    "### predicting result"
   ]
  },
  {
   "cell_type": "code",
   "execution_count": 936,
   "id": "423dfd7f",
   "metadata": {},
   "outputs": [
    {
     "name": "stdout",
     "output_type": "stream",
     "text": [
      "pred-real\n",
      "[[1 1]\n",
      " [1 0]\n",
      " [1 1]\n",
      " ...\n",
      " [1 1]\n",
      " [1 1]\n",
      " [1 1]]\n"
     ]
    }
   ],
   "source": [
    "DecisionTree_Y_pred = DecisionTree_classifier.predict(X_test)  # Predicted results.\n",
    "print(\"pred-real\")  # printing predicted and real values.\n",
    "print(np.concatenate((DecisionTree_Y_pred.reshape(len(DecisionTree_Y_pred),1), Y_test.reshape(len(Y_test),1)),1))  # Predicted results and real results in a np array."
   ]
  },
  {
   "cell_type": "markdown",
   "id": "e3726926",
   "metadata": {},
   "source": [
    "### Confusion matrix"
   ]
  },
  {
   "cell_type": "code",
   "execution_count": 937,
   "id": "f861f8f6",
   "metadata": {},
   "outputs": [
    {
     "name": "stdout",
     "output_type": "stream",
     "text": [
      "correct_0-incorrct_1\n",
      "incorrect_0-correct_1\n",
      "[[   0 1219]\n",
      " [   0 5993]]\n"
     ]
    }
   ],
   "source": [
    "DecisionTree_cm = confusion_matrix(Y_test, DecisionTree_Y_pred)  # creating the confusion matrix\n",
    "print(\"correct_0-incorrct_1\\nincorrect_0-correct_1\")  # printing correct and inccrocet results.\n",
    "print(DecisionTree_cm)  # prininting the confusion matrix."
   ]
  },
  {
   "cell_type": "code",
   "execution_count": 938,
   "id": "97ba95b0",
   "metadata": {},
   "outputs": [
    {
     "data": {
      "image/png": "[encoded data removed]",
      "text/plain": [
       "<Figure size 576x396 with 2 Axes>"
      ]
     },
     "metadata": {},
     "output_type": "display_data"
    }
   ],
   "source": [
    "disp = ConfusionMatrixDisplay(confusion_matrix=DecisionTree_cm)  # creaing the confusion matrix plot.                           \n",
    "disp.plot()  # displaying data in plot\n",
    "plt.title(\"DecisionTree\")  # adding a title to plot\n",
    "plt.show()  # showing the plot"
   ]
  },
  {
   "cell_type": "markdown",
   "id": "69cbc7e1",
   "metadata": {},
   "source": [
    "### Getting accurcy of the model"
   ]
  },
  {
   "cell_type": "code",
   "execution_count": 939,
   "id": "1a815d16",
   "metadata": {},
   "outputs": [
    {
     "data": {
      "text/plain": [
       "83.1"
      ]
     },
     "execution_count": 939,
     "metadata": {},
     "output_type": "execute_result"
    }
   ],
   "source": [
    "DecisionTree_accuracy = round(accuracy_score(Y_test, DecisionTree_Y_pred)*100, 2)  # storing accuracy.\n",
    "round(accuracy_score(Y_test, DecisionTree_Y_pred)*100, 2)  # showing the model accurecy rounded to 2 decimal places."
   ]
  },
  {
   "cell_type": "markdown",
   "id": "98875aa0",
   "metadata": {},
   "source": [
    "## k-Fold Cross Validation"
   ]
  },
  {
   "cell_type": "code",
   "execution_count": 1237,
   "id": "18c22385",
   "metadata": {},
   "outputs": [
    {
     "name": "stdout",
     "output_type": "stream",
     "text": [
      "Accuracy: 83.65 %\n",
      "Standard Deviation: 0.01 %\n"
     ]
    }
   ],
   "source": [
    "accuracies = cross_val_score(estimator = DecisionTree_classifier, X = X_train, y = Y_train, cv = 10)   # performs 10 different tests to get average accurecy.\n",
    "print(\"Accuracy: {:.2f} %\".format(accuracies.mean()*100))  # accuracy printed\n",
    "print(\"Standard Deviation: {:.2f} %\".format(accuracies.std()*100))  # standard deveation printed (std -avarage or std+ avarage )"
   ]
  },
  {
   "cell_type": "markdown",
   "id": "457ccaa8",
   "metadata": {},
   "source": [
    "## For X2_train and Y2_Train  "
   ]
  },
  {
   "cell_type": "code",
   "execution_count": 1125,
   "id": "f74dcc4c",
   "metadata": {},
   "outputs": [
    {
     "data": {
      "text/plain": [
       "DecisionTreeClassifier(criterion='entropy', random_state=0)"
      ]
     },
     "execution_count": 1125,
     "metadata": {},
     "output_type": "execute_result"
    }
   ],
   "source": [
    "DecisionTree_classifier.fit(X2_train, Y2_train)  # Building DecisionTree model."
   ]
  },
  {
   "cell_type": "markdown",
   "id": "aba01a01",
   "metadata": {},
   "source": [
    "### predicting result"
   ]
  },
  {
   "cell_type": "code",
   "execution_count": 1126,
   "id": "9a170cc7",
   "metadata": {},
   "outputs": [
    {
     "name": "stdout",
     "output_type": "stream",
     "text": [
      "pred-real\n",
      "[[0 1]\n",
      " [1 1]\n",
      " [0 1]\n",
      " ...\n",
      " [1 1]\n",
      " [1 0]\n",
      " [1 0]]\n"
     ]
    }
   ],
   "source": [
    "DecisionTree_Y2_pred = DecisionTree_classifier.predict(X2_test)  # Predicted results.\n",
    "print(\"pred-real\")  # printing predicted and real values.\n",
    "print(np.concatenate((DecisionTree_Y2_pred.reshape(len(DecisionTree_Y2_pred),1), Y2_test.reshape(len(Y2_test),1)),1))  # Predicted results and real results in a np array."
   ]
  },
  {
   "cell_type": "markdown",
   "id": "81c05935",
   "metadata": {},
   "source": [
    "### Confusion matrix"
   ]
  },
  {
   "cell_type": "code",
   "execution_count": 1127,
   "id": "26425235",
   "metadata": {},
   "outputs": [
    {
     "name": "stdout",
     "output_type": "stream",
     "text": [
      "correct_0-incorrct_1\n",
      "incorrect_0-correct_1\n",
      "[[ 348 3245]\n",
      " [ 524 3095]]\n"
     ]
    }
   ],
   "source": [
    "DecisionTree_cm2 = confusion_matrix(Y2_test, DecisionTree_Y2_pred)  # creating the confusion matrix\n",
    "print(\"correct_0-incorrct_1\\nincorrect_0-correct_1\")  # printing correct and inccrocet results.\n",
    "print(DecisionTree_cm2)  # prininting the confusion matrix."
   ]
  },
  {
   "cell_type": "code",
   "execution_count": 1128,
   "id": "0cfe5097",
   "metadata": {},
   "outputs": [
    {
     "data": {
      "image/png": "[encoded data removed]",
      "text/plain": [
       "<Figure size 576x396 with 2 Axes>"
      ]
     },
     "metadata": {},
     "output_type": "display_data"
    }
   ],
   "source": [
    "disp = ConfusionMatrixDisplay(confusion_matrix=DecisionTree_cm2)  # creaing the confusion matrix plot.                           \n",
    "disp.plot()  # displaying data in plot\n",
    "plt.title(\"DecisionTree\")  # adding a title to plot\n",
    "plt.show()  # showing the plot"
   ]
  },
  {
   "cell_type": "markdown",
   "id": "d07eb570",
   "metadata": {},
   "source": [
    "### Getting accurcy of the model"
   ]
  },
  {
   "cell_type": "code",
   "execution_count": 1129,
   "id": "661eec4d",
   "metadata": {},
   "outputs": [
    {
     "data": {
      "text/plain": [
       "47.74"
      ]
     },
     "execution_count": 1129,
     "metadata": {},
     "output_type": "execute_result"
    }
   ],
   "source": [
    "DecisionTree_accuracy2 = round(accuracy_score(Y2_test, DecisionTree_Y2_pred)*100, 2) # storing accuray.\n",
    "round(accuracy_score(Y2_test, DecisionTree_Y2_pred)*100, 2)  # showing the model accurecy rounded to 2 decimal places."
   ]
  },
  {
   "cell_type": "markdown",
   "id": "f788d306",
   "metadata": {},
   "source": [
    "## k-Fold Cross Validation"
   ]
  },
  {
   "cell_type": "code",
   "execution_count": 1236,
   "id": "5a69f549",
   "metadata": {},
   "outputs": [
    {
     "name": "stdout",
     "output_type": "stream",
     "text": [
      "Accuracy: 71.09 %\n",
      "Standard Deviation: 0.51 %\n"
     ]
    }
   ],
   "source": [
    "accuracies = cross_val_score(estimator = DecisionTree_classifier, X = X2_train, y = Y2_train, cv = 10)   # performs 10 different tests to get average accurecy.\n",
    "print(\"Accuracy: {:.2f} %\".format(accuracies.mean()*100))  # accuracy printed\n",
    "print(\"Standard Deviation: {:.2f} %\".format(accuracies.std()*100))  # standard deveation printed (std -avarage or std+ avarage )"
   ]
  },
  {
   "cell_type": "markdown",
   "id": "d6156bae",
   "metadata": {},
   "source": [
    "# Training the randomforest model on the traning sets"
   ]
  },
  {
   "cell_type": "markdown",
   "id": "986a5dc1",
   "metadata": {},
   "source": [
    "## For X_train and Y_Train  "
   ]
  },
  {
   "cell_type": "code",
   "execution_count": 945,
   "id": "ee1df103",
   "metadata": {},
   "outputs": [],
   "source": [
    "RandomForest_classifier = RandomForestClassifier(n_estimators = 15, criterion = 'entropy', random_state=0)  # creating an instance of the object."
   ]
  },
  {
   "cell_type": "code",
   "execution_count": 946,
   "id": "fc8d6f1c",
   "metadata": {},
   "outputs": [
    {
     "name": "stderr",
     "output_type": "stream",
     "text": [
      "<ipython-input-946-18e029da45e6>:1: DataConversionWarning: A column-vector y was passed when a 1d array was expected. Please change the shape of y to (n_samples,), for example using ravel().\n",
      "  RandomForest_classifier.fit(X_train, Y_train)  # Building RandomForest model.\n"
     ]
    },
    {
     "data": {
      "text/plain": [
       "RandomForestClassifier(criterion='entropy', n_estimators=15, random_state=0)"
      ]
     },
     "execution_count": 946,
     "metadata": {},
     "output_type": "execute_result"
    }
   ],
   "source": [
    "RandomForest_classifier.fit(X_train, Y_train)  # Building RandomForest model."
   ]
  },
  {
   "cell_type": "markdown",
   "id": "d38802d0",
   "metadata": {},
   "source": [
    "### predicting result"
   ]
  },
  {
   "cell_type": "code",
   "execution_count": 947,
   "id": "c901162b",
   "metadata": {},
   "outputs": [
    {
     "name": "stdout",
     "output_type": "stream",
     "text": [
      "pred-real\n",
      "[[1 1]\n",
      " [1 0]\n",
      " [1 1]\n",
      " ...\n",
      " [1 1]\n",
      " [1 1]\n",
      " [1 1]]\n"
     ]
    }
   ],
   "source": [
    "RandomForest_Y_pred = RandomForest_classifier.predict(X_test)  # Predicted results.\n",
    "print(\"pred-real\")  # printing predicted and real values.\n",
    "print(np.concatenate((RandomForest_Y_pred.reshape(len(RandomForest_Y_pred),1), Y_test.reshape(len(Y_test),1)),1))  # Predicted results and real results in a np array."
   ]
  },
  {
   "cell_type": "markdown",
   "id": "2182c65d",
   "metadata": {},
   "source": [
    "### Confusion matrix"
   ]
  },
  {
   "cell_type": "code",
   "execution_count": 948,
   "id": "866f2cea",
   "metadata": {},
   "outputs": [
    {
     "name": "stdout",
     "output_type": "stream",
     "text": [
      "correct_0-incorrct_1\n",
      "incorrect_0-correct_1\n",
      "[[   0 1219]\n",
      " [   0 5993]]\n"
     ]
    }
   ],
   "source": [
    "RandomForest_cm = confusion_matrix(Y_test, RandomForest_Y_pred)  # creating the confusion matrix\n",
    "print(\"correct_0-incorrct_1\\nincorrect_0-correct_1\")  # printing correct and inccrocet results.\n",
    "print(DecisionTree_cm)  # prininting the confusion matrix."
   ]
  },
  {
   "cell_type": "code",
   "execution_count": 949,
   "id": "9abeb9d8",
   "metadata": {},
   "outputs": [
    {
     "data": {
      "image/png": "[encoded data removed]",
      "text/plain": [
       "<Figure size 576x396 with 2 Axes>"
      ]
     },
     "metadata": {},
     "output_type": "display_data"
    }
   ],
   "source": [
    "disp = ConfusionMatrixDisplay(confusion_matrix=RandomForest_cm)  # creaing the confusion matrix plot.                           \n",
    "disp.plot()  # displaying data in plot\n",
    "plt.title(\"RandomForest\")  # adding a title to plot\n",
    "plt.show()  # showing the plot"
   ]
  },
  {
   "cell_type": "markdown",
   "id": "f70532e7",
   "metadata": {},
   "source": [
    "### Getting accurcy of the model"
   ]
  },
  {
   "cell_type": "code",
   "execution_count": 950,
   "id": "54e23fc8",
   "metadata": {},
   "outputs": [
    {
     "data": {
      "text/plain": [
       "83.1"
      ]
     },
     "execution_count": 950,
     "metadata": {},
     "output_type": "execute_result"
    }
   ],
   "source": [
    "RandomForest_accuracy = round(accuracy_score(Y_test, RandomForest_Y_pred)*100, 2)  # storing accuracy.\n",
    "round(accuracy_score(Y_test, RandomForest_Y_pred)*100, 2)  # showing the model accurecy rounded to 2 decimal places."
   ]
  },
  {
   "cell_type": "markdown",
   "id": "2942c149",
   "metadata": {},
   "source": [
    "## k-Fold Cross Validation"
   ]
  },
  {
   "cell_type": "code",
   "execution_count": 1238,
   "id": "648a7e96",
   "metadata": {},
   "outputs": [
    {
     "name": "stderr",
     "output_type": "stream",
     "text": [
      "C:\\Users\\User\\anaconda3\\lib\\site-packages\\sklearn\\model_selection\\_validation.py:593: DataConversionWarning: A column-vector y was passed when a 1d array was expected. Please change the shape of y to (n_samples,), for example using ravel().\n",
      "  estimator.fit(X_train, y_train, **fit_params)\n",
      "C:\\Users\\User\\anaconda3\\lib\\site-packages\\sklearn\\model_selection\\_validation.py:593: DataConversionWarning: A column-vector y was passed when a 1d array was expected. Please change the shape of y to (n_samples,), for example using ravel().\n",
      "  estimator.fit(X_train, y_train, **fit_params)\n",
      "C:\\Users\\User\\anaconda3\\lib\\site-packages\\sklearn\\model_selection\\_validation.py:593: DataConversionWarning: A column-vector y was passed when a 1d array was expected. Please change the shape of y to (n_samples,), for example using ravel().\n",
      "  estimator.fit(X_train, y_train, **fit_params)\n",
      "C:\\Users\\User\\anaconda3\\lib\\site-packages\\sklearn\\model_selection\\_validation.py:593: DataConversionWarning: A column-vector y was passed when a 1d array was expected. Please change the shape of y to (n_samples,), for example using ravel().\n",
      "  estimator.fit(X_train, y_train, **fit_params)\n",
      "C:\\Users\\User\\anaconda3\\lib\\site-packages\\sklearn\\model_selection\\_validation.py:593: DataConversionWarning: A column-vector y was passed when a 1d array was expected. Please change the shape of y to (n_samples,), for example using ravel().\n",
      "  estimator.fit(X_train, y_train, **fit_params)\n",
      "C:\\Users\\User\\anaconda3\\lib\\site-packages\\sklearn\\model_selection\\_validation.py:593: DataConversionWarning: A column-vector y was passed when a 1d array was expected. Please change the shape of y to (n_samples,), for example using ravel().\n",
      "  estimator.fit(X_train, y_train, **fit_params)\n",
      "C:\\Users\\User\\anaconda3\\lib\\site-packages\\sklearn\\model_selection\\_validation.py:593: DataConversionWarning: A column-vector y was passed when a 1d array was expected. Please change the shape of y to (n_samples,), for example using ravel().\n",
      "  estimator.fit(X_train, y_train, **fit_params)\n",
      "C:\\Users\\User\\anaconda3\\lib\\site-packages\\sklearn\\model_selection\\_validation.py:593: DataConversionWarning: A column-vector y was passed when a 1d array was expected. Please change the shape of y to (n_samples,), for example using ravel().\n",
      "  estimator.fit(X_train, y_train, **fit_params)\n",
      "C:\\Users\\User\\anaconda3\\lib\\site-packages\\sklearn\\model_selection\\_validation.py:593: DataConversionWarning: A column-vector y was passed when a 1d array was expected. Please change the shape of y to (n_samples,), for example using ravel().\n",
      "  estimator.fit(X_train, y_train, **fit_params)\n",
      "C:\\Users\\User\\anaconda3\\lib\\site-packages\\sklearn\\model_selection\\_validation.py:593: DataConversionWarning: A column-vector y was passed when a 1d array was expected. Please change the shape of y to (n_samples,), for example using ravel().\n",
      "  estimator.fit(X_train, y_train, **fit_params)\n"
     ]
    },
    {
     "name": "stdout",
     "output_type": "stream",
     "text": [
      "Accuracy: 83.65 %\n",
      "Standard Deviation: 0.01 %\n"
     ]
    }
   ],
   "source": [
    "accuracies = cross_val_score(estimator = RandomForest_classifier, X = X_train, y = Y_train, cv = 10)   # performs 10 different tests to get average accurecy.\n",
    "print(\"Accuracy: {:.2f} %\".format(accuracies.mean()*100))  # accuracy printed\n",
    "print(\"Standard Deviation: {:.2f} %\".format(accuracies.std()*100))  # standard deveation printed (std -avarage or std+ avarage )"
   ]
  },
  {
   "cell_type": "markdown",
   "id": "2596a550",
   "metadata": {},
   "source": [
    "## For X2_train and Y2_Train  "
   ]
  },
  {
   "cell_type": "code",
   "execution_count": 1130,
   "id": "08ae1f83",
   "metadata": {},
   "outputs": [
    {
     "name": "stderr",
     "output_type": "stream",
     "text": [
      "<ipython-input-1130-1a8eab145cbc>:1: DataConversionWarning: A column-vector y was passed when a 1d array was expected. Please change the shape of y to (n_samples,), for example using ravel().\n",
      "  RandomForest_classifier.fit(X2_train, Y2_train)  # Building RandomForest model.\n"
     ]
    },
    {
     "data": {
      "text/plain": [
       "RandomForestClassifier(criterion='entropy', n_estimators=15, random_state=0)"
      ]
     },
     "execution_count": 1130,
     "metadata": {},
     "output_type": "execute_result"
    }
   ],
   "source": [
    "RandomForest_classifier.fit(X2_train, Y2_train)  # Building RandomForest model."
   ]
  },
  {
   "cell_type": "markdown",
   "id": "e9b82861",
   "metadata": {},
   "source": [
    "### predicting result"
   ]
  },
  {
   "cell_type": "code",
   "execution_count": 1131,
   "id": "8baf0294",
   "metadata": {},
   "outputs": [
    {
     "name": "stdout",
     "output_type": "stream",
     "text": [
      "pred-real\n",
      "[[1 1]\n",
      " [0 1]\n",
      " [0 1]\n",
      " ...\n",
      " [0 1]\n",
      " [1 0]\n",
      " [1 0]]\n"
     ]
    }
   ],
   "source": [
    "RandomForest_Y2_pred = RandomForest_classifier.predict(X2_test)  # Predicted results.\n",
    "print(\"pred-real\")  # printing predicted and real values.\n",
    "print(np.concatenate((RandomForest_Y2_pred.reshape(len(RandomForest_Y2_pred),1), Y2_test.reshape(len(Y2_test),1)),1))  # Predicted results and real results in a np array."
   ]
  },
  {
   "cell_type": "markdown",
   "id": "16a2bf58",
   "metadata": {},
   "source": [
    "### Confusion matrix"
   ]
  },
  {
   "cell_type": "code",
   "execution_count": 1132,
   "id": "bd7781ac",
   "metadata": {},
   "outputs": [
    {
     "name": "stdout",
     "output_type": "stream",
     "text": [
      "correct_0-incorrct_1\n",
      "incorrect_0-correct_1\n",
      "[[ 568 3025]\n",
      " [ 808 2811]]\n"
     ]
    }
   ],
   "source": [
    "RandomForest_cm2 = confusion_matrix(Y2_test, RandomForest_Y2_pred)  # creating the confusion matrix\n",
    "print(\"correct_0-incorrct_1\\nincorrect_0-correct_1\")  # printing correct and inccrocet results.\n",
    "print(RandomForest_cm2)  # prininting the confusion matrix."
   ]
  },
  {
   "cell_type": "code",
   "execution_count": 1133,
   "id": "2d64321d",
   "metadata": {},
   "outputs": [
    {
     "data": {
      "image/png": "[encoded data removed]",
      "text/plain": [
       "<Figure size 576x396 with 2 Axes>"
      ]
     },
     "metadata": {},
     "output_type": "display_data"
    }
   ],
   "source": [
    "disp = ConfusionMatrixDisplay(confusion_matrix=RandomForest_cm2)  # creaing the confusion matrix plot.                           \n",
    "disp.plot()  # displaying data in plot\n",
    "plt.title(\"RandomForest\")  # adding a title to plot\n",
    "plt.show()  # showing the plot"
   ]
  },
  {
   "cell_type": "markdown",
   "id": "82ad81b4",
   "metadata": {},
   "source": [
    "### Getting accurcy of the model"
   ]
  },
  {
   "cell_type": "code",
   "execution_count": 1134,
   "id": "d5957085",
   "metadata": {},
   "outputs": [
    {
     "data": {
      "text/plain": [
       "46.85"
      ]
     },
     "execution_count": 1134,
     "metadata": {},
     "output_type": "execute_result"
    }
   ],
   "source": [
    "RandomForest_accuracy2 = round(accuracy_score(Y2_test, RandomForest_Y2_pred)*100, 2)  # storing accuracy.\n",
    "round(accuracy_score(Y2_test, RandomForest_Y2_pred)*100, 2)  # showing the model accurecy rounded to 2 decimal places."
   ]
  },
  {
   "cell_type": "markdown",
   "id": "14fbb868",
   "metadata": {},
   "source": [
    "## k-Fold Cross Validation"
   ]
  },
  {
   "cell_type": "code",
   "execution_count": 1240,
   "id": "7f099513",
   "metadata": {},
   "outputs": [
    {
     "name": "stderr",
     "output_type": "stream",
     "text": [
      "C:\\Users\\User\\anaconda3\\lib\\site-packages\\sklearn\\model_selection\\_validation.py:593: DataConversionWarning: A column-vector y was passed when a 1d array was expected. Please change the shape of y to (n_samples,), for example using ravel().\n",
      "  estimator.fit(X_train, y_train, **fit_params)\n",
      "C:\\Users\\User\\anaconda3\\lib\\site-packages\\sklearn\\model_selection\\_validation.py:593: DataConversionWarning: A column-vector y was passed when a 1d array was expected. Please change the shape of y to (n_samples,), for example using ravel().\n",
      "  estimator.fit(X_train, y_train, **fit_params)\n",
      "C:\\Users\\User\\anaconda3\\lib\\site-packages\\sklearn\\model_selection\\_validation.py:593: DataConversionWarning: A column-vector y was passed when a 1d array was expected. Please change the shape of y to (n_samples,), for example using ravel().\n",
      "  estimator.fit(X_train, y_train, **fit_params)\n",
      "C:\\Users\\User\\anaconda3\\lib\\site-packages\\sklearn\\model_selection\\_validation.py:593: DataConversionWarning: A column-vector y was passed when a 1d array was expected. Please change the shape of y to (n_samples,), for example using ravel().\n",
      "  estimator.fit(X_train, y_train, **fit_params)\n",
      "C:\\Users\\User\\anaconda3\\lib\\site-packages\\sklearn\\model_selection\\_validation.py:593: DataConversionWarning: A column-vector y was passed when a 1d array was expected. Please change the shape of y to (n_samples,), for example using ravel().\n",
      "  estimator.fit(X_train, y_train, **fit_params)\n",
      "C:\\Users\\User\\anaconda3\\lib\\site-packages\\sklearn\\model_selection\\_validation.py:593: DataConversionWarning: A column-vector y was passed when a 1d array was expected. Please change the shape of y to (n_samples,), for example using ravel().\n",
      "  estimator.fit(X_train, y_train, **fit_params)\n",
      "C:\\Users\\User\\anaconda3\\lib\\site-packages\\sklearn\\model_selection\\_validation.py:593: DataConversionWarning: A column-vector y was passed when a 1d array was expected. Please change the shape of y to (n_samples,), for example using ravel().\n",
      "  estimator.fit(X_train, y_train, **fit_params)\n",
      "C:\\Users\\User\\anaconda3\\lib\\site-packages\\sklearn\\model_selection\\_validation.py:593: DataConversionWarning: A column-vector y was passed when a 1d array was expected. Please change the shape of y to (n_samples,), for example using ravel().\n",
      "  estimator.fit(X_train, y_train, **fit_params)\n",
      "C:\\Users\\User\\anaconda3\\lib\\site-packages\\sklearn\\model_selection\\_validation.py:593: DataConversionWarning: A column-vector y was passed when a 1d array was expected. Please change the shape of y to (n_samples,), for example using ravel().\n",
      "  estimator.fit(X_train, y_train, **fit_params)\n",
      "C:\\Users\\User\\anaconda3\\lib\\site-packages\\sklearn\\model_selection\\_validation.py:593: DataConversionWarning: A column-vector y was passed when a 1d array was expected. Please change the shape of y to (n_samples,), for example using ravel().\n",
      "  estimator.fit(X_train, y_train, **fit_params)\n"
     ]
    },
    {
     "name": "stdout",
     "output_type": "stream",
     "text": [
      "Accuracy: 73.25 %\n",
      "Standard Deviation: 0.49 %\n"
     ]
    }
   ],
   "source": [
    "accuracies = cross_val_score(estimator = RandomForest_classifier, X = X2_train, y = Y2_train, cv = 10)   # performs 10 different tests to get average accurecy.\n",
    "p = (\"Accuracy: {:.2f} %\".format(accuracies.mean()*100)) \n",
    "print(\"Accuracy: {:.2f} %\".format(accuracies.mean()*100))  # accuracy printed \n",
    "print(\"Standard Deviation: {:.2f} %\".format(accuracies.std()*100))  # standard deveation printed (std -avarage or std+ avarage )"
   ]
  },
  {
   "cell_type": "code",
   "execution_count": null,
   "id": "876f4120",
   "metadata": {},
   "outputs": [],
   "source": []
  },
  {
   "cell_type": "code",
   "execution_count": null,
   "id": "38ff2eea",
   "metadata": {},
   "outputs": [],
   "source": []
  },
  {
   "cell_type": "code",
   "execution_count": null,
   "id": "b75602f6",
   "metadata": {},
   "outputs": [],
   "source": []
  },
  {
   "cell_type": "code",
   "execution_count": null,
   "id": "b62f52ea",
   "metadata": {},
   "outputs": [],
   "source": []
  },
  {
   "cell_type": "code",
   "execution_count": null,
   "id": "9a8221b8",
   "metadata": {},
   "outputs": [],
   "source": []
  },
  {
   "cell_type": "code",
   "execution_count": null,
   "id": "4d6b7176",
   "metadata": {},
   "outputs": [],
   "source": []
  },
  {
   "cell_type": "code",
   "execution_count": null,
   "id": "4598c070",
   "metadata": {},
   "outputs": [],
   "source": []
  },
  {
   "cell_type": "code",
   "execution_count": null,
   "id": "ca10c3cb",
   "metadata": {},
   "outputs": [],
   "source": []
  },
  {
   "cell_type": "code",
   "execution_count": null,
   "id": "e0c332a0",
   "metadata": {},
   "outputs": [],
   "source": []
  },
  {
   "cell_type": "code",
   "execution_count": null,
   "id": "4df020bf",
   "metadata": {},
   "outputs": [],
   "source": []
  },
  {
   "cell_type": "code",
   "execution_count": null,
   "id": "eb05c2bb",
   "metadata": {},
   "outputs": [],
   "source": []
  },
  {
   "cell_type": "code",
   "execution_count": null,
   "id": "ec80ce90",
   "metadata": {},
   "outputs": [],
   "source": []
  },
  {
   "cell_type": "code",
   "execution_count": null,
   "id": "6cc81e38",
   "metadata": {},
   "outputs": [],
   "source": []
  },
  {
   "cell_type": "code",
   "execution_count": null,
   "id": "5773f88b",
   "metadata": {},
   "outputs": [],
   "source": []
  },
  {
   "cell_type": "code",
   "execution_count": null,
   "id": "9476d122",
   "metadata": {},
   "outputs": [],
   "source": []
  },
  {
   "cell_type": "code",
   "execution_count": null,
   "id": "bacab460",
   "metadata": {},
   "outputs": [],
   "source": []
  },
  {
   "cell_type": "code",
   "execution_count": null,
   "id": "a4400275",
   "metadata": {},
   "outputs": [],
   "source": []
  },
  {
   "cell_type": "code",
   "execution_count": null,
   "id": "f191da80",
   "metadata": {},
   "outputs": [],
   "source": []
  },
  {
   "cell_type": "code",
   "execution_count": 956,
   "id": "e079807e",
   "metadata": {},
   "outputs": [],
   "source": [
    "model_name = [\"Logistic_regression_model\", \"k_nearest_neighbors\",\"Support_vector_machines_rbf\", \\\n",
    "              \"naive_bayes_theorm\",\"DecisionTree\" ,\"RandomForest\"]\n",
    "model_score_test_1 = [Logistic_accuracy, K_NN_accuracy, svm_accuracy, naive_bayes_accuracy, DecisionTree_accuracy, RandomForest_accuracy]\n",
    "model_score_test_2 = [Logistic_accuracy2, K_NN_accuracy2, svm_accuracy2, naive_bayes_accuracy2, DecisionTree_accuracy2, RandomForest_accuracy2]"
   ]
  },
  {
   "cell_type": "code",
   "execution_count": 957,
   "id": "8f8bfa0d",
   "metadata": {},
   "outputs": [
    {
     "data": {
      "text/html": [
       "<div>\n",
       "<style scoped>\n",
       "    .dataframe tbody tr th:only-of-type {\n",
       "        vertical-align: middle;\n",
       "    }\n",
       "\n",
       "    .dataframe tbody tr th {\n",
       "        vertical-align: top;\n",
       "    }\n",
       "\n",
       "    .dataframe thead th {\n",
       "        text-align: right;\n",
       "    }\n",
       "</style>\n",
       "<table border=\"1\" class=\"dataframe\">\n",
       "  <thead>\n",
       "    <tr style=\"text-align: right;\">\n",
       "      <th></th>\n",
       "      <th>model_name</th>\n",
       "      <th>score_test_1</th>\n",
       "      <th>score_test_2</th>\n",
       "    </tr>\n",
       "  </thead>\n",
       "  <tbody>\n",
       "    <tr>\n",
       "      <th>1</th>\n",
       "      <td>k_nearest_neighbors</td>\n",
       "      <td>83.10</td>\n",
       "      <td>76.33</td>\n",
       "    </tr>\n",
       "    <tr>\n",
       "      <th>2</th>\n",
       "      <td>Support_vector_machines_rbf</td>\n",
       "      <td>83.10</td>\n",
       "      <td>67.11</td>\n",
       "    </tr>\n",
       "    <tr>\n",
       "      <th>4</th>\n",
       "      <td>DecisionTree</td>\n",
       "      <td>83.10</td>\n",
       "      <td>70.91</td>\n",
       "    </tr>\n",
       "    <tr>\n",
       "      <th>5</th>\n",
       "      <td>RandomForest</td>\n",
       "      <td>83.10</td>\n",
       "      <td>73.57</td>\n",
       "    </tr>\n",
       "    <tr>\n",
       "      <th>0</th>\n",
       "      <td>Logistic_regression_model</td>\n",
       "      <td>79.96</td>\n",
       "      <td>64.57</td>\n",
       "    </tr>\n",
       "    <tr>\n",
       "      <th>3</th>\n",
       "      <td>naive_bayes_theorm</td>\n",
       "      <td>78.20</td>\n",
       "      <td>71.09</td>\n",
       "    </tr>\n",
       "  </tbody>\n",
       "</table>\n",
       "</div>"
      ],
      "text/plain": [
       "                    model_name  score_test_1  score_test_2\n",
       "1          k_nearest_neighbors         83.10         76.33\n",
       "2  Support_vector_machines_rbf         83.10         67.11\n",
       "4                 DecisionTree         83.10         70.91\n",
       "5                 RandomForest         83.10         73.57\n",
       "0    Logistic_regression_model         79.96         64.57\n",
       "3           naive_bayes_theorm         78.20         71.09"
      ]
     },
     "execution_count": 957,
     "metadata": {},
     "output_type": "execute_result"
    }
   ],
   "source": [
    "model = pd.DataFrame({\n",
    "    'model_name':model_name ,\n",
    "    'score_test_1': model_score_test_1,\n",
    "    'score_test_2':model_score_test_2\n",
    "})\n",
    "models.sort_values(by='score_test_1', ascending=False)"
   ]
  },
  {
   "cell_type": "code",
   "execution_count": 958,
   "id": "4d7a3718",
   "metadata": {},
   "outputs": [
    {
     "data": {
      "text/html": [
       "<div>\n",
       "<style scoped>\n",
       "    .dataframe tbody tr th:only-of-type {\n",
       "        vertical-align: middle;\n",
       "    }\n",
       "\n",
       "    .dataframe tbody tr th {\n",
       "        vertical-align: top;\n",
       "    }\n",
       "\n",
       "    .dataframe thead th {\n",
       "        text-align: right;\n",
       "    }\n",
       "</style>\n",
       "<table border=\"1\" class=\"dataframe\">\n",
       "  <thead>\n",
       "    <tr style=\"text-align: right;\">\n",
       "      <th></th>\n",
       "      <th>model_name</th>\n",
       "      <th>score_test_1</th>\n",
       "      <th>score_test_2</th>\n",
       "    </tr>\n",
       "  </thead>\n",
       "  <tbody>\n",
       "    <tr>\n",
       "      <th>1</th>\n",
       "      <td>k_nearest_neighbors</td>\n",
       "      <td>83.10</td>\n",
       "      <td>76.33</td>\n",
       "    </tr>\n",
       "    <tr>\n",
       "      <th>5</th>\n",
       "      <td>RandomForest</td>\n",
       "      <td>83.10</td>\n",
       "      <td>73.57</td>\n",
       "    </tr>\n",
       "    <tr>\n",
       "      <th>3</th>\n",
       "      <td>naive_bayes_theorm</td>\n",
       "      <td>78.20</td>\n",
       "      <td>71.09</td>\n",
       "    </tr>\n",
       "    <tr>\n",
       "      <th>4</th>\n",
       "      <td>DecisionTree</td>\n",
       "      <td>83.10</td>\n",
       "      <td>70.91</td>\n",
       "    </tr>\n",
       "    <tr>\n",
       "      <th>2</th>\n",
       "      <td>Support_vector_machines_rbf</td>\n",
       "      <td>83.10</td>\n",
       "      <td>67.11</td>\n",
       "    </tr>\n",
       "    <tr>\n",
       "      <th>0</th>\n",
       "      <td>Logistic_regression_model</td>\n",
       "      <td>79.96</td>\n",
       "      <td>64.57</td>\n",
       "    </tr>\n",
       "  </tbody>\n",
       "</table>\n",
       "</div>"
      ],
      "text/plain": [
       "                    model_name  score_test_1  score_test_2\n",
       "1          k_nearest_neighbors         83.10         76.33\n",
       "5                 RandomForest         83.10         73.57\n",
       "3           naive_bayes_theorm         78.20         71.09\n",
       "4                 DecisionTree         83.10         70.91\n",
       "2  Support_vector_machines_rbf         83.10         67.11\n",
       "0    Logistic_regression_model         79.96         64.57"
      ]
     },
     "execution_count": 958,
     "metadata": {},
     "output_type": "execute_result"
    }
   ],
   "source": [
    "models.sort_values(by='score_test_2', ascending=False)"
   ]
  },
  {
   "cell_type": "code",
   "execution_count": 959,
   "id": "47e65998",
   "metadata": {},
   "outputs": [],
   "source": [
    "# look it up as your about to finish this report.\n",
    "# (Adeline, 2020) has a very creative idea to compare models at the end.\n",
    "# you can make it even better by using visusals.ss"
   ]
  }
 ],
 "metadata": {
  "kernelspec": {
   "display_name": "Python 3",
   "language": "python",
   "name": "python3"
  },
  "language_info": {
   "codemirror_mode": {
    "name": "ipython",
    "version": 3
   },
   "file_extension": ".py",
   "mimetype": "text/x-python",
   "name": "python",
   "nbconvert_exporter": "python",
   "pygments_lexer": "ipython3",
   "version": "3.8.8"
  }
 },
 "nbformat": 4,
 "nbformat_minor": 5
}
