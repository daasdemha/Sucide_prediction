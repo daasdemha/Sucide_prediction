{
 "cells": [
  {
   "cell_type": "markdown",
   "id": "9605f2e7",
   "metadata": {},
   "source": [
    "# Feature scaling techniques"
   ]
  },
  {
   "cell_type": "code",
   "execution_count": null,
   "id": "9858ea70",
   "metadata": {},
   "outputs": [],
   "source": [
    "sc = StandardScaler()  # creating an instance of the object.\n",
    "\n",
    "X_train[:, 49:] = sc.fit_transform(X_train[:, 49:])  # Scaling x_train\n",
    "X_test[:,49:] = sc.transform(X_test[:, 49:])  # Scaling y_train"
   ]
  },
  {
   "cell_type": "code",
   "execution_count": null,
   "id": "126f0ae1",
   "metadata": {},
   "outputs": [],
   "source": [
    "sc = MinMaxScaler()  # creating an instance of the object.\n",
    "\n",
    "X_train[:, 49:] = sc.fit_transform(X_train[:, 49:])  # Scaling x_train\n",
    "X_test[:,49:] = sc.transform(X_test[:, 49:])  # Scaling y_train"
   ]
  },
  {
   "cell_type": "code",
   "execution_count": null,
   "id": "22ea0ea5",
   "metadata": {},
   "outputs": [],
   "source": [
    "sc = RobustScaler()  # creating an instance of the object.\n",
    "\n",
    "X_train[:, 49:] = sc.fit_transform(X_train[:, 49:])  # Scaling x_train\n",
    "X_test[:,49:] = sc.transform(X_test[:, 49:])  # Scaling y_train"
   ]
  },
  {
   "cell_type": "code",
   "execution_count": null,
   "id": "b084e488",
   "metadata": {},
   "outputs": [],
   "source": [
    "sc = Normalizer()  # creating an instance of the object.\n",
    "\n",
    "X_train[:, 49:] = sc.fit_transform(X_train[:, 49:])  # Scaling x_train\n",
    "X_test[:,49:] = sc.transform(X_test[:, 49:])  # Scaling y_train"
   ]
  },
  {
   "cell_type": "code",
   "execution_count": null,
   "id": "c96ec8a2",
   "metadata": {},
   "outputs": [],
   "source": []
  }
 ],
 "metadata": {
  "kernelspec": {
   "display_name": "Python 3",
   "language": "python",
   "name": "python3"
  },
  "language_info": {
   "codemirror_mode": {
    "name": "ipython",
    "version": 3
   },
   "file_extension": ".py",
   "mimetype": "text/x-python",
   "name": "python",
   "nbconvert_exporter": "python",
   "pygments_lexer": "ipython3",
   "version": "3.8.8"
  }
 },
 "nbformat": 4,
 "nbformat_minor": 5
}
