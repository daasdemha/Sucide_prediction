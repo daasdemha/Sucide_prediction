{
 "cells": [
  {
   "cell_type": "code",
   "execution_count": 1,
   "id": "3f9bbcbf",
   "metadata": {},
   "outputs": [],
   "source": [
    "import numpy as np  # Allows us to work with arrays.\n",
    "import matplotlib.pyplot as plt  # Allows working with plots.\n",
    "import pandas as pd  # importing pandas’ library for use. Allows us to import data set and manipulate it.\n",
    "\n",
    "import seaborn as sns  # Allows to polt beautiful plots.\n",
    "import matplotlib.pyplot as plt # plotting.\n",
    "\n",
    "\n",
    "from sklearn.compose import ColumnTransformer  # helps with encoding.\n",
    "from sklearn.preprocessing import OneHotEncoder  # Does onehotencode.\n",
    "from sklearn.preprocessing import LabelEncoder   # Does 1 and 0 encoding.\n",
    "from sklearn.model_selection import train_test_split  # Splits dataset into test set and traning set. \n",
    "from sklearn.preprocessing import StandardScaler, MinMaxScaler, RobustScaler, Normalizer\n",
    "  # Perform the feature scaling.\n",
    "from sklearn.linear_model import LogisticRegression  # Performs logistic regression.\n",
    "from sklearn.metrics import confusion_matrix, ConfusionMatrixDisplay  # creates a confusion matrix\n",
    "from sklearn.metrics import accuracy_score  # Returns accury score of a model.\n",
    "from sklearn.neighbors import KNeighborsClassifier  # performs K Neariesst Neighobour.\n",
    "from sklearn.impute import KNNImputer  # imputes missing values using KNN.\n",
    "from sklearn.svm import SVC  # Performs svm\n",
    "from sklearn.naive_bayes import GaussianNB  # performs naive_bayes gaussianNB.\n",
    "from sklearn.tree import DecisionTreeClassifier  #Perfroms decision tree classification model.\n",
    "from sklearn.ensemble import RandomForestClassifier  #Performs random forest classification.\n",
    "from xgboost import XGBClassifier  # performs xgboost classification. gradiant decision trees.\n",
    "from sklearn.linear_model import LinearRegression  # will use to replace missing values linear regressoin\n",
    "from sklearn.decomposition import PCA  # Performs model optimization\n",
    "from sklearn.decomposition import KernelPCA  # Performs model optimization\n",
    "from sklearn.discriminant_analysis import LinearDiscriminantAnalysis as LDA # performs model optimization\n",
    "from sklearn.model_selection import cross_val_score  # performs cross validation. Helps in model selection.\n",
    "from sklearn.model_selection import GridSearchCV  # helps select the best hyper parameters\n",
    "from sklearn.neural_network import MLPClassifier\n",
    "from sklearn.model_selection import RandomizedSearchCV\n",
    "\n",
    "import warnings\n",
    "warnings.filterwarnings(\"ignore\")\n",
    "\n",
    "#%matplotlib inline  # helps in showing plots on the browser."
   ]
  },
  {
   "cell_type": "code",
   "execution_count": 4,
   "id": "19dfc317",
   "metadata": {},
   "outputs": [],
   "source": [
    "df = pd.read_csv(\"banknote.csv\")"
   ]
  },
  {
   "cell_type": "code",
   "execution_count": 5,
   "id": "1e2b541c",
   "metadata": {},
   "outputs": [
    {
     "data": {
      "text/html": [
       "<div>\n",
       "<style scoped>\n",
       "    .dataframe tbody tr th:only-of-type {\n",
       "        vertical-align: middle;\n",
       "    }\n",
       "\n",
       "    .dataframe tbody tr th {\n",
       "        vertical-align: top;\n",
       "    }\n",
       "\n",
       "    .dataframe thead th {\n",
       "        text-align: right;\n",
       "    }\n",
       "</style>\n",
       "<table border=\"1\" class=\"dataframe\">\n",
       "  <thead>\n",
       "    <tr style=\"text-align: right;\">\n",
       "      <th></th>\n",
       "      <th>Variance</th>\n",
       "      <th>Skewness</th>\n",
       "      <th>Curtosis</th>\n",
       "      <th>Entropy</th>\n",
       "      <th>Class</th>\n",
       "    </tr>\n",
       "  </thead>\n",
       "  <tbody>\n",
       "    <tr>\n",
       "      <th>0</th>\n",
       "      <td>3.62160</td>\n",
       "      <td>8.66610</td>\n",
       "      <td>-2.8073</td>\n",
       "      <td>-0.44699</td>\n",
       "      <td>0</td>\n",
       "    </tr>\n",
       "    <tr>\n",
       "      <th>1</th>\n",
       "      <td>4.54590</td>\n",
       "      <td>8.16740</td>\n",
       "      <td>-2.4586</td>\n",
       "      <td>-1.46210</td>\n",
       "      <td>0</td>\n",
       "    </tr>\n",
       "    <tr>\n",
       "      <th>2</th>\n",
       "      <td>3.86600</td>\n",
       "      <td>-2.63830</td>\n",
       "      <td>1.9242</td>\n",
       "      <td>0.10645</td>\n",
       "      <td>0</td>\n",
       "    </tr>\n",
       "    <tr>\n",
       "      <th>3</th>\n",
       "      <td>3.45660</td>\n",
       "      <td>9.52280</td>\n",
       "      <td>-4.0112</td>\n",
       "      <td>-3.59440</td>\n",
       "      <td>0</td>\n",
       "    </tr>\n",
       "    <tr>\n",
       "      <th>4</th>\n",
       "      <td>0.32924</td>\n",
       "      <td>-4.45520</td>\n",
       "      <td>4.5718</td>\n",
       "      <td>-0.98880</td>\n",
       "      <td>0</td>\n",
       "    </tr>\n",
       "    <tr>\n",
       "      <th>...</th>\n",
       "      <td>...</td>\n",
       "      <td>...</td>\n",
       "      <td>...</td>\n",
       "      <td>...</td>\n",
       "      <td>...</td>\n",
       "    </tr>\n",
       "    <tr>\n",
       "      <th>1367</th>\n",
       "      <td>0.40614</td>\n",
       "      <td>1.34920</td>\n",
       "      <td>-1.4501</td>\n",
       "      <td>-0.55949</td>\n",
       "      <td>1</td>\n",
       "    </tr>\n",
       "    <tr>\n",
       "      <th>1368</th>\n",
       "      <td>-1.38870</td>\n",
       "      <td>-4.87730</td>\n",
       "      <td>6.4774</td>\n",
       "      <td>0.34179</td>\n",
       "      <td>1</td>\n",
       "    </tr>\n",
       "    <tr>\n",
       "      <th>1369</th>\n",
       "      <td>-3.75030</td>\n",
       "      <td>-13.45860</td>\n",
       "      <td>17.5932</td>\n",
       "      <td>-2.77710</td>\n",
       "      <td>1</td>\n",
       "    </tr>\n",
       "    <tr>\n",
       "      <th>1370</th>\n",
       "      <td>-3.56370</td>\n",
       "      <td>-8.38270</td>\n",
       "      <td>12.3930</td>\n",
       "      <td>-1.28230</td>\n",
       "      <td>1</td>\n",
       "    </tr>\n",
       "    <tr>\n",
       "      <th>1371</th>\n",
       "      <td>-2.54190</td>\n",
       "      <td>-0.65804</td>\n",
       "      <td>2.6842</td>\n",
       "      <td>1.19520</td>\n",
       "      <td>1</td>\n",
       "    </tr>\n",
       "  </tbody>\n",
       "</table>\n",
       "<p>1372 rows × 5 columns</p>\n",
       "</div>"
      ],
      "text/plain": [
       "      Variance  Skewness  Curtosis  Entropy  Class\n",
       "0      3.62160   8.66610   -2.8073 -0.44699      0\n",
       "1      4.54590   8.16740   -2.4586 -1.46210      0\n",
       "2      3.86600  -2.63830    1.9242  0.10645      0\n",
       "3      3.45660   9.52280   -4.0112 -3.59440      0\n",
       "4      0.32924  -4.45520    4.5718 -0.98880      0\n",
       "...        ...       ...       ...      ...    ...\n",
       "1367   0.40614   1.34920   -1.4501 -0.55949      1\n",
       "1368  -1.38870  -4.87730    6.4774  0.34179      1\n",
       "1369  -3.75030 -13.45860   17.5932 -2.77710      1\n",
       "1370  -3.56370  -8.38270   12.3930 -1.28230      1\n",
       "1371  -2.54190  -0.65804    2.6842  1.19520      1\n",
       "\n",
       "[1372 rows x 5 columns]"
      ]
     },
     "execution_count": 5,
     "metadata": {},
     "output_type": "execute_result"
    }
   ],
   "source": [
    "df"
   ]
  },
  {
   "cell_type": "code",
   "execution_count": 6,
   "id": "8327db11",
   "metadata": {},
   "outputs": [
    {
     "name": "stdout",
     "output_type": "stream",
     "text": [
      "<class 'pandas.core.frame.DataFrame'>\n",
      "RangeIndex: 1372 entries, 0 to 1371\n",
      "Data columns (total 5 columns):\n",
      " #   Column    Non-Null Count  Dtype  \n",
      "---  ------    --------------  -----  \n",
      " 0   Variance  1372 non-null   float64\n",
      " 1   Skewness  1372 non-null   float64\n",
      " 2   Curtosis  1372 non-null   float64\n",
      " 3   Entropy   1372 non-null   float64\n",
      " 4   Class     1372 non-null   int64  \n",
      "dtypes: float64(4), int64(1)\n",
      "memory usage: 53.7 KB\n"
     ]
    }
   ],
   "source": [
    "df.info()"
   ]
  },
  {
   "cell_type": "code",
   "execution_count": 8,
   "id": "c471b160",
   "metadata": {},
   "outputs": [],
   "source": [
    "X = df.iloc[:,:-1].values\n",
    "y = df.iloc[:,-1].values"
   ]
  },
  {
   "cell_type": "code",
   "execution_count": 11,
   "id": "391dec9b",
   "metadata": {},
   "outputs": [],
   "source": [
    "X_train, X_test, y_train, y_test = train_test_split(X,y,test_size=0.2,random_state=0)"
   ]
  },
  {
   "cell_type": "code",
   "execution_count": 19,
   "id": "454be1b3",
   "metadata": {},
   "outputs": [],
   "source": [
    "# set kernel to 'liner' or rbf as per requirement\n",
    "model = SVC()  # creating an instance of the object."
   ]
  },
  {
   "cell_type": "code",
   "execution_count": 20,
   "id": "1d441ba5",
   "metadata": {},
   "outputs": [
    {
     "data": {
      "text/plain": [
       "SVC()"
      ]
     },
     "execution_count": 20,
     "metadata": {},
     "output_type": "execute_result"
    }
   ],
   "source": [
    "model.fit(X_train, y_train)  # Building svm model."
   ]
  },
  {
   "cell_type": "code",
   "execution_count": 22,
   "id": "98e40329",
   "metadata": {},
   "outputs": [
    {
     "name": "stdout",
     "output_type": "stream",
     "text": [
      "Traning score: 1.00\n",
      "Traning score: 1.00\n"
     ]
    }
   ],
   "source": [
    "score = model.score(X_train, y_train)\n",
    "print(\"Traning score: {:.2f}\".format(score))\n",
    "score = model.score(X_test, y_test)\n",
    "print(\"Traning score: {:.2f}\".format(score))"
   ]
  },
  {
   "cell_type": "code",
   "execution_count": null,
   "id": "67cd5de3",
   "metadata": {},
   "outputs": [],
   "source": []
  }
 ],
 "metadata": {
  "kernelspec": {
   "display_name": "Python 3",
   "language": "python",
   "name": "python3"
  },
  "language_info": {
   "codemirror_mode": {
    "name": "ipython",
    "version": 3
   },
   "file_extension": ".py",
   "mimetype": "text/x-python",
   "name": "python",
   "nbconvert_exporter": "python",
   "pygments_lexer": "ipython3",
   "version": "3.8.8"
  }
 },
 "nbformat": 4,
 "nbformat_minor": 5
}
