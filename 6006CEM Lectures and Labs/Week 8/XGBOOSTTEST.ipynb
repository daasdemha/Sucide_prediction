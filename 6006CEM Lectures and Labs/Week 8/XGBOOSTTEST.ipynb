{
 "cells": [
  {
   "cell_type": "code",
   "execution_count": 34,
   "id": "cf078064",
   "metadata": {},
   "outputs": [],
   "source": [
    "import numpy as np  # Allows us to work with arrays.\n",
    "import matplotlib.pyplot as plt  # Allows working with plots.\n",
    "import pandas as pd  # importing pandas’ library for use. Allows us to import data set and manipulate it.\n",
    "\n",
    "\n",
    "import seaborn as sns  # Allows to polt beautiful plots.\n",
    "import matplotlib.pyplot as plt # plotting.\n",
    "from mpl_toolkits import mplot3d  # plotting 3d plots\n",
    "\n",
    "from sklearn.compose import ColumnTransformer  # helps with encoding.\n",
    "from sklearn.preprocessing import OneHotEncoder  # Does onehotencode.\n",
    "from sklearn.preprocessing import LabelEncoder   # Does 1 and 0 encoding.\n",
    "from sklearn.model_selection import train_test_split  # Splits dataset into test set and traning set. \n",
    "from sklearn.preprocessing import StandardScaler, MinMaxScaler, RobustScaler, Normalizer  # Perform the feature scaling.\n",
    "from sklearn.linear_model import LogisticRegression  # Performs logistic regression.\n",
    "from sklearn.metrics import confusion_matrix, ConfusionMatrixDisplay, multilabel_confusion_matrix  # creates a \n",
    "                                                                            # confusion matrix  # creates a confusion matrix\n",
    "from sklearn.metrics import accuracy_score  # Returns accury score of a model.\n",
    "from sklearn.neighbors import KNeighborsClassifier  # performs K Neariesst Neighobour.\n",
    "from sklearn.impute import KNNImputer  # imputes missing values using KNN.\n",
    "from sklearn.svm import SVC  # Performs svm\n",
    "from sklearn.naive_bayes import GaussianNB  # performs naive_bayes gaussianNB.\n",
    "from sklearn.tree import DecisionTreeClassifier  #Perfroms decision tree classification model.\n",
    "from sklearn.ensemble import RandomForestClassifier  #Performs random forest classification.\n",
    "from xgboost import XGBClassifier  # performs xgboost classification. gradiant decision trees.\n",
    "from sklearn.linear_model import LinearRegression  # will use to replace missing values linear regressoin\n",
    "from sklearn.decomposition import PCA  # Performs model optimization\n",
    "from sklearn.decomposition import KernelPCA  # Performs model optimization\n",
    "from sklearn.discriminant_analysis import LinearDiscriminantAnalysis as LDA # performs model optimization\n",
    "from sklearn.model_selection import cross_val_score  # performs cross validation. Helps in model selection.\n",
    "from sklearn.model_selection import GridSearchCV  # helps select the best hyper parameters\n",
    "from imblearn.over_sampling import RandomOverSampler  # Uses over sampling techniques to Sample the data correctly.\n",
    "from imblearn.under_sampling import RandomUnderSampler # Uses Under sampling techniques to Sample the data correctly.\n",
    "from sklearn.metrics import classification_report, accuracy_score, recall_score, precision_score, roc_auc_score, f1_score \n",
    "                                                                                 # Allows the usage of a classification report\n",
    "from sklearn.metrics import precision_recall_fscore_support  # gives precison, recall, f1 score, and support\n",
    "from sklearn.model_selection import RandomizedSearchCV  # performs randomized search cv\n",
    "\n",
    "\n",
    "from collections import Counter  # Allows the counting the items in an iterable list.\n",
    "\n",
    "import warnings  # allows to ignore warnings\n",
    "warnings.filterwarnings(\"ignore\")  # ignores warnings\n",
    "\n",
    "#%matplotlib inline  # helps in showing plots on the browser."
   ]
  },
  {
   "cell_type": "code",
   "execution_count": 2,
   "id": "1c08711a",
   "metadata": {},
   "outputs": [
    {
     "data": {
      "text/html": [
       "<div>\n",
       "<style scoped>\n",
       "    .dataframe tbody tr th:only-of-type {\n",
       "        vertical-align: middle;\n",
       "    }\n",
       "\n",
       "    .dataframe tbody tr th {\n",
       "        vertical-align: top;\n",
       "    }\n",
       "\n",
       "    .dataframe thead th {\n",
       "        text-align: right;\n",
       "    }\n",
       "</style>\n",
       "<table border=\"1\" class=\"dataframe\">\n",
       "  <thead>\n",
       "    <tr style=\"text-align: right;\">\n",
       "      <th></th>\n",
       "      <th>Id</th>\n",
       "      <th>SepalLengthCm</th>\n",
       "      <th>SepalWidthCm</th>\n",
       "      <th>PetalLengthCm</th>\n",
       "      <th>PetalWidthCm</th>\n",
       "      <th>Species</th>\n",
       "    </tr>\n",
       "  </thead>\n",
       "  <tbody>\n",
       "    <tr>\n",
       "      <th>0</th>\n",
       "      <td>1</td>\n",
       "      <td>5.1</td>\n",
       "      <td>3.5</td>\n",
       "      <td>1.4</td>\n",
       "      <td>0.2</td>\n",
       "      <td>Iris-setosa</td>\n",
       "    </tr>\n",
       "    <tr>\n",
       "      <th>1</th>\n",
       "      <td>2</td>\n",
       "      <td>4.9</td>\n",
       "      <td>3.0</td>\n",
       "      <td>1.4</td>\n",
       "      <td>0.2</td>\n",
       "      <td>Iris-setosa</td>\n",
       "    </tr>\n",
       "    <tr>\n",
       "      <th>2</th>\n",
       "      <td>3</td>\n",
       "      <td>4.7</td>\n",
       "      <td>3.2</td>\n",
       "      <td>1.3</td>\n",
       "      <td>0.2</td>\n",
       "      <td>Iris-setosa</td>\n",
       "    </tr>\n",
       "    <tr>\n",
       "      <th>3</th>\n",
       "      <td>4</td>\n",
       "      <td>4.6</td>\n",
       "      <td>3.1</td>\n",
       "      <td>1.5</td>\n",
       "      <td>0.2</td>\n",
       "      <td>Iris-setosa</td>\n",
       "    </tr>\n",
       "    <tr>\n",
       "      <th>4</th>\n",
       "      <td>5</td>\n",
       "      <td>5.0</td>\n",
       "      <td>3.6</td>\n",
       "      <td>1.4</td>\n",
       "      <td>0.2</td>\n",
       "      <td>Iris-setosa</td>\n",
       "    </tr>\n",
       "  </tbody>\n",
       "</table>\n",
       "</div>"
      ],
      "text/plain": [
       "   Id  SepalLengthCm  SepalWidthCm  PetalLengthCm  PetalWidthCm      Species\n",
       "0   1            5.1           3.5            1.4           0.2  Iris-setosa\n",
       "1   2            4.9           3.0            1.4           0.2  Iris-setosa\n",
       "2   3            4.7           3.2            1.3           0.2  Iris-setosa\n",
       "3   4            4.6           3.1            1.5           0.2  Iris-setosa\n",
       "4   5            5.0           3.6            1.4           0.2  Iris-setosa"
      ]
     },
     "execution_count": 2,
     "metadata": {},
     "output_type": "execute_result"
    }
   ],
   "source": [
    "df = pd.read_csv(\"iris.csv\")\n",
    "df.head()"
   ]
  },
  {
   "cell_type": "code",
   "execution_count": 3,
   "id": "3bc7494d",
   "metadata": {},
   "outputs": [],
   "source": [
    "df = df.drop('Id', 1)"
   ]
  },
  {
   "cell_type": "code",
   "execution_count": 4,
   "id": "7f598401",
   "metadata": {},
   "outputs": [],
   "source": [
    "df = df.set_axis([\"sepal length\", \"sepal width\", \"petal length\", \"petal width\", \"Class\"],axis=1)"
   ]
  },
  {
   "cell_type": "code",
   "execution_count": 5,
   "id": "7bf975bf",
   "metadata": {},
   "outputs": [
    {
     "name": "stdout",
     "output_type": "stream",
     "text": [
      "<class 'pandas.core.frame.DataFrame'>\n",
      "RangeIndex: 150 entries, 0 to 149\n",
      "Data columns (total 5 columns):\n",
      " #   Column        Non-Null Count  Dtype  \n",
      "---  ------        --------------  -----  \n",
      " 0   sepal length  150 non-null    float64\n",
      " 1   sepal width   150 non-null    float64\n",
      " 2   petal length  150 non-null    float64\n",
      " 3   petal width   150 non-null    float64\n",
      " 4   Class         150 non-null    object \n",
      "dtypes: float64(4), object(1)\n",
      "memory usage: 6.0+ KB\n"
     ]
    }
   ],
   "source": [
    "df.info()"
   ]
  },
  {
   "cell_type": "code",
   "execution_count": 6,
   "id": "e5100d08",
   "metadata": {},
   "outputs": [],
   "source": [
    "le = LabelEncoder()\n",
    "df[\"Class\"] = le.fit_transform(df[\"Class\"])"
   ]
  },
  {
   "cell_type": "code",
   "execution_count": 7,
   "id": "237aac6b",
   "metadata": {},
   "outputs": [],
   "source": [
    "X = df.iloc[:,:-1].values\n",
    "y = df.iloc[:,-1].values"
   ]
  },
  {
   "cell_type": "code",
   "execution_count": 8,
   "id": "d5db81d3",
   "metadata": {},
   "outputs": [],
   "source": [
    "X_train, X_test, y_train, y_test = train_test_split(X,y,test_size=0.2,random_state=0)"
   ]
  },
  {
   "cell_type": "markdown",
   "id": "591f10c4",
   "metadata": {},
   "source": [
    "# Function to evaluate different models"
   ]
  },
  {
   "cell_type": "code",
   "execution_count": 9,
   "id": "6b56c609",
   "metadata": {},
   "outputs": [],
   "source": [
    "def Classifier_function(model, X_train, y_train,X_test,y_test, title):  # function takes the name of the \n",
    "                                                               # model used, the x and y traning and testing sets.\n",
    "  model.fit(X_train, y_train)  # Building the k-nearest neighbors classification model.\n",
    "\n",
    "  y_test_p = model.predict(X_test)  # Predicted results.\n",
    "  print(\"  results\\npred-Actual\")  # printing predicted and real values.\n",
    "  print(np.concatenate((y_test_p.reshape(len(y_test_p),1),y_test.reshape(len(y_test),1)),1))  # Predicted results and \n",
    "                                                                                       #  real results in a np array.\n",
    "   \n",
    "\n",
    "  train_accuracy = round(model.score(X_train,y_train),2) * 100  # Getting traing accuracy multipling it by 100 after \n",
    "                                                                # rounding it by 2 to get a score between 0 to 100\n",
    "  test_accuracy = round(model.score(X_test,y_test),2) * 100  # Getting testing accuracy multipling it by 100 after \n",
    "                                                                # rounding it by 2 to get a score between 0 to 100\n",
    "\n",
    "  print(\"Model train accuracy: \", train_accuracy, \"%\")  # printing the model accurcy. \n",
    "  print(\"Model test accuracy: \", test_accuracy, \"%\")  # printing the model accurcy. \n",
    "\n",
    "\n",
    "  print(\"\\n\\n\")  # printing a new line.\n",
    "  # getting Accuracy or recall or precision or specificity\n",
    "  y_test_pred = model.predict(X_test)  # predicted results\n",
    "  \n",
    "  cReport = classification_report(y_test,y_test_pred)  # creating a Classification report\n",
    "  print(cReport)  # creating a Classification report\n",
    "  \n",
    "  cm = confusion_matrix(y_test, y_test_p)  # creating the confusion matrix\n",
    "  cm2 = multilabel_confusion_matrix(y_test, y_test_pred)  # creating a mutable confusion matrix\n",
    "\n",
    "\n",
    "  precision, recall, f1_score, support = precision_recall_fscore_support(y_test, y_test_pred)  # getting the precision,\n",
    "                                                                                          # recall and f1score for later use.\n",
    "  accuracy  = round(np.trace(cm) / float(np.sum(cm)), 2) * 100  # getting aaccuracy and multipling it by 100 after \n",
    "                                                                # rounding it by 2 to get a score between 0 to 100.\n",
    "  precision = round(np.mean(precision),2) * 100  # multipling precision variables mean by 100 after rounding it by\n",
    "                                                #  2 to get a score between 0 to 100.\n",
    "  recall = round(np.mean(recall),2) * 100  # multipling recall variables mean by 100 after rounding it by 2 to \n",
    "                                           # get a score between 0 to 100.\n",
    "  f1_score = round(np.mean(f1_score),2) * 100  # multipling f1_score variables mean by 100 after rounding \n",
    "                                               # it by 2 to get a score between 0 to 100.\n",
    "\n",
    "  lable_list = []  # creating a empty list\n",
    "\n",
    "  for i in range(len(cm)):  # looping in the range of the length of the confusion matrix.\n",
    "    for j in range(len(cm)):  # looping in the range of the length of the confusion matrix.\n",
    "        if j == i:  # if the value of j is equal to the value of i.\n",
    "            # the below code appends the Actual Values Classified correctly to the variable lable_list.\n",
    "            lable_list.append(\"Actual \"+ str(i) +\"\\n\" + \"calssified as \"+ str(j) +\"\\n\" + str(cm[i][j]) + \"\\n\"+ \\\n",
    "                              str(round(cm[i][j]/np.sum(cm),2)) + \" %\")\n",
    "\n",
    "        else:   # otherwise\n",
    "            #  the below function appends the actual values classified wrongly to the variable lable list.\n",
    "            lable_list.append(\"Actual \"+ str(i) +\"\\n\" + \"calssified as \"+ str(j) + \"\\n\"  + str(cm[i][j]) + \"\\n\"+ \\\n",
    "                              str(round(cm[i][j]/np.sum(cm),2)) + \" %\")\n",
    "\n",
    "            \n",
    "  lable_list = np.asarray(lable_list).reshape(len(cm),len(cm))  # resahping the label list as a numpy array to be \n",
    "                                                                # used in plotting the confusion matrix\n",
    "  \n",
    "  #  the variable function will be will be used to display the results of the evaluation to the confusion matrix.\n",
    "  total_score = (\"Accuracy:   \" + str(accuracy) +\" %\" + \"\\nPrecison:    \"  + str(precision)  +\" %\" + \"\\nRecall:        \" +\\\n",
    "                 str(recall)  +\" %\" + \"\\nF1 score:    \"  + str(f1_score) +\" %\") \n",
    "\n",
    "\n",
    "  # Below is the code used to plot the confusion matrix.\n",
    "  plt.figure(figsize = (12,9))  # sets the size of the matrix\n",
    "  disp = sns.heatmap(cm, annot=lable_list, fmt='', cmap='Blues')  # displays the results of the actual values \n",
    "                                                                 #  classified wrongly and correctly.                       \n",
    "  disp.plot()  # displaying data in plot\n",
    "  plt.title(title, fontsize=25)  # adding a title to plot\n",
    "  plt.ylabel('True label', fontsize=20)  # adding a y axis to the plot.\n",
    "  plt.xlabel('Predicted label' +\"\\n\\nScores\\n\" +total_score, fontsize=20)  # adding a x axis to the plot\n",
    "  plt.show()  # showing the plot\n",
    "    \n",
    "  result_list = train_accuracy,test_accuracy , precision, recall, f1_score  # returning the results\n",
    "\n",
    "  \n",
    "\n",
    "  return result_list  # returns the results from the model."
   ]
  },
  {
   "cell_type": "markdown",
   "id": "cd108d77",
   "metadata": {},
   "source": [
    "# Feature Scaling and testing function"
   ]
  },
  {
   "cell_type": "code",
   "execution_count": 10,
   "id": "a6542b88",
   "metadata": {},
   "outputs": [],
   "source": [
    "def featurescaling(Scaler, X_train, X_test, y_train, y_test, Modelandprams ,Modelname):\n",
    "    \n",
    "    sucidedataframe.info()  # checking Basic information on the dataframe being procesed.\n",
    "    \n",
    "    sc = Scaler # creating an instance of the object.\n",
    "    \n",
    "    print(\"Before scaling:\\nX_test \", X_test,\"\\n\\nX_train \", X_train)  # printing the sets before feature scaling.\n",
    "\n",
    "    X_train[:, 55:] = sc.fit_transform(X_train[:, 55:])  # Scaling x_train\n",
    "    X_test[:,55:] = sc.transform(X_test[:, 55:])  # Scaling y_train\n",
    "    \n",
    "    print(\"After scaling:\\nX_test \", X_test,\"\\n\\nX_train \", X_train)  # printing the sets after feature scaling.\n",
    "    print(\"\\nThe result of the model\")  \n",
    "    Classifier_function(Modelandprams , X_train, y_train,X_test, y_test, Modelname)  \n",
    "    # Performs traing, testing prediction.\n",
    "    # performs precision, recall, f1-score and support prediction\n",
    "    # plots a confusion matrix\n",
    "    # returns the traing, testing, precision, recall, f1-score"
   ]
  },
  {
   "cell_type": "markdown",
   "id": "dabca637",
   "metadata": {},
   "source": [
    "# Function to preform Grid Search"
   ]
  },
  {
   "cell_type": "code",
   "execution_count": 11,
   "id": "cef53cbf",
   "metadata": {},
   "outputs": [],
   "source": [
    "def Grid_search_fun(X, y):  # Function takes in X and y values hyperparameters.to perform grid search.\n",
    "\n",
    "    # Grid Search\n",
    "    max_depth_list =  [2, 3, 4, 5, 6, 8, 10, 11, 12]  # the depth the tree is allowed to grow.\n",
    "    # used for regularization subsample, colsample_bylevel and colsample_bytree. If they are reduced more \n",
    "    # regularization effect can be achieved. Increasing them over fits the model.\n",
    "    subsample_list = [0.1, 0.5, 0.25, 0.75, 0.99]  # how much percentage of data is taken.\n",
    "    #colsample_bylevel_list = np.round(np.arange(0.1,1.0,0.01)) # by levels considring data percentages of features.\n",
    "    colsample_bytree_list = [0.1, 0.5, 0.25, 0.75, 0.99]  # the fraction of columns to be randomly samples for each tree\n",
    "    min_child_weight_list = [1,3,5,7] # stops trying to split once the sample size in a node goes \n",
    "                                                 # below a given threshold\n",
    "    #  increasing  reg_alpha or reg_lambda regulizes the model or generilizes the model                           \n",
    "    #reg_alpha_list = [0, 0.001, 0.005, 0.01, 0.05, 1]  # This is used to handle the regularization part of XGBoost.\n",
    "    #reg_lambda_list = [0, 0.001, 0.005, 0.01, 0.05, 1]  # It can be used in case of very high dimensionality \n",
    "                                               # so that the algorithm runs faster when implemented.\n",
    "    n_estimators_list =  [10,50,100,200] # gradiant booting algorythm each tree is bosting the next one.\n",
    "    learning_rate_list = [0.05, 0.1, 0.15, 0.2, 0.25, 0.3]  # takes prcentage of residules and adds it back \n",
    "                                                # to the previous boosting tree.\n",
    "                                 \n",
    "\n",
    "    para_grid = dict(max_depth=max_depth_list, subsample=subsample_list,\\\n",
    "                   colsample_bytree=colsample_bytree_list, min_child_weight = min_child_weight_list, \\\n",
    "                    n_estimators = n_estimators_list,\\\n",
    "                   learning_rate = learning_rate_list )  # adding the above lists in a dictinary.\n",
    "\n",
    "\n",
    "\n",
    "\n",
    "\n",
    "    model = XGBClassifier()  # creating an instance of the object.\n",
    "    parameters = [para_grid]  # hyper parameters for the grid search\n",
    "    grid_search = GridSearchCV(estimator = model,  # model\n",
    "                           param_grid = parameters,  # hyper paramaters \n",
    "                           scoring = 'accuracy',  # score measurement\n",
    "                           cv = 5, # number of cross validations \n",
    "                           n_jobs = -1, return_train_score=False)  # selecting all possible paramaters to go \n",
    "    # through to get the best model possible # train score is false as it can be computationaly expensive. without \n",
    "    # storing the traning score the grd search is fater\n",
    "    grid_search.fit(X, y)  # applying the search on our model.\n",
    "    #print(pd.DataFrame(grid_search.cv_results_)[[\"mean_test_score\",\"params\"]])\n",
    "    print(pd.DataFrame(grid_search.cv_results_)) # to print the whole result\n",
    "\n",
    "    best_accuracy = grid_search.best_score_  # the best accuracy \n",
    "    best_parameters = grid_search.best_params_  # the best paramaters that gave the best accurecy\n",
    "    print(\"Best Accuracy: {:.2f} %\".format(best_accuracy*100))  # printing best accuracy\n",
    "    print(\"Best Parameters:\", best_parameters)  # printing the best parameters"
   ]
  },
  {
   "cell_type": "markdown",
   "id": "b3631c12",
   "metadata": {},
   "source": [
    "# sub function to preform Random Search"
   ]
  },
  {
   "cell_type": "code",
   "execution_count": 12,
   "id": "83f39d04",
   "metadata": {},
   "outputs": [],
   "source": [
    "def rand_search_fun(typeofmodelandprams, dict_prams,crossval, X, y):  # Function takes in the model type, number \n",
    "                                                             # of crossvalidation sand X and y values as hyperparameters.\n",
    "\n",
    "    model = typeofmodelandprams  # creating an instance of the object.\n",
    "    parameters = [dict_prams]  # hyper parameters for the random search \n",
    "    rand_search = RandomizedSearchCV(\n",
    "                           model,\n",
    "        #estimator = model,  # model\n",
    "                           #param_distributions = parameters,  # hyper paramaters \n",
    "                           parameters,\n",
    "                           scoring = 'accuracy',  # score measurement\n",
    "                           cv = crossval, # number of cross validations \n",
    "                           n_jobs = -1, # selecting all possible paramaters to go through to get the best model possible \n",
    "                           return_train_score=False, # train score is false as it can be computationaly expensive. \n",
    "                                                      # without storing the traning score the grd search is fater\n",
    "                           n_iter=10,  # setting the number of iterations\n",
    "                           random_state=5)  \n",
    "    rand_search.fit(X, y)  # applying the search on our model.\n",
    "    #print(pd.DataFrame(rand_search.cv_results_)[[\"mean_test_score\",\"params\"]])\n",
    "    print(pd.DataFrame(rand_search.cv_results_)) # to print the whole result\n",
    "\n",
    "    best_accuracy = rand_search.best_score_  # the best accuracy \n",
    "    best_parameters = rand_search.best_params_  # the best paramaters that gave the best accurecy\n",
    "    print(\"Best Accuracy: {:.2f} %\".format(best_accuracy*100))  # printing best accuracy\n",
    "    print(\"Best Parameters:\", best_parameters)  # printing the best parameters\n",
    "\n",
    "\n",
    "\n",
    "    return rand_search  # return random search value."
   ]
  },
  {
   "cell_type": "markdown",
   "id": "d21ea2bf",
   "metadata": {},
   "source": [
    "# Performs full Random Search on SVM model"
   ]
  },
  {
   "cell_type": "code",
   "execution_count": 22,
   "id": "1c3dd813",
   "metadata": {},
   "outputs": [],
   "source": [
    "def XGBoost_full_rand_search(X, y):  # performs randomized search\n",
    "\n",
    "    # Random search \n",
    "\n",
    "    max_depth_list =  [2, 3, 4, 5, 6, 8, 10, 11, 12]  # the depth the tree is allowed to grow.\n",
    "    min_child_weight_list = [1,3,5,7] # stops trying to split once the sample size in a node goes \n",
    "                                                 # below a given threshold\n",
    "    # increasing  reg_alpha or reg_lambda regulizes the model or generilizes the model                           \n",
    "    # reg_alpha_list = [0, 0.001, 0.005, 0.01, 0.05, 1]  # This is used to handle the regularization part of XGBoost.\n",
    "    # reg_lambda_list = [0, 0.001, 0.005, 0.01, 0.05, 1]  # It can be used in case of very high dimensionality \n",
    "                                               # so that the algorithm runs faster when implemented.\n",
    "    n_estimators_list =  [10,50,100,200] # gradiant booting algorythm each tree is bosting the next one.\n",
    "    learning_rate_list = [0.05, 0.1, 0.15, 0.2, 0.25, 0.3]  # takes prcentage of residules and adds it back \n",
    "                                                # to the previous boosting tree.\n",
    "                                 \n",
    "\n",
    "    para_rand = dict(max_depth=max_depth_list,min_child_weight = min_child_weight_list, \\\n",
    "                    n_estimators = n_estimators_list,\\\n",
    "                   learning_rate = learning_rate_list )  # adding the above lists in a dictinary.\n",
    "\n",
    "\n",
    "    rand_search = rand_search_fun(XGBClassifier(), para_rand, 5, X, y)  # Using the ranmomized search gunction with\n",
    "    \n",
    "    \n",
    "    max_depth_list =  [2, 3, 4, 5, 6, 8, 10, 11, 12]  # the depth the tree is allowed to grow.\n",
    "    # used for regularization subsample, colsample_bylevel and colsample_bytree. If they are reduced more \n",
    "    # regularization effect can be achieved. Increasing them over fits the model.\n",
    "    subsample_list = [0.1, 0.5, 0.25, 0.75, 0.99]  # how much percentage of data is taken.\n",
    "    # colsample_bylevel_list = np.round(np.arange(0.1,1.0,0.01)) # by levels considring data percentages of features.\n",
    "    colsample_bytree_list = [0.1, 0.5, 0.25, 0.75, 0.99]\n",
    "    # the fraction of columns to be randomly samples for each tree\n",
    "\n",
    "                                 \n",
    "\n",
    "    para_rand = dict(max_depth=max_depth_list, subsample=subsample_list, \\\n",
    "                   colsample_bytree=colsample_bytree_list)  # adding the above lists in a dictinary.\n",
    "\n",
    "\n",
    "    rand_search = rand_search_fun(XGBClassifier(), para_rand, 5, X, y)  # Using the ranmomized search gunction with\n",
    "    \n",
    "    \n",
    "    max_depth_list =  [2, 3, 4, 5, 6, 8, 10, 11, 12]  # the depth the tree is allowed to grow.\n",
    "    # used for regularization subsample, colsample_bylevel and colsample_bytree. If they are reduced more \n",
    "    # regularization effect can be achieved. Increasing them over fits the model.\n",
    "    subsample_list = [0.1, 0.5, 0.25, 0.75, 0.99]  # how much percentage of data is taken.\n",
    "    # colsample_bylevel_list = np.round(np.arange(0.1,1.0,0.01)) # by levels considring data percentages of features.\n",
    "    colsample_bytree_list = [0.1, 0.5, 0.25, 0.75, 0.99]\n",
    "    # the fraction of columns to be randomly samples for each tree\n",
    "    min_child_weight_list = [1,3,5,7] # stops trying to split once the sample size in a node goes \n",
    "                                                 # below a given threshold\n",
    "    # increasing  reg_alpha or reg_lambda regulizes the model or generilizes the model                           \n",
    "    # reg_alpha_list = [0, 0.001, 0.005, 0.01, 0.05, 1]  # This is used to handle the regularization part of XGBoost.\n",
    "    # reg_lambda_list = [0, 0.001, 0.005, 0.01, 0.05, 1]  # It can be used in case of very high dimensionality \n",
    "                                               # so that the algorithm runs faster when implemented.\n",
    "    n_estimators_list =  [10,50,100,200] # gradiant booting algorythm each tree is bosting the next one.\n",
    "    learning_rate_list = [0.05, 0.1, 0.15, 0.2, 0.25, 0.3]  # takes prcentage of residules and adds it back \n",
    "                                                # to the previous boosting tree.\n",
    "                                 \n",
    "\n",
    "    para_rand = dict(max_depth=max_depth_list, subsample=subsample_list, \\\n",
    "                   colsample_bytree=colsample_bytree_list, min_child_weight = min_child_weight_list, \\\n",
    "                    n_estimators = n_estimators_list,\\\n",
    "                   learning_rate = learning_rate_list )  # adding the above lists in a dictinary.\n",
    "\n",
    "\n",
    "    rand_search = rand_search_fun(XGBClassifier(), para_rand, 5, X, y)  # Using the ranmomized search gunction with"
   ]
  },
  {
   "cell_type": "markdown",
   "id": "fb617071",
   "metadata": {},
   "source": [
    "## k-fold cross-validation Graph"
   ]
  },
  {
   "cell_type": "code",
   "execution_count": 44,
   "id": "13465e59",
   "metadata": {},
   "outputs": [],
   "source": [
    "def xgboost_subplot(list_for_plot, ave_scores, hyper_pram_to_use_name):\n",
    "    \n",
    "    print(\"ave \" + hyper_pram_to_use_name + \" scores\", ave_scores)  # printing the average score of the model\n",
    "    \n",
    "    plt.figure()\n",
    "    plt.title(\"Best \" + hyper_pram_to_use_name + \" Selection\",fontsize=18)  # Displays plot title\n",
    "    plt.plot(list_for_plot, ave_scores)  # Displays description of the plots x and y labels.\n",
    "    plt.xlabel(hyper_pram_to_use_name +\" values\")  # Displays the x axis for the plot\n",
    "    plt.ylabel(\"Average CV model accuracy\")  # Displays the y axis for the plot\n",
    "    plt.legend([hyper_pram_to_use_name], loc=\"lower right\")  # adds a legend to the plot.\n",
    "    plt.grid()  # adds a gird to the plot\n",
    "    "
   ]
  },
  {
   "cell_type": "code",
   "execution_count": 49,
   "id": "3bd9b6dc",
   "metadata": {},
   "outputs": [],
   "source": [
    "def xgboost_plot_Values(X,y):  # Values required for plotting\n",
    "    \n",
    "    learning_rate_list = [0.05, 0.1, 0.15, 0.2, 0.25, 0.3]  # takes prcentage of residules and adds it back \n",
    "                                               # to the previous boosting tree.\n",
    "    ave_scores = []  # Creating a empty list\n",
    "    max_depth_list =  [2, 3, 4, 5, 6, 8, 10, 11, 12]  # the depth the tree is allowed to grow.\n",
    "    # used for regularization subsample, colsample_bylevel and colsample_bytree. If they are reduced more \n",
    "    # regularization effect can be achieved. Increasing them over fits the model.\n",
    "    for l in max_depth_list:  # looping through each value in the list variable\n",
    "        model =  XGBClassifier(max_depth=l)  # creating an instance of a class.\n",
    "        scores = cross_val_score(model,X,y,cv=5,scoring=\"accuracy\")  # Getting the results of the model.\n",
    "        ave_scores.append(round(scores.mean(),3))  # getting the average score from the model and appending \n",
    "                                                                               # it to the ave_scores list.\n",
    "    xgboost_subplot(max_depth_list, ave_scores ,\"max_depth\")\n",
    "    \n",
    "\n",
    "    ave_scores = []  # Creating a empty list\n",
    "    subsample_list = [0.1, 0.5, 0.25, 0.75, 0.99]  # how much percentage of data is taken.\n",
    "    # colsample_bylevel_list = np.round(np.arange(0.1,1.0,0.01)) # by levels considring data percentages of features.\n",
    "    for l in subsample_list:  # looping through each value in the list variable\n",
    "        model =  XGBClassifier(subsample=l)  # creating an instance of a class.\n",
    "        scores = cross_val_score(model,X,y,cv=5,scoring=\"accuracy\")  # Getting the results of the model.\n",
    "        ave_scores.append(round(scores.mean(),3))  # getting the average score from the model and appending \n",
    "                                                                               # it to the ave_scores list.\n",
    "    xgboost_subplot(subsample_list, ave_scores, \"subsample\")\n",
    "    \n",
    "    \n",
    "\n",
    "    ave_scores = []  # Creating a empty list\n",
    "    colsample_bytree_list = [0.1, 0.5, 0.25, 0.75, 0.99]   # the fraction of columns to be randomly samples for each tree\n",
    "    # colsample_bylevel_list = np.round(np.arange(0.1,1.0,0.01)) # by levels considring data percentages of features.\n",
    "    for l in colsample_bytree_list:  # looping through each value in the list variable\n",
    "        model =  XGBClassifier(colsample_bytree=l)  # creating an instance of a class.\n",
    "        scores = cross_val_score(model,X,y,cv=5,scoring=\"accuracy\")  # Getting the results of the model.\n",
    "        ave_scores.append(round(scores.mean(),3))  # getting the average score from the model and appending \n",
    "                                                                               # it to the ave_scores list.\n",
    "    xgboost_subplot(colsample_bytree_list, ave_scores, \"colsample\")\n",
    "    \n",
    "    \n",
    "    \n",
    "    \n",
    "    ave_scores = []  # Creating a empty list   \n",
    "    min_child_weight_list = [1,3,5,7] # stops trying to split once the sample size in a node goes \n",
    "                                      # below a given threshold\n",
    "    for l in min_child_weight_list:  # looping through each value in the list variable\n",
    "        model =  XGBClassifier(min_child_weight=l)  # creating an instance of a class.\n",
    "        scores = cross_val_score(model,X,y,cv=5,scoring=\"accuracy\")  # Getting the results of the model.\n",
    "        ave_scores.append(round(scores.mean(),3))  # getting the average score from the model and appending \n",
    "                                                                               # it to the ave_scores list.   \n",
    "    xgboost_subplot(min_child_weight_list, ave_scores, \"min_child_weight\")\n",
    "    \n",
    "    \n",
    "\n",
    "    \n",
    "    ave_scores = []  # Creating a empty list   \n",
    "    n_estimators_list =  [10,50,100,200] # gradiant booting algorythm each tree is bosting the next one.\n",
    "    for l in min_child_weight_list:  # looping through each value in the list variable\n",
    "        model =  XGBClassifier(n_estimators=l)  # creating an instance of a class.\n",
    "        scores = cross_val_score(model,X,y,cv=5,scoring=\"accuracy\")  # Getting the results of the model.\n",
    "        ave_scores.append(round(scores.mean(),3))  # getting the average score from the model and appending \n",
    "                                                                               # it to the ave_scores list.   \n",
    "    xgboost_subplot(n_estimators_list, ave_scores, \"n_estimators_list\")\n",
    "    \n",
    "    \n",
    "    \n",
    "    ave_scores = []  # Creating a empty list   \n",
    "    learning_rate_list = [0.05, 0.1, 0.15, 0.2, 0.25, 0.3]  # takes prcentage of residules and adds it back \n",
    "                                                            # to the previous boosting tree.\n",
    "    for l in learning_rate_list:  # looping through each value in the list variable\n",
    "        model =  XGBClassifier(learning_rate=l)  # creating an instance of a class.\n",
    "        scores = cross_val_score(model,X,y,cv=5,scoring=\"accuracy\")  # Getting the results of the model.\n",
    "        ave_scores.append(round(scores.mean(),3))  # getting the average score from the model and appending \n",
    "                                                                               # it to the ave_scores list.       \n",
    "    \n",
    "    xgboost_subplot(learning_rate_list, ave_scores, \"learning_rate\")\n",
    "    \n",
    "    \n",
    "    \n",
    "\n",
    "    ave_scores = []  # Creating a empty list   \n",
    "    reg_alpha_list = [0, 0.001, 0.005, 0.01, 0.05, 1]  # This is used to handle the regularization part of XGBoost.\n",
    "    for l in reg_alpha_list:  # looping through each value in the list variable\n",
    "        model =  XGBClassifier(reg_alpha=l)  # creating an instance of a class.\n",
    "        scores = cross_val_score(model,X,y,cv=5,scoring=\"accuracy\")  # Getting the results of the model.\n",
    "        ave_scores.append(round(scores.mean(),3))  # getting the average score from the model and appending \n",
    "                                                                               # it to the ave_scores list.       \n",
    "    \n",
    "    xgboost_subplot(reg_alpha_list, ave_scores, \"reg_alpha\")    \n",
    "    \n",
    "\n",
    "    \n",
    "    ave_scores = []  # Creating a empty list   \n",
    "    reg_lambda_list = [0, 0.001, 0.005, 0.01, 0.05, 1]  # It can be used in case of very high dimensionality \n",
    "                                               # so that the algorithm runs faster when implemented.\n",
    "    for l in reg_lambda_list:  # looping through each value in the list variable\n",
    "        model =  XGBClassifier(reg_lambda=l)  # creating an instance of a class.\n",
    "        scores = cross_val_score(model,X,y,cv=5,scoring=\"accuracy\")  # Getting the results of the model.\n",
    "        ave_scores.append(round(scores.mean(),3))  # getting the average score from the model and appending \n",
    "                                                                               # it to the ave_scores list.       \n",
    "    \n",
    "    xgboost_subplot(reg_lambda_list, ave_scores, \"reg_lambda\")    \n"
   ]
  },
  {
   "cell_type": "markdown",
   "id": "03e5389e",
   "metadata": {},
   "source": [
    "## k-fold cross-validation"
   ]
  },
  {
   "cell_type": "code",
   "execution_count": 15,
   "id": "2c2694a8",
   "metadata": {},
   "outputs": [],
   "source": [
    "def crossvalscore(model, X, y, cv_val):  # function to perform cross validation with model X, y and cv_val as parameters\n",
    "    score = cross_val_score(estimator = model, X = X, y = y, cv = cv_val)   # performs different tests to get best accurecy.\n",
    "    print(\"Accuracy: {:.2f} %\".format(score.mean()*100))  # accuracy printed.\n",
    "    print(\"Standard Deviation: {:.2f} %\".format(score.std()*100))  # standard deveation printed (std -avarage or std+ avarage )\n",
    "    return (\"Accuracy: {:.2f} %\".format(score.mean()*100))  # Accuracy is returned."
   ]
  },
  {
   "cell_type": "markdown",
   "id": "328d7ee1",
   "metadata": {},
   "source": [
    "# X and y un_edited"
   ]
  },
  {
   "cell_type": "markdown",
   "id": "218d43b7",
   "metadata": {},
   "source": [
    "## Plotting the SVM with a average Cross-val score"
   ]
  },
  {
   "cell_type": "code",
   "execution_count": 52,
   "id": "1c10c500",
   "metadata": {},
   "outputs": [
    {
     "name": "stdout",
     "output_type": "stream",
     "text": [
      "ave max_depth scores [0.96, 0.96, 0.96, 0.96, 0.96, 0.96, 0.96, 0.96, 0.96]\n",
      "ave subsample scores [0.92, 0.96, 0.96, 0.96, 0.96]\n",
      "ave colsample scores [0.96, 0.96, 0.96, 0.96, 0.96]\n",
      "ave min_child_weight scores [0.96, 0.947, 0.953, 0.947]\n",
      "ave n_estimators_list scores [0.953, 0.967, 0.953, 0.953]\n",
      "ave learning_rate scores [0.96, 0.96, 0.96, 0.96, 0.96, 0.96]\n",
      "ave reg_alpha scores [0.96, 0.96, 0.96, 0.96, 0.96, 0.967]\n",
      "ave reg_lambda scores [0.96, 0.96, 0.96, 0.96, 0.96, 0.96]\n"
     ]
    },
    {
     "data": {
      "image/png": "[encoded data removed]",
      "text/plain": [
       "<Figure size 432x288 with 1 Axes>"
      ]
     },
     "metadata": {
      "needs_background": "light"
     },
     "output_type": "display_data"
    },
    {
     "data": {
      "image/png": "[encoded data removed]",
      "text/plain": [
       "<Figure size 432x288 with 1 Axes>"
      ]
     },
     "metadata": {
      "needs_background": "light"
     },
     "output_type": "display_data"
    },
    {
     "data": {
      "image/png": "[encoded data removed]",
      "text/plain": [
       "<Figure size 432x288 with 1 Axes>"
      ]
     },
     "metadata": {
      "needs_background": "light"
     },
     "output_type": "display_data"
    },
    {
     "data": {
      "image/png": "[encoded data removed]",
      "text/plain": [
       "<Figure size 432x288 with 1 Axes>"
      ]
     },
     "metadata": {
      "needs_background": "light"
     },
     "output_type": "display_data"
    },
    {
     "data": {
      "image/png": "[encoded data removed]",
      "text/plain": [
       "<Figure size 432x288 with 1 Axes>"
      ]
     },
     "metadata": {
      "needs_background": "light"
     },
     "output_type": "display_data"
    },
    {
     "data": {
      "image/png": "[encoded data removed]",
      "text/plain": [
       "<Figure size 432x288 with 1 Axes>"
      ]
     },
     "metadata": {
      "needs_background": "light"
     },
     "output_type": "display_data"
    },
    {
     "data": {
      "image/png": "[encoded data removed]",
      "text/plain": [
       "<Figure size 432x288 with 1 Axes>"
      ]
     },
     "metadata": {
      "needs_background": "light"
     },
     "output_type": "display_data"
    },
    {
     "data": {
      "image/png": "[encoded data removed]",
      "text/plain": [
       "<Figure size 432x288 with 1 Axes>"
      ]
     },
     "metadata": {
      "needs_background": "light"
     },
     "output_type": "display_data"
    }
   ],
   "source": [
    "xgboost_plot_Values(X,y)  # PLots KNN Cross Val score"
   ]
  },
  {
   "cell_type": "markdown",
   "id": "c7709ecd",
   "metadata": {},
   "source": [
    "## Cross Validation"
   ]
  },
  {
   "cell_type": "code",
   "execution_count": 51,
   "id": "39b90cfb",
   "metadata": {},
   "outputs": [
    {
     "name": "stdout",
     "output_type": "stream",
     "text": [
      "Accuracy: 96.00 %\n",
      "Standard Deviation: 2.49 %\n"
     ]
    },
    {
     "data": {
      "text/plain": [
       "'Accuracy: 96.00 %'"
      ]
     },
     "execution_count": 51,
     "metadata": {},
     "output_type": "execute_result"
    }
   ],
   "source": [
    "crossvalscore(XGBClassifier(verbosity = 0), X, y, 5)  # Performs cross validation."
   ]
  },
  {
   "cell_type": "markdown",
   "id": "afe7aa13",
   "metadata": {},
   "source": [
    "## Grid Search"
   ]
  },
  {
   "cell_type": "code",
   "execution_count": null,
   "id": "db2b01ce",
   "metadata": {
    "scrolled": false
   },
   "outputs": [],
   "source": [
    "Grid_search_fun(X, y)  # performs grid search."
   ]
  },
  {
   "cell_type": "markdown",
   "id": "3685b6c3",
   "metadata": {},
   "source": [
    "## Random search "
   ]
  },
  {
   "cell_type": "code",
   "execution_count": 23,
   "id": "e61f685d",
   "metadata": {
    "scrolled": false
   },
   "outputs": [
    {
     "name": "stdout",
     "output_type": "stream",
     "text": [
      "[16:18:40] WARNING: C:/Users/Administrator/workspace/xgboost-win64_release_1.4.0/src/learner.cc:1095: Starting in XGBoost 1.3.0, the default evaluation metric used with the objective 'multi:softprob' was changed from 'merror' to 'mlogloss'. Explicitly set eval_metric if you'd like to restore the old behavior.\n",
      "   mean_fit_time  std_fit_time  mean_score_time  std_score_time  \\\n",
      "0       0.511044      0.104441         0.010585        0.008920   \n",
      "1       0.434654      0.029708         0.009373        0.007653   \n",
      "2       0.292860      0.011584         0.012497        0.006249   \n",
      "3       0.062501      0.009885         0.009375        0.007655   \n",
      "4       0.193753      0.021198         0.018746        0.006248   \n",
      "5       0.259375      0.018750         0.015627        0.009881   \n",
      "6       0.300001      0.015310         0.009376        0.007656   \n",
      "7       0.050000      0.006248         0.012498        0.006249   \n",
      "8       0.125001      0.009880         0.012498        0.006249   \n",
      "9       0.221879      0.015316         0.006250        0.007654   \n",
      "\n",
      "  param_n_estimators param_min_child_weight param_max_depth  \\\n",
      "0                200                      1               4   \n",
      "1                200                      7              11   \n",
      "2                100                      3               6   \n",
      "3                 10                      1               4   \n",
      "4                 50                      1               8   \n",
      "5                100                      3               5   \n",
      "6                100                      5              12   \n",
      "7                 10                      3               3   \n",
      "8                 50                      3              12   \n",
      "9                100                      1              11   \n",
      "\n",
      "  param_learning_rate                                             params  \\\n",
      "0                 0.1  {'n_estimators': 200, 'min_child_weight': 1, '...   \n",
      "1                0.25  {'n_estimators': 200, 'min_child_weight': 7, '...   \n",
      "2                 0.2  {'n_estimators': 100, 'min_child_weight': 3, '...   \n",
      "3                 0.1  {'n_estimators': 10, 'min_child_weight': 1, 'm...   \n",
      "4                0.15  {'n_estimators': 50, 'min_child_weight': 1, 'm...   \n",
      "5                0.15  {'n_estimators': 100, 'min_child_weight': 3, '...   \n",
      "6                0.05  {'n_estimators': 100, 'min_child_weight': 5, '...   \n",
      "7                 0.2  {'n_estimators': 10, 'min_child_weight': 3, 'm...   \n",
      "8                0.15  {'n_estimators': 50, 'min_child_weight': 3, 'm...   \n",
      "9                 0.2  {'n_estimators': 100, 'min_child_weight': 1, '...   \n",
      "\n",
      "   split0_test_score  split1_test_score  split2_test_score  split3_test_score  \\\n",
      "0           0.966667           0.966667           0.933333           0.933333   \n",
      "1           0.933333           0.966667           0.933333           0.900000   \n",
      "2           0.966667           0.966667           0.933333           0.866667   \n",
      "3           0.966667           0.966667           0.933333           0.900000   \n",
      "4           0.966667           0.966667           0.933333           0.933333   \n",
      "5           0.966667           0.966667           0.933333           0.900000   \n",
      "6           0.966667           0.966667           0.933333           0.900000   \n",
      "7           0.933333           0.966667           0.933333           0.900000   \n",
      "8           0.966667           0.966667           0.933333           0.866667   \n",
      "9           0.966667           0.966667           0.933333           0.933333   \n",
      "\n",
      "   split4_test_score  mean_test_score  std_test_score  rank_test_score  \n",
      "0                1.0         0.960000        0.024944                1  \n",
      "1                1.0         0.946667        0.033993                9  \n",
      "2                1.0         0.946667        0.045216                7  \n",
      "3                1.0         0.953333        0.033993                4  \n",
      "4                1.0         0.960000        0.024944                1  \n",
      "5                1.0         0.953333        0.033993                4  \n",
      "6                1.0         0.953333        0.033993                4  \n",
      "7                1.0         0.946667        0.033993                9  \n",
      "8                1.0         0.946667        0.045216                7  \n",
      "9                1.0         0.960000        0.024944                1  \n",
      "Best Accuracy: 96.00 %\n",
      "Best Parameters: {'n_estimators': 200, 'min_child_weight': 1, 'max_depth': 4, 'learning_rate': 0.1}\n",
      "[16:18:43] WARNING: C:/Users/Administrator/workspace/xgboost-win64_release_1.4.0/src/learner.cc:1095: Starting in XGBoost 1.3.0, the default evaluation metric used with the objective 'multi:softprob' was changed from 'merror' to 'mlogloss'. Explicitly set eval_metric if you'd like to restore the old behavior.\n",
      "   mean_fit_time  std_fit_time  mean_score_time  std_score_time  \\\n",
      "0       0.228720      0.017031         0.016605        0.008754   \n",
      "1       0.208138      0.040840         0.011050        0.005791   \n",
      "2       0.232038      0.052757         0.004925        0.006385   \n",
      "3       0.189738      0.013700         0.011175        0.006148   \n",
      "4       0.250107      0.017550         0.005451        0.006795   \n",
      "5       0.295407      0.031811         0.010940        0.002607   \n",
      "6       0.246569      0.019994         0.011595        0.003829   \n",
      "7       0.292723      0.063912         0.005124        0.006522   \n",
      "8       0.265503      0.042428         0.007124        0.006298   \n",
      "9       0.211159      0.010911         0.006518        0.005324   \n",
      "\n",
      "  param_subsample param_max_depth param_colsample_bytree  \\\n",
      "0             0.5              11                   0.75   \n",
      "1            0.25              10                   0.99   \n",
      "2             0.5               2                    0.5   \n",
      "3            0.25              10                   0.75   \n",
      "4             0.5               6                    0.1   \n",
      "5             0.5               3                    0.1   \n",
      "6             0.1              10                   0.99   \n",
      "7            0.99               4                   0.25   \n",
      "8            0.75               2                    0.1   \n",
      "9             0.5               5                   0.75   \n",
      "\n",
      "                                              params  split0_test_score  \\\n",
      "0  {'subsample': 0.5, 'max_depth': 11, 'colsample...           0.966667   \n",
      "1  {'subsample': 0.25, 'max_depth': 10, 'colsampl...           0.966667   \n",
      "2  {'subsample': 0.5, 'max_depth': 2, 'colsample_...           0.966667   \n",
      "3  {'subsample': 0.25, 'max_depth': 10, 'colsampl...           0.966667   \n",
      "4  {'subsample': 0.5, 'max_depth': 6, 'colsample_...           0.966667   \n",
      "5  {'subsample': 0.5, 'max_depth': 3, 'colsample_...           0.966667   \n",
      "6  {'subsample': 0.1, 'max_depth': 10, 'colsample...           0.933333   \n",
      "7  {'subsample': 0.99, 'max_depth': 4, 'colsample...           0.966667   \n",
      "8  {'subsample': 0.75, 'max_depth': 2, 'colsample...           0.966667   \n",
      "9  {'subsample': 0.5, 'max_depth': 5, 'colsample_...           0.966667   \n",
      "\n",
      "   split1_test_score  split2_test_score  split3_test_score  split4_test_score  \\\n",
      "0           0.966667           0.933333           0.966667                1.0   \n",
      "1           0.966667           0.900000           0.966667                1.0   \n",
      "2           0.966667           0.933333           0.966667                1.0   \n",
      "3           0.966667           0.900000           0.966667                1.0   \n",
      "4           0.966667           0.900000           0.933333                1.0   \n",
      "5           0.966667           0.900000           0.933333                1.0   \n",
      "6           0.966667           0.933333           0.900000                1.0   \n",
      "7           0.966667           0.900000           0.966667                1.0   \n",
      "8           0.966667           0.900000           0.966667                1.0   \n",
      "9           0.966667           0.933333           0.966667                1.0   \n",
      "\n",
      "   mean_test_score  std_test_score  rank_test_score  \n",
      "0         0.966667        0.021082                1  \n",
      "1         0.960000        0.032660                4  \n",
      "2         0.966667        0.021082                1  \n",
      "3         0.960000        0.032660                4  \n",
      "4         0.953333        0.033993                8  \n",
      "5         0.953333        0.033993                8  \n",
      "6         0.946667        0.033993               10  \n",
      "7         0.960000        0.032660                4  \n",
      "8         0.960000        0.032660                4  \n",
      "9         0.966667        0.021082                1  \n",
      "Best Accuracy: 96.67 %\n",
      "Best Parameters: {'subsample': 0.5, 'max_depth': 11, 'colsample_bytree': 0.75}\n"
     ]
    },
    {
     "name": "stdout",
     "output_type": "stream",
     "text": [
      "[16:18:46] WARNING: C:/Users/Administrator/workspace/xgboost-win64_release_1.4.0/src/learner.cc:1095: Starting in XGBoost 1.3.0, the default evaluation metric used with the objective 'multi:softprob' was changed from 'merror' to 'mlogloss'. Explicitly set eval_metric if you'd like to restore the old behavior.\n",
      "   mean_fit_time  std_fit_time  mean_score_time  std_score_time  \\\n",
      "0       0.346491      0.035353         0.020327        0.005376   \n",
      "1       0.439769      0.017832         0.011775        0.006053   \n",
      "2       0.049098      0.004781         0.008935        0.005077   \n",
      "3       0.171105      0.023155         0.006325        0.005867   \n",
      "4       0.067312      0.017112         0.009325        0.005183   \n",
      "5       0.256985      0.015435         0.011939        0.002256   \n",
      "6       0.047001      0.007025         0.011926        0.002151   \n",
      "7       0.054534      0.006993         0.009395        0.007671   \n",
      "8       0.059337      0.015292         0.025010        0.007642   \n",
      "9       0.438159      0.070092         0.015800        0.005151   \n",
      "\n",
      "  param_subsample param_n_estimators param_min_child_weight param_max_depth  \\\n",
      "0             0.1                200                      3               2   \n",
      "1            0.75                200                      7              11   \n",
      "2            0.75                 10                      7               5   \n",
      "3             0.5                 50                      1               4   \n",
      "4             0.1                 10                      1              10   \n",
      "5            0.25                100                      7               5   \n",
      "6             0.1                 10                      3               2   \n",
      "7            0.75                 10                      3               5   \n",
      "8            0.25                 10                      7              10   \n",
      "9            0.99                200                      5               5   \n",
      "\n",
      "  param_learning_rate param_colsample_bytree  \\\n",
      "0                0.25                    0.1   \n",
      "1                 0.1                   0.99   \n",
      "2                0.25                   0.99   \n",
      "3                0.25                    0.1   \n",
      "4                 0.1                    0.5   \n",
      "5                 0.1                    0.1   \n",
      "6                 0.1                    0.1   \n",
      "7                0.25                   0.75   \n",
      "8                0.15                    0.1   \n",
      "9                 0.2                    0.1   \n",
      "\n",
      "                                              params  split0_test_score  \\\n",
      "0  {'subsample': 0.1, 'n_estimators': 200, 'min_c...           0.800000   \n",
      "1  {'subsample': 0.75, 'n_estimators': 200, 'min_...           0.933333   \n",
      "2  {'subsample': 0.75, 'n_estimators': 10, 'min_c...           0.933333   \n",
      "3  {'subsample': 0.5, 'n_estimators': 50, 'min_ch...           0.966667   \n",
      "4  {'subsample': 0.1, 'n_estimators': 10, 'min_ch...           0.900000   \n",
      "5  {'subsample': 0.25, 'n_estimators': 100, 'min_...           0.800000   \n",
      "6  {'subsample': 0.1, 'n_estimators': 10, 'min_ch...           0.766667   \n",
      "7  {'subsample': 0.75, 'n_estimators': 10, 'min_c...           0.966667   \n",
      "8  {'subsample': 0.25, 'n_estimators': 10, 'min_c...           0.700000   \n",
      "9  {'subsample': 0.99, 'n_estimators': 200, 'min_...           0.933333   \n",
      "\n",
      "   split1_test_score  split2_test_score  split3_test_score  split4_test_score  \\\n",
      "0           0.933333           0.866667           0.900000           0.933333   \n",
      "1           0.966667           0.933333           0.900000           1.000000   \n",
      "2           0.966667           0.933333           0.900000           1.000000   \n",
      "3           0.966667           0.900000           0.933333           1.000000   \n",
      "4           0.966667           0.866667           0.900000           1.000000   \n",
      "5           0.966667           0.833333           0.866667           0.933333   \n",
      "6           0.733333           0.733333           0.766667           0.866667   \n",
      "7           0.966667           0.933333           0.900000           1.000000   \n",
      "8           0.800000           0.866667           0.766667           0.933333   \n",
      "9           0.966667           0.933333           0.900000           1.000000   \n",
      "\n",
      "   mean_test_score  std_test_score  rank_test_score  \n",
      "0         0.886667        0.049889                7  \n",
      "1         0.946667        0.033993                3  \n",
      "2         0.946667        0.033993                3  \n",
      "3         0.953333        0.033993                1  \n",
      "4         0.926667        0.048990                6  \n",
      "5         0.880000        0.061824                8  \n",
      "6         0.773333        0.048990               10  \n",
      "7         0.953333        0.033993                1  \n",
      "8         0.813333        0.080554                9  \n",
      "9         0.946667        0.033993                3  \n",
      "Best Accuracy: 95.33 %\n",
      "Best Parameters: {'subsample': 0.5, 'n_estimators': 50, 'min_child_weight': 1, 'max_depth': 4, 'learning_rate': 0.25, 'colsample_bytree': 0.1}\n"
     ]
    }
   ],
   "source": [
    "XGBoost_full_rand_search(X, y)  # performs random search."
   ]
  },
  {
   "cell_type": "markdown",
   "id": "ff361c84",
   "metadata": {},
   "source": [
    "## Checking predicted/actual results\n",
    "## Checking testing and traning scores\n",
    "## Checking Actual values classified correctly and wrongly.\n",
    "## Checking accuracy, precision, recall and f1 scores"
   ]
  },
  {
   "cell_type": "code",
   "execution_count": null,
   "id": "7d1186fa",
   "metadata": {
    "scrolled": true
   },
   "outputs": [],
   "source": [
    "Classifier_function(XGBClassifier(), X_train, y_train,X_test, y_test, \"XGBoost\")  \n",
    "# Performs traing, testing prediction.\n",
    "# performs precision, recall, f1-score and support prediction\n",
    "# plots a confusion matrix\n",
    "# returns the traing, testing, precision, recall, f1-score"
   ]
  },
  {
   "cell_type": "markdown",
   "id": "d1ded6a1",
   "metadata": {
    "collapsed": true
   },
   "source": [
    "# Results after feature scaling"
   ]
  },
  {
   "cell_type": "markdown",
   "id": "423fdc1c",
   "metadata": {},
   "source": [
    "# StandardScaler"
   ]
  },
  {
   "cell_type": "code",
   "execution_count": null,
   "id": "d86f7658",
   "metadata": {},
   "outputs": [],
   "source": [
    "featurescaling(StandardScaler(), X_train, `X_test, y_train, y_test,\\\n",
    "               XGBClassifier() ,\"XGBoost\")\n",
    "# performs standard scaling\n",
    "# Performs traing, testing prediction.\n",
    "# performs precision, recall, f1-score and support prediction\n",
    "# plots a confusion matrix\n",
    "# returns the traing, testing, precision, recall, f1-score"
   ]
  },
  {
   "cell_type": "markdown",
   "id": "e971d3f5",
   "metadata": {
    "collapsed": true
   },
   "source": [
    "# MinMaxScaler"
   ]
  },
  {
   "cell_type": "code",
   "execution_count": null,
   "id": "709facc3",
   "metadata": {},
   "outputs": [],
   "source": [
    "featurescaling(MinMaxScaler(), X_train, X_test, y_train, y_test,\\\n",
    "               XGBClassifier() ,\"XGBoost\")\n",
    "# performs Minmax scaling\n",
    "# Performs traing, testing prediction.\n",
    "# performs precision, recall, f1-score and support prediction\n",
    "# plots a confusion matrix\n",
    "# returns the traing, testing, precision, recall, f1-score"
   ]
  },
  {
   "cell_type": "markdown",
   "id": "39262773",
   "metadata": {},
   "source": [
    "# RobustScaler"
   ]
  },
  {
   "cell_type": "code",
   "execution_count": null,
   "id": "37f5d967",
   "metadata": {},
   "outputs": [],
   "source": [
    "featurescaling(RobustScaler(), X_train, X_test, y_train, y_test,\\\n",
    "               XGBClassifier() ,\"XGBoost\")\n",
    "# performs robust scaling \n",
    "# Performs traing, testing prediction.\n",
    "# performs precision, recall, f1-score and support prediction\n",
    "# plots a confusion matrix\n",
    "# returns the traing, testing, precision, recall, f1-score"
   ]
  },
  {
   "cell_type": "markdown",
   "id": "04bb527b",
   "metadata": {},
   "source": [
    "# Normalizer"
   ]
  },
  {
   "cell_type": "code",
   "execution_count": null,
   "id": "96fb0a5b",
   "metadata": {},
   "outputs": [],
   "source": [
    "featurescaling(Normalizer(), X_train, X_test, y_train, y_test,\\\n",
    "               XGBClassifier() ,\"XGBoost\")\n",
    "\n",
    "# Performs normalization scaling \n",
    "# Performs traing, testing prediction.\n",
    "# performs precision, recall, f1-score and support prediction\n",
    "# plots a confusion matrix\n",
    "# returns the traing, testing, precision, recall, f1-score"
   ]
  }
 ],
 "metadata": {
  "kernelspec": {
   "display_name": "Python 3",
   "language": "python",
   "name": "python3"
  },
  "language_info": {
   "codemirror_mode": {
    "name": "ipython",
    "version": 3
   },
   "file_extension": ".py",
   "mimetype": "text/x-python",
   "name": "python",
   "nbconvert_exporter": "python",
   "pygments_lexer": "ipython3",
   "version": "3.8.8"
  }
 },
 "nbformat": 4,
 "nbformat_minor": 5
}
