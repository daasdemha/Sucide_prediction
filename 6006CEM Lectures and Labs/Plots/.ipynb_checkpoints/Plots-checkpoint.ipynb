{
 "cells": [
  {
   "cell_type": "code",
   "execution_count": 1,
   "id": "244bdc54",
   "metadata": {},
   "outputs": [],
   "source": [
    "import numpy as np  # Allows us to work with arrays.\n",
    "import matplotlib.pyplot as plt  # Allows working with plots.\n",
    "import pandas as pd  # importing pandas’ library for use. Allows us to import data set and manipulate it.\n",
    "\n",
    "import seaborn as sns  # Allows to polt beautiful plots.\n",
    "import matplotlib.pyplot as plt # plotting.\n",
    "\n",
    "\n",
    "\n",
    "\n",
    "import warnings\n",
    "warnings.filterwarnings(\"ignore\")\n",
    "\n",
    "#%matplotlib inline  # helps in showing plots on the browser."
   ]
  },
  {
   "cell_type": "markdown",
   "id": "de01b959",
   "metadata": {},
   "source": [
    "# Learning matplot lib"
   ]
  },
  {
   "cell_type": "code",
   "execution_count": 2,
   "id": "1f05366f",
   "metadata": {},
   "outputs": [
    {
     "name": "stderr",
     "output_type": "stream",
     "text": [
      "UsageError: unrecognized arguments: # helps in showing plots on the browser.\n"
     ]
    }
   ],
   "source": [
    "import matplotlib.pyplot as plt # plotting.\n",
    "%matplotlib inline  # helps in showing plots on the browser."
   ]
  },
  {
   "cell_type": "code",
   "execution_count": 3,
   "id": "aa8fcc9e",
   "metadata": {},
   "outputs": [
    {
     "name": "stdout",
     "output_type": "stream",
     "text": [
      "The scikit-learn version is 0.24.1.\n"
     ]
    }
   ],
   "source": [
    "import sklearn\n",
    "print('The scikit-learn version is {}.'.format(sklearn.__version__))\n"
   ]
  },
  {
   "cell_type": "code",
   "execution_count": null,
   "id": "57f796aa",
   "metadata": {},
   "outputs": [],
   "source": []
  },
  {
   "cell_type": "markdown",
   "id": "fec4db12",
   "metadata": {},
   "source": [
    "## scatter plot"
   ]
  },
  {
   "cell_type": "code",
   "execution_count": 4,
   "id": "7c265b65",
   "metadata": {},
   "outputs": [
    {
     "data": {
      "text/plain": [
       "<matplotlib.collections.PathCollection at 0x243987dd1f0>"
      ]
     },
     "execution_count": 4,
     "metadata": {},
     "output_type": "execute_result"
    },
    {
     "data": {
      "image/png": "[encoded data removed]",
      "text/plain": [
       "<Figure size 432x288 with 1 Axes>"
      ]
     },
     "metadata": {
      "needs_background": "light"
     },
     "output_type": "display_data"
    }
   ],
   "source": [
    "x_days  = [\"day1\", \"day2\", \"day3\", \"day4\"]\n",
    "y_temp  = [1, 2, 3, 4]\n",
    "y2_temp  = [8,9,10,11]\n",
    "plt.title(\"weather\",fontsize=18)\n",
    "plt.xlabel(\"Days\")\n",
    "plt.ylabel(\"temp\")\n",
    "plt.scatter(x_days,y_temp  )"
   ]
  },
  {
   "cell_type": "markdown",
   "id": "32ba0844",
   "metadata": {},
   "source": [
    "## parameters in scatter plot"
   ]
  },
  {
   "cell_type": "code",
   "execution_count": 5,
   "id": "321393fe",
   "metadata": {},
   "outputs": [],
   "source": [
    "# colour  - alows to change colour\n",
    "# s       - allows to change size\n",
    "# marker  = style of marker\n",
    "# apha    - transparency \n",
    "# etc     - check others online "
   ]
  },
  {
   "cell_type": "markdown",
   "id": "e042d353",
   "metadata": {},
   "source": [
    "## line plot"
   ]
  },
  {
   "cell_type": "code",
   "execution_count": 6,
   "id": "60e823ac",
   "metadata": {},
   "outputs": [
    {
     "data": {
      "text/plain": [
       "[<matplotlib.lines.Line2D at 0x24399ef45b0>]"
      ]
     },
     "execution_count": 6,
     "metadata": {},
     "output_type": "execute_result"
    },
    {
     "data": {
      "image/png": "[encoded data removed]",
      "text/plain": [
       "<Figure size 432x288 with 1 Axes>"
      ]
     },
     "metadata": {
      "needs_background": "light"
     },
     "output_type": "display_data"
    }
   ],
   "source": [
    "plt.plot(x_days,y_temp)"
   ]
  },
  {
   "cell_type": "code",
   "execution_count": 7,
   "id": "d8dda581",
   "metadata": {},
   "outputs": [
    {
     "data": {
      "text/plain": [
       "<matplotlib.legend.Legend at 0x24399f30a60>"
      ]
     },
     "execution_count": 7,
     "metadata": {},
     "output_type": "execute_result"
    },
    {
     "data": {
      "image/png": "[encoded data removed]",
      "text/plain": [
       "<Figure size 432x288 with 1 Axes>"
      ]
     },
     "metadata": {
      "needs_background": "light"
     },
     "output_type": "display_data"
    }
   ],
   "source": [
    "plt.plot(x_days,y_temp,label=\"min temp\")\n",
    "plt.plot(x_days,y2_temp,label=\"max temp\")\n",
    "plt.legend()\n"
   ]
  },
  {
   "cell_type": "markdown",
   "id": "07e44f95",
   "metadata": {},
   "source": [
    "## parameters in line plot"
   ]
  },
  {
   "cell_type": "code",
   "execution_count": 8,
   "id": "4fa0e5e2",
   "metadata": {},
   "outputs": [],
   "source": [
    "# colour  - alows to change colour\n",
    "# fmt       - allows to format string\n",
    "# linestyles  - \n",
    "### line plot linewidth   - \n",
    "# marker  = style of marker\n",
    "# apha    - transparency \n",
    "# etc     - check others online "
   ]
  },
  {
   "cell_type": "markdown",
   "id": "d79ee1cf",
   "metadata": {},
   "source": [
    "## pie chart"
   ]
  },
  {
   "cell_type": "code",
   "execution_count": 9,
   "id": "88e5616c",
   "metadata": {},
   "outputs": [
    {
     "data": {
      "text/plain": [
       "([<matplotlib.patches.Wedge at 0x24399f84340>,\n",
       "  <matplotlib.patches.Wedge at 0x24399f84820>,\n",
       "  <matplotlib.patches.Wedge at 0x24399f84ca0>,\n",
       "  <matplotlib.patches.Wedge at 0x24399f90100>],\n",
       " [Text(1.0461621663333946, 0.3399186987098808, 'day1'),\n",
       "  Text(0.33991867422268784, 1.0461621742897658, 'day2'),\n",
       "  Text(-1.0461621902025062, 0.3399186252483017, 'day3'),\n",
       "  Text(0.3399188211458418, -1.0461621265515308, 'day4')])"
      ]
     },
     "execution_count": 9,
     "metadata": {},
     "output_type": "execute_result"
    },
    {
     "data": {
      "image/png": "[encoded data removed]",
      "text/plain": [
       "<Figure size 432x288 with 1 Axes>"
      ]
     },
     "metadata": {},
     "output_type": "display_data"
    }
   ],
   "source": [
    "plt.pie(y_temp,labels=x_days)"
   ]
  },
  {
   "cell_type": "markdown",
   "id": "42fabf34",
   "metadata": {},
   "source": [
    "## parameters in pie chart"
   ]
  },
  {
   "cell_type": "code",
   "execution_count": 10,
   "id": "6f153b07",
   "metadata": {},
   "outputs": [],
   "source": [
    "# colour  - alows to change colour\n",
    "# lables      - allows us to label string to numbers## pie chart\n",
    "# explode  - \n",
    "# shadow   - \n",
    "# radius  = style of marker \n",
    "# etc     - check others online "
   ]
  },
  {
   "cell_type": "markdown",
   "id": "66c4f264",
   "metadata": {},
   "source": [
    "## bar chart"
   ]
  },
  {
   "cell_type": "code",
   "execution_count": 11,
   "id": "12a64ac8",
   "metadata": {},
   "outputs": [
    {
     "data": {
      "text/plain": [
       "<BarContainer object of 4 artists>"
      ]
     },
     "execution_count": 11,
     "metadata": {},
     "output_type": "execute_result"
    },
    {
     "data": {
      "image/png": "[encoded data removed]",
      "text/plain": [
       "<Figure size 432x288 with 1 Axes>"
      ]
     },
     "metadata": {
      "needs_background": "light"
     },
     "output_type": "display_data"
    }
   ],
   "source": [
    "plt.bar(x_days,y_temp)"
   ]
  },
  {
   "cell_type": "code",
   "execution_count": 15,
   "id": "e83239c1",
   "metadata": {},
   "outputs": [
    {
     "data": {
      "text/plain": [
       "<BarContainer object of 4 artists>"
      ]
     },
     "execution_count": 15,
     "metadata": {},
     "output_type": "execute_result"
    },
    {
     "data": {
      "image/png": "[encoded data removed]",
      "text/plain": [
       "<Figure size 432x288 with 1 Axes>"
      ]
     },
     "metadata": {
      "needs_background": "light"
     },
     "output_type": "display_data"
    }
   ],
   "source": [
    "plt.bar(x_days,y2_temp)\n",
    "plt.bar(x_days,y_temp)\n",
    "\n"
   ]
  },
  {
   "cell_type": "code",
   "execution_count": 13,
   "id": "6834e5a4",
   "metadata": {},
   "outputs": [],
   "source": [
    "# check parameters online"
   ]
  },
  {
   "cell_type": "code",
   "execution_count": null,
   "id": "e4d5c077",
   "metadata": {},
   "outputs": [],
   "source": []
  },
  {
   "cell_type": "code",
   "execution_count": null,
   "id": "03ec9b1b",
   "metadata": {},
   "outputs": [],
   "source": []
  },
  {
   "cell_type": "code",
   "execution_count": null,
   "id": "4d77ad34",
   "metadata": {},
   "outputs": [],
   "source": []
  },
  {
   "cell_type": "code",
   "execution_count": null,
   "id": "a73c2376",
   "metadata": {},
   "outputs": [],
   "source": []
  },
  {
   "cell_type": "code",
   "execution_count": null,
   "id": "0f6f7f68",
   "metadata": {},
   "outputs": [],
   "source": []
  }
 ],
 "metadata": {
  "kernelspec": {
   "display_name": "Python 3",
   "language": "python",
   "name": "python3"
  },
  "language_info": {
   "codemirror_mode": {
    "name": "ipython",
    "version": 3
   },
   "file_extension": ".py",
   "mimetype": "text/x-python",
   "name": "python",
   "nbconvert_exporter": "python",
   "pygments_lexer": "ipython3",
   "version": "3.8.8"
  }
 },
 "nbformat": 4,
 "nbformat_minor": 5
}
