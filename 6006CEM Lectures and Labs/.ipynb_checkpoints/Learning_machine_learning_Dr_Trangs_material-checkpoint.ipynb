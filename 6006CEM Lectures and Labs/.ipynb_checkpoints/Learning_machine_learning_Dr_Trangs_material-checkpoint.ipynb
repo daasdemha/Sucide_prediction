{
 "cells": [
  {
   "cell_type": "code",
   "execution_count": 6,
   "id": "b952d872",
   "metadata": {},
   "outputs": [],
   "source": [
    "import numpy as np  # Allows us to work with arrays.\n",
    "import matplotlib.pyplot as plt  # Allows working with plots.\n",
    "import pandas as pd  # importing pandas’ library for use. Allows us to import data set and manipulate it.\n",
    "\n",
    "import seaborn as sns  # Allows to polt beautiful plots.\n",
    "import matplotlib.pyplot as plt # plotting.\n",
    "\n",
    "\n",
    "from sklearn.compose import ColumnTransformer  # helps with encoding.\n",
    "from sklearn.preprocessing import OneHotEncoder  # Does onehotencode.\n",
    "from sklearn.preprocessing import LabelEncoder   # Does 1 and 0 encoding.\n",
    "from sklearn.model_selection import train_test_split  # Splits dataset into test set and traning set. \n",
    "from sklearn.preprocessing import StandardScaler  # Perform the feature scaling.\n",
    "from sklearn.linear_model import LogisticRegression  # Performs logistic regression.\n",
    "from sklearn.metrics import confusion_matrix, ConfusionMatrixDisplay, multilabel_confusion_matrix  # creates a confusion matrix\n",
    "from sklearn.metrics import accuracy_score  # Returns accury score of a model.\n",
    "from sklearn.metrics import precision_recall_fscore_support\n",
    "from sklearn.neighbors import KNeighborsClassifier  # performs K Neariesst Neighobour.\n",
    "from sklearn.impute import KNNImputer  # imputes missing values using KNN.\n",
    "from sklearn.svm import SVC  # Performs svm\n",
    "from sklearn.naive_bayes import GaussianNB  # performs naive_bayes gaussianNB.\n",
    "from sklearn.tree import DecisionTreeClassifier  #Perfroms decision tree classification model.\n",
    "from sklearn.ensemble import RandomForestClassifier  #Performs random forest classification.\n",
    "from xgboost import XGBClassifier  # performs xgboost classification. gradiant decision trees.\n",
    "from sklearn.linear_model import LinearRegression  # will use to replace missing values linear regressoin\n",
    "from sklearn.decomposition import PCA  # Performs model optimization\n",
    "from sklearn.decomposition import KernelPCA  # Performs model optimization\n",
    "from sklearn.discriminant_analysis import LinearDiscriminantAnalysis as LDA # performs model optimization\n",
    "from sklearn.model_selection import cross_val_score  # performs cross validation. Helps in model selection.\n",
    "from sklearn.model_selection import GridSearchCV  # helps select the best hyper parameters\n",
    "from sklearn.model_selection import RandomizedSearchCV\n",
    "\n",
    "import warnings\n",
    "warnings.filterwarnings(\"ignore\")\n",
    "\n",
    "#%matplotlib inline  # helps in showing plots on the browser."
   ]
  },
  {
   "cell_type": "code",
   "execution_count": 7,
   "id": "877a2d85",
   "metadata": {},
   "outputs": [],
   "source": [
    "df = pd.read_csv(\"iris.csv\")\n",
    "\n"
   ]
  },
  {
   "cell_type": "code",
   "execution_count": 8,
   "id": "d5704271",
   "metadata": {},
   "outputs": [
    {
     "data": {
      "text/html": [
       "<div>\n",
       "<style scoped>\n",
       "    .dataframe tbody tr th:only-of-type {\n",
       "        vertical-align: middle;\n",
       "    }\n",
       "\n",
       "    .dataframe tbody tr th {\n",
       "        vertical-align: top;\n",
       "    }\n",
       "\n",
       "    .dataframe thead th {\n",
       "        text-align: right;\n",
       "    }\n",
       "</style>\n",
       "<table border=\"1\" class=\"dataframe\">\n",
       "  <thead>\n",
       "    <tr style=\"text-align: right;\">\n",
       "      <th></th>\n",
       "      <th>Id</th>\n",
       "      <th>SepalLengthCm</th>\n",
       "      <th>SepalWidthCm</th>\n",
       "      <th>PetalLengthCm</th>\n",
       "      <th>PetalWidthCm</th>\n",
       "      <th>Species</th>\n",
       "    </tr>\n",
       "  </thead>\n",
       "  <tbody>\n",
       "    <tr>\n",
       "      <th>0</th>\n",
       "      <td>1</td>\n",
       "      <td>5.1</td>\n",
       "      <td>3.5</td>\n",
       "      <td>1.4</td>\n",
       "      <td>0.2</td>\n",
       "      <td>Iris-setosa</td>\n",
       "    </tr>\n",
       "    <tr>\n",
       "      <th>1</th>\n",
       "      <td>2</td>\n",
       "      <td>4.9</td>\n",
       "      <td>3.0</td>\n",
       "      <td>1.4</td>\n",
       "      <td>0.2</td>\n",
       "      <td>Iris-setosa</td>\n",
       "    </tr>\n",
       "    <tr>\n",
       "      <th>2</th>\n",
       "      <td>3</td>\n",
       "      <td>4.7</td>\n",
       "      <td>3.2</td>\n",
       "      <td>1.3</td>\n",
       "      <td>0.2</td>\n",
       "      <td>Iris-setosa</td>\n",
       "    </tr>\n",
       "    <tr>\n",
       "      <th>3</th>\n",
       "      <td>4</td>\n",
       "      <td>4.6</td>\n",
       "      <td>3.1</td>\n",
       "      <td>1.5</td>\n",
       "      <td>0.2</td>\n",
       "      <td>Iris-setosa</td>\n",
       "    </tr>\n",
       "    <tr>\n",
       "      <th>4</th>\n",
       "      <td>5</td>\n",
       "      <td>5.0</td>\n",
       "      <td>3.6</td>\n",
       "      <td>1.4</td>\n",
       "      <td>0.2</td>\n",
       "      <td>Iris-setosa</td>\n",
       "    </tr>\n",
       "  </tbody>\n",
       "</table>\n",
       "</div>"
      ],
      "text/plain": [
       "   Id  SepalLengthCm  SepalWidthCm  PetalLengthCm  PetalWidthCm      Species\n",
       "0   1            5.1           3.5            1.4           0.2  Iris-setosa\n",
       "1   2            4.9           3.0            1.4           0.2  Iris-setosa\n",
       "2   3            4.7           3.2            1.3           0.2  Iris-setosa\n",
       "3   4            4.6           3.1            1.5           0.2  Iris-setosa\n",
       "4   5            5.0           3.6            1.4           0.2  Iris-setosa"
      ]
     },
     "execution_count": 8,
     "metadata": {},
     "output_type": "execute_result"
    }
   ],
   "source": [
    "df.head()"
   ]
  },
  {
   "cell_type": "code",
   "execution_count": 9,
   "id": "dfad7df8",
   "metadata": {},
   "outputs": [
    {
     "data": {
      "text/plain": [
       "Id               0\n",
       "SepalLengthCm    0\n",
       "SepalWidthCm     0\n",
       "PetalLengthCm    0\n",
       "PetalWidthCm     0\n",
       "Species          0\n",
       "dtype: int64"
      ]
     },
     "execution_count": 9,
     "metadata": {},
     "output_type": "execute_result"
    }
   ],
   "source": [
    "df.isnull().sum()  # Checking the dataframe for null values."
   ]
  },
  {
   "cell_type": "code",
   "execution_count": 10,
   "id": "358e93fb",
   "metadata": {},
   "outputs": [
    {
     "name": "stdout",
     "output_type": "stream",
     "text": [
      "Species\n",
      "Iris-setosa        50\n",
      "Iris-versicolor    50\n",
      "Iris-virginica     50\n",
      "dtype: int64\n"
     ]
    }
   ],
   "source": [
    "print(df.pivot_table(columns=['Species'], aggfunc='size'))"
   ]
  },
  {
   "cell_type": "code",
   "execution_count": 11,
   "id": "5b0222bd",
   "metadata": {},
   "outputs": [],
   "source": [
    "df = df.drop('Id', 1)"
   ]
  },
  {
   "cell_type": "code",
   "execution_count": 12,
   "id": "c16d88a6",
   "metadata": {},
   "outputs": [],
   "source": [
    "le = LabelEncoder()\n",
    "df.Species = le.fit_transform(df.Species)"
   ]
  },
  {
   "cell_type": "code",
   "execution_count": 13,
   "id": "214efcd5",
   "metadata": {},
   "outputs": [
    {
     "data": {
      "text/html": [
       "<div>\n",
       "<style scoped>\n",
       "    .dataframe tbody tr th:only-of-type {\n",
       "        vertical-align: middle;\n",
       "    }\n",
       "\n",
       "    .dataframe tbody tr th {\n",
       "        vertical-align: top;\n",
       "    }\n",
       "\n",
       "    .dataframe thead th {\n",
       "        text-align: right;\n",
       "    }\n",
       "</style>\n",
       "<table border=\"1\" class=\"dataframe\">\n",
       "  <thead>\n",
       "    <tr style=\"text-align: right;\">\n",
       "      <th></th>\n",
       "      <th>SepalLengthCm</th>\n",
       "      <th>SepalWidthCm</th>\n",
       "      <th>PetalLengthCm</th>\n",
       "      <th>PetalWidthCm</th>\n",
       "      <th>Species</th>\n",
       "    </tr>\n",
       "  </thead>\n",
       "  <tbody>\n",
       "    <tr>\n",
       "      <th>0</th>\n",
       "      <td>5.1</td>\n",
       "      <td>3.5</td>\n",
       "      <td>1.4</td>\n",
       "      <td>0.2</td>\n",
       "      <td>0</td>\n",
       "    </tr>\n",
       "    <tr>\n",
       "      <th>1</th>\n",
       "      <td>4.9</td>\n",
       "      <td>3.0</td>\n",
       "      <td>1.4</td>\n",
       "      <td>0.2</td>\n",
       "      <td>0</td>\n",
       "    </tr>\n",
       "    <tr>\n",
       "      <th>2</th>\n",
       "      <td>4.7</td>\n",
       "      <td>3.2</td>\n",
       "      <td>1.3</td>\n",
       "      <td>0.2</td>\n",
       "      <td>0</td>\n",
       "    </tr>\n",
       "    <tr>\n",
       "      <th>3</th>\n",
       "      <td>4.6</td>\n",
       "      <td>3.1</td>\n",
       "      <td>1.5</td>\n",
       "      <td>0.2</td>\n",
       "      <td>0</td>\n",
       "    </tr>\n",
       "    <tr>\n",
       "      <th>4</th>\n",
       "      <td>5.0</td>\n",
       "      <td>3.6</td>\n",
       "      <td>1.4</td>\n",
       "      <td>0.2</td>\n",
       "      <td>0</td>\n",
       "    </tr>\n",
       "    <tr>\n",
       "      <th>...</th>\n",
       "      <td>...</td>\n",
       "      <td>...</td>\n",
       "      <td>...</td>\n",
       "      <td>...</td>\n",
       "      <td>...</td>\n",
       "    </tr>\n",
       "    <tr>\n",
       "      <th>145</th>\n",
       "      <td>6.7</td>\n",
       "      <td>3.0</td>\n",
       "      <td>5.2</td>\n",
       "      <td>2.3</td>\n",
       "      <td>2</td>\n",
       "    </tr>\n",
       "    <tr>\n",
       "      <th>146</th>\n",
       "      <td>6.3</td>\n",
       "      <td>2.5</td>\n",
       "      <td>5.0</td>\n",
       "      <td>1.9</td>\n",
       "      <td>2</td>\n",
       "    </tr>\n",
       "    <tr>\n",
       "      <th>147</th>\n",
       "      <td>6.5</td>\n",
       "      <td>3.0</td>\n",
       "      <td>5.2</td>\n",
       "      <td>2.0</td>\n",
       "      <td>2</td>\n",
       "    </tr>\n",
       "    <tr>\n",
       "      <th>148</th>\n",
       "      <td>6.2</td>\n",
       "      <td>3.4</td>\n",
       "      <td>5.4</td>\n",
       "      <td>2.3</td>\n",
       "      <td>2</td>\n",
       "    </tr>\n",
       "    <tr>\n",
       "      <th>149</th>\n",
       "      <td>5.9</td>\n",
       "      <td>3.0</td>\n",
       "      <td>5.1</td>\n",
       "      <td>1.8</td>\n",
       "      <td>2</td>\n",
       "    </tr>\n",
       "  </tbody>\n",
       "</table>\n",
       "<p>150 rows × 5 columns</p>\n",
       "</div>"
      ],
      "text/plain": [
       "     SepalLengthCm  SepalWidthCm  PetalLengthCm  PetalWidthCm  Species\n",
       "0              5.1           3.5            1.4           0.2        0\n",
       "1              4.9           3.0            1.4           0.2        0\n",
       "2              4.7           3.2            1.3           0.2        0\n",
       "3              4.6           3.1            1.5           0.2        0\n",
       "4              5.0           3.6            1.4           0.2        0\n",
       "..             ...           ...            ...           ...      ...\n",
       "145            6.7           3.0            5.2           2.3        2\n",
       "146            6.3           2.5            5.0           1.9        2\n",
       "147            6.5           3.0            5.2           2.0        2\n",
       "148            6.2           3.4            5.4           2.3        2\n",
       "149            5.9           3.0            5.1           1.8        2\n",
       "\n",
       "[150 rows x 5 columns]"
      ]
     },
     "execution_count": 13,
     "metadata": {},
     "output_type": "execute_result"
    }
   ],
   "source": [
    "df"
   ]
  },
  {
   "cell_type": "code",
   "execution_count": 14,
   "id": "a055a049",
   "metadata": {},
   "outputs": [
    {
     "name": "stdout",
     "output_type": "stream",
     "text": [
      "Species\n",
      "0    50\n",
      "1    50\n",
      "2    50\n",
      "dtype: int64\n"
     ]
    }
   ],
   "source": [
    "print(df.pivot_table(columns=['Species'], aggfunc='size'))"
   ]
  },
  {
   "cell_type": "code",
   "execution_count": 15,
   "id": "b0b03add",
   "metadata": {},
   "outputs": [
    {
     "data": {
      "text/plain": [
       "array([[5.1, 3.5, 1.4, 0.2],\n",
       "       [4.9, 3. , 1.4, 0.2],\n",
       "       [4.7, 3.2, 1.3, 0.2],\n",
       "       [4.6, 3.1, 1.5, 0.2],\n",
       "       [5. , 3.6, 1.4, 0.2],\n",
       "       [5.4, 3.9, 1.7, 0.4],\n",
       "       [4.6, 3.4, 1.4, 0.3],\n",
       "       [5. , 3.4, 1.5, 0.2],\n",
       "       [4.4, 2.9, 1.4, 0.2],\n",
       "       [4.9, 3.1, 1.5, 0.1],\n",
       "       [5.4, 3.7, 1.5, 0.2],\n",
       "       [4.8, 3.4, 1.6, 0.2],\n",
       "       [4.8, 3. , 1.4, 0.1],\n",
       "       [4.3, 3. , 1.1, 0.1],\n",
       "       [5.8, 4. , 1.2, 0.2],\n",
       "       [5.7, 4.4, 1.5, 0.4],\n",
       "       [5.4, 3.9, 1.3, 0.4],\n",
       "       [5.1, 3.5, 1.4, 0.3],\n",
       "       [5.7, 3.8, 1.7, 0.3],\n",
       "       [5.1, 3.8, 1.5, 0.3],\n",
       "       [5.4, 3.4, 1.7, 0.2],\n",
       "       [5.1, 3.7, 1.5, 0.4],\n",
       "       [4.6, 3.6, 1. , 0.2],\n",
       "       [5.1, 3.3, 1.7, 0.5],\n",
       "       [4.8, 3.4, 1.9, 0.2],\n",
       "       [5. , 3. , 1.6, 0.2],\n",
       "       [5. , 3.4, 1.6, 0.4],\n",
       "       [5.2, 3.5, 1.5, 0.2],\n",
       "       [5.2, 3.4, 1.4, 0.2],\n",
       "       [4.7, 3.2, 1.6, 0.2],\n",
       "       [4.8, 3.1, 1.6, 0.2],\n",
       "       [5.4, 3.4, 1.5, 0.4],\n",
       "       [5.2, 4.1, 1.5, 0.1],\n",
       "       [5.5, 4.2, 1.4, 0.2],\n",
       "       [4.9, 3.1, 1.5, 0.1],\n",
       "       [5. , 3.2, 1.2, 0.2],\n",
       "       [5.5, 3.5, 1.3, 0.2],\n",
       "       [4.9, 3.1, 1.5, 0.1],\n",
       "       [4.4, 3. , 1.3, 0.2],\n",
       "       [5.1, 3.4, 1.5, 0.2],\n",
       "       [5. , 3.5, 1.3, 0.3],\n",
       "       [4.5, 2.3, 1.3, 0.3],\n",
       "       [4.4, 3.2, 1.3, 0.2],\n",
       "       [5. , 3.5, 1.6, 0.6],\n",
       "       [5.1, 3.8, 1.9, 0.4],\n",
       "       [4.8, 3. , 1.4, 0.3],\n",
       "       [5.1, 3.8, 1.6, 0.2],\n",
       "       [4.6, 3.2, 1.4, 0.2],\n",
       "       [5.3, 3.7, 1.5, 0.2],\n",
       "       [5. , 3.3, 1.4, 0.2],\n",
       "       [7. , 3.2, 4.7, 1.4],\n",
       "       [6.4, 3.2, 4.5, 1.5],\n",
       "       [6.9, 3.1, 4.9, 1.5],\n",
       "       [5.5, 2.3, 4. , 1.3],\n",
       "       [6.5, 2.8, 4.6, 1.5],\n",
       "       [5.7, 2.8, 4.5, 1.3],\n",
       "       [6.3, 3.3, 4.7, 1.6],\n",
       "       [4.9, 2.4, 3.3, 1. ],\n",
       "       [6.6, 2.9, 4.6, 1.3],\n",
       "       [5.2, 2.7, 3.9, 1.4],\n",
       "       [5. , 2. , 3.5, 1. ],\n",
       "       [5.9, 3. , 4.2, 1.5],\n",
       "       [6. , 2.2, 4. , 1. ],\n",
       "       [6.1, 2.9, 4.7, 1.4],\n",
       "       [5.6, 2.9, 3.6, 1.3],\n",
       "       [6.7, 3.1, 4.4, 1.4],\n",
       "       [5.6, 3. , 4.5, 1.5],\n",
       "       [5.8, 2.7, 4.1, 1. ],\n",
       "       [6.2, 2.2, 4.5, 1.5],\n",
       "       [5.6, 2.5, 3.9, 1.1],\n",
       "       [5.9, 3.2, 4.8, 1.8],\n",
       "       [6.1, 2.8, 4. , 1.3],\n",
       "       [6.3, 2.5, 4.9, 1.5],\n",
       "       [6.1, 2.8, 4.7, 1.2],\n",
       "       [6.4, 2.9, 4.3, 1.3],\n",
       "       [6.6, 3. , 4.4, 1.4],\n",
       "       [6.8, 2.8, 4.8, 1.4],\n",
       "       [6.7, 3. , 5. , 1.7],\n",
       "       [6. , 2.9, 4.5, 1.5],\n",
       "       [5.7, 2.6, 3.5, 1. ],\n",
       "       [5.5, 2.4, 3.8, 1.1],\n",
       "       [5.5, 2.4, 3.7, 1. ],\n",
       "       [5.8, 2.7, 3.9, 1.2],\n",
       "       [6. , 2.7, 5.1, 1.6],\n",
       "       [5.4, 3. , 4.5, 1.5],\n",
       "       [6. , 3.4, 4.5, 1.6],\n",
       "       [6.7, 3.1, 4.7, 1.5],\n",
       "       [6.3, 2.3, 4.4, 1.3],\n",
       "       [5.6, 3. , 4.1, 1.3],\n",
       "       [5.5, 2.5, 4. , 1.3],\n",
       "       [5.5, 2.6, 4.4, 1.2],\n",
       "       [6.1, 3. , 4.6, 1.4],\n",
       "       [5.8, 2.6, 4. , 1.2],\n",
       "       [5. , 2.3, 3.3, 1. ],\n",
       "       [5.6, 2.7, 4.2, 1.3],\n",
       "       [5.7, 3. , 4.2, 1.2],\n",
       "       [5.7, 2.9, 4.2, 1.3],\n",
       "       [6.2, 2.9, 4.3, 1.3],\n",
       "       [5.1, 2.5, 3. , 1.1],\n",
       "       [5.7, 2.8, 4.1, 1.3],\n",
       "       [6.3, 3.3, 6. , 2.5],\n",
       "       [5.8, 2.7, 5.1, 1.9],\n",
       "       [7.1, 3. , 5.9, 2.1],\n",
       "       [6.3, 2.9, 5.6, 1.8],\n",
       "       [6.5, 3. , 5.8, 2.2],\n",
       "       [7.6, 3. , 6.6, 2.1],\n",
       "       [4.9, 2.5, 4.5, 1.7],\n",
       "       [7.3, 2.9, 6.3, 1.8],\n",
       "       [6.7, 2.5, 5.8, 1.8],\n",
       "       [7.2, 3.6, 6.1, 2.5],\n",
       "       [6.5, 3.2, 5.1, 2. ],\n",
       "       [6.4, 2.7, 5.3, 1.9],\n",
       "       [6.8, 3. , 5.5, 2.1],\n",
       "       [5.7, 2.5, 5. , 2. ],\n",
       "       [5.8, 2.8, 5.1, 2.4],\n",
       "       [6.4, 3.2, 5.3, 2.3],\n",
       "       [6.5, 3. , 5.5, 1.8],\n",
       "       [7.7, 3.8, 6.7, 2.2],\n",
       "       [7.7, 2.6, 6.9, 2.3],\n",
       "       [6. , 2.2, 5. , 1.5],\n",
       "       [6.9, 3.2, 5.7, 2.3],\n",
       "       [5.6, 2.8, 4.9, 2. ],\n",
       "       [7.7, 2.8, 6.7, 2. ],\n",
       "       [6.3, 2.7, 4.9, 1.8],\n",
       "       [6.7, 3.3, 5.7, 2.1],\n",
       "       [7.2, 3.2, 6. , 1.8],\n",
       "       [6.2, 2.8, 4.8, 1.8],\n",
       "       [6.1, 3. , 4.9, 1.8],\n",
       "       [6.4, 2.8, 5.6, 2.1],\n",
       "       [7.2, 3. , 5.8, 1.6],\n",
       "       [7.4, 2.8, 6.1, 1.9],\n",
       "       [7.9, 3.8, 6.4, 2. ],\n",
       "       [6.4, 2.8, 5.6, 2.2],\n",
       "       [6.3, 2.8, 5.1, 1.5],\n",
       "       [6.1, 2.6, 5.6, 1.4],\n",
       "       [7.7, 3. , 6.1, 2.3],\n",
       "       [6.3, 3.4, 5.6, 2.4],\n",
       "       [6.4, 3.1, 5.5, 1.8],\n",
       "       [6. , 3. , 4.8, 1.8],\n",
       "       [6.9, 3.1, 5.4, 2.1],\n",
       "       [6.7, 3.1, 5.6, 2.4],\n",
       "       [6.9, 3.1, 5.1, 2.3],\n",
       "       [5.8, 2.7, 5.1, 1.9],\n",
       "       [6.8, 3.2, 5.9, 2.3],\n",
       "       [6.7, 3.3, 5.7, 2.5],\n",
       "       [6.7, 3. , 5.2, 2.3],\n",
       "       [6.3, 2.5, 5. , 1.9],\n",
       "       [6.5, 3. , 5.2, 2. ],\n",
       "       [6.2, 3.4, 5.4, 2.3],\n",
       "       [5.9, 3. , 5.1, 1.8]])"
      ]
     },
     "execution_count": 15,
     "metadata": {},
     "output_type": "execute_result"
    }
   ],
   "source": [
    "X = df.iloc[:, :-1].values  # selecting the values for the X variable.\n",
    "X"
   ]
  },
  {
   "cell_type": "code",
   "execution_count": 16,
   "id": "fecae351",
   "metadata": {},
   "outputs": [
    {
     "data": {
      "text/plain": [
       "array([[0],\n",
       "       [0],\n",
       "       [0],\n",
       "       [0],\n",
       "       [0],\n",
       "       [0],\n",
       "       [0],\n",
       "       [0],\n",
       "       [0],\n",
       "       [0],\n",
       "       [0],\n",
       "       [0],\n",
       "       [0],\n",
       "       [0],\n",
       "       [0],\n",
       "       [0],\n",
       "       [0],\n",
       "       [0],\n",
       "       [0],\n",
       "       [0],\n",
       "       [0],\n",
       "       [0],\n",
       "       [0],\n",
       "       [0],\n",
       "       [0],\n",
       "       [0],\n",
       "       [0],\n",
       "       [0],\n",
       "       [0],\n",
       "       [0],\n",
       "       [0],\n",
       "       [0],\n",
       "       [0],\n",
       "       [0],\n",
       "       [0],\n",
       "       [0],\n",
       "       [0],\n",
       "       [0],\n",
       "       [0],\n",
       "       [0],\n",
       "       [0],\n",
       "       [0],\n",
       "       [0],\n",
       "       [0],\n",
       "       [0],\n",
       "       [0],\n",
       "       [0],\n",
       "       [0],\n",
       "       [0],\n",
       "       [0],\n",
       "       [1],\n",
       "       [1],\n",
       "       [1],\n",
       "       [1],\n",
       "       [1],\n",
       "       [1],\n",
       "       [1],\n",
       "       [1],\n",
       "       [1],\n",
       "       [1],\n",
       "       [1],\n",
       "       [1],\n",
       "       [1],\n",
       "       [1],\n",
       "       [1],\n",
       "       [1],\n",
       "       [1],\n",
       "       [1],\n",
       "       [1],\n",
       "       [1],\n",
       "       [1],\n",
       "       [1],\n",
       "       [1],\n",
       "       [1],\n",
       "       [1],\n",
       "       [1],\n",
       "       [1],\n",
       "       [1],\n",
       "       [1],\n",
       "       [1],\n",
       "       [1],\n",
       "       [1],\n",
       "       [1],\n",
       "       [1],\n",
       "       [1],\n",
       "       [1],\n",
       "       [1],\n",
       "       [1],\n",
       "       [1],\n",
       "       [1],\n",
       "       [1],\n",
       "       [1],\n",
       "       [1],\n",
       "       [1],\n",
       "       [1],\n",
       "       [1],\n",
       "       [1],\n",
       "       [1],\n",
       "       [1],\n",
       "       [1],\n",
       "       [2],\n",
       "       [2],\n",
       "       [2],\n",
       "       [2],\n",
       "       [2],\n",
       "       [2],\n",
       "       [2],\n",
       "       [2],\n",
       "       [2],\n",
       "       [2],\n",
       "       [2],\n",
       "       [2],\n",
       "       [2],\n",
       "       [2],\n",
       "       [2],\n",
       "       [2],\n",
       "       [2],\n",
       "       [2],\n",
       "       [2],\n",
       "       [2],\n",
       "       [2],\n",
       "       [2],\n",
       "       [2],\n",
       "       [2],\n",
       "       [2],\n",
       "       [2],\n",
       "       [2],\n",
       "       [2],\n",
       "       [2],\n",
       "       [2],\n",
       "       [2],\n",
       "       [2],\n",
       "       [2],\n",
       "       [2],\n",
       "       [2],\n",
       "       [2],\n",
       "       [2],\n",
       "       [2],\n",
       "       [2],\n",
       "       [2],\n",
       "       [2],\n",
       "       [2],\n",
       "       [2],\n",
       "       [2],\n",
       "       [2],\n",
       "       [2],\n",
       "       [2],\n",
       "       [2],\n",
       "       [2],\n",
       "       [2]])"
      ]
     },
     "execution_count": 16,
     "metadata": {},
     "output_type": "execute_result"
    }
   ],
   "source": [
    "y = df[[\"Species\"]].to_numpy()   # selecting the values for the Y variable. # done using .to_numpy and not \n",
    "                                                       # .iloc as .to_numpy creates a horizontal bar while .iloc creates a \n",
    "                                                       # horizontal bar which will not alighn with the x values.\n",
    "y"
   ]
  },
  {
   "cell_type": "code",
   "execution_count": 17,
   "id": "3529cf18",
   "metadata": {},
   "outputs": [],
   "source": [
    "X_train, X_test, y_train, y_test = train_test_split(X, y, test_size = 0.25, random_state = 0)\n",
    "# test_size = 0.2               # splitting the data into 80 and 20 percent between the training and test set           \n",
    "                                            # to get the best results.                                                           \n",
    "# random_state = 1         # resetting the  random seed"
   ]
  },
  {
   "cell_type": "code",
   "execution_count": 18,
   "id": "b609fefa",
   "metadata": {},
   "outputs": [],
   "source": [
    "def linear_plot(xlab, ylab, l1, l2, title,lg ,lg_lc):\n",
    "    plt.title(title,fontsize=18)\n",
    "    plt.plot(xlab, ylab)\n",
    "    plt.xlabel(l1)\n",
    "    plt.ylabel(l2)\n",
    "    plt.legend([lg], loc=lg_lc)\n",
    "    plt.grid()"
   ]
  },
  {
   "cell_type": "code",
   "execution_count": 19,
   "id": "e1e64046",
   "metadata": {},
   "outputs": [],
   "source": [
    "def K_NN_plot(X,y):\n",
    "    ave_scores = []\n",
    "    k_list = list(range(1,15))\n",
    "    for k in k_list:\n",
    "        model = KNeighborsClassifier(n_neighbors = k) \n",
    "        scores = cross_val_score(model,X,y,cv=5,scoring=\"accuracy\")\n",
    "        ave_scores.append(round(scores.mean(),3))\n",
    "    print(\"ave scores \", ave_scores)\n",
    "    linear_plot(k_list, ave_scores, \"Number of nearest neighbours\", \"Average CV model accuracy\", \"Best KNN Selection\",\\\n",
    "                \"KNN\", \"lower left\")\n",
    "\n",
    "\n",
    "    plt.grid()"
   ]
  },
  {
   "cell_type": "code",
   "execution_count": 20,
   "id": "8ddfaeea",
   "metadata": {},
   "outputs": [
    {
     "name": "stdout",
     "output_type": "stream",
     "text": [
      "ave scores  [0.96, 0.947, 0.967, 0.973, 0.973, 0.98, 0.98, 0.967, 0.973, 0.98, 0.98, 0.98, 0.973, 0.967]\n"
     ]
    },
    {
     "data": {
      "image/png": "[encoded data removed]",
      "text/plain": [
       "<Figure size 432x288 with 1 Axes>"
      ]
     },
     "metadata": {
      "needs_background": "light"
     },
     "output_type": "display_data"
    }
   ],
   "source": [
    "K_NN_plot(X,y)"
   ]
  },
  {
   "cell_type": "code",
   "execution_count": 21,
   "id": "a0b94aba",
   "metadata": {},
   "outputs": [],
   "source": [
    "def crossvalscore(model, X, y, cv_val):\n",
    "    score = cross_val_score(estimator = model, X = X, y = y, cv = cv_val)   # performs different tests to get best accuracy.\n",
    "    print(\"Accuracy: {:.2f} %\".format(score.mean()*100))  # accuracy printed\n",
    "    print(\"Standard Deviation: {:.2f} %\".format(score.std()*100))  # standard deveation printed (std -avarage or std+ avarage )\n",
    "    return score"
   ]
  },
  {
   "cell_type": "code",
   "execution_count": 22,
   "id": "86907935",
   "metadata": {},
   "outputs": [
    {
     "name": "stdout",
     "output_type": "stream",
     "text": [
      "Accuracy: 96.00 %\n",
      "Standard Deviation: 5.33 %\n"
     ]
    },
    {
     "data": {
      "text/plain": [
       "array([1.        , 0.93333333, 1.        , 0.93333333, 0.86666667,\n",
       "       1.        , 0.86666667, 1.        , 1.        , 1.        ])"
      ]
     },
     "execution_count": 22,
     "metadata": {},
     "output_type": "execute_result"
    }
   ],
   "source": [
    "crossvalscore(KNeighborsClassifier(n_neighbors=1), X, y, 10) #true 0 false 0 "
   ]
  },
  {
   "cell_type": "code",
   "execution_count": 23,
   "id": "a1cd1de7",
   "metadata": {},
   "outputs": [],
   "source": [
    "from sklearn.metrics import classification_report, accuracy_score, recall_score, precision_score, roc_auc_score, f1_score\n",
    "\n",
    "def Classifier_function(typeofmodelandprams, X_train, y_train, title):  # function takes the type of model, the hyperparameters of the\n",
    "    # model, the x_train and y_train to get our results.\n",
    "  model = typeofmodelandprams  # Bulding an object of the class\n",
    "  model.fit(X_train, y_train)  # Building the k-nearest neighbors classification model.\n",
    "\n",
    "  y_test_p = model.predict(X_test)  # Predicted results.\n",
    "  print(\"  results\\npred-Actual\")  # printing predicted and real values.\n",
    "  print(np.concatenate((y_test_p.reshape(len(y_test_p),1),y_test.reshape(len(y_test),1)),1))  # Predicted results and real results in a np array.\n",
    "   \n",
    "\n",
    "  train_accuracy = round(model.score(X_train,y_train),2) * 100\n",
    "  test_accuracy = round(model.score(X_test,y_test),2) * 100\n",
    "\n",
    "  print(\"Model train accuracy: \", train_accuracy, \"%\")  # printing the model accurcy. \n",
    "  print(\"Model test accuracy: \", test_accuracy, \"%\")  # printing the model accurcy. \n",
    "\n",
    "\n",
    "  print(\"\\n\\n\")\n",
    "  # getting Accuracy or recall or precision or specificity\n",
    "  y_test_pred = model.predict(X_test)\n",
    "  \n",
    "  cReport = classification_report(y_test,y_test_pred)\n",
    "  print(cReport)\n",
    "  \n",
    "  cm = confusion_matrix(y_test, y_test_p)  # creating the confusion matrix\n",
    "  cm2 = multilabel_confusion_matrix(y_test, y_test_pred)\n",
    "  print(\"correct_0-incorrct_1\\nincorrect_0-correct_1\\n\")  # printing correct and inccrocet results.\n",
    "  print(\"True_Negative-False_positive\\nFalse_negative-True_positive\\n\")  # printing correct and inccrocet results.\n",
    "\n",
    "\n",
    "\n",
    "  precision, recall, f1_score, support = precision_recall_fscore_support(y_test, y_test_pred)\n",
    "  accuracy  = round(np.trace(cm) / float(np.sum(cm)), 2) * 100\n",
    "  precision = round(np.mean(precision),2) * 100\n",
    "  recall = round(np.mean(recall),2) * 100\n",
    "  f1_score = round(np.mean(f1_score),2) * 100\n",
    "\n",
    "  lable_list = []\n",
    "  flase_negatives = [0]\n",
    "\n",
    "  for i in range(len(cm)):\n",
    "    if i > 0:\n",
    "     flase_negatives.append(0)\n",
    "\n",
    "\n",
    "    for j in range(len(cm)):\n",
    "\n",
    "        if j == i:\n",
    "            lable_list.append(\"Actual \"+ str(i) +\"\\n\" + \"calssified as \"+ str(j) +\"\\n\" + str(cm[i][j]) + \"\\n\"+ str(round(cm[i][j]/np.sum(cm),2)) + \" %\")\n",
    "\n",
    "        else:\n",
    "            lable_list.append(\"Actual \"+ str(i) +\"\\n\" + \"calssified as \"+ str(j) + \"\\n\"  + str(cm[i][j]) + \"\\n\"+str(round(cm[i][j]/np.sum(cm),2)) + \" %\")\n",
    "            flase_negatives[i] = flase_negatives[i] + cm[i][j]\n",
    "            \n",
    "\n",
    "  lable_list = np.asarray(lable_list).reshape(3,3)\n",
    "  \n",
    "\n",
    "  total_score = (\"Accuracy:   \" + str(accuracy) +\" %\" + \"\\nPrecison:    \"  + str(precision)  +\" %\" + \"\\nRecall:        \" + str(recall)  +\" %\" + \"\\nF1 score:    \"  + str(f1_score) +\" %\") \n",
    "  \n",
    "\n",
    "\n",
    "\n",
    "  disp = sns.heatmap(cm, annot=lable_list, fmt='', cmap='Blues')                           \n",
    "  disp.plot()  # displaying data in plot\n",
    "  plt.title(title)  # adding a title to plot\n",
    "  plt.ylabel('True label')\n",
    "  plt.xlabel('Predicted label' +\"\\n\\nScores\\n\" +total_score)\n",
    "  plt.show()  # showing the plot\n",
    "    \n",
    "\n",
    "\n",
    "  \n",
    "\n",
    "  return test_accuracy"
   ]
  },
  {
   "cell_type": "code",
   "execution_count": null,
   "id": "5e9691ff",
   "metadata": {
    "scrolled": false
   },
   "outputs": [],
   "source": [
    "Classifier_function(KNeighborsClassifier(n_neighbors=1), X_train, y_train, \"KNN Model\")"
   ]
  },
  {
   "cell_type": "markdown",
   "id": "b8357204",
   "metadata": {},
   "source": [
    "# Grid Search"
   ]
  },
  {
   "cell_type": "code",
   "execution_count": 24,
   "id": "f74f5ae0",
   "metadata": {},
   "outputs": [],
   "source": [
    "def Grid_search_fun(typeofmodelandprams, dict_prams, crossval, X, y):  # Function takes in the model type, hyperparameters, number of crossvalidation sand X and y values.\n",
    "\n",
    "    model = typeofmodelandprams  # creating an instance of the object.\n",
    "    parameters = [dict_prams]  # hyper parameters for the grid search\n",
    "    grid_search = GridSearchCV(estimator = model,  # model\n",
    "                           param_grid = parameters,  # hyper paramaters \n",
    "                           scoring = 'accuracy',  # score measurement\n",
    "                           cv = crossval, # number of cross validations \n",
    "                           n_jobs = -1, return_train_score=False)  # selecting all possible paramaters to go through to get the best model possible # train score is false as it can be computationaly expensive. without storing the traning score the grd search is fater\n",
    "    grid_search.fit(X, y)  # applying the search on our model.\n",
    "    #print(pd.DataFrame(grid_search.cv_results_)[[\"mean_test_score\",\"params\"]])\n",
    "    print(pd.DataFrame(grid_search.cv_results_)) # to print the whole result\n",
    "\n",
    "    best_accuracy = grid_search.best_score_  # the best accuracy \n",
    "    best_parameters = grid_search.best_params_  # the best paramaters that gave the best accurecy\n",
    "    print(\"Best Accuracy: {:.2f} %\".format(best_accuracy*100))  # printing best accuracy\n",
    "    print(\"Best Parameters:\", best_parameters)  # printing the best parameters\n",
    "    \n",
    "    print(parameters)  # prininting the parameters\n",
    "\n",
    "\n",
    "    return grid_search  # returns grid search value\n",
    "    \n",
    "\n"
   ]
  },
  {
   "cell_type": "code",
   "execution_count": 105,
   "id": "08314384",
   "metadata": {},
   "outputs": [],
   "source": [
    "def rand_search_fun(typeofmodelandprams, dict_prams,crossval, X, y):  # Function takes in the model type, hyperparameters, number of crossvalidation sand X and y values.\n",
    "\n",
    "    model = typeofmodelandprams  # creating an instance of the object.\n",
    "    parameters = [dict_prams]  # hyper parameters for the random search \n",
    "    rand_search = RandomizedSearchCV(\n",
    "                           model,\n",
    "        #estimator = model,  # model\n",
    "                           #param_distributions = parameters,  # hyper paramaters \n",
    "                           parameters,\n",
    "                           scoring = 'accuracy',  # score measurement\n",
    "                           cv = crossval, # number of cross validations \n",
    "                           n_jobs = -1, # selecting all possible paramaters to go through to get the best model possible \n",
    "                           return_train_score=False, # train score is false as it can be computationaly expensive. without storing the traning score the grd search is fater\n",
    "                           n_iter=10,  # setting the number of iterations\n",
    "                           random_state=5)  \n",
    "    rand_search.fit(X, y)  # applying the search on our model.\n",
    "    #print(pd.DataFrame(rand_search.cv_results_)[[\"mean_test_score\",\"params\"]])\n",
    "    print(pd.DataFrame(rand_search.cv_results_)) # to print the whole result\n",
    "\n",
    "    best_accuracy = rand_search.best_score_  # the best accuracy \n",
    "    best_parameters = rand_search.best_params_  # the best paramaters that gave the best accurecy\n",
    "    print(\"Best Accuracy: {:.2f} %\".format(best_accuracy*100))  # printing best accuracy\n",
    "    print(\"Best Parameters:\", best_parameters)  # printing the best parameters\n",
    "    \n",
    "    print(parameters)  # prininting the parameters \n",
    "\n",
    "\n",
    "    return rand_search  # return random search value.\n",
    "    \n",
    "\n"
   ]
  },
  {
   "cell_type": "code",
   "execution_count": 106,
   "id": "b4b42133",
   "metadata": {},
   "outputs": [
    {
     "ename": "TypeError",
     "evalue": "Grid_search_fun() missing 1 required positional argument: 'y'",
     "output_type": "error",
     "traceback": [
      "\u001b[1;31m---------------------------------------------------------------------------\u001b[0m",
      "\u001b[1;31mTypeError\u001b[0m                                 Traceback (most recent call last)",
      "\u001b[1;32m<ipython-input-106-156da3c0d225>\u001b[0m in \u001b[0;36m<module>\u001b[1;34m\u001b[0m\n\u001b[0;32m      3\u001b[0m \u001b[0mpara_grid\u001b[0m \u001b[1;33m=\u001b[0m \u001b[0mdict\u001b[0m\u001b[1;33m(\u001b[0m\u001b[0mn_neighbors\u001b[0m\u001b[1;33m=\u001b[0m\u001b[0mk_list\u001b[0m\u001b[1;33m,\u001b[0m\u001b[0mweights\u001b[0m\u001b[1;33m=\u001b[0m\u001b[0mweight_list\u001b[0m\u001b[1;33m)\u001b[0m\u001b[1;33m\u001b[0m\u001b[1;33m\u001b[0m\u001b[0m\n\u001b[0;32m      4\u001b[0m \u001b[1;33m\u001b[0m\u001b[0m\n\u001b[1;32m----> 5\u001b[1;33m \u001b[0mgrid_search\u001b[0m \u001b[1;33m=\u001b[0m \u001b[0mGrid_search_fun\u001b[0m\u001b[1;33m(\u001b[0m\u001b[0mKNeighborsClassifier\u001b[0m\u001b[1;33m(\u001b[0m\u001b[0mn_neighbors\u001b[0m\u001b[1;33m=\u001b[0m\u001b[0mk_list\u001b[0m\u001b[1;33m)\u001b[0m\u001b[1;33m,\u001b[0m \u001b[0mpara_grid\u001b[0m\u001b[1;33m,\u001b[0m \u001b[1;36m5\u001b[0m\u001b[1;33m,\u001b[0m \u001b[0mX\u001b[0m\u001b[1;33m,\u001b[0m \u001b[0my\u001b[0m\u001b[1;33m)\u001b[0m\u001b[1;33m\u001b[0m\u001b[1;33m\u001b[0m\u001b[0m\n\u001b[0m",
      "\u001b[1;31mTypeError\u001b[0m: Grid_search_fun() missing 1 required positional argument: 'y'"
     ]
    }
   ],
   "source": [
    "k_list = list(range(1,31))  # list from 1 - 31 (will be used as KNN's)\n",
    "weight_list = [\"uniform\", \"distance\"]  # weights list uniform and distance\n",
    "para_grid = dict(n_neighbors=k_list,weights=weight_list)  # adding the above lists in a dictinorr.\n",
    "\n",
    "grid_search = Grid_search_fun(KNeighborsClassifier(n_neighbors=k_list), para_grid, 5, X, y)  # Using the grid search gunction with arguments given "
   ]
  },
  {
   "cell_type": "code",
   "execution_count": null,
   "id": "f253281b",
   "metadata": {},
   "outputs": [],
   "source": [
    "grid_search.cv_results_[\"mean_test_score\"] # looking at mean test score"
   ]
  },
  {
   "cell_type": "code",
   "execution_count": null,
   "id": "4406c84a",
   "metadata": {},
   "outputs": [],
   "source": [
    "uniform = []  # a empty list is created\n",
    "for i in range(0, len(grid_search.cv_results_[\"mean_test_score\"]), 2):  # getting all even number indexes using a for loop.\n",
    "\n",
    "    uniform.append(grid_search.cv_results_[\"mean_test_score\"][i])  # appending the unifrom values to the varibale unifrom."
   ]
  },
  {
   "cell_type": "code",
   "execution_count": null,
   "id": "7023e119",
   "metadata": {},
   "outputs": [],
   "source": [
    "distance = []  # a empty list is created\n",
    "for i in range(1, len(grid_search.cv_results_[\"mean_test_score\"]), 2):  # getting all odd number indexes using a for loop.\n",
    "    distance.append(grid_search.cv_results_[\"mean_test_score\"][i])  # appending the distance values to the varibale unifrom."
   ]
  },
  {
   "cell_type": "code",
   "execution_count": null,
   "id": "fd431e6b",
   "metadata": {},
   "outputs": [],
   "source": [
    "print(distance)   # printing the values distace variable."
   ]
  },
  {
   "cell_type": "code",
   "execution_count": null,
   "id": "c093e70b",
   "metadata": {},
   "outputs": [],
   "source": [
    "print(uniform)  # printing the values uniform variable."
   ]
  },
  {
   "cell_type": "code",
   "execution_count": null,
   "id": "ea3ad0e4",
   "metadata": {},
   "outputs": [],
   "source": [
    "plt.figure(dpi=100, figsize=(14, 7))  # setting the plot size\n",
    "plt.title(\"Grid Search Hyper parameter Comparison\",fontsize=14, color=\"blue\")  # setting the plot title.\n",
    "plt.plot(k_list,uniform , \"--\", marker = \"o\", label=\"weights uniform\", color=\"red\")  # setting the uniform variables values to the plot on the y axis and K_list  on the x axis.\n",
    "plt.plot(k_list,distance ,\":\", marker = \"*\", label=\"weights distant\", color=\"blue\")  # setting the distant variables values to the plot on the y axis and K_list  on the x axis.\n",
    "plt.xlabel(\"Number of nearest neighbours\")  # Setting the x label.\n",
    "plt.ylabel(\"Avarage CV Score\")  # setting the y label.\n",
    "plt.legend(loc='lower left')  # setting the legend.\n",
    "plt.grid()  # setting a grid"
   ]
  },
  {
   "cell_type": "code",
   "execution_count": 107,
   "id": "f484918d",
   "metadata": {},
   "outputs": [
    {
     "name": "stdout",
     "output_type": "stream",
     "text": [
      "   mean_fit_time  std_fit_time  mean_score_time  std_score_time param_weights  \\\n",
      "0       0.005000      0.001674         0.016399        0.015538       uniform   \n",
      "1       0.007600      0.005083         0.030201        0.014904       uniform   \n",
      "2       0.001798      0.000399         0.004199        0.000402       uniform   \n",
      "3       0.005002      0.007012         0.013597        0.016732       uniform   \n",
      "4       0.001399      0.000488         0.004400        0.000488       uniform   \n",
      "5       0.006001      0.004050         0.014200        0.009325       uniform   \n",
      "6       0.004599      0.002576         0.012401        0.006499       uniform   \n",
      "7       0.006403      0.004224         0.013799        0.007306       uniform   \n",
      "8       0.004407      0.002868         0.010393        0.005957       uniform   \n",
      "9       0.002199      0.001166         0.011405        0.011897       uniform   \n",
      "\n",
      "  param_n_neighbors                                     params  \\\n",
      "0                12  {'weights': 'uniform', 'n_neighbors': 12}   \n",
      "1                30  {'weights': 'uniform', 'n_neighbors': 30}   \n",
      "2                24  {'weights': 'uniform', 'n_neighbors': 24}   \n",
      "3                26  {'weights': 'uniform', 'n_neighbors': 26}   \n",
      "4                19  {'weights': 'uniform', 'n_neighbors': 19}   \n",
      "5                11  {'weights': 'uniform', 'n_neighbors': 11}   \n",
      "6                 3   {'weights': 'uniform', 'n_neighbors': 3}   \n",
      "7                14  {'weights': 'uniform', 'n_neighbors': 14}   \n",
      "8                27  {'weights': 'uniform', 'n_neighbors': 27}   \n",
      "9                22  {'weights': 'uniform', 'n_neighbors': 22}   \n",
      "\n",
      "   split0_test_score  split1_test_score  split2_test_score  split3_test_score  \\\n",
      "0           0.933333           1.000000           1.000000           0.966667   \n",
      "1           0.900000           0.966667           0.933333           0.900000   \n",
      "2           0.933333           0.966667           0.900000           0.933333   \n",
      "3           0.933333           0.966667           0.933333           0.900000   \n",
      "4           0.933333           1.000000           0.933333           0.966667   \n",
      "5           0.933333           1.000000           1.000000           0.966667   \n",
      "6           0.966667           0.966667           0.933333           0.966667   \n",
      "7           0.933333           1.000000           0.966667           0.933333   \n",
      "8           0.900000           0.966667           0.933333           0.933333   \n",
      "9           0.933333           1.000000           0.933333           0.933333   \n",
      "\n",
      "   split4_test_score  mean_test_score  std_test_score  rank_test_score  \n",
      "0                1.0         0.980000        0.026667                1  \n",
      "1                1.0         0.940000        0.038873               10  \n",
      "2                1.0         0.946667        0.033993                7  \n",
      "3                1.0         0.946667        0.033993                9  \n",
      "4                1.0         0.966667        0.029814                3  \n",
      "5                1.0         0.980000        0.026667                1  \n",
      "6                1.0         0.966667        0.021082                3  \n",
      "7                1.0         0.966667        0.029814                5  \n",
      "8                1.0         0.946667        0.033993                7  \n",
      "9                1.0         0.960000        0.032660                6  \n",
      "Best Accuracy: 98.00 %\n",
      "Best Parameters: {'weights': 'uniform', 'n_neighbors': 12}\n",
      "[{'n_neighbors': [1, 2, 3, 4, 5, 6, 7, 8, 9, 10, 11, 12, 13, 14, 15, 16, 17, 18, 19, 20, 21, 22, 23, 24, 25, 26, 27, 28, 29, 30], 'weights': ['uniform']}]\n"
     ]
    }
   ],
   "source": [
    "k_list = list(range(1,31))  # list from 1 - 31 (will be used as KNN's)\n",
    "weight_list = [\"uniform\"]  # weights list uniform\n",
    "para_rand = dict(n_neighbors=k_list,weights=weight_list)  # adding the above lists in a dictinory.\n",
    "\n",
    "rand_search = rand_search_fun(KNeighborsClassifier(), para_rand, 5, X, y)  # Using the grid search gunction with arguments given "
   ]
  },
  {
   "cell_type": "code",
   "execution_count": 108,
   "id": "d7dd63fc",
   "metadata": {},
   "outputs": [],
   "source": [
    "uniform = []  # creating a empty list\n",
    "k_list1 = []  # creating a empty list\n",
    "for i in range(len(rand_search.cv_results_[\"mean_test_score\"])):  # looping through the times the length of the mean_test_score\n",
    "\n",
    "        uniform.append(rand_search.cv_results_[\"mean_test_score\"][i])  # appending the uniform values ot the uniform variable.\n",
    "        k_list1.append(rand_search.cv_results_[\"param_n_neighbors\"][i])  # appedning the KNN's to the K_list1."
   ]
  },
  {
   "cell_type": "code",
   "execution_count": 110,
   "id": "7de47f16",
   "metadata": {},
   "outputs": [
    {
     "name": "stdout",
     "output_type": "stream",
     "text": [
      "3  ==  3\n",
      "6\n",
      "11  ==  11\n",
      "5\n",
      "12  ==  12\n",
      "0\n",
      "14  ==  14\n",
      "7\n",
      "19  ==  19\n",
      "4\n",
      "22  ==  22\n",
      "9\n",
      "24  ==  24\n",
      "2\n",
      "26  ==  26\n",
      "3\n",
      "27  ==  27\n",
      "8\n",
      "30  ==  30\n",
      "1\n"
     ]
    }
   ],
   "source": [
    "sorted_uniform = []  # creating a empty list\n",
    "sorted_list1 = k_list1.copy()  # creating a copy of the K_list1 variables values.\n",
    "sorted_list1.sort()   # sorting the KNNs\n",
    "for i in range(len(sorted_list1)):  # Looping through the lenght of the sorted_list1 variable.\n",
    "    for j in range(len(k_list1)):  # Looping through the lenght of the K_list1 variable.\n",
    "        if sorted_list1[i] == k_list1[j]:  # checking that if the values of sorted_list1[i] is equal to k_list1[j]\n",
    "            sorted_uniform.append(uniform[j])  # appeding the unifrom[j] values to the sorted_uniform list."
   ]
  },
  {
   "cell_type": "code",
   "execution_count": 111,
   "id": "ef1caa9a",
   "metadata": {},
   "outputs": [
    {
     "name": "stdout",
     "output_type": "stream",
     "text": [
      "[1, 2, 3, 4, 5, 6, 7, 8, 9, 10, 11, 12, 13, 14, 15, 16, 17, 18, 19, 20, 21, 22, 23, 24, 25, 26, 27, 28, 29, 30]\n",
      "   mean_fit_time  std_fit_time  mean_score_time  std_score_time param_weights  \\\n",
      "0       0.001803      0.000400         0.002598        0.000800      distance   \n",
      "1       0.001203      0.000399         0.002798        0.001160      distance   \n",
      "2       0.001600      0.000490         0.002000        0.000002      distance   \n",
      "3       0.001205      0.000398         0.001796        0.000404      distance   \n",
      "4       0.001202      0.000402         0.001799        0.000401      distance   \n",
      "5       0.002202      0.002401         0.002199        0.000400      distance   \n",
      "6       0.003796      0.002716         0.002399        0.000798      distance   \n",
      "7       0.002199      0.001469         0.002002        0.000003      distance   \n",
      "8       0.000802      0.000401         0.001800        0.000750      distance   \n",
      "9       0.001798      0.000400         0.001602        0.000493      distance   \n",
      "\n",
      "  param_n_neighbors                                      params  \\\n",
      "0                12  {'weights': 'distance', 'n_neighbors': 12}   \n",
      "1                30  {'weights': 'distance', 'n_neighbors': 30}   \n",
      "2                24  {'weights': 'distance', 'n_neighbors': 24}   \n",
      "3                26  {'weights': 'distance', 'n_neighbors': 26}   \n",
      "4                19  {'weights': 'distance', 'n_neighbors': 19}   \n",
      "5                11  {'weights': 'distance', 'n_neighbors': 11}   \n",
      "6                 3   {'weights': 'distance', 'n_neighbors': 3}   \n",
      "7                14  {'weights': 'distance', 'n_neighbors': 14}   \n",
      "8                27  {'weights': 'distance', 'n_neighbors': 27}   \n",
      "9                22  {'weights': 'distance', 'n_neighbors': 22}   \n",
      "\n",
      "   split0_test_score  split1_test_score  split2_test_score  split3_test_score  \\\n",
      "0           0.966667           1.000000           1.000000           0.966667   \n",
      "1           0.966667           0.966667           0.933333           0.933333   \n",
      "2           0.966667           1.000000           0.966667           0.966667   \n",
      "3           0.933333           0.966667           0.933333           0.966667   \n",
      "4           0.966667           1.000000           0.933333           0.966667   \n",
      "5           0.966667           1.000000           1.000000           0.966667   \n",
      "6           0.966667           0.966667           0.933333           0.966667   \n",
      "7           0.966667           1.000000           0.933333           0.966667   \n",
      "8           0.966667           0.966667           0.966667           0.966667   \n",
      "9           0.966667           1.000000           0.933333           0.966667   \n",
      "\n",
      "   split4_test_score  mean_test_score  std_test_score  rank_test_score  \n",
      "0                1.0         0.986667        0.016330                1  \n",
      "1                1.0         0.960000        0.024944                9  \n",
      "2                1.0         0.980000        0.016330                3  \n",
      "3                1.0         0.960000        0.024944                9  \n",
      "4                1.0         0.973333        0.024944                4  \n",
      "5                1.0         0.986667        0.016330                1  \n",
      "6                1.0         0.966667        0.021082                8  \n",
      "7                1.0         0.973333        0.024944                4  \n",
      "8                1.0         0.973333        0.013333                4  \n",
      "9                1.0         0.973333        0.024944                4  \n",
      "Best Accuracy: 98.67 %\n",
      "Best Parameters: {'weights': 'distance', 'n_neighbors': 12}\n",
      "[{'n_neighbors': [1, 2, 3, 4, 5, 6, 7, 8, 9, 10, 11, 12, 13, 14, 15, 16, 17, 18, 19, 20, 21, 22, 23, 24, 25, 26, 27, 28, 29, 30], 'weights': ['distance']}]\n"
     ]
    }
   ],
   "source": [
    "k_list = list(range(1,31))  # list from 1 - 31 (will be used as KNN's)\n",
    "weight_list = [\"distance\"]  # weights list distance\n",
    "para_rand = dict(n_neighbors=k_list,weights=weight_list)  # adding the above lists in a dictinory.\n",
    "\n",
    "rand_search = rand_search_fun(KNeighborsClassifier(), para_rand, 5, X, y)  # Using the grid search gunction with arguments given "
   ]
  },
  {
   "cell_type": "code",
   "execution_count": null,
   "id": "15ca1545",
   "metadata": {},
   "outputs": [],
   "source": [
    "uniform = []  # creating a empty list\n",
    "k_list1 = []  # creating a empty list\n",
    "for i in range(len(rand_search.cv_results_[\"mean_test_score\"])):  # looping through the times the length of the mean_test_score\n",
    "\n",
    "        uniform.append(rand_search.cv_results_[\"mean_test_score\"][i])  # appending the uniform values ot the uniform variable.\n",
    "        k_list1.append(rand_search.cv_results_[\"param_n_neighbors\"][i])  # appedning the KNN's to the K_list1."
   ]
  },
  {
   "cell_type": "code",
   "execution_count": 112,
   "id": "312f438a",
   "metadata": {},
   "outputs": [],
   "source": [
    "distance = []  # creating a empty list\n",
    "k_list2 = []  # creating a empty list\n",
    "for i in range(len(rand_search.cv_results_[\"mean_test_score\"])):  # looping through the times the length of the mean_test_score\n",
    "        distance.append(rand_search.cv_results_[\"mean_test_score\"][i])  # appending the distance values ot the distance variable.\n",
    "        k_list2.append(rand_search.cv_results_[\"param_n_neighbors\"][i])  # appedning the KNN's to the K_list2."
   ]
  },
  {
   "cell_type": "code",
   "execution_count": 124,
   "id": "9a5cde9a",
   "metadata": {},
   "outputs": [],
   "source": [
    "sorted_distance = []  # creating a empty list\n",
    "sorted_list2 = k_list2.copy()   # creating a copy of the K_list2 variables values.\n",
    "sorted_list2.sort()  # sorting the KNNs\n",
    "for i in range(len(sorted_list2)):  # Looping through the lenght of the sorted_list2 variable.\n",
    "    for j in range(len(k_list2)):  # Looping through the lenght of the K_list2 variable.\n",
    "        if sorted_list2[i] == k_list2[j]:  # checking that if the values of sorted_list2[i] equal  k_list2[j]\n",
    "            sorted_distance.append(distance[j])  # appeding the unifrom[j] values to the sorted_uniform list."
   ]
  },
  {
   "cell_type": "code",
   "execution_count": 118,
   "id": "f18c1c25",
   "metadata": {},
   "outputs": [
    {
     "data": {
      "text/plain": [
       "[12, 30, 24, 26, 19, 11, 3, 14, 27, 22]"
      ]
     },
     "execution_count": 118,
     "metadata": {},
     "output_type": "execute_result"
    }
   ],
   "source": [
    "k_list1  # checking out put of  the given variables values "
   ]
  },
  {
   "cell_type": "code",
   "execution_count": 116,
   "id": "48e46876",
   "metadata": {},
   "outputs": [
    {
     "data": {
      "text/plain": [
       "[3, 11, 12, 14, 19, 22, 24, 26, 27, 30]"
      ]
     },
     "execution_count": 116,
     "metadata": {},
     "output_type": "execute_result"
    }
   ],
   "source": [
    "sorted_list1  # checking out put of  the given variables values "
   ]
  },
  {
   "cell_type": "code",
   "execution_count": 121,
   "id": "901ded52",
   "metadata": {},
   "outputs": [
    {
     "data": {
      "text/plain": [
       "[12, 30, 24, 26, 19, 11, 3, 14, 27, 22]"
      ]
     },
     "execution_count": 121,
     "metadata": {},
     "output_type": "execute_result"
    }
   ],
   "source": [
    "k_list2  # checking out put of  the given variables values  "
   ]
  },
  {
   "cell_type": "code",
   "execution_count": 122,
   "id": "6fcc2286",
   "metadata": {},
   "outputs": [
    {
     "data": {
      "text/plain": [
       "[3, 11, 12, 14, 19, 22, 24, 26, 27, 30]"
      ]
     },
     "execution_count": 122,
     "metadata": {},
     "output_type": "execute_result"
    }
   ],
   "source": [
    "sorted_list2  # checking out put of  the given variables values "
   ]
  },
  {
   "cell_type": "code",
   "execution_count": 119,
   "id": "1dd5109d",
   "metadata": {},
   "outputs": [
    {
     "data": {
      "text/plain": [
       "[0.9800000000000001,\n",
       " 0.9399999999999998,\n",
       " 0.9466666666666667,\n",
       " 0.9466666666666665,\n",
       " 0.9666666666666668,\n",
       " 0.9800000000000001,\n",
       " 0.9666666666666668,\n",
       " 0.9666666666666666,\n",
       " 0.9466666666666667,\n",
       " 0.96]"
      ]
     },
     "execution_count": 119,
     "metadata": {},
     "output_type": "execute_result"
    }
   ],
   "source": [
    "uniform  # checking out put of  the given variables values "
   ]
  },
  {
   "cell_type": "code",
   "execution_count": 114,
   "id": "1971b78a",
   "metadata": {},
   "outputs": [
    {
     "data": {
      "text/plain": [
       "[0.9666666666666668,\n",
       " 0.9800000000000001,\n",
       " 0.9800000000000001,\n",
       " 0.9666666666666666,\n",
       " 0.9666666666666668,\n",
       " 0.96,\n",
       " 0.9466666666666667,\n",
       " 0.9466666666666665,\n",
       " 0.9466666666666667,\n",
       " 0.9399999999999998]"
      ]
     },
     "execution_count": 114,
     "metadata": {},
     "output_type": "execute_result"
    }
   ],
   "source": [
    "sorted_uniform  # checking out put of  the given variables values  "
   ]
  },
  {
   "cell_type": "code",
   "execution_count": 123,
   "id": "1fb8e65a",
   "metadata": {},
   "outputs": [
    {
     "data": {
      "text/plain": [
       "[0.9866666666666667,\n",
       " 0.96,\n",
       " 0.9800000000000001,\n",
       " 0.96,\n",
       " 0.9733333333333334,\n",
       " 0.9866666666666667,\n",
       " 0.9666666666666668,\n",
       " 0.9733333333333334,\n",
       " 0.9733333333333334,\n",
       " 0.9733333333333334]"
      ]
     },
     "execution_count": 123,
     "metadata": {},
     "output_type": "execute_result"
    }
   ],
   "source": [
    "distance  # checking out put of  the given variables values  "
   ]
  },
  {
   "cell_type": "code",
   "execution_count": 115,
   "id": "21ab8990",
   "metadata": {},
   "outputs": [
    {
     "data": {
      "text/plain": [
       "[0.9666666666666668,\n",
       " 0.9866666666666667,\n",
       " 0.9866666666666667,\n",
       " 0.9733333333333334,\n",
       " 0.9733333333333334,\n",
       " 0.9733333333333334,\n",
       " 0.9800000000000001,\n",
       " 0.96,\n",
       " 0.9733333333333334,\n",
       " 0.96]"
      ]
     },
     "execution_count": 115,
     "metadata": {},
     "output_type": "execute_result"
    }
   ],
   "source": [
    "sorted_distance  # checking out put of  the given variables values "
   ]
  },
  {
   "cell_type": "code",
   "execution_count": 120,
   "id": "82e3ec51",
   "metadata": {},
   "outputs": [
    {
     "data": {
      "image/png": "[encoded data removed]",
      "text/plain": [
       "<Figure size 1400x700 with 1 Axes>"
      ]
     },
     "metadata": {
      "needs_background": "light"
     },
     "output_type": "display_data"
    }
   ],
   "source": [
    "plt.figure(dpi=100, figsize=(14, 7))  # setting the plot size\n",
    "plt.title(\"Random Search Hyper parameter Comparison\",fontsize=14, color=\"blue\")  # setting the plot title.\n",
    "plt.plot(sorted_list1,sorted_uniform , \"--\",marker = \"o\", label=\"weights uniform\", color=\"red\")  # setting the uniform variables values to the plot on the y axis and K_list  on the x axis.\n",
    "plt.plot(sorted_list2,sorted_distance , \":\",marker = \"*\", label=\"weights distant\", color=\"blue\")  # setting the distant variables values to the plot on the y axis and K_list  on the x axis.\n",
    "plt.xlabel(\"Number of nearest neighbours\")  # Setting the x label.\n",
    "plt.ylabel(\"Avarage CV Score\")  # setting the y label.\n",
    "plt.legend(loc='upper left')   # setting the legend.\n",
    "plt.grid()  # setting a grid"
   ]
  },
  {
   "cell_type": "code",
   "execution_count": null,
   "id": "caca41da",
   "metadata": {},
   "outputs": [],
   "source": []
  },
  {
   "cell_type": "code",
   "execution_count": null,
   "id": "78be68e6",
   "metadata": {},
   "outputs": [],
   "source": []
  }
 ],
 "metadata": {
  "kernelspec": {
   "display_name": "Python 3",
   "language": "python",
   "name": "python3"
  },
  "language_info": {
   "codemirror_mode": {
    "name": "ipython",
    "version": 3
   },
   "file_extension": ".py",
   "mimetype": "text/x-python",
   "name": "python",
   "nbconvert_exporter": "python",
   "pygments_lexer": "ipython3",
   "version": "3.8.8"
  }
 },
 "nbformat": 4,
 "nbformat_minor": 5
}
