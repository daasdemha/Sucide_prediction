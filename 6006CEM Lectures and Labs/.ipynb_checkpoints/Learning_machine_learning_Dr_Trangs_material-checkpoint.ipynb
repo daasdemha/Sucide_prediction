{
 "cells": [
  {
   "cell_type": "code",
   "execution_count": 58,
   "id": "6b5eeba7",
   "metadata": {},
   "outputs": [],
   "source": [
    "import numpy as np  # Allows us to work with arrays.\n",
    "import matplotlib.pyplot as plt  # Allows working with plots.\n",
    "import pandas as pd  # importing pandas’ library for use. Allows us to import data set and manipulate it.\n",
    "\n",
    "import seaborn as sns  # Allows to polt beautiful plots.\n",
    "import matplotlib.pyplot as plt # plotting.\n",
    "\n",
    "\n",
    "from sklearn.compose import ColumnTransformer  # helps with encoding.\n",
    "from sklearn.preprocessing import OneHotEncoder  # Does onehotencode.\n",
    "from sklearn.preprocessing import LabelEncoder   # Does 1 and 0 encoding.\n",
    "from sklearn.model_selection import train_test_split  # Splits dataset into test set and traning set. \n",
    "from sklearn.preprocessing import StandardScaler  # Perform the feature scaling.\n",
    "from sklearn.linear_model import LogisticRegression  # Performs logistic regression.\n",
    "from sklearn.metrics import confusion_matrix, ConfusionMatrixDisplay  # creates a confusion matrix\n",
    "from sklearn.metrics import accuracy_score  # Returns accury score of a model.\n",
    "from sklearn.neighbors import KNeighborsClassifier  # performs K Neariesst Neighobour.\n",
    "from sklearn.impute import KNNImputer  # imputes missing values using KNN.\n",
    "from sklearn.svm import SVC  # Performs svm\n",
    "from sklearn.naive_bayes import GaussianNB  # performs naive_bayes gaussianNB.\n",
    "from sklearn.tree import DecisionTreeClassifier  #Perfroms decision tree classification model.\n",
    "from sklearn.ensemble import RandomForestClassifier  #Performs random forest classification.\n",
    "from xgboost import XGBClassifier  # performs xgboost classification. gradiant decision trees.\n",
    "from sklearn.linear_model import LinearRegression  # will use to replace missing values linear regressoin\n",
    "from sklearn.decomposition import PCA  # Performs model optimization\n",
    "from sklearn.decomposition import KernelPCA  # Performs model optimization\n",
    "from sklearn.discriminant_analysis import LinearDiscriminantAnalysis as LDA # performs model optimization\n",
    "from sklearn.model_selection import cross_val_score  # performs cross validation. Helps in model selection.\n",
    "from sklearn.model_selection import GridSearchCV  # helps select the best hyper parameters\n",
    "\n",
    "import warnings\n",
    "warnings.filterwarnings(\"ignore\")\n",
    "\n",
    "#%matplotlib inline  # helps in showing plots on the browser."
   ]
  },
  {
   "cell_type": "markdown",
   "id": "7bfeae47",
   "metadata": {},
   "source": [
    "# Learning matplot lib"
   ]
  },
  {
   "cell_type": "code",
   "execution_count": 59,
   "id": "44d9259f",
   "metadata": {},
   "outputs": [
    {
     "name": "stderr",
     "output_type": "stream",
     "text": [
      "UsageError: unrecognized arguments: # helps in showing plots on the browser.\n"
     ]
    }
   ],
   "source": [
    "import matplotlib.pyplot as plt # plotting.\n",
    "%matplotlib inline  # helps in showing plots on the browser."
   ]
  },
  {
   "cell_type": "markdown",
   "id": "21ed6154",
   "metadata": {},
   "source": [
    "## scatter plot"
   ]
  },
  {
   "cell_type": "code",
   "execution_count": 61,
   "id": "8f6473f3",
   "metadata": {},
   "outputs": [
    {
     "data": {
      "text/plain": [
       "<matplotlib.collections.PathCollection at 0x21b8552f7f0>"
      ]
     },
     "execution_count": 61,
     "metadata": {},
     "output_type": "execute_result"
    },
    {
     "data": {
      "image/png": "[encoded data removed]",
      "text/plain": [
       "<Figure size 432x288 with 1 Axes>"
      ]
     },
     "metadata": {
      "needs_background": "light"
     },
     "output_type": "display_data"
    }
   ],
   "source": [
    "x_days  = [\"day1\", \"day2\", \"day3\", \"day4\"]\n",
    "y_temp  = [1, 2, 3, 4]\n",
    "y2_temp  = [8,9,10,11]\n",
    "plt.title(\"weather\",fontsize=18)\n",
    "plt.xlabel(\"Days\")\n",
    "plt.ylabel(\"temp\")\n",
    "plt.scatter(x_days,y_temp  )"
   ]
  },
  {
   "cell_type": "markdown",
   "id": "c3d93dae",
   "metadata": {},
   "source": [
    "## parameters in scatter plot"
   ]
  },
  {
   "cell_type": "code",
   "execution_count": 62,
   "id": "559d9687",
   "metadata": {},
   "outputs": [],
   "source": [
    "# colour  - alows to change colour\n",
    "# s       - allows to change size\n",
    "# marker  = style of marker\n",
    "# apha    - transparency \n",
    "# etc     - check others online "
   ]
  },
  {
   "cell_type": "markdown",
   "id": "e7efc043",
   "metadata": {},
   "source": [
    "## line plot"
   ]
  },
  {
   "cell_type": "code",
   "execution_count": 63,
   "id": "17bc66f2",
   "metadata": {},
   "outputs": [
    {
     "data": {
      "text/plain": [
       "[<matplotlib.lines.Line2D at 0x21b8517f9a0>]"
      ]
     },
     "execution_count": 63,
     "metadata": {},
     "output_type": "execute_result"
    },
    {
     "data": {
      "image/png": "[encoded data removed]",
      "text/plain": [
       "<Figure size 432x288 with 1 Axes>"
      ]
     },
     "metadata": {
      "needs_background": "light"
     },
     "output_type": "display_data"
    }
   ],
   "source": [
    "plt.plot(x_days,y_temp)"
   ]
  },
  {
   "cell_type": "code",
   "execution_count": 64,
   "id": "6c4e8a04",
   "metadata": {},
   "outputs": [
    {
     "data": {
      "text/plain": [
       "<matplotlib.legend.Legend at 0x21b855bc8e0>"
      ]
     },
     "execution_count": 64,
     "metadata": {},
     "output_type": "execute_result"
    },
    {
     "data": {
      "image/png": "[encoded data removed]",
      "text/plain": [
       "<Figure size 432x288 with 1 Axes>"
      ]
     },
     "metadata": {
      "needs_background": "light"
     },
     "output_type": "display_data"
    }
   ],
   "source": [
    "plt.plot(x_days,y_temp,label=\"min temp\")\n",
    "plt.plot(x_days,y2_temp,label=\"max temp\")\n",
    "plt.legend()\n"
   ]
  },
  {
   "cell_type": "markdown",
   "id": "64f38560",
   "metadata": {},
   "source": [
    "## parameters in line plot"
   ]
  },
  {
   "cell_type": "code",
   "execution_count": 65,
   "id": "e0fe20e4",
   "metadata": {},
   "outputs": [],
   "source": [
    "# colour  - alows to change colour\n",
    "# fmt       - allows to format string\n",
    "# linestyles  - \n",
    "### line plot linewidth   - \n",
    "# marker  = style of marker\n",
    "# apha    - transparency \n",
    "# etc     - check others online "
   ]
  },
  {
   "cell_type": "markdown",
   "id": "233b29eb",
   "metadata": {},
   "source": [
    "## pie chart"
   ]
  },
  {
   "cell_type": "code",
   "execution_count": 66,
   "id": "b2275193",
   "metadata": {},
   "outputs": [
    {
     "data": {
      "text/plain": [
       "([<matplotlib.patches.Wedge at 0x21b85628130>,\n",
       "  <matplotlib.patches.Wedge at 0x21b856285b0>,\n",
       "  <matplotlib.patches.Wedge at 0x21b85628a30>,\n",
       "  <matplotlib.patches.Wedge at 0x21b85628eb0>],\n",
       " [Text(1.0461621663333946, 0.3399186987098808, 'day1'),\n",
       "  Text(0.33991867422268784, 1.0461621742897658, 'day2'),\n",
       "  Text(-1.0461621902025062, 0.3399186252483017, 'day3'),\n",
       "  Text(0.3399188211458418, -1.0461621265515308, 'day4')])"
      ]
     },
     "execution_count": 66,
     "metadata": {},
     "output_type": "execute_result"
    },
    {
     "data": {
      "image/png": "[encoded data removed]",
      "text/plain": [
       "<Figure size 432x288 with 1 Axes>"
      ]
     },
     "metadata": {},
     "output_type": "display_data"
    }
   ],
   "source": [
    "plt.pie(y_temp,labels=x_days)"
   ]
  },
  {
   "cell_type": "markdown",
   "id": "3768ba0c",
   "metadata": {},
   "source": [
    "## parameters in pie chart"
   ]
  },
  {
   "cell_type": "code",
   "execution_count": 67,
   "id": "ec67bde0",
   "metadata": {},
   "outputs": [],
   "source": [
    "# colour  - alows to change colour\n",
    "# lables      - allows us to label string to numbers## pie chart\n",
    "# explode  - \n",
    "# shadow   - \n",
    "# radius  = style of marker \n",
    "# etc     - check others online "
   ]
  },
  {
   "cell_type": "markdown",
   "id": "0fe1f5b0",
   "metadata": {},
   "source": [
    "## bar chart"
   ]
  },
  {
   "cell_type": "code",
   "execution_count": 68,
   "id": "a6a9f376",
   "metadata": {},
   "outputs": [
    {
     "data": {
      "text/plain": [
       "<BarContainer object of 4 artists>"
      ]
     },
     "execution_count": 68,
     "metadata": {},
     "output_type": "execute_result"
    },
    {
     "data": {
      "image/png": "[encoded data removed]",
      "text/plain": [
       "<Figure size 432x288 with 1 Axes>"
      ]
     },
     "metadata": {
      "needs_background": "light"
     },
     "output_type": "display_data"
    }
   ],
   "source": [
    "plt.bar(x_days,y_temp)"
   ]
  },
  {
   "cell_type": "code",
   "execution_count": 69,
   "id": "cb06fb5e",
   "metadata": {},
   "outputs": [
    {
     "data": {
      "text/plain": [
       "<BarContainer object of 4 artists>"
      ]
     },
     "execution_count": 69,
     "metadata": {},
     "output_type": "execute_result"
    },
    {
     "data": {
      "image/png": "[encoded data removed]",
      "text/plain": [
       "<Figure size 432x288 with 1 Axes>"
      ]
     },
     "metadata": {
      "needs_background": "light"
     },
     "output_type": "display_data"
    }
   ],
   "source": [
    "plt.bar(x_days,y2_temp)\n",
    "plt.bar(x_days,y_temp)\n",
    "\n"
   ]
  },
  {
   "cell_type": "code",
   "execution_count": 70,
   "id": "d6a92fcf",
   "metadata": {},
   "outputs": [],
   "source": [
    "# check parameters online"
   ]
  },
  {
   "cell_type": "code",
   "execution_count": 71,
   "id": "695bc19f",
   "metadata": {},
   "outputs": [
    {
     "ename": "AttributeError",
     "evalue": "module 'matplotlib.pyplot' has no attribute 'subplot2gird'",
     "output_type": "error",
     "traceback": [
      "\u001b[1;31m---------------------------------------------------------------------------\u001b[0m",
      "\u001b[1;31mAttributeError\u001b[0m                            Traceback (most recent call last)",
      "\u001b[1;32m<ipython-input-71-67519b2eb150>\u001b[0m in \u001b[0;36m<module>\u001b[1;34m\u001b[0m\n\u001b[1;32m----> 1\u001b[1;33m ax1 = plt.subplot2gird(\n\u001b[0m\u001b[0;32m      2\u001b[0m (3,3),(0,0))\n\u001b[0;32m      3\u001b[0m ax2 = plt.subplot2gird(\n\u001b[0;32m      4\u001b[0m (3,3),(1,1))\n\u001b[0;32m      5\u001b[0m \u001b[0mplt\u001b[0m\u001b[1;33m.\u001b[0m\u001b[0mbar\u001b[0m\u001b[1;33m(\u001b[0m\u001b[0max1\u001b[0m\u001b[1;33m,\u001b[0m\u001b[0max2\u001b[0m\u001b[1;33m)\u001b[0m\u001b[1;33m\u001b[0m\u001b[1;33m\u001b[0m\u001b[0m\n",
      "\u001b[1;31mAttributeError\u001b[0m: module 'matplotlib.pyplot' has no attribute 'subplot2gird'"
     ]
    }
   ],
   "source": [
    "ax1 = plt.subplot2gird(\n",
    "(3,3),(0,0))\n",
    "ax2 = plt.subplot2gird(\n",
    "(3,3),(1,1))\n",
    "plt.bar(ax1,ax2)"
   ]
  },
  {
   "cell_type": "code",
   "execution_count": 72,
   "id": "1abab7dc",
   "metadata": {},
   "outputs": [
    {
     "ename": "NameError",
     "evalue": "name 'OneHotEncoderder' is not defined",
     "output_type": "error",
     "traceback": [
      "\u001b[1;31m---------------------------------------------------------------------------\u001b[0m",
      "\u001b[1;31mNameError\u001b[0m                                 Traceback (most recent call last)",
      "\u001b[1;32m<ipython-input-72-d93f71d0b290>\u001b[0m in \u001b[0;36m<module>\u001b[1;34m\u001b[0m\n\u001b[1;32m----> 1\u001b[1;33m \u001b[0moh\u001b[0m \u001b[1;33m=\u001b[0m \u001b[0mOneHotEncoderder\u001b[0m\u001b[1;33m(\u001b[0m\u001b[0mdrop\u001b[0m\u001b[1;33m=\u001b[0m\u001b[1;34m\"first\"\u001b[0m\u001b[1;33m,\u001b[0m\u001b[0mdtype\u001b[0m\u001b[1;33m=\u001b[0m\u001b[0mnp\u001b[0m\u001b[1;33m.\u001b[0m\u001b[0mint\u001b[0m\u001b[1;33m)\u001b[0m\u001b[1;33m\u001b[0m\u001b[1;33m\u001b[0m\u001b[0m\n\u001b[0m\u001b[0;32m      2\u001b[0m \u001b[0mnewdf\u001b[0m \u001b[1;33m=\u001b[0m \u001b[0mdf\u001b[0m\u001b[1;33m[\u001b[0m\u001b[1;33m[\u001b[0m\u001b[1;34m\"required_column\"\u001b[0m\u001b[1;33m]\u001b[0m\u001b[1;33m]\u001b[0m\u001b[1;33m\u001b[0m\u001b[1;33m\u001b[0m\u001b[0m\n\u001b[0;32m      3\u001b[0m \u001b[0mnewdf\u001b[0m \u001b[1;33m=\u001b[0m \u001b[0moh\u001b[0m\u001b[1;33m.\u001b[0m\u001b[0mfit_transform\u001b[0m\u001b[1;33m(\u001b[0m\u001b[0mnewdf\u001b[0m\u001b[1;33m)\u001b[0m\u001b[1;33m.\u001b[0m\u001b[0mtoarray\u001b[0m\u001b[1;33m(\u001b[0m\u001b[1;33m)\u001b[0m\u001b[1;33m\u001b[0m\u001b[1;33m\u001b[0m\u001b[0m\n\u001b[0;32m      4\u001b[0m \u001b[0mnewdf\u001b[0m \u001b[1;33m=\u001b[0m \u001b[0mpd\u001b[0m\u001b[1;33m.\u001b[0m\u001b[0mDataFrame\u001b[0m\u001b[1;33m(\u001b[0m\u001b[0mnewdf\u001b[0m\u001b[1;33m)\u001b[0m\u001b[1;33m\u001b[0m\u001b[1;33m\u001b[0m\u001b[0m\n\u001b[0;32m      5\u001b[0m \u001b[0mnewdf\u001b[0m\u001b[1;33m\u001b[0m\u001b[1;33m\u001b[0m\u001b[0m\n",
      "\u001b[1;31mNameError\u001b[0m: name 'OneHotEncoderder' is not defined"
     ]
    }
   ],
   "source": [
    "oh = OneHotEncoderder(drop=\"first\",dtype=np.int)\n",
    "newdf = df[[\"required_column\"]]\n",
    "newdf = oh.fit_transform(newdf).toarray()\n",
    "newdf = pd.DataFrame(newdf)\n",
    "newdf"
   ]
  },
  {
   "cell_type": "code",
   "execution_count": 74,
   "id": "b25bfc33",
   "metadata": {},
   "outputs": [],
   "source": [
    "from sklearn.neural_network import MLPClassifier\n",
    "model = MLPClassifier()\n",
    "model.fit(X_train,y_train)\n",
    "prediction = model.predict(X_test)"
   ]
  },
  {
   "cell_type": "code",
   "execution_count": 92,
   "id": "ea8911b3",
   "metadata": {},
   "outputs": [],
   "source": [
    "model = pd.read_csv(\"iris.csv\")\n",
    "\n"
   ]
  },
  {
   "cell_type": "code",
   "execution_count": 93,
   "id": "bf2966fe",
   "metadata": {},
   "outputs": [
    {
     "data": {
      "text/html": [
       "<div>\n",
       "<style scoped>\n",
       "    .dataframe tbody tr th:only-of-type {\n",
       "        vertical-align: middle;\n",
       "    }\n",
       "\n",
       "    .dataframe tbody tr th {\n",
       "        vertical-align: top;\n",
       "    }\n",
       "\n",
       "    .dataframe thead th {\n",
       "        text-align: right;\n",
       "    }\n",
       "</style>\n",
       "<table border=\"1\" class=\"dataframe\">\n",
       "  <thead>\n",
       "    <tr style=\"text-align: right;\">\n",
       "      <th></th>\n",
       "      <th>Id</th>\n",
       "      <th>SepalLengthCm</th>\n",
       "      <th>SepalWidthCm</th>\n",
       "      <th>PetalLengthCm</th>\n",
       "      <th>PetalWidthCm</th>\n",
       "      <th>Species</th>\n",
       "    </tr>\n",
       "  </thead>\n",
       "  <tbody>\n",
       "    <tr>\n",
       "      <th>0</th>\n",
       "      <td>1</td>\n",
       "      <td>5.1</td>\n",
       "      <td>3.5</td>\n",
       "      <td>1.4</td>\n",
       "      <td>0.2</td>\n",
       "      <td>Iris-setosa</td>\n",
       "    </tr>\n",
       "    <tr>\n",
       "      <th>1</th>\n",
       "      <td>2</td>\n",
       "      <td>4.9</td>\n",
       "      <td>3.0</td>\n",
       "      <td>1.4</td>\n",
       "      <td>0.2</td>\n",
       "      <td>Iris-setosa</td>\n",
       "    </tr>\n",
       "    <tr>\n",
       "      <th>2</th>\n",
       "      <td>3</td>\n",
       "      <td>4.7</td>\n",
       "      <td>3.2</td>\n",
       "      <td>1.3</td>\n",
       "      <td>0.2</td>\n",
       "      <td>Iris-setosa</td>\n",
       "    </tr>\n",
       "    <tr>\n",
       "      <th>3</th>\n",
       "      <td>4</td>\n",
       "      <td>4.6</td>\n",
       "      <td>3.1</td>\n",
       "      <td>1.5</td>\n",
       "      <td>0.2</td>\n",
       "      <td>Iris-setosa</td>\n",
       "    </tr>\n",
       "    <tr>\n",
       "      <th>4</th>\n",
       "      <td>5</td>\n",
       "      <td>5.0</td>\n",
       "      <td>3.6</td>\n",
       "      <td>1.4</td>\n",
       "      <td>0.2</td>\n",
       "      <td>Iris-setosa</td>\n",
       "    </tr>\n",
       "  </tbody>\n",
       "</table>\n",
       "</div>"
      ],
      "text/plain": [
       "   Id  SepalLengthCm  SepalWidthCm  PetalLengthCm  PetalWidthCm      Species\n",
       "0   1            5.1           3.5            1.4           0.2  Iris-setosa\n",
       "1   2            4.9           3.0            1.4           0.2  Iris-setosa\n",
       "2   3            4.7           3.2            1.3           0.2  Iris-setosa\n",
       "3   4            4.6           3.1            1.5           0.2  Iris-setosa\n",
       "4   5            5.0           3.6            1.4           0.2  Iris-setosa"
      ]
     },
     "execution_count": 93,
     "metadata": {},
     "output_type": "execute_result"
    }
   ],
   "source": [
    "model.head()"
   ]
  },
  {
   "cell_type": "code",
   "execution_count": 94,
   "id": "f0df12d1",
   "metadata": {},
   "outputs": [
    {
     "data": {
      "text/plain": [
       "Id               0\n",
       "SepalLengthCm    0\n",
       "SepalWidthCm     0\n",
       "PetalLengthCm    0\n",
       "PetalWidthCm     0\n",
       "Species          0\n",
       "dtype: int64"
      ]
     },
     "execution_count": 94,
     "metadata": {},
     "output_type": "execute_result"
    }
   ],
   "source": [
    "model.isnull().sum()  # Checking the dataframe for null values."
   ]
  },
  {
   "cell_type": "code",
   "execution_count": 95,
   "id": "0a8ff081",
   "metadata": {},
   "outputs": [
    {
     "name": "stdout",
     "output_type": "stream",
     "text": [
      "Species\n",
      "Iris-setosa        50\n",
      "Iris-versicolor    50\n",
      "Iris-virginica     50\n",
      "dtype: int64\n"
     ]
    }
   ],
   "source": [
    "print(model.pivot_table(columns=['Species'], aggfunc='size'))"
   ]
  },
  {
   "cell_type": "code",
   "execution_count": 96,
   "id": "6d10aaf7",
   "metadata": {},
   "outputs": [],
   "source": [
    "dummy = pd.get_dummies(model.Species)"
   ]
  },
  {
   "cell_type": "code",
   "execution_count": 97,
   "id": "d4956a71",
   "metadata": {},
   "outputs": [
    {
     "data": {
      "text/html": [
       "<div>\n",
       "<style scoped>\n",
       "    .dataframe tbody tr th:only-of-type {\n",
       "        vertical-align: middle;\n",
       "    }\n",
       "\n",
       "    .dataframe tbody tr th {\n",
       "        vertical-align: top;\n",
       "    }\n",
       "\n",
       "    .dataframe thead th {\n",
       "        text-align: right;\n",
       "    }\n",
       "</style>\n",
       "<table border=\"1\" class=\"dataframe\">\n",
       "  <thead>\n",
       "    <tr style=\"text-align: right;\">\n",
       "      <th></th>\n",
       "      <th>Iris-setosa</th>\n",
       "      <th>Iris-versicolor</th>\n",
       "      <th>Iris-virginica</th>\n",
       "    </tr>\n",
       "  </thead>\n",
       "  <tbody>\n",
       "    <tr>\n",
       "      <th>0</th>\n",
       "      <td>1</td>\n",
       "      <td>0</td>\n",
       "      <td>0</td>\n",
       "    </tr>\n",
       "    <tr>\n",
       "      <th>1</th>\n",
       "      <td>1</td>\n",
       "      <td>0</td>\n",
       "      <td>0</td>\n",
       "    </tr>\n",
       "    <tr>\n",
       "      <th>2</th>\n",
       "      <td>1</td>\n",
       "      <td>0</td>\n",
       "      <td>0</td>\n",
       "    </tr>\n",
       "    <tr>\n",
       "      <th>3</th>\n",
       "      <td>1</td>\n",
       "      <td>0</td>\n",
       "      <td>0</td>\n",
       "    </tr>\n",
       "    <tr>\n",
       "      <th>4</th>\n",
       "      <td>1</td>\n",
       "      <td>0</td>\n",
       "      <td>0</td>\n",
       "    </tr>\n",
       "    <tr>\n",
       "      <th>...</th>\n",
       "      <td>...</td>\n",
       "      <td>...</td>\n",
       "      <td>...</td>\n",
       "    </tr>\n",
       "    <tr>\n",
       "      <th>145</th>\n",
       "      <td>0</td>\n",
       "      <td>0</td>\n",
       "      <td>1</td>\n",
       "    </tr>\n",
       "    <tr>\n",
       "      <th>146</th>\n",
       "      <td>0</td>\n",
       "      <td>0</td>\n",
       "      <td>1</td>\n",
       "    </tr>\n",
       "    <tr>\n",
       "      <th>147</th>\n",
       "      <td>0</td>\n",
       "      <td>0</td>\n",
       "      <td>1</td>\n",
       "    </tr>\n",
       "    <tr>\n",
       "      <th>148</th>\n",
       "      <td>0</td>\n",
       "      <td>0</td>\n",
       "      <td>1</td>\n",
       "    </tr>\n",
       "    <tr>\n",
       "      <th>149</th>\n",
       "      <td>0</td>\n",
       "      <td>0</td>\n",
       "      <td>1</td>\n",
       "    </tr>\n",
       "  </tbody>\n",
       "</table>\n",
       "<p>150 rows × 3 columns</p>\n",
       "</div>"
      ],
      "text/plain": [
       "     Iris-setosa  Iris-versicolor  Iris-virginica\n",
       "0              1                0               0\n",
       "1              1                0               0\n",
       "2              1                0               0\n",
       "3              1                0               0\n",
       "4              1                0               0\n",
       "..           ...              ...             ...\n",
       "145            0                0               1\n",
       "146            0                0               1\n",
       "147            0                0               1\n",
       "148            0                0               1\n",
       "149            0                0               1\n",
       "\n",
       "[150 rows x 3 columns]"
      ]
     },
     "execution_count": 97,
     "metadata": {},
     "output_type": "execute_result"
    }
   ],
   "source": [
    "dummy"
   ]
  },
  {
   "cell_type": "code",
   "execution_count": 98,
   "id": "69b543c2",
   "metadata": {},
   "outputs": [],
   "source": [
    "dummy = dummy.drop('Iris-setosa', 1)\n",
    "dummy = dummy.drop('Iris-versicolor', 1)"
   ]
  },
  {
   "cell_type": "code",
   "execution_count": null,
   "id": "5d830364",
   "metadata": {},
   "outputs": [],
   "source": []
  },
  {
   "cell_type": "code",
   "execution_count": 100,
   "id": "70a8ccab",
   "metadata": {},
   "outputs": [
    {
     "data": {
      "text/html": [
       "<div>\n",
       "<style scoped>\n",
       "    .dataframe tbody tr th:only-of-type {\n",
       "        vertical-align: middle;\n",
       "    }\n",
       "\n",
       "    .dataframe tbody tr th {\n",
       "        vertical-align: top;\n",
       "    }\n",
       "\n",
       "    .dataframe thead th {\n",
       "        text-align: right;\n",
       "    }\n",
       "</style>\n",
       "<table border=\"1\" class=\"dataframe\">\n",
       "  <thead>\n",
       "    <tr style=\"text-align: right;\">\n",
       "      <th></th>\n",
       "      <th>Id</th>\n",
       "      <th>SepalLengthCm</th>\n",
       "      <th>SepalWidthCm</th>\n",
       "      <th>PetalLengthCm</th>\n",
       "      <th>PetalWidthCm</th>\n",
       "      <th>Species</th>\n",
       "      <th>Iris-virginica</th>\n",
       "    </tr>\n",
       "  </thead>\n",
       "  <tbody>\n",
       "    <tr>\n",
       "      <th>0</th>\n",
       "      <td>1</td>\n",
       "      <td>5.1</td>\n",
       "      <td>3.5</td>\n",
       "      <td>1.4</td>\n",
       "      <td>0.2</td>\n",
       "      <td>Iris-setosa</td>\n",
       "      <td>0</td>\n",
       "    </tr>\n",
       "    <tr>\n",
       "      <th>1</th>\n",
       "      <td>2</td>\n",
       "      <td>4.9</td>\n",
       "      <td>3.0</td>\n",
       "      <td>1.4</td>\n",
       "      <td>0.2</td>\n",
       "      <td>Iris-setosa</td>\n",
       "      <td>0</td>\n",
       "    </tr>\n",
       "    <tr>\n",
       "      <th>2</th>\n",
       "      <td>3</td>\n",
       "      <td>4.7</td>\n",
       "      <td>3.2</td>\n",
       "      <td>1.3</td>\n",
       "      <td>0.2</td>\n",
       "      <td>Iris-setosa</td>\n",
       "      <td>0</td>\n",
       "    </tr>\n",
       "    <tr>\n",
       "      <th>3</th>\n",
       "      <td>4</td>\n",
       "      <td>4.6</td>\n",
       "      <td>3.1</td>\n",
       "      <td>1.5</td>\n",
       "      <td>0.2</td>\n",
       "      <td>Iris-setosa</td>\n",
       "      <td>0</td>\n",
       "    </tr>\n",
       "    <tr>\n",
       "      <th>4</th>\n",
       "      <td>5</td>\n",
       "      <td>5.0</td>\n",
       "      <td>3.6</td>\n",
       "      <td>1.4</td>\n",
       "      <td>0.2</td>\n",
       "      <td>Iris-setosa</td>\n",
       "      <td>0</td>\n",
       "    </tr>\n",
       "    <tr>\n",
       "      <th>...</th>\n",
       "      <td>...</td>\n",
       "      <td>...</td>\n",
       "      <td>...</td>\n",
       "      <td>...</td>\n",
       "      <td>...</td>\n",
       "      <td>...</td>\n",
       "      <td>...</td>\n",
       "    </tr>\n",
       "    <tr>\n",
       "      <th>145</th>\n",
       "      <td>146</td>\n",
       "      <td>6.7</td>\n",
       "      <td>3.0</td>\n",
       "      <td>5.2</td>\n",
       "      <td>2.3</td>\n",
       "      <td>Iris-virginica</td>\n",
       "      <td>1</td>\n",
       "    </tr>\n",
       "    <tr>\n",
       "      <th>146</th>\n",
       "      <td>147</td>\n",
       "      <td>6.3</td>\n",
       "      <td>2.5</td>\n",
       "      <td>5.0</td>\n",
       "      <td>1.9</td>\n",
       "      <td>Iris-virginica</td>\n",
       "      <td>1</td>\n",
       "    </tr>\n",
       "    <tr>\n",
       "      <th>147</th>\n",
       "      <td>148</td>\n",
       "      <td>6.5</td>\n",
       "      <td>3.0</td>\n",
       "      <td>5.2</td>\n",
       "      <td>2.0</td>\n",
       "      <td>Iris-virginica</td>\n",
       "      <td>1</td>\n",
       "    </tr>\n",
       "    <tr>\n",
       "      <th>148</th>\n",
       "      <td>149</td>\n",
       "      <td>6.2</td>\n",
       "      <td>3.4</td>\n",
       "      <td>5.4</td>\n",
       "      <td>2.3</td>\n",
       "      <td>Iris-virginica</td>\n",
       "      <td>1</td>\n",
       "    </tr>\n",
       "    <tr>\n",
       "      <th>149</th>\n",
       "      <td>150</td>\n",
       "      <td>5.9</td>\n",
       "      <td>3.0</td>\n",
       "      <td>5.1</td>\n",
       "      <td>1.8</td>\n",
       "      <td>Iris-virginica</td>\n",
       "      <td>1</td>\n",
       "    </tr>\n",
       "  </tbody>\n",
       "</table>\n",
       "<p>150 rows × 7 columns</p>\n",
       "</div>"
      ],
      "text/plain": [
       "      Id  SepalLengthCm  SepalWidthCm  PetalLengthCm  PetalWidthCm  \\\n",
       "0      1            5.1           3.5            1.4           0.2   \n",
       "1      2            4.9           3.0            1.4           0.2   \n",
       "2      3            4.7           3.2            1.3           0.2   \n",
       "3      4            4.6           3.1            1.5           0.2   \n",
       "4      5            5.0           3.6            1.4           0.2   \n",
       "..   ...            ...           ...            ...           ...   \n",
       "145  146            6.7           3.0            5.2           2.3   \n",
       "146  147            6.3           2.5            5.0           1.9   \n",
       "147  148            6.5           3.0            5.2           2.0   \n",
       "148  149            6.2           3.4            5.4           2.3   \n",
       "149  150            5.9           3.0            5.1           1.8   \n",
       "\n",
       "            Species  Iris-virginica  \n",
       "0       Iris-setosa               0  \n",
       "1       Iris-setosa               0  \n",
       "2       Iris-setosa               0  \n",
       "3       Iris-setosa               0  \n",
       "4       Iris-setosa               0  \n",
       "..              ...             ...  \n",
       "145  Iris-virginica               1  \n",
       "146  Iris-virginica               1  \n",
       "147  Iris-virginica               1  \n",
       "148  Iris-virginica               1  \n",
       "149  Iris-virginica               1  \n",
       "\n",
       "[150 rows x 7 columns]"
      ]
     },
     "execution_count": 100,
     "metadata": {},
     "output_type": "execute_result"
    }
   ],
   "source": [
    "model = pd.concat([model,dummy],axis=1)\n",
    "model"
   ]
  },
  {
   "cell_type": "code",
   "execution_count": 103,
   "id": "d4ce724a",
   "metadata": {},
   "outputs": [],
   "source": [
    "model = model.drop('Species', 1)"
   ]
  },
  {
   "cell_type": "code",
   "execution_count": 104,
   "id": "581cbb63",
   "metadata": {},
   "outputs": [
    {
     "data": {
      "text/html": [
       "<div>\n",
       "<style scoped>\n",
       "    .dataframe tbody tr th:only-of-type {\n",
       "        vertical-align: middle;\n",
       "    }\n",
       "\n",
       "    .dataframe tbody tr th {\n",
       "        vertical-align: top;\n",
       "    }\n",
       "\n",
       "    .dataframe thead th {\n",
       "        text-align: right;\n",
       "    }\n",
       "</style>\n",
       "<table border=\"1\" class=\"dataframe\">\n",
       "  <thead>\n",
       "    <tr style=\"text-align: right;\">\n",
       "      <th></th>\n",
       "      <th>Id</th>\n",
       "      <th>SepalLengthCm</th>\n",
       "      <th>SepalWidthCm</th>\n",
       "      <th>PetalLengthCm</th>\n",
       "      <th>PetalWidthCm</th>\n",
       "      <th>Iris-virginica</th>\n",
       "    </tr>\n",
       "  </thead>\n",
       "  <tbody>\n",
       "    <tr>\n",
       "      <th>0</th>\n",
       "      <td>1</td>\n",
       "      <td>5.1</td>\n",
       "      <td>3.5</td>\n",
       "      <td>1.4</td>\n",
       "      <td>0.2</td>\n",
       "      <td>0</td>\n",
       "    </tr>\n",
       "    <tr>\n",
       "      <th>1</th>\n",
       "      <td>2</td>\n",
       "      <td>4.9</td>\n",
       "      <td>3.0</td>\n",
       "      <td>1.4</td>\n",
       "      <td>0.2</td>\n",
       "      <td>0</td>\n",
       "    </tr>\n",
       "    <tr>\n",
       "      <th>2</th>\n",
       "      <td>3</td>\n",
       "      <td>4.7</td>\n",
       "      <td>3.2</td>\n",
       "      <td>1.3</td>\n",
       "      <td>0.2</td>\n",
       "      <td>0</td>\n",
       "    </tr>\n",
       "    <tr>\n",
       "      <th>3</th>\n",
       "      <td>4</td>\n",
       "      <td>4.6</td>\n",
       "      <td>3.1</td>\n",
       "      <td>1.5</td>\n",
       "      <td>0.2</td>\n",
       "      <td>0</td>\n",
       "    </tr>\n",
       "    <tr>\n",
       "      <th>4</th>\n",
       "      <td>5</td>\n",
       "      <td>5.0</td>\n",
       "      <td>3.6</td>\n",
       "      <td>1.4</td>\n",
       "      <td>0.2</td>\n",
       "      <td>0</td>\n",
       "    </tr>\n",
       "    <tr>\n",
       "      <th>...</th>\n",
       "      <td>...</td>\n",
       "      <td>...</td>\n",
       "      <td>...</td>\n",
       "      <td>...</td>\n",
       "      <td>...</td>\n",
       "      <td>...</td>\n",
       "    </tr>\n",
       "    <tr>\n",
       "      <th>145</th>\n",
       "      <td>146</td>\n",
       "      <td>6.7</td>\n",
       "      <td>3.0</td>\n",
       "      <td>5.2</td>\n",
       "      <td>2.3</td>\n",
       "      <td>1</td>\n",
       "    </tr>\n",
       "    <tr>\n",
       "      <th>146</th>\n",
       "      <td>147</td>\n",
       "      <td>6.3</td>\n",
       "      <td>2.5</td>\n",
       "      <td>5.0</td>\n",
       "      <td>1.9</td>\n",
       "      <td>1</td>\n",
       "    </tr>\n",
       "    <tr>\n",
       "      <th>147</th>\n",
       "      <td>148</td>\n",
       "      <td>6.5</td>\n",
       "      <td>3.0</td>\n",
       "      <td>5.2</td>\n",
       "      <td>2.0</td>\n",
       "      <td>1</td>\n",
       "    </tr>\n",
       "    <tr>\n",
       "      <th>148</th>\n",
       "      <td>149</td>\n",
       "      <td>6.2</td>\n",
       "      <td>3.4</td>\n",
       "      <td>5.4</td>\n",
       "      <td>2.3</td>\n",
       "      <td>1</td>\n",
       "    </tr>\n",
       "    <tr>\n",
       "      <th>149</th>\n",
       "      <td>150</td>\n",
       "      <td>5.9</td>\n",
       "      <td>3.0</td>\n",
       "      <td>5.1</td>\n",
       "      <td>1.8</td>\n",
       "      <td>1</td>\n",
       "    </tr>\n",
       "  </tbody>\n",
       "</table>\n",
       "<p>150 rows × 6 columns</p>\n",
       "</div>"
      ],
      "text/plain": [
       "      Id  SepalLengthCm  SepalWidthCm  PetalLengthCm  PetalWidthCm  \\\n",
       "0      1            5.1           3.5            1.4           0.2   \n",
       "1      2            4.9           3.0            1.4           0.2   \n",
       "2      3            4.7           3.2            1.3           0.2   \n",
       "3      4            4.6           3.1            1.5           0.2   \n",
       "4      5            5.0           3.6            1.4           0.2   \n",
       "..   ...            ...           ...            ...           ...   \n",
       "145  146            6.7           3.0            5.2           2.3   \n",
       "146  147            6.3           2.5            5.0           1.9   \n",
       "147  148            6.5           3.0            5.2           2.0   \n",
       "148  149            6.2           3.4            5.4           2.3   \n",
       "149  150            5.9           3.0            5.1           1.8   \n",
       "\n",
       "     Iris-virginica  \n",
       "0                 0  \n",
       "1                 0  \n",
       "2                 0  \n",
       "3                 0  \n",
       "4                 0  \n",
       "..              ...  \n",
       "145               1  \n",
       "146               1  \n",
       "147               1  \n",
       "148               1  \n",
       "149               1  \n",
       "\n",
       "[150 rows x 6 columns]"
      ]
     },
     "execution_count": 104,
     "metadata": {},
     "output_type": "execute_result"
    }
   ],
   "source": [
    "model"
   ]
  },
  {
   "cell_type": "code",
   "execution_count": 107,
   "id": "1b81465e",
   "metadata": {},
   "outputs": [
    {
     "name": "stdout",
     "output_type": "stream",
     "text": [
      "Iris-virginica\n",
      "0    100\n",
      "1     50\n",
      "dtype: int64\n"
     ]
    }
   ],
   "source": [
    "print(model.pivot_table(columns=['Iris-virginica'], aggfunc='size'))"
   ]
  },
  {
   "cell_type": "code",
   "execution_count": 108,
   "id": "d8cea50d",
   "metadata": {},
   "outputs": [
    {
     "data": {
      "text/plain": [
       "array([[1.00e+00, 5.10e+00, 3.50e+00, 1.40e+00, 2.00e-01],\n",
       "       [2.00e+00, 4.90e+00, 3.00e+00, 1.40e+00, 2.00e-01],\n",
       "       [3.00e+00, 4.70e+00, 3.20e+00, 1.30e+00, 2.00e-01],\n",
       "       [4.00e+00, 4.60e+00, 3.10e+00, 1.50e+00, 2.00e-01],\n",
       "       [5.00e+00, 5.00e+00, 3.60e+00, 1.40e+00, 2.00e-01],\n",
       "       [6.00e+00, 5.40e+00, 3.90e+00, 1.70e+00, 4.00e-01],\n",
       "       [7.00e+00, 4.60e+00, 3.40e+00, 1.40e+00, 3.00e-01],\n",
       "       [8.00e+00, 5.00e+00, 3.40e+00, 1.50e+00, 2.00e-01],\n",
       "       [9.00e+00, 4.40e+00, 2.90e+00, 1.40e+00, 2.00e-01],\n",
       "       [1.00e+01, 4.90e+00, 3.10e+00, 1.50e+00, 1.00e-01],\n",
       "       [1.10e+01, 5.40e+00, 3.70e+00, 1.50e+00, 2.00e-01],\n",
       "       [1.20e+01, 4.80e+00, 3.40e+00, 1.60e+00, 2.00e-01],\n",
       "       [1.30e+01, 4.80e+00, 3.00e+00, 1.40e+00, 1.00e-01],\n",
       "       [1.40e+01, 4.30e+00, 3.00e+00, 1.10e+00, 1.00e-01],\n",
       "       [1.50e+01, 5.80e+00, 4.00e+00, 1.20e+00, 2.00e-01],\n",
       "       [1.60e+01, 5.70e+00, 4.40e+00, 1.50e+00, 4.00e-01],\n",
       "       [1.70e+01, 5.40e+00, 3.90e+00, 1.30e+00, 4.00e-01],\n",
       "       [1.80e+01, 5.10e+00, 3.50e+00, 1.40e+00, 3.00e-01],\n",
       "       [1.90e+01, 5.70e+00, 3.80e+00, 1.70e+00, 3.00e-01],\n",
       "       [2.00e+01, 5.10e+00, 3.80e+00, 1.50e+00, 3.00e-01],\n",
       "       [2.10e+01, 5.40e+00, 3.40e+00, 1.70e+00, 2.00e-01],\n",
       "       [2.20e+01, 5.10e+00, 3.70e+00, 1.50e+00, 4.00e-01],\n",
       "       [2.30e+01, 4.60e+00, 3.60e+00, 1.00e+00, 2.00e-01],\n",
       "       [2.40e+01, 5.10e+00, 3.30e+00, 1.70e+00, 5.00e-01],\n",
       "       [2.50e+01, 4.80e+00, 3.40e+00, 1.90e+00, 2.00e-01],\n",
       "       [2.60e+01, 5.00e+00, 3.00e+00, 1.60e+00, 2.00e-01],\n",
       "       [2.70e+01, 5.00e+00, 3.40e+00, 1.60e+00, 4.00e-01],\n",
       "       [2.80e+01, 5.20e+00, 3.50e+00, 1.50e+00, 2.00e-01],\n",
       "       [2.90e+01, 5.20e+00, 3.40e+00, 1.40e+00, 2.00e-01],\n",
       "       [3.00e+01, 4.70e+00, 3.20e+00, 1.60e+00, 2.00e-01],\n",
       "       [3.10e+01, 4.80e+00, 3.10e+00, 1.60e+00, 2.00e-01],\n",
       "       [3.20e+01, 5.40e+00, 3.40e+00, 1.50e+00, 4.00e-01],\n",
       "       [3.30e+01, 5.20e+00, 4.10e+00, 1.50e+00, 1.00e-01],\n",
       "       [3.40e+01, 5.50e+00, 4.20e+00, 1.40e+00, 2.00e-01],\n",
       "       [3.50e+01, 4.90e+00, 3.10e+00, 1.50e+00, 1.00e-01],\n",
       "       [3.60e+01, 5.00e+00, 3.20e+00, 1.20e+00, 2.00e-01],\n",
       "       [3.70e+01, 5.50e+00, 3.50e+00, 1.30e+00, 2.00e-01],\n",
       "       [3.80e+01, 4.90e+00, 3.10e+00, 1.50e+00, 1.00e-01],\n",
       "       [3.90e+01, 4.40e+00, 3.00e+00, 1.30e+00, 2.00e-01],\n",
       "       [4.00e+01, 5.10e+00, 3.40e+00, 1.50e+00, 2.00e-01],\n",
       "       [4.10e+01, 5.00e+00, 3.50e+00, 1.30e+00, 3.00e-01],\n",
       "       [4.20e+01, 4.50e+00, 2.30e+00, 1.30e+00, 3.00e-01],\n",
       "       [4.30e+01, 4.40e+00, 3.20e+00, 1.30e+00, 2.00e-01],\n",
       "       [4.40e+01, 5.00e+00, 3.50e+00, 1.60e+00, 6.00e-01],\n",
       "       [4.50e+01, 5.10e+00, 3.80e+00, 1.90e+00, 4.00e-01],\n",
       "       [4.60e+01, 4.80e+00, 3.00e+00, 1.40e+00, 3.00e-01],\n",
       "       [4.70e+01, 5.10e+00, 3.80e+00, 1.60e+00, 2.00e-01],\n",
       "       [4.80e+01, 4.60e+00, 3.20e+00, 1.40e+00, 2.00e-01],\n",
       "       [4.90e+01, 5.30e+00, 3.70e+00, 1.50e+00, 2.00e-01],\n",
       "       [5.00e+01, 5.00e+00, 3.30e+00, 1.40e+00, 2.00e-01],\n",
       "       [5.10e+01, 7.00e+00, 3.20e+00, 4.70e+00, 1.40e+00],\n",
       "       [5.20e+01, 6.40e+00, 3.20e+00, 4.50e+00, 1.50e+00],\n",
       "       [5.30e+01, 6.90e+00, 3.10e+00, 4.90e+00, 1.50e+00],\n",
       "       [5.40e+01, 5.50e+00, 2.30e+00, 4.00e+00, 1.30e+00],\n",
       "       [5.50e+01, 6.50e+00, 2.80e+00, 4.60e+00, 1.50e+00],\n",
       "       [5.60e+01, 5.70e+00, 2.80e+00, 4.50e+00, 1.30e+00],\n",
       "       [5.70e+01, 6.30e+00, 3.30e+00, 4.70e+00, 1.60e+00],\n",
       "       [5.80e+01, 4.90e+00, 2.40e+00, 3.30e+00, 1.00e+00],\n",
       "       [5.90e+01, 6.60e+00, 2.90e+00, 4.60e+00, 1.30e+00],\n",
       "       [6.00e+01, 5.20e+00, 2.70e+00, 3.90e+00, 1.40e+00],\n",
       "       [6.10e+01, 5.00e+00, 2.00e+00, 3.50e+00, 1.00e+00],\n",
       "       [6.20e+01, 5.90e+00, 3.00e+00, 4.20e+00, 1.50e+00],\n",
       "       [6.30e+01, 6.00e+00, 2.20e+00, 4.00e+00, 1.00e+00],\n",
       "       [6.40e+01, 6.10e+00, 2.90e+00, 4.70e+00, 1.40e+00],\n",
       "       [6.50e+01, 5.60e+00, 2.90e+00, 3.60e+00, 1.30e+00],\n",
       "       [6.60e+01, 6.70e+00, 3.10e+00, 4.40e+00, 1.40e+00],\n",
       "       [6.70e+01, 5.60e+00, 3.00e+00, 4.50e+00, 1.50e+00],\n",
       "       [6.80e+01, 5.80e+00, 2.70e+00, 4.10e+00, 1.00e+00],\n",
       "       [6.90e+01, 6.20e+00, 2.20e+00, 4.50e+00, 1.50e+00],\n",
       "       [7.00e+01, 5.60e+00, 2.50e+00, 3.90e+00, 1.10e+00],\n",
       "       [7.10e+01, 5.90e+00, 3.20e+00, 4.80e+00, 1.80e+00],\n",
       "       [7.20e+01, 6.10e+00, 2.80e+00, 4.00e+00, 1.30e+00],\n",
       "       [7.30e+01, 6.30e+00, 2.50e+00, 4.90e+00, 1.50e+00],\n",
       "       [7.40e+01, 6.10e+00, 2.80e+00, 4.70e+00, 1.20e+00],\n",
       "       [7.50e+01, 6.40e+00, 2.90e+00, 4.30e+00, 1.30e+00],\n",
       "       [7.60e+01, 6.60e+00, 3.00e+00, 4.40e+00, 1.40e+00],\n",
       "       [7.70e+01, 6.80e+00, 2.80e+00, 4.80e+00, 1.40e+00],\n",
       "       [7.80e+01, 6.70e+00, 3.00e+00, 5.00e+00, 1.70e+00],\n",
       "       [7.90e+01, 6.00e+00, 2.90e+00, 4.50e+00, 1.50e+00],\n",
       "       [8.00e+01, 5.70e+00, 2.60e+00, 3.50e+00, 1.00e+00],\n",
       "       [8.10e+01, 5.50e+00, 2.40e+00, 3.80e+00, 1.10e+00],\n",
       "       [8.20e+01, 5.50e+00, 2.40e+00, 3.70e+00, 1.00e+00],\n",
       "       [8.30e+01, 5.80e+00, 2.70e+00, 3.90e+00, 1.20e+00],\n",
       "       [8.40e+01, 6.00e+00, 2.70e+00, 5.10e+00, 1.60e+00],\n",
       "       [8.50e+01, 5.40e+00, 3.00e+00, 4.50e+00, 1.50e+00],\n",
       "       [8.60e+01, 6.00e+00, 3.40e+00, 4.50e+00, 1.60e+00],\n",
       "       [8.70e+01, 6.70e+00, 3.10e+00, 4.70e+00, 1.50e+00],\n",
       "       [8.80e+01, 6.30e+00, 2.30e+00, 4.40e+00, 1.30e+00],\n",
       "       [8.90e+01, 5.60e+00, 3.00e+00, 4.10e+00, 1.30e+00],\n",
       "       [9.00e+01, 5.50e+00, 2.50e+00, 4.00e+00, 1.30e+00],\n",
       "       [9.10e+01, 5.50e+00, 2.60e+00, 4.40e+00, 1.20e+00],\n",
       "       [9.20e+01, 6.10e+00, 3.00e+00, 4.60e+00, 1.40e+00],\n",
       "       [9.30e+01, 5.80e+00, 2.60e+00, 4.00e+00, 1.20e+00],\n",
       "       [9.40e+01, 5.00e+00, 2.30e+00, 3.30e+00, 1.00e+00],\n",
       "       [9.50e+01, 5.60e+00, 2.70e+00, 4.20e+00, 1.30e+00],\n",
       "       [9.60e+01, 5.70e+00, 3.00e+00, 4.20e+00, 1.20e+00],\n",
       "       [9.70e+01, 5.70e+00, 2.90e+00, 4.20e+00, 1.30e+00],\n",
       "       [9.80e+01, 6.20e+00, 2.90e+00, 4.30e+00, 1.30e+00],\n",
       "       [9.90e+01, 5.10e+00, 2.50e+00, 3.00e+00, 1.10e+00],\n",
       "       [1.00e+02, 5.70e+00, 2.80e+00, 4.10e+00, 1.30e+00],\n",
       "       [1.01e+02, 6.30e+00, 3.30e+00, 6.00e+00, 2.50e+00],\n",
       "       [1.02e+02, 5.80e+00, 2.70e+00, 5.10e+00, 1.90e+00],\n",
       "       [1.03e+02, 7.10e+00, 3.00e+00, 5.90e+00, 2.10e+00],\n",
       "       [1.04e+02, 6.30e+00, 2.90e+00, 5.60e+00, 1.80e+00],\n",
       "       [1.05e+02, 6.50e+00, 3.00e+00, 5.80e+00, 2.20e+00],\n",
       "       [1.06e+02, 7.60e+00, 3.00e+00, 6.60e+00, 2.10e+00],\n",
       "       [1.07e+02, 4.90e+00, 2.50e+00, 4.50e+00, 1.70e+00],\n",
       "       [1.08e+02, 7.30e+00, 2.90e+00, 6.30e+00, 1.80e+00],\n",
       "       [1.09e+02, 6.70e+00, 2.50e+00, 5.80e+00, 1.80e+00],\n",
       "       [1.10e+02, 7.20e+00, 3.60e+00, 6.10e+00, 2.50e+00],\n",
       "       [1.11e+02, 6.50e+00, 3.20e+00, 5.10e+00, 2.00e+00],\n",
       "       [1.12e+02, 6.40e+00, 2.70e+00, 5.30e+00, 1.90e+00],\n",
       "       [1.13e+02, 6.80e+00, 3.00e+00, 5.50e+00, 2.10e+00],\n",
       "       [1.14e+02, 5.70e+00, 2.50e+00, 5.00e+00, 2.00e+00],\n",
       "       [1.15e+02, 5.80e+00, 2.80e+00, 5.10e+00, 2.40e+00],\n",
       "       [1.16e+02, 6.40e+00, 3.20e+00, 5.30e+00, 2.30e+00],\n",
       "       [1.17e+02, 6.50e+00, 3.00e+00, 5.50e+00, 1.80e+00],\n",
       "       [1.18e+02, 7.70e+00, 3.80e+00, 6.70e+00, 2.20e+00],\n",
       "       [1.19e+02, 7.70e+00, 2.60e+00, 6.90e+00, 2.30e+00],\n",
       "       [1.20e+02, 6.00e+00, 2.20e+00, 5.00e+00, 1.50e+00],\n",
       "       [1.21e+02, 6.90e+00, 3.20e+00, 5.70e+00, 2.30e+00],\n",
       "       [1.22e+02, 5.60e+00, 2.80e+00, 4.90e+00, 2.00e+00],\n",
       "       [1.23e+02, 7.70e+00, 2.80e+00, 6.70e+00, 2.00e+00],\n",
       "       [1.24e+02, 6.30e+00, 2.70e+00, 4.90e+00, 1.80e+00],\n",
       "       [1.25e+02, 6.70e+00, 3.30e+00, 5.70e+00, 2.10e+00],\n",
       "       [1.26e+02, 7.20e+00, 3.20e+00, 6.00e+00, 1.80e+00],\n",
       "       [1.27e+02, 6.20e+00, 2.80e+00, 4.80e+00, 1.80e+00],\n",
       "       [1.28e+02, 6.10e+00, 3.00e+00, 4.90e+00, 1.80e+00],\n",
       "       [1.29e+02, 6.40e+00, 2.80e+00, 5.60e+00, 2.10e+00],\n",
       "       [1.30e+02, 7.20e+00, 3.00e+00, 5.80e+00, 1.60e+00],\n",
       "       [1.31e+02, 7.40e+00, 2.80e+00, 6.10e+00, 1.90e+00],\n",
       "       [1.32e+02, 7.90e+00, 3.80e+00, 6.40e+00, 2.00e+00],\n",
       "       [1.33e+02, 6.40e+00, 2.80e+00, 5.60e+00, 2.20e+00],\n",
       "       [1.34e+02, 6.30e+00, 2.80e+00, 5.10e+00, 1.50e+00],\n",
       "       [1.35e+02, 6.10e+00, 2.60e+00, 5.60e+00, 1.40e+00],\n",
       "       [1.36e+02, 7.70e+00, 3.00e+00, 6.10e+00, 2.30e+00],\n",
       "       [1.37e+02, 6.30e+00, 3.40e+00, 5.60e+00, 2.40e+00],\n",
       "       [1.38e+02, 6.40e+00, 3.10e+00, 5.50e+00, 1.80e+00],\n",
       "       [1.39e+02, 6.00e+00, 3.00e+00, 4.80e+00, 1.80e+00],\n",
       "       [1.40e+02, 6.90e+00, 3.10e+00, 5.40e+00, 2.10e+00],\n",
       "       [1.41e+02, 6.70e+00, 3.10e+00, 5.60e+00, 2.40e+00],\n",
       "       [1.42e+02, 6.90e+00, 3.10e+00, 5.10e+00, 2.30e+00],\n",
       "       [1.43e+02, 5.80e+00, 2.70e+00, 5.10e+00, 1.90e+00],\n",
       "       [1.44e+02, 6.80e+00, 3.20e+00, 5.90e+00, 2.30e+00],\n",
       "       [1.45e+02, 6.70e+00, 3.30e+00, 5.70e+00, 2.50e+00],\n",
       "       [1.46e+02, 6.70e+00, 3.00e+00, 5.20e+00, 2.30e+00],\n",
       "       [1.47e+02, 6.30e+00, 2.50e+00, 5.00e+00, 1.90e+00],\n",
       "       [1.48e+02, 6.50e+00, 3.00e+00, 5.20e+00, 2.00e+00],\n",
       "       [1.49e+02, 6.20e+00, 3.40e+00, 5.40e+00, 2.30e+00],\n",
       "       [1.50e+02, 5.90e+00, 3.00e+00, 5.10e+00, 1.80e+00]])"
      ]
     },
     "execution_count": 108,
     "metadata": {},
     "output_type": "execute_result"
    }
   ],
   "source": [
    "X = model.iloc[:, :-1].values  # selecting the values for the X variable.\n",
    "X"
   ]
  },
  {
   "cell_type": "code",
   "execution_count": 112,
   "id": "739351b2",
   "metadata": {},
   "outputs": [
    {
     "data": {
      "text/plain": [
       "array([[0],\n",
       "       [0],\n",
       "       [0],\n",
       "       [0],\n",
       "       [0],\n",
       "       [0],\n",
       "       [0],\n",
       "       [0],\n",
       "       [0],\n",
       "       [0],\n",
       "       [0],\n",
       "       [0],\n",
       "       [0],\n",
       "       [0],\n",
       "       [0],\n",
       "       [0],\n",
       "       [0],\n",
       "       [0],\n",
       "       [0],\n",
       "       [0],\n",
       "       [0],\n",
       "       [0],\n",
       "       [0],\n",
       "       [0],\n",
       "       [0],\n",
       "       [0],\n",
       "       [0],\n",
       "       [0],\n",
       "       [0],\n",
       "       [0],\n",
       "       [0],\n",
       "       [0],\n",
       "       [0],\n",
       "       [0],\n",
       "       [0],\n",
       "       [0],\n",
       "       [0],\n",
       "       [0],\n",
       "       [0],\n",
       "       [0],\n",
       "       [0],\n",
       "       [0],\n",
       "       [0],\n",
       "       [0],\n",
       "       [0],\n",
       "       [0],\n",
       "       [0],\n",
       "       [0],\n",
       "       [0],\n",
       "       [0],\n",
       "       [0],\n",
       "       [0],\n",
       "       [0],\n",
       "       [0],\n",
       "       [0],\n",
       "       [0],\n",
       "       [0],\n",
       "       [0],\n",
       "       [0],\n",
       "       [0],\n",
       "       [0],\n",
       "       [0],\n",
       "       [0],\n",
       "       [0],\n",
       "       [0],\n",
       "       [0],\n",
       "       [0],\n",
       "       [0],\n",
       "       [0],\n",
       "       [0],\n",
       "       [0],\n",
       "       [0],\n",
       "       [0],\n",
       "       [0],\n",
       "       [0],\n",
       "       [0],\n",
       "       [0],\n",
       "       [0],\n",
       "       [0],\n",
       "       [0],\n",
       "       [0],\n",
       "       [0],\n",
       "       [0],\n",
       "       [0],\n",
       "       [0],\n",
       "       [0],\n",
       "       [0],\n",
       "       [0],\n",
       "       [0],\n",
       "       [0],\n",
       "       [0],\n",
       "       [0],\n",
       "       [0],\n",
       "       [0],\n",
       "       [0],\n",
       "       [0],\n",
       "       [0],\n",
       "       [0],\n",
       "       [0],\n",
       "       [0],\n",
       "       [1],\n",
       "       [1],\n",
       "       [1],\n",
       "       [1],\n",
       "       [1],\n",
       "       [1],\n",
       "       [1],\n",
       "       [1],\n",
       "       [1],\n",
       "       [1],\n",
       "       [1],\n",
       "       [1],\n",
       "       [1],\n",
       "       [1],\n",
       "       [1],\n",
       "       [1],\n",
       "       [1],\n",
       "       [1],\n",
       "       [1],\n",
       "       [1],\n",
       "       [1],\n",
       "       [1],\n",
       "       [1],\n",
       "       [1],\n",
       "       [1],\n",
       "       [1],\n",
       "       [1],\n",
       "       [1],\n",
       "       [1],\n",
       "       [1],\n",
       "       [1],\n",
       "       [1],\n",
       "       [1],\n",
       "       [1],\n",
       "       [1],\n",
       "       [1],\n",
       "       [1],\n",
       "       [1],\n",
       "       [1],\n",
       "       [1],\n",
       "       [1],\n",
       "       [1],\n",
       "       [1],\n",
       "       [1],\n",
       "       [1],\n",
       "       [1],\n",
       "       [1],\n",
       "       [1],\n",
       "       [1],\n",
       "       [1]], dtype=uint8)"
      ]
     },
     "execution_count": 112,
     "metadata": {},
     "output_type": "execute_result"
    }
   ],
   "source": [
    "y = model[[\"Iris-virginica\"]].to_numpy()   # selecting the values for the Y variable. # done using .to_numpy and not \n",
    "                                                       # .iloc as .to_numpy creates a horizontal bar while .iloc creates a \n",
    "                                                       # horizontal bar which will not alighn with the x values.\n",
    "y"
   ]
  },
  {
   "cell_type": "code",
   "execution_count": 113,
   "id": "96461571",
   "metadata": {},
   "outputs": [],
   "source": [
    "X_train, X_test, y_train, y_test = train_test_split(X, y, test_size = 0.2, random_state = 1)\n",
    "# test_size = 0.2               # splitting the data into 80 and 20 percent between the training and test set           \n",
    "                                            # to get the best results.                                                           \n",
    "# random_state = 1         # resetting the  random seed"
   ]
  },
  {
   "cell_type": "code",
   "execution_count": 114,
   "id": "332fdadf",
   "metadata": {},
   "outputs": [],
   "source": [
    "def Gird_search_fun(typeofmodelandprams, dict_prams,crossval ,X, y, X_plot_fill, y_plot_fill):\n",
    "    model = typeofmodelandprams  # creating an instance of the object.\n",
    "    parameters = [dict_prams]\n",
    "    grid_search = GridSearchCV(estimator = model,\n",
    "                           param_grid = parameters,\n",
    "                           scoring = 'accuracy',\n",
    "                           cv = crossval,\n",
    "                           n_jobs = -1)  # selecting all possible paramaters to go through to get the best model possible\n",
    "    grid_search.fit(X, y)  # applying the search on our model.\n",
    "    best_accuracy = grid_search.best_score_  # the best accuracy \n",
    "    best_parameters = grid_search.best_params_  # the best paramaters that gave the best accurecy\n",
    "    print(pd.DataFrame(grid_search.cv_results_))[[\"mean_test_score\",\"params\"]]\n",
    "    pd.DataFrame(grid_search.cv_results_)\n",
    "\n",
    "    plt.plot(parameters,grid_search.cv_results_[\"mean_test_score\"], marker = \"o\")\n",
    "    plt.xlabel(X_plot_fill)\n",
    "    plt.ylabel(y_plot_fill)\n",
    "    plt.grid()\n",
    "    \n",
    "    print(\"Best Accuracy: {:.2f} %\".format(best_accuracy*100))  # printing best accuracy\n",
    "    print(\"Best Parameters:\", best_parameters)  # printing the best parameters\n"
   ]
  },
  {
   "cell_type": "code",
   "execution_count": 115,
   "id": "700d4e30",
   "metadata": {},
   "outputs": [
    {
     "ename": "NameError",
     "evalue": "name 'K_NN_classifier' is not defined",
     "output_type": "error",
     "traceback": [
      "\u001b[1;31m---------------------------------------------------------------------------\u001b[0m",
      "\u001b[1;31mNameError\u001b[0m                                 Traceback (most recent call last)",
      "\u001b[1;32m<ipython-input-115-74c33a9f17a3>\u001b[0m in \u001b[0;36m<module>\u001b[1;34m\u001b[0m\n\u001b[0;32m      1\u001b[0m \u001b[1;32mfrom\u001b[0m \u001b[0msklearn\u001b[0m\u001b[1;33m.\u001b[0m\u001b[0mmodel_selection\u001b[0m \u001b[1;32mimport\u001b[0m \u001b[0mRandomizedSearchCV\u001b[0m\u001b[1;33m\u001b[0m\u001b[1;33m\u001b[0m\u001b[0m\n\u001b[1;32m----> 2\u001b[1;33m \u001b[0mrand\u001b[0m \u001b[1;33m=\u001b[0m \u001b[0mRandomizedSearchCV\u001b[0m\u001b[1;33m(\u001b[0m\u001b[0mK_NN_classifier\u001b[0m\u001b[1;33m,\u001b[0m\u001b[0mpara_grid\u001b[0m\u001b[1;33m,\u001b[0m\u001b[0mcv\u001b[0m\u001b[1;33m=\u001b[0m\u001b[1;36m5\u001b[0m\u001b[1;33m,\u001b[0m \u001b[0mscoring\u001b[0m\u001b[1;33m=\u001b[0m\u001b[1;34m\"accuracy\"\u001b[0m\u001b[1;33m,\u001b[0m \u001b[0mreturn_train_score\u001b[0m\u001b[1;33m=\u001b[0m\u001b[1;32mFalse\u001b[0m\u001b[1;33m,\u001b[0m \u001b[0mn_iter\u001b[0m\u001b[1;33m=\u001b[0m\u001b[1;36m10\u001b[0m\u001b[1;33m,\u001b[0m\u001b[0mrandom_state\u001b[0m\u001b[1;33m=\u001b[0m\u001b[1;36m5\u001b[0m\u001b[1;33m)\u001b[0m\u001b[1;33m\u001b[0m\u001b[1;33m\u001b[0m\u001b[0m\n\u001b[0m\u001b[0;32m      3\u001b[0m \u001b[1;33m\u001b[0m\u001b[0m\n\u001b[0;32m      4\u001b[0m \u001b[0mrand\u001b[0m\u001b[1;33m.\u001b[0m\u001b[0mfit\u001b[0m\u001b[1;33m(\u001b[0m\u001b[0mX\u001b[0m\u001b[1;33m,\u001b[0m\u001b[0mY\u001b[0m\u001b[1;33m)\u001b[0m\u001b[1;33m\u001b[0m\u001b[1;33m\u001b[0m\u001b[0m\n\u001b[0;32m      5\u001b[0m \u001b[1;33m\u001b[0m\u001b[0m\n",
      "\u001b[1;31mNameError\u001b[0m: name 'K_NN_classifier' is not defined"
     ]
    }
   ],
   "source": [
    "from sklearn.model_selection import RandomizedSearchCV\n",
    "rand = RandomizedSearchCV(K_NN_classifier,para_grid,cv=5, scoring=\"accuracy\", return_train_score=False, n_iter=10,random_state=5)\n",
    "\n",
    "rand.fit(X,Y)\n",
    "\n",
    "print(pd.DataFrame(rand.cv_results_))[[\"mean_test_score\",\"params\"]]\n",
    "pd.DataFrame(grid.cv_results_)"
   ]
  },
  {
   "cell_type": "code",
   "execution_count": 116,
   "id": "93137226",
   "metadata": {},
   "outputs": [
    {
     "ename": "NameError",
     "evalue": "name 'svm_classifier' is not defined",
     "output_type": "error",
     "traceback": [
      "\u001b[1;31m---------------------------------------------------------------------------\u001b[0m",
      "\u001b[1;31mNameError\u001b[0m                                 Traceback (most recent call last)",
      "\u001b[1;32m<ipython-input-116-36052729837b>\u001b[0m in \u001b[0;36m<module>\u001b[1;34m\u001b[0m\n\u001b[0;32m      1\u001b[0m parameters = [{'C': [0.25, 0.5, 0.75, 1], 'kernel': ['linear']},\n\u001b[0;32m      2\u001b[0m               {'C': [0.25, 0.5, 0.75, 1], 'kernel': ['rbf'], 'gamma': [0.1, 0.2, 0.3, 0.4, 0.5, 0.6, 0.7, 0.8, 0.9]}]\n\u001b[1;32m----> 3\u001b[1;33m grid_search = GridSearchCV(estimator = svm_classifier,\n\u001b[0m\u001b[0;32m      4\u001b[0m                            \u001b[0mparam_grid\u001b[0m \u001b[1;33m=\u001b[0m \u001b[0mparameters\u001b[0m\u001b[1;33m,\u001b[0m\u001b[1;33m\u001b[0m\u001b[1;33m\u001b[0m\u001b[0m\n\u001b[0;32m      5\u001b[0m                            \u001b[0mscoring\u001b[0m \u001b[1;33m=\u001b[0m \u001b[1;34m'accuracy'\u001b[0m\u001b[1;33m,\u001b[0m\u001b[1;33m\u001b[0m\u001b[1;33m\u001b[0m\u001b[0m\n",
      "\u001b[1;31mNameError\u001b[0m: name 'svm_classifier' is not defined"
     ]
    }
   ],
   "source": [
    "parameters = [{'C': [0.25, 0.5, 0.75, 1], 'kernel': ['linear']},\n",
    "              {'C': [0.25, 0.5, 0.75, 1], 'kernel': ['rbf'], 'gamma': [0.1, 0.2, 0.3, 0.4, 0.5, 0.6, 0.7, 0.8, 0.9]}]\n",
    "grid_search = GridSearchCV(estimator = svm_classifier,\n",
    "                           param_grid = parameters,\n",
    "                           scoring = 'accuracy',\n",
    "                           cv = 10,\n",
    "                           n_jobs = -1)  # selecting all possible paramaters to go through to get the best model possible\n",
    "grid_search.fit(X, Y)  # applying the search on our model.\n",
    "best_accuracy = grid_search.best_score_  # the best accuracy \n",
    "best_parameters = grid_search.best_params_  # the best paramaters that gave the best accurecy\n",
    "print(\"Best Accuracy: {:.2f} %\".format(best_accuracy*100))  # printing best accuracy\n",
    "print(\"Best Parameters:\", best_parameters)  # printing the best parameters"
   ]
  },
  {
   "cell_type": "code",
   "execution_count": null,
   "id": "1897a2c4",
   "metadata": {},
   "outputs": [],
   "source": []
  },
  {
   "cell_type": "code",
   "execution_count": null,
   "id": "ede42da5",
   "metadata": {},
   "outputs": [],
   "source": []
  },
  {
   "cell_type": "code",
   "execution_count": null,
   "id": "913e9f36",
   "metadata": {},
   "outputs": [],
   "source": []
  },
  {
   "cell_type": "code",
   "execution_count": null,
   "id": "10eacf62",
   "metadata": {},
   "outputs": [],
   "source": []
  },
  {
   "cell_type": "code",
   "execution_count": null,
   "id": "d6d22cad",
   "metadata": {},
   "outputs": [],
   "source": []
  },
  {
   "cell_type": "code",
   "execution_count": null,
   "id": "613273f5",
   "metadata": {},
   "outputs": [],
   "source": []
  },
  {
   "cell_type": "code",
   "execution_count": null,
   "id": "9b70a008",
   "metadata": {},
   "outputs": [],
   "source": []
  },
  {
   "cell_type": "code",
   "execution_count": null,
   "id": "7ab1e9ba",
   "metadata": {},
   "outputs": [],
   "source": []
  },
  {
   "cell_type": "code",
   "execution_count": 117,
   "id": "0975a703",
   "metadata": {},
   "outputs": [
    {
     "ename": "NameError",
     "evalue": "name 'cm2' is not defined",
     "output_type": "error",
     "traceback": [
      "\u001b[1;31m---------------------------------------------------------------------------\u001b[0m",
      "\u001b[1;31mNameError\u001b[0m                                 Traceback (most recent call last)",
      "\u001b[1;32m<ipython-input-117-32ce663dfdc3>\u001b[0m in \u001b[0;36m<module>\u001b[1;34m\u001b[0m\n\u001b[1;32m----> 1\u001b[1;33m \u001b[0mdisp\u001b[0m \u001b[1;33m=\u001b[0m \u001b[0mConfusionMatrixDisplay\u001b[0m\u001b[1;33m(\u001b[0m\u001b[0mconfusion_matrix\u001b[0m\u001b[1;33m=\u001b[0m\u001b[0mcm2\u001b[0m\u001b[1;33m)\u001b[0m  \u001b[1;31m# creaing the confusion matrix plot.\u001b[0m\u001b[1;33m\u001b[0m\u001b[1;33m\u001b[0m\u001b[0m\n\u001b[0m\u001b[0;32m      2\u001b[0m \u001b[0mdisp\u001b[0m\u001b[1;33m.\u001b[0m\u001b[0mplot\u001b[0m\u001b[1;33m(\u001b[0m\u001b[1;33m)\u001b[0m  \u001b[1;31m# displaying data in plot\u001b[0m\u001b[1;33m\u001b[0m\u001b[1;33m\u001b[0m\u001b[0m\n\u001b[0;32m      3\u001b[0m \u001b[0mplt\u001b[0m\u001b[1;33m.\u001b[0m\u001b[0mtitle\u001b[0m\u001b[1;33m(\u001b[0m\u001b[1;34m\"Logistic Regression Model\"\u001b[0m\u001b[1;33m)\u001b[0m  \u001b[1;31m# adding a title to plot\u001b[0m\u001b[1;33m\u001b[0m\u001b[1;33m\u001b[0m\u001b[0m\n\u001b[0;32m      4\u001b[0m \u001b[0mplt\u001b[0m\u001b[1;33m.\u001b[0m\u001b[0mshow\u001b[0m\u001b[1;33m(\u001b[0m\u001b[1;33m)\u001b[0m  \u001b[1;31m# showing the plot\u001b[0m\u001b[1;33m\u001b[0m\u001b[1;33m\u001b[0m\u001b[0m\n",
      "\u001b[1;31mNameError\u001b[0m: name 'cm2' is not defined"
     ]
    }
   ],
   "source": [
    "disp = ConfusionMatrixDisplay(confusion_matrix=cm2)  # creaing the confusion matrix plot.                           \n",
    "disp.plot()  # displaying data in plot\n",
    "plt.title(\"Logistic Regression Model\")  # adding a title to plot\n",
    "plt.show()  # showing the plot"
   ]
  },
  {
   "cell_type": "code",
   "execution_count": 118,
   "id": "d9e9a6f7",
   "metadata": {},
   "outputs": [],
   "source": [
    "def K_NN_plot(X,y):\n",
    "    ave_scores = []\n",
    "    k_list = list(range(1,15))\n",
    "    for k in k_list:\n",
    "        model = KNeighborsClassifier(n_neighbors = k) \n",
    "        scores = cross_val_score(model,X,y,cv=5,scoring=\"accuracy\")\n",
    "        ave_scores.append(round(scores.mean(),3))\n",
    "    print(\"ave scores \", ave_scores)\n",
    "    plt.plot(k_list, ave_scores)\n",
    "    plt.xlabel(\"Number of nearest neighbours\")\n",
    "    plt.ylabel(\"Average CV model accuracy\")\n",
    "    plt.grid()"
   ]
  },
  {
   "cell_type": "code",
   "execution_count": 119,
   "id": "fef8c688",
   "metadata": {},
   "outputs": [],
   "source": [
    "def crossvalscore(model, X, y, cv_val):\n",
    "    score = cross_val_score(estimator = model, X = X, y = y, cv = cv_val)   # performs 10 different tests to get average accurecy.\n",
    "    print(\"Accuracy: {:.2f} %\".format(score.mean()*100))  # accuracy printed\n",
    "    print(\"Standard Deviation: {:.2f} %\".format(score.std()*100))  # standard deveation printed (std -avarage or std+ avarage )\n",
    "    return score"
   ]
  },
  {
   "cell_type": "code",
   "execution_count": null,
   "id": "af7dc28c",
   "metadata": {},
   "outputs": [],
   "source": []
  },
  {
   "cell_type": "code",
   "execution_count": 273,
   "id": "987fd228",
   "metadata": {},
   "outputs": [],
   "source": [
    "from sklearn.metrics import classification_report, accuracy_score, recall_score, precision_score, roc_auc_score, f1_score\n",
    "\n",
    "def Classifier_function(typeofmodelandprams, X_train, y_train, title):  # function takes the type of model, the hyperparameters of the\n",
    "    # model, the x_train and y_train to get our results.\n",
    "  model = typeofmodelandprams  # Bulding an object of the class\n",
    "  model.fit(X_train, y_train)  # Building the k-nearest neighbors classification model.\n",
    "\n",
    "  y_test_p = model.predict(X_test)  # Predicted results.\n",
    "  print(\"  results\\npred-Actual\")  # printing predicted and real values.\n",
    "  print(np.concatenate((y_test_p.reshape(len(y_test_p),1),y_test.reshape(len(y_test),1)),1))  # Predicted results and real results in a np array.\n",
    "   \n",
    "\n",
    "  train_accuracy = round(model.score(X_train,y_train),2) * 100\n",
    "  test_accuracy = round(model.score(X_test,y_test),2) * 100\n",
    "\n",
    "  print(\"Model train accuracy: \", train_accuracy, \"%\")  # printing the model accurcy. \n",
    "  print(\"Model test accuracy: \", test_accuracy, \"%\")  # printing the model accurcy. \n",
    "\n",
    "\n",
    "  print(\"\\n\\n\")\n",
    "  # getting Accuracy or recall or precision or specificity\n",
    "  y_test_pred = model.predict(X_test)\n",
    "  \n",
    "  cReport = classification_report(y_test,y_test_pred)\n",
    "  print(cReport)\n",
    "  \n",
    "  cm = confusion_matrix(y_test, y_test_p)  # creating the confusion matrix\n",
    "  print(\"correct_0-incorrct_1\\nincorrect_0-correct_1\\n\")  # printing correct and inccrocet results.\n",
    "  print(\"True_Negative-False_positive\\nFalse_negative-True_positive\\n\")  # printing correct and inccrocet results.\n",
    "  print(cm)  # prininting the confusion matrix.\n",
    "  \n",
    "\n",
    "  cmf = [[\"True Negative\\n\" + str(cm[0,0]) + \"\\n\" + str(round(cm[0,0]/np.sum(cm),2)) + \" %\", \"False Positive\\n\" + str(cm[0,1]) + \"\\n\" + str(round(cm[0,0]/np.sum(cm),2)) + \\\n",
    "         \" %\"],[\"False Negative\\n\" + str(cm[1,0]) + \"\\n\" + str(round(cm[1,0]/np.sum(cm),2)) + \" %\", \"True Positive\\n\" + str(cm[1,1]) + \"\\n\" + str(round(cm[1,1]/np.sum(cm),2)) + \" %\"]]\n",
    "  cmf = np.asarray(cmf).reshape(2,2)\n",
    "  accuracy  = round(np.trace(cm) / float(np.sum(cm)), 2) * 100\n",
    "  precision = cm[1,1] / sum(cm[:,1])\n",
    "  recall    = cm[1,1] / sum(cm[1,:])\n",
    "  f1_score  = round(2* precision * recall / (precision + recall),2)*100\n",
    "  precision = round(precision, 2) * 100\n",
    "  recall    = round(recall,2) * 100 \n",
    "  total_score = (\"Accuracy:   \" + str(accuracy) +\" %\" + \"\\nPrecison:    \"  + str(precision)  +\" %\" + \"\\nRecall:        \" + str(recall)  +\" %\" + \"\\nF1 score:    \"  + str(f1_score) +\" %\") \n",
    "\n",
    "  disp = sns.heatmap(cm, annot=cmf, fmt='', cmap='Blues')                           \n",
    "  disp.plot()  # displaying data in plot\n",
    "  plt.title(title)  # adding a title to plot\n",
    "  plt.ylabel('True label')\n",
    "  plt.xlabel('Predicted label' +\"\\n\\nScores\\n\" +total_score)\n",
    "  plt.show()  # showing the plot\n",
    "\n",
    "\n",
    "  return test_accuracy"
   ]
  },
  {
   "cell_type": "code",
   "execution_count": 274,
   "id": "110e51b5",
   "metadata": {},
   "outputs": [
    {
     "name": "stdout",
     "output_type": "stream",
     "text": [
      "  results\n",
      "pred-Actual\n",
      "[[0 0]\n",
      " [1 0]\n",
      " [0 0]\n",
      " [0 0]\n",
      " [1 1]\n",
      " [0 0]\n",
      " [1 1]\n",
      " [0 0]\n",
      " [0 0]\n",
      " [1 1]\n",
      " [1 0]\n",
      " [0 0]\n",
      " [0 1]\n",
      " [0 0]\n",
      " [0 0]\n",
      " [0 0]\n",
      " [1 0]\n",
      " [0 0]\n",
      " [0 0]\n",
      " [0 0]\n",
      " [1 0]\n",
      " [0 0]\n",
      " [0 0]\n",
      " [0 0]\n",
      " [1 1]\n",
      " [1 0]\n",
      " [0 0]\n",
      " [0 0]\n",
      " [0 0]\n",
      " [1 1]]\n",
      "Model train accuracy:  92.0 %\n",
      "Model test accuracy:  80.0 %\n",
      "\n",
      "\n",
      "\n",
      "              precision    recall  f1-score   support\n",
      "\n",
      "           0       0.95      0.79      0.86        24\n",
      "           1       0.50      0.83      0.62         6\n",
      "\n",
      "    accuracy                           0.80        30\n",
      "   macro avg       0.72      0.81      0.74        30\n",
      "weighted avg       0.86      0.80      0.82        30\n",
      "\n",
      "correct_0-incorrct_1\n",
      "incorrect_0-correct_1\n",
      "\n",
      "True_Negative-False_positive\n",
      "False_negative-True_positive\n",
      "\n",
      "[[19  5]\n",
      " [ 1  5]]\n"
     ]
    },
    {
     "data": {
      "image/png": "[encoded data removed]",
      "text/plain": [
       "<Figure size 432x288 with 2 Axes>"
      ]
     },
     "metadata": {
      "needs_background": "light"
     },
     "output_type": "display_data"
    },
    {
     "data": {
      "text/plain": [
       "80.0"
      ]
     },
     "execution_count": 274,
     "metadata": {},
     "output_type": "execute_result"
    }
   ],
   "source": [
    "from sklearn.neural_network import MLPClassifier\n",
    "\n",
    "\n",
    "Classifier_function(MLPClassifier(), X_train, y_train, \"Neural Network Model\")"
   ]
  },
  {
   "cell_type": "code",
   "execution_count": 122,
   "id": "cea90dd4",
   "metadata": {},
   "outputs": [
    {
     "name": "stdout",
     "output_type": "stream",
     "text": [
      "Accuracy: 74.00 %\n",
      "Standard Deviation: 27.07 %\n"
     ]
    },
    {
     "data": {
      "text/plain": [
       "array([0.93333333, 0.8       , 0.66666667, 0.93333333, 1.        ,\n",
       "       0.33333333, 1.        , 1.        , 0.33333333, 0.4       ])"
      ]
     },
     "execution_count": 122,
     "metadata": {},
     "output_type": "execute_result"
    }
   ],
   "source": [
    "crossvalscore(MLPClassifier(), X, y, 10)"
   ]
  },
  {
   "cell_type": "code",
   "execution_count": 123,
   "id": "4a47e7e5",
   "metadata": {},
   "outputs": [
    {
     "name": "stdout",
     "output_type": "stream",
     "text": [
      "    mean_fit_time  std_fit_time  mean_score_time  std_score_time  \\\n",
      "0        0.002902      0.001042         0.004501        0.002255   \n",
      "1        0.002702      0.001897         0.005499        0.003045   \n",
      "2        0.001500      0.000499         0.004602        0.004498   \n",
      "3        0.001201      0.000599         0.002302        0.000457   \n",
      "4        0.001101      0.000302         0.002400        0.000489   \n",
      "5        0.001300      0.000640         0.002800        0.000400   \n",
      "6        0.001102      0.000301         0.002600        0.000491   \n",
      "7        0.001201      0.000396         0.002597        0.000489   \n",
      "8        0.001701      0.000459         0.002700        0.000640   \n",
      "9        0.001000      0.000002         0.002900        0.000831   \n",
      "10       0.001800      0.001470         0.004399        0.003323   \n",
      "11       0.001201      0.000399         0.004300        0.004243   \n",
      "12       0.001801      0.000399         0.002900        0.000699   \n",
      "13       0.001100      0.000300         0.002400        0.000800   \n",
      "\n",
      "   param_n_neighbors               params  split0_test_score  \\\n",
      "0                  1   {'n_neighbors': 1}           0.866667   \n",
      "1                  2   {'n_neighbors': 2}           0.800000   \n",
      "2                  3   {'n_neighbors': 3}           0.866667   \n",
      "3                  4   {'n_neighbors': 4}           0.866667   \n",
      "4                  5   {'n_neighbors': 5}           0.866667   \n",
      "5                  6   {'n_neighbors': 6}           0.800000   \n",
      "6                  7   {'n_neighbors': 7}           0.866667   \n",
      "7                  8   {'n_neighbors': 8}           0.800000   \n",
      "8                  9   {'n_neighbors': 9}           0.866667   \n",
      "9                 10  {'n_neighbors': 10}           0.800000   \n",
      "10                11  {'n_neighbors': 11}           0.866667   \n",
      "11                12  {'n_neighbors': 12}           0.800000   \n",
      "12                13  {'n_neighbors': 13}           0.866667   \n",
      "13                14  {'n_neighbors': 14}           0.800000   \n",
      "\n",
      "    split1_test_score  split2_test_score  split3_test_score  \\\n",
      "0                 1.0                1.0                1.0   \n",
      "1                 1.0                1.0                1.0   \n",
      "2                 1.0                1.0                1.0   \n",
      "3                 1.0                1.0                1.0   \n",
      "4                 1.0                1.0                1.0   \n",
      "5                 1.0                1.0                1.0   \n",
      "6                 1.0                1.0                1.0   \n",
      "7                 1.0                1.0                1.0   \n",
      "8                 1.0                1.0                1.0   \n",
      "9                 1.0                1.0                1.0   \n",
      "10                1.0                1.0                1.0   \n",
      "11                1.0                1.0                1.0   \n",
      "12                1.0                1.0                1.0   \n",
      "13                1.0                1.0                1.0   \n",
      "\n",
      "    split4_test_score  split5_test_score  split6_test_score  \\\n",
      "0                 1.0                1.0                1.0   \n",
      "1                 1.0                1.0                1.0   \n",
      "2                 1.0                1.0                1.0   \n",
      "3                 1.0                1.0                1.0   \n",
      "4                 1.0                1.0                1.0   \n",
      "5                 1.0                1.0                1.0   \n",
      "6                 1.0                1.0                1.0   \n",
      "7                 1.0                1.0                1.0   \n",
      "8                 1.0                1.0                1.0   \n",
      "9                 1.0                1.0                1.0   \n",
      "10                1.0                1.0                1.0   \n",
      "11                1.0                1.0                1.0   \n",
      "12                1.0                1.0                1.0   \n",
      "13                1.0                1.0                1.0   \n",
      "\n",
      "    split7_test_score  split8_test_score  split9_test_score  mean_test_score  \\\n",
      "0                 1.0                1.0           0.666667         0.953333   \n",
      "1                 1.0                1.0           0.733333         0.953333   \n",
      "2                 1.0                1.0           0.666667         0.953333   \n",
      "3                 1.0                1.0           0.733333         0.960000   \n",
      "4                 1.0                1.0           0.666667         0.953333   \n",
      "5                 1.0                1.0           0.733333         0.953333   \n",
      "6                 1.0                1.0           0.666667         0.953333   \n",
      "7                 1.0                1.0           0.733333         0.953333   \n",
      "8                 1.0                1.0           0.666667         0.953333   \n",
      "9                 1.0                1.0           0.733333         0.953333   \n",
      "10                1.0                1.0           0.666667         0.953333   \n",
      "11                1.0                1.0           0.733333         0.953333   \n",
      "12                1.0                1.0           0.666667         0.953333   \n",
      "13                1.0                1.0           0.733333         0.953333   \n",
      "\n",
      "    std_test_score  rank_test_score  \n",
      "0         0.103494                2  \n",
      "1         0.094516                2  \n",
      "2         0.103494                2  \n",
      "3         0.085375                1  \n",
      "4         0.103494                2  \n",
      "5         0.094516                2  \n",
      "6         0.103494                2  \n",
      "7         0.094516                2  \n",
      "8         0.103494                2  \n",
      "9         0.094516                2  \n",
      "10        0.103494                2  \n",
      "11        0.094516                2  \n",
      "12        0.103494                2  \n",
      "13        0.094516                2  \n"
     ]
    },
    {
     "ename": "TypeError",
     "evalue": "'NoneType' object is not subscriptable",
     "output_type": "error",
     "traceback": [
      "\u001b[1;31m---------------------------------------------------------------------------\u001b[0m",
      "\u001b[1;31mTypeError\u001b[0m                                 Traceback (most recent call last)",
      "\u001b[1;32m<ipython-input-123-79e28913b9bc>\u001b[0m in \u001b[0;36m<module>\u001b[1;34m\u001b[0m\n\u001b[0;32m      2\u001b[0m \u001b[0mpara_grid\u001b[0m \u001b[1;33m=\u001b[0m \u001b[0mdict\u001b[0m\u001b[1;33m(\u001b[0m\u001b[0mn_neighbors\u001b[0m\u001b[1;33m=\u001b[0m\u001b[0mk_list\u001b[0m\u001b[1;33m)\u001b[0m\u001b[1;33m\u001b[0m\u001b[1;33m\u001b[0m\u001b[0m\n\u001b[0;32m      3\u001b[0m \u001b[1;33m\u001b[0m\u001b[0m\n\u001b[1;32m----> 4\u001b[1;33m \u001b[0mGird_search_fun\u001b[0m\u001b[1;33m(\u001b[0m\u001b[0mKNeighborsClassifier\u001b[0m\u001b[1;33m(\u001b[0m\u001b[1;33m)\u001b[0m\u001b[1;33m,\u001b[0m \u001b[0mpara_grid\u001b[0m\u001b[1;33m,\u001b[0m \u001b[1;36m10\u001b[0m\u001b[1;33m,\u001b[0m \u001b[0mX\u001b[0m\u001b[1;33m,\u001b[0m \u001b[0my\u001b[0m\u001b[1;33m,\u001b[0m \u001b[1;34m\"Number of nearest neighbours\"\u001b[0m\u001b[1;33m,\u001b[0m \u001b[1;34m\"Avarage CV Score\"\u001b[0m\u001b[1;33m)\u001b[0m\u001b[1;33m\u001b[0m\u001b[1;33m\u001b[0m\u001b[0m\n\u001b[0m",
      "\u001b[1;32m<ipython-input-114-d73ba23b468e>\u001b[0m in \u001b[0;36mGird_search_fun\u001b[1;34m(typeofmodelandprams, dict_prams, crossval, X, y, X_plot_fill, y_plot_fill)\u001b[0m\n\u001b[0;32m     10\u001b[0m     \u001b[0mbest_accuracy\u001b[0m \u001b[1;33m=\u001b[0m \u001b[0mgrid_search\u001b[0m\u001b[1;33m.\u001b[0m\u001b[0mbest_score_\u001b[0m  \u001b[1;31m# the best accuracy\u001b[0m\u001b[1;33m\u001b[0m\u001b[1;33m\u001b[0m\u001b[0m\n\u001b[0;32m     11\u001b[0m     \u001b[0mbest_parameters\u001b[0m \u001b[1;33m=\u001b[0m \u001b[0mgrid_search\u001b[0m\u001b[1;33m.\u001b[0m\u001b[0mbest_params_\u001b[0m  \u001b[1;31m# the best paramaters that gave the best accurecy\u001b[0m\u001b[1;33m\u001b[0m\u001b[1;33m\u001b[0m\u001b[0m\n\u001b[1;32m---> 12\u001b[1;33m     \u001b[0mprint\u001b[0m\u001b[1;33m(\u001b[0m\u001b[0mpd\u001b[0m\u001b[1;33m.\u001b[0m\u001b[0mDataFrame\u001b[0m\u001b[1;33m(\u001b[0m\u001b[0mgrid_search\u001b[0m\u001b[1;33m.\u001b[0m\u001b[0mcv_results_\u001b[0m\u001b[1;33m)\u001b[0m\u001b[1;33m)\u001b[0m\u001b[1;33m[\u001b[0m\u001b[1;33m[\u001b[0m\u001b[1;34m\"mean_test_score\"\u001b[0m\u001b[1;33m,\u001b[0m\u001b[1;34m\"params\"\u001b[0m\u001b[1;33m]\u001b[0m\u001b[1;33m]\u001b[0m\u001b[1;33m\u001b[0m\u001b[1;33m\u001b[0m\u001b[0m\n\u001b[0m\u001b[0;32m     13\u001b[0m     \u001b[0mpd\u001b[0m\u001b[1;33m.\u001b[0m\u001b[0mDataFrame\u001b[0m\u001b[1;33m(\u001b[0m\u001b[0mgrid_search\u001b[0m\u001b[1;33m.\u001b[0m\u001b[0mcv_results_\u001b[0m\u001b[1;33m)\u001b[0m\u001b[1;33m\u001b[0m\u001b[1;33m\u001b[0m\u001b[0m\n\u001b[0;32m     14\u001b[0m \u001b[1;33m\u001b[0m\u001b[0m\n",
      "\u001b[1;31mTypeError\u001b[0m: 'NoneType' object is not subscriptable"
     ]
    }
   ],
   "source": [
    "k_list = list(range(1,15))\n",
    "para_grid = dict(n_neighbors=k_list)\n",
    "\n",
    "Gird_search_fun(KNeighborsClassifier(), para_grid, 10, X, y, \"Number of nearest neighbours\", \"Avarage CV Score\")"
   ]
  },
  {
   "cell_type": "code",
   "execution_count": 124,
   "id": "4d1658d3",
   "metadata": {},
   "outputs": [
    {
     "name": "stdout",
     "output_type": "stream",
     "text": [
      "ave scores  [0.9, 0.907, 0.9, 0.907, 0.9, 0.907, 0.9, 0.907, 0.9, 0.907, 0.9, 0.9, 0.9, 0.907]\n"
     ]
    },
    {
     "data": {
      "image/png": "[encoded data removed]",
      "text/plain": [
       "<Figure size 432x288 with 1 Axes>"
      ]
     },
     "metadata": {
      "needs_background": "light"
     },
     "output_type": "display_data"
    }
   ],
   "source": [
    "K_NN_plot(X,y)"
   ]
  },
  {
   "cell_type": "code",
   "execution_count": null,
   "id": "6525b410",
   "metadata": {},
   "outputs": [],
   "source": []
  },
  {
   "cell_type": "code",
   "execution_count": null,
   "id": "3196a2c6",
   "metadata": {},
   "outputs": [],
   "source": []
  },
  {
   "cell_type": "code",
   "execution_count": null,
   "id": "47c9b61b",
   "metadata": {},
   "outputs": [],
   "source": []
  },
  {
   "cell_type": "code",
   "execution_count": null,
   "id": "8deba77b",
   "metadata": {},
   "outputs": [],
   "source": [
    "plt.title(\"weather\",fontsize=18)\n",
    "plt.xlabel(\"Days\")\n",
    "plt.ylabel(\"temp\")\n",
    "plt.scatter(X_train,y_train)"
   ]
  },
  {
   "cell_type": "code",
   "execution_count": null,
   "id": "da8dbfdb",
   "metadata": {},
   "outputs": [],
   "source": []
  },
  {
   "cell_type": "code",
   "execution_count": null,
   "id": "32f4944c",
   "metadata": {},
   "outputs": [],
   "source": []
  }
 ],
 "metadata": {
  "kernelspec": {
   "display_name": "Python 3",
   "language": "python",
   "name": "python3"
  },
  "language_info": {
   "codemirror_mode": {
    "name": "ipython",
    "version": 3
   },
   "file_extension": ".py",
   "mimetype": "text/x-python",
   "name": "python",
   "nbconvert_exporter": "python",
   "pygments_lexer": "ipython3",
   "version": "3.8.8"
  }
 },
 "nbformat": 4,
 "nbformat_minor": 5
}
