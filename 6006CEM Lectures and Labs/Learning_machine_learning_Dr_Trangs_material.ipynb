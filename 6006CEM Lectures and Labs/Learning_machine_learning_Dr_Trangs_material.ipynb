{
 "cells": [
  {
   "cell_type": "code",
   "execution_count": 125,
   "id": "ffb3eddc",
   "metadata": {
    "collapsed": true
   },
   "outputs": [],
   "source": [
    "import numpy as np  # Allows us to work with arrays.\n",
    "import matplotlib.pyplot as plt  # Allows working with plots.\n",
    "import pandas as pd  # importing pandas’ library for use. Allows us to import data set and manipulate it.\n",
    "\n",
    "import seaborn as sns  # Allows to polt beautiful plots.\n",
    "import matplotlib.pyplot as plt # plotting.\n",
    "\n",
    "\n",
    "from sklearn.compose import ColumnTransformer  # helps with encoding.\n",
    "from sklearn.preprocessing import OneHotEncoder  # Does onehotencode.\n",
    "from sklearn.preprocessing import LabelEncoder   # Does 1 and 0 encoding.\n",
    "from sklearn.model_selection import train_test_split  # Splits dataset into test set and traning set. \n",
    "from sklearn.preprocessing import StandardScaler  # Perform the feature scaling.\n",
    "from sklearn.linear_model import LogisticRegression  # Performs logistic regression.\n",
    "from sklearn.metrics import confusion_matrix, ConfusionMatrixDisplay, multilabel_confusion_matrix  # creates a confusion matrix\n",
    "from sklearn.metrics import accuracy_score  # Returns accury score of a model.\n",
    "from sklearn.metrics import precision_recall_fscore_support\n",
    "from sklearn.neighbors import KNeighborsClassifier  # performs K Neariesst Neighobour.\n",
    "from sklearn.impute import KNNImputer  # imputes missing values using KNN.\n",
    "from sklearn.svm import SVC  # Performs svm\n",
    "from sklearn.naive_bayes import GaussianNB  # performs naive_bayes gaussianNB.\n",
    "from sklearn.tree import DecisionTreeClassifier  #Perfroms decision tree classification model.\n",
    "from sklearn.ensemble import RandomForestClassifier  #Performs random forest classification.\n",
    "from xgboost import XGBClassifier  # performs xgboost classification. gradiant decision trees.\n",
    "from sklearn.linear_model import LinearRegression  # will use to replace missing values linear regressoin\n",
    "from sklearn.decomposition import PCA  # Performs model optimization\n",
    "from sklearn.decomposition import KernelPCA  # Performs model optimization\n",
    "from sklearn.discriminant_analysis import LinearDiscriminantAnalysis as LDA # performs model optimization\n",
    "from sklearn.model_selection import cross_val_score  # performs cross validation. Helps in model selection.\n",
    "from sklearn.model_selection import GridSearchCV  # helps select the best hyper parameters\n",
    "from sklearn.model_selection import RandomizedSearchCV\n",
    "\n",
    "import warnings\n",
    "warnings.filterwarnings(\"ignore\")\n",
    "\n",
    "#%matplotlib inline  # helps in showing plots on the browser."
   ]
  },
  {
   "cell_type": "code",
   "execution_count": 126,
   "id": "8e083207",
   "metadata": {
    "collapsed": true
   },
   "outputs": [],
   "source": [
    "df = pd.read_csv(\"iris.csv\")\n",
    "\n"
   ]
  },
  {
   "cell_type": "code",
   "execution_count": 127,
   "id": "cdc16615",
   "metadata": {},
   "outputs": [
    {
     "data": {
      "text/html": [
       "<div>\n",
       "<style scoped>\n",
       "    .dataframe tbody tr th:only-of-type {\n",
       "        vertical-align: middle;\n",
       "    }\n",
       "\n",
       "    .dataframe tbody tr th {\n",
       "        vertical-align: top;\n",
       "    }\n",
       "\n",
       "    .dataframe thead th {\n",
       "        text-align: right;\n",
       "    }\n",
       "</style>\n",
       "<table border=\"1\" class=\"dataframe\">\n",
       "  <thead>\n",
       "    <tr style=\"text-align: right;\">\n",
       "      <th></th>\n",
       "      <th>Id</th>\n",
       "      <th>SepalLengthCm</th>\n",
       "      <th>SepalWidthCm</th>\n",
       "      <th>PetalLengthCm</th>\n",
       "      <th>PetalWidthCm</th>\n",
       "      <th>Species</th>\n",
       "    </tr>\n",
       "  </thead>\n",
       "  <tbody>\n",
       "    <tr>\n",
       "      <th>0</th>\n",
       "      <td>1</td>\n",
       "      <td>5.1</td>\n",
       "      <td>3.5</td>\n",
       "      <td>1.4</td>\n",
       "      <td>0.2</td>\n",
       "      <td>Iris-setosa</td>\n",
       "    </tr>\n",
       "    <tr>\n",
       "      <th>1</th>\n",
       "      <td>2</td>\n",
       "      <td>4.9</td>\n",
       "      <td>3.0</td>\n",
       "      <td>1.4</td>\n",
       "      <td>0.2</td>\n",
       "      <td>Iris-setosa</td>\n",
       "    </tr>\n",
       "    <tr>\n",
       "      <th>2</th>\n",
       "      <td>3</td>\n",
       "      <td>4.7</td>\n",
       "      <td>3.2</td>\n",
       "      <td>1.3</td>\n",
       "      <td>0.2</td>\n",
       "      <td>Iris-setosa</td>\n",
       "    </tr>\n",
       "    <tr>\n",
       "      <th>3</th>\n",
       "      <td>4</td>\n",
       "      <td>4.6</td>\n",
       "      <td>3.1</td>\n",
       "      <td>1.5</td>\n",
       "      <td>0.2</td>\n",
       "      <td>Iris-setosa</td>\n",
       "    </tr>\n",
       "    <tr>\n",
       "      <th>4</th>\n",
       "      <td>5</td>\n",
       "      <td>5.0</td>\n",
       "      <td>3.6</td>\n",
       "      <td>1.4</td>\n",
       "      <td>0.2</td>\n",
       "      <td>Iris-setosa</td>\n",
       "    </tr>\n",
       "  </tbody>\n",
       "</table>\n",
       "</div>"
      ],
      "text/plain": [
       "   Id  SepalLengthCm  SepalWidthCm  PetalLengthCm  PetalWidthCm      Species\n",
       "0   1            5.1           3.5            1.4           0.2  Iris-setosa\n",
       "1   2            4.9           3.0            1.4           0.2  Iris-setosa\n",
       "2   3            4.7           3.2            1.3           0.2  Iris-setosa\n",
       "3   4            4.6           3.1            1.5           0.2  Iris-setosa\n",
       "4   5            5.0           3.6            1.4           0.2  Iris-setosa"
      ]
     },
     "execution_count": 127,
     "metadata": {},
     "output_type": "execute_result"
    }
   ],
   "source": [
    "df.head()"
   ]
  },
  {
   "cell_type": "code",
   "execution_count": 128,
   "id": "edea623e",
   "metadata": {},
   "outputs": [
    {
     "data": {
      "text/plain": [
       "Id               0\n",
       "SepalLengthCm    0\n",
       "SepalWidthCm     0\n",
       "PetalLengthCm    0\n",
       "PetalWidthCm     0\n",
       "Species          0\n",
       "dtype: int64"
      ]
     },
     "execution_count": 128,
     "metadata": {},
     "output_type": "execute_result"
    }
   ],
   "source": [
    "df.isnull().sum()  # Checking the dataframe for null values."
   ]
  },
  {
   "cell_type": "code",
   "execution_count": 129,
   "id": "b603bef7",
   "metadata": {},
   "outputs": [
    {
     "name": "stdout",
     "output_type": "stream",
     "text": [
      "Species\n",
      "Iris-setosa        50\n",
      "Iris-versicolor    50\n",
      "Iris-virginica     50\n",
      "dtype: int64\n"
     ]
    }
   ],
   "source": [
    "print(df.pivot_table(columns=['Species'], aggfunc='size'))"
   ]
  },
  {
   "cell_type": "code",
   "execution_count": 130,
   "id": "bcc7c75d",
   "metadata": {
    "collapsed": true
   },
   "outputs": [],
   "source": [
    "df = df.drop('Id', 1)"
   ]
  },
  {
   "cell_type": "code",
   "execution_count": 131,
   "id": "f7270422",
   "metadata": {
    "collapsed": true
   },
   "outputs": [],
   "source": [
    "le = LabelEncoder()\n",
    "df.Species = le.fit_transform(df.Species)"
   ]
  },
  {
   "cell_type": "code",
   "execution_count": 132,
   "id": "36874100",
   "metadata": {},
   "outputs": [
    {
     "data": {
      "text/html": [
       "<div>\n",
       "<style scoped>\n",
       "    .dataframe tbody tr th:only-of-type {\n",
       "        vertical-align: middle;\n",
       "    }\n",
       "\n",
       "    .dataframe tbody tr th {\n",
       "        vertical-align: top;\n",
       "    }\n",
       "\n",
       "    .dataframe thead th {\n",
       "        text-align: right;\n",
       "    }\n",
       "</style>\n",
       "<table border=\"1\" class=\"dataframe\">\n",
       "  <thead>\n",
       "    <tr style=\"text-align: right;\">\n",
       "      <th></th>\n",
       "      <th>SepalLengthCm</th>\n",
       "      <th>SepalWidthCm</th>\n",
       "      <th>PetalLengthCm</th>\n",
       "      <th>PetalWidthCm</th>\n",
       "      <th>Species</th>\n",
       "    </tr>\n",
       "  </thead>\n",
       "  <tbody>\n",
       "    <tr>\n",
       "      <th>0</th>\n",
       "      <td>5.1</td>\n",
       "      <td>3.5</td>\n",
       "      <td>1.4</td>\n",
       "      <td>0.2</td>\n",
       "      <td>0</td>\n",
       "    </tr>\n",
       "    <tr>\n",
       "      <th>1</th>\n",
       "      <td>4.9</td>\n",
       "      <td>3.0</td>\n",
       "      <td>1.4</td>\n",
       "      <td>0.2</td>\n",
       "      <td>0</td>\n",
       "    </tr>\n",
       "    <tr>\n",
       "      <th>2</th>\n",
       "      <td>4.7</td>\n",
       "      <td>3.2</td>\n",
       "      <td>1.3</td>\n",
       "      <td>0.2</td>\n",
       "      <td>0</td>\n",
       "    </tr>\n",
       "    <tr>\n",
       "      <th>3</th>\n",
       "      <td>4.6</td>\n",
       "      <td>3.1</td>\n",
       "      <td>1.5</td>\n",
       "      <td>0.2</td>\n",
       "      <td>0</td>\n",
       "    </tr>\n",
       "    <tr>\n",
       "      <th>4</th>\n",
       "      <td>5.0</td>\n",
       "      <td>3.6</td>\n",
       "      <td>1.4</td>\n",
       "      <td>0.2</td>\n",
       "      <td>0</td>\n",
       "    </tr>\n",
       "    <tr>\n",
       "      <th>...</th>\n",
       "      <td>...</td>\n",
       "      <td>...</td>\n",
       "      <td>...</td>\n",
       "      <td>...</td>\n",
       "      <td>...</td>\n",
       "    </tr>\n",
       "    <tr>\n",
       "      <th>145</th>\n",
       "      <td>6.7</td>\n",
       "      <td>3.0</td>\n",
       "      <td>5.2</td>\n",
       "      <td>2.3</td>\n",
       "      <td>2</td>\n",
       "    </tr>\n",
       "    <tr>\n",
       "      <th>146</th>\n",
       "      <td>6.3</td>\n",
       "      <td>2.5</td>\n",
       "      <td>5.0</td>\n",
       "      <td>1.9</td>\n",
       "      <td>2</td>\n",
       "    </tr>\n",
       "    <tr>\n",
       "      <th>147</th>\n",
       "      <td>6.5</td>\n",
       "      <td>3.0</td>\n",
       "      <td>5.2</td>\n",
       "      <td>2.0</td>\n",
       "      <td>2</td>\n",
       "    </tr>\n",
       "    <tr>\n",
       "      <th>148</th>\n",
       "      <td>6.2</td>\n",
       "      <td>3.4</td>\n",
       "      <td>5.4</td>\n",
       "      <td>2.3</td>\n",
       "      <td>2</td>\n",
       "    </tr>\n",
       "    <tr>\n",
       "      <th>149</th>\n",
       "      <td>5.9</td>\n",
       "      <td>3.0</td>\n",
       "      <td>5.1</td>\n",
       "      <td>1.8</td>\n",
       "      <td>2</td>\n",
       "    </tr>\n",
       "  </tbody>\n",
       "</table>\n",
       "<p>150 rows × 5 columns</p>\n",
       "</div>"
      ],
      "text/plain": [
       "     SepalLengthCm  SepalWidthCm  PetalLengthCm  PetalWidthCm  Species\n",
       "0              5.1           3.5            1.4           0.2        0\n",
       "1              4.9           3.0            1.4           0.2        0\n",
       "2              4.7           3.2            1.3           0.2        0\n",
       "3              4.6           3.1            1.5           0.2        0\n",
       "4              5.0           3.6            1.4           0.2        0\n",
       "..             ...           ...            ...           ...      ...\n",
       "145            6.7           3.0            5.2           2.3        2\n",
       "146            6.3           2.5            5.0           1.9        2\n",
       "147            6.5           3.0            5.2           2.0        2\n",
       "148            6.2           3.4            5.4           2.3        2\n",
       "149            5.9           3.0            5.1           1.8        2\n",
       "\n",
       "[150 rows x 5 columns]"
      ]
     },
     "execution_count": 132,
     "metadata": {},
     "output_type": "execute_result"
    }
   ],
   "source": [
    "df"
   ]
  },
  {
   "cell_type": "code",
   "execution_count": 133,
   "id": "149d7512",
   "metadata": {},
   "outputs": [
    {
     "name": "stdout",
     "output_type": "stream",
     "text": [
      "Species\n",
      "0    50\n",
      "1    50\n",
      "2    50\n",
      "dtype: int64\n"
     ]
    }
   ],
   "source": [
    "print(df.pivot_table(columns=['Species'], aggfunc='size'))"
   ]
  },
  {
   "cell_type": "code",
   "execution_count": 134,
   "id": "cd0a8c8d",
   "metadata": {},
   "outputs": [
    {
     "data": {
      "text/plain": [
       "array([[5.1, 3.5, 1.4, 0.2],\n",
       "       [4.9, 3. , 1.4, 0.2],\n",
       "       [4.7, 3.2, 1.3, 0.2],\n",
       "       [4.6, 3.1, 1.5, 0.2],\n",
       "       [5. , 3.6, 1.4, 0.2],\n",
       "       [5.4, 3.9, 1.7, 0.4],\n",
       "       [4.6, 3.4, 1.4, 0.3],\n",
       "       [5. , 3.4, 1.5, 0.2],\n",
       "       [4.4, 2.9, 1.4, 0.2],\n",
       "       [4.9, 3.1, 1.5, 0.1],\n",
       "       [5.4, 3.7, 1.5, 0.2],\n",
       "       [4.8, 3.4, 1.6, 0.2],\n",
       "       [4.8, 3. , 1.4, 0.1],\n",
       "       [4.3, 3. , 1.1, 0.1],\n",
       "       [5.8, 4. , 1.2, 0.2],\n",
       "       [5.7, 4.4, 1.5, 0.4],\n",
       "       [5.4, 3.9, 1.3, 0.4],\n",
       "       [5.1, 3.5, 1.4, 0.3],\n",
       "       [5.7, 3.8, 1.7, 0.3],\n",
       "       [5.1, 3.8, 1.5, 0.3],\n",
       "       [5.4, 3.4, 1.7, 0.2],\n",
       "       [5.1, 3.7, 1.5, 0.4],\n",
       "       [4.6, 3.6, 1. , 0.2],\n",
       "       [5.1, 3.3, 1.7, 0.5],\n",
       "       [4.8, 3.4, 1.9, 0.2],\n",
       "       [5. , 3. , 1.6, 0.2],\n",
       "       [5. , 3.4, 1.6, 0.4],\n",
       "       [5.2, 3.5, 1.5, 0.2],\n",
       "       [5.2, 3.4, 1.4, 0.2],\n",
       "       [4.7, 3.2, 1.6, 0.2],\n",
       "       [4.8, 3.1, 1.6, 0.2],\n",
       "       [5.4, 3.4, 1.5, 0.4],\n",
       "       [5.2, 4.1, 1.5, 0.1],\n",
       "       [5.5, 4.2, 1.4, 0.2],\n",
       "       [4.9, 3.1, 1.5, 0.1],\n",
       "       [5. , 3.2, 1.2, 0.2],\n",
       "       [5.5, 3.5, 1.3, 0.2],\n",
       "       [4.9, 3.1, 1.5, 0.1],\n",
       "       [4.4, 3. , 1.3, 0.2],\n",
       "       [5.1, 3.4, 1.5, 0.2],\n",
       "       [5. , 3.5, 1.3, 0.3],\n",
       "       [4.5, 2.3, 1.3, 0.3],\n",
       "       [4.4, 3.2, 1.3, 0.2],\n",
       "       [5. , 3.5, 1.6, 0.6],\n",
       "       [5.1, 3.8, 1.9, 0.4],\n",
       "       [4.8, 3. , 1.4, 0.3],\n",
       "       [5.1, 3.8, 1.6, 0.2],\n",
       "       [4.6, 3.2, 1.4, 0.2],\n",
       "       [5.3, 3.7, 1.5, 0.2],\n",
       "       [5. , 3.3, 1.4, 0.2],\n",
       "       [7. , 3.2, 4.7, 1.4],\n",
       "       [6.4, 3.2, 4.5, 1.5],\n",
       "       [6.9, 3.1, 4.9, 1.5],\n",
       "       [5.5, 2.3, 4. , 1.3],\n",
       "       [6.5, 2.8, 4.6, 1.5],\n",
       "       [5.7, 2.8, 4.5, 1.3],\n",
       "       [6.3, 3.3, 4.7, 1.6],\n",
       "       [4.9, 2.4, 3.3, 1. ],\n",
       "       [6.6, 2.9, 4.6, 1.3],\n",
       "       [5.2, 2.7, 3.9, 1.4],\n",
       "       [5. , 2. , 3.5, 1. ],\n",
       "       [5.9, 3. , 4.2, 1.5],\n",
       "       [6. , 2.2, 4. , 1. ],\n",
       "       [6.1, 2.9, 4.7, 1.4],\n",
       "       [5.6, 2.9, 3.6, 1.3],\n",
       "       [6.7, 3.1, 4.4, 1.4],\n",
       "       [5.6, 3. , 4.5, 1.5],\n",
       "       [5.8, 2.7, 4.1, 1. ],\n",
       "       [6.2, 2.2, 4.5, 1.5],\n",
       "       [5.6, 2.5, 3.9, 1.1],\n",
       "       [5.9, 3.2, 4.8, 1.8],\n",
       "       [6.1, 2.8, 4. , 1.3],\n",
       "       [6.3, 2.5, 4.9, 1.5],\n",
       "       [6.1, 2.8, 4.7, 1.2],\n",
       "       [6.4, 2.9, 4.3, 1.3],\n",
       "       [6.6, 3. , 4.4, 1.4],\n",
       "       [6.8, 2.8, 4.8, 1.4],\n",
       "       [6.7, 3. , 5. , 1.7],\n",
       "       [6. , 2.9, 4.5, 1.5],\n",
       "       [5.7, 2.6, 3.5, 1. ],\n",
       "       [5.5, 2.4, 3.8, 1.1],\n",
       "       [5.5, 2.4, 3.7, 1. ],\n",
       "       [5.8, 2.7, 3.9, 1.2],\n",
       "       [6. , 2.7, 5.1, 1.6],\n",
       "       [5.4, 3. , 4.5, 1.5],\n",
       "       [6. , 3.4, 4.5, 1.6],\n",
       "       [6.7, 3.1, 4.7, 1.5],\n",
       "       [6.3, 2.3, 4.4, 1.3],\n",
       "       [5.6, 3. , 4.1, 1.3],\n",
       "       [5.5, 2.5, 4. , 1.3],\n",
       "       [5.5, 2.6, 4.4, 1.2],\n",
       "       [6.1, 3. , 4.6, 1.4],\n",
       "       [5.8, 2.6, 4. , 1.2],\n",
       "       [5. , 2.3, 3.3, 1. ],\n",
       "       [5.6, 2.7, 4.2, 1.3],\n",
       "       [5.7, 3. , 4.2, 1.2],\n",
       "       [5.7, 2.9, 4.2, 1.3],\n",
       "       [6.2, 2.9, 4.3, 1.3],\n",
       "       [5.1, 2.5, 3. , 1.1],\n",
       "       [5.7, 2.8, 4.1, 1.3],\n",
       "       [6.3, 3.3, 6. , 2.5],\n",
       "       [5.8, 2.7, 5.1, 1.9],\n",
       "       [7.1, 3. , 5.9, 2.1],\n",
       "       [6.3, 2.9, 5.6, 1.8],\n",
       "       [6.5, 3. , 5.8, 2.2],\n",
       "       [7.6, 3. , 6.6, 2.1],\n",
       "       [4.9, 2.5, 4.5, 1.7],\n",
       "       [7.3, 2.9, 6.3, 1.8],\n",
       "       [6.7, 2.5, 5.8, 1.8],\n",
       "       [7.2, 3.6, 6.1, 2.5],\n",
       "       [6.5, 3.2, 5.1, 2. ],\n",
       "       [6.4, 2.7, 5.3, 1.9],\n",
       "       [6.8, 3. , 5.5, 2.1],\n",
       "       [5.7, 2.5, 5. , 2. ],\n",
       "       [5.8, 2.8, 5.1, 2.4],\n",
       "       [6.4, 3.2, 5.3, 2.3],\n",
       "       [6.5, 3. , 5.5, 1.8],\n",
       "       [7.7, 3.8, 6.7, 2.2],\n",
       "       [7.7, 2.6, 6.9, 2.3],\n",
       "       [6. , 2.2, 5. , 1.5],\n",
       "       [6.9, 3.2, 5.7, 2.3],\n",
       "       [5.6, 2.8, 4.9, 2. ],\n",
       "       [7.7, 2.8, 6.7, 2. ],\n",
       "       [6.3, 2.7, 4.9, 1.8],\n",
       "       [6.7, 3.3, 5.7, 2.1],\n",
       "       [7.2, 3.2, 6. , 1.8],\n",
       "       [6.2, 2.8, 4.8, 1.8],\n",
       "       [6.1, 3. , 4.9, 1.8],\n",
       "       [6.4, 2.8, 5.6, 2.1],\n",
       "       [7.2, 3. , 5.8, 1.6],\n",
       "       [7.4, 2.8, 6.1, 1.9],\n",
       "       [7.9, 3.8, 6.4, 2. ],\n",
       "       [6.4, 2.8, 5.6, 2.2],\n",
       "       [6.3, 2.8, 5.1, 1.5],\n",
       "       [6.1, 2.6, 5.6, 1.4],\n",
       "       [7.7, 3. , 6.1, 2.3],\n",
       "       [6.3, 3.4, 5.6, 2.4],\n",
       "       [6.4, 3.1, 5.5, 1.8],\n",
       "       [6. , 3. , 4.8, 1.8],\n",
       "       [6.9, 3.1, 5.4, 2.1],\n",
       "       [6.7, 3.1, 5.6, 2.4],\n",
       "       [6.9, 3.1, 5.1, 2.3],\n",
       "       [5.8, 2.7, 5.1, 1.9],\n",
       "       [6.8, 3.2, 5.9, 2.3],\n",
       "       [6.7, 3.3, 5.7, 2.5],\n",
       "       [6.7, 3. , 5.2, 2.3],\n",
       "       [6.3, 2.5, 5. , 1.9],\n",
       "       [6.5, 3. , 5.2, 2. ],\n",
       "       [6.2, 3.4, 5.4, 2.3],\n",
       "       [5.9, 3. , 5.1, 1.8]])"
      ]
     },
     "execution_count": 134,
     "metadata": {},
     "output_type": "execute_result"
    }
   ],
   "source": [
    "X = df.iloc[:, :-1].values  # selecting the values for the X variable.\n",
    "X"
   ]
  },
  {
   "cell_type": "code",
   "execution_count": 135,
   "id": "496b60a0",
   "metadata": {},
   "outputs": [
    {
     "data": {
      "text/plain": [
       "array([[0],\n",
       "       [0],\n",
       "       [0],\n",
       "       [0],\n",
       "       [0],\n",
       "       [0],\n",
       "       [0],\n",
       "       [0],\n",
       "       [0],\n",
       "       [0],\n",
       "       [0],\n",
       "       [0],\n",
       "       [0],\n",
       "       [0],\n",
       "       [0],\n",
       "       [0],\n",
       "       [0],\n",
       "       [0],\n",
       "       [0],\n",
       "       [0],\n",
       "       [0],\n",
       "       [0],\n",
       "       [0],\n",
       "       [0],\n",
       "       [0],\n",
       "       [0],\n",
       "       [0],\n",
       "       [0],\n",
       "       [0],\n",
       "       [0],\n",
       "       [0],\n",
       "       [0],\n",
       "       [0],\n",
       "       [0],\n",
       "       [0],\n",
       "       [0],\n",
       "       [0],\n",
       "       [0],\n",
       "       [0],\n",
       "       [0],\n",
       "       [0],\n",
       "       [0],\n",
       "       [0],\n",
       "       [0],\n",
       "       [0],\n",
       "       [0],\n",
       "       [0],\n",
       "       [0],\n",
       "       [0],\n",
       "       [0],\n",
       "       [1],\n",
       "       [1],\n",
       "       [1],\n",
       "       [1],\n",
       "       [1],\n",
       "       [1],\n",
       "       [1],\n",
       "       [1],\n",
       "       [1],\n",
       "       [1],\n",
       "       [1],\n",
       "       [1],\n",
       "       [1],\n",
       "       [1],\n",
       "       [1],\n",
       "       [1],\n",
       "       [1],\n",
       "       [1],\n",
       "       [1],\n",
       "       [1],\n",
       "       [1],\n",
       "       [1],\n",
       "       [1],\n",
       "       [1],\n",
       "       [1],\n",
       "       [1],\n",
       "       [1],\n",
       "       [1],\n",
       "       [1],\n",
       "       [1],\n",
       "       [1],\n",
       "       [1],\n",
       "       [1],\n",
       "       [1],\n",
       "       [1],\n",
       "       [1],\n",
       "       [1],\n",
       "       [1],\n",
       "       [1],\n",
       "       [1],\n",
       "       [1],\n",
       "       [1],\n",
       "       [1],\n",
       "       [1],\n",
       "       [1],\n",
       "       [1],\n",
       "       [1],\n",
       "       [1],\n",
       "       [1],\n",
       "       [1],\n",
       "       [2],\n",
       "       [2],\n",
       "       [2],\n",
       "       [2],\n",
       "       [2],\n",
       "       [2],\n",
       "       [2],\n",
       "       [2],\n",
       "       [2],\n",
       "       [2],\n",
       "       [2],\n",
       "       [2],\n",
       "       [2],\n",
       "       [2],\n",
       "       [2],\n",
       "       [2],\n",
       "       [2],\n",
       "       [2],\n",
       "       [2],\n",
       "       [2],\n",
       "       [2],\n",
       "       [2],\n",
       "       [2],\n",
       "       [2],\n",
       "       [2],\n",
       "       [2],\n",
       "       [2],\n",
       "       [2],\n",
       "       [2],\n",
       "       [2],\n",
       "       [2],\n",
       "       [2],\n",
       "       [2],\n",
       "       [2],\n",
       "       [2],\n",
       "       [2],\n",
       "       [2],\n",
       "       [2],\n",
       "       [2],\n",
       "       [2],\n",
       "       [2],\n",
       "       [2],\n",
       "       [2],\n",
       "       [2],\n",
       "       [2],\n",
       "       [2],\n",
       "       [2],\n",
       "       [2],\n",
       "       [2],\n",
       "       [2]])"
      ]
     },
     "execution_count": 135,
     "metadata": {},
     "output_type": "execute_result"
    }
   ],
   "source": [
    "y = df[[\"Species\"]].to_numpy()   # selecting the values for the Y variable. # done using .to_numpy and not \n",
    "                                                       # .iloc as .to_numpy creates a horizontal bar while .iloc creates a \n",
    "                                                       # horizontal bar which will not alighn with the x values.\n",
    "y"
   ]
  },
  {
   "cell_type": "code",
   "execution_count": 136,
   "id": "a121a33f",
   "metadata": {
    "collapsed": true
   },
   "outputs": [],
   "source": [
    "X_train, X_test, y_train, y_test = train_test_split(X, y, test_size = 0.25, random_state = 0)\n",
    "# test_size = 0.2               # splitting the data into 80 and 20 percent between the training and test set           \n",
    "                                            # to get the best results.                                                           \n",
    "# random_state = 1         # resetting the  random seed"
   ]
  },
  {
   "cell_type": "code",
   "execution_count": 144,
   "id": "22ea03ca",
   "metadata": {
    "collapsed": true
   },
   "outputs": [],
   "source": [
    "def Grid_search_fun(typeofmodelandprams, dict_prams, crossval, X, y):  # Function takes in the model type, hyperparameters, number of crossvalidation sand X and y values.\n",
    "\n",
    "    model = typeofmodelandprams  # creating an instance of the object.\n",
    "    parameters = [dict_prams]  # hyper parameters for the grid search\n",
    "    grid_search = GridSearchCV(estimator = model,  # model\n",
    "                           param_grid = parameters,  # hyper paramaters \n",
    "                           scoring = 'accuracy',  # score measurement\n",
    "                           cv = crossval, # number of cross validations \n",
    "                           n_jobs = -1, return_train_score=False)  # selecting all possible paramaters to go through to get the best model possible # train score is false as it can be computationaly expensive. without storing the traning score the grd search is fater\n",
    "    grid_search.fit(X, y)  # applying the search on our model.\n",
    "    #print(pd.DataFrame(grid_search.cv_results_)[[\"mean_test_score\",\"params\"]])\n",
    "    print(pd.DataFrame(grid_search.cv_results_)) # to print the whole result\n",
    "\n",
    "    best_accuracy = grid_search.best_score_  # the best accuracy \n",
    "    best_parameters = grid_search.best_params_  # the best paramaters that gave the best accurecy\n",
    "    print(\"Best Accuracy: {:.2f} %\".format(best_accuracy*100))  # printing best accuracy\n",
    "    print(\"Best Parameters:\", best_parameters)  # printing the best parameters\n",
    "    \n",
    "    print(parameters)  # prininting the parameters\n",
    "\n",
    "\n",
    "    return grid_search  # returns grid search value\n",
    "    \n",
    "\n"
   ]
  },
  {
   "cell_type": "code",
   "execution_count": 142,
   "id": "09097b7d",
   "metadata": {
    "collapsed": true
   },
   "outputs": [],
   "source": [
    "from sklearn.metrics import classification_report, accuracy_score, recall_score, precision_score, roc_auc_score, f1_score\n",
    "\n",
    "def Classifier_function(typeofmodelandprams, X_train, y_train, title):  # function takes the type of model, the hyperparameters of the\n",
    "    # model, the x_train and y_train to get our results.\n",
    "  model = typeofmodelandprams  # Bulding an object of the class\n",
    "  model.fit(X_train, y_train)  # Building the k-nearest neighbors classification model.\n",
    "\n",
    "  y_test_p = model.predict(X_test)  # Predicted results.\n",
    "  print(\"  results\\npred-Actual\")  # printing predicted and real values.\n",
    "  print(np.concatenate((y_test_p.reshape(len(y_test_p),1),y_test.reshape(len(y_test),1)),1))  # Predicted results and real results in a np array.\n",
    "   \n",
    "\n",
    "  train_accuracy = round(model.score(X_train,y_train),2) * 100\n",
    "  test_accuracy = round(model.score(X_test,y_test),2) * 100\n",
    "\n",
    "  print(\"Model train accuracy: \", train_accuracy, \"%\")  # printing the model accurcy. \n",
    "  print(\"Model test accuracy: \", test_accuracy, \"%\")  # printing the model accurcy. \n",
    "\n",
    "\n",
    "  print(\"\\n\\n\")\n",
    "  # getting Accuracy or recall or precision or specificity\n",
    "  y_test_pred = model.predict(X_test)\n",
    "  \n",
    "  cReport = classification_report(y_test,y_test_pred)\n",
    "  print(cReport)\n",
    "  \n",
    "  cm = confusion_matrix(y_test, y_test_p)  # creating the confusion matrix\n",
    "  cm2 = multilabel_confusion_matrix(y_test, y_test_pred)\n",
    "  print(\"correct_0-incorrct_1\\nincorrect_0-correct_1\\n\")  # printing correct and inccrocet results.\n",
    "  print(\"True_Negative-False_positive\\nFalse_negative-True_positive\\n\")  # printing correct and inccrocet results.\n",
    "\n",
    "\n",
    "\n",
    "  precision, recall, f1_score, support = precision_recall_fscore_support(y_test, y_test_pred)\n",
    "  accuracy  = round(np.trace(cm) / float(np.sum(cm)), 2) * 100\n",
    "  precision = round(np.mean(precision),2) * 100\n",
    "  recall = round(np.mean(recall),2) * 100\n",
    "  f1_score = round(np.mean(f1_score),2) * 100\n",
    "\n",
    "  lable_list = []\n",
    "  flase_negatives = [0]\n",
    "\n",
    "  for i in range(len(cm)):\n",
    "    if i > 0:\n",
    "     flase_negatives.append(0)\n",
    "\n",
    "\n",
    "    for j in range(len(cm)):\n",
    "\n",
    "        if j == i:\n",
    "            lable_list.append(\"Actual \"+ str(i) +\"\\n\" + \"calssified as \"+ str(j) +\"\\n\" + str(cm[i][j]) + \"\\n\"+ str(round(cm[i][j]/np.sum(cm),2)) + \" %\")\n",
    "\n",
    "        else:\n",
    "            lable_list.append(\"Actual \"+ str(i) +\"\\n\" + \"calssified as \"+ str(j) + \"\\n\"  + str(cm[i][j]) + \"\\n\"+str(round(cm[i][j]/np.sum(cm),2)) + \" %\")\n",
    "            flase_negatives[i] = flase_negatives[i] + cm[i][j]\n",
    "            \n",
    "\n",
    "  lable_list = np.asarray(lable_list).reshape(3,3)\n",
    "  \n",
    "\n",
    "  total_score = (\"Accuracy:   \" + str(accuracy) +\" %\" + \"\\nPrecison:    \"  + str(precision)  +\" %\" + \"\\nRecall:        \" + str(recall)  +\" %\" + \"\\nF1 score:    \"  + str(f1_score) +\" %\") \n",
    "  \n",
    "\n",
    "\n",
    "\n",
    "  disp = sns.heatmap(cm, annot=lable_list, fmt='', cmap='Blues')                           \n",
    "  disp.plot()  # displaying data in plot\n",
    "  plt.title(title)  # adding a title to plot\n",
    "  plt.ylabel('True label')\n",
    "  plt.xlabel('Predicted label' +\"\\n\\nScores\\n\" +total_score)\n",
    "  plt.show()  # showing the plot\n",
    "    \n",
    "\n",
    "\n",
    "  \n",
    "\n",
    "  return test_accuracy"
   ]
  },
  {
   "cell_type": "code",
   "execution_count": 145,
   "id": "116f7582",
   "metadata": {
    "collapsed": true
   },
   "outputs": [],
   "source": [
    "def rand_search_fun(typeofmodelandprams, dict_prams,crossval, X, y):  # Function takes in the model type, hyperparameters, number of crossvalidation sand X and y values.\n",
    "\n",
    "    model = typeofmodelandprams  # creating an instance of the object.\n",
    "    parameters = [dict_prams]  # hyper parameters for the random search \n",
    "    rand_search = RandomizedSearchCV(\n",
    "                           model,\n",
    "        #estimator = model,  # model\n",
    "                           #param_distributions = parameters,  # hyper paramaters \n",
    "                           parameters,\n",
    "                           scoring = 'accuracy',  # score measurement\n",
    "                           cv = crossval, # number of cross validations \n",
    "                           n_jobs = -1, # selecting all possible paramaters to go through to get the best model possible \n",
    "                           return_train_score=False, # train score is false as it can be computationaly expensive. without storing the traning score the grd search is fater\n",
    "                           n_iter=10,  # setting the number of iterations\n",
    "                           random_state=5)  \n",
    "    rand_search.fit(X, y)  # applying the search on our model.\n",
    "    #print(pd.DataFrame(rand_search.cv_results_)[[\"mean_test_score\",\"params\"]])\n",
    "    print(pd.DataFrame(rand_search.cv_results_)) # to print the whole result\n",
    "\n",
    "    best_accuracy = rand_search.best_score_  # the best accuracy \n",
    "    best_parameters = rand_search.best_params_  # the best paramaters that gave the best accurecy\n",
    "    print(\"Best Accuracy: {:.2f} %\".format(best_accuracy*100))  # printing best accuracy\n",
    "    print(\"Best Parameters:\", best_parameters)  # printing the best parameters\n",
    "    \n",
    "    print(parameters)  # prininting the parameters \n",
    "\n",
    "\n",
    "    return rand_search  # return random search value.\n",
    "    \n",
    "\n"
   ]
  },
  {
   "cell_type": "code",
   "execution_count": 140,
   "id": "99e21f6f",
   "metadata": {
    "collapsed": true
   },
   "outputs": [],
   "source": [
    "def crossvalscore(model, X, y, cv_val):\n",
    "    score = cross_val_score(estimator = model, X = X, y = y, cv = cv_val)   # performs different tests to get best accuracy.\n",
    "    print(\"Accuracy: {:.2f} %\".format(score.mean()*100))  # accuracy printed\n",
    "    print(\"Standard Deviation: {:.2f} %\".format(score.std()*100))  # standard deveation printed (std -avarage or std+ avarage )\n",
    "    return score"
   ]
  },
  {
   "cell_type": "code",
   "execution_count": 137,
   "id": "fa0ce1d6",
   "metadata": {
    "collapsed": true
   },
   "outputs": [],
   "source": [
    "def linear_plot(xlab, ylab, l1, l2, title,lg ,lg_lc):\n",
    "    plt.title(title,fontsize=18)\n",
    "    plt.plot(xlab, ylab)\n",
    "    plt.xlabel(l1)\n",
    "    plt.ylabel(l2)\n",
    "    plt.legend([lg], loc=lg_lc)\n",
    "    plt.grid()"
   ]
  },
  {
   "cell_type": "code",
   "execution_count": 138,
   "id": "bf307cd9",
   "metadata": {
    "collapsed": true
   },
   "outputs": [],
   "source": [
    "def K_NN_plot(X,y):\n",
    "    ave_scores = []\n",
    "    k_list = list(range(1,15))\n",
    "    for k in k_list:\n",
    "        model = KNeighborsClassifier(n_neighbors = k) \n",
    "        scores = cross_val_score(model,X,y,cv=5,scoring=\"accuracy\")\n",
    "        ave_scores.append(round(scores.mean(),3))\n",
    "    print(\"ave scores \", ave_scores)\n",
    "    linear_plot(k_list, ave_scores, \"Number of nearest neighbours\", \"Average CV model accuracy\", \"Best KNN Selection\",\\\n",
    "                \"KNN\", \"lower left\")\n",
    "\n",
    "\n",
    "    plt.grid()"
   ]
  },
  {
   "cell_type": "markdown",
   "id": "08e5a2d8",
   "metadata": {},
   "source": [
    "# Plotting the KNN's with a average Cross-val score"
   ]
  },
  {
   "cell_type": "code",
   "execution_count": 169,
   "id": "3d745da5",
   "metadata": {},
   "outputs": [
    {
     "name": "stdout",
     "output_type": "stream",
     "text": [
      "ave scores  [0.96, 0.947, 0.967, 0.973, 0.973, 0.98, 0.98, 0.967, 0.973, 0.98, 0.98, 0.98, 0.973, 0.967]\n"
     ]
    },
    {
     "data": {
      "image/png": "[encoded data removed]",
      "text/plain": [
       "<Figure size 432x288 with 1 Axes>"
      ]
     },
     "metadata": {
      "needs_background": "light"
     },
     "output_type": "display_data"
    }
   ],
   "source": [
    "K_NN_plot(X,y)"
   ]
  },
  {
   "cell_type": "markdown",
   "id": "8ebd59fd",
   "metadata": {},
   "source": [
    "# Cross Validation"
   ]
  },
  {
   "cell_type": "code",
   "execution_count": 141,
   "id": "b1193700",
   "metadata": {},
   "outputs": [
    {
     "name": "stdout",
     "output_type": "stream",
     "text": [
      "Accuracy: 96.00 %\n",
      "Standard Deviation: 5.33 %\n"
     ]
    },
    {
     "data": {
      "text/plain": [
       "array([1.        , 0.93333333, 1.        , 0.93333333, 0.86666667,\n",
       "       1.        , 0.86666667, 1.        , 1.        , 1.        ])"
      ]
     },
     "execution_count": 141,
     "metadata": {},
     "output_type": "execute_result"
    }
   ],
   "source": [
    "crossvalscore(KNeighborsClassifier(n_neighbors=1), X, y, 10) #true 0 false 0 "
   ]
  },
  {
   "cell_type": "markdown",
   "id": "3c30170e",
   "metadata": {},
   "source": [
    "# Grid Search"
   ]
  },
  {
   "cell_type": "code",
   "execution_count": 146,
   "id": "951a22cc",
   "metadata": {},
   "outputs": [
    {
     "name": "stdout",
     "output_type": "stream",
     "text": [
      "    mean_fit_time  std_fit_time  mean_score_time  std_score_time  \\\n",
      "0        0.036853      0.030077         0.008768        0.000937   \n",
      "1        0.017781      0.018499         0.008304        0.006997   \n",
      "2        0.002173      0.000638         0.007146        0.001105   \n",
      "3        0.022707      0.039959         0.009547        0.012321   \n",
      "4        0.002307      0.000371         0.007135        0.001274   \n",
      "5        0.001959      0.000500         0.003476        0.000582   \n",
      "6        0.002411      0.000493         0.006247        0.000867   \n",
      "7        0.002804      0.000687         0.004530        0.000781   \n",
      "8        0.002083      0.000675         0.008463        0.002418   \n",
      "9        0.002310      0.000584         0.003457        0.000450   \n",
      "10       0.002121      0.001179         0.007152        0.001917   \n",
      "11       0.002141      0.000204         0.003851        0.002542   \n",
      "12       0.002197      0.000954         0.007089        0.001366   \n",
      "13       0.002264      0.000326         0.002786        0.000157   \n",
      "14       0.002094      0.000209         0.006245        0.000409   \n",
      "15       0.002033      0.000578         0.002827        0.000417   \n",
      "16       0.002334      0.000358         0.006556        0.000463   \n",
      "17       0.002199      0.000538         0.002980        0.000898   \n",
      "18       0.002490      0.000468         0.006158        0.000758   \n",
      "19       0.002198      0.000417         0.002591        0.000484   \n",
      "20       0.002133      0.000251         0.006341        0.000201   \n",
      "21       0.002069      0.000203         0.003276        0.000401   \n",
      "22       0.002460      0.000591         0.008072        0.001042   \n",
      "23       0.002506      0.000672         0.004053        0.000048   \n",
      "24       0.001997      0.000062         0.007405        0.001286   \n",
      "25       0.001794      0.000713         0.003081        0.000080   \n",
      "26       0.002452      0.000370         0.006577        0.000748   \n",
      "27       0.002772      0.000540         0.003833        0.000517   \n",
      "28       0.001837      0.000423         0.006061        0.000635   \n",
      "29       0.001893      0.000400         0.003254        0.000418   \n",
      "30       0.001993      0.000632         0.006657        0.000975   \n",
      "31       0.001989      0.000167         0.004042        0.000657   \n",
      "32       0.002878      0.000546         0.007013        0.001016   \n",
      "33       0.002051      0.000581         0.003616        0.000523   \n",
      "34       0.001929      0.000206         0.006631        0.000540   \n",
      "35       0.002016      0.000028         0.003329        0.000430   \n",
      "36       0.002660      0.000436         0.008165        0.001680   \n",
      "37       0.002411      0.000499         0.003147        0.000257   \n",
      "38       0.002195      0.000672         0.006161        0.000233   \n",
      "39       0.002554      0.000416         0.004299        0.000924   \n",
      "40       0.001753      0.000389         0.006675        0.000770   \n",
      "41       0.001806      0.000252         0.002705        0.000537   \n",
      "42       0.002438      0.000583         0.006298        0.000936   \n",
      "43       0.003590      0.001344         0.004402        0.001007   \n",
      "44       0.003016      0.001493         0.006754        0.000679   \n",
      "45       0.002407      0.000482         0.014754        0.021931   \n",
      "46       0.002095      0.000439         0.006833        0.001122   \n",
      "47       0.002401      0.000803         0.004545        0.001592   \n",
      "48       0.002395      0.000807         0.019282        0.023669   \n",
      "49       0.002014      0.000026         0.003542        0.000386   \n",
      "50       0.002441      0.000421         0.006095        0.000431   \n",
      "51       0.002334      0.000546         0.003393        0.000821   \n",
      "52       0.001982      0.000271         0.007426        0.001523   \n",
      "53       0.003799      0.002329         0.010286        0.012839   \n",
      "54       0.002371      0.000494         0.010918        0.006040   \n",
      "55       0.002291      0.000474         0.004906        0.001820   \n",
      "56       0.003618      0.001892         0.008267        0.001303   \n",
      "57       0.002069      0.000224         0.004184        0.001347   \n",
      "58       0.001966      0.000633         0.005765        0.001055   \n",
      "59       0.002812      0.000571         0.003384        0.000401   \n",
      "\n",
      "   param_n_neighbors param_weights  \\\n",
      "0                  1       uniform   \n",
      "1                  1      distance   \n",
      "2                  2       uniform   \n",
      "3                  2      distance   \n",
      "4                  3       uniform   \n",
      "5                  3      distance   \n",
      "6                  4       uniform   \n",
      "7                  4      distance   \n",
      "8                  5       uniform   \n",
      "9                  5      distance   \n",
      "10                 6       uniform   \n",
      "11                 6      distance   \n",
      "12                 7       uniform   \n",
      "13                 7      distance   \n",
      "14                 8       uniform   \n",
      "15                 8      distance   \n",
      "16                 9       uniform   \n",
      "17                 9      distance   \n",
      "18                10       uniform   \n",
      "19                10      distance   \n",
      "20                11       uniform   \n",
      "21                11      distance   \n",
      "22                12       uniform   \n",
      "23                12      distance   \n",
      "24                13       uniform   \n",
      "25                13      distance   \n",
      "26                14       uniform   \n",
      "27                14      distance   \n",
      "28                15       uniform   \n",
      "29                15      distance   \n",
      "30                16       uniform   \n",
      "31                16      distance   \n",
      "32                17       uniform   \n",
      "33                17      distance   \n",
      "34                18       uniform   \n",
      "35                18      distance   \n",
      "36                19       uniform   \n",
      "37                19      distance   \n",
      "38                20       uniform   \n",
      "39                20      distance   \n",
      "40                21       uniform   \n",
      "41                21      distance   \n",
      "42                22       uniform   \n",
      "43                22      distance   \n",
      "44                23       uniform   \n",
      "45                23      distance   \n",
      "46                24       uniform   \n",
      "47                24      distance   \n",
      "48                25       uniform   \n",
      "49                25      distance   \n",
      "50                26       uniform   \n",
      "51                26      distance   \n",
      "52                27       uniform   \n",
      "53                27      distance   \n",
      "54                28       uniform   \n",
      "55                28      distance   \n",
      "56                29       uniform   \n",
      "57                29      distance   \n",
      "58                30       uniform   \n",
      "59                30      distance   \n",
      "\n",
      "                                        params  split0_test_score  \\\n",
      "0     {'n_neighbors': 1, 'weights': 'uniform'}           0.966667   \n",
      "1    {'n_neighbors': 1, 'weights': 'distance'}           0.966667   \n",
      "2     {'n_neighbors': 2, 'weights': 'uniform'}           0.966667   \n",
      "3    {'n_neighbors': 2, 'weights': 'distance'}           0.966667   \n",
      "4     {'n_neighbors': 3, 'weights': 'uniform'}           0.966667   \n",
      "5    {'n_neighbors': 3, 'weights': 'distance'}           0.966667   \n",
      "6     {'n_neighbors': 4, 'weights': 'uniform'}           0.966667   \n",
      "7    {'n_neighbors': 4, 'weights': 'distance'}           0.966667   \n",
      "8     {'n_neighbors': 5, 'weights': 'uniform'}           0.966667   \n",
      "9    {'n_neighbors': 5, 'weights': 'distance'}           0.966667   \n",
      "10    {'n_neighbors': 6, 'weights': 'uniform'}           0.966667   \n",
      "11   {'n_neighbors': 6, 'weights': 'distance'}           0.966667   \n",
      "12    {'n_neighbors': 7, 'weights': 'uniform'}           0.966667   \n",
      "13   {'n_neighbors': 7, 'weights': 'distance'}           0.966667   \n",
      "14    {'n_neighbors': 8, 'weights': 'uniform'}           0.966667   \n",
      "15   {'n_neighbors': 8, 'weights': 'distance'}           0.966667   \n",
      "16    {'n_neighbors': 9, 'weights': 'uniform'}           0.966667   \n",
      "17   {'n_neighbors': 9, 'weights': 'distance'}           0.966667   \n",
      "18   {'n_neighbors': 10, 'weights': 'uniform'}           0.966667   \n",
      "19  {'n_neighbors': 10, 'weights': 'distance'}           0.966667   \n",
      "20   {'n_neighbors': 11, 'weights': 'uniform'}           0.933333   \n",
      "21  {'n_neighbors': 11, 'weights': 'distance'}           0.966667   \n",
      "22   {'n_neighbors': 12, 'weights': 'uniform'}           0.933333   \n",
      "23  {'n_neighbors': 12, 'weights': 'distance'}           0.966667   \n",
      "24   {'n_neighbors': 13, 'weights': 'uniform'}           0.933333   \n",
      "25  {'n_neighbors': 13, 'weights': 'distance'}           0.966667   \n",
      "26   {'n_neighbors': 14, 'weights': 'uniform'}           0.933333   \n",
      "27  {'n_neighbors': 14, 'weights': 'distance'}           0.966667   \n",
      "28   {'n_neighbors': 15, 'weights': 'uniform'}           0.933333   \n",
      "29  {'n_neighbors': 15, 'weights': 'distance'}           0.966667   \n",
      "30   {'n_neighbors': 16, 'weights': 'uniform'}           0.933333   \n",
      "31  {'n_neighbors': 16, 'weights': 'distance'}           0.966667   \n",
      "32   {'n_neighbors': 17, 'weights': 'uniform'}           0.933333   \n",
      "33  {'n_neighbors': 17, 'weights': 'distance'}           0.966667   \n",
      "34   {'n_neighbors': 18, 'weights': 'uniform'}           0.933333   \n",
      "35  {'n_neighbors': 18, 'weights': 'distance'}           0.966667   \n",
      "36   {'n_neighbors': 19, 'weights': 'uniform'}           0.933333   \n",
      "37  {'n_neighbors': 19, 'weights': 'distance'}           0.966667   \n",
      "38   {'n_neighbors': 20, 'weights': 'uniform'}           0.933333   \n",
      "39  {'n_neighbors': 20, 'weights': 'distance'}           0.966667   \n",
      "40   {'n_neighbors': 21, 'weights': 'uniform'}           0.933333   \n",
      "41  {'n_neighbors': 21, 'weights': 'distance'}           0.966667   \n",
      "42   {'n_neighbors': 22, 'weights': 'uniform'}           0.933333   \n",
      "43  {'n_neighbors': 22, 'weights': 'distance'}           0.966667   \n",
      "44   {'n_neighbors': 23, 'weights': 'uniform'}           0.933333   \n",
      "45  {'n_neighbors': 23, 'weights': 'distance'}           0.966667   \n",
      "46   {'n_neighbors': 24, 'weights': 'uniform'}           0.933333   \n",
      "47  {'n_neighbors': 24, 'weights': 'distance'}           0.966667   \n",
      "48   {'n_neighbors': 25, 'weights': 'uniform'}           0.933333   \n",
      "49  {'n_neighbors': 25, 'weights': 'distance'}           0.966667   \n",
      "50   {'n_neighbors': 26, 'weights': 'uniform'}           0.933333   \n",
      "51  {'n_neighbors': 26, 'weights': 'distance'}           0.933333   \n",
      "52   {'n_neighbors': 27, 'weights': 'uniform'}           0.900000   \n",
      "53  {'n_neighbors': 27, 'weights': 'distance'}           0.966667   \n",
      "54   {'n_neighbors': 28, 'weights': 'uniform'}           0.900000   \n",
      "55  {'n_neighbors': 28, 'weights': 'distance'}           0.966667   \n",
      "56   {'n_neighbors': 29, 'weights': 'uniform'}           0.900000   \n",
      "57  {'n_neighbors': 29, 'weights': 'distance'}           0.966667   \n",
      "58   {'n_neighbors': 30, 'weights': 'uniform'}           0.900000   \n",
      "59  {'n_neighbors': 30, 'weights': 'distance'}           0.966667   \n",
      "\n",
      "    split1_test_score  split2_test_score  split3_test_score  \\\n",
      "0            0.966667           0.933333           0.933333   \n",
      "1            0.966667           0.933333           0.933333   \n",
      "2            0.933333           0.933333           0.900000   \n",
      "3            0.966667           0.933333           0.933333   \n",
      "4            0.966667           0.933333           0.966667   \n",
      "5            0.966667           0.933333           0.966667   \n",
      "6            0.966667           0.966667           0.966667   \n",
      "7            0.966667           0.933333           0.966667   \n",
      "8            1.000000           0.933333           0.966667   \n",
      "9            1.000000           0.900000           0.966667   \n",
      "10           1.000000           0.966667           0.966667   \n",
      "11           1.000000           0.966667           0.966667   \n",
      "12           1.000000           0.966667           0.966667   \n",
      "13           1.000000           0.966667           0.966667   \n",
      "14           1.000000           0.933333           0.933333   \n",
      "15           1.000000           0.966667           0.966667   \n",
      "16           1.000000           0.966667           0.933333   \n",
      "17           1.000000           0.933333           0.966667   \n",
      "18           1.000000           1.000000           0.933333   \n",
      "19           1.000000           1.000000           0.966667   \n",
      "20           1.000000           1.000000           0.966667   \n",
      "21           1.000000           1.000000           0.966667   \n",
      "22           1.000000           1.000000           0.966667   \n",
      "23           1.000000           1.000000           0.966667   \n",
      "24           1.000000           0.966667           0.966667   \n",
      "25           1.000000           0.966667           0.966667   \n",
      "26           1.000000           0.966667           0.933333   \n",
      "27           1.000000           0.933333           0.966667   \n",
      "28           1.000000           0.933333           0.966667   \n",
      "29           1.000000           0.933333           0.966667   \n",
      "30           1.000000           0.933333           0.966667   \n",
      "31           1.000000           0.933333           0.966667   \n",
      "32           1.000000           0.933333           0.966667   \n",
      "33           1.000000           0.933333           0.966667   \n",
      "34           1.000000           0.966667           0.933333   \n",
      "35           1.000000           0.933333           0.966667   \n",
      "36           1.000000           0.933333           0.966667   \n",
      "37           1.000000           0.933333           0.966667   \n",
      "38           1.000000           0.933333           0.933333   \n",
      "39           1.000000           0.933333           0.966667   \n",
      "40           1.000000           0.933333           0.966667   \n",
      "41           1.000000           0.933333           0.966667   \n",
      "42           1.000000           0.933333           0.933333   \n",
      "43           1.000000           0.933333           0.966667   \n",
      "44           1.000000           0.933333           0.933333   \n",
      "45           1.000000           0.966667           0.966667   \n",
      "46           0.966667           0.900000           0.933333   \n",
      "47           1.000000           0.966667           0.966667   \n",
      "48           0.966667           0.933333           0.966667   \n",
      "49           0.966667           0.933333           0.966667   \n",
      "50           0.966667           0.933333           0.900000   \n",
      "51           0.966667           0.933333           0.966667   \n",
      "52           0.966667           0.933333           0.933333   \n",
      "53           0.966667           0.966667           0.966667   \n",
      "54           0.966667           0.933333           0.900000   \n",
      "55           0.966667           0.900000           0.966667   \n",
      "56           0.966667           0.900000           0.900000   \n",
      "57           0.966667           0.933333           0.966667   \n",
      "58           0.966667           0.933333           0.900000   \n",
      "59           0.966667           0.933333           0.933333   \n",
      "\n",
      "    split4_test_score  mean_test_score  std_test_score  rank_test_score  \n",
      "0                 1.0         0.960000        0.024944               45  \n",
      "1                 1.0         0.960000        0.024944               45  \n",
      "2                 1.0         0.946667        0.033993               56  \n",
      "3                 1.0         0.960000        0.024944               45  \n",
      "4                 1.0         0.966667        0.021082               30  \n",
      "5                 1.0         0.966667        0.021082               30  \n",
      "6                 1.0         0.973333        0.013333               15  \n",
      "7                 1.0         0.966667        0.021082               30  \n",
      "8                 1.0         0.973333        0.024944               15  \n",
      "9                 1.0         0.966667        0.036515               30  \n",
      "10                1.0         0.980000        0.016330                4  \n",
      "11                1.0         0.980000        0.016330                4  \n",
      "12                1.0         0.980000        0.016330                4  \n",
      "13                1.0         0.980000        0.016330                4  \n",
      "14                1.0         0.966667        0.029814               30  \n",
      "15                1.0         0.980000        0.016330                4  \n",
      "16                1.0         0.973333        0.024944               15  \n",
      "17                1.0         0.973333        0.024944               15  \n",
      "18                1.0         0.980000        0.026667                4  \n",
      "19                1.0         0.986667        0.016330                1  \n",
      "20                1.0         0.980000        0.026667                4  \n",
      "21                1.0         0.986667        0.016330                1  \n",
      "22                1.0         0.980000        0.026667                4  \n",
      "23                1.0         0.986667        0.016330                1  \n",
      "24                1.0         0.973333        0.024944               15  \n",
      "25                1.0         0.980000        0.016330                4  \n",
      "26                1.0         0.966667        0.029814               42  \n",
      "27                1.0         0.973333        0.024944               15  \n",
      "28                1.0         0.966667        0.029814               30  \n",
      "29                1.0         0.973333        0.024944               15  \n",
      "30                1.0         0.966667        0.029814               30  \n",
      "31                1.0         0.973333        0.024944               15  \n",
      "32                1.0         0.966667        0.029814               30  \n",
      "33                1.0         0.973333        0.024944               15  \n",
      "34                1.0         0.966667        0.029814               42  \n",
      "35                1.0         0.973333        0.024944               15  \n",
      "36                1.0         0.966667        0.029814               30  \n",
      "37                1.0         0.973333        0.024944               15  \n",
      "38                1.0         0.960000        0.032660               45  \n",
      "39                1.0         0.973333        0.024944               15  \n",
      "40                1.0         0.966667        0.029814               30  \n",
      "41                1.0         0.973333        0.024944               15  \n",
      "42                1.0         0.960000        0.032660               45  \n",
      "43                1.0         0.973333        0.024944               15  \n",
      "44                1.0         0.960000        0.032660               45  \n",
      "45                1.0         0.980000        0.016330                4  \n",
      "46                1.0         0.946667        0.033993               54  \n",
      "47                1.0         0.980000        0.016330                4  \n",
      "48                1.0         0.960000        0.024944               45  \n",
      "49                1.0         0.966667        0.021082               30  \n",
      "50                1.0         0.946667        0.033993               56  \n",
      "51                1.0         0.960000        0.024944               45  \n",
      "52                1.0         0.946667        0.033993               54  \n",
      "53                1.0         0.973333        0.013333               15  \n",
      "54                1.0         0.940000        0.038873               58  \n",
      "55                1.0         0.960000        0.032660               44  \n",
      "56                1.0         0.933333        0.042164               60  \n",
      "57                1.0         0.966667        0.021082               30  \n",
      "58                1.0         0.940000        0.038873               58  \n",
      "59                1.0         0.960000        0.024944               45  \n",
      "Best Accuracy: 98.67 %\n",
      "Best Parameters: {'n_neighbors': 10, 'weights': 'distance'}\n",
      "[{'n_neighbors': [1, 2, 3, 4, 5, 6, 7, 8, 9, 10, 11, 12, 13, 14, 15, 16, 17, 18, 19, 20, 21, 22, 23, 24, 25, 26, 27, 28, 29, 30], 'weights': ['uniform', 'distance']}]\n"
     ]
    }
   ],
   "source": [
    "k_list = list(range(1,31))  # list from 1 - 31 (will be used as KNN's)\n",
    "weight_list = [\"uniform\", \"distance\"]  # weights list uniform and distance\n",
    "para_grid = dict(n_neighbors=k_list,weights=weight_list)  # adding the above lists in a dictinorr.\n",
    "\n",
    "grid_search = Grid_search_fun(KNeighborsClassifier(n_neighbors=k_list), para_grid, 5, X, y)  # Using the grid search function \n",
    "                                                                                      # with arguments given "
   ]
  },
  {
   "cell_type": "code",
   "execution_count": 147,
   "id": "b306765f",
   "metadata": {},
   "outputs": [
    {
     "data": {
      "text/plain": [
       "array([0.96      , 0.96      , 0.94666667, 0.96      , 0.96666667,\n",
       "       0.96666667, 0.97333333, 0.96666667, 0.97333333, 0.96666667,\n",
       "       0.98      , 0.98      , 0.98      , 0.98      , 0.96666667,\n",
       "       0.98      , 0.97333333, 0.97333333, 0.98      , 0.98666667,\n",
       "       0.98      , 0.98666667, 0.98      , 0.98666667, 0.97333333,\n",
       "       0.98      , 0.96666667, 0.97333333, 0.96666667, 0.97333333,\n",
       "       0.96666667, 0.97333333, 0.96666667, 0.97333333, 0.96666667,\n",
       "       0.97333333, 0.96666667, 0.97333333, 0.96      , 0.97333333,\n",
       "       0.96666667, 0.97333333, 0.96      , 0.97333333, 0.96      ,\n",
       "       0.98      , 0.94666667, 0.98      , 0.96      , 0.96666667,\n",
       "       0.94666667, 0.96      , 0.94666667, 0.97333333, 0.94      ,\n",
       "       0.96      , 0.93333333, 0.96666667, 0.94      , 0.96      ])"
      ]
     },
     "execution_count": 147,
     "metadata": {},
     "output_type": "execute_result"
    }
   ],
   "source": [
    "grid_search.cv_results_[\"mean_test_score\"] # looking at mean test score"
   ]
  },
  {
   "cell_type": "code",
   "execution_count": 148,
   "id": "d50b921c",
   "metadata": {
    "collapsed": true
   },
   "outputs": [],
   "source": [
    "uniform = []  # a empty list is created\n",
    "for i in range(0, len(grid_search.cv_results_[\"mean_test_score\"]), 2):  # getting all even number indexes using a for loop.\n",
    "\n",
    "    uniform.append(grid_search.cv_results_[\"mean_test_score\"][i])  # appending the unifrom values to the varibale unifrom."
   ]
  },
  {
   "cell_type": "code",
   "execution_count": 149,
   "id": "a502b8c7",
   "metadata": {
    "collapsed": true
   },
   "outputs": [],
   "source": [
    "distance = []  # a empty list is created\n",
    "for i in range(1, len(grid_search.cv_results_[\"mean_test_score\"]), 2):  # getting all odd number indexes using a for loop.\n",
    "    distance.append(grid_search.cv_results_[\"mean_test_score\"][i])  # appending the distance values to the varibale unifrom."
   ]
  },
  {
   "cell_type": "code",
   "execution_count": 150,
   "id": "6ab16b22",
   "metadata": {},
   "outputs": [
    {
     "name": "stdout",
     "output_type": "stream",
     "text": [
      "[0.96, 0.96, 0.9666666666666668, 0.9666666666666668, 0.9666666666666668, 0.9800000000000001, 0.9800000000000001, 0.9800000000000001, 0.9733333333333334, 0.9866666666666667, 0.9866666666666667, 0.9866666666666667, 0.9800000000000001, 0.9733333333333334, 0.9733333333333334, 0.9733333333333334, 0.9733333333333334, 0.9733333333333334, 0.9733333333333334, 0.9733333333333334, 0.9733333333333334, 0.9733333333333334, 0.9800000000000001, 0.9800000000000001, 0.9666666666666668, 0.96, 0.9733333333333334, 0.9600000000000002, 0.9666666666666668, 0.96]\n"
     ]
    }
   ],
   "source": [
    "print(distance)   # printing the values distace variable."
   ]
  },
  {
   "cell_type": "code",
   "execution_count": 151,
   "id": "b8ae6c42",
   "metadata": {},
   "outputs": [
    {
     "name": "stdout",
     "output_type": "stream",
     "text": [
      "[0.96, 0.9466666666666665, 0.9666666666666668, 0.9733333333333334, 0.9733333333333334, 0.9800000000000001, 0.9800000000000001, 0.9666666666666668, 0.9733333333333334, 0.9800000000000001, 0.9800000000000001, 0.9800000000000001, 0.9733333333333334, 0.9666666666666666, 0.9666666666666668, 0.9666666666666668, 0.9666666666666668, 0.9666666666666666, 0.9666666666666668, 0.96, 0.9666666666666668, 0.96, 0.96, 0.9466666666666667, 0.96, 0.9466666666666665, 0.9466666666666667, 0.9399999999999998, 0.9333333333333332, 0.9399999999999998]\n"
     ]
    }
   ],
   "source": [
    "print(uniform)  # printing the values uniform variable."
   ]
  },
  {
   "cell_type": "code",
   "execution_count": 152,
   "id": "c01569de",
   "metadata": {},
   "outputs": [
    {
     "data": {
      "image/png": "[encoded data removed]",
      "text/plain": [
       "<Figure size 1400x700 with 1 Axes>"
      ]
     },
     "metadata": {
      "needs_background": "light"
     },
     "output_type": "display_data"
    }
   ],
   "source": [
    "plt.figure(dpi=100, figsize=(14, 7))  # setting the plot size\n",
    "plt.title(\"Grid Search Hyper parameter Comparison\",fontsize=14, color=\"blue\")  # setting the plot title.\n",
    "plt.plot(k_list,uniform , \"--\", marker = \"o\", label=\"weights uniform\", color=\"red\")  # setting the uniform variables values to \n",
    "                                                                           # the plot on the y axis and K_list  on the x axis.\n",
    "plt.plot(k_list,distance ,\":\", marker = \"*\", label=\"weights distant\", color=\"blue\")  # setting the distant variables values \n",
    "                                                                         # to the plot on the y axis and K_list  on the x axis.\n",
    "plt.xlabel(\"Number of nearest neighbours\")  # Setting the x label.\n",
    "plt.ylabel(\"Avarage CV Score\")  # setting the y label.\n",
    "plt.legend(loc='lower left')  # setting the legend.\n",
    "plt.grid()  # setting a grid"
   ]
  },
  {
   "cell_type": "markdown",
   "id": "396a214f",
   "metadata": {},
   "source": [
    "# Random search "
   ]
  },
  {
   "cell_type": "code",
   "execution_count": 153,
   "id": "14413b25",
   "metadata": {},
   "outputs": [
    {
     "name": "stdout",
     "output_type": "stream",
     "text": [
      "   mean_fit_time  std_fit_time  mean_score_time  std_score_time param_weights  \\\n",
      "0       0.002524      0.000720         0.006288        0.000752       uniform   \n",
      "1       0.002553      0.000283         0.005938        0.000998       uniform   \n",
      "2       0.002081      0.000485         0.006242        0.000636       uniform   \n",
      "3       0.002367      0.000522         0.007396        0.001553       uniform   \n",
      "4       0.002441      0.000830         0.006362        0.000812       uniform   \n",
      "5       0.004007      0.003661         0.011845        0.009723       uniform   \n",
      "6       0.001944      0.000467         0.006540        0.000730       uniform   \n",
      "7       0.002005      0.000900         0.006698        0.000613       uniform   \n",
      "8       0.002651      0.000335         0.008002        0.001380       uniform   \n",
      "9       0.002425      0.000379         0.008804        0.001611       uniform   \n",
      "\n",
      "  param_n_neighbors                                     params  \\\n",
      "0                12  {'weights': 'uniform', 'n_neighbors': 12}   \n",
      "1                30  {'weights': 'uniform', 'n_neighbors': 30}   \n",
      "2                24  {'weights': 'uniform', 'n_neighbors': 24}   \n",
      "3                26  {'weights': 'uniform', 'n_neighbors': 26}   \n",
      "4                19  {'weights': 'uniform', 'n_neighbors': 19}   \n",
      "5                11  {'weights': 'uniform', 'n_neighbors': 11}   \n",
      "6                 3   {'weights': 'uniform', 'n_neighbors': 3}   \n",
      "7                14  {'weights': 'uniform', 'n_neighbors': 14}   \n",
      "8                27  {'weights': 'uniform', 'n_neighbors': 27}   \n",
      "9                22  {'weights': 'uniform', 'n_neighbors': 22}   \n",
      "\n",
      "   split0_test_score  split1_test_score  split2_test_score  split3_test_score  \\\n",
      "0           0.933333           1.000000           1.000000           0.966667   \n",
      "1           0.900000           0.966667           0.933333           0.900000   \n",
      "2           0.933333           0.966667           0.900000           0.933333   \n",
      "3           0.933333           0.966667           0.933333           0.900000   \n",
      "4           0.933333           1.000000           0.933333           0.966667   \n",
      "5           0.933333           1.000000           1.000000           0.966667   \n",
      "6           0.966667           0.966667           0.933333           0.966667   \n",
      "7           0.933333           1.000000           0.966667           0.933333   \n",
      "8           0.900000           0.966667           0.933333           0.933333   \n",
      "9           0.933333           1.000000           0.933333           0.933333   \n",
      "\n",
      "   split4_test_score  mean_test_score  std_test_score  rank_test_score  \n",
      "0                1.0         0.980000        0.026667                1  \n",
      "1                1.0         0.940000        0.038873               10  \n",
      "2                1.0         0.946667        0.033993                7  \n",
      "3                1.0         0.946667        0.033993                9  \n",
      "4                1.0         0.966667        0.029814                3  \n",
      "5                1.0         0.980000        0.026667                1  \n",
      "6                1.0         0.966667        0.021082                3  \n",
      "7                1.0         0.966667        0.029814                5  \n",
      "8                1.0         0.946667        0.033993                7  \n",
      "9                1.0         0.960000        0.032660                6  \n",
      "Best Accuracy: 98.00 %\n",
      "Best Parameters: {'weights': 'uniform', 'n_neighbors': 12}\n",
      "[{'n_neighbors': [1, 2, 3, 4, 5, 6, 7, 8, 9, 10, 11, 12, 13, 14, 15, 16, 17, 18, 19, 20, 21, 22, 23, 24, 25, 26, 27, 28, 29, 30], 'weights': ['uniform']}]\n"
     ]
    }
   ],
   "source": [
    "k_list = list(range(1,31))  # list from 1 - 31 (will be used as KNN's)\n",
    "weight_list = [\"uniform\"]  # weights list uniform\n",
    "para_rand = dict(n_neighbors=k_list,weights=weight_list)  # adding the above lists in a dictinory.\n",
    "\n",
    "rand_search = rand_search_fun(KNeighborsClassifier(), para_rand, 5, X, y)  # Using the grid search gunction with\n",
    "                                                                                               # arguments given "
   ]
  },
  {
   "cell_type": "code",
   "execution_count": 154,
   "id": "50792289",
   "metadata": {
    "collapsed": true
   },
   "outputs": [],
   "source": [
    "uniform = []  # creating a empty list\n",
    "k_list1 = []  # creating a empty list\n",
    "for i in range(len(rand_search.cv_results_[\"mean_test_score\"])):  # looping through the times the length of \n",
    "                                                                  # the mean_test_score\n",
    "\n",
    "        uniform.append(rand_search.cv_results_[\"mean_test_score\"][i])  # appending the uniform values ot the uniform variable.\n",
    "        k_list1.append(rand_search.cv_results_[\"param_n_neighbors\"][i])  # appedning the KNN's to the K_list1."
   ]
  },
  {
   "cell_type": "code",
   "execution_count": 155,
   "id": "50de461a",
   "metadata": {
    "collapsed": true
   },
   "outputs": [],
   "source": [
    "sorted_uniform = []  # creating a empty list\n",
    "sorted_list1 = k_list1.copy()  # creating a copy of the K_list1 variables values.\n",
    "sorted_list1.sort()   # sorting the KNNs\n",
    "for i in range(len(sorted_list1)):  # Looping through the lenght of the sorted_list1 variable.\n",
    "    for j in range(len(k_list1)):  # Looping through the lenght of the K_list1 variable.\n",
    "        if sorted_list1[i] == k_list1[j]:  # checking that if the values of sorted_list1[i] is equal to k_list1[j]\n",
    "            sorted_uniform.append(uniform[j])  # appeding the unifrom[j] values to the sorted_uniform list."
   ]
  },
  {
   "cell_type": "code",
   "execution_count": 156,
   "id": "0ab466cc",
   "metadata": {},
   "outputs": [
    {
     "name": "stdout",
     "output_type": "stream",
     "text": [
      "   mean_fit_time  std_fit_time  mean_score_time  std_score_time param_weights  \\\n",
      "0       0.002470      0.000573         0.006064        0.004363      distance   \n",
      "1       0.002406      0.000456         0.005632        0.001477      distance   \n",
      "2       0.002423      0.000631         0.003880        0.000531      distance   \n",
      "3       0.002243      0.000425         0.004277        0.000756      distance   \n",
      "4       0.002355      0.000434         0.004720        0.000538      distance   \n",
      "5       0.002546      0.000466         0.003836        0.000764      distance   \n",
      "6       0.002402      0.000964         0.003354        0.000709      distance   \n",
      "7       0.002348      0.000732         0.004665        0.001677      distance   \n",
      "8       0.002475      0.000925         0.004840        0.001764      distance   \n",
      "9       0.002326      0.000564         0.004652        0.000706      distance   \n",
      "\n",
      "  param_n_neighbors                                      params  \\\n",
      "0                12  {'weights': 'distance', 'n_neighbors': 12}   \n",
      "1                30  {'weights': 'distance', 'n_neighbors': 30}   \n",
      "2                24  {'weights': 'distance', 'n_neighbors': 24}   \n",
      "3                26  {'weights': 'distance', 'n_neighbors': 26}   \n",
      "4                19  {'weights': 'distance', 'n_neighbors': 19}   \n",
      "5                11  {'weights': 'distance', 'n_neighbors': 11}   \n",
      "6                 3   {'weights': 'distance', 'n_neighbors': 3}   \n",
      "7                14  {'weights': 'distance', 'n_neighbors': 14}   \n",
      "8                27  {'weights': 'distance', 'n_neighbors': 27}   \n",
      "9                22  {'weights': 'distance', 'n_neighbors': 22}   \n",
      "\n",
      "   split0_test_score  split1_test_score  split2_test_score  split3_test_score  \\\n",
      "0           0.966667           1.000000           1.000000           0.966667   \n",
      "1           0.966667           0.966667           0.933333           0.933333   \n",
      "2           0.966667           1.000000           0.966667           0.966667   \n",
      "3           0.933333           0.966667           0.933333           0.966667   \n",
      "4           0.966667           1.000000           0.933333           0.966667   \n",
      "5           0.966667           1.000000           1.000000           0.966667   \n",
      "6           0.966667           0.966667           0.933333           0.966667   \n",
      "7           0.966667           1.000000           0.933333           0.966667   \n",
      "8           0.966667           0.966667           0.966667           0.966667   \n",
      "9           0.966667           1.000000           0.933333           0.966667   \n",
      "\n",
      "   split4_test_score  mean_test_score  std_test_score  rank_test_score  \n",
      "0                1.0         0.986667        0.016330                1  \n",
      "1                1.0         0.960000        0.024944                9  \n",
      "2                1.0         0.980000        0.016330                3  \n",
      "3                1.0         0.960000        0.024944                9  \n",
      "4                1.0         0.973333        0.024944                4  \n",
      "5                1.0         0.986667        0.016330                1  \n",
      "6                1.0         0.966667        0.021082                8  \n",
      "7                1.0         0.973333        0.024944                4  \n",
      "8                1.0         0.973333        0.013333                4  \n",
      "9                1.0         0.973333        0.024944                4  \n",
      "Best Accuracy: 98.67 %\n",
      "Best Parameters: {'weights': 'distance', 'n_neighbors': 12}\n",
      "[{'n_neighbors': [1, 2, 3, 4, 5, 6, 7, 8, 9, 10, 11, 12, 13, 14, 15, 16, 17, 18, 19, 20, 21, 22, 23, 24, 25, 26, 27, 28, 29, 30], 'weights': ['distance']}]\n"
     ]
    }
   ],
   "source": [
    "k_list = list(range(1,31))  # list from 1 - 31 (will be used as KNN's)\n",
    "weight_list = [\"distance\"]  # weights list distance\n",
    "para_rand = dict(n_neighbors=k_list,weights=weight_list)  # adding the above lists in a dictinory.\n",
    "\n",
    "rand_search = rand_search_fun(KNeighborsClassifier(), para_rand, 5, X, y)  # Using the grid search gunction with \n",
    "                                                                          # arguments given "
   ]
  },
  {
   "cell_type": "code",
   "execution_count": 157,
   "id": "ff1f84db",
   "metadata": {
    "collapsed": true
   },
   "outputs": [],
   "source": [
    "uniform = []  # creating a empty list\n",
    "k_list1 = []  # creating a empty list\n",
    "for i in range(len(rand_search.cv_results_[\"mean_test_score\"])):  # looping through the times the length of the mean_test_score\n",
    "\n",
    "        uniform.append(rand_search.cv_results_[\"mean_test_score\"][i])  # appending the uniform values ot the uniform variable.\n",
    "        k_list1.append(rand_search.cv_results_[\"param_n_neighbors\"][i])  # appedning the KNN's to the K_list1."
   ]
  },
  {
   "cell_type": "code",
   "execution_count": 158,
   "id": "e7718a25",
   "metadata": {
    "collapsed": true
   },
   "outputs": [],
   "source": [
    "distance = []  # creating a empty list\n",
    "k_list2 = []  # creating a empty list\n",
    "for i in range(len(rand_search.cv_results_[\"mean_test_score\"])):  # looping through the times the length of the mean_test_score\n",
    "        distance.append(rand_search.cv_results_[\"mean_test_score\"][i])  # appending the distance values ot the \n",
    "                                                                       # distance variable.\n",
    "        k_list2.append(rand_search.cv_results_[\"param_n_neighbors\"][i])  # appedning the KNN's to the K_list2."
   ]
  },
  {
   "cell_type": "code",
   "execution_count": 159,
   "id": "4e5dfa93",
   "metadata": {
    "collapsed": true
   },
   "outputs": [],
   "source": [
    "sorted_distance = []  # creating a empty list\n",
    "sorted_list2 = k_list2.copy()   # creating a copy of the K_list2 variables values.\n",
    "sorted_list2.sort()  # sorting the KNNs\n",
    "for i in range(len(sorted_list2)):  # Looping through the lenght of the sorted_list2 variable.\n",
    "    for j in range(len(k_list2)):  # Looping through the lenght of the K_list2 variable.\n",
    "        if sorted_list2[i] == k_list2[j]:  # checking that if the values of sorted_list2[i] equal  k_list2[j]\n",
    "            sorted_distance.append(distance[j])  # appeding the unifrom[j] values to the sorted_uniform list."
   ]
  },
  {
   "cell_type": "code",
   "execution_count": 160,
   "id": "c92ab55c",
   "metadata": {},
   "outputs": [
    {
     "data": {
      "text/plain": [
       "[12, 30, 24, 26, 19, 11, 3, 14, 27, 22]"
      ]
     },
     "execution_count": 160,
     "metadata": {},
     "output_type": "execute_result"
    }
   ],
   "source": [
    "k_list1  # checking out put of  the given variables values "
   ]
  },
  {
   "cell_type": "code",
   "execution_count": 161,
   "id": "ee516195",
   "metadata": {},
   "outputs": [
    {
     "data": {
      "text/plain": [
       "[3, 11, 12, 14, 19, 22, 24, 26, 27, 30]"
      ]
     },
     "execution_count": 161,
     "metadata": {},
     "output_type": "execute_result"
    }
   ],
   "source": [
    "sorted_list1  # checking out put of  the given variables values "
   ]
  },
  {
   "cell_type": "code",
   "execution_count": 162,
   "id": "2227d66a",
   "metadata": {},
   "outputs": [
    {
     "data": {
      "text/plain": [
       "[12, 30, 24, 26, 19, 11, 3, 14, 27, 22]"
      ]
     },
     "execution_count": 162,
     "metadata": {},
     "output_type": "execute_result"
    }
   ],
   "source": [
    "k_list2  # checking out put of  the given variables values  "
   ]
  },
  {
   "cell_type": "code",
   "execution_count": 163,
   "id": "80a9384c",
   "metadata": {},
   "outputs": [
    {
     "data": {
      "text/plain": [
       "[3, 11, 12, 14, 19, 22, 24, 26, 27, 30]"
      ]
     },
     "execution_count": 163,
     "metadata": {},
     "output_type": "execute_result"
    }
   ],
   "source": [
    "sorted_list2  # checking out put of  the given variables values "
   ]
  },
  {
   "cell_type": "code",
   "execution_count": 164,
   "id": "a95296e0",
   "metadata": {},
   "outputs": [
    {
     "data": {
      "text/plain": [
       "[0.9866666666666667,\n",
       " 0.96,\n",
       " 0.9800000000000001,\n",
       " 0.96,\n",
       " 0.9733333333333334,\n",
       " 0.9866666666666667,\n",
       " 0.9666666666666668,\n",
       " 0.9733333333333334,\n",
       " 0.9733333333333334,\n",
       " 0.9733333333333334]"
      ]
     },
     "execution_count": 164,
     "metadata": {},
     "output_type": "execute_result"
    }
   ],
   "source": [
    "uniform  # checking out put of  the given variables values "
   ]
  },
  {
   "cell_type": "code",
   "execution_count": 165,
   "id": "c3e962b1",
   "metadata": {},
   "outputs": [
    {
     "data": {
      "text/plain": [
       "[0.9666666666666668,\n",
       " 0.9800000000000001,\n",
       " 0.9800000000000001,\n",
       " 0.9666666666666666,\n",
       " 0.9666666666666668,\n",
       " 0.96,\n",
       " 0.9466666666666667,\n",
       " 0.9466666666666665,\n",
       " 0.9466666666666667,\n",
       " 0.9399999999999998]"
      ]
     },
     "execution_count": 165,
     "metadata": {},
     "output_type": "execute_result"
    }
   ],
   "source": [
    "sorted_uniform  # checking out put of  the given variables values  "
   ]
  },
  {
   "cell_type": "code",
   "execution_count": 166,
   "id": "65fda5cd",
   "metadata": {},
   "outputs": [
    {
     "data": {
      "text/plain": [
       "[0.9866666666666667,\n",
       " 0.96,\n",
       " 0.9800000000000001,\n",
       " 0.96,\n",
       " 0.9733333333333334,\n",
       " 0.9866666666666667,\n",
       " 0.9666666666666668,\n",
       " 0.9733333333333334,\n",
       " 0.9733333333333334,\n",
       " 0.9733333333333334]"
      ]
     },
     "execution_count": 166,
     "metadata": {},
     "output_type": "execute_result"
    }
   ],
   "source": [
    "distance  # checking out put of  the given variables values  "
   ]
  },
  {
   "cell_type": "code",
   "execution_count": 167,
   "id": "9760e7d7",
   "metadata": {},
   "outputs": [
    {
     "data": {
      "text/plain": [
       "[0.9666666666666668,\n",
       " 0.9866666666666667,\n",
       " 0.9866666666666667,\n",
       " 0.9733333333333334,\n",
       " 0.9733333333333334,\n",
       " 0.9733333333333334,\n",
       " 0.9800000000000001,\n",
       " 0.96,\n",
       " 0.9733333333333334,\n",
       " 0.96]"
      ]
     },
     "execution_count": 167,
     "metadata": {},
     "output_type": "execute_result"
    }
   ],
   "source": [
    "sorted_distance  # checking out put of  the given variables values "
   ]
  },
  {
   "cell_type": "code",
   "execution_count": 168,
   "id": "319eff71",
   "metadata": {},
   "outputs": [
    {
     "data": {
      "image/png": "[encoded data removed]",
      "text/plain": [
       "<Figure size 1400x700 with 1 Axes>"
      ]
     },
     "metadata": {
      "needs_background": "light"
     },
     "output_type": "display_data"
    }
   ],
   "source": [
    "plt.figure(dpi=100, figsize=(14, 7))  # setting the plot size\n",
    "plt.title(\"Random Search Hyper parameter Comparison\",fontsize=14, color=\"blue\")  # setting the plot title.\n",
    "plt.plot(sorted_list1,sorted_uniform , \"--\",marker = \"o\", label=\"weights uniform\", color=\"red\")  # setting the uniform variables \n",
    "                                                            # values to the plot on the y axis and K_list  on the x axis.\n",
    "plt.plot(sorted_list2,sorted_distance , \":\",marker = \"*\", label=\"weights distant\", color=\"blue\")  # setting the distant \n",
    "                                                        # variables values to the plot on the y axis and K_list  on the x axis.\n",
    "plt.xlabel(\"Number of nearest neighbours\")  # Setting the x label.\n",
    "plt.ylabel(\"Avarage CV Score\")  # setting the y label.\n",
    "plt.legend(loc='upper left')   # setting the legend.\n",
    "plt.grid()  # setting a grid"
   ]
  },
  {
   "cell_type": "markdown",
   "id": "4a4f939e",
   "metadata": {},
   "source": [
    "# Checking predicted/actual results\n",
    "# Checking testing and traning scores\n",
    "# Checking Actual values classified correctly and wrongly.\n",
    "# Checking accuracy, precision, recall and f1 scores"
   ]
  },
  {
   "cell_type": "code",
   "execution_count": 143,
   "id": "39751d44",
   "metadata": {
    "scrolled": false
   },
   "outputs": [
    {
     "name": "stdout",
     "output_type": "stream",
     "text": [
      "  results\n",
      "pred-Actual\n",
      "[[2 2]\n",
      " [1 1]\n",
      " [0 0]\n",
      " [2 2]\n",
      " [0 0]\n",
      " [2 2]\n",
      " [0 0]\n",
      " [1 1]\n",
      " [1 1]\n",
      " [1 1]\n",
      " [2 2]\n",
      " [1 1]\n",
      " [1 1]\n",
      " [1 1]\n",
      " [1 1]\n",
      " [0 0]\n",
      " [1 1]\n",
      " [1 1]\n",
      " [0 0]\n",
      " [0 0]\n",
      " [2 2]\n",
      " [1 1]\n",
      " [0 0]\n",
      " [0 0]\n",
      " [2 2]\n",
      " [0 0]\n",
      " [0 0]\n",
      " [1 1]\n",
      " [1 1]\n",
      " [0 0]\n",
      " [2 2]\n",
      " [1 1]\n",
      " [0 0]\n",
      " [2 2]\n",
      " [2 2]\n",
      " [1 1]\n",
      " [0 0]\n",
      " [2 1]]\n",
      "Model train accuracy:  100.0 %\n",
      "Model test accuracy:  97.0 %\n",
      "\n",
      "\n",
      "\n",
      "              precision    recall  f1-score   support\n",
      "\n",
      "           0       1.00      1.00      1.00        13\n",
      "           1       1.00      0.94      0.97        16\n",
      "           2       0.90      1.00      0.95         9\n",
      "\n",
      "    accuracy                           0.97        38\n",
      "   macro avg       0.97      0.98      0.97        38\n",
      "weighted avg       0.98      0.97      0.97        38\n",
      "\n",
      "correct_0-incorrct_1\n",
      "incorrect_0-correct_1\n",
      "\n",
      "True_Negative-False_positive\n",
      "False_negative-True_positive\n",
      "\n"
     ]
    },
    {
     "data": {
      "image/png": "[encoded data removed]",
      "text/plain": [
       "<Figure size 432x288 with 2 Axes>"
      ]
     },
     "metadata": {
      "needs_background": "light"
     },
     "output_type": "display_data"
    },
    {
     "data": {
      "text/plain": [
       "97.0"
      ]
     },
     "execution_count": 143,
     "metadata": {},
     "output_type": "execute_result"
    }
   ],
   "source": [
    "Classifier_function(KNeighborsClassifier(n_neighbors=1), X_train, y_train,X_test, y_test, \"KNN Model\")  # using the functions\n",
    "\n",
    "                                                                                                   # with the arguments given"
   ]
  }
 ],
 "metadata": {
  "kernelspec": {
   "display_name": "Python 3",
   "language": "python",
   "name": "python3"
  },
  "language_info": {
   "codemirror_mode": {
    "name": "ipython",
    "version": 3
   },
   "file_extension": ".py",
   "mimetype": "text/x-python",
   "name": "python",
   "nbconvert_exporter": "python",
   "pygments_lexer": "ipython3",
   "version": "3.8.8"
  }
 },
 "nbformat": 4,
 "nbformat_minor": 5
}
