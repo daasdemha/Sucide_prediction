{
 "cells": [
  {
   "cell_type": "code",
   "execution_count": 57,
   "id": "244bdc54",
   "metadata": {},
   "outputs": [],
   "source": [
    "import numpy as np  # Allows us to work with arrays.\n",
    "import matplotlib.pyplot as plt  # Allows working with plots.\n",
    "import pandas as pd  # importing pandas’ library for use. Allows us to import data set and manipulate it.\n",
    "\n",
    "import seaborn as sns  # Allows to polt beautiful plots.\n",
    "import matplotlib.pyplot as plt # plotting.\n",
    "\n",
    "\n",
    "from sklearn.compose import ColumnTransformer  # helps with encoding.\n",
    "from sklearn.preprocessing import OneHotEncoder  # Does onehotencode.\n",
    "from sklearn.preprocessing import LabelEncoder   # Does 1 and 0 encoding.\n",
    "from sklearn.model_selection import train_test_split  # Splits dataset into test set and traning set. \n",
    "from sklearn.preprocessing import StandardScaler, MinMaxScaler, RobustScaler, Normalizer\n",
    "  # Perform the feature scaling.\n",
    "from sklearn.linear_model import LogisticRegression  # Performs logistic regression.\n",
    "from sklearn.metrics import confusion_matrix, ConfusionMatrixDisplay  # creates a confusion matrix\n",
    "from sklearn.metrics import accuracy_score  # Returns accury score of a model.\n",
    "from sklearn.neighbors import KNeighborsClassifier  # performs K Neariesst Neighobour.\n",
    "from sklearn.impute import KNNImputer  # imputes missing values using KNN.\n",
    "from sklearn.svm import SVC  # Performs svm\n",
    "from sklearn.naive_bayes import GaussianNB  # performs naive_bayes gaussianNB.\n",
    "from sklearn.tree import DecisionTreeClassifier  #Perfroms decision tree classification model.\n",
    "from sklearn.ensemble import RandomForestClassifier  #Performs random forest classification.\n",
    "from xgboost import XGBClassifier  # performs xgboost classification. gradiant decision trees.\n",
    "from sklearn.linear_model import LinearRegression  # will use to replace missing values linear regressoin\n",
    "from sklearn.decomposition import PCA  # Performs model optimization\n",
    "from sklearn.decomposition import KernelPCA  # Performs model optimization\n",
    "from sklearn.discriminant_analysis import LinearDiscriminantAnalysis as LDA # performs model optimization\n",
    "from sklearn.model_selection import cross_val_score  # performs cross validation. Helps in model selection.\n",
    "from sklearn.model_selection import GridSearchCV  # helps select the best hyper parameters\n",
    "from sklearn.neural_network import MLPClassifier\n",
    "from sklearn.model_selection import RandomizedSearchCV\n",
    "\n",
    "import warnings\n",
    "warnings.filterwarnings(\"ignore\")\n",
    "\n",
    "#%matplotlib inline  # helps in showing plots on the browser."
   ]
  },
  {
   "cell_type": "markdown",
   "id": "de01b959",
   "metadata": {},
   "source": [
    "# Learning matplot lib"
   ]
  },
  {
   "cell_type": "code",
   "execution_count": 2,
   "id": "1f05366f",
   "metadata": {},
   "outputs": [
    {
     "name": "stderr",
     "output_type": "stream",
     "text": [
      "UsageError: unrecognized arguments: # helps in showing plots on the browser.\n"
     ]
    }
   ],
   "source": [
    "import matplotlib.pyplot as plt # plotting.\n",
    "%matplotlib inline  # helps in showing plots on the browser."
   ]
  },
  {
   "cell_type": "markdown",
   "id": "fec4db12",
   "metadata": {},
   "source": [
    "## scatter plot"
   ]
  },
  {
   "cell_type": "code",
   "execution_count": 3,
   "id": "7c265b65",
   "metadata": {},
   "outputs": [
    {
     "data": {
      "text/plain": [
       "<matplotlib.collections.PathCollection at 0x2a0abf8a3d0>"
      ]
     },
     "execution_count": 3,
     "metadata": {},
     "output_type": "execute_result"
    },
    {
     "data": {
      "image/png": "[encoded data removed]",
      "text/plain": [
       "<Figure size 432x288 with 1 Axes>"
      ]
     },
     "metadata": {
      "needs_background": "light"
     },
     "output_type": "display_data"
    }
   ],
   "source": [
    "x_days  = [\"day1\", \"day2\", \"day3\", \"day4\"]\n",
    "y_temp  = [1, 2, 3, 4]\n",
    "y2_temp  = [8,9,10,11]\n",
    "plt.title(\"weather\",fontsize=18)\n",
    "plt.xlabel(\"Days\")\n",
    "plt.ylabel(\"temp\")\n",
    "plt.scatter(x_days,y_temp  )"
   ]
  },
  {
   "cell_type": "markdown",
   "id": "32ba0844",
   "metadata": {},
   "source": [
    "## parameters in scatter plot"
   ]
  },
  {
   "cell_type": "code",
   "execution_count": 4,
   "id": "321393fe",
   "metadata": {},
   "outputs": [],
   "source": [
    "# colour  - alows to change colour\n",
    "# s       - allows to change size\n",
    "# marker  = style of marker\n",
    "# apha    - transparency \n",
    "# etc     - check others online "
   ]
  },
  {
   "cell_type": "markdown",
   "id": "e042d353",
   "metadata": {},
   "source": [
    "## line plot"
   ]
  },
  {
   "cell_type": "code",
   "execution_count": 5,
   "id": "60e823ac",
   "metadata": {},
   "outputs": [
    {
     "data": {
      "text/plain": [
       "[<matplotlib.lines.Line2D at 0x2a0ac70ba30>]"
      ]
     },
     "execution_count": 5,
     "metadata": {},
     "output_type": "execute_result"
    },
    {
     "data": {
      "image/png": "[encoded data removed]",
      "text/plain": [
       "<Figure size 432x288 with 1 Axes>"
      ]
     },
     "metadata": {
      "needs_background": "light"
     },
     "output_type": "display_data"
    }
   ],
   "source": [
    "plt.plot(x_days,y_temp)"
   ]
  },
  {
   "cell_type": "code",
   "execution_count": 6,
   "id": "d8dda581",
   "metadata": {},
   "outputs": [
    {
     "data": {
      "text/plain": [
       "<matplotlib.legend.Legend at 0x2a0ac763fa0>"
      ]
     },
     "execution_count": 6,
     "metadata": {},
     "output_type": "execute_result"
    },
    {
     "data": {
      "image/png": "[encoded data removed]",
      "text/plain": [
       "<Figure size 432x288 with 1 Axes>"
      ]
     },
     "metadata": {
      "needs_background": "light"
     },
     "output_type": "display_data"
    }
   ],
   "source": [
    "plt.plot(x_days,y_temp,label=\"min temp\")\n",
    "plt.plot(x_days,y2_temp,label=\"max temp\")\n",
    "plt.legend()\n"
   ]
  },
  {
   "cell_type": "markdown",
   "id": "07e44f95",
   "metadata": {},
   "source": [
    "## parameters in line plot"
   ]
  },
  {
   "cell_type": "code",
   "execution_count": 7,
   "id": "4fa0e5e2",
   "metadata": {},
   "outputs": [],
   "source": [
    "# colour  - alows to change colour\n",
    "# fmt       - allows to format string\n",
    "# linestyles  - \n",
    "### line plot linewidth   - \n",
    "# marker  = style of marker\n",
    "# apha    - transparency \n",
    "# etc     - check others online "
   ]
  },
  {
   "cell_type": "markdown",
   "id": "d79ee1cf",
   "metadata": {},
   "source": [
    "## pie chart"
   ]
  },
  {
   "cell_type": "code",
   "execution_count": 8,
   "id": "88e5616c",
   "metadata": {},
   "outputs": [
    {
     "data": {
      "text/plain": [
       "([<matplotlib.patches.Wedge at 0x2a0ac7d0760>,\n",
       "  <matplotlib.patches.Wedge at 0x2a0ac7d0c70>,\n",
       "  <matplotlib.patches.Wedge at 0x2a0ac7de130>,\n",
       "  <matplotlib.patches.Wedge at 0x2a0ac7de5b0>],\n",
       " [Text(1.0461621663333946, 0.3399186987098808, 'day1'),\n",
       "  Text(0.33991867422268784, 1.0461621742897658, 'day2'),\n",
       "  Text(-1.0461621902025062, 0.3399186252483017, 'day3'),\n",
       "  Text(0.3399188211458418, -1.0461621265515308, 'day4')])"
      ]
     },
     "execution_count": 8,
     "metadata": {},
     "output_type": "execute_result"
    },
    {
     "data": {
      "image/png": "[encoded data removed]",
      "text/plain": [
       "<Figure size 432x288 with 1 Axes>"
      ]
     },
     "metadata": {},
     "output_type": "display_data"
    }
   ],
   "source": [
    "plt.pie(y_temp,labels=x_days)"
   ]
  },
  {
   "cell_type": "markdown",
   "id": "42fabf34",
   "metadata": {},
   "source": [
    "## parameters in pie chart"
   ]
  },
  {
   "cell_type": "code",
   "execution_count": 9,
   "id": "6f153b07",
   "metadata": {},
   "outputs": [],
   "source": [
    "# colour  - alows to change colour\n",
    "# lables      - allows us to label string to numbers## pie chart\n",
    "# explode  - \n",
    "# shadow   - \n",
    "# radius  = style of marker \n",
    "# etc     - check others online "
   ]
  },
  {
   "cell_type": "markdown",
   "id": "66c4f264",
   "metadata": {},
   "source": [
    "## bar chart"
   ]
  },
  {
   "cell_type": "code",
   "execution_count": 10,
   "id": "12a64ac8",
   "metadata": {},
   "outputs": [
    {
     "data": {
      "text/plain": [
       "<BarContainer object of 4 artists>"
      ]
     },
     "execution_count": 10,
     "metadata": {},
     "output_type": "execute_result"
    },
    {
     "data": {
      "image/png": "[encoded data removed]",
      "text/plain": [
       "<Figure size 432x288 with 1 Axes>"
      ]
     },
     "metadata": {
      "needs_background": "light"
     },
     "output_type": "display_data"
    }
   ],
   "source": [
    "plt.bar(x_days,y_temp)"
   ]
  },
  {
   "cell_type": "code",
   "execution_count": 11,
   "id": "e83239c1",
   "metadata": {},
   "outputs": [
    {
     "data": {
      "text/plain": [
       "<BarContainer object of 4 artists>"
      ]
     },
     "execution_count": 11,
     "metadata": {},
     "output_type": "execute_result"
    },
    {
     "data": {
      "image/png": "[encoded data removed]",
      "text/plain": [
       "<Figure size 432x288 with 1 Axes>"
      ]
     },
     "metadata": {
      "needs_background": "light"
     },
     "output_type": "display_data"
    }
   ],
   "source": [
    "plt.bar(x_days,y2_temp)\n",
    "plt.bar(x_days,y_temp)\n",
    "\n"
   ]
  },
  {
   "cell_type": "code",
   "execution_count": 12,
   "id": "6834e5a4",
   "metadata": {},
   "outputs": [],
   "source": [
    "# check parameters online"
   ]
  },
  {
   "cell_type": "code",
   "execution_count": 13,
   "id": "8fd1b549",
   "metadata": {},
   "outputs": [
    {
     "ename": "AttributeError",
     "evalue": "module 'matplotlib.pyplot' has no attribute 'subplot2gird'",
     "output_type": "error",
     "traceback": [
      "\u001b[1;31m---------------------------------------------------------------------------\u001b[0m",
      "\u001b[1;31mAttributeError\u001b[0m                            Traceback (most recent call last)",
      "\u001b[1;32m<ipython-input-13-67519b2eb150>\u001b[0m in \u001b[0;36m<module>\u001b[1;34m\u001b[0m\n\u001b[1;32m----> 1\u001b[1;33m ax1 = plt.subplot2gird(\n\u001b[0m\u001b[0;32m      2\u001b[0m (3,3),(0,0))\n\u001b[0;32m      3\u001b[0m ax2 = plt.subplot2gird(\n\u001b[0;32m      4\u001b[0m (3,3),(1,1))\n\u001b[0;32m      5\u001b[0m \u001b[0mplt\u001b[0m\u001b[1;33m.\u001b[0m\u001b[0mbar\u001b[0m\u001b[1;33m(\u001b[0m\u001b[0max1\u001b[0m\u001b[1;33m,\u001b[0m\u001b[0max2\u001b[0m\u001b[1;33m)\u001b[0m\u001b[1;33m\u001b[0m\u001b[1;33m\u001b[0m\u001b[0m\n",
      "\u001b[1;31mAttributeError\u001b[0m: module 'matplotlib.pyplot' has no attribute 'subplot2gird'"
     ]
    }
   ],
   "source": [
    "ax1 = plt.subplot2gird(\n",
    "(3,3),(0,0))\n",
    "ax2 = plt.subplot2gird(\n",
    "(3,3),(1,1))\n",
    "plt.bar(ax1,ax2)"
   ]
  },
  {
   "cell_type": "code",
   "execution_count": null,
   "id": "f4efc94f",
   "metadata": {},
   "outputs": [],
   "source": [
    "oh = OneHotEncoderder(drop=\"first\",dtype=np.int)\n",
    "newdf = df[[\"required_column\"]]\n",
    "newdf = oh.fit_transform(newdf).toarray()\n",
    "newdf = pd.DataFrame(newdf)\n",
    "newdf"
   ]
  },
  {
   "cell_type": "markdown",
   "id": "57f0a17c",
   "metadata": {},
   "source": [
    "# Neural networks"
   ]
  },
  {
   "cell_type": "code",
   "execution_count": 18,
   "id": "e43e1a66",
   "metadata": {},
   "outputs": [
    {
     "ename": "NameError",
     "evalue": "name 'X_train' is not defined",
     "output_type": "error",
     "traceback": [
      "\u001b[1;31m---------------------------------------------------------------------------\u001b[0m",
      "\u001b[1;31mNameError\u001b[0m                                 Traceback (most recent call last)",
      "\u001b[1;32m<ipython-input-18-8ae3d2499195>\u001b[0m in \u001b[0;36m<module>\u001b[1;34m\u001b[0m\n\u001b[0;32m      1\u001b[0m \u001b[1;32mfrom\u001b[0m \u001b[0msklearn\u001b[0m\u001b[1;33m.\u001b[0m\u001b[0mneural_network\u001b[0m \u001b[1;32mimport\u001b[0m \u001b[0mMLPClassifier\u001b[0m\u001b[1;33m\u001b[0m\u001b[1;33m\u001b[0m\u001b[0m\n\u001b[0;32m      2\u001b[0m \u001b[0mmodel\u001b[0m \u001b[1;33m=\u001b[0m \u001b[0mMLPClassifier\u001b[0m\u001b[1;33m(\u001b[0m\u001b[1;33m)\u001b[0m\u001b[1;33m\u001b[0m\u001b[1;33m\u001b[0m\u001b[0m\n\u001b[1;32m----> 3\u001b[1;33m \u001b[0mmodel\u001b[0m\u001b[1;33m.\u001b[0m\u001b[0mfit\u001b[0m\u001b[1;33m(\u001b[0m\u001b[0mX_train\u001b[0m\u001b[1;33m,\u001b[0m\u001b[0my_train\u001b[0m\u001b[1;33m)\u001b[0m\u001b[1;33m\u001b[0m\u001b[1;33m\u001b[0m\u001b[0m\n\u001b[0m\u001b[0;32m      4\u001b[0m \u001b[0mprediction\u001b[0m \u001b[1;33m=\u001b[0m \u001b[0mmodel\u001b[0m\u001b[1;33m.\u001b[0m\u001b[0mpredict\u001b[0m\u001b[1;33m(\u001b[0m\u001b[0mX_test\u001b[0m\u001b[1;33m)\u001b[0m\u001b[1;33m\u001b[0m\u001b[1;33m\u001b[0m\u001b[0m\n",
      "\u001b[1;31mNameError\u001b[0m: name 'X_train' is not defined"
     ]
    }
   ],
   "source": [
    "from sklearn.neural_network import MLPClassifier\n",
    "model = MLPClassifier()\n",
    "model.fit(X_train,y_train)\n",
    "prediction = model.predict(X_test)"
   ]
  },
  {
   "cell_type": "code",
   "execution_count": 19,
   "id": "877a2d85",
   "metadata": {},
   "outputs": [],
   "source": [
    "model = pd.read_csv(\"iris.csv\")\n",
    "\n"
   ]
  },
  {
   "cell_type": "code",
   "execution_count": 20,
   "id": "d5704271",
   "metadata": {},
   "outputs": [
    {
     "data": {
      "text/html": [
       "<div>\n",
       "<style scoped>\n",
       "    .dataframe tbody tr th:only-of-type {\n",
       "        vertical-align: middle;\n",
       "    }\n",
       "\n",
       "    .dataframe tbody tr th {\n",
       "        vertical-align: top;\n",
       "    }\n",
       "\n",
       "    .dataframe thead th {\n",
       "        text-align: right;\n",
       "    }\n",
       "</style>\n",
       "<table border=\"1\" class=\"dataframe\">\n",
       "  <thead>\n",
       "    <tr style=\"text-align: right;\">\n",
       "      <th></th>\n",
       "      <th>Id</th>\n",
       "      <th>SepalLengthCm</th>\n",
       "      <th>SepalWidthCm</th>\n",
       "      <th>PetalLengthCm</th>\n",
       "      <th>PetalWidthCm</th>\n",
       "      <th>Species</th>\n",
       "    </tr>\n",
       "  </thead>\n",
       "  <tbody>\n",
       "    <tr>\n",
       "      <th>0</th>\n",
       "      <td>1</td>\n",
       "      <td>5.1</td>\n",
       "      <td>3.5</td>\n",
       "      <td>1.4</td>\n",
       "      <td>0.2</td>\n",
       "      <td>Iris-setosa</td>\n",
       "    </tr>\n",
       "    <tr>\n",
       "      <th>1</th>\n",
       "      <td>2</td>\n",
       "      <td>4.9</td>\n",
       "      <td>3.0</td>\n",
       "      <td>1.4</td>\n",
       "      <td>0.2</td>\n",
       "      <td>Iris-setosa</td>\n",
       "    </tr>\n",
       "    <tr>\n",
       "      <th>2</th>\n",
       "      <td>3</td>\n",
       "      <td>4.7</td>\n",
       "      <td>3.2</td>\n",
       "      <td>1.3</td>\n",
       "      <td>0.2</td>\n",
       "      <td>Iris-setosa</td>\n",
       "    </tr>\n",
       "    <tr>\n",
       "      <th>3</th>\n",
       "      <td>4</td>\n",
       "      <td>4.6</td>\n",
       "      <td>3.1</td>\n",
       "      <td>1.5</td>\n",
       "      <td>0.2</td>\n",
       "      <td>Iris-setosa</td>\n",
       "    </tr>\n",
       "    <tr>\n",
       "      <th>4</th>\n",
       "      <td>5</td>\n",
       "      <td>5.0</td>\n",
       "      <td>3.6</td>\n",
       "      <td>1.4</td>\n",
       "      <td>0.2</td>\n",
       "      <td>Iris-setosa</td>\n",
       "    </tr>\n",
       "  </tbody>\n",
       "</table>\n",
       "</div>"
      ],
      "text/plain": [
       "   Id  SepalLengthCm  SepalWidthCm  PetalLengthCm  PetalWidthCm      Species\n",
       "0   1            5.1           3.5            1.4           0.2  Iris-setosa\n",
       "1   2            4.9           3.0            1.4           0.2  Iris-setosa\n",
       "2   3            4.7           3.2            1.3           0.2  Iris-setosa\n",
       "3   4            4.6           3.1            1.5           0.2  Iris-setosa\n",
       "4   5            5.0           3.6            1.4           0.2  Iris-setosa"
      ]
     },
     "execution_count": 20,
     "metadata": {},
     "output_type": "execute_result"
    }
   ],
   "source": [
    "model.head()"
   ]
  },
  {
   "cell_type": "code",
   "execution_count": 21,
   "id": "dfad7df8",
   "metadata": {},
   "outputs": [
    {
     "data": {
      "text/plain": [
       "Id               0\n",
       "SepalLengthCm    0\n",
       "SepalWidthCm     0\n",
       "PetalLengthCm    0\n",
       "PetalWidthCm     0\n",
       "Species          0\n",
       "dtype: int64"
      ]
     },
     "execution_count": 21,
     "metadata": {},
     "output_type": "execute_result"
    }
   ],
   "source": [
    "model.isnull().sum()  # Checking the dataframe for null values."
   ]
  },
  {
   "cell_type": "code",
   "execution_count": 22,
   "id": "358e93fb",
   "metadata": {},
   "outputs": [
    {
     "name": "stdout",
     "output_type": "stream",
     "text": [
      "Species\n",
      "Iris-setosa        50\n",
      "Iris-versicolor    50\n",
      "Iris-virginica     50\n",
      "dtype: int64\n"
     ]
    }
   ],
   "source": [
    "print(model.pivot_table(columns=['Species'], aggfunc='size'))"
   ]
  },
  {
   "cell_type": "code",
   "execution_count": 23,
   "id": "64f534bc",
   "metadata": {},
   "outputs": [],
   "source": [
    "le = LabelEncoder()\n",
    "model.Species = le.fit_transform(model.Species)"
   ]
  },
  {
   "cell_type": "code",
   "execution_count": 24,
   "id": "214efcd5",
   "metadata": {},
   "outputs": [
    {
     "data": {
      "text/html": [
       "<div>\n",
       "<style scoped>\n",
       "    .dataframe tbody tr th:only-of-type {\n",
       "        vertical-align: middle;\n",
       "    }\n",
       "\n",
       "    .dataframe tbody tr th {\n",
       "        vertical-align: top;\n",
       "    }\n",
       "\n",
       "    .dataframe thead th {\n",
       "        text-align: right;\n",
       "    }\n",
       "</style>\n",
       "<table border=\"1\" class=\"dataframe\">\n",
       "  <thead>\n",
       "    <tr style=\"text-align: right;\">\n",
       "      <th></th>\n",
       "      <th>Id</th>\n",
       "      <th>SepalLengthCm</th>\n",
       "      <th>SepalWidthCm</th>\n",
       "      <th>PetalLengthCm</th>\n",
       "      <th>PetalWidthCm</th>\n",
       "      <th>Species</th>\n",
       "    </tr>\n",
       "  </thead>\n",
       "  <tbody>\n",
       "    <tr>\n",
       "      <th>0</th>\n",
       "      <td>1</td>\n",
       "      <td>5.1</td>\n",
       "      <td>3.5</td>\n",
       "      <td>1.4</td>\n",
       "      <td>0.2</td>\n",
       "      <td>0</td>\n",
       "    </tr>\n",
       "    <tr>\n",
       "      <th>1</th>\n",
       "      <td>2</td>\n",
       "      <td>4.9</td>\n",
       "      <td>3.0</td>\n",
       "      <td>1.4</td>\n",
       "      <td>0.2</td>\n",
       "      <td>0</td>\n",
       "    </tr>\n",
       "    <tr>\n",
       "      <th>2</th>\n",
       "      <td>3</td>\n",
       "      <td>4.7</td>\n",
       "      <td>3.2</td>\n",
       "      <td>1.3</td>\n",
       "      <td>0.2</td>\n",
       "      <td>0</td>\n",
       "    </tr>\n",
       "    <tr>\n",
       "      <th>3</th>\n",
       "      <td>4</td>\n",
       "      <td>4.6</td>\n",
       "      <td>3.1</td>\n",
       "      <td>1.5</td>\n",
       "      <td>0.2</td>\n",
       "      <td>0</td>\n",
       "    </tr>\n",
       "    <tr>\n",
       "      <th>4</th>\n",
       "      <td>5</td>\n",
       "      <td>5.0</td>\n",
       "      <td>3.6</td>\n",
       "      <td>1.4</td>\n",
       "      <td>0.2</td>\n",
       "      <td>0</td>\n",
       "    </tr>\n",
       "    <tr>\n",
       "      <th>...</th>\n",
       "      <td>...</td>\n",
       "      <td>...</td>\n",
       "      <td>...</td>\n",
       "      <td>...</td>\n",
       "      <td>...</td>\n",
       "      <td>...</td>\n",
       "    </tr>\n",
       "    <tr>\n",
       "      <th>145</th>\n",
       "      <td>146</td>\n",
       "      <td>6.7</td>\n",
       "      <td>3.0</td>\n",
       "      <td>5.2</td>\n",
       "      <td>2.3</td>\n",
       "      <td>2</td>\n",
       "    </tr>\n",
       "    <tr>\n",
       "      <th>146</th>\n",
       "      <td>147</td>\n",
       "      <td>6.3</td>\n",
       "      <td>2.5</td>\n",
       "      <td>5.0</td>\n",
       "      <td>1.9</td>\n",
       "      <td>2</td>\n",
       "    </tr>\n",
       "    <tr>\n",
       "      <th>147</th>\n",
       "      <td>148</td>\n",
       "      <td>6.5</td>\n",
       "      <td>3.0</td>\n",
       "      <td>5.2</td>\n",
       "      <td>2.0</td>\n",
       "      <td>2</td>\n",
       "    </tr>\n",
       "    <tr>\n",
       "      <th>148</th>\n",
       "      <td>149</td>\n",
       "      <td>6.2</td>\n",
       "      <td>3.4</td>\n",
       "      <td>5.4</td>\n",
       "      <td>2.3</td>\n",
       "      <td>2</td>\n",
       "    </tr>\n",
       "    <tr>\n",
       "      <th>149</th>\n",
       "      <td>150</td>\n",
       "      <td>5.9</td>\n",
       "      <td>3.0</td>\n",
       "      <td>5.1</td>\n",
       "      <td>1.8</td>\n",
       "      <td>2</td>\n",
       "    </tr>\n",
       "  </tbody>\n",
       "</table>\n",
       "<p>150 rows × 6 columns</p>\n",
       "</div>"
      ],
      "text/plain": [
       "      Id  SepalLengthCm  SepalWidthCm  PetalLengthCm  PetalWidthCm  Species\n",
       "0      1            5.1           3.5            1.4           0.2        0\n",
       "1      2            4.9           3.0            1.4           0.2        0\n",
       "2      3            4.7           3.2            1.3           0.2        0\n",
       "3      4            4.6           3.1            1.5           0.2        0\n",
       "4      5            5.0           3.6            1.4           0.2        0\n",
       "..   ...            ...           ...            ...           ...      ...\n",
       "145  146            6.7           3.0            5.2           2.3        2\n",
       "146  147            6.3           2.5            5.0           1.9        2\n",
       "147  148            6.5           3.0            5.2           2.0        2\n",
       "148  149            6.2           3.4            5.4           2.3        2\n",
       "149  150            5.9           3.0            5.1           1.8        2\n",
       "\n",
       "[150 rows x 6 columns]"
      ]
     },
     "execution_count": 24,
     "metadata": {},
     "output_type": "execute_result"
    }
   ],
   "source": [
    "model"
   ]
  },
  {
   "cell_type": "code",
   "execution_count": 25,
   "id": "a055a049",
   "metadata": {},
   "outputs": [
    {
     "name": "stdout",
     "output_type": "stream",
     "text": [
      "Species\n",
      "0    50\n",
      "1    50\n",
      "2    50\n",
      "dtype: int64\n"
     ]
    }
   ],
   "source": [
    "print(model.pivot_table(columns=['Species'], aggfunc='size'))"
   ]
  },
  {
   "cell_type": "code",
   "execution_count": 26,
   "id": "b0b03add",
   "metadata": {},
   "outputs": [
    {
     "data": {
      "text/plain": [
       "array([[1.00e+00, 5.10e+00, 3.50e+00, 1.40e+00, 2.00e-01],\n",
       "       [2.00e+00, 4.90e+00, 3.00e+00, 1.40e+00, 2.00e-01],\n",
       "       [3.00e+00, 4.70e+00, 3.20e+00, 1.30e+00, 2.00e-01],\n",
       "       [4.00e+00, 4.60e+00, 3.10e+00, 1.50e+00, 2.00e-01],\n",
       "       [5.00e+00, 5.00e+00, 3.60e+00, 1.40e+00, 2.00e-01],\n",
       "       [6.00e+00, 5.40e+00, 3.90e+00, 1.70e+00, 4.00e-01],\n",
       "       [7.00e+00, 4.60e+00, 3.40e+00, 1.40e+00, 3.00e-01],\n",
       "       [8.00e+00, 5.00e+00, 3.40e+00, 1.50e+00, 2.00e-01],\n",
       "       [9.00e+00, 4.40e+00, 2.90e+00, 1.40e+00, 2.00e-01],\n",
       "       [1.00e+01, 4.90e+00, 3.10e+00, 1.50e+00, 1.00e-01],\n",
       "       [1.10e+01, 5.40e+00, 3.70e+00, 1.50e+00, 2.00e-01],\n",
       "       [1.20e+01, 4.80e+00, 3.40e+00, 1.60e+00, 2.00e-01],\n",
       "       [1.30e+01, 4.80e+00, 3.00e+00, 1.40e+00, 1.00e-01],\n",
       "       [1.40e+01, 4.30e+00, 3.00e+00, 1.10e+00, 1.00e-01],\n",
       "       [1.50e+01, 5.80e+00, 4.00e+00, 1.20e+00, 2.00e-01],\n",
       "       [1.60e+01, 5.70e+00, 4.40e+00, 1.50e+00, 4.00e-01],\n",
       "       [1.70e+01, 5.40e+00, 3.90e+00, 1.30e+00, 4.00e-01],\n",
       "       [1.80e+01, 5.10e+00, 3.50e+00, 1.40e+00, 3.00e-01],\n",
       "       [1.90e+01, 5.70e+00, 3.80e+00, 1.70e+00, 3.00e-01],\n",
       "       [2.00e+01, 5.10e+00, 3.80e+00, 1.50e+00, 3.00e-01],\n",
       "       [2.10e+01, 5.40e+00, 3.40e+00, 1.70e+00, 2.00e-01],\n",
       "       [2.20e+01, 5.10e+00, 3.70e+00, 1.50e+00, 4.00e-01],\n",
       "       [2.30e+01, 4.60e+00, 3.60e+00, 1.00e+00, 2.00e-01],\n",
       "       [2.40e+01, 5.10e+00, 3.30e+00, 1.70e+00, 5.00e-01],\n",
       "       [2.50e+01, 4.80e+00, 3.40e+00, 1.90e+00, 2.00e-01],\n",
       "       [2.60e+01, 5.00e+00, 3.00e+00, 1.60e+00, 2.00e-01],\n",
       "       [2.70e+01, 5.00e+00, 3.40e+00, 1.60e+00, 4.00e-01],\n",
       "       [2.80e+01, 5.20e+00, 3.50e+00, 1.50e+00, 2.00e-01],\n",
       "       [2.90e+01, 5.20e+00, 3.40e+00, 1.40e+00, 2.00e-01],\n",
       "       [3.00e+01, 4.70e+00, 3.20e+00, 1.60e+00, 2.00e-01],\n",
       "       [3.10e+01, 4.80e+00, 3.10e+00, 1.60e+00, 2.00e-01],\n",
       "       [3.20e+01, 5.40e+00, 3.40e+00, 1.50e+00, 4.00e-01],\n",
       "       [3.30e+01, 5.20e+00, 4.10e+00, 1.50e+00, 1.00e-01],\n",
       "       [3.40e+01, 5.50e+00, 4.20e+00, 1.40e+00, 2.00e-01],\n",
       "       [3.50e+01, 4.90e+00, 3.10e+00, 1.50e+00, 1.00e-01],\n",
       "       [3.60e+01, 5.00e+00, 3.20e+00, 1.20e+00, 2.00e-01],\n",
       "       [3.70e+01, 5.50e+00, 3.50e+00, 1.30e+00, 2.00e-01],\n",
       "       [3.80e+01, 4.90e+00, 3.10e+00, 1.50e+00, 1.00e-01],\n",
       "       [3.90e+01, 4.40e+00, 3.00e+00, 1.30e+00, 2.00e-01],\n",
       "       [4.00e+01, 5.10e+00, 3.40e+00, 1.50e+00, 2.00e-01],\n",
       "       [4.10e+01, 5.00e+00, 3.50e+00, 1.30e+00, 3.00e-01],\n",
       "       [4.20e+01, 4.50e+00, 2.30e+00, 1.30e+00, 3.00e-01],\n",
       "       [4.30e+01, 4.40e+00, 3.20e+00, 1.30e+00, 2.00e-01],\n",
       "       [4.40e+01, 5.00e+00, 3.50e+00, 1.60e+00, 6.00e-01],\n",
       "       [4.50e+01, 5.10e+00, 3.80e+00, 1.90e+00, 4.00e-01],\n",
       "       [4.60e+01, 4.80e+00, 3.00e+00, 1.40e+00, 3.00e-01],\n",
       "       [4.70e+01, 5.10e+00, 3.80e+00, 1.60e+00, 2.00e-01],\n",
       "       [4.80e+01, 4.60e+00, 3.20e+00, 1.40e+00, 2.00e-01],\n",
       "       [4.90e+01, 5.30e+00, 3.70e+00, 1.50e+00, 2.00e-01],\n",
       "       [5.00e+01, 5.00e+00, 3.30e+00, 1.40e+00, 2.00e-01],\n",
       "       [5.10e+01, 7.00e+00, 3.20e+00, 4.70e+00, 1.40e+00],\n",
       "       [5.20e+01, 6.40e+00, 3.20e+00, 4.50e+00, 1.50e+00],\n",
       "       [5.30e+01, 6.90e+00, 3.10e+00, 4.90e+00, 1.50e+00],\n",
       "       [5.40e+01, 5.50e+00, 2.30e+00, 4.00e+00, 1.30e+00],\n",
       "       [5.50e+01, 6.50e+00, 2.80e+00, 4.60e+00, 1.50e+00],\n",
       "       [5.60e+01, 5.70e+00, 2.80e+00, 4.50e+00, 1.30e+00],\n",
       "       [5.70e+01, 6.30e+00, 3.30e+00, 4.70e+00, 1.60e+00],\n",
       "       [5.80e+01, 4.90e+00, 2.40e+00, 3.30e+00, 1.00e+00],\n",
       "       [5.90e+01, 6.60e+00, 2.90e+00, 4.60e+00, 1.30e+00],\n",
       "       [6.00e+01, 5.20e+00, 2.70e+00, 3.90e+00, 1.40e+00],\n",
       "       [6.10e+01, 5.00e+00, 2.00e+00, 3.50e+00, 1.00e+00],\n",
       "       [6.20e+01, 5.90e+00, 3.00e+00, 4.20e+00, 1.50e+00],\n",
       "       [6.30e+01, 6.00e+00, 2.20e+00, 4.00e+00, 1.00e+00],\n",
       "       [6.40e+01, 6.10e+00, 2.90e+00, 4.70e+00, 1.40e+00],\n",
       "       [6.50e+01, 5.60e+00, 2.90e+00, 3.60e+00, 1.30e+00],\n",
       "       [6.60e+01, 6.70e+00, 3.10e+00, 4.40e+00, 1.40e+00],\n",
       "       [6.70e+01, 5.60e+00, 3.00e+00, 4.50e+00, 1.50e+00],\n",
       "       [6.80e+01, 5.80e+00, 2.70e+00, 4.10e+00, 1.00e+00],\n",
       "       [6.90e+01, 6.20e+00, 2.20e+00, 4.50e+00, 1.50e+00],\n",
       "       [7.00e+01, 5.60e+00, 2.50e+00, 3.90e+00, 1.10e+00],\n",
       "       [7.10e+01, 5.90e+00, 3.20e+00, 4.80e+00, 1.80e+00],\n",
       "       [7.20e+01, 6.10e+00, 2.80e+00, 4.00e+00, 1.30e+00],\n",
       "       [7.30e+01, 6.30e+00, 2.50e+00, 4.90e+00, 1.50e+00],\n",
       "       [7.40e+01, 6.10e+00, 2.80e+00, 4.70e+00, 1.20e+00],\n",
       "       [7.50e+01, 6.40e+00, 2.90e+00, 4.30e+00, 1.30e+00],\n",
       "       [7.60e+01, 6.60e+00, 3.00e+00, 4.40e+00, 1.40e+00],\n",
       "       [7.70e+01, 6.80e+00, 2.80e+00, 4.80e+00, 1.40e+00],\n",
       "       [7.80e+01, 6.70e+00, 3.00e+00, 5.00e+00, 1.70e+00],\n",
       "       [7.90e+01, 6.00e+00, 2.90e+00, 4.50e+00, 1.50e+00],\n",
       "       [8.00e+01, 5.70e+00, 2.60e+00, 3.50e+00, 1.00e+00],\n",
       "       [8.10e+01, 5.50e+00, 2.40e+00, 3.80e+00, 1.10e+00],\n",
       "       [8.20e+01, 5.50e+00, 2.40e+00, 3.70e+00, 1.00e+00],\n",
       "       [8.30e+01, 5.80e+00, 2.70e+00, 3.90e+00, 1.20e+00],\n",
       "       [8.40e+01, 6.00e+00, 2.70e+00, 5.10e+00, 1.60e+00],\n",
       "       [8.50e+01, 5.40e+00, 3.00e+00, 4.50e+00, 1.50e+00],\n",
       "       [8.60e+01, 6.00e+00, 3.40e+00, 4.50e+00, 1.60e+00],\n",
       "       [8.70e+01, 6.70e+00, 3.10e+00, 4.70e+00, 1.50e+00],\n",
       "       [8.80e+01, 6.30e+00, 2.30e+00, 4.40e+00, 1.30e+00],\n",
       "       [8.90e+01, 5.60e+00, 3.00e+00, 4.10e+00, 1.30e+00],\n",
       "       [9.00e+01, 5.50e+00, 2.50e+00, 4.00e+00, 1.30e+00],\n",
       "       [9.10e+01, 5.50e+00, 2.60e+00, 4.40e+00, 1.20e+00],\n",
       "       [9.20e+01, 6.10e+00, 3.00e+00, 4.60e+00, 1.40e+00],\n",
       "       [9.30e+01, 5.80e+00, 2.60e+00, 4.00e+00, 1.20e+00],\n",
       "       [9.40e+01, 5.00e+00, 2.30e+00, 3.30e+00, 1.00e+00],\n",
       "       [9.50e+01, 5.60e+00, 2.70e+00, 4.20e+00, 1.30e+00],\n",
       "       [9.60e+01, 5.70e+00, 3.00e+00, 4.20e+00, 1.20e+00],\n",
       "       [9.70e+01, 5.70e+00, 2.90e+00, 4.20e+00, 1.30e+00],\n",
       "       [9.80e+01, 6.20e+00, 2.90e+00, 4.30e+00, 1.30e+00],\n",
       "       [9.90e+01, 5.10e+00, 2.50e+00, 3.00e+00, 1.10e+00],\n",
       "       [1.00e+02, 5.70e+00, 2.80e+00, 4.10e+00, 1.30e+00],\n",
       "       [1.01e+02, 6.30e+00, 3.30e+00, 6.00e+00, 2.50e+00],\n",
       "       [1.02e+02, 5.80e+00, 2.70e+00, 5.10e+00, 1.90e+00],\n",
       "       [1.03e+02, 7.10e+00, 3.00e+00, 5.90e+00, 2.10e+00],\n",
       "       [1.04e+02, 6.30e+00, 2.90e+00, 5.60e+00, 1.80e+00],\n",
       "       [1.05e+02, 6.50e+00, 3.00e+00, 5.80e+00, 2.20e+00],\n",
       "       [1.06e+02, 7.60e+00, 3.00e+00, 6.60e+00, 2.10e+00],\n",
       "       [1.07e+02, 4.90e+00, 2.50e+00, 4.50e+00, 1.70e+00],\n",
       "       [1.08e+02, 7.30e+00, 2.90e+00, 6.30e+00, 1.80e+00],\n",
       "       [1.09e+02, 6.70e+00, 2.50e+00, 5.80e+00, 1.80e+00],\n",
       "       [1.10e+02, 7.20e+00, 3.60e+00, 6.10e+00, 2.50e+00],\n",
       "       [1.11e+02, 6.50e+00, 3.20e+00, 5.10e+00, 2.00e+00],\n",
       "       [1.12e+02, 6.40e+00, 2.70e+00, 5.30e+00, 1.90e+00],\n",
       "       [1.13e+02, 6.80e+00, 3.00e+00, 5.50e+00, 2.10e+00],\n",
       "       [1.14e+02, 5.70e+00, 2.50e+00, 5.00e+00, 2.00e+00],\n",
       "       [1.15e+02, 5.80e+00, 2.80e+00, 5.10e+00, 2.40e+00],\n",
       "       [1.16e+02, 6.40e+00, 3.20e+00, 5.30e+00, 2.30e+00],\n",
       "       [1.17e+02, 6.50e+00, 3.00e+00, 5.50e+00, 1.80e+00],\n",
       "       [1.18e+02, 7.70e+00, 3.80e+00, 6.70e+00, 2.20e+00],\n",
       "       [1.19e+02, 7.70e+00, 2.60e+00, 6.90e+00, 2.30e+00],\n",
       "       [1.20e+02, 6.00e+00, 2.20e+00, 5.00e+00, 1.50e+00],\n",
       "       [1.21e+02, 6.90e+00, 3.20e+00, 5.70e+00, 2.30e+00],\n",
       "       [1.22e+02, 5.60e+00, 2.80e+00, 4.90e+00, 2.00e+00],\n",
       "       [1.23e+02, 7.70e+00, 2.80e+00, 6.70e+00, 2.00e+00],\n",
       "       [1.24e+02, 6.30e+00, 2.70e+00, 4.90e+00, 1.80e+00],\n",
       "       [1.25e+02, 6.70e+00, 3.30e+00, 5.70e+00, 2.10e+00],\n",
       "       [1.26e+02, 7.20e+00, 3.20e+00, 6.00e+00, 1.80e+00],\n",
       "       [1.27e+02, 6.20e+00, 2.80e+00, 4.80e+00, 1.80e+00],\n",
       "       [1.28e+02, 6.10e+00, 3.00e+00, 4.90e+00, 1.80e+00],\n",
       "       [1.29e+02, 6.40e+00, 2.80e+00, 5.60e+00, 2.10e+00],\n",
       "       [1.30e+02, 7.20e+00, 3.00e+00, 5.80e+00, 1.60e+00],\n",
       "       [1.31e+02, 7.40e+00, 2.80e+00, 6.10e+00, 1.90e+00],\n",
       "       [1.32e+02, 7.90e+00, 3.80e+00, 6.40e+00, 2.00e+00],\n",
       "       [1.33e+02, 6.40e+00, 2.80e+00, 5.60e+00, 2.20e+00],\n",
       "       [1.34e+02, 6.30e+00, 2.80e+00, 5.10e+00, 1.50e+00],\n",
       "       [1.35e+02, 6.10e+00, 2.60e+00, 5.60e+00, 1.40e+00],\n",
       "       [1.36e+02, 7.70e+00, 3.00e+00, 6.10e+00, 2.30e+00],\n",
       "       [1.37e+02, 6.30e+00, 3.40e+00, 5.60e+00, 2.40e+00],\n",
       "       [1.38e+02, 6.40e+00, 3.10e+00, 5.50e+00, 1.80e+00],\n",
       "       [1.39e+02, 6.00e+00, 3.00e+00, 4.80e+00, 1.80e+00],\n",
       "       [1.40e+02, 6.90e+00, 3.10e+00, 5.40e+00, 2.10e+00],\n",
       "       [1.41e+02, 6.70e+00, 3.10e+00, 5.60e+00, 2.40e+00],\n",
       "       [1.42e+02, 6.90e+00, 3.10e+00, 5.10e+00, 2.30e+00],\n",
       "       [1.43e+02, 5.80e+00, 2.70e+00, 5.10e+00, 1.90e+00],\n",
       "       [1.44e+02, 6.80e+00, 3.20e+00, 5.90e+00, 2.30e+00],\n",
       "       [1.45e+02, 6.70e+00, 3.30e+00, 5.70e+00, 2.50e+00],\n",
       "       [1.46e+02, 6.70e+00, 3.00e+00, 5.20e+00, 2.30e+00],\n",
       "       [1.47e+02, 6.30e+00, 2.50e+00, 5.00e+00, 1.90e+00],\n",
       "       [1.48e+02, 6.50e+00, 3.00e+00, 5.20e+00, 2.00e+00],\n",
       "       [1.49e+02, 6.20e+00, 3.40e+00, 5.40e+00, 2.30e+00],\n",
       "       [1.50e+02, 5.90e+00, 3.00e+00, 5.10e+00, 1.80e+00]])"
      ]
     },
     "execution_count": 26,
     "metadata": {},
     "output_type": "execute_result"
    }
   ],
   "source": [
    "X = model.iloc[:, :-1].values  # selecting the values for the X variable.\n",
    "X"
   ]
  },
  {
   "cell_type": "code",
   "execution_count": 27,
   "id": "fecae351",
   "metadata": {},
   "outputs": [
    {
     "data": {
      "text/plain": [
       "array([[0],\n",
       "       [0],\n",
       "       [0],\n",
       "       [0],\n",
       "       [0],\n",
       "       [0],\n",
       "       [0],\n",
       "       [0],\n",
       "       [0],\n",
       "       [0],\n",
       "       [0],\n",
       "       [0],\n",
       "       [0],\n",
       "       [0],\n",
       "       [0],\n",
       "       [0],\n",
       "       [0],\n",
       "       [0],\n",
       "       [0],\n",
       "       [0],\n",
       "       [0],\n",
       "       [0],\n",
       "       [0],\n",
       "       [0],\n",
       "       [0],\n",
       "       [0],\n",
       "       [0],\n",
       "       [0],\n",
       "       [0],\n",
       "       [0],\n",
       "       [0],\n",
       "       [0],\n",
       "       [0],\n",
       "       [0],\n",
       "       [0],\n",
       "       [0],\n",
       "       [0],\n",
       "       [0],\n",
       "       [0],\n",
       "       [0],\n",
       "       [0],\n",
       "       [0],\n",
       "       [0],\n",
       "       [0],\n",
       "       [0],\n",
       "       [0],\n",
       "       [0],\n",
       "       [0],\n",
       "       [0],\n",
       "       [0],\n",
       "       [1],\n",
       "       [1],\n",
       "       [1],\n",
       "       [1],\n",
       "       [1],\n",
       "       [1],\n",
       "       [1],\n",
       "       [1],\n",
       "       [1],\n",
       "       [1],\n",
       "       [1],\n",
       "       [1],\n",
       "       [1],\n",
       "       [1],\n",
       "       [1],\n",
       "       [1],\n",
       "       [1],\n",
       "       [1],\n",
       "       [1],\n",
       "       [1],\n",
       "       [1],\n",
       "       [1],\n",
       "       [1],\n",
       "       [1],\n",
       "       [1],\n",
       "       [1],\n",
       "       [1],\n",
       "       [1],\n",
       "       [1],\n",
       "       [1],\n",
       "       [1],\n",
       "       [1],\n",
       "       [1],\n",
       "       [1],\n",
       "       [1],\n",
       "       [1],\n",
       "       [1],\n",
       "       [1],\n",
       "       [1],\n",
       "       [1],\n",
       "       [1],\n",
       "       [1],\n",
       "       [1],\n",
       "       [1],\n",
       "       [1],\n",
       "       [1],\n",
       "       [1],\n",
       "       [1],\n",
       "       [1],\n",
       "       [1],\n",
       "       [2],\n",
       "       [2],\n",
       "       [2],\n",
       "       [2],\n",
       "       [2],\n",
       "       [2],\n",
       "       [2],\n",
       "       [2],\n",
       "       [2],\n",
       "       [2],\n",
       "       [2],\n",
       "       [2],\n",
       "       [2],\n",
       "       [2],\n",
       "       [2],\n",
       "       [2],\n",
       "       [2],\n",
       "       [2],\n",
       "       [2],\n",
       "       [2],\n",
       "       [2],\n",
       "       [2],\n",
       "       [2],\n",
       "       [2],\n",
       "       [2],\n",
       "       [2],\n",
       "       [2],\n",
       "       [2],\n",
       "       [2],\n",
       "       [2],\n",
       "       [2],\n",
       "       [2],\n",
       "       [2],\n",
       "       [2],\n",
       "       [2],\n",
       "       [2],\n",
       "       [2],\n",
       "       [2],\n",
       "       [2],\n",
       "       [2],\n",
       "       [2],\n",
       "       [2],\n",
       "       [2],\n",
       "       [2],\n",
       "       [2],\n",
       "       [2],\n",
       "       [2],\n",
       "       [2],\n",
       "       [2],\n",
       "       [2]])"
      ]
     },
     "execution_count": 27,
     "metadata": {},
     "output_type": "execute_result"
    }
   ],
   "source": [
    "y = model[[\"Species\"]].to_numpy()   # selecting the values for the Y variable. # done using .to_numpy and not \n",
    "                                                       # .iloc as .to_numpy creates a horizontal bar while .iloc creates a \n",
    "                                                       # horizontal bar which will not alighn with the x values.\n",
    "y"
   ]
  },
  {
   "cell_type": "code",
   "execution_count": 28,
   "id": "3529cf18",
   "metadata": {},
   "outputs": [],
   "source": [
    "X_train, X_test, y_train, y_test = train_test_split(X, y, test_size = 0.25, random_state = 0)\n",
    "# test_size = 0.2               # splitting the data into 80 and 20 percent between the training and test set           \n",
    "                                            # to get the best results.                                                           \n",
    "# random_state = 1         # resetting the  random seed"
   ]
  },
  {
   "cell_type": "code",
   "execution_count": null,
   "id": "66aa6aa3",
   "metadata": {},
   "outputs": [],
   "source": []
  },
  {
   "cell_type": "markdown",
   "id": "b8357204",
   "metadata": {},
   "source": [
    "# Grid Search"
   ]
  },
  {
   "cell_type": "code",
   "execution_count": 29,
   "id": "f74f5ae0",
   "metadata": {},
   "outputs": [],
   "source": [
    "def Grid_search_fun(typeofmodelandprams, dict_prams,para_list, crossval, X, y):\n",
    "\n",
    "    model = typeofmodelandprams  # creating an instance of the object.\n",
    "    parameters = [dict_prams]  # hyper parameters for the grid search\n",
    "    grid_search = GridSearchCV(estimator = model,  # model\n",
    "                           param_grid = parameters,  # hyper paramaters \n",
    "                           scoring = 'accuracy',  # score measurement\n",
    "                           cv = crossval, # number of cross validations \n",
    "                           n_jobs = -1, return_train_score=False)  # selecting all possible paramaters to go through to get the best model possible # train score is false as it can be computationaly expensive. without storing the traning score the grd search is fater\n",
    "    grid_search.fit(X, y)  # applying the search on our model.\n",
    "    #print(pd.DataFrame(grid_search.cv_results_)[[\"mean_test_score\",\"params\"]])\n",
    "    print(pd.DataFrame(grid_search.cv_results_)) # to print the whole result\n",
    "\n",
    "    best_accuracy = grid_search.best_score_  # the best accuracy \n",
    "    best_parameters = grid_search.best_params_  # the best paramaters that gave the best accurecy\n",
    "    print(\"Best Accuracy: {:.2f} %\".format(best_accuracy*100))  # printing best accuracy\n",
    "    print(\"Best Parameters:\", best_parameters)  # printing the best parameters\n",
    "    \n",
    "    print(parameters)\n",
    "\n",
    "\n",
    "    return grid_search\n",
    "    \n",
    "\n"
   ]
  },
  {
   "cell_type": "code",
   "execution_count": 30,
   "id": "08314384",
   "metadata": {},
   "outputs": [],
   "source": [
    "def rand_search_fun(typeofmodelandprams, dict_prams,para_list, crossval, X, y):\n",
    "\n",
    "    model = typeofmodelandprams  # creating an instance of the object.\n",
    "    parameters = [dict_prams]  # hyper parameters for the grid search\n",
    "    rand_search = RandomizedSearchCV(estimator = model,  # model\n",
    "                           param_distributions = parameters,  # hyper paramaters \n",
    "                           scoring = 'accuracy',  # score measurement\n",
    "                           cv = crossval, # number of cross validations \n",
    "                           n_jobs = -1, # selecting all possible paramaters to go through to get the best model possible \n",
    "                           return_train_score=False, # train score is false as it can be computationaly expensive. without storing the traning score the grd search is fater\n",
    "                           n_iter=10,\n",
    "                           random_state=5)  \n",
    "    rand_search.fit(X, y)  # applying the search on our model.\n",
    "    #print(pd.DataFrame(rand_search.cv_results_)[[\"mean_test_score\",\"params\"]])\n",
    "    print(pd.DataFrame(rand_search.cv_results_)) # to print the whole result\n",
    "\n",
    "    best_accuracy = rand_search.best_score_  # the best accuracy \n",
    "    best_parameters = rand_search.best_params_  # the best paramaters that gave the best accurecy\n",
    "    print(\"Best Accuracy: {:.2f} %\".format(best_accuracy*100))  # printing best accuracy\n",
    "    print(\"Best Parameters:\", best_parameters)  # printing the best parameters\n",
    "    \n",
    "    print(parameters)\n",
    "\n",
    "\n",
    "    return rand_search\n",
    "    \n",
    "\n"
   ]
  },
  {
   "cell_type": "code",
   "execution_count": 31,
   "id": "d5b7849c",
   "metadata": {},
   "outputs": [
    {
     "ename": "SyntaxError",
     "evalue": "invalid syntax (<ipython-input-31-104a88d6725a>, line 1)",
     "output_type": "error",
     "traceback": [
      "\u001b[1;36m  File \u001b[1;32m\"<ipython-input-31-104a88d6725a>\"\u001b[1;36m, line \u001b[1;32m1\u001b[0m\n\u001b[1;33m    def random_search_fun()\u001b[0m\n\u001b[1;37m                            ^\u001b[0m\n\u001b[1;31mSyntaxError\u001b[0m\u001b[1;31m:\u001b[0m invalid syntax\n"
     ]
    }
   ],
   "source": [
    "def random_search_fun() \n",
    "    \n",
    "    rand = RandomizedSearchCV(K_NN_classifier,para_grid,cv=5, scoring=\"accuracy\", return_train_score=False, n_iter=10,random_state=5)\n",
    "\n",
    "    rand.fit(X,Y)\n",
    "\n",
    "    print(pd.DataFrame(rand.cv_results_))[[\"mean_test_score\",\"params\"]]\n",
    "    pd.DataFrame(grid.cv_results_)"
   ]
  },
  {
   "cell_type": "code",
   "execution_count": 32,
   "id": "a153bc4b",
   "metadata": {},
   "outputs": [
    {
     "ename": "NameError",
     "evalue": "name 'svm_classifier' is not defined",
     "output_type": "error",
     "traceback": [
      "\u001b[1;31m---------------------------------------------------------------------------\u001b[0m",
      "\u001b[1;31mNameError\u001b[0m                                 Traceback (most recent call last)",
      "\u001b[1;32m<ipython-input-32-36052729837b>\u001b[0m in \u001b[0;36m<module>\u001b[1;34m\u001b[0m\n\u001b[0;32m      1\u001b[0m parameters = [{'C': [0.25, 0.5, 0.75, 1], 'kernel': ['linear']},\n\u001b[0;32m      2\u001b[0m               {'C': [0.25, 0.5, 0.75, 1], 'kernel': ['rbf'], 'gamma': [0.1, 0.2, 0.3, 0.4, 0.5, 0.6, 0.7, 0.8, 0.9]}]\n\u001b[1;32m----> 3\u001b[1;33m grid_search = GridSearchCV(estimator = svm_classifier,\n\u001b[0m\u001b[0;32m      4\u001b[0m                            \u001b[0mparam_grid\u001b[0m \u001b[1;33m=\u001b[0m \u001b[0mparameters\u001b[0m\u001b[1;33m,\u001b[0m\u001b[1;33m\u001b[0m\u001b[1;33m\u001b[0m\u001b[0m\n\u001b[0;32m      5\u001b[0m                            \u001b[0mscoring\u001b[0m \u001b[1;33m=\u001b[0m \u001b[1;34m'accuracy'\u001b[0m\u001b[1;33m,\u001b[0m\u001b[1;33m\u001b[0m\u001b[1;33m\u001b[0m\u001b[0m\n",
      "\u001b[1;31mNameError\u001b[0m: name 'svm_classifier' is not defined"
     ]
    }
   ],
   "source": [
    "parameters = [{'C': [0.25, 0.5, 0.75, 1], 'kernel': ['linear']},\n",
    "              {'C': [0.25, 0.5, 0.75, 1], 'kernel': ['rbf'], 'gamma': [0.1, 0.2, 0.3, 0.4, 0.5, 0.6, 0.7, 0.8, 0.9]}]\n",
    "grid_search = GridSearchCV(estimator = svm_classifier,\n",
    "                           param_grid = parameters,\n",
    "                           scoring = 'accuracy',\n",
    "                           cv = 10,\n",
    "                           n_jobs = -1)  # selecting all possible paramaters to go through to get the best model possible\n",
    "grid_search.fit(X, Y)  # applying the search on our model.\n",
    "best_accuracy = grid_search.best_score_  # the best accuracy \n",
    "best_parameters = grid_search.best_params_  # the best paramaters that gave the best accurecy\n",
    "print(\"Best Accuracy: {:.2f} %\".format(best_accuracy*100))  # printing best accuracy\n",
    "print(\"Best Parameters:\", best_parameters)  # printing the best parameters"
   ]
  },
  {
   "cell_type": "code",
   "execution_count": null,
   "id": "e93195a8",
   "metadata": {},
   "outputs": [],
   "source": []
  },
  {
   "cell_type": "code",
   "execution_count": null,
   "id": "557ead6a",
   "metadata": {},
   "outputs": [],
   "source": []
  },
  {
   "cell_type": "code",
   "execution_count": null,
   "id": "5917bb65",
   "metadata": {},
   "outputs": [],
   "source": []
  },
  {
   "cell_type": "code",
   "execution_count": null,
   "id": "f1526e04",
   "metadata": {},
   "outputs": [],
   "source": []
  },
  {
   "cell_type": "code",
   "execution_count": null,
   "id": "d66ba6f4",
   "metadata": {},
   "outputs": [],
   "source": []
  },
  {
   "cell_type": "code",
   "execution_count": null,
   "id": "431468ba",
   "metadata": {},
   "outputs": [],
   "source": []
  },
  {
   "cell_type": "code",
   "execution_count": null,
   "id": "c8cbcb8c",
   "metadata": {},
   "outputs": [],
   "source": []
  },
  {
   "cell_type": "code",
   "execution_count": null,
   "id": "3207f095",
   "metadata": {},
   "outputs": [],
   "source": []
  },
  {
   "cell_type": "code",
   "execution_count": 33,
   "id": "22de15bf",
   "metadata": {},
   "outputs": [
    {
     "ename": "NameError",
     "evalue": "name 'cm2' is not defined",
     "output_type": "error",
     "traceback": [
      "\u001b[1;31m---------------------------------------------------------------------------\u001b[0m",
      "\u001b[1;31mNameError\u001b[0m                                 Traceback (most recent call last)",
      "\u001b[1;32m<ipython-input-33-32ce663dfdc3>\u001b[0m in \u001b[0;36m<module>\u001b[1;34m\u001b[0m\n\u001b[1;32m----> 1\u001b[1;33m \u001b[0mdisp\u001b[0m \u001b[1;33m=\u001b[0m \u001b[0mConfusionMatrixDisplay\u001b[0m\u001b[1;33m(\u001b[0m\u001b[0mconfusion_matrix\u001b[0m\u001b[1;33m=\u001b[0m\u001b[0mcm2\u001b[0m\u001b[1;33m)\u001b[0m  \u001b[1;31m# creaing the confusion matrix plot.\u001b[0m\u001b[1;33m\u001b[0m\u001b[1;33m\u001b[0m\u001b[0m\n\u001b[0m\u001b[0;32m      2\u001b[0m \u001b[0mdisp\u001b[0m\u001b[1;33m.\u001b[0m\u001b[0mplot\u001b[0m\u001b[1;33m(\u001b[0m\u001b[1;33m)\u001b[0m  \u001b[1;31m# displaying data in plot\u001b[0m\u001b[1;33m\u001b[0m\u001b[1;33m\u001b[0m\u001b[0m\n\u001b[0;32m      3\u001b[0m \u001b[0mplt\u001b[0m\u001b[1;33m.\u001b[0m\u001b[0mtitle\u001b[0m\u001b[1;33m(\u001b[0m\u001b[1;34m\"Logistic Regression Model\"\u001b[0m\u001b[1;33m)\u001b[0m  \u001b[1;31m# adding a title to plot\u001b[0m\u001b[1;33m\u001b[0m\u001b[1;33m\u001b[0m\u001b[0m\n\u001b[0;32m      4\u001b[0m \u001b[0mplt\u001b[0m\u001b[1;33m.\u001b[0m\u001b[0mshow\u001b[0m\u001b[1;33m(\u001b[0m\u001b[1;33m)\u001b[0m  \u001b[1;31m# showing the plot\u001b[0m\u001b[1;33m\u001b[0m\u001b[1;33m\u001b[0m\u001b[0m\n",
      "\u001b[1;31mNameError\u001b[0m: name 'cm2' is not defined"
     ]
    }
   ],
   "source": [
    "disp = ConfusionMatrixDisplay(confusion_matrix=cm2)  # creaing the confusion matrix plot.                           \n",
    "disp.plot()  # displaying data in plot\n",
    "plt.title(\"Logistic Regression Model\")  # adding a title to plot\n",
    "plt.show()  # showing the plot"
   ]
  },
  {
   "cell_type": "code",
   "execution_count": 34,
   "id": "b609fefa",
   "metadata": {},
   "outputs": [],
   "source": [
    "def linear_plot(xlab, ylab, l1, l2, title, lg):\n",
    "    plt.title(title,fontsize=18)\n",
    "    plt.plot(xlab, ylab)\n",
    "    plt.xlabel(l1)\n",
    "    plt.ylabel(l2)\n",
    "    plt.legend([lg], loc='upper left')\n",
    "    plt.grid()"
   ]
  },
  {
   "cell_type": "code",
   "execution_count": 35,
   "id": "e1e64046",
   "metadata": {},
   "outputs": [],
   "source": [
    "def K_NN_plot(X,y):\n",
    "    ave_scores = []\n",
    "    k_list = list(range(1,15))\n",
    "    for k in k_list:\n",
    "        model = KNeighborsClassifier(n_neighbors = k) \n",
    "        scores = cross_val_score(model,X,y,cv=5,scoring=\"accuracy\")\n",
    "        ave_scores.append(round(scores.mean(),3))\n",
    "    print(\"ave scores \", ave_scores)\n",
    "    linear_plot(k_list, ave_scores, \"Number of nearest neighbours\", \"Average CV model accuracy\", \"Best KNN Selection\", \"KNN\")\n",
    "\n",
    "\n",
    "    plt.grid()"
   ]
  },
  {
   "cell_type": "code",
   "execution_count": 36,
   "id": "a0b94aba",
   "metadata": {},
   "outputs": [],
   "source": [
    "def crossvalscore(model, X, y, cv_val):\n",
    "    score = cross_val_score(estimator = model, X = X, y = y, cv = cv_val)   # performs 10 different tests to get average accurecy.\n",
    "    print(\"Accuracy: {:.2f} %\".format(score.mean()*100))  # accuracy printed\n",
    "    print(\"Standard Deviation: {:.2f} %\".format(score.std()*100))  # standard deveation printed (std -avarage or std+ avarage )\n",
    "    return score"
   ]
  },
  {
   "cell_type": "code",
   "execution_count": null,
   "id": "b9344ed1",
   "metadata": {},
   "outputs": [],
   "source": []
  },
  {
   "cell_type": "code",
   "execution_count": 37,
   "id": "5617fe75",
   "metadata": {},
   "outputs": [],
   "source": [
    "from sklearn.metrics import classification_report, accuracy_score, recall_score, precision_score, roc_auc_score, f1_score\n",
    "\n",
    "def Classifier_function(typeofmodelandprams, X_train, y_train, title):  # function takes the type of model, the hyperparameters of the\n",
    "    # model, the x_train and y_train to get our results.\n",
    "  model = typeofmodelandprams  # Bulding an object of the class\n",
    "  model.fit(X_train, y_train)  # Building the k-nearest neighbors classification model.\n",
    "\n",
    "  y_test_p = model.predict(X_test)  # Predicted results.\n",
    "  print(\"  results\\npred-Actual\")  # printing predicted and real values.\n",
    "  print(np.concatenate((y_test_p.reshape(len(y_test_p),1),y_test.reshape(len(y_test),1)),1))  # Predicted results and real results in a np array.\n",
    "   \n",
    "\n",
    "  train_accuracy = round(model.score(X_train,y_train),2) * 100\n",
    "  test_accuracy = round(model.score(X_test,y_test),2) * 100\n",
    "\n",
    "  print(\"Model train accuracy: \", train_accuracy, \"%\")  # printing the model accurcy. \n",
    "  print(\"Model test accuracy: \", test_accuracy, \"%\")  # printing the model accurcy. \n",
    "\n",
    "\n",
    "  print(\"\\n\\n\")\n",
    "  # getting Accuracy or recall or precision or specificity\n",
    "  y_test_pred = model.predict(X_test)\n",
    "  \n",
    "  cReport = classification_report(y_test,y_test_pred)\n",
    "  print(cReport)\n",
    "  \n",
    "  cm = confusion_matrix(y_test, y_test_p)  # creating the confusion matrix\n",
    "  print(\"correct_0-incorrct_1\\nincorrect_0-correct_1\\n\")  # printing correct and inccrocet results.\n",
    "  print(\"True_Negative-False_positive\\nFalse_negative-True_positive\\n\")  # printing correct and inccrocet results.\n",
    "  print(cm)  # prininting the confusion matrix.\n",
    "  \n",
    "\n",
    "  cmf = [[\"True Negative\\n\" + str(cm[0,0]) + \"\\n\" + str(round(cm[0,0]/np.sum(cm),2)) + \" %\", \"False Positive\\n\" + str(cm[0,1]) + \"\\n\" + str(round(cm[0,0]/np.sum(cm),2)) + \\\n",
    "         \" %\"],[\"False Negative\\n\" + str(cm[1,0]) + \"\\n\" + str(round(cm[1,0]/np.sum(cm),2)) + \" %\", \"True Positive\\n\" + str(cm[1,1]) + \"\\n\" + str(round(cm[1,1]/np.sum(cm),2)) + \" %\"]]\n",
    "  cmf = np.asarray(cmf).reshape(2,2)\n",
    "  accuracy  = round(np.trace(cm) / float(np.sum(cm)), 2) * 100\n",
    "  precision = cm[1,1] / sum(cm[:,1])\n",
    "  recall    = cm[1,1] / sum(cm[1,:])\n",
    "  f1_score  = round(2* precision * recall / (precision + recall),2)*100\n",
    "  precision = round(precision, 2) * 100\n",
    "  recall    = round(recall,2) * 100 \n",
    "  total_score = (\"Accuracy:   \" + str(accuracy) +\" %\" + \"\\nPrecison:    \"  + str(precision)  +\" %\" + \"\\nRecall:        \" + str(recall)  +\" %\" + \"\\nF1 score:    \"  + str(f1_score) +\" %\") \n",
    "\n",
    "  disp = sns.heatmap(cm, annot=cmf, fmt='', cmap='Blues')                           \n",
    "  disp.plot()  # displaying data in plot\n",
    "  plt.title(title)  # adding a title to plot\n",
    "  plt.ylabel('True label')\n",
    "  plt.xlabel('Predicted label' +\"\\n\\nScores\\n\" +total_score)\n",
    "  plt.show()  # showing the plot\n",
    "\n",
    "\n",
    "  return test_accuracy"
   ]
  },
  {
   "cell_type": "code",
   "execution_count": 38,
   "id": "5e9691ff",
   "metadata": {},
   "outputs": [
    {
     "name": "stdout",
     "output_type": "stream",
     "text": [
      "  results\n",
      "pred-Actual\n",
      "[[2 2]\n",
      " [1 1]\n",
      " [0 0]\n",
      " [2 2]\n",
      " [0 0]\n",
      " [2 2]\n",
      " [0 0]\n",
      " [1 1]\n",
      " [1 1]\n",
      " [1 1]\n",
      " [2 2]\n",
      " [1 1]\n",
      " [1 1]\n",
      " [1 1]\n",
      " [1 1]\n",
      " [0 0]\n",
      " [1 1]\n",
      " [1 1]\n",
      " [0 0]\n",
      " [0 0]\n",
      " [2 2]\n",
      " [1 1]\n",
      " [0 0]\n",
      " [0 0]\n",
      " [2 2]\n",
      " [0 0]\n",
      " [0 0]\n",
      " [1 1]\n",
      " [1 1]\n",
      " [0 0]\n",
      " [2 2]\n",
      " [1 1]\n",
      " [0 0]\n",
      " [2 2]\n",
      " [2 2]\n",
      " [1 1]\n",
      " [0 0]\n",
      " [1 1]]\n",
      "Model train accuracy:  100.0 %\n",
      "Model test accuracy:  100.0 %\n",
      "\n",
      "\n",
      "\n",
      "              precision    recall  f1-score   support\n",
      "\n",
      "           0       1.00      1.00      1.00        13\n",
      "           1       1.00      1.00      1.00        16\n",
      "           2       1.00      1.00      1.00         9\n",
      "\n",
      "    accuracy                           1.00        38\n",
      "   macro avg       1.00      1.00      1.00        38\n",
      "weighted avg       1.00      1.00      1.00        38\n",
      "\n",
      "correct_0-incorrct_1\n",
      "incorrect_0-correct_1\n",
      "\n",
      "True_Negative-False_positive\n",
      "False_negative-True_positive\n",
      "\n",
      "[[13  0  0]\n",
      " [ 0 16  0]\n",
      " [ 0  0  9]]\n"
     ]
    },
    {
     "ename": "ValueError",
     "evalue": "`data` and `annot` must have same shape.",
     "output_type": "error",
     "traceback": [
      "\u001b[1;31m---------------------------------------------------------------------------\u001b[0m",
      "\u001b[1;31mValueError\u001b[0m                                Traceback (most recent call last)",
      "\u001b[1;32m<ipython-input-38-a5777daf493f>\u001b[0m in \u001b[0;36m<module>\u001b[1;34m\u001b[0m\n\u001b[1;32m----> 1\u001b[1;33m \u001b[0mClassifier_function\u001b[0m\u001b[1;33m(\u001b[0m\u001b[0mKNeighborsClassifier\u001b[0m\u001b[1;33m(\u001b[0m\u001b[0mn_neighbors\u001b[0m\u001b[1;33m=\u001b[0m\u001b[1;36m1\u001b[0m\u001b[1;33m)\u001b[0m\u001b[1;33m,\u001b[0m \u001b[0mX_train\u001b[0m\u001b[1;33m,\u001b[0m \u001b[0my_train\u001b[0m\u001b[1;33m,\u001b[0m \u001b[1;34m\"Neural Network Model\"\u001b[0m\u001b[1;33m)\u001b[0m\u001b[1;33m\u001b[0m\u001b[1;33m\u001b[0m\u001b[0m\n\u001b[0m",
      "\u001b[1;32m<ipython-input-37-0f44e8db31c0>\u001b[0m in \u001b[0;36mClassifier_function\u001b[1;34m(typeofmodelandprams, X_train, y_train, title)\u001b[0m\n\u001b[0;32m     42\u001b[0m   \u001b[0mtotal_score\u001b[0m \u001b[1;33m=\u001b[0m \u001b[1;33m(\u001b[0m\u001b[1;34m\"Accuracy:   \"\u001b[0m \u001b[1;33m+\u001b[0m \u001b[0mstr\u001b[0m\u001b[1;33m(\u001b[0m\u001b[0maccuracy\u001b[0m\u001b[1;33m)\u001b[0m \u001b[1;33m+\u001b[0m\u001b[1;34m\" %\"\u001b[0m \u001b[1;33m+\u001b[0m \u001b[1;34m\"\\nPrecison:    \"\u001b[0m  \u001b[1;33m+\u001b[0m \u001b[0mstr\u001b[0m\u001b[1;33m(\u001b[0m\u001b[0mprecision\u001b[0m\u001b[1;33m)\u001b[0m  \u001b[1;33m+\u001b[0m\u001b[1;34m\" %\"\u001b[0m \u001b[1;33m+\u001b[0m \u001b[1;34m\"\\nRecall:        \"\u001b[0m \u001b[1;33m+\u001b[0m \u001b[0mstr\u001b[0m\u001b[1;33m(\u001b[0m\u001b[0mrecall\u001b[0m\u001b[1;33m)\u001b[0m  \u001b[1;33m+\u001b[0m\u001b[1;34m\" %\"\u001b[0m \u001b[1;33m+\u001b[0m \u001b[1;34m\"\\nF1 score:    \"\u001b[0m  \u001b[1;33m+\u001b[0m \u001b[0mstr\u001b[0m\u001b[1;33m(\u001b[0m\u001b[0mf1_score\u001b[0m\u001b[1;33m)\u001b[0m \u001b[1;33m+\u001b[0m\u001b[1;34m\" %\"\u001b[0m\u001b[1;33m)\u001b[0m\u001b[1;33m\u001b[0m\u001b[1;33m\u001b[0m\u001b[0m\n\u001b[0;32m     43\u001b[0m \u001b[1;33m\u001b[0m\u001b[0m\n\u001b[1;32m---> 44\u001b[1;33m   \u001b[0mdisp\u001b[0m \u001b[1;33m=\u001b[0m \u001b[0msns\u001b[0m\u001b[1;33m.\u001b[0m\u001b[0mheatmap\u001b[0m\u001b[1;33m(\u001b[0m\u001b[0mcm\u001b[0m\u001b[1;33m,\u001b[0m \u001b[0mannot\u001b[0m\u001b[1;33m=\u001b[0m\u001b[0mcmf\u001b[0m\u001b[1;33m,\u001b[0m \u001b[0mfmt\u001b[0m\u001b[1;33m=\u001b[0m\u001b[1;34m''\u001b[0m\u001b[1;33m,\u001b[0m \u001b[0mcmap\u001b[0m\u001b[1;33m=\u001b[0m\u001b[1;34m'Blues'\u001b[0m\u001b[1;33m)\u001b[0m\u001b[1;33m\u001b[0m\u001b[1;33m\u001b[0m\u001b[0m\n\u001b[0m\u001b[0;32m     45\u001b[0m   \u001b[0mdisp\u001b[0m\u001b[1;33m.\u001b[0m\u001b[0mplot\u001b[0m\u001b[1;33m(\u001b[0m\u001b[1;33m)\u001b[0m  \u001b[1;31m# displaying data in plot\u001b[0m\u001b[1;33m\u001b[0m\u001b[1;33m\u001b[0m\u001b[0m\n\u001b[0;32m     46\u001b[0m   \u001b[0mplt\u001b[0m\u001b[1;33m.\u001b[0m\u001b[0mtitle\u001b[0m\u001b[1;33m(\u001b[0m\u001b[0mtitle\u001b[0m\u001b[1;33m)\u001b[0m  \u001b[1;31m# adding a title to plot\u001b[0m\u001b[1;33m\u001b[0m\u001b[1;33m\u001b[0m\u001b[0m\n",
      "\u001b[1;32m~\\anaconda3\\lib\\site-packages\\seaborn\\_decorators.py\u001b[0m in \u001b[0;36minner_f\u001b[1;34m(*args, **kwargs)\u001b[0m\n\u001b[0;32m     44\u001b[0m             )\n\u001b[0;32m     45\u001b[0m         \u001b[0mkwargs\u001b[0m\u001b[1;33m.\u001b[0m\u001b[0mupdate\u001b[0m\u001b[1;33m(\u001b[0m\u001b[1;33m{\u001b[0m\u001b[0mk\u001b[0m\u001b[1;33m:\u001b[0m \u001b[0marg\u001b[0m \u001b[1;32mfor\u001b[0m \u001b[0mk\u001b[0m\u001b[1;33m,\u001b[0m \u001b[0marg\u001b[0m \u001b[1;32min\u001b[0m \u001b[0mzip\u001b[0m\u001b[1;33m(\u001b[0m\u001b[0msig\u001b[0m\u001b[1;33m.\u001b[0m\u001b[0mparameters\u001b[0m\u001b[1;33m,\u001b[0m \u001b[0margs\u001b[0m\u001b[1;33m)\u001b[0m\u001b[1;33m}\u001b[0m\u001b[1;33m)\u001b[0m\u001b[1;33m\u001b[0m\u001b[1;33m\u001b[0m\u001b[0m\n\u001b[1;32m---> 46\u001b[1;33m         \u001b[1;32mreturn\u001b[0m \u001b[0mf\u001b[0m\u001b[1;33m(\u001b[0m\u001b[1;33m**\u001b[0m\u001b[0mkwargs\u001b[0m\u001b[1;33m)\u001b[0m\u001b[1;33m\u001b[0m\u001b[1;33m\u001b[0m\u001b[0m\n\u001b[0m\u001b[0;32m     47\u001b[0m     \u001b[1;32mreturn\u001b[0m \u001b[0minner_f\u001b[0m\u001b[1;33m\u001b[0m\u001b[1;33m\u001b[0m\u001b[0m\n\u001b[0;32m     48\u001b[0m \u001b[1;33m\u001b[0m\u001b[0m\n",
      "\u001b[1;32m~\\anaconda3\\lib\\site-packages\\seaborn\\matrix.py\u001b[0m in \u001b[0;36mheatmap\u001b[1;34m(data, vmin, vmax, cmap, center, robust, annot, fmt, annot_kws, linewidths, linecolor, cbar, cbar_kws, cbar_ax, square, xticklabels, yticklabels, mask, ax, **kwargs)\u001b[0m\n\u001b[0;32m    533\u001b[0m     \"\"\"\n\u001b[0;32m    534\u001b[0m     \u001b[1;31m# Initialize the plotter object\u001b[0m\u001b[1;33m\u001b[0m\u001b[1;33m\u001b[0m\u001b[1;33m\u001b[0m\u001b[0m\n\u001b[1;32m--> 535\u001b[1;33m     plotter = _HeatMapper(data, vmin, vmax, cmap, center, robust, annot, fmt,\n\u001b[0m\u001b[0;32m    536\u001b[0m                           \u001b[0mannot_kws\u001b[0m\u001b[1;33m,\u001b[0m \u001b[0mcbar\u001b[0m\u001b[1;33m,\u001b[0m \u001b[0mcbar_kws\u001b[0m\u001b[1;33m,\u001b[0m \u001b[0mxticklabels\u001b[0m\u001b[1;33m,\u001b[0m\u001b[1;33m\u001b[0m\u001b[1;33m\u001b[0m\u001b[0m\n\u001b[0;32m    537\u001b[0m                           yticklabels, mask)\n",
      "\u001b[1;32m~\\anaconda3\\lib\\site-packages\\seaborn\\matrix.py\u001b[0m in \u001b[0;36m__init__\u001b[1;34m(self, data, vmin, vmax, cmap, center, robust, annot, fmt, annot_kws, cbar, cbar_kws, xticklabels, yticklabels, mask)\u001b[0m\n\u001b[0;32m    167\u001b[0m                 \u001b[1;32mif\u001b[0m \u001b[0mannot_data\u001b[0m\u001b[1;33m.\u001b[0m\u001b[0mshape\u001b[0m \u001b[1;33m!=\u001b[0m \u001b[0mplot_data\u001b[0m\u001b[1;33m.\u001b[0m\u001b[0mshape\u001b[0m\u001b[1;33m:\u001b[0m\u001b[1;33m\u001b[0m\u001b[1;33m\u001b[0m\u001b[0m\n\u001b[0;32m    168\u001b[0m                     \u001b[0merr\u001b[0m \u001b[1;33m=\u001b[0m \u001b[1;34m\"`data` and `annot` must have same shape.\"\u001b[0m\u001b[1;33m\u001b[0m\u001b[1;33m\u001b[0m\u001b[0m\n\u001b[1;32m--> 169\u001b[1;33m                     \u001b[1;32mraise\u001b[0m \u001b[0mValueError\u001b[0m\u001b[1;33m(\u001b[0m\u001b[0merr\u001b[0m\u001b[1;33m)\u001b[0m\u001b[1;33m\u001b[0m\u001b[1;33m\u001b[0m\u001b[0m\n\u001b[0m\u001b[0;32m    170\u001b[0m             \u001b[0mannot\u001b[0m \u001b[1;33m=\u001b[0m \u001b[1;32mTrue\u001b[0m\u001b[1;33m\u001b[0m\u001b[1;33m\u001b[0m\u001b[0m\n\u001b[0;32m    171\u001b[0m \u001b[1;33m\u001b[0m\u001b[0m\n",
      "\u001b[1;31mValueError\u001b[0m: `data` and `annot` must have same shape."
     ]
    }
   ],
   "source": [
    "\n",
    "\n",
    "\n",
    "Classifier_function(KNeighborsClassifier(n_neighbors=1), X_train, y_train, \"Neural Network Model\")"
   ]
  },
  {
   "cell_type": "code",
   "execution_count": 39,
   "id": "4345f57f",
   "metadata": {},
   "outputs": [
    {
     "name": "stdout",
     "output_type": "stream",
     "text": [
      "Accuracy: 96.00 %\n",
      "Standard Deviation: 8.00 %\n"
     ]
    },
    {
     "data": {
      "text/plain": [
       "array([0.8, 1. , 1. , 1. , 1. , 1. , 1. , 1. , 1. , 0.8])"
      ]
     },
     "execution_count": 39,
     "metadata": {},
     "output_type": "execute_result"
    }
   ],
   "source": [
    "crossvalscore(KNeighborsClassifier(n_neighbors=1), X, y, 10)"
   ]
  },
  {
   "cell_type": "code",
   "execution_count": 40,
   "id": "b4b42133",
   "metadata": {},
   "outputs": [
    {
     "name": "stdout",
     "output_type": "stream",
     "text": [
      "    mean_fit_time  std_fit_time  mean_score_time  std_score_time  \\\n",
      "0        0.003599      0.001019         0.018799        0.011581   \n",
      "1        0.005202      0.003601         0.004200        0.002639   \n",
      "2        0.001600      0.000487         0.006800        0.006115   \n",
      "3        0.003400      0.002246         0.005002        0.004648   \n",
      "4        0.001999      0.000633         0.004600        0.001624   \n",
      "5        0.006201      0.006645         0.007200        0.005193   \n",
      "6        0.001401      0.000488         0.003999        0.000005   \n",
      "7        0.001400      0.000489         0.002000        0.000002   \n",
      "8        0.001199      0.000402         0.004400        0.000492   \n",
      "9        0.001400      0.000490         0.001601        0.000489   \n",
      "10       0.001601      0.000489         0.004198        0.000401   \n",
      "11       0.001402      0.000492         0.002201        0.000400   \n",
      "12       0.001400      0.000489         0.003401        0.000490   \n",
      "13       0.001200      0.000400         0.001999        0.000002   \n",
      "14       0.001599      0.000489         0.003602        0.000490   \n",
      "15       0.001400      0.000489         0.002199        0.000397   \n",
      "16       0.001001      0.000003         0.003998        0.000632   \n",
      "17       0.001400      0.000491         0.002400        0.000492   \n",
      "18       0.001200      0.000400         0.003800        0.000749   \n",
      "19       0.001200      0.000402         0.002001        0.000002   \n",
      "20       0.001200      0.000402         0.005000        0.002530   \n",
      "21       0.001201      0.000400         0.001800        0.000400   \n",
      "22       0.001601      0.000490         0.004199        0.001470   \n",
      "23       0.001002      0.000004         0.002398        0.000493   \n",
      "24       0.001000      0.000001         0.003801        0.000400   \n",
      "25       0.001402      0.000492         0.001599        0.000492   \n",
      "26       0.001201      0.000395         0.003798        0.001165   \n",
      "27       0.001602      0.000493         0.001999        0.000004   \n",
      "28       0.004000      0.005999         0.003999        0.000002   \n",
      "29       0.002002      0.000634         0.001999        0.000001   \n",
      "30       0.001399      0.000800         0.011603        0.010438   \n",
      "31       0.001202      0.000398         0.001998        0.000002   \n",
      "32       0.005797      0.005709         0.004003        0.000627   \n",
      "33       0.001400      0.000490         0.002399        0.001021   \n",
      "34       0.001000      0.000002         0.003600        0.000488   \n",
      "35       0.005800      0.007598         0.002200        0.000400   \n",
      "36       0.001199      0.000399         0.005802        0.003246   \n",
      "37       0.001202      0.000398         0.001998        0.000002   \n",
      "38       0.001798      0.000398         0.004201        0.000398   \n",
      "39       0.001202      0.000402         0.007198        0.007414   \n",
      "40       0.001200      0.000398         0.003801        0.000401   \n",
      "41       0.005203      0.007410         0.001597        0.000488   \n",
      "42       0.001198      0.000402         0.003199        0.000399   \n",
      "43       0.001401      0.000490         0.001999        0.000002   \n",
      "44       0.005403      0.006800         0.003198        0.000402   \n",
      "45       0.001201      0.000398         0.001799        0.000747   \n",
      "46       0.003200      0.002926         0.003600        0.000800   \n",
      "47       0.001601      0.000798         0.002399        0.000490   \n",
      "48       0.001004      0.000006         0.006397        0.004845   \n",
      "49       0.001197      0.000400         0.002004        0.000004   \n",
      "50       0.001200      0.000399         0.005600        0.003722   \n",
      "51       0.001599      0.000489         0.003001        0.001549   \n",
      "52       0.001396      0.000794         0.006002        0.005017   \n",
      "53       0.003799      0.005114         0.003400        0.003321   \n",
      "54       0.004999      0.004147         0.005001        0.000895   \n",
      "55       0.001599      0.000492         0.002601        0.000492   \n",
      "56       0.001001      0.000001         0.004400        0.000799   \n",
      "57       0.001600      0.000488         0.002199        0.000400   \n",
      "58       0.001602      0.000489         0.003800        0.000400   \n",
      "59       0.001200      0.000399         0.002200        0.000399   \n",
      "\n",
      "   param_n_neighbors param_weights  \\\n",
      "0                  1       uniform   \n",
      "1                  1      distance   \n",
      "2                  2       uniform   \n",
      "3                  2      distance   \n",
      "4                  3       uniform   \n",
      "5                  3      distance   \n",
      "6                  4       uniform   \n",
      "7                  4      distance   \n",
      "8                  5       uniform   \n",
      "9                  5      distance   \n",
      "10                 6       uniform   \n",
      "11                 6      distance   \n",
      "12                 7       uniform   \n",
      "13                 7      distance   \n",
      "14                 8       uniform   \n",
      "15                 8      distance   \n",
      "16                 9       uniform   \n",
      "17                 9      distance   \n",
      "18                10       uniform   \n",
      "19                10      distance   \n",
      "20                11       uniform   \n",
      "21                11      distance   \n",
      "22                12       uniform   \n",
      "23                12      distance   \n",
      "24                13       uniform   \n",
      "25                13      distance   \n",
      "26                14       uniform   \n",
      "27                14      distance   \n",
      "28                15       uniform   \n",
      "29                15      distance   \n",
      "30                16       uniform   \n",
      "31                16      distance   \n",
      "32                17       uniform   \n",
      "33                17      distance   \n",
      "34                18       uniform   \n",
      "35                18      distance   \n",
      "36                19       uniform   \n",
      "37                19      distance   \n",
      "38                20       uniform   \n",
      "39                20      distance   \n",
      "40                21       uniform   \n",
      "41                21      distance   \n",
      "42                22       uniform   \n",
      "43                22      distance   \n",
      "44                23       uniform   \n",
      "45                23      distance   \n",
      "46                24       uniform   \n",
      "47                24      distance   \n",
      "48                25       uniform   \n",
      "49                25      distance   \n",
      "50                26       uniform   \n",
      "51                26      distance   \n",
      "52                27       uniform   \n",
      "53                27      distance   \n",
      "54                28       uniform   \n",
      "55                28      distance   \n",
      "56                29       uniform   \n",
      "57                29      distance   \n",
      "58                30       uniform   \n",
      "59                30      distance   \n",
      "\n",
      "                                        params  split0_test_score  \\\n",
      "0     {'n_neighbors': 1, 'weights': 'uniform'}           0.666667   \n",
      "1    {'n_neighbors': 1, 'weights': 'distance'}           0.666667   \n",
      "2     {'n_neighbors': 2, 'weights': 'uniform'}           0.666667   \n",
      "3    {'n_neighbors': 2, 'weights': 'distance'}           0.666667   \n",
      "4     {'n_neighbors': 3, 'weights': 'uniform'}           0.666667   \n",
      "5    {'n_neighbors': 3, 'weights': 'distance'}           0.666667   \n",
      "6     {'n_neighbors': 4, 'weights': 'uniform'}           0.666667   \n",
      "7    {'n_neighbors': 4, 'weights': 'distance'}           0.666667   \n",
      "8     {'n_neighbors': 5, 'weights': 'uniform'}           0.666667   \n",
      "9    {'n_neighbors': 5, 'weights': 'distance'}           0.666667   \n",
      "10    {'n_neighbors': 6, 'weights': 'uniform'}           0.666667   \n",
      "11   {'n_neighbors': 6, 'weights': 'distance'}           0.666667   \n",
      "12    {'n_neighbors': 7, 'weights': 'uniform'}           0.666667   \n",
      "13   {'n_neighbors': 7, 'weights': 'distance'}           0.666667   \n",
      "14    {'n_neighbors': 8, 'weights': 'uniform'}           0.666667   \n",
      "15   {'n_neighbors': 8, 'weights': 'distance'}           0.666667   \n",
      "16    {'n_neighbors': 9, 'weights': 'uniform'}           0.666667   \n",
      "17   {'n_neighbors': 9, 'weights': 'distance'}           0.666667   \n",
      "18   {'n_neighbors': 10, 'weights': 'uniform'}           0.666667   \n",
      "19  {'n_neighbors': 10, 'weights': 'distance'}           0.666667   \n",
      "20   {'n_neighbors': 11, 'weights': 'uniform'}           0.666667   \n",
      "21  {'n_neighbors': 11, 'weights': 'distance'}           0.666667   \n",
      "22   {'n_neighbors': 12, 'weights': 'uniform'}           0.666667   \n",
      "23  {'n_neighbors': 12, 'weights': 'distance'}           0.666667   \n",
      "24   {'n_neighbors': 13, 'weights': 'uniform'}           0.666667   \n",
      "25  {'n_neighbors': 13, 'weights': 'distance'}           0.666667   \n",
      "26   {'n_neighbors': 14, 'weights': 'uniform'}           0.666667   \n",
      "27  {'n_neighbors': 14, 'weights': 'distance'}           0.666667   \n",
      "28   {'n_neighbors': 15, 'weights': 'uniform'}           0.666667   \n",
      "29  {'n_neighbors': 15, 'weights': 'distance'}           0.666667   \n",
      "30   {'n_neighbors': 16, 'weights': 'uniform'}           0.666667   \n",
      "31  {'n_neighbors': 16, 'weights': 'distance'}           0.666667   \n",
      "32   {'n_neighbors': 17, 'weights': 'uniform'}           0.666667   \n",
      "33  {'n_neighbors': 17, 'weights': 'distance'}           0.666667   \n",
      "34   {'n_neighbors': 18, 'weights': 'uniform'}           0.666667   \n",
      "35  {'n_neighbors': 18, 'weights': 'distance'}           0.666667   \n",
      "36   {'n_neighbors': 19, 'weights': 'uniform'}           0.666667   \n",
      "37  {'n_neighbors': 19, 'weights': 'distance'}           0.666667   \n",
      "38   {'n_neighbors': 20, 'weights': 'uniform'}           0.666667   \n",
      "39  {'n_neighbors': 20, 'weights': 'distance'}           0.666667   \n",
      "40   {'n_neighbors': 21, 'weights': 'uniform'}           0.666667   \n",
      "41  {'n_neighbors': 21, 'weights': 'distance'}           0.666667   \n",
      "42   {'n_neighbors': 22, 'weights': 'uniform'}           0.666667   \n",
      "43  {'n_neighbors': 22, 'weights': 'distance'}           0.666667   \n",
      "44   {'n_neighbors': 23, 'weights': 'uniform'}           0.666667   \n",
      "45  {'n_neighbors': 23, 'weights': 'distance'}           0.666667   \n",
      "46   {'n_neighbors': 24, 'weights': 'uniform'}           0.666667   \n",
      "47  {'n_neighbors': 24, 'weights': 'distance'}           0.666667   \n",
      "48   {'n_neighbors': 25, 'weights': 'uniform'}           0.666667   \n",
      "49  {'n_neighbors': 25, 'weights': 'distance'}           0.666667   \n",
      "50   {'n_neighbors': 26, 'weights': 'uniform'}           0.666667   \n",
      "51  {'n_neighbors': 26, 'weights': 'distance'}           0.666667   \n",
      "52   {'n_neighbors': 27, 'weights': 'uniform'}           0.666667   \n",
      "53  {'n_neighbors': 27, 'weights': 'distance'}           0.666667   \n",
      "54   {'n_neighbors': 28, 'weights': 'uniform'}           0.666667   \n",
      "55  {'n_neighbors': 28, 'weights': 'distance'}           0.666667   \n",
      "56   {'n_neighbors': 29, 'weights': 'uniform'}           0.666667   \n",
      "57  {'n_neighbors': 29, 'weights': 'distance'}           0.666667   \n",
      "58   {'n_neighbors': 30, 'weights': 'uniform'}           0.666667   \n",
      "59  {'n_neighbors': 30, 'weights': 'distance'}           0.666667   \n",
      "\n",
      "    split1_test_score  split2_test_score  split3_test_score  \\\n",
      "0                 1.0                1.0                1.0   \n",
      "1                 1.0                1.0                1.0   \n",
      "2                 1.0                1.0                1.0   \n",
      "3                 1.0                1.0                1.0   \n",
      "4                 1.0                1.0                1.0   \n",
      "5                 1.0                1.0                1.0   \n",
      "6                 1.0                1.0                1.0   \n",
      "7                 1.0                1.0                1.0   \n",
      "8                 1.0                1.0                1.0   \n",
      "9                 1.0                1.0                1.0   \n",
      "10                1.0                1.0                1.0   \n",
      "11                1.0                1.0                1.0   \n",
      "12                1.0                1.0                1.0   \n",
      "13                1.0                1.0                1.0   \n",
      "14                1.0                1.0                1.0   \n",
      "15                1.0                1.0                1.0   \n",
      "16                1.0                1.0                1.0   \n",
      "17                1.0                1.0                1.0   \n",
      "18                1.0                1.0                1.0   \n",
      "19                1.0                1.0                1.0   \n",
      "20                1.0                1.0                1.0   \n",
      "21                1.0                1.0                1.0   \n",
      "22                1.0                1.0                1.0   \n",
      "23                1.0                1.0                1.0   \n",
      "24                1.0                1.0                1.0   \n",
      "25                1.0                1.0                1.0   \n",
      "26                1.0                1.0                1.0   \n",
      "27                1.0                1.0                1.0   \n",
      "28                1.0                1.0                1.0   \n",
      "29                1.0                1.0                1.0   \n",
      "30                1.0                1.0                1.0   \n",
      "31                1.0                1.0                1.0   \n",
      "32                1.0                1.0                1.0   \n",
      "33                1.0                1.0                1.0   \n",
      "34                1.0                1.0                1.0   \n",
      "35                1.0                1.0                1.0   \n",
      "36                1.0                1.0                1.0   \n",
      "37                1.0                1.0                1.0   \n",
      "38                1.0                1.0                1.0   \n",
      "39                1.0                1.0                1.0   \n",
      "40                1.0                1.0                1.0   \n",
      "41                1.0                1.0                1.0   \n",
      "42                1.0                1.0                1.0   \n",
      "43                1.0                1.0                1.0   \n",
      "44                1.0                1.0                1.0   \n",
      "45                1.0                1.0                1.0   \n",
      "46                1.0                1.0                1.0   \n",
      "47                1.0                1.0                1.0   \n",
      "48                1.0                1.0                1.0   \n",
      "49                1.0                1.0                1.0   \n",
      "50                1.0                1.0                1.0   \n",
      "51                1.0                1.0                1.0   \n",
      "52                1.0                1.0                1.0   \n",
      "53                1.0                1.0                1.0   \n",
      "54                1.0                1.0                1.0   \n",
      "55                1.0                1.0                1.0   \n",
      "56                1.0                1.0                1.0   \n",
      "57                1.0                1.0                1.0   \n",
      "58                1.0                1.0                1.0   \n",
      "59                1.0                1.0                1.0   \n",
      "\n",
      "    split4_test_score  mean_test_score  std_test_score  rank_test_score  \n",
      "0            0.700000         0.873333        0.155492               15  \n",
      "1            0.700000         0.873333        0.155492               15  \n",
      "2            0.733333         0.880000        0.148474                1  \n",
      "3            0.700000         0.873333        0.155492               15  \n",
      "4            0.700000         0.873333        0.155492               15  \n",
      "5            0.700000         0.873333        0.155492               15  \n",
      "6            0.733333         0.880000        0.148474                1  \n",
      "7            0.700000         0.873333        0.155492               15  \n",
      "8            0.700000         0.873333        0.155492               15  \n",
      "9            0.700000         0.873333        0.155492               15  \n",
      "10           0.733333         0.880000        0.148474                1  \n",
      "11           0.700000         0.873333        0.155492               15  \n",
      "12           0.666667         0.866667        0.163299               28  \n",
      "13           0.666667         0.866667        0.163299               28  \n",
      "14           0.733333         0.880000        0.148474                1  \n",
      "15           0.700000         0.873333        0.155492               15  \n",
      "16           0.666667         0.866667        0.163299               28  \n",
      "17           0.666667         0.866667        0.163299               28  \n",
      "18           0.733333         0.880000        0.148474                1  \n",
      "19           0.700000         0.873333        0.155492               15  \n",
      "20           0.666667         0.866667        0.163299               28  \n",
      "21           0.666667         0.866667        0.163299               28  \n",
      "22           0.733333         0.880000        0.148474                1  \n",
      "23           0.700000         0.873333        0.155492               15  \n",
      "24           0.666667         0.866667        0.163299               28  \n",
      "25           0.666667         0.866667        0.163299               28  \n",
      "26           0.733333         0.880000        0.148474                1  \n",
      "27           0.666667         0.866667        0.163299               28  \n",
      "28           0.666667         0.866667        0.163299               28  \n",
      "29           0.666667         0.866667        0.163299               28  \n",
      "30           0.733333         0.880000        0.148474                1  \n",
      "31           0.666667         0.866667        0.163299               28  \n",
      "32           0.666667         0.866667        0.163299               28  \n",
      "33           0.666667         0.866667        0.163299               28  \n",
      "34           0.733333         0.880000        0.148474                1  \n",
      "35           0.666667         0.866667        0.163299               28  \n",
      "36           0.666667         0.866667        0.163299               28  \n",
      "37           0.666667         0.866667        0.163299               28  \n",
      "38           0.733333         0.880000        0.148474                1  \n",
      "39           0.666667         0.866667        0.163299               28  \n",
      "40           0.666667         0.866667        0.163299               28  \n",
      "41           0.666667         0.866667        0.163299               28  \n",
      "42           0.733333         0.880000        0.148474                1  \n",
      "43           0.666667         0.866667        0.163299               28  \n",
      "44           0.666667         0.866667        0.163299               28  \n",
      "45           0.666667         0.866667        0.163299               28  \n",
      "46           0.733333         0.880000        0.148474                1  \n",
      "47           0.666667         0.866667        0.163299               28  \n",
      "48           0.666667         0.866667        0.163299               28  \n",
      "49           0.666667         0.866667        0.163299               28  \n",
      "50           0.700000         0.873333        0.155492               15  \n",
      "51           0.666667         0.866667        0.163299               28  \n",
      "52           0.666667         0.866667        0.163299               28  \n",
      "53           0.666667         0.866667        0.163299               28  \n",
      "54           0.733333         0.880000        0.148474                1  \n",
      "55           0.666667         0.866667        0.163299               28  \n",
      "56           0.666667         0.866667        0.163299               28  \n",
      "57           0.666667         0.866667        0.163299               28  \n",
      "58           0.733333         0.880000        0.148474                1  \n",
      "59           0.666667         0.866667        0.163299               28  \n",
      "Best Accuracy: 88.00 %\n",
      "Best Parameters: {'n_neighbors': 2, 'weights': 'uniform'}\n",
      "[{'n_neighbors': [1, 2, 3, 4, 5, 6, 7, 8, 9, 10, 11, 12, 13, 14, 15, 16, 17, 18, 19, 20, 21, 22, 23, 24, 25, 26, 27, 28, 29, 30], 'weights': ['uniform', 'distance']}]\n"
     ]
    }
   ],
   "source": [
    "k_list = list(range(1,31))\n",
    "weight_list = [\"uniform\", \"distance\"]\n",
    "para_grid = dict(n_neighbors=k_list,weights=weight_list)\n",
    "para_list = [k_list, weight_list]\n",
    "grid_search = Grid_search_fun(KNeighborsClassifier(n_neighbors=1), para_grid, para_list, 5, X, y)\n"
   ]
  },
  {
   "cell_type": "code",
   "execution_count": 41,
   "id": "f253281b",
   "metadata": {},
   "outputs": [
    {
     "data": {
      "text/plain": [
       "array([0.87333333, 0.87333333, 0.88      , 0.87333333, 0.87333333,\n",
       "       0.87333333, 0.88      , 0.87333333, 0.87333333, 0.87333333,\n",
       "       0.88      , 0.87333333, 0.86666667, 0.86666667, 0.88      ,\n",
       "       0.87333333, 0.86666667, 0.86666667, 0.88      , 0.87333333,\n",
       "       0.86666667, 0.86666667, 0.88      , 0.87333333, 0.86666667,\n",
       "       0.86666667, 0.88      , 0.86666667, 0.86666667, 0.86666667,\n",
       "       0.88      , 0.86666667, 0.86666667, 0.86666667, 0.88      ,\n",
       "       0.86666667, 0.86666667, 0.86666667, 0.88      , 0.86666667,\n",
       "       0.86666667, 0.86666667, 0.88      , 0.86666667, 0.86666667,\n",
       "       0.86666667, 0.88      , 0.86666667, 0.86666667, 0.86666667,\n",
       "       0.87333333, 0.86666667, 0.86666667, 0.86666667, 0.88      ,\n",
       "       0.86666667, 0.86666667, 0.86666667, 0.88      , 0.86666667])"
      ]
     },
     "execution_count": 41,
     "metadata": {},
     "output_type": "execute_result"
    }
   ],
   "source": [
    "grid_search.cv_results_[\"mean_test_score\"]"
   ]
  },
  {
   "cell_type": "code",
   "execution_count": 42,
   "id": "4406c84a",
   "metadata": {},
   "outputs": [],
   "source": [
    "uniform = []\n",
    "for i in range(0, len(grid_search.cv_results_[\"mean_test_score\"]), 2):\n",
    "\n",
    "    uniform.append(grid_search.cv_results_[\"mean_test_score\"][i])"
   ]
  },
  {
   "cell_type": "code",
   "execution_count": 43,
   "id": "7023e119",
   "metadata": {},
   "outputs": [],
   "source": [
    "distance = []\n",
    "for i in range(1, len(grid_search.cv_results_[\"mean_test_score\"]), 2):\n",
    "    distance.append(grid_search.cv_results_[\"mean_test_score\"][i])"
   ]
  },
  {
   "cell_type": "code",
   "execution_count": 44,
   "id": "ea3ad0e4",
   "metadata": {},
   "outputs": [
    {
     "data": {
      "image/png": "[encoded data removed]",
      "text/plain": [
       "<Figure size 1400x700 with 1 Axes>"
      ]
     },
     "metadata": {
      "needs_background": "light"
     },
     "output_type": "display_data"
    }
   ],
   "source": [
    "plt.figure(dpi=100, figsize=(14, 7))\n",
    "plt.title(\"Grid Search Hyper parameter Comparison\",fontsize=14, color=\"blue\")\n",
    "plt.plot(k_list,uniform , marker = \"o\", label=\"weights uniform\", color=\"black\")\n",
    "plt.plot(k_list,distance , marker = \"*\", label=\"weights distant\", color=\"yellow\")\n",
    "plt.xlabel(\"Number of nearest neighbours\")\n",
    "plt.ylabel(\"Avarage CV Score\")\n",
    "plt.legend(loc='lower left')\n",
    "plt.grid()"
   ]
  },
  {
   "cell_type": "code",
   "execution_count": 45,
   "id": "f484918d",
   "metadata": {},
   "outputs": [
    {
     "name": "stdout",
     "output_type": "stream",
     "text": [
      "   mean_fit_time  std_fit_time  mean_score_time  std_score_time param_weights  \\\n",
      "0       0.001401      0.000490         0.001998        0.000002      distance   \n",
      "1       0.001199      0.000402         0.003799        0.000400       uniform   \n",
      "2       0.001201      0.000400         0.003599        0.000490       uniform   \n",
      "3       0.001200      0.000400         0.003403        0.000798       uniform   \n",
      "4       0.001803      0.000402         0.003999        0.000634       uniform   \n",
      "5       0.002206      0.000978         0.002241        0.000806      distance   \n",
      "6       0.001197      0.000399         0.001801        0.000397      distance   \n",
      "7       0.001401      0.000490         0.003598        0.000491       uniform   \n",
      "8       0.001002      0.000003         0.001399        0.000490      distance   \n",
      "9       0.000459      0.000569         0.000600        0.001200       uniform   \n",
      "\n",
      "  param_n_neighbors                                      params  \\\n",
      "0                16  {'weights': 'distance', 'n_neighbors': 16}   \n",
      "1                22   {'weights': 'uniform', 'n_neighbors': 22}   \n",
      "2                18   {'weights': 'uniform', 'n_neighbors': 18}   \n",
      "3                27   {'weights': 'uniform', 'n_neighbors': 27}   \n",
      "4                29   {'weights': 'uniform', 'n_neighbors': 29}   \n",
      "5                10  {'weights': 'distance', 'n_neighbors': 10}   \n",
      "6                22  {'weights': 'distance', 'n_neighbors': 22}   \n",
      "7                14   {'weights': 'uniform', 'n_neighbors': 14}   \n",
      "8                12  {'weights': 'distance', 'n_neighbors': 12}   \n",
      "9                15   {'weights': 'uniform', 'n_neighbors': 15}   \n",
      "\n",
      "   split0_test_score  split1_test_score  split2_test_score  split3_test_score  \\\n",
      "0           0.666667                1.0                1.0                1.0   \n",
      "1           0.666667                1.0                1.0                1.0   \n",
      "2           0.666667                1.0                1.0                1.0   \n",
      "3           0.666667                1.0                1.0                1.0   \n",
      "4           0.666667                1.0                1.0                1.0   \n",
      "5           0.666667                1.0                1.0                1.0   \n",
      "6           0.666667                1.0                1.0                1.0   \n",
      "7           0.666667                1.0                1.0                1.0   \n",
      "8           0.666667                1.0                1.0                1.0   \n",
      "9           0.666667                1.0                1.0                1.0   \n",
      "\n",
      "   split4_test_score  mean_test_score  std_test_score  rank_test_score  \n",
      "0           0.666667         0.866667        0.163299                6  \n",
      "1           0.733333         0.880000        0.148474                1  \n",
      "2           0.733333         0.880000        0.148474                1  \n",
      "3           0.666667         0.866667        0.163299                6  \n",
      "4           0.666667         0.866667        0.163299                6  \n",
      "5           0.700000         0.873333        0.155492                4  \n",
      "6           0.666667         0.866667        0.163299                6  \n",
      "7           0.733333         0.880000        0.148474                1  \n",
      "8           0.700000         0.873333        0.155492                4  \n",
      "9           0.666667         0.866667        0.163299                6  \n",
      "Best Accuracy: 88.00 %\n",
      "Best Parameters: {'weights': 'uniform', 'n_neighbors': 22}\n",
      "[{'n_neighbors': [1, 2, 3, 4, 5, 6, 7, 8, 9, 10, 11, 12, 13, 14, 15, 16, 17, 18, 19, 20, 21, 22, 23, 24, 25, 26, 27, 28, 29, 30], 'weights': ['uniform', 'distance']}]\n"
     ]
    }
   ],
   "source": [
    "rand_search = rand_search_fun(KNeighborsClassifier(), para_grid, para_list, 5, X, y)"
   ]
  },
  {
   "cell_type": "code",
   "execution_count": 46,
   "id": "df22717b",
   "metadata": {},
   "outputs": [],
   "source": [
    "uniform = []\n",
    "k_list1 = []\n",
    "for i in range(len(rand_search.cv_results_[\"mean_test_score\"])):\n",
    "    if rand_search.cv_results_[\"param_weights\"][i] == \"uniform\":\n",
    "\n",
    "        uniform.append(rand_search.cv_results_[\"mean_test_score\"][i])\n",
    "        k_list1.append(rand_search.cv_results_[\"param_n_neighbors\"][i])"
   ]
  },
  {
   "cell_type": "code",
   "execution_count": 47,
   "id": "312f438a",
   "metadata": {},
   "outputs": [],
   "source": [
    "distance = []\n",
    "k_list2 = []\n",
    "for i in range(len(rand_search.cv_results_[\"mean_test_score\"])):\n",
    "    if rand_search.cv_results_[\"param_weights\"][i] == \"distance\":\n",
    "        distance.append(rand_search.cv_results_[\"mean_test_score\"][i])\n",
    "        k_list2.append(rand_search.cv_results_[\"param_n_neighbors\"][i])"
   ]
  },
  {
   "cell_type": "code",
   "execution_count": 48,
   "id": "9df7c3f6",
   "metadata": {},
   "outputs": [
    {
     "name": "stdout",
     "output_type": "stream",
     "text": [
      "14  ==  14\n",
      "4\n",
      "15  ==  15\n",
      "5\n",
      "18  ==  18\n",
      "1\n",
      "22  ==  22\n",
      "0\n",
      "27  ==  27\n",
      "2\n",
      "29  ==  29\n",
      "3\n"
     ]
    }
   ],
   "source": [
    "sorted_uniform = []\n",
    "sorted_list1 = k_list1.copy()\n",
    "sorted_list1.sort() \n",
    "for i in range(len(sorted_list1)):\n",
    "    for j in range(len(k_list1)):\n",
    "        if sorted_list1[i] == k_list1[j]:\n",
    "            print(sorted_list1[i] ,\" == \" ,k_list1[j])\n",
    "            print(j)\n",
    "            sorted_uniform.append(uniform[j])\n",
    "\n",
    "    "
   ]
  },
  {
   "cell_type": "code",
   "execution_count": 49,
   "id": "f4618ff2",
   "metadata": {},
   "outputs": [
    {
     "name": "stdout",
     "output_type": "stream",
     "text": [
      "10  ==  10\n",
      "1\n",
      "12  ==  12\n",
      "3\n",
      "16  ==  16\n",
      "0\n",
      "22  ==  22\n",
      "2\n"
     ]
    }
   ],
   "source": [
    "sorted_distance = []\n",
    "sorted_list2 = k_list2.copy()\n",
    "sorted_list2.sort() \n",
    "for i in range(len(sorted_list2)):\n",
    "    for j in range(len(k_list2)):\n",
    "        if sorted_list2[i] == k_list2[j]:\n",
    "            print(sorted_list2[i] ,\" == \" ,k_list2[j])\n",
    "            print(j)\n",
    "            sorted_distance.append(distance[j])"
   ]
  },
  {
   "cell_type": "code",
   "execution_count": null,
   "id": "f3fe2243",
   "metadata": {},
   "outputs": [],
   "source": []
  },
  {
   "cell_type": "code",
   "execution_count": 50,
   "id": "97760097",
   "metadata": {},
   "outputs": [
    {
     "data": {
      "text/plain": [
       "[0.8799999999999999,\n",
       " 0.8666666666666666,\n",
       " 0.8799999999999999,\n",
       " 0.8799999999999999,\n",
       " 0.8666666666666666,\n",
       " 0.8666666666666666]"
      ]
     },
     "execution_count": 50,
     "metadata": {},
     "output_type": "execute_result"
    }
   ],
   "source": [
    "sorted_uniform"
   ]
  },
  {
   "cell_type": "code",
   "execution_count": 51,
   "id": "e4f9c865",
   "metadata": {},
   "outputs": [
    {
     "data": {
      "text/plain": [
       "[14, 15, 18, 22, 27, 29]"
      ]
     },
     "execution_count": 51,
     "metadata": {},
     "output_type": "execute_result"
    }
   ],
   "source": [
    "sorted_list1"
   ]
  },
  {
   "cell_type": "code",
   "execution_count": 52,
   "id": "a60efe1b",
   "metadata": {},
   "outputs": [
    {
     "data": {
      "text/plain": [
       "[22, 18, 27, 29, 14, 15]"
      ]
     },
     "execution_count": 52,
     "metadata": {},
     "output_type": "execute_result"
    }
   ],
   "source": [
    "k_list1"
   ]
  },
  {
   "cell_type": "code",
   "execution_count": 53,
   "id": "2defc7b7",
   "metadata": {},
   "outputs": [
    {
     "data": {
      "text/plain": [
       "[0.8799999999999999,\n",
       " 0.8799999999999999,\n",
       " 0.8666666666666666,\n",
       " 0.8666666666666666,\n",
       " 0.8799999999999999,\n",
       " 0.8666666666666666]"
      ]
     },
     "execution_count": 53,
     "metadata": {},
     "output_type": "execute_result"
    }
   ],
   "source": [
    "uniform"
   ]
  },
  {
   "cell_type": "code",
   "execution_count": 54,
   "id": "82e3ec51",
   "metadata": {},
   "outputs": [
    {
     "data": {
      "image/png": "[encoded data removed]",
      "text/plain": [
       "<Figure size 1400x700 with 1 Axes>"
      ]
     },
     "metadata": {
      "needs_background": "light"
     },
     "output_type": "display_data"
    }
   ],
   "source": [
    "plt.figure(dpi=100, figsize=(14, 7))\n",
    "plt.title(\"Random Search Hyper parameter Comparison\",fontsize=14, color=\"blue\")\n",
    "plt.plot(sorted_list1,sorted_uniform , marker = \"o\", label=\"weights uniform\", color=\"red\")\n",
    "plt.plot(sorted_list2,sorted_distance , marker = \"*\", label=\"weights distant\", color=\"blue\")\n",
    "plt.xlabel(\"Number of nearest neighbours\")\n",
    "plt.ylabel(\"Avarage CV Score\")\n",
    "plt.legend(loc='upper left')\n",
    "plt.grid()"
   ]
  },
  {
   "cell_type": "code",
   "execution_count": null,
   "id": "3e27ef76",
   "metadata": {},
   "outputs": [],
   "source": []
  },
  {
   "cell_type": "code",
   "execution_count": null,
   "id": "e7c8004d",
   "metadata": {},
   "outputs": [],
   "source": []
  },
  {
   "cell_type": "code",
   "execution_count": null,
   "id": "91de2751",
   "metadata": {},
   "outputs": [],
   "source": []
  },
  {
   "cell_type": "code",
   "execution_count": null,
   "id": "0d6c0c93",
   "metadata": {},
   "outputs": [],
   "source": []
  },
  {
   "cell_type": "code",
   "execution_count": null,
   "id": "a57c278d",
   "metadata": {},
   "outputs": [],
   "source": []
  },
  {
   "cell_type": "code",
   "execution_count": null,
   "id": "405c19f3",
   "metadata": {},
   "outputs": [],
   "source": []
  },
  {
   "cell_type": "code",
   "execution_count": 55,
   "id": "0e9ba1ba",
   "metadata": {},
   "outputs": [
    {
     "name": "stdout",
     "output_type": "stream",
     "text": [
      "ave scores  [0.873, 0.88, 0.873, 0.88, 0.873, 0.88, 0.867, 0.88, 0.867, 0.88, 0.867, 0.88, 0.867, 0.88]\n"
     ]
    },
    {
     "data": {
      "image/png": "[encoded data removed]",
      "text/plain": [
       "<Figure size 432x288 with 1 Axes>"
      ]
     },
     "metadata": {
      "needs_background": "light"
     },
     "output_type": "display_data"
    }
   ],
   "source": [
    "K_NN_plot(X,y)"
   ]
  },
  {
   "cell_type": "code",
   "execution_count": null,
   "id": "1b4091a7",
   "metadata": {},
   "outputs": [],
   "source": []
  },
  {
   "cell_type": "code",
   "execution_count": null,
   "id": "8a038e63",
   "metadata": {},
   "outputs": [],
   "source": []
  },
  {
   "cell_type": "code",
   "execution_count": null,
   "id": "e76933e9",
   "metadata": {},
   "outputs": [],
   "source": [
    "plt.title(\"weather\",fontsize=18)\n",
    "plt.xlabel(\"Days\")\n",
    "plt.ylabel(\"temp\")\n",
    "plt.scatter(X_train,y_train)"
   ]
  },
  {
   "cell_type": "markdown",
   "id": "9605f2e7",
   "metadata": {},
   "source": [
    "# Feature scaling techniques"
   ]
  },
  {
   "cell_type": "code",
   "execution_count": null,
   "id": "9858ea70",
   "metadata": {},
   "outputs": [],
   "source": [
    "sc = StandardScaler()  # creating an instance of the object.\n",
    "\n",
    "X_train[:, 49:] = sc.fit_transform(X_train[:, 49:])  # Scaling x_train\n",
    "X_test[:,49:] = sc.transform(X_test[:, 49:])  # Scaling y_train"
   ]
  },
  {
   "cell_type": "code",
   "execution_count": null,
   "id": "126f0ae1",
   "metadata": {},
   "outputs": [],
   "source": [
    "sc = MinMaxScaler()  # creating an instance of the object.\n",
    "\n",
    "X_train[:, 49:] = sc.fit_transform(X_train[:, 49:])  # Scaling x_train\n",
    "X_test[:,49:] = sc.transform(X_test[:, 49:])  # Scaling y_train"
   ]
  },
  {
   "cell_type": "code",
   "execution_count": null,
   "id": "22ea0ea5",
   "metadata": {},
   "outputs": [],
   "source": [
    "sc = RobustScaler()  # creating an instance of the object.\n",
    "\n",
    "X_train[:, 49:] = sc.fit_transform(X_train[:, 49:])  # Scaling x_train\n",
    "X_test[:,49:] = sc.transform(X_test[:, 49:])  # Scaling y_train"
   ]
  },
  {
   "cell_type": "code",
   "execution_count": null,
   "id": "b084e488",
   "metadata": {},
   "outputs": [],
   "source": [
    "sc = Normalizer()  # creating an instance of the object.\n",
    "\n",
    "X_train[:, 49:] = sc.fit_transform(X_train[:, 49:])  # Scaling x_train\n",
    "X_test[:,49:] = sc.transform(X_test[:, 49:])  # Scaling y_train"
   ]
  },
  {
   "cell_type": "code",
   "execution_count": null,
   "id": "fd95d891",
   "metadata": {},
   "outputs": [],
   "source": []
  },
  {
   "cell_type": "code",
   "execution_count": null,
   "id": "945ca938",
   "metadata": {},
   "outputs": [],
   "source": []
  }
 ],
 "metadata": {
  "kernelspec": {
   "display_name": "Python 3",
   "language": "python",
   "name": "python3"
  },
  "language_info": {
   "codemirror_mode": {
    "name": "ipython",
    "version": 3
   },
   "file_extension": ".py",
   "mimetype": "text/x-python",
   "name": "python",
   "nbconvert_exporter": "python",
   "pygments_lexer": "ipython3",
   "version": "3.8.8"
  }
 },
 "nbformat": 4,
 "nbformat_minor": 5
}
