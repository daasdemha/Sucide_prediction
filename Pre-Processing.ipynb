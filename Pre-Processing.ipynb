{
 "cells": [
  {
   "cell_type": "markdown",
   "id": "c2d2f12e",
   "metadata": {},
   "source": [
    "# Data Pre-Processing"
   ]
  },
  {
   "cell_type": "markdown",
   "id": "e0ee02c0",
   "metadata": {},
   "source": [
    "### Importing the relevent libraries"
   ]
  },
  {
   "cell_type": "code",
   "execution_count": 55,
   "id": "f7faf874",
   "metadata": {},
   "outputs": [],
   "source": [
    "#pip install xgboost  # package installed."
   ]
  },
  {
   "cell_type": "code",
   "execution_count": 2,
   "id": "7fc96920",
   "metadata": {},
   "outputs": [],
   "source": [
    "import numpy as np  # Allows us to work with arrays.\n",
    "import matplotlib.pyplot as plt  # Allows working with plots.\n",
    "import pandas as pd  # importing pandas’ library for use. Allows us to import data set and manipulate it.\n",
    "\n",
    "import seaborn as sns  # Allows to polt beautiful plots.\n",
    "import matplotlib.pyplot as plt # plotting.\n",
    "from sklearn.metrics import confusion_matrix, ConfusionMatrixDisplay  # creates a confusion matrix\n",
    "\n",
    "from sklearn.compose import ColumnTransformer  # helps with encoding.\n",
    "from sklearn.preprocessing import OneHotEncoder  # Does onehotencode.\n",
    "from sklearn.preprocessing import LabelEncoder   # Does 1 and 0 encoding."
   ]
  },
  {
   "cell_type": "markdown",
   "id": "681f5cbc",
   "metadata": {},
   "source": [
    "### Importing the dataframe"
   ]
  },
  {
   "cell_type": "code",
   "execution_count": 1342,
   "id": "82eef9c6",
   "metadata": {},
   "outputs": [],
   "source": [
    "sucidedataframe = pd.read_csv(\"who_suicide_statistics.csv\")  # opens csv files and assighns them to a variable."
   ]
  },
  {
   "cell_type": "code",
   "execution_count": 1343,
   "id": "15475fd2",
   "metadata": {},
   "outputs": [
    {
     "data": {
      "text/plain": [
       "<AxesSubplot:>"
      ]
     },
     "execution_count": 1343,
     "metadata": {},
     "output_type": "execute_result"
    },
    {
     "data": {
      "image/png": "[encoded data removed]",
      "text/plain": [
       "<Figure size 576x396 with 2 Axes>"
      ]
     },
     "metadata": {},
     "output_type": "display_data"
    }
   ],
   "source": [
    "matrix = sucidedataframe.corr().round(26)\n",
    "sns.heatmap(data=matrix,annot=True)"
   ]
  },
  {
   "cell_type": "markdown",
   "id": "1041df28",
   "metadata": {},
   "source": [
    "### Checking the data from the dataframe before pre-processing"
   ]
  },
  {
   "cell_type": "code",
   "execution_count": 1344,
   "id": "11364a06",
   "metadata": {},
   "outputs": [
    {
     "data": {
      "text/html": [
       "<div>\n",
       "<style scoped>\n",
       "    .dataframe tbody tr th:only-of-type {\n",
       "        vertical-align: middle;\n",
       "    }\n",
       "\n",
       "    .dataframe tbody tr th {\n",
       "        vertical-align: top;\n",
       "    }\n",
       "\n",
       "    .dataframe thead th {\n",
       "        text-align: right;\n",
       "    }\n",
       "</style>\n",
       "<table border=\"1\" class=\"dataframe\">\n",
       "  <thead>\n",
       "    <tr style=\"text-align: right;\">\n",
       "      <th></th>\n",
       "      <th>country</th>\n",
       "      <th>year</th>\n",
       "      <th>sex</th>\n",
       "      <th>age</th>\n",
       "      <th>suicides_no</th>\n",
       "      <th>population</th>\n",
       "    </tr>\n",
       "  </thead>\n",
       "  <tbody>\n",
       "    <tr>\n",
       "      <th>0</th>\n",
       "      <td>Albania</td>\n",
       "      <td>1985</td>\n",
       "      <td>female</td>\n",
       "      <td>15-24 years</td>\n",
       "      <td>NaN</td>\n",
       "      <td>277900.0</td>\n",
       "    </tr>\n",
       "  </tbody>\n",
       "</table>\n",
       "</div>"
      ],
      "text/plain": [
       "   country  year     sex          age  suicides_no  population\n",
       "0  Albania  1985  female  15-24 years          NaN    277900.0"
      ]
     },
     "execution_count": 1344,
     "metadata": {},
     "output_type": "execute_result"
    }
   ],
   "source": [
    "sucidedataframe.head(1)  # Taking a look at the dataframe the first elements of the dataset."
   ]
  },
  {
   "cell_type": "code",
   "execution_count": 1345,
   "id": "02af4851",
   "metadata": {},
   "outputs": [
    {
     "name": "stdout",
     "output_type": "stream",
     "text": [
      "<class 'pandas.core.frame.DataFrame'>\n",
      "RangeIndex: 43776 entries, 0 to 43775\n",
      "Data columns (total 6 columns):\n",
      " #   Column       Non-Null Count  Dtype  \n",
      "---  ------       --------------  -----  \n",
      " 0   country      43776 non-null  object \n",
      " 1   year         43776 non-null  int64  \n",
      " 2   sex          43776 non-null  object \n",
      " 3   age          43776 non-null  object \n",
      " 4   suicides_no  41520 non-null  float64\n",
      " 5   population   38316 non-null  float64\n",
      "dtypes: float64(2), int64(1), object(3)\n",
      "memory usage: 2.0+ MB\n"
     ]
    }
   ],
   "source": [
    "sucidedataframe.info()  # checking Basic information on the dataframe being procesed."
   ]
  },
  {
   "cell_type": "code",
   "execution_count": 21,
   "id": "babcb314",
   "metadata": {},
   "outputs": [
    {
     "data": {
      "text/plain": [
       "Age                      6\n",
       "Gender                   2\n",
       "Population           31107\n",
       "Suicide_Committed     2231\n",
       "dtype: int64"
      ]
     },
     "execution_count": 21,
     "metadata": {},
     "output_type": "execute_result"
    }
   ],
   "source": [
    "sucidedataframe.nunique()"
   ]
  },
  {
   "cell_type": "code",
   "execution_count": null,
   "id": "ac777156",
   "metadata": {},
   "outputs": [],
   "source": []
  }
 ],
 "metadata": {
  "interpreter": {
   "hash": "2647ea34e536f865ab67ff9ddee7fd78773d956cec0cab53c79b32cd10da5d83"
  },
  "kernelspec": {
   "display_name": "Python 3",
   "language": "python",
   "name": "python3"
  },
  "language_info": {
   "codemirror_mode": {
    "name": "ipython",
    "version": 3
   },
   "file_extension": ".py",
   "mimetype": "text/x-python",
   "name": "python",
   "nbconvert_exporter": "python",
   "pygments_lexer": "ipython3",
   "version": "3.8.8"
  }
 },
 "nbformat": 4,
 "nbformat_minor": 5
}
